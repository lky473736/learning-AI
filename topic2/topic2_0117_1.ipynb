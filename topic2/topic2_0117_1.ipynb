{
 "cells": [
  {
   "cell_type": "markdown",
   "id": "e101595a-cf8e-457b-9cc0-d2cf8a0b3085",
   "metadata": {},
   "source": [
    "## learning-AI101 : topic2_1"
   ]
  },
  {
   "cell_type": "markdown",
   "id": "06fc4b98-a283-444c-a34b-c674c132d892",
   "metadata": {},
   "source": [
    "proj1 : 대학원판 진학사 만들기\n",
    "\n",
    "train (dataset) : gpascore (학부 학점 모아둔 csv 파일)  \n",
    "이걸 이용해서 학습시키기 (이 학점이면 대학원에 붙고, 이 학점이면 대학원에 떨어지고... 일종의 **패턴** 학습)  \n",
    "-> 학습시킨 모델을 이용해서 testing 및 regression하면 될 것 같음"
   ]
  },
  {
   "cell_type": "markdown",
   "id": "67538e5b-c154-4723-8492-8955e0f94a7a",
   "metadata": {},
   "source": [
    "**변수 리스트**\n",
    "- admit : 대학원 합격/불합격 여부 (0 : 불합격 / 1 : 합격)\n",
    "- gre : 영어성적\n",
    "- gpa : 학부 평균 학점 (4점 만점)\n",
    "- rank : 지원한 학교의 레벨 (낮아야 좋은거임. rank(1) >>>> rank(4))  \n",
    "admit이 이미 0과 1로 되어있기 때문에 preprocessing 안해줘도 되겠다"
   ]
  },
  {
   "cell_type": "code",
   "execution_count": 8,
   "id": "c1eca4af-fb69-40b5-bc2a-ccbca1c4cb07",
   "metadata": {},
   "outputs": [],
   "source": [
    "import tensorflow as tf\n",
    "import pandas as pd"
   ]
  },
  {
   "cell_type": "code",
   "execution_count": 9,
   "id": "434a1cc4-97ae-4f85-abc3-6caa4b2875db",
   "metadata": {},
   "outputs": [
    {
     "data": {
      "text/html": [
       "<div>\n",
       "<style scoped>\n",
       "    .dataframe tbody tr th:only-of-type {\n",
       "        vertical-align: middle;\n",
       "    }\n",
       "\n",
       "    .dataframe tbody tr th {\n",
       "        vertical-align: top;\n",
       "    }\n",
       "\n",
       "    .dataframe thead th {\n",
       "        text-align: right;\n",
       "    }\n",
       "</style>\n",
       "<table border=\"1\" class=\"dataframe\">\n",
       "  <thead>\n",
       "    <tr style=\"text-align: right;\">\n",
       "      <th></th>\n",
       "      <th>admit</th>\n",
       "      <th>gre</th>\n",
       "      <th>gpa</th>\n",
       "      <th>rank</th>\n",
       "    </tr>\n",
       "  </thead>\n",
       "  <tbody>\n",
       "    <tr>\n",
       "      <th>0</th>\n",
       "      <td>0</td>\n",
       "      <td>380.0</td>\n",
       "      <td>3.21</td>\n",
       "      <td>3</td>\n",
       "    </tr>\n",
       "    <tr>\n",
       "      <th>1</th>\n",
       "      <td>1</td>\n",
       "      <td>660.0</td>\n",
       "      <td>3.67</td>\n",
       "      <td>3</td>\n",
       "    </tr>\n",
       "    <tr>\n",
       "      <th>2</th>\n",
       "      <td>1</td>\n",
       "      <td>800.0</td>\n",
       "      <td>4.00</td>\n",
       "      <td>1</td>\n",
       "    </tr>\n",
       "    <tr>\n",
       "      <th>3</th>\n",
       "      <td>1</td>\n",
       "      <td>640.0</td>\n",
       "      <td>3.19</td>\n",
       "      <td>4</td>\n",
       "    </tr>\n",
       "    <tr>\n",
       "      <th>4</th>\n",
       "      <td>0</td>\n",
       "      <td>520.0</td>\n",
       "      <td>2.33</td>\n",
       "      <td>4</td>\n",
       "    </tr>\n",
       "  </tbody>\n",
       "</table>\n",
       "</div>"
      ],
      "text/plain": [
       "   admit    gre   gpa  rank\n",
       "0      0  380.0  3.21     3\n",
       "1      1  660.0  3.67     3\n",
       "2      1  800.0  4.00     1\n",
       "3      1  640.0  3.19     4\n",
       "4      0  520.0  2.33     4"
      ]
     },
     "execution_count": 9,
     "metadata": {},
     "output_type": "execute_result"
    }
   ],
   "source": [
    "df = pd.read_csv (\"./data/gpascore.csv\")\n",
    "df.head() # 파일읽은거.head() : 파일 미리보기\n",
    "\n",
    "# gre, gpa, rank가 input이 될거고, admit(prediction)이 output이 될 것임\n",
    "# admit을 0과 1 사이의 값으로 하여 확률을 출력하도록 하자 \n",
    "# (그러면 마지막 결과층에 활성함수를 sigmoid로 두어야 할 것)"
   ]
  },
  {
   "cell_type": "markdown",
   "id": "c70dc8f9-e2d4-4afb-88ea-77f16168809a",
   "metadata": {},
   "source": [
    "tensorflow의 **keras(high level api)** 를 이용하면 모델을 쉽게 만들 수 있다."
   ]
  },
  {
   "cell_type": "markdown",
   "id": "3d37f66f-f689-4c66-b7fd-48c5a2d1894d",
   "metadata": {},
   "source": [
    "------------"
   ]
  },
  {
   "cell_type": "markdown",
   "id": "1e3ba900-b9b5-42de-a359-61bff2c22fe5",
   "metadata": {},
   "source": [
    "## 딥러닝 모델 만들기"
   ]
  },
  {
   "cell_type": "markdown",
   "id": "6d7d30fb-fd63-4742-8f7c-f13061428a92",
   "metadata": {},
   "source": [
    "#### 1. layer 만들기"
   ]
  },
  {
   "cell_type": "markdown",
   "id": "dfd3a3a2-7daf-44d9-ae31-188bea016a95",
   "metadata": {},
   "source": [
    "```python\n",
    "# 레이어 생성하기\n",
    "\n",
    "model = tf.keras.models.Sequential([\n",
    "    레이어1(노드갯수, 활성함수), \n",
    "    레이어2(노드갯수, 활성함수), \n",
    "    레이어3(노드갯수, 활성함수),\n",
    "    ...\n",
    "]) \n",
    "\n",
    "# tf 안에 keras 안에 models 안에 sequential함수를 사용\n",
    "# sequential : 신경망 레이어를 쉽게 만들어주는 함수\n",
    "```"
   ]
  },
  {
   "cell_type": "code",
   "execution_count": 14,
   "id": "509d6d55-9fb7-4be8-820f-a93a57300f7e",
   "metadata": {},
   "outputs": [],
   "source": [
    "model = tf.keras.models.Sequential([\n",
    "    tf.keras.layers.Dense(64, activation=\"relu\"), # 레이어를 이렇게 만든다\n",
    "    tf.keras.layers.Dense(128, activation=\"relu\"), # 소괄호 안에 node의 갯수, 활성함수 만듦\n",
    "    tf.keras.layers.Dense(1, activation=\"sigmoid\") # 확률을 출력해야 하기 때문에 활성함수를 sigmoid로 배정\n",
    "    # 마지막 레이어는 반드시 아래 규칙대로 argument 입력\n",
    "    # 회귀 : 마지막 레이어는 반드시 1개로\n",
    "    # 분류 : label 갯수만큼\n",
    "]) \n",
    "# node의 갯수는 정해진 기준이 없기 때문에 실험으로 파악하는거임 (노가다)\n",
    "# 관습적으로 2의 n승 형태로 함"
   ]
  },
  {
   "cell_type": "markdown",
   "id": "aba3a1d4-b4f2-4bad-9ff4-85bac3a95758",
   "metadata": {},
   "source": [
    "#### 2. model compile하기"
   ]
  },
  {
   "cell_type": "code",
   "execution_count": 15,
   "id": "bdea24a0-bb6b-4ebc-935b-28ac1cf8a619",
   "metadata": {},
   "outputs": [],
   "source": [
    "model.compile(optimizer=\"adam\", loss=\"binary_crossentropy\", metrics=['accuracy'])\n",
    "# optimizer : w값 수정 (경사하강법) 시에 learning rate를 알맞게 조정해줌\n",
    "# loss : loss function\n",
    "# metrics : 기준\n",
    "\n",
    "# 상황에 맞게끔 optimizer, loss, metrics들 적절히 사용하기"
   ]
  },
  {
   "cell_type": "markdown",
   "id": "7b69f595-9a74-42fd-b7f0-de1f5764b632",
   "metadata": {},
   "source": [
    "#### 3. model 학습하기 (fit)"
   ]
  },
  {
   "cell_type": "code",
   "execution_count": 17,
   "id": "8ada92bf-1d7f-4e36-bd47-1066446ec1d5",
   "metadata": {},
   "outputs": [],
   "source": [
    "# model.fit(x데이터, y데이터, epochs=에폭값)\n",
    "# x데이터는 보통 X_train이라고 작성\n",
    "# y데이터는 보통 y_train이라고 작성 (admit)\n",
    "# 에폭값 : iteration of fit (학습횟수 : 많이 학습시켜야 한다면 1000 이상)"
   ]
  }
 ],
 "metadata": {
  "kernelspec": {
   "display_name": "Python 3 (ipykernel)",
   "language": "python",
   "name": "python3"
  },
  "language_info": {
   "codemirror_mode": {
    "name": "ipython",
    "version": 3
   },
   "file_extension": ".py",
   "mimetype": "text/x-python",
   "name": "python",
   "nbconvert_exporter": "python",
   "pygments_lexer": "ipython3",
   "version": "3.11.6"
  }
 },
 "nbformat": 4,
 "nbformat_minor": 5
}
