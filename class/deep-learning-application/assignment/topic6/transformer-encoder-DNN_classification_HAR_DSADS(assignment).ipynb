{
 "cells": [
  {
   "cell_type": "markdown",
   "id": "c27e2f13",
   "metadata": {},
   "source": [
    "<img src=\"https://blogs.nvidia.com/wp-content/uploads/2022/03/Transformer-model-example-aidan-gomez-672x400.jpg\" width=\"500px\">\n",
    "\n",
    "- **Reference**\n",
    "    - https://github.com/MyungKyuYi/HAR/blob/main/Transformer_WISDM_1204.ipynb\n",
    "    - https://keras.io/examples/timeseries/timeseries_classification_transformer/\n",
    "    - https://blogs.nvidia.co.kr/blog/what-is-a-transformer-model/\n",
    "    \n",
    "transformer를 사용한다. \n",
    "1. **Self-Attention Mechanism**: 입력 시퀀스의 각 요소 간의 관계를 학습하여 문맥 정보를 파악한다.\n",
    "2. **Multi-Head Attention**: 여러 개의 self-attention을 병렬로 실행하여 다양한 표현을 학습한다.\n",
    "3. **Position Encoding**: 위치 정보를 추가하여 순차적인 데이터를 처리한다.\n",
    "4. **Feed-Forward Neural Networks**: 각 attention layer 후에 비선형 변환을 수행한다.\n",
    "5. **Layer Normalization 및 Residual Connection**: 학습 안정화를 위해 정규화와 잔차 연결을 사용한다.\n",
    "6. **Encoder-Decoder Architecture**: 인코더와 디코더 구조로 입력을 처리하고 출력을 생성한다.\n",
    "\n",
    "Transformer는 기계 번역, 텍스트 요약 등 다양한 분야에 활용되며, BERT, GPT와 같은 파생 모델이 개발되었다."
   ]
  },
  {
   "cell_type": "code",
   "execution_count": 208,
   "id": "ab589a3b",
   "metadata": {
    "ExecuteTime": {
     "end_time": "2024-10-10T02:20:02.336175Z",
     "start_time": "2024-10-10T02:20:02.331851Z"
    }
   },
   "outputs": [],
   "source": [
    "import pandas as pd\n",
    "from sklearn.model_selection import StratifiedShuffleSplit\n",
    "from scipy.stats import skew\n",
    "import os\n",
    "import csv\n",
    "import matplotlib.pyplot as plt\n",
    "import seaborn as sns\n",
    "import tensorflow as tf\n",
    "from tensorflow import keras\n",
    "import numpy as np\n",
    "import scipy\n",
    "from tqdm import tqdm"
   ]
  },
  {
   "cell_type": "code",
   "execution_count": 209,
   "id": "5c6a863b",
   "metadata": {
    "ExecuteTime": {
     "end_time": "2024-10-10T02:20:02.343163Z",
     "start_time": "2024-10-10T02:20:02.338681Z"
    }
   },
   "outputs": [],
   "source": [
    "import tensorflow as tf\n",
    "from tensorflow import keras\n",
    "from tensorflow.keras import layers\n",
    "\n",
    "# cnn model vary kernel size\n",
    "from numpy import mean\n",
    "from numpy import std\n",
    "from numpy import dstack\n",
    "from pandas import read_csv\n",
    "from matplotlib import pyplot\n",
    "from tensorflow.keras.models import Sequential\n",
    "from tensorflow.keras.layers import Dense\n",
    "from tensorflow.keras.layers import Flatten\n",
    "from tensorflow.keras.layers import Dropout\n",
    "from keras.utils import to_categorical\n",
    "\n",
    "import tensorflow.keras\n",
    "from tensorflow.keras.models import Sequential\n",
    "from tensorflow.keras.layers import Dense, Dropout, Flatten, Reshape, LSTM, Conv1D, MaxPooling1D\n",
    "from tensorflow.keras.layers import TimeDistributed, Conv1D, MaxPooling1D\n"
   ]
  },
  {
   "cell_type": "markdown",
   "id": "854dd445",
   "metadata": {},
   "source": [
    "---"
   ]
  },
  {
   "cell_type": "code",
   "execution_count": 210,
   "id": "4673a930",
   "metadata": {
    "ExecuteTime": {
     "end_time": "2024-10-10T02:20:02.825982Z",
     "start_time": "2024-10-10T02:20:02.345015Z"
    }
   },
   "outputs": [
    {
     "data": {
      "text/html": [
       "<div>\n",
       "<style scoped>\n",
       "    .dataframe tbody tr th:only-of-type {\n",
       "        vertical-align: middle;\n",
       "    }\n",
       "\n",
       "    .dataframe tbody tr th {\n",
       "        vertical-align: top;\n",
       "    }\n",
       "\n",
       "    .dataframe thead th {\n",
       "        text-align: right;\n",
       "    }\n",
       "</style>\n",
       "<table border=\"1\" class=\"dataframe\">\n",
       "  <thead>\n",
       "    <tr style=\"text-align: right;\">\n",
       "      <th></th>\n",
       "      <th>T_xacc_mean</th>\n",
       "      <th>T_xacc_max</th>\n",
       "      <th>T_xacc_min</th>\n",
       "      <th>T_xacc_var</th>\n",
       "      <th>T_xacc_std</th>\n",
       "      <th>T_xacc_skew</th>\n",
       "      <th>T_yacc_mean</th>\n",
       "      <th>T_yacc_max</th>\n",
       "      <th>T_yacc_min</th>\n",
       "      <th>T_yacc_var</th>\n",
       "      <th>...</th>\n",
       "      <th>LL_ymag_std</th>\n",
       "      <th>LL_ymag_skew</th>\n",
       "      <th>LL_zmag_mean</th>\n",
       "      <th>LL_zmag_max</th>\n",
       "      <th>LL_zmag_min</th>\n",
       "      <th>LL_zmag_var</th>\n",
       "      <th>LL_zmag_std</th>\n",
       "      <th>LL_zmag_skew</th>\n",
       "      <th>activity</th>\n",
       "      <th>people</th>\n",
       "    </tr>\n",
       "  </thead>\n",
       "  <tbody>\n",
       "    <tr>\n",
       "      <th>0</th>\n",
       "      <td>7.975714</td>\n",
       "      <td>8.1605</td>\n",
       "      <td>7.6823</td>\n",
       "      <td>0.014395</td>\n",
       "      <td>0.119981</td>\n",
       "      <td>-0.023319</td>\n",
       "      <td>1.083150</td>\n",
       "      <td>1.1832</td>\n",
       "      <td>0.99744</td>\n",
       "      <td>0.002208</td>\n",
       "      <td>...</td>\n",
       "      <td>0.000792</td>\n",
       "      <td>0.177075</td>\n",
       "      <td>-0.057119</td>\n",
       "      <td>-0.054963</td>\n",
       "      <td>-0.059241</td>\n",
       "      <td>6.778722e-07</td>\n",
       "      <td>0.000823</td>\n",
       "      <td>0.036729</td>\n",
       "      <td>sitting</td>\n",
       "      <td>p1</td>\n",
       "    </tr>\n",
       "    <tr>\n",
       "      <th>1</th>\n",
       "      <td>7.978250</td>\n",
       "      <td>8.1763</td>\n",
       "      <td>7.8472</td>\n",
       "      <td>0.007551</td>\n",
       "      <td>0.086896</td>\n",
       "      <td>0.552416</td>\n",
       "      <td>1.140865</td>\n",
       "      <td>1.2129</td>\n",
       "      <td>1.05810</td>\n",
       "      <td>0.000784</td>\n",
       "      <td>...</td>\n",
       "      <td>0.000860</td>\n",
       "      <td>-0.286918</td>\n",
       "      <td>-0.057268</td>\n",
       "      <td>-0.054945</td>\n",
       "      <td>-0.059589</td>\n",
       "      <td>7.032302e-07</td>\n",
       "      <td>0.000839</td>\n",
       "      <td>0.347471</td>\n",
       "      <td>sitting</td>\n",
       "      <td>p1</td>\n",
       "    </tr>\n",
       "    <tr>\n",
       "      <th>2</th>\n",
       "      <td>7.970894</td>\n",
       "      <td>8.0860</td>\n",
       "      <td>7.8470</td>\n",
       "      <td>0.003092</td>\n",
       "      <td>0.055603</td>\n",
       "      <td>0.100538</td>\n",
       "      <td>1.140962</td>\n",
       "      <td>1.2128</td>\n",
       "      <td>1.07960</td>\n",
       "      <td>0.000508</td>\n",
       "      <td>...</td>\n",
       "      <td>0.000762</td>\n",
       "      <td>-0.134430</td>\n",
       "      <td>-0.057068</td>\n",
       "      <td>-0.054711</td>\n",
       "      <td>-0.059065</td>\n",
       "      <td>6.268222e-07</td>\n",
       "      <td>0.000792</td>\n",
       "      <td>0.045579</td>\n",
       "      <td>sitting</td>\n",
       "      <td>p1</td>\n",
       "    </tr>\n",
       "    <tr>\n",
       "      <th>3</th>\n",
       "      <td>7.938412</td>\n",
       "      <td>8.1083</td>\n",
       "      <td>7.6901</td>\n",
       "      <td>0.003763</td>\n",
       "      <td>0.061343</td>\n",
       "      <td>-0.231914</td>\n",
       "      <td>1.165260</td>\n",
       "      <td>1.3170</td>\n",
       "      <td>1.07870</td>\n",
       "      <td>0.002173</td>\n",
       "      <td>...</td>\n",
       "      <td>0.000735</td>\n",
       "      <td>0.021485</td>\n",
       "      <td>-0.056422</td>\n",
       "      <td>-0.053670</td>\n",
       "      <td>-0.058310</td>\n",
       "      <td>8.011245e-07</td>\n",
       "      <td>0.000895</td>\n",
       "      <td>0.240690</td>\n",
       "      <td>sitting</td>\n",
       "      <td>p1</td>\n",
       "    </tr>\n",
       "    <tr>\n",
       "      <th>4</th>\n",
       "      <td>7.908930</td>\n",
       "      <td>8.1305</td>\n",
       "      <td>7.8322</td>\n",
       "      <td>0.001741</td>\n",
       "      <td>0.041731</td>\n",
       "      <td>2.042285</td>\n",
       "      <td>1.187504</td>\n",
       "      <td>1.2574</td>\n",
       "      <td>1.09450</td>\n",
       "      <td>0.000662</td>\n",
       "      <td>...</td>\n",
       "      <td>0.000824</td>\n",
       "      <td>-0.148229</td>\n",
       "      <td>-0.055801</td>\n",
       "      <td>-0.053313</td>\n",
       "      <td>-0.057815</td>\n",
       "      <td>6.853423e-07</td>\n",
       "      <td>0.000828</td>\n",
       "      <td>0.258429</td>\n",
       "      <td>sitting</td>\n",
       "      <td>p1</td>\n",
       "    </tr>\n",
       "    <tr>\n",
       "      <th>...</th>\n",
       "      <td>...</td>\n",
       "      <td>...</td>\n",
       "      <td>...</td>\n",
       "      <td>...</td>\n",
       "      <td>...</td>\n",
       "      <td>...</td>\n",
       "      <td>...</td>\n",
       "      <td>...</td>\n",
       "      <td>...</td>\n",
       "      <td>...</td>\n",
       "      <td>...</td>\n",
       "      <td>...</td>\n",
       "      <td>...</td>\n",
       "      <td>...</td>\n",
       "      <td>...</td>\n",
       "      <td>...</td>\n",
       "      <td>...</td>\n",
       "      <td>...</td>\n",
       "      <td>...</td>\n",
       "      <td>...</td>\n",
       "      <td>...</td>\n",
       "    </tr>\n",
       "    <tr>\n",
       "      <th>9115</th>\n",
       "      <td>8.280854</td>\n",
       "      <td>34.1980</td>\n",
       "      <td>-2.9038</td>\n",
       "      <td>28.080803</td>\n",
       "      <td>5.299132</td>\n",
       "      <td>1.350075</td>\n",
       "      <td>-1.491537</td>\n",
       "      <td>11.2240</td>\n",
       "      <td>-11.65100</td>\n",
       "      <td>14.670334</td>\n",
       "      <td>...</td>\n",
       "      <td>0.200829</td>\n",
       "      <td>-0.040701</td>\n",
       "      <td>0.297666</td>\n",
       "      <td>0.708480</td>\n",
       "      <td>-0.117430</td>\n",
       "      <td>4.135451e-02</td>\n",
       "      <td>0.203358</td>\n",
       "      <td>-0.310022</td>\n",
       "      <td>basketBall</td>\n",
       "      <td>p8</td>\n",
       "    </tr>\n",
       "    <tr>\n",
       "      <th>9116</th>\n",
       "      <td>9.591118</td>\n",
       "      <td>51.6970</td>\n",
       "      <td>-3.4129</td>\n",
       "      <td>35.722025</td>\n",
       "      <td>5.976791</td>\n",
       "      <td>2.981144</td>\n",
       "      <td>0.086304</td>\n",
       "      <td>6.9951</td>\n",
       "      <td>-11.76400</td>\n",
       "      <td>5.329897</td>\n",
       "      <td>...</td>\n",
       "      <td>0.148745</td>\n",
       "      <td>-0.266377</td>\n",
       "      <td>0.224716</td>\n",
       "      <td>0.554670</td>\n",
       "      <td>-0.250950</td>\n",
       "      <td>3.355704e-02</td>\n",
       "      <td>0.183186</td>\n",
       "      <td>-0.736410</td>\n",
       "      <td>basketBall</td>\n",
       "      <td>p8</td>\n",
       "    </tr>\n",
       "    <tr>\n",
       "      <th>9117</th>\n",
       "      <td>9.599113</td>\n",
       "      <td>27.9300</td>\n",
       "      <td>-1.0765</td>\n",
       "      <td>48.850886</td>\n",
       "      <td>6.989341</td>\n",
       "      <td>0.449237</td>\n",
       "      <td>-0.728367</td>\n",
       "      <td>3.7801</td>\n",
       "      <td>-8.36910</td>\n",
       "      <td>5.683022</td>\n",
       "      <td>...</td>\n",
       "      <td>0.310748</td>\n",
       "      <td>-0.009505</td>\n",
       "      <td>-0.237786</td>\n",
       "      <td>0.088854</td>\n",
       "      <td>-0.477260</td>\n",
       "      <td>2.026107e-02</td>\n",
       "      <td>0.142341</td>\n",
       "      <td>0.668438</td>\n",
       "      <td>basketBall</td>\n",
       "      <td>p8</td>\n",
       "    </tr>\n",
       "    <tr>\n",
       "      <th>9118</th>\n",
       "      <td>9.692482</td>\n",
       "      <td>72.7820</td>\n",
       "      <td>-2.6734</td>\n",
       "      <td>59.378336</td>\n",
       "      <td>7.705734</td>\n",
       "      <td>4.491114</td>\n",
       "      <td>-0.582724</td>\n",
       "      <td>6.1216</td>\n",
       "      <td>-8.85710</td>\n",
       "      <td>4.162963</td>\n",
       "      <td>...</td>\n",
       "      <td>0.156493</td>\n",
       "      <td>0.050624</td>\n",
       "      <td>0.533023</td>\n",
       "      <td>0.677800</td>\n",
       "      <td>0.055941</td>\n",
       "      <td>1.356379e-02</td>\n",
       "      <td>0.116464</td>\n",
       "      <td>-1.482489</td>\n",
       "      <td>basketBall</td>\n",
       "      <td>p8</td>\n",
       "    </tr>\n",
       "    <tr>\n",
       "      <th>9119</th>\n",
       "      <td>9.380641</td>\n",
       "      <td>45.0090</td>\n",
       "      <td>-3.5938</td>\n",
       "      <td>40.459334</td>\n",
       "      <td>6.360765</td>\n",
       "      <td>1.688626</td>\n",
       "      <td>-0.266325</td>\n",
       "      <td>5.8603</td>\n",
       "      <td>-6.91970</td>\n",
       "      <td>4.017098</td>\n",
       "      <td>...</td>\n",
       "      <td>0.229154</td>\n",
       "      <td>-0.342228</td>\n",
       "      <td>0.491919</td>\n",
       "      <td>0.707920</td>\n",
       "      <td>0.251280</td>\n",
       "      <td>9.358254e-03</td>\n",
       "      <td>0.096738</td>\n",
       "      <td>-0.223302</td>\n",
       "      <td>basketBall</td>\n",
       "      <td>p8</td>\n",
       "    </tr>\n",
       "  </tbody>\n",
       "</table>\n",
       "<p>9120 rows × 272 columns</p>\n",
       "</div>"
      ],
      "text/plain": [
       "      T_xacc_mean  T_xacc_max  T_xacc_min  T_xacc_var  T_xacc_std  \\\n",
       "0        7.975714      8.1605      7.6823    0.014395    0.119981   \n",
       "1        7.978250      8.1763      7.8472    0.007551    0.086896   \n",
       "2        7.970894      8.0860      7.8470    0.003092    0.055603   \n",
       "3        7.938412      8.1083      7.6901    0.003763    0.061343   \n",
       "4        7.908930      8.1305      7.8322    0.001741    0.041731   \n",
       "...           ...         ...         ...         ...         ...   \n",
       "9115     8.280854     34.1980     -2.9038   28.080803    5.299132   \n",
       "9116     9.591118     51.6970     -3.4129   35.722025    5.976791   \n",
       "9117     9.599113     27.9300     -1.0765   48.850886    6.989341   \n",
       "9118     9.692482     72.7820     -2.6734   59.378336    7.705734   \n",
       "9119     9.380641     45.0090     -3.5938   40.459334    6.360765   \n",
       "\n",
       "      T_xacc_skew  T_yacc_mean  T_yacc_max  T_yacc_min  T_yacc_var  ...  \\\n",
       "0       -0.023319     1.083150      1.1832     0.99744    0.002208  ...   \n",
       "1        0.552416     1.140865      1.2129     1.05810    0.000784  ...   \n",
       "2        0.100538     1.140962      1.2128     1.07960    0.000508  ...   \n",
       "3       -0.231914     1.165260      1.3170     1.07870    0.002173  ...   \n",
       "4        2.042285     1.187504      1.2574     1.09450    0.000662  ...   \n",
       "...           ...          ...         ...         ...         ...  ...   \n",
       "9115     1.350075    -1.491537     11.2240   -11.65100   14.670334  ...   \n",
       "9116     2.981144     0.086304      6.9951   -11.76400    5.329897  ...   \n",
       "9117     0.449237    -0.728367      3.7801    -8.36910    5.683022  ...   \n",
       "9118     4.491114    -0.582724      6.1216    -8.85710    4.162963  ...   \n",
       "9119     1.688626    -0.266325      5.8603    -6.91970    4.017098  ...   \n",
       "\n",
       "      LL_ymag_std  LL_ymag_skew  LL_zmag_mean  LL_zmag_max  LL_zmag_min  \\\n",
       "0        0.000792      0.177075     -0.057119    -0.054963    -0.059241   \n",
       "1        0.000860     -0.286918     -0.057268    -0.054945    -0.059589   \n",
       "2        0.000762     -0.134430     -0.057068    -0.054711    -0.059065   \n",
       "3        0.000735      0.021485     -0.056422    -0.053670    -0.058310   \n",
       "4        0.000824     -0.148229     -0.055801    -0.053313    -0.057815   \n",
       "...           ...           ...           ...          ...          ...   \n",
       "9115     0.200829     -0.040701      0.297666     0.708480    -0.117430   \n",
       "9116     0.148745     -0.266377      0.224716     0.554670    -0.250950   \n",
       "9117     0.310748     -0.009505     -0.237786     0.088854    -0.477260   \n",
       "9118     0.156493      0.050624      0.533023     0.677800     0.055941   \n",
       "9119     0.229154     -0.342228      0.491919     0.707920     0.251280   \n",
       "\n",
       "       LL_zmag_var  LL_zmag_std  LL_zmag_skew    activity  people  \n",
       "0     6.778722e-07     0.000823      0.036729     sitting      p1  \n",
       "1     7.032302e-07     0.000839      0.347471     sitting      p1  \n",
       "2     6.268222e-07     0.000792      0.045579     sitting      p1  \n",
       "3     8.011245e-07     0.000895      0.240690     sitting      p1  \n",
       "4     6.853423e-07     0.000828      0.258429     sitting      p1  \n",
       "...            ...          ...           ...         ...     ...  \n",
       "9115  4.135451e-02     0.203358     -0.310022  basketBall      p8  \n",
       "9116  3.355704e-02     0.183186     -0.736410  basketBall      p8  \n",
       "9117  2.026107e-02     0.142341      0.668438  basketBall      p8  \n",
       "9118  1.356379e-02     0.116464     -1.482489  basketBall      p8  \n",
       "9119  9.358254e-03     0.096738     -0.223302  basketBall      p8  \n",
       "\n",
       "[9120 rows x 272 columns]"
      ]
     },
     "execution_count": 210,
     "metadata": {},
     "output_type": "execute_result"
    }
   ],
   "source": [
    "# data load\n",
    "\n",
    "df = pd.read_csv(\"../../class/data/DSA_features.csv\")\n",
    "df"
   ]
  },
  {
   "cell_type": "code",
   "execution_count": 211,
   "id": "f6422389",
   "metadata": {
    "ExecuteTime": {
     "end_time": "2024-10-10T02:20:03.244105Z",
     "start_time": "2024-10-10T02:20:02.831147Z"
    }
   },
   "outputs": [
    {
     "name": "stdout",
     "output_type": "stream",
     "text": [
      "<class 'pandas.core.frame.DataFrame'>\n",
      "RangeIndex: 9120 entries, 0 to 9119\n",
      "Columns: 272 entries, T_xacc_mean to people\n",
      "dtypes: float64(270), object(2)\n",
      "memory usage: 18.9+ MB\n"
     ]
    },
    {
     "data": {
      "text/html": [
       "<div>\n",
       "<style scoped>\n",
       "    .dataframe tbody tr th:only-of-type {\n",
       "        vertical-align: middle;\n",
       "    }\n",
       "\n",
       "    .dataframe tbody tr th {\n",
       "        vertical-align: top;\n",
       "    }\n",
       "\n",
       "    .dataframe thead th {\n",
       "        text-align: right;\n",
       "    }\n",
       "</style>\n",
       "<table border=\"1\" class=\"dataframe\">\n",
       "  <thead>\n",
       "    <tr style=\"text-align: right;\">\n",
       "      <th></th>\n",
       "      <th>T_xacc_mean</th>\n",
       "      <th>T_xacc_max</th>\n",
       "      <th>T_xacc_min</th>\n",
       "      <th>T_xacc_var</th>\n",
       "      <th>T_xacc_std</th>\n",
       "      <th>T_xacc_skew</th>\n",
       "      <th>T_yacc_mean</th>\n",
       "      <th>T_yacc_max</th>\n",
       "      <th>T_yacc_min</th>\n",
       "      <th>T_yacc_var</th>\n",
       "      <th>...</th>\n",
       "      <th>LL_ymag_min</th>\n",
       "      <th>LL_ymag_var</th>\n",
       "      <th>LL_ymag_std</th>\n",
       "      <th>LL_ymag_skew</th>\n",
       "      <th>LL_zmag_mean</th>\n",
       "      <th>LL_zmag_max</th>\n",
       "      <th>LL_zmag_min</th>\n",
       "      <th>LL_zmag_var</th>\n",
       "      <th>LL_zmag_std</th>\n",
       "      <th>LL_zmag_skew</th>\n",
       "    </tr>\n",
       "  </thead>\n",
       "  <tbody>\n",
       "    <tr>\n",
       "      <th>count</th>\n",
       "      <td>9120.000000</td>\n",
       "      <td>9120.000000</td>\n",
       "      <td>9120.000000</td>\n",
       "      <td>9120.000000</td>\n",
       "      <td>9120.000000</td>\n",
       "      <td>9120.000000</td>\n",
       "      <td>9120.000000</td>\n",
       "      <td>9120.000000</td>\n",
       "      <td>9120.000000</td>\n",
       "      <td>9120.000000</td>\n",
       "      <td>...</td>\n",
       "      <td>9120.000000</td>\n",
       "      <td>9.120000e+03</td>\n",
       "      <td>9120.000000</td>\n",
       "      <td>9120.000000</td>\n",
       "      <td>9120.000000</td>\n",
       "      <td>9120.000000</td>\n",
       "      <td>9120.000000</td>\n",
       "      <td>9.120000e+03</td>\n",
       "      <td>9120.000000</td>\n",
       "      <td>9120.000000</td>\n",
       "    </tr>\n",
       "    <tr>\n",
       "      <th>mean</th>\n",
       "      <td>7.765766</td>\n",
       "      <td>14.625536</td>\n",
       "      <td>3.602974</td>\n",
       "      <td>17.807013</td>\n",
       "      <td>2.454290</td>\n",
       "      <td>0.305587</td>\n",
       "      <td>-0.811036</td>\n",
       "      <td>1.801847</td>\n",
       "      <td>-3.704204</td>\n",
       "      <td>2.049747</td>\n",
       "      <td>...</td>\n",
       "      <td>0.111347</td>\n",
       "      <td>1.818862e-02</td>\n",
       "      <td>0.105897</td>\n",
       "      <td>-0.055440</td>\n",
       "      <td>0.064504</td>\n",
       "      <td>0.169687</td>\n",
       "      <td>-0.052866</td>\n",
       "      <td>7.624694e-03</td>\n",
       "      <td>0.059342</td>\n",
       "      <td>-0.089861</td>\n",
       "    </tr>\n",
       "    <tr>\n",
       "      <th>std</th>\n",
       "      <td>3.758022</td>\n",
       "      <td>11.823448</td>\n",
       "      <td>5.622855</td>\n",
       "      <td>45.188787</td>\n",
       "      <td>3.432895</td>\n",
       "      <td>0.768360</td>\n",
       "      <td>2.201692</td>\n",
       "      <td>4.177165</td>\n",
       "      <td>3.982579</td>\n",
       "      <td>3.908675</td>\n",
       "      <td>...</td>\n",
       "      <td>0.362373</td>\n",
       "      <td>2.382393e-02</td>\n",
       "      <td>0.083518</td>\n",
       "      <td>0.526959</td>\n",
       "      <td>0.346660</td>\n",
       "      <td>0.360190</td>\n",
       "      <td>0.359712</td>\n",
       "      <td>1.903445e-02</td>\n",
       "      <td>0.064059</td>\n",
       "      <td>0.619636</td>\n",
       "    </tr>\n",
       "    <tr>\n",
       "      <th>min</th>\n",
       "      <td>-11.575660</td>\n",
       "      <td>-4.758700</td>\n",
       "      <td>-99.715000</td>\n",
       "      <td>0.000135</td>\n",
       "      <td>0.011633</td>\n",
       "      <td>-7.826631</td>\n",
       "      <td>-9.782885</td>\n",
       "      <td>-9.703600</td>\n",
       "      <td>-49.941000</td>\n",
       "      <td>0.000141</td>\n",
       "      <td>...</td>\n",
       "      <td>-0.901760</td>\n",
       "      <td>3.044156e-07</td>\n",
       "      <td>0.000552</td>\n",
       "      <td>-3.693948</td>\n",
       "      <td>-0.912397</td>\n",
       "      <td>-0.910830</td>\n",
       "      <td>-1.126000</td>\n",
       "      <td>2.960874e-07</td>\n",
       "      <td>0.000544</td>\n",
       "      <td>-5.111532</td>\n",
       "    </tr>\n",
       "    <tr>\n",
       "      <th>25%</th>\n",
       "      <td>8.374161</td>\n",
       "      <td>9.523200</td>\n",
       "      <td>0.000000</td>\n",
       "      <td>0.036855</td>\n",
       "      <td>0.191977</td>\n",
       "      <td>-0.161535</td>\n",
       "      <td>-1.134192</td>\n",
       "      <td>0.172375</td>\n",
       "      <td>-4.837875</td>\n",
       "      <td>0.012121</td>\n",
       "      <td>...</td>\n",
       "      <td>-0.111835</td>\n",
       "      <td>5.683172e-04</td>\n",
       "      <td>0.023839</td>\n",
       "      <td>-0.343123</td>\n",
       "      <td>-0.156271</td>\n",
       "      <td>-0.035821</td>\n",
       "      <td>-0.326125</td>\n",
       "      <td>2.227543e-04</td>\n",
       "      <td>0.014925</td>\n",
       "      <td>-0.402781</td>\n",
       "    </tr>\n",
       "    <tr>\n",
       "      <th>50%</th>\n",
       "      <td>9.186328</td>\n",
       "      <td>12.549500</td>\n",
       "      <td>5.757900</td>\n",
       "      <td>2.241468</td>\n",
       "      <td>1.497153</td>\n",
       "      <td>0.275042</td>\n",
       "      <td>-0.375678</td>\n",
       "      <td>1.571750</td>\n",
       "      <td>-2.470150</td>\n",
       "      <td>0.737663</td>\n",
       "      <td>...</td>\n",
       "      <td>0.184470</td>\n",
       "      <td>1.078612e-02</td>\n",
       "      <td>0.103856</td>\n",
       "      <td>-0.075786</td>\n",
       "      <td>0.086285</td>\n",
       "      <td>0.210825</td>\n",
       "      <td>-0.040447</td>\n",
       "      <td>1.813539e-03</td>\n",
       "      <td>0.042586</td>\n",
       "      <td>-0.092036</td>\n",
       "    </tr>\n",
       "    <tr>\n",
       "      <th>75%</th>\n",
       "      <td>9.515573</td>\n",
       "      <td>15.843250</td>\n",
       "      <td>7.649075</td>\n",
       "      <td>6.680571</td>\n",
       "      <td>2.584680</td>\n",
       "      <td>0.845410</td>\n",
       "      <td>0.127612</td>\n",
       "      <td>3.005450</td>\n",
       "      <td>-1.279725</td>\n",
       "      <td>1.900426</td>\n",
       "      <td>...</td>\n",
       "      <td>0.315962</td>\n",
       "      <td>2.740661e-02</td>\n",
       "      <td>0.165549</td>\n",
       "      <td>0.177076</td>\n",
       "      <td>0.295415</td>\n",
       "      <td>0.422270</td>\n",
       "      <td>0.206933</td>\n",
       "      <td>6.927870e-03</td>\n",
       "      <td>0.083234</td>\n",
       "      <td>0.228493</td>\n",
       "    </tr>\n",
       "    <tr>\n",
       "      <th>max</th>\n",
       "      <td>10.713139</td>\n",
       "      <td>93.694000</td>\n",
       "      <td>9.749000</td>\n",
       "      <td>392.898630</td>\n",
       "      <td>19.821671</td>\n",
       "      <td>9.070164</td>\n",
       "      <td>7.051530</td>\n",
       "      <td>41.013000</td>\n",
       "      <td>2.656400</td>\n",
       "      <td>54.332000</td>\n",
       "      <td>...</td>\n",
       "      <td>0.969020</td>\n",
       "      <td>3.041940e-01</td>\n",
       "      <td>0.551538</td>\n",
       "      <td>5.035185</td>\n",
       "      <td>1.020691</td>\n",
       "      <td>1.042600</td>\n",
       "      <td>0.999440</td>\n",
       "      <td>2.790198e-01</td>\n",
       "      <td>0.528223</td>\n",
       "      <td>3.560828</td>\n",
       "    </tr>\n",
       "  </tbody>\n",
       "</table>\n",
       "<p>8 rows × 270 columns</p>\n",
       "</div>"
      ],
      "text/plain": [
       "       T_xacc_mean   T_xacc_max   T_xacc_min   T_xacc_var   T_xacc_std  \\\n",
       "count  9120.000000  9120.000000  9120.000000  9120.000000  9120.000000   \n",
       "mean      7.765766    14.625536     3.602974    17.807013     2.454290   \n",
       "std       3.758022    11.823448     5.622855    45.188787     3.432895   \n",
       "min     -11.575660    -4.758700   -99.715000     0.000135     0.011633   \n",
       "25%       8.374161     9.523200     0.000000     0.036855     0.191977   \n",
       "50%       9.186328    12.549500     5.757900     2.241468     1.497153   \n",
       "75%       9.515573    15.843250     7.649075     6.680571     2.584680   \n",
       "max      10.713139    93.694000     9.749000   392.898630    19.821671   \n",
       "\n",
       "       T_xacc_skew  T_yacc_mean   T_yacc_max   T_yacc_min   T_yacc_var  ...  \\\n",
       "count  9120.000000  9120.000000  9120.000000  9120.000000  9120.000000  ...   \n",
       "mean      0.305587    -0.811036     1.801847    -3.704204     2.049747  ...   \n",
       "std       0.768360     2.201692     4.177165     3.982579     3.908675  ...   \n",
       "min      -7.826631    -9.782885    -9.703600   -49.941000     0.000141  ...   \n",
       "25%      -0.161535    -1.134192     0.172375    -4.837875     0.012121  ...   \n",
       "50%       0.275042    -0.375678     1.571750    -2.470150     0.737663  ...   \n",
       "75%       0.845410     0.127612     3.005450    -1.279725     1.900426  ...   \n",
       "max       9.070164     7.051530    41.013000     2.656400    54.332000  ...   \n",
       "\n",
       "       LL_ymag_min   LL_ymag_var  LL_ymag_std  LL_ymag_skew  LL_zmag_mean  \\\n",
       "count  9120.000000  9.120000e+03  9120.000000   9120.000000   9120.000000   \n",
       "mean      0.111347  1.818862e-02     0.105897     -0.055440      0.064504   \n",
       "std       0.362373  2.382393e-02     0.083518      0.526959      0.346660   \n",
       "min      -0.901760  3.044156e-07     0.000552     -3.693948     -0.912397   \n",
       "25%      -0.111835  5.683172e-04     0.023839     -0.343123     -0.156271   \n",
       "50%       0.184470  1.078612e-02     0.103856     -0.075786      0.086285   \n",
       "75%       0.315962  2.740661e-02     0.165549      0.177076      0.295415   \n",
       "max       0.969020  3.041940e-01     0.551538      5.035185      1.020691   \n",
       "\n",
       "       LL_zmag_max  LL_zmag_min   LL_zmag_var  LL_zmag_std  LL_zmag_skew  \n",
       "count  9120.000000  9120.000000  9.120000e+03  9120.000000   9120.000000  \n",
       "mean      0.169687    -0.052866  7.624694e-03     0.059342     -0.089861  \n",
       "std       0.360190     0.359712  1.903445e-02     0.064059      0.619636  \n",
       "min      -0.910830    -1.126000  2.960874e-07     0.000544     -5.111532  \n",
       "25%      -0.035821    -0.326125  2.227543e-04     0.014925     -0.402781  \n",
       "50%       0.210825    -0.040447  1.813539e-03     0.042586     -0.092036  \n",
       "75%       0.422270     0.206933  6.927870e-03     0.083234      0.228493  \n",
       "max       1.042600     0.999440  2.790198e-01     0.528223      3.560828  \n",
       "\n",
       "[8 rows x 270 columns]"
      ]
     },
     "execution_count": 211,
     "metadata": {},
     "output_type": "execute_result"
    }
   ],
   "source": [
    "# data info, describe\n",
    "\n",
    "df.info()\n",
    "df.describe()"
   ]
  },
  {
   "cell_type": "code",
   "execution_count": 212,
   "id": "33fd1777",
   "metadata": {
    "ExecuteTime": {
     "end_time": "2024-10-10T02:20:03.265941Z",
     "start_time": "2024-10-10T02:20:03.245634Z"
    }
   },
   "outputs": [
    {
     "name": "stdout",
     "output_type": "stream",
     "text": [
      "T_xacc_mean     0\n",
      "T_xacc_max      0\n",
      "T_xacc_min      0\n",
      "T_xacc_var      0\n",
      "T_xacc_std      0\n",
      "               ..\n",
      "LL_zmag_var     0\n",
      "LL_zmag_std     0\n",
      "LL_zmag_skew    0\n",
      "activity        0\n",
      "people          0\n",
      "Length: 272, dtype: int64\n",
      "\n",
      "T_xacc_mean     0\n",
      "T_xacc_max      0\n",
      "T_xacc_min      0\n",
      "T_xacc_var      0\n",
      "T_xacc_std      0\n",
      "               ..\n",
      "LL_zmag_var     0\n",
      "LL_zmag_std     0\n",
      "LL_zmag_skew    0\n",
      "activity        0\n",
      "people          0\n",
      "Length: 272, dtype: int64\n"
     ]
    }
   ],
   "source": [
    "# 결측치 처리\n",
    "\n",
    "print (df.isnull().sum())\n",
    "df = df.dropna()\n",
    "print ()\n",
    "print (df.isnull().sum())"
   ]
  },
  {
   "cell_type": "code",
   "execution_count": 213,
   "id": "217745e9",
   "metadata": {
    "ExecuteTime": {
     "end_time": "2024-10-10T02:20:03.274055Z",
     "start_time": "2024-10-10T02:20:03.268298Z"
    }
   },
   "outputs": [
    {
     "name": "stdout",
     "output_type": "stream",
     "text": [
      "Index(['T_xacc_mean', 'T_xacc_max', 'T_xacc_min', 'T_xacc_var', 'T_xacc_std',\n",
      "       'T_xacc_skew', 'T_yacc_mean', 'T_yacc_max', 'T_yacc_min', 'T_yacc_var',\n",
      "       ...\n",
      "       'LL_ymag_std', 'LL_ymag_skew', 'LL_zmag_mean', 'LL_zmag_max',\n",
      "       'LL_zmag_min', 'LL_zmag_var', 'LL_zmag_std', 'LL_zmag_skew', 'activity',\n",
      "       'people'],\n",
      "      dtype='object', length=272)\n"
     ]
    },
    {
     "data": {
      "text/plain": [
       "'\\n    attribute가 무려 271개나 있다. (activity 제외 / activity가 여기서 target값이 되겠다)\\n'"
      ]
     },
     "execution_count": 213,
     "metadata": {},
     "output_type": "execute_result"
    }
   ],
   "source": [
    "# attribute가 무엇으로 구성되어 있는지 확인\n",
    "\n",
    "print (df.columns)\n",
    "\n",
    "'''\n",
    "    attribute가 무려 271개나 있다. (activity 제외 / activity가 여기서 target값이 되겠다)\n",
    "'''"
   ]
  },
  {
   "cell_type": "code",
   "execution_count": 214,
   "id": "69d3fda1",
   "metadata": {
    "ExecuteTime": {
     "end_time": "2024-10-10T02:20:03.285739Z",
     "start_time": "2024-10-10T02:20:03.276538Z"
    }
   },
   "outputs": [],
   "source": [
    "# people 열 제거\n",
    "\n",
    "df = df.drop('people', axis=1)"
   ]
  },
  {
   "cell_type": "code",
   "execution_count": 215,
   "id": "41796131",
   "metadata": {
    "ExecuteTime": {
     "end_time": "2024-10-10T02:20:03.295662Z",
     "start_time": "2024-10-10T02:20:03.288035Z"
    },
    "scrolled": false
   },
   "outputs": [
    {
     "data": {
      "text/plain": [
       "activity\n",
       "sitting                    480\n",
       "walkingTreadmillIncline    480\n",
       "jumping                    480\n",
       "rowing                     480\n",
       "cyclingVertical            480\n",
       "cyclingHorizontal          480\n",
       "crossTrainer               480\n",
       "stepper                    480\n",
       "runningTreadmill           480\n",
       "walkingTreadmillFlat       480\n",
       "standing                   480\n",
       "walkingLot                 480\n",
       "movingInElevator           480\n",
       "standingInElevatorStill    480\n",
       "decendingStairs            480\n",
       "ascendingStairs            480\n",
       "lyingRigh                  480\n",
       "lyingBack                  480\n",
       "basketBall                 480\n",
       "Name: count, dtype: int64"
      ]
     },
     "execution_count": 215,
     "metadata": {},
     "output_type": "execute_result"
    }
   ],
   "source": [
    "# target값인 df['activity']의 각 클래스별 갯수 확인 \n",
    "\n",
    "df['activity'].value_counts()"
   ]
  },
  {
   "cell_type": "code",
   "execution_count": 216,
   "id": "6e36f043",
   "metadata": {
    "ExecuteTime": {
     "end_time": "2024-10-10T02:20:03.535925Z",
     "start_time": "2024-10-10T02:20:03.300733Z"
    }
   },
   "outputs": [
    {
     "data": {
      "text/plain": [
       "'\\n    모든 class가 480개로 빈도수가 동일하기 때문에 클래스 편향이 일어나지 않을 것이다.\\n'"
      ]
     },
     "execution_count": 216,
     "metadata": {},
     "output_type": "execute_result"
    },
    {
     "data": {
      "image/png": "[encoded data removed]",
      "text/plain": [
       "<Figure size 640x480 with 1 Axes>"
      ]
     },
     "metadata": {},
     "output_type": "display_data"
    }
   ],
   "source": [
    "# countplot\n",
    "\n",
    "import pandas as pd\n",
    "import matplotlib.pyplot as plt\n",
    "\n",
    "# 레이블별 갯수 확인\n",
    "label_counts = df['activity'].value_counts()\n",
    "\n",
    "# 바 그래프 그리기\n",
    "label_counts.plot(kind='bar')\n",
    "\n",
    "# 그래프 제목 및 라벨 설정\n",
    "plt.title('Label Count')\n",
    "plt.xlabel('Labels')\n",
    "plt.ylabel('Count')\n",
    "\n",
    "'''\n",
    "    모든 class가 480개로 빈도수가 동일하기 때문에 클래스 편향이 일어나지 않을 것이다.\n",
    "'''"
   ]
  },
  {
   "cell_type": "code",
   "execution_count": 217,
   "id": "6f712e2d",
   "metadata": {
    "ExecuteTime": {
     "end_time": "2024-10-10T02:20:03.541645Z",
     "start_time": "2024-10-10T02:20:03.537870Z"
    },
    "scrolled": true
   },
   "outputs": [],
   "source": [
    "# target 값이 현재 문자열로 이루어져 있기 때문에 label encoding을 통하여 0-based로 된 class로 remapping\n",
    "\n",
    "from sklearn.preprocessing import LabelEncoder\n",
    "\n",
    "label_encoder = LabelEncoder()\n",
    "df['activity'] = label_encoder.fit_transform(df['activity'])"
   ]
  },
  {
   "cell_type": "code",
   "execution_count": 218,
   "id": "53ace148",
   "metadata": {
    "ExecuteTime": {
     "end_time": "2024-10-10T02:20:03.546317Z",
     "start_time": "2024-10-10T02:20:03.543185Z"
    }
   },
   "outputs": [
    {
     "name": "stdout",
     "output_type": "stream",
     "text": [
      "activity\n",
      "12    480\n",
      "18    480\n",
      "6     480\n",
      "10    480\n",
      "4     480\n",
      "3     480\n",
      "2     480\n",
      "15    480\n",
      "11    480\n",
      "17    480\n",
      "13    480\n",
      "16    480\n",
      "9     480\n",
      "14    480\n",
      "5     480\n",
      "0     480\n",
      "8     480\n",
      "7     480\n",
      "1     480\n",
      "Name: count, dtype: int64\n"
     ]
    }
   ],
   "source": [
    "# label encoding된 결과 확인\n",
    "\n",
    "print (df['activity'].value_counts())"
   ]
  },
  {
   "cell_type": "code",
   "execution_count": 219,
   "id": "2de07abb",
   "metadata": {
    "ExecuteTime": {
     "end_time": "2024-10-10T02:20:03.565374Z",
     "start_time": "2024-10-10T02:20:03.547659Z"
    }
   },
   "outputs": [
    {
     "name": "stdout",
     "output_type": "stream",
     "text": [
      "   T_xacc_mean  T_xacc_max  T_xacc_min  T_xacc_var  T_xacc_std  T_xacc_skew  \\\n",
      "0     7.975714      8.1605      7.6823    0.014395    0.119981    -0.023319   \n",
      "1     7.978250      8.1763      7.8472    0.007551    0.086896     0.552416   \n",
      "2     7.970894      8.0860      7.8470    0.003092    0.055603     0.100538   \n",
      "3     7.938412      8.1083      7.6901    0.003763    0.061343    -0.231914   \n",
      "4     7.908930      8.1305      7.8322    0.001741    0.041731     2.042285   \n",
      "5     7.965544      8.1304      7.8691    0.004233    0.065059     0.576279   \n",
      "6     7.923159      8.0482      7.8543    0.001490    0.038600     0.807007   \n",
      "7     7.941025      8.0559      7.8468    0.003056    0.055283     0.284582   \n",
      "8     7.882650      8.0483      7.6304    0.009832    0.099157    -0.062036   \n",
      "9     7.902089      8.0484      7.8318    0.002280    0.047751     0.680589   \n",
      "\n",
      "   T_yacc_mean  T_yacc_max  T_yacc_min  T_yacc_var  ...  LL_ymag_min  \\\n",
      "0     1.083150      1.1832     0.99744    0.002208  ...      0.29968   \n",
      "1     1.140865      1.2129     1.05810    0.000784  ...      0.29974   \n",
      "2     1.140962      1.2128     1.07960    0.000508  ...      0.30068   \n",
      "3     1.165260      1.3170     1.07870    0.002173  ...      0.30088   \n",
      "4     1.187504      1.2574     1.09450    0.000662  ...      0.30041   \n",
      "5     1.150181      1.2274     1.07910    0.000746  ...      0.30115   \n",
      "6     1.161473      1.2125     1.09410    0.000442  ...      0.30108   \n",
      "7     1.166265      1.2418     1.09370    0.000501  ...      0.30070   \n",
      "8     1.179440      1.2714     1.01980    0.001466  ...      0.30005   \n",
      "9     1.212818      1.2713     1.16010    0.000399  ...      0.30089   \n",
      "\n",
      "    LL_ymag_var  LL_ymag_std  LL_ymag_skew  LL_zmag_mean  LL_zmag_max  \\\n",
      "0  6.267229e-07     0.000792      0.177075     -0.057119    -0.054963   \n",
      "1  7.403458e-07     0.000860     -0.286918     -0.057268    -0.054945   \n",
      "2  5.802523e-07     0.000762     -0.134430     -0.057068    -0.054711   \n",
      "3  5.398837e-07     0.000735      0.021485     -0.056422    -0.053670   \n",
      "4  6.787533e-07     0.000824     -0.148229     -0.055801    -0.053313   \n",
      "5  5.900169e-07     0.000768      0.009040     -0.055772    -0.053614   \n",
      "6  5.754216e-07     0.000759     -0.018338     -0.055931    -0.054186   \n",
      "7  5.948995e-07     0.000771      0.138991     -0.056112    -0.054114   \n",
      "8  7.339587e-07     0.000857     -0.241564     -0.056329    -0.054376   \n",
      "9  6.031111e-07     0.000777      0.071582     -0.056273    -0.054379   \n",
      "\n",
      "   LL_zmag_min   LL_zmag_var  LL_zmag_std  LL_zmag_skew  \n",
      "0    -0.059241  6.778722e-07     0.000823      0.036729  \n",
      "1    -0.059589  7.032302e-07     0.000839      0.347471  \n",
      "2    -0.059065  6.268222e-07     0.000792      0.045579  \n",
      "3    -0.058310  8.011245e-07     0.000895      0.240690  \n",
      "4    -0.057815  6.853423e-07     0.000828      0.258429  \n",
      "5    -0.057971  7.603259e-07     0.000872      0.016200  \n",
      "6    -0.057954  7.299607e-07     0.000854     -0.090742  \n",
      "7    -0.058301  7.268286e-07     0.000853     -0.129864  \n",
      "8    -0.058577  7.286492e-07     0.000854     -0.051455  \n",
      "9    -0.058204  5.838899e-07     0.000764      0.271062  \n",
      "\n",
      "[10 rows x 270 columns]\n"
     ]
    }
   ],
   "source": [
    "# input, target split\n",
    "\n",
    "df_Y = df['activity'] \n",
    "df_X = df.drop ('activity', axis=1)\n",
    "print  (df_X.head(10))"
   ]
  },
  {
   "cell_type": "code",
   "execution_count": 220,
   "id": "7d65f196",
   "metadata": {
    "ExecuteTime": {
     "end_time": "2024-10-10T02:20:03.584968Z",
     "start_time": "2024-10-10T02:20:03.568074Z"
    }
   },
   "outputs": [
    {
     "name": "stdout",
     "output_type": "stream",
     "text": [
      "(4560, 270) (4560, 270) (4560,) (4560,)\n"
     ]
    }
   ],
   "source": [
    "# train, test, split\n",
    "\n",
    "from sklearn.model_selection import train_test_split\n",
    "\n",
    "X_train, X_test, y_train, y_test = train_test_split(df_X, \n",
    "                                                    df_Y,\n",
    "                                                    test_size = 0.5, \n",
    "                                                    random_state = 21)\n",
    "\n",
    "print (X_train.shape, X_test.shape, y_train.shape, y_test.shape)"
   ]
  },
  {
   "cell_type": "code",
   "execution_count": 221,
   "id": "8ee212de",
   "metadata": {
    "ExecuteTime": {
     "end_time": "2024-10-10T02:20:03.593220Z",
     "start_time": "2024-10-10T02:20:03.587168Z"
    }
   },
   "outputs": [
    {
     "data": {
      "text/plain": [
       "'\\n    순환 데이터를 구성하기 위하여 split_sequences를 사용하였다.\\n    이때, 각 window마다 class의 빈도 수를 측정하여 가장 많은 빈도수를 가진 class가 target이 되는 방식을 취하였다.\\n'"
      ]
     },
     "execution_count": 221,
     "metadata": {},
     "output_type": "execute_result"
    }
   ],
   "source": [
    "'''\n",
    "    순환 데이터를 구성하기 위하여 split_sequences를 사용하였다.\n",
    "    이때, 각 window마다 class의 빈도 수를 측정하여 가장 많은 빈도수를 가진 class가 target이 되는 방식을 취하였다.\n",
    "'''\n",
    "\n",
    "# from collections import Counter\n",
    "# import numpy as np\n",
    "\n",
    "# def split_sequences(sequences, n_steps):\n",
    "#     X, y = list(), list()  # 빈 리스트를 생성하여 시퀀스 데이터와 레이블을 담을 공간을 만듦\n",
    "#     for i in range(len(sequences)):  # 전체 시퀀스 데이터를 순회\n",
    "#         # find the end of this pattern\n",
    "#         end_ix = i + n_steps  # 현재 인덱스(i)에서 n_steps만큼 떨어진 시퀀스의 끝을 계산\n",
    "#         # check if we are beyond the dataset\n",
    "#         if end_ix > len(sequences):  # 시퀀스 끝이 데이터의 범위를 넘어서는지 확인\n",
    "#             break  # 범위를 넘으면 루프 종료\n",
    "#         # gather input (X) and output parts (y)\n",
    "#         seq_x = sequences[i:end_ix, :-1]  # 입력 데이터 (특징 데이터)\n",
    "#         seq_y_values = sequences[i:end_ix, -1]  # 시퀀스 동안의 출력 데이터 (레이블들)\n",
    "        \n",
    "#         # 가장 빈번하게 나온 레이블 찾기\n",
    "#         most_common_label = Counter(seq_y_values).most_common(1)[0][0]\n",
    "        \n",
    "#         X.append(seq_x)  # 입력 데이터 추가\n",
    "#         y.append(most_common_label)  # 가장 많이 나온 레이블 추가\n",
    "    \n",
    "#     return np.array(X), np.array(y)  # 리스트를 numpy 배열로 변환하여 반환"
   ]
  },
  {
   "cell_type": "code",
   "execution_count": 222,
   "id": "3b169341",
   "metadata": {
    "ExecuteTime": {
     "end_time": "2024-10-10T02:20:03.598333Z",
     "start_time": "2024-10-10T02:20:03.595388Z"
    }
   },
   "outputs": [],
   "source": [
    "# # X_train_seq_RA, y_train_seq_RA, X_test_seq_RA, y_test_seq_RA 구성\n",
    "\n",
    "# # Merge train and test X/y data to apply sequence transformation function\n",
    "# y_train_array = np.array(y_train)\n",
    "# train_set = np.c_[X_train, y_train_array]\n",
    "\n",
    "# y_test_array = np.array(y_test)\n",
    "# test_set = np.c_[X_test, y_test_array]\n",
    "\n",
    "# n_step = 3  # window 사이즈는 3로 한다\n",
    " \n",
    "# X_train_seq, y_train_seq = split_sequences(train_set, n_step)\n",
    "# print(X_train_seq.shape, y_train_seq.shape)\n",
    "\n",
    "# X_test_seq, y_test_seq = split_sequences(test_set, n_step)\n",
    "# print(X_test_seq.shape, y_test_seq.shape)"
   ]
  },
  {
   "cell_type": "code",
   "execution_count": 223,
   "id": "ab8a7a0c",
   "metadata": {
    "ExecuteTime": {
     "end_time": "2024-10-10T02:20:03.630663Z",
     "start_time": "2024-10-10T02:20:03.600843Z"
    }
   },
   "outputs": [
    {
     "name": "stdout",
     "output_type": "stream",
     "text": [
      "(4560, 20, 3)\n",
      "(4560, 20, 3)\n"
     ]
    }
   ],
   "source": [
    "from keras.preprocessing.sequence import pad_sequences\n",
    "\n",
    "# 패딩 추가 (필요한 경우)\n",
    "desired_feature_count = 60  # 예시로 20 x 3 = 60\n",
    "X_train_padded = pad_sequences(X_train.values, maxlen=desired_feature_count, padding='post', dtype='float32')\n",
    "X_test_padded = pad_sequences(X_test.values, maxlen=desired_feature_count, padding='post', dtype='float32')\n",
    "\n",
    "# reshape for CNN\n",
    "X_train_reshaped = X_train_padded.reshape(-1, 20, 3)\n",
    "X_test_reshaped = X_test_padded.reshape(-1, 20, 3)\n",
    "\n",
    "# 확인\n",
    "print(X_train_reshaped.shape)  # (samples, 20, 3)\n",
    "print(X_test_reshaped.shape)"
   ]
  },
  {
   "cell_type": "code",
   "execution_count": 224,
   "id": "9237fb69",
   "metadata": {
    "ExecuteTime": {
     "end_time": "2024-10-10T02:20:03.636813Z",
     "start_time": "2024-10-10T02:20:03.633003Z"
    }
   },
   "outputs": [],
   "source": [
    "# one hot encoding을 진행한다. (categorical crossentropy)\n",
    "\n",
    "from keras.utils import to_categorical\n",
    "\n",
    "# Convert output variables to categorical for CNN\n",
    "y_train_encoded = to_categorical(y_train)\n",
    "y_test_encoded = to_categorical(y_test)\n"
   ]
  },
  {
   "cell_type": "markdown",
   "id": "4e86156a",
   "metadata": {},
   "source": [
    "-----"
   ]
  },
  {
   "cell_type": "code",
   "execution_count": 225,
   "id": "4c9e7b26",
   "metadata": {
    "ExecuteTime": {
     "end_time": "2024-10-10T02:20:03.642785Z",
     "start_time": "2024-10-10T02:20:03.639235Z"
    }
   },
   "outputs": [],
   "source": [
    "from tensorflow.keras.models import Sequential, Model\n",
    "from tensorflow.keras.layers import (BatchNormalization, Conv1D, Activation, Flatten, Dense, \n",
    "                                     Reshape, TimeDistributed, MaxPooling1D, LSTM, Dropout, \n",
    "                                     Bidirectional, Input, GlobalAveragePooling1D, Concatenate, \n",
    "                                     MaxPool1D, Add)\n",
    "from tensorflow.keras.optimizers import Adam\n",
    "from tensorflow.keras.regularizers import l2\n",
    "from tensorflow.keras.losses import CategoricalCrossentropy"
   ]
  },
  {
   "cell_type": "code",
   "execution_count": 226,
   "id": "bf8c00a6",
   "metadata": {
    "ExecuteTime": {
     "end_time": "2024-10-10T02:20:03.649836Z",
     "start_time": "2024-10-10T02:20:03.644611Z"
    }
   },
   "outputs": [],
   "source": [
    "def transformer_encoder(inputs, head_size, num_heads, ff_dim, dropout=0):\n",
    "    # Attention and Normalization\n",
    "    x = layers.MultiHeadAttention(\n",
    "        key_dim=head_size, num_heads=num_heads, dropout=dropout\n",
    "    )(inputs, inputs)\n",
    "    x = layers.Dropout(dropout)(x)\n",
    "    x = layers.LayerNormalization(epsilon=1e-6)(x)\n",
    "    res = x + inputs  # Residual Connection\n",
    "\n",
    "    # Feed Forward Part\n",
    "    x = layers.Conv1D(filters=ff_dim, kernel_size=1, activation=\"relu\")(res)\n",
    "    x = layers.Dropout(dropout)(x)\n",
    "    x = layers.Conv1D(filters=inputs.shape[-1], kernel_size=1)(x)\n",
    "    x = layers.Dropout(dropout)(x)  # Dropout added here\n",
    "    x = layers.LayerNormalization(epsilon=1e-6)(x)  \n",
    "    return x + res  # Residual Connection again"
   ]
  },
  {
   "cell_type": "code",
   "execution_count": 227,
   "id": "40adccc0",
   "metadata": {
    "ExecuteTime": {
     "end_time": "2024-10-10T02:20:03.659530Z",
     "start_time": "2024-10-10T02:20:03.652515Z"
    }
   },
   "outputs": [],
   "source": [
    "\"\"\"\n",
    "The main part of our model is now complete. We can stack multiple of those\n",
    "`transformer_encoder` blocks and we can also proceed to add the final\n",
    "Multi-Layer Perceptron classification head. Apart from a stack of `Dense`\n",
    "layers, we need to reduce the output tensor of the `TransformerEncoder` part of\n",
    "our model down to a vector of features for each data point in the current\n",
    "batch. A common way to achieve this is to use a pooling layer. For\n",
    "this example, a `GlobalAveragePooling1D` layer is sufficient.\n",
    "\"\"\"\n",
    "\n",
    "\n",
    "def build_model(\n",
    "    input_shape,\n",
    "    head_size,\n",
    "    num_heads,\n",
    "    ff_dim,\n",
    "    num_transformer_blocks,\n",
    "    mlp_units,\n",
    "    dropout=0,\n",
    "    mlp_dropout=0,\n",
    "    n_classes=0\n",
    "):\n",
    "    inputs = keras.Input(shape=input_shape)\n",
    "    x = inputs\n",
    "    for _ in range(num_transformer_blocks):\n",
    "        x = transformer_encoder(x, head_size, num_heads, ff_dim, dropout)\n",
    "\n",
    "    x = layers.GlobalAveragePooling1D(data_format=\"channels_first\")(x)\n",
    "    for dim in mlp_units:\n",
    "        x = layers.Dense(dim, activation=\"relu\")(x)\n",
    "        x = layers.Dropout(mlp_dropout)(x)\n",
    "    \n",
    "    outputs = layers.Dense(n_classes, activation=\"softmax\")(x)\n",
    "    return keras.Model(inputs, outputs)"
   ]
  },
  {
   "cell_type": "code",
   "execution_count": 228,
   "id": "9c15937a",
   "metadata": {
    "ExecuteTime": {
     "end_time": "2024-10-10T02:20:03.925526Z",
     "start_time": "2024-10-10T02:20:03.662081Z"
    }
   },
   "outputs": [],
   "source": [
    "# modeling\n",
    "\n",
    "input_shape = (X_train_reshaped.shape[1], X_train_reshaped.shape[2])\n",
    "\n",
    "transformer = build_model(\n",
    "    input_shape,\n",
    "    head_size=256,\n",
    "    num_heads=8,\n",
    "    ff_dim=128,  # Increased feed-forward dimension\n",
    "    num_transformer_blocks=6,  # Increased number of transformer blocks\n",
    "    mlp_units=[350, 250],  # Increased MLP complexity\n",
    "    mlp_dropout=0.2,\n",
    "    dropout=0.2,\n",
    "    n_classes=19\n",
    ")"
   ]
  },
  {
   "cell_type": "code",
   "execution_count": 229,
   "id": "65869321",
   "metadata": {
    "ExecuteTime": {
     "end_time": "2024-10-10T02:20:03.933451Z",
     "start_time": "2024-10-10T02:20:03.927252Z"
    }
   },
   "outputs": [],
   "source": [
    "# compile\n",
    "\n",
    "optimizer = keras.optimizers.Adam(learning_rate=0.001)\n",
    "transformer.compile(\n",
    "    loss=\"categorical_crossentropy\",\n",
    "    optimizer=optimizer,\n",
    "    #metrics=[\"sparse_categorical_accuracy\"],\n",
    "    metrics=[\"accuracy\"],\n",
    "    run_eagerly=True\n",
    ")"
   ]
  },
  {
   "cell_type": "code",
   "execution_count": 230,
   "id": "e26d02ed",
   "metadata": {
    "ExecuteTime": {
     "end_time": "2024-10-10T02:26:58.419232Z",
     "start_time": "2024-10-10T02:20:03.934832Z"
    },
    "scrolled": false
   },
   "outputs": [
    {
     "name": "stdout",
     "output_type": "stream",
     "text": [
      "ERROR: Could not find file /var/folders/_z/gryfr07n59jgb3wrd062h1ym0000gn/T/ipykernel_76213/3210489736.py\n",
      "Epoch 1/5\n",
      "\u001b[1m29/29\u001b[0m \u001b[32m━━━━━━━━━━━━━━━━━━━━\u001b[0m\u001b[37m\u001b[0m \u001b[1m82s\u001b[0m 3s/step - accuracy: 0.2712 - loss: 2.4613 - val_accuracy: 0.6458 - val_loss: 1.0956\n",
      "Epoch 2/5\n",
      "\u001b[1m29/29\u001b[0m \u001b[32m━━━━━━━━━━━━━━━━━━━━\u001b[0m\u001b[37m\u001b[0m \u001b[1m82s\u001b[0m 3s/step - accuracy: 0.5876 - loss: 1.1828 - val_accuracy: 0.7555 - val_loss: 0.7315\n",
      "Epoch 3/5\n",
      "\u001b[1m29/29\u001b[0m \u001b[32m━━━━━━━━━━━━━━━━━━━━\u001b[0m\u001b[37m\u001b[0m \u001b[1m82s\u001b[0m 3s/step - accuracy: 0.7045 - loss: 0.8262 - val_accuracy: 0.8257 - val_loss: 0.5416\n",
      "Epoch 4/5\n",
      "\u001b[1m29/29\u001b[0m \u001b[32m━━━━━━━━━━━━━━━━━━━━\u001b[0m\u001b[37m\u001b[0m \u001b[1m84s\u001b[0m 3s/step - accuracy: 0.7851 - loss: 0.6185 - val_accuracy: 0.8947 - val_loss: 0.3482\n",
      "Epoch 5/5\n",
      "\u001b[1m29/29\u001b[0m \u001b[32m━━━━━━━━━━━━━━━━━━━━\u001b[0m\u001b[37m\u001b[0m \u001b[1m84s\u001b[0m 3s/step - accuracy: 0.8361 - loss: 0.4646 - val_accuracy: 0.8947 - val_loss: 0.3183\n"
     ]
    }
   ],
   "source": [
    "# fit\n",
    "\n",
    "from memory_profiler import profile\n",
    "\n",
    "@profile # 메모리 오버플로우로 인한 시스템 다운을 막기 위해서\n",
    "def train_model(model, X, y) :\n",
    "#     early_stopping_cb = keras.callbacks.EarlyStopping(patience=5, restore_best_weights=True)\n",
    "    \n",
    "    history = model.fit(X, y, epochs=5, \n",
    "                        validation_split=0.2,\n",
    "                        batch_size=128,\n",
    "#                         callbacks=[early_stopping_cb], \n",
    "                        verbose=True, shuffle=True)\n",
    "    \n",
    "    return history\n",
    "\n",
    "history = train_model(transformer, X_train_reshaped, y_train_encoded)\n"
   ]
  },
  {
   "cell_type": "code",
   "execution_count": 231,
   "id": "f4866859",
   "metadata": {
    "ExecuteTime": {
     "end_time": "2024-10-10T02:26:58.827085Z",
     "start_time": "2024-10-10T02:26:58.430570Z"
    }
   },
   "outputs": [
    {
     "name": "stdout",
     "output_type": "stream",
     "text": [
      "{'accuracy': [0.39391446113586426, 0.6118420958518982, 0.7223135828971863, 0.8018091917037964, 0.8382675647735596], 'loss': [1.9402402639389038, 1.0812243223190308, 0.7774020433425903, 0.5750584602355957, 0.4441356360912323], 'val_accuracy': [0.6458333134651184, 0.7554824352264404, 0.8256579041481018, 0.8947368264198303, 0.8947368264198303], 'val_loss': [1.0956348180770874, 0.7315252423286438, 0.5416284799575806, 0.3481932580471039, 0.3183249235153198]}\n"
     ]
    },
    {
     "data": {
      "image/png": "[encoded data removed]",
      "text/plain": [
       "<Figure size 1200x500 with 2 Axes>"
      ]
     },
     "metadata": {},
     "output_type": "display_data"
    }
   ],
   "source": [
    "# loss와 validation loss, acc와 validation acc를 시각화하기 위한 메소드\n",
    "\n",
    "print (history.history)\n",
    "\n",
    "def draw_history (history) :\n",
    "    fig, ax = plt.subplots(1, 2, figsize=(12, 5))\n",
    "\n",
    "    ax[0].plot(history.history['loss'], label='Loss')\n",
    "    ax[0].plot(history.history['val_loss'], label='Validation Loss')\n",
    "    ax[0].set_title('Loss')\n",
    "    ax[0].set_xlabel('Epochs')\n",
    "    ax[0].set_ylabel('Loss')\n",
    "    ax[0].legend()\n",
    "    ax[0].grid()\n",
    "\n",
    "    ax[1].plot(history.history['accuracy'], label='Accuracy')\n",
    "    ax[1].plot(history.history['val_accuracy'], label='Validation Accuracy')\n",
    "    ax[1].set_title('Accuracy')\n",
    "    ax[1].set_xlabel('Epochs')\n",
    "    ax[1].set_ylabel('Accuracy')\n",
    "    ax[1].legend()\n",
    "    ax[1].grid()\n",
    "\n",
    "    plt.tight_layout()\n",
    "    plt.show()\n",
    "\n",
    "draw_history(history)"
   ]
  },
  {
   "cell_type": "code",
   "execution_count": 233,
   "id": "79f402d0",
   "metadata": {
    "ExecuteTime": {
     "end_time": "2024-10-10T02:28:57.156366Z",
     "start_time": "2024-10-10T02:27:02.716786Z"
    }
   },
   "outputs": [
    {
     "name": "stdout",
     "output_type": "stream",
     "text": [
      "\u001b[1m143/143\u001b[0m \u001b[32m━━━━━━━━━━━━━━━━━━━━\u001b[0m\u001b[37m\u001b[0m \u001b[1m39s\u001b[0m 271ms/step - accuracy: 0.9045 - loss: 0.3069\n",
      "train score :  [0.3080064654350281, 0.902193009853363]\n",
      "\u001b[1m143/143\u001b[0m \u001b[32m━━━━━━━━━━━━━━━━━━━━\u001b[0m\u001b[37m\u001b[0m \u001b[1m38s\u001b[0m 265ms/step - accuracy: 0.8917 - loss: 0.3400\n",
      "test score :  [0.3300812542438507, 0.8910087943077087]\n",
      "\u001b[1m143/143\u001b[0m \u001b[32m━━━━━━━━━━━━━━━━━━━━\u001b[0m\u001b[37m\u001b[0m \u001b[1m38s\u001b[0m 263ms/step - accuracy: 0.8917 - loss: 0.3400\n",
      "[0.3300812542438507, 0.8910087943077087]\n"
     ]
    }
   ],
   "source": [
    "# evaulate\n",
    "\n",
    "print (\"train score : \", transformer.evaluate(X_train_reshaped, y_train_encoded))\n",
    "print (\"test score : \", transformer.evaluate(X_test_reshaped, y_test_encoded))\n",
    "\n",
    "eval = transformer.evaluate(X_test_reshaped, y_test_encoded)\n",
    "\n",
    "print(eval)"
   ]
  },
  {
   "cell_type": "code",
   "execution_count": 234,
   "id": "54cca9a6",
   "metadata": {
    "ExecuteTime": {
     "end_time": "2024-10-10T02:32:55.919467Z",
     "start_time": "2024-10-10T02:32:19.545783Z"
    },
    "scrolled": true
   },
   "outputs": [
    {
     "name": "stdout",
     "output_type": "stream",
     "text": [
      "\u001b[1m143/143\u001b[0m \u001b[32m━━━━━━━━━━━━━━━━━━━━\u001b[0m\u001b[37m\u001b[0m \u001b[1m36s\u001b[0m 250ms/step\n",
      "Confusion Matrix\n"
     ]
    },
    {
     "data": {
      "image/png": "[encoded data removed]",
      "text/plain": [
       "<Figure size 800x600 with 2 Axes>"
      ]
     },
     "metadata": {},
     "output_type": "display_data"
    },
    {
     "name": "stdout",
     "output_type": "stream",
     "text": [
      "              precision    recall  f1-score   support\n",
      "\n",
      "           0       0.96      0.97      0.96       230\n",
      "           1       0.86      0.64      0.73       214\n",
      "           2       0.86      0.93      0.89       244\n",
      "           3       1.00      1.00      1.00       241\n",
      "           4       0.99      0.99      0.99       246\n",
      "           5       0.89      0.96      0.92       251\n",
      "           6       1.00      0.96      0.98       225\n",
      "           7       1.00      1.00      1.00       237\n",
      "           8       1.00      1.00      1.00       252\n",
      "           9       0.88      0.39      0.54       250\n",
      "          10       1.00      1.00      1.00       253\n",
      "          11       0.98      1.00      0.99       246\n",
      "          12       1.00      1.00      1.00       242\n",
      "          13       0.65      0.97      0.78       225\n",
      "          14       0.68      0.64      0.66       233\n",
      "          15       0.88      0.91      0.89       240\n",
      "          16       0.89      0.65      0.75       248\n",
      "          17       0.75      0.96      0.84       237\n",
      "          18       0.80      0.96      0.87       246\n",
      "\n",
      "    accuracy                           0.89      4560\n",
      "   macro avg       0.90      0.89      0.88      4560\n",
      "weighted avg       0.90      0.89      0.89      4560\n",
      "\n"
     ]
    }
   ],
   "source": [
    "# confusion matrix, classification report, accuracy\n",
    "\n",
    "from sklearn.metrics import confusion_matrix, classification_report, accuracy_score\n",
    "\n",
    "y_test_arg = np.argmax(y_test_encoded, axis=1)\n",
    "Y_pred = np.argmax(transformer.predict(X_test_reshaped) ,axis=1)\n",
    "print ('Confusion Matrix')\n",
    "cm = confusion_matrix(y_test_arg, Y_pred)\n",
    "\n",
    "# confusion matrix 시각화\n",
    "plt.figure(figsize=(8, 6))  # 그래프 크기 조절 (너비 8, 높이 6)\n",
    "sns.heatmap(cm, annot=True, fmt=\"d\", cmap=\"Blues\")\n",
    "plt.show()\n",
    "\n",
    "# classification report\n",
    "report = classification_report(y_test_arg, Y_pred)\n",
    "print (report)"
   ]
  }
 ],
 "metadata": {
  "kernelspec": {
   "display_name": "Python 3 (ipykernel)",
   "language": "python",
   "name": "python3"
  },
  "language_info": {
   "codemirror_mode": {
    "name": "ipython",
    "version": 3
   },
   "file_extension": ".py",
   "mimetype": "text/x-python",
   "name": "python",
   "nbconvert_exporter": "python",
   "pygments_lexer": "ipython3",
   "version": "3.11.3"
  },
  "varInspector": {
   "cols": {
    "lenName": 16,
    "lenType": 16,
    "lenVar": 40
   },
   "kernels_config": {
    "python": {
     "delete_cmd_postfix": "",
     "delete_cmd_prefix": "del ",
     "library": "var_list.py",
     "varRefreshCmd": "print(var_dic_list())"
    },
    "r": {
     "delete_cmd_postfix": ") ",
     "delete_cmd_prefix": "rm(",
     "library": "var_list.r",
     "varRefreshCmd": "cat(var_dic_list()) "
    }
   },
   "types_to_exclude": [
    "module",
    "function",
    "builtin_function_or_method",
    "instance",
    "_Feature"
   ],
   "window_display": false
  }
 },
 "nbformat": 4,
 "nbformat_minor": 5
}
