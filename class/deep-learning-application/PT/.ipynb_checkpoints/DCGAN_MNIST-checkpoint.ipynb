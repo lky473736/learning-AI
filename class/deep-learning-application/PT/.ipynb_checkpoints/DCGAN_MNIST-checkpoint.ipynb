{
 "cells": [
  {
   "cell_type": "markdown",
   "id": "2685c1ce",
   "metadata": {},
   "source": [
    "## learning-AI : deep learning application (61357002)\n",
    "### PT : MNIST DCGAN\n",
    "\n",
    "**MNIST 데이터셋을 이용하여 DCGAN 실습**\n",
    "\n",
    "<br>\n",
    "\n",
    "- **임규연 (lky473736)**\n",
    "- 2024.10.30.에 문서 작성\n",
    "- **Reference**\n",
    "    - https://github.com/shinyflight/Simple-GAN-TensorFlow-2.0/blob/master/GAN.py\n",
    "    - https://ddongwon.tistory.com/124\n",
    "    - https://colab.research.google.com/drive/12CqGv89Z14jXR5RHLFI9XAEXQ4YhlK5R?source=post_page-----a073a5425ef2--------------------------------#scrollTo=a891995d-3de8-45a7-b88c-4a24a65a4547\n",
    "   \n",
    "\n",
    "## <span id='dl'><mark>DL</mark></span>\n",
    "\n",
    "MNIST dataset을 이용하여 적대적 생성 신경망인 **GAN : Generative Adversarial Networks을 실습**해본다. GAN은 두 개의 신경망, 즉 **생성기(Generator)와 판별기(Discriminator)로 구성**되어 있다. 생성기는 랜덤 노이즈(z)를 입력으로 받아 가짜 이미지를 생성하는 역할을 하며, 그 목표는 판별기를 속일 수 있는 진짜 같은 이미지를 만들어내는 것이다. 반면, 판별기는 진짜 이미지와 생성기가 만든 가짜 이미지를 입력받아 이들이 진짜인지 가짜인지 구별하는 역할을 하며, 진짜와 가짜 이미지를 정확히 분류하는 것이 목표이다.\n",
    "\n",
    "<br>\n",
    "\n",
    "GAN 중에서 CNN, Convolution neural network으로만 구성된 DCGAN을 본 노트북 파일에서 실습한다. DCGAN은 깊은 컨볼루션 신경망을 기반으로 하여 이미지 생성 품질을 향상시키는 모델이다. 이 모델은 컨볼루션 레이어를 사용하여 생성기와 판별기를 구성하며, 이는 고해상도의 이미지를 생성하는 데 유리하다.\n"
   ]
  },
  {
   "cell_type": "code",
   "execution_count": 85,
   "id": "d4fac014",
   "metadata": {
    "ExecuteTime": {
     "end_time": "2024-10-30T17:08:52.873398Z",
     "start_time": "2024-10-30T17:08:52.870138Z"
    }
   },
   "outputs": [],
   "source": [
    "import pandas as pd\n",
    "from sklearn.model_selection import StratifiedShuffleSplit\n",
    "from scipy.stats import skew\n",
    "import os\n",
    "import csv\n",
    "import matplotlib.pyplot as plt\n",
    "import seaborn as sns\n",
    "import tensorflow as tf\n",
    "from tensorflow import keras\n",
    "import numpy as np\n",
    "import scipy\n",
    "from tqdm import tqdm\n",
    "from tensorflow.keras import layers, models, optimizers"
   ]
  },
  {
   "cell_type": "code",
   "execution_count": 86,
   "id": "2257c101",
   "metadata": {
    "ExecuteTime": {
     "end_time": "2024-10-30T17:08:52.880517Z",
     "start_time": "2024-10-30T17:08:52.876395Z"
    }
   },
   "outputs": [],
   "source": [
    "import tensorflow as tf\n",
    "from tensorflow import keras\n",
    "from tensorflow.keras import layers\n",
    "\n",
    "# cnn model vary kernel size\n",
    "from numpy import mean\n",
    "from numpy import std\n",
    "from numpy import dstack\n",
    "from pandas import read_csv\n",
    "from matplotlib import pyplot\n",
    "from tensorflow.keras.models import Sequential\n",
    "from tensorflow.keras.layers import Dense\n",
    "from tensorflow.keras.layers import Flatten\n",
    "from tensorflow.keras.layers import Dropout\n",
    "from keras.utils import to_categorical\n",
    "\n",
    "import tensorflow.keras\n",
    "from tensorflow.keras.models import Sequential\n",
    "from tensorflow.keras.layers import Dense, Dropout, Flatten, Reshape, LSTM, Conv1D, MaxPooling1D\n",
    "from tensorflow.keras.layers import TimeDistributed, Conv1D, MaxPooling1D\n"
   ]
  },
  {
   "cell_type": "code",
   "execution_count": 87,
   "id": "f6f30172",
   "metadata": {
    "ExecuteTime": {
     "end_time": "2024-10-30T17:08:52.885503Z",
     "start_time": "2024-10-30T17:08:52.882510Z"
    }
   },
   "outputs": [],
   "source": [
    "import tensorflow as tf\n",
    "from tensorflow.keras.layers import Dense, LeakyReLU, Reshape, Flatten\n",
    "from tensorflow.keras.datasets import mnist\n",
    "import numpy as np\n",
    "import matplotlib.pyplot as plt"
   ]
  },
  {
   "cell_type": "code",
   "execution_count": 88,
   "id": "da443e2b",
   "metadata": {
    "ExecuteTime": {
     "end_time": "2024-10-30T17:08:52.891646Z",
     "start_time": "2024-10-30T17:08:52.888606Z"
    }
   },
   "outputs": [],
   "source": [
    "import numpy as np\n",
    "import matplotlib.pyplot as plt\n",
    "from keras.datasets import mnist\n",
    "from keras.models import Sequential\n",
    "from keras.layers import Dense, Reshape, Flatten, Dropout\n",
    "from keras.layers import BatchNormalization\n",
    "from keras.optimizers import Adam\n"
   ]
  },
  {
   "cell_type": "code",
   "execution_count": 103,
   "id": "ef16c265",
   "metadata": {
    "ExecuteTime": {
     "end_time": "2024-10-30T17:10:34.800222Z",
     "start_time": "2024-10-30T17:10:34.796427Z"
    }
   },
   "outputs": [],
   "source": [
    "\n",
    "from keras.models import Model, Sequential, load_model\n",
    "from keras.layers import Conv2D,  Dropout, Flatten, Dense, Input\n",
    "from keras.layers import LeakyReLU\n",
    "from keras.datasets import mnist\n",
    "from keras.optimizers import Adam, RMSprop\n",
    "from keras.models import Model, Sequential, load_model\n",
    "from keras.layers import Conv2D, Conv2DTranspose, Dropout, Flatten, Dense, Input, LeakyReLU, Activation, BatchNormalization, Reshape, UpSampling2D\n",
    "from keras.datasets import mnist\n",
    "from keras.optimizers import Adam, RMSprop\n"
   ]
  },
  {
   "cell_type": "markdown",
   "id": "eda97f78",
   "metadata": {},
   "source": [
    "-----"
   ]
  },
  {
   "attachments": {},
   "cell_type": "markdown",
   "id": "ff546bfd",
   "metadata": {},
   "source": [
    "### DCGAN\n",
    "\n",
    "<img src=\"https://camo.githubusercontent.com/cc94c3aa25068d89dcdbd6cc32066d41281ac226a6a6713bd098d5ee79cc55c1/68747470733a2f2f70726f64756374696f6e2d6d656469612e70617065727377697468636f64652e636f6d2f6d6574686f64732f53637265656e5f53686f745f323032302d30372d30315f61745f31312e32372e35315f504d5f496f47626f31692e706e67\" width=\"400px\">\n",
    "\n",
    "결국에 DCGAN과 GAN은 위와 같은 구조로 이루어져 있으며, GAN에서 각 Dense layer를 Convolution layer로 변경한 것이다. 둘의 차이를 표로 정리해보자면 아래와 같다.\n",
    "\n",
    "<img src=\"comparison_gan_dcgan.png\" width=\"600px\">\n",
    "\n",
    "DCGAN(Deep Convolutional Generative Adversarial Network)과 GAN(Generative Adversarial Network)의 주요 차이점은 아키텍처에 있다. 일반 GAN은 밀집층(Dense Layer)을 사용하여 이미지를 생성하는 반면, DCGAN은 컨볼루션 신경망(CNN)을 기반으로 하여 이미지의 공간적 특성을 더 잘 반영한다. \n",
    "\n",
    "DCGAN은 생성자와 판별자 모두에 컨볼루션 레이어를 적용하여 이미지를 생성하고 판별하는 데 있어 더욱 효과적인 성능을 보여준다. 또한, DCGAN은 배치 정규화(Batch Normalization)와 ReLU 활성화 함수를 사용하여 학습 과정을 안정화하고 성능을 개선한다. 이러한 특징 덕분에 DCGAN은 보다 선명하고 품질 높은 이미지를 생성하는 데 유리하다."
   ]
  },
  {
   "cell_type": "code",
   "execution_count": 104,
   "id": "6090df01",
   "metadata": {
    "ExecuteTime": {
     "end_time": "2024-10-30T17:10:35.874090Z",
     "start_time": "2024-10-30T17:10:35.572714Z"
    }
   },
   "outputs": [],
   "source": [
    "# Load the dataset (MNIST)\n",
    "(x_train, _), (_, _) = tf.keras.datasets.mnist.load_data()  # Load MNIST dataset, ignore test labels\n",
    "x_train = x_train / 255.0  # Normalize images to the range [0, 1] for better training\n",
    "x_train = np.expand_dims(x_train, axis=-1)  # Add a channel dimension (shape: [batch_size, 28, 28, 1])"
   ]
  },
  {
   "cell_type": "code",
   "execution_count": 105,
   "id": "8ac46e02",
   "metadata": {
    "ExecuteTime": {
     "end_time": "2024-10-30T17:10:36.005543Z",
     "start_time": "2024-10-30T17:10:35.999189Z"
    }
   },
   "outputs": [],
   "source": [
    "# def build_generator():\n",
    "#     model = tf.keras.Sequential()\n",
    "#     model.add(tf.keras.layers.Dense(128 * 7 * 7, input_dim=100))  # 100은 노이즈 벡터의 차원\n",
    "#     model.add(tf.keras.layers.Reshape((7, 7, 128)))\n",
    "#     model.add(tf.keras.layers.Conv2DTranspose(128, (5, 5), strides=(1, 1), padding='same'))\n",
    "#     model.add(tf.keras.layers.BatchNormalization())\n",
    "#     model.add(tf.keras.layers.ReLU())\n",
    "#     model.add(tf.keras.layers.Conv2DTranspose(64, (5, 5), strides=(2, 2), padding='same'))\n",
    "#     model.add(tf.keras.layers.BatchNormalization())\n",
    "#     model.add(tf.keras.layers.ReLU())\n",
    "#     model.add(tf.keras.layers.Conv2DTranspose(1, (5, 5), strides=(2, 2), padding='same', activation='tanh'))  # MNIST는 -1~1로 정규화됨\n",
    "\n",
    "#     return model\n",
    "\n",
    "def build_generator(seed_size,channels):\n",
    "\n",
    "  model = Sequential()\n",
    "  model.add(Dense(7*7*256, input_dim=seed_size))\n",
    "  model.add(BatchNormalization(momentum=0.9))\n",
    "  model.add(Activation('relu'))\n",
    "\n",
    "  model.add(Reshape((7,7,256)))\n",
    "  model.add(Dropout(0.4))\n",
    "\n",
    "  model.add(Conv2DTranspose(128,(5,5),padding='same'))\n",
    "  model.add(BatchNormalization(momentum=0.9))\n",
    "  model.add(Activation('relu'))\n",
    "  model.add(UpSampling2D())\n",
    "\n",
    "  model.add(Conv2DTranspose(64,(3,3),padding='same'))\n",
    "  model.add(BatchNormalization(momentum=0.9))\n",
    "  model.add(Activation('relu'))\n",
    "  model.add(UpSampling2D())\n",
    "\n",
    "  model.add(Conv2DTranspose(32,(3,3),padding='same'))\n",
    "  model.add(BatchNormalization(momentum=0.9))\n",
    "  model.add(Activation('relu'))\n",
    "\n",
    "  model.add(Conv2DTranspose(1,(3,3),padding='same'))\n",
    "  model.add(Activation('sigmoid'))\n",
    "\n",
    "  input = Input(shape=(seed_size,))\n",
    "\n",
    "  generated_image = model(input)\n",
    "\n",
    "  #model.summary()\n",
    "\n",
    "  return(Model(input,generated_image))"
   ]
  },
  {
   "cell_type": "code",
   "execution_count": 106,
   "id": "0bb35111",
   "metadata": {
    "ExecuteTime": {
     "end_time": "2024-10-30T17:10:36.562588Z",
     "start_time": "2024-10-30T17:10:36.556552Z"
    }
   },
   "outputs": [],
   "source": [
    "# def build_discriminator():\n",
    "#     model = tf.keras.Sequential()\n",
    "#     model.add(tf.keras.layers.Conv2D(64, (5, 5), strides=(2, 2), padding='same', input_shape=(28, 28, 1)))\n",
    "#     model.add(tf.keras.layers.LeakyReLU(alpha=0.2))\n",
    "#     model.add(tf.keras.layers.Dropout(0.3))\n",
    "#     model.add(tf.keras.layers.Conv2D(128, (5, 5), strides=(2, 2), padding='same'))\n",
    "#     model.add(tf.keras.layers.LeakyReLU(alpha=0.2))\n",
    "#     model.add(tf.keras.layers.Dropout(0.3))\n",
    "#     model.add(tf.keras.layers.Flatten())\n",
    "#     model.add(tf.keras.layers.Dense(1, activation='sigmoid'))\n",
    "\n",
    "#     return model\n",
    "\n",
    "\n",
    "def build_discriminator(image_shape):\n",
    "\n",
    "  input_shape = image_shape\n",
    "  model = Sequential()\n",
    "  model.add(Conv2D(64, (3,3), strides=2, padding='same', input_shape=input_shape))\n",
    "  model.add(LeakyReLU(alpha=0.2))\n",
    "  model.add(Dropout(0.4))\n",
    "\n",
    "  model.add(Conv2D(128,(3,3), strides=2, padding='same'))\n",
    "  model.add(LeakyReLU(alpha=0.2))\n",
    "  model.add(Dropout(0.4))\n",
    "\n",
    "  model.add(Conv2D(256, (3,3), strides=2, padding='same'))\n",
    "  model.add(LeakyReLU(alpha=0.2))\n",
    "  model.add(Dropout(0.4))\n",
    "\n",
    "  model.add(Conv2D(512, (3,3), padding='same'))\n",
    "  model.add(LeakyReLU(alpha=0.2))\n",
    "  model.add(Dropout(0.4))\n",
    "\n",
    "  model.add(Flatten())\n",
    "\n",
    "  model.add(Dense(1,activation='sigmoid'))\n",
    "\n",
    "  #output = model\n",
    "  #inp = Input(shape=input_shape) \n",
    "\n",
    "  \n",
    "  #model.summary()\n",
    "\n",
    "  input_image = Input(shape=input_shape)\n",
    "\n",
    "  validity = model(input_image)\n",
    "\n",
    "  return Model(input_image,validity)"
   ]
  },
  {
   "cell_type": "code",
   "execution_count": 108,
   "id": "ad1bb650",
   "metadata": {
    "ExecuteTime": {
     "end_time": "2024-10-30T17:11:00.338728Z",
     "start_time": "2024-10-30T17:11:00.061927Z"
    }
   },
   "outputs": [
    {
     "name": "stderr",
     "output_type": "stream",
     "text": [
      "/Library/Frameworks/Python.framework/Versions/3.11/lib/python3.11/site-packages/keras/src/layers/core/dense.py:87: UserWarning: Do not pass an `input_shape`/`input_dim` argument to a layer. When using Sequential models, prefer using an `Input(shape)` object as the first layer in the model instead.\n",
      "  super().__init__(activity_regularizer=activity_regularizer, **kwargs)\n",
      "/Library/Frameworks/Python.framework/Versions/3.11/lib/python3.11/site-packages/keras/src/layers/convolutional/base_conv.py:107: UserWarning: Do not pass an `input_shape`/`input_dim` argument to a layer. When using Sequential models, prefer using an `Input(shape)` object as the first layer in the model instead.\n",
      "  super().__init__(activity_regularizer=activity_regularizer, **kwargs)\n",
      "/Library/Frameworks/Python.framework/Versions/3.11/lib/python3.11/site-packages/keras/src/layers/activations/leaky_relu.py:41: UserWarning: Argument `alpha` is deprecated. Use `negative_slope` instead.\n",
      "  warnings.warn(\n"
     ]
    },
    {
     "data": {
      "text/html": [
       "<pre style=\"white-space:pre;overflow-x:auto;line-height:normal;font-family:Menlo,'DejaVu Sans Mono',consolas,'Courier New',monospace\"><span style=\"font-weight: bold\">Model: \"functional_113\"</span>\n",
       "</pre>\n"
      ],
      "text/plain": [
       "\u001b[1mModel: \"functional_113\"\u001b[0m\n"
      ]
     },
     "metadata": {},
     "output_type": "display_data"
    },
    {
     "data": {
      "text/html": [
       "<pre style=\"white-space:pre;overflow-x:auto;line-height:normal;font-family:Menlo,'DejaVu Sans Mono',consolas,'Courier New',monospace\">┏━━━━━━━━━━━━━━━━━━━━━━━━━━━━━━━━━┳━━━━━━━━━━━━━━━━━━━━━━━━┳━━━━━━━━━━━━━━━┓\n",
       "┃<span style=\"font-weight: bold\"> Layer (type)                    </span>┃<span style=\"font-weight: bold\"> Output Shape           </span>┃<span style=\"font-weight: bold\">       Param # </span>┃\n",
       "┡━━━━━━━━━━━━━━━━━━━━━━━━━━━━━━━━━╇━━━━━━━━━━━━━━━━━━━━━━━━╇━━━━━━━━━━━━━━━┩\n",
       "│ input_layer_15 (<span style=\"color: #0087ff; text-decoration-color: #0087ff\">InputLayer</span>)     │ (<span style=\"color: #00d7ff; text-decoration-color: #00d7ff\">None</span>, <span style=\"color: #00af00; text-decoration-color: #00af00\">100</span>)            │             <span style=\"color: #00af00; text-decoration-color: #00af00\">0</span> │\n",
       "├─────────────────────────────────┼────────────────────────┼───────────────┤\n",
       "│ sequential_13 (<span style=\"color: #0087ff; text-decoration-color: #0087ff\">Sequential</span>)      │ (<span style=\"color: #00d7ff; text-decoration-color: #00d7ff\">None</span>, <span style=\"color: #00af00; text-decoration-color: #00af00\">28</span>, <span style=\"color: #00af00; text-decoration-color: #00af00\">28</span>, <span style=\"color: #00af00; text-decoration-color: #00af00\">1</span>)      │     <span style=\"color: #00af00; text-decoration-color: #00af00\">2,229,889</span> │\n",
       "└─────────────────────────────────┴────────────────────────┴───────────────┘\n",
       "</pre>\n"
      ],
      "text/plain": [
       "┏━━━━━━━━━━━━━━━━━━━━━━━━━━━━━━━━━┳━━━━━━━━━━━━━━━━━━━━━━━━┳━━━━━━━━━━━━━━━┓\n",
       "┃\u001b[1m \u001b[0m\u001b[1mLayer (type)                   \u001b[0m\u001b[1m \u001b[0m┃\u001b[1m \u001b[0m\u001b[1mOutput Shape          \u001b[0m\u001b[1m \u001b[0m┃\u001b[1m \u001b[0m\u001b[1m      Param #\u001b[0m\u001b[1m \u001b[0m┃\n",
       "┡━━━━━━━━━━━━━━━━━━━━━━━━━━━━━━━━━╇━━━━━━━━━━━━━━━━━━━━━━━━╇━━━━━━━━━━━━━━━┩\n",
       "│ input_layer_15 (\u001b[38;5;33mInputLayer\u001b[0m)     │ (\u001b[38;5;45mNone\u001b[0m, \u001b[38;5;34m100\u001b[0m)            │             \u001b[38;5;34m0\u001b[0m │\n",
       "├─────────────────────────────────┼────────────────────────┼───────────────┤\n",
       "│ sequential_13 (\u001b[38;5;33mSequential\u001b[0m)      │ (\u001b[38;5;45mNone\u001b[0m, \u001b[38;5;34m28\u001b[0m, \u001b[38;5;34m28\u001b[0m, \u001b[38;5;34m1\u001b[0m)      │     \u001b[38;5;34m2,229,889\u001b[0m │\n",
       "└─────────────────────────────────┴────────────────────────┴───────────────┘\n"
      ]
     },
     "metadata": {},
     "output_type": "display_data"
    },
    {
     "data": {
      "text/html": [
       "<pre style=\"white-space:pre;overflow-x:auto;line-height:normal;font-family:Menlo,'DejaVu Sans Mono',consolas,'Courier New',monospace\"><span style=\"font-weight: bold\"> Total params: </span><span style=\"color: #00af00; text-decoration-color: #00af00\">2,229,889</span> (8.51 MB)\n",
       "</pre>\n"
      ],
      "text/plain": [
       "\u001b[1m Total params: \u001b[0m\u001b[38;5;34m2,229,889\u001b[0m (8.51 MB)\n"
      ]
     },
     "metadata": {},
     "output_type": "display_data"
    },
    {
     "data": {
      "text/html": [
       "<pre style=\"white-space:pre;overflow-x:auto;line-height:normal;font-family:Menlo,'DejaVu Sans Mono',consolas,'Courier New',monospace\"><span style=\"font-weight: bold\"> Trainable params: </span><span style=\"color: #00af00; text-decoration-color: #00af00\">2,204,353</span> (8.41 MB)\n",
       "</pre>\n"
      ],
      "text/plain": [
       "\u001b[1m Trainable params: \u001b[0m\u001b[38;5;34m2,204,353\u001b[0m (8.41 MB)\n"
      ]
     },
     "metadata": {},
     "output_type": "display_data"
    },
    {
     "data": {
      "text/html": [
       "<pre style=\"white-space:pre;overflow-x:auto;line-height:normal;font-family:Menlo,'DejaVu Sans Mono',consolas,'Courier New',monospace\"><span style=\"font-weight: bold\"> Non-trainable params: </span><span style=\"color: #00af00; text-decoration-color: #00af00\">25,536</span> (99.75 KB)\n",
       "</pre>\n"
      ],
      "text/plain": [
       "\u001b[1m Non-trainable params: \u001b[0m\u001b[38;5;34m25,536\u001b[0m (99.75 KB)\n"
      ]
     },
     "metadata": {},
     "output_type": "display_data"
    },
    {
     "data": {
      "text/html": [
       "<pre style=\"white-space:pre;overflow-x:auto;line-height:normal;font-family:Menlo,'DejaVu Sans Mono',consolas,'Courier New',monospace\"><span style=\"font-weight: bold\">Model: \"functional_128\"</span>\n",
       "</pre>\n"
      ],
      "text/plain": [
       "\u001b[1mModel: \"functional_128\"\u001b[0m\n"
      ]
     },
     "metadata": {},
     "output_type": "display_data"
    },
    {
     "data": {
      "text/html": [
       "<pre style=\"white-space:pre;overflow-x:auto;line-height:normal;font-family:Menlo,'DejaVu Sans Mono',consolas,'Courier New',monospace\">┏━━━━━━━━━━━━━━━━━━━━━━━━━━━━━━━━━┳━━━━━━━━━━━━━━━━━━━━━━━━┳━━━━━━━━━━━━━━━┓\n",
       "┃<span style=\"font-weight: bold\"> Layer (type)                    </span>┃<span style=\"font-weight: bold\"> Output Shape           </span>┃<span style=\"font-weight: bold\">       Param # </span>┃\n",
       "┡━━━━━━━━━━━━━━━━━━━━━━━━━━━━━━━━━╇━━━━━━━━━━━━━━━━━━━━━━━━╇━━━━━━━━━━━━━━━┩\n",
       "│ input_layer_17 (<span style=\"color: #0087ff; text-decoration-color: #0087ff\">InputLayer</span>)     │ (<span style=\"color: #00d7ff; text-decoration-color: #00d7ff\">None</span>, <span style=\"color: #00af00; text-decoration-color: #00af00\">28</span>, <span style=\"color: #00af00; text-decoration-color: #00af00\">28</span>, <span style=\"color: #00af00; text-decoration-color: #00af00\">1</span>)      │             <span style=\"color: #00af00; text-decoration-color: #00af00\">0</span> │\n",
       "├─────────────────────────────────┼────────────────────────┼───────────────┤\n",
       "│ sequential_14 (<span style=\"color: #0087ff; text-decoration-color: #0087ff\">Sequential</span>)      │ (<span style=\"color: #00d7ff; text-decoration-color: #00d7ff\">None</span>, <span style=\"color: #00af00; text-decoration-color: #00af00\">1</span>)              │     <span style=\"color: #00af00; text-decoration-color: #00af00\">1,558,017</span> │\n",
       "└─────────────────────────────────┴────────────────────────┴───────────────┘\n",
       "</pre>\n"
      ],
      "text/plain": [
       "┏━━━━━━━━━━━━━━━━━━━━━━━━━━━━━━━━━┳━━━━━━━━━━━━━━━━━━━━━━━━┳━━━━━━━━━━━━━━━┓\n",
       "┃\u001b[1m \u001b[0m\u001b[1mLayer (type)                   \u001b[0m\u001b[1m \u001b[0m┃\u001b[1m \u001b[0m\u001b[1mOutput Shape          \u001b[0m\u001b[1m \u001b[0m┃\u001b[1m \u001b[0m\u001b[1m      Param #\u001b[0m\u001b[1m \u001b[0m┃\n",
       "┡━━━━━━━━━━━━━━━━━━━━━━━━━━━━━━━━━╇━━━━━━━━━━━━━━━━━━━━━━━━╇━━━━━━━━━━━━━━━┩\n",
       "│ input_layer_17 (\u001b[38;5;33mInputLayer\u001b[0m)     │ (\u001b[38;5;45mNone\u001b[0m, \u001b[38;5;34m28\u001b[0m, \u001b[38;5;34m28\u001b[0m, \u001b[38;5;34m1\u001b[0m)      │             \u001b[38;5;34m0\u001b[0m │\n",
       "├─────────────────────────────────┼────────────────────────┼───────────────┤\n",
       "│ sequential_14 (\u001b[38;5;33mSequential\u001b[0m)      │ (\u001b[38;5;45mNone\u001b[0m, \u001b[38;5;34m1\u001b[0m)              │     \u001b[38;5;34m1,558,017\u001b[0m │\n",
       "└─────────────────────────────────┴────────────────────────┴───────────────┘\n"
      ]
     },
     "metadata": {},
     "output_type": "display_data"
    },
    {
     "data": {
      "text/html": [
       "<pre style=\"white-space:pre;overflow-x:auto;line-height:normal;font-family:Menlo,'DejaVu Sans Mono',consolas,'Courier New',monospace\"><span style=\"font-weight: bold\"> Total params: </span><span style=\"color: #00af00; text-decoration-color: #00af00\">1,558,017</span> (5.94 MB)\n",
       "</pre>\n"
      ],
      "text/plain": [
       "\u001b[1m Total params: \u001b[0m\u001b[38;5;34m1,558,017\u001b[0m (5.94 MB)\n"
      ]
     },
     "metadata": {},
     "output_type": "display_data"
    },
    {
     "data": {
      "text/html": [
       "<pre style=\"white-space:pre;overflow-x:auto;line-height:normal;font-family:Menlo,'DejaVu Sans Mono',consolas,'Courier New',monospace\"><span style=\"font-weight: bold\"> Trainable params: </span><span style=\"color: #00af00; text-decoration-color: #00af00\">1,558,017</span> (5.94 MB)\n",
       "</pre>\n"
      ],
      "text/plain": [
       "\u001b[1m Trainable params: \u001b[0m\u001b[38;5;34m1,558,017\u001b[0m (5.94 MB)\n"
      ]
     },
     "metadata": {},
     "output_type": "display_data"
    },
    {
     "data": {
      "text/html": [
       "<pre style=\"white-space:pre;overflow-x:auto;line-height:normal;font-family:Menlo,'DejaVu Sans Mono',consolas,'Courier New',monospace\"><span style=\"font-weight: bold\"> Non-trainable params: </span><span style=\"color: #00af00; text-decoration-color: #00af00\">0</span> (0.00 B)\n",
       "</pre>\n"
      ],
      "text/plain": [
       "\u001b[1m Non-trainable params: \u001b[0m\u001b[38;5;34m0\u001b[0m (0.00 B)\n"
      ]
     },
     "metadata": {},
     "output_type": "display_data"
    }
   ],
   "source": [
    "generator = build_generator(100, 1)\n",
    "discriminator = build_discriminator((28, 28, 1))\n",
    "\n",
    "generator.summary()\n",
    "discriminator.summary()"
   ]
  },
  {
   "cell_type": "code",
   "execution_count": 109,
   "id": "aa8ce5d1",
   "metadata": {
    "ExecuteTime": {
     "end_time": "2024-10-30T17:11:09.252787Z",
     "start_time": "2024-10-30T17:11:09.246569Z"
    }
   },
   "outputs": [],
   "source": [
    "# Optimizers for both generator and discriminator\n",
    "generator_optimizer = optimizers.Adam(learning_rate=0.0001)\n",
    "discriminator_optimizer = optimizers.Adam(learning_rate=0.0001)"
   ]
  },
  {
   "cell_type": "code",
   "execution_count": 110,
   "id": "9b376c3d",
   "metadata": {
    "ExecuteTime": {
     "end_time": "2024-10-30T17:11:09.757043Z",
     "start_time": "2024-10-30T17:11:09.750646Z"
    }
   },
   "outputs": [],
   "source": [
    "loss_fn = tf.keras.losses.BinaryCrossentropy(from_logits=False)  #For binary classification tasks (real vs fake)\n",
    "\n",
    "# Custom training loop for GAN\n",
    "@tf.function  # For optimization (Tensorflow decorator)\n",
    "def train_step(real_images):\n",
    "    batch_size = tf.shape(real_images)[0]  # Get the current batch size\n",
    "\n",
    "    # Generate fake images\n",
    "    random_noise = tf.random.normal([batch_size, 100])  # Sample random noise\n",
    "    generated_images = generator(random_noise)  # Generate images from noise\n",
    "\n",
    "    real_labels = tf.ones((batch_size, 1))  # Labels for real images (1)\n",
    "    fake_labels = tf.zeros((batch_size, 1))  # Labels for fake images (0)\n",
    "\n",
    "    # Train the discriminator on real images\n",
    "    with tf.GradientTape() as disc_tape: #automatically computes gradients as we go for various steps\n",
    "        real_output = discriminator(real_images)  # Get discriminator's output for real images\n",
    "        fake_output = discriminator(generated_images)  # Get output for generated images\n",
    "        disc_real_loss = loss_fn(real_labels, real_output)  # Calculate loss for real images\n",
    "        disc_fake_loss = loss_fn(fake_labels, fake_output)  # Calculate loss for fake images\n",
    "        disc_loss = (disc_real_loss + disc_fake_loss) / 2  # Average loss\n",
    "\n",
    "    # Apply gradients to the discriminator\n",
    "    gradients_of_discriminator = disc_tape.gradient(disc_loss, discriminator.trainable_variables)  # Compute gradients of disc_loss wrt trainable variables (weights)\n",
    "    discriminator_optimizer.apply_gradients(zip(gradients_of_discriminator, discriminator.trainable_variables))  # Update weights\n",
    "\n",
    "    # Train the generator (wants the discriminator to classify the fake images as real)\n",
    "    misleading_labels = tf.ones((batch_size, 1))  # Generator's goal is to produce images classified as real\n",
    "    with tf.GradientTape() as gen_tape:\n",
    "        generated_images = generator(random_noise)  # Generate new images\n",
    "        fake_output = discriminator(generated_images)  # Discriminator's output for generated images\n",
    "        gen_loss = loss_fn(misleading_labels, fake_output)  # Calculate loss for generator\n",
    "    \n",
    "    # Apply gradients to the generator\n",
    "    gradients_of_generator = gen_tape.gradient(gen_loss, generator.trainable_variables)  # Compute gradients\n",
    "    generator_optimizer.apply_gradients(zip(gradients_of_generator, generator.trainable_variables))  # Update weights\n",
    "\n",
    "    return disc_loss, gen_loss"
   ]
  },
  {
   "cell_type": "code",
   "execution_count": 111,
   "id": "9ca2c065",
   "metadata": {
    "ExecuteTime": {
     "end_time": "2024-10-30T17:11:10.243411Z",
     "start_time": "2024-10-30T17:11:10.239054Z"
    }
   },
   "outputs": [],
   "source": [
    "# Training function for the entire GAN model\n",
    "def train_gan(generator, discriminator, dataset, epochs, batch_size):\n",
    "    disc_losses = []\n",
    "    gen_losses = []\n",
    "\n",
    "    for epoch in range(epochs):\n",
    "        for real_images in dataset:\n",
    "            d_loss, g_loss = train_step(real_images)\n",
    "        \n",
    "        disc_losses.append(d_loss.numpy())\n",
    "        gen_losses.append(g_loss.numpy())\n",
    "\n",
    "        print(f\"Epoch {epoch+1}, Discriminator Loss: {d_loss.numpy()}, Generator Loss: {g_loss.numpy()}\")\n",
    "        \n",
    "        if (epoch + 1) % 10 == 0:\n",
    "            generate_and_save_images(generator, epoch + 1)\n",
    "\n",
    "    plot_loss_graphs(disc_losses, gen_losses)"
   ]
  },
  {
   "cell_type": "code",
   "execution_count": 112,
   "id": "0adc47e3",
   "metadata": {
    "ExecuteTime": {
     "end_time": "2024-10-30T17:11:10.747322Z",
     "start_time": "2024-10-30T17:11:10.742977Z"
    }
   },
   "outputs": [],
   "source": [
    "# Function to generate and save images\n",
    "def generate_and_save_images(generator, epoch, num_examples=16):\n",
    "    # Generate random noise as input for the generator\n",
    "    random_noise = tf.random.normal([num_examples, 100])\n",
    "    generated_images = generator(random_noise)\n",
    "\n",
    "    # Rescale generated images from [-1, 1] to [0, 255] for visualization\n",
    "    generated_images = (generated_images * 127.5 + 127.5).numpy()\n",
    "\n",
    "    plt.figure(figsize=(4, 4))\n",
    "    for i in range(generated_images.shape[0]):\n",
    "        plt.subplot(4, 4, i + 1)\n",
    "        plt.imshow(generated_images[i, :, :, 0], cmap='gray')  # Display in grayscale\n",
    "        plt.axis('off')\n",
    "\n",
    "    plt.show()"
   ]
  },
  {
   "cell_type": "code",
   "execution_count": 113,
   "id": "417a08bf",
   "metadata": {
    "ExecuteTime": {
     "end_time": "2024-10-30T17:11:11.197471Z",
     "start_time": "2024-10-30T17:11:11.194885Z"
    }
   },
   "outputs": [],
   "source": [
    "# Save the model\n",
    "def save_model(generator, discriminator):\n",
    "    generator.save('dcgan_generator_model.h5')\n",
    "    discriminator.save('dcgan_discriminator_model.h5')"
   ]
  },
  {
   "cell_type": "code",
   "execution_count": 114,
   "id": "d0d22c7d",
   "metadata": {
    "ExecuteTime": {
     "end_time": "2024-10-30T17:11:11.640758Z",
     "start_time": "2024-10-30T17:11:11.637923Z"
    }
   },
   "outputs": [],
   "source": [
    "# Load the model\n",
    "def load_model():\n",
    "    loaded_generator = models.load_model('dcgan_generator_model.h5')\n",
    "    loaded_discriminator = models.load_model('dcgan_discriminator_model.h5')\n",
    "    return loaded_generator, loaded_discriminator"
   ]
  },
  {
   "cell_type": "code",
   "execution_count": 115,
   "id": "24722868",
   "metadata": {
    "ExecuteTime": {
     "end_time": "2024-10-30T17:11:12.123319Z",
     "start_time": "2024-10-30T17:11:12.118953Z"
    }
   },
   "outputs": [],
   "source": [
    "# Generate images from a saved generator model\n",
    "def generate_images_from_saved_model():\n",
    "    loaded_generator, _ = load_model()\n",
    "    \n",
    "    # Generate random noise as input for the generator\n",
    "    random_noise = tf.random.normal([16, 100])\n",
    "    # Use the generator to create images from the random noise\n",
    "    generated_images = loaded_generator(random_noise)\n",
    "\n",
    "    # Rescale images from [-1, 1] to [0, 255] for visualization\n",
    "    generated_images = (generated_images * 127.5 + 127.5).numpy()\n",
    "\n",
    "    plt.figure(figsize=(4, 4))\n",
    "    for i in range(generated_images.shape[0]):\n",
    "        plt.subplot(4, 4, i+1)\n",
    "        plt.imshow(generated_images[i, :, :, 0], cmap='gray')\n",
    "        plt.axis('off')\n",
    "\n",
    "    plt.show()"
   ]
  },
  {
   "cell_type": "code",
   "execution_count": 116,
   "id": "b1cd35ed",
   "metadata": {
    "ExecuteTime": {
     "end_time": "2024-10-30T17:11:12.735209Z",
     "start_time": "2024-10-30T17:11:12.731731Z"
    }
   },
   "outputs": [],
   "source": [
    "# Plot loss graphs\n",
    "def plot_loss_graphs(disc_losses, gen_losses):\n",
    "    plt.figure(figsize=(10, 5))\n",
    "    plt.plot(disc_losses, label='Discriminator Loss')\n",
    "    plt.plot(gen_losses, label='Generator Loss')\n",
    "    plt.xlabel('Epochs')\n",
    "    plt.ylabel('Loss')\n",
    "    plt.title('GAN Loss Over Time')\n",
    "    plt.legend()\n",
    "    plt.show()"
   ]
  },
  {
   "cell_type": "code",
   "execution_count": 117,
   "id": "6e417ff1",
   "metadata": {
    "ExecuteTime": {
     "end_time": "2024-10-30T17:11:13.342635Z",
     "start_time": "2024-10-30T17:11:13.338255Z"
    }
   },
   "outputs": [],
   "source": [
    "# Show real images\n",
    "def show_real_images(dataset, num_images=16):\n",
    "    # Retrieve a batch of real images from the dataset\n",
    "    real_images = next(iter(dataset))  # Get the next batch from the dataset iterator\n",
    "    real_images = real_images[:num_images]  # Select the specified number of images\n",
    "\n",
    "    plt.figure(figsize=(4, 4))\n",
    "    for i in range(real_images.shape[0]):\n",
    "        plt.subplot(4, 4, i + 1)\n",
    "        plt.imshow(real_images[i, :, :, 0], cmap='gray')\n",
    "        plt.axis('off')\n",
    "\n",
    "    plt.show()"
   ]
  },
  {
   "cell_type": "code",
   "execution_count": 118,
   "id": "754442ce",
   "metadata": {
    "ExecuteTime": {
     "end_time": "2024-10-30T17:11:13.945191Z",
     "start_time": "2024-10-30T17:11:13.874841Z"
    }
   },
   "outputs": [],
   "source": [
    "# 배치 크기 설정\n",
    "batch_size = 64 \n",
    "\n",
    "# 훈련 데이터를 TensorFlow 데이터셋으로 변환하고, 셔플하고, 배치 처리\n",
    "dataset = tf.data.Dataset.from_tensor_slices(x_train).shuffle(buffer_size=1024).batch(batch_size)"
   ]
  },
  {
   "cell_type": "code",
   "execution_count": 119,
   "id": "fcd05e58",
   "metadata": {
    "ExecuteTime": {
     "end_time": "2024-10-30T17:11:14.673656Z",
     "start_time": "2024-10-30T17:11:14.398673Z"
    }
   },
   "outputs": [
    {
     "data": {
      "image/png": "[encoded data removed]",
      "text/plain": [
       "<Figure size 400x400 with 16 Axes>"
      ]
     },
     "metadata": {},
     "output_type": "display_data"
    }
   ],
   "source": [
    "# Show MNIST dataset\n",
    "show_real_images(dataset)"
   ]
  },
  {
   "cell_type": "code",
   "execution_count": null,
   "id": "357baed0",
   "metadata": {
    "ExecuteTime": {
     "start_time": "2024-10-30T17:11:14.946Z"
    },
    "scrolled": false
   },
   "outputs": [],
   "source": [
    "# Train the GAN\n",
    "train_gan(generator, discriminator, dataset, epochs=500, batch_size=64) # Minimum Epochs : 500"
   ]
  },
  {
   "cell_type": "code",
   "execution_count": null,
   "id": "c7e2b1de",
   "metadata": {
    "ExecuteTime": {
     "start_time": "2024-10-30T17:11:16.136Z"
    }
   },
   "outputs": [],
   "source": [
    "# Save the trained models\n",
    "save_model(generator, discriminator)"
   ]
  },
  {
   "cell_type": "code",
   "execution_count": null,
   "id": "5cbaa0ef",
   "metadata": {
    "ExecuteTime": {
     "start_time": "2024-10-30T17:11:16.376Z"
    }
   },
   "outputs": [],
   "source": [
    "# Generate images from the saved generator model after training\n",
    "generate_images_from_saved_model()"
   ]
  },
  {
   "cell_type": "code",
   "execution_count": null,
   "id": "510a07f5",
   "metadata": {},
   "outputs": [],
   "source": []
  }
 ],
 "metadata": {
  "kernelspec": {
   "display_name": "Python 3 (ipykernel)",
   "language": "python",
   "name": "python3"
  },
  "language_info": {
   "codemirror_mode": {
    "name": "ipython",
    "version": 3
   },
   "file_extension": ".py",
   "mimetype": "text/x-python",
   "name": "python",
   "nbconvert_exporter": "python",
   "pygments_lexer": "ipython3",
   "version": "3.11.3"
  },
  "varInspector": {
   "cols": {
    "lenName": 16,
    "lenType": 16,
    "lenVar": 40
   },
   "kernels_config": {
    "python": {
     "delete_cmd_postfix": "",
     "delete_cmd_prefix": "del ",
     "library": "var_list.py",
     "varRefreshCmd": "print(var_dic_list())"
    },
    "r": {
     "delete_cmd_postfix": ") ",
     "delete_cmd_prefix": "rm(",
     "library": "var_list.r",
     "varRefreshCmd": "cat(var_dic_list()) "
    }
   },
   "types_to_exclude": [
    "module",
    "function",
    "builtin_function_or_method",
    "instance",
    "_Feature"
   ],
   "window_display": false
  }
 },
 "nbformat": 4,
 "nbformat_minor": 5
}
