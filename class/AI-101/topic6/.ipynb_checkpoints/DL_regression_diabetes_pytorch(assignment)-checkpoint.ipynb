{
 "cells": [
  {
   "cell_type": "code",
   "execution_count": 159,
   "id": "76f1ca6a",
   "metadata": {
    "ExecuteTime": {
     "end_time": "2025-04-14T07:43:40.501964Z",
     "start_time": "2025-04-14T07:43:40.498101Z"
    }
   },
   "outputs": [],
   "source": [
    "import torch\n",
    "import numpy as np\n",
    "import pandas as pd\n",
    "import matplotlib.pyplot as plt\n",
    "import seaborn as sns\n",
    "\n",
    "from torch.utils.data import Dataset, DataLoader, TensorDataset\n",
    "from torchsummary import summary\n",
    "from sklearn.metrics import precision_score, recall_score, f1_score, roc_auc_score, confusion_matrix, ConfusionMatrixDisplay"
   ]
  },
  {
   "cell_type": "code",
   "execution_count": 160,
   "id": "27c8ed53",
   "metadata": {
    "ExecuteTime": {
     "end_time": "2025-04-14T07:43:40.519386Z",
     "start_time": "2025-04-14T07:43:40.505145Z"
    }
   },
   "outputs": [
    {
     "data": {
      "text/html": [
       "<div>\n",
       "<style scoped>\n",
       "    .dataframe tbody tr th:only-of-type {\n",
       "        vertical-align: middle;\n",
       "    }\n",
       "\n",
       "    .dataframe tbody tr th {\n",
       "        vertical-align: top;\n",
       "    }\n",
       "\n",
       "    .dataframe thead th {\n",
       "        text-align: right;\n",
       "    }\n",
       "</style>\n",
       "<table border=\"1\" class=\"dataframe\">\n",
       "  <thead>\n",
       "    <tr style=\"text-align: right;\">\n",
       "      <th></th>\n",
       "      <th>Pregnancies</th>\n",
       "      <th>Glucose</th>\n",
       "      <th>BloodPressure</th>\n",
       "      <th>SkinThickness</th>\n",
       "      <th>Insulin</th>\n",
       "      <th>BMI</th>\n",
       "      <th>DiabetesPedigreeFunction</th>\n",
       "      <th>Age</th>\n",
       "      <th>Outcome</th>\n",
       "    </tr>\n",
       "  </thead>\n",
       "  <tbody>\n",
       "    <tr>\n",
       "      <th>0</th>\n",
       "      <td>6</td>\n",
       "      <td>148</td>\n",
       "      <td>72</td>\n",
       "      <td>35</td>\n",
       "      <td>0</td>\n",
       "      <td>33.6</td>\n",
       "      <td>0.627</td>\n",
       "      <td>50</td>\n",
       "      <td>1</td>\n",
       "    </tr>\n",
       "    <tr>\n",
       "      <th>1</th>\n",
       "      <td>1</td>\n",
       "      <td>85</td>\n",
       "      <td>66</td>\n",
       "      <td>29</td>\n",
       "      <td>0</td>\n",
       "      <td>26.6</td>\n",
       "      <td>0.351</td>\n",
       "      <td>31</td>\n",
       "      <td>0</td>\n",
       "    </tr>\n",
       "    <tr>\n",
       "      <th>2</th>\n",
       "      <td>8</td>\n",
       "      <td>183</td>\n",
       "      <td>64</td>\n",
       "      <td>0</td>\n",
       "      <td>0</td>\n",
       "      <td>23.3</td>\n",
       "      <td>0.672</td>\n",
       "      <td>32</td>\n",
       "      <td>1</td>\n",
       "    </tr>\n",
       "    <tr>\n",
       "      <th>3</th>\n",
       "      <td>1</td>\n",
       "      <td>89</td>\n",
       "      <td>66</td>\n",
       "      <td>23</td>\n",
       "      <td>94</td>\n",
       "      <td>28.1</td>\n",
       "      <td>0.167</td>\n",
       "      <td>21</td>\n",
       "      <td>0</td>\n",
       "    </tr>\n",
       "    <tr>\n",
       "      <th>4</th>\n",
       "      <td>0</td>\n",
       "      <td>137</td>\n",
       "      <td>40</td>\n",
       "      <td>35</td>\n",
       "      <td>168</td>\n",
       "      <td>43.1</td>\n",
       "      <td>2.288</td>\n",
       "      <td>33</td>\n",
       "      <td>1</td>\n",
       "    </tr>\n",
       "    <tr>\n",
       "      <th>...</th>\n",
       "      <td>...</td>\n",
       "      <td>...</td>\n",
       "      <td>...</td>\n",
       "      <td>...</td>\n",
       "      <td>...</td>\n",
       "      <td>...</td>\n",
       "      <td>...</td>\n",
       "      <td>...</td>\n",
       "      <td>...</td>\n",
       "    </tr>\n",
       "    <tr>\n",
       "      <th>763</th>\n",
       "      <td>10</td>\n",
       "      <td>101</td>\n",
       "      <td>76</td>\n",
       "      <td>48</td>\n",
       "      <td>180</td>\n",
       "      <td>32.9</td>\n",
       "      <td>0.171</td>\n",
       "      <td>63</td>\n",
       "      <td>0</td>\n",
       "    </tr>\n",
       "    <tr>\n",
       "      <th>764</th>\n",
       "      <td>2</td>\n",
       "      <td>122</td>\n",
       "      <td>70</td>\n",
       "      <td>27</td>\n",
       "      <td>0</td>\n",
       "      <td>36.8</td>\n",
       "      <td>0.340</td>\n",
       "      <td>27</td>\n",
       "      <td>0</td>\n",
       "    </tr>\n",
       "    <tr>\n",
       "      <th>765</th>\n",
       "      <td>5</td>\n",
       "      <td>121</td>\n",
       "      <td>72</td>\n",
       "      <td>23</td>\n",
       "      <td>112</td>\n",
       "      <td>26.2</td>\n",
       "      <td>0.245</td>\n",
       "      <td>30</td>\n",
       "      <td>0</td>\n",
       "    </tr>\n",
       "    <tr>\n",
       "      <th>766</th>\n",
       "      <td>1</td>\n",
       "      <td>126</td>\n",
       "      <td>60</td>\n",
       "      <td>0</td>\n",
       "      <td>0</td>\n",
       "      <td>30.1</td>\n",
       "      <td>0.349</td>\n",
       "      <td>47</td>\n",
       "      <td>1</td>\n",
       "    </tr>\n",
       "    <tr>\n",
       "      <th>767</th>\n",
       "      <td>1</td>\n",
       "      <td>93</td>\n",
       "      <td>70</td>\n",
       "      <td>31</td>\n",
       "      <td>0</td>\n",
       "      <td>30.4</td>\n",
       "      <td>0.315</td>\n",
       "      <td>23</td>\n",
       "      <td>0</td>\n",
       "    </tr>\n",
       "  </tbody>\n",
       "</table>\n",
       "<p>768 rows × 9 columns</p>\n",
       "</div>"
      ],
      "text/plain": [
       "     Pregnancies  Glucose  BloodPressure  SkinThickness  Insulin   BMI  \\\n",
       "0              6      148             72             35        0  33.6   \n",
       "1              1       85             66             29        0  26.6   \n",
       "2              8      183             64              0        0  23.3   \n",
       "3              1       89             66             23       94  28.1   \n",
       "4              0      137             40             35      168  43.1   \n",
       "..           ...      ...            ...            ...      ...   ...   \n",
       "763           10      101             76             48      180  32.9   \n",
       "764            2      122             70             27        0  36.8   \n",
       "765            5      121             72             23      112  26.2   \n",
       "766            1      126             60              0        0  30.1   \n",
       "767            1       93             70             31        0  30.4   \n",
       "\n",
       "     DiabetesPedigreeFunction  Age  Outcome  \n",
       "0                       0.627   50        1  \n",
       "1                       0.351   31        0  \n",
       "2                       0.672   32        1  \n",
       "3                       0.167   21        0  \n",
       "4                       2.288   33        1  \n",
       "..                        ...  ...      ...  \n",
       "763                     0.171   63        0  \n",
       "764                     0.340   27        0  \n",
       "765                     0.245   30        0  \n",
       "766                     0.349   47        1  \n",
       "767                     0.315   23        0  \n",
       "\n",
       "[768 rows x 9 columns]"
      ]
     },
     "execution_count": 160,
     "metadata": {},
     "output_type": "execute_result"
    }
   ],
   "source": [
    "df = pd.read_csv(\"../data/diabetes.csv\")\n",
    "df"
   ]
  },
  {
   "cell_type": "code",
   "execution_count": 161,
   "id": "6ec84227",
   "metadata": {
    "ExecuteTime": {
     "end_time": "2025-04-14T07:43:40.530653Z",
     "start_time": "2025-04-14T07:43:40.521553Z"
    }
   },
   "outputs": [
    {
     "name": "stdout",
     "output_type": "stream",
     "text": [
      "<class 'pandas.core.frame.DataFrame'>\n",
      "RangeIndex: 768 entries, 0 to 767\n",
      "Data columns (total 9 columns):\n",
      " #   Column                    Non-Null Count  Dtype  \n",
      "---  ------                    --------------  -----  \n",
      " 0   Pregnancies               768 non-null    int64  \n",
      " 1   Glucose                   768 non-null    int64  \n",
      " 2   BloodPressure             768 non-null    int64  \n",
      " 3   SkinThickness             768 non-null    int64  \n",
      " 4   Insulin                   768 non-null    int64  \n",
      " 5   BMI                       768 non-null    float64\n",
      " 6   DiabetesPedigreeFunction  768 non-null    float64\n",
      " 7   Age                       768 non-null    int64  \n",
      " 8   Outcome                   768 non-null    int64  \n",
      "dtypes: float64(2), int64(7)\n",
      "memory usage: 54.1 KB\n"
     ]
    }
   ],
   "source": [
    "df.info()"
   ]
  },
  {
   "cell_type": "code",
   "execution_count": 162,
   "id": "5cfe21e8",
   "metadata": {
    "ExecuteTime": {
     "end_time": "2025-04-14T07:43:40.564182Z",
     "start_time": "2025-04-14T07:43:40.534021Z"
    }
   },
   "outputs": [
    {
     "data": {
      "text/html": [
       "<div>\n",
       "<style scoped>\n",
       "    .dataframe tbody tr th:only-of-type {\n",
       "        vertical-align: middle;\n",
       "    }\n",
       "\n",
       "    .dataframe tbody tr th {\n",
       "        vertical-align: top;\n",
       "    }\n",
       "\n",
       "    .dataframe thead th {\n",
       "        text-align: right;\n",
       "    }\n",
       "</style>\n",
       "<table border=\"1\" class=\"dataframe\">\n",
       "  <thead>\n",
       "    <tr style=\"text-align: right;\">\n",
       "      <th></th>\n",
       "      <th>count</th>\n",
       "      <th>mean</th>\n",
       "      <th>std</th>\n",
       "      <th>min</th>\n",
       "      <th>25%</th>\n",
       "      <th>50%</th>\n",
       "      <th>75%</th>\n",
       "      <th>max</th>\n",
       "    </tr>\n",
       "  </thead>\n",
       "  <tbody>\n",
       "    <tr>\n",
       "      <th>Pregnancies</th>\n",
       "      <td>768.0</td>\n",
       "      <td>3.845052</td>\n",
       "      <td>3.369578</td>\n",
       "      <td>0.000</td>\n",
       "      <td>1.00000</td>\n",
       "      <td>3.0000</td>\n",
       "      <td>6.00000</td>\n",
       "      <td>17.00</td>\n",
       "    </tr>\n",
       "    <tr>\n",
       "      <th>Glucose</th>\n",
       "      <td>768.0</td>\n",
       "      <td>120.894531</td>\n",
       "      <td>31.972618</td>\n",
       "      <td>0.000</td>\n",
       "      <td>99.00000</td>\n",
       "      <td>117.0000</td>\n",
       "      <td>140.25000</td>\n",
       "      <td>199.00</td>\n",
       "    </tr>\n",
       "    <tr>\n",
       "      <th>BloodPressure</th>\n",
       "      <td>768.0</td>\n",
       "      <td>69.105469</td>\n",
       "      <td>19.355807</td>\n",
       "      <td>0.000</td>\n",
       "      <td>62.00000</td>\n",
       "      <td>72.0000</td>\n",
       "      <td>80.00000</td>\n",
       "      <td>122.00</td>\n",
       "    </tr>\n",
       "    <tr>\n",
       "      <th>SkinThickness</th>\n",
       "      <td>768.0</td>\n",
       "      <td>20.536458</td>\n",
       "      <td>15.952218</td>\n",
       "      <td>0.000</td>\n",
       "      <td>0.00000</td>\n",
       "      <td>23.0000</td>\n",
       "      <td>32.00000</td>\n",
       "      <td>99.00</td>\n",
       "    </tr>\n",
       "    <tr>\n",
       "      <th>Insulin</th>\n",
       "      <td>768.0</td>\n",
       "      <td>79.799479</td>\n",
       "      <td>115.244002</td>\n",
       "      <td>0.000</td>\n",
       "      <td>0.00000</td>\n",
       "      <td>30.5000</td>\n",
       "      <td>127.25000</td>\n",
       "      <td>846.00</td>\n",
       "    </tr>\n",
       "    <tr>\n",
       "      <th>BMI</th>\n",
       "      <td>768.0</td>\n",
       "      <td>31.992578</td>\n",
       "      <td>7.884160</td>\n",
       "      <td>0.000</td>\n",
       "      <td>27.30000</td>\n",
       "      <td>32.0000</td>\n",
       "      <td>36.60000</td>\n",
       "      <td>67.10</td>\n",
       "    </tr>\n",
       "    <tr>\n",
       "      <th>DiabetesPedigreeFunction</th>\n",
       "      <td>768.0</td>\n",
       "      <td>0.471876</td>\n",
       "      <td>0.331329</td>\n",
       "      <td>0.078</td>\n",
       "      <td>0.24375</td>\n",
       "      <td>0.3725</td>\n",
       "      <td>0.62625</td>\n",
       "      <td>2.42</td>\n",
       "    </tr>\n",
       "    <tr>\n",
       "      <th>Age</th>\n",
       "      <td>768.0</td>\n",
       "      <td>33.240885</td>\n",
       "      <td>11.760232</td>\n",
       "      <td>21.000</td>\n",
       "      <td>24.00000</td>\n",
       "      <td>29.0000</td>\n",
       "      <td>41.00000</td>\n",
       "      <td>81.00</td>\n",
       "    </tr>\n",
       "    <tr>\n",
       "      <th>Outcome</th>\n",
       "      <td>768.0</td>\n",
       "      <td>0.348958</td>\n",
       "      <td>0.476951</td>\n",
       "      <td>0.000</td>\n",
       "      <td>0.00000</td>\n",
       "      <td>0.0000</td>\n",
       "      <td>1.00000</td>\n",
       "      <td>1.00</td>\n",
       "    </tr>\n",
       "  </tbody>\n",
       "</table>\n",
       "</div>"
      ],
      "text/plain": [
       "                          count        mean         std     min       25%  \\\n",
       "Pregnancies               768.0    3.845052    3.369578   0.000   1.00000   \n",
       "Glucose                   768.0  120.894531   31.972618   0.000  99.00000   \n",
       "BloodPressure             768.0   69.105469   19.355807   0.000  62.00000   \n",
       "SkinThickness             768.0   20.536458   15.952218   0.000   0.00000   \n",
       "Insulin                   768.0   79.799479  115.244002   0.000   0.00000   \n",
       "BMI                       768.0   31.992578    7.884160   0.000  27.30000   \n",
       "DiabetesPedigreeFunction  768.0    0.471876    0.331329   0.078   0.24375   \n",
       "Age                       768.0   33.240885   11.760232  21.000  24.00000   \n",
       "Outcome                   768.0    0.348958    0.476951   0.000   0.00000   \n",
       "\n",
       "                               50%        75%     max  \n",
       "Pregnancies                 3.0000    6.00000   17.00  \n",
       "Glucose                   117.0000  140.25000  199.00  \n",
       "BloodPressure              72.0000   80.00000  122.00  \n",
       "SkinThickness              23.0000   32.00000   99.00  \n",
       "Insulin                    30.5000  127.25000  846.00  \n",
       "BMI                        32.0000   36.60000   67.10  \n",
       "DiabetesPedigreeFunction    0.3725    0.62625    2.42  \n",
       "Age                        29.0000   41.00000   81.00  \n",
       "Outcome                     0.0000    1.00000    1.00  "
      ]
     },
     "execution_count": 162,
     "metadata": {},
     "output_type": "execute_result"
    }
   ],
   "source": [
    "df.describe().T"
   ]
  },
  {
   "cell_type": "code",
   "execution_count": 163,
   "id": "227d09b8",
   "metadata": {
    "ExecuteTime": {
     "end_time": "2025-04-14T07:43:40.571087Z",
     "start_time": "2025-04-14T07:43:40.566421Z"
    }
   },
   "outputs": [
    {
     "data": {
      "text/plain": [
       "((768, 9),\n",
       " Index(['Pregnancies', 'Glucose', 'BloodPressure', 'SkinThickness', 'Insulin',\n",
       "        'BMI', 'DiabetesPedigreeFunction', 'Age', 'Outcome'],\n",
       "       dtype='object'))"
      ]
     },
     "execution_count": 163,
     "metadata": {},
     "output_type": "execute_result"
    }
   ],
   "source": [
    "df.shape, df.columns"
   ]
  },
  {
   "cell_type": "code",
   "execution_count": 164,
   "id": "65b0c86f",
   "metadata": {
    "ExecuteTime": {
     "end_time": "2025-04-14T07:43:41.112647Z",
     "start_time": "2025-04-14T07:43:40.573274Z"
    }
   },
   "outputs": [
    {
     "name": "stdout",
     "output_type": "stream",
     "text": [
      "Age\n",
      "22    72\n",
      "21    63\n",
      "25    48\n",
      "24    46\n",
      "23    38\n",
      "28    35\n",
      "26    33\n",
      "27    32\n",
      "29    29\n",
      "31    24\n",
      "41    22\n",
      "30    21\n",
      "37    19\n",
      "42    18\n",
      "33    17\n",
      "38    16\n",
      "36    16\n",
      "32    16\n",
      "45    15\n",
      "34    14\n",
      "46    13\n",
      "43    13\n",
      "40    13\n",
      "39    12\n",
      "35    10\n",
      "50     8\n",
      "51     8\n",
      "52     8\n",
      "44     8\n",
      "58     7\n",
      "47     6\n",
      "54     6\n",
      "49     5\n",
      "48     5\n",
      "57     5\n",
      "53     5\n",
      "60     5\n",
      "66     4\n",
      "63     4\n",
      "62     4\n",
      "55     4\n",
      "67     3\n",
      "56     3\n",
      "59     3\n",
      "65     3\n",
      "69     2\n",
      "61     2\n",
      "72     1\n",
      "81     1\n",
      "64     1\n",
      "70     1\n",
      "68     1\n",
      "Name: count, dtype: int64\n"
     ]
    },
    {
     "data": {
      "text/plain": [
       "<Axes: xlabel='Age', ylabel='count'>"
      ]
     },
     "execution_count": 164,
     "metadata": {},
     "output_type": "execute_result"
    },
    {
     "data": {
      "image/png": "[encoded data removed]",
      "text/plain": [
       "<Figure size 2000x400 with 1 Axes>"
      ]
     },
     "metadata": {},
     "output_type": "display_data"
    }
   ],
   "source": [
    "plt.figure(figsize=(20, 4))\n",
    "print (df['Age'].value_counts())\n",
    "sns.countplot(x='Age', data=df)"
   ]
  },
  {
   "cell_type": "code",
   "execution_count": 165,
   "id": "98a432f0",
   "metadata": {
    "ExecuteTime": {
     "end_time": "2025-04-14T07:43:41.120271Z",
     "start_time": "2025-04-14T07:43:41.115319Z"
    }
   },
   "outputs": [
    {
     "name": "stdout",
     "output_type": "stream",
     "text": [
      "{0}\n",
      "{0}\n"
     ]
    }
   ],
   "source": [
    "print (set(df.isnull().sum()))\n",
    "df = df.fillna(df.mean)\n",
    "print (set(df.isnull().sum()))"
   ]
  },
  {
   "cell_type": "code",
   "execution_count": 166,
   "id": "00c22de3",
   "metadata": {
    "ExecuteTime": {
     "end_time": "2025-04-14T07:43:41.598194Z",
     "start_time": "2025-04-14T07:43:41.123084Z"
    }
   },
   "outputs": [
    {
     "data": {
      "text/plain": [
       "<Axes: >"
      ]
     },
     "execution_count": 166,
     "metadata": {},
     "output_type": "execute_result"
    },
    {
     "data": {
      "image/png": "[encoded data removed]",
      "text/plain": [
       "<Figure size 640x480 with 2 Axes>"
      ]
     },
     "metadata": {},
     "output_type": "display_data"
    }
   ],
   "source": [
    "corr = df.corr()\n",
    "sns.heatmap(corr, annot=True)"
   ]
  },
  {
   "cell_type": "code",
   "execution_count": 167,
   "id": "9369b952",
   "metadata": {
    "ExecuteTime": {
     "end_time": "2025-04-14T07:43:41.613796Z",
     "start_time": "2025-04-14T07:43:41.603291Z"
    }
   },
   "outputs": [
    {
     "name": "stdout",
     "output_type": "stream",
     "text": [
      "Index(['Pregnancies', 'Glucose', 'BloodPressure', 'SkinThickness', 'Insulin',\n",
      "       'DiabetesPedigreeFunction', 'Age'],\n",
      "      dtype='object')\n",
      "[[  6.    148.     72.    ...   0.      0.627  50.   ]\n",
      " [  1.     85.     66.    ...   0.      0.351  31.   ]\n",
      " [  8.    183.     64.    ...   0.      0.672  32.   ]\n",
      " ...\n",
      " [  5.    121.     72.    ... 112.      0.245  30.   ]\n",
      " [  1.    126.     60.    ...   0.      0.349  47.   ]\n",
      " [  1.     93.     70.    ...   0.      0.315  23.   ]] [33.6 26.6 23.3 28.1 43.1 25.6 31.  35.3 30.5  0.  37.6 38.  27.1 30.1\n",
      " 25.8 30.  45.8 29.6 43.3 34.6 39.3 35.4 39.8 29.  36.6 31.1 39.4 23.2\n",
      " 22.2 34.1 36.  31.6 24.8 19.9 27.6 24.  33.2 32.9 38.2 37.1 34.  40.2\n",
      " 22.7 45.4 27.4 42.  29.7 28.  39.1  0.  19.4 24.2 24.4 33.7 34.7 23.\n",
      " 37.7 46.8 40.5 41.5  0.  32.9 25.  25.4 32.8 29.  32.5 42.7 19.6 28.9\n",
      " 32.9 28.6 43.4 35.1 32.  24.7 32.6 37.7 43.2 25.  22.4  0.  29.3 24.6\n",
      " 48.8 32.4 36.6 38.5 37.1 26.5 19.1 32.  46.7 23.8 24.7 33.9 31.6 20.4\n",
      " 28.7 49.7 39.  26.1 22.5 26.6 39.6 28.7 22.4 29.5 34.3 37.4 33.3 34.\n",
      " 31.2 34.  30.5 31.2 34.  33.7 28.2 23.2 53.2 34.2 33.6 26.8 33.3 55.\n",
      " 42.9 33.3 34.5 27.9 29.7 33.3 34.5 38.3 21.1 33.8 30.8 28.7 31.2 36.9\n",
      " 21.1 39.5 32.5 32.4 32.8  0.  32.8 30.5 33.7 27.3 37.4 21.9 34.3 40.6\n",
      " 47.9 50.  24.6 25.2 29.  40.9 29.7 37.2 44.2 29.7 31.6 29.9 32.5 29.6\n",
      " 31.9 28.4 30.8 35.4 28.9 43.5 29.7 32.7 31.2 67.1 45.  39.1 23.2 34.9\n",
      " 27.7 26.8 27.6 35.9 30.1 32.  27.9 31.6 22.6 33.1 30.4 52.3 24.4 39.4\n",
      " 24.3 22.9 34.8 30.9 31.  40.1 27.3 20.4 37.7 23.9 37.5 37.7 33.2 35.5\n",
      " 27.7 42.8 34.2 42.6 34.2 41.8 35.8 30.  29.  37.8 34.6 31.6 25.2 28.8\n",
      " 23.6 34.6 35.7 37.2 36.7 45.2 44.  46.2 25.4 35.  29.7 43.6 35.9 44.1\n",
      " 30.8 18.4 29.2 33.1 25.6 27.1 38.2 30.  31.2 52.3 35.4 30.1 31.2 28.\n",
      " 24.4 35.8 27.6 33.6 30.1 28.7 25.9 33.3 30.9 30.  32.1 32.4 32.  33.6\n",
      " 36.3 40.  25.1 27.5 45.6 25.2 23.  33.2 34.2 40.5 26.5 27.8 24.9 25.3\n",
      " 37.9 35.9 32.4 30.4 27.  26.  38.7 45.6 20.8 36.1 36.9 36.6 43.3 40.5\n",
      " 21.9 35.5 28.  30.7 36.6 23.6 32.3 31.6 35.8 52.9 21.  39.7 25.5 24.8\n",
      " 30.5 32.9 26.2 39.4 26.6 29.5 35.9 34.1 19.3 30.5 38.1 23.5 27.5 31.6\n",
      " 27.4 26.8 35.7 25.6 35.1 35.1 45.5 30.8 23.1 32.7 43.3 23.6 23.9 47.9\n",
      " 33.8 31.2 34.2 39.9 25.9 25.9 32.  34.7 36.8 38.5 28.7 23.5 21.8 41.\n",
      " 42.2 31.2 34.4 27.2 42.7 30.4 33.3 39.9 35.3 36.5 31.2 29.8 39.2 38.5\n",
      " 34.9 34.  27.6 21.  27.5 32.8 38.4  0.  35.8 34.9 36.2 39.2 25.2 37.2\n",
      " 48.3 43.4 30.8 20.  25.4 25.1 24.3 22.3 32.3 43.3 32.  31.6 32.  45.7\n",
      " 23.7 22.1 32.9 27.7 24.7 34.3 21.1 34.9 32.  24.2 35.  31.6 32.9 42.1\n",
      " 28.9 21.9 25.9 42.4 35.7 34.4 42.4 26.2 34.6 35.7 27.2 38.5 18.2 26.4\n",
      " 45.3 26.  40.6 30.8 42.9 37.   0.  34.1 40.6 35.  22.2 30.4 30.  25.6\n",
      " 24.5 42.4 37.4 29.9 18.2 36.8 34.3 32.2 33.2 30.5 29.7 59.4 25.3 36.5\n",
      " 33.6 30.5 21.2 28.9 39.9 19.6 37.8 33.6 26.7 30.2 37.6 25.9 20.8 21.8\n",
      " 35.3 27.6 24.  21.8 27.8 36.8 30.  46.1 41.3 33.2 38.8 29.9 28.9 27.3\n",
      " 33.7 23.8 25.9 28.  35.5 35.2 27.8 38.2 44.2 42.3 40.7 46.5 25.6 26.1\n",
      " 36.8 33.5 32.8 28.9  0.  26.6 26.  30.1 25.1 29.3 25.2 37.2 39.  33.3\n",
      " 37.3 33.3 36.5 28.6 30.4 25.  29.7 22.1 24.2 27.3 25.6 31.6 30.3 37.6\n",
      " 32.8 19.6 25.  33.2  0.  34.2 31.6 21.8 18.2 26.3 30.8 24.6 29.8 45.3\n",
      " 41.3 29.8 33.3 32.9 29.6 21.7 36.3 36.4 39.4 32.4 34.9 39.5 32.  34.5\n",
      " 43.6 33.1 32.8 28.5 27.4 31.9 27.8 29.9 36.9 25.5 38.1 27.8 46.2 30.1\n",
      " 33.8 41.3 37.6 26.9 32.4 26.1 38.6 32.  31.3 34.3 32.5 22.6 29.5 34.7\n",
      " 30.1 35.5 24.  42.9 27.  34.7 42.1 25.  26.5 38.7 28.7 22.5 34.9 24.3\n",
      " 33.3 21.1 46.8 39.4 34.4 28.5 33.6 32.  45.3 27.8 36.8 23.1 27.1 23.7\n",
      " 27.8 35.2 28.4 35.8 40.  19.5 41.5 24.  30.9 32.9 38.2 32.5 36.1 25.8\n",
      " 28.7 20.1 28.2 32.4 38.4 24.2 40.8 43.5 30.8 37.7 24.7 32.4 34.6 24.7\n",
      " 27.4 34.5 26.2 27.5 25.9 31.2 28.8 31.6 40.9 19.5 29.3 34.3 29.5 28.\n",
      " 27.6 39.4 23.4 37.8 28.3 26.4 25.2 33.8 34.1 26.8 34.2 38.7 21.8 38.9\n",
      " 39.  34.2 27.7 42.9 37.6 37.9 33.7 34.8 32.5 27.5 34.  30.9 33.6 25.4\n",
      " 35.5 57.3 35.6 30.9 24.8 35.3 36.  24.2 24.2 49.6 44.6 32.3  0.  33.2\n",
      " 23.1 28.3 24.1 46.1 24.6 42.3 39.1 38.5 23.5 30.4 29.9 25.  34.5 44.5\n",
      " 35.9 27.6 35.  38.5 28.4 39.8  0.  34.4 32.8 38.  31.2 29.6 41.2 26.4\n",
      " 29.5 33.9 33.8 23.1 35.5 35.6 29.3 38.1 29.3 39.1 32.8 39.4 36.1 32.4\n",
      " 22.9 30.1 28.4 28.4 44.5 29.  23.3 35.4 27.4 32.  36.6 39.5 42.3 30.8\n",
      " 28.5 32.7 40.6 30.  49.3 46.3 36.4 24.3 31.2 39.  26.  43.3 32.4 36.5\n",
      " 32.  36.3 37.5 35.5 28.4 44.  22.5 32.9 36.8 26.2 30.1 30.4]\n"
     ]
    }
   ],
   "source": [
    "data = df.drop('Outcome', axis=1)\n",
    "data = data.drop('BMI', axis=1)\n",
    "# target = df['Outcome']\n",
    "print (data.columns)\n",
    "target = df['BMI']\n",
    "\n",
    "data = data.values\n",
    "target = target.values\n",
    "\n",
    "print (data, target)"
   ]
  },
  {
   "cell_type": "code",
   "execution_count": 168,
   "id": "1202892e",
   "metadata": {
    "ExecuteTime": {
     "end_time": "2025-04-14T07:43:41.620026Z",
     "start_time": "2025-04-14T07:43:41.616033Z"
    }
   },
   "outputs": [],
   "source": [
    "from sklearn.preprocessing import MinMaxScaler\n",
    "\n",
    "MMS = MinMaxScaler()\n",
    "data_scaled = MMS.fit_transform(data)"
   ]
  },
  {
   "cell_type": "code",
   "execution_count": 169,
   "id": "213071c4",
   "metadata": {
    "ExecuteTime": {
     "end_time": "2025-04-14T07:43:41.627871Z",
     "start_time": "2025-04-14T07:43:41.622228Z"
    }
   },
   "outputs": [
    {
     "name": "stdout",
     "output_type": "stream",
     "text": [
      "(691, 7) (77, 7) (691,) (77,)\n"
     ]
    }
   ],
   "source": [
    "from sklearn.model_selection import train_test_split\n",
    "\n",
    "X_train, X_test, y_train, y_test = train_test_split(data_scaled,\n",
    "                                                   target,\n",
    "                                                   test_size=0.1)\n",
    "print (X_train.shape, X_test.shape, y_train.shape, y_test.shape)"
   ]
  },
  {
   "cell_type": "code",
   "execution_count": 170,
   "id": "572f27d5",
   "metadata": {
    "ExecuteTime": {
     "end_time": "2025-04-14T07:43:41.634663Z",
     "start_time": "2025-04-14T07:43:41.630918Z"
    }
   },
   "outputs": [],
   "source": [
    "X_train = torch.tensor(X_train, dtype=torch.float32)\n",
    "y_train = torch.tensor(y_train, dtype=torch.float32)\n",
    "X_test = torch.tensor(X_test, dtype=torch.float32)\n",
    "y_test = torch.tensor(y_test, dtype=torch.float32)"
   ]
  },
  {
   "cell_type": "code",
   "execution_count": 171,
   "id": "571ef1ee",
   "metadata": {
    "ExecuteTime": {
     "end_time": "2025-04-14T07:43:41.643801Z",
     "start_time": "2025-04-14T07:43:41.636905Z"
    }
   },
   "outputs": [
    {
     "data": {
      "text/plain": [
       "(torch.Size([691, 7]),\n",
       " torch.Size([77, 7]),\n",
       " torch.Size([691]),\n",
       " torch.Size([77]))"
      ]
     },
     "execution_count": 171,
     "metadata": {},
     "output_type": "execute_result"
    }
   ],
   "source": [
    "# Create DataLoader\n",
    "\n",
    "from torch.utils.data import Dataset, DataLoader, TensorDataset\n",
    "\n",
    "train_dataset = TensorDataset(X_train, y_train)\n",
    "train_dataloader = DataLoader(train_dataset, \n",
    "                              batch_size=8, \n",
    "                              shuffle=True)\n",
    "\n",
    "test_dataset = TensorDataset(X_test, y_test)\n",
    "test_dataloader = DataLoader(test_dataset, \n",
    "                             batch_size=8, \n",
    "                             shuffle=False)\n",
    "\n",
    "X_train.shape, X_test.shape, y_train.shape, y_test.shape"
   ]
  },
  {
   "cell_type": "code",
   "execution_count": 172,
   "id": "73d96297",
   "metadata": {
    "ExecuteTime": {
     "end_time": "2025-04-14T07:43:41.659070Z",
     "start_time": "2025-04-14T07:43:41.647737Z"
    }
   },
   "outputs": [
    {
     "name": "stdout",
     "output_type": "stream",
     "text": [
      "SAMPLE : Output shape: torch.Size([4, 1])\n",
      "SAMPLE : Output: tensor([[ 0.5583],\n",
      "        [-0.3164],\n",
      "        [-0.0888],\n",
      "        [-0.6117]], grad_fn=<AddmmBackward0>)\n"
     ]
    }
   ],
   "source": [
    "import torch.nn as nn\n",
    "\n",
    "model = nn.Sequential(\n",
    "    nn.Linear(7, 10),\n",
    "    nn.BatchNorm1d(10),\n",
    "    nn.ReLU(),\n",
    "\n",
    "    nn.Linear(10, 20),\n",
    "    nn.BatchNorm1d(20),\n",
    "    nn.ReLU(),\n",
    "    \n",
    "    nn.Linear(20, 10),\n",
    "    nn.BatchNorm1d(10),\n",
    "    nn.ReLU(),\n",
    "\n",
    "    nn.Linear(10, 1)\n",
    ")\n",
    "\n",
    "x = torch.randn(4, 7)  # batch_size=4, input_features=7\n",
    "output = model(x)\n",
    "\n",
    "print(\"SAMPLE : Output shape:\", output.shape)\n",
    "print(\"SAMPLE : Output:\", output)\n"
   ]
  },
  {
   "cell_type": "code",
   "execution_count": 173,
   "id": "e3fd7889",
   "metadata": {
    "ExecuteTime": {
     "end_time": "2025-04-14T07:43:41.670951Z",
     "start_time": "2025-04-14T07:43:41.662081Z"
    }
   },
   "outputs": [
    {
     "name": "stdout",
     "output_type": "stream",
     "text": [
      "----------------------------------------------------------------\n",
      "        Layer (type)               Output Shape         Param #\n",
      "================================================================\n",
      "            Linear-1                   [-1, 10]              80\n",
      "       BatchNorm1d-2                   [-1, 10]              20\n",
      "              ReLU-3                   [-1, 10]               0\n",
      "            Linear-4                   [-1, 20]             220\n",
      "       BatchNorm1d-5                   [-1, 20]              40\n",
      "              ReLU-6                   [-1, 20]               0\n",
      "            Linear-7                   [-1, 10]             210\n",
      "       BatchNorm1d-8                   [-1, 10]              20\n",
      "              ReLU-9                   [-1, 10]               0\n",
      "           Linear-10                    [-1, 1]              11\n",
      "================================================================\n",
      "Total params: 601\n",
      "Trainable params: 601\n",
      "Non-trainable params: 0\n",
      "----------------------------------------------------------------\n",
      "Input size (MB): 0.00\n",
      "Forward/backward pass size (MB): 0.00\n",
      "Params size (MB): 0.00\n",
      "Estimated Total Size (MB): 0.00\n",
      "----------------------------------------------------------------\n"
     ]
    }
   ],
   "source": [
    "device = torch.device(\"cuda\" if torch.cuda.is_available() else \"cpu\")\n",
    "model.to(device)\n",
    "\n",
    "summary(model, input_size=(7,))"
   ]
  },
  {
   "cell_type": "code",
   "execution_count": 174,
   "id": "984dee0a",
   "metadata": {
    "ExecuteTime": {
     "end_time": "2025-04-14T07:43:41.678821Z",
     "start_time": "2025-04-14T07:43:41.673814Z"
    }
   },
   "outputs": [],
   "source": [
    "import torch.optim as optim\n",
    "\n",
    "criterion = nn.MSELoss()\n",
    "optimizer = optim.Adam(model.parameters(), lr=0.001)"
   ]
  },
  {
   "cell_type": "code",
   "execution_count": 175,
   "id": "b2c43aeb",
   "metadata": {
    "ExecuteTime": {
     "end_time": "2025-04-14T07:43:59.632849Z",
     "start_time": "2025-04-14T07:43:41.682196Z"
    }
   },
   "outputs": [
    {
     "name": "stderr",
     "output_type": "stream",
     "text": [
      "/Library/Frameworks/Python.framework/Versions/3.11/lib/python3.11/site-packages/torch/nn/modules/loss.py:535: UserWarning: Using a target size (torch.Size([8])) that is different to the input size (torch.Size([8, 1])). This will likely lead to incorrect results due to broadcasting. Please ensure they have the same size.\n",
      "  return F.mse_loss(input, target, reduction=self.reduction)\n",
      "/Library/Frameworks/Python.framework/Versions/3.11/lib/python3.11/site-packages/torch/nn/modules/loss.py:535: UserWarning: Using a target size (torch.Size([3])) that is different to the input size (torch.Size([3, 1])). This will likely lead to incorrect results due to broadcasting. Please ensure they have the same size.\n",
      "  return F.mse_loss(input, target, reduction=self.reduction)\n"
     ]
    },
    {
     "name": "stdout",
     "output_type": "stream",
     "text": [
      "Epoch 1/100, Loss: 1078.1805\n",
      "Epoch 2/100, Loss: 1034.9596\n",
      "Epoch 3/100, Loss: 980.8665\n",
      "Epoch 4/100, Loss: 904.0385\n",
      "Epoch 5/100, Loss: 819.6911\n",
      "Epoch 6/100, Loss: 720.5418\n",
      "Epoch 7/100, Loss: 614.6132\n",
      "Epoch 8/100, Loss: 505.9149\n",
      "Epoch 9/100, Loss: 405.1684\n",
      "Epoch 10/100, Loss: 313.7714\n",
      "Epoch 11/100, Loss: 238.5543\n",
      "Epoch 12/100, Loss: 180.1103\n",
      "Epoch 13/100, Loss: 135.7996\n",
      "Epoch 14/100, Loss: 107.0620\n",
      "Epoch 15/100, Loss: 89.6236\n",
      "Epoch 16/100, Loss: 77.5193\n",
      "Epoch 17/100, Loss: 73.2421\n",
      "Epoch 18/100, Loss: 69.0845\n",
      "Epoch 19/100, Loss: 66.4054\n",
      "Epoch 20/100, Loss: 65.5281\n",
      "Epoch 21/100, Loss: 67.4434\n",
      "Epoch 22/100, Loss: 64.7849\n",
      "Epoch 23/100, Loss: 64.2211\n",
      "Epoch 24/100, Loss: 64.4483\n",
      "Epoch 25/100, Loss: 64.5148\n",
      "Epoch 26/100, Loss: 64.3820\n",
      "Epoch 27/100, Loss: 64.6702\n",
      "Epoch 28/100, Loss: 64.2213\n",
      "Epoch 29/100, Loss: 63.7961\n",
      "Epoch 30/100, Loss: 64.0597\n",
      "Epoch 31/100, Loss: 64.0522\n",
      "Epoch 32/100, Loss: 67.2011\n",
      "Epoch 33/100, Loss: 63.2390\n",
      "Epoch 34/100, Loss: 63.7576\n",
      "Epoch 35/100, Loss: 63.7170\n",
      "Epoch 36/100, Loss: 63.1935\n",
      "Epoch 37/100, Loss: 63.1226\n",
      "Epoch 38/100, Loss: 63.3272\n",
      "Epoch 39/100, Loss: 63.3162\n",
      "Epoch 40/100, Loss: 65.9180\n",
      "Epoch 41/100, Loss: 63.5915\n",
      "Epoch 42/100, Loss: 64.6692\n",
      "Epoch 43/100, Loss: 64.4705\n",
      "Epoch 44/100, Loss: 62.9140\n",
      "Epoch 45/100, Loss: 62.8811\n",
      "Epoch 46/100, Loss: 62.9548\n",
      "Epoch 47/100, Loss: 63.5408\n",
      "Epoch 48/100, Loss: 62.9228\n",
      "Epoch 49/100, Loss: 63.1150\n",
      "Epoch 50/100, Loss: 63.2033\n",
      "Epoch 51/100, Loss: 63.3330\n",
      "Epoch 52/100, Loss: 62.7704\n",
      "Epoch 53/100, Loss: 62.8173\n",
      "Epoch 54/100, Loss: 62.5005\n",
      "Epoch 55/100, Loss: 62.5932\n",
      "Epoch 56/100, Loss: 62.8905\n",
      "Epoch 57/100, Loss: 62.7358\n",
      "Epoch 58/100, Loss: 63.4637\n",
      "Epoch 59/100, Loss: 62.8404\n",
      "Epoch 60/100, Loss: 62.8092\n",
      "Epoch 61/100, Loss: 62.7884\n",
      "Epoch 62/100, Loss: 62.4734\n",
      "Epoch 63/100, Loss: 62.3955\n",
      "Epoch 64/100, Loss: 63.6256\n",
      "Epoch 65/100, Loss: 62.6903\n",
      "Epoch 66/100, Loss: 62.6143\n",
      "Epoch 67/100, Loss: 62.7545\n",
      "Epoch 68/100, Loss: 62.5359\n",
      "Epoch 69/100, Loss: 62.2182\n",
      "Epoch 70/100, Loss: 62.6263\n",
      "Epoch 71/100, Loss: 63.0005\n",
      "Epoch 72/100, Loss: 62.4873\n",
      "Epoch 73/100, Loss: 63.3618\n",
      "Epoch 74/100, Loss: 62.8421\n",
      "Epoch 75/100, Loss: 62.1623\n",
      "Epoch 76/100, Loss: 62.8777\n",
      "Epoch 77/100, Loss: 62.8167\n",
      "Epoch 78/100, Loss: 62.6249\n",
      "Epoch 79/100, Loss: 62.2691\n",
      "Epoch 80/100, Loss: 62.0705\n",
      "Epoch 81/100, Loss: 62.4073\n",
      "Epoch 82/100, Loss: 62.1619\n",
      "Epoch 83/100, Loss: 62.3928\n",
      "Epoch 84/100, Loss: 63.3133\n",
      "Epoch 85/100, Loss: 62.3023\n",
      "Epoch 86/100, Loss: 61.8799\n",
      "Epoch 87/100, Loss: 62.1117\n",
      "Epoch 88/100, Loss: 61.9652\n",
      "Epoch 89/100, Loss: 62.5804\n",
      "Epoch 90/100, Loss: 62.8816\n",
      "Epoch 91/100, Loss: 62.5201\n",
      "Epoch 92/100, Loss: 63.0602\n",
      "Epoch 93/100, Loss: 62.1016\n",
      "Epoch 94/100, Loss: 62.1412\n",
      "Epoch 95/100, Loss: 62.5049\n",
      "Epoch 96/100, Loss: 62.0465\n",
      "Epoch 97/100, Loss: 62.4707\n",
      "Epoch 98/100, Loss: 62.3240\n",
      "Epoch 99/100, Loss: 61.9782\n",
      "Epoch 100/100, Loss: 64.5158\n",
      "Training complete.\n"
     ]
    }
   ],
   "source": [
    "# Variables to store loss and accuracy\n",
    "train_losses = []\n",
    "test_accuracies = []\n",
    "\n",
    "# Training loop\n",
    "num_epochs = 100\n",
    "for epoch in range(num_epochs):\n",
    "    model.train()\n",
    "    running_loss = 0.0\n",
    "    for inputs, labels in train_dataloader:\n",
    "        # Zero the parameter gradients\n",
    "        optimizer.zero_grad()\n",
    "\n",
    "        # Forward pass\n",
    "        outputs = model(inputs)\n",
    "        loss = criterion(outputs, labels)\n",
    "\n",
    "        # Backward pass and optimize\n",
    "        loss.backward()\n",
    "        optimizer.step()\n",
    "\n",
    "        running_loss += loss.item()\n",
    "\n",
    "    # Calculate average loss over an epoch\n",
    "    train_losses.append(running_loss / len(train_dataloader))\n",
    "\n",
    "    # Evaluate on test data\n",
    "    model.eval()\n",
    "    correct = 0\n",
    "    total = 0\n",
    "    with torch.no_grad():\n",
    "        for inputs, labels in test_dataloader:\n",
    "            outputs = model(inputs)\n",
    "            _, predicted = torch.max(outputs.data, 1)\n",
    "            total += labels.size(0)\n",
    "            correct += (predicted == labels).sum().item()\n",
    "\n",
    "    accuracy = 100 * correct / total\n",
    "    test_accuracies.append(accuracy)\n",
    "\n",
    "    print(f\"Epoch {epoch + 1}/{num_epochs}, Loss: {train_losses[-1]:.4f}\")\n",
    "\n",
    "print(\"Training complete.\")"
   ]
  },
  {
   "cell_type": "code",
   "execution_count": 176,
   "id": "474fc19f",
   "metadata": {
    "ExecuteTime": {
     "end_time": "2025-04-14T07:43:59.846053Z",
     "start_time": "2025-04-14T07:43:59.635453Z"
    }
   },
   "outputs": [
    {
     "data": {
      "image/png": "[encoded data removed]",
      "text/plain": [
       "<Figure size 1200x500 with 1 Axes>"
      ]
     },
     "metadata": {},
     "output_type": "display_data"
    }
   ],
   "source": [
    "# Plot the loss and accuracy\n",
    "plt.figure(figsize=(12, 5))\n",
    "\n",
    "# Plot loss\n",
    "plt.plot(train_losses, label='Training Loss')\n",
    "plt.xlabel('Epoch')\n",
    "plt.ylabel('Loss')\n",
    "plt.title('Training Loss Over Epochs')\n",
    "plt.legend()\n",
    "\n",
    "plt.show()"
   ]
  },
  {
   "cell_type": "code",
   "execution_count": 177,
   "id": "6ac0addd",
   "metadata": {
    "ExecuteTime": {
     "end_time": "2025-04-14T07:43:59.858836Z",
     "start_time": "2025-04-14T07:43:59.848242Z"
    }
   },
   "outputs": [
    {
     "name": "stdout",
     "output_type": "stream",
     "text": [
      "\n",
      "[Train] MSE: 62.9153, MAE: 5.8877, RMSE: 7.9319\n",
      "[Test]  MSE: 68.0394, MAE: 5.9791, RMSE: 8.2486\n"
     ]
    }
   ],
   "source": [
    "import torch.nn.functional as F\n",
    "from sklearn.metrics import mean_squared_error, mean_absolute_error\n",
    "import numpy as np\n",
    "\n",
    "model.eval()\n",
    "with torch.no_grad():\n",
    "    y_train_pred = model(X_train).squeeze()\n",
    "    y_test_pred = model(X_test).squeeze()\n",
    "\n",
    "y_train_np = y_train_pred.cpu().numpy()\n",
    "y_train_true = y_train.cpu().numpy()\n",
    "y_test_np = y_test_pred.cpu().numpy()\n",
    "y_test_true = y_test.cpu().numpy()\n",
    "\n",
    "train_mse = mean_squared_error(y_train_true, y_train_np)\n",
    "test_mse = mean_squared_error(y_test_true, y_test_np)\n",
    "\n",
    "train_mae = mean_absolute_error(y_train_true, y_train_np)\n",
    "test_mae = mean_absolute_error(y_test_true, y_test_np)\n",
    "\n",
    "train_rmse = np.sqrt(train_mse)\n",
    "test_rmse = np.sqrt(test_mse)\n",
    "\n",
    "print(f\"\\n[Train] MSE: {train_mse:.4f}, MAE: {train_mae:.4f}, RMSE: {train_rmse:.4f}\")\n",
    "print(f\"[Test]  MSE: {test_mse:.4f}, MAE: {test_mae:.4f}, RMSE: {test_rmse:.4f}\")\n"
   ]
  }
 ],
 "metadata": {
  "kernelspec": {
   "display_name": "Python 3 (ipykernel)",
   "language": "python",
   "name": "python3"
  },
  "language_info": {
   "codemirror_mode": {
    "name": "ipython",
    "version": 3
   },
   "file_extension": ".py",
   "mimetype": "text/x-python",
   "name": "python",
   "nbconvert_exporter": "python",
   "pygments_lexer": "ipython3",
   "version": "3.11.3"
  },
  "varInspector": {
   "cols": {
    "lenName": 16,
    "lenType": 16,
    "lenVar": 40
   },
   "kernels_config": {
    "python": {
     "delete_cmd_postfix": "",
     "delete_cmd_prefix": "del ",
     "library": "var_list.py",
     "varRefreshCmd": "print(var_dic_list())"
    },
    "r": {
     "delete_cmd_postfix": ") ",
     "delete_cmd_prefix": "rm(",
     "library": "var_list.r",
     "varRefreshCmd": "cat(var_dic_list()) "
    }
   },
   "types_to_exclude": [
    "module",
    "function",
    "builtin_function_or_method",
    "instance",
    "_Feature"
   ],
   "window_display": false
  }
 },
 "nbformat": 4,
 "nbformat_minor": 5
}
