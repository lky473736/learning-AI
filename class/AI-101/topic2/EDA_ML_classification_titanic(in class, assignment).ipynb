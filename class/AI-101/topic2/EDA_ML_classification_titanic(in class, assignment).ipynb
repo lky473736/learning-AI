{
 "cells": [
  {
   "cell_type": "code",
   "execution_count": 41,
   "id": "4187d8f7",
   "metadata": {
    "ExecuteTime": {
     "end_time": "2025-03-17T08:46:56.140353Z",
     "start_time": "2025-03-17T08:46:56.135174Z"
    }
   },
   "outputs": [],
   "source": [
    "import numpy as np\n",
    "import pandas as pd\n",
    "import matplotlib.pyplot as plt\n",
    "import seaborn as sns\n",
    "from sklearn.metrics import classification_report, confusion_matrix, accuracy_score, f1_score, precision_score, recall_score"
   ]
  },
  {
   "cell_type": "code",
   "execution_count": 21,
   "id": "89a9c24d",
   "metadata": {
    "ExecuteTime": {
     "end_time": "2025-03-17T08:42:54.676331Z",
     "start_time": "2025-03-17T08:42:54.625873Z"
    }
   },
   "outputs": [
    {
     "data": {
      "text/html": [
       "<div>\n",
       "<style scoped>\n",
       "    .dataframe tbody tr th:only-of-type {\n",
       "        vertical-align: middle;\n",
       "    }\n",
       "\n",
       "    .dataframe tbody tr th {\n",
       "        vertical-align: top;\n",
       "    }\n",
       "\n",
       "    .dataframe thead th {\n",
       "        text-align: right;\n",
       "    }\n",
       "</style>\n",
       "<table border=\"1\" class=\"dataframe\">\n",
       "  <thead>\n",
       "    <tr style=\"text-align: right;\">\n",
       "      <th></th>\n",
       "      <th>PassengerId</th>\n",
       "      <th>Survived</th>\n",
       "      <th>Pclass</th>\n",
       "      <th>Name</th>\n",
       "      <th>Sex</th>\n",
       "      <th>Age</th>\n",
       "      <th>SibSp</th>\n",
       "      <th>Parch</th>\n",
       "      <th>Ticket</th>\n",
       "      <th>Fare</th>\n",
       "      <th>Cabin</th>\n",
       "      <th>Embarked</th>\n",
       "    </tr>\n",
       "  </thead>\n",
       "  <tbody>\n",
       "    <tr>\n",
       "      <th>0</th>\n",
       "      <td>1</td>\n",
       "      <td>0</td>\n",
       "      <td>3</td>\n",
       "      <td>Braund, Mr. Owen Harris</td>\n",
       "      <td>male</td>\n",
       "      <td>22.0</td>\n",
       "      <td>1</td>\n",
       "      <td>0</td>\n",
       "      <td>A/5 21171</td>\n",
       "      <td>7.2500</td>\n",
       "      <td>NaN</td>\n",
       "      <td>S</td>\n",
       "    </tr>\n",
       "    <tr>\n",
       "      <th>1</th>\n",
       "      <td>2</td>\n",
       "      <td>1</td>\n",
       "      <td>1</td>\n",
       "      <td>Cumings, Mrs. John Bradley (Florence Briggs Th...</td>\n",
       "      <td>female</td>\n",
       "      <td>38.0</td>\n",
       "      <td>1</td>\n",
       "      <td>0</td>\n",
       "      <td>PC 17599</td>\n",
       "      <td>71.2833</td>\n",
       "      <td>C85</td>\n",
       "      <td>C</td>\n",
       "    </tr>\n",
       "    <tr>\n",
       "      <th>2</th>\n",
       "      <td>3</td>\n",
       "      <td>1</td>\n",
       "      <td>3</td>\n",
       "      <td>Heikkinen, Miss. Laina</td>\n",
       "      <td>female</td>\n",
       "      <td>26.0</td>\n",
       "      <td>0</td>\n",
       "      <td>0</td>\n",
       "      <td>STON/O2. 3101282</td>\n",
       "      <td>7.9250</td>\n",
       "      <td>NaN</td>\n",
       "      <td>S</td>\n",
       "    </tr>\n",
       "    <tr>\n",
       "      <th>3</th>\n",
       "      <td>4</td>\n",
       "      <td>1</td>\n",
       "      <td>1</td>\n",
       "      <td>Futrelle, Mrs. Jacques Heath (Lily May Peel)</td>\n",
       "      <td>female</td>\n",
       "      <td>35.0</td>\n",
       "      <td>1</td>\n",
       "      <td>0</td>\n",
       "      <td>113803</td>\n",
       "      <td>53.1000</td>\n",
       "      <td>C123</td>\n",
       "      <td>S</td>\n",
       "    </tr>\n",
       "    <tr>\n",
       "      <th>4</th>\n",
       "      <td>5</td>\n",
       "      <td>0</td>\n",
       "      <td>3</td>\n",
       "      <td>Allen, Mr. William Henry</td>\n",
       "      <td>male</td>\n",
       "      <td>35.0</td>\n",
       "      <td>0</td>\n",
       "      <td>0</td>\n",
       "      <td>373450</td>\n",
       "      <td>8.0500</td>\n",
       "      <td>NaN</td>\n",
       "      <td>S</td>\n",
       "    </tr>\n",
       "    <tr>\n",
       "      <th>...</th>\n",
       "      <td>...</td>\n",
       "      <td>...</td>\n",
       "      <td>...</td>\n",
       "      <td>...</td>\n",
       "      <td>...</td>\n",
       "      <td>...</td>\n",
       "      <td>...</td>\n",
       "      <td>...</td>\n",
       "      <td>...</td>\n",
       "      <td>...</td>\n",
       "      <td>...</td>\n",
       "      <td>...</td>\n",
       "    </tr>\n",
       "    <tr>\n",
       "      <th>886</th>\n",
       "      <td>887</td>\n",
       "      <td>0</td>\n",
       "      <td>2</td>\n",
       "      <td>Montvila, Rev. Juozas</td>\n",
       "      <td>male</td>\n",
       "      <td>27.0</td>\n",
       "      <td>0</td>\n",
       "      <td>0</td>\n",
       "      <td>211536</td>\n",
       "      <td>13.0000</td>\n",
       "      <td>NaN</td>\n",
       "      <td>S</td>\n",
       "    </tr>\n",
       "    <tr>\n",
       "      <th>887</th>\n",
       "      <td>888</td>\n",
       "      <td>1</td>\n",
       "      <td>1</td>\n",
       "      <td>Graham, Miss. Margaret Edith</td>\n",
       "      <td>female</td>\n",
       "      <td>19.0</td>\n",
       "      <td>0</td>\n",
       "      <td>0</td>\n",
       "      <td>112053</td>\n",
       "      <td>30.0000</td>\n",
       "      <td>B42</td>\n",
       "      <td>S</td>\n",
       "    </tr>\n",
       "    <tr>\n",
       "      <th>888</th>\n",
       "      <td>889</td>\n",
       "      <td>0</td>\n",
       "      <td>3</td>\n",
       "      <td>Johnston, Miss. Catherine Helen \"Carrie\"</td>\n",
       "      <td>female</td>\n",
       "      <td>NaN</td>\n",
       "      <td>1</td>\n",
       "      <td>2</td>\n",
       "      <td>W./C. 6607</td>\n",
       "      <td>23.4500</td>\n",
       "      <td>NaN</td>\n",
       "      <td>S</td>\n",
       "    </tr>\n",
       "    <tr>\n",
       "      <th>889</th>\n",
       "      <td>890</td>\n",
       "      <td>1</td>\n",
       "      <td>1</td>\n",
       "      <td>Behr, Mr. Karl Howell</td>\n",
       "      <td>male</td>\n",
       "      <td>26.0</td>\n",
       "      <td>0</td>\n",
       "      <td>0</td>\n",
       "      <td>111369</td>\n",
       "      <td>30.0000</td>\n",
       "      <td>C148</td>\n",
       "      <td>C</td>\n",
       "    </tr>\n",
       "    <tr>\n",
       "      <th>890</th>\n",
       "      <td>891</td>\n",
       "      <td>0</td>\n",
       "      <td>3</td>\n",
       "      <td>Dooley, Mr. Patrick</td>\n",
       "      <td>male</td>\n",
       "      <td>32.0</td>\n",
       "      <td>0</td>\n",
       "      <td>0</td>\n",
       "      <td>370376</td>\n",
       "      <td>7.7500</td>\n",
       "      <td>NaN</td>\n",
       "      <td>Q</td>\n",
       "    </tr>\n",
       "  </tbody>\n",
       "</table>\n",
       "<p>891 rows × 12 columns</p>\n",
       "</div>"
      ],
      "text/plain": [
       "     PassengerId  Survived  Pclass  \\\n",
       "0              1         0       3   \n",
       "1              2         1       1   \n",
       "2              3         1       3   \n",
       "3              4         1       1   \n",
       "4              5         0       3   \n",
       "..           ...       ...     ...   \n",
       "886          887         0       2   \n",
       "887          888         1       1   \n",
       "888          889         0       3   \n",
       "889          890         1       1   \n",
       "890          891         0       3   \n",
       "\n",
       "                                                  Name     Sex   Age  SibSp  \\\n",
       "0                              Braund, Mr. Owen Harris    male  22.0      1   \n",
       "1    Cumings, Mrs. John Bradley (Florence Briggs Th...  female  38.0      1   \n",
       "2                               Heikkinen, Miss. Laina  female  26.0      0   \n",
       "3         Futrelle, Mrs. Jacques Heath (Lily May Peel)  female  35.0      1   \n",
       "4                             Allen, Mr. William Henry    male  35.0      0   \n",
       "..                                                 ...     ...   ...    ...   \n",
       "886                              Montvila, Rev. Juozas    male  27.0      0   \n",
       "887                       Graham, Miss. Margaret Edith  female  19.0      0   \n",
       "888           Johnston, Miss. Catherine Helen \"Carrie\"  female   NaN      1   \n",
       "889                              Behr, Mr. Karl Howell    male  26.0      0   \n",
       "890                                Dooley, Mr. Patrick    male  32.0      0   \n",
       "\n",
       "     Parch            Ticket     Fare Cabin Embarked  \n",
       "0        0         A/5 21171   7.2500   NaN        S  \n",
       "1        0          PC 17599  71.2833   C85        C  \n",
       "2        0  STON/O2. 3101282   7.9250   NaN        S  \n",
       "3        0            113803  53.1000  C123        S  \n",
       "4        0            373450   8.0500   NaN        S  \n",
       "..     ...               ...      ...   ...      ...  \n",
       "886      0            211536  13.0000   NaN        S  \n",
       "887      0            112053  30.0000   B42        S  \n",
       "888      2        W./C. 6607  23.4500   NaN        S  \n",
       "889      0            111369  30.0000  C148        C  \n",
       "890      0            370376   7.7500   NaN        Q  \n",
       "\n",
       "[891 rows x 12 columns]"
      ]
     },
     "execution_count": 21,
     "metadata": {},
     "output_type": "execute_result"
    }
   ],
   "source": [
    "# df = pd.read_csv (\"../data/mobile.csv\")\n",
    "# df\n",
    "\n",
    "df = pd.read_csv(\"../data/Titanic-Dataset.csv\")\n",
    "df"
   ]
  },
  {
   "cell_type": "code",
   "execution_count": 22,
   "id": "59c5704e",
   "metadata": {
    "ExecuteTime": {
     "end_time": "2025-03-17T08:42:54.891656Z",
     "start_time": "2025-03-17T08:42:54.684609Z"
    }
   },
   "outputs": [
    {
     "name": "stdout",
     "output_type": "stream",
     "text": [
      "<class 'pandas.core.frame.DataFrame'>\n",
      "RangeIndex: 891 entries, 0 to 890\n",
      "Data columns (total 12 columns):\n",
      " #   Column       Non-Null Count  Dtype  \n",
      "---  ------       --------------  -----  \n",
      " 0   PassengerId  891 non-null    int64  \n",
      " 1   Survived     891 non-null    int64  \n",
      " 2   Pclass       891 non-null    int64  \n",
      " 3   Name         891 non-null    object \n",
      " 4   Sex          891 non-null    object \n",
      " 5   Age          714 non-null    float64\n",
      " 6   SibSp        891 non-null    int64  \n",
      " 7   Parch        891 non-null    int64  \n",
      " 8   Ticket       891 non-null    object \n",
      " 9   Fare         891 non-null    float64\n",
      " 10  Cabin        204 non-null    object \n",
      " 11  Embarked     889 non-null    object \n",
      "dtypes: float64(2), int64(5), object(5)\n",
      "memory usage: 83.7+ KB\n"
     ]
    },
    {
     "data": {
      "text/html": [
       "<div>\n",
       "<style scoped>\n",
       "    .dataframe tbody tr th:only-of-type {\n",
       "        vertical-align: middle;\n",
       "    }\n",
       "\n",
       "    .dataframe tbody tr th {\n",
       "        vertical-align: top;\n",
       "    }\n",
       "\n",
       "    .dataframe thead th {\n",
       "        text-align: right;\n",
       "    }\n",
       "</style>\n",
       "<table border=\"1\" class=\"dataframe\">\n",
       "  <thead>\n",
       "    <tr style=\"text-align: right;\">\n",
       "      <th></th>\n",
       "      <th>count</th>\n",
       "      <th>mean</th>\n",
       "      <th>std</th>\n",
       "      <th>min</th>\n",
       "      <th>25%</th>\n",
       "      <th>50%</th>\n",
       "      <th>75%</th>\n",
       "      <th>max</th>\n",
       "    </tr>\n",
       "  </thead>\n",
       "  <tbody>\n",
       "    <tr>\n",
       "      <th>PassengerId</th>\n",
       "      <td>891.0</td>\n",
       "      <td>446.000000</td>\n",
       "      <td>257.353842</td>\n",
       "      <td>1.00</td>\n",
       "      <td>223.5000</td>\n",
       "      <td>446.0000</td>\n",
       "      <td>668.5</td>\n",
       "      <td>891.0000</td>\n",
       "    </tr>\n",
       "    <tr>\n",
       "      <th>Survived</th>\n",
       "      <td>891.0</td>\n",
       "      <td>0.383838</td>\n",
       "      <td>0.486592</td>\n",
       "      <td>0.00</td>\n",
       "      <td>0.0000</td>\n",
       "      <td>0.0000</td>\n",
       "      <td>1.0</td>\n",
       "      <td>1.0000</td>\n",
       "    </tr>\n",
       "    <tr>\n",
       "      <th>Pclass</th>\n",
       "      <td>891.0</td>\n",
       "      <td>2.308642</td>\n",
       "      <td>0.836071</td>\n",
       "      <td>1.00</td>\n",
       "      <td>2.0000</td>\n",
       "      <td>3.0000</td>\n",
       "      <td>3.0</td>\n",
       "      <td>3.0000</td>\n",
       "    </tr>\n",
       "    <tr>\n",
       "      <th>Age</th>\n",
       "      <td>714.0</td>\n",
       "      <td>29.699118</td>\n",
       "      <td>14.526497</td>\n",
       "      <td>0.42</td>\n",
       "      <td>20.1250</td>\n",
       "      <td>28.0000</td>\n",
       "      <td>38.0</td>\n",
       "      <td>80.0000</td>\n",
       "    </tr>\n",
       "    <tr>\n",
       "      <th>SibSp</th>\n",
       "      <td>891.0</td>\n",
       "      <td>0.523008</td>\n",
       "      <td>1.102743</td>\n",
       "      <td>0.00</td>\n",
       "      <td>0.0000</td>\n",
       "      <td>0.0000</td>\n",
       "      <td>1.0</td>\n",
       "      <td>8.0000</td>\n",
       "    </tr>\n",
       "    <tr>\n",
       "      <th>Parch</th>\n",
       "      <td>891.0</td>\n",
       "      <td>0.381594</td>\n",
       "      <td>0.806057</td>\n",
       "      <td>0.00</td>\n",
       "      <td>0.0000</td>\n",
       "      <td>0.0000</td>\n",
       "      <td>0.0</td>\n",
       "      <td>6.0000</td>\n",
       "    </tr>\n",
       "    <tr>\n",
       "      <th>Fare</th>\n",
       "      <td>891.0</td>\n",
       "      <td>32.204208</td>\n",
       "      <td>49.693429</td>\n",
       "      <td>0.00</td>\n",
       "      <td>7.9104</td>\n",
       "      <td>14.4542</td>\n",
       "      <td>31.0</td>\n",
       "      <td>512.3292</td>\n",
       "    </tr>\n",
       "  </tbody>\n",
       "</table>\n",
       "</div>"
      ],
      "text/plain": [
       "             count        mean         std   min       25%       50%    75%  \\\n",
       "PassengerId  891.0  446.000000  257.353842  1.00  223.5000  446.0000  668.5   \n",
       "Survived     891.0    0.383838    0.486592  0.00    0.0000    0.0000    1.0   \n",
       "Pclass       891.0    2.308642    0.836071  1.00    2.0000    3.0000    3.0   \n",
       "Age          714.0   29.699118   14.526497  0.42   20.1250   28.0000   38.0   \n",
       "SibSp        891.0    0.523008    1.102743  0.00    0.0000    0.0000    1.0   \n",
       "Parch        891.0    0.381594    0.806057  0.00    0.0000    0.0000    0.0   \n",
       "Fare         891.0   32.204208   49.693429  0.00    7.9104   14.4542   31.0   \n",
       "\n",
       "                  max  \n",
       "PassengerId  891.0000  \n",
       "Survived       1.0000  \n",
       "Pclass         3.0000  \n",
       "Age           80.0000  \n",
       "SibSp          8.0000  \n",
       "Parch          6.0000  \n",
       "Fare         512.3292  "
      ]
     },
     "execution_count": 22,
     "metadata": {},
     "output_type": "execute_result"
    }
   ],
   "source": [
    "df.info()\n",
    "df.describe().T"
   ]
  },
  {
   "cell_type": "code",
   "execution_count": 23,
   "id": "71c48317",
   "metadata": {
    "ExecuteTime": {
     "end_time": "2025-03-17T08:42:55.233669Z",
     "start_time": "2025-03-17T08:42:54.919390Z"
    }
   },
   "outputs": [
    {
     "name": "stdout",
     "output_type": "stream",
     "text": [
      "Survived\n",
      "0    549\n",
      "1    342\n",
      "Name: count, dtype: int64\n"
     ]
    },
    {
     "data": {
      "text/plain": [
       "<Axes: xlabel='Survived', ylabel='count'>"
      ]
     },
     "execution_count": 23,
     "metadata": {},
     "output_type": "execute_result"
    },
    {
     "data": {
      "image/png": "[encoded data removed]",
      "text/plain": [
       "<Figure size 640x480 with 1 Axes>"
      ]
     },
     "metadata": {},
     "output_type": "display_data"
    }
   ],
   "source": [
    "print (df['Survived'].value_counts())\n",
    "sns.countplot(data=df, x='Survived')"
   ]
  },
  {
   "cell_type": "code",
   "execution_count": 24,
   "id": "75b92095",
   "metadata": {
    "ExecuteTime": {
     "end_time": "2025-03-17T08:42:55.248599Z",
     "start_time": "2025-03-17T08:42:55.239255Z"
    }
   },
   "outputs": [
    {
     "name": "stdout",
     "output_type": "stream",
     "text": [
      "PassengerId      0\n",
      "Survived         0\n",
      "Pclass           0\n",
      "Name             0\n",
      "Sex              0\n",
      "Age            177\n",
      "SibSp            0\n",
      "Parch            0\n",
      "Ticket           0\n",
      "Fare             0\n",
      "Cabin          687\n",
      "Embarked         2\n",
      "dtype: int64\n"
     ]
    }
   ],
   "source": [
    "print (df.isnull().sum())"
   ]
  },
  {
   "cell_type": "code",
   "execution_count": 25,
   "id": "5b32e482",
   "metadata": {
    "ExecuteTime": {
     "end_time": "2025-03-17T08:42:55.271400Z",
     "start_time": "2025-03-17T08:42:55.253984Z"
    }
   },
   "outputs": [
    {
     "name": "stdout",
     "output_type": "stream",
     "text": [
      "Index(['PassengerId', 'Survived', 'Pclass', 'Sex', 'Age', 'SibSp', 'Parch',\n",
      "       'Fare'],\n",
      "      dtype='object')\n"
     ]
    }
   ],
   "source": [
    "df = df.drop(columns = ['Name'])\n",
    "df = df.drop(columns = ['Ticket'])\n",
    "df = df.drop(columns = ['Cabin'])\n",
    "df = df.drop(columns = ['Embarked'])\n",
    "print (df.columns)"
   ]
  },
  {
   "cell_type": "code",
   "execution_count": 26,
   "id": "a4ea1a64",
   "metadata": {
    "ExecuteTime": {
     "end_time": "2025-03-17T08:42:55.295026Z",
     "start_time": "2025-03-17T08:42:55.277217Z"
    }
   },
   "outputs": [
    {
     "name": "stdout",
     "output_type": "stream",
     "text": [
      "PassengerId      0\n",
      "Survived         0\n",
      "Pclass           0\n",
      "Sex              0\n",
      "Age            177\n",
      "SibSp            0\n",
      "Parch            0\n",
      "Fare             0\n",
      "dtype: int64\n",
      "PassengerId    0\n",
      "Survived       0\n",
      "Pclass         0\n",
      "Sex            0\n",
      "Age            0\n",
      "SibSp          0\n",
      "Parch          0\n",
      "Fare           0\n",
      "dtype: int64\n"
     ]
    }
   ],
   "source": [
    "print (df.isnull().sum())\n",
    "df['Age'] = df['Age'].fillna(df.mean)\n",
    "print (df.isnull().sum() )"
   ]
  },
  {
   "cell_type": "code",
   "execution_count": 27,
   "id": "f67f90ee",
   "metadata": {
    "ExecuteTime": {
     "end_time": "2025-03-17T08:42:55.325673Z",
     "start_time": "2025-03-17T08:42:55.303231Z"
    }
   },
   "outputs": [
    {
     "name": "stdout",
     "output_type": "stream",
     "text": [
      "PassengerId :  int64\n",
      "Survived :  int64\n",
      "Pclass :  int64\n",
      "Sex :  object\n",
      "Age :  object\n",
      "SibSp :  int64\n",
      "Parch :  int64\n",
      "Fare :  float64\n"
     ]
    },
    {
     "name": "stderr",
     "output_type": "stream",
     "text": [
      "/var/folders/_z/gryfr07n59jgb3wrd062h1ym0000gn/T/ipykernel_77977/362890755.py:11: FutureWarning: A value is trying to be set on a copy of a DataFrame or Series through chained assignment using an inplace method.\n",
      "The behavior will change in pandas 3.0. This inplace method will never work because the intermediate object on which we are setting values always behaves as a copy.\n",
      "\n",
      "For example, when doing 'df[col].method(value, inplace=True)', try using 'df.method({col: value}, inplace=True)' or df[col] = df[col].method(value) instead, to perform the operation inplace on the original object.\n",
      "\n",
      "\n",
      "  df.iloc[:, col_idx].fillna(df.iloc[:, col_idx].median(), inplace=True)\n",
      "/var/folders/_z/gryfr07n59jgb3wrd062h1ym0000gn/T/ipykernel_77977/362890755.py:11: FutureWarning: Downcasting object dtype arrays on .fillna, .ffill, .bfill is deprecated and will change in a future version. Call result.infer_objects(copy=False) instead. To opt-in to the future behavior, set `pd.set_option('future.no_silent_downcasting', True)`\n",
      "  df.iloc[:, col_idx].fillna(df.iloc[:, col_idx].median(), inplace=True)\n"
     ]
    }
   ],
   "source": [
    "for name in df.columns : \n",
    "    print (f\"{name} : \", df[name].dtype)\n",
    "\n",
    "from sklearn.preprocessing import LabelEncoder\n",
    "\n",
    "LE = LabelEncoder()\n",
    "df['Sex'] = LE.fit_transform(df['Sex'])\n",
    "\n",
    "col_idx = 4 \n",
    "df.iloc[:, col_idx] = pd.to_numeric(df.iloc[:, col_idx], errors='coerce') \n",
    "df.iloc[:, col_idx].fillna(df.iloc[:, col_idx].median(), inplace=True)  \n",
    "df.iloc[:, col_idx] = df.iloc[:, col_idx].astype(int)  "
   ]
  },
  {
   "cell_type": "code",
   "execution_count": 28,
   "id": "eeebf4d0",
   "metadata": {
    "ExecuteTime": {
     "end_time": "2025-03-17T08:42:55.345625Z",
     "start_time": "2025-03-17T08:42:55.332745Z"
    }
   },
   "outputs": [
    {
     "data": {
      "text/plain": [
       "((891, 7), (891,))"
      ]
     },
     "execution_count": 28,
     "metadata": {},
     "output_type": "execute_result"
    }
   ],
   "source": [
    "X = df.drop(columns=['Survived'])\n",
    "y = df['Survived']\n",
    "\n",
    "X.shape, y.shape"
   ]
  },
  {
   "cell_type": "code",
   "execution_count": 29,
   "id": "e38a8066",
   "metadata": {
    "ExecuteTime": {
     "end_time": "2025-03-17T08:42:55.455147Z",
     "start_time": "2025-03-17T08:42:55.371289Z"
    }
   },
   "outputs": [
    {
     "data": {
      "text/html": [
       "<div>\n",
       "<style scoped>\n",
       "    .dataframe tbody tr th:only-of-type {\n",
       "        vertical-align: middle;\n",
       "    }\n",
       "\n",
       "    .dataframe tbody tr th {\n",
       "        vertical-align: top;\n",
       "    }\n",
       "\n",
       "    .dataframe thead th {\n",
       "        text-align: right;\n",
       "    }\n",
       "</style>\n",
       "<table border=\"1\" class=\"dataframe\">\n",
       "  <thead>\n",
       "    <tr style=\"text-align: right;\">\n",
       "      <th></th>\n",
       "      <th>PassengerId</th>\n",
       "      <th>Pclass</th>\n",
       "      <th>Sex</th>\n",
       "      <th>Age</th>\n",
       "      <th>SibSp</th>\n",
       "      <th>Parch</th>\n",
       "      <th>Fare</th>\n",
       "    </tr>\n",
       "  </thead>\n",
       "  <tbody>\n",
       "    <tr>\n",
       "      <th>86</th>\n",
       "      <td>87</td>\n",
       "      <td>3</td>\n",
       "      <td>1</td>\n",
       "      <td>16.0</td>\n",
       "      <td>1</td>\n",
       "      <td>3</td>\n",
       "      <td>34.3750</td>\n",
       "    </tr>\n",
       "    <tr>\n",
       "      <th>780</th>\n",
       "      <td>781</td>\n",
       "      <td>3</td>\n",
       "      <td>0</td>\n",
       "      <td>13.0</td>\n",
       "      <td>0</td>\n",
       "      <td>0</td>\n",
       "      <td>7.2292</td>\n",
       "    </tr>\n",
       "    <tr>\n",
       "      <th>612</th>\n",
       "      <td>613</td>\n",
       "      <td>3</td>\n",
       "      <td>0</td>\n",
       "      <td>28.0</td>\n",
       "      <td>1</td>\n",
       "      <td>0</td>\n",
       "      <td>15.5000</td>\n",
       "    </tr>\n",
       "    <tr>\n",
       "      <th>387</th>\n",
       "      <td>388</td>\n",
       "      <td>2</td>\n",
       "      <td>0</td>\n",
       "      <td>36.0</td>\n",
       "      <td>0</td>\n",
       "      <td>0</td>\n",
       "      <td>13.0000</td>\n",
       "    </tr>\n",
       "    <tr>\n",
       "      <th>293</th>\n",
       "      <td>294</td>\n",
       "      <td>3</td>\n",
       "      <td>0</td>\n",
       "      <td>24.0</td>\n",
       "      <td>0</td>\n",
       "      <td>0</td>\n",
       "      <td>8.8500</td>\n",
       "    </tr>\n",
       "  </tbody>\n",
       "</table>\n",
       "</div>"
      ],
      "text/plain": [
       "     PassengerId  Pclass  Sex   Age  SibSp  Parch     Fare\n",
       "86            87       3    1  16.0      1      3  34.3750\n",
       "780          781       3    0  13.0      0      0   7.2292\n",
       "612          613       3    0  28.0      1      0  15.5000\n",
       "387          388       2    0  36.0      0      0  13.0000\n",
       "293          294       3    0  24.0      0      0   8.8500"
      ]
     },
     "metadata": {},
     "output_type": "display_data"
    },
    {
     "data": {
      "text/plain": [
       "86     0\n",
       "780    1\n",
       "612    1\n",
       "387    1\n",
       "293    0\n",
       "Name: Survived, dtype: int64"
      ]
     },
     "metadata": {},
     "output_type": "display_data"
    },
    {
     "data": {
      "text/html": [
       "<div>\n",
       "<style scoped>\n",
       "    .dataframe tbody tr th:only-of-type {\n",
       "        vertical-align: middle;\n",
       "    }\n",
       "\n",
       "    .dataframe tbody tr th {\n",
       "        vertical-align: top;\n",
       "    }\n",
       "\n",
       "    .dataframe thead th {\n",
       "        text-align: right;\n",
       "    }\n",
       "</style>\n",
       "<table border=\"1\" class=\"dataframe\">\n",
       "  <thead>\n",
       "    <tr style=\"text-align: right;\">\n",
       "      <th></th>\n",
       "      <th>PassengerId</th>\n",
       "      <th>Pclass</th>\n",
       "      <th>Sex</th>\n",
       "      <th>Age</th>\n",
       "      <th>SibSp</th>\n",
       "      <th>Parch</th>\n",
       "      <th>Fare</th>\n",
       "    </tr>\n",
       "  </thead>\n",
       "  <tbody>\n",
       "    <tr>\n",
       "      <th>220</th>\n",
       "      <td>221</td>\n",
       "      <td>3</td>\n",
       "      <td>1</td>\n",
       "      <td>16.0</td>\n",
       "      <td>0</td>\n",
       "      <td>0</td>\n",
       "      <td>8.0500</td>\n",
       "    </tr>\n",
       "    <tr>\n",
       "      <th>192</th>\n",
       "      <td>193</td>\n",
       "      <td>3</td>\n",
       "      <td>0</td>\n",
       "      <td>19.0</td>\n",
       "      <td>1</td>\n",
       "      <td>0</td>\n",
       "      <td>7.8542</td>\n",
       "    </tr>\n",
       "    <tr>\n",
       "      <th>118</th>\n",
       "      <td>119</td>\n",
       "      <td>1</td>\n",
       "      <td>1</td>\n",
       "      <td>24.0</td>\n",
       "      <td>0</td>\n",
       "      <td>1</td>\n",
       "      <td>247.5208</td>\n",
       "    </tr>\n",
       "    <tr>\n",
       "      <th>299</th>\n",
       "      <td>300</td>\n",
       "      <td>1</td>\n",
       "      <td>0</td>\n",
       "      <td>50.0</td>\n",
       "      <td>0</td>\n",
       "      <td>1</td>\n",
       "      <td>247.5208</td>\n",
       "    </tr>\n",
       "    <tr>\n",
       "      <th>693</th>\n",
       "      <td>694</td>\n",
       "      <td>3</td>\n",
       "      <td>1</td>\n",
       "      <td>25.0</td>\n",
       "      <td>0</td>\n",
       "      <td>0</td>\n",
       "      <td>7.2250</td>\n",
       "    </tr>\n",
       "  </tbody>\n",
       "</table>\n",
       "</div>"
      ],
      "text/plain": [
       "     PassengerId  Pclass  Sex   Age  SibSp  Parch      Fare\n",
       "220          221       3    1  16.0      0      0    8.0500\n",
       "192          193       3    0  19.0      1      0    7.8542\n",
       "118          119       1    1  24.0      0      1  247.5208\n",
       "299          300       1    0  50.0      0      1  247.5208\n",
       "693          694       3    1  25.0      0      0    7.2250"
      ]
     },
     "metadata": {},
     "output_type": "display_data"
    },
    {
     "data": {
      "text/plain": [
       "220    1\n",
       "192    1\n",
       "118    0\n",
       "299    1\n",
       "693    0\n",
       "Name: Survived, dtype: int64"
      ]
     },
     "metadata": {},
     "output_type": "display_data"
    },
    {
     "name": "stdout",
     "output_type": "stream",
     "text": [
      "(712, 7) (179, 7) (712,) (179,)\n",
      "86     0\n",
      "780    1\n",
      "612    1\n",
      "387    1\n",
      "293    0\n",
      "      ..\n",
      "197    0\n",
      "168    0\n",
      "715    0\n",
      "138    0\n",
      "349    0\n",
      "Name: Survived, Length: 712, dtype: int64\n"
     ]
    }
   ],
   "source": [
    "from sklearn.model_selection import train_test_split\n",
    "\n",
    "X_train, X_test, y_train, y_test = train_test_split(X, y, \n",
    "                                                    test_size=0.2,\n",
    "                                                    stratify=y)\n",
    "\n",
    "display(X_train.head(5))\n",
    "display(y_train.head(5))\n",
    "display(X_test.head(5))\n",
    "display(y_test.head(5))\n",
    "\n",
    "print (X_train.shape, X_test.shape, y_train.shape, y_test.shape)\n",
    "print (y_train)"
   ]
  },
  {
   "cell_type": "code",
   "execution_count": 49,
   "id": "70072560",
   "metadata": {
    "ExecuteTime": {
     "end_time": "2025-03-17T08:49:23.724188Z",
     "start_time": "2025-03-17T08:49:21.882000Z"
    }
   },
   "outputs": [
    {
     "name": "stderr",
     "output_type": "stream",
     "text": [
      "/Library/Frameworks/Python.framework/Versions/3.11/lib/python3.11/site-packages/sklearn/linear_model/_logistic.py:469: ConvergenceWarning: lbfgs failed to converge (status=1):\n",
      "STOP: TOTAL NO. OF ITERATIONS REACHED LIMIT.\n",
      "\n",
      "Increase the number of iterations (max_iter) or scale the data as shown in:\n",
      "    https://scikit-learn.org/stable/modules/preprocessing.html\n",
      "Please also refer to the documentation for alternative solver options:\n",
      "    https://scikit-learn.org/stable/modules/linear_model.html#logistic-regression\n",
      "  n_iter_i = _check_optimize_result(\n"
     ]
    },
    {
     "name": "stdout",
     "output_type": "stream",
     "text": [
      "              precision    recall  f1-score   support\n",
      "\n",
      "           0       0.86      0.81      0.84       117\n",
      "           1       0.68      0.76      0.72        62\n",
      "\n",
      "    accuracy                           0.79       179\n",
      "   macro avg       0.77      0.79      0.78       179\n",
      "weighted avg       0.80      0.79      0.80       179\n",
      "\n",
      "accuracy :  0.7932960893854749\n",
      "f1_score :  0.7175572519083969\n",
      "recall :  0.7580645161290323\n",
      "precision :  0.6811594202898551\n",
      "[[95 15]\n",
      " [22 47]]\n"
     ]
    },
    {
     "data": {
      "text/plain": [
       "<Axes: >"
      ]
     },
     "execution_count": 49,
     "metadata": {},
     "output_type": "execute_result"
    },
    {
     "data": {
      "image/png": "[encoded data removed]",
      "text/plain": [
       "<Figure size 640x480 with 2 Axes>"
      ]
     },
     "metadata": {},
     "output_type": "display_data"
    }
   ],
   "source": [
    "# LR\n",
    "\n",
    "from sklearn.linear_model import LogisticRegression\n",
    "\n",
    "\n",
    "model = LogisticRegression()\n",
    "model.fit(X_train, y_train)\n",
    "y_pred = model.predict (X_test)\n",
    "\n",
    "print (classification_report(y_pred, y_test))\n",
    "\n",
    "print (\"accuracy : \", accuracy_score(y_pred, y_test))\n",
    "print (\"f1_score : \", f1_score(y_pred, y_test))\n",
    "print (\"recall : \", recall_score(y_pred, y_test))\n",
    "print (\"precision : \", precision_score(y_pred, y_test))\n",
    "\n",
    "cm = confusion_matrix(y_test, y_pred)\n",
    "print (cm)\n",
    "sns.heatmap(cm, annot=True, cmap='Reds')"
   ]
  },
  {
   "cell_type": "code",
   "execution_count": 51,
   "id": "82831caa",
   "metadata": {
    "ExecuteTime": {
     "end_time": "2025-03-17T08:49:35.666277Z",
     "start_time": "2025-03-17T08:49:34.159840Z"
    }
   },
   "outputs": [
    {
     "name": "stdout",
     "output_type": "stream",
     "text": [
      "              precision    recall  f1-score   support\n",
      "\n",
      "           0       0.74      0.76      0.75       106\n",
      "           1       0.64      0.60      0.62        73\n",
      "\n",
      "    accuracy                           0.70       179\n",
      "   macro avg       0.69      0.68      0.68       179\n",
      "weighted avg       0.70      0.70      0.70       179\n",
      "\n",
      "accuracy :  0.6983240223463687\n",
      "f1_score :  0.6197183098591549\n",
      "recall :  0.6027397260273972\n",
      "precision :  0.6376811594202898\n",
      "[[81 29]\n",
      " [25 44]]\n"
     ]
    },
    {
     "data": {
      "text/plain": [
       "<Axes: >"
      ]
     },
     "execution_count": 51,
     "metadata": {},
     "output_type": "execute_result"
    },
    {
     "data": {
      "image/png": "[encoded data removed]",
      "text/plain": [
       "<Figure size 640x480 with 2 Axes>"
      ]
     },
     "metadata": {},
     "output_type": "display_data"
    }
   ],
   "source": [
    "# DT\n",
    "\n",
    "from sklearn.tree import DecisionTreeClassifier\n",
    "\n",
    "model = DecisionTreeClassifier()\n",
    "model.fit(X_train, y_train)\n",
    "y_pred = model.predict (X_test)\n",
    "\n",
    "print (classification_report(y_pred, y_test))\n",
    "\n",
    "print (\"accuracy : \", accuracy_score(y_pred, y_test))\n",
    "print (\"f1_score : \", f1_score(y_pred, y_test))\n",
    "print (\"recall : \", recall_score(y_pred, y_test))\n",
    "print (\"precision : \", precision_score(y_pred, y_test))\n",
    "\n",
    "cm = confusion_matrix(y_test, y_pred)\n",
    "print (cm)\n",
    "sns.heatmap(cm, annot=True, cmap='Reds')"
   ]
  },
  {
   "cell_type": "code",
   "execution_count": 52,
   "id": "fa3fcc57",
   "metadata": {
    "ExecuteTime": {
     "end_time": "2025-03-17T08:49:41.871300Z",
     "start_time": "2025-03-17T08:49:39.525106Z"
    }
   },
   "outputs": [
    {
     "name": "stdout",
     "output_type": "stream",
     "text": [
      "              precision    recall  f1-score   support\n",
      "\n",
      "           0       0.86      0.85      0.86       112\n",
      "           1       0.75      0.78      0.76        67\n",
      "\n",
      "    accuracy                           0.82       179\n",
      "   macro avg       0.81      0.81      0.81       179\n",
      "weighted avg       0.82      0.82      0.82       179\n",
      "\n",
      "accuracy :  0.8212290502793296\n",
      "f1_score :  0.7647058823529411\n",
      "recall :  0.7761194029850746\n",
      "precision :  0.7536231884057971\n",
      "[0 1 0 1 0 0 1 0 1 1 1 0 0 0 1 0 0 0 1 1]\n",
      "220    1\n",
      "192    1\n",
      "118    0\n",
      "299    1\n",
      "693    0\n",
      "401    0\n",
      "526    1\n",
      "828    1\n",
      "809    1\n",
      "882    0\n",
      "275    1\n",
      "885    0\n",
      "421    0\n",
      "222    0\n",
      "82     1\n",
      "410    0\n",
      "565    0\n",
      "685    0\n",
      "701    1\n",
      "698    0\n",
      "Name: Survived, dtype: int64\n",
      "[[95 15]\n",
      " [17 52]]\n"
     ]
    },
    {
     "data": {
      "text/plain": [
       "<Axes: >"
      ]
     },
     "execution_count": 52,
     "metadata": {},
     "output_type": "execute_result"
    },
    {
     "data": {
      "image/png": "[encoded data removed]",
      "text/plain": [
       "<Figure size 640x480 with 2 Axes>"
      ]
     },
     "metadata": {},
     "output_type": "display_data"
    }
   ],
   "source": [
    "# RF\n",
    "\n",
    "from sklearn.ensemble import RandomForestClassifier\n",
    "\n",
    "model = RandomForestClassifier()\n",
    "model.fit(X_train, y_train)\n",
    "y_pred = model.predict (X_test)\n",
    "\n",
    "print (classification_report(y_pred, y_test))\n",
    "\n",
    "print (\"accuracy : \", accuracy_score(y_pred, y_test))\n",
    "print (\"f1_score : \", f1_score(y_pred, y_test))\n",
    "print (\"recall : \", recall_score(y_pred, y_test))\n",
    "print (\"precision : \", precision_score(y_pred, y_test))\n",
    "\n",
    "print (y_pred[:20])\n",
    "print (y_test[:20])\n",
    "\n",
    "cm = confusion_matrix(y_test, y_pred)\n",
    "print (cm)\n",
    "sns.heatmap(cm, annot=True, cmap='Reds')"
   ]
  },
  {
   "cell_type": "code",
   "execution_count": 53,
   "id": "61a929b5",
   "metadata": {
    "ExecuteTime": {
     "end_time": "2025-03-17T08:49:49.732194Z",
     "start_time": "2025-03-17T08:49:48.381373Z"
    }
   },
   "outputs": [
    {
     "name": "stdout",
     "output_type": "stream",
     "text": [
      "              precision    recall  f1-score   support\n",
      "\n",
      "           0       0.77      0.68      0.72       125\n",
      "           1       0.42      0.54      0.47        54\n",
      "\n",
      "    accuracy                           0.64       179\n",
      "   macro avg       0.60      0.61      0.60       179\n",
      "weighted avg       0.67      0.64      0.65       179\n",
      "\n",
      "accuracy :  0.6368715083798883\n",
      "f1_score :  0.4715447154471545\n",
      "recall :  0.5370370370370371\n",
      "precision :  0.42028985507246375\n",
      "[[85 25]\n",
      " [40 29]]\n"
     ]
    },
    {
     "data": {
      "text/plain": [
       "<Axes: >"
      ]
     },
     "execution_count": 53,
     "metadata": {},
     "output_type": "execute_result"
    },
    {
     "data": {
      "image/png": "[encoded data removed]",
      "text/plain": [
       "<Figure size 640x480 with 2 Axes>"
      ]
     },
     "metadata": {},
     "output_type": "display_data"
    }
   ],
   "source": [
    "# KNN\n",
    "\n",
    "from sklearn.neighbors import KNeighborsClassifier\n",
    "\n",
    "model = KNeighborsClassifier()\n",
    "model.fit(X_train, y_train)\n",
    "y_pred = model.predict (X_test)\n",
    "\n",
    "print (classification_report(y_pred, y_test))\n",
    "\n",
    "print (\"accuracy : \", accuracy_score(y_pred, y_test))\n",
    "print (\"f1_score : \", f1_score(y_pred, y_test))\n",
    "print (\"recall : \", recall_score(y_pred, y_test))\n",
    "print (\"precision : \", precision_score(y_pred, y_test))\n",
    "\n",
    "cm = confusion_matrix(y_test, y_pred)\n",
    "print (cm)\n",
    "sns.heatmap(cm, annot=True, cmap='Reds')"
   ]
  },
  {
   "cell_type": "code",
   "execution_count": 34,
   "id": "32f7313c",
   "metadata": {
    "ExecuteTime": {
     "end_time": "2025-03-17T08:43:03.550420Z",
     "start_time": "2025-03-17T08:42:57.886307Z"
    }
   },
   "outputs": [
    {
     "data": {
      "text/plain": [
       "([<matplotlib.axis.XTick at 0x12fa06f10>,\n",
       "  <matplotlib.axis.XTick at 0x12f581210>,\n",
       "  <matplotlib.axis.XTick at 0x1302f4490>,\n",
       "  <matplotlib.axis.XTick at 0x13028d050>,\n",
       "  <matplotlib.axis.XTick at 0x13028f350>,\n",
       "  <matplotlib.axis.XTick at 0x1302bd7d0>,\n",
       "  <matplotlib.axis.XTick at 0x1303a4a50>,\n",
       "  <matplotlib.axis.XTick at 0x1302b2b90>,\n",
       "  <matplotlib.axis.XTick at 0x1302b1e90>,\n",
       "  <matplotlib.axis.XTick at 0x1302adc50>,\n",
       "  <matplotlib.axis.XTick at 0x1302ae510>,\n",
       "  <matplotlib.axis.XTick at 0x12c55c390>,\n",
       "  <matplotlib.axis.XTick at 0x1302a4210>,\n",
       "  <matplotlib.axis.XTick at 0x1302a7a10>,\n",
       "  <matplotlib.axis.XTick at 0x13026ded0>,\n",
       "  <matplotlib.axis.XTick at 0x13026fcd0>,\n",
       "  <matplotlib.axis.XTick at 0x130286c90>,\n",
       "  <matplotlib.axis.XTick at 0x130285c90>,\n",
       "  <matplotlib.axis.XTick at 0x130277a90>,\n",
       "  <matplotlib.axis.XTick at 0x130275890>,\n",
       "  <matplotlib.axis.XTick at 0x130276a50>,\n",
       "  <matplotlib.axis.XTick at 0x13026a950>,\n",
       "  <matplotlib.axis.XTick at 0x12ffaa6d0>,\n",
       "  <matplotlib.axis.XTick at 0x1303194d0>,\n",
       "  <matplotlib.axis.XTick at 0x13031b7d0>,\n",
       "  <matplotlib.axis.XTick at 0x130259a50>,\n",
       "  <matplotlib.axis.XTick at 0x13025bd10>,\n",
       "  <matplotlib.axis.XTick at 0x130318090>,\n",
       "  <matplotlib.axis.XTick at 0x130266910>,\n",
       "  <matplotlib.axis.XTick at 0x130288c50>,\n",
       "  <matplotlib.axis.XTick at 0x13028ad90>,\n",
       "  <matplotlib.axis.XTick at 0x130298dd0>,\n",
       "  <matplotlib.axis.XTick at 0x130265310>,\n",
       "  <matplotlib.axis.XTick at 0x13029be10>,\n",
       "  <matplotlib.axis.XTick at 0x1302aa050>,\n",
       "  <matplotlib.axis.XTick at 0x1302b4350>,\n",
       "  <matplotlib.axis.XTick at 0x1302b51d0>,\n",
       "  <matplotlib.axis.XTick at 0x13029b5d0>,\n",
       "  <matplotlib.axis.XTick at 0x1302dd050>,\n",
       "  <matplotlib.axis.XTick at 0x1302df190>,\n",
       "  <matplotlib.axis.XTick at 0x1303052d0>,\n",
       "  <matplotlib.axis.XTick at 0x130307350>,\n",
       "  <matplotlib.axis.XTick at 0x130305d10>,\n",
       "  <matplotlib.axis.XTick at 0x130321c10>,\n",
       "  <matplotlib.axis.XTick at 0x130323e90>,\n",
       "  <matplotlib.axis.XTick at 0x13023e0d0>,\n",
       "  <matplotlib.axis.XTick at 0x13023fcd0>,\n",
       "  <matplotlib.axis.XTick at 0x13023d590>,\n",
       "  <matplotlib.axis.XTick at 0x130232d50>,\n",
       "  <matplotlib.axis.XTick at 0x1301f9090>],\n",
       " [Text(1, 0, '1'),\n",
       "  Text(2, 0, '2'),\n",
       "  Text(3, 0, '3'),\n",
       "  Text(4, 0, '4'),\n",
       "  Text(5, 0, '5'),\n",
       "  Text(6, 0, '6'),\n",
       "  Text(7, 0, '7'),\n",
       "  Text(8, 0, '8'),\n",
       "  Text(9, 0, '9'),\n",
       "  Text(10, 0, '10'),\n",
       "  Text(11, 0, '11'),\n",
       "  Text(12, 0, '12'),\n",
       "  Text(13, 0, '13'),\n",
       "  Text(14, 0, '14'),\n",
       "  Text(15, 0, '15'),\n",
       "  Text(16, 0, '16'),\n",
       "  Text(17, 0, '17'),\n",
       "  Text(18, 0, '18'),\n",
       "  Text(19, 0, '19'),\n",
       "  Text(20, 0, '20'),\n",
       "  Text(21, 0, '21'),\n",
       "  Text(22, 0, '22'),\n",
       "  Text(23, 0, '23'),\n",
       "  Text(24, 0, '24'),\n",
       "  Text(25, 0, '25'),\n",
       "  Text(26, 0, '26'),\n",
       "  Text(27, 0, '27'),\n",
       "  Text(28, 0, '28'),\n",
       "  Text(29, 0, '29'),\n",
       "  Text(30, 0, '30'),\n",
       "  Text(31, 0, '31'),\n",
       "  Text(32, 0, '32'),\n",
       "  Text(33, 0, '33'),\n",
       "  Text(34, 0, '34'),\n",
       "  Text(35, 0, '35'),\n",
       "  Text(36, 0, '36'),\n",
       "  Text(37, 0, '37'),\n",
       "  Text(38, 0, '38'),\n",
       "  Text(39, 0, '39'),\n",
       "  Text(40, 0, '40'),\n",
       "  Text(41, 0, '41'),\n",
       "  Text(42, 0, '42'),\n",
       "  Text(43, 0, '43'),\n",
       "  Text(44, 0, '44'),\n",
       "  Text(45, 0, '45'),\n",
       "  Text(46, 0, '46'),\n",
       "  Text(47, 0, '47'),\n",
       "  Text(48, 0, '48'),\n",
       "  Text(49, 0, '49'),\n",
       "  Text(50, 0, '50')])"
      ]
     },
     "execution_count": 34,
     "metadata": {},
     "output_type": "execute_result"
    },
    {
     "data": {
      "image/png": "[encoded data removed]",
      "text/plain": [
       "<Figure size 2000x400 with 1 Axes>"
      ]
     },
     "metadata": {},
     "output_type": "display_data"
    }
   ],
   "source": [
    "# KNN with finding elbow\n",
    "\n",
    "from sklearn.metrics import accuracy_score\n",
    "\n",
    "scores = []\n",
    "\n",
    "for K in range (50) : \n",
    "    model = KNeighborsClassifier(n_neighbors=K+1)\n",
    "    model.fit (X_train, y_train)\n",
    "    y_pred = model.predict (X_test)\n",
    "    scores.append (1-accuracy_score(y_test, y_pred))\n",
    "    \n",
    "plt.figure(figsize=(20, 4))\n",
    "plt.plot (scores)\n",
    "plt.xticks([i for i in range (1, 51)])\n"
   ]
  },
  {
   "cell_type": "code",
   "execution_count": 35,
   "id": "04674940",
   "metadata": {
    "ExecuteTime": {
     "end_time": "2025-03-17T08:43:03.659304Z",
     "start_time": "2025-03-17T08:43:03.566765Z"
    }
   },
   "outputs": [
    {
     "name": "stdout",
     "output_type": "stream",
     "text": [
      "0.664804469273743\n"
     ]
    }
   ],
   "source": [
    "model = KNeighborsClassifier(n_neighbors=21)\n",
    "model.fit (X_train, y_train)\n",
    "y_pred = model.predict (X_test)\n",
    "print (accuracy_score(y_test, y_pred))"
   ]
  },
  {
   "cell_type": "code",
   "execution_count": 54,
   "id": "43728556",
   "metadata": {
    "ExecuteTime": {
     "end_time": "2025-03-17T08:49:56.451375Z",
     "start_time": "2025-03-17T08:49:54.972866Z"
    }
   },
   "outputs": [
    {
     "name": "stdout",
     "output_type": "stream",
     "text": [
      "              precision    recall  f1-score   support\n",
      "\n",
      "           0       0.96      0.65      0.78       163\n",
      "           1       0.17      0.75      0.28        16\n",
      "\n",
      "    accuracy                           0.66       179\n",
      "   macro avg       0.57      0.70      0.53       179\n",
      "weighted avg       0.89      0.66      0.73       179\n",
      "\n",
      "accuracy :  0.659217877094972\n",
      "f1_score :  0.2823529411764706\n",
      "recall :  0.75\n",
      "precision :  0.17391304347826086\n",
      "[[106   4]\n",
      " [ 57  12]]\n"
     ]
    },
    {
     "data": {
      "text/plain": [
       "<Axes: >"
      ]
     },
     "execution_count": 54,
     "metadata": {},
     "output_type": "execute_result"
    },
    {
     "data": {
      "image/png": "[encoded data removed]",
      "text/plain": [
       "<Figure size 640x480 with 2 Axes>"
      ]
     },
     "metadata": {},
     "output_type": "display_data"
    }
   ],
   "source": [
    "# SVM\n",
    "\n",
    "from sklearn.svm import SVC\n",
    "\n",
    "model = SVC()\n",
    "model.fit(X_train, y_train)\n",
    "y_pred = model.predict (X_test)\n",
    "\n",
    "print (classification_report(y_pred, y_test))\n",
    "\n",
    "print (\"accuracy : \", accuracy_score(y_pred, y_test))\n",
    "print (\"f1_score : \", f1_score(y_pred, y_test))\n",
    "print (\"recall : \", recall_score(y_pred, y_test))\n",
    "print (\"precision : \", precision_score(y_pred, y_test))\n",
    "\n",
    "cm = confusion_matrix(y_test, y_pred)\n",
    "print (cm)\n",
    "sns.heatmap(cm, annot=True, cmap='Reds')"
   ]
  },
  {
   "cell_type": "code",
   "execution_count": null,
   "id": "b447c7c3",
   "metadata": {},
   "outputs": [],
   "source": []
  }
 ],
 "metadata": {
  "kernelspec": {
   "display_name": "Python 3 (ipykernel)",
   "language": "python",
   "name": "python3"
  },
  "language_info": {
   "codemirror_mode": {
    "name": "ipython",
    "version": 3
   },
   "file_extension": ".py",
   "mimetype": "text/x-python",
   "name": "python",
   "nbconvert_exporter": "python",
   "pygments_lexer": "ipython3",
   "version": "3.11.3"
  },
  "varInspector": {
   "cols": {
    "lenName": 16,
    "lenType": 16,
    "lenVar": 40
   },
   "kernels_config": {
    "python": {
     "delete_cmd_postfix": "",
     "delete_cmd_prefix": "del ",
     "library": "var_list.py",
     "varRefreshCmd": "print(var_dic_list())"
    },
    "r": {
     "delete_cmd_postfix": ") ",
     "delete_cmd_prefix": "rm(",
     "library": "var_list.r",
     "varRefreshCmd": "cat(var_dic_list()) "
    }
   },
   "types_to_exclude": [
    "module",
    "function",
    "builtin_function_or_method",
    "instance",
    "_Feature"
   ],
   "window_display": false
  }
 },
 "nbformat": 4,
 "nbformat_minor": 5
}
