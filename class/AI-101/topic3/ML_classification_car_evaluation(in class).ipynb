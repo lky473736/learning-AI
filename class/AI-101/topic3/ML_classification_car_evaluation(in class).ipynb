{
 "cells": [
  {
   "cell_type": "code",
   "execution_count": 28,
   "id": "589d31fb",
   "metadata": {
    "ExecuteTime": {
     "end_time": "2025-03-18T00:20:32.499310Z",
     "start_time": "2025-03-18T00:20:32.496272Z"
    }
   },
   "outputs": [],
   "source": [
    "import sklearn as sk\n",
    "import matplotlib.pyplot as plt\n",
    "import numpy as np\n",
    "import pandas as pd \n",
    "import seaborn as sns\n",
    "from sklearn.metrics import classification_report, accuracy_score, recall_score, f1_score, precision_score, confusion_matrix"
   ]
  },
  {
   "cell_type": "markdown",
   "id": "1512319d",
   "metadata": {},
   "source": [
    "```sh\n",
    "Variable Name\tRole\tType\tDescription\tUnits\tMissing Values\n",
    "buying\tFeature\tCategorical\tbuying price\t\tno\n",
    "maint\tFeature\tCategorical\tprice of the maintenance\t\tno\n",
    "doors\tFeature\tCategorical\tnumber of doors\t\tno\n",
    "persons\tFeature\tCategorical\tcapacity in terms of persons to carry\t\tno\n",
    "lug_boot\tFeature\tCategorical\tthe size of luggage boot\t\tno\n",
    "safety\tFeature\tCategorical\testimated safety of the car\t\tno\n",
    "class\tTarget\tCategorical\tevaulation level (unacceptable, acceptable, good, very good)\t\tno\n",
    "```"
   ]
  },
  {
   "cell_type": "code",
   "execution_count": 4,
   "id": "617f1471",
   "metadata": {
    "ExecuteTime": {
     "end_time": "2025-03-18T00:10:27.210866Z",
     "start_time": "2025-03-18T00:10:27.196850Z"
    }
   },
   "outputs": [
    {
     "data": {
      "text/html": [
       "<div>\n",
       "<style scoped>\n",
       "    .dataframe tbody tr th:only-of-type {\n",
       "        vertical-align: middle;\n",
       "    }\n",
       "\n",
       "    .dataframe tbody tr th {\n",
       "        vertical-align: top;\n",
       "    }\n",
       "\n",
       "    .dataframe thead th {\n",
       "        text-align: right;\n",
       "    }\n",
       "</style>\n",
       "<table border=\"1\" class=\"dataframe\">\n",
       "  <thead>\n",
       "    <tr style=\"text-align: right;\">\n",
       "      <th></th>\n",
       "      <th>buying</th>\n",
       "      <th>maint</th>\n",
       "      <th>doors</th>\n",
       "      <th>persons</th>\n",
       "      <th>lug_boot</th>\n",
       "      <th>safety</th>\n",
       "      <th>class</th>\n",
       "    </tr>\n",
       "  </thead>\n",
       "  <tbody>\n",
       "    <tr>\n",
       "      <th>0</th>\n",
       "      <td>vhigh</td>\n",
       "      <td>vhigh</td>\n",
       "      <td>2</td>\n",
       "      <td>2</td>\n",
       "      <td>small</td>\n",
       "      <td>low</td>\n",
       "      <td>unacc</td>\n",
       "    </tr>\n",
       "    <tr>\n",
       "      <th>1</th>\n",
       "      <td>vhigh</td>\n",
       "      <td>vhigh</td>\n",
       "      <td>2</td>\n",
       "      <td>2</td>\n",
       "      <td>small</td>\n",
       "      <td>med</td>\n",
       "      <td>unacc</td>\n",
       "    </tr>\n",
       "    <tr>\n",
       "      <th>2</th>\n",
       "      <td>vhigh</td>\n",
       "      <td>vhigh</td>\n",
       "      <td>2</td>\n",
       "      <td>2</td>\n",
       "      <td>small</td>\n",
       "      <td>high</td>\n",
       "      <td>unacc</td>\n",
       "    </tr>\n",
       "    <tr>\n",
       "      <th>3</th>\n",
       "      <td>vhigh</td>\n",
       "      <td>vhigh</td>\n",
       "      <td>2</td>\n",
       "      <td>2</td>\n",
       "      <td>med</td>\n",
       "      <td>low</td>\n",
       "      <td>unacc</td>\n",
       "    </tr>\n",
       "    <tr>\n",
       "      <th>4</th>\n",
       "      <td>vhigh</td>\n",
       "      <td>vhigh</td>\n",
       "      <td>2</td>\n",
       "      <td>2</td>\n",
       "      <td>med</td>\n",
       "      <td>med</td>\n",
       "      <td>unacc</td>\n",
       "    </tr>\n",
       "    <tr>\n",
       "      <th>...</th>\n",
       "      <td>...</td>\n",
       "      <td>...</td>\n",
       "      <td>...</td>\n",
       "      <td>...</td>\n",
       "      <td>...</td>\n",
       "      <td>...</td>\n",
       "      <td>...</td>\n",
       "    </tr>\n",
       "    <tr>\n",
       "      <th>1723</th>\n",
       "      <td>low</td>\n",
       "      <td>low</td>\n",
       "      <td>5more</td>\n",
       "      <td>more</td>\n",
       "      <td>med</td>\n",
       "      <td>med</td>\n",
       "      <td>good</td>\n",
       "    </tr>\n",
       "    <tr>\n",
       "      <th>1724</th>\n",
       "      <td>low</td>\n",
       "      <td>low</td>\n",
       "      <td>5more</td>\n",
       "      <td>more</td>\n",
       "      <td>med</td>\n",
       "      <td>high</td>\n",
       "      <td>vgood</td>\n",
       "    </tr>\n",
       "    <tr>\n",
       "      <th>1725</th>\n",
       "      <td>low</td>\n",
       "      <td>low</td>\n",
       "      <td>5more</td>\n",
       "      <td>more</td>\n",
       "      <td>big</td>\n",
       "      <td>low</td>\n",
       "      <td>unacc</td>\n",
       "    </tr>\n",
       "    <tr>\n",
       "      <th>1726</th>\n",
       "      <td>low</td>\n",
       "      <td>low</td>\n",
       "      <td>5more</td>\n",
       "      <td>more</td>\n",
       "      <td>big</td>\n",
       "      <td>med</td>\n",
       "      <td>good</td>\n",
       "    </tr>\n",
       "    <tr>\n",
       "      <th>1727</th>\n",
       "      <td>low</td>\n",
       "      <td>low</td>\n",
       "      <td>5more</td>\n",
       "      <td>more</td>\n",
       "      <td>big</td>\n",
       "      <td>high</td>\n",
       "      <td>vgood</td>\n",
       "    </tr>\n",
       "  </tbody>\n",
       "</table>\n",
       "<p>1728 rows × 7 columns</p>\n",
       "</div>"
      ],
      "text/plain": [
       "     buying  maint  doors persons lug_boot safety  class\n",
       "0     vhigh  vhigh      2       2    small    low  unacc\n",
       "1     vhigh  vhigh      2       2    small    med  unacc\n",
       "2     vhigh  vhigh      2       2    small   high  unacc\n",
       "3     vhigh  vhigh      2       2      med    low  unacc\n",
       "4     vhigh  vhigh      2       2      med    med  unacc\n",
       "...     ...    ...    ...     ...      ...    ...    ...\n",
       "1723    low    low  5more    more      med    med   good\n",
       "1724    low    low  5more    more      med   high  vgood\n",
       "1725    low    low  5more    more      big    low  unacc\n",
       "1726    low    low  5more    more      big    med   good\n",
       "1727    low    low  5more    more      big   high  vgood\n",
       "\n",
       "[1728 rows x 7 columns]"
      ]
     },
     "execution_count": 4,
     "metadata": {},
     "output_type": "execute_result"
    }
   ],
   "source": [
    "df = pd.read_csv(\"../data/car_evaluation.csv\",\n",
    "                names=['buying', 'maint', 'doors',\n",
    "                      'persons', 'lug_boot', 'safety', 'class'])\n",
    "df "
   ]
  },
  {
   "cell_type": "code",
   "execution_count": 32,
   "id": "3bbc7241",
   "metadata": {
    "ExecuteTime": {
     "end_time": "2025-03-18T00:21:30.625600Z",
     "start_time": "2025-03-18T00:21:30.576159Z"
    }
   },
   "outputs": [
    {
     "name": "stdout",
     "output_type": "stream",
     "text": [
      "<class 'pandas.core.frame.DataFrame'>\n",
      "RangeIndex: 1728 entries, 0 to 1727\n",
      "Data columns (total 7 columns):\n",
      " #   Column    Non-Null Count  Dtype \n",
      "---  ------    --------------  ----- \n",
      " 0   buying    1728 non-null   int64 \n",
      " 1   maint     1728 non-null   int64 \n",
      " 2   doors     1728 non-null   int64 \n",
      " 3   persons   1728 non-null   int64 \n",
      " 4   lug_boot  1728 non-null   int64 \n",
      " 5   safety    1728 non-null   int64 \n",
      " 6   class     1728 non-null   object\n",
      "dtypes: int64(6), object(1)\n",
      "memory usage: 94.6+ KB\n"
     ]
    },
    {
     "data": {
      "text/html": [
       "<div>\n",
       "<style scoped>\n",
       "    .dataframe tbody tr th:only-of-type {\n",
       "        vertical-align: middle;\n",
       "    }\n",
       "\n",
       "    .dataframe tbody tr th {\n",
       "        vertical-align: top;\n",
       "    }\n",
       "\n",
       "    .dataframe thead th {\n",
       "        text-align: right;\n",
       "    }\n",
       "</style>\n",
       "<table border=\"1\" class=\"dataframe\">\n",
       "  <thead>\n",
       "    <tr style=\"text-align: right;\">\n",
       "      <th></th>\n",
       "      <th>count</th>\n",
       "      <th>mean</th>\n",
       "      <th>std</th>\n",
       "      <th>min</th>\n",
       "      <th>25%</th>\n",
       "      <th>50%</th>\n",
       "      <th>75%</th>\n",
       "      <th>max</th>\n",
       "    </tr>\n",
       "  </thead>\n",
       "  <tbody>\n",
       "    <tr>\n",
       "      <th>buying</th>\n",
       "      <td>1728.0</td>\n",
       "      <td>1.500000</td>\n",
       "      <td>1.118358</td>\n",
       "      <td>0.0</td>\n",
       "      <td>0.75</td>\n",
       "      <td>1.5</td>\n",
       "      <td>2.25</td>\n",
       "      <td>3.0</td>\n",
       "    </tr>\n",
       "    <tr>\n",
       "      <th>maint</th>\n",
       "      <td>1728.0</td>\n",
       "      <td>1.500000</td>\n",
       "      <td>1.118358</td>\n",
       "      <td>0.0</td>\n",
       "      <td>0.75</td>\n",
       "      <td>1.5</td>\n",
       "      <td>2.25</td>\n",
       "      <td>3.0</td>\n",
       "    </tr>\n",
       "    <tr>\n",
       "      <th>doors</th>\n",
       "      <td>1728.0</td>\n",
       "      <td>3.500000</td>\n",
       "      <td>1.118358</td>\n",
       "      <td>2.0</td>\n",
       "      <td>2.75</td>\n",
       "      <td>3.5</td>\n",
       "      <td>4.25</td>\n",
       "      <td>5.0</td>\n",
       "    </tr>\n",
       "    <tr>\n",
       "      <th>persons</th>\n",
       "      <td>1728.0</td>\n",
       "      <td>4.666667</td>\n",
       "      <td>2.495160</td>\n",
       "      <td>2.0</td>\n",
       "      <td>2.00</td>\n",
       "      <td>4.0</td>\n",
       "      <td>8.00</td>\n",
       "      <td>8.0</td>\n",
       "    </tr>\n",
       "    <tr>\n",
       "      <th>lug_boot</th>\n",
       "      <td>1728.0</td>\n",
       "      <td>1.000000</td>\n",
       "      <td>0.816733</td>\n",
       "      <td>0.0</td>\n",
       "      <td>0.00</td>\n",
       "      <td>1.0</td>\n",
       "      <td>2.00</td>\n",
       "      <td>2.0</td>\n",
       "    </tr>\n",
       "    <tr>\n",
       "      <th>safety</th>\n",
       "      <td>1728.0</td>\n",
       "      <td>1.000000</td>\n",
       "      <td>0.816733</td>\n",
       "      <td>0.0</td>\n",
       "      <td>0.00</td>\n",
       "      <td>1.0</td>\n",
       "      <td>2.00</td>\n",
       "      <td>2.0</td>\n",
       "    </tr>\n",
       "  </tbody>\n",
       "</table>\n",
       "</div>"
      ],
      "text/plain": [
       "           count      mean       std  min   25%  50%   75%  max\n",
       "buying    1728.0  1.500000  1.118358  0.0  0.75  1.5  2.25  3.0\n",
       "maint     1728.0  1.500000  1.118358  0.0  0.75  1.5  2.25  3.0\n",
       "doors     1728.0  3.500000  1.118358  2.0  2.75  3.5  4.25  5.0\n",
       "persons   1728.0  4.666667  2.495160  2.0  2.00  4.0  8.00  8.0\n",
       "lug_boot  1728.0  1.000000  0.816733  0.0  0.00  1.0  2.00  2.0\n",
       "safety    1728.0  1.000000  0.816733  0.0  0.00  1.0  2.00  2.0"
      ]
     },
     "metadata": {},
     "output_type": "display_data"
    },
    {
     "data": {
      "text/html": [
       "<div>\n",
       "<style scoped>\n",
       "    .dataframe tbody tr th:only-of-type {\n",
       "        vertical-align: middle;\n",
       "    }\n",
       "\n",
       "    .dataframe tbody tr th {\n",
       "        vertical-align: top;\n",
       "    }\n",
       "\n",
       "    .dataframe thead th {\n",
       "        text-align: right;\n",
       "    }\n",
       "</style>\n",
       "<table border=\"1\" class=\"dataframe\">\n",
       "  <thead>\n",
       "    <tr style=\"text-align: right;\">\n",
       "      <th></th>\n",
       "      <th>buying</th>\n",
       "      <th>maint</th>\n",
       "      <th>doors</th>\n",
       "      <th>persons</th>\n",
       "      <th>lug_boot</th>\n",
       "      <th>safety</th>\n",
       "    </tr>\n",
       "  </thead>\n",
       "  <tbody>\n",
       "    <tr>\n",
       "      <th>count</th>\n",
       "      <td>1728.000000</td>\n",
       "      <td>1728.000000</td>\n",
       "      <td>1728.000000</td>\n",
       "      <td>1728.000000</td>\n",
       "      <td>1728.000000</td>\n",
       "      <td>1728.000000</td>\n",
       "    </tr>\n",
       "    <tr>\n",
       "      <th>mean</th>\n",
       "      <td>1.500000</td>\n",
       "      <td>1.500000</td>\n",
       "      <td>3.500000</td>\n",
       "      <td>4.666667</td>\n",
       "      <td>1.000000</td>\n",
       "      <td>1.000000</td>\n",
       "    </tr>\n",
       "    <tr>\n",
       "      <th>std</th>\n",
       "      <td>1.118358</td>\n",
       "      <td>1.118358</td>\n",
       "      <td>1.118358</td>\n",
       "      <td>2.495160</td>\n",
       "      <td>0.816733</td>\n",
       "      <td>0.816733</td>\n",
       "    </tr>\n",
       "    <tr>\n",
       "      <th>min</th>\n",
       "      <td>0.000000</td>\n",
       "      <td>0.000000</td>\n",
       "      <td>2.000000</td>\n",
       "      <td>2.000000</td>\n",
       "      <td>0.000000</td>\n",
       "      <td>0.000000</td>\n",
       "    </tr>\n",
       "    <tr>\n",
       "      <th>25%</th>\n",
       "      <td>0.750000</td>\n",
       "      <td>0.750000</td>\n",
       "      <td>2.750000</td>\n",
       "      <td>2.000000</td>\n",
       "      <td>0.000000</td>\n",
       "      <td>0.000000</td>\n",
       "    </tr>\n",
       "    <tr>\n",
       "      <th>50%</th>\n",
       "      <td>1.500000</td>\n",
       "      <td>1.500000</td>\n",
       "      <td>3.500000</td>\n",
       "      <td>4.000000</td>\n",
       "      <td>1.000000</td>\n",
       "      <td>1.000000</td>\n",
       "    </tr>\n",
       "    <tr>\n",
       "      <th>75%</th>\n",
       "      <td>2.250000</td>\n",
       "      <td>2.250000</td>\n",
       "      <td>4.250000</td>\n",
       "      <td>8.000000</td>\n",
       "      <td>2.000000</td>\n",
       "      <td>2.000000</td>\n",
       "    </tr>\n",
       "    <tr>\n",
       "      <th>max</th>\n",
       "      <td>3.000000</td>\n",
       "      <td>3.000000</td>\n",
       "      <td>5.000000</td>\n",
       "      <td>8.000000</td>\n",
       "      <td>2.000000</td>\n",
       "      <td>2.000000</td>\n",
       "    </tr>\n",
       "  </tbody>\n",
       "</table>\n",
       "</div>"
      ],
      "text/plain": [
       "            buying        maint        doors      persons     lug_boot  \\\n",
       "count  1728.000000  1728.000000  1728.000000  1728.000000  1728.000000   \n",
       "mean      1.500000     1.500000     3.500000     4.666667     1.000000   \n",
       "std       1.118358     1.118358     1.118358     2.495160     0.816733   \n",
       "min       0.000000     0.000000     2.000000     2.000000     0.000000   \n",
       "25%       0.750000     0.750000     2.750000     2.000000     0.000000   \n",
       "50%       1.500000     1.500000     3.500000     4.000000     1.000000   \n",
       "75%       2.250000     2.250000     4.250000     8.000000     2.000000   \n",
       "max       3.000000     3.000000     5.000000     8.000000     2.000000   \n",
       "\n",
       "            safety  \n",
       "count  1728.000000  \n",
       "mean      1.000000  \n",
       "std       0.816733  \n",
       "min       0.000000  \n",
       "25%       0.000000  \n",
       "50%       1.000000  \n",
       "75%       2.000000  \n",
       "max       2.000000  "
      ]
     },
     "execution_count": 32,
     "metadata": {},
     "output_type": "execute_result"
    }
   ],
   "source": [
    "df.info()\n",
    "display(df.describe().T)\n",
    "df.describe()"
   ]
  },
  {
   "cell_type": "code",
   "execution_count": 10,
   "id": "c84884ae",
   "metadata": {
    "ExecuteTime": {
     "end_time": "2025-03-18T00:12:38.502923Z",
     "start_time": "2025-03-18T00:12:38.348557Z"
    }
   },
   "outputs": [
    {
     "data": {
      "text/plain": [
       "<Axes: xlabel='class', ylabel='count'>"
      ]
     },
     "execution_count": 10,
     "metadata": {},
     "output_type": "execute_result"
    },
    {
     "data": {
      "image/png": "[encoded data removed]",
      "text/plain": [
       "<Figure size 640x480 with 1 Axes>"
      ]
     },
     "metadata": {},
     "output_type": "display_data"
    }
   ],
   "source": [
    "sns.countplot(x='class', data=df)"
   ]
  },
  {
   "cell_type": "code",
   "execution_count": 12,
   "id": "3025adc6",
   "metadata": {
    "ExecuteTime": {
     "end_time": "2025-03-18T00:14:27.451904Z",
     "start_time": "2025-03-18T00:14:27.447589Z"
    }
   },
   "outputs": [
    {
     "name": "stdout",
     "output_type": "stream",
     "text": [
      "buying {'low', 'high', 'med', 'vhigh'}\n",
      "maint {'low', 'high', 'med', 'vhigh'}\n",
      "doors {'5more', '4', '2', '3'}\n",
      "persons {'4', 'more', '2'}\n",
      "lug_boot {'big', 'small', 'med'}\n",
      "safety {'low', 'high', 'med'}\n",
      "class {'acc', 'unacc', 'good', 'vgood'}\n"
     ]
    }
   ],
   "source": [
    "for col in df.columns : \n",
    "    print (col, set(df[col]))"
   ]
  },
  {
   "cell_type": "code",
   "execution_count": 14,
   "id": "be41db00",
   "metadata": {
    "ExecuteTime": {
     "end_time": "2025-03-18T00:16:21.047307Z",
     "start_time": "2025-03-18T00:16:21.039840Z"
    }
   },
   "outputs": [
    {
     "name": "stdout",
     "output_type": "stream",
     "text": [
      "buying {0, 1, 2, 3}\n",
      "int64\n",
      "maint {0, 1, 2, 3}\n",
      "int64\n",
      "doors {'5more', '4', '2', '3'}\n",
      "object\n",
      "persons {'4', 'more', '2'}\n",
      "object\n",
      "lug_boot {0, 1, 2}\n",
      "int64\n",
      "safety {0, 1, 2}\n",
      "int64\n",
      "class {'acc', 'unacc', 'good', 'vgood'}\n",
      "object\n"
     ]
    }
   ],
   "source": [
    "from sklearn.preprocessing import LabelEncoder\n",
    "\n",
    "LE = LabelEncoder()\n",
    "df['buying'] = LE.fit_transform(df['buying'])\n",
    "df['maint'] = LE.fit_transform(df['maint'])\n",
    "df['lug_boot'] = LE.fit_transform(df['lug_boot'])\n",
    "df['safety'] = LE.fit_transform(df['safety'])\n",
    "\n",
    "for col in df.columns : \n",
    "    print (col, set(df[col]))\n",
    "    print (df[col].dtype)"
   ]
  },
  {
   "cell_type": "code",
   "execution_count": 15,
   "id": "47d8e2ec",
   "metadata": {
    "ExecuteTime": {
     "end_time": "2025-03-18T00:17:29.130663Z",
     "start_time": "2025-03-18T00:17:29.126349Z"
    }
   },
   "outputs": [],
   "source": [
    "df['doors'] = df['doors'].replace('5more', '5')\n",
    "df['persons'] = df['persons'].replace('more', '8')"
   ]
  },
  {
   "cell_type": "code",
   "execution_count": 16,
   "id": "595a4d91",
   "metadata": {
    "ExecuteTime": {
     "end_time": "2025-03-18T00:18:06.192211Z",
     "start_time": "2025-03-18T00:18:06.188319Z"
    }
   },
   "outputs": [],
   "source": [
    "df['doors'] = df['doors'].astype(int)\n",
    "df['persons']=df['persons'].astype(int)"
   ]
  },
  {
   "cell_type": "code",
   "execution_count": 17,
   "id": "3355fa0f",
   "metadata": {
    "ExecuteTime": {
     "end_time": "2025-03-18T00:18:17.593860Z",
     "start_time": "2025-03-18T00:18:17.589018Z"
    }
   },
   "outputs": [
    {
     "name": "stdout",
     "output_type": "stream",
     "text": [
      "buying {0, 1, 2, 3}\n",
      "int64\n",
      "maint {0, 1, 2, 3}\n",
      "int64\n",
      "doors {2, 3, 4, 5}\n",
      "int64\n",
      "persons {8, 2, 4}\n",
      "int64\n",
      "lug_boot {0, 1, 2}\n",
      "int64\n",
      "safety {0, 1, 2}\n",
      "int64\n",
      "class {'acc', 'unacc', 'good', 'vgood'}\n",
      "object\n"
     ]
    }
   ],
   "source": [
    "for col in df.columns : \n",
    "    print (col, set(df[col]))\n",
    "    print (df[col].dtype)"
   ]
  },
  {
   "cell_type": "code",
   "execution_count": 18,
   "id": "919a34cc",
   "metadata": {
    "ExecuteTime": {
     "end_time": "2025-03-18T00:18:50.230610Z",
     "start_time": "2025-03-18T00:18:50.225130Z"
    }
   },
   "outputs": [
    {
     "data": {
      "text/plain": [
       "((1728, 6), (1728,))"
      ]
     },
     "execution_count": 18,
     "metadata": {},
     "output_type": "execute_result"
    }
   ],
   "source": [
    "X = df.drop(columns=['class'])\n",
    "y = df['class']\n",
    "\n",
    "X.shape, y.shape"
   ]
  },
  {
   "cell_type": "code",
   "execution_count": 19,
   "id": "7814f46c",
   "metadata": {
    "ExecuteTime": {
     "end_time": "2025-03-18T00:19:00.084234Z",
     "start_time": "2025-03-18T00:18:59.978484Z"
    }
   },
   "outputs": [
    {
     "data": {
      "text/html": [
       "<div>\n",
       "<style scoped>\n",
       "    .dataframe tbody tr th:only-of-type {\n",
       "        vertical-align: middle;\n",
       "    }\n",
       "\n",
       "    .dataframe tbody tr th {\n",
       "        vertical-align: top;\n",
       "    }\n",
       "\n",
       "    .dataframe thead th {\n",
       "        text-align: right;\n",
       "    }\n",
       "</style>\n",
       "<table border=\"1\" class=\"dataframe\">\n",
       "  <thead>\n",
       "    <tr style=\"text-align: right;\">\n",
       "      <th></th>\n",
       "      <th>buying</th>\n",
       "      <th>maint</th>\n",
       "      <th>doors</th>\n",
       "      <th>persons</th>\n",
       "      <th>lug_boot</th>\n",
       "      <th>safety</th>\n",
       "    </tr>\n",
       "  </thead>\n",
       "  <tbody>\n",
       "    <tr>\n",
       "      <th>1222</th>\n",
       "      <td>2</td>\n",
       "      <td>1</td>\n",
       "      <td>3</td>\n",
       "      <td>2</td>\n",
       "      <td>0</td>\n",
       "      <td>2</td>\n",
       "    </tr>\n",
       "    <tr>\n",
       "      <th>149</th>\n",
       "      <td>3</td>\n",
       "      <td>0</td>\n",
       "      <td>3</td>\n",
       "      <td>4</td>\n",
       "      <td>1</td>\n",
       "      <td>0</td>\n",
       "    </tr>\n",
       "    <tr>\n",
       "      <th>251</th>\n",
       "      <td>3</td>\n",
       "      <td>2</td>\n",
       "      <td>3</td>\n",
       "      <td>2</td>\n",
       "      <td>0</td>\n",
       "      <td>0</td>\n",
       "    </tr>\n",
       "    <tr>\n",
       "      <th>302</th>\n",
       "      <td>3</td>\n",
       "      <td>2</td>\n",
       "      <td>5</td>\n",
       "      <td>2</td>\n",
       "      <td>1</td>\n",
       "      <td>0</td>\n",
       "    </tr>\n",
       "    <tr>\n",
       "      <th>643</th>\n",
       "      <td>0</td>\n",
       "      <td>0</td>\n",
       "      <td>5</td>\n",
       "      <td>8</td>\n",
       "      <td>1</td>\n",
       "      <td>2</td>\n",
       "    </tr>\n",
       "  </tbody>\n",
       "</table>\n",
       "</div>"
      ],
      "text/plain": [
       "      buying  maint  doors  persons  lug_boot  safety\n",
       "1222       2      1      3        2         0       2\n",
       "149        3      0      3        4         1       0\n",
       "251        3      2      3        2         0       0\n",
       "302        3      2      5        2         1       0\n",
       "643        0      0      5        8         1       2"
      ]
     },
     "metadata": {},
     "output_type": "display_data"
    },
    {
     "data": {
      "text/plain": [
       "1222    unacc\n",
       "149     unacc\n",
       "251     unacc\n",
       "302     unacc\n",
       "643       acc\n",
       "Name: class, dtype: object"
      ]
     },
     "metadata": {},
     "output_type": "display_data"
    },
    {
     "data": {
      "text/html": [
       "<div>\n",
       "<style scoped>\n",
       "    .dataframe tbody tr th:only-of-type {\n",
       "        vertical-align: middle;\n",
       "    }\n",
       "\n",
       "    .dataframe tbody tr th {\n",
       "        vertical-align: top;\n",
       "    }\n",
       "\n",
       "    .dataframe thead th {\n",
       "        text-align: right;\n",
       "    }\n",
       "</style>\n",
       "<table border=\"1\" class=\"dataframe\">\n",
       "  <thead>\n",
       "    <tr style=\"text-align: right;\">\n",
       "      <th></th>\n",
       "      <th>buying</th>\n",
       "      <th>maint</th>\n",
       "      <th>doors</th>\n",
       "      <th>persons</th>\n",
       "      <th>lug_boot</th>\n",
       "      <th>safety</th>\n",
       "    </tr>\n",
       "  </thead>\n",
       "  <tbody>\n",
       "    <tr>\n",
       "      <th>474</th>\n",
       "      <td>0</td>\n",
       "      <td>3</td>\n",
       "      <td>3</td>\n",
       "      <td>4</td>\n",
       "      <td>0</td>\n",
       "      <td>1</td>\n",
       "    </tr>\n",
       "    <tr>\n",
       "      <th>1583</th>\n",
       "      <td>1</td>\n",
       "      <td>2</td>\n",
       "      <td>4</td>\n",
       "      <td>4</td>\n",
       "      <td>0</td>\n",
       "      <td>0</td>\n",
       "    </tr>\n",
       "    <tr>\n",
       "      <th>590</th>\n",
       "      <td>0</td>\n",
       "      <td>0</td>\n",
       "      <td>3</td>\n",
       "      <td>8</td>\n",
       "      <td>1</td>\n",
       "      <td>0</td>\n",
       "    </tr>\n",
       "    <tr>\n",
       "      <th>115</th>\n",
       "      <td>3</td>\n",
       "      <td>0</td>\n",
       "      <td>2</td>\n",
       "      <td>2</td>\n",
       "      <td>0</td>\n",
       "      <td>2</td>\n",
       "    </tr>\n",
       "    <tr>\n",
       "      <th>799</th>\n",
       "      <td>0</td>\n",
       "      <td>1</td>\n",
       "      <td>3</td>\n",
       "      <td>4</td>\n",
       "      <td>0</td>\n",
       "      <td>2</td>\n",
       "    </tr>\n",
       "  </tbody>\n",
       "</table>\n",
       "</div>"
      ],
      "text/plain": [
       "      buying  maint  doors  persons  lug_boot  safety\n",
       "474        0      3      3        4         0       1\n",
       "1583       1      2      4        4         0       0\n",
       "590        0      0      3        8         1       0\n",
       "115        3      0      2        2         0       2\n",
       "799        0      1      3        4         0       2"
      ]
     },
     "metadata": {},
     "output_type": "display_data"
    },
    {
     "data": {
      "text/plain": [
       "474     unacc\n",
       "1583    vgood\n",
       "590       acc\n",
       "115     unacc\n",
       "799       acc\n",
       "Name: class, dtype: object"
      ]
     },
     "metadata": {},
     "output_type": "display_data"
    },
    {
     "name": "stdout",
     "output_type": "stream",
     "text": [
      "(1382, 6) (346, 6) (1382,) (346,)\n",
      "1222    unacc\n",
      "149     unacc\n",
      "251     unacc\n",
      "302     unacc\n",
      "643       acc\n",
      "        ...  \n",
      "1601    unacc\n",
      "683     unacc\n",
      "1560    unacc\n",
      "645     unacc\n",
      "531     unacc\n",
      "Name: class, Length: 1382, dtype: object\n"
     ]
    }
   ],
   "source": [
    "from sklearn.model_selection import train_test_split\n",
    "\n",
    "X_train, X_test, y_train, y_test = train_test_split(X, y, \n",
    "                                                    test_size=0.2,\n",
    "                                                    stratify=y)\n",
    "\n",
    "display(X_train.head(5))\n",
    "display(y_train.head(5))\n",
    "display(X_test.head(5))\n",
    "display(y_test.head(5))\n",
    "\n",
    "print (X_train.shape, X_test.shape, y_train.shape, y_test.shape)\n",
    "print (y_train)"
   ]
  },
  {
   "cell_type": "code",
   "execution_count": 29,
   "id": "0f0cb9e6",
   "metadata": {
    "ExecuteTime": {
     "end_time": "2025-03-18T00:20:35.868780Z",
     "start_time": "2025-03-18T00:20:35.638544Z"
    },
    "scrolled": false
   },
   "outputs": [
    {
     "name": "stdout",
     "output_type": "stream",
     "text": [
      "              precision    recall  f1-score   support\n",
      "\n",
      "         acc       0.14      0.38      0.21        29\n",
      "        good       0.00      0.00      0.00         0\n",
      "       unacc       0.94      0.74      0.83       307\n",
      "       vgood       0.31      0.40      0.35        10\n",
      "\n",
      "    accuracy                           0.70       346\n",
      "   macro avg       0.35      0.38      0.35       346\n",
      "weighted avg       0.85      0.70      0.76       346\n",
      "\n",
      "accuracy :  0.6994219653179191\n",
      "f1_score :  0.34558284060361816\n",
      "recall :  0.37968100640233626\n",
      "precision :  0.3471414948687676\n",
      "[[ 11   0  60   6]\n",
      " [  0   0  14   0]\n",
      " [ 15   0 227   0]\n",
      " [  3   0   6   4]]\n"
     ]
    },
    {
     "name": "stderr",
     "output_type": "stream",
     "text": [
      "/Library/Frameworks/Python.framework/Versions/3.11/lib/python3.11/site-packages/sklearn/linear_model/_logistic.py:469: ConvergenceWarning: lbfgs failed to converge (status=1):\n",
      "STOP: TOTAL NO. OF ITERATIONS REACHED LIMIT.\n",
      "\n",
      "Increase the number of iterations (max_iter) or scale the data as shown in:\n",
      "    https://scikit-learn.org/stable/modules/preprocessing.html\n",
      "Please also refer to the documentation for alternative solver options:\n",
      "    https://scikit-learn.org/stable/modules/linear_model.html#logistic-regression\n",
      "  n_iter_i = _check_optimize_result(\n",
      "/Library/Frameworks/Python.framework/Versions/3.11/lib/python3.11/site-packages/sklearn/metrics/_classification.py:1531: UndefinedMetricWarning: Recall is ill-defined and being set to 0.0 in labels with no true samples. Use `zero_division` parameter to control this behavior.\n",
      "  _warn_prf(average, modifier, f\"{metric.capitalize()} is\", len(result))\n",
      "/Library/Frameworks/Python.framework/Versions/3.11/lib/python3.11/site-packages/sklearn/metrics/_classification.py:1531: UndefinedMetricWarning: Recall is ill-defined and being set to 0.0 in labels with no true samples. Use `zero_division` parameter to control this behavior.\n",
      "  _warn_prf(average, modifier, f\"{metric.capitalize()} is\", len(result))\n",
      "/Library/Frameworks/Python.framework/Versions/3.11/lib/python3.11/site-packages/sklearn/metrics/_classification.py:1531: UndefinedMetricWarning: Recall is ill-defined and being set to 0.0 in labels with no true samples. Use `zero_division` parameter to control this behavior.\n",
      "  _warn_prf(average, modifier, f\"{metric.capitalize()} is\", len(result))\n",
      "/Library/Frameworks/Python.framework/Versions/3.11/lib/python3.11/site-packages/sklearn/metrics/_classification.py:1531: UndefinedMetricWarning: Recall is ill-defined and being set to 0.0 in labels with no true samples. Use `zero_division` parameter to control this behavior.\n",
      "  _warn_prf(average, modifier, f\"{metric.capitalize()} is\", len(result))\n"
     ]
    },
    {
     "data": {
      "text/plain": [
       "<Axes: >"
      ]
     },
     "execution_count": 29,
     "metadata": {},
     "output_type": "execute_result"
    },
    {
     "data": {
      "image/png": "[encoded data removed]",
      "text/plain": [
       "<Figure size 640x480 with 2 Axes>"
      ]
     },
     "metadata": {},
     "output_type": "display_data"
    }
   ],
   "source": [
    "# LR\n",
    "\n",
    "from sklearn.linear_model import LogisticRegression\n",
    "\n",
    "\n",
    "model = LogisticRegression()\n",
    "model.fit(X_train, y_train)\n",
    "y_pred = model.predict (X_test)\n",
    "\n",
    "print (classification_report(y_pred, y_test))\n",
    "\n",
    "print (\"accuracy : \", accuracy_score(y_pred, y_test))\n",
    "print (\"f1_score : \", f1_score(y_pred, y_test, average='macro'))\n",
    "print (\"recall : \", recall_score(y_pred, y_test, average='macro'))\n",
    "print (\"precision : \", precision_score(y_pred, y_test, average='macro'))\n",
    "\n",
    "cm = confusion_matrix(y_test, y_pred)\n",
    "print (cm)\n",
    "sns.heatmap(cm, annot=True, cmap='Reds')"
   ]
  },
  {
   "cell_type": "code",
   "execution_count": 34,
   "id": "6347eca5",
   "metadata": {
    "ExecuteTime": {
     "end_time": "2025-03-18T00:22:43.136699Z",
     "start_time": "2025-03-18T00:22:42.938656Z"
    }
   },
   "outputs": [
    {
     "name": "stdout",
     "output_type": "stream",
     "text": [
      "              precision    recall  f1-score   support\n",
      "\n",
      "         acc       0.94      0.94      0.94        77\n",
      "        good       0.86      0.86      0.86        14\n",
      "       unacc       0.99      0.99      0.99       243\n",
      "       vgood       0.85      0.92      0.88        12\n",
      "\n",
      "    accuracy                           0.97       346\n",
      "   macro avg       0.91      0.92      0.92       346\n",
      "weighted avg       0.97      0.97      0.97       346\n",
      "\n",
      "accuracy :  0.9682080924855492\n",
      "f1_score :  0.9154746284643192\n",
      "recall :  0.9241321949655282\n",
      "precision :  0.9075242938879303\n",
      "[[ 72   2   3   0]\n",
      " [  1  12   0   1]\n",
      " [  2   0 240   0]\n",
      " [  2   0   0  11]]\n"
     ]
    },
    {
     "data": {
      "text/plain": [
       "<Axes: >"
      ]
     },
     "execution_count": 34,
     "metadata": {},
     "output_type": "execute_result"
    },
    {
     "data": {
      "image/png": "[encoded data removed]",
      "text/plain": [
       "<Figure size 640x480 with 2 Axes>"
      ]
     },
     "metadata": {},
     "output_type": "display_data"
    }
   ],
   "source": [
    "# DT\n",
    "\n",
    "from sklearn.tree import DecisionTreeClassifier\n",
    "\n",
    "model = DecisionTreeClassifier()\n",
    "model.fit(X_train, y_train)\n",
    "y_pred = model.predict (X_test)\n",
    "\n",
    "print (classification_report(y_pred, y_test))\n",
    "\n",
    "print (\"accuracy : \", accuracy_score(y_pred, y_test))\n",
    "print (\"f1_score : \", f1_score(y_pred, y_test, average='macro'))\n",
    "print (\"recall : \", recall_score(y_pred, y_test, average='macro'))\n",
    "print (\"precision : \", precision_score(y_pred, y_test, average='macro'))\n",
    "\n",
    "cm = confusion_matrix(y_test, y_pred)\n",
    "print (cm)\n",
    "sns.heatmap(cm, annot=True, cmap='Reds')"
   ]
  },
  {
   "cell_type": "code",
   "execution_count": 36,
   "id": "43983973",
   "metadata": {
    "ExecuteTime": {
     "end_time": "2025-03-18T00:22:58.232830Z",
     "start_time": "2025-03-18T00:22:57.890615Z"
    }
   },
   "outputs": [
    {
     "name": "stdout",
     "output_type": "stream",
     "text": [
      "              precision    recall  f1-score   support\n",
      "\n",
      "         acc       0.96      0.93      0.94        80\n",
      "        good       0.93      0.87      0.90        15\n",
      "       unacc       0.99      0.99      0.99       241\n",
      "       vgood       0.77      1.00      0.87        10\n",
      "\n",
      "    accuracy                           0.97       346\n",
      "   macro avg       0.91      0.95      0.92       346\n",
      "weighted avg       0.97      0.97      0.97       346\n",
      "\n",
      "accuracy :  0.9710982658959537\n",
      "f1_score :  0.9246100334727995\n",
      "recall :  0.9458419778699863\n",
      "precision :  0.9116111161565706\n",
      "['unacc' 'vgood' 'acc' 'unacc' 'acc' 'unacc' 'unacc' 'unacc' 'good' 'acc'\n",
      " 'unacc' 'unacc' 'vgood' 'unacc' 'unacc' 'unacc' 'unacc' 'acc' 'unacc'\n",
      " 'unacc']\n",
      "474     unacc\n",
      "1583    vgood\n",
      "590       acc\n",
      "115     unacc\n",
      "799       acc\n",
      "423     unacc\n",
      "1152    unacc\n",
      "485     unacc\n",
      "1604     good\n",
      "616       acc\n",
      "298     unacc\n",
      "412     unacc\n",
      "1268    vgood\n",
      "558     unacc\n",
      "618     unacc\n",
      "1572    unacc\n",
      "1473    unacc\n",
      "809       acc\n",
      "432     unacc\n",
      "567     unacc\n",
      "Name: class, dtype: object\n",
      "[[ 74   1   2   0]\n",
      " [  1  13   0   0]\n",
      " [  3   0 239   0]\n",
      " [  2   1   0  10]]\n"
     ]
    },
    {
     "data": {
      "text/plain": [
       "<Axes: >"
      ]
     },
     "execution_count": 36,
     "metadata": {},
     "output_type": "execute_result"
    },
    {
     "data": {
      "image/png": "[encoded data removed]",
      "text/plain": [
       "<Figure size 640x480 with 2 Axes>"
      ]
     },
     "metadata": {},
     "output_type": "display_data"
    }
   ],
   "source": [
    "# RF\n",
    "\n",
    "from sklearn.ensemble import RandomForestClassifier\n",
    "\n",
    "model = RandomForestClassifier()\n",
    "model.fit(X_train, y_train)\n",
    "y_pred = model.predict (X_test)\n",
    "\n",
    "print (classification_report(y_pred, y_test))\n",
    "\n",
    "print (\"accuracy : \", accuracy_score(y_pred, y_test))\n",
    "print (\"f1_score : \", f1_score(y_pred, y_test, average='macro'))\n",
    "print (\"recall : \", recall_score(y_pred, y_test, average='macro'))\n",
    "print (\"precision : \", precision_score(y_pred, y_test, average='macro'))\n",
    "\n",
    "print (y_pred[:20])\n",
    "print (y_test[:20])\n",
    "\n",
    "cm = confusion_matrix(y_test, y_pred)\n",
    "print (cm)\n",
    "sns.heatmap(cm, annot=True, cmap='Reds')"
   ]
  },
  {
   "cell_type": "code",
   "execution_count": 38,
   "id": "cb4cbcb5",
   "metadata": {
    "ExecuteTime": {
     "end_time": "2025-03-18T00:23:11.958837Z",
     "start_time": "2025-03-18T00:23:11.751605Z"
    }
   },
   "outputs": [
    {
     "name": "stdout",
     "output_type": "stream",
     "text": [
      "              precision    recall  f1-score   support\n",
      "\n",
      "         acc       0.81      0.79      0.80        78\n",
      "        good       0.43      0.86      0.57         7\n",
      "       unacc       0.98      0.94      0.96       252\n",
      "       vgood       0.69      1.00      0.82         9\n",
      "\n",
      "    accuracy                           0.91       346\n",
      "   macro avg       0.73      0.90      0.79       346\n",
      "weighted avg       0.92      0.91      0.91       346\n",
      "\n",
      "accuracy :  0.9075144508670521\n",
      "f1_score :  0.7872811399127189\n",
      "recall :  0.8981227106227105\n",
      "precision :  0.7263531922622832\n",
      "[[ 62   1  14   0]\n",
      " [  7   6   1   0]\n",
      " [  5   0 237   0]\n",
      " [  4   0   0   9]]\n"
     ]
    },
    {
     "data": {
      "text/plain": [
       "<Axes: >"
      ]
     },
     "execution_count": 38,
     "metadata": {},
     "output_type": "execute_result"
    },
    {
     "data": {
      "image/png": "[encoded data removed]",
      "text/plain": [
       "<Figure size 640x480 with 2 Axes>"
      ]
     },
     "metadata": {},
     "output_type": "display_data"
    }
   ],
   "source": [
    "# KNN\n",
    "\n",
    "from sklearn.neighbors import KNeighborsClassifier\n",
    "\n",
    "model = KNeighborsClassifier()\n",
    "model.fit(X_train, y_train)\n",
    "y_pred = model.predict (X_test)\n",
    "\n",
    "print (classification_report(y_pred, y_test))\n",
    "\n",
    "print (\"accuracy : \", accuracy_score(y_pred, y_test))\n",
    "print (\"f1_score : \", f1_score(y_pred, y_test, average='macro'))\n",
    "print (\"recall : \", recall_score(y_pred, y_test, average='macro'))\n",
    "print (\"precision : \", precision_score(y_pred, y_test, average='macro'))\n",
    "\n",
    "cm = confusion_matrix(y_test, y_pred)\n",
    "print (cm)\n",
    "sns.heatmap(cm, annot=True, cmap='Reds')"
   ]
  },
  {
   "cell_type": "code",
   "execution_count": 40,
   "id": "832e18cb",
   "metadata": {
    "ExecuteTime": {
     "end_time": "2025-03-18T00:24:00.846674Z",
     "start_time": "2025-03-18T00:23:59.154048Z"
    }
   },
   "outputs": [
    {
     "name": "stdout",
     "output_type": "stream",
     "text": [
      "1\n",
      "accuracy :  0.7630057803468208\n",
      "f1_score :  0.5534992922222837\n",
      "recall :  0.5691512377308647\n",
      "precision :  0.5474525474525475\n",
      "\n",
      "2\n",
      "accuracy :  0.7543352601156069\n",
      "f1_score :  0.5244478135927899\n",
      "recall :  0.6808612440191388\n",
      "precision :  0.5119426028516938\n",
      "\n",
      "3\n",
      "accuracy :  0.8323699421965318\n",
      "f1_score :  0.6505721168322793\n",
      "recall :  0.8183823529411764\n",
      "precision :  0.5927027517936608\n",
      "\n",
      "4\n",
      "accuracy :  0.8323699421965318\n",
      "f1_score :  0.7466818498133738\n",
      "recall :  0.8794438459466738\n",
      "precision :  0.6884252111524838\n",
      "\n",
      "5\n",
      "accuracy :  0.9075144508670521\n",
      "f1_score :  0.7872811399127189\n",
      "recall :  0.8981227106227105\n",
      "precision :  0.7263531922622832\n",
      "\n",
      "6\n",
      "accuracy :  0.8988439306358381\n",
      "f1_score :  0.8090413244353183\n",
      "recall :  0.9027460491315913\n",
      "precision :  0.7604895104895105\n",
      "\n",
      "7\n",
      "accuracy :  0.8757225433526011\n",
      "f1_score :  0.7422311212814645\n",
      "recall :  0.8876446851438886\n",
      "precision :  0.680455907728635\n",
      "\n",
      "8\n",
      "accuracy :  0.8439306358381503\n",
      "f1_score :  0.6286499065389225\n",
      "recall :  0.8566468253968254\n",
      "precision :  0.5822245935882299\n",
      "\n",
      "9\n",
      "accuracy :  0.8757225433526011\n",
      "f1_score :  0.7330536440098193\n",
      "recall :  0.9143177028451\n",
      "precision :  0.6658455181182454\n",
      "\n",
      "10\n",
      "accuracy :  0.8497109826589595\n",
      "f1_score :  0.5959206835461726\n",
      "recall :  0.7690288713910761\n",
      "precision :  0.5536963036963037\n",
      "\n",
      "11\n",
      "accuracy :  0.838150289017341\n",
      "f1_score :  0.6363671851099499\n",
      "recall :  0.885027501037775\n",
      "precision :  0.5655026791390428\n",
      "\n",
      "12\n",
      "accuracy :  0.8121387283236994\n",
      "f1_score :  0.5635139708370731\n",
      "recall :  0.868255443441317\n",
      "precision :  0.5114885114885115\n",
      "\n",
      "13\n",
      "accuracy :  0.8179190751445087\n",
      "f1_score :  0.5499362822107803\n",
      "recall :  0.8781118881118881\n",
      "precision :  0.49535691581146124\n",
      "\n",
      "14\n",
      "accuracy :  0.8121387283236994\n",
      "f1_score :  0.5418575063613231\n",
      "recall :  0.8773233064318905\n",
      "precision :  0.4844360185269276\n",
      "\n",
      "15\n",
      "accuracy :  0.8121387283236994\n",
      "f1_score :  0.5582099546462145\n",
      "recall :  0.875886524822695\n",
      "precision :  0.5004200345109436\n",
      "\n",
      "16\n",
      "accuracy :  0.815028901734104\n",
      "f1_score :  0.5875601141592852\n",
      "recall :  0.8824230387288977\n",
      "precision :  0.5160634819725729\n",
      "\n",
      "17\n",
      "accuracy :  0.8236994219653179\n",
      "f1_score :  0.5741310416475545\n",
      "recall :  0.8864522417153996\n",
      "precision :  0.5031786395422759\n",
      "\n",
      "18\n",
      "accuracy :  0.846820809248555\n",
      "f1_score :  0.6137497151970837\n",
      "recall :  0.9092354641824606\n",
      "precision :  0.5407092907092907\n",
      "\n",
      "19\n",
      "accuracy :  0.8439306358381503\n",
      "f1_score :  0.6344262974385688\n",
      "recall :  0.9019128113879004\n",
      "precision :  0.5542866224684406\n",
      "\n",
      "20\n",
      "accuracy :  0.8179190751445087\n",
      "f1_score :  0.5713918370020965\n",
      "recall :  0.8888378267973857\n",
      "precision :  0.498898828444283\n",
      "\n",
      "21\n",
      "accuracy :  0.8005780346820809\n",
      "f1_score :  0.487962962962963\n",
      "recall :  0.6274387388793508\n",
      "precision :  0.4435564435564435\n",
      "\n",
      "22\n",
      "accuracy :  0.7976878612716763\n",
      "f1_score :  0.5133786848072562\n",
      "recall :  0.8664944013781223\n",
      "precision :  0.4549200799200799\n",
      "\n",
      "23\n",
      "accuracy :  0.791907514450867\n",
      "f1_score :  0.47762068241683087\n",
      "recall :  0.6091028528528528\n",
      "precision :  0.4360298792116974\n",
      "\n",
      "24\n",
      "accuracy :  0.7832369942196532\n"
     ]
    },
    {
     "name": "stderr",
     "output_type": "stream",
     "text": [
      "/Library/Frameworks/Python.framework/Versions/3.11/lib/python3.11/site-packages/sklearn/metrics/_classification.py:1531: UndefinedMetricWarning: Recall is ill-defined and being set to 0.0 in labels with no true samples. Use `zero_division` parameter to control this behavior.\n",
      "  _warn_prf(average, modifier, f\"{metric.capitalize()} is\", len(result))\n",
      "/Library/Frameworks/Python.framework/Versions/3.11/lib/python3.11/site-packages/sklearn/metrics/_classification.py:1531: UndefinedMetricWarning: Recall is ill-defined and being set to 0.0 in labels with no true samples. Use `zero_division` parameter to control this behavior.\n",
      "  _warn_prf(average, modifier, f\"{metric.capitalize()} is\", len(result))\n",
      "/Library/Frameworks/Python.framework/Versions/3.11/lib/python3.11/site-packages/sklearn/metrics/_classification.py:1531: UndefinedMetricWarning: Recall is ill-defined and being set to 0.0 in labels with no true samples. Use `zero_division` parameter to control this behavior.\n",
      "  _warn_prf(average, modifier, f\"{metric.capitalize()} is\", len(result))\n",
      "/Library/Frameworks/Python.framework/Versions/3.11/lib/python3.11/site-packages/sklearn/metrics/_classification.py:1531: UndefinedMetricWarning: Recall is ill-defined and being set to 0.0 in labels with no true samples. Use `zero_division` parameter to control this behavior.\n",
      "  _warn_prf(average, modifier, f\"{metric.capitalize()} is\", len(result))\n",
      "/Library/Frameworks/Python.framework/Versions/3.11/lib/python3.11/site-packages/sklearn/metrics/_classification.py:1531: UndefinedMetricWarning: Recall is ill-defined and being set to 0.0 in labels with no true samples. Use `zero_division` parameter to control this behavior.\n",
      "  _warn_prf(average, modifier, f\"{metric.capitalize()} is\", len(result))\n",
      "/Library/Frameworks/Python.framework/Versions/3.11/lib/python3.11/site-packages/sklearn/metrics/_classification.py:1531: UndefinedMetricWarning: Recall is ill-defined and being set to 0.0 in labels with no true samples. Use `zero_division` parameter to control this behavior.\n",
      "  _warn_prf(average, modifier, f\"{metric.capitalize()} is\", len(result))\n"
     ]
    },
    {
     "name": "stdout",
     "output_type": "stream",
     "text": [
      "f1_score :  0.4794325676050283\n",
      "recall :  0.5954166666666667\n",
      "precision :  0.4400599400599401\n",
      "\n",
      "25\n",
      "accuracy :  0.7832369942196532\n",
      "f1_score :  0.4676417811776928\n",
      "recall :  0.6064161129568106\n",
      "precision :  0.4262896194714376\n",
      "\n",
      "26\n",
      "accuracy :  0.7774566473988439\n",
      "f1_score :  0.5099819935903789\n",
      "recall :  0.8407472581437224\n",
      "precision :  0.45481790936336397\n",
      "\n",
      "27\n",
      "accuracy :  0.7630057803468208\n",
      "f1_score :  0.45217294490106325\n",
      "recall :  0.5824647965406364\n",
      "precision :  0.4173326673326674\n",
      "\n",
      "28\n",
      "accuracy :  0.7543352601156069\n",
      "f1_score :  0.4271526311407791\n",
      "recall :  0.5724193191865605\n",
      "precision :  0.3938220870039052\n",
      "\n",
      "29\n",
      "accuracy :  0.7514450867052023\n",
      "f1_score :  0.4257246376811594\n",
      "recall :  0.564516129032258\n",
      "precision :  0.3927890291526655\n",
      "\n",
      "30\n",
      "accuracy :  0.7485549132947977\n",
      "f1_score :  0.41811550759392485\n",
      "recall :  0.5622493512620901\n",
      "precision :  0.3873285805103987\n",
      "\n",
      "31\n",
      "accuracy :  0.7456647398843931\n",
      "f1_score :  0.4257537423571579\n",
      "recall :  0.8106645569620253\n",
      "precision :  0.38270820089001906\n",
      "\n"
     ]
    },
    {
     "name": "stderr",
     "output_type": "stream",
     "text": [
      "/Library/Frameworks/Python.framework/Versions/3.11/lib/python3.11/site-packages/sklearn/metrics/_classification.py:1531: UndefinedMetricWarning: Recall is ill-defined and being set to 0.0 in labels with no true samples. Use `zero_division` parameter to control this behavior.\n",
      "  _warn_prf(average, modifier, f\"{metric.capitalize()} is\", len(result))\n",
      "/Library/Frameworks/Python.framework/Versions/3.11/lib/python3.11/site-packages/sklearn/metrics/_classification.py:1531: UndefinedMetricWarning: Recall is ill-defined and being set to 0.0 in labels with no true samples. Use `zero_division` parameter to control this behavior.\n",
      "  _warn_prf(average, modifier, f\"{metric.capitalize()} is\", len(result))\n",
      "/Library/Frameworks/Python.framework/Versions/3.11/lib/python3.11/site-packages/sklearn/metrics/_classification.py:1531: UndefinedMetricWarning: Recall is ill-defined and being set to 0.0 in labels with no true samples. Use `zero_division` parameter to control this behavior.\n",
      "  _warn_prf(average, modifier, f\"{metric.capitalize()} is\", len(result))\n",
      "/Library/Frameworks/Python.framework/Versions/3.11/lib/python3.11/site-packages/sklearn/metrics/_classification.py:1531: UndefinedMetricWarning: Recall is ill-defined and being set to 0.0 in labels with no true samples. Use `zero_division` parameter to control this behavior.\n",
      "  _warn_prf(average, modifier, f\"{metric.capitalize()} is\", len(result))\n",
      "/Library/Frameworks/Python.framework/Versions/3.11/lib/python3.11/site-packages/sklearn/metrics/_classification.py:1531: UndefinedMetricWarning: Recall is ill-defined and being set to 0.0 in labels with no true samples. Use `zero_division` parameter to control this behavior.\n",
      "  _warn_prf(average, modifier, f\"{metric.capitalize()} is\", len(result))\n",
      "/Library/Frameworks/Python.framework/Versions/3.11/lib/python3.11/site-packages/sklearn/metrics/_classification.py:1531: UndefinedMetricWarning: Recall is ill-defined and being set to 0.0 in labels with no true samples. Use `zero_division` parameter to control this behavior.\n",
      "  _warn_prf(average, modifier, f\"{metric.capitalize()} is\", len(result))\n",
      "/Library/Frameworks/Python.framework/Versions/3.11/lib/python3.11/site-packages/sklearn/metrics/_classification.py:1531: UndefinedMetricWarning: Recall is ill-defined and being set to 0.0 in labels with no true samples. Use `zero_division` parameter to control this behavior.\n",
      "  _warn_prf(average, modifier, f\"{metric.capitalize()} is\", len(result))\n"
     ]
    },
    {
     "name": "stdout",
     "output_type": "stream",
     "text": [
      "32\n",
      "accuracy :  0.7398843930635838\n",
      "f1_score :  0.34473017292784736\n",
      "recall :  0.5604334618530202\n",
      "precision :  0.32963627281809105\n",
      "\n",
      "33\n",
      "accuracy :  0.7312138728323699\n",
      "f1_score :  0.3572731316725979\n",
      "recall :  0.5461956521739131\n",
      "precision :  0.33809372445736086\n",
      "\n",
      "34\n",
      "accuracy :  0.7341040462427746\n",
      "f1_score :  0.33553492359912146\n",
      "recall :  0.5528645833333333\n",
      "precision :  0.3231427663245845\n",
      "\n",
      "35\n",
      "accuracy :  0.7225433526011561\n",
      "f1_score :  0.34223024316109424\n",
      "recall :  0.5196687370600415\n",
      "precision :  0.3283534647171011\n",
      "\n",
      "36\n",
      "accuracy :  0.7138728323699421\n",
      "f1_score :  0.31300042140750106\n",
      "recall :  0.5175438596491229\n",
      "precision :  0.3070565797838525\n",
      "\n",
      "37\n",
      "accuracy :  0.7167630057803468\n",
      "f1_score :  0.3138798829429407\n",
      "recall :  0.5219135802469136\n",
      "precision :  0.30808963763509223\n",
      "\n",
      "38\n",
      "accuracy :  0.7225433526011561\n",
      "f1_score :  0.31565665925376823\n",
      "recall :  0.5320381731424676\n",
      "precision :  0.3101557533375715\n",
      "\n",
      "39\n",
      "accuracy :  0.7052023121387283\n",
      "f1_score :  0.29206626706626704\n",
      "recall :  0.48463203463203464\n",
      "precision :  0.29510262464807924\n",
      "\n"
     ]
    },
    {
     "name": "stderr",
     "output_type": "stream",
     "text": [
      "/Library/Frameworks/Python.framework/Versions/3.11/lib/python3.11/site-packages/sklearn/metrics/_classification.py:1531: UndefinedMetricWarning: Recall is ill-defined and being set to 0.0 in labels with no true samples. Use `zero_division` parameter to control this behavior.\n",
      "  _warn_prf(average, modifier, f\"{metric.capitalize()} is\", len(result))\n",
      "/Library/Frameworks/Python.framework/Versions/3.11/lib/python3.11/site-packages/sklearn/metrics/_classification.py:1531: UndefinedMetricWarning: Recall is ill-defined and being set to 0.0 in labels with no true samples. Use `zero_division` parameter to control this behavior.\n",
      "  _warn_prf(average, modifier, f\"{metric.capitalize()} is\", len(result))\n",
      "/Library/Frameworks/Python.framework/Versions/3.11/lib/python3.11/site-packages/sklearn/metrics/_classification.py:1531: UndefinedMetricWarning: Recall is ill-defined and being set to 0.0 in labels with no true samples. Use `zero_division` parameter to control this behavior.\n",
      "  _warn_prf(average, modifier, f\"{metric.capitalize()} is\", len(result))\n",
      "/Library/Frameworks/Python.framework/Versions/3.11/lib/python3.11/site-packages/sklearn/metrics/_classification.py:1531: UndefinedMetricWarning: Recall is ill-defined and being set to 0.0 in labels with no true samples. Use `zero_division` parameter to control this behavior.\n",
      "  _warn_prf(average, modifier, f\"{metric.capitalize()} is\", len(result))\n",
      "/Library/Frameworks/Python.framework/Versions/3.11/lib/python3.11/site-packages/sklearn/metrics/_classification.py:1531: UndefinedMetricWarning: Recall is ill-defined and being set to 0.0 in labels with no true samples. Use `zero_division` parameter to control this behavior.\n",
      "  _warn_prf(average, modifier, f\"{metric.capitalize()} is\", len(result))\n",
      "/Library/Frameworks/Python.framework/Versions/3.11/lib/python3.11/site-packages/sklearn/metrics/_classification.py:1531: UndefinedMetricWarning: Recall is ill-defined and being set to 0.0 in labels with no true samples. Use `zero_division` parameter to control this behavior.\n",
      "  _warn_prf(average, modifier, f\"{metric.capitalize()} is\", len(result))\n",
      "/Library/Frameworks/Python.framework/Versions/3.11/lib/python3.11/site-packages/sklearn/metrics/_classification.py:1531: UndefinedMetricWarning: Recall is ill-defined and being set to 0.0 in labels with no true samples. Use `zero_division` parameter to control this behavior.\n",
      "  _warn_prf(average, modifier, f\"{metric.capitalize()} is\", len(result))\n",
      "/Library/Frameworks/Python.framework/Versions/3.11/lib/python3.11/site-packages/sklearn/metrics/_classification.py:1531: UndefinedMetricWarning: Recall is ill-defined and being set to 0.0 in labels with no true samples. Use `zero_division` parameter to control this behavior.\n",
      "  _warn_prf(average, modifier, f\"{metric.capitalize()} is\", len(result))\n"
     ]
    },
    {
     "name": "stdout",
     "output_type": "stream",
     "text": [
      "40\n",
      "accuracy :  0.7109826589595376\n",
      "f1_score :  0.2988395717259345\n",
      "recall :  0.4923097679438748\n",
      "precision :  0.29938243574607215\n",
      "\n",
      "41\n",
      "accuracy :  0.7052023121387283\n",
      "f1_score :  0.28744588744588745\n",
      "recall :  0.4675324675324675\n",
      "precision :  0.2928889292525656\n",
      "\n",
      "42\n",
      "accuracy :  0.7052023121387283\n",
      "f1_score :  0.2616218859674357\n",
      "recall :  0.4848403107466551\n",
      "precision :  0.2769049132685496\n",
      "\n",
      "43\n",
      "accuracy :  0.7052023121387283\n",
      "f1_score :  0.2872018615474113\n",
      "recall :  0.46973042063676507\n",
      "precision :  0.2928889292525656\n",
      "\n",
      "44\n",
      "accuracy :  0.708092485549133\n",
      "f1_score :  0.29257983270041366\n",
      "recall :  0.4932228915662651\n",
      "precision :  0.2961356824993189\n",
      "\n",
      "45\n",
      "accuracy :  0.7109826589595376\n",
      "f1_score :  0.29843489843489845\n",
      "recall :  0.5032467532467533\n",
      "precision :  0.29938243574607215\n",
      "\n",
      "46\n",
      "accuracy :  0.7052023121387283\n",
      "f1_score :  0.2862668440073623\n",
      "recall :  0.48466003316749584\n",
      "precision :  0.2928889292525656\n",
      "\n",
      "47\n",
      "accuracy :  0.7023121387283237\n",
      "f1_score :  0.22485383605774967\n",
      "recall :  0.25357142857142856\n",
      "precision :  0.2576741440377804\n",
      "\n",
      "48\n",
      "accuracy :  0.6994219653179191\n",
      "f1_score :  0.2494336825150188\n",
      "recall :  0.4541044776119403\n",
      "precision :  0.2704114067750431\n",
      "\n",
      "49\n",
      "accuracy :  0.6994219653179191\n",
      "f1_score :  0.2795863393924738\n",
      "recall :  0.45613598673300165\n",
      "precision :  0.2886091181545727\n",
      "\n",
      "50\n",
      "accuracy :  0.7052023121387283\n",
      "f1_score :  0.29153820816864295\n",
      "recall :  0.49761124761124764\n",
      "precision :  0.29510262464807924\n",
      "\n"
     ]
    },
    {
     "name": "stderr",
     "output_type": "stream",
     "text": [
      "/Library/Frameworks/Python.framework/Versions/3.11/lib/python3.11/site-packages/sklearn/metrics/_classification.py:1531: UndefinedMetricWarning: Recall is ill-defined and being set to 0.0 in labels with no true samples. Use `zero_division` parameter to control this behavior.\n",
      "  _warn_prf(average, modifier, f\"{metric.capitalize()} is\", len(result))\n",
      "/Library/Frameworks/Python.framework/Versions/3.11/lib/python3.11/site-packages/sklearn/metrics/_classification.py:1531: UndefinedMetricWarning: Recall is ill-defined and being set to 0.0 in labels with no true samples. Use `zero_division` parameter to control this behavior.\n",
      "  _warn_prf(average, modifier, f\"{metric.capitalize()} is\", len(result))\n",
      "/Library/Frameworks/Python.framework/Versions/3.11/lib/python3.11/site-packages/sklearn/metrics/_classification.py:1531: UndefinedMetricWarning: Recall is ill-defined and being set to 0.0 in labels with no true samples. Use `zero_division` parameter to control this behavior.\n",
      "  _warn_prf(average, modifier, f\"{metric.capitalize()} is\", len(result))\n",
      "/Library/Frameworks/Python.framework/Versions/3.11/lib/python3.11/site-packages/sklearn/metrics/_classification.py:1531: UndefinedMetricWarning: Recall is ill-defined and being set to 0.0 in labels with no true samples. Use `zero_division` parameter to control this behavior.\n",
      "  _warn_prf(average, modifier, f\"{metric.capitalize()} is\", len(result))\n",
      "/Library/Frameworks/Python.framework/Versions/3.11/lib/python3.11/site-packages/sklearn/metrics/_classification.py:1531: UndefinedMetricWarning: Recall is ill-defined and being set to 0.0 in labels with no true samples. Use `zero_division` parameter to control this behavior.\n",
      "  _warn_prf(average, modifier, f\"{metric.capitalize()} is\", len(result))\n",
      "/Library/Frameworks/Python.framework/Versions/3.11/lib/python3.11/site-packages/sklearn/metrics/_classification.py:1531: UndefinedMetricWarning: Recall is ill-defined and being set to 0.0 in labels with no true samples. Use `zero_division` parameter to control this behavior.\n",
      "  _warn_prf(average, modifier, f\"{metric.capitalize()} is\", len(result))\n"
     ]
    },
    {
     "data": {
      "text/plain": [
       "([<matplotlib.axis.XTick at 0x1229b6790>,\n",
       "  <matplotlib.axis.XTick at 0x131693d50>,\n",
       "  <matplotlib.axis.XTick at 0x1316b1d10>,\n",
       "  <matplotlib.axis.XTick at 0x13165a510>,\n",
       "  <matplotlib.axis.XTick at 0x131717ad0>,\n",
       "  <matplotlib.axis.XTick at 0x131716690>,\n",
       "  <matplotlib.axis.XTick at 0x129b94e10>,\n",
       "  <matplotlib.axis.XTick at 0x13167b210>,\n",
       "  <matplotlib.axis.XTick at 0x13171c410>,\n",
       "  <matplotlib.axis.XTick at 0x13171ed10>,\n",
       "  <matplotlib.axis.XTick at 0x1316fa7d0>,\n",
       "  <matplotlib.axis.XTick at 0x1316fb2d0>,\n",
       "  <matplotlib.axis.XTick at 0x131725150>,\n",
       "  <matplotlib.axis.XTick at 0x131727490>,\n",
       "  <matplotlib.axis.XTick at 0x13172d610>,\n",
       "  <matplotlib.axis.XTick at 0x13172e710>,\n",
       "  <matplotlib.axis.XTick at 0x131730850>,\n",
       "  <matplotlib.axis.XTick at 0x131673710>,\n",
       "  <matplotlib.axis.XTick at 0x131440350>,\n",
       "  <matplotlib.axis.XTick at 0x131624290>,\n",
       "  <matplotlib.axis.XTick at 0x1316908d0>,\n",
       "  <matplotlib.axis.XTick at 0x1316663d0>,\n",
       "  <matplotlib.axis.XTick at 0x131732510>,\n",
       "  <matplotlib.axis.XTick at 0x1317417d0>,\n",
       "  <matplotlib.axis.XTick at 0x131742510>,\n",
       "  <matplotlib.axis.XTick at 0x131745ad0>,\n",
       "  <matplotlib.axis.XTick at 0x131746750>,\n",
       "  <matplotlib.axis.XTick at 0x131745990>,\n",
       "  <matplotlib.axis.XTick at 0x1317410d0>,\n",
       "  <matplotlib.axis.XTick at 0x13174a690>,\n",
       "  <matplotlib.axis.XTick at 0x13174c6d0>,\n",
       "  <matplotlib.axis.XTick at 0x13174e890>,\n",
       "  <matplotlib.axis.XTick at 0x131690a10>,\n",
       "  <matplotlib.axis.XTick at 0x131747a50>,\n",
       "  <matplotlib.axis.XTick at 0x131752910>,\n",
       "  <matplotlib.axis.XTick at 0x1317549d0>,\n",
       "  <matplotlib.axis.XTick at 0x131756950>,\n",
       "  <matplotlib.axis.XTick at 0x1317608d0>,\n",
       "  <matplotlib.axis.XTick at 0x131740cd0>,\n",
       "  <matplotlib.axis.XTick at 0x13174b490>,\n",
       "  <matplotlib.axis.XTick at 0x131764c90>,\n",
       "  <matplotlib.axis.XTick at 0x131766d50>,\n",
       "  <matplotlib.axis.XTick at 0x13176cd50>,\n",
       "  <matplotlib.axis.XTick at 0x13176ee10>,\n",
       "  <matplotlib.axis.XTick at 0x1317661d0>,\n",
       "  <matplotlib.axis.XTick at 0x131775310>,\n",
       "  <matplotlib.axis.XTick at 0x131777310>,\n",
       "  <matplotlib.axis.XTick at 0x131781150>,\n",
       "  <matplotlib.axis.XTick at 0x13167a6d0>,\n",
       "  <matplotlib.axis.XTick at 0x1317532d0>],\n",
       " [Text(1, 0, '1'),\n",
       "  Text(2, 0, '2'),\n",
       "  Text(3, 0, '3'),\n",
       "  Text(4, 0, '4'),\n",
       "  Text(5, 0, '5'),\n",
       "  Text(6, 0, '6'),\n",
       "  Text(7, 0, '7'),\n",
       "  Text(8, 0, '8'),\n",
       "  Text(9, 0, '9'),\n",
       "  Text(10, 0, '10'),\n",
       "  Text(11, 0, '11'),\n",
       "  Text(12, 0, '12'),\n",
       "  Text(13, 0, '13'),\n",
       "  Text(14, 0, '14'),\n",
       "  Text(15, 0, '15'),\n",
       "  Text(16, 0, '16'),\n",
       "  Text(17, 0, '17'),\n",
       "  Text(18, 0, '18'),\n",
       "  Text(19, 0, '19'),\n",
       "  Text(20, 0, '20'),\n",
       "  Text(21, 0, '21'),\n",
       "  Text(22, 0, '22'),\n",
       "  Text(23, 0, '23'),\n",
       "  Text(24, 0, '24'),\n",
       "  Text(25, 0, '25'),\n",
       "  Text(26, 0, '26'),\n",
       "  Text(27, 0, '27'),\n",
       "  Text(28, 0, '28'),\n",
       "  Text(29, 0, '29'),\n",
       "  Text(30, 0, '30'),\n",
       "  Text(31, 0, '31'),\n",
       "  Text(32, 0, '32'),\n",
       "  Text(33, 0, '33'),\n",
       "  Text(34, 0, '34'),\n",
       "  Text(35, 0, '35'),\n",
       "  Text(36, 0, '36'),\n",
       "  Text(37, 0, '37'),\n",
       "  Text(38, 0, '38'),\n",
       "  Text(39, 0, '39'),\n",
       "  Text(40, 0, '40'),\n",
       "  Text(41, 0, '41'),\n",
       "  Text(42, 0, '42'),\n",
       "  Text(43, 0, '43'),\n",
       "  Text(44, 0, '44'),\n",
       "  Text(45, 0, '45'),\n",
       "  Text(46, 0, '46'),\n",
       "  Text(47, 0, '47'),\n",
       "  Text(48, 0, '48'),\n",
       "  Text(49, 0, '49'),\n",
       "  Text(50, 0, '50')])"
      ]
     },
     "execution_count": 40,
     "metadata": {},
     "output_type": "execute_result"
    },
    {
     "data": {
      "image/png": "[encoded data removed]",
      "text/plain": [
       "<Figure size 2000x400 with 1 Axes>"
      ]
     },
     "metadata": {},
     "output_type": "display_data"
    }
   ],
   "source": [
    "# KNN with finding elbow\n",
    "\n",
    "from sklearn.metrics import accuracy_score\n",
    "\n",
    "scores = []\n",
    "\n",
    "for K in range (50) : \n",
    "    model = KNeighborsClassifier(n_neighbors=K+1)\n",
    "    model.fit (X_train, y_train)\n",
    "    y_pred = model.predict (X_test)\n",
    "    print (K+1)\n",
    "    print (\"accuracy : \", accuracy_score(y_pred, y_test))\n",
    "    print (\"f1_score : \", f1_score(y_pred, y_test, average='macro'))\n",
    "    print (\"recall : \", recall_score(y_pred, y_test, average='macro'))\n",
    "    print (\"precision : \", precision_score(y_pred, y_test, average='macro'))\n",
    "    print ()\n",
    "    scores.append (1-accuracy_score(y_test, y_pred))\n",
    "    \n",
    "plt.figure(figsize=(20, 4))\n",
    "plt.plot (scores)\n",
    "plt.xticks([i for i in range (1, 51)])\n"
   ]
  },
  {
   "cell_type": "code",
   "execution_count": 42,
   "id": "f276f5a9",
   "metadata": {
    "ExecuteTime": {
     "end_time": "2025-03-18T00:24:23.402936Z",
     "start_time": "2025-03-18T00:24:23.091227Z"
    }
   },
   "outputs": [
    {
     "name": "stdout",
     "output_type": "stream",
     "text": [
      "              precision    recall  f1-score   support\n",
      "\n",
      "         acc       0.14      0.38      0.21        29\n",
      "        good       0.00      0.00      0.00         0\n",
      "       unacc       1.00      0.76      0.86       317\n",
      "       vgood       0.00      0.00      0.00         0\n",
      "\n",
      "    accuracy                           0.73       346\n",
      "   macro avg       0.28      0.28      0.27       346\n",
      "weighted avg       0.92      0.73      0.81       346\n",
      "\n",
      "accuracy :  0.7283236994219653\n",
      "f1_score :  0.2674502987140109\n",
      "recall :  0.2848906776895464\n",
      "precision :  0.28468122786304606\n",
      "[[ 11   0  66   0]\n",
      " [  6   0   8   0]\n",
      " [  1   0 241   0]\n",
      " [ 11   0   2   0]]\n"
     ]
    },
    {
     "name": "stderr",
     "output_type": "stream",
     "text": [
      "/Library/Frameworks/Python.framework/Versions/3.11/lib/python3.11/site-packages/sklearn/metrics/_classification.py:1531: UndefinedMetricWarning: Recall is ill-defined and being set to 0.0 in labels with no true samples. Use `zero_division` parameter to control this behavior.\n",
      "  _warn_prf(average, modifier, f\"{metric.capitalize()} is\", len(result))\n",
      "/Library/Frameworks/Python.framework/Versions/3.11/lib/python3.11/site-packages/sklearn/metrics/_classification.py:1531: UndefinedMetricWarning: Recall is ill-defined and being set to 0.0 in labels with no true samples. Use `zero_division` parameter to control this behavior.\n",
      "  _warn_prf(average, modifier, f\"{metric.capitalize()} is\", len(result))\n",
      "/Library/Frameworks/Python.framework/Versions/3.11/lib/python3.11/site-packages/sklearn/metrics/_classification.py:1531: UndefinedMetricWarning: Recall is ill-defined and being set to 0.0 in labels with no true samples. Use `zero_division` parameter to control this behavior.\n",
      "  _warn_prf(average, modifier, f\"{metric.capitalize()} is\", len(result))\n",
      "/Library/Frameworks/Python.framework/Versions/3.11/lib/python3.11/site-packages/sklearn/metrics/_classification.py:1531: UndefinedMetricWarning: Recall is ill-defined and being set to 0.0 in labels with no true samples. Use `zero_division` parameter to control this behavior.\n",
      "  _warn_prf(average, modifier, f\"{metric.capitalize()} is\", len(result))\n"
     ]
    },
    {
     "data": {
      "text/plain": [
       "<Axes: >"
      ]
     },
     "execution_count": 42,
     "metadata": {},
     "output_type": "execute_result"
    },
    {
     "data": {
      "image/png": "[encoded data removed]",
      "text/plain": [
       "<Figure size 640x480 with 2 Axes>"
      ]
     },
     "metadata": {},
     "output_type": "display_data"
    }
   ],
   "source": [
    "# SVM\n",
    "\n",
    "from sklearn.svm import SVC\n",
    "\n",
    "model = SVC()\n",
    "model.fit(X_train, y_train)\n",
    "y_pred = model.predict (X_test)\n",
    "\n",
    "print (classification_report(y_pred, y_test))\n",
    "\n",
    "print (\"accuracy : \", accuracy_score(y_pred, y_test))\n",
    "print (\"f1_score : \", f1_score(y_pred, y_test, average='macro'))\n",
    "print (\"recall : \", recall_score(y_pred, y_test, average='macro'))\n",
    "print (\"precision : \", precision_score(y_pred, y_test, average='macro'))\n",
    "\n",
    "cm = confusion_matrix(y_test, y_pred)\n",
    "print (cm)\n",
    "sns.heatmap(cm, annot=True, cmap='Reds')"
   ]
  },
  {
   "cell_type": "code",
   "execution_count": null,
   "id": "d413efed",
   "metadata": {},
   "outputs": [],
   "source": []
  }
 ],
 "metadata": {
  "kernelspec": {
   "display_name": "Python 3 (ipykernel)",
   "language": "python",
   "name": "python3"
  },
  "language_info": {
   "codemirror_mode": {
    "name": "ipython",
    "version": 3
   },
   "file_extension": ".py",
   "mimetype": "text/x-python",
   "name": "python",
   "nbconvert_exporter": "python",
   "pygments_lexer": "ipython3",
   "version": "3.11.3"
  },
  "varInspector": {
   "cols": {
    "lenName": 16,
    "lenType": 16,
    "lenVar": 40
   },
   "kernels_config": {
    "python": {
     "delete_cmd_postfix": "",
     "delete_cmd_prefix": "del ",
     "library": "var_list.py",
     "varRefreshCmd": "print(var_dic_list())"
    },
    "r": {
     "delete_cmd_postfix": ") ",
     "delete_cmd_prefix": "rm(",
     "library": "var_list.r",
     "varRefreshCmd": "cat(var_dic_list()) "
    }
   },
   "types_to_exclude": [
    "module",
    "function",
    "builtin_function_or_method",
    "instance",
    "_Feature"
   ],
   "window_display": false
  }
 },
 "nbformat": 4,
 "nbformat_minor": 5
}
