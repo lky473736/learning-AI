{
 "cells": [
  {
   "cell_type": "code",
   "execution_count": 25,
   "id": "d896fc39",
   "metadata": {
    "ExecuteTime": {
     "end_time": "2025-03-17T05:36:58.036647Z",
     "start_time": "2025-03-17T05:36:58.026617Z"
    }
   },
   "outputs": [
    {
     "name": "stdout",
     "output_type": "stream",
     "text": [
      "GPA Tensor:\n",
      "tensor([3.8000, 3.2000, 3.7000, 4.2000, 2.6000, 3.4000, 4.1000, 3.3000, 3.9000])\n",
      "\n",
      "TOEIC Tensor:\n",
      "tensor([700., 650., 820., 830., 550., 910., 990., 870., 650.])\n",
      "\n",
      "Award Tensor:\n",
      "tensor([80., 90., 70., 50., 90., 30., 70., 60., 80.])\n",
      "\n",
      "Etc Tensor:\n",
      "tensor([50., 30., 40., 70., 60., 40., 20., 60., 50.])\n",
      "torch.Size([4, 9]) torch.Size([9])\n"
     ]
    }
   ],
   "source": [
    "import numpy as np\n",
    "import torch\n",
    "import torch.nn as nn\n",
    "import torch.optim as optim\n",
    "import torch.nn.init as init\n",
    "\n",
    "W = torch.zeros([4, 1], requires_grad = True) \n",
    "b = torch.zeros(1, requires_grad = True)\n",
    "\n",
    "data = {\n",
    "    'name': ['Kim', 'Lee', 'Park', 'Choi', 'Jung', 'Go', 'Woo', 'Min', 'Kang'],\n",
    "    'GPA': [3.8, 3.2, 3.7, 4.2, 2.6, 3.4, 4.1, 3.3, 3.9],\n",
    "    'TOEIC': [700, 650, 820, 830, 550, 910, 990, 870, 650],\n",
    "    'Award': [80, 90, 70, 50, 90, 30, 70, 60, 80],\n",
    "    'Etc': [50, 30, 40, 70, 60, 40, 20, 60, 50]\n",
    "}\n",
    "\n",
    "gpa_tensor = torch.FloatTensor(data['GPA'])\n",
    "toeic_tensor = torch.FloatTensor(data['TOEIC'])\n",
    "award_tensor = torch.FloatTensor(data['Award'])\n",
    "etc_tensor = torch.FloatTensor(data['Etc'])\n",
    "\n",
    "print(\"GPA Tensor:\")\n",
    "print(gpa_tensor)\n",
    "\n",
    "print(\"\\nTOEIC Tensor:\")\n",
    "print(toeic_tensor)\n",
    "\n",
    "print(\"\\nAward Tensor:\")\n",
    "print(award_tensor)\n",
    "\n",
    "print(\"\\nEtc Tensor:\")\n",
    "print(etc_tensor)\n",
    "\n",
    "X_train = torch.FloatTensor([\n",
    "    data['GPA'],\n",
    "    data['TOEIC'],\n",
    "    data['Award'],\n",
    "    data['Etc']\n",
    "])\n",
    "\n",
    "y_train = torch.FloatTensor([85, 80, 78, 87, 85, 70, 81, 88, 84]) \n",
    "\n",
    "print(X_train.shape, y_train.shape)\n"
   ]
  },
  {
   "cell_type": "code",
   "execution_count": 32,
   "id": "56f4b24f",
   "metadata": {
    "ExecuteTime": {
     "end_time": "2025-03-17T05:38:52.000404Z",
     "start_time": "2025-03-17T05:38:51.995868Z"
    }
   },
   "outputs": [
    {
     "name": "stdout",
     "output_type": "stream",
     "text": [
      "torch.Size([9, 4])\n",
      "tensor([[  3.8000, 700.0000,  80.0000,  50.0000],\n",
      "        [  3.2000, 650.0000,  90.0000,  30.0000],\n",
      "        [  3.7000, 820.0000,  70.0000,  40.0000],\n",
      "        [  4.2000, 830.0000,  50.0000,  70.0000],\n",
      "        [  2.6000, 550.0000,  90.0000,  60.0000],\n",
      "        [  3.4000, 910.0000,  30.0000,  40.0000],\n",
      "        [  4.1000, 990.0000,  70.0000,  20.0000],\n",
      "        [  3.3000, 870.0000,  60.0000,  60.0000],\n",
      "        [  3.9000, 650.0000,  80.0000,  50.0000]])\n"
     ]
    }
   ],
   "source": [
    "X_train_t = torch.transpose(X_train, 0, 1)\n",
    "print (X_train_t.shape)\n",
    "print (X_train_t)"
   ]
  },
  {
   "cell_type": "code",
   "execution_count": null,
   "id": "a483aa59",
   "metadata": {
    "ExecuteTime": {
     "start_time": "2025-03-17T07:02:39.571Z"
    },
    "scrolled": true
   },
   "outputs": [
    {
     "name": "stdout",
     "output_type": "stream",
     "text": [
      "< Before Train : 0.0001 10>\n",
      "W =  tensor([[0.],\n",
      "        [0.],\n",
      "        [0.],\n",
      "        [0.]], requires_grad=True)\n",
      "b = tensor([0.], requires_grad=True)\n",
      "Epoch: 0 , Cost: 6751.555664\n",
      "< After Train : 0.0001 10>\n",
      "W =  tensor([[-3.9418e+17],\n",
      "        [-8.6826e+19],\n",
      "        [-7.2472e+18],\n",
      "        [-4.9883e+18]], requires_grad=True)\n",
      "b = tensor([-1.0884e+17], requires_grad=True)\n",
      "\n",
      " --------------------------- \n",
      "\n",
      "< Before Train : 0.0001 100>\n",
      "W =  tensor([[-3.9418e+17],\n",
      "        [-8.6826e+19],\n",
      "        [-7.2472e+18],\n",
      "        [-4.9883e+18]], requires_grad=True)\n",
      "b = tensor([-1.0884e+17], requires_grad=True)\n",
      "Epoch: 0 , Cost: inf\n"
     ]
    }
   ],
   "source": [
    "lrs = [0.0001, 0.00001, 0.000001, 0.0000001]\n",
    "num_epochs = [10, 100, 500, 1000, 2500, 5000, 10000]\n",
    "dir_rsts = {}\n",
    "\n",
    "for lr in lrs:\n",
    "    W = torch.zeros([4,1], requires_grad = True) \n",
    "    b = torch.zeros(1, requires_grad = True)\n",
    "    \n",
    "    optimizer = optim.SGD([W, b], lr=lr)\n",
    "    dir_rsts[str(lr)] = {}\n",
    "    \n",
    "    for ep in num_epochs:\n",
    "        print(f'< Before Train : {lr} {ep}>')\n",
    "        print('W = ', W)\n",
    "        print('b =', b)\n",
    "        costs = []\n",
    "        \n",
    "        for epoch in range(ep):\n",
    "            hypothesis = torch.matmul(X_train_t, W) + b\n",
    "            cost = torch.mean((hypothesis - y_train) ** 2)\n",
    "            \n",
    "            optimizer.zero_grad()\n",
    "            cost.backward()\n",
    "            optimizer.step()\n",
    "            \n",
    "            if epoch % 100 == 0:\n",
    "                print('Epoch: %d , Cost: %f' %(epoch, cost))\n",
    "            \n",
    "            costs.append(float(cost))\n",
    "            \n",
    "        print(f'< After Train : {lr} {ep}>')\n",
    "        print('W = ', W)\n",
    "        print('b =', b)\n",
    "        print(\"\\n --------------------------- \\n\")\n",
    "        \n",
    "        dir_compo = {\n",
    "            'W': W.detach().clone(), \n",
    "            'b': b.detach().clone(),\n",
    "            'costs': costs\n",
    "        }\n",
    "        dir_rsts[str(lr)][str(ep)] = dir_compo"
   ]
  },
  {
   "cell_type": "code",
   "execution_count": 52,
   "id": "c8c59c38",
   "metadata": {
    "ExecuteTime": {
     "end_time": "2025-03-17T06:56:21.403141Z",
     "start_time": "2025-03-17T06:56:21.336124Z"
    }
   },
   "outputs": [
    {
     "name": "stdout",
     "output_type": "stream",
     "text": [
      "dict_keys(['0.0001', '1e-05', '1e-06', '1e-07'])\n",
      "0.0001\n"
     ]
    },
    {
     "ename": "TypeError",
     "evalue": "list indices must be integers or slices, not str",
     "output_type": "error",
     "traceback": [
      "\u001b[0;31m---------------------------------------------------------------------------\u001b[0m",
      "\u001b[0;31mTypeError\u001b[0m                                 Traceback (most recent call last)",
      "Cell \u001b[0;32mIn[52], line 5\u001b[0m\n\u001b[1;32m      3\u001b[0m \u001b[38;5;28;01mfor\u001b[39;00m key \u001b[38;5;129;01min\u001b[39;00m dir_rsts : \n\u001b[1;32m      4\u001b[0m     \u001b[38;5;28mprint\u001b[39m (key)\n\u001b[0;32m----> 5\u001b[0m     \u001b[38;5;28mprint\u001b[39m (\u001b[38;5;124m\"\u001b[39m\u001b[38;5;124mW : \u001b[39m\u001b[38;5;124m\"\u001b[39m, \u001b[43mdir_rsts\u001b[49m\u001b[43m[\u001b[49m\u001b[43mkey\u001b[49m\u001b[43m]\u001b[49m\u001b[43m[\u001b[49m\u001b[38;5;124;43m'\u001b[39;49m\u001b[38;5;124;43mW\u001b[39;49m\u001b[38;5;124;43m'\u001b[39;49m\u001b[43m]\u001b[49m)\n\u001b[1;32m      6\u001b[0m     \u001b[38;5;28mprint\u001b[39m (\u001b[38;5;124m\"\u001b[39m\u001b[38;5;124mb : \u001b[39m\u001b[38;5;124m\"\u001b[39m, dir_rsts[key][\u001b[38;5;124m'\u001b[39m\u001b[38;5;124mb\u001b[39m\u001b[38;5;124m'\u001b[39m])\n\u001b[1;32m      8\u001b[0m \u001b[38;5;28mprint\u001b[39m (W) \n",
      "\u001b[0;31mTypeError\u001b[0m: list indices must be integers or slices, not str"
     ]
    }
   ],
   "source": [
    "print (dir_rsts.keys())\n",
    "\n",
    "for key in dir_rsts : \n",
    "    print (key)\n",
    "    print (\"W : \", dir_rsts[key]['W'])\n",
    "    print (\"b : \", dir_rsts[key]['b'])\n",
    "\n",
    "print (W) \n",
    "print (b)\n",
    "\n",
    "test_data = torch.FloatTensor([[3.3, 700, 77, 84]])\n",
    "predict = test_data.matmul(W) + b\n",
    "pred_val = predict.squeeze().detach().numpy()\n",
    "print (pred_val)"
   ]
  },
  {
   "cell_type": "code",
   "execution_count": null,
   "id": "54f9f5f7",
   "metadata": {},
   "outputs": [],
   "source": []
  }
 ],
 "metadata": {
  "kernelspec": {
   "display_name": "Python 3 (ipykernel)",
   "language": "python",
   "name": "python3"
  },
  "language_info": {
   "codemirror_mode": {
    "name": "ipython",
    "version": 3
   },
   "file_extension": ".py",
   "mimetype": "text/x-python",
   "name": "python",
   "nbconvert_exporter": "python",
   "pygments_lexer": "ipython3",
   "version": "3.11.3"
  },
  "varInspector": {
   "cols": {
    "lenName": 16,
    "lenType": 16,
    "lenVar": 40
   },
   "kernels_config": {
    "python": {
     "delete_cmd_postfix": "",
     "delete_cmd_prefix": "del ",
     "library": "var_list.py",
     "varRefreshCmd": "print(var_dic_list())"
    },
    "r": {
     "delete_cmd_postfix": ") ",
     "delete_cmd_prefix": "rm(",
     "library": "var_list.r",
     "varRefreshCmd": "cat(var_dic_list()) "
    }
   },
   "types_to_exclude": [
    "module",
    "function",
    "builtin_function_or_method",
    "instance",
    "_Feature"
   ],
   "window_display": false
  }
 },
 "nbformat": 4,
 "nbformat_minor": 5
}
