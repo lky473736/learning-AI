{
 "cells": [
  {
   "cell_type": "markdown",
   "id": "107b53a8",
   "metadata": {},
   "source": [
    "## learning-AI : deep learning application (61357002)\n",
    "### assignment : diabetes classification using CNN with transfer learning (DL)\n",
    "\n",
    "**당뇨 데이터를 1D-CNN 하여 classification (split_sequence 사용 및 transfer learning)**\n",
    "\n",
    "<br>\n",
    "\n",
    "- **임규연 (lky473736)**\n",
    "- 2024.09.26.에 문서 작성\n",
    "- **dataset** : https://github.com/plotly/datasets/blob/master/diabetes.csv\n",
    "- **kaggle** : https://www.kaggle.com/datasets/mathchi/diabetes-data-set/data\n",
    "- **data abstract** : This dataset is originally from the National Institute of Diabetes and Digestive and Kidney Diseases. The objective is to predict based on diagnostic measurements whether a patient has diabetes.\n",
    "\n",
    "------"
   ]
  },
  {
   "cell_type": "markdown",
   "id": "1ebf4bd1",
   "metadata": {},
   "source": [
    "## <span id='dl'><mark>DL</mark></span>\n",
    "<br>\n",
    "\n",
    "- **Reference**\n",
    "    - https://github.com/lky473736/learning-AI/blob/main/class/assignment/topic3/LSTM(transfer-learning)_classification_HAR_DSADS(assignment).ipynb\n",
    "    - https://github.com/MyungKyuYi/AI-class/blob/main/Pre-trained_model.ipynb\n",
    "    - https://github.com/MyungKyuYi/AI-class/blob/main/fixed_code.ipynb\n",
    "\n",
    "<br>\n",
    "    \n",
    "deep learning으로 diabetes를 classification한다. **1D-CNN을 통하여 classification한다.** split_sequence()를 하여 CNN을 진행할 때 주의할 점은 아래와 같다.\n",
    "\n",
    "- `(주의할 점 1) 적절한 timestep`\n",
    "    - **앞으로는 EDA를 하기 전, uci dataset에 대한 설명을 먼저 정독한 후에 진행하자.**\n",
    "    - 만약 특정 시계열 데이터셋이 있다고 가정할 때, 그에 대한 샘플링 속도는 50Hz라고 한다면, 이는 1초 동안 50개의 데이터를 수집했다는 의미이다. -> **따라서 1초 간의 활동을 포착하려고 할 때 타임스텝은 50으로 설정해야 하는 것이 일반적이다.**\n",
    "    \n",
    "- `(주의할 점 2) label counting의 불균형을 확인할 것`\n",
    "    - **부족한 label에 해당되는 records의 수를 늘린다. (oversampling)**\n",
    "    - 반대로, 너무 많은 label에 해당되는 records의 수는 감소한다. (undersampling)\n",
    "    \n",
    "- `(주의할 점 3) 많은 양의 records`\n",
    "    - 파일에 들어있는 records 수가 많으면 시간 측면에서도 오래 걸리며, 원할한 학습이 이루어지지 않을 수 있다.\n",
    "    - 따라서 데이터셋 중에서도, label이 고르고 각 feature가 정규분포 모양을 잘 따르고 있는 데이터셋을 선정하여 학습하는 것이 중요하다.\n",
    "\n",
    "<br>\n",
    "\n",
    "이번 문서에서는, transfer learning을 진행하여 accuracy를 증가해보겠다. 따라서 아래와 같은 목차로 진행한다.\n",
    "\n",
    "- **1. 간단한 탐색적 데이터 분석 및 데이터 전처리 수행, 순환 데이터로 구성**\n",
    "- **2. modeling 수행**\n",
    "- **3. transfer learning - pre-trained model, fine-tuning**\n"
   ]
  },
  {
   "cell_type": "code",
   "execution_count": 1,
   "id": "3619885f",
   "metadata": {
    "ExecuteTime": {
     "end_time": "2024-09-26T01:43:53.734498Z",
     "start_time": "2024-09-26T01:43:46.637788Z"
    }
   },
   "outputs": [
    {
     "name": "stderr",
     "output_type": "stream",
     "text": [
      "2024-09-26 10:43:50.850893: I tensorflow/core/platform/cpu_feature_guard.cc:210] This TensorFlow binary is optimized to use available CPU instructions in performance-critical operations.\n",
      "To enable the following instructions: AVX2 FMA, in other operations, rebuild TensorFlow with the appropriate compiler flags.\n"
     ]
    }
   ],
   "source": [
    "import pandas as pd\n",
    "from sklearn.model_selection import StratifiedShuffleSplit\n",
    "from scipy.stats import skew\n",
    "import os\n",
    "import csv\n",
    "import matplotlib.pyplot as plt\n",
    "import seaborn as sns\n",
    "import tensorflow as tf\n",
    "from tensorflow import keras\n",
    "import numpy as np\n",
    "import scipy\n",
    "from tqdm import tqdm"
   ]
  },
  {
   "cell_type": "code",
   "execution_count": 2,
   "id": "b54e6dfd",
   "metadata": {
    "ExecuteTime": {
     "end_time": "2024-09-26T01:43:59.351296Z",
     "start_time": "2024-09-26T01:43:59.344423Z"
    }
   },
   "outputs": [],
   "source": [
    "import tensorflow as tf\n",
    "from tensorflow import keras\n",
    "from tensorflow.keras import layers\n",
    "\n",
    "# cnn model vary kernel size\n",
    "from numpy import mean\n",
    "from numpy import std\n",
    "from numpy import dstack\n",
    "from pandas import read_csv\n",
    "from matplotlib import pyplot\n",
    "from tensorflow.keras.models import Sequential\n",
    "from tensorflow.keras.layers import Dense\n",
    "from tensorflow.keras.layers import Flatten\n",
    "from tensorflow.keras.layers import Dropout\n",
    "from keras.utils import to_categorical\n",
    "\n",
    "import tensorflow.keras\n",
    "from tensorflow.keras.models import Sequential\n",
    "from tensorflow.keras.layers import Dense, Dropout, Flatten, Reshape, LSTM, Conv1D, MaxPooling1D\n",
    "from tensorflow.keras.layers import TimeDistributed, Conv1D, MaxPooling1D\n"
   ]
  },
  {
   "cell_type": "markdown",
   "id": "46c38ccf",
   "metadata": {},
   "source": [
    "-----------"
   ]
  },
  {
   "cell_type": "markdown",
   "id": "17ef9119",
   "metadata": {},
   "source": [
    "\n",
    "\n",
    "### 1. 간단한 탐색적 데이터 분석 및 데이터 전처리 수행, 순환 데이터로 구성\n",
    "- 데이터 시각화 및 필요한 정보를 얻어낸다.\n",
    "- 결측치 제거, outlier 제거 등의 데이터 전처리를 수행한다.\n",
    "- 순환 데이터로 구성하기 위하여 split_sequence를 빈도 기준으로 한다."
   ]
  },
  {
   "cell_type": "code",
   "execution_count": 3,
   "id": "0a0d70bf",
   "metadata": {
    "ExecuteTime": {
     "end_time": "2024-09-26T01:44:31.556554Z",
     "start_time": "2024-09-26T01:44:31.537805Z"
    }
   },
   "outputs": [
    {
     "data": {
      "text/html": [
       "<div>\n",
       "<style scoped>\n",
       "    .dataframe tbody tr th:only-of-type {\n",
       "        vertical-align: middle;\n",
       "    }\n",
       "\n",
       "    .dataframe tbody tr th {\n",
       "        vertical-align: top;\n",
       "    }\n",
       "\n",
       "    .dataframe thead th {\n",
       "        text-align: right;\n",
       "    }\n",
       "</style>\n",
       "<table border=\"1\" class=\"dataframe\">\n",
       "  <thead>\n",
       "    <tr style=\"text-align: right;\">\n",
       "      <th></th>\n",
       "      <th>Pregnancies</th>\n",
       "      <th>Glucose</th>\n",
       "      <th>BloodPressure</th>\n",
       "      <th>SkinThickness</th>\n",
       "      <th>Insulin</th>\n",
       "      <th>BMI</th>\n",
       "      <th>DiabetesPedigreeFunction</th>\n",
       "      <th>Age</th>\n",
       "      <th>Outcome</th>\n",
       "    </tr>\n",
       "  </thead>\n",
       "  <tbody>\n",
       "    <tr>\n",
       "      <th>0</th>\n",
       "      <td>6</td>\n",
       "      <td>148</td>\n",
       "      <td>72</td>\n",
       "      <td>35</td>\n",
       "      <td>0</td>\n",
       "      <td>33.6</td>\n",
       "      <td>0.627</td>\n",
       "      <td>50</td>\n",
       "      <td>1</td>\n",
       "    </tr>\n",
       "    <tr>\n",
       "      <th>1</th>\n",
       "      <td>1</td>\n",
       "      <td>85</td>\n",
       "      <td>66</td>\n",
       "      <td>29</td>\n",
       "      <td>0</td>\n",
       "      <td>26.6</td>\n",
       "      <td>0.351</td>\n",
       "      <td>31</td>\n",
       "      <td>0</td>\n",
       "    </tr>\n",
       "    <tr>\n",
       "      <th>2</th>\n",
       "      <td>8</td>\n",
       "      <td>183</td>\n",
       "      <td>64</td>\n",
       "      <td>0</td>\n",
       "      <td>0</td>\n",
       "      <td>23.3</td>\n",
       "      <td>0.672</td>\n",
       "      <td>32</td>\n",
       "      <td>1</td>\n",
       "    </tr>\n",
       "    <tr>\n",
       "      <th>3</th>\n",
       "      <td>1</td>\n",
       "      <td>89</td>\n",
       "      <td>66</td>\n",
       "      <td>23</td>\n",
       "      <td>94</td>\n",
       "      <td>28.1</td>\n",
       "      <td>0.167</td>\n",
       "      <td>21</td>\n",
       "      <td>0</td>\n",
       "    </tr>\n",
       "    <tr>\n",
       "      <th>4</th>\n",
       "      <td>0</td>\n",
       "      <td>137</td>\n",
       "      <td>40</td>\n",
       "      <td>35</td>\n",
       "      <td>168</td>\n",
       "      <td>43.1</td>\n",
       "      <td>2.288</td>\n",
       "      <td>33</td>\n",
       "      <td>1</td>\n",
       "    </tr>\n",
       "    <tr>\n",
       "      <th>...</th>\n",
       "      <td>...</td>\n",
       "      <td>...</td>\n",
       "      <td>...</td>\n",
       "      <td>...</td>\n",
       "      <td>...</td>\n",
       "      <td>...</td>\n",
       "      <td>...</td>\n",
       "      <td>...</td>\n",
       "      <td>...</td>\n",
       "    </tr>\n",
       "    <tr>\n",
       "      <th>763</th>\n",
       "      <td>10</td>\n",
       "      <td>101</td>\n",
       "      <td>76</td>\n",
       "      <td>48</td>\n",
       "      <td>180</td>\n",
       "      <td>32.9</td>\n",
       "      <td>0.171</td>\n",
       "      <td>63</td>\n",
       "      <td>0</td>\n",
       "    </tr>\n",
       "    <tr>\n",
       "      <th>764</th>\n",
       "      <td>2</td>\n",
       "      <td>122</td>\n",
       "      <td>70</td>\n",
       "      <td>27</td>\n",
       "      <td>0</td>\n",
       "      <td>36.8</td>\n",
       "      <td>0.340</td>\n",
       "      <td>27</td>\n",
       "      <td>0</td>\n",
       "    </tr>\n",
       "    <tr>\n",
       "      <th>765</th>\n",
       "      <td>5</td>\n",
       "      <td>121</td>\n",
       "      <td>72</td>\n",
       "      <td>23</td>\n",
       "      <td>112</td>\n",
       "      <td>26.2</td>\n",
       "      <td>0.245</td>\n",
       "      <td>30</td>\n",
       "      <td>0</td>\n",
       "    </tr>\n",
       "    <tr>\n",
       "      <th>766</th>\n",
       "      <td>1</td>\n",
       "      <td>126</td>\n",
       "      <td>60</td>\n",
       "      <td>0</td>\n",
       "      <td>0</td>\n",
       "      <td>30.1</td>\n",
       "      <td>0.349</td>\n",
       "      <td>47</td>\n",
       "      <td>1</td>\n",
       "    </tr>\n",
       "    <tr>\n",
       "      <th>767</th>\n",
       "      <td>1</td>\n",
       "      <td>93</td>\n",
       "      <td>70</td>\n",
       "      <td>31</td>\n",
       "      <td>0</td>\n",
       "      <td>30.4</td>\n",
       "      <td>0.315</td>\n",
       "      <td>23</td>\n",
       "      <td>0</td>\n",
       "    </tr>\n",
       "  </tbody>\n",
       "</table>\n",
       "<p>768 rows × 9 columns</p>\n",
       "</div>"
      ],
      "text/plain": [
       "     Pregnancies  Glucose  BloodPressure  SkinThickness  Insulin   BMI  \\\n",
       "0              6      148             72             35        0  33.6   \n",
       "1              1       85             66             29        0  26.6   \n",
       "2              8      183             64              0        0  23.3   \n",
       "3              1       89             66             23       94  28.1   \n",
       "4              0      137             40             35      168  43.1   \n",
       "..           ...      ...            ...            ...      ...   ...   \n",
       "763           10      101             76             48      180  32.9   \n",
       "764            2      122             70             27        0  36.8   \n",
       "765            5      121             72             23      112  26.2   \n",
       "766            1      126             60              0        0  30.1   \n",
       "767            1       93             70             31        0  30.4   \n",
       "\n",
       "     DiabetesPedigreeFunction  Age  Outcome  \n",
       "0                       0.627   50        1  \n",
       "1                       0.351   31        0  \n",
       "2                       0.672   32        1  \n",
       "3                       0.167   21        0  \n",
       "4                       2.288   33        1  \n",
       "..                        ...  ...      ...  \n",
       "763                     0.171   63        0  \n",
       "764                     0.340   27        0  \n",
       "765                     0.245   30        0  \n",
       "766                     0.349   47        1  \n",
       "767                     0.315   23        0  \n",
       "\n",
       "[768 rows x 9 columns]"
      ]
     },
     "execution_count": 3,
     "metadata": {},
     "output_type": "execute_result"
    }
   ],
   "source": [
    "# 파일 읽기\n",
    "\n",
    "df = pd.read_csv('../../data/diabetes.csv')\n",
    "\n",
    "df"
   ]
  },
  {
   "cell_type": "code",
   "execution_count": 6,
   "id": "9c014e00",
   "metadata": {
    "ExecuteTime": {
     "end_time": "2024-09-26T01:45:37.264913Z",
     "start_time": "2024-09-26T01:45:37.237433Z"
    }
   },
   "outputs": [
    {
     "name": "stdout",
     "output_type": "stream",
     "text": [
      "Pregnancies의 데이터 타입 :  int64\n",
      "Glucose의 데이터 타입 :  int64\n",
      "BloodPressure의 데이터 타입 :  int64\n",
      "SkinThickness의 데이터 타입 :  int64\n",
      "Insulin의 데이터 타입 :  int64\n",
      "BMI의 데이터 타입 :  float64\n",
      "DiabetesPedigreeFunction의 데이터 타입 :  float64\n",
      "Age의 데이터 타입 :  int64\n",
      "Outcome의 데이터 타입 :  int64\n"
     ]
    },
    {
     "data": {
      "text/html": [
       "<div>\n",
       "<style scoped>\n",
       "    .dataframe tbody tr th:only-of-type {\n",
       "        vertical-align: middle;\n",
       "    }\n",
       "\n",
       "    .dataframe tbody tr th {\n",
       "        vertical-align: top;\n",
       "    }\n",
       "\n",
       "    .dataframe thead th {\n",
       "        text-align: right;\n",
       "    }\n",
       "</style>\n",
       "<table border=\"1\" class=\"dataframe\">\n",
       "  <thead>\n",
       "    <tr style=\"text-align: right;\">\n",
       "      <th></th>\n",
       "      <th>Pregnancies</th>\n",
       "      <th>Glucose</th>\n",
       "      <th>BloodPressure</th>\n",
       "      <th>SkinThickness</th>\n",
       "      <th>Insulin</th>\n",
       "      <th>BMI</th>\n",
       "      <th>DiabetesPedigreeFunction</th>\n",
       "      <th>Age</th>\n",
       "      <th>Outcome</th>\n",
       "    </tr>\n",
       "  </thead>\n",
       "  <tbody>\n",
       "    <tr>\n",
       "      <th>count</th>\n",
       "      <td>768.000000</td>\n",
       "      <td>768.000000</td>\n",
       "      <td>768.000000</td>\n",
       "      <td>768.000000</td>\n",
       "      <td>768.000000</td>\n",
       "      <td>768.000000</td>\n",
       "      <td>768.000000</td>\n",
       "      <td>768.000000</td>\n",
       "      <td>768.000000</td>\n",
       "    </tr>\n",
       "    <tr>\n",
       "      <th>mean</th>\n",
       "      <td>3.845052</td>\n",
       "      <td>120.894531</td>\n",
       "      <td>69.105469</td>\n",
       "      <td>20.536458</td>\n",
       "      <td>79.799479</td>\n",
       "      <td>31.992578</td>\n",
       "      <td>0.471876</td>\n",
       "      <td>33.240885</td>\n",
       "      <td>0.348958</td>\n",
       "    </tr>\n",
       "    <tr>\n",
       "      <th>std</th>\n",
       "      <td>3.369578</td>\n",
       "      <td>31.972618</td>\n",
       "      <td>19.355807</td>\n",
       "      <td>15.952218</td>\n",
       "      <td>115.244002</td>\n",
       "      <td>7.884160</td>\n",
       "      <td>0.331329</td>\n",
       "      <td>11.760232</td>\n",
       "      <td>0.476951</td>\n",
       "    </tr>\n",
       "    <tr>\n",
       "      <th>min</th>\n",
       "      <td>0.000000</td>\n",
       "      <td>0.000000</td>\n",
       "      <td>0.000000</td>\n",
       "      <td>0.000000</td>\n",
       "      <td>0.000000</td>\n",
       "      <td>0.000000</td>\n",
       "      <td>0.078000</td>\n",
       "      <td>21.000000</td>\n",
       "      <td>0.000000</td>\n",
       "    </tr>\n",
       "    <tr>\n",
       "      <th>25%</th>\n",
       "      <td>1.000000</td>\n",
       "      <td>99.000000</td>\n",
       "      <td>62.000000</td>\n",
       "      <td>0.000000</td>\n",
       "      <td>0.000000</td>\n",
       "      <td>27.300000</td>\n",
       "      <td>0.243750</td>\n",
       "      <td>24.000000</td>\n",
       "      <td>0.000000</td>\n",
       "    </tr>\n",
       "    <tr>\n",
       "      <th>50%</th>\n",
       "      <td>3.000000</td>\n",
       "      <td>117.000000</td>\n",
       "      <td>72.000000</td>\n",
       "      <td>23.000000</td>\n",
       "      <td>30.500000</td>\n",
       "      <td>32.000000</td>\n",
       "      <td>0.372500</td>\n",
       "      <td>29.000000</td>\n",
       "      <td>0.000000</td>\n",
       "    </tr>\n",
       "    <tr>\n",
       "      <th>75%</th>\n",
       "      <td>6.000000</td>\n",
       "      <td>140.250000</td>\n",
       "      <td>80.000000</td>\n",
       "      <td>32.000000</td>\n",
       "      <td>127.250000</td>\n",
       "      <td>36.600000</td>\n",
       "      <td>0.626250</td>\n",
       "      <td>41.000000</td>\n",
       "      <td>1.000000</td>\n",
       "    </tr>\n",
       "    <tr>\n",
       "      <th>max</th>\n",
       "      <td>17.000000</td>\n",
       "      <td>199.000000</td>\n",
       "      <td>122.000000</td>\n",
       "      <td>99.000000</td>\n",
       "      <td>846.000000</td>\n",
       "      <td>67.100000</td>\n",
       "      <td>2.420000</td>\n",
       "      <td>81.000000</td>\n",
       "      <td>1.000000</td>\n",
       "    </tr>\n",
       "  </tbody>\n",
       "</table>\n",
       "</div>"
      ],
      "text/plain": [
       "       Pregnancies     Glucose  BloodPressure  SkinThickness     Insulin  \\\n",
       "count   768.000000  768.000000     768.000000     768.000000  768.000000   \n",
       "mean      3.845052  120.894531      69.105469      20.536458   79.799479   \n",
       "std       3.369578   31.972618      19.355807      15.952218  115.244002   \n",
       "min       0.000000    0.000000       0.000000       0.000000    0.000000   \n",
       "25%       1.000000   99.000000      62.000000       0.000000    0.000000   \n",
       "50%       3.000000  117.000000      72.000000      23.000000   30.500000   \n",
       "75%       6.000000  140.250000      80.000000      32.000000  127.250000   \n",
       "max      17.000000  199.000000     122.000000      99.000000  846.000000   \n",
       "\n",
       "              BMI  DiabetesPedigreeFunction         Age     Outcome  \n",
       "count  768.000000                768.000000  768.000000  768.000000  \n",
       "mean    31.992578                  0.471876   33.240885    0.348958  \n",
       "std      7.884160                  0.331329   11.760232    0.476951  \n",
       "min      0.000000                  0.078000   21.000000    0.000000  \n",
       "25%     27.300000                  0.243750   24.000000    0.000000  \n",
       "50%     32.000000                  0.372500   29.000000    0.000000  \n",
       "75%     36.600000                  0.626250   41.000000    1.000000  \n",
       "max     67.100000                  2.420000   81.000000    1.000000  "
      ]
     },
     "execution_count": 6,
     "metadata": {},
     "output_type": "execute_result"
    }
   ],
   "source": [
    "# df의 기본적인 통계량 수치 파악, 각 열마다의 데이터 타입 \n",
    "\n",
    "for feature in df.columns :\n",
    "    print (f'{feature}의 데이터 타입 : ', df[feature].dtype)\n",
    "\n",
    "df.describe()"
   ]
  },
  {
   "cell_type": "code",
   "execution_count": 5,
   "id": "93b2800b",
   "metadata": {
    "ExecuteTime": {
     "end_time": "2024-09-26T01:45:25.233814Z",
     "start_time": "2024-09-26T01:45:25.228234Z"
    }
   },
   "outputs": [
    {
     "name": "stdout",
     "output_type": "stream",
     "text": [
      "Pregnancies                 0\n",
      "Glucose                     0\n",
      "BloodPressure               0\n",
      "SkinThickness               0\n",
      "Insulin                     0\n",
      "BMI                         0\n",
      "DiabetesPedigreeFunction    0\n",
      "Age                         0\n",
      "Outcome                     0\n",
      "dtype: int64\n",
      "\n",
      " Pregnancies                 0\n",
      "Glucose                     0\n",
      "BloodPressure               0\n",
      "SkinThickness               0\n",
      "Insulin                     0\n",
      "BMI                         0\n",
      "DiabetesPedigreeFunction    0\n",
      "Age                         0\n",
      "Outcome                     0\n",
      "dtype: int64\n"
     ]
    }
   ],
   "source": [
    "# 결측치 확인 및 dropna로 결측치에 해당되는 record 삭제\n",
    "\n",
    "print (df.isnull().sum())\n",
    "df = df.dropna()\n",
    "print ('\\n', df.isnull().sum())"
   ]
  },
  {
   "cell_type": "code",
   "execution_count": 11,
   "id": "5354e276",
   "metadata": {
    "ExecuteTime": {
     "end_time": "2024-09-26T01:52:35.833017Z",
     "start_time": "2024-09-26T01:52:34.505021Z"
    }
   },
   "outputs": [
    {
     "data": {
      "image/png": "[encoded data removed]",
      "text/plain": [
       "<Figure size 1500x500 with 9 Axes>"
      ]
     },
     "metadata": {},
     "output_type": "display_data"
    },
    {
     "data": {
      "image/png": "[encoded data removed]",
      "text/plain": [
       "<Figure size 1500x500 with 9 Axes>"
      ]
     },
     "metadata": {},
     "output_type": "display_data"
    }
   ],
   "source": [
    "# subplot 시각화 및 outlier 전처리\n",
    "\n",
    "fig, axes = plt.subplots(nrows=1, ncols=df.shape[1], figsize=(15, 5))\n",
    "\n",
    "for i, var in enumerate(df.columns) :\n",
    "    ax = axes[i]\n",
    "    ax.boxplot(df[var], showmeans=True)\n",
    "    ax.set_title(var)\n",
    "\n",
    "fig.suptitle(\"<before preprocessing the outlier>\")\n",
    "plt.tight_layout()\n",
    "plt.show()\n",
    "\n",
    "#############\n",
    "\n",
    "# outlier 제거 및 다시 boxplot 시각화\n",
    "\n",
    "df = df[(df['BMI'] != 0) & (df['Glucose'] != 0) & (df['BloodPressure'] != 0)] \n",
    "# 특정 feature가 0이 되는 지점이 결측치가 된다\n",
    "\n",
    "fig, axes = plt.subplots(nrows=1, ncols=df.shape[1], figsize=(15, 5))\n",
    "\n",
    "for i, var in enumerate(df.columns) :\n",
    "    ax = axes[i]\n",
    "    ax.boxplot(df[var], showmeans=True)\n",
    "    ax.set_title(var)\n",
    "\n",
    "fig.suptitle(\"<after preprocessing the outlier>\")\n",
    "plt.tight_layout()\n",
    "plt.show()"
   ]
  },
  {
   "cell_type": "code",
   "execution_count": 13,
   "id": "23d7b9fe",
   "metadata": {
    "ExecuteTime": {
     "end_time": "2024-09-26T01:53:08.821168Z",
     "start_time": "2024-09-26T01:53:08.683695Z"
    }
   },
   "outputs": [
    {
     "data": {
      "text/plain": [
       "Outcome\n",
       "0    475\n",
       "1    249\n",
       "Name: count, dtype: int64"
      ]
     },
     "execution_count": 13,
     "metadata": {},
     "output_type": "execute_result"
    },
    {
     "data": {
      "image/png": "[encoded data removed]",
      "text/plain": [
       "<Figure size 640x480 with 1 Axes>"
      ]
     },
     "metadata": {},
     "output_type": "display_data"
    }
   ],
   "source": [
    "# target 별 counting\n",
    "\n",
    "sns.countplot(data = df, x=\"Outcome\")\n",
    "plt.xlabel('target')\n",
    "plt.ylabel(\"counting of target\")\n",
    "plt.title('Countplot of diabetes dataset')\n",
    "\n",
    "df['Outcome'].value_counts()"
   ]
  },
  {
   "cell_type": "code",
   "execution_count": 14,
   "id": "d7ee3dd0",
   "metadata": {
    "ExecuteTime": {
     "end_time": "2024-09-26T01:53:33.876232Z",
     "start_time": "2024-09-26T01:53:33.866953Z"
    }
   },
   "outputs": [
    {
     "name": "stdout",
     "output_type": "stream",
     "text": [
      "Outcome\n",
      "1    1000\n",
      "0    1000\n",
      "Name: count, dtype: int64\n"
     ]
    }
   ],
   "source": [
    "'''\n",
    "    oversampling과 undersampling을 함수로 구현한다. \n",
    "'''\n",
    "    \n",
    "def sampling(df, target_col, max_size) :\n",
    "    # 결과를 저장할 리스트 \n",
    "    dfs = []\n",
    "    \n",
    "    for label in df[target_col].unique() :\n",
    "        class_df = df[df[target_col] == label]\n",
    "        \n",
    "        if len(class_df) < max_size :\n",
    "            # 샘플 수가 max_size보다 적으면 데이터를 복제하여 max_size로 만듦\n",
    "            sampled_df = class_df.sample(max_size, replace=True, random_state=42)\n",
    "        else :\n",
    "            # 샘플 수가 max_size보다 많으면 앞부분부터 max_size만큼 선택함\n",
    "            sampled_df = class_df.head(max_size)\n",
    "        \n",
    "        # 리스트에 추가\n",
    "        dfs.append(sampled_df)\n",
    "    \n",
    "    df_resampled = pd.concat(dfs).reset_index(drop=True)\n",
    "    \n",
    "    return df_resampled\n",
    "\n",
    "df_resampled = sampling(df, 'Outcome', max_size=1000)\n",
    "print (df_resampled['Outcome'].value_counts())"
   ]
  },
  {
   "cell_type": "code",
   "execution_count": 15,
   "id": "5b385920",
   "metadata": {
    "ExecuteTime": {
     "end_time": "2024-09-26T01:53:46.580395Z",
     "start_time": "2024-09-26T01:53:46.577093Z"
    }
   },
   "outputs": [],
   "source": [
    "def add_noise(data: pd.DataFrame, noise_level: float) -> pd.DataFrame :\n",
    "                      noisy_data = data.copy()\n",
    "                      feature_columns = noisy_data.columns.difference(['Outcome'])  \n",
    "                      noise = np.random.normal(loc=0, scale=noise_level, size=noisy_data[feature_columns].shape)\n",
    "                      noisy_data[feature_columns] += noise\n",
    "                      return noisy_data"
   ]
  },
  {
   "cell_type": "code",
   "execution_count": 16,
   "id": "8d2372ad",
   "metadata": {
    "ExecuteTime": {
     "end_time": "2024-09-26T01:53:51.792519Z",
     "start_time": "2024-09-26T01:53:51.787232Z"
    }
   },
   "outputs": [],
   "source": [
    "# def mixup_data(data: pd.DataFrame, alpha: float) -> pd.DataFrame :\n",
    "#                                                           feature_columns = data.columns.difference(['Outcome'])  \n",
    "#                                                           num_samples = len(data)\n",
    "\n",
    "#                                                           lambdas = np.random.beta(alpha, alpha, size=num_samples)\n",
    "#                                                           mixed_data = data.copy()\n",
    "\n",
    "#                                                           for i in range(num_samples):\n",
    "#                                                               # 랜덤하게 섞기\n",
    "#                                                               j = np.random.choice(num_samples)\n",
    "\n",
    "#                                                               # feature 섞기\n",
    "#                                                               mixed_data.loc[i, feature_columns] = lambdas[i] * data.loc[i, feature_columns] + (1 - lambdas[i]) * data.loc[j, feature_columns]\n",
    "\n",
    "#                                                               # target 섞기 \n",
    "#                                                               mixed_data.loc[i, 'Outcome'] = lambdas[i] * data.loc[i, 'Outcome'] + (1 - lambdas[i]) * data.loc[j, 'Outcome']\n",
    "\n",
    "#                                                           return mixed_data\n",
    "\n",
    "\n",
    "def mixup_data_binary(data: pd.DataFrame, alpha: float) -> pd.DataFrame : \n",
    "    feature_columns = data.columns.difference(['Outcome']) \n",
    "    num_samples = len(data)\n",
    "    \n",
    "    lambdas = np.random.beta(alpha, alpha, size=num_samples)\n",
    "    mixed_data = data.copy()\n",
    "    \n",
    "    for i in range(num_samples) :\n",
    "        # 랜덤하게 다른 샘플 선택\n",
    "        j = np.random.choice(num_samples)\n",
    "        \n",
    "        # 특성 섞기\n",
    "        mixed_data.loc[i, feature_columns] = lambdas[i] * data.loc[i, feature_columns] + (1 - lambdas[i]) * data.loc[j, feature_columns]\n",
    "        \n",
    "        # 타겟 섞기 및 0 또는 1로 \"반올림\"\n",
    "        mixed_data.loc[i, 'Outcome'] = round(lambdas[i] * data.loc[i, 'Outcome'] + (1 - lambdas[i]) * data.loc[j, 'Outcome'])\n",
    "    \n",
    "    return mixed_data\n"
   ]
  },
  {
   "cell_type": "code",
   "execution_count": 17,
   "id": "33167ef3",
   "metadata": {
    "ExecuteTime": {
     "end_time": "2024-09-26T01:58:53.013773Z",
     "start_time": "2024-09-26T01:58:48.777709Z"
    }
   },
   "outputs": [
    {
     "name": "stdout",
     "output_type": "stream",
     "text": [
      "after augmentation :  (2000, 9)\n"
     ]
    },
    {
     "data": {
      "text/html": [
       "<div>\n",
       "<style scoped>\n",
       "    .dataframe tbody tr th:only-of-type {\n",
       "        vertical-align: middle;\n",
       "    }\n",
       "\n",
       "    .dataframe tbody tr th {\n",
       "        vertical-align: top;\n",
       "    }\n",
       "\n",
       "    .dataframe thead th {\n",
       "        text-align: right;\n",
       "    }\n",
       "</style>\n",
       "<table border=\"1\" class=\"dataframe\">\n",
       "  <thead>\n",
       "    <tr style=\"text-align: right;\">\n",
       "      <th></th>\n",
       "      <th>Pregnancies</th>\n",
       "      <th>Glucose</th>\n",
       "      <th>BloodPressure</th>\n",
       "      <th>SkinThickness</th>\n",
       "      <th>Insulin</th>\n",
       "      <th>BMI</th>\n",
       "      <th>DiabetesPedigreeFunction</th>\n",
       "      <th>Age</th>\n",
       "      <th>Outcome</th>\n",
       "    </tr>\n",
       "  </thead>\n",
       "  <tbody>\n",
       "    <tr>\n",
       "      <th>0</th>\n",
       "      <td>6.838878</td>\n",
       "      <td>106.055374</td>\n",
       "      <td>60.300007</td>\n",
       "      <td>23.796961</td>\n",
       "      <td>1.158005</td>\n",
       "      <td>26.559657</td>\n",
       "      <td>0.156806</td>\n",
       "      <td>29.252367</td>\n",
       "      <td>1</td>\n",
       "    </tr>\n",
       "    <tr>\n",
       "      <th>1</th>\n",
       "      <td>6.129888</td>\n",
       "      <td>124.271957</td>\n",
       "      <td>75.599127</td>\n",
       "      <td>0.418151</td>\n",
       "      <td>6.185466</td>\n",
       "      <td>33.721577</td>\n",
       "      <td>0.137907</td>\n",
       "      <td>53.581285</td>\n",
       "      <td>1</td>\n",
       "    </tr>\n",
       "    <tr>\n",
       "      <th>2</th>\n",
       "      <td>5.856130</td>\n",
       "      <td>123.014115</td>\n",
       "      <td>72.047961</td>\n",
       "      <td>44.739554</td>\n",
       "      <td>230.068238</td>\n",
       "      <td>33.581391</td>\n",
       "      <td>0.798171</td>\n",
       "      <td>33.942683</td>\n",
       "      <td>0</td>\n",
       "    </tr>\n",
       "    <tr>\n",
       "      <th>3</th>\n",
       "      <td>11.026241</td>\n",
       "      <td>135.994075</td>\n",
       "      <td>83.883790</td>\n",
       "      <td>35.332805</td>\n",
       "      <td>129.951603</td>\n",
       "      <td>28.433796</td>\n",
       "      <td>0.552125</td>\n",
       "      <td>41.952519</td>\n",
       "      <td>1</td>\n",
       "    </tr>\n",
       "    <tr>\n",
       "      <th>4</th>\n",
       "      <td>8.384314</td>\n",
       "      <td>112.371498</td>\n",
       "      <td>79.638732</td>\n",
       "      <td>21.423605</td>\n",
       "      <td>183.350509</td>\n",
       "      <td>32.689179</td>\n",
       "      <td>0.351924</td>\n",
       "      <td>35.299506</td>\n",
       "      <td>1</td>\n",
       "    </tr>\n",
       "  </tbody>\n",
       "</table>\n",
       "</div>"
      ],
      "text/plain": [
       "   Pregnancies     Glucose  BloodPressure  SkinThickness     Insulin  \\\n",
       "0     6.838878  106.055374      60.300007      23.796961    1.158005   \n",
       "1     6.129888  124.271957      75.599127       0.418151    6.185466   \n",
       "2     5.856130  123.014115      72.047961      44.739554  230.068238   \n",
       "3    11.026241  135.994075      83.883790      35.332805  129.951603   \n",
       "4     8.384314  112.371498      79.638732      21.423605  183.350509   \n",
       "\n",
       "         BMI  DiabetesPedigreeFunction        Age  Outcome  \n",
       "0  26.559657                  0.156806  29.252367        1  \n",
       "1  33.721577                  0.137907  53.581285        1  \n",
       "2  33.581391                  0.798171  33.942683        0  \n",
       "3  28.433796                  0.552125  41.952519        1  \n",
       "4  32.689179                  0.351924  35.299506        1  "
      ]
     },
     "execution_count": 17,
     "metadata": {},
     "output_type": "execute_result"
    }
   ],
   "source": [
    "# 노이즈 추가\n",
    "noisy_data = add_noise(df_resampled, noise_level=0.2)\n",
    "\n",
    "# Mixup 적용\n",
    "augmented_data = mixup_data_binary(noisy_data, alpha=0.2)\n",
    "\n",
    "# df_augmented\n",
    "df_augmented = augmented_data\n",
    "\n",
    "print (\"after augmentation : \", df_augmented.shape)\n",
    "df_augmented.head()"
   ]
  },
  {
   "cell_type": "code",
   "execution_count": 18,
   "id": "b0004174",
   "metadata": {
    "ExecuteTime": {
     "end_time": "2024-09-26T01:59:00.003873Z",
     "start_time": "2024-09-26T01:58:59.996065Z"
    }
   },
   "outputs": [
    {
     "name": "stdout",
     "output_type": "stream",
     "text": [
      "   Pregnancies     Glucose  BloodPressure  SkinThickness     Insulin  \\\n",
      "0     6.838878  106.055374      60.300007      23.796961    1.158005   \n",
      "1     6.129888  124.271957      75.599127       0.418151    6.185466   \n",
      "2     5.856130  123.014115      72.047961      44.739554  230.068238   \n",
      "3    11.026241  135.994075      83.883790      35.332805  129.951603   \n",
      "4     8.384314  112.371498      79.638732      21.423605  183.350509   \n",
      "\n",
      "         BMI  DiabetesPedigreeFunction        Age  \n",
      "0  26.559657                  0.156806  29.252367  \n",
      "1  33.721577                  0.137907  53.581285  \n",
      "2  33.581391                  0.798171  33.942683  \n",
      "3  28.433796                  0.552125  41.952519  \n",
      "4  32.689179                  0.351924  35.299506  \n",
      "\n",
      "\n",
      "0    1\n",
      "1    1\n",
      "2    0\n",
      "3    1\n",
      "4    1\n",
      "Name: Outcome, dtype: int64\n"
     ]
    }
   ],
   "source": [
    "# split the input, target\n",
    "\n",
    "diabetes_input = df_augmented.drop(columns=['Outcome'])\n",
    "diabetes_target = df_augmented['Outcome']\n",
    "\n",
    "print (diabetes_input.head())\n",
    "print ('\\n')\n",
    "print (diabetes_target.head())"
   ]
  },
  {
   "cell_type": "code",
   "execution_count": 20,
   "id": "88009b55",
   "metadata": {
    "ExecuteTime": {
     "end_time": "2024-09-26T01:59:30.465326Z",
     "start_time": "2024-09-26T01:59:30.313073Z"
    }
   },
   "outputs": [
    {
     "data": {
      "image/png": "[encoded data removed]",
      "text/plain": [
       "<Figure size 640x480 with 1 Axes>"
      ]
     },
     "metadata": {},
     "output_type": "display_data"
    }
   ],
   "source": [
    "# Z-score normalization\n",
    "\n",
    "from sklearn.preprocessing import StandardScaler\n",
    "\n",
    "features = df_augmented.columns[:-1]  # 'Outcome' 제외\n",
    "\n",
    "normalizer = StandardScaler()\n",
    "diabetes_input_scaled = pd.DataFrame(normalizer.fit_transform(diabetes_input), \n",
    "                              columns=features)  \n",
    "\n",
    "# 예시로, SkinThickness를 시각화하여 normalization이 잘 되었는지 확인해보기\n",
    "sns.kdeplot(diabetes_input_scaled['SkinThickness'], fill=True)\n",
    "plt.title(f'Density Distribution after normalization: SkinThickness')\n",
    "plt.xlabel('SkinThickness')\n",
    "plt.ylabel('Density')\n",
    "plt.show()"
   ]
  },
  {
   "cell_type": "code",
   "execution_count": 21,
   "id": "42020b42",
   "metadata": {
    "ExecuteTime": {
     "end_time": "2024-09-26T01:59:44.098604Z",
     "start_time": "2024-09-26T01:59:44.091278Z"
    }
   },
   "outputs": [
    {
     "data": {
      "text/plain": [
       "((1400, 8), (1400,))"
      ]
     },
     "execution_count": 21,
     "metadata": {},
     "output_type": "execute_result"
    }
   ],
   "source": [
    "from sklearn.model_selection import train_test_split\n",
    "\n",
    "X_train, X_test, y_train, y_test = train_test_split(diabetes_input_scaled,\n",
    "                                                    diabetes_target,\n",
    "                                                    stratify=diabetes_target,\n",
    "                                                    test_size = 0.3) \n",
    "\n",
    "X_train.shape, y_train.shape "
   ]
  },
  {
   "cell_type": "code",
   "execution_count": 22,
   "id": "268c0958",
   "metadata": {
    "ExecuteTime": {
     "end_time": "2024-09-26T02:00:36.644085Z",
     "start_time": "2024-09-26T02:00:36.638988Z"
    }
   },
   "outputs": [],
   "source": [
    "'''\n",
    "    순환 데이터를 구성하기 위하여 split_sequences를 사용하였다.\n",
    "    이때, 각 window마다 class의 빈도 수를 측정하여 가장 많은 빈도수를 가진 class가 target이 되는 방식을 취하였다.\n",
    "'''\n",
    "\n",
    "from collections import Counter\n",
    "import numpy as np\n",
    "\n",
    "def split_sequences(sequences, n_steps):\n",
    "    X, y = list(), list()  # 빈 리스트를 생성하여 시퀀스 데이터와 레이블을 담을 공간을 만듦\n",
    "    for i in range(len(sequences)):  # 전체 시퀀스 데이터를 순회\n",
    "        # find the end of this pattern\n",
    "        end_ix = i + n_steps  # 현재 인덱스(i)에서 n_steps만큼 떨어진 시퀀스의 끝을 계산\n",
    "        # check if we are beyond the dataset\n",
    "        if end_ix > len(sequences):  # 시퀀스 끝이 데이터의 범위를 넘어서는지 확인\n",
    "            break  # 범위를 넘으면 루프 종료\n",
    "        # gather input (X) and output parts (y)\n",
    "        seq_x = sequences[i:end_ix, :-1]  # 입력 데이터 (특징 데이터)\n",
    "        seq_y_values = sequences[i:end_ix, -1]  # 시퀀스 동안의 출력 데이터 (레이블들)\n",
    "        \n",
    "        # 가장 빈번하게 나온 레이블 찾기\n",
    "        most_common_label = Counter(seq_y_values).most_common(1)[0][0]\n",
    "        \n",
    "        X.append(seq_x)  # 입력 데이터 추가\n",
    "        y.append(most_common_label)  # 가장 많이 나온 레이블 추가\n",
    "    \n",
    "    return np.array(X), np.array(y)  # 리스트를 numpy 배열로 변환하여 반환"
   ]
  },
  {
   "cell_type": "code",
   "execution_count": 23,
   "id": "e1375739",
   "metadata": {
    "ExecuteTime": {
     "end_time": "2024-09-26T02:00:54.668973Z",
     "start_time": "2024-09-26T02:00:54.646651Z"
    }
   },
   "outputs": [
    {
     "name": "stdout",
     "output_type": "stream",
     "text": [
      "before :  (1400, 9) (600, 9)\n",
      "[[[-6.11717027e-01  1.03694833e+00  1.34706581e+00 ... -5.84445204e-04\n",
      "    1.30290744e+00  1.58673606e+00]\n",
      "  [-1.15065348e+00  7.94426238e-01  1.20296902e-01 ...  2.11695830e+00\n",
      "    3.66451833e-01 -7.33585137e-01]\n",
      "  [-2.04827843e-01 -1.34576404e+00  9.87165596e-01 ... -5.89443235e-01\n",
      "   -1.58227417e+00 -4.74087676e-02]\n",
      "  [ 9.63555193e-01 -4.86924910e-01 -6.14121604e-01 ... -7.58490293e-02\n",
      "   -9.99003284e-01  6.67966609e-01]]\n",
      "\n",
      " [[-1.15065348e+00  7.94426238e-01  1.20296902e-01 ...  2.11695830e+00\n",
      "    3.66451833e-01 -7.33585137e-01]\n",
      "  [-2.04827843e-01 -1.34576404e+00  9.87165596e-01 ... -5.89443235e-01\n",
      "   -1.58227417e+00 -4.74087676e-02]\n",
      "  [ 9.63555193e-01 -4.86924910e-01 -6.14121604e-01 ... -7.58490293e-02\n",
      "   -9.99003284e-01  6.67966609e-01]\n",
      "  [-2.27137703e-01 -9.41072438e-01  6.79415953e-01 ... -5.69365009e-01\n",
      "    2.28044316e-01 -3.71188496e-01]]\n",
      "\n",
      " [[-2.04827843e-01 -1.34576404e+00  9.87165596e-01 ... -5.89443235e-01\n",
      "   -1.58227417e+00 -4.74087676e-02]\n",
      "  [ 9.63555193e-01 -4.86924910e-01 -6.14121604e-01 ... -7.58490293e-02\n",
      "   -9.99003284e-01  6.67966609e-01]\n",
      "  [-2.27137703e-01 -9.41072438e-01  6.79415953e-01 ... -5.69365009e-01\n",
      "    2.28044316e-01 -3.71188496e-01]\n",
      "  [-4.06106187e-01  4.44403711e-01  1.12333152e+00 ...  5.63534991e-01\n",
      "   -6.06012804e-01  1.20136134e-01]]\n",
      "\n",
      " ...\n",
      "\n",
      " [[ 1.84075000e+00 -1.76837302e-01 -4.29018297e-01 ... -2.26851877e-01\n",
      "   -5.06616057e-01  6.43709266e-01]\n",
      "  [ 3.01114457e-01 -4.19285690e-01  2.69292797e-01 ... -2.64310749e-01\n",
      "   -1.31626892e+00  9.07930507e-01]\n",
      "  [ 1.88734735e+00 -9.36380363e-02 -2.60094203e-01 ... -3.12131679e-01\n",
      "   -1.00084226e+00  6.37520785e-01]\n",
      "  [-9.77925779e-01 -1.80546653e+00 -1.98126457e+00 ... -1.51468626e+00\n",
      "   -1.21478757e+00 -1.21760213e+00]]\n",
      "\n",
      " [[ 3.01114457e-01 -4.19285690e-01  2.69292797e-01 ... -2.64310749e-01\n",
      "   -1.31626892e+00  9.07930507e-01]\n",
      "  [ 1.88734735e+00 -9.36380363e-02 -2.60094203e-01 ... -3.12131679e-01\n",
      "   -1.00084226e+00  6.37520785e-01]\n",
      "  [-9.77925779e-01 -1.80546653e+00 -1.98126457e+00 ... -1.51468626e+00\n",
      "   -1.21478757e+00 -1.21760213e+00]\n",
      "  [ 4.89247953e-02  2.20044750e-01 -1.07478252e-01 ... -1.32060061e+00\n",
      "   -9.57764443e-01  2.22025975e+00]]\n",
      "\n",
      " [[ 1.88734735e+00 -9.36380363e-02 -2.60094203e-01 ... -3.12131679e-01\n",
      "   -1.00084226e+00  6.37520785e-01]\n",
      "  [-9.77925779e-01 -1.80546653e+00 -1.98126457e+00 ... -1.51468626e+00\n",
      "   -1.21478757e+00 -1.21760213e+00]\n",
      "  [ 4.89247953e-02  2.20044750e-01 -1.07478252e-01 ... -1.32060061e+00\n",
      "   -9.57764443e-01  2.22025975e+00]\n",
      "  [ 1.79389399e+00 -1.80636724e+00  1.80057787e+00 ... -1.55359738e-01\n",
      "   -1.08625180e+00  8.38085386e-01]]]\n",
      "[1. 1. 0. ... 0. 1. 1.]\n",
      "train :  (1397, 4, 8) (1397,)\n",
      "[[[ 0.96374719  0.50085711 -1.10861941 ... -0.69075045  0.15932183\n",
      "    2.48525766]\n",
      "  [-0.32927299 -0.04639859  1.2926596  ...  0.94616104 -0.02246005\n",
      "   -0.67524058]\n",
      "  [-1.30475857  1.18242512  0.27899353 ...  2.61310502  0.0499619\n",
      "   -0.75530759]\n",
      "  [ 0.16432193  0.81678785  0.50095694 ... -0.43467759 -0.26277406\n",
      "   -0.30109863]]\n",
      "\n",
      " [[-0.32927299 -0.04639859  1.2926596  ...  0.94616104 -0.02246005\n",
      "   -0.67524058]\n",
      "  [-1.30475857  1.18242512  0.27899353 ...  2.61310502  0.0499619\n",
      "   -0.75530759]\n",
      "  [ 0.16432193  0.81678785  0.50095694 ... -0.43467759 -0.26277406\n",
      "   -0.30109863]\n",
      "  [-0.4517782  -0.4061929  -0.7603735  ...  0.2375255  -0.11944173\n",
      "    0.26047212]]\n",
      "\n",
      " [[-1.30475857  1.18242512  0.27899353 ...  2.61310502  0.0499619\n",
      "   -0.75530759]\n",
      "  [ 0.16432193  0.81678785  0.50095694 ... -0.43467759 -0.26277406\n",
      "   -0.30109863]\n",
      "  [-0.4517782  -0.4061929  -0.7603735  ...  0.2375255  -0.11944173\n",
      "    0.26047212]\n",
      "  [-0.36349261 -0.63822116  1.63895178 ...  1.02209514  0.76161907\n",
      "    1.75048732]]\n",
      "\n",
      " ...\n",
      "\n",
      " [[-0.68182109  0.01659929  0.44542052 ...  1.59395386  2.41467222\n",
      "   -0.27583789]\n",
      "  [-0.04454284 -0.67407941  0.15224419 ... -0.61528985  0.4537551\n",
      "   -0.04516437]\n",
      "  [-0.90854697 -0.85183931  0.11129589 ... -2.04602162 -0.25446583\n",
      "   -0.50273984]\n",
      "  [-0.29758437  1.64689345  1.14254263 ...  0.0810712   2.29691509\n",
      "    1.62133134]]\n",
      "\n",
      " [[-0.04454284 -0.67407941  0.15224419 ... -0.61528985  0.4537551\n",
      "   -0.04516437]\n",
      "  [-0.90854697 -0.85183931  0.11129589 ... -2.04602162 -0.25446583\n",
      "   -0.50273984]\n",
      "  [-0.29758437  1.64689345  1.14254263 ...  0.0810712   2.29691509\n",
      "    1.62133134]\n",
      "  [-0.5986325   0.02973618 -0.77784501 ...  1.05150383  2.83298736\n",
      "   -0.85725337]]\n",
      "\n",
      " [[-0.90854697 -0.85183931  0.11129589 ... -2.04602162 -0.25446583\n",
      "   -0.50273984]\n",
      "  [-0.29758437  1.64689345  1.14254263 ...  0.0810712   2.29691509\n",
      "    1.62133134]\n",
      "  [-0.5986325   0.02973618 -0.77784501 ...  1.05150383  2.83298736\n",
      "   -0.85725337]\n",
      "  [ 0.34026179  0.03806615  0.46205051 ... -0.56656432 -0.43797205\n",
      "    1.12050653]]]\n",
      "[0. 0. 0. 0. 0. 0. 0. 1. 0. 0. 0. 0. 1. 0. 0. 0. 1. 1. 1. 1. 0. 1. 1. 0.\n",
      " 1. 0. 0. 0. 0. 0. 0. 0. 1. 1. 0. 1. 0. 1. 1. 0. 0. 0. 0. 0. 1. 0. 1. 0.\n",
      " 0. 1. 0. 1. 1. 1. 1. 1. 0. 1. 1. 0. 1. 1. 1. 1. 1. 1. 0. 1. 0. 0. 0. 0.\n",
      " 0. 0. 1. 0. 1. 0. 0. 1. 1. 0. 1. 1. 0. 0. 0. 0. 0. 1. 1. 0. 1. 0. 0. 1.\n",
      " 0. 0. 0. 0. 0. 1. 0. 0. 1. 1. 1. 1. 1. 1. 0. 0. 0. 0. 0. 1. 1. 0. 1. 0.\n",
      " 0. 0. 0. 1. 1. 1. 1. 1. 1. 1. 0. 0. 0. 0. 0. 0. 0. 0. 0. 0. 1. 0. 0. 0.\n",
      " 0. 0. 0. 0. 0. 0. 1. 0. 1. 1. 0. 0. 1. 1. 0. 0. 1. 0. 0. 1. 0. 0. 1. 0.\n",
      " 0. 0. 0. 0. 0. 0. 1. 1. 1. 1. 1. 0. 1. 0. 1. 0. 0. 0. 0. 0. 0. 1. 0. 1.\n",
      " 0. 1. 0. 0. 0. 1. 1. 1. 1. 0. 0. 1. 1. 0. 0. 0. 0. 0. 1. 0. 1. 1. 1. 1.\n",
      " 1. 1. 0. 1. 0. 1. 0. 1. 0. 0. 1. 0. 0. 0. 0. 1. 0. 0. 0. 0. 0. 0. 0. 0.\n",
      " 0. 0. 0. 1. 0. 1. 0. 1. 1. 1. 1. 1. 1. 1. 1. 1. 1. 1. 1. 1. 1. 1. 1. 1.\n",
      " 1. 1. 0. 0. 1. 1. 0. 1. 1. 1. 1. 0. 0. 0. 0. 0. 1. 1. 1. 1. 1. 0. 0. 0.\n",
      " 0. 0. 0. 0. 0. 0. 1. 1. 0. 0. 1. 0. 0. 1. 0. 1. 1. 0. 0. 0. 0. 0. 1. 1.\n",
      " 0. 0. 1. 1. 0. 1. 1. 1. 1. 0. 1. 1. 0. 0. 1. 0. 0. 0. 0. 0. 1. 1. 0. 0.\n",
      " 1. 1. 0. 1. 0. 0. 1. 1. 0. 0. 1. 0. 1. 0. 0. 0. 0. 1. 0. 0. 1. 1. 0. 1.\n",
      " 1. 0. 1. 1. 1. 1. 1. 1. 1. 1. 1. 0. 0. 0. 0. 0. 0. 0. 0. 0. 1. 0. 0. 0.\n",
      " 1. 1. 1. 1. 0. 1. 1. 0. 1. 1. 1. 1. 1. 1. 1. 1. 1. 1. 1. 0. 0. 0. 0. 0.\n",
      " 0. 1. 1. 0. 0. 1. 0. 0. 1. 0. 1. 1. 1. 1. 0. 0. 1. 0. 0. 0. 0. 0. 0. 1.\n",
      " 1. 1. 1. 1. 0. 0. 0. 0. 0. 0. 0. 0. 1. 0. 1. 1. 1. 1. 0. 1. 1. 1. 1. 1.\n",
      " 1. 1. 0. 1. 0. 1. 1. 1. 1. 1. 1. 1. 0. 1. 1. 0. 1. 0. 0. 1. 1. 0. 0. 0.\n",
      " 0. 0. 0. 0. 0. 1. 0. 1. 0. 1. 0. 0. 1. 0. 0. 0. 0. 0. 0. 0. 1. 1. 1. 1.\n",
      " 1. 0. 1. 1. 1. 1. 1. 1. 1. 0. 1. 0. 1. 0. 0. 1. 0. 1. 0. 1. 1. 0. 0. 0.\n",
      " 0. 1. 1. 1. 1. 1. 1. 0. 0. 0. 0. 0. 0. 0. 0. 0. 0. 0. 1. 0. 0. 1. 1. 0.\n",
      " 1. 1. 0. 0. 0. 0. 0. 1. 1. 1. 1. 1. 0. 1. 1. 1. 1. 1. 1. 0. 0. 1. 1. 0.\n",
      " 1. 1. 0. 0. 1. 1. 1. 1. 1. 1. 1. 0. 1. 0. 0. 0. 0. 0. 1. 1. 0.]\n",
      "test :  (597, 4, 8) (597,)\n"
     ]
    }
   ],
   "source": [
    "train_set = np.c_[X_train, y_train]\n",
    "test_set = np.c_[X_test, y_test]\n",
    "\n",
    "print (\"before : \", train_set.shape, test_set.shape)\n",
    "\n",
    "X_train_seq, y_train_seq = split_sequences(train_set, 4) # 4개씩 묶기\n",
    "print (X_train_seq)\n",
    "print (y_train_seq)\n",
    "\n",
    "print (\"train : \", X_train_seq.shape, y_train_seq.shape)\n",
    "\n",
    "X_test_seq, y_test_seq = split_sequences(test_set, 4)\n",
    "print (X_test_seq)\n",
    "print (y_test_seq)\n",
    "\n",
    "print (\"test : \", X_test_seq.shape, y_test_seq.shape)"
   ]
  },
  {
   "cell_type": "code",
   "execution_count": 24,
   "id": "e0c61395",
   "metadata": {
    "ExecuteTime": {
     "end_time": "2024-09-26T02:01:06.594494Z",
     "start_time": "2024-09-26T02:01:06.587923Z"
    }
   },
   "outputs": [
    {
     "name": "stdout",
     "output_type": "stream",
     "text": [
      "[1. 1. 0. 1. 1.]\n",
      "[[0. 1.]\n",
      " [0. 1.]\n",
      " [1. 0.]\n",
      " [0. 1.]\n",
      " [0. 1.]]\n",
      "[0. 0. 0. 0. 0.]\n",
      "[[1. 0.]\n",
      " [1. 0.]\n",
      " [1. 0.]\n",
      " [1. 0.]\n",
      " [1. 0.]]\n"
     ]
    }
   ],
   "source": [
    "# one-hot encoding \n",
    "\n",
    "from tensorflow.keras.utils import to_categorical\n",
    "\n",
    "y_train_seq_encoded = to_categorical(y_train_seq)\n",
    "y_test_seq_encoded = to_categorical(y_test_seq)\n",
    "\n",
    "print(y_train_seq[:5])  \n",
    "print(y_train_seq_encoded[:5]) \n",
    "\n",
    "print(y_test_seq[:5])  \n",
    "print(y_test_seq_encoded[:5]) "
   ]
  },
  {
   "cell_type": "markdown",
   "id": "a667af45",
   "metadata": {},
   "source": [
    "-----\n",
    "\n",
    "### 2. 1D-CNN modeling 구성\n",
    "- "
   ]
  },
  {
   "cell_type": "code",
   "execution_count": null,
   "id": "eceb8fe2",
   "metadata": {},
   "outputs": [],
   "source": [
    "# modeling\n",
    "\n",
    "from tensorflow.keras import regularizers\n",
    "\n",
    "input_layer = keras.Input(shape=(X_train_seq.shape[1], X_train_seq.shape[2]))\n",
    "\n",
    "# 첫 번째 Conv1D 레이어 + BatchNormalization + MaxPooling1D + Dropout\n",
    "conv_1 = keras.layers.Conv1D(16, kernel_size=2, activation='relu', padding='same', \n",
    "                             kernel_regularizer=regularizers.l2(0.001))(input_layer)\n",
    "batch_1 = keras.layers.BatchNormalization()(conv_1)\n",
    "pooling_1 = keras.layers.MaxPooling1D(2, padding='same')(batch_1)\n",
    "dropout_1 = keras.layers.Dropout(0.2)(pooling_1)\n",
    "\n",
    "# 두 번째 Conv1D 레이어 + BatchNormalization + MaxPooling1D + Dropout\n",
    "conv_2 = keras.layers.Conv1D(16, kernel_size=2, activation='relu', padding='same', \n",
    "                             kernel_regularizer=regularizers.l2(0.001))(dropout_1)\n",
    "batch_2 = keras.layers.BatchNormalization()(conv_2)\n",
    "pooling_2 = keras.layers.MaxPooling1D(2, padding='same')(batch_2)\n",
    "dropout_2 = keras.layers.Dropout(0.2)(pooling_2)\n",
    "\n",
    "# flatten 대신에 pooling1D를 사용해봄\n",
    "global_pool = keras.layers.GlobalAveragePooling1D()(dropout_2)\n",
    "\n",
    "'''\n",
    "    계속적으로 val_loss가 늘어나는 현상 발견\n",
    "    regularizer를 추가하여 l2 규제를 하게끔 함\n",
    "    l1 규제 : 절댓값 규제 (특정 feature을 0으로 만들 수 있음)\n",
    "    l2 규제 : 제곱 규제 (특정 feature을 0과 가깝게 만들 수 있음)\n",
    "'''\n",
    "\n",
    "# Dense 레이어\n",
    "dense_1 = keras.layers.Dense(16, activation='selu', \n",
    "                             kernel_regularizer=regularizers.l2(0.001))(global_pool)\n",
    "dense_2 = keras.layers.Dense(8, activation='selu', \n",
    "                             kernel_regularizer=regularizers.l2(0.001))(dense_1)\n",
    "\n",
    "output_layer = keras.layers.Dense(len(set(y_train.tolist())), activation='sigmoid')(dense_2)\n",
    "\n",
    "model = keras.Model(inputs=input_layer, outputs=output_layer)\n",
    "\n",
    "model.summary()\n",
    "keras.utils.plot_model(model, show_shapes=True, show_layer_activations=True)"
   ]
  }
 ],
 "metadata": {
  "kernelspec": {
   "display_name": "Python 3 (ipykernel)",
   "language": "python",
   "name": "python3"
  },
  "language_info": {
   "codemirror_mode": {
    "name": "ipython",
    "version": 3
   },
   "file_extension": ".py",
   "mimetype": "text/x-python",
   "name": "python",
   "nbconvert_exporter": "python",
   "pygments_lexer": "ipython3",
   "version": "3.11.3"
  },
  "varInspector": {
   "cols": {
    "lenName": 16,
    "lenType": 16,
    "lenVar": 40
   },
   "kernels_config": {
    "python": {
     "delete_cmd_postfix": "",
     "delete_cmd_prefix": "del ",
     "library": "var_list.py",
     "varRefreshCmd": "print(var_dic_list())"
    },
    "r": {
     "delete_cmd_postfix": ") ",
     "delete_cmd_prefix": "rm(",
     "library": "var_list.r",
     "varRefreshCmd": "cat(var_dic_list()) "
    }
   },
   "types_to_exclude": [
    "module",
    "function",
    "builtin_function_or_method",
    "instance",
    "_Feature"
   ],
   "window_display": false
  }
 },
 "nbformat": 4,
 "nbformat_minor": 5
}
