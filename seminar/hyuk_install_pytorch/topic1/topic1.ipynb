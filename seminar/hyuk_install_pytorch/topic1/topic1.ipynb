{
 "cells": [
  {
   "cell_type": "markdown",
   "id": "fdca8f25",
   "metadata": {},
   "source": [
    "## learning-AI : hyuk_install_pytorch\n",
    "### topic 1 : 0강 ~ 1강 \n",
    "\n",
    "<br>\n",
    "\n",
    "- **임규연 (lky473736)**\n",
    "- 2025.07.17.\n",
    "- Reference\n",
    "    - https://www.youtube.com/watch?v=gzJt_qjZJ7M&list=PL_iJu012NOxdhFmM2aw6bwpZTMFdsPxws\n",
    "\n",
    "------\n",
    "\n",
    "### 이 강의를 듣는 이유\n",
    "\n",
    "- 이 강의를 듣는 목적 \n",
    "    - 1년 동안 AI 책도 많이 읽고 강좌도 많이 들었으니, 내가 정확하게 얼마나 알고 있는지 테스트하는 용도 + 파이토치 공부\n",
    "- 이 강의를 그러면 언제까지 끝낼거냐\n",
    "    - 7월 안까지 (NAVER_BASIC_AI_2와 함께)\n",
    "    - 8월달부터 할 것\n",
    "        - (1) 2025-1학기 딥러닝 복습 + 거기 나왔던 파이토치 코드 다시 작성\n",
    "        - (2) learning-ai에 있는 모든 tensorflow 코드 전부 pytorch로 변환\n",
    "        - (3) 2024-여름학기 빅데이터분석개론에서 배운 코드 다시 복습 (2학기에 배울 데이터처리프로그래밍이랑 똑같은 내용이니깐)\n",
    "\n",
    "\n",
    "------\n",
    "\n",
    "### 1-1강. torch.tensor()와 텐서 기본 연산"
   ]
  },
  {
   "cell_type": "code",
   "execution_count": 1,
   "id": "5da0427d",
   "metadata": {},
   "outputs": [
    {
     "name": "stdout",
     "output_type": "stream",
     "text": [
      "tensor([1., 2., 3., 4.])\n",
      "torch.Size([4])\n",
      "torch.float32\n",
      "<class 'torch.Tensor'>\n"
     ]
    }
   ],
   "source": [
    "import torch\n",
    "a = torch.Tensor([1, 2, 3, 4]) # 행벡터\n",
    "print (a)\n",
    "# print (a.info()) <-- 안됨. df에서만 됨\n",
    "print (a.shape)\n",
    "print (a.dtype)\n",
    "print (type(a))"
   ]
  },
  {
   "cell_type": "code",
   "execution_count": 2,
   "id": "04d347f2",
   "metadata": {},
   "outputs": [
    {
     "name": "stdout",
     "output_type": "stream",
     "text": [
      "tensor([1.0000, 2.0000, 3.5000, 6.0000])\n",
      "torch.float32\n",
      "torch.Size([4])\n"
     ]
    }
   ],
   "source": [
    "b = torch.Tensor([1, 2, 3.5, 6])\n",
    "print (b)\n",
    "print (b.dtype)  # 하나라도 실수 있으면 실수 타입 텐서\n",
    "print (b.shape)"
   ]
  },
  {
   "cell_type": "code",
   "execution_count": 3,
   "id": "0a29193a",
   "metadata": {},
   "outputs": [
    {
     "name": "stdout",
     "output_type": "stream",
     "text": [
      "tensor([[ 1.0000,  2.0000,  3.0000],\n",
      "        [ 0.0000,  1.0000,  2.0000],\n",
      "        [ 0.0000, -1.0000,  1.5000]])\n",
      "torch.float32\n",
      "torch.Size([3, 3])\n",
      "2\n",
      "9\n"
     ]
    }
   ],
   "source": [
    "c = torch.Tensor([[1, 2 ,3], \n",
    "                  [0, 1, 2], \n",
    "                  [0, -1, 1.5]]) # 2차원 행렬\n",
    "print (c)\n",
    "print (c.dtype)\n",
    "print (c.shape)\n",
    "print (c.ndim) # dimension 수 == 차원 수 (행렬이니깐 2)\n",
    "print (c.numel()) # attribute 수 (3 * 3 == 9)"
   ]
  },
  {
   "cell_type": "code",
   "execution_count": 4,
   "id": "06ff1047",
   "metadata": {},
   "outputs": [
    {
     "name": "stdout",
     "output_type": "stream",
     "text": [
      "tensor([0., 0., 0., 0., 0.])\n",
      "tensor([0., 0., 0., 0.])\n",
      "tensor([[0., 0., 0.],\n",
      "        [0., 0., 0.],\n",
      "        [0., 0., 0.]])\n",
      "tensor([[0., 0., 0., 0., 0.],\n",
      "        [0., 0., 0., 0., 0.],\n",
      "        [0., 0., 0., 0., 0.]])\n"
     ]
    }
   ],
   "source": [
    "print (torch.zeros(5)) # 0 5개의 벡터\n",
    "print (torch.zeros_like(a)) # a 사이즈인 0텐서\n",
    "print (torch.zeros_like(c))\n",
    "print (torch.zeros(3, 5)) # 3 by 5"
   ]
  },
  {
   "cell_type": "code",
   "execution_count": 5,
   "id": "7916001d",
   "metadata": {},
   "outputs": [
    {
     "name": "stdout",
     "output_type": "stream",
     "text": [
      "tensor([3, 5, 7, 9])\n",
      "tensor([0.1000, 0.1500, 0.2000, 0.2500, 0.3000, 0.3500, 0.4000, 0.4500, 0.5000,\n",
      "        0.5500, 0.6000, 0.6500, 0.7000, 0.7500, 0.8000, 0.8500])\n",
      "tensor([0.0000, 0.1111, 0.2222, 0.3333, 0.4444, 0.5556, 0.6667, 0.7778, 0.8889,\n",
      "        1.0000])\n",
      "tensor([100., 150., 200.])\n"
     ]
    }
   ],
   "source": [
    "print (torch.arange(3, 10, 2)) # range랑 같은데 tensor로 만듦\n",
    "print (torch.arange (0.1, 0.9, 0.05))\n",
    "print (torch.linspace(0, 1, 10)) # 0~1 10개의 수 (등간격 == linear space)\n",
    "print (torch.linspace(100, 200, 3))"
   ]
  },
  {
   "cell_type": "code",
   "execution_count": 6,
   "id": "5c77e1e6",
   "metadata": {},
   "outputs": [
    {
     "name": "stdout",
     "output_type": "stream",
     "text": [
      "tensor([3., 5., 7., 0., 4., 3.])\n",
      "tensor([-1., -1., -1.,  2.,  0.,  3.])\n",
      "tensor([ 2.,  3.,  4., -1.,  2.,  0.])\n",
      "tensor(23.)\n",
      "tensor([ 2.,  6., 12., -1.,  4.,  0.])\n",
      "tensor([1., 4., 9., 1., 4., 9.])\n"
     ]
    }
   ],
   "source": [
    "a = torch.Tensor([1, 2, 3, 1, 2, 3])\n",
    "b = torch.Tensor([2, 3, 4, -1, 2, 0])\n",
    "\n",
    "print (a + b) \n",
    "print (a - b) \n",
    "print (0 * a + b)\n",
    "print (a @ b) # dot product (내적)\n",
    "print (a * b) # element-wise multiplication\n",
    "print (a**2)"
   ]
  },
  {
   "cell_type": "code",
   "execution_count": 7,
   "id": "e2d3f82f",
   "metadata": {},
   "outputs": [
    {
     "name": "stdout",
     "output_type": "stream",
     "text": [
      "tensor([[ 1.0000,  2.0000,  3.0000],\n",
      "        [ 0.0000,  1.0000,  2.0000],\n",
      "        [ 0.0000, -1.0000,  1.5000]])\n",
      "tensor([[ 1.0000,  2.0000,  3.0000],\n",
      "        [ 0.0000,  1.0000,  2.0000],\n",
      "        [ 0.0000, -1.0000,  1.5000]])\n"
     ]
    }
   ],
   "source": [
    "print (c)\n",
    "\n",
    "d = torch.Tensor([[1, 0, 0],\n",
    "                  [0, 1, 0], \n",
    "                  [0, 0, 1]])\n",
    "print (d @ c)"
   ]
  },
  {
   "cell_type": "markdown",
   "id": "6b028280",
   "metadata": {},
   "source": [
    "----\n",
    "\n",
    "### 1-2 ~ 1-3강. 파이토치 tensor의 indexing"
   ]
  },
  {
   "cell_type": "code",
   "execution_count": 11,
   "id": "43747b3f",
   "metadata": {},
   "outputs": [
    {
     "name": "stdout",
     "output_type": "stream",
     "text": [
      "tensor(1.)\n",
      "tensor(2.)\n",
      "tensor(9.)\n",
      "tensor(8.)\n",
      "tensor([1., 2., 3.])\n",
      "tensor([4., 5., 6., 7., 8., 9.])\n",
      "tensor([1., 2., 3., 4.])\n",
      "tensor([1., 2., 3., 4., 5., 6., 7., 8., 9.])\n",
      "tensor([1., 2., 3., 4., 5., 6., 7., 8.])\n",
      "[3, 2, 1]\n"
     ]
    }
   ],
   "source": [
    "a = torch.Tensor([1, 2, 3, 4, 5, 6, 7, 8, 9])\n",
    "\n",
    "print (a[0])\n",
    "print (a[1])\n",
    "print (a[-1])\n",
    "print (a[-2])\n",
    "print (a[0:3])\n",
    "print (a[3:])\n",
    "print (a[:4])\n",
    "print (a[:])\n",
    "print (a[:-1])\n",
    "# print (a[::-1]) 파이토치에서는 뒤집기가 안되나봄\n",
    "print ([1, 2, 3][::-1])"
   ]
  },
  {
   "cell_type": "code",
   "execution_count": 30,
   "id": "ed2614ec",
   "metadata": {},
   "outputs": [
    {
     "name": "stdout",
     "output_type": "stream",
     "text": [
      "tensor([[ 1.0000,  2.0000,  3.0000],\n",
      "        [ 0.0000,  1.0000,  2.0000],\n",
      "        [ 0.0000, -1.0000,  1.5000]])\n",
      "\n",
      "----------\n",
      "tensor([1., 2., 3.])\n",
      "tensor(1.)\n",
      "tensor(2.)\n",
      "tensor([[ 1.0000,  2.0000,  3.0000],\n",
      "        [ 0.0000,  1.0000,  2.0000],\n",
      "        [ 0.0000, -1.0000,  1.5000]])\n",
      "tensor([ 0.0000, -1.0000,  1.5000])\n",
      "tensor([[ 0.0000,  1.0000,  2.0000],\n",
      "        [ 0.0000, -1.0000,  1.5000]])\n",
      "tensor([[ 0.0000,  1.0000,  2.0000],\n",
      "        [ 0.0000, -1.0000,  1.5000]])\n",
      "tensor([[1., 2., 3.],\n",
      "        [0., 1., 2.]])\n",
      "tensor([3.0000, 2.0000, 1.5000])\n",
      "tensor([ 0.0000, -1.0000,  1.5000])\n",
      "tensor([0.])\n"
     ]
    }
   ],
   "source": [
    "print (c, end='\\n\\n----------\\n')\n",
    "\n",
    "print (c[0]) # 0번째 행\n",
    "print (c[1][1]) # 1번째 행 1번째 열\n",
    "print (c[1, 2]) # 1번째 행 2번째 열\n",
    "print (c[:]) # 전체\n",
    "print (c[-1]) # 맨 마지막 행\n",
    "print (c[1:]) # 1번째행 ~ 마지막행\n",
    "print (c[1:None]) # 1번째행 ~ 마지막행 (None써도 됨)\n",
    "print (c[0:2]) # 0~1 행\n",
    "\n",
    "#########\n",
    " \n",
    "print (c[:, 2])  # <-- 모든 행이면서, 두번째 열 쭉\n",
    "print (c[:][2]) # 모든 행인데, 그 행에서 두번째것\n",
    "\n",
    "########\n",
    "\n",
    "print (c[1, 0:2:2]) # (1번째 행, 0부터 2까지) 2 간격"
   ]
  },
  {
   "cell_type": "code",
   "execution_count": null,
   "id": "54da035f",
   "metadata": {},
   "outputs": [
    {
     "name": "stdout",
     "output_type": "stream",
     "text": [
      "torch.Size([2, 2, 5])\n",
      "tensor([[ 1.,  2.,  3.,  4.,  5.],\n",
      "        [ 6.,  7.,  8.,  9., 10.]])\n",
      "tensor(1.)\n",
      "tensor(0.)\n",
      "tensor(8.)\n",
      "torch.Size([1, 1, 1, 4])\n"
     ]
    }
   ],
   "source": [
    "a = torch.Tensor([[[1, 2, 3, 4, 5],\n",
    "                  [6, 7, 8, 9, 10]],\n",
    "                  [[0, 1, 2, 3, 4], \n",
    "                  [5, 6, 7, 8, 9]]])\n",
    "print (a.shape) # 2개의 행렬이 2 by 5\n",
    "print (a[0])\n",
    "print (a[0][0][0])\n",
    "print (a[:][1][0][0])\n",
    "print (a[1, 1, 3])\n",
    "\n",
    "new = torch.Tensor([[[[1, 2, 3 ,4]]]])\n",
    "print (new.shape)"
   ]
  },
  {
   "cell_type": "code",
   "execution_count": 38,
   "id": "0ea7a015",
   "metadata": {},
   "outputs": [
    {
     "name": "stdout",
     "output_type": "stream",
     "text": [
      "tensor([[[ 1.,  2.,  3.,  4.,  5.],\n",
      "         [ 6.,  7.,  8.,  9., 10.]],\n",
      "\n",
      "        [[ 0.,  1.,  2.,  3.,  4.],\n",
      "         [ 5.,  6.,  7.,  8.,  9.]]])\n",
      "tensor([7., 8., 9.])\n",
      "tensor([ 9., 10.,  7.,  8.])\n"
     ]
    }
   ],
   "source": [
    "print (a)\n",
    "\n",
    "print (a[[0, 0, 0],\n",
    "         [1, 1, 1],\n",
    "         [1, 2, 3]]) \n",
    "\n",
    "b = torch.Tensor([[[[[1, 2, 3, 4], \n",
    "       [5, 6, 7, 8], \n",
    "       [9, 10, 11, 12]]]]])\n",
    "\n",
    "print (b[[0, 0, 0, 0], \n",
    "         [0, 0, 0, 0], \n",
    "         [0, 0, 0, 0], \n",
    "         [2, 2, 1, 1],\n",
    "         [0, 1, 2, 3]]) \n",
    "# (0, 0, 0, 2, 0), (0, 0, 0, 2, 1) ...\n",
    "# 9, 10, 7, 8\n",
    "\n",
    "# a[] : 인덱스를 하겠다\n",
    "# [[X, Y, Z], [a, b, c]] : 1행 3열짜리 벡터\n",
    "# ==> [(X, a), (Y, b), (Z, c)]"
   ]
  },
  {
   "cell_type": "code",
   "execution_count": null,
   "id": "b7d1c23d",
   "metadata": {},
   "outputs": [
    {
     "name": "stdout",
     "output_type": "stream",
     "text": [
      "False\n",
      "tensor([[False, False, False,  True],\n",
      "        [ True,  True,  True,  True]])\n",
      "tensor([[False, False,  True, False],\n",
      "        [False, False, False, False]])\n",
      "tensor([4., 5., 6., 7., 8.])\n",
      "tensor([[ 1.,  2.,  3., 10.],\n",
      "        [10., 10., 10., 10.]])\n",
      "tensor([[1., 0., 1., 0.],\n",
      "        [0., 0., 0., 0.]])\n",
      "tensor([1., 2., 3.])\n"
     ]
    }
   ],
   "source": [
    "# boolean indexing\n",
    "\n",
    "a = [1, 2, 3, 4, 5, 6]\n",
    "print (a==3) # 여러개 값 들어있는 리스트 != 3\n",
    "\n",
    "a = torch.Tensor([[1, 2, 3, 4], \n",
    "                  [5, 6, 7, 8]])\n",
    "print (a>3) # 3보다 큰 요소는 True, 나머지는 False\n",
    "print (a==3)\n",
    "print (a[a>3]) # 3보다 큰 요소만 벡터로 출력\n",
    "\n",
    "a[a>3] = 10 # 3보다 큰 요소는 전부 10으로 바꿔라\n",
    "print (a)\n",
    "\n",
    "a[a%2 == 0] = 0 # 짝수는 전부 0으로\n",
    "a[a%2 != 0] = 1 # 홀수는 전부 1로\n",
    "\n",
    "print (a)\n",
    "\n",
    "b = torch.Tensor([1, 2, 3, 1])\n",
    "print (b[[True, True, True, False]]) # 4번째는 출력 x"
   ]
  },
  {
   "cell_type": "code",
   "execution_count": 62,
   "id": "9fbfabcc",
   "metadata": {},
   "outputs": [
    {
     "name": "stdout",
     "output_type": "stream",
     "text": [
      "tensor(3)\n",
      "tensor(3)\n",
      "tensor([3, 4, 5])\n",
      "tensor([[3, 3, 3],\n",
      "        [4, 4, 4]])\n",
      "tensor([[1, 2, 3, 4, 5],\n",
      "        [5, 4, 2, 3, 1]])\n",
      "tensor([[1, 2, 3],\n",
      "        [4, 5, 6]])\n",
      "tensor([1, 2, 3])\n",
      "tensor([[[1, 2, 3],\n",
      "         [4, 5, 6]],\n",
      "\n",
      "        [[4, 5, 6],\n",
      "         [4, 5, 6]]])\n"
     ]
    }
   ],
   "source": [
    "# tensor indexing\n",
    "\n",
    "a = torch.tensor([1, 2, 3, 4, 5])\n",
    "k = a[2]\n",
    "print (k)\n",
    "\n",
    "k = a[torch.tensor(2)]\n",
    "print (k)\n",
    "\n",
    "k = a[torch.tensor([2, 3, 4])]\n",
    "print (k) # 3, 4, 5\n",
    "\n",
    "k = a[torch.tensor([[2, 2, 2], \n",
    "                    [3, 3, 3]])]\n",
    "print (k) \n",
    "\n",
    "k = a[torch.tensor([[0, 1, 2, 3, 4], \n",
    "                   [4, 3, 1, 2, 0]])]\n",
    "print (k)\n",
    "\n",
    "b = torch.tensor([[1, 2, 3],\n",
    "                 [4, 5, 6]])\n",
    "print (b)\n",
    "\n",
    "k = b[torch.tensor(0)]\n",
    "print (k) \n",
    "\n",
    "k = b[torch.tensor([[0, 1], [1, 1]])]\n",
    "print (k)"
   ]
  },
  {
   "cell_type": "code",
   "execution_count": 65,
   "id": "12612916",
   "metadata": {},
   "outputs": [
    {
     "data": {
      "image/png": "[encoded data removed]",
      "text/plain": [
       "<Figure size 640x480 with 1 Axes>"
      ]
     },
     "metadata": {},
     "output_type": "display_data"
    }
   ],
   "source": [
    "# tensor indexing visualization\n",
    "\n",
    "import matplotlib.pyplot as plt\n",
    "\n",
    "b = torch.tensor([\n",
    "    [225,255,0],\n",
    "    [0,255,0],\n",
    "    [0,0,255],\n",
    "    [255,0,255],\n",
    "    [70,80,75],\n",
    "    [0,0,4],\n",
    "    [60,100,255],\n",
    "    [255, 255, 255],\n",
    "    [0, 0, 0]\n",
    "], dtype=torch.uint8) \n",
    "\n",
    "indices = torch.tensor([[0,1], [2,3], [7, 8]])\n",
    "image = b[indices]\n",
    "\n",
    "plt.imshow(image)\n",
    "plt.show()\n"
   ]
  },
  {
   "cell_type": "code",
   "execution_count": 88,
   "id": "6eeca732",
   "metadata": {},
   "outputs": [
    {
     "name": "stdout",
     "output_type": "stream",
     "text": [
      "tensor([[[1, 2, 3],\n",
      "         [4, 5, 6]],\n",
      "\n",
      "        [[4, 5, 6],\n",
      "         [4, 5, 6]]])\n",
      "tensor([[[1, 2, 3],\n",
      "         [4, 5, 6]],\n",
      "\n",
      "        [[4, 5, 6],\n",
      "         [4, 5, 6]]])\n"
     ]
    }
   ],
   "source": [
    "a = torch.tensor([[1, 2, 3], \n",
    "                  [4, 5, 6]])\n",
    "\n",
    "A = a[torch.tensor([[0, 1], [1, 1]])]\n",
    "# [[[1, 2, 3], [4, 5, 6]]\n",
    "# [[4, 5, 6], [4, 5, 6]]]\n",
    "\n",
    "B = torch.tensor([[list(a[0]), list(a[1])], \n",
    "                  [list(a[1]), list(a[1])]]) \n",
    "\n",
    "print (A)\n",
    "print (B)"
   ]
  },
  {
   "cell_type": "markdown",
   "id": "df7f52f4",
   "metadata": {},
   "source": [
    "------\n",
    "\n",
    "### 1-4강. functions\n",
    "- 파이토치에서 수학과 관련된 함수는 안에가 반드시 tensor 형이어야 함"
   ]
  },
  {
   "cell_type": "code",
   "execution_count": null,
   "id": "8e159eef",
   "metadata": {},
   "outputs": [
    {
     "name": "stdout",
     "output_type": "stream",
     "text": [
      "tensor([[-0.7372,  0.2599, -0.4333],\n",
      "        [-0.2909,  0.1141,  0.4733],\n",
      "        [-1.0961, -1.7893, -2.2787]])\n",
      "tensor([[0.4337, 0.9295, 0.6726],\n",
      "        [0.5664, 0.0288, 0.3329],\n",
      "        [0.9187, 0.0243, 0.8562]])\n",
      "tensor([[0., 0., 0.],\n",
      "        [0., 0., 0.],\n",
      "        [0., 0., 0.]])\n",
      "tensor([[0., 0., 0.],\n",
      "        [0., 0., 0.],\n",
      "        [0., 0., 0.]])\n",
      "tensor([ 1.0000,  3.2500,  5.5000,  7.7500, 10.0000])\n"
     ]
    }
   ],
   "source": [
    "a = torch.randn(3, 3) # 3 by 3의 행렬 (정규분포)\n",
    "b = torch.rand(3, 3) # uniform (0~1)\n",
    "c = torch.zeros(3, 3) # 0으로 다 채우기\n",
    "d = torch.zeros_like(c) # c모양으로 0 다 채우기\n",
    "e = torch.linspace(1, 10, 5)\n",
    "\n",
    "for k in [a, b, c, d, e] : \n",
    "    print (k)"
   ]
  },
  {
   "cell_type": "code",
   "execution_count": 99,
   "id": "1086bdb5",
   "metadata": {},
   "outputs": [
    {
     "name": "stdout",
     "output_type": "stream",
     "text": [
      "tensor([[-0.7372,  0.2599, -0.4333],\n",
      "        [-0.2909,  0.1141,  0.4733],\n",
      "        [-1.0961, -1.7893, -2.2787]])\n",
      "tensor([[0.7372, 0.2599, 0.4333],\n",
      "        [0.2909, 0.1141, 0.4733],\n",
      "        [1.0961, 1.7893, 2.2787]])\n",
      "tensor([[0.8586, 0.5098, 0.6583],\n",
      "        [0.5394, 0.3378, 0.6879],\n",
      "        [1.0469, 1.3377, 1.5096]])\n",
      "tensor([[0.4784, 1.2967, 0.6483],\n",
      "        [0.7476, 1.1209, 1.6052],\n",
      "        [0.3342, 0.1671, 0.1024]])\n",
      "tensor([[-0.3049, -1.3476, -0.8362],\n",
      "        [-1.2347, -2.1706, -0.7481],\n",
      "        [ 0.0917,  0.5818,  0.8236]])\n",
      "tensor(1.)\n",
      "tensor(2.7183)\n",
      "tensor([[[1, 2, 3],\n",
      "         [4, 5, 6]],\n",
      "\n",
      "        [[4, 5, 6],\n",
      "         [4, 5, 6]]])\n"
     ]
    },
    {
     "name": "stderr",
     "output_type": "stream",
     "text": [
      "/var/folders/_z/gryfr07n59jgb3wrd062h1ym0000gn/T/ipykernel_89756/3621356374.py:7: UserWarning: To copy construct from a tensor, it is recommended to use sourceTensor.clone().detach() or sourceTensor.clone().detach().requires_grad_(True), rather than torch.tensor(sourceTensor).\n",
      "  print (torch.log2(torch.tensor(2**(torch.exp(torch.tensor(1))))))\n"
     ]
    }
   ],
   "source": [
    "print (a)\n",
    "print (torch.abs(a)) # 절댓값\n",
    "print (torch.sqrt(torch.abs(a))) # 절댓값 -> 제곱근\n",
    "print (torch.exp(a)) # e위에 지수\n",
    "print (torch.log(torch.abs(a))) # 자연로그\n",
    "print (torch.log10(torch.tensor(10))) # 1이 나올것임 log_10{10}\n",
    "print (torch.log2(torch.tensor(2**(torch.exp(torch.tensor(1))))))\n",
    "print (torch.round(A)) # 반올림"
   ]
  },
  {
   "cell_type": "code",
   "execution_count": 101,
   "id": "2c25575e",
   "metadata": {},
   "outputs": [
    {
     "name": "stdout",
     "output_type": "stream",
     "text": [
      "tensor(0.5000)\n",
      "tensor(0.8660)\n",
      "tensor(1.)\n",
      "tensor(0.8660)\n",
      "tensor(0.5000)\n",
      "tensor(-4.3711e-08)\n",
      "tensor(0.5774)\n",
      "tensor(1.7321)\n",
      "tensor(-22877332.)\n"
     ]
    }
   ],
   "source": [
    "deg_30, deg_60, deg_90 = torch.pi/6, torch.pi/3, torch.pi/2\n",
    "\n",
    "print (torch.sin(torch.tensor(deg_30)))\n",
    "print (torch.sin(torch.tensor(deg_60)))\n",
    "print (torch.sin(torch.tensor(deg_90)))\n",
    "\n",
    "print (torch.cos(torch.tensor(deg_30)))\n",
    "print (torch.cos(torch.tensor(deg_60)))\n",
    "print (torch.cos(torch.tensor(deg_90)))\n",
    "\n",
    "print (torch.tan(torch.tensor(deg_30)))\n",
    "print (torch.tan(torch.tensor(deg_60)))\n",
    "print (torch.tan(torch.tensor(deg_90)))"
   ]
  },
  {
   "cell_type": "code",
   "execution_count": 104,
   "id": "e60b1389",
   "metadata": {},
   "outputs": [
    {
     "name": "stdout",
     "output_type": "stream",
     "text": [
      "nan\n",
      "tensor(nan)\n",
      "tensor(True)\n",
      "tensor([False, False,  True])\n"
     ]
    }
   ],
   "source": [
    "print (torch.nan)  # <--- not num\n",
    "print (torch.log(torch.tensor(-1))) # 진수에 -1은 정의가 안되기 때문에 안됨 == nan\n",
    "print (torch.isnan(torch.log(torch.tensor(-1))))\n",
    "print (torch.isinf(torch.tensor([1, 2, torch.inf])))"
   ]
  },
  {
   "cell_type": "code",
   "execution_count": null,
   "id": "6568d13c",
   "metadata": {},
   "outputs": [
    {
     "name": "stdout",
     "output_type": "stream",
     "text": [
      "tensor([[0.5041, 0.4446],\n",
      "        [0.1058, 0.4823]])\n",
      "tensor(0.1058)\n",
      "torch.return_types.min(\n",
      "values=tensor([0.1058, 0.4446]),\n",
      "indices=tensor([1, 0]))\n",
      "torch.return_types.min(\n",
      "values=tensor([0.4446, 0.1058]),\n",
      "indices=tensor([1, 0]))\n",
      "-------------------------\n",
      "tensor(0.5041)\n",
      "torch.return_types.max(\n",
      "values=tensor([0.5041, 0.4823]),\n",
      "indices=tensor([0, 1]))\n",
      "torch.return_types.max(\n",
      "values=tensor([0.5041, 0.4823]),\n",
      "indices=tensor([0, 1]))\n",
      "-------------------------\n",
      "tensor(0)\n",
      "tensor(2)\n",
      "-------------------------\n",
      "tensor(9)\n",
      "tensor([1, 1, 1, 1, 1, 1, 1])\n"
     ]
    }
   ],
   "source": [
    "A = torch.rand(2, 2)\n",
    "print (A)\n",
    "\n",
    "print (torch.min(A))\n",
    "print (torch.min(A, dim=0)) # 열을 기준으로 작은거\n",
    "print (torch.min(A, dim=1)) # 행을 기준으로 작은거\n",
    "\n",
    "print ('-' * 25)\n",
    "\n",
    "print (torch.max(A))\n",
    "print (torch.max(A, dim=0)) # 열을 기준으로 큰거\n",
    "print (torch.max(A, dim=1)) # 행을 기준으로 큰거\n",
    "\n",
    "print ('-' * 25)\n",
    "\n",
    "print (torch.argmax(A)) # 가장 큰 것이 존재하는 그 인덱스 (가로로 셈)\n",
    "print (torch.argmin(A)) # 가장 작은것이 존재하는 그 인덱스 (가로로 셈)\n",
    "\n",
    "print ('-' * 25)\n",
    "\n",
    "c = torch.tensor([[1, 2, 3, 4, 5, 6, 7],\n",
    "                  [8, 9, 100000, 11, 12, 13, 14]])\n",
    "print (torch.argmax(c)) # 9\n",
    "print (torch.argmax(c, dim=0)) # 각 열에서 어떤 인덱스가 큰가?"
   ]
  },
  {
   "cell_type": "code",
   "execution_count": 138,
   "id": "e563680d",
   "metadata": {},
   "outputs": [
    {
     "name": "stdout",
     "output_type": "stream",
     "text": [
      "tensor([533, 404, 413, 677, 356, 966, 814, 953, 726, 899, 999, 605, 848, 527,\n",
      "        439, 289, 676, 667,  88, 776, 638, 492, 541, 375, 687, 296, 291, 298,\n",
      "        231, 621], dtype=torch.int32)\n",
      "tensor([ 88, 231, 289, 291, 296, 298, 356, 375, 404, 413, 439, 492, 527, 533,\n",
      "        541, 605, 621, 638, 667, 676, 677, 687, 726, 776, 814, 848, 899, 953,\n",
      "        966, 999], dtype=torch.int32)\n",
      "torch.return_types.sort(\n",
      "values=tensor([999, 966, 953, 899, 848, 814, 776, 726, 687, 677, 676, 667, 638, 621,\n",
      "        605, 541, 533, 527, 492, 439, 413, 404, 375, 356, 298, 296, 291, 289,\n",
      "        231,  88], dtype=torch.int32),\n",
      "indices=tensor([10,  5,  7,  9, 12,  6, 19,  8, 24,  3, 16, 17, 20, 29, 11, 22,  0, 13,\n",
      "        21, 14,  2,  1, 23,  4, 27, 25, 26, 15, 28, 18]))\n",
      "tensor([[120, 522, 946],\n",
      "        [711, 872, 708],\n",
      "        [768, 878, 599]], dtype=torch.int32)\n",
      "torch.return_types.sort(\n",
      "values=tensor([[120, 522, 599],\n",
      "        [711, 872, 708],\n",
      "        [768, 878, 946]], dtype=torch.int32),\n",
      "indices=tensor([[0, 0, 2],\n",
      "        [1, 1, 1],\n",
      "        [2, 2, 0]]))\n",
      "torch.return_types.sort(\n",
      "values=tensor([[120, 522, 946],\n",
      "        [708, 711, 872],\n",
      "        [599, 768, 878]], dtype=torch.int32),\n",
      "indices=tensor([[0, 1, 2],\n",
      "        [2, 0, 1],\n",
      "        [2, 0, 1]]))\n"
     ]
    }
   ],
   "source": [
    "a = (torch.rand(30) * 1000).int()\n",
    "print (a)\n",
    "\n",
    "print (a.sort().values)\n",
    "print (a.sort(descending=True))\n",
    "\n",
    "b = (torch.rand(3, 3) * 1000).int()\n",
    "print(b)\n",
    "\n",
    "print (b.sort(dim=0)) # 열 기준으로 정렬해라\n",
    "print (b.sort(dim=1)) # 행 기준으로 정렬해라"
   ]
  },
  {
   "cell_type": "code",
   "execution_count": 144,
   "id": "e08358c7",
   "metadata": {},
   "outputs": [
    {
     "name": "stdout",
     "output_type": "stream",
     "text": [
      "tensor([0.8197, 0.3093, 0.7601])\n",
      "tensor(0.6297) tensor(0.7601) tensor(1.8891) tensor(0.2791) tensor(0.8197) tensor(0.3093) tensor([0.8197, 0.3093, 0.7601])\n"
     ]
    }
   ],
   "source": [
    "a = torch.rand(3)\n",
    "print (a)\n",
    "print (a.mean(), a.median(), a.sum(), a.std(),\n",
    "       a.max(), a.min(), a.abs())"
   ]
  },
  {
   "cell_type": "code",
   "execution_count": 157,
   "id": "c24235ec",
   "metadata": {},
   "outputs": [
    {
     "name": "stdout",
     "output_type": "stream",
     "text": [
      "tensor([9, 1, 2, 9, 4, 2]) torch.Size([6])\n",
      "tensor([[9, 1, 2],\n",
      "        [9, 4, 2]]) torch.Size([2, 3])\n",
      "tensor([[[9, 1],\n",
      "         [2, 9],\n",
      "         [4, 2]]]) torch.Size([1, 3, 2])\n",
      "tensor([[9, 1, 2],\n",
      "        [9, 4, 2]]) torch.Size([2, 3])\n",
      "tensor([[9, 1, 2, 9, 4, 2]]) torch.Size([1, 6])\n"
     ]
    }
   ],
   "source": [
    "a = torch.randint(1, 11, size = (6, )) # 1에서 5 미만 6개 정수 뽑아줘\n",
    "print (a, a.shape)\n",
    "\n",
    "b = a.reshape(2, 3)\n",
    "print (b, b.shape)\n",
    "\n",
    "b = b.reshape(1, 3, 2)\n",
    "print (b, b.shape)\n",
    "\n",
    "b = b.reshape (2, -1) # -1이 들어가있으면 알아서 채워줌 -> 3으로 채워주겠지\n",
    "print (b, b.shape)\n",
    "\n",
    "b = b.reshape (1, -1) \n",
    "print (b, b.shape)"
   ]
  },
  {
   "cell_type": "code",
   "execution_count": null,
   "id": "a7304d38",
   "metadata": {},
   "outputs": [
    {
     "name": "stdout",
     "output_type": "stream",
     "text": [
      "tensor(-14)\n",
      "tensor([[1],\n",
      "        [2],\n",
      "        [3]])\n",
      "tensor([[-1],\n",
      "        [-2],\n",
      "        [-3]])\n",
      "tensor([[-14]])\n",
      "tensor([[-14]])\n"
     ]
    }
   ],
   "source": [
    "# 내적과 transpose\n",
    "\n",
    "a = torch.tensor([1, 2, 3])\n",
    "b = torch.tensor([-1, -2, -3])\n",
    "print (torch.sum(a * b)) # 내적 : element-wise mul->sum\n",
    "\n",
    "a = a.reshape(3, 1)\n",
    "b = b.reshape(3, 1)\n",
    "print (a)\n",
    "print (b)\n",
    "\n",
    "# ~~~.transpose(1, 0) : 행과 열 바꿔라\n",
    "print (a.transpose(1, 0) @ b) # A^T@B \n",
    "\n",
    "# ~~~.permute(A, B) : 0번째엔 A번째가, 1번째엔 B번째가\n",
    "print (a.permute(1, 0) @ b)\n"
   ]
  },
  {
   "cell_type": "code",
   "execution_count": 166,
   "id": "316df5d9",
   "metadata": {},
   "outputs": [
    {
     "name": "stdout",
     "output_type": "stream",
     "text": [
      "tensor([[1., 1., 1., 1.],\n",
      "        [1., 1., 1., 1.],\n",
      "        [1., 1., 1., 1.]]) \n",
      " tensor([[0., 0., 0., 0.],\n",
      "        [0., 0., 0., 0.],\n",
      "        [0., 0., 0., 0.]])\n",
      "tensor([[1., 1., 1., 1.],\n",
      "        [1., 1., 1., 1.],\n",
      "        [1., 1., 1., 1.],\n",
      "        [0., 0., 0., 0.],\n",
      "        [0., 0., 0., 0.],\n",
      "        [0., 0., 0., 0.]]) \n",
      " tensor([[1., 1., 1., 1., 0., 0., 0., 0.],\n",
      "        [1., 1., 1., 1., 0., 0., 0., 0.],\n",
      "        [1., 1., 1., 1., 0., 0., 0., 0.]])\n",
      "tensor([[1., 1., 1., 1.],\n",
      "        [1., 1., 1., 1.],\n",
      "        [1., 1., 1., 1.],\n",
      "        [0., 0., 0., 0.],\n",
      "        [0., 0., 0., 0.],\n",
      "        [0., 0., 0., 0.]])\n",
      "tensor([[1., 1., 1., 1., 0., 0., 0., 0.],\n",
      "        [1., 1., 1., 1., 0., 0., 0., 0.],\n",
      "        [1., 1., 1., 1., 0., 0., 0., 0.]])\n"
     ]
    }
   ],
   "source": [
    "# concatenation \n",
    "\n",
    "A = torch.ones(3, 4)\n",
    "B = torch.zeros(3, 4)\n",
    "print (A, '\\n', B)\n",
    "\n",
    "C = torch.vstack([A, B]) # vertical 0번째 차원에 쌓는다 (밑에 쌓는다, 세로로 쌓는다)\n",
    "D = torch.hstack([A, B]) # horizontal 0번째 차원에 쌓는다 (옆으로 쌓는다, 가로로 쌓는다)\n",
    "print (C, '\\n', D)\n",
    "\n",
    "K = torch.cat([A, B], dim=0) # == vstack이랑 똑같음\n",
    "print (K)\n",
    "\n",
    "K = torch.cat([A, B], dim=1) # == hstack이랑 똑같음\n",
    "print (K)"
   ]
  },
  {
   "cell_type": "code",
   "execution_count": null,
   "id": "32b9c1aa",
   "metadata": {},
   "outputs": [
    {
     "name": "stdout",
     "output_type": "stream",
     "text": [
      "tensor([[[[[[[[[[[[-0.0527],\n",
      "                  [-0.5751]],\n",
      "\n",
      "                 [[ 2.4814],\n",
      "                  [ 0.5225]],\n",
      "\n",
      "                 [[-1.8214],\n",
      "                  [ 1.3131]]]]]]]]]]]]) torch.Size([1, 1, 1, 1, 1, 1, 1, 1, 1, 3, 2, 1])\n",
      "torch.Size([3, 2])\n"
     ]
    }
   ],
   "source": [
    "A = torch.randn(1, 1, 1, 1, 1, 1, 1, 1, 1, 3, 2, 1)\n",
    "print (A, A.shape)\n",
    "\n",
    "print (A.squeeze().shape) # <--- 필요없는 차원 없애기"
   ]
  },
  {
   "cell_type": "code",
   "execution_count": null,
   "id": "c0b19a80",
   "metadata": {},
   "outputs": [],
   "source": []
  }
 ],
 "metadata": {
  "kernelspec": {
   "display_name": "Python 3",
   "language": "python",
   "name": "python3"
  },
  "language_info": {
   "codemirror_mode": {
    "name": "ipython",
    "version": 3
   },
   "file_extension": ".py",
   "mimetype": "text/x-python",
   "name": "python",
   "nbconvert_exporter": "python",
   "pygments_lexer": "ipython3",
   "version": "3.11.3"
  }
 },
 "nbformat": 4,
 "nbformat_minor": 5
}
