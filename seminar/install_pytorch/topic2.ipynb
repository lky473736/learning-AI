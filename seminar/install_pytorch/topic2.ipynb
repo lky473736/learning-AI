{
 "cells": [
  {
   "cell_type": "markdown",
   "id": "fdca8f25",
   "metadata": {},
   "source": [
    "## learning-AI : install_pytorch\n",
    "### topic 2 : 2강\n",
    "\n",
    "<br>\n",
    "\n",
    "- **임규연 (lky473736)**\n",
    "- 2025.07.17.\n",
    "- Reference\n",
    "    - https://www.youtube.com/watch?v=gzJt_qjZJ7M&list=PL_iJu012NOxdhFmM2aw6bwpZTMFdsPxws\n",
    "\n",
    "------\n",
    "\n",
    "### 2강. autograd\n",
    "\n",
    "- autograd : gradient를 자동으로 계산해준다\n",
    "    - gradient는 여기서 weight, bias를 의미하겠음\n",
    "    - computational graph의 편미분 혹은 Hypothesis의 연산 과정을 자동 계산해주는 것\n",
    "    - computational graph를 컴퓨터 자체적으로 그리고 편미분해서 back propagation을 진행한다"
   ]
  },
  {
   "cell_type": "code",
   "execution_count": 1,
   "id": "9cd5f164",
   "metadata": {
    "ExecuteTime": {
     "end_time": "2025-07-19T12:31:20.241220Z",
     "start_time": "2025-07-19T12:31:19.154237Z"
    }
   },
   "outputs": [
    {
     "name": "stdout",
     "output_type": "stream",
     "text": [
      "tensor([1.], requires_grad=True)\n"
     ]
    }
   ],
   "source": [
    "import torch\n",
    "\n",
    "x = torch.tensor([1.],  # 1. == 1.0 (실수여야만 미분 가능해서)\n",
    "                 requires_grad = True) # default : False\n",
    "print (x) \n",
    "\n",
    "# requires_grad : autograd 사용하게 하는 tensor (gradient)"
   ]
  },
  {
   "cell_type": "code",
   "execution_count": 2,
   "id": "5887a577",
   "metadata": {
    "ExecuteTime": {
     "end_time": "2025-07-19T12:31:20.301365Z",
     "start_time": "2025-07-19T12:31:20.243483Z"
    }
   },
   "outputs": [
    {
     "name": "stdout",
     "output_type": "stream",
     "text": [
      "tensor([1.], grad_fn=<PowBackward0>)\n",
      "tensor([3.], grad_fn=<AddBackward0>)\n",
      "None\n",
      "tensor([4.])\n"
     ]
    }
   ],
   "source": [
    "x = torch.tensor([1.], requires_grad=True)\n",
    "y = x ** 2\n",
    "print (y) # grad_fn에 PowBackward가 붙어있음 (계산과정이 붙여져있음)\n",
    "y = 1 + (y * 2)\n",
    "print (y) # 또 AddBackward가 붙여져있음\n",
    "\n",
    "print (x.grad)\n",
    "y.backward() # 편미분한다 (y = 1 + 2*x**2 -> 4*x)\n",
    "print (x.grad) # 4*x에 1 넣음 (왜냐면 torch.tensor[1.]로 정의되어있어서)"
   ]
  },
  {
   "cell_type": "code",
   "execution_count": 3,
   "id": "3a831091",
   "metadata": {
    "ExecuteTime": {
     "end_time": "2025-07-19T12:31:20.309017Z",
     "start_time": "2025-07-19T12:31:20.303095Z"
    }
   },
   "outputs": [
    {
     "name": "stdout",
     "output_type": "stream",
     "text": [
      "tensor([4.], grad_fn=<PowBackward0>)\n",
      "tensor([12.], grad_fn=<MulBackward0>)\n",
      "tensor([12.]) tensor([3.])\n"
     ]
    }
   ],
   "source": [
    "x = torch.tensor([2.], requires_grad=True) # leaf tensor (가장 종단의 입력변수 )\n",
    "y = x ** 2\n",
    "print (y) \n",
    "y.retain_grad() # 중간에 dz/dy 알고 싶으면 이거 하기\n",
    "\n",
    "z = 3 * y\n",
    "print (z)\n",
    "\n",
    "# grad_fn : 가장 마지막 연산에 어떤 것을 하였는가? (x에 대하여)\n",
    "\n",
    "z.backward() \n",
    "print (x.grad, y.grad) # chain rule로 알아내게 됨 (computational graph)"
   ]
  },
  {
   "cell_type": "code",
   "execution_count": 4,
   "id": "ff355ead",
   "metadata": {
    "ExecuteTime": {
     "end_time": "2025-07-19T12:31:20.319282Z",
     "start_time": "2025-07-19T12:31:20.313354Z"
    }
   },
   "outputs": [
    {
     "name": "stdout",
     "output_type": "stream",
     "text": [
      "tensor([1.], grad_fn=<PowBackward0>) tensor([2.], grad_fn=<AddBackward0>)\n",
      "tensor([8.])\n"
     ]
    }
   ],
   "source": [
    "x = torch.tensor([1.], \n",
    "                 requires_grad=True)\n",
    "a = x ** 2\n",
    "b = a + 1\n",
    "\n",
    "print (a, b)\n",
    "\n",
    "c = b ** 2\n",
    "c.backward()\n",
    "print (x.grad)"
   ]
  },
  {
   "cell_type": "code",
   "execution_count": 5,
   "id": "fcb297df",
   "metadata": {
    "ExecuteTime": {
     "end_time": "2025-07-19T12:31:20.327183Z",
     "start_time": "2025-07-19T12:31:20.321073Z"
    }
   },
   "outputs": [
    {
     "name": "stdout",
     "output_type": "stream",
     "text": [
      "tensor([3.], grad_fn=<AddBackward0>)\n",
      "tensor([4.])\n",
      "tensor([2.])\n"
     ]
    }
   ],
   "source": [
    "# 2원 변수\n",
    "# backward와 requires_grad는 computational graph를 그려서 생각\n",
    "\n",
    "x = torch.tensor([1.], \n",
    "                 requires_grad=True)\n",
    "y = torch.tensor([1.], \n",
    "                 requires_grad=True)\n",
    "\n",
    "z = 2*x**2 + y**2 \n",
    "print (z)\n",
    "z.backward()\n",
    "\n",
    "print (x.grad)\n",
    "print (y.grad)"
   ]
  },
  {
   "cell_type": "code",
   "execution_count": 6,
   "id": "55181d9d",
   "metadata": {
    "ExecuteTime": {
     "end_time": "2025-07-19T12:31:20.336996Z",
     "start_time": "2025-07-19T12:31:20.329514Z"
    }
   },
   "outputs": [
    {
     "name": "stdout",
     "output_type": "stream",
     "text": [
      "tensor(14., grad_fn=<SumBackward0>)\n",
      "tensor([2., 4., 6.])\n"
     ]
    }
   ],
   "source": [
    "# 벡터 변수에 대해 편미분\n",
    "\n",
    "x = torch.tensor([1., 2., 3.], requires_grad=True)\n",
    "y = torch.sum(x**2) # x1**2 + x2**2 + x3**2\n",
    "y.backward()\n",
    "print (y)\n",
    "\n",
    "print (x.grad) "
   ]
  },
  {
   "cell_type": "code",
   "execution_count": 7,
   "id": "ee1571f0",
   "metadata": {
    "ExecuteTime": {
     "end_time": "2025-07-19T12:31:20.342958Z",
     "start_time": "2025-07-19T12:31:20.339066Z"
    }
   },
   "outputs": [
    {
     "name": "stdout",
     "output_type": "stream",
     "text": [
      "None\n"
     ]
    }
   ],
   "source": [
    "# transfer learning할 때는 requires_grad를 False로 둘 때가 있다\n",
    "# freezing하기 위하여 (학습을 하지 않게끔 하기 위하여)\n",
    "\n",
    "x = torch.tensor([1.], \n",
    "                 requires_grad=True)\n",
    "x.requires_grad = False\n",
    "\n",
    "y = 2*x\n",
    "# y.backward() <-- error!!\n",
    "\n",
    "print (x.grad) # None. requires_grad를 False로 두니깐"
   ]
  },
  {
   "cell_type": "code",
   "execution_count": 8,
   "id": "68e2148b",
   "metadata": {
    "ExecuteTime": {
     "end_time": "2025-07-19T12:31:20.354081Z",
     "start_time": "2025-07-19T12:31:20.345844Z"
    }
   },
   "outputs": [
    {
     "name": "stdout",
     "output_type": "stream",
     "text": [
      "tensor([1.], requires_grad=True)\n",
      "tensor([1.])\n",
      "tensor([1.], grad_fn=<PowBackward0>)\n",
      "tensor([2.], grad_fn=<AddBackward0>)\n"
     ]
    }
   ],
   "source": [
    "# detach : requires_grad를 떼버린다 \n",
    "# -> 그 값이랑 똑같은 것을 가지는 tensor를 새롭게 만든다\n",
    "\n",
    "x = torch.tensor([1.], \n",
    "                 requires_grad=True)\n",
    "x2 = x.detach() # <-- requires_grad가 False인 새로운 텐서를 만든다\n",
    "print (x)\n",
    "print (x2)\n",
    "\n",
    "y = x ** 2\n",
    "print (y)\n",
    "\n",
    "z = y + x2\n",
    "\n",
    "print (z)\n",
    "\n",
    "z.backward()"
   ]
  },
  {
   "cell_type": "code",
   "execution_count": 9,
   "id": "b81354e9",
   "metadata": {
    "ExecuteTime": {
     "end_time": "2025-07-19T12:31:20.363139Z",
     "start_time": "2025-07-19T12:31:20.356381Z"
    }
   },
   "outputs": [
    {
     "name": "stdout",
     "output_type": "stream",
     "text": [
      "True\n",
      "tensor([1.])\n",
      "True\n",
      "tensor([1.])\n"
     ]
    }
   ],
   "source": [
    "# torch.no_grad\n",
    "# chain rule을 위해선 grad_fn이 update가 되어야함\n",
    "# 하지만 잠깐 계산하고 싶지 않다면 no_grad (모델 테스트 시에 메모리를 쓸 필요 없음)\n",
    "\n",
    "x = torch.tensor([1.], \n",
    "                 requires_grad=True)\n",
    "\n",
    "with torch.no_grad() : \n",
    "    y = x ** 2\n",
    "    print (x.requires_grad)\n",
    "    print (y) # grad_fn을 계산하지 않는다 (메모리 소모가 줄것임)\n",
    "    \n",
    "print (x.requires_grad)\n",
    "print (y)"
   ]
  },
  {
   "cell_type": "code",
   "execution_count": 10,
   "id": "d878af35",
   "metadata": {
    "ExecuteTime": {
     "end_time": "2025-07-19T12:31:21.437725Z",
     "start_time": "2025-07-19T12:31:20.369083Z"
    }
   },
   "outputs": [
    {
     "data": {
      "image/svg+xml": [
       "<?xml version=\"1.0\" encoding=\"UTF-8\" standalone=\"no\"?>\n",
       "<!DOCTYPE svg PUBLIC \"-//W3C//DTD SVG 1.1//EN\"\n",
       " \"http://www.w3.org/Graphics/SVG/1.1/DTD/svg11.dtd\">\n",
       "<!-- Generated by graphviz version 12.2.1 (20241206.2353)\n",
       " -->\n",
       "<!-- Pages: 1 -->\n",
       "<svg width=\"202pt\" height=\"337pt\"\n",
       " viewBox=\"0.00 0.00 202.00 336.50\" xmlns=\"http://www.w3.org/2000/svg\" xmlns:xlink=\"http://www.w3.org/1999/xlink\">\n",
       "<g id=\"graph0\" class=\"graph\" transform=\"scale(1 1) rotate(0) translate(4 332.5)\">\n",
       "<polygon fill=\"white\" stroke=\"none\" points=\"-4,4 -4,-332.5 198,-332.5 198,4 -4,4\"/>\n",
       "<!-- 4821564976 -->\n",
       "<g id=\"node1\" class=\"node\">\n",
       "<title>4821564976</title>\n",
       "<polygon fill=\"#caff70\" stroke=\"black\" points=\"124,-32.75 70,-32.75 70,0 124,0 124,-32.75\"/>\n",
       "<text text-anchor=\"middle\" x=\"97\" y=\"-7.25\" font-family=\"monospace\" font-size=\"10.00\"> (1)</text>\n",
       "</g>\n",
       "<!-- 4902063360 -->\n",
       "<g id=\"node2\" class=\"node\">\n",
       "<title>4902063360</title>\n",
       "<polygon fill=\"lightgrey\" stroke=\"black\" points=\"141,-89.5 53,-89.5 53,-68.75 141,-68.75 141,-89.5\"/>\n",
       "<text text-anchor=\"middle\" x=\"97\" y=\"-76\" font-family=\"monospace\" font-size=\"10.00\">AddBackward0</text>\n",
       "</g>\n",
       "<!-- 4902063360&#45;&gt;4821564976 -->\n",
       "<g id=\"edge7\" class=\"edge\">\n",
       "<title>4902063360&#45;&gt;4821564976</title>\n",
       "<path fill=\"none\" stroke=\"black\" d=\"M97,-68.36C97,-61.89 97,-53.05 97,-44.55\"/>\n",
       "<polygon fill=\"black\" stroke=\"black\" points=\"100.5,-44.55 97,-34.55 93.5,-44.55 100.5,-44.55\"/>\n",
       "</g>\n",
       "<!-- 4902063216 -->\n",
       "<g id=\"node3\" class=\"node\">\n",
       "<title>4902063216</title>\n",
       "<polygon fill=\"lightgrey\" stroke=\"black\" points=\"141,-146.25 53,-146.25 53,-125.5 141,-125.5 141,-146.25\"/>\n",
       "<text text-anchor=\"middle\" x=\"97\" y=\"-132.75\" font-family=\"monospace\" font-size=\"10.00\">AddBackward0</text>\n",
       "</g>\n",
       "<!-- 4902063216&#45;&gt;4902063360 -->\n",
       "<g id=\"edge1\" class=\"edge\">\n",
       "<title>4902063216&#45;&gt;4902063360</title>\n",
       "<path fill=\"none\" stroke=\"black\" d=\"M97,-125.09C97,-118.47 97,-109.47 97,-101.27\"/>\n",
       "<polygon fill=\"black\" stroke=\"black\" points=\"100.5,-101.34 97,-91.34 93.5,-101.34 100.5,-101.34\"/>\n",
       "</g>\n",
       "<!-- 4902063072 -->\n",
       "<g id=\"node4\" class=\"node\">\n",
       "<title>4902063072</title>\n",
       "<polygon fill=\"lightgrey\" stroke=\"black\" points=\"88,-203 0,-203 0,-182.25 88,-182.25 88,-203\"/>\n",
       "<text text-anchor=\"middle\" x=\"44\" y=\"-189.5\" font-family=\"monospace\" font-size=\"10.00\">PowBackward0</text>\n",
       "</g>\n",
       "<!-- 4902063072&#45;&gt;4902063216 -->\n",
       "<g id=\"edge2\" class=\"edge\">\n",
       "<title>4902063072&#45;&gt;4902063216</title>\n",
       "<path fill=\"none\" stroke=\"black\" d=\"M53.48,-181.84C60.79,-174.28 71.09,-163.64 79.84,-154.6\"/>\n",
       "<polygon fill=\"black\" stroke=\"black\" points=\"82.11,-157.29 86.55,-147.67 77.08,-152.42 82.11,-157.29\"/>\n",
       "</g>\n",
       "<!-- 4902062976 -->\n",
       "<g id=\"node5\" class=\"node\">\n",
       "<title>4902062976</title>\n",
       "<polygon fill=\"lightgrey\" stroke=\"black\" points=\"147,-259.75 47,-259.75 47,-239 147,-239 147,-259.75\"/>\n",
       "<text text-anchor=\"middle\" x=\"97\" y=\"-246.25\" font-family=\"monospace\" font-size=\"10.00\">AccumulateGrad</text>\n",
       "</g>\n",
       "<!-- 4902062976&#45;&gt;4902063072 -->\n",
       "<g id=\"edge3\" class=\"edge\">\n",
       "<title>4902062976&#45;&gt;4902063072</title>\n",
       "<path fill=\"none\" stroke=\"black\" d=\"M87.52,-238.59C80.21,-231.03 69.91,-220.39 61.16,-211.35\"/>\n",
       "<polygon fill=\"black\" stroke=\"black\" points=\"63.92,-209.17 54.45,-204.42 58.89,-214.04 63.92,-209.17\"/>\n",
       "</g>\n",
       "<!-- 4902063264 -->\n",
       "<g id=\"node7\" class=\"node\">\n",
       "<title>4902063264</title>\n",
       "<polygon fill=\"lightgrey\" stroke=\"black\" points=\"194,-203 106,-203 106,-182.25 194,-182.25 194,-203\"/>\n",
       "<text text-anchor=\"middle\" x=\"150\" y=\"-189.5\" font-family=\"monospace\" font-size=\"10.00\">MulBackward0</text>\n",
       "</g>\n",
       "<!-- 4902062976&#45;&gt;4902063264 -->\n",
       "<g id=\"edge6\" class=\"edge\">\n",
       "<title>4902062976&#45;&gt;4902063264</title>\n",
       "<path fill=\"none\" stroke=\"black\" d=\"M106.48,-238.59C113.79,-231.03 124.09,-220.39 132.84,-211.35\"/>\n",
       "<polygon fill=\"black\" stroke=\"black\" points=\"135.11,-214.04 139.55,-204.42 130.08,-209.17 135.11,-214.04\"/>\n",
       "</g>\n",
       "<!-- 4901951184 -->\n",
       "<g id=\"node6\" class=\"node\">\n",
       "<title>4901951184</title>\n",
       "<polygon fill=\"lightblue\" stroke=\"black\" points=\"124,-328.5 70,-328.5 70,-295.75 124,-295.75 124,-328.5\"/>\n",
       "<text text-anchor=\"middle\" x=\"97\" y=\"-303\" font-family=\"monospace\" font-size=\"10.00\"> (1)</text>\n",
       "</g>\n",
       "<!-- 4901951184&#45;&gt;4902062976 -->\n",
       "<g id=\"edge4\" class=\"edge\">\n",
       "<title>4901951184&#45;&gt;4902062976</title>\n",
       "<path fill=\"none\" stroke=\"black\" d=\"M97,-295.48C97,-288.1 97,-279.18 97,-271.24\"/>\n",
       "<polygon fill=\"black\" stroke=\"black\" points=\"100.5,-271.41 97,-261.41 93.5,-271.41 100.5,-271.41\"/>\n",
       "</g>\n",
       "<!-- 4902063264&#45;&gt;4902063216 -->\n",
       "<g id=\"edge5\" class=\"edge\">\n",
       "<title>4902063264&#45;&gt;4902063216</title>\n",
       "<path fill=\"none\" stroke=\"black\" d=\"M140.52,-181.84C133.21,-174.28 122.91,-163.64 114.16,-154.6\"/>\n",
       "<polygon fill=\"black\" stroke=\"black\" points=\"116.92,-152.42 107.45,-147.67 111.89,-157.29 116.92,-152.42\"/>\n",
       "</g>\n",
       "</g>\n",
       "</svg>\n"
      ],
      "text/plain": [
       "<graphviz.graphs.Digraph at 0x1240f77d0>"
      ]
     },
     "execution_count": 10,
     "metadata": {},
     "output_type": "execute_result"
    }
   ],
   "source": [
    "from torchviz import make_dot\n",
    "\n",
    "x = torch.tensor([1.], requires_grad=True)\n",
    "y = x**2 + 2*x + 1\n",
    "\n",
    "make_dot(y)\n",
    "\n",
    "# accumulate grad : 더하기"
   ]
  },
  {
   "cell_type": "code",
   "execution_count": 11,
   "id": "b8539497",
   "metadata": {
    "ExecuteTime": {
     "end_time": "2025-07-19T12:31:21.604483Z",
     "start_time": "2025-07-19T12:31:21.440189Z"
    }
   },
   "outputs": [
    {
     "data": {
      "image/svg+xml": [
       "<?xml version=\"1.0\" encoding=\"UTF-8\" standalone=\"no\"?>\n",
       "<!DOCTYPE svg PUBLIC \"-//W3C//DTD SVG 1.1//EN\"\n",
       " \"http://www.w3.org/Graphics/SVG/1.1/DTD/svg11.dtd\">\n",
       "<!-- Generated by graphviz version 12.2.1 (20241206.2353)\n",
       " -->\n",
       "<!-- Pages: 1 -->\n",
       "<svg width=\"364pt\" height=\"507pt\"\n",
       " viewBox=\"0.00 0.00 363.71 506.75\" xmlns=\"http://www.w3.org/2000/svg\" xmlns:xlink=\"http://www.w3.org/1999/xlink\">\n",
       "<g id=\"graph0\" class=\"graph\" transform=\"scale(1 1) rotate(0) translate(4 502.75)\">\n",
       "<polygon fill=\"white\" stroke=\"none\" points=\"-4,4 -4,-502.75 359.71,-502.75 359.71,4 -4,4\"/>\n",
       "<!-- 4901952432 -->\n",
       "<g id=\"node1\" class=\"node\">\n",
       "<title>4901952432</title>\n",
       "<polygon fill=\"#caff70\" stroke=\"black\" points=\"169,-32.75 115,-32.75 115,0 169,0 169,-32.75\"/>\n",
       "<text text-anchor=\"middle\" x=\"142\" y=\"-7.25\" font-family=\"monospace\" font-size=\"10.00\"> (3)</text>\n",
       "</g>\n",
       "<!-- 4821541040 -->\n",
       "<g id=\"node2\" class=\"node\">\n",
       "<title>4821541040</title>\n",
       "<polygon fill=\"lightgrey\" stroke=\"black\" points=\"186,-89.5 98,-89.5 98,-68.75 186,-68.75 186,-89.5\"/>\n",
       "<text text-anchor=\"middle\" x=\"142\" y=\"-76\" font-family=\"monospace\" font-size=\"10.00\">MulBackward0</text>\n",
       "</g>\n",
       "<!-- 4821541040&#45;&gt;4901952432 -->\n",
       "<g id=\"edge18\" class=\"edge\">\n",
       "<title>4821541040&#45;&gt;4901952432</title>\n",
       "<path fill=\"none\" stroke=\"black\" d=\"M142,-68.36C142,-61.89 142,-53.05 142,-44.55\"/>\n",
       "<polygon fill=\"black\" stroke=\"black\" points=\"145.5,-44.55 142,-34.55 138.5,-44.55 145.5,-44.55\"/>\n",
       "</g>\n",
       "<!-- 4821548384 -->\n",
       "<g id=\"node3\" class=\"node\">\n",
       "<title>4821548384</title>\n",
       "<polygon fill=\"lightgrey\" stroke=\"black\" points=\"222,-259.75 134,-259.75 134,-239 222,-239 222,-259.75\"/>\n",
       "<text text-anchor=\"middle\" x=\"178\" y=\"-246.25\" font-family=\"monospace\" font-size=\"10.00\">MulBackward0</text>\n",
       "</g>\n",
       "<!-- 4821548384&#45;&gt;4821541040 -->\n",
       "<g id=\"edge1\" class=\"edge\">\n",
       "<title>4821548384&#45;&gt;4821541040</title>\n",
       "<path fill=\"none\" stroke=\"black\" d=\"M177.18,-238.68C175.27,-217.74 169.82,-166.85 159,-125.5 156.79,-117.07 153.59,-108.03 150.56,-100.26\"/>\n",
       "<polygon fill=\"black\" stroke=\"black\" points=\"153.83,-99.01 146.81,-91.08 147.35,-101.66 153.83,-99.01\"/>\n",
       "</g>\n",
       "<!-- 4821539216 -->\n",
       "<g id=\"node4\" class=\"node\">\n",
       "<title>4821539216</title>\n",
       "<polygon fill=\"lightgrey\" stroke=\"black\" points=\"222,-373.25 134,-373.25 134,-352.5 222,-352.5 222,-373.25\"/>\n",
       "<text text-anchor=\"middle\" x=\"178\" y=\"-359.75\" font-family=\"monospace\" font-size=\"10.00\">MulBackward0</text>\n",
       "</g>\n",
       "<!-- 4821539216&#45;&gt;4821548384 -->\n",
       "<g id=\"edge2\" class=\"edge\">\n",
       "<title>4821539216&#45;&gt;4821548384</title>\n",
       "<path fill=\"none\" stroke=\"black\" d=\"M178,-352.37C178,-334.6 178,-295.97 178,-271.68\"/>\n",
       "<polygon fill=\"black\" stroke=\"black\" points=\"181.5,-271.69 178,-261.69 174.5,-271.69 181.5,-271.69\"/>\n",
       "</g>\n",
       "<!-- 4902068352 -->\n",
       "<g id=\"node5\" class=\"node\">\n",
       "<title>4902068352</title>\n",
       "<polygon fill=\"lightgrey\" stroke=\"black\" points=\"334,-430 234,-430 234,-409.25 334,-409.25 334,-430\"/>\n",
       "<text text-anchor=\"middle\" x=\"284\" y=\"-416.5\" font-family=\"monospace\" font-size=\"10.00\">AccumulateGrad</text>\n",
       "</g>\n",
       "<!-- 4902068352&#45;&gt;4821539216 -->\n",
       "<g id=\"edge3\" class=\"edge\">\n",
       "<title>4902068352&#45;&gt;4821539216</title>\n",
       "<path fill=\"none\" stroke=\"black\" d=\"M265.05,-408.84C248.92,-400.51 225.5,-388.41 207.01,-378.86\"/>\n",
       "<polygon fill=\"black\" stroke=\"black\" points=\"208.62,-375.75 198.13,-374.27 205.41,-381.97 208.62,-375.75\"/>\n",
       "</g>\n",
       "<!-- 4902063792 -->\n",
       "<g id=\"node10\" class=\"node\">\n",
       "<title>4902063792</title>\n",
       "<polygon fill=\"lightgrey\" stroke=\"black\" points=\"328,-203 240,-203 240,-182.25 328,-182.25 328,-203\"/>\n",
       "<text text-anchor=\"middle\" x=\"284\" y=\"-189.5\" font-family=\"monospace\" font-size=\"10.00\">AddBackward0</text>\n",
       "</g>\n",
       "<!-- 4902068352&#45;&gt;4902063792 -->\n",
       "<g id=\"edge16\" class=\"edge\">\n",
       "<title>4902068352&#45;&gt;4902063792</title>\n",
       "<path fill=\"none\" stroke=\"black\" d=\"M302.15,-408.77C314.51,-400.95 329.86,-388.76 337,-373.25 361.95,-319.05 361.95,-293.2 337,-239 331.59,-227.24 321.46,-217.4 311.5,-209.91\"/>\n",
       "<polygon fill=\"black\" stroke=\"black\" points=\"313.62,-207.12 303.4,-204.33 309.65,-212.89 313.62,-207.12\"/>\n",
       "</g>\n",
       "<!-- 4902062976 -->\n",
       "<g id=\"node13\" class=\"node\">\n",
       "<title>4902062976</title>\n",
       "<polygon fill=\"lightgrey\" stroke=\"black\" points=\"328,-373.25 240,-373.25 240,-352.5 328,-352.5 328,-373.25\"/>\n",
       "<text text-anchor=\"middle\" x=\"284\" y=\"-359.75\" font-family=\"monospace\" font-size=\"10.00\">AddBackward0</text>\n",
       "</g>\n",
       "<!-- 4902068352&#45;&gt;4902062976 -->\n",
       "<g id=\"edge12\" class=\"edge\">\n",
       "<title>4902068352&#45;&gt;4902062976</title>\n",
       "<path fill=\"none\" stroke=\"black\" d=\"M284,-408.84C284,-402.22 284,-393.22 284,-385.02\"/>\n",
       "<polygon fill=\"black\" stroke=\"black\" points=\"287.5,-385.09 284,-375.09 280.5,-385.09 287.5,-385.09\"/>\n",
       "</g>\n",
       "<!-- 4821563248 -->\n",
       "<g id=\"node6\" class=\"node\">\n",
       "<title>4821563248</title>\n",
       "<polygon fill=\"lightblue\" stroke=\"black\" points=\"311,-498.75 257,-498.75 257,-466 311,-466 311,-498.75\"/>\n",
       "<text text-anchor=\"middle\" x=\"284\" y=\"-473.25\" font-family=\"monospace\" font-size=\"10.00\"> (3)</text>\n",
       "</g>\n",
       "<!-- 4821563248&#45;&gt;4902068352 -->\n",
       "<g id=\"edge4\" class=\"edge\">\n",
       "<title>4821563248&#45;&gt;4902068352</title>\n",
       "<path fill=\"none\" stroke=\"black\" d=\"M284,-465.73C284,-458.35 284,-449.43 284,-441.49\"/>\n",
       "<polygon fill=\"black\" stroke=\"black\" points=\"287.5,-441.66 284,-431.66 280.5,-441.66 287.5,-441.66\"/>\n",
       "</g>\n",
       "<!-- 4902063744 -->\n",
       "<g id=\"node7\" class=\"node\">\n",
       "<title>4902063744</title>\n",
       "<polygon fill=\"lightgrey\" stroke=\"black\" points=\"122,-430 22,-430 22,-409.25 122,-409.25 122,-430\"/>\n",
       "<text text-anchor=\"middle\" x=\"72\" y=\"-416.5\" font-family=\"monospace\" font-size=\"10.00\">AccumulateGrad</text>\n",
       "</g>\n",
       "<!-- 4902063744&#45;&gt;4821539216 -->\n",
       "<g id=\"edge5\" class=\"edge\">\n",
       "<title>4902063744&#45;&gt;4821539216</title>\n",
       "<path fill=\"none\" stroke=\"black\" d=\"M90.95,-408.84C107.08,-400.51 130.5,-388.41 148.99,-378.86\"/>\n",
       "<polygon fill=\"black\" stroke=\"black\" points=\"150.59,-381.97 157.87,-374.27 147.38,-375.75 150.59,-381.97\"/>\n",
       "</g>\n",
       "<!-- 4821542336 -->\n",
       "<g id=\"node9\" class=\"node\">\n",
       "<title>4821542336</title>\n",
       "<polygon fill=\"lightgrey\" stroke=\"black\" points=\"150,-146.25 62,-146.25 62,-125.5 150,-125.5 150,-146.25\"/>\n",
       "<text text-anchor=\"middle\" x=\"106\" y=\"-132.75\" font-family=\"monospace\" font-size=\"10.00\">AddBackward0</text>\n",
       "</g>\n",
       "<!-- 4902063744&#45;&gt;4821542336 -->\n",
       "<g id=\"edge17\" class=\"edge\">\n",
       "<title>4902063744&#45;&gt;4821542336</title>\n",
       "<path fill=\"none\" stroke=\"black\" d=\"M56.35,-408.93C44.46,-400.79 28.56,-388.13 19,-373.25 2.47,-347.53 0,-337.7 0,-307.12 0,-307.12 0,-307.12 0,-248.38 0,-204.22 44.2,-170.6 75.52,-152.32\"/>\n",
       "<polygon fill=\"black\" stroke=\"black\" points=\"77.21,-155.38 84.24,-147.45 73.8,-149.27 77.21,-155.38\"/>\n",
       "</g>\n",
       "<!-- 4902063360 -->\n",
       "<g id=\"node15\" class=\"node\">\n",
       "<title>4902063360</title>\n",
       "<polygon fill=\"lightgrey\" stroke=\"black\" points=\"116,-373.25 28,-373.25 28,-352.5 116,-352.5 116,-373.25\"/>\n",
       "<text text-anchor=\"middle\" x=\"72\" y=\"-359.75\" font-family=\"monospace\" font-size=\"10.00\">AddBackward0</text>\n",
       "</g>\n",
       "<!-- 4902063744&#45;&gt;4902063360 -->\n",
       "<g id=\"edge15\" class=\"edge\">\n",
       "<title>4902063744&#45;&gt;4902063360</title>\n",
       "<path fill=\"none\" stroke=\"black\" d=\"M72,-408.84C72,-402.22 72,-393.22 72,-385.02\"/>\n",
       "<polygon fill=\"black\" stroke=\"black\" points=\"75.5,-385.09 72,-375.09 68.5,-385.09 75.5,-385.09\"/>\n",
       "</g>\n",
       "<!-- 4901952816 -->\n",
       "<g id=\"node8\" class=\"node\">\n",
       "<title>4901952816</title>\n",
       "<polygon fill=\"lightblue\" stroke=\"black\" points=\"99,-498.75 45,-498.75 45,-466 99,-466 99,-498.75\"/>\n",
       "<text text-anchor=\"middle\" x=\"72\" y=\"-473.25\" font-family=\"monospace\" font-size=\"10.00\"> (3)</text>\n",
       "</g>\n",
       "<!-- 4901952816&#45;&gt;4902063744 -->\n",
       "<g id=\"edge6\" class=\"edge\">\n",
       "<title>4901952816&#45;&gt;4902063744</title>\n",
       "<path fill=\"none\" stroke=\"black\" d=\"M72,-465.73C72,-458.35 72,-449.43 72,-441.49\"/>\n",
       "<polygon fill=\"black\" stroke=\"black\" points=\"75.5,-441.66 72,-431.66 68.5,-441.66 75.5,-441.66\"/>\n",
       "</g>\n",
       "<!-- 4821542336&#45;&gt;4821541040 -->\n",
       "<g id=\"edge7\" class=\"edge\">\n",
       "<title>4821542336&#45;&gt;4821541040</title>\n",
       "<path fill=\"none\" stroke=\"black\" d=\"M112.44,-125.09C117.15,-117.92 123.69,-107.98 129.42,-99.26\"/>\n",
       "<polygon fill=\"black\" stroke=\"black\" points=\"132.22,-101.37 134.79,-91.09 126.37,-97.53 132.22,-101.37\"/>\n",
       "</g>\n",
       "<!-- 4902063792&#45;&gt;4821542336 -->\n",
       "<g id=\"edge8\" class=\"edge\">\n",
       "<title>4902063792&#45;&gt;4821542336</title>\n",
       "<path fill=\"none\" stroke=\"black\" d=\"M252.18,-181.84C223.28,-172.95 180.45,-159.77 148.61,-149.98\"/>\n",
       "<polygon fill=\"black\" stroke=\"black\" points=\"149.88,-146.71 139.29,-147.12 147.82,-153.4 149.88,-146.71\"/>\n",
       "</g>\n",
       "<!-- 4902063504 -->\n",
       "<g id=\"node11\" class=\"node\">\n",
       "<title>4902063504</title>\n",
       "<polygon fill=\"lightgrey\" stroke=\"black\" points=\"328,-259.75 240,-259.75 240,-239 328,-239 328,-259.75\"/>\n",
       "<text text-anchor=\"middle\" x=\"284\" y=\"-246.25\" font-family=\"monospace\" font-size=\"10.00\">AddBackward0</text>\n",
       "</g>\n",
       "<!-- 4902063504&#45;&gt;4902063792 -->\n",
       "<g id=\"edge9\" class=\"edge\">\n",
       "<title>4902063504&#45;&gt;4902063792</title>\n",
       "<path fill=\"none\" stroke=\"black\" d=\"M284,-238.59C284,-231.97 284,-222.97 284,-214.77\"/>\n",
       "<polygon fill=\"black\" stroke=\"black\" points=\"287.5,-214.84 284,-204.84 280.5,-214.84 287.5,-214.84\"/>\n",
       "</g>\n",
       "<!-- 4902063648 -->\n",
       "<g id=\"node12\" class=\"node\">\n",
       "<title>4902063648</title>\n",
       "<polygon fill=\"lightgrey\" stroke=\"black\" points=\"328,-316.5 240,-316.5 240,-295.75 328,-295.75 328,-316.5\"/>\n",
       "<text text-anchor=\"middle\" x=\"284\" y=\"-303\" font-family=\"monospace\" font-size=\"10.00\">PowBackward0</text>\n",
       "</g>\n",
       "<!-- 4902063648&#45;&gt;4902063504 -->\n",
       "<g id=\"edge10\" class=\"edge\">\n",
       "<title>4902063648&#45;&gt;4902063504</title>\n",
       "<path fill=\"none\" stroke=\"black\" d=\"M284,-295.34C284,-288.72 284,-279.72 284,-271.52\"/>\n",
       "<polygon fill=\"black\" stroke=\"black\" points=\"287.5,-271.59 284,-261.59 280.5,-271.59 287.5,-271.59\"/>\n",
       "</g>\n",
       "<!-- 4902062976&#45;&gt;4902063648 -->\n",
       "<g id=\"edge11\" class=\"edge\">\n",
       "<title>4902062976&#45;&gt;4902063648</title>\n",
       "<path fill=\"none\" stroke=\"black\" d=\"M284,-352.09C284,-345.47 284,-336.47 284,-328.27\"/>\n",
       "<polygon fill=\"black\" stroke=\"black\" points=\"287.5,-328.34 284,-318.34 280.5,-328.34 287.5,-328.34\"/>\n",
       "</g>\n",
       "<!-- 4902063408 -->\n",
       "<g id=\"node14\" class=\"node\">\n",
       "<title>4902063408</title>\n",
       "<polygon fill=\"lightgrey\" stroke=\"black\" points=\"133,-316.5 45,-316.5 45,-295.75 133,-295.75 133,-316.5\"/>\n",
       "<text text-anchor=\"middle\" x=\"89\" y=\"-303\" font-family=\"monospace\" font-size=\"10.00\">PowBackward0</text>\n",
       "</g>\n",
       "<!-- 4902063408&#45;&gt;4902063504 -->\n",
       "<g id=\"edge13\" class=\"edge\">\n",
       "<title>4902063408&#45;&gt;4902063504</title>\n",
       "<path fill=\"none\" stroke=\"black\" d=\"M123.86,-295.34C155.79,-286.37 203.26,-273.04 238.23,-263.23\"/>\n",
       "<polygon fill=\"black\" stroke=\"black\" points=\"238.97,-266.65 247.65,-260.58 237.08,-259.91 238.97,-266.65\"/>\n",
       "</g>\n",
       "<!-- 4902063360&#45;&gt;4902063408 -->\n",
       "<g id=\"edge14\" class=\"edge\">\n",
       "<title>4902063360&#45;&gt;4902063408</title>\n",
       "<path fill=\"none\" stroke=\"black\" d=\"M75.04,-352.09C77.14,-345.31 80.02,-336.05 82.61,-327.69\"/>\n",
       "<polygon fill=\"black\" stroke=\"black\" points=\"85.92,-328.86 85.54,-318.27 79.23,-326.79 85.92,-328.86\"/>\n",
       "</g>\n",
       "</g>\n",
       "</svg>\n"
      ],
      "text/plain": [
       "<graphviz.graphs.Digraph at 0x11f656510>"
      ]
     },
     "execution_count": 11,
     "metadata": {},
     "output_type": "execute_result"
    }
   ],
   "source": [
    "from torchviz import make_dot\n",
    "\n",
    "x = torch.tensor([1., 2., 3.], requires_grad=True)\n",
    "y = torch.tensor([2., 3., 4], requires_grad=True)\n",
    "\n",
    "make_dot(x*y*2*(((x+3)**2 + (y+3)**2)+x+y))\n",
    "\n",
    "# accumulate grad : 더하기"
   ]
  }
 ],
 "metadata": {
  "kernelspec": {
   "display_name": "Python 3 (ipykernel)",
   "language": "python",
   "name": "python3"
  },
  "language_info": {
   "codemirror_mode": {
    "name": "ipython",
    "version": 3
   },
   "file_extension": ".py",
   "mimetype": "text/x-python",
   "name": "python",
   "nbconvert_exporter": "python",
   "pygments_lexer": "ipython3",
   "version": "3.11.3"
  },
  "varInspector": {
   "cols": {
    "lenName": 16,
    "lenType": 16,
    "lenVar": 40
   },
   "kernels_config": {
    "python": {
     "delete_cmd_postfix": "",
     "delete_cmd_prefix": "del ",
     "library": "var_list.py",
     "varRefreshCmd": "print(var_dic_list())"
    },
    "r": {
     "delete_cmd_postfix": ") ",
     "delete_cmd_prefix": "rm(",
     "library": "var_list.r",
     "varRefreshCmd": "cat(var_dic_list()) "
    }
   },
   "types_to_exclude": [
    "module",
    "function",
    "builtin_function_or_method",
    "instance",
    "_Feature"
   ],
   "window_display": false
  }
 },
 "nbformat": 4,
 "nbformat_minor": 5
}
