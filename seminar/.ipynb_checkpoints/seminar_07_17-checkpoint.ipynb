{
 "cells": [
  {
   "cell_type": "markdown",
   "id": "107b53a8",
   "metadata": {},
   "source": [
    "## learning-AI101 : seminar 1\n",
    "### 2024.07.17.에 진행한 세미나 기록 및 학습\n",
    "\n",
    "<br>\n",
    "\n",
    "- **임규연 (lky473736)**\n",
    "- 2024.07.22. ~ 2024.07.28.\n",
    "\n",
    "------"
   ]
  },
  {
   "cell_type": "markdown",
   "id": "1329cf33",
   "metadata": {},
   "source": [
    "- (1) hongong/FAQ.md 1~13번에 대한 해설\n",
    "- (2) 블로그 자료 (LR, SVM, DT, RF)에 대한 해설\n",
    "- (3) RNN과 LSTM에 대한 개괄\n",
    "- (4) /report/classification_abalone.ipynb에 대한 피드백\n"
   ]
  },
  {
   "cell_type": "markdown",
   "id": "a0e3b840",
   "metadata": {},
   "source": [
    "#### (1)\n",
    "- 일반적 프로그래밍과 머신러닝 프로그래밍과의 차이 : 규칙 (rule)의 수동 입력? 자동 입력?\n",
    "    - 전통적인 프로그래밍 : rule을 수동적으로 입력해주어야 했음\n",
    "    - 머신러닝 프로그래밍 : 데이터를 입력하면 rule을 자체적으로 생성\n",
    "- 지도, 비지도 학습의 차이 : label (target, 정답)의 유무\n",
    "    - 비지도 학습의 연구가 늘어나는 이유 : 모든 데이터에 label을 붙이는 과정이 까다로움 \n",
    "    - 따라서 label을 자동으로 붙이는 기술도 develop\n",
    "- 차원의 저주 : 차원이 너무 많아질 수록 overfitting될 수도 있으며, 이해가 어렵다\n",
    "    - 이를테면 SVM에서 feature가 너무 많으면, hyperplane을 결정하기가 매우 까다롭고 직관적 이해가 거의 불가능해짐\n",
    "    - 따라서 feature selection이나 feature engineering과 같은 기술로 이를 해결\n",
    "    - 중요도가 높은 feature나 상관관계가 높은 feature만 extraction하여 fit\n",
    "- ridge vs lasso : 규제 (regularization) -> overfitting 방지\n",
    "    - ridge : L2, 제곱항이 결정계수 이하\n",
    "    - lasso : L1, 절댓값 항이 결정계수 이하\n",
    "- 절편과 기울기가 딥러닝에서 사용되는 것은 퍼셉트론 각각의 weight와 bias\n",
    "    - 딥러닝은 사실 weight와 bias를 epoch를 거듭하여 수정하여 최적의 parameter를 찾는 과정 \n",
    "    - SGD 참고"
   ]
  },
  {
   "cell_type": "markdown",
   "id": "eae29f3e",
   "metadata": {},
   "source": [
    "#### (2)\n",
    "- LR : 2024. 07. 28. 예정\n",
    "    - https://ratsgo.github.io/machine%20learning/2017/04/02/logistic/\n",
    "    - https://m.blog.naver.com/winddori2002/221706766540\n",
    "- SVM : 2024. 07. 27. 읽음\n",
    "    - https://m.blog.naver.com/winddori2002/221662413641\n",
    "- DT : 2024. 07. 27. 읽음\n",
    "    - https://lucy-the-marketer.kr/ko/growth/decision-tree-and-impurity/\n",
    "- RF : 2024. 07. 28. 예정\n",
    "    - https://velog.io/@dlskawns/Machine-Learning-Random-Forest-정리-구성원리-파악-및-모델-작성"
   ]
  },
  {
   "attachments": {},
   "cell_type": "markdown",
   "id": "208f4a01",
   "metadata": {},
   "source": [
    "#### (2-1) SVM (Support Vector Machine)\n",
    "\n",
    "<img src=\"https://blog.kakaocdn.net/dn/dyU2w7/btqNe5n7NPN/0KrOvyF6RM8jYOTHwOYIv0/img.png\" width=\"500px\">\n",
    "\n",
    "- SVM은 이중 분류에 특화되어 있으면서, 각 class를 잘 분류 가능한 hyperplane을 찾는 알고리즘임\n",
    "- SVM 원리\n",
    "    - 결정 경계를 찾는데, 결정 경계 주변에 있는 support vector와의 거리인 margin을 최대화할 수 있는 plane을 찾는 것\n",
    "    - 차원 (즉 feature)가 늘어날 수록 어려우며, 위는 2차원이니 선형함수로 hyperplane을 찾은 거지만, n차원이면 n-1차원의 함수를 사용하여 plane을 찾아야 함\n",
    "- SVM 종류\n",
    "    - 선형 SVM \n",
    "        - soft margin : 오차를 어느 정도 허용하여, margin 안에 instance가 들어가도 됨\n",
    "        - hard margin : margin 안에 instance를 절대로 허용하지 않음\n",
    "        - C값을 조정하여 soft margin or hard margin을 선정\n",
    "            - C가 커지면 overfitting될 가능성 높아짐\n",
    "            - C가 작아지면 경계가 흐려져 underfitting될 가능성 높아짐\n",
    "    - 비선형 SVM \n",
    "        - 비선형적이다 -> 차원을 한 단계 늘려서 classification하면 됨 -> 그러면 mapping function 사용해야함 -> 계산량 많아짐 -> \"kernel\" 사용 (실질적으로 차원을 늘리지 않고, 차원을 늘리는 것처럼 계산해줌)\n",
    "        - kernel의 종류\n",
    "            - RBF\n",
    "                - gamma 파라미터가 생김 (기존 C에 추가)\n",
    "                    - 전제 : 비선형 SVM이기 때문에 결정 경계에 곡률이 존재할 것\n",
    "                    - gamma가 커지면 곡률이 커지면서 overfitting될 가능성 높아짐\n",
    "                    - 작으면 곡률이 작아지면서 underfitting될 가능성 높아짐\n",
    "            - sigmoid\n",
    "            - polynormial"
   ]
  },
  {
   "cell_type": "code",
   "execution_count": 1,
   "id": "3202df54",
   "metadata": {
    "ExecuteTime": {
     "end_time": "2024-07-27T09:34:13.063098Z",
     "start_time": "2024-07-27T09:34:12.345593Z"
    }
   },
   "outputs": [],
   "source": [
    "# 실습은 내장된 iris data를 사용한다\n",
    "\n",
    "from sklearn import datasets\n",
    "from sklearn.model_selection import train_test_split\n",
    "\n",
    "iris = datasets.load_iris() # 내장된 iris data\n",
    "\n",
    "X_train, X_test, y_train, y_test = train_test_split (iris.data, iris.target,\n",
    "                                                    test_size=0.2)"
   ]
  },
  {
   "cell_type": "code",
   "execution_count": 8,
   "id": "e988f398",
   "metadata": {
    "ExecuteTime": {
     "end_time": "2024-07-27T09:43:12.143256Z",
     "start_time": "2024-07-27T09:43:11.985201Z"
    }
   },
   "outputs": [
    {
     "name": "stdout",
     "output_type": "stream",
     "text": [
      "best parameter :  {'C': 3, 'gamma': 1.0549788726177245}\n",
      "validation score :  0.975\n",
      "best model :  SVC(C=3, gamma=1.0549788726177245, kernel='linear')\n",
      "train score :  0.9833333333333333\n",
      "test score :  0.9666666666666667\n"
     ]
    }
   ],
   "source": [
    "# random search 통하여 최적의 hyperparameter \n",
    "\n",
    "from scipy.stats import randint, uniform\n",
    "from sklearn.model_selection import RandomizedSearchCV\n",
    "from sklearn import svm\n",
    "import numpy as np\n",
    "\n",
    "param_grid = {\n",
    "    'C' : randint(1, 10), \n",
    "    'gamma' : uniform(0.1, 2.0)\n",
    "}\n",
    "\n",
    "svm = svm.SVC(kernel='linear')\n",
    "\n",
    "rs = RandomizedSearchCV(svm, param_grid, n_iter=50, n_jobs=-1) # core 전부 돌리기, epoch 50번\n",
    "rs.fit (X_train, y_train)\n",
    "\n",
    "print (\"best parameter : \", rs.best_params_)\n",
    "print (\"validation score : \", np.max(rs.cv_results_['mean_test_score'])) # 최상의 교차 검증 점수\n",
    "print (\"best model : \", rs.best_estimator_) \n",
    "\n",
    "svm = rs.best_estimator_\n",
    "\n",
    "print ('train score : ', svm.score(X_train, y_train))\n",
    "print ('test score : ', svm.score(X_test, y_test))"
   ]
  },
  {
   "cell_type": "code",
   "execution_count": 11,
   "id": "7a2ec01e",
   "metadata": {
    "ExecuteTime": {
     "end_time": "2024-07-27T09:46:07.315367Z",
     "start_time": "2024-07-27T09:46:07.110215Z"
    },
    "scrolled": false
   },
   "outputs": [
    {
     "data": {
      "image/png": "[encoded data removed]",
      "text/plain": [
       "<Figure size 640x480 with 2 Axes>"
      ]
     },
     "metadata": {},
     "output_type": "display_data"
    }
   ],
   "source": [
    "# confusion matrix와 visualization\n",
    "\n",
    "from sklearn.metrics import confusion_matrix\n",
    "import matplotlib.pyplot as plt\n",
    "import seaborn as sns\n",
    "\n",
    "y_pred = svm.predict(iris.data)\n",
    "\n",
    "cm = confusion_matrix(y_pred, iris.target)\n",
    "\n",
    "sns.heatmap(cm, annot=True, cmap='Blues')\n",
    "plt.xlabel('Predicted')\n",
    "plt.ylabel('True')\n",
    "plt.show()\n",
    "\n",
    "# 아래를 보면 굉장히 잘 classification된 것을 확인 가능하다."
   ]
  },
  {
   "cell_type": "markdown",
   "id": "8c5814fc",
   "metadata": {},
   "source": [
    "#### (2-2) DT (decision tree)\n",
    "\n",
    "<img src=\"https://blog.kakaocdn.net/dn/M8NvT/btqFNsczW7S/7L7TecOCcE9YlFIMBSwKJ0/img.png\" width=\"500px\">\n",
    "\n",
    "- 질문 (test)를 만들기 위한 학습을 진행하여, 각 class별로 효과적으로 분류하기 위한 모델이다.\n",
    "- DT의 순서\n",
    "    - (1) 이등분의 효과가 가장 큰 test (gini가 가장 높은 것)가 가장 먼저 배치됨 \n",
    "        - 보통은 root node에 있는 test에 사용된 feature가 feature_importance가 가장 높은 경향이 있음\n",
    "    - (2) test를 계속 만들어 가지치기를 하고, 최종적으로는 leaf node가 순수히 한 class만 남도록 학습 (value에서 확인 가능)\n",
    "- DT의 장점\n",
    "    - 시각적으로 매우 효과적으로 분류 이해 가능\n",
    "    - scaling을 굳이 하지 않아도 됨 (normalization)\n",
    "- DT의 단점\n",
    "    - DecisionTreeRegressor에서, 범위가 넘어간 값을 회귀로 예측 불가능 (오직 train set으로 학습한 범위 내에서만 예측이 가능하게 됨)\n",
    "   "
   ]
  },
  {
   "cell_type": "code",
   "execution_count": 26,
   "id": "d3d625f7",
   "metadata": {
    "ExecuteTime": {
     "end_time": "2024-07-27T10:18:48.098705Z",
     "start_time": "2024-07-27T10:18:48.073048Z"
    }
   },
   "outputs": [
    {
     "name": "stdout",
     "output_type": "stream",
     "text": [
      "<class 'pandas.core.frame.DataFrame'>\n",
      "RangeIndex: 52 entries, 0 to 51\n",
      "Data columns (total 6 columns):\n",
      " #   Column         Non-Null Count  Dtype  \n",
      "---  ------         --------------  -----  \n",
      " 0   salt_content   52 non-null     float64\n",
      " 1   sugar_content  52 non-null     float64\n",
      " 2   weight         52 non-null     int64  \n",
      " 3   sausage        52 non-null     int64  \n",
      " 4   ham            52 non-null     int64  \n",
      " 5   label          52 non-null     object \n",
      "dtypes: float64(2), int64(3), object(1)\n",
      "memory usage: 2.6+ KB\n"
     ]
    },
    {
     "data": {
      "text/html": [
       "<div>\n",
       "<style scoped>\n",
       "    .dataframe tbody tr th:only-of-type {\n",
       "        vertical-align: middle;\n",
       "    }\n",
       "\n",
       "    .dataframe tbody tr th {\n",
       "        vertical-align: top;\n",
       "    }\n",
       "\n",
       "    .dataframe thead th {\n",
       "        text-align: right;\n",
       "    }\n",
       "</style>\n",
       "<table border=\"1\" class=\"dataframe\">\n",
       "  <thead>\n",
       "    <tr style=\"text-align: right;\">\n",
       "      <th></th>\n",
       "      <th>salt_content</th>\n",
       "      <th>sugar_content</th>\n",
       "      <th>weight</th>\n",
       "      <th>sausage</th>\n",
       "      <th>ham</th>\n",
       "      <th>label</th>\n",
       "    </tr>\n",
       "  </thead>\n",
       "  <tbody>\n",
       "    <tr>\n",
       "      <th>0</th>\n",
       "      <td>4.5</td>\n",
       "      <td>2.0</td>\n",
       "      <td>700</td>\n",
       "      <td>12</td>\n",
       "      <td>15</td>\n",
       "      <td>의정부</td>\n",
       "    </tr>\n",
       "    <tr>\n",
       "      <th>1</th>\n",
       "      <td>5.0</td>\n",
       "      <td>2.5</td>\n",
       "      <td>750</td>\n",
       "      <td>14</td>\n",
       "      <td>18</td>\n",
       "      <td>송탄</td>\n",
       "    </tr>\n",
       "    <tr>\n",
       "      <th>2</th>\n",
       "      <td>4.0</td>\n",
       "      <td>1.8</td>\n",
       "      <td>680</td>\n",
       "      <td>10</td>\n",
       "      <td>12</td>\n",
       "      <td>의정부</td>\n",
       "    </tr>\n",
       "    <tr>\n",
       "      <th>3</th>\n",
       "      <td>5.2</td>\n",
       "      <td>2.1</td>\n",
       "      <td>720</td>\n",
       "      <td>15</td>\n",
       "      <td>20</td>\n",
       "      <td>송탄</td>\n",
       "    </tr>\n",
       "    <tr>\n",
       "      <th>4</th>\n",
       "      <td>4.8</td>\n",
       "      <td>2.3</td>\n",
       "      <td>730</td>\n",
       "      <td>13</td>\n",
       "      <td>16</td>\n",
       "      <td>의정부</td>\n",
       "    </tr>\n",
       "  </tbody>\n",
       "</table>\n",
       "</div>"
      ],
      "text/plain": [
       "   salt_content  sugar_content  weight  sausage  ham label\n",
       "0           4.5            2.0     700       12   15   의정부\n",
       "1           5.0            2.5     750       14   18    송탄\n",
       "2           4.0            1.8     680       10   12   의정부\n",
       "3           5.2            2.1     720       15   20    송탄\n",
       "4           4.8            2.3     730       13   16   의정부"
      ]
     },
     "execution_count": 26,
     "metadata": {},
     "output_type": "execute_result"
    }
   ],
   "source": [
    "# 실습은 내가 만든 데이터로 진행한다. chatGPT에게 부탁한 부대찌개 데이터이다.\n",
    "\n",
    "import pandas as pd\n",
    "\n",
    "feature = ['salt_content', 'sugar_content', 'weight', 'sausage', 'ham', 'label']\n",
    "\n",
    "data = [\n",
    "    [4.5, 2.0, 700, 12, 15, '의정부'],\n",
    "    [5.0, 2.5, 750, 14, 18, '송탄'],\n",
    "    [4.0, 1.8, 680, 10, 12, '의정부'],\n",
    "    [5.2, 2.1, 720, 15, 20, '송탄'],\n",
    "    [4.8, 2.3, 730, 13, 16, '의정부'],\n",
    "    [5.1, 2.7, 780, 16, 19, '송탄'],\n",
    "    [4.3, 1.9, 690, 11, 13, '의정부'],\n",
    "    [5.3, 2.4, 760, 14, 21, '송탄'],\n",
    "    [4.4, 2.0, 710, 12, 14, '의정부'],\n",
    "    [5.4, 2.8, 800, 17, 22, '송탄'],\n",
    "    [4.6, 2.2, 740, 13, 15, '의정부'],\n",
    "    [5.5, 2.6, 770, 15, 20, '송탄'],\n",
    "    [4.7, 1.7, 660, 10, 12, '의정부'],\n",
    "    [5.6, 2.3, 740, 14, 19, '송탄'],\n",
    "    [4.2, 1.8, 670, 11, 13, '의정부'],\n",
    "    [5.7, 2.9, 810, 18, 23, '송탄'],\n",
    "    [4.9, 2.1, 720, 12, 17, '의정부'],\n",
    "    [5.8, 2.5, 790, 16, 21, '송탄'],\n",
    "    [4.1, 1.6, 650, 9, 11, '의정부'],\n",
    "    [5.9, 2.4, 760, 14, 20, '송탄'],\n",
    "    [4.2, 2.0, 700, 12, 14, '의정부'],\n",
    "    [6.0, 2.8, 830, 19, 24, '송탄'],\n",
    "    [4.3, 1.5, 640, 9, 10, '의정부'],\n",
    "    [6.1, 2.6, 810, 15, 22, '송탄'],\n",
    "    [4.4, 1.9, 680, 11, 13, '의정부'],\n",
    "    [6.2, 2.7, 850, 17, 25, '송탄'],\n",
    "    [4.5, 2.2, 720, 13, 18, '의정부'],\n",
    "    [6.3, 2.9, 870, 18, 26, '송탄'],\n",
    "    [4.6, 2.3, 740, 14, 19, '의정부'],\n",
    "    [6.4, 3.0, 890, 19, 27, '송탄'],\n",
    "    [4.7, 1.8, 650, 10, 12, '의정부'],\n",
    "    [6.5, 2.5, 780, 15, 23, '송탄'],\n",
    "    [4.8, 2.4, 760, 14, 21, '의정부'],\n",
    "    [6.6, 3.1, 910, 20, 28, '송탄'],\n",
    "    [4.9, 2.1, 730, 13, 20, '의정부'],\n",
    "    [6.7, 2.9, 900, 19, 26, '송탄'],\n",
    "    [5.0, 1.5, 640, 9, 11, '의정부'],\n",
    "    [6.8, 3.2, 930, 21, 29, '송탄'],\n",
    "    [5.1, 2.3, 740, 14, 22, '의정부'],\n",
    "    [6.9, 2.8, 920, 20, 27, '송탄'],\n",
    "    [5.2, 2.4, 750, 15, 23, '의정부'],\n",
    "    [7.0, 3.3, 950, 22, 30, '송탄'],\n",
    "    [5.3, 2.6, 760, 16, 24, '의정부'],\n",
    "    [7.1, 3.4, 970, 23, 31, '송탄'],\n",
    "    [5.4, 2.5, 770, 17, 25, '의정부'],\n",
    "    [7.2, 3.5, 990, 24, 32, '송탄'],\n",
    "    [5.5, 2.8, 780, 18, 26, '의정부'],\n",
    "    [7.3, 3.6, 1010, 25, 33, '송탄'],\n",
    "    [5.6, 3.0, 790, 19, 27, '의정부'],\n",
    "    [7.4, 3.7, 1030, 26, 34, '송탄'],\n",
    "    [5.7, 2.9, 800, 20, 28, '의정부'],\n",
    "    [7.5, 3.8, 1050, 27, 35, '송탄'],\n",
    "]\n",
    "\n",
    "df = pd.DataFrame(data, columns=feature)\n",
    "df.info()\n",
    "df.head()"
   ]
  },
  {
   "cell_type": "code",
   "execution_count": 16,
   "id": "5c87535b",
   "metadata": {
    "ExecuteTime": {
     "end_time": "2024-07-27T10:11:33.496978Z",
     "start_time": "2024-07-27T10:11:33.492228Z"
    }
   },
   "outputs": [],
   "source": [
    "# data split\n",
    "\n",
    "boodaejjigae_input = df[['salt_content', 'sugar_content', 'weight', 'sausage', 'ham']].to_numpy()\n",
    "boodaejjigae_target = df['label'].to_numpy()\n",
    "\n",
    "X_train, X_test, y_train, y_test = train_test_split(boodaejjigae_input, boodaejjigae_target,\n",
    "                                                   test_size=0.2)"
   ]
  },
  {
   "cell_type": "code",
   "execution_count": 29,
   "id": "cc577abe",
   "metadata": {
    "ExecuteTime": {
     "end_time": "2024-07-27T10:19:24.656010Z",
     "start_time": "2024-07-27T10:19:24.649491Z"
    }
   },
   "outputs": [
    {
     "name": "stdout",
     "output_type": "stream",
     "text": [
      "train score :  0.9512195121951219\n",
      "test score :  0.9090909090909091\n",
      "feature importance :  [0.76839897 0.         0.         0.         0.23160103]\n"
     ]
    }
   ],
   "source": [
    "# max_depth를 3로 지정하여 학습 진행 및 점수\n",
    "\n",
    "from sklearn.tree import DecisionTreeClassifier\n",
    "\n",
    "dt = DecisionTreeClassifier(max_depth=3)\n",
    "dt.fit (X_train, y_train)\n",
    "\n",
    "print ('train score : ', dt.score(X_train, y_train))\n",
    "print ('test score : ', dt.score(X_test, y_test))\n",
    "print ('feature importance : ', dt.feature_importances_)"
   ]
  },
  {
   "cell_type": "code",
   "execution_count": 30,
   "id": "a14518e2",
   "metadata": {
    "ExecuteTime": {
     "end_time": "2024-07-27T10:19:26.912254Z",
     "start_time": "2024-07-27T10:19:26.672930Z"
    }
   },
   "outputs": [
    {
     "name": "stdout",
     "output_type": "stream",
     "text": [
      "[[25  2]\n",
      " [ 1 24]]\n"
     ]
    },
    {
     "data": {
      "text/plain": [
       "[Text(0.4, 0.875, 'salt_content <= 4.95\\ngini = 0.485\\nsamples = 41\\nvalue = [17, 24]\\nclass = songtan'),\n",
       " Text(0.2, 0.625, 'gini = 0.0\\nsamples = 17\\nvalue = [0, 17]\\nclass = songtan'),\n",
       " Text(0.6, 0.625, 'salt_content <= 5.85\\ngini = 0.413\\nsamples = 24\\nvalue = [17, 7]\\nclass = eujoengbu'),\n",
       " Text(0.4, 0.375, 'ham <= 22.5\\ngini = 0.5\\nsamples = 14\\nvalue = [7, 7]\\nclass = eujoengbu'),\n",
       " Text(0.2, 0.125, 'gini = 0.346\\nsamples = 9\\nvalue = [7, 2]\\nclass = eujoengbu'),\n",
       " Text(0.6, 0.125, 'gini = 0.0\\nsamples = 5\\nvalue = [0, 5]\\nclass = songtan'),\n",
       " Text(0.8, 0.375, 'gini = 0.0\\nsamples = 10\\nvalue = [10, 0]\\nclass = eujoengbu')]"
      ]
     },
     "execution_count": 30,
     "metadata": {},
     "output_type": "execute_result"
    },
    {
     "data": {
      "image/png": "[encoded data removed]",
      "text/plain": [
       "<Figure size 640x480 with 1 Axes>"
      ]
     },
     "metadata": {},
     "output_type": "display_data"
    }
   ],
   "source": [
    "# confusion matrix 및 tree 시각화\n",
    "\n",
    "from sklearn import tree\n",
    "\n",
    "y_pred = dt.predict(boodaejjigae_input)\n",
    "cm = confusion_matrix(y_pred, boodaejjigae_target)\n",
    "print (cm)\n",
    "\n",
    "tree.plot_tree(dt, feature_names=['salt_content', 'sugar_content', 'weight', 'sausage', 'ham'], \n",
    "               class_names=['eujoengbu', 'songtan'], filled=True)"
   ]
  },
  {
   "cell_type": "markdown",
   "id": "6c6e8222",
   "metadata": {},
   "source": [
    "(3) \n",
    "- back progation에서 역전파 시 기울기 소실이 발생 (미분이 계속 진행되다가 0이 됨) \n",
    "- 최근 사실을 까먹음 (short term loss) -> LSTM 탄생 (long & short term) -> GPU 사용 (속도를 계산한 것 : GRU)\n",
    "\n",
    "(4) \n",
    "- heatmap 그릴 시에 label에 대한 상관관계가 제일 중요, 따라서 모든 attribute에 대한 상관관계를 시각화할 것\n",
    "    - 왜냐면, label에 상관관계가 높은 feature들만 selection하여 모델의 score을 높일 수도 있기 때문\n",
    "- 가장 중요한 건 label의 도수가 일정한 지를 확인하기 위한 bar plot\n",
    "- feature를 과다 사용하면 overfitting이 일어날 수 있기 때문에 score가 낮을 시에는 feature selection이 필요"
   ]
  }
 ],
 "metadata": {
  "kernelspec": {
   "display_name": "Python 3 (ipykernel)",
   "language": "python",
   "name": "python3"
  },
  "language_info": {
   "codemirror_mode": {
    "name": "ipython",
    "version": 3
   },
   "file_extension": ".py",
   "mimetype": "text/x-python",
   "name": "python",
   "nbconvert_exporter": "python",
   "pygments_lexer": "ipython3",
   "version": "3.11.6"
  }
 },
 "nbformat": 4,
 "nbformat_minor": 5
}
