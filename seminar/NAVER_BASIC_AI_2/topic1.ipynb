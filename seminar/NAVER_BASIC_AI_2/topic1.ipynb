{
 "cells": [
  {
   "cell_type": "markdown",
   "id": "a549fff8",
   "metadata": {},
   "source": [
    "- `[부스트캠프 AI Tech 프리코스] 인공지능 기초 다지기 (2)`를 듣고 실습코드 작성한 주피터 노트북임\n",
    "    - 이 강의를 듣는 목적 \n",
    "        - 1년 동안 AI 책도 많이 읽고 강좌도 많이 들었으니, 내가 정확하게 얼마나 알고 있는지 테스트하는 용도\n",
    "    - 이 강의를 그러면 언제까지 끝낼거냐\n",
    "        - 7월 3주차까지 + 빅분개 복습과 같이 진행 (그 이후엔 파이토치 교과서 정독으로 넘어갈거임. 이번 방학의 목표는 기본 다지기 + 자격증 많이)\n",
    "- `[부스트캠프 AI Tech 프리코스] 인공지능 기초 다지기 (2)`에서 배우는 것 \n",
    "    - 선형대수학 기초 : 벡터, 행렬, 미분\n",
    "    - 딥러닝 논문 읽기에 도움이 될 수학 기초\n",
    "        - 딥러닝 학습 방법 (back propagation)\n",
    "        - 확률론\n",
    "        - 통계학\n",
    "        - 베이즈 통계학\n",
    "    - CNN 원리\n",
    "    - RNN 원리 \n",
    "    - Pytorch 기초\n",
    "    - Pytorch 구조 및 활용법\n",
    "    - CNN, RNN, Transformer, GAN using Pytorch \n",
    "    \n",
    "\n",
    "-----\n",
    "\n",
    "### seminar - BASIC-AI-2 : vector and matrix, gradient descent"
   ]
  },
  {
   "cell_type": "code",
   "execution_count": 31,
   "id": "11e4b9db",
   "metadata": {
    "ExecuteTime": {
     "end_time": "2025-07-06T06:31:39.752301Z",
     "start_time": "2025-07-06T06:31:39.749660Z"
    }
   },
   "outputs": [],
   "source": [
    "import numpy as np"
   ]
  },
  {
   "cell_type": "code",
   "execution_count": 32,
   "id": "fa21ecb6",
   "metadata": {
    "ExecuteTime": {
     "end_time": "2025-07-06T06:31:39.759422Z",
     "start_time": "2025-07-06T06:31:39.755152Z"
    }
   },
   "outputs": [
    {
     "name": "stdout",
     "output_type": "stream",
     "text": [
      "[ 3 -1  7]\n",
      "[-1  5 -1]\n",
      "[ 2 -6 12]\n",
      "[2 4 6]\n"
     ]
    }
   ],
   "source": [
    "x = np.array([1, 2, 3]) \n",
    "y = np.array([2, -3 ,4]) # 행벡터 선언\n",
    "\n",
    "print (x + y) # element끼리의 덧셈\n",
    "print (x - y) # element끼리의 뺄셈\n",
    "print (x * y) # element끼리의 곱셈\n",
    "print (2 * x) # 실수배"
   ]
  },
  {
   "cell_type": "code",
   "execution_count": 33,
   "id": "dd1d2ad5",
   "metadata": {
    "ExecuteTime": {
     "end_time": "2025-07-06T06:31:39.766733Z",
     "start_time": "2025-07-06T06:31:39.761211Z"
    }
   },
   "outputs": [
    {
     "name": "stdout",
     "output_type": "stream",
     "text": [
      "[ 2 -3  4]\n",
      "abs :  [2 3 4]\n",
      "sum :  3\n",
      "3\n",
      "[ 2 -3  4]\n",
      "square :  [ 4  9 16]\n",
      "sum :  29\n",
      "sqrt :  5.385164807134504\n",
      "5.385164807134504\n",
      "5.385164807134504\n"
     ]
    }
   ],
   "source": [
    "# l1 norm : 절댓값을 이용한 원점과의 거리\n",
    "# l2 norm : 제곱값을 이용한 원점과의 거리\n",
    "# regularizaton할 때 사용\n",
    "\n",
    "def l1_norm(x) :\n",
    "    print (x)\n",
    "    x_norm = np.abs(x)\n",
    "    print (\"abs : \", x_norm)\n",
    "    x_norm = np.sum(x) \n",
    "    print (\"sum : \", x_norm)\n",
    "    return x_norm\n",
    "\n",
    "def l2_norm(x) : \n",
    "    print (x)\n",
    "    x_norm = x * x\n",
    "    print (\"square : \", x_norm)\n",
    "    x_norm = np.sum(x_norm) \n",
    "    print (\"sum : \", x_norm)\n",
    "    x_norm = np.sqrt(x_norm)\n",
    "    print (\"sqrt : \", x_norm)\n",
    "    return x_norm\n",
    "\n",
    "print (l1_norm(y))\n",
    "print (l2_norm(y))\n",
    "print (np.linalg.norm(y)) # l2_norm 함수랑 똑같은 역할 함"
   ]
  },
  {
   "cell_type": "code",
   "execution_count": 34,
   "id": "34dbbf10",
   "metadata": {
    "ExecuteTime": {
     "end_time": "2025-07-06T06:31:39.776487Z",
     "start_time": "2025-07-06T06:31:39.770379Z"
    }
   },
   "outputs": [
    {
     "name": "stdout",
     "output_type": "stream",
     "text": [
      "[[1 2 3]\n",
      " [4 1 6]\n",
      " [7 8 1]]\n"
     ]
    },
    {
     "data": {
      "text/plain": [
       "(3, 3)"
      ]
     },
     "execution_count": 34,
     "metadata": {},
     "output_type": "execute_result"
    }
   ],
   "source": [
    "x = np.array([[1, 2, 3], \n",
    "              [4, 1, 6],\n",
    "              [7, 8, 1]])\n",
    "y = np.array([[1, 1, 1], \n",
    "             [-1, -1, -1], \n",
    "             [-1, 1, 0]])\n",
    "print (x) # 행렬 : 행벡터의 집합\n",
    "x.shape"
   ]
  },
  {
   "cell_type": "code",
   "execution_count": 35,
   "id": "8d11253b",
   "metadata": {
    "ExecuteTime": {
     "end_time": "2025-07-06T06:31:39.783831Z",
     "start_time": "2025-07-06T06:31:39.778837Z"
    }
   },
   "outputs": [
    {
     "name": "stdout",
     "output_type": "stream",
     "text": [
      "[[2 3 4]\n",
      " [3 0 5]\n",
      " [6 9 1]]\n",
      "[[0 1 2]\n",
      " [5 2 7]\n",
      " [8 7 1]]\n",
      "[[ 1  2  3]\n",
      " [-4 -1 -6]\n",
      " [-7  8  0]]\n",
      "[[ 2  4  6]\n",
      " [ 8  2 12]\n",
      " [14 16  2]]\n"
     ]
    }
   ],
   "source": [
    "print (x + y)\n",
    "print (x - y)\n",
    "print (x * y) # element-wise multiplication\n",
    "print (2 * x)"
   ]
  },
  {
   "cell_type": "code",
   "execution_count": 36,
   "id": "b03537d1",
   "metadata": {
    "ExecuteTime": {
     "end_time": "2025-07-06T06:31:39.790890Z",
     "start_time": "2025-07-06T06:31:39.786493Z"
    }
   },
   "outputs": [
    {
     "data": {
      "text/plain": [
       "array([[-4,  2, -1],\n",
       "       [-3,  9,  3],\n",
       "       [-2,  0, -1]])"
      ]
     },
     "execution_count": 36,
     "metadata": {},
     "output_type": "execute_result"
    }
   ],
   "source": [
    "x @ y # 행렬의 곱셈 수행"
   ]
  },
  {
   "cell_type": "code",
   "execution_count": 37,
   "id": "bcbadb63",
   "metadata": {
    "ExecuteTime": {
     "end_time": "2025-07-06T06:31:39.798848Z",
     "start_time": "2025-07-06T06:31:39.793557Z"
    }
   },
   "outputs": [
    {
     "name": "stdout",
     "output_type": "stream",
     "text": [
      "[[-4.  2. -1.]\n",
      " [-3.  9.  3.]\n",
      " [-2.  0. -1.]]\n"
     ]
    }
   ],
   "source": [
    "def mat_mul(x, y):\n",
    "    if x.shape[1] != y.shape[0]:\n",
    "        print(\"not equal shape for matrix multiplication\")\n",
    "        return None\n",
    "    \n",
    "    rst = np.zeros((x.shape[0], y.shape[1]))\n",
    "    \n",
    "    for i in range(x.shape[0]):\n",
    "        for j in range(y.shape[1]):\n",
    "            sum = 0\n",
    "            for k in range(x.shape[1]):  \n",
    "                sum += x[i][k] * y[k][j]\n",
    "            rst[i][j] = sum\n",
    "            \n",
    "    return rst\n",
    "\n",
    "print(mat_mul(x, y))\n"
   ]
  },
  {
   "cell_type": "code",
   "execution_count": 38,
   "id": "eab9c612",
   "metadata": {
    "ExecuteTime": {
     "end_time": "2025-07-06T06:31:39.804599Z",
     "start_time": "2025-07-06T06:31:39.800721Z"
    }
   },
   "outputs": [
    {
     "data": {
      "text/plain": [
       "array([[  6,  -6,   1],\n",
       "       [ 11, -11,  -3],\n",
       "       [ 16, -16,   1]])"
      ]
     },
     "execution_count": 38,
     "metadata": {},
     "output_type": "execute_result"
    }
   ],
   "source": [
    "np.inner(x, y) # 행렬의 내적"
   ]
  },
  {
   "cell_type": "code",
   "execution_count": 39,
   "id": "e11969f5",
   "metadata": {
    "ExecuteTime": {
     "end_time": "2025-07-06T06:31:39.815285Z",
     "start_time": "2025-07-06T06:31:39.810158Z"
    }
   },
   "outputs": [
    {
     "name": "stdout",
     "output_type": "stream",
     "text": [
      "[[-0.45192308  0.21153846  0.08653846]\n",
      " [ 0.36538462 -0.19230769  0.05769231]\n",
      " [ 0.24038462  0.05769231 -0.06730769]]\n",
      "[[ 1.00000000e+00 -1.38777878e-17  1.38777878e-17]\n",
      " [-1.11022302e-16  1.00000000e+00 -2.77555756e-17]\n",
      " [ 3.88578059e-16 -1.38777878e-17  1.00000000e+00]]\n"
     ]
    }
   ],
   "source": [
    "x_inversed = np.linalg.inv(x)\n",
    "print (x_inversed)\n",
    "print (x @ x_inversed) # <-- 단위행렬 I로 됨 (컴퓨터는 정확한 수치가 아니니 0과 가까운 숫자로)"
   ]
  },
  {
   "cell_type": "code",
   "execution_count": 40,
   "id": "020c869f",
   "metadata": {
    "ExecuteTime": {
     "end_time": "2025-07-06T06:34:38.811124Z",
     "start_time": "2025-07-06T06:34:38.754953Z"
    }
   },
   "outputs": [
    {
     "name": "stdout",
     "output_type": "stream",
     "text": [
      "2*x + 2\n"
     ]
    }
   ],
   "source": [
    "# 다항함수의 미분\n",
    "\n",
    "import sympy as sym\n",
    "from sympy.abc import x # x 변수 가져오기\n",
    "\n",
    "poly = x**2+2*x+1\n",
    "print (sym.diff(poly, x))"
   ]
  },
  {
   "cell_type": "code",
   "execution_count": 43,
   "id": "74e06476",
   "metadata": {
    "ExecuteTime": {
     "end_time": "2025-07-06T06:49:30.571574Z",
     "start_time": "2025-07-06T06:49:30.562905Z"
    }
   },
   "outputs": [
    {
     "name": "stdout",
     "output_type": "stream",
     "text": [
      "2*x+2\n"
     ]
    }
   ],
   "source": [
    "def poly_deri(poly):\n",
    "    operand = []\n",
    "    sign = []\n",
    "\n",
    "    st = ''\n",
    "    for i in range(len(poly)):\n",
    "        if poly[i] in ['+', '-']:\n",
    "            if st != '':\n",
    "                operand.append(st)\n",
    "                st = ''\n",
    "            sign.append(poly[i])\n",
    "        else:\n",
    "            st += poly[i]\n",
    "    if st != '':\n",
    "        operand.append(st)\n",
    "\n",
    "    if len(sign) < len(operand):\n",
    "        sign = ['+'] + sign\n",
    "\n",
    "    new_operands = []\n",
    "\n",
    "    for i in range(len(operand)):\n",
    "        term = operand[i]\n",
    "\n",
    "        if 'x**' in term:\n",
    "            coef_part, power_part = term.split('x**')\n",
    "            if coef_part in ['', '+']:\n",
    "                coef = 1\n",
    "            elif coef_part == '-':\n",
    "                coef = -1\n",
    "            else:\n",
    "                coef = int(coef_part.replace('*', ''))\n",
    "\n",
    "            power = int(power_part)\n",
    "            new_coef = coef * power\n",
    "            new_power = power - 1\n",
    "\n",
    "            if new_power == 1:\n",
    "                new_term = f'{new_coef}*x'\n",
    "            elif new_power == 0:\n",
    "                new_term = f'{new_coef}'\n",
    "            else:\n",
    "                new_term = f'{new_coef}*x**{new_power}'\n",
    "\n",
    "            new_operands.append(new_term)\n",
    "\n",
    "        elif 'x' in term:\n",
    "            coef_part = term.replace('x', '').replace('*', '')\n",
    "            if coef_part in ['', '+']:\n",
    "                coef = 1\n",
    "            elif coef_part == '-':\n",
    "                coef = -1\n",
    "            else:\n",
    "                coef = int(coef_part)\n",
    "            new_term = f'{coef}'\n",
    "            new_operands.append(new_term)\n",
    "\n",
    "        else:\n",
    "            new_operands.append('0')\n",
    "\n",
    "    result = ''\n",
    "    for s, t in zip(sign, new_operands):\n",
    "        if t == '0':\n",
    "            continue\n",
    "        if result == '' and s == '+':\n",
    "            result += t\n",
    "        else:\n",
    "            result += s + t\n",
    "\n",
    "    return result\n",
    "\n",
    "poly = 'x**2+2*x+1'\n",
    "print(poly_deri(poly))"
   ]
  },
  {
   "cell_type": "code",
   "execution_count": null,
   "id": "6856ceb2",
   "metadata": {},
   "outputs": [],
   "source": [
    "# 경사하강법 구현 (global minima 찾기 when function's shape must be convex)\n",
    "\n",
    "if"
   ]
  },
  {
   "cell_type": "code",
   "execution_count": null,
   "id": "2fa28b89",
   "metadata": {},
   "outputs": [],
   "source": []
  }
 ],
 "metadata": {
  "kernelspec": {
   "display_name": "Python 3 (ipykernel)",
   "language": "python",
   "name": "python3"
  },
  "language_info": {
   "codemirror_mode": {
    "name": "ipython",
    "version": 3
   },
   "file_extension": ".py",
   "mimetype": "text/x-python",
   "name": "python",
   "nbconvert_exporter": "python",
   "pygments_lexer": "ipython3",
   "version": "3.11.3"
  },
  "varInspector": {
   "cols": {
    "lenName": 16,
    "lenType": 16,
    "lenVar": 40
   },
   "kernels_config": {
    "python": {
     "delete_cmd_postfix": "",
     "delete_cmd_prefix": "del ",
     "library": "var_list.py",
     "varRefreshCmd": "print(var_dic_list())"
    },
    "r": {
     "delete_cmd_postfix": ") ",
     "delete_cmd_prefix": "rm(",
     "library": "var_list.r",
     "varRefreshCmd": "cat(var_dic_list()) "
    }
   },
   "types_to_exclude": [
    "module",
    "function",
    "builtin_function_or_method",
    "instance",
    "_Feature"
   ],
   "window_display": false
  }
 },
 "nbformat": 4,
 "nbformat_minor": 5
}
