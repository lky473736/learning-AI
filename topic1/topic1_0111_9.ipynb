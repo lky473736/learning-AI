{
 "cells": [
  {
   "cell_type": "markdown",
   "id": "4112e39e-65b1-4aab-8e6f-80c9d2471e02",
   "metadata": {},
   "source": [
    "## learning-AI101 : topic1_9\n",
    "\n",
    "topic1_8에서는 데이터를 단 2개만 가지고 예측 모델을 구성하였으나 보통은 데이터가 무수한 상황에서 머신러닝을 진행하기 때문에 "
   ]
  },
  {
   "cell_type": "code",
   "execution_count": 6,
   "id": "84fdc2f3-4f0c-4910-be1b-9866a899f94e",
   "metadata": {},
   "outputs": [
    {
     "name": "stdout",
     "output_type": "stream",
     "text": [
      "1.5217190086841583\n",
      "1.6217190623283386\n"
     ]
    }
   ],
   "source": [
    "# 그냥 야매로 리스트로 평균 내서 구해보자\n",
    "\n",
    "import tensorflow as tf\n",
    "\n",
    "dt_height = [170, 180, 175, 160] # 샘플데이터 키\n",
    "dt_shoes_size = [260, 270, 265, 255] # 샘플데이터 키에 맞는 신발사이즈\n",
    "\n",
    "list_a = []\n",
    "list_b = []\n",
    "\n",
    "for index in range (4) :\n",
    "    a = tf.Variable(0.1) \n",
    "    b = tf.Variable(0.2)\n",
    "\n",
    "    compo_height = dt_height[index]\n",
    "    compo_shoes_size = dt_shoes_size[index]\n",
    "\n",
    "    def loss_function() : \n",
    "        guess = (compo_height * a + b)\n",
    "        return (compo_shoes_size - guess) ** 2\n",
    "    \n",
    "    opt = tf.keras.optimizers.Adam(learning_rate = 0.1) \n",
    "    \n",
    "    for i in range (100) : \n",
    "        opt.minimize(loss_function, var_list = [a, b])\n",
    "\n",
    "    list_a.append (a.numpy())\n",
    "    list_b.append (b.numpy())\n",
    "\n",
    "print(sum(list_a) / len(list_a))\n",
    "print(sum(list_b) / len(list_b))"
   ]
  },
  {
   "cell_type": "markdown",
   "id": "3fea3da7-fa05-4082-92d2-cef02d45a2fb",
   "metadata": {},
   "source": [
    "-----------"
   ]
  },
  {
   "cell_type": "code",
   "execution_count": 15,
   "id": "0d282c24-4ba2-4b09-b192-37c3b81ce242",
   "metadata": {},
   "outputs": [
    {
     "name": "stdout",
     "output_type": "stream",
     "text": [
      "1.9998558\n",
      "1.0006917\n"
     ]
    }
   ],
   "source": [
    "import tensorflow as tf\n",
    "import random\n",
    "\n",
    "train_x = [1, 2, 3, 4, 5, 6, 7]\n",
    "train_y = [3, 5, 7, 9, 11, 13, 15]\n",
    "# a가 2, b가 1이여야 정상적인 머신러닝이 된거임\n",
    "\n",
    "a = tf.Variable(0.1) # randomize\n",
    "b = tf.Variable(0.1)\n",
    "\n",
    "# 예측_y = train_x * a + b\n",
    "def loss_function() : # 평균 제곱 오차 사용\n",
    "    suma = 0\n",
    "    \n",
    "    for i in range (len(train_x)) : \n",
    "        guess = (train_x[i] * a + b)\n",
    "        suma += (train_y[i] - guess)**2\n",
    "        \n",
    "    return suma / len(train_x) # 정수가 아닌 실수로\n",
    "\n",
    "opt = tf.keras.optimizers.Adam(learning_rate = 0.1) # learning_rate는 결과가 잘 나올때까지 수정이 필요 (hyper-parameter)\n",
    "    \n",
    "for i in range (500) : \n",
    "    opt.minimize(loss_function, var_list = [a, b])\n",
    "\n",
    "print (a.numpy())\n",
    "print (b.numpy())"
   ]
  },
  {
   "cell_type": "code",
   "execution_count": 20,
   "id": "6fc85d7f-d5b6-4475-9060-7ed71a3467ff",
   "metadata": {},
   "outputs": [
    {
     "name": "stdout",
     "output_type": "stream",
     "text": [
      "1.9999994\n",
      "1.0000025\n"
     ]
    }
   ],
   "source": [
    "import tensorflow as tf\n",
    "import random\n",
    "\n",
    "train_x = [1, 2, 3, 4, 5, 6, 7]\n",
    "train_y = [3, 5, 7, 9, 11, 13, 15]\n",
    "# a가 2, b가 1이여야 정상적인 머신러닝이 된거임\n",
    "\n",
    "a = tf.Variable(0.1) # randomize\n",
    "b = tf.Variable(0.1)\n",
    "\n",
    "# 예측_y = train_x * a + b\n",
    "def loss_function() : # 평균 제곱 오차 사용\n",
    "    '''suma = 0\n",
    "    \n",
    "    for i in range (len(train_x)) : \n",
    "        guess = (train_x[i] * a + b)\n",
    "        suma += (train_y[i] - guess)**2\n",
    "        \n",
    "    return suma / len(train_x) # 정수가 아닌 실수로'''\n",
    "\n",
    "    # 평균 제곱 오차 명령문 사용 : tf.keras.losses.mse(실제값, 예측값)\n",
    "    guess = (train_x * a + b)\n",
    "    return tf.keras.losses.mse(train_y, guess)\n",
    "\n",
    "opt = tf.keras.optimizers.Adam(learning_rate = 0.1) # learning_rate는 결과가 잘 나올때까지 수정이 필요 (hyper-parameter)\n",
    "    \n",
    "for i in range (1000) : \n",
    "    opt.minimize(loss_function, var_list = [a, b])\n",
    "\n",
    "print (a.numpy())\n",
    "print (b.numpy())"
   ]
  }
 ],
 "metadata": {
  "kernelspec": {
   "display_name": "Python 3 (ipykernel)",
   "language": "python",
   "name": "python3"
  },
  "language_info": {
   "codemirror_mode": {
    "name": "ipython",
    "version": 3
   },
   "file_extension": ".py",
   "mimetype": "text/x-python",
   "name": "python",
   "nbconvert_exporter": "python",
   "pygments_lexer": "ipython3",
   "version": "3.11.6"
  }
 },
 "nbformat": 4,
 "nbformat_minor": 5
}
