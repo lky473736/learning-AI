{
 "cells": [
  {
   "cell_type": "markdown",
   "id": "f164a5eb-e4c1-4089-b432-0266137f58f4",
   "metadata": {},
   "source": [
    "## learning-AI101 : topic1_2\n",
    "\n"
   ]
  },
  {
   "cell_type": "code",
   "execution_count": 2,
   "id": "62eb5350-7993-4d45-8794-f11a80fe4609",
   "metadata": {},
   "outputs": [
    {
     "name": "stdout",
     "output_type": "stream",
     "text": [
      "hello, tensorflow\n"
     ]
    }
   ],
   "source": [
    "import os\n",
    "import tensorflow as tf\n",
    "\n",
    "os.environ['TF_CPP_MIN_LOG_LEVEL'] = '3'\n",
    "\n",
    "print ('hello, tensorflow')"
   ]
  },
  {
   "cell_type": "markdown",
   "id": "47d11f24-bfc8-426b-9209-9bccabda0fb7",
   "metadata": {},
   "source": [
    "### 머신러닝\n",
    "머신러닝 : bias와 weight를 찾게 하는 작업  \n",
    "\n",
    "**기본적인 퍼셉트론의 구조 (이차전지와 인공지능)**  \n",
    "node-weight-bias == weighted sum을 만듦  \n",
    "-> weighted sum이 매개변수 역할을 하여 activation function의 input으로 사용  \n",
    "-> function activated된 결괏값을 다음 node에 전달  \n",
    "\n",
    "**neural network의 구조**\n",
    "- input layer : 입력층 / 입력 데이터 받음 (인공지능의 특성에 맞게끔)\n",
    "  ex) 물리기반 인공지능 : x, y, z, t (좌푯값과 시각)\n",
    "- hidden layer : 은닉층 / 은닉층의 갯수 == 신경망의 복잡도\n",
    "- output layer : 출력층\n",
    "\n",
    "**머신러닝 종류** \n",
    "- supervised (지도) : 데이터에 label을 알려줌 (예측 모델)\n",
    "- unsupervised (비지도) : 데이터에 label 안알려줌 (clustering, 분류 모델)\n",
    "- reinforcement (강화) : 상과 벌을 줌 (GPT가 대표적인 예시. user depandant reinforcement way)\n",
    "\n",
    "Q. 결국 머신러닝은 bias와 weight를 찾으면 되는데 기준이 어딨음?  \n",
    "A. **데이터 주입**, 오차 구하고 (이게 loss function임), 오차를 최소화하는 방향으로 w를 수정하면 됨 (그게 역전파 알고리즘)  "
   ]
  }
 ],
 "metadata": {
  "kernelspec": {
   "display_name": "Python 3 (ipykernel)",
   "language": "python",
   "name": "python3"
  },
  "language_info": {
   "codemirror_mode": {
    "name": "ipython",
    "version": 3
   },
   "file_extension": ".py",
   "mimetype": "text/x-python",
   "name": "python",
   "nbconvert_exporter": "python",
   "pygments_lexer": "ipython3",
   "version": "3.11.6"
  }
 },
 "nbformat": 4,
 "nbformat_minor": 5
}
