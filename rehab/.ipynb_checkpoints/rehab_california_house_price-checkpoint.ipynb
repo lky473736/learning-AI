{
 "cells": [
  {
   "cell_type": "markdown",
   "id": "366d687a",
   "metadata": {},
   "source": [
    "## learning-AI101 : rehab\n",
    "### 캘리포니아 주택 시세 데이터를 ML, FCNN을 이용한 regression 수행\n",
    "\n",
    "<br>\n",
    "\n",
    "- **임규연 (lky473736)**\n",
    "- 2025.07.29.에 문서 작성\n",
    "- **kaggle** : https://www.kaggle.com/datasets/camnugent/california-housing-prices\n",
    "- **data abstract** : This is the dataset used in the second chapter of Aurélien Géron's recent book 'Hands-On Machine learning with Scikit-Learn and TensorFlow'. It serves as an excellent introduction to implementing machine learning algorithms because it requires rudimentary data cleaning, has an easily understandable list of variables and sits at an optimal size between being to toyish and too cumbersome. The data contains information from the 1990 California census. So although it may not help you with predicting current housing prices like the Zillow Zestimate dataset, it does provide an accessible introductory dataset for teaching people about the basics of machine learning.\n",
    "\n",
    "------"
   ]
  },
  {
   "cell_type": "markdown",
   "id": "16afabb6",
   "metadata": {},
   "source": [
    "## <span id='dl'><mark>DL</mark></span>\n",
    "\n",
    "deep learning으로 California housing price 데이터셋에서 regression을 수행한다. 목차는 아래와 같다.\n",
    "\n",
    "- **1. 간단한 데이터 분석 및 데이터 전처리**\n",
    "- **2. 모델을 적용하여 regression**\n",
    "    - KNN, LR, DT, RF, SVM, XGB, Catboost, lightgbm\n",
    "    - FCNN"
   ]
  },
  {
   "cell_type": "code",
   "execution_count": 1,
   "id": "49d6d017",
   "metadata": {
    "ExecuteTime": {
     "end_time": "2025-07-29T06:32:04.963221Z",
     "start_time": "2025-07-29T06:31:47.501815Z"
    },
    "scrolled": true
   },
   "outputs": [],
   "source": [
    "# 라이브러리 import\n",
    "\n",
    "import numpy as np\n",
    "import pandas as pd\n",
    "import seaborn as sns\n",
    "import torch\n",
    "from torch import nn, optim\n",
    "from torchinfo import summary\n",
    "import matplotlib.pyplot as plt\n",
    "import seaborn as sns\n",
    "import sklearn\n",
    "from sklearn.model_selection import train_test_split\n",
    "from sklearn.preprocessing import StandardScaler, LabelEncoder"
   ]
  },
  {
   "cell_type": "markdown",
   "id": "906ab52a",
   "metadata": {},
   "source": [
    "-----"
   ]
  },
  {
   "cell_type": "markdown",
   "id": "f02227e6",
   "metadata": {},
   "source": [
    "### 1. 데이터 분석, 시각화 및 전처리\n",
    "- 데이터 로드 및 필요한 정보, 기초통계량을 get한다.\n",
    "- 결측치 제거, outlier 제거 등의 데이터 전처리를 수행한다.\n",
    "- cell 순서는 아래와 같다.\n",
    "    - (1) 데이터 읽기 및 head 파악, dataframe에 대한 전처리\n",
    "    - (2) 데이터 info (결측치 파악), 데이터 크기\n",
    "    - (3) 데이터 기초통계량 확인\n",
    "    - (4) heatmap \n",
    "    - (5) feature, input data split\n",
    "    - (6) train set, test set, validation set split \n",
    "    - (7) scaling (z-score normalization)\n",
    "    - (8) DS, DL"
   ]
  },
  {
   "cell_type": "code",
   "execution_count": 2,
   "id": "6ae0c735",
   "metadata": {
    "ExecuteTime": {
     "end_time": "2025-07-29T06:32:05.015715Z",
     "start_time": "2025-07-29T06:32:04.965180Z"
    }
   },
   "outputs": [
    {
     "name": "stdout",
     "output_type": "stream",
     "text": [
      "Index(['Unnamed: 0', 'MedInc', 'HouseAge', 'AveRooms', 'AveBedrms',\n",
      "       'Population', 'AveOccup', 'Latitude', 'Longitude', 'PRICE'],\n",
      "      dtype='object')\n"
     ]
    },
    {
     "data": {
      "text/html": [
       "<div>\n",
       "<style scoped>\n",
       "    .dataframe tbody tr th:only-of-type {\n",
       "        vertical-align: middle;\n",
       "    }\n",
       "\n",
       "    .dataframe tbody tr th {\n",
       "        vertical-align: top;\n",
       "    }\n",
       "\n",
       "    .dataframe thead th {\n",
       "        text-align: right;\n",
       "    }\n",
       "</style>\n",
       "<table border=\"1\" class=\"dataframe\">\n",
       "  <thead>\n",
       "    <tr style=\"text-align: right;\">\n",
       "      <th></th>\n",
       "      <th>MedInc</th>\n",
       "      <th>HouseAge</th>\n",
       "      <th>AveRooms</th>\n",
       "      <th>AveBedrms</th>\n",
       "      <th>Population</th>\n",
       "      <th>AveOccup</th>\n",
       "      <th>Latitude</th>\n",
       "      <th>Longitude</th>\n",
       "      <th>PRICE</th>\n",
       "    </tr>\n",
       "  </thead>\n",
       "  <tbody>\n",
       "    <tr>\n",
       "      <th>0</th>\n",
       "      <td>8.3252</td>\n",
       "      <td>41.0</td>\n",
       "      <td>6.984127</td>\n",
       "      <td>1.023810</td>\n",
       "      <td>322.0</td>\n",
       "      <td>2.555556</td>\n",
       "      <td>37.88</td>\n",
       "      <td>-122.23</td>\n",
       "      <td>4.526</td>\n",
       "    </tr>\n",
       "    <tr>\n",
       "      <th>1</th>\n",
       "      <td>8.3014</td>\n",
       "      <td>21.0</td>\n",
       "      <td>6.238137</td>\n",
       "      <td>0.971880</td>\n",
       "      <td>2401.0</td>\n",
       "      <td>2.109842</td>\n",
       "      <td>37.86</td>\n",
       "      <td>-122.22</td>\n",
       "      <td>3.585</td>\n",
       "    </tr>\n",
       "    <tr>\n",
       "      <th>2</th>\n",
       "      <td>7.2574</td>\n",
       "      <td>52.0</td>\n",
       "      <td>8.288136</td>\n",
       "      <td>1.073446</td>\n",
       "      <td>496.0</td>\n",
       "      <td>2.802260</td>\n",
       "      <td>37.85</td>\n",
       "      <td>-122.24</td>\n",
       "      <td>3.521</td>\n",
       "    </tr>\n",
       "    <tr>\n",
       "      <th>3</th>\n",
       "      <td>5.6431</td>\n",
       "      <td>52.0</td>\n",
       "      <td>5.817352</td>\n",
       "      <td>1.073059</td>\n",
       "      <td>558.0</td>\n",
       "      <td>2.547945</td>\n",
       "      <td>37.85</td>\n",
       "      <td>-122.25</td>\n",
       "      <td>3.413</td>\n",
       "    </tr>\n",
       "    <tr>\n",
       "      <th>4</th>\n",
       "      <td>3.8462</td>\n",
       "      <td>52.0</td>\n",
       "      <td>6.281853</td>\n",
       "      <td>1.081081</td>\n",
       "      <td>565.0</td>\n",
       "      <td>2.181467</td>\n",
       "      <td>37.85</td>\n",
       "      <td>-122.25</td>\n",
       "      <td>3.422</td>\n",
       "    </tr>\n",
       "  </tbody>\n",
       "</table>\n",
       "</div>"
      ],
      "text/plain": [
       "   MedInc  HouseAge  AveRooms  AveBedrms  Population  AveOccup  Latitude  \\\n",
       "0  8.3252      41.0  6.984127   1.023810       322.0  2.555556     37.88   \n",
       "1  8.3014      21.0  6.238137   0.971880      2401.0  2.109842     37.86   \n",
       "2  7.2574      52.0  8.288136   1.073446       496.0  2.802260     37.85   \n",
       "3  5.6431      52.0  5.817352   1.073059       558.0  2.547945     37.85   \n",
       "4  3.8462      52.0  6.281853   1.081081       565.0  2.181467     37.85   \n",
       "\n",
       "   Longitude  PRICE  \n",
       "0    -122.23  4.526  \n",
       "1    -122.22  3.585  \n",
       "2    -122.24  3.521  \n",
       "3    -122.25  3.413  \n",
       "4    -122.25  3.422  "
      ]
     },
     "execution_count": 2,
     "metadata": {},
     "output_type": "execute_result"
    }
   ],
   "source": [
    "# (1) 데이터 읽기 및 head 파악 및 dataframe에 대한 전처리\n",
    "\n",
    "df = pd.read_csv ('../data/california_house_prices.csv')\n",
    "print (df.columns)\n",
    "\n",
    "df = df.drop('Unnamed: 0', axis=1)\n",
    "df.head()"
   ]
  },
  {
   "cell_type": "code",
   "execution_count": 3,
   "id": "d0ca6541",
   "metadata": {
    "ExecuteTime": {
     "end_time": "2025-07-29T06:32:05.025990Z",
     "start_time": "2025-07-29T06:32:05.017564Z"
    }
   },
   "outputs": [
    {
     "name": "stdout",
     "output_type": "stream",
     "text": [
      "shape :  (20640, 9)\n",
      "<class 'pandas.core.frame.DataFrame'>\n",
      "RangeIndex: 20640 entries, 0 to 20639\n",
      "Data columns (total 9 columns):\n",
      " #   Column      Non-Null Count  Dtype  \n",
      "---  ------      --------------  -----  \n",
      " 0   MedInc      20640 non-null  float64\n",
      " 1   HouseAge    20640 non-null  float64\n",
      " 2   AveRooms    20640 non-null  float64\n",
      " 3   AveBedrms   20640 non-null  float64\n",
      " 4   Population  20640 non-null  float64\n",
      " 5   AveOccup    20640 non-null  float64\n",
      " 6   Latitude    20640 non-null  float64\n",
      " 7   Longitude   20640 non-null  float64\n",
      " 8   PRICE       20640 non-null  float64\n",
      "dtypes: float64(9)\n",
      "memory usage: 1.4 MB\n"
     ]
    }
   ],
   "source": [
    "# (2) data info, data shape\n",
    "\n",
    "print (\"shape : \", df.shape)\n",
    "df.info()"
   ]
  },
  {
   "cell_type": "code",
   "execution_count": 4,
   "id": "a6fd59aa",
   "metadata": {
    "ExecuteTime": {
     "end_time": "2025-07-29T06:32:05.065188Z",
     "start_time": "2025-07-29T06:32:05.028845Z"
    }
   },
   "outputs": [
    {
     "data": {
      "text/html": [
       "<div>\n",
       "<style scoped>\n",
       "    .dataframe tbody tr th:only-of-type {\n",
       "        vertical-align: middle;\n",
       "    }\n",
       "\n",
       "    .dataframe tbody tr th {\n",
       "        vertical-align: top;\n",
       "    }\n",
       "\n",
       "    .dataframe thead th {\n",
       "        text-align: right;\n",
       "    }\n",
       "</style>\n",
       "<table border=\"1\" class=\"dataframe\">\n",
       "  <thead>\n",
       "    <tr style=\"text-align: right;\">\n",
       "      <th></th>\n",
       "      <th>MedInc</th>\n",
       "      <th>HouseAge</th>\n",
       "      <th>AveRooms</th>\n",
       "      <th>AveBedrms</th>\n",
       "      <th>Population</th>\n",
       "      <th>AveOccup</th>\n",
       "      <th>Latitude</th>\n",
       "      <th>Longitude</th>\n",
       "      <th>PRICE</th>\n",
       "    </tr>\n",
       "  </thead>\n",
       "  <tbody>\n",
       "    <tr>\n",
       "      <th>count</th>\n",
       "      <td>20640.000000</td>\n",
       "      <td>20640.000000</td>\n",
       "      <td>20640.000000</td>\n",
       "      <td>20640.000000</td>\n",
       "      <td>20640.000000</td>\n",
       "      <td>20640.000000</td>\n",
       "      <td>20640.000000</td>\n",
       "      <td>20640.000000</td>\n",
       "      <td>20640.000000</td>\n",
       "    </tr>\n",
       "    <tr>\n",
       "      <th>mean</th>\n",
       "      <td>3.870671</td>\n",
       "      <td>28.639486</td>\n",
       "      <td>5.429000</td>\n",
       "      <td>1.096675</td>\n",
       "      <td>1425.476744</td>\n",
       "      <td>3.070655</td>\n",
       "      <td>35.631861</td>\n",
       "      <td>-119.569704</td>\n",
       "      <td>2.068558</td>\n",
       "    </tr>\n",
       "    <tr>\n",
       "      <th>std</th>\n",
       "      <td>1.899822</td>\n",
       "      <td>12.585558</td>\n",
       "      <td>2.474173</td>\n",
       "      <td>0.473911</td>\n",
       "      <td>1132.462122</td>\n",
       "      <td>10.386050</td>\n",
       "      <td>2.135952</td>\n",
       "      <td>2.003532</td>\n",
       "      <td>1.153956</td>\n",
       "    </tr>\n",
       "    <tr>\n",
       "      <th>min</th>\n",
       "      <td>0.499900</td>\n",
       "      <td>1.000000</td>\n",
       "      <td>0.846154</td>\n",
       "      <td>0.333333</td>\n",
       "      <td>3.000000</td>\n",
       "      <td>0.692308</td>\n",
       "      <td>32.540000</td>\n",
       "      <td>-124.350000</td>\n",
       "      <td>0.149990</td>\n",
       "    </tr>\n",
       "    <tr>\n",
       "      <th>25%</th>\n",
       "      <td>2.563400</td>\n",
       "      <td>18.000000</td>\n",
       "      <td>4.440716</td>\n",
       "      <td>1.006079</td>\n",
       "      <td>787.000000</td>\n",
       "      <td>2.429741</td>\n",
       "      <td>33.930000</td>\n",
       "      <td>-121.800000</td>\n",
       "      <td>1.196000</td>\n",
       "    </tr>\n",
       "    <tr>\n",
       "      <th>50%</th>\n",
       "      <td>3.534800</td>\n",
       "      <td>29.000000</td>\n",
       "      <td>5.229129</td>\n",
       "      <td>1.048780</td>\n",
       "      <td>1166.000000</td>\n",
       "      <td>2.818116</td>\n",
       "      <td>34.260000</td>\n",
       "      <td>-118.490000</td>\n",
       "      <td>1.797000</td>\n",
       "    </tr>\n",
       "    <tr>\n",
       "      <th>75%</th>\n",
       "      <td>4.743250</td>\n",
       "      <td>37.000000</td>\n",
       "      <td>6.052381</td>\n",
       "      <td>1.099526</td>\n",
       "      <td>1725.000000</td>\n",
       "      <td>3.282261</td>\n",
       "      <td>37.710000</td>\n",
       "      <td>-118.010000</td>\n",
       "      <td>2.647250</td>\n",
       "    </tr>\n",
       "    <tr>\n",
       "      <th>max</th>\n",
       "      <td>15.000100</td>\n",
       "      <td>52.000000</td>\n",
       "      <td>141.909091</td>\n",
       "      <td>34.066667</td>\n",
       "      <td>35682.000000</td>\n",
       "      <td>1243.333333</td>\n",
       "      <td>41.950000</td>\n",
       "      <td>-114.310000</td>\n",
       "      <td>5.000010</td>\n",
       "    </tr>\n",
       "  </tbody>\n",
       "</table>\n",
       "</div>"
      ],
      "text/plain": [
       "             MedInc      HouseAge      AveRooms     AveBedrms    Population  \\\n",
       "count  20640.000000  20640.000000  20640.000000  20640.000000  20640.000000   \n",
       "mean       3.870671     28.639486      5.429000      1.096675   1425.476744   \n",
       "std        1.899822     12.585558      2.474173      0.473911   1132.462122   \n",
       "min        0.499900      1.000000      0.846154      0.333333      3.000000   \n",
       "25%        2.563400     18.000000      4.440716      1.006079    787.000000   \n",
       "50%        3.534800     29.000000      5.229129      1.048780   1166.000000   \n",
       "75%        4.743250     37.000000      6.052381      1.099526   1725.000000   \n",
       "max       15.000100     52.000000    141.909091     34.066667  35682.000000   \n",
       "\n",
       "           AveOccup      Latitude     Longitude         PRICE  \n",
       "count  20640.000000  20640.000000  20640.000000  20640.000000  \n",
       "mean       3.070655     35.631861   -119.569704      2.068558  \n",
       "std       10.386050      2.135952      2.003532      1.153956  \n",
       "min        0.692308     32.540000   -124.350000      0.149990  \n",
       "25%        2.429741     33.930000   -121.800000      1.196000  \n",
       "50%        2.818116     34.260000   -118.490000      1.797000  \n",
       "75%        3.282261     37.710000   -118.010000      2.647250  \n",
       "max     1243.333333     41.950000   -114.310000      5.000010  "
      ]
     },
     "execution_count": 4,
     "metadata": {},
     "output_type": "execute_result"
    }
   ],
   "source": [
    "# (3) 데이터 기초통계량 확인\n",
    "\n",
    "df.describe()"
   ]
  },
  {
   "cell_type": "code",
   "execution_count": 5,
   "id": "710b9f9a",
   "metadata": {
    "ExecuteTime": {
     "end_time": "2025-07-29T06:32:05.514037Z",
     "start_time": "2025-07-29T06:32:05.067285Z"
    }
   },
   "outputs": [
    {
     "data": {
      "image/png": "[encoded data removed]",
      "text/plain": [
       "<Figure size 1000x800 with 2 Axes>"
      ]
     },
     "metadata": {},
     "output_type": "display_data"
    }
   ],
   "source": [
    "# (4) heatmap\n",
    "\n",
    "correlation_matrix = df.corr() \n",
    "plt.figure(figsize=(10, 8)) \n",
    "sns.heatmap(correlation_matrix, annot=True, cmap='RdBu', square=True,\n",
    "            linewidths=1, linecolor='black', cbar_kws={\"shrink\": 0.8})\n",
    "\n",
    "plt.title('Correlation Heatmap of California house price Dataset', fontsize=16)\n",
    "plt.show()"
   ]
  },
  {
   "cell_type": "code",
   "execution_count": 6,
   "id": "e983457b",
   "metadata": {
    "ExecuteTime": {
     "end_time": "2025-07-29T06:32:05.524031Z",
     "start_time": "2025-07-29T06:32:05.516196Z"
    }
   },
   "outputs": [
    {
     "data": {
      "text/plain": [
       "((20640, 8), (20640,))"
      ]
     },
     "execution_count": 6,
     "metadata": {},
     "output_type": "execute_result"
    }
   ],
   "source": [
    "# (5) feature, input data split\n",
    "\n",
    "california_input = df[['MedInc', 'HouseAge', 'AveRooms', 'AveBedrms',\n",
    "       'Population', 'AveOccup', 'Latitude', 'Longitude']].to_numpy()\n",
    "california_target = df['PRICE'].to_numpy()\n",
    "\n",
    "california_input.shape, california_target.shape"
   ]
  },
  {
   "cell_type": "code",
   "execution_count": 7,
   "id": "ab0ad27e",
   "metadata": {
    "ExecuteTime": {
     "end_time": "2025-07-29T06:32:05.532051Z",
     "start_time": "2025-07-29T06:32:05.526132Z"
    }
   },
   "outputs": [],
   "source": [
    "# (6) train set, test set, validation set split\n",
    "\n",
    "X_train, X_test, y_train, y_test = train_test_split(california_input, california_target,\n",
    "                                                   test_size=0.2)\n",
    "\n",
    "X_train, X_val, y_train, y_val = train_test_split(X_train, y_train,\n",
    "                                                 test_size=0.2)"
   ]
  },
  {
   "cell_type": "code",
   "execution_count": 8,
   "id": "78828d44",
   "metadata": {
    "ExecuteTime": {
     "end_time": "2025-07-29T06:32:05.541256Z",
     "start_time": "2025-07-29T06:32:05.533770Z"
    }
   },
   "outputs": [],
   "source": [
    "# (7) scaling (z-score normalization)\n",
    "\n",
    "z_score_transformer = StandardScaler()\n",
    "X_train_scaled = z_score_transformer.fit_transform(X_train)\n",
    "X_test_scaled = z_score_transformer.transform(X_test)\n",
    "X_val_scaled = z_score_transformer.transform(X_val)"
   ]
  },
  {
   "cell_type": "code",
   "execution_count": 9,
   "id": "0fd9365a",
   "metadata": {
    "ExecuteTime": {
     "end_time": "2025-07-29T06:32:05.553051Z",
     "start_time": "2025-07-29T06:32:05.543435Z"
    }
   },
   "outputs": [
    {
     "name": "stdout",
     "output_type": "stream",
     "text": [
      "(13209, 8)\n"
     ]
    }
   ],
   "source": [
    "# (8) DS and DL\n",
    "\n",
    "# totorch and DataLoader\n",
    "\n",
    "from torch.utils.data import Dataset, DataLoader\n",
    "\n",
    "print (X_train_scaled.shape)\n",
    "\n",
    "class cailfornia(Dataset):\n",
    "    def __init__(self, X, y, transform=None):\n",
    "        self.X = torch.tensor(X, dtype=torch.float32)\n",
    "        self.y = torch.tensor(y, dtype=torch.long)\n",
    "        self.transform = transform\n",
    "\n",
    "    def __len__(self):\n",
    "        return len(self.X)\n",
    "\n",
    "    def __getitem__(self, idx):\n",
    "        x = self.X[idx]\n",
    "        y = self.y[idx]\n",
    "        \n",
    "        if self.transform:\n",
    "            x = self.transform(x)\n",
    "        \n",
    "        return x, y\n",
    "    \n",
    "train_DL = DataLoader(cailfornia(X_train_scaled, y_train), \n",
    "                     shuffle=True,\n",
    "                     batch_size=64)\n",
    "\n",
    "val_DL = DataLoader(cailfornia(X_val_scaled, y_val), \n",
    "                     shuffle=False,\n",
    "                     batch_size=64)\n",
    "\n",
    "test_DL = DataLoader(cailfornia(X_test_scaled,  y_test), \n",
    "                     shuffle=False,\n",
    "                     batch_size=64)"
   ]
  },
  {
   "cell_type": "markdown",
   "id": "0f010a84",
   "metadata": {},
   "source": [
    "-------\n",
    "\n",
    "### 2. 모델을 적용하여 regression\n",
    "\n",
    "#### 2-1. ML\n",
    "- KNN, LR, DT, RF, SVM, XGB, Catboost, lightGBM"
   ]
  },
  {
   "cell_type": "code",
   "execution_count": 10,
   "id": "4326285c",
   "metadata": {
    "ExecuteTime": {
     "end_time": "2025-07-29T06:32:08.387515Z",
     "start_time": "2025-07-29T06:32:05.558970Z"
    }
   },
   "outputs": [],
   "source": [
    "# 각각의 model을 딕셔너리 형태로 정의\n",
    "\n",
    "from sklearn.linear_model import LinearRegression\n",
    "from sklearn.neighbors import KNeighborsRegressor\n",
    "from sklearn.tree import DecisionTreeRegressor\n",
    "from sklearn.ensemble import RandomForestRegressor\n",
    "from sklearn.svm import SVR\n",
    "from xgboost import XGBRegressor\n",
    "from catboost import CatBoostRegressor\n",
    "from lightgbm import LGBMRegressor\n",
    "\n",
    "regression_models = {\n",
    "    'Linear Regression': LinearRegression(),\n",
    "    'K-Nearest Neighbors': KNeighborsRegressor(n_neighbors=10),\n",
    "    'Decision Tree': DecisionTreeRegressor(random_state=42),\n",
    "    'Random Forest': RandomForestRegressor(n_estimators=100, random_state=42), \n",
    "    'Support Vector Regression': SVR(kernel='poly'),\n",
    "    'XGBoost': XGBRegressor(random_state=42, verbosity=0),\n",
    "    'CatBoost': CatBoostRegressor(random_state=42, verbose=False),\n",
    "    'LightGBM': LGBMRegressor(random_state=42, verbosity=-1)\n",
    "}"
   ]
  },
  {
   "cell_type": "code",
   "execution_count": null,
   "id": "2c14edb8",
   "metadata": {
    "ExecuteTime": {
     "start_time": "2025-07-29T06:31:47.516Z"
    }
   },
   "outputs": [
    {
     "name": "stdout",
     "output_type": "stream",
     "text": [
      "Training Linear Regression...\n",
      "Linear Regression - MSE: 0.4855, R2: 0.6212\n",
      "Training K-Nearest Neighbors...\n",
      "K-Nearest Neighbors - MSE: 0.3961, R2: 0.6910\n",
      "Training Decision Tree...\n",
      "Decision Tree - MSE: 0.5151, R2: 0.5982\n",
      "Training Random Forest...\n",
      "Random Forest - MSE: 0.2499, R2: 0.8051\n",
      "Training Support Vector Regression...\n"
     ]
    }
   ],
   "source": [
    "# train\n",
    "\n",
    "from sklearn.metrics import mean_squared_error, r2_score\n",
    "\n",
    "results = {}\n",
    "    \n",
    "for name, model in regression_models.items():\n",
    "    print(f\"Training {name}...\")\n",
    "\n",
    "    model.fit(X_train_scaled, y_train)\n",
    "    y_pred = model.predict(X_test_scaled)\n",
    "\n",
    "    mse = mean_squared_error(y_test, y_pred)\n",
    "    r2 = r2_score(y_test, y_pred)\n",
    "\n",
    "    results[name] = {\n",
    "        'MSE': mse,\n",
    "        'R2': r2\n",
    "    }\n",
    "\n",
    "    print(f\"{name} - MSE: {mse:.4f}, R2: {r2:.4f}\")\n",
    "\n",
    "sorted_results = sorted(results.items(), key=lambda x: x[1]['R2'], reverse=True)\n",
    "\n",
    "for name, metrics in sorted_results:\n",
    "    print(f\"{name}: R2={metrics['R2']:.4f}, MSE={metrics['MSE']:.4f}\")"
   ]
  },
  {
   "cell_type": "markdown",
   "id": "42dd3412",
   "metadata": {},
   "source": [
    "\n",
    "#### 2-2. DNN \n",
    "- hidden layer을 충분히 구성하여 신경망을 struction할 것임\n",
    "    - parameter는 최소한 15000개 이상으로 증폭, 각 node의 activation은 relu 사용\n",
    "    - epoch는 100으로 고정\n",
    "- 아래와 같이 experiment할 예정이다.\n",
    "    - optimizer는 **적응형 학습율 optimizer인 adam을 사용한다.**\n",
    "    - validation loss 감소를 위하여 **dropout 층을 추가 후, callback으로 early stopping을 도입**한다.\n",
    "        - patiences는 5로 한다."
   ]
  },
  {
   "cell_type": "code",
   "execution_count": null,
   "id": "9d0eb8f8",
   "metadata": {
    "ExecuteTime": {
     "start_time": "2025-07-29T06:25:43.278Z"
    }
   },
   "outputs": [],
   "source": [
    "# modelling DNN\n",
    "\n",
    "class FCNN (nn.Module) : \n",
    "    def __init__ (self) : \n",
    "        self.FCNN = nn.Sequential (\n",
    "            nn.Linear(7, 16),\n",
    "            nn.BatchNorm1d(16),\n",
    "            nn.ReLU(),\n",
    "            nn.Dropout(0.1),\n",
    "            \n",
    "            nn.Linear(7, 16),\n",
    "            nn.BatchNorm1d(16),\n",
    "            nn.ReLU(),\n",
    "            nn.Dropout(0.1),\n",
    "            \n",
    "            nn.Linear(7, 16),\n",
    "            nn.BatchNorm1d(16),\n",
    "            nn.ReLU(),\n",
    "            nn.Dropout(0.1),\n",
    "            \n",
    "            nn.Linear(7, 16),\n",
    "            nn.BatchNorm1d(16),\n",
    "            nn.ReLU(),\n",
    "            nn.Dropout(0.1),\n",
    "            \n",
    "            nn.Linear(16)\n",
    "        )"
   ]
  },
  {
   "cell_type": "code",
   "execution_count": null,
   "id": "b1e4e5ea",
   "metadata": {
    "ExecuteTime": {
     "start_time": "2025-07-29T06:25:43.279Z"
    }
   },
   "outputs": [],
   "source": [
    "# compile\n",
    "\n"
   ]
  },
  {
   "cell_type": "code",
   "execution_count": null,
   "id": "5dd4791d",
   "metadata": {
    "ExecuteTime": {
     "start_time": "2025-07-29T06:25:43.280Z"
    }
   },
   "outputs": [],
   "source": [
    "# callback 설정 및 fit\n",
    "\n"
   ]
  },
  {
   "cell_type": "code",
   "execution_count": null,
   "id": "a97d0360",
   "metadata": {
    "ExecuteTime": {
     "start_time": "2025-07-29T06:25:43.282Z"
    }
   },
   "outputs": [],
   "source": [
    "# loss, acc 시각화\n",
    "\n"
   ]
  },
  {
   "cell_type": "code",
   "execution_count": null,
   "id": "61c98a77",
   "metadata": {
    "ExecuteTime": {
     "start_time": "2025-07-29T06:25:43.283Z"
    }
   },
   "outputs": [],
   "source": [
    "# evaluate\n",
    "\n"
   ]
  }
 ],
 "metadata": {
  "kernelspec": {
   "display_name": "Python 3 (ipykernel)",
   "language": "python",
   "name": "python3"
  },
  "language_info": {
   "codemirror_mode": {
    "name": "ipython",
    "version": 3
   },
   "file_extension": ".py",
   "mimetype": "text/x-python",
   "name": "python",
   "nbconvert_exporter": "python",
   "pygments_lexer": "ipython3",
   "version": "3.11.3"
  },
  "toc": {
   "base_numbering": 1,
   "nav_menu": {},
   "number_sections": false,
   "sideBar": true,
   "skip_h1_title": false,
   "title_cell": "Table of Contents",
   "title_sidebar": "Contents",
   "toc_cell": false,
   "toc_position": {},
   "toc_section_display": true,
   "toc_window_display": false
  },
  "varInspector": {
   "cols": {
    "lenName": 16,
    "lenType": 16,
    "lenVar": 40
   },
   "kernels_config": {
    "python": {
     "delete_cmd_postfix": "",
     "delete_cmd_prefix": "del ",
     "library": "var_list.py",
     "varRefreshCmd": "print(var_dic_list())"
    },
    "r": {
     "delete_cmd_postfix": ") ",
     "delete_cmd_prefix": "rm(",
     "library": "var_list.r",
     "varRefreshCmd": "cat(var_dic_list()) "
    }
   },
   "types_to_exclude": [
    "module",
    "function",
    "builtin_function_or_method",
    "instance",
    "_Feature"
   ],
   "window_display": false
  }
 },
 "nbformat": 4,
 "nbformat_minor": 5
}
