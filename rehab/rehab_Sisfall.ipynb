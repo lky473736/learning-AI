{
 "cells": [
  {
   "cell_type": "markdown",
   "id": "107b53a8",
   "metadata": {},
   "source": [
    "## learning-AI : rehab\n",
    "### Sisfall dataset을 autoencoder를 이용하여 anomaly detection\n",
    "\n",
    "<br>\n",
    "\n",
    "- **임규연 (lky473736)**\n",
    "- 2025.07.29.에 문서 작성\n",
    "\n",
    "------\n",
    "\n",
    "\n",
    "## <span id='dl'><mark>DL</mark></span>\n",
    "    \n",
    "**SisFall 데이터에서 ADL를 사용하고, FALL 활동을 비정상 데이터로 설정**한다. 두 가지 활동을 섞어서 데이터를 구성한 후, **ADL만 가지고 autoencoder을 학습한다**. 이후, 혼합된 테스트 데이터(ADL+FALL)를 AE에 입력하여 **reconstruction error**(입력과 출력의 차이)를 계산한다. 적절한 임계값(threshold)을 설정하여 분류를 수행한 뒤, 모델의 정확도(accuracy)를 평가한다.\n",
    "\n",
    "- **Reference**\n",
    "    - https://github.com/AarnoStormborn/anomaly-detection-with-autoencoder/blob/main/anomaly-detection-with-autoencoders.ipynb\n",
    "    - https://github.com/MyungKyuYi/AI-class\n",
    "    - https://hoya012.github.io/blog/anomaly-detection-overview-1/\n",
    "    - https://github.com/KerasKorea/KEKOxTutorial/blob/master/20_Keras%EC%9D%98%20Autoencoder%EB%A5%BC%20%ED%99%9C%EC%9A%A9%ED%95%B4%20%EC%8B%A0%EC%9A%A9%EC%B9%B4%EB%93%9C%20%EC%9D%B4%EC%83%81%20%EA%B1%B0%EB%9E%98%20%ED%83%90%EC%A7%80%ED%95%98%EA%B8%B0.md"
   ]
  },
  {
   "cell_type": "code",
   "execution_count": 120,
   "id": "519c8c6c",
   "metadata": {
    "ExecuteTime": {
     "end_time": "2025-07-29T08:36:57.593278Z",
     "start_time": "2025-07-29T08:36:57.590270Z"
    }
   },
   "outputs": [],
   "source": [
    "import pandas as pd\n",
    "import numpy as np\n",
    "import scipy\n",
    "import torch\n",
    "from torch import nn, optim\n",
    "from torchinfo import summary\n",
    "import seaborn as sns\n",
    "import matplotlib.pyplot as plt"
   ]
  },
  {
   "cell_type": "markdown",
   "id": "be47f06f",
   "metadata": {},
   "source": [
    "-----\n",
    "\n",
    "### anomaly detection의 정의와 autoencoder를 통한 anomaly detection\n",
    "\n",
    "<img src=\"data:image/png;base64,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\" width=\"300px\">\n",
    "\n",
    "anomaly detection은 예상된 동작을 따르지 않는 데이터를 식별하는 기계 학습 기술이다. 금융, 사이버 보안, 의료 등 다양한 분야에 적용되며, 주성분 분석(PCA), K-Nearest Neighbors, Isolation Forest, Ensemble 방법 등이 사용된다. 위 figure에서 유독 값이 높은 저 point가 바로 fraud (anomaly point)이며, 저걸 감지 후 처리하여 모델의 일반화 성능을 끌어올리는 것이 요즘에는 매우 중요한 과제가 되겠다. 그 이유는, 특정 data가 어떤 기준에 포함이 되는가, 포함이 되지 않는가를 논하는 상황은 어느 곳에서나 발생될 수 있다. 예를 들자면 CCTV를 이용한 수상인물 감지, 범인 색출 등 처럼 말이다.\n",
    "\n",
    "그러면 도대체 autoencoder로 어떻게 anomaly detection을 할 수 있는가? autoencoder는 정상적이고 비변칙적인 데이터 세트로 훈련한 다음, 학습된 패턴과 일치하지 않는 새 데이터의 변칙을 식별하는 데 사용될 수 있을 것이다. 이상 현상은 종종 드문 사건이고 훈련 데이터에서 잘 표현되지 않을 수 있으므로 이상 탐지 모델을 평가하는 것은 어려울 것이다. autoencoder를 이용하여 **정상적인 정보를 encoder를 통해 압축시키게 하면서 학습시키고, 이를 이상 탐지 실전에 적용하는 것이다.** 정상적인 정보를 위해 autoencoder가 작동하였을 때, 만약 이상한 정보가 입력되었을 경우엔 이것이 **변칙 사항**으로 인식될 것이다.\n",
    "\n",
    "-----"
   ]
  },
  {
   "cell_type": "markdown",
   "id": "6803a185",
   "metadata": {},
   "source": [
    "\n",
    "### 1. 탐색적 데이터 분석 및 데이터 전처리 수행\n",
    "- 데이터 시각화 및 필요한 정보를 얻어낸다.\n",
    "- 결측치 제거, outlier 제거 등의 데이터 전처리를 수행한다."
   ]
  },
  {
   "cell_type": "code",
   "execution_count": 121,
   "id": "0b86f3a0",
   "metadata": {
    "ExecuteTime": {
     "end_time": "2025-07-29T08:36:59.135792Z",
     "start_time": "2025-07-29T08:36:57.595896Z"
    }
   },
   "outputs": [
    {
     "data": {
      "text/html": [
       "<div>\n",
       "<style scoped>\n",
       "    .dataframe tbody tr th:only-of-type {\n",
       "        vertical-align: middle;\n",
       "    }\n",
       "\n",
       "    .dataframe tbody tr th {\n",
       "        vertical-align: top;\n",
       "    }\n",
       "\n",
       "    .dataframe thead th {\n",
       "        text-align: right;\n",
       "    }\n",
       "</style>\n",
       "<table border=\"1\" class=\"dataframe\">\n",
       "  <thead>\n",
       "    <tr style=\"text-align: right;\">\n",
       "      <th></th>\n",
       "      <th>ADX_x_acc</th>\n",
       "      <th>ADX_y_acc</th>\n",
       "      <th>ADX_z_acc</th>\n",
       "      <th>ITG_x_rot</th>\n",
       "      <th>ITG_y_rot</th>\n",
       "      <th>ITG_z_rot</th>\n",
       "      <th>MMA_x_acc</th>\n",
       "      <th>MMA_y_acc</th>\n",
       "      <th>MMA_z_acc</th>\n",
       "      <th>activity</th>\n",
       "    </tr>\n",
       "  </thead>\n",
       "  <tbody>\n",
       "    <tr>\n",
       "      <th>0</th>\n",
       "      <td>17</td>\n",
       "      <td>-179</td>\n",
       "      <td>-99</td>\n",
       "      <td>-18</td>\n",
       "      <td>-504</td>\n",
       "      <td>-352</td>\n",
       "      <td>76</td>\n",
       "      <td>-697</td>\n",
       "      <td>-279</td>\n",
       "      <td>D01</td>\n",
       "    </tr>\n",
       "    <tr>\n",
       "      <th>1</th>\n",
       "      <td>15</td>\n",
       "      <td>-174</td>\n",
       "      <td>-90</td>\n",
       "      <td>-53</td>\n",
       "      <td>-568</td>\n",
       "      <td>-306</td>\n",
       "      <td>48</td>\n",
       "      <td>-675</td>\n",
       "      <td>-254</td>\n",
       "      <td>D01</td>\n",
       "    </tr>\n",
       "    <tr>\n",
       "      <th>2</th>\n",
       "      <td>1</td>\n",
       "      <td>-176</td>\n",
       "      <td>-81</td>\n",
       "      <td>-84</td>\n",
       "      <td>-613</td>\n",
       "      <td>-271</td>\n",
       "      <td>-2</td>\n",
       "      <td>-668</td>\n",
       "      <td>-221</td>\n",
       "      <td>D01</td>\n",
       "    </tr>\n",
       "    <tr>\n",
       "      <th>3</th>\n",
       "      <td>-10</td>\n",
       "      <td>-180</td>\n",
       "      <td>-77</td>\n",
       "      <td>-104</td>\n",
       "      <td>-647</td>\n",
       "      <td>-227</td>\n",
       "      <td>-34</td>\n",
       "      <td>-697</td>\n",
       "      <td>-175</td>\n",
       "      <td>D01</td>\n",
       "    </tr>\n",
       "    <tr>\n",
       "      <th>4</th>\n",
       "      <td>-21</td>\n",
       "      <td>-191</td>\n",
       "      <td>-63</td>\n",
       "      <td>-128</td>\n",
       "      <td>-675</td>\n",
       "      <td>-191</td>\n",
       "      <td>-74</td>\n",
       "      <td>-741</td>\n",
       "      <td>-133</td>\n",
       "      <td>D01</td>\n",
       "    </tr>\n",
       "  </tbody>\n",
       "</table>\n",
       "</div>"
      ],
      "text/plain": [
       "   ADX_x_acc  ADX_y_acc  ADX_z_acc  ITG_x_rot  ITG_y_rot  ITG_z_rot  \\\n",
       "0         17       -179        -99        -18       -504       -352   \n",
       "1         15       -174        -90        -53       -568       -306   \n",
       "2          1       -176        -81        -84       -613       -271   \n",
       "3        -10       -180        -77       -104       -647       -227   \n",
       "4        -21       -191        -63       -128       -675       -191   \n",
       "\n",
       "   MMA_x_acc  MMA_y_acc  MMA_z_acc activity  \n",
       "0         76       -697       -279      D01  \n",
       "1         48       -675       -254      D01  \n",
       "2         -2       -668       -221      D01  \n",
       "3        -34       -697       -175      D01  \n",
       "4        -74       -741       -133      D01  "
      ]
     },
     "execution_count": 121,
     "metadata": {},
     "output_type": "execute_result"
    }
   ],
   "source": [
    "# 데이터 로드\n",
    "\n",
    "df = pd.read_csv('../../CAGE/data/sisfall_sample.csv')\n",
    "# df = pd.read_csv('../dataset/ae_data.csv')\n",
    "\n",
    "df = df.drop('Unnamed: 0', axis=1)\n",
    "df = df.drop('subject_id', axis=1)\n",
    "df.head()"
   ]
  },
  {
   "cell_type": "code",
   "execution_count": 122,
   "id": "f5058b1c",
   "metadata": {
    "ExecuteTime": {
     "end_time": "2025-07-29T08:36:59.564261Z",
     "start_time": "2025-07-29T08:36:59.137558Z"
    }
   },
   "outputs": [
    {
     "name": "stdout",
     "output_type": "stream",
     "text": [
      "<class 'pandas.core.frame.DataFrame'>\n",
      "RangeIndex: 2010000 entries, 0 to 2009999\n",
      "Data columns (total 10 columns):\n",
      " #   Column     Dtype \n",
      "---  ------     ----- \n",
      " 0   ADX_x_acc  int64 \n",
      " 1   ADX_y_acc  int64 \n",
      " 2   ADX_z_acc  int64 \n",
      " 3   ITG_x_rot  int64 \n",
      " 4   ITG_y_rot  int64 \n",
      " 5   ITG_z_rot  int64 \n",
      " 6   MMA_x_acc  int64 \n",
      " 7   MMA_y_acc  int64 \n",
      " 8   MMA_z_acc  int64 \n",
      " 9   activity   object\n",
      "dtypes: int64(9), object(1)\n",
      "memory usage: 153.4+ MB\n"
     ]
    },
    {
     "data": {
      "text/html": [
       "<div>\n",
       "<style scoped>\n",
       "    .dataframe tbody tr th:only-of-type {\n",
       "        vertical-align: middle;\n",
       "    }\n",
       "\n",
       "    .dataframe tbody tr th {\n",
       "        vertical-align: top;\n",
       "    }\n",
       "\n",
       "    .dataframe thead th {\n",
       "        text-align: right;\n",
       "    }\n",
       "</style>\n",
       "<table border=\"1\" class=\"dataframe\">\n",
       "  <thead>\n",
       "    <tr style=\"text-align: right;\">\n",
       "      <th></th>\n",
       "      <th>count</th>\n",
       "      <th>mean</th>\n",
       "      <th>std</th>\n",
       "      <th>min</th>\n",
       "      <th>25%</th>\n",
       "      <th>50%</th>\n",
       "      <th>75%</th>\n",
       "      <th>max</th>\n",
       "    </tr>\n",
       "  </thead>\n",
       "  <tbody>\n",
       "    <tr>\n",
       "      <th>ADX_x_acc</th>\n",
       "      <td>2010000.0</td>\n",
       "      <td>-5.507815</td>\n",
       "      <td>103.998213</td>\n",
       "      <td>-4096.0</td>\n",
       "      <td>-19.0</td>\n",
       "      <td>2.0</td>\n",
       "      <td>23.0</td>\n",
       "      <td>4094.0</td>\n",
       "    </tr>\n",
       "    <tr>\n",
       "      <th>ADX_y_acc</th>\n",
       "      <td>2010000.0</td>\n",
       "      <td>-188.523731</td>\n",
       "      <td>141.347852</td>\n",
       "      <td>-3432.0</td>\n",
       "      <td>-254.0</td>\n",
       "      <td>-235.0</td>\n",
       "      <td>-111.0</td>\n",
       "      <td>4092.0</td>\n",
       "    </tr>\n",
       "    <tr>\n",
       "      <th>ADX_z_acc</th>\n",
       "      <td>2010000.0</td>\n",
       "      <td>-28.649534</td>\n",
       "      <td>118.895687</td>\n",
       "      <td>-4095.0</td>\n",
       "      <td>-89.0</td>\n",
       "      <td>-30.0</td>\n",
       "      <td>29.0</td>\n",
       "      <td>4091.0</td>\n",
       "    </tr>\n",
       "    <tr>\n",
       "      <th>ITG_x_rot</th>\n",
       "      <td>2010000.0</td>\n",
       "      <td>-15.171183</td>\n",
       "      <td>575.386442</td>\n",
       "      <td>-22566.0</td>\n",
       "      <td>-96.0</td>\n",
       "      <td>-13.0</td>\n",
       "      <td>72.0</td>\n",
       "      <td>32767.0</td>\n",
       "    </tr>\n",
       "    <tr>\n",
       "      <th>ITG_y_rot</th>\n",
       "      <td>2010000.0</td>\n",
       "      <td>31.725762</td>\n",
       "      <td>491.192600</td>\n",
       "      <td>-11561.0</td>\n",
       "      <td>-30.0</td>\n",
       "      <td>41.0</td>\n",
       "      <td>103.0</td>\n",
       "      <td>15709.0</td>\n",
       "    </tr>\n",
       "    <tr>\n",
       "      <th>ITG_z_rot</th>\n",
       "      <td>2010000.0</td>\n",
       "      <td>0.646948</td>\n",
       "      <td>418.804518</td>\n",
       "      <td>-10926.0</td>\n",
       "      <td>-42.0</td>\n",
       "      <td>-5.0</td>\n",
       "      <td>34.0</td>\n",
       "      <td>11884.0</td>\n",
       "    </tr>\n",
       "    <tr>\n",
       "      <th>MMA_x_acc</th>\n",
       "      <td>2010000.0</td>\n",
       "      <td>-35.778698</td>\n",
       "      <td>402.820071</td>\n",
       "      <td>-8192.0</td>\n",
       "      <td>-86.0</td>\n",
       "      <td>0.0</td>\n",
       "      <td>70.0</td>\n",
       "      <td>8191.0</td>\n",
       "    </tr>\n",
       "    <tr>\n",
       "      <th>MMA_y_acc</th>\n",
       "      <td>2010000.0</td>\n",
       "      <td>-738.036620</td>\n",
       "      <td>549.099648</td>\n",
       "      <td>-8192.0</td>\n",
       "      <td>-992.0</td>\n",
       "      <td>-921.0</td>\n",
       "      <td>-436.0</td>\n",
       "      <td>8191.0</td>\n",
       "    </tr>\n",
       "    <tr>\n",
       "      <th>MMA_z_acc</th>\n",
       "      <td>2010000.0</td>\n",
       "      <td>-61.732898</td>\n",
       "      <td>479.792035</td>\n",
       "      <td>-8192.0</td>\n",
       "      <td>-302.0</td>\n",
       "      <td>-61.0</td>\n",
       "      <td>172.0</td>\n",
       "      <td>8191.0</td>\n",
       "    </tr>\n",
       "  </tbody>\n",
       "</table>\n",
       "</div>"
      ],
      "text/plain": [
       "               count        mean         std      min    25%    50%    75%  \\\n",
       "ADX_x_acc  2010000.0   -5.507815  103.998213  -4096.0  -19.0    2.0   23.0   \n",
       "ADX_y_acc  2010000.0 -188.523731  141.347852  -3432.0 -254.0 -235.0 -111.0   \n",
       "ADX_z_acc  2010000.0  -28.649534  118.895687  -4095.0  -89.0  -30.0   29.0   \n",
       "ITG_x_rot  2010000.0  -15.171183  575.386442 -22566.0  -96.0  -13.0   72.0   \n",
       "ITG_y_rot  2010000.0   31.725762  491.192600 -11561.0  -30.0   41.0  103.0   \n",
       "ITG_z_rot  2010000.0    0.646948  418.804518 -10926.0  -42.0   -5.0   34.0   \n",
       "MMA_x_acc  2010000.0  -35.778698  402.820071  -8192.0  -86.0    0.0   70.0   \n",
       "MMA_y_acc  2010000.0 -738.036620  549.099648  -8192.0 -992.0 -921.0 -436.0   \n",
       "MMA_z_acc  2010000.0  -61.732898  479.792035  -8192.0 -302.0  -61.0  172.0   \n",
       "\n",
       "               max  \n",
       "ADX_x_acc   4094.0  \n",
       "ADX_y_acc   4092.0  \n",
       "ADX_z_acc   4091.0  \n",
       "ITG_x_rot  32767.0  \n",
       "ITG_y_rot  15709.0  \n",
       "ITG_z_rot  11884.0  \n",
       "MMA_x_acc   8191.0  \n",
       "MMA_y_acc   8191.0  \n",
       "MMA_z_acc   8191.0  "
      ]
     },
     "execution_count": 122,
     "metadata": {},
     "output_type": "execute_result"
    }
   ],
   "source": [
    "# 데이터의 정보 및 기초통계량 확인\n",
    "\n",
    "df.info() \n",
    "df.describe().T"
   ]
  },
  {
   "cell_type": "code",
   "execution_count": 123,
   "id": "f16bb121",
   "metadata": {
    "ExecuteTime": {
     "end_time": "2025-07-29T08:36:59.735497Z",
     "start_time": "2025-07-29T08:36:59.567073Z"
    }
   },
   "outputs": [
    {
     "name": "stdout",
     "output_type": "stream",
     "text": [
      "ADX_x_acc    0\n",
      "ADX_y_acc    0\n",
      "ADX_z_acc    0\n",
      "ITG_x_rot    0\n",
      "ITG_y_rot    0\n",
      "ITG_z_rot    0\n",
      "MMA_x_acc    0\n",
      "MMA_y_acc    0\n",
      "MMA_z_acc    0\n",
      "activity     0\n",
      "dtype: int64\n",
      "False\n"
     ]
    }
   ],
   "source": [
    "# 결측치 확인\n",
    "\n",
    "'''\n",
    "    결측치 없음을 확인 가능\n",
    "'''\n",
    "\n",
    "print (df.isnull().sum()) \n",
    "print (any(df.isnull().sum())) # False로 나왔으니 결측치가 없는 것임"
   ]
  },
  {
   "cell_type": "code",
   "execution_count": 124,
   "id": "41c2220f",
   "metadata": {
    "ExecuteTime": {
     "end_time": "2025-07-29T08:37:00.830325Z",
     "start_time": "2025-07-29T08:36:59.737271Z"
    }
   },
   "outputs": [
    {
     "name": "stdout",
     "output_type": "stream",
     "text": [
      "class 종류 :  ['D01' 'D02' 'D03' 'D04' 'D05' 'D06' 'D07' 'D08' 'D09' 'D10' 'D11' 'D12'\n",
      " 'D13' 'D14' 'D15' 'D16' 'D17' 'D18' 'D19' 'F01' 'F02' 'F03' 'F04' 'F05'\n",
      " 'F06' 'F07' 'F08' 'F09' 'F10' 'F11' 'F12' 'F13' 'F14' 'F15']\n"
     ]
    }
   ],
   "source": [
    "# class 종류 확인\n",
    "\n",
    "print (f\"class 종류 :  {np.unique(df['activity'])}\")"
   ]
  },
  {
   "cell_type": "code",
   "execution_count": 125,
   "id": "288f2e54",
   "metadata": {
    "ExecuteTime": {
     "end_time": "2025-07-29T08:37:02.108797Z",
     "start_time": "2025-07-29T08:37:00.831955Z"
    }
   },
   "outputs": [
    {
     "name": "stdout",
     "output_type": "stream",
     "text": [
      "activity\n",
      "D01    76000\n",
      "D16    76000\n",
      "D03    76000\n",
      "D05    76000\n",
      "D02    76000\n",
      "D07    76000\n",
      "D08    76000\n",
      "D11    76000\n",
      "D12    76000\n",
      "D17    76000\n",
      "D14    76000\n",
      "D15    76000\n",
      "D09    74000\n",
      "D10    74000\n",
      "D04    72000\n",
      "D13    48000\n",
      "D06    48000\n",
      "F07    46000\n",
      "F14    46000\n",
      "F13    46000\n",
      "F12    46000\n",
      "F11    46000\n",
      "F10    46000\n",
      "F09    46000\n",
      "F08    46000\n",
      "D18    46000\n",
      "F06    46000\n",
      "F05    46000\n",
      "F04    46000\n",
      "F03    46000\n",
      "F02    46000\n",
      "F01    46000\n",
      "D19    46000\n",
      "F15    46000\n",
      "Name: count, dtype: int64\n"
     ]
    },
    {
     "data": {
      "text/plain": [
       "<Axes: xlabel='activity', ylabel='count'>"
      ]
     },
     "execution_count": 125,
     "metadata": {},
     "output_type": "execute_result"
    },
    {
     "data": {
      "image/png": "[encoded data removed]",
      "text/plain": [
       "<Figure size 3000x1000 with 1 Axes>"
      ]
     },
     "metadata": {},
     "output_type": "display_data"
    }
   ],
   "source": [
    "# target countplot\n",
    "\n",
    "plt.figure(figsize=(30, 10))\n",
    "print (df['activity'].value_counts())\n",
    "sns.countplot(x='activity', data=df)"
   ]
  },
  {
   "cell_type": "code",
   "execution_count": 126,
   "id": "8f531055",
   "metadata": {
    "ExecuteTime": {
     "end_time": "2025-07-29T08:37:02.172576Z",
     "start_time": "2025-07-29T08:37:02.110095Z"
    }
   },
   "outputs": [
    {
     "data": {
      "text/html": [
       "<div>\n",
       "<style scoped>\n",
       "    .dataframe tbody tr th:only-of-type {\n",
       "        vertical-align: middle;\n",
       "    }\n",
       "\n",
       "    .dataframe tbody tr th {\n",
       "        vertical-align: top;\n",
       "    }\n",
       "\n",
       "    .dataframe thead th {\n",
       "        text-align: right;\n",
       "    }\n",
       "</style>\n",
       "<table border=\"1\" class=\"dataframe\">\n",
       "  <thead>\n",
       "    <tr style=\"text-align: right;\">\n",
       "      <th></th>\n",
       "      <th>ADX_x_acc</th>\n",
       "      <th>ADX_y_acc</th>\n",
       "      <th>ADX_z_acc</th>\n",
       "      <th>ITG_x_rot</th>\n",
       "      <th>ITG_y_rot</th>\n",
       "      <th>ITG_z_rot</th>\n",
       "      <th>MMA_x_acc</th>\n",
       "      <th>MMA_y_acc</th>\n",
       "      <th>MMA_z_acc</th>\n",
       "      <th>activity</th>\n",
       "    </tr>\n",
       "  </thead>\n",
       "  <tbody>\n",
       "    <tr>\n",
       "      <th>0</th>\n",
       "      <td>17</td>\n",
       "      <td>-179</td>\n",
       "      <td>-99</td>\n",
       "      <td>-18</td>\n",
       "      <td>-504</td>\n",
       "      <td>-352</td>\n",
       "      <td>76</td>\n",
       "      <td>-697</td>\n",
       "      <td>-279</td>\n",
       "      <td>D01</td>\n",
       "    </tr>\n",
       "    <tr>\n",
       "      <th>1</th>\n",
       "      <td>15</td>\n",
       "      <td>-174</td>\n",
       "      <td>-90</td>\n",
       "      <td>-53</td>\n",
       "      <td>-568</td>\n",
       "      <td>-306</td>\n",
       "      <td>48</td>\n",
       "      <td>-675</td>\n",
       "      <td>-254</td>\n",
       "      <td>D01</td>\n",
       "    </tr>\n",
       "    <tr>\n",
       "      <th>2</th>\n",
       "      <td>1</td>\n",
       "      <td>-176</td>\n",
       "      <td>-81</td>\n",
       "      <td>-84</td>\n",
       "      <td>-613</td>\n",
       "      <td>-271</td>\n",
       "      <td>-2</td>\n",
       "      <td>-668</td>\n",
       "      <td>-221</td>\n",
       "      <td>D01</td>\n",
       "    </tr>\n",
       "    <tr>\n",
       "      <th>3</th>\n",
       "      <td>-10</td>\n",
       "      <td>-180</td>\n",
       "      <td>-77</td>\n",
       "      <td>-104</td>\n",
       "      <td>-647</td>\n",
       "      <td>-227</td>\n",
       "      <td>-34</td>\n",
       "      <td>-697</td>\n",
       "      <td>-175</td>\n",
       "      <td>D01</td>\n",
       "    </tr>\n",
       "    <tr>\n",
       "      <th>4</th>\n",
       "      <td>-21</td>\n",
       "      <td>-191</td>\n",
       "      <td>-63</td>\n",
       "      <td>-128</td>\n",
       "      <td>-675</td>\n",
       "      <td>-191</td>\n",
       "      <td>-74</td>\n",
       "      <td>-741</td>\n",
       "      <td>-133</td>\n",
       "      <td>D01</td>\n",
       "    </tr>\n",
       "    <tr>\n",
       "      <th>...</th>\n",
       "      <td>...</td>\n",
       "      <td>...</td>\n",
       "      <td>...</td>\n",
       "      <td>...</td>\n",
       "      <td>...</td>\n",
       "      <td>...</td>\n",
       "      <td>...</td>\n",
       "      <td>...</td>\n",
       "      <td>...</td>\n",
       "      <td>...</td>\n",
       "    </tr>\n",
       "    <tr>\n",
       "      <th>1983995</th>\n",
       "      <td>-13</td>\n",
       "      <td>-171</td>\n",
       "      <td>-77</td>\n",
       "      <td>191</td>\n",
       "      <td>161</td>\n",
       "      <td>114</td>\n",
       "      <td>-28</td>\n",
       "      <td>-671</td>\n",
       "      <td>-336</td>\n",
       "      <td>D01</td>\n",
       "    </tr>\n",
       "    <tr>\n",
       "      <th>1983996</th>\n",
       "      <td>-11</td>\n",
       "      <td>-171</td>\n",
       "      <td>-72</td>\n",
       "      <td>148</td>\n",
       "      <td>189</td>\n",
       "      <td>105</td>\n",
       "      <td>-26</td>\n",
       "      <td>-664</td>\n",
       "      <td>-333</td>\n",
       "      <td>D01</td>\n",
       "    </tr>\n",
       "    <tr>\n",
       "      <th>1983997</th>\n",
       "      <td>-10</td>\n",
       "      <td>-174</td>\n",
       "      <td>-73</td>\n",
       "      <td>103</td>\n",
       "      <td>219</td>\n",
       "      <td>95</td>\n",
       "      <td>-25</td>\n",
       "      <td>-669</td>\n",
       "      <td>-330</td>\n",
       "      <td>D01</td>\n",
       "    </tr>\n",
       "    <tr>\n",
       "      <th>1983998</th>\n",
       "      <td>-11</td>\n",
       "      <td>-176</td>\n",
       "      <td>-72</td>\n",
       "      <td>64</td>\n",
       "      <td>249</td>\n",
       "      <td>85</td>\n",
       "      <td>-28</td>\n",
       "      <td>-679</td>\n",
       "      <td>-321</td>\n",
       "      <td>D01</td>\n",
       "    </tr>\n",
       "    <tr>\n",
       "      <th>1983999</th>\n",
       "      <td>-8</td>\n",
       "      <td>-181</td>\n",
       "      <td>-69</td>\n",
       "      <td>29</td>\n",
       "      <td>281</td>\n",
       "      <td>76</td>\n",
       "      <td>-17</td>\n",
       "      <td>-691</td>\n",
       "      <td>-313</td>\n",
       "      <td>D01</td>\n",
       "    </tr>\n",
       "  </tbody>\n",
       "</table>\n",
       "<p>122000 rows × 10 columns</p>\n",
       "</div>"
      ],
      "text/plain": [
       "         ADX_x_acc  ADX_y_acc  ADX_z_acc  ITG_x_rot  ITG_y_rot  ITG_z_rot  \\\n",
       "0               17       -179        -99        -18       -504       -352   \n",
       "1               15       -174        -90        -53       -568       -306   \n",
       "2                1       -176        -81        -84       -613       -271   \n",
       "3              -10       -180        -77       -104       -647       -227   \n",
       "4              -21       -191        -63       -128       -675       -191   \n",
       "...            ...        ...        ...        ...        ...        ...   \n",
       "1983995        -13       -171        -77        191        161        114   \n",
       "1983996        -11       -171        -72        148        189        105   \n",
       "1983997        -10       -174        -73        103        219         95   \n",
       "1983998        -11       -176        -72         64        249         85   \n",
       "1983999         -8       -181        -69         29        281         76   \n",
       "\n",
       "         MMA_x_acc  MMA_y_acc  MMA_z_acc activity  \n",
       "0               76       -697       -279      D01  \n",
       "1               48       -675       -254      D01  \n",
       "2               -2       -668       -221      D01  \n",
       "3              -34       -697       -175      D01  \n",
       "4              -74       -741       -133      D01  \n",
       "...            ...        ...        ...      ...  \n",
       "1983995        -28       -671       -336      D01  \n",
       "1983996        -26       -664       -333      D01  \n",
       "1983997        -25       -669       -330      D01  \n",
       "1983998        -28       -679       -321      D01  \n",
       "1983999        -17       -691       -313      D01  \n",
       "\n",
       "[122000 rows x 10 columns]"
      ]
     },
     "execution_count": 126,
     "metadata": {},
     "output_type": "execute_result"
    }
   ],
   "source": [
    "# 2가지\n",
    "\n",
    "df = df.loc[df['activity'].isin(['D01', 'F01'])]\n",
    "df"
   ]
  },
  {
   "cell_type": "code",
   "execution_count": 127,
   "id": "eb6a0cc1",
   "metadata": {
    "ExecuteTime": {
     "end_time": "2025-07-29T08:37:02.195827Z",
     "start_time": "2025-07-29T08:37:02.174717Z"
    }
   },
   "outputs": [
    {
     "data": {
      "text/html": [
       "<div>\n",
       "<style scoped>\n",
       "    .dataframe tbody tr th:only-of-type {\n",
       "        vertical-align: middle;\n",
       "    }\n",
       "\n",
       "    .dataframe tbody tr th {\n",
       "        vertical-align: top;\n",
       "    }\n",
       "\n",
       "    .dataframe thead th {\n",
       "        text-align: right;\n",
       "    }\n",
       "</style>\n",
       "<table border=\"1\" class=\"dataframe\">\n",
       "  <thead>\n",
       "    <tr style=\"text-align: right;\">\n",
       "      <th></th>\n",
       "      <th>ADX_x_acc</th>\n",
       "      <th>ADX_y_acc</th>\n",
       "      <th>ADX_z_acc</th>\n",
       "      <th>ITG_x_rot</th>\n",
       "      <th>ITG_y_rot</th>\n",
       "      <th>ITG_z_rot</th>\n",
       "      <th>MMA_x_acc</th>\n",
       "      <th>MMA_y_acc</th>\n",
       "      <th>MMA_z_acc</th>\n",
       "      <th>activity</th>\n",
       "      <th>what</th>\n",
       "    </tr>\n",
       "  </thead>\n",
       "  <tbody>\n",
       "    <tr>\n",
       "      <th>0</th>\n",
       "      <td>17</td>\n",
       "      <td>-179</td>\n",
       "      <td>-99</td>\n",
       "      <td>-18</td>\n",
       "      <td>-504</td>\n",
       "      <td>-352</td>\n",
       "      <td>76</td>\n",
       "      <td>-697</td>\n",
       "      <td>-279</td>\n",
       "      <td>D01</td>\n",
       "      <td>normal</td>\n",
       "    </tr>\n",
       "    <tr>\n",
       "      <th>1</th>\n",
       "      <td>15</td>\n",
       "      <td>-174</td>\n",
       "      <td>-90</td>\n",
       "      <td>-53</td>\n",
       "      <td>-568</td>\n",
       "      <td>-306</td>\n",
       "      <td>48</td>\n",
       "      <td>-675</td>\n",
       "      <td>-254</td>\n",
       "      <td>D01</td>\n",
       "      <td>normal</td>\n",
       "    </tr>\n",
       "    <tr>\n",
       "      <th>2</th>\n",
       "      <td>1</td>\n",
       "      <td>-176</td>\n",
       "      <td>-81</td>\n",
       "      <td>-84</td>\n",
       "      <td>-613</td>\n",
       "      <td>-271</td>\n",
       "      <td>-2</td>\n",
       "      <td>-668</td>\n",
       "      <td>-221</td>\n",
       "      <td>D01</td>\n",
       "      <td>normal</td>\n",
       "    </tr>\n",
       "    <tr>\n",
       "      <th>3</th>\n",
       "      <td>-10</td>\n",
       "      <td>-180</td>\n",
       "      <td>-77</td>\n",
       "      <td>-104</td>\n",
       "      <td>-647</td>\n",
       "      <td>-227</td>\n",
       "      <td>-34</td>\n",
       "      <td>-697</td>\n",
       "      <td>-175</td>\n",
       "      <td>D01</td>\n",
       "      <td>normal</td>\n",
       "    </tr>\n",
       "    <tr>\n",
       "      <th>4</th>\n",
       "      <td>-21</td>\n",
       "      <td>-191</td>\n",
       "      <td>-63</td>\n",
       "      <td>-128</td>\n",
       "      <td>-675</td>\n",
       "      <td>-191</td>\n",
       "      <td>-74</td>\n",
       "      <td>-741</td>\n",
       "      <td>-133</td>\n",
       "      <td>D01</td>\n",
       "      <td>normal</td>\n",
       "    </tr>\n",
       "    <tr>\n",
       "      <th>...</th>\n",
       "      <td>...</td>\n",
       "      <td>...</td>\n",
       "      <td>...</td>\n",
       "      <td>...</td>\n",
       "      <td>...</td>\n",
       "      <td>...</td>\n",
       "      <td>...</td>\n",
       "      <td>...</td>\n",
       "      <td>...</td>\n",
       "      <td>...</td>\n",
       "      <td>...</td>\n",
       "    </tr>\n",
       "    <tr>\n",
       "      <th>1983995</th>\n",
       "      <td>-13</td>\n",
       "      <td>-171</td>\n",
       "      <td>-77</td>\n",
       "      <td>191</td>\n",
       "      <td>161</td>\n",
       "      <td>114</td>\n",
       "      <td>-28</td>\n",
       "      <td>-671</td>\n",
       "      <td>-336</td>\n",
       "      <td>D01</td>\n",
       "      <td>normal</td>\n",
       "    </tr>\n",
       "    <tr>\n",
       "      <th>1983996</th>\n",
       "      <td>-11</td>\n",
       "      <td>-171</td>\n",
       "      <td>-72</td>\n",
       "      <td>148</td>\n",
       "      <td>189</td>\n",
       "      <td>105</td>\n",
       "      <td>-26</td>\n",
       "      <td>-664</td>\n",
       "      <td>-333</td>\n",
       "      <td>D01</td>\n",
       "      <td>normal</td>\n",
       "    </tr>\n",
       "    <tr>\n",
       "      <th>1983997</th>\n",
       "      <td>-10</td>\n",
       "      <td>-174</td>\n",
       "      <td>-73</td>\n",
       "      <td>103</td>\n",
       "      <td>219</td>\n",
       "      <td>95</td>\n",
       "      <td>-25</td>\n",
       "      <td>-669</td>\n",
       "      <td>-330</td>\n",
       "      <td>D01</td>\n",
       "      <td>normal</td>\n",
       "    </tr>\n",
       "    <tr>\n",
       "      <th>1983998</th>\n",
       "      <td>-11</td>\n",
       "      <td>-176</td>\n",
       "      <td>-72</td>\n",
       "      <td>64</td>\n",
       "      <td>249</td>\n",
       "      <td>85</td>\n",
       "      <td>-28</td>\n",
       "      <td>-679</td>\n",
       "      <td>-321</td>\n",
       "      <td>D01</td>\n",
       "      <td>normal</td>\n",
       "    </tr>\n",
       "    <tr>\n",
       "      <th>1983999</th>\n",
       "      <td>-8</td>\n",
       "      <td>-181</td>\n",
       "      <td>-69</td>\n",
       "      <td>29</td>\n",
       "      <td>281</td>\n",
       "      <td>76</td>\n",
       "      <td>-17</td>\n",
       "      <td>-691</td>\n",
       "      <td>-313</td>\n",
       "      <td>D01</td>\n",
       "      <td>normal</td>\n",
       "    </tr>\n",
       "  </tbody>\n",
       "</table>\n",
       "<p>122000 rows × 11 columns</p>\n",
       "</div>"
      ],
      "text/plain": [
       "         ADX_x_acc  ADX_y_acc  ADX_z_acc  ITG_x_rot  ITG_y_rot  ITG_z_rot  \\\n",
       "0               17       -179        -99        -18       -504       -352   \n",
       "1               15       -174        -90        -53       -568       -306   \n",
       "2                1       -176        -81        -84       -613       -271   \n",
       "3              -10       -180        -77       -104       -647       -227   \n",
       "4              -21       -191        -63       -128       -675       -191   \n",
       "...            ...        ...        ...        ...        ...        ...   \n",
       "1983995        -13       -171        -77        191        161        114   \n",
       "1983996        -11       -171        -72        148        189        105   \n",
       "1983997        -10       -174        -73        103        219         95   \n",
       "1983998        -11       -176        -72         64        249         85   \n",
       "1983999         -8       -181        -69         29        281         76   \n",
       "\n",
       "         MMA_x_acc  MMA_y_acc  MMA_z_acc activity    what  \n",
       "0               76       -697       -279      D01  normal  \n",
       "1               48       -675       -254      D01  normal  \n",
       "2               -2       -668       -221      D01  normal  \n",
       "3              -34       -697       -175      D01  normal  \n",
       "4              -74       -741       -133      D01  normal  \n",
       "...            ...        ...        ...      ...     ...  \n",
       "1983995        -28       -671       -336      D01  normal  \n",
       "1983996        -26       -664       -333      D01  normal  \n",
       "1983997        -25       -669       -330      D01  normal  \n",
       "1983998        -28       -679       -321      D01  normal  \n",
       "1983999        -17       -691       -313      D01  normal  \n",
       "\n",
       "[122000 rows x 11 columns]"
      ]
     },
     "execution_count": 127,
     "metadata": {},
     "output_type": "execute_result"
    }
   ],
   "source": [
    "# what 열을 삽입\n",
    "# activity가 D면 normal, F면 abnormal\n",
    "\n",
    "df['what'] = df['activity'].map({\n",
    "    'D01': 'normal',\n",
    "    'F01': 'abnormal'})\n",
    "\n",
    "df"
   ]
  },
  {
   "cell_type": "code",
   "execution_count": 128,
   "id": "cc6a4b8c",
   "metadata": {
    "ExecuteTime": {
     "end_time": "2025-07-29T08:37:02.207608Z",
     "start_time": "2025-07-29T08:37:02.201359Z"
    }
   },
   "outputs": [],
   "source": [
    "# df에서 activity 열 제거\n",
    "\n",
    "df = df.drop('activity', axis=1)"
   ]
  },
  {
   "cell_type": "code",
   "execution_count": 129,
   "id": "cbf7878e",
   "metadata": {
    "ExecuteTime": {
     "end_time": "2025-07-29T08:37:02.243616Z",
     "start_time": "2025-07-29T08:37:02.209666Z"
    }
   },
   "outputs": [
    {
     "name": "stdout",
     "output_type": "stream",
     "text": [
      "Train shape: (60800, 10)\n",
      "Test shape: (61200, 10)\n"
     ]
    }
   ],
   "source": [
    "# normal과 abnormal dataset을 구성, train set, test set 구성\n",
    "\n",
    "abnormal = df[df['what'] == 'abnormal']\n",
    "normal = df[df['what'] == 'normal']\n",
    "\n",
    "split_idx = int(len(normal) * 0.8)\n",
    "normal_train = normal.iloc[:split_idx]\n",
    "normal_test = normal.iloc[split_idx:]\n",
    "\n",
    "train = normal_train.copy()\n",
    "test = pd.concat([normal_test, abnormal], axis=0)\n",
    "\n",
    "train = train.reset_index(drop=True)\n",
    "test = test.reset_index(drop=True)\n",
    "\n",
    "print(\"Train shape:\", train.shape)\n",
    "print(\"Test shape:\", test.shape)"
   ]
  },
  {
   "cell_type": "code",
   "execution_count": 130,
   "id": "f8edeb56",
   "metadata": {
    "ExecuteTime": {
     "end_time": "2025-07-29T08:37:02.433426Z",
     "start_time": "2025-07-29T08:37:02.246697Z"
    }
   },
   "outputs": [
    {
     "data": {
      "text/plain": [
       "<Axes: xlabel='what', ylabel='count'>"
      ]
     },
     "execution_count": 130,
     "metadata": {},
     "output_type": "execute_result"
    },
    {
     "data": {
      "image/png": "[encoded data removed]",
      "text/plain": [
       "<Figure size 640x480 with 1 Axes>"
      ]
     },
     "metadata": {},
     "output_type": "display_data"
    }
   ],
   "source": [
    "# normal과 abnormal 갯수 countplot\n",
    "\n",
    "sns.countplot(x='what', data=df)"
   ]
  },
  {
   "cell_type": "code",
   "execution_count": 131,
   "id": "4b123dd5",
   "metadata": {
    "ExecuteTime": {
     "end_time": "2025-07-29T08:37:02.446390Z",
     "start_time": "2025-07-29T08:37:02.435202Z"
    }
   },
   "outputs": [
    {
     "name": "stdout",
     "output_type": "stream",
     "text": [
      "False\n",
      "[0]\n",
      "[0 1]\n"
     ]
    }
   ],
   "source": [
    "# normal을 0, abnormal을 1로 만들기\n",
    "\n",
    "# train 데이터프레임에서 'what' 열 수정\n",
    "train['what'] = 0 # 어차피 모든 열이 다 normal임\n",
    "\n",
    "print (any(train['what'] == 1)) # false가 나오는게 정상임\n",
    "\n",
    "# test 데이터프레임에서 'what' 열 수정\n",
    "test['what'] = test['what'].map({\n",
    "    'normal': 0,\n",
    "    'abnormal': 1\n",
    "})\n",
    "\n",
    "print (train['what'].unique())\n",
    "print (test['what'].unique())"
   ]
  },
  {
   "cell_type": "code",
   "execution_count": 132,
   "id": "681dac4b",
   "metadata": {
    "ExecuteTime": {
     "end_time": "2025-07-29T08:37:02.454257Z",
     "start_time": "2025-07-29T08:37:02.447843Z"
    }
   },
   "outputs": [
    {
     "name": "stdout",
     "output_type": "stream",
     "text": [
      "(60800, 9) (60800,) (61200, 9) (61200,)\n",
      "[0] [0 1]\n"
     ]
    }
   ],
   "source": [
    "# input, target split\n",
    "\n",
    "y_train, X_train = train['what'], train.drop('what', axis=1)\n",
    "y_test, X_test = test['what'], test.drop('what', axis=1)\n",
    "\n",
    "print (X_train.shape, y_train.shape, X_test.shape, y_test.shape)\n",
    "print (y_train.unique(), y_test.unique())"
   ]
  },
  {
   "cell_type": "code",
   "execution_count": 133,
   "id": "92ab4db5",
   "metadata": {
    "ExecuteTime": {
     "end_time": "2025-07-29T08:37:02.474111Z",
     "start_time": "2025-07-29T08:37:02.456195Z"
    }
   },
   "outputs": [],
   "source": [
    "# z-score normalization\n",
    "\n",
    "from sklearn.preprocessing import StandardScaler\n",
    "\n",
    "normalizier = StandardScaler()\n",
    "X_train_scaled = normalizier.fit_transform(X_train)\n",
    "X_test_scaled = normalizier.transform(X_test)"
   ]
  },
  {
   "cell_type": "code",
   "execution_count": 134,
   "id": "5b44a931",
   "metadata": {
    "ExecuteTime": {
     "end_time": "2025-07-29T08:37:02.513334Z",
     "start_time": "2025-07-29T08:37:02.477020Z"
    }
   },
   "outputs": [
    {
     "name": "stdout",
     "output_type": "stream",
     "text": [
      "950 957\n"
     ]
    }
   ],
   "source": [
    "# DS, DL 구축\n",
    "\n",
    "from torch.utils.data import Dataset, DataLoader\n",
    "\n",
    "class SisFall(Dataset):\n",
    "    def __init__(self, data, labels):\n",
    "        self.data = torch.tensor(data, dtype=torch.float32)\n",
    "        self.labels = torch.tensor(labels, dtype=torch.int32)\n",
    "\n",
    "    def __len__(self):\n",
    "        # 데이터 전체 개수 반환\n",
    "        return len(self.data)\n",
    "\n",
    "    def __getitem__(self, idx):\n",
    "        # 주어진 인덱스에 해당하는 데이터 반환\n",
    "        x = self.data[idx]\n",
    "        y = self.labels[idx]\n",
    "        return x, y\n",
    "\n",
    "train_DL = DataLoader(SisFall(X_train_scaled, y_train), \n",
    "                     shuffle=True,\n",
    "                     batch_size=64)\n",
    "test_DL = DataLoader(SisFall(X_test_scaled, y_test), \n",
    "                     shuffle=False,\n",
    "                     batch_size=64)\n",
    "\n",
    "print (len(train_DL), len(test_DL))"
   ]
  },
  {
   "cell_type": "markdown",
   "id": "ae680770",
   "metadata": {},
   "source": [
    "-----\n",
    "\n",
    "\n",
    "### 2. autoencoder를 통한 anomaly detection"
   ]
  },
  {
   "cell_type": "code",
   "execution_count": 135,
   "id": "194dfa0c",
   "metadata": {
    "ExecuteTime": {
     "end_time": "2025-07-29T08:37:02.530514Z",
     "start_time": "2025-07-29T08:37:02.515822Z"
    }
   },
   "outputs": [
    {
     "data": {
      "text/plain": [
       "==========================================================================================\n",
       "Layer (type:depth-idx)                   Output Shape              Param #\n",
       "==========================================================================================\n",
       "autoencoder                              [64, 9]                   --\n",
       "├─Sequential: 1-1                        [64, 9]                   --\n",
       "│    └─Linear: 2-1                       [64, 128]                 1,280\n",
       "│    └─ReLU: 2-2                         [64, 128]                 --\n",
       "│    └─Linear: 2-3                       [64, 64]                  8,256\n",
       "│    └─ReLU: 2-4                         [64, 64]                  --\n",
       "│    └─Linear: 2-5                       [64, 32]                  2,080\n",
       "│    └─ReLU: 2-6                         [64, 32]                  --\n",
       "│    └─Linear: 2-7                       [64, 16]                  528\n",
       "│    └─ReLU: 2-8                         [64, 16]                  --\n",
       "│    └─Linear: 2-9                       [64, 32]                  544\n",
       "│    └─ReLU: 2-10                        [64, 32]                  --\n",
       "│    └─Linear: 2-11                      [64, 64]                  2,112\n",
       "│    └─ReLU: 2-12                        [64, 64]                  --\n",
       "│    └─Linear: 2-13                      [64, 128]                 8,320\n",
       "│    └─ReLU: 2-14                        [64, 128]                 --\n",
       "│    └─Linear: 2-15                      [64, 9]                   1,161\n",
       "│    └─Sigmoid: 2-16                     [64, 9]                   --\n",
       "==========================================================================================\n",
       "Total params: 24,281\n",
       "Trainable params: 24,281\n",
       "Non-trainable params: 0\n",
       "Total mult-adds (Units.MEGABYTES): 1.55\n",
       "==========================================================================================\n",
       "Input size (MB): 0.00\n",
       "Forward/backward pass size (MB): 0.24\n",
       "Params size (MB): 0.10\n",
       "Estimated Total Size (MB): 0.34\n",
       "=========================================================================================="
      ]
     },
     "execution_count": 135,
     "metadata": {},
     "output_type": "execute_result"
    }
   ],
   "source": [
    "# modeling\n",
    "\n",
    "class autoencoder (nn.Module) : \n",
    "    def __init__(self, input_size) : \n",
    "        super().__init__()\n",
    "        self.autoencoder = nn.Sequential(\n",
    "            # encoder\n",
    "            nn.Linear(input_size[1], 128),\n",
    "            nn.ReLU(),\n",
    "            nn.Linear(128, 64),\n",
    "            nn.ReLU(),\n",
    "            nn.Linear(64, 32),\n",
    "            nn.ReLU(),\n",
    "            nn.Linear(32, 16),\n",
    "            nn.ReLU(),\n",
    "            \n",
    "            # decoder\n",
    "            nn.Linear(16, 32),\n",
    "            nn.ReLU(),\n",
    "            nn.Linear(32, 64),\n",
    "            nn.ReLU(),\n",
    "            nn.Linear(64, 128),\n",
    "            nn.ReLU(),\n",
    "            nn.Linear(128, input_size[1]),\n",
    "            nn.Sigmoid(),\n",
    "        )\n",
    "        \n",
    "    def forward(self, x) : \n",
    "        x = self.autoencoder(x) \n",
    "        return x\n",
    "\n",
    "model = autoencoder(input_size=(32, 9)).to('cpu')\n",
    "summary(model, \n",
    "       input_size=(64, 9))\n",
    "# input_dim = X_train.shape[1]  # feature의 갯수임\n",
    "# encoding_dim = 32\n",
    "\n",
    "# input_layer = Input(shape=(input_dim,))\n",
    "\n",
    "# # encoding 단계\n",
    "# encoded = Dense(encoding_dim, activation='relu')(input_layer)\n",
    "# encoded = Dense(encoding_dim // 2, activation='relu')(encoded)\n",
    "# encoded = Dense(encoding_dim // 4, activation='relu')(encoded)\n",
    "# encoded = Dense(encoding_dim // 8, activation='relu')(encoded)\n",
    "\n",
    "# # decoding 단계\n",
    "# decoded = Dense(encoding_dim // 8, activation='relu')(encoded)\n",
    "# decoded = Dense(encoding_dim // 4, activation='relu')(decoded)\n",
    "# decoded = Dense(encoding_dim // 2, activation='relu')(decoded)\n",
    "# decoded = Dense(input_dim, activation='sigmoid')(decoded)\n",
    "\n",
    "# autoencoder = Model(inputs=input_layer, outputs=decoded)\n",
    "\n",
    "# autoencoder.summary()\n",
    "# tf.keras.utils.plot_model(autoencoder, show_dtype=True,\n",
    "#                          show_layer_activations=True,\n",
    "#                          show_layer_names=True,\n",
    "#                          show_shapes=True,\n",
    "#                          show_trainable=True)"
   ]
  },
  {
   "cell_type": "code",
   "execution_count": 136,
   "id": "dd0d76c3",
   "metadata": {
    "ExecuteTime": {
     "end_time": "2025-07-29T08:37:02.535956Z",
     "start_time": "2025-07-29T08:37:02.532572Z"
    }
   },
   "outputs": [],
   "source": [
    "# compile\n",
    "\n",
    "optimizer = optim.AdamW(model.parameters(), lr=0.001)\n",
    "criterion = nn.MSELoss()\n",
    "epoch = 100\n",
    "device = 'cpu'\n",
    "\n",
    "# from keras.optimizers import Adam\n",
    "\n",
    "# autoencoder.compile(optimizer=Adam(learning_rate=0.001), loss='mse')"
   ]
  },
  {
   "cell_type": "code",
   "execution_count": 137,
   "id": "3435bc74",
   "metadata": {
    "ExecuteTime": {
     "end_time": "2025-07-29T08:41:47.547821Z",
     "start_time": "2025-07-29T08:37:02.538711Z"
    }
   },
   "outputs": [
    {
     "name": "stdout",
     "output_type": "stream",
     "text": [
      "epoch 1 : tr_loss 0.76051\n",
      "epoch 2 : tr_loss 0.63425\n",
      "epoch 3 : tr_loss 0.62027\n",
      "epoch 4 : tr_loss 0.61156\n",
      "epoch 5 : tr_loss 0.60856\n",
      "epoch 6 : tr_loss 0.60780\n",
      "epoch 7 : tr_loss 0.60734\n",
      "epoch 8 : tr_loss 0.60673\n",
      "epoch 9 : tr_loss 0.60626\n",
      "epoch 10 : tr_loss 0.60587\n",
      "epoch 11 : tr_loss 0.60560\n",
      "epoch 12 : tr_loss 0.60537\n",
      "epoch 13 : tr_loss 0.60514\n",
      "epoch 14 : tr_loss 0.60495\n",
      "epoch 15 : tr_loss 0.60492\n",
      "epoch 16 : tr_loss 0.60470\n",
      "epoch 17 : tr_loss 0.60468\n",
      "epoch 18 : tr_loss 0.60460\n",
      "epoch 19 : tr_loss 0.60458\n",
      "epoch 20 : tr_loss 0.60452\n",
      "epoch 21 : tr_loss 0.60445\n",
      "epoch 22 : tr_loss 0.60445\n",
      "epoch 23 : tr_loss 0.60437\n",
      "epoch 24 : tr_loss 0.60438\n",
      "epoch 25 : tr_loss 0.60434\n",
      "epoch 26 : tr_loss 0.60427\n",
      "epoch 27 : tr_loss 0.60423\n",
      "epoch 28 : tr_loss 0.60420\n",
      "epoch 29 : tr_loss 0.60415\n",
      "epoch 30 : tr_loss 0.60408\n",
      "epoch 31 : tr_loss 0.60403\n",
      "epoch 32 : tr_loss 0.60399\n",
      "epoch 33 : tr_loss 0.60394\n",
      "epoch 34 : tr_loss 0.60391\n",
      "epoch 35 : tr_loss 0.60390\n",
      "epoch 36 : tr_loss 0.60385\n",
      "epoch 37 : tr_loss 0.60381\n",
      "epoch 38 : tr_loss 0.60377\n",
      "epoch 39 : tr_loss 0.60373\n",
      "epoch 40 : tr_loss 0.60377\n",
      "epoch 41 : tr_loss 0.60380\n",
      "epoch 42 : tr_loss 0.60373\n",
      "epoch 43 : tr_loss 0.60370\n",
      "epoch 44 : tr_loss 0.60370\n",
      "epoch 45 : tr_loss 0.60365\n",
      "epoch 46 : tr_loss 0.60363\n",
      "epoch 47 : tr_loss 0.60366\n",
      "epoch 48 : tr_loss 0.60365\n",
      "epoch 49 : tr_loss 0.60361\n",
      "epoch 50 : tr_loss 0.60360\n",
      "epoch 51 : tr_loss 0.60362\n",
      "epoch 52 : tr_loss 0.60360\n",
      "epoch 53 : tr_loss 0.60356\n",
      "epoch 54 : tr_loss 0.60357\n",
      "epoch 55 : tr_loss 0.60352\n",
      "epoch 56 : tr_loss 0.60353\n",
      "epoch 57 : tr_loss 0.60358\n",
      "epoch 58 : tr_loss 0.60356\n",
      "epoch 59 : tr_loss 0.60351\n",
      "epoch 60 : tr_loss 0.60351\n",
      "epoch 61 : tr_loss 0.60352\n",
      "epoch 62 : tr_loss 0.60352\n",
      "epoch 63 : tr_loss 0.60350\n",
      "epoch 64 : tr_loss 0.60379\n",
      "epoch 65 : tr_loss 0.60356\n",
      "epoch 66 : tr_loss 0.60348\n",
      "epoch 67 : tr_loss 0.60348\n",
      "epoch 68 : tr_loss 0.60347\n",
      "epoch 69 : tr_loss 0.60350\n",
      "epoch 70 : tr_loss 0.60346\n",
      "epoch 71 : tr_loss 0.60349\n",
      "epoch 72 : tr_loss 0.60349\n",
      "epoch 73 : tr_loss 0.60349\n",
      "epoch 74 : tr_loss 0.60348\n",
      "epoch 75 : tr_loss 0.60346\n",
      "epoch 76 : tr_loss 0.60350\n",
      "epoch 77 : tr_loss 0.60344\n",
      "epoch 78 : tr_loss 0.60349\n",
      "epoch 79 : tr_loss 0.60346\n",
      "epoch 80 : tr_loss 0.60346\n",
      "epoch 81 : tr_loss 0.60351\n",
      "epoch 82 : tr_loss 0.60347\n",
      "epoch 83 : tr_loss 0.60342\n",
      "epoch 84 : tr_loss 0.60344\n",
      "epoch 85 : tr_loss 0.60346\n",
      "epoch 86 : tr_loss 0.60343\n",
      "epoch 87 : tr_loss 0.60344\n",
      "epoch 88 : tr_loss 0.60346\n",
      "epoch 89 : tr_loss 0.60347\n",
      "epoch 90 : tr_loss 0.60346\n",
      "epoch 91 : tr_loss 0.60340\n",
      "epoch 92 : tr_loss 0.60344\n",
      "epoch 93 : tr_loss 0.60348\n",
      "epoch 94 : tr_loss 0.60343\n",
      "epoch 95 : tr_loss 0.60342\n",
      "epoch 96 : tr_loss 0.60362\n",
      "epoch 97 : tr_loss 0.60345\n",
      "epoch 98 : tr_loss 0.60339\n",
      "epoch 99 : tr_loss 0.60347\n",
      "epoch 100 : tr_loss 0.60340\n"
     ]
    }
   ],
   "source": [
    "# fit\n",
    "\n",
    "loss_history = []\n",
    "acc_history = []\n",
    "\n",
    "model.train()\n",
    "for ep in range(epoch):\n",
    "    train_loss = 0\n",
    "    train_acc = 0\n",
    "\n",
    "    for X_batch, _ in train_DL:\n",
    "        X_batch = X_batch.to(device)\n",
    "        # y_batch = y_batch.to(device)\n",
    "\n",
    "        # inference\n",
    "        y_hat = model.forward(X_batch)\n",
    "\n",
    "        # loss\n",
    "        loss = criterion(y_hat, X_batch)\n",
    "\n",
    "        # deriviate\n",
    "        optimizer.zero_grad()\n",
    "        loss.backward()\n",
    "\n",
    "        # update\n",
    "        optimizer.step()\n",
    "\n",
    "        # train acc, loss\n",
    "        outputs = model.forward(X_batch)\n",
    "        train_loss += loss.item()\n",
    "\n",
    "\n",
    "    train_loss /= len(train_DL)\n",
    "\n",
    "    loss_history.append(train_loss)\n",
    "\n",
    "    print(f\"epoch {ep+1} : tr_loss {train_loss:.5f}\")\n",
    "\n",
    "# early_stopping_cb = keras.callbacks.EarlyStopping(patience=3, restore_best_weights=True)\n",
    "\n",
    "# history = autoencoder.fit(X_train_scaled, X_train_scaled,  # 자기 자신을 training (비지도 학습)\n",
    "#                           epochs=50, \n",
    "#                           batch_size=128, \n",
    "#                           shuffle=True, \n",
    "#                           callbacks=[early_stopping_cb],\n",
    "#                           validation_split = 0.1)"
   ]
  },
  {
   "cell_type": "code",
   "execution_count": 138,
   "id": "7ee7694a",
   "metadata": {
    "ExecuteTime": {
     "end_time": "2025-07-29T08:41:47.761775Z",
     "start_time": "2025-07-29T08:41:47.551431Z"
    }
   },
   "outputs": [
    {
     "data": {
      "image/png": "[encoded data removed]",
      "text/plain": [
       "<Figure size 640x480 with 1 Axes>"
      ]
     },
     "metadata": {},
     "output_type": "display_data"
    },
    {
     "data": {
      "text/plain": [
       "'\\n    일반적으로 autoencoder는 분류를 다루지 않기 때문에 acc가 나오지 않는다.\\n'"
      ]
     },
     "execution_count": 138,
     "metadata": {},
     "output_type": "execute_result"
    }
   ],
   "source": [
    "# history 그리고 loss 시각화\n",
    "\n",
    "plt.plot([ep for ep in range (1, 101)],\n",
    "        [component for component in loss_history],\n",
    "        label='train loss')\n",
    "# plt.plot([ep for ep in range (1, 21)],\n",
    "#         [component[1] for component in loss_history],\n",
    "#         label='val loss')\n",
    "plt.legend()\n",
    "plt.show()\n",
    "\n",
    "'''\n",
    "    일반적으로 autoencoder는 분류를 다루지 않기 때문에 acc가 나오지 않는다.\n",
    "'''"
   ]
  },
  {
   "cell_type": "code",
   "execution_count": 139,
   "id": "e3dfc82f",
   "metadata": {
    "ExecuteTime": {
     "end_time": "2025-07-29T08:41:47.851781Z",
     "start_time": "2025-07-29T08:41:47.764966Z"
    }
   },
   "outputs": [
    {
     "data": {
      "text/html": [
       "<div>\n",
       "<style scoped>\n",
       "    .dataframe tbody tr th:only-of-type {\n",
       "        vertical-align: middle;\n",
       "    }\n",
       "\n",
       "    .dataframe tbody tr th {\n",
       "        vertical-align: top;\n",
       "    }\n",
       "\n",
       "    .dataframe thead th {\n",
       "        text-align: right;\n",
       "    }\n",
       "</style>\n",
       "<table border=\"1\" class=\"dataframe\">\n",
       "  <thead>\n",
       "    <tr style=\"text-align: right;\">\n",
       "      <th></th>\n",
       "      <th>reconstruction_error</th>\n",
       "      <th>true_class</th>\n",
       "    </tr>\n",
       "  </thead>\n",
       "  <tbody>\n",
       "    <tr>\n",
       "      <th>count</th>\n",
       "      <td>61200.000000</td>\n",
       "      <td>61200.000000</td>\n",
       "    </tr>\n",
       "    <tr>\n",
       "      <th>mean</th>\n",
       "      <td>5.987743</td>\n",
       "      <td>0.751634</td>\n",
       "    </tr>\n",
       "    <tr>\n",
       "      <th>std</th>\n",
       "      <td>43.173672</td>\n",
       "      <td>0.432069</td>\n",
       "    </tr>\n",
       "    <tr>\n",
       "      <th>min</th>\n",
       "      <td>0.000070</td>\n",
       "      <td>0.000000</td>\n",
       "    </tr>\n",
       "    <tr>\n",
       "      <th>25%</th>\n",
       "      <td>0.233802</td>\n",
       "      <td>1.000000</td>\n",
       "    </tr>\n",
       "    <tr>\n",
       "      <th>50%</th>\n",
       "      <td>0.659925</td>\n",
       "      <td>1.000000</td>\n",
       "    </tr>\n",
       "    <tr>\n",
       "      <th>75%</th>\n",
       "      <td>3.401732</td>\n",
       "      <td>1.000000</td>\n",
       "    </tr>\n",
       "    <tr>\n",
       "      <th>max</th>\n",
       "      <td>3184.798124</td>\n",
       "      <td>1.000000</td>\n",
       "    </tr>\n",
       "  </tbody>\n",
       "</table>\n",
       "</div>"
      ],
      "text/plain": [
       "       reconstruction_error    true_class\n",
       "count          61200.000000  61200.000000\n",
       "mean               5.987743      0.751634\n",
       "std               43.173672      0.432069\n",
       "min                0.000070      0.000000\n",
       "25%                0.233802      1.000000\n",
       "50%                0.659925      1.000000\n",
       "75%                3.401732      1.000000\n",
       "max             3184.798124      1.000000"
      ]
     },
     "execution_count": 139,
     "metadata": {},
     "output_type": "execute_result"
    }
   ],
   "source": [
    "# reconstruction error \n",
    "\n",
    "predictions = model.forward(torch.tensor(X_test_scaled, dtype=torch.float32)).detach().numpy()\n",
    "reconstruction_error = np.mean(np.square(X_test_scaled - predictions), axis=1) # mse\n",
    "\n",
    "error_df = pd.DataFrame({\n",
    "    'reconstruction_error': reconstruction_error,\n",
    "    'true_class': y_test\n",
    "})\n",
    "\n",
    "'''\n",
    "    reconstruction error가 높다 -> fraud일 가능성이 매우 높아지는 것 \n",
    "    (실제 정상인 데이터를 가지고 모델을 학습시켰으니 이상한 값에 대하여 loss가 많을 것)\n",
    "'''\n",
    "\n",
    "error_summary = error_df.describe()\n",
    "error_summary"
   ]
  },
  {
   "cell_type": "code",
   "execution_count": 140,
   "id": "36559804",
   "metadata": {
    "ExecuteTime": {
     "end_time": "2025-07-29T08:41:47.864568Z",
     "start_time": "2025-07-29T08:41:47.854261Z"
    }
   },
   "outputs": [
    {
     "data": {
      "text/html": [
       "<div>\n",
       "<style scoped>\n",
       "    .dataframe tbody tr th:only-of-type {\n",
       "        vertical-align: middle;\n",
       "    }\n",
       "\n",
       "    .dataframe tbody tr th {\n",
       "        vertical-align: top;\n",
       "    }\n",
       "\n",
       "    .dataframe thead th {\n",
       "        text-align: right;\n",
       "    }\n",
       "</style>\n",
       "<table border=\"1\" class=\"dataframe\">\n",
       "  <thead>\n",
       "    <tr style=\"text-align: right;\">\n",
       "      <th></th>\n",
       "      <th>reconstruction_error</th>\n",
       "      <th>true_class</th>\n",
       "    </tr>\n",
       "  </thead>\n",
       "  <tbody>\n",
       "    <tr>\n",
       "      <th>0</th>\n",
       "      <td>0.345611</td>\n",
       "      <td>0</td>\n",
       "    </tr>\n",
       "    <tr>\n",
       "      <th>1</th>\n",
       "      <td>0.461222</td>\n",
       "      <td>0</td>\n",
       "    </tr>\n",
       "    <tr>\n",
       "      <th>2</th>\n",
       "      <td>0.733098</td>\n",
       "      <td>0</td>\n",
       "    </tr>\n",
       "    <tr>\n",
       "      <th>3</th>\n",
       "      <td>1.157056</td>\n",
       "      <td>0</td>\n",
       "    </tr>\n",
       "    <tr>\n",
       "      <th>4</th>\n",
       "      <td>1.688817</td>\n",
       "      <td>0</td>\n",
       "    </tr>\n",
       "    <tr>\n",
       "      <th>...</th>\n",
       "      <td>...</td>\n",
       "      <td>...</td>\n",
       "    </tr>\n",
       "    <tr>\n",
       "      <th>61195</th>\n",
       "      <td>10.584027</td>\n",
       "      <td>1</td>\n",
       "    </tr>\n",
       "    <tr>\n",
       "      <th>61196</th>\n",
       "      <td>10.550996</td>\n",
       "      <td>1</td>\n",
       "    </tr>\n",
       "    <tr>\n",
       "      <th>61197</th>\n",
       "      <td>10.634020</td>\n",
       "      <td>1</td>\n",
       "    </tr>\n",
       "    <tr>\n",
       "      <th>61198</th>\n",
       "      <td>10.528897</td>\n",
       "      <td>1</td>\n",
       "    </tr>\n",
       "    <tr>\n",
       "      <th>61199</th>\n",
       "      <td>10.649625</td>\n",
       "      <td>1</td>\n",
       "    </tr>\n",
       "  </tbody>\n",
       "</table>\n",
       "<p>61200 rows × 2 columns</p>\n",
       "</div>"
      ],
      "text/plain": [
       "       reconstruction_error  true_class\n",
       "0                  0.345611           0\n",
       "1                  0.461222           0\n",
       "2                  0.733098           0\n",
       "3                  1.157056           0\n",
       "4                  1.688817           0\n",
       "...                     ...         ...\n",
       "61195             10.584027           1\n",
       "61196             10.550996           1\n",
       "61197             10.634020           1\n",
       "61198             10.528897           1\n",
       "61199             10.649625           1\n",
       "\n",
       "[61200 rows x 2 columns]"
      ]
     },
     "execution_count": 140,
     "metadata": {},
     "output_type": "execute_result"
    }
   ],
   "source": [
    "error_df"
   ]
  },
  {
   "cell_type": "code",
   "execution_count": 145,
   "id": "5212ccd5",
   "metadata": {
    "ExecuteTime": {
     "end_time": "2025-07-29T08:42:39.819306Z",
     "start_time": "2025-07-29T08:42:39.814635Z"
    }
   },
   "outputs": [
    {
     "data": {
      "text/plain": [
       "5.987742830175963"
      ]
     },
     "execution_count": 145,
     "metadata": {},
     "output_type": "execute_result"
    }
   ],
   "source": [
    "error_df['reconstruction_error'].mean() "
   ]
  },
  {
   "cell_type": "code",
   "execution_count": 147,
   "id": "e97d76ee",
   "metadata": {
    "ExecuteTime": {
     "end_time": "2025-07-29T08:43:52.112121Z",
     "start_time": "2025-07-29T08:43:52.108812Z"
    }
   },
   "outputs": [
    {
     "name": "stdout",
     "output_type": "stream",
     "text": [
      "4.5\n"
     ]
    }
   ],
   "source": [
    "# 임계값 설정\n",
    "\n",
    "# mean_error = error_df['reconstruction_error'].mean()\n",
    "# std_error = error_df['reconstruction_error'].std()\n",
    "\n",
    "# k = 2\n",
    "# threshold = (mean_error + k * std_error) /10\n",
    "\n",
    "threshold = 4.5\n",
    "\n",
    "print (threshold)"
   ]
  },
  {
   "cell_type": "markdown",
   "id": "f0830070",
   "metadata": {},
   "source": [
    "위 threshold는 일종의 cutline으로, 이 너머에 있는 data를 이상치로 판단하는 것으로 해석할 수 있다. 보통은 아래와 같은 공식을 사용하여 threshold를 설정한다.\n",
    "\n",
    "$$\n",
    "\\text{threshold} = \\text{mean} + k \\times \\text{std}\n",
    "$$\n",
    "\n",
    "- 여기서 $k$는 선택하는 상수로, 일반적으로 2 또는 3의 값을 사용한다. $k$의 값은 탐지의 민감도에 영향을 미친다.\n",
    "\n",
    "만약 **$k = 2$** 이라면 약 95%의 정상 데이터 포인트를 포함하는 임계값이다. 즉, 평균에서 두 표준편차 내에 있는 데이터는 정상으로 간주되며, 두 표준편차를 초과하는 재구성 오류는 비정상으로 판단된다.\n",
    "\n",
    "**$k = 3$** 이라면 약 99.7%의 정상 데이터 포인트를 포함하는 더 보수적인 접근 방식이다. 이 경우 비정상 데이터가 많을 때, 일부 정상 데이터도 잘못 탐지될 수 있다.\n"
   ]
  },
  {
   "cell_type": "code",
   "execution_count": 148,
   "id": "81e4ab0c",
   "metadata": {
    "ExecuteTime": {
     "end_time": "2025-07-29T08:43:53.378507Z",
     "start_time": "2025-07-29T08:43:53.034362Z"
    }
   },
   "outputs": [
    {
     "data": {
      "image/png": "[encoded data removed]",
      "text/plain": [
       "<Figure size 640x480 with 1 Axes>"
      ]
     },
     "metadata": {},
     "output_type": "display_data"
    }
   ],
   "source": [
    "# reconstruction error visualization\n",
    "\n",
    "groups = error_df.groupby('true_class')\n",
    "fig, ax = plt.subplots()\n",
    "\n",
    "for name, group in groups:\n",
    "    ax.plot(group.index, group.reconstruction_error, marker='o', ms=3.5, linestyle='',\n",
    "            label= \"Abnormal\" if name == 1 else \"Normal\")\n",
    "    \n",
    "ax.hlines(threshold, ax.get_xlim()[0], ax.get_xlim()[1], colors=\"r\", zorder=100, label='Threshold')\n",
    "ax.legend()\n",
    "plt.title(\"Reconstruction error for different classes\")\n",
    "plt.ylabel(\"Reconstruction error\")\n",
    "plt.ylim(0, 10)\n",
    "plt.xlabel(\"Data point index\")\n",
    "plt.show();"
   ]
  },
  {
   "cell_type": "code",
   "execution_count": 149,
   "id": "6f409f97",
   "metadata": {
    "ExecuteTime": {
     "end_time": "2025-07-29T08:43:54.426382Z",
     "start_time": "2025-07-29T08:43:54.175044Z"
    }
   },
   "outputs": [
    {
     "name": "stdout",
     "output_type": "stream",
     "text": [
      "              precision    recall  f1-score   support\n",
      "\n",
      "           0       0.32      0.98      0.48     15200\n",
      "           1       0.98      0.30      0.46     46000\n",
      "\n",
      "    accuracy                           0.47     61200\n",
      "   macro avg       0.65      0.64      0.47     61200\n",
      "weighted avg       0.81      0.47      0.47     61200\n",
      "\n"
     ]
    },
    {
     "data": {
      "image/png": "[encoded data removed]",
      "text/plain": [
       "<Figure size 1000x700 with 2 Axes>"
      ]
     },
     "metadata": {},
     "output_type": "display_data"
    }
   ],
   "source": [
    "# classification report, heatmap\n",
    "\n",
    "from sklearn.metrics import confusion_matrix, classification_report\n",
    "\n",
    "error_df['predicted_class'] = (error_df['reconstruction_error'] > threshold).astype(int)\n",
    "print(classification_report(error_df['true_class'], error_df['predicted_class']))\n",
    "\n",
    "cm = confusion_matrix(error_df['true_class'], error_df['predicted_class'])\n",
    "\n",
    "plt.figure(figsize=(10, 7))\n",
    "sns.heatmap(cm, annot=True, fmt='d', cmap='Blues',\n",
    "            xticklabels=['normal', 'abnormal'], \n",
    "            yticklabels=['normal', 'abnormal'])\n",
    "plt.xlabel('Predicted')\n",
    "plt.ylabel('True')\n",
    "plt.title('Confusion Matrix Heatmap')\n",
    "plt.show()\n"
   ]
  },
  {
   "cell_type": "code",
   "execution_count": null,
   "id": "e390c36b",
   "metadata": {},
   "outputs": [],
   "source": []
  }
 ],
 "metadata": {
  "kernelspec": {
   "display_name": "Python 3 (ipykernel)",
   "language": "python",
   "name": "python3"
  },
  "language_info": {
   "codemirror_mode": {
    "name": "ipython",
    "version": 3
   },
   "file_extension": ".py",
   "mimetype": "text/x-python",
   "name": "python",
   "nbconvert_exporter": "python",
   "pygments_lexer": "ipython3",
   "version": "3.11.3"
  },
  "varInspector": {
   "cols": {
    "lenName": 16,
    "lenType": 16,
    "lenVar": 40
   },
   "kernels_config": {
    "python": {
     "delete_cmd_postfix": "",
     "delete_cmd_prefix": "del ",
     "library": "var_list.py",
     "varRefreshCmd": "print(var_dic_list())"
    },
    "r": {
     "delete_cmd_postfix": ") ",
     "delete_cmd_prefix": "rm(",
     "library": "var_list.r",
     "varRefreshCmd": "cat(var_dic_list()) "
    }
   },
   "types_to_exclude": [
    "module",
    "function",
    "builtin_function_or_method",
    "instance",
    "_Feature"
   ],
   "window_display": false
  }
 },
 "nbformat": 4,
 "nbformat_minor": 5
}
