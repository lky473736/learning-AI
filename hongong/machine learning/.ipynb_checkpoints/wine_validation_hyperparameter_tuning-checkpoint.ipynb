{
 "cells": [
  {
   "attachments": {},
   "cell_type": "markdown",
   "id": "49603e22",
   "metadata": {},
   "source": [
    "## learning-AI101 : wine classification (validation, search)\n",
    "- 혼자 공부하는 머신러닝과 딥러닝 : 242p~262p\n",
    "- 2024.07.22."
   ]
  },
  {
   "cell_type": "markdown",
   "id": "51d36553",
   "metadata": {},
   "source": [
    "---------\n",
    "\n",
    "- 데이터를 아래와 같이 split\n",
    "    - train set (60%)\n",
    "    - validation set (20%, 최적의 하이퍼파라미터를 찾은 후 다시 train set과 병합 예정)\n",
    "    - test set (20%)\n",
    "- (1) 최적의 하이퍼파라미터를 찾기 위해 아래 반복 실행 \n",
    "    - 모델 훈련 (train set)\n",
    "    - score (validation set)\n",
    "- (2) 최적의 하이퍼파라미터를 적용한 모델을 train set + validation set 병합 데이터로 fit\n",
    "- (3) test set을 이용해 최종적인 score 도출"
   ]
  },
  {
   "cell_type": "code",
   "execution_count": 19,
   "id": "6ecb9226",
   "metadata": {
    "ExecuteTime": {
     "end_time": "2024-07-22T13:52:21.025389Z",
     "start_time": "2024-07-22T13:52:21.022694Z"
    }
   },
   "outputs": [],
   "source": [
    "import pandas as pd\n",
    "import matplotlib.pyplot as plt\n",
    "import numpy as np"
   ]
  },
  {
   "cell_type": "code",
   "execution_count": 11,
   "id": "67d79446",
   "metadata": {
    "ExecuteTime": {
     "end_time": "2024-07-22T13:39:48.861089Z",
     "start_time": "2024-07-22T13:39:47.875664Z"
    }
   },
   "outputs": [
    {
     "data": {
      "text/html": [
       "<div>\n",
       "<style scoped>\n",
       "    .dataframe tbody tr th:only-of-type {\n",
       "        vertical-align: middle;\n",
       "    }\n",
       "\n",
       "    .dataframe tbody tr th {\n",
       "        vertical-align: top;\n",
       "    }\n",
       "\n",
       "    .dataframe thead th {\n",
       "        text-align: right;\n",
       "    }\n",
       "</style>\n",
       "<table border=\"1\" class=\"dataframe\">\n",
       "  <thead>\n",
       "    <tr style=\"text-align: right;\">\n",
       "      <th></th>\n",
       "      <th>alcohol</th>\n",
       "      <th>sugar</th>\n",
       "      <th>pH</th>\n",
       "      <th>class</th>\n",
       "    </tr>\n",
       "  </thead>\n",
       "  <tbody>\n",
       "    <tr>\n",
       "      <th>0</th>\n",
       "      <td>9.4</td>\n",
       "      <td>1.9</td>\n",
       "      <td>3.51</td>\n",
       "      <td>0.0</td>\n",
       "    </tr>\n",
       "    <tr>\n",
       "      <th>1</th>\n",
       "      <td>9.8</td>\n",
       "      <td>2.6</td>\n",
       "      <td>3.20</td>\n",
       "      <td>0.0</td>\n",
       "    </tr>\n",
       "    <tr>\n",
       "      <th>2</th>\n",
       "      <td>9.8</td>\n",
       "      <td>2.3</td>\n",
       "      <td>3.26</td>\n",
       "      <td>0.0</td>\n",
       "    </tr>\n",
       "    <tr>\n",
       "      <th>3</th>\n",
       "      <td>9.8</td>\n",
       "      <td>1.9</td>\n",
       "      <td>3.16</td>\n",
       "      <td>0.0</td>\n",
       "    </tr>\n",
       "    <tr>\n",
       "      <th>4</th>\n",
       "      <td>9.4</td>\n",
       "      <td>1.9</td>\n",
       "      <td>3.51</td>\n",
       "      <td>0.0</td>\n",
       "    </tr>\n",
       "  </tbody>\n",
       "</table>\n",
       "</div>"
      ],
      "text/plain": [
       "   alcohol  sugar    pH  class\n",
       "0      9.4    1.9  3.51    0.0\n",
       "1      9.8    2.6  3.20    0.0\n",
       "2      9.8    2.3  3.26    0.0\n",
       "3      9.8    1.9  3.16    0.0\n",
       "4      9.4    1.9  3.51    0.0"
      ]
     },
     "execution_count": 11,
     "metadata": {},
     "output_type": "execute_result"
    }
   ],
   "source": [
    "# 데이터 불러오기\n",
    "\n",
    "wine = pd.read_csv ('https://bit.ly/wine_csv_data')\n",
    "wine.head()\n",
    "\n",
    "# alcohol, sugar, pH가 feature\n",
    "# class가 target"
   ]
  },
  {
   "cell_type": "code",
   "execution_count": 12,
   "id": "eae80c7e",
   "metadata": {
    "ExecuteTime": {
     "end_time": "2024-07-22T13:39:48.866821Z",
     "start_time": "2024-07-22T13:39:48.863053Z"
    }
   },
   "outputs": [],
   "source": [
    "# data, target으로 split\n",
    "\n",
    "data = wine[['alcohol', 'sugar', 'pH']].to_numpy()\n",
    "target = wine['class'].to_numpy()"
   ]
  },
  {
   "cell_type": "code",
   "execution_count": 13,
   "id": "79e6d2b5",
   "metadata": {
    "ExecuteTime": {
     "end_time": "2024-07-22T13:39:48.874712Z",
     "start_time": "2024-07-22T13:39:48.870548Z"
    }
   },
   "outputs": [],
   "source": [
    "# 먼저 train set과 test set을 8:2로 split\n",
    "\n",
    "from sklearn.model_selection import train_test_split\n",
    "\n",
    "X_train, X_test, y_train, y_test = train_test_split(data, target, test_size=0.2)"
   ]
  },
  {
   "cell_type": "code",
   "execution_count": 14,
   "id": "69c4f37e",
   "metadata": {
    "ExecuteTime": {
     "end_time": "2024-07-22T13:39:48.881100Z",
     "start_time": "2024-07-22T13:39:48.877078Z"
    }
   },
   "outputs": [
    {
     "name": "stdout",
     "output_type": "stream",
     "text": [
      "6 : 2 : 2 = (((5197, 3), (5197,))) : (((1040, 3), (1040,))) : (((1300, 3), (1300,)))\n"
     ]
    }
   ],
   "source": [
    "# train set을 다시 나누어, 거의 6 : 2 : 2 비율을 맞춘다\n",
    "\n",
    "X_train_vali_ver, X_vali, y_train_vali_ver, y_vali = train_test_split(X_train, y_train, test_size=0.2)\n",
    "\n",
    "print (f'6 : 2 : 2 = ({X_train.shape, y_train.shape}) : ({X_vali.shape, y_vali.shape}) : ({X_test.shape, y_test.shape})')"
   ]
  },
  {
   "cell_type": "code",
   "execution_count": 15,
   "id": "13365b4d",
   "metadata": {
    "ExecuteTime": {
     "end_time": "2024-07-22T13:41:04.853818Z",
     "start_time": "2024-07-22T13:41:04.839454Z"
    }
   },
   "outputs": [
    {
     "data": {
      "text/html": [
       "<style>#sk-container-id-1 {color: black;}#sk-container-id-1 pre{padding: 0;}#sk-container-id-1 div.sk-toggleable {background-color: white;}#sk-container-id-1 label.sk-toggleable__label {cursor: pointer;display: block;width: 100%;margin-bottom: 0;padding: 0.3em;box-sizing: border-box;text-align: center;}#sk-container-id-1 label.sk-toggleable__label-arrow:before {content: \"▸\";float: left;margin-right: 0.25em;color: #696969;}#sk-container-id-1 label.sk-toggleable__label-arrow:hover:before {color: black;}#sk-container-id-1 div.sk-estimator:hover label.sk-toggleable__label-arrow:before {color: black;}#sk-container-id-1 div.sk-toggleable__content {max-height: 0;max-width: 0;overflow: hidden;text-align: left;background-color: #f0f8ff;}#sk-container-id-1 div.sk-toggleable__content pre {margin: 0.2em;color: black;border-radius: 0.25em;background-color: #f0f8ff;}#sk-container-id-1 input.sk-toggleable__control:checked~div.sk-toggleable__content {max-height: 200px;max-width: 100%;overflow: auto;}#sk-container-id-1 input.sk-toggleable__control:checked~label.sk-toggleable__label-arrow:before {content: \"▾\";}#sk-container-id-1 div.sk-estimator input.sk-toggleable__control:checked~label.sk-toggleable__label {background-color: #d4ebff;}#sk-container-id-1 div.sk-label input.sk-toggleable__control:checked~label.sk-toggleable__label {background-color: #d4ebff;}#sk-container-id-1 input.sk-hidden--visually {border: 0;clip: rect(1px 1px 1px 1px);clip: rect(1px, 1px, 1px, 1px);height: 1px;margin: -1px;overflow: hidden;padding: 0;position: absolute;width: 1px;}#sk-container-id-1 div.sk-estimator {font-family: monospace;background-color: #f0f8ff;border: 1px dotted black;border-radius: 0.25em;box-sizing: border-box;margin-bottom: 0.5em;}#sk-container-id-1 div.sk-estimator:hover {background-color: #d4ebff;}#sk-container-id-1 div.sk-parallel-item::after {content: \"\";width: 100%;border-bottom: 1px solid gray;flex-grow: 1;}#sk-container-id-1 div.sk-label:hover label.sk-toggleable__label {background-color: #d4ebff;}#sk-container-id-1 div.sk-serial::before {content: \"\";position: absolute;border-left: 1px solid gray;box-sizing: border-box;top: 0;bottom: 0;left: 50%;z-index: 0;}#sk-container-id-1 div.sk-serial {display: flex;flex-direction: column;align-items: center;background-color: white;padding-right: 0.2em;padding-left: 0.2em;position: relative;}#sk-container-id-1 div.sk-item {position: relative;z-index: 1;}#sk-container-id-1 div.sk-parallel {display: flex;align-items: stretch;justify-content: center;background-color: white;position: relative;}#sk-container-id-1 div.sk-item::before, #sk-container-id-1 div.sk-parallel-item::before {content: \"\";position: absolute;border-left: 1px solid gray;box-sizing: border-box;top: 0;bottom: 0;left: 50%;z-index: -1;}#sk-container-id-1 div.sk-parallel-item {display: flex;flex-direction: column;z-index: 1;position: relative;background-color: white;}#sk-container-id-1 div.sk-parallel-item:first-child::after {align-self: flex-end;width: 50%;}#sk-container-id-1 div.sk-parallel-item:last-child::after {align-self: flex-start;width: 50%;}#sk-container-id-1 div.sk-parallel-item:only-child::after {width: 0;}#sk-container-id-1 div.sk-dashed-wrapped {border: 1px dashed gray;margin: 0 0.4em 0.5em 0.4em;box-sizing: border-box;padding-bottom: 0.4em;background-color: white;}#sk-container-id-1 div.sk-label label {font-family: monospace;font-weight: bold;display: inline-block;line-height: 1.2em;}#sk-container-id-1 div.sk-label-container {text-align: center;}#sk-container-id-1 div.sk-container {/* jupyter's `normalize.less` sets `[hidden] { display: none; }` but bootstrap.min.css set `[hidden] { display: none !important; }` so we also need the `!important` here to be able to override the default hidden behavior on the sphinx rendered scikit-learn.org. See: https://github.com/scikit-learn/scikit-learn/issues/21755 */display: inline-block !important;position: relative;}#sk-container-id-1 div.sk-text-repr-fallback {display: none;}</style><div id=\"sk-container-id-1\" class=\"sk-top-container\"><div class=\"sk-text-repr-fallback\"><pre>DecisionTreeClassifier()</pre><b>In a Jupyter environment, please rerun this cell to show the HTML representation or trust the notebook. <br />On GitHub, the HTML representation is unable to render, please try loading this page with nbviewer.org.</b></div><div class=\"sk-container\" hidden><div class=\"sk-item\"><div class=\"sk-estimator sk-toggleable\"><input class=\"sk-toggleable__control sk-hidden--visually\" id=\"sk-estimator-id-1\" type=\"checkbox\" checked><label for=\"sk-estimator-id-1\" class=\"sk-toggleable__label sk-toggleable__label-arrow\">DecisionTreeClassifier</label><div class=\"sk-toggleable__content\"><pre>DecisionTreeClassifier()</pre></div></div></div></div></div>"
      ],
      "text/plain": [
       "DecisionTreeClassifier()"
      ]
     },
     "execution_count": 15,
     "metadata": {},
     "output_type": "execute_result"
    }
   ],
   "source": [
    "# 모델 학습\n",
    "\n",
    "from sklearn.tree import DecisionTreeClassifier\n",
    "\n",
    "dt = DecisionTreeClassifier()\n",
    "dt.fit(X_train_vali_ver, y_train_vali_ver)"
   ]
  },
  {
   "cell_type": "code",
   "execution_count": 16,
   "id": "fac8746a",
   "metadata": {
    "ExecuteTime": {
     "end_time": "2024-07-22T13:42:02.276997Z",
     "start_time": "2024-07-22T13:42:02.270508Z"
    }
   },
   "outputs": [
    {
     "name": "stdout",
     "output_type": "stream",
     "text": [
      "train score :  0.9980755352417608\n",
      "validation test score :  0.8480769230769231\n"
     ]
    }
   ],
   "source": [
    "# score (validation set)\n",
    "\n",
    "print ('train score : ', dt.score(X_train_vali_ver, y_train_vali_ver))\n",
    "print ('validation test score : ', dt.score(X_vali, y_vali))\n",
    "\n",
    "# 아래를 보니 train score가 높아 overfitting된 것을 알 수 있음.\n",
    "# 위 방법은 사실 좋은 방법이 아니다. 이유는 validation set을 split하기 위해 train set의 data 양이 줄어들었기 때문에"
   ]
  },
  {
   "attachments": {},
   "cell_type": "markdown",
   "id": "05e49535",
   "metadata": {},
   "source": [
    "-------\n",
    "\n",
    "#### cross-validation\n",
    "- validation set을 추가적으로 split하면 train할 때의 데이터의 양이 작아질 수밖에 없음\n",
    "- 따라서, k-fold cross validation 방식을 이용하여 아래와 같이 학습\n",
    "![image.png](https://www.researchgate.net/publication/332370436/figure/fig1/AS:746775958806528@1555056671117/Diagram-of-k-fold-cross-validation-with-k-10-Image-from-Karl-Rosaen-Log.ppm)\n",
    "- 위는 10-fold cross validation"
   ]
  },
  {
   "cell_type": "code",
   "execution_count": 21,
   "id": "80e260b4",
   "metadata": {
    "ExecuteTime": {
     "end_time": "2024-07-22T13:52:33.133700Z",
     "start_time": "2024-07-22T13:52:33.085572Z"
    }
   },
   "outputs": [
    {
     "name": "stdout",
     "output_type": "stream",
     "text": [
      "{'fit_time': array([0.00790811, 0.00717521, 0.00715613, 0.00644612, 0.00670624]), 'score_time': array([0.00106597, 0.00094295, 0.00099897, 0.00078416, 0.00080585]), 'test_score': array([0.85865385, 0.84326923, 0.88931665, 0.85563041, 0.86333013])}\n",
      "validation score :  0.8620400533056933\n"
     ]
    }
   ],
   "source": [
    "# cross-validate를 이용하여 교차 검증\n",
    "# cross-validate를 할 때는 train set 전체를 대입 (자체적으로 split)\n",
    "\n",
    "from sklearn.model_selection import cross_validate # 기본적으로 5폴드\n",
    "\n",
    "scores = cross_validate(dt, X_train, y_train) # 모델, X_train, y_train\n",
    "print (scores) # 여기에 있는 test_scores가 각 iteration의 score\n",
    "\n",
    "# 평균 내어서 최종적인 validation score 도출\n",
    "print (\"validation score : \", np.mean(scores['test_score'])) # test_score가 폴드별로의 score"
   ]
  },
  {
   "cell_type": "code",
   "execution_count": 22,
   "id": "93a4149f",
   "metadata": {
    "ExecuteTime": {
     "end_time": "2024-07-22T14:01:56.442472Z",
     "start_time": "2024-07-22T14:01:56.356653Z"
    }
   },
   "outputs": [
    {
     "name": "stdout",
     "output_type": "stream",
     "text": [
      "{'fit_time': array([0.00793791, 0.00817108, 0.00843167, 0.00777698, 0.00717092,\n",
      "       0.00671101, 0.00633097, 0.00581193, 0.0062058 , 0.00549603]), 'score_time': array([0.0008471 , 0.00092316, 0.00093722, 0.00076699, 0.00067306,\n",
      "       0.00066519, 0.00059581, 0.00057411, 0.00054407, 0.00049901]), 'test_score': array([0.87692308, 0.86346154, 0.86923077, 0.85      , 0.86346154,\n",
      "       0.89423077, 0.85384615, 0.86705202, 0.87283237, 0.87283237])}\n",
      "validation score :  0.8683870609159626\n"
     ]
    }
   ],
   "source": [
    "# 훈련 세트를 섞기 위해 splitter필요, kfold를 사용\n",
    "# kfold는 회귀이고, stratifiedkfold는 분류\n",
    "\n",
    "from sklearn.model_selection import StratifiedKFold\n",
    "\n",
    "splitter = StratifiedKFold(n_splits=10, shuffle=True) # 사실 전에\n",
    "scores = cross_validate(dt, X_train, y_train, cv=splitter)\n",
    "print (scores)\n",
    "\n",
    "# 평균 내어서 최종적인 validation score 도출\n",
    "print (\"validation score : \", np.mean(scores['test_score'])) # test_score가 폴드별로의 score"
   ]
  },
  {
   "cell_type": "markdown",
   "id": "65e21170",
   "metadata": {},
   "source": [
    "------\n",
    "\n",
    "#### 하이퍼파라미터 튜닝\n",
    "![img](https://miro.medium.com/v2/resize:fit:1400/0*LqZEl9-0FRJ98Kzq.png)\n",
    "- 최적의 하이퍼파라미터를 찾기 위한 방법, 사용자가 주어준 특정 범위 내에서 cross-validation하여 best parameter와 best estimator 도출\n",
    "- **(1) grid search**\n",
    "    - grid (표) 형식으로 특정 범위 내 특정 step으로 모든 parameter의 경우를 전부 조사\n",
    "    - 조사한 값 중 최적의 parameter를 best_params, 최적의 parameter로 학습한 모델을 best_estimator\n",
    "    - 시간이 오래 걸릴 수 있으며, 병렬적인 계산이 필요할 수 있음 (n_jobs=-1로 두어 모든 코어를 사용하게끔 함)\n",
    "- **(2) random search**\n",
    "    - grid search와 다른 성격, 자유로운 parameter 선정 (phase마다 parameter를 특정 범위 내에서 랜덤하게 뽑음)\n",
    "    - 완전 랜덤은 아닌, 균등분포에 가까운 랜덤으로\n",
    "    - n_iter로 샘플링 횟수 조정, 나머지는 grid search와 동일"
   ]
  },
  {
   "cell_type": "code",
   "execution_count": 24,
   "id": "bbed9934",
   "metadata": {
    "ExecuteTime": {
     "end_time": "2024-07-22T14:32:48.739766Z",
     "start_time": "2024-07-22T14:32:44.878540Z"
    }
   },
   "outputs": [
    {
     "name": "stdout",
     "output_type": "stream",
     "text": [
      "best parameter :  {'max_depth': 14, 'min_impurity_decrease': 0.0002, 'min_samples_split': 2}\n",
      "validation score :  0.871084622788184\n",
      "best model :  DecisionTreeClassifier(max_depth=14, min_impurity_decrease=0.0002)\n"
     ]
    }
   ],
   "source": [
    "# grid search\n",
    "\n",
    "from sklearn.model_selection import GridSearchCV\n",
    "\n",
    "params = { # parameter의 범위를 딕셔너리 형식으로 만들어야 함\n",
    "    'min_impurity_decrease' : np.arange(0.0001, 0.001, 0.0001), # 0.0001부터 0.001이 될때까지, 0.0001 간격으로\n",
    "    'max_depth' : range(5, 20, 1), # 5부터 20이 될때까지, 1 간격으로\n",
    "    'min_samples_split' : range(2, 100, 10)\n",
    "}\n",
    "\n",
    "gs = GridSearchCV(dt, params, n_jobs=-1) # cv = 5, splitter를 굳이 사용하지 않음 \n",
    "gs.fit(X_train, y_train)\n",
    "\n",
    "print (\"best parameter : \", gs.best_params_)\n",
    "print (\"validation score : \", np.max(gs.cv_results_['mean_test_score'])) # 최상의 교차 검증 점수\n",
    "print (\"best model : \", gs.best_estimator_)"
   ]
  },
  {
   "cell_type": "code",
   "execution_count": 26,
   "id": "b91b74fb",
   "metadata": {
    "ExecuteTime": {
     "end_time": "2024-07-22T14:43:04.128555Z",
     "start_time": "2024-07-22T14:43:04.117097Z"
    }
   },
   "outputs": [
    {
     "data": {
      "text/html": [
       "<div>\n",
       "<style scoped>\n",
       "    .dataframe tbody tr th:only-of-type {\n",
       "        vertical-align: middle;\n",
       "    }\n",
       "\n",
       "    .dataframe tbody tr th {\n",
       "        vertical-align: top;\n",
       "    }\n",
       "\n",
       "    .dataframe thead th {\n",
       "        text-align: right;\n",
       "    }\n",
       "</style>\n",
       "<table border=\"1\" class=\"dataframe\">\n",
       "  <thead>\n",
       "    <tr style=\"text-align: right;\">\n",
       "      <th></th>\n",
       "      <th>0</th>\n",
       "      <th>1</th>\n",
       "      <th>2</th>\n",
       "      <th>3</th>\n",
       "      <th>4</th>\n",
       "    </tr>\n",
       "  </thead>\n",
       "  <tbody>\n",
       "    <tr>\n",
       "      <th>mean_fit_time</th>\n",
       "      <td>0.004038</td>\n",
       "      <td>0.004595</td>\n",
       "      <td>0.004547</td>\n",
       "      <td>0.004177</td>\n",
       "      <td>0.00386</td>\n",
       "    </tr>\n",
       "    <tr>\n",
       "      <th>std_fit_time</th>\n",
       "      <td>0.000159</td>\n",
       "      <td>0.000402</td>\n",
       "      <td>0.000426</td>\n",
       "      <td>0.000203</td>\n",
       "      <td>0.00014</td>\n",
       "    </tr>\n",
       "    <tr>\n",
       "      <th>mean_score_time</th>\n",
       "      <td>0.001041</td>\n",
       "      <td>0.00128</td>\n",
       "      <td>0.001145</td>\n",
       "      <td>0.000874</td>\n",
       "      <td>0.000899</td>\n",
       "    </tr>\n",
       "    <tr>\n",
       "      <th>std_score_time</th>\n",
       "      <td>0.000179</td>\n",
       "      <td>0.000104</td>\n",
       "      <td>0.000053</td>\n",
       "      <td>0.000073</td>\n",
       "      <td>0.000131</td>\n",
       "    </tr>\n",
       "    <tr>\n",
       "      <th>param_max_depth</th>\n",
       "      <td>5</td>\n",
       "      <td>5</td>\n",
       "      <td>5</td>\n",
       "      <td>5</td>\n",
       "      <td>5</td>\n",
       "    </tr>\n",
       "    <tr>\n",
       "      <th>param_min_impurity_decrease</th>\n",
       "      <td>0.0001</td>\n",
       "      <td>0.0001</td>\n",
       "      <td>0.0001</td>\n",
       "      <td>0.0001</td>\n",
       "      <td>0.0001</td>\n",
       "    </tr>\n",
       "    <tr>\n",
       "      <th>param_min_samples_split</th>\n",
       "      <td>2</td>\n",
       "      <td>12</td>\n",
       "      <td>22</td>\n",
       "      <td>32</td>\n",
       "      <td>42</td>\n",
       "    </tr>\n",
       "    <tr>\n",
       "      <th>params</th>\n",
       "      <td>{'max_depth': 5, 'min_impurity_decrease': 0.00...</td>\n",
       "      <td>{'max_depth': 5, 'min_impurity_decrease': 0.00...</td>\n",
       "      <td>{'max_depth': 5, 'min_impurity_decrease': 0.00...</td>\n",
       "      <td>{'max_depth': 5, 'min_impurity_decrease': 0.00...</td>\n",
       "      <td>{'max_depth': 5, 'min_impurity_decrease': 0.00...</td>\n",
       "    </tr>\n",
       "    <tr>\n",
       "      <th>split0_test_score</th>\n",
       "      <td>0.842308</td>\n",
       "      <td>0.842308</td>\n",
       "      <td>0.842308</td>\n",
       "      <td>0.842308</td>\n",
       "      <td>0.842308</td>\n",
       "    </tr>\n",
       "    <tr>\n",
       "      <th>split1_test_score</th>\n",
       "      <td>0.855769</td>\n",
       "      <td>0.855769</td>\n",
       "      <td>0.855769</td>\n",
       "      <td>0.855769</td>\n",
       "      <td>0.855769</td>\n",
       "    </tr>\n",
       "    <tr>\n",
       "      <th>split2_test_score</th>\n",
       "      <td>0.87488</td>\n",
       "      <td>0.87488</td>\n",
       "      <td>0.87488</td>\n",
       "      <td>0.873917</td>\n",
       "      <td>0.873917</td>\n",
       "    </tr>\n",
       "    <tr>\n",
       "      <th>split3_test_score</th>\n",
       "      <td>0.839269</td>\n",
       "      <td>0.839269</td>\n",
       "      <td>0.839269</td>\n",
       "      <td>0.839269</td>\n",
       "      <td>0.840231</td>\n",
       "    </tr>\n",
       "    <tr>\n",
       "      <th>split4_test_score</th>\n",
       "      <td>0.868142</td>\n",
       "      <td>0.868142</td>\n",
       "      <td>0.868142</td>\n",
       "      <td>0.868142</td>\n",
       "      <td>0.868142</td>\n",
       "    </tr>\n",
       "    <tr>\n",
       "      <th>mean_test_score</th>\n",
       "      <td>0.856074</td>\n",
       "      <td>0.856074</td>\n",
       "      <td>0.856074</td>\n",
       "      <td>0.855881</td>\n",
       "      <td>0.856074</td>\n",
       "    </tr>\n",
       "    <tr>\n",
       "      <th>std_test_score</th>\n",
       "      <td>0.013938</td>\n",
       "      <td>0.013938</td>\n",
       "      <td>0.013938</td>\n",
       "      <td>0.013681</td>\n",
       "      <td>0.013451</td>\n",
       "    </tr>\n",
       "    <tr>\n",
       "      <th>rank_test_score</th>\n",
       "      <td>1296</td>\n",
       "      <td>1296</td>\n",
       "      <td>1296</td>\n",
       "      <td>1314</td>\n",
       "      <td>1296</td>\n",
       "    </tr>\n",
       "  </tbody>\n",
       "</table>\n",
       "</div>"
      ],
      "text/plain": [
       "                                                                             0  \\\n",
       "mean_fit_time                                                         0.004038   \n",
       "std_fit_time                                                          0.000159   \n",
       "mean_score_time                                                       0.001041   \n",
       "std_score_time                                                        0.000179   \n",
       "param_max_depth                                                              5   \n",
       "param_min_impurity_decrease                                             0.0001   \n",
       "param_min_samples_split                                                      2   \n",
       "params                       {'max_depth': 5, 'min_impurity_decrease': 0.00...   \n",
       "split0_test_score                                                     0.842308   \n",
       "split1_test_score                                                     0.855769   \n",
       "split2_test_score                                                      0.87488   \n",
       "split3_test_score                                                     0.839269   \n",
       "split4_test_score                                                     0.868142   \n",
       "mean_test_score                                                       0.856074   \n",
       "std_test_score                                                        0.013938   \n",
       "rank_test_score                                                           1296   \n",
       "\n",
       "                                                                             1  \\\n",
       "mean_fit_time                                                         0.004595   \n",
       "std_fit_time                                                          0.000402   \n",
       "mean_score_time                                                        0.00128   \n",
       "std_score_time                                                        0.000104   \n",
       "param_max_depth                                                              5   \n",
       "param_min_impurity_decrease                                             0.0001   \n",
       "param_min_samples_split                                                     12   \n",
       "params                       {'max_depth': 5, 'min_impurity_decrease': 0.00...   \n",
       "split0_test_score                                                     0.842308   \n",
       "split1_test_score                                                     0.855769   \n",
       "split2_test_score                                                      0.87488   \n",
       "split3_test_score                                                     0.839269   \n",
       "split4_test_score                                                     0.868142   \n",
       "mean_test_score                                                       0.856074   \n",
       "std_test_score                                                        0.013938   \n",
       "rank_test_score                                                           1296   \n",
       "\n",
       "                                                                             2  \\\n",
       "mean_fit_time                                                         0.004547   \n",
       "std_fit_time                                                          0.000426   \n",
       "mean_score_time                                                       0.001145   \n",
       "std_score_time                                                        0.000053   \n",
       "param_max_depth                                                              5   \n",
       "param_min_impurity_decrease                                             0.0001   \n",
       "param_min_samples_split                                                     22   \n",
       "params                       {'max_depth': 5, 'min_impurity_decrease': 0.00...   \n",
       "split0_test_score                                                     0.842308   \n",
       "split1_test_score                                                     0.855769   \n",
       "split2_test_score                                                      0.87488   \n",
       "split3_test_score                                                     0.839269   \n",
       "split4_test_score                                                     0.868142   \n",
       "mean_test_score                                                       0.856074   \n",
       "std_test_score                                                        0.013938   \n",
       "rank_test_score                                                           1296   \n",
       "\n",
       "                                                                             3  \\\n",
       "mean_fit_time                                                         0.004177   \n",
       "std_fit_time                                                          0.000203   \n",
       "mean_score_time                                                       0.000874   \n",
       "std_score_time                                                        0.000073   \n",
       "param_max_depth                                                              5   \n",
       "param_min_impurity_decrease                                             0.0001   \n",
       "param_min_samples_split                                                     32   \n",
       "params                       {'max_depth': 5, 'min_impurity_decrease': 0.00...   \n",
       "split0_test_score                                                     0.842308   \n",
       "split1_test_score                                                     0.855769   \n",
       "split2_test_score                                                     0.873917   \n",
       "split3_test_score                                                     0.839269   \n",
       "split4_test_score                                                     0.868142   \n",
       "mean_test_score                                                       0.855881   \n",
       "std_test_score                                                        0.013681   \n",
       "rank_test_score                                                           1314   \n",
       "\n",
       "                                                                             4  \n",
       "mean_fit_time                                                          0.00386  \n",
       "std_fit_time                                                           0.00014  \n",
       "mean_score_time                                                       0.000899  \n",
       "std_score_time                                                        0.000131  \n",
       "param_max_depth                                                              5  \n",
       "param_min_impurity_decrease                                             0.0001  \n",
       "param_min_samples_split                                                     42  \n",
       "params                       {'max_depth': 5, 'min_impurity_decrease': 0.00...  \n",
       "split0_test_score                                                     0.842308  \n",
       "split1_test_score                                                     0.855769  \n",
       "split2_test_score                                                     0.873917  \n",
       "split3_test_score                                                     0.840231  \n",
       "split4_test_score                                                     0.868142  \n",
       "mean_test_score                                                       0.856074  \n",
       "std_test_score                                                        0.013451  \n",
       "rank_test_score                                                           1296  "
      ]
     },
     "execution_count": 26,
     "metadata": {},
     "output_type": "execute_result"
    }
   ],
   "source": [
    "# 결과 확인 (cv_results)\n",
    "\n",
    "pd.set_option('display.max_columns', None)\n",
    "results = pd.DataFrame(gs.cv_results_)\n",
    "\n",
    "np.transpose(results.head())"
   ]
  },
  {
   "cell_type": "code",
   "execution_count": 32,
   "id": "c9f26cb1",
   "metadata": {
    "ExecuteTime": {
     "end_time": "2024-07-22T14:46:51.309440Z",
     "start_time": "2024-07-22T14:46:49.535705Z"
    }
   },
   "outputs": [
    {
     "name": "stdout",
     "output_type": "stream",
     "text": [
      "best parameter :  {'max_depth': 16, 'min_impurity_decrease': 0.00022008373244668158, 'min_samples_split': 20}\n",
      "validation score :  0.866657473902421\n",
      "best model :  DecisionTreeClassifier(max_depth=16,\n",
      "                       min_impurity_decrease=0.00022008373244668158,\n",
      "                       min_samples_split=20)\n"
     ]
    }
   ],
   "source": [
    "# random search\n",
    "\n",
    "from sklearn.model_selection import RandomizedSearchCV\n",
    "import scipy.stats as st\n",
    "\n",
    "params = { # parameter의 범위를 딕셔너리 형식으로 만들어야 함\n",
    "    'min_impurity_decrease' : st.uniform(0.0001, 0.001),\n",
    "    'max_depth' : st.randint(5, 20, 1), \n",
    "    'min_samples_split' : st.randint(2, 100, 10)\n",
    "}\n",
    "\n",
    "rs = RandomizedSearchCV(dt, params, n_iter=100, n_jobs=-1) # cv = 5, splitter를 굳이 사용하지 않음 \n",
    "rs.fit(X_train, y_train)\n",
    "\n",
    "print (\"best parameter : \", rs.best_params_)\n",
    "print (\"validation score : \", np.max(rs.cv_results_['mean_test_score'])) # 최상의 교차 검증 점수\n",
    "print (\"best model : \", rs.best_estimator_)"
   ]
  },
  {
   "cell_type": "code",
   "execution_count": 33,
   "id": "ad45713e",
   "metadata": {
    "ExecuteTime": {
     "end_time": "2024-07-22T14:47:03.947541Z",
     "start_time": "2024-07-22T14:47:03.934162Z"
    }
   },
   "outputs": [
    {
     "data": {
      "text/html": [
       "<div>\n",
       "<style scoped>\n",
       "    .dataframe tbody tr th:only-of-type {\n",
       "        vertical-align: middle;\n",
       "    }\n",
       "\n",
       "    .dataframe tbody tr th {\n",
       "        vertical-align: top;\n",
       "    }\n",
       "\n",
       "    .dataframe thead th {\n",
       "        text-align: right;\n",
       "    }\n",
       "</style>\n",
       "<table border=\"1\" class=\"dataframe\">\n",
       "  <thead>\n",
       "    <tr style=\"text-align: right;\">\n",
       "      <th></th>\n",
       "      <th>0</th>\n",
       "      <th>1</th>\n",
       "      <th>2</th>\n",
       "      <th>3</th>\n",
       "      <th>4</th>\n",
       "    </tr>\n",
       "  </thead>\n",
       "  <tbody>\n",
       "    <tr>\n",
       "      <th>mean_fit_time</th>\n",
       "      <td>0.006205</td>\n",
       "      <td>0.007158</td>\n",
       "      <td>0.005421</td>\n",
       "      <td>0.006014</td>\n",
       "      <td>0.007531</td>\n",
       "    </tr>\n",
       "    <tr>\n",
       "      <th>std_fit_time</th>\n",
       "      <td>0.000874</td>\n",
       "      <td>0.001134</td>\n",
       "      <td>0.000389</td>\n",
       "      <td>0.00027</td>\n",
       "      <td>0.001029</td>\n",
       "    </tr>\n",
       "    <tr>\n",
       "      <th>mean_score_time</th>\n",
       "      <td>0.00167</td>\n",
       "      <td>0.001701</td>\n",
       "      <td>0.00146</td>\n",
       "      <td>0.001497</td>\n",
       "      <td>0.001431</td>\n",
       "    </tr>\n",
       "    <tr>\n",
       "      <th>std_score_time</th>\n",
       "      <td>0.000312</td>\n",
       "      <td>0.000156</td>\n",
       "      <td>0.000085</td>\n",
       "      <td>0.000127</td>\n",
       "      <td>0.00011</td>\n",
       "    </tr>\n",
       "    <tr>\n",
       "      <th>param_max_depth</th>\n",
       "      <td>15</td>\n",
       "      <td>13</td>\n",
       "      <td>12</td>\n",
       "      <td>7</td>\n",
       "      <td>8</td>\n",
       "    </tr>\n",
       "    <tr>\n",
       "      <th>param_min_impurity_decrease</th>\n",
       "      <td>0.000626</td>\n",
       "      <td>0.00085</td>\n",
       "      <td>0.001066</td>\n",
       "      <td>0.000248</td>\n",
       "      <td>0.000106</td>\n",
       "    </tr>\n",
       "    <tr>\n",
       "      <th>param_min_samples_split</th>\n",
       "      <td>93</td>\n",
       "      <td>23</td>\n",
       "      <td>99</td>\n",
       "      <td>75</td>\n",
       "      <td>71</td>\n",
       "    </tr>\n",
       "    <tr>\n",
       "      <th>params</th>\n",
       "      <td>{'max_depth': 15, 'min_impurity_decrease': 0.0...</td>\n",
       "      <td>{'max_depth': 13, 'min_impurity_decrease': 0.0...</td>\n",
       "      <td>{'max_depth': 12, 'min_impurity_decrease': 0.0...</td>\n",
       "      <td>{'max_depth': 7, 'min_impurity_decrease': 0.00...</td>\n",
       "      <td>{'max_depth': 8, 'min_impurity_decrease': 0.00...</td>\n",
       "    </tr>\n",
       "    <tr>\n",
       "      <th>split0_test_score</th>\n",
       "      <td>0.850962</td>\n",
       "      <td>0.848077</td>\n",
       "      <td>0.840385</td>\n",
       "      <td>0.840385</td>\n",
       "      <td>0.85</td>\n",
       "    </tr>\n",
       "    <tr>\n",
       "      <th>split1_test_score</th>\n",
       "      <td>0.85</td>\n",
       "      <td>0.858654</td>\n",
       "      <td>0.869231</td>\n",
       "      <td>0.869231</td>\n",
       "      <td>0.847115</td>\n",
       "    </tr>\n",
       "    <tr>\n",
       "      <th>split2_test_score</th>\n",
       "      <td>0.881617</td>\n",
       "      <td>0.87873</td>\n",
       "      <td>0.881617</td>\n",
       "      <td>0.880654</td>\n",
       "      <td>0.877767</td>\n",
       "    </tr>\n",
       "    <tr>\n",
       "      <th>split3_test_score</th>\n",
       "      <td>0.833494</td>\n",
       "      <td>0.843118</td>\n",
       "      <td>0.838306</td>\n",
       "      <td>0.838306</td>\n",
       "      <td>0.833494</td>\n",
       "    </tr>\n",
       "    <tr>\n",
       "      <th>split4_test_score</th>\n",
       "      <td>0.875842</td>\n",
       "      <td>0.872955</td>\n",
       "      <td>0.873917</td>\n",
       "      <td>0.873917</td>\n",
       "      <td>0.871992</td>\n",
       "    </tr>\n",
       "    <tr>\n",
       "      <th>mean_test_score</th>\n",
       "      <td>0.858383</td>\n",
       "      <td>0.860307</td>\n",
       "      <td>0.860691</td>\n",
       "      <td>0.860499</td>\n",
       "      <td>0.856074</td>\n",
       "    </tr>\n",
       "    <tr>\n",
       "      <th>std_test_score</th>\n",
       "      <td>0.01783</td>\n",
       "      <td>0.013763</td>\n",
       "      <td>0.017884</td>\n",
       "      <td>0.017662</td>\n",
       "      <td>0.016438</td>\n",
       "    </tr>\n",
       "    <tr>\n",
       "      <th>rank_test_score</th>\n",
       "      <td>86</td>\n",
       "      <td>38</td>\n",
       "      <td>30</td>\n",
       "      <td>35</td>\n",
       "      <td>99</td>\n",
       "    </tr>\n",
       "  </tbody>\n",
       "</table>\n",
       "</div>"
      ],
      "text/plain": [
       "                                                                             0  \\\n",
       "mean_fit_time                                                         0.006205   \n",
       "std_fit_time                                                          0.000874   \n",
       "mean_score_time                                                        0.00167   \n",
       "std_score_time                                                        0.000312   \n",
       "param_max_depth                                                             15   \n",
       "param_min_impurity_decrease                                           0.000626   \n",
       "param_min_samples_split                                                     93   \n",
       "params                       {'max_depth': 15, 'min_impurity_decrease': 0.0...   \n",
       "split0_test_score                                                     0.850962   \n",
       "split1_test_score                                                         0.85   \n",
       "split2_test_score                                                     0.881617   \n",
       "split3_test_score                                                     0.833494   \n",
       "split4_test_score                                                     0.875842   \n",
       "mean_test_score                                                       0.858383   \n",
       "std_test_score                                                         0.01783   \n",
       "rank_test_score                                                             86   \n",
       "\n",
       "                                                                             1  \\\n",
       "mean_fit_time                                                         0.007158   \n",
       "std_fit_time                                                          0.001134   \n",
       "mean_score_time                                                       0.001701   \n",
       "std_score_time                                                        0.000156   \n",
       "param_max_depth                                                             13   \n",
       "param_min_impurity_decrease                                            0.00085   \n",
       "param_min_samples_split                                                     23   \n",
       "params                       {'max_depth': 13, 'min_impurity_decrease': 0.0...   \n",
       "split0_test_score                                                     0.848077   \n",
       "split1_test_score                                                     0.858654   \n",
       "split2_test_score                                                      0.87873   \n",
       "split3_test_score                                                     0.843118   \n",
       "split4_test_score                                                     0.872955   \n",
       "mean_test_score                                                       0.860307   \n",
       "std_test_score                                                        0.013763   \n",
       "rank_test_score                                                             38   \n",
       "\n",
       "                                                                             2  \\\n",
       "mean_fit_time                                                         0.005421   \n",
       "std_fit_time                                                          0.000389   \n",
       "mean_score_time                                                        0.00146   \n",
       "std_score_time                                                        0.000085   \n",
       "param_max_depth                                                             12   \n",
       "param_min_impurity_decrease                                           0.001066   \n",
       "param_min_samples_split                                                     99   \n",
       "params                       {'max_depth': 12, 'min_impurity_decrease': 0.0...   \n",
       "split0_test_score                                                     0.840385   \n",
       "split1_test_score                                                     0.869231   \n",
       "split2_test_score                                                     0.881617   \n",
       "split3_test_score                                                     0.838306   \n",
       "split4_test_score                                                     0.873917   \n",
       "mean_test_score                                                       0.860691   \n",
       "std_test_score                                                        0.017884   \n",
       "rank_test_score                                                             30   \n",
       "\n",
       "                                                                             3  \\\n",
       "mean_fit_time                                                         0.006014   \n",
       "std_fit_time                                                           0.00027   \n",
       "mean_score_time                                                       0.001497   \n",
       "std_score_time                                                        0.000127   \n",
       "param_max_depth                                                              7   \n",
       "param_min_impurity_decrease                                           0.000248   \n",
       "param_min_samples_split                                                     75   \n",
       "params                       {'max_depth': 7, 'min_impurity_decrease': 0.00...   \n",
       "split0_test_score                                                     0.840385   \n",
       "split1_test_score                                                     0.869231   \n",
       "split2_test_score                                                     0.880654   \n",
       "split3_test_score                                                     0.838306   \n",
       "split4_test_score                                                     0.873917   \n",
       "mean_test_score                                                       0.860499   \n",
       "std_test_score                                                        0.017662   \n",
       "rank_test_score                                                             35   \n",
       "\n",
       "                                                                             4  \n",
       "mean_fit_time                                                         0.007531  \n",
       "std_fit_time                                                          0.001029  \n",
       "mean_score_time                                                       0.001431  \n",
       "std_score_time                                                         0.00011  \n",
       "param_max_depth                                                              8  \n",
       "param_min_impurity_decrease                                           0.000106  \n",
       "param_min_samples_split                                                     71  \n",
       "params                       {'max_depth': 8, 'min_impurity_decrease': 0.00...  \n",
       "split0_test_score                                                         0.85  \n",
       "split1_test_score                                                     0.847115  \n",
       "split2_test_score                                                     0.877767  \n",
       "split3_test_score                                                     0.833494  \n",
       "split4_test_score                                                     0.871992  \n",
       "mean_test_score                                                       0.856074  \n",
       "std_test_score                                                        0.016438  \n",
       "rank_test_score                                                             99  "
      ]
     },
     "execution_count": 33,
     "metadata": {},
     "output_type": "execute_result"
    }
   ],
   "source": [
    "# 결과 확인 (cv_results)\n",
    "\n",
    "pd.set_option('display.max_columns', None)\n",
    "results = pd.DataFrame(rs.cv_results_)\n",
    "\n",
    "np.transpose(results.head())"
   ]
  }
 ],
 "metadata": {
  "kernelspec": {
   "display_name": "Python 3 (ipykernel)",
   "language": "python",
   "name": "python3"
  },
  "language_info": {
   "codemirror_mode": {
    "name": "ipython",
    "version": 3
   },
   "file_extension": ".py",
   "mimetype": "text/x-python",
   "name": "python",
   "nbconvert_exporter": "python",
   "pygments_lexer": "ipython3",
   "version": "3.11.6"
  }
 },
 "nbformat": 4,
 "nbformat_minor": 5
}
