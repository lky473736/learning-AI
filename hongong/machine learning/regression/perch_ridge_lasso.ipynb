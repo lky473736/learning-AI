{
 "cells": [
  {
   "cell_type": "markdown",
   "id": "3f0a7319",
   "metadata": {},
   "source": [
    "## learning-AI101 : perch regression (ridge and lasso)\n",
    "- 혼자 공부하는 머신러닝과 딥러닝 : 150p~173p\n",
    "- 2024.07.13.\n",
    "-----"
   ]
  },
  {
   "cell_type": "markdown",
   "id": "967116db",
   "metadata": {},
   "source": [
    "### ridge vs lasso\n",
    "- ridge와 lasso 둘 다 다항회귀의 과도한 특성 갯수로 인한 overfitting을 막고자 하는 방법 (규제, regularization)\n",
    "- 차이점\n",
    "    - ridge : 제곱의 합\n",
    "    - lasso : 절댓값의 합 (0이 될 수 있음)\n",
    "   "
   ]
  },
  {
   "cell_type": "code",
   "execution_count": 44,
   "id": "1ad2327f",
   "metadata": {
    "ExecuteTime": {
     "end_time": "2024-07-13T14:44:37.152890Z",
     "start_time": "2024-07-13T14:44:37.149888Z"
    }
   },
   "outputs": [],
   "source": [
    "import pandas as pd\n",
    "import numpy as np\n",
    "import matplotlib.pyplot as plt"
   ]
  },
  {
   "cell_type": "code",
   "execution_count": 45,
   "id": "12c54256",
   "metadata": {
    "ExecuteTime": {
     "end_time": "2024-07-13T14:44:38.387802Z",
     "start_time": "2024-07-13T14:44:37.540741Z"
    }
   },
   "outputs": [
    {
     "data": {
      "text/html": [
       "<div>\n",
       "<style scoped>\n",
       "    .dataframe tbody tr th:only-of-type {\n",
       "        vertical-align: middle;\n",
       "    }\n",
       "\n",
       "    .dataframe tbody tr th {\n",
       "        vertical-align: top;\n",
       "    }\n",
       "\n",
       "    .dataframe thead th {\n",
       "        text-align: right;\n",
       "    }\n",
       "</style>\n",
       "<table border=\"1\" class=\"dataframe\">\n",
       "  <thead>\n",
       "    <tr style=\"text-align: right;\">\n",
       "      <th></th>\n",
       "      <th>length</th>\n",
       "      <th>height</th>\n",
       "      <th>width</th>\n",
       "    </tr>\n",
       "  </thead>\n",
       "  <tbody>\n",
       "    <tr>\n",
       "      <th>0</th>\n",
       "      <td>8.4</td>\n",
       "      <td>2.11</td>\n",
       "      <td>1.41</td>\n",
       "    </tr>\n",
       "    <tr>\n",
       "      <th>1</th>\n",
       "      <td>13.7</td>\n",
       "      <td>3.53</td>\n",
       "      <td>2.00</td>\n",
       "    </tr>\n",
       "    <tr>\n",
       "      <th>2</th>\n",
       "      <td>15.0</td>\n",
       "      <td>3.82</td>\n",
       "      <td>2.43</td>\n",
       "    </tr>\n",
       "    <tr>\n",
       "      <th>3</th>\n",
       "      <td>16.2</td>\n",
       "      <td>4.59</td>\n",
       "      <td>2.63</td>\n",
       "    </tr>\n",
       "    <tr>\n",
       "      <th>4</th>\n",
       "      <td>17.4</td>\n",
       "      <td>4.59</td>\n",
       "      <td>2.94</td>\n",
       "    </tr>\n",
       "  </tbody>\n",
       "</table>\n",
       "</div>"
      ],
      "text/plain": [
       "   length   height   width\n",
       "0     8.4     2.11    1.41\n",
       "1    13.7     3.53    2.00\n",
       "2    15.0     3.82    2.43\n",
       "3    16.2     4.59    2.63\n",
       "4    17.4     4.59    2.94"
      ]
     },
     "execution_count": 45,
     "metadata": {},
     "output_type": "execute_result"
    }
   ],
   "source": [
    "# 데이터 불러옴 (pandas)\n",
    "\n",
    "df = pd.read_csv ('https://bit.ly/perch_csv_data')\n",
    "df.head() # 웹 주소를 입력하여 데이터 가져옴"
   ]
  },
  {
   "cell_type": "code",
   "execution_count": 46,
   "id": "18c9f285",
   "metadata": {
    "ExecuteTime": {
     "end_time": "2024-07-13T14:44:39.041524Z",
     "start_time": "2024-07-13T14:44:39.037301Z"
    }
   },
   "outputs": [],
   "source": [
    "perch_full = df.to_numpy()\n",
    "perch_weight = np.array([5.9, 32.0, 40.0, 51.5, 70.0, 100.0, 78.0, 80.0, 85.0, 85.0, 110.0,\n",
    "       115.0, 125.0, 130.0, 120.0, 120.0, 130.0, 135.0, 110.0, 130.0,\n",
    "       150.0, 145.0, 150.0, 170.0, 225.0, 145.0, 188.0, 180.0, 197.0,\n",
    "       218.0, 300.0, 260.0, 265.0, 250.0, 250.0, 300.0, 320.0, 514.0,\n",
    "       556.0, 840.0, 685.0, 700.0, 700.0, 690.0, 900.0, 650.0, 820.0,\n",
    "       850.0, 900.0, 1015.0, 820.0, 1100.0, 1000.0, 1100.0, 1000.0,\n",
    "       1000.0])"
   ]
  },
  {
   "cell_type": "code",
   "execution_count": 47,
   "id": "6d73e593",
   "metadata": {
    "ExecuteTime": {
     "end_time": "2024-07-13T14:44:39.669201Z",
     "start_time": "2024-07-13T14:44:39.665115Z"
    }
   },
   "outputs": [],
   "source": [
    "# 데이터셋 나누기\n",
    "\n",
    "from sklearn.model_selection import train_test_split\n",
    "X_train, X_test, y_train, y_test = train_test_split(perch_full, perch_weight,\n",
    "                                                   random_state=42)\n",
    "\n",
    "# 만약 위와 같이 42가 아닌 다른 seed를 넣으면 특성을 더 뽑아낼 수 있음"
   ]
  },
  {
   "cell_type": "code",
   "execution_count": 48,
   "id": "8e1097d0",
   "metadata": {
    "ExecuteTime": {
     "end_time": "2024-07-13T14:44:40.149676Z",
     "start_time": "2024-07-13T14:44:40.145340Z"
    }
   },
   "outputs": [
    {
     "name": "stdout",
     "output_type": "stream",
     "text": [
      "(42, 3)\n",
      "['x0' 'x1' 'x2' 'x0^2' 'x0 x1' 'x0 x2' 'x1^2' 'x1 x2' 'x2^2']\n"
     ]
    }
   ],
   "source": [
    "# PolynomialFeatures를 이용하여 특성 늘리기 \n",
    "\n",
    "from sklearn.preprocessing import PolynomialFeatures\n",
    "\n",
    "poly = PolynomialFeatures(include_bias=False)\n",
    "# 절편 항을 무시하기 위해 위와 같이 설정\n",
    "poly.fit(X_train) \n",
    "X_train_temp = poly.transform(X_train)\n",
    "\n",
    "print (X_train.shape)\n",
    "print (poly.get_feature_names_out()) # 특성이 어떻게 만들어졌는지 확인\n",
    "\n",
    "# fit -> transform 순서로 진행"
   ]
  },
  {
   "cell_type": "code",
   "execution_count": 49,
   "id": "a7ae0000",
   "metadata": {
    "ExecuteTime": {
     "end_time": "2024-07-13T14:44:40.775757Z",
     "start_time": "2024-07-13T14:44:40.773016Z"
    }
   },
   "outputs": [],
   "source": [
    "# test set에도 poly 적용\n",
    "\n",
    "X_test_temp = poly.transform(X_test)"
   ]
  },
  {
   "cell_type": "code",
   "execution_count": 51,
   "id": "af6b3feb",
   "metadata": {
    "ExecuteTime": {
     "end_time": "2024-07-13T14:44:45.313270Z",
     "start_time": "2024-07-13T14:44:45.307482Z"
    }
   },
   "outputs": [
    {
     "data": {
      "text/html": [
       "<style>#sk-container-id-3 {color: black;}#sk-container-id-3 pre{padding: 0;}#sk-container-id-3 div.sk-toggleable {background-color: white;}#sk-container-id-3 label.sk-toggleable__label {cursor: pointer;display: block;width: 100%;margin-bottom: 0;padding: 0.3em;box-sizing: border-box;text-align: center;}#sk-container-id-3 label.sk-toggleable__label-arrow:before {content: \"▸\";float: left;margin-right: 0.25em;color: #696969;}#sk-container-id-3 label.sk-toggleable__label-arrow:hover:before {color: black;}#sk-container-id-3 div.sk-estimator:hover label.sk-toggleable__label-arrow:before {color: black;}#sk-container-id-3 div.sk-toggleable__content {max-height: 0;max-width: 0;overflow: hidden;text-align: left;background-color: #f0f8ff;}#sk-container-id-3 div.sk-toggleable__content pre {margin: 0.2em;color: black;border-radius: 0.25em;background-color: #f0f8ff;}#sk-container-id-3 input.sk-toggleable__control:checked~div.sk-toggleable__content {max-height: 200px;max-width: 100%;overflow: auto;}#sk-container-id-3 input.sk-toggleable__control:checked~label.sk-toggleable__label-arrow:before {content: \"▾\";}#sk-container-id-3 div.sk-estimator input.sk-toggleable__control:checked~label.sk-toggleable__label {background-color: #d4ebff;}#sk-container-id-3 div.sk-label input.sk-toggleable__control:checked~label.sk-toggleable__label {background-color: #d4ebff;}#sk-container-id-3 input.sk-hidden--visually {border: 0;clip: rect(1px 1px 1px 1px);clip: rect(1px, 1px, 1px, 1px);height: 1px;margin: -1px;overflow: hidden;padding: 0;position: absolute;width: 1px;}#sk-container-id-3 div.sk-estimator {font-family: monospace;background-color: #f0f8ff;border: 1px dotted black;border-radius: 0.25em;box-sizing: border-box;margin-bottom: 0.5em;}#sk-container-id-3 div.sk-estimator:hover {background-color: #d4ebff;}#sk-container-id-3 div.sk-parallel-item::after {content: \"\";width: 100%;border-bottom: 1px solid gray;flex-grow: 1;}#sk-container-id-3 div.sk-label:hover label.sk-toggleable__label {background-color: #d4ebff;}#sk-container-id-3 div.sk-serial::before {content: \"\";position: absolute;border-left: 1px solid gray;box-sizing: border-box;top: 0;bottom: 0;left: 50%;z-index: 0;}#sk-container-id-3 div.sk-serial {display: flex;flex-direction: column;align-items: center;background-color: white;padding-right: 0.2em;padding-left: 0.2em;position: relative;}#sk-container-id-3 div.sk-item {position: relative;z-index: 1;}#sk-container-id-3 div.sk-parallel {display: flex;align-items: stretch;justify-content: center;background-color: white;position: relative;}#sk-container-id-3 div.sk-item::before, #sk-container-id-3 div.sk-parallel-item::before {content: \"\";position: absolute;border-left: 1px solid gray;box-sizing: border-box;top: 0;bottom: 0;left: 50%;z-index: -1;}#sk-container-id-3 div.sk-parallel-item {display: flex;flex-direction: column;z-index: 1;position: relative;background-color: white;}#sk-container-id-3 div.sk-parallel-item:first-child::after {align-self: flex-end;width: 50%;}#sk-container-id-3 div.sk-parallel-item:last-child::after {align-self: flex-start;width: 50%;}#sk-container-id-3 div.sk-parallel-item:only-child::after {width: 0;}#sk-container-id-3 div.sk-dashed-wrapped {border: 1px dashed gray;margin: 0 0.4em 0.5em 0.4em;box-sizing: border-box;padding-bottom: 0.4em;background-color: white;}#sk-container-id-3 div.sk-label label {font-family: monospace;font-weight: bold;display: inline-block;line-height: 1.2em;}#sk-container-id-3 div.sk-label-container {text-align: center;}#sk-container-id-3 div.sk-container {/* jupyter's `normalize.less` sets `[hidden] { display: none; }` but bootstrap.min.css set `[hidden] { display: none !important; }` so we also need the `!important` here to be able to override the default hidden behavior on the sphinx rendered scikit-learn.org. See: https://github.com/scikit-learn/scikit-learn/issues/21755 */display: inline-block !important;position: relative;}#sk-container-id-3 div.sk-text-repr-fallback {display: none;}</style><div id=\"sk-container-id-3\" class=\"sk-top-container\"><div class=\"sk-text-repr-fallback\"><pre>LinearRegression()</pre><b>In a Jupyter environment, please rerun this cell to show the HTML representation or trust the notebook. <br />On GitHub, the HTML representation is unable to render, please try loading this page with nbviewer.org.</b></div><div class=\"sk-container\" hidden><div class=\"sk-item\"><div class=\"sk-estimator sk-toggleable\"><input class=\"sk-toggleable__control sk-hidden--visually\" id=\"sk-estimator-id-3\" type=\"checkbox\" checked><label for=\"sk-estimator-id-3\" class=\"sk-toggleable__label sk-toggleable__label-arrow\">LinearRegression</label><div class=\"sk-toggleable__content\"><pre>LinearRegression()</pre></div></div></div></div></div>"
      ],
      "text/plain": [
       "LinearRegression()"
      ]
     },
     "execution_count": 51,
     "metadata": {},
     "output_type": "execute_result"
    }
   ],
   "source": [
    "# 다중 회귀 모델 훈련\n",
    "\n",
    "from sklearn.linear_model import LinearRegression\n",
    "lr = LinearRegression()\n",
    "lr.fit(X_train_temp, y_train)"
   ]
  },
  {
   "cell_type": "code",
   "execution_count": 52,
   "id": "101525ea",
   "metadata": {
    "ExecuteTime": {
     "end_time": "2024-07-13T14:44:46.042039Z",
     "start_time": "2024-07-13T14:44:46.037132Z"
    }
   },
   "outputs": [
    {
     "name": "stdout",
     "output_type": "stream",
     "text": [
      "train score :  0.9903183436982124\n",
      "test score :  0.9714559911594134\n"
     ]
    }
   ],
   "source": [
    "# score\n",
    "\n",
    "print (\"train score : \", lr.score(X_train_temp, y_train))\n",
    "print (\"test score : \", lr.score(X_test_temp, y_test))\n",
    "\n",
    "# 과소적합 해결"
   ]
  },
  {
   "cell_type": "code",
   "execution_count": 53,
   "id": "190302f0",
   "metadata": {
    "ExecuteTime": {
     "end_time": "2024-07-13T14:44:47.284103Z",
     "start_time": "2024-07-13T14:44:47.276288Z"
    }
   },
   "outputs": [
    {
     "name": "stdout",
     "output_type": "stream",
     "text": [
      "train score :  0.9999999999991097\n",
      "test score :  -144.40579242684848\n"
     ]
    }
   ],
   "source": [
    "# 만약에 더 많이 특성을 만들면?\n",
    "\n",
    "poly = PolynomialFeatures(degree=5, include_bias=False) # 5차까지\n",
    "poly.fit(X_train)\n",
    "\n",
    "X_train = poly.transform(X_train)\n",
    "X_test = poly.transform(X_test)\n",
    "\n",
    "lr = LinearRegression()\n",
    "lr.fit(X_train, y_train)\n",
    "\n",
    "print (\"train score : \", lr.score(X_train, y_train))\n",
    "print (\"test score : \", lr.score(X_test, y_test))\n",
    "\n",
    "# 음수가 나와버림 (당연히 train score에서는 엄청 좋은 점수)\n",
    "# overfitting -> 해결 위해 ridge, lasso 도입"
   ]
  },
  {
   "cell_type": "code",
   "execution_count": 54,
   "id": "20e18f0f",
   "metadata": {
    "ExecuteTime": {
     "end_time": "2024-07-13T14:45:05.023047Z",
     "start_time": "2024-07-13T14:45:05.016162Z"
    }
   },
   "outputs": [
    {
     "name": "stderr",
     "output_type": "stream",
     "text": [
      "/Library/Frameworks/Python.framework/Versions/3.11/lib/python3.11/site-packages/sklearn/linear_model/_ridge.py:239: UserWarning: Singular matrix in solving dual problem. Using least-squares solution instead.\n",
      "  warnings.warn(\n"
     ]
    },
    {
     "data": {
      "text/plain": [
       "0.914955208141327"
      ]
     },
     "execution_count": 54,
     "metadata": {},
     "output_type": "execute_result"
    }
   ],
   "source": [
    "# ridge 적용\n",
    "\n",
    "from sklearn.linear_model import Ridge\n",
    "\n",
    "ridge = Ridge()\n",
    "ridge.fit(X_train, y_train)\n",
    "ridge.score(X_test, y_test)\n",
    "\n",
    "# 그나마 나아졌음"
   ]
  },
  {
   "cell_type": "code",
   "execution_count": 62,
   "id": "66e0df5e",
   "metadata": {
    "ExecuteTime": {
     "end_time": "2024-07-13T14:48:23.433058Z",
     "start_time": "2024-07-13T14:48:23.265531Z"
    }
   },
   "outputs": [
    {
     "name": "stdout",
     "output_type": "stream",
     "text": [
      "1e-09\n",
      "[0.9970689190765376, 0.9148979990056553]\n",
      "1e-08\n",
      "[0.9970689190765376, 0.9148979990056553]\n",
      "1e-07\n",
      "[0.9970689190765376, 0.9148979990056553]\n",
      "1e-06\n",
      "[0.9970689190765376, 0.9148979990056553]\n",
      "9.999999999999999e-06\n",
      "[0.9970689190765376, 0.9148979990056553]\n",
      "0.0001\n",
      "[0.9970689190765376, 0.9148979990056553]\n",
      "0.001\n",
      "[0.9970689181957987, 0.914911531852043]\n",
      "0.01\n",
      "[0.9970689096574118, 0.9148787041531068]\n",
      "0.1\n",
      "[0.9970689115009236, 0.9148848720582887]\n",
      "1.0\n",
      "[0.9970689057757564, 0.914955208141327]\n",
      "10\n",
      "[0.9970781221750963, 0.9370566630114002]\n",
      "100\n",
      "[0.9971540947944865, 0.9166653741726939]\n",
      "1000\n",
      "[0.9969517780795065, 0.9622678007919336]\n",
      "10000\n",
      "[0.9965598534912653, 0.9812593923016548]\n",
      "100000\n",
      "[0.9958929394412163, 0.9751301917201803]\n",
      "1000000\n",
      "[0.994869095536153, 0.9578804692459075]\n",
      "10000000\n",
      "[0.9931839853818302, 0.9278726991592894]\n",
      "100000000\n",
      "[0.991801595372511, 0.9360699411882594]\n",
      "1000000000\n",
      "[0.9906713942908737, 0.9692106050157027]\n",
      "10000000000\n",
      "[0.989542284002464, 0.977419596298051]\n",
      "100000000000\n",
      "[0.9874256119010698, 0.9660564394364696]\n",
      "alpha: 1e-09, train score: 0.9970689190765376, test score: 0.9148979990056553\n",
      "alpha: 1e-08, train score: 0.9970689190765376, test score: 0.9148979990056553\n",
      "alpha: 1e-07, train score: 0.9970689190765376, test score: 0.9148979990056553\n",
      "alpha: 1e-06, train score: 0.9970689190765376, test score: 0.9148979990056553\n",
      "alpha: 9.999999999999999e-06, train score: 0.9970689190765376, test score: 0.9148979990056553\n",
      "alpha: 0.0001, train score: 0.9970689190765376, test score: 0.9148979990056553\n",
      "alpha: 0.001, train score: 0.9970689181957987, test score: 0.914911531852043\n",
      "alpha: 0.01, train score: 0.9970689096574118, test score: 0.9148787041531068\n",
      "alpha: 0.1, train score: 0.9970689115009236, test score: 0.9148848720582887\n",
      "alpha: 1.0, train score: 0.9970689057757564, test score: 0.914955208141327\n",
      "alpha: 10, train score: 0.9970781221750963, test score: 0.9370566630114002\n",
      "alpha: 100, train score: 0.9971540947944865, test score: 0.9166653741726939\n",
      "alpha: 1000, train score: 0.9969517780795065, test score: 0.9622678007919336\n",
      "alpha: 10000, train score: 0.9965598534912653, test score: 0.9812593923016548\n",
      "alpha: 100000, train score: 0.9958929394412163, test score: 0.9751301917201803\n",
      "alpha: 1000000, train score: 0.994869095536153, test score: 0.9578804692459075\n",
      "alpha: 10000000, train score: 0.9931839853818302, test score: 0.9278726991592894\n",
      "alpha: 100000000, train score: 0.991801595372511, test score: 0.9360699411882594\n",
      "alpha: 1000000000, train score: 0.9906713942908737, test score: 0.9692106050157027\n",
      "alpha: 10000000000, train score: 0.989542284002464, test score: 0.977419596298051\n",
      "alpha: 100000000000, train score: 0.9874256119010698, test score: 0.9660564394364696\n",
      "[0.99706892 0.99706892 0.99706892 0.99706892 0.99706892 0.99706892\n",
      " 0.99706892 0.99706891 0.99706891 0.99706891 0.99707812 0.99715409\n",
      " 0.99695178 0.99655985 0.99589294 0.9948691  0.99318399 0.9918016\n",
      " 0.99067139 0.98954228 0.98742561]\n",
      "[0.914898   0.914898   0.914898   0.914898   0.914898   0.914898\n",
      " 0.91491153 0.9148787  0.91488487 0.91495521 0.93705666 0.91666537\n",
      " 0.9622678  0.98125939 0.97513019 0.95788047 0.9278727  0.93606994\n",
      " 0.96921061 0.9774196  0.96605644]\n"
     ]
    },
    {
     "name": "stderr",
     "output_type": "stream",
     "text": [
      "/Library/Frameworks/Python.framework/Versions/3.11/lib/python3.11/site-packages/sklearn/linear_model/_ridge.py:239: UserWarning: Singular matrix in solving dual problem. Using least-squares solution instead.\n",
      "  warnings.warn(\n",
      "/Library/Frameworks/Python.framework/Versions/3.11/lib/python3.11/site-packages/sklearn/linear_model/_ridge.py:239: UserWarning: Singular matrix in solving dual problem. Using least-squares solution instead.\n",
      "  warnings.warn(\n",
      "/Library/Frameworks/Python.framework/Versions/3.11/lib/python3.11/site-packages/sklearn/linear_model/_ridge.py:239: UserWarning: Singular matrix in solving dual problem. Using least-squares solution instead.\n",
      "  warnings.warn(\n",
      "/Library/Frameworks/Python.framework/Versions/3.11/lib/python3.11/site-packages/sklearn/linear_model/_ridge.py:239: UserWarning: Singular matrix in solving dual problem. Using least-squares solution instead.\n",
      "  warnings.warn(\n",
      "/Library/Frameworks/Python.framework/Versions/3.11/lib/python3.11/site-packages/sklearn/linear_model/_ridge.py:239: UserWarning: Singular matrix in solving dual problem. Using least-squares solution instead.\n",
      "  warnings.warn(\n",
      "/Library/Frameworks/Python.framework/Versions/3.11/lib/python3.11/site-packages/sklearn/linear_model/_ridge.py:239: UserWarning: Singular matrix in solving dual problem. Using least-squares solution instead.\n",
      "  warnings.warn(\n",
      "/Library/Frameworks/Python.framework/Versions/3.11/lib/python3.11/site-packages/sklearn/linear_model/_ridge.py:239: UserWarning: Singular matrix in solving dual problem. Using least-squares solution instead.\n",
      "  warnings.warn(\n",
      "/Library/Frameworks/Python.framework/Versions/3.11/lib/python3.11/site-packages/sklearn/linear_model/_ridge.py:239: UserWarning: Singular matrix in solving dual problem. Using least-squares solution instead.\n",
      "  warnings.warn(\n",
      "/Library/Frameworks/Python.framework/Versions/3.11/lib/python3.11/site-packages/sklearn/linear_model/_ridge.py:239: UserWarning: Singular matrix in solving dual problem. Using least-squares solution instead.\n",
      "  warnings.warn(\n",
      "/Library/Frameworks/Python.framework/Versions/3.11/lib/python3.11/site-packages/sklearn/linear_model/_ridge.py:239: UserWarning: Singular matrix in solving dual problem. Using least-squares solution instead.\n",
      "  warnings.warn(\n",
      "/Library/Frameworks/Python.framework/Versions/3.11/lib/python3.11/site-packages/sklearn/linear_model/_ridge.py:237: LinAlgWarning: Ill-conditioned matrix (rcond=1.1095e-17): result may not be accurate.\n",
      "  dual_coef = linalg.solve(K, y, assume_a=\"pos\", overwrite_a=False)\n"
     ]
    },
    {
     "data": {
      "image/png": "[encoded data removed]",
      "text/plain": [
       "<Figure size 640x480 with 1 Axes>"
      ]
     },
     "metadata": {},
     "output_type": "display_data"
    }
   ],
   "source": [
    "# 최적의 alpha값 찾기 위해 시각화\n",
    "\n",
    "alpha_list = [10 * 10**n for n in range (-10, 11)] # alpha값을 극한으로 높여야 그나마 점수가 양수로 전환됨\n",
    "score = dict() \n",
    "\n",
    "# Ridge 회귀 모델의 성능 평가\n",
    "for num in alpha_list : \n",
    "    print (num)\n",
    "    ridge = Ridge(alpha=num)\n",
    "    ridge.fit(X_train, y_train)\n",
    "    score[num] = [ridge.score(X_train, y_train), ridge.score(X_test, y_test)]\n",
    "    print (score[num])\n",
    "\n",
    "# 점수 출력 \n",
    "for alpha, scores in score.items() :\n",
    "    print(f\"alpha: {alpha}, train score: {scores[0]}, test score: {scores[1]}\")\n",
    "    \n",
    "# for compo in score.values() :\n",
    "#     print (compo)\n",
    "    \n",
    "# test score set, train score set\n",
    "train_score_set = np.array([compo[0] for compo in score.values()])\n",
    "test_score_set = np.array([compo[1] for compo in score.values()])\n",
    "\n",
    "print (train_score_set)\n",
    "print (test_score_set)\n",
    "\n",
    "# 시각화\n",
    "plt.plot(np.log10(alpha_list), train_score_set, label='Train Score')\n",
    "plt.plot(np.log10(alpha_list), test_score_set, label='Test Score')\n",
    "plt.xlabel('log10(alpha)')\n",
    "plt.ylabel('Score')\n",
    "plt.legend()\n",
    "plt.show()\n",
    "\n",
    "# 아래를 보니 한 3.5~5.0 사이의 alpha가 가장 score가 높은 것으로 확인"
   ]
  },
  {
   "cell_type": "code",
   "execution_count": 63,
   "id": "fbae38af",
   "metadata": {
    "ExecuteTime": {
     "end_time": "2024-07-13T14:50:05.053843Z",
     "start_time": "2024-07-13T14:50:04.820990Z"
    }
   },
   "outputs": [
    {
     "name": "stdout",
     "output_type": "stream",
     "text": [
      "1e-09\n",
      "[0.9908634969377251, 0.9836916306228596]\n",
      "1e-08\n",
      "[0.9908634969330039, 0.9836916306075634]\n",
      "1e-07\n",
      "[0.9908634968857919, 0.9836916304546014]\n",
      "1e-06\n",
      "[0.9908634964136719, 0.9836916289249775]\n",
      "9.999999999999999e-06\n",
      "[0.9908634916924375, 0.9836916136286836]\n",
      "0.0001\n",
      "[0.9908634444767485, 0.9836914606597282]\n",
      "0.001\n",
      "[0.9908629710241893, 0.9836899221659073]\n",
      "0.01\n",
      "[0.9908581364325275, 0.9836739181945756]\n",
      "0.1\n",
      "[0.9908052463713466, 0.9834862814751804]\n",
      "1.0\n",
      "[0.9907713826366444, 0.9829845191292338]\n",
      "10\n",
      "[0.9907649441128418, 0.9814356958575168]\n",
      "100\n",
      "[0.9906548647873475, 0.9786178481203784]\n",
      "1000\n",
      "[0.9904554040437541, 0.9768671107271064]\n",
      "10000\n",
      "[0.9898283051651022, 0.9755574281566157]\n",
      "100000\n",
      "[0.9890166183160929, 0.97724377444986]\n",
      "1000000\n",
      "[0.9872872623097728, 0.9686153037646875]\n",
      "10000000\n",
      "[0.9628003375740318, 0.9086633614968596]\n",
      "100000000\n",
      "[0.9217919767225828, 0.9299641407515712]\n",
      "1000000000\n",
      "[0.9182779809187361, 0.9320093214379076]\n",
      "10000000000\n",
      "[0.5668784005340681, 0.5764984385292713]\n",
      "100000000000\n",
      "[0.0, -0.05511282928252759]\n",
      "alpha: 1e-09, train score: 0.9908634969377251, test score: 0.9836916306228596\n",
      "alpha: 1e-08, train score: 0.9908634969330039, test score: 0.9836916306075634\n",
      "alpha: 1e-07, train score: 0.9908634968857919, test score: 0.9836916304546014\n",
      "alpha: 1e-06, train score: 0.9908634964136719, test score: 0.9836916289249775\n",
      "alpha: 9.999999999999999e-06, train score: 0.9908634916924375, test score: 0.9836916136286836\n",
      "alpha: 0.0001, train score: 0.9908634444767485, test score: 0.9836914606597282\n",
      "alpha: 0.001, train score: 0.9908629710241893, test score: 0.9836899221659073\n",
      "alpha: 0.01, train score: 0.9908581364325275, test score: 0.9836739181945756\n",
      "alpha: 0.1, train score: 0.9908052463713466, test score: 0.9834862814751804\n",
      "alpha: 1.0, train score: 0.9907713826366444, test score: 0.9829845191292338\n",
      "alpha: 10, train score: 0.9907649441128418, test score: 0.9814356958575168\n",
      "alpha: 100, train score: 0.9906548647873475, test score: 0.9786178481203784\n",
      "alpha: 1000, train score: 0.9904554040437541, test score: 0.9768671107271064\n",
      "alpha: 10000, train score: 0.9898283051651022, test score: 0.9755574281566157\n",
      "alpha: 100000, train score: 0.9890166183160929, test score: 0.97724377444986\n",
      "alpha: 1000000, train score: 0.9872872623097728, test score: 0.9686153037646875\n",
      "alpha: 10000000, train score: 0.9628003375740318, test score: 0.9086633614968596\n",
      "alpha: 100000000, train score: 0.9217919767225828, test score: 0.9299641407515712\n",
      "alpha: 1000000000, train score: 0.9182779809187361, test score: 0.9320093214379076\n",
      "alpha: 10000000000, train score: 0.5668784005340681, test score: 0.5764984385292713\n",
      "alpha: 100000000000, train score: 0.0, test score: -0.05511282928252759\n",
      "[0.9908635  0.9908635  0.9908635  0.9908635  0.99086349 0.99086344\n",
      " 0.99086297 0.99085814 0.99080525 0.99077138 0.99076494 0.99065486\n",
      " 0.9904554  0.98982831 0.98901662 0.98728726 0.96280034 0.92179198\n",
      " 0.91827798 0.5668784  0.        ]\n",
      "[ 0.98369163  0.98369163  0.98369163  0.98369163  0.98369161  0.98369146\n",
      "  0.98368992  0.98367392  0.98348628  0.98298452  0.9814357   0.97861785\n",
      "  0.97686711  0.97555743  0.97724377  0.9686153   0.90866336  0.92996414\n",
      "  0.93200932  0.57649844 -0.05511283]\n"
     ]
    },
    {
     "name": "stderr",
     "output_type": "stream",
     "text": [
      "/Library/Frameworks/Python.framework/Versions/3.11/lib/python3.11/site-packages/sklearn/linear_model/_coordinate_descent.py:628: ConvergenceWarning: Objective did not converge. You might want to increase the number of iterations, check the scale of the features or consider increasing regularisation. Duality gap: 2.368e+04, tolerance: 5.183e+02\n",
      "  model = cd_fast.enet_coordinate_descent(\n",
      "/Library/Frameworks/Python.framework/Versions/3.11/lib/python3.11/site-packages/sklearn/linear_model/_coordinate_descent.py:628: ConvergenceWarning: Objective did not converge. You might want to increase the number of iterations, check the scale of the features or consider increasing regularisation. Duality gap: 2.368e+04, tolerance: 5.183e+02\n",
      "  model = cd_fast.enet_coordinate_descent(\n",
      "/Library/Frameworks/Python.framework/Versions/3.11/lib/python3.11/site-packages/sklearn/linear_model/_coordinate_descent.py:628: ConvergenceWarning: Objective did not converge. You might want to increase the number of iterations, check the scale of the features or consider increasing regularisation. Duality gap: 2.368e+04, tolerance: 5.183e+02\n",
      "  model = cd_fast.enet_coordinate_descent(\n",
      "/Library/Frameworks/Python.framework/Versions/3.11/lib/python3.11/site-packages/sklearn/linear_model/_coordinate_descent.py:628: ConvergenceWarning: Objective did not converge. You might want to increase the number of iterations, check the scale of the features or consider increasing regularisation. Duality gap: 2.368e+04, tolerance: 5.183e+02\n",
      "  model = cd_fast.enet_coordinate_descent(\n",
      "/Library/Frameworks/Python.framework/Versions/3.11/lib/python3.11/site-packages/sklearn/linear_model/_coordinate_descent.py:628: ConvergenceWarning: Objective did not converge. You might want to increase the number of iterations, check the scale of the features or consider increasing regularisation. Duality gap: 2.368e+04, tolerance: 5.183e+02\n",
      "  model = cd_fast.enet_coordinate_descent(\n",
      "/Library/Frameworks/Python.framework/Versions/3.11/lib/python3.11/site-packages/sklearn/linear_model/_coordinate_descent.py:628: ConvergenceWarning: Objective did not converge. You might want to increase the number of iterations, check the scale of the features or consider increasing regularisation. Duality gap: 2.368e+04, tolerance: 5.183e+02\n",
      "  model = cd_fast.enet_coordinate_descent(\n",
      "/Library/Frameworks/Python.framework/Versions/3.11/lib/python3.11/site-packages/sklearn/linear_model/_coordinate_descent.py:628: ConvergenceWarning: Objective did not converge. You might want to increase the number of iterations, check the scale of the features or consider increasing regularisation. Duality gap: 2.368e+04, tolerance: 5.183e+02\n",
      "  model = cd_fast.enet_coordinate_descent(\n",
      "/Library/Frameworks/Python.framework/Versions/3.11/lib/python3.11/site-packages/sklearn/linear_model/_coordinate_descent.py:628: ConvergenceWarning: Objective did not converge. You might want to increase the number of iterations, check the scale of the features or consider increasing regularisation. Duality gap: 2.371e+04, tolerance: 5.183e+02\n",
      "  model = cd_fast.enet_coordinate_descent(\n",
      "/Library/Frameworks/Python.framework/Versions/3.11/lib/python3.11/site-packages/sklearn/linear_model/_coordinate_descent.py:628: ConvergenceWarning: Objective did not converge. You might want to increase the number of iterations, check the scale of the features or consider increasing regularisation. Duality gap: 2.391e+04, tolerance: 5.183e+02\n",
      "  model = cd_fast.enet_coordinate_descent(\n",
      "/Library/Frameworks/Python.framework/Versions/3.11/lib/python3.11/site-packages/sklearn/linear_model/_coordinate_descent.py:628: ConvergenceWarning: Objective did not converge. You might want to increase the number of iterations, check the scale of the features or consider increasing regularisation. Duality gap: 2.402e+04, tolerance: 5.183e+02\n",
      "  model = cd_fast.enet_coordinate_descent(\n",
      "/Library/Frameworks/Python.framework/Versions/3.11/lib/python3.11/site-packages/sklearn/linear_model/_coordinate_descent.py:628: ConvergenceWarning: Objective did not converge. You might want to increase the number of iterations, check the scale of the features or consider increasing regularisation. Duality gap: 2.413e+04, tolerance: 5.183e+02\n",
      "  model = cd_fast.enet_coordinate_descent(\n",
      "/Library/Frameworks/Python.framework/Versions/3.11/lib/python3.11/site-packages/sklearn/linear_model/_coordinate_descent.py:628: ConvergenceWarning: Objective did not converge. You might want to increase the number of iterations, check the scale of the features or consider increasing regularisation. Duality gap: 2.473e+04, tolerance: 5.183e+02\n",
      "  model = cd_fast.enet_coordinate_descent(\n",
      "/Library/Frameworks/Python.framework/Versions/3.11/lib/python3.11/site-packages/sklearn/linear_model/_coordinate_descent.py:628: ConvergenceWarning: Objective did not converge. You might want to increase the number of iterations, check the scale of the features or consider increasing regularisation. Duality gap: 2.590e+04, tolerance: 5.183e+02\n",
      "  model = cd_fast.enet_coordinate_descent(\n",
      "/Library/Frameworks/Python.framework/Versions/3.11/lib/python3.11/site-packages/sklearn/linear_model/_coordinate_descent.py:628: ConvergenceWarning: Objective did not converge. You might want to increase the number of iterations, check the scale of the features or consider increasing regularisation. Duality gap: 3.174e+04, tolerance: 5.183e+02\n",
      "  model = cd_fast.enet_coordinate_descent(\n",
      "/Library/Frameworks/Python.framework/Versions/3.11/lib/python3.11/site-packages/sklearn/linear_model/_coordinate_descent.py:628: ConvergenceWarning: Objective did not converge. You might want to increase the number of iterations, check the scale of the features or consider increasing regularisation. Duality gap: 2.965e+04, tolerance: 5.183e+02\n",
      "  model = cd_fast.enet_coordinate_descent(\n",
      "/Library/Frameworks/Python.framework/Versions/3.11/lib/python3.11/site-packages/sklearn/linear_model/_coordinate_descent.py:628: ConvergenceWarning: Objective did not converge. You might want to increase the number of iterations, check the scale of the features or consider increasing regularisation. Duality gap: 4.228e+04, tolerance: 5.183e+02\n",
      "  model = cd_fast.enet_coordinate_descent(\n",
      "/Library/Frameworks/Python.framework/Versions/3.11/lib/python3.11/site-packages/sklearn/linear_model/_coordinate_descent.py:628: ConvergenceWarning: Objective did not converge. You might want to increase the number of iterations, check the scale of the features or consider increasing regularisation. Duality gap: 1.335e+04, tolerance: 5.183e+02\n",
      "  model = cd_fast.enet_coordinate_descent(\n"
     ]
    },
    {
     "data": {
      "image/png": "[encoded data removed]",
      "text/plain": [
       "<Figure size 640x480 with 1 Axes>"
      ]
     },
     "metadata": {},
     "output_type": "display_data"
    }
   ],
   "source": [
    "# lasso 적용\n",
    "# lasso 또한 위와 같이 최적의 alpha값을 시각화를 통하여 찾기\n",
    "\n",
    "from sklearn.linear_model import Lasso\n",
    "\n",
    "alpha_list = [10 * 10**n for n in range (-10, 11)] # alpha값을 극한으로 높여야 그나마 점수가 양수로 전환됨\n",
    "score = dict() \n",
    "\n",
    "# Ridge 회귀 모델의 성능 평가\n",
    "for num in alpha_list : \n",
    "    print (num)\n",
    "    lasso = Lasso(alpha=num)\n",
    "    lasso.fit(X_train, y_train)\n",
    "    score[num] = [lasso.score(X_train, y_train), lasso.score(X_test, y_test)]\n",
    "    print (score[num])\n",
    "\n",
    "# 점수 출력 \n",
    "for alpha, scores in score.items() :\n",
    "    print(f\"alpha: {alpha}, train score: {scores[0]}, test score: {scores[1]}\")\n",
    "    \n",
    "# for compo in score.values() :\n",
    "#     print (compo)\n",
    "    \n",
    "# test score set, train score set\n",
    "train_score_set = np.array([compo[0] for compo in score.values()])\n",
    "test_score_set = np.array([compo[1] for compo in score.values()])\n",
    "\n",
    "print (train_score_set)\n",
    "print (test_score_set)\n",
    "\n",
    "# 시각화\n",
    "plt.plot(np.log10(alpha_list), train_score_set, label='Train Score')\n",
    "plt.plot(np.log10(alpha_list), test_score_set, label='Test Score')\n",
    "plt.xlabel('log10(alpha)')\n",
    "plt.ylabel('Score')\n",
    "plt.legend()\n",
    "plt.show()\n",
    "\n",
    "# 아래를 보니 5 이상부터 alpha값으로 설정하면 score가 급락"
   ]
  }
 ],
 "metadata": {
  "kernelspec": {
   "display_name": "Python 3 (ipykernel)",
   "language": "python",
   "name": "python3"
  },
  "language_info": {
   "codemirror_mode": {
    "name": "ipython",
    "version": 3
   },
   "file_extension": ".py",
   "mimetype": "text/x-python",
   "name": "python",
   "nbconvert_exporter": "python",
   "pygments_lexer": "ipython3",
   "version": "3.11.6"
  }
 },
 "nbformat": 4,
 "nbformat_minor": 5
}
