{
 "cells": [
  {
   "cell_type": "markdown",
   "id": "49603e22",
   "metadata": {},
   "source": [
    "## learning-AI101 : iris classification (Support Vector Machine)\n",
    "- 혼자 공부하는 머신러닝과 딥러닝에 나오지 않는 내용\n",
    "- 2024.07.27.\n",
    "- **CAUTION** : /seminar/seminar_07_17에도 같은 내용이 첨부되어 있음.\n",
    "----"
   ]
  },
  {
   "cell_type": "markdown",
   "id": "208f4a01",
   "metadata": {},
   "source": [
    "#### SVM (Support Vector Machine)\n",
    "\n",
    "<img src=\"https://blog.kakaocdn.net/dn/dyU2w7/btqNe5n7NPN/0KrOvyF6RM8jYOTHwOYIv0/img.png\" width=\"500px\">\n",
    "\n",
    "- SVM은 이중 분류에 특화되어 있으면서, 각 class를 잘 분류 가능한 hyperplane을 찾는 알고리즘임\n",
    "- SVM 원리\n",
    "    - 결정 경계를 찾는데, 결정 경계 주변에 있는 support vector와의 거리인 margin을 최대화할 수 있는 plane을 찾는 것\n",
    "    - 차원 (즉 feature)가 늘어날 수록 어려우며, 위는 2차원이니 선형함수로 hyperplane을 찾은 거지만, n차원이면 n-1차원의 함수를 사용하여 plane을 찾아야 함\n",
    "- SVM 종류\n",
    "    - 선형 SVM \n",
    "        - soft margin : 오차를 어느 정도 허용하여, margin 안에 instance가 들어가도 됨\n",
    "        - hard margin : margin 안에 instance를 절대로 허용하지 않음\n",
    "        - C값을 조정하여 soft margin or hard margin을 선정\n",
    "            - C가 커지면 overfitting될 가능성 높아짐\n",
    "            - C가 작아지면 경계가 흐려져 underfitting될 가능성 높아짐\n",
    "    - 비선형 SVM \n",
    "        - 비선형적이다 -> 차원을 한 단계 늘려서 classification하면 됨 -> 그러면 mapping function 사용해야함 -> 계산량 많아짐 -> \"kernel\" 사용 (실질적으로 차원을 늘리지 않고, 차원을 늘리는 것처럼 계산해줌)\n",
    "        - kernel의 종류\n",
    "            - RBF\n",
    "                - gamma 파라미터가 생김 (기존 C에 추가)\n",
    "                    - 전제 : 비선형 SVM이기 때문에 결정 경계에 곡률이 존재할 것\n",
    "                    - gamma가 커지면 곡률이 커지면서 overfitting될 가능성 높아짐\n",
    "                    - 작으면 곡률이 작아지면서 underfitting될 가능성 높아짐\n",
    "            - sigmoid\n",
    "            - polynormial"
   ]
  },
  {
   "cell_type": "code",
   "execution_count": 1,
   "id": "fb36c986",
   "metadata": {
    "ExecuteTime": {
     "end_time": "2024-07-27T10:24:28.890727Z",
     "start_time": "2024-07-27T10:24:28.317502Z"
    }
   },
   "outputs": [],
   "source": [
    "# 실습은 내장된 iris data를 사용한다\n",
    "\n",
    "from sklearn import datasets\n",
    "from sklearn.model_selection import train_test_split\n",
    "\n",
    "iris = datasets.load_iris() # 내장된 iris data\n",
    "\n",
    "X_train, X_test, y_train, y_test = train_test_split (iris.data, iris.target,\n",
    "                                                    test_size=0.2)"
   ]
  },
  {
   "cell_type": "code",
   "execution_count": 2,
   "id": "c0fd279e",
   "metadata": {
    "ExecuteTime": {
     "end_time": "2024-07-27T10:24:35.739193Z",
     "start_time": "2024-07-27T10:24:34.113756Z"
    }
   },
   "outputs": [
    {
     "name": "stdout",
     "output_type": "stream",
     "text": [
      "best parameter :  {'C': 2, 'gamma': 1.788293173451291}\n",
      "validation score :  0.9666666666666668\n",
      "best model :  SVC(C=2, gamma=1.788293173451291, kernel='linear')\n",
      "train score :  0.9833333333333333\n",
      "test score :  0.9666666666666667\n"
     ]
    }
   ],
   "source": [
    "# random search 통하여 최적의 hyperparameter \n",
    "\n",
    "from scipy.stats import randint, uniform\n",
    "from sklearn.model_selection import RandomizedSearchCV\n",
    "from sklearn import svm\n",
    "import numpy as np\n",
    "\n",
    "param_grid = {\n",
    "    'C' : randint(1, 10), \n",
    "    'gamma' : uniform(0.1, 2.0)\n",
    "}\n",
    "\n",
    "svm = svm.SVC(kernel='linear')\n",
    "\n",
    "rs = RandomizedSearchCV(svm, param_grid, n_iter=50, n_jobs=-1) # core 전부 돌리기, epoch 50번\n",
    "rs.fit (X_train, y_train)\n",
    "\n",
    "print (\"best parameter : \", rs.best_params_)\n",
    "print (\"validation score : \", np.max(rs.cv_results_['mean_test_score'])) # 최상의 교차 검증 점수\n",
    "print (\"best model : \", rs.best_estimator_) \n",
    "\n",
    "svm = rs.best_estimator_\n",
    "\n",
    "print ('train score : ', svm.score(X_train, y_train))\n",
    "print ('test score : ', svm.score(X_test, y_test))"
   ]
  },
  {
   "cell_type": "code",
   "execution_count": 3,
   "id": "14bd3f6d",
   "metadata": {
    "ExecuteTime": {
     "end_time": "2024-07-27T10:24:44.195611Z",
     "start_time": "2024-07-27T10:24:43.117902Z"
    },
    "scrolled": false
   },
   "outputs": [
    {
     "data": {
      "image/png": "[encoded data removed]",
      "text/plain": [
       "<Figure size 640x480 with 2 Axes>"
      ]
     },
     "metadata": {},
     "output_type": "display_data"
    }
   ],
   "source": [
    "# confusion matrix와 visualization\n",
    "\n",
    "from sklearn.metrics import confusion_matrix\n",
    "import matplotlib.pyplot as plt\n",
    "import seaborn as sns\n",
    "\n",
    "y_pred = svm.predict(iris.data)\n",
    "\n",
    "cm = confusion_matrix(y_pred, iris.target)\n",
    "\n",
    "sns.heatmap(cm, annot=True, cmap='Blues')\n",
    "plt.xlabel('Predicted')\n",
    "plt.ylabel('True')\n",
    "plt.show()\n",
    "\n",
    "# 아래를 보면 굉장히 잘 classification된 것을 확인 가능하다."
   ]
  }
 ],
 "metadata": {
  "kernelspec": {
   "display_name": "Python 3 (ipykernel)",
   "language": "python",
   "name": "python3"
  },
  "language_info": {
   "codemirror_mode": {
    "name": "ipython",
    "version": 3
   },
   "file_extension": ".py",
   "mimetype": "text/x-python",
   "name": "python",
   "nbconvert_exporter": "python",
   "pygments_lexer": "ipython3",
   "version": "3.11.6"
  }
 },
 "nbformat": 4,
 "nbformat_minor": 5
}
