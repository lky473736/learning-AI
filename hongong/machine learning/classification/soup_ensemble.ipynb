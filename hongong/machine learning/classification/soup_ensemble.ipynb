{
 "cells": [
  {
   "cell_type": "markdown",
   "id": "49603e22",
   "metadata": {},
   "source": [
    "## learning-AI101 : soup classification (random forest)\n",
    "- 혼자 공부하는 머신러닝과 딥러닝 : 앙상블 기법\n",
    "- 2024.07.29.\n",
    "- **CAUTION** : /seminar/seminar_07_17에도 같은 내용이 첨부되어 있음.\n",
    "----"
   ]
  },
  {
   "cell_type": "markdown",
   "id": "d5a9ac59",
   "metadata": {},
   "source": [
    "### RF (random forest)\n",
    "\n",
    "<img src=\"https://img1.daumcdn.net/thumb/R1280x0/?scode=mtistory2&fname=https%3A%2F%2Fblog.kakaocdn.net%2Fdn%2FZK4N6%2FbtqFNaJzPjg%2FsukopDLDuKSIymy2KWPAYk%2Fimg.png\" width=\"500px\">\n",
    "\n",
    "- random으로 feature를 선정해 node로 지정 후 분기할 때마다 DT와 같은 방식으로 분기해 나가는 weaker learner를 만들어 비교 후, 다수결의 원칙에 따라 가장 많은 category로 예측   \n",
    "\n",
    "- tree를 이용한 가장 확실하고 효과적인 방법, 일반적으로 decision tree보다 train score가 높다.\n",
    "\n",
    "- 구성원리 \n",
    "    - bootstrap sampling : 각각의 weaker learner를 만들기 위해 사용, feature을 복원 추출하고, 그 feature 안에서도 복원 추출하는 방법\n",
    "    - 다음 분기를 고를 때에도 랜덤하게 뽑음\n",
    "    - OOB 검증 : 확실히 \"복원 추출\" 이기 때문에 봅히지 않은 샘플도 생기니, 이를 OOB에 넣어 validation test를 진행 (재활용성을 높인다)"
   ]
  },
  {
   "cell_type": "markdown",
   "id": "d899710b",
   "metadata": {},
   "source": [
    "DT와 비교하기 위해 먼저 DT로 classification을 진행하고, 그 이후에 RF, 점수를 시각화한다."
   ]
  },
  {
   "cell_type": "code",
   "execution_count": 1,
   "id": "19769a15",
   "metadata": {
    "ExecuteTime": {
     "end_time": "2024-07-28T17:06:58.171207Z",
     "start_time": "2024-07-28T17:06:57.657991Z"
    }
   },
   "outputs": [
    {
     "name": "stdout",
     "output_type": "stream",
     "text": [
      "<class 'pandas.core.frame.DataFrame'>\n",
      "RangeIndex: 52 entries, 0 to 51\n",
      "Data columns (total 6 columns):\n",
      " #   Column         Non-Null Count  Dtype  \n",
      "---  ------         --------------  -----  \n",
      " 0   salt_content   52 non-null     float64\n",
      " 1   sugar_content  52 non-null     float64\n",
      " 2   weight         52 non-null     int64  \n",
      " 3   sausage        52 non-null     int64  \n",
      " 4   ham            52 non-null     int64  \n",
      " 5   label          52 non-null     object \n",
      "dtypes: float64(2), int64(3), object(1)\n",
      "memory usage: 2.6+ KB\n"
     ]
    },
    {
     "data": {
      "text/html": [
       "<div>\n",
       "<style scoped>\n",
       "    .dataframe tbody tr th:only-of-type {\n",
       "        vertical-align: middle;\n",
       "    }\n",
       "\n",
       "    .dataframe tbody tr th {\n",
       "        vertical-align: top;\n",
       "    }\n",
       "\n",
       "    .dataframe thead th {\n",
       "        text-align: right;\n",
       "    }\n",
       "</style>\n",
       "<table border=\"1\" class=\"dataframe\">\n",
       "  <thead>\n",
       "    <tr style=\"text-align: right;\">\n",
       "      <th></th>\n",
       "      <th>salt_content</th>\n",
       "      <th>sugar_content</th>\n",
       "      <th>weight</th>\n",
       "      <th>sausage</th>\n",
       "      <th>ham</th>\n",
       "      <th>label</th>\n",
       "    </tr>\n",
       "  </thead>\n",
       "  <tbody>\n",
       "    <tr>\n",
       "      <th>0</th>\n",
       "      <td>4.5</td>\n",
       "      <td>2.0</td>\n",
       "      <td>700</td>\n",
       "      <td>12</td>\n",
       "      <td>15</td>\n",
       "      <td>의정부</td>\n",
       "    </tr>\n",
       "    <tr>\n",
       "      <th>1</th>\n",
       "      <td>5.0</td>\n",
       "      <td>2.5</td>\n",
       "      <td>750</td>\n",
       "      <td>14</td>\n",
       "      <td>18</td>\n",
       "      <td>송탄</td>\n",
       "    </tr>\n",
       "    <tr>\n",
       "      <th>2</th>\n",
       "      <td>4.0</td>\n",
       "      <td>1.8</td>\n",
       "      <td>680</td>\n",
       "      <td>10</td>\n",
       "      <td>12</td>\n",
       "      <td>의정부</td>\n",
       "    </tr>\n",
       "    <tr>\n",
       "      <th>3</th>\n",
       "      <td>5.2</td>\n",
       "      <td>2.1</td>\n",
       "      <td>720</td>\n",
       "      <td>15</td>\n",
       "      <td>20</td>\n",
       "      <td>송탄</td>\n",
       "    </tr>\n",
       "    <tr>\n",
       "      <th>4</th>\n",
       "      <td>4.8</td>\n",
       "      <td>2.3</td>\n",
       "      <td>730</td>\n",
       "      <td>13</td>\n",
       "      <td>16</td>\n",
       "      <td>의정부</td>\n",
       "    </tr>\n",
       "  </tbody>\n",
       "</table>\n",
       "</div>"
      ],
      "text/plain": [
       "   salt_content  sugar_content  weight  sausage  ham label\n",
       "0           4.5            2.0     700       12   15   의정부\n",
       "1           5.0            2.5     750       14   18    송탄\n",
       "2           4.0            1.8     680       10   12   의정부\n",
       "3           5.2            2.1     720       15   20    송탄\n",
       "4           4.8            2.3     730       13   16   의정부"
      ]
     },
     "execution_count": 1,
     "metadata": {},
     "output_type": "execute_result"
    }
   ],
   "source": [
    "# 실습은 내가 만든 데이터로 진행한다. chatGPT에게 부탁한 부대찌개 데이터이다.\n",
    "\n",
    "import pandas as pd\n",
    "\n",
    "feature = ['salt_content', 'sugar_content', 'weight', 'sausage', 'ham', 'label']\n",
    "\n",
    "data = [\n",
    "    [4.5, 2.0, 700, 12, 15, '의정부'],\n",
    "    [5.0, 2.5, 750, 14, 18, '송탄'],\n",
    "    [4.0, 1.8, 680, 10, 12, '의정부'],\n",
    "    [5.2, 2.1, 720, 15, 20, '송탄'],\n",
    "    [4.8, 2.3, 730, 13, 16, '의정부'],\n",
    "    [5.1, 2.7, 780, 16, 19, '송탄'],\n",
    "    [4.3, 1.9, 690, 11, 13, '의정부'],\n",
    "    [5.3, 2.4, 760, 14, 21, '송탄'],\n",
    "    [4.4, 2.0, 710, 12, 14, '의정부'],\n",
    "    [5.4, 2.8, 800, 17, 22, '송탄'],\n",
    "    [4.6, 2.2, 740, 13, 15, '의정부'],\n",
    "    [5.5, 2.6, 770, 15, 20, '송탄'],\n",
    "    [4.7, 1.7, 660, 10, 12, '의정부'],\n",
    "    [5.6, 2.3, 740, 14, 19, '송탄'],\n",
    "    [4.2, 1.8, 670, 11, 13, '의정부'],\n",
    "    [5.7, 2.9, 810, 18, 23, '송탄'],\n",
    "    [4.9, 2.1, 720, 12, 17, '의정부'],\n",
    "    [5.8, 2.5, 790, 16, 21, '송탄'],\n",
    "    [4.1, 1.6, 650, 9, 11, '의정부'],\n",
    "    [5.9, 2.4, 760, 14, 20, '송탄'],\n",
    "    [4.2, 2.0, 700, 12, 14, '의정부'],\n",
    "    [6.0, 2.8, 830, 19, 24, '송탄'],\n",
    "    [4.3, 1.5, 640, 9, 10, '의정부'],\n",
    "    [6.1, 2.6, 810, 15, 22, '송탄'],\n",
    "    [4.4, 1.9, 680, 11, 13, '의정부'],\n",
    "    [6.2, 2.7, 850, 17, 25, '송탄'],\n",
    "    [4.5, 2.2, 720, 13, 18, '의정부'],\n",
    "    [6.3, 2.9, 870, 18, 26, '송탄'],\n",
    "    [4.6, 2.3, 740, 14, 19, '의정부'],\n",
    "    [6.4, 3.0, 890, 19, 27, '송탄'],\n",
    "    [4.7, 1.8, 650, 10, 12, '의정부'],\n",
    "    [6.5, 2.5, 780, 15, 23, '송탄'],\n",
    "    [4.8, 2.4, 760, 14, 21, '의정부'],\n",
    "    [6.6, 3.1, 910, 20, 28, '송탄'],\n",
    "    [4.9, 2.1, 730, 13, 20, '의정부'],\n",
    "    [6.7, 2.9, 900, 19, 26, '송탄'],\n",
    "    [5.0, 1.5, 640, 9, 11, '의정부'],\n",
    "    [6.8, 3.2, 930, 21, 29, '송탄'],\n",
    "    [5.1, 2.3, 740, 14, 22, '의정부'],\n",
    "    [6.9, 2.8, 920, 20, 27, '송탄'],\n",
    "    [5.2, 2.4, 750, 15, 23, '의정부'],\n",
    "    [7.0, 3.3, 950, 22, 30, '송탄'],\n",
    "    [5.3, 2.6, 760, 16, 24, '의정부'],\n",
    "    [7.1, 3.4, 970, 23, 31, '송탄'],\n",
    "    [5.4, 2.5, 770, 17, 25, '의정부'],\n",
    "    [7.2, 3.5, 990, 24, 32, '송탄'],\n",
    "    [5.5, 2.8, 780, 18, 26, '의정부'],\n",
    "    [7.3, 3.6, 1010, 25, 33, '송탄'],\n",
    "    [5.6, 3.0, 790, 19, 27, '의정부'],\n",
    "    [7.4, 3.7, 1030, 26, 34, '송탄'],\n",
    "    [5.7, 2.9, 800, 20, 28, '의정부'],\n",
    "    [7.5, 3.8, 1050, 27, 35, '송탄'],\n",
    "]\n",
    "\n",
    "df = pd.DataFrame(data, columns=feature)\n",
    "df.info()\n",
    "df.head()"
   ]
  },
  {
   "cell_type": "code",
   "execution_count": 3,
   "id": "ca42c45d",
   "metadata": {
    "ExecuteTime": {
     "end_time": "2024-07-28T17:07:32.858354Z",
     "start_time": "2024-07-28T17:07:32.853499Z"
    }
   },
   "outputs": [],
   "source": [
    "# data split\n",
    "\n",
    "from sklearn.model_selection import train_test_split\n",
    "\n",
    "boodaejjigae_input = df[['salt_content', 'sugar_content', 'weight', 'sausage', 'ham']].to_numpy()\n",
    "boodaejjigae_target = df['label'].to_numpy()\n",
    "\n",
    "X_train, X_test, y_train, y_test = train_test_split(boodaejjigae_input, boodaejjigae_target,\n",
    "                                                   test_size=0.2)"
   ]
  },
  {
   "cell_type": "code",
   "execution_count": 4,
   "id": "08a69fdf",
   "metadata": {
    "ExecuteTime": {
     "end_time": "2024-07-28T17:07:39.457530Z",
     "start_time": "2024-07-28T17:07:39.359271Z"
    }
   },
   "outputs": [
    {
     "name": "stdout",
     "output_type": "stream",
     "text": [
      "train score :  0.975609756097561\n",
      "test score :  1.0\n",
      "feature importance :  [0.69912134 0.09962203 0.         0.         0.20125663]\n"
     ]
    }
   ],
   "source": [
    "# max_depth를 3로 지정하여 학습 진행 및 점수\n",
    "\n",
    "from sklearn.tree import DecisionTreeClassifier\n",
    "\n",
    "dt = DecisionTreeClassifier(max_depth=3)\n",
    "dt.fit (X_train, y_train)\n",
    "\n",
    "print ('train score : ', dt.score(X_train, y_train))\n",
    "print ('test score : ', dt.score(X_test, y_test))\n",
    "print ('feature importance : ', dt.feature_importances_)"
   ]
  },
  {
   "cell_type": "code",
   "execution_count": 6,
   "id": "fbf1597c",
   "metadata": {
    "ExecuteTime": {
     "end_time": "2024-07-28T17:08:00.122201Z",
     "start_time": "2024-07-28T17:07:59.512375Z"
    }
   },
   "outputs": [
    {
     "name": "stdout",
     "output_type": "stream",
     "text": [
      "[[25  0]\n",
      " [ 1 26]]\n"
     ]
    },
    {
     "data": {
      "text/plain": [
       "[Text(0.5, 0.875, 'salt_content <= 5.15\\ngini = 0.5\\nsamples = 41\\nvalue = [21, 20]\\nclass = eujoengbu'),\n",
       " Text(0.25, 0.625, 'sugar_content <= 2.45\\ngini = 0.117\\nsamples = 16\\nvalue = [1, 15]\\nclass = songtan'),\n",
       " Text(0.125, 0.375, 'gini = 0.0\\nsamples = 15\\nvalue = [0, 15]\\nclass = songtan'),\n",
       " Text(0.375, 0.375, 'gini = 0.0\\nsamples = 1\\nvalue = [1, 0]\\nclass = eujoengbu'),\n",
       " Text(0.75, 0.625, 'salt_content <= 5.75\\ngini = 0.32\\nsamples = 25\\nvalue = [20, 5]\\nclass = eujoengbu'),\n",
       " Text(0.625, 0.375, 'ham <= 22.5\\ngini = 0.496\\nsamples = 11\\nvalue = [6, 5]\\nclass = eujoengbu'),\n",
       " Text(0.5, 0.125, 'gini = 0.0\\nsamples = 5\\nvalue = [5, 0]\\nclass = eujoengbu'),\n",
       " Text(0.75, 0.125, 'gini = 0.278\\nsamples = 6\\nvalue = [1, 5]\\nclass = songtan'),\n",
       " Text(0.875, 0.375, 'gini = 0.0\\nsamples = 14\\nvalue = [14, 0]\\nclass = eujoengbu')]"
      ]
     },
     "execution_count": 6,
     "metadata": {},
     "output_type": "execute_result"
    },
    {
     "data": {
      "image/png": "[encoded data removed]",
      "text/plain": [
       "<Figure size 640x480 with 1 Axes>"
      ]
     },
     "metadata": {},
     "output_type": "display_data"
    }
   ],
   "source": [
    "# confusion matrix 및 tree 시각화\n",
    "\n",
    "from sklearn import tree\n",
    "from sklearn.metrics import confusion_matrix\n",
    "\n",
    "y_pred = dt.predict(boodaejjigae_input)\n",
    "cm = confusion_matrix(y_pred, boodaejjigae_target)\n",
    "print (cm)\n",
    "\n",
    "tree.plot_tree(dt, feature_names=['salt_content', 'sugar_content', 'weight', 'sausage', 'ham'], \n",
    "               class_names=['eujoengbu', 'songtan'], filled=True)"
   ]
  },
  {
   "cell_type": "code",
   "execution_count": 7,
   "id": "923c5f0b",
   "metadata": {
    "ExecuteTime": {
     "end_time": "2024-07-28T17:09:01.955899Z",
     "start_time": "2024-07-28T17:09:01.755853Z"
    }
   },
   "outputs": [
    {
     "name": "stdout",
     "output_type": "stream",
     "text": [
      "train score :  1.0\n",
      "test score :  1.0\n",
      "feature importance :  [0.44267004 0.11481088 0.18979641 0.10320902 0.14951364]\n"
     ]
    }
   ],
   "source": [
    "from sklearn.ensemble import RandomForestClassifier\n",
    "\n",
    "rf = RandomForestClassifier(oob_score=True) # OOB validation test 진행\n",
    "rf.fit (X_train, y_train)\n",
    "\n",
    "print ('train score : ', rf.score(X_train, y_train))\n",
    "print ('test score : ', rf.score(X_test, y_test))\n",
    "print ('feature importance : ', rf.feature_importances_)"
   ]
  },
  {
   "cell_type": "code",
   "execution_count": 10,
   "id": "693270fe",
   "metadata": {
    "ExecuteTime": {
     "end_time": "2024-07-28T17:09:34.121539Z",
     "start_time": "2024-07-28T17:09:33.994066Z"
    }
   },
   "outputs": [
    {
     "name": "stdout",
     "output_type": "stream",
     "text": [
      "[[5 0]\n",
      " [0 6]]\n"
     ]
    },
    {
     "data": {
      "image/png": "[encoded data removed]",
      "text/plain": [
       "<Figure size 640x480 with 1 Axes>"
      ]
     },
     "metadata": {},
     "output_type": "display_data"
    }
   ],
   "source": [
    "# confusion matrix 및 decision tree와 점수 비교 시각화\n",
    "\n",
    "import matplotlib.pyplot as plt\n",
    "\n",
    "y_pred = rf.predict(X_test)\n",
    "cm = confusion_matrix(y_pred, y_test)\n",
    "print (cm)\n",
    "\n",
    "plt.bar ('dt train', dt.score(X_train, y_train))\n",
    "plt.bar ('dt test', dt.score(X_test, y_test))\n",
    "plt.bar ('rf train', rf.score(X_train, y_train))\n",
    "plt.bar ('rf test', rf.score(X_test, y_test))\n",
    "\n",
    "plt.ylim((0.7, 1))\n",
    "\n",
    "plt.show()"
   ]
  }
 ],
 "metadata": {
  "kernelspec": {
   "display_name": "Python 3 (ipykernel)",
   "language": "python",
   "name": "python3"
  },
  "language_info": {
   "codemirror_mode": {
    "name": "ipython",
    "version": 3
   },
   "file_extension": ".py",
   "mimetype": "text/x-python",
   "name": "python",
   "nbconvert_exporter": "python",
   "pygments_lexer": "ipython3",
   "version": "3.11.6"
  }
 },
 "nbformat": 4,
 "nbformat_minor": 5
}
