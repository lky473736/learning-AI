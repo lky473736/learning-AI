{
 "cells": [
  {
   "cell_type": "markdown",
   "id": "49603e22",
   "metadata": {},
   "source": [
    "## learning-AI101 : soup classification (ensemble)\n",
    "- 혼자 공부하는 머신러닝과 딥러닝 : 앙상블 기법\n",
    "- 2024.07.29\n",
    "----"
   ]
  },
  {
   "cell_type": "markdown",
   "id": "d5a9ac59",
   "metadata": {},
   "source": [
    "### RF (random forest)\n",
    "\n",
    "<img src=\"https://img1.daumcdn.net/thumb/R1280x0/?scode=mtistory2&fname=https%3A%2F%2Fblog.kakaocdn.net%2Fdn%2FZK4N6%2FbtqFNaJzPjg%2FsukopDLDuKSIymy2KWPAYk%2Fimg.png\" width=\"500px\">\n",
    "\n",
    "- random으로 feature를 선정해 node로 지정 후 분기할 때마다 DT와 같은 방식으로 분기해 나가는 weaker learner를 만들어 비교 후, 다수결의 원칙에 따라 가장 많은 category로 예측   \n",
    "\n",
    "- tree를 이용한 가장 확실하고 효과적인 방법, 일반적으로 decision tree보다 train score가 높다.\n",
    "\n",
    "- 구성원리 \n",
    "    - bootstrap sampling : 각각의 weaker learner를 만들기 위해 사용, feature을 복원 추출하고, 그 feature 안에서도 복원 추출하는 방법\n",
    "    - 다음 분기를 고를 때에도 랜덤하게 뽑음\n",
    "    - OOB 검증 : 확실히 \"복원 추출\" 이기 때문에 봅히지 않은 샘플도 생기니, 이를 OOB에 넣어 validation test를 진행 (재활용성을 높인다)"
   ]
  },
  {
   "cell_type": "code",
   "execution_count": 14,
   "id": "19769a15",
   "metadata": {
    "ExecuteTime": {
     "end_time": "2024-07-29T16:22:17.231279Z",
     "start_time": "2024-07-29T16:22:17.156758Z"
    }
   },
   "outputs": [
    {
     "name": "stdout",
     "output_type": "stream",
     "text": [
      "송탄 counting : 185 | 의정부 counting : 90\n",
      "<class 'pandas.core.frame.DataFrame'>\n",
      "RangeIndex: 275 entries, 0 to 274\n",
      "Data columns (total 6 columns):\n",
      " #   Column         Non-Null Count  Dtype  \n",
      "---  ------         --------------  -----  \n",
      " 0   salt_content   275 non-null    float64\n",
      " 1   sugar_content  275 non-null    float64\n",
      " 2   weight         275 non-null    int64  \n",
      " 3   sausage        275 non-null    int64  \n",
      " 4   ham            275 non-null    int64  \n",
      " 5   label          275 non-null    object \n",
      "dtypes: float64(2), int64(3), object(1)\n",
      "memory usage: 13.0+ KB\n"
     ]
    },
    {
     "data": {
      "text/html": [
       "<div>\n",
       "<style scoped>\n",
       "    .dataframe tbody tr th:only-of-type {\n",
       "        vertical-align: middle;\n",
       "    }\n",
       "\n",
       "    .dataframe tbody tr th {\n",
       "        vertical-align: top;\n",
       "    }\n",
       "\n",
       "    .dataframe thead th {\n",
       "        text-align: right;\n",
       "    }\n",
       "</style>\n",
       "<table border=\"1\" class=\"dataframe\">\n",
       "  <thead>\n",
       "    <tr style=\"text-align: right;\">\n",
       "      <th></th>\n",
       "      <th>salt_content</th>\n",
       "      <th>sugar_content</th>\n",
       "      <th>weight</th>\n",
       "      <th>sausage</th>\n",
       "      <th>ham</th>\n",
       "      <th>label</th>\n",
       "    </tr>\n",
       "  </thead>\n",
       "  <tbody>\n",
       "    <tr>\n",
       "      <th>0</th>\n",
       "      <td>5.6</td>\n",
       "      <td>2.3</td>\n",
       "      <td>740</td>\n",
       "      <td>12</td>\n",
       "      <td>18</td>\n",
       "      <td>송탄</td>\n",
       "    </tr>\n",
       "    <tr>\n",
       "      <th>1</th>\n",
       "      <td>4.8</td>\n",
       "      <td>1.9</td>\n",
       "      <td>680</td>\n",
       "      <td>10</td>\n",
       "      <td>15</td>\n",
       "      <td>의정부</td>\n",
       "    </tr>\n",
       "    <tr>\n",
       "      <th>2</th>\n",
       "      <td>7.2</td>\n",
       "      <td>3.6</td>\n",
       "      <td>1010</td>\n",
       "      <td>25</td>\n",
       "      <td>33</td>\n",
       "      <td>송탄</td>\n",
       "    </tr>\n",
       "    <tr>\n",
       "      <th>3</th>\n",
       "      <td>6.1</td>\n",
       "      <td>2.7</td>\n",
       "      <td>790</td>\n",
       "      <td>17</td>\n",
       "      <td>22</td>\n",
       "      <td>송탄</td>\n",
       "    </tr>\n",
       "    <tr>\n",
       "      <th>4</th>\n",
       "      <td>5.4</td>\n",
       "      <td>2.5</td>\n",
       "      <td>750</td>\n",
       "      <td>15</td>\n",
       "      <td>21</td>\n",
       "      <td>의정부</td>\n",
       "    </tr>\n",
       "  </tbody>\n",
       "</table>\n",
       "</div>"
      ],
      "text/plain": [
       "   salt_content  sugar_content  weight  sausage  ham label\n",
       "0           5.6            2.3     740       12   18    송탄\n",
       "1           4.8            1.9     680       10   15   의정부\n",
       "2           7.2            3.6    1010       25   33    송탄\n",
       "3           6.1            2.7     790       17   22    송탄\n",
       "4           5.4            2.5     750       15   21   의정부"
      ]
     },
     "execution_count": 14,
     "metadata": {},
     "output_type": "execute_result"
    }
   ],
   "source": [
    "# 실습은 내가 만든 데이터로 진행한다. chatGPT에게 부탁한 부대찌개 데이터이다.\n",
    "\n",
    "import pandas as pd\n",
    "\n",
    "feature = ['salt_content', 'sugar_content', 'weight', 'sausage', 'ham', 'label']\n",
    "\n",
    "data = [\n",
    "    [5.6, 2.3, 740, 12, 18, '송탄'],\n",
    "    [4.8, 1.9, 680, 10, 15, '의정부'],\n",
    "    [7.2, 3.6, 1010, 25, 33, '송탄'],\n",
    "    [6.1, 2.7, 790, 17, 22, '송탄'],\n",
    "    [5.4, 2.5, 750, 15, 21, '의정부'],\n",
    "    [4.9, 2.0, 720, 13, 19, '송탄'],\n",
    "    [7.0, 3.4, 990, 22, 30, '송탄'],\n",
    "    [5.8, 2.6, 780, 16, 23, '의정부'],\n",
    "    [6.3, 2.9, 810, 20, 25, '의정부'],\n",
    "    [5.1, 2.1, 730, 14, 20, '송탄'],\n",
    "    [7.4, 3.7, 1030, 26, 32, '송탄'],\n",
    "    [4.7, 2.2, 690, 11, 17, '의정부'],\n",
    "    [6.7, 3.1, 830, 21, 28, '송탄'],\n",
    "    [5.9, 2.4, 760, 15, 22, '의정부'],\n",
    "    [7.1, 3.3, 1010, 23, 31, '의정부'],\n",
    "    [5.3, 2.2, 740, 13, 18, '송탄'],\n",
    "    [6.8, 2.8, 820, 20, 24, '의정부'],\n",
    "    [4.5, 1.6, 670, 12, 14, '의정부'],\n",
    "    [7.3, 3.5, 1040, 24, 29, '송탄'],\n",
    "    [5.2, 2.0, 710, 11, 16, '송탄'],\n",
    "    [6.5, 3.0, 800, 18, 23, '의정부'],\n",
    "    [4.4, 2.1, 680, 14, 15, '송탄'],\n",
    "    [7.8, 3.8, 1060, 27, 34, '송탄'],\n",
    "    [5.7, 2.7, 750, 12, 17, '송탄'],\n",
    "    [6.4, 2.9, 790, 19, 22, '의정부'],\n",
    "    [4.6, 2.2, 690, 13, 16, '의정부'],\n",
    "    [7.6, 3.9, 1080, 28, 36, '송탄'],\n",
    "    [5.3, 2.3, 730, 15, 20, '의정부'],\n",
    "    [6.9, 2.8, 810, 17, 21, '송탄'],\n",
    "    [4.8, 1.7, 660, 12, 14, '송탄'],\n",
    "    [7.5, 3.6, 1050, 26, 35, '의정부'],\n",
    "    [5.1, 2.0, 720, 14, 19, '송탄'],\n",
    "    [6.7, 3.2, 830, 18, 25, '송탄'],\n",
    "    [4.9, 2.1, 700, 11, 17, '의정부'],\n",
    "    [7.4, 3.4, 1010, 24, 30, '송탄'],\n",
    "    [5.6, 2.4, 740, 16, 22, '송탄'],\n",
    "    [6.3, 2.7, 780, 18, 20, '의정부'],\n",
    "    [4.7, 1.8, 680, 13, 15, '송탄'],\n",
    "    [7.2, 3.5, 1030, 25, 33, '송탄'],\n",
    "    [5.8, 2.3, 750, 12, 19, '의정부'],\n",
    "    [6.6, 3.1, 820, 20, 23, '송탄'],\n",
    "    [4.5, 2.0, 690, 11, 16, '송탄'],\n",
    "    [7.1, 3.4, 1020, 22, 29, '송탄'],\n",
    "    [5.4, 2.5, 740, 14, 21, '의정부'],\n",
    "    [6.8, 2.8, 810, 17, 24, '송탄'],\n",
    "    [4.9, 1.9, 670, 12, 15, '송탄'],\n",
    "    [7.7, 3.8, 1060, 27, 35, '의정부'],\n",
    "    [5.2, 2.4, 720, 13, 18, '송탄'],\n",
    "    [6.2, 2.9, 800, 19, 22, '송탄'],\n",
    "    [4.6, 2.1, 690, 11, 14, '의정부'],\n",
    "    [7.8, 3.7, 1040, 25, 32, '송탄'],\n",
    "    [5.9, 2.6, 750, 16, 23, '송탄'],\n",
    "    [6.1, 2.8, 780, 18, 20, '의정부'],\n",
    "    [4.4, 1.7, 670, 10, 13, '송탄'],\n",
    "    [7.3, 3.6, 1050, 26, 33, '송탄'],\n",
    "    [5.5, 2.3, 730, 14, 19, '의정부'],\n",
    "    [6.9, 2.7, 810, 20, 24, '송탄'],\n",
    "    [4.8, 2.0, 690, 12, 15, '송탄'],\n",
    "    [7.4, 3.8, 1060, 28, 34, '송탄'],\n",
    "    [5.2, 2.4, 740, 13, 17, '의정부'],\n",
    "    [6.6, 3.0, 800, 19, 23, '송탄'],\n",
    "    [4.7, 1.9, 680, 11, 14, '송탄'],\n",
    "    [7.6, 3.7, 1040, 27, 32, '송탄'],\n",
    "    [5.8, 2.6, 750, 16, 22, '의정부'],\n",
    "    [6.3, 2.8, 790, 18, 20, '송탄'],\n",
    "    [4.5, 2.2, 670, 12, 15, '송탄'],\n",
    "    [7.5, 3.5, 1050, 25, 34, '송탄'],\n",
    "    [5.1, 2.1, 730, 14, 19, '의정부'],\n",
    "    [6.8, 2.9, 810, 20, 22, '송탄'],\n",
    "    [4.9, 2.0, 690, 12, 16, '송탄'],\n",
    "    [7.3, 3.4, 1020, 22, 30, '송탄'],\n",
    "    [5.6, 2.4, 740, 16, 21, '의정부'],\n",
    "    [6.2, 2.8, 780, 18, 24, '송탄'],\n",
    "    [4.8, 1.8, 670, 11, 15, '의정부'],\n",
    "    [7.8, 3.6, 1050, 26, 33, '의정부'],\n",
    "    [5.3, 2.2, 730, 13, 20, '의정부'],\n",
    "    [6.7, 3.1, 820, 19, 23, '의정부'],\n",
    "    [4.6, 2.1, 680, 12, 14, '송탄'],\n",
    "    [7.9, 3.7, 1070, 27, 36, '송탄'],\n",
    "    [5.7, 2.5, 740, 16, 18, '의정부'],\n",
    "    [6.1, 2.9, 790, 18, 24, '송탄'],\n",
    "    [4.5, 1.9, 670, 11, 13, '의정부'],\n",
    "    [7.6, 3.6, 1040, 25, 33, '송탄'],\n",
    "    [5.4, 2.4, 720, 12, 17, '송탄'],\n",
    "    [6.9, 2.8, 810, 20, 22, '송탄'],\n",
    "    [4.7, 1.7, 660, 10, 15, '송탄'],\n",
    "    [7.3, 3.4, 1020, 22, 30, '송탄'],\n",
    "    [5.2, 2.2, 740, 13, 19, '의정부'],\n",
    "    [6.5, 3.0, 800, 17, 21, '송탄'],\n",
    "    [4.8, 2.0, 690, 12, 16, '송탄'],\n",
    "    [7.9, 3.8, 1070, 28, 35, '송탄'],\n",
    "    [5.6, 2.5, 730, 14, 20, '의정부'],\n",
    "    [6.2, 2.7, 780, 18, 23, '의정부'],\n",
    "    [4.4, 1.8, 660, 11, 15, '송탄'],\n",
    "    [7.8, 3.6, 1050, 26, 32, '의정부'],\n",
    "    [5.3, 2.4, 740, 13, 18, '송탄'],\n",
    "    [6.8, 2.9, 810, 19, 24, '의정부'],\n",
    "    [4.5, 2.1, 680, 12, 14, '송탄'],\n",
    "    [7.6, 3.5, 1040, 25, 34, '의정부'],\n",
    "    [5.9, 2.6, 750, 16, 22, '의정부'],\n",
    "    [6.4, 2.8, 790, 18, 23, '송탄'],\n",
    "    [4.7, 1.9, 670, 11, 15, '송탄'],\n",
    "    [7.3, 3.4, 1030, 26, 33, '송탄'],\n",
    "    [5.2, 2.3, 720, 13, 19, '의정부'],\n",
    "    [6.1, 2.7, 780, 18, 22, '송탄'],\n",
    "    [4.6, 1.8, 660, 12, 14, '송탄'],\n",
    "    [7.7, 3.6, 1050, 27, 34, '송탄'],\n",
    "    [5.3, 2.2, 740, 14, 20, '의정부'],\n",
    "    [6.8, 2.9, 810, 19, 25, '송탄'],\n",
    "    [4.4, 1.7, 650, 11, 13, '송탄'],\n",
    "    [7.9, 3.8, 1070, 28, 35, '송탄'],\n",
    "    [5.6, 2.5, 730, 16, 22, '송탄'],\n",
    "    [6.3, 2.8, 780, 18, 24, '송탄'],\n",
    "    [4.5, 2.0, 690, 12, 15, '의정부'],\n",
    "    [7.8, 3.7, 1060, 27, 34, '송탄'],\n",
    "    [5.2, 2.3, 720, 14, 19, '송탄'],\n",
    "    [6.7, 2.9, 800, 19, 23, '송탄'],\n",
    "    [4.8, 1.8, 660, 11, 14, '의정부'],\n",
    "    [7.6, 3.6, 1040, 26, 32, '송탄'],\n",
    "    [5.4, 2.4, 740, 15, 21, '의정부'],\n",
    "    [6.5, 3.0, 790, 18, 24, '의정부'],\n",
    "    [4.6, 1.7, 670, 10, 13, '송탄'],\n",
    "    [7.7, 3.7, 1060, 27, 33, '송탄'],\n",
    "    [5.3, 2.2, 720, 13, 18, '의정부'],\n",
    "    [6.2, 2.8, 780, 19, 23, '송탄'],\n",
    "    [4.5, 1.9, 680, 11, 14, '송탄'],\n",
    "    [7.8, 3.8, 1070, 28, 34, '의정부'],\n",
    "    [5.6, 2.5, 730, 16, 22, '의정부'],\n",
    "    [6.8, 2.9, 810, 20, 25, '송탄'],\n",
    "    [4.4, 1.7, 660, 10, 13, '송탄'],\n",
    "    [7.9, 3.8, 1080, 29, 35, '송탄'],\n",
    "    [5.2, 2.3, 720, 13, 18, '송탄'],\n",
    "    [6.3, 2.8, 790, 19, 24, '송탄'],\n",
    "    [4.6, 1.8, 670, 11, 14, '송탄'],\n",
    "    [7.8, 3.7, 1060, 27, 33, '송탄'],\n",
    "    [5.1, 2.4, 730, 14, 19, '송탄'],\n",
    "    [6.7, 2.9, 800, 20, 25, '의정부'],\n",
    "    [4.8, 1.8, 660, 12, 15, '송탄'],\n",
    "    [7.6, 3.6, 1040, 26, 32, '송탄'],\n",
    "    [5.4, 2.5, 740, 16, 22, '의정부'],\n",
    "    [6.5, 2.8, 790, 18, 23, '송탄'],\n",
    "    [4.7, 1.9, 670, 11, 14, '송탄'],\n",
    "    [7.3, 3.4, 1030, 25, 33, '송탄'],\n",
    "    [5.2, 2.2, 720, 13, 19, '의정부'],\n",
    "    [6.2, 2.7, 780, 18, 20, '송탄'],\n",
    "    [4.5, 1.8, 660, 10, 14, '송탄'],\n",
    "    [7.8, 3.6, 1060, 27, 34, '의정부'],\n",
    "    [5.1, 2.3, 730, 14, 18, '의정부'],\n",
    "    [6.7, 2.9, 800, 20, 24, '송탄'],\n",
    "    [4.8, 1.8, 660, 11, 15, '송탄'],\n",
    "    [7.6, 3.5, 1050, 26, 33, '송탄'],\n",
    "    [5.3, 2.2, 720, 13, 20, '의정부'],\n",
    "    [6.4, 2.8, 790, 19, 23, '송탄'],\n",
    "    [4.5, 1.9, 670, 11, 14, '송탄'],\n",
    "    [7.9, 3.8, 1070, 28, 35, '송탄'],\n",
    "    [5.6, 2.4, 730, 16, 22, '의정부'],\n",
    "    [6.2, 2.9, 780, 18, 24, '송탄'],\n",
    "    [4.4, 1.8, 660, 10, 15, '송탄'],\n",
    "    [7.8, 3.7, 1060, 27, 34, '송탄'],\n",
    "    [5.2, 2.3, 720, 13, 19, '송탄'],\n",
    "    [6.8, 2.9, 810, 20, 25, '송탄'],\n",
    "    [4.6, 1.8, 670, 11, 14, '송탄'],\n",
    "    [7.7, 3.6, 1050, 27, 33, '송탄'],\n",
    "    [5.3, 2.2, 730, 14, 18, '의정부'],\n",
    "    [6.3, 2.7, 780, 18, 23, '송탄'],\n",
    "    [4.5, 1.9, 680, 12, 15, '송탄'],\n",
    "    [7.8, 3.8, 1070, 28, 34, '송탄'],\n",
    "    [5.2, 2.3, 720, 13, 20, '의정부'],\n",
    "    [6.7, 2.9, 800, 19, 24, '송탄'],\n",
    "    [4.8, 1.8, 660, 11, 14, '송탄'],\n",
    "    [7.6, 3.5, 1040, 25, 32, '송탄'],\n",
    "    [5.4, 2.4, 740, 16, 22, '의정부'],\n",
    "    [6.5, 2.8, 790, 18, 23, '송탄'],\n",
    "    [4.7, 1.9, 670, 12, 15, '송탄'],\n",
    "    [7.3, 3.4, 1030, 25, 34, '송탄'],\n",
    "    [5.2, 2.2, 720, 13, 19, '의정부'],\n",
    "    [6.2, 2.8, 780, 18, 24, '송탄'],\n",
    "    [4.5, 1.8, 660, 11, 14, '송탄'],\n",
    "    [7.8, 3.7, 1060, 27, 34, '송탄'],\n",
    "    [5.1, 2.3, 730, 14, 20, '의정부'],\n",
    "    [6.7, 2.9, 800, 20, 25, '송탄'],\n",
    "    [4.8, 1.8, 660, 12, 15, '송탄'],\n",
    "    [7.6, 3.6, 1040, 26, 33, '송탄'],\n",
    "    [5.4, 2.5, 740, 16, 22, '의정부'],\n",
    "    [6.5, 2.8, 790, 18, 23, '송탄'],\n",
    "    [4.7, 1.9, 670, 11, 14, '송탄'],\n",
    "    [7.3, 3.4, 1030, 25, 34, '송탄'],\n",
    "    [5.2, 2.2, 720, 13, 19, '의정부'],\n",
    "    [6.2, 2.7, 780, 18, 22, '송탄'],\n",
    "    [4.5, 1.8, 660, 11, 14, '송탄'],\n",
    "    [7.8, 3.8, 1070, 28, 35, '송탄'],\n",
    "    [5.1, 2.3, 730, 14, 20, '송탄'],\n",
    "    [6.7, 2.9, 800, 19, 24, '송탄'],\n",
    "    [4.8, 1.8, 660, 12, 15, '송탄'],\n",
    "    [7.6, 3.7, 1060, 27, 33, '송탄'],\n",
    "    [5.4, 2.4, 740, 16, 21, '의정부'],\n",
    "    [6.5, 2.8, 790, 18, 23, '송탄'],\n",
    "    [4.7, 1.9, 670, 11, 14, '송탄'],\n",
    "    [7.3, 3.4, 1030, 25, 33, '송탄'],\n",
    "    [5.2, 2.2, 720, 13, 19, '의정부'],\n",
    "    [6.3, 2.8, 780, 18, 24, '송탄'],\n",
    "    [4.5, 1.8, 660, 11, 14, '송탄'],\n",
    "    [7.8, 3.8, 1070, 28, 35, '송탄'],\n",
    "    [5.1, 2.3, 730, 14, 20, '의정부'],\n",
    "    [6.7, 2.9, 800, 19, 24, '송탄'],\n",
    "    [4.8, 1.8, 660, 12, 15, '송탄'],\n",
    "    [7.6, 3.6, 1040, 26, 33, '송탄'],\n",
    "    [5.4, 2.5, 740, 16, 21, '의정부'],\n",
    "    [6.5, 2.8, 790, 18, 23, '송탄'],\n",
    "    [4.7, 1.9, 670, 11, 14, '송탄'],\n",
    "    [7.3, 3.4, 1030, 25, 33, '송탄'],\n",
    "    [5.2, 2.2, 720, 13, 19, '의정부'],\n",
    "    [6.2, 2.8, 780, 18, 24, '송탄'],\n",
    "    [4.5, 1.8, 660, 11, 14, '송탄'],\n",
    "    [7.8, 3.8, 1070, 28, 35, '송탄'],\n",
    "    [5.1, 2.3, 730, 14, 20, '의정부'],\n",
    "    [6.7, 2.9, 800, 19, 24, '송탄'],\n",
    "    [4.8, 1.8, 660, 12, 15, '송탄'],\n",
    "    [7.6, 3.7, 1060, 27, 33, '송탄'],\n",
    "    [5.4, 2.4, 740, 16, 22, '의정부'],\n",
    "    [6.5, 2.8, 790, 18, 23, '송탄'],\n",
    "    [4.7, 1.9, 670, 11, 14, '송탄'],\n",
    "    [7.3, 3.4, 1030, 25, 34, '송탄'],\n",
    "    [5.2, 2.2, 720, 13, 19, '의정부'],\n",
    "    [6.2, 2.7, 780, 18, 24, '송탄'],\n",
    "    [4.5, 1.8, 660, 11, 14, '송탄'],\n",
    "    [7.8, 3.8, 1070, 28, 35, '송탄'],\n",
    "    [5.1, 2.3, 730, 14, 20, '의정부'],\n",
    "    [6.7, 2.9, 800, 19, 24, '송탄'],\n",
    "    [4.8, 1.8, 660, 12, 15, '송탄'],\n",
    "    [7.6, 3.7, 1060, 27, 33, '송탄'],\n",
    "    [5.4, 2.4, 740, 16, 22, '의정부'],\n",
    "    [6.5, 2.8, 790, 18, 23, '송탄'],\n",
    "    [4.7, 1.9, 670, 11, 14, '송탄'],\n",
    "    [7.3, 3.4, 1030, 25, 34, '송탄'],\n",
    "    [5.2, 2.2, 720, 13, 19, '의정부'],\n",
    "    [6.2, 2.7, 780, 18, 24, '송탄'],\n",
    "    [4.5, 1.8, 660, 11, 14, '송탄'],\n",
    "    [7.8, 3.8, 1070, 28, 35, '송탄'],\n",
    "    [5.1, 2.3, 730, 14, 20, '송탄'],\n",
    "    [6.7, 2.9, 800, 19, 24, '송탄'],\n",
    "    [4.8, 1.8, 660, 12, 15, '송탄'],\n",
    "    [7.6, 3.7, 1060, 27, 33, '송탄'],\n",
    "    [5.4, 2.4, 740, 16, 22, '송탄'],\n",
    "    [6.5, 2.8, 790, 18, 23, '송탄'],\n",
    "    [4.7, 1.9, 670, 11, 14, '송탄'],\n",
    "    [7.3, 3.4, 1030, 25, 34, '송탄'],\n",
    "    [5.2, 2.2, 720, 13, 19, '의정부'],\n",
    "    [6.2, 2.7, 780, 18, 24, '송탄'],\n",
    "    [4.5, 1.8, 660, 11, 14, '송탄'],\n",
    "    [7.8, 3.8, 1070, 28, 35, '송탄'],\n",
    "    [5.1, 2.3, 730, 14, 20, '의정부'],\n",
    "    [6.7, 2.9, 800, 19, 24, '송탄'],\n",
    "    [4.8, 1.8, 660, 12, 15, '의정부'],\n",
    "    [7.6, 3.7, 1060, 27, 33, '송탄'],\n",
    "    [5.4, 2.4, 740, 16, 22, '의정부'],\n",
    "    [6.5, 2.8, 790, 18, 23, '의정부'],\n",
    "    [4.7, 1.9, 670, 11, 14, '의정부'],\n",
    "    [7.3, 3.4, 1030, 25, 34, '의정부'],\n",
    "    [5.2, 2.2, 720, 13, 19, '의정부'],\n",
    "    [6.2, 2.7, 780, 18, 24, '송탄'],\n",
    "    [4.5, 1.8, 660, 11, 14, '송탄'],\n",
    "    [7.8, 3.8, 1070, 28, 35, '의정부'],\n",
    "    [5.1, 2.3, 730, 14, 20, '의정부'],\n",
    "    [6.7, 2.9, 800, 19, 24, '송탄'],\n",
    "    [4.8, 1.8, 660, 12, 15, '송탄'],\n",
    "    [7.6, 3.7, 1060, 27, 33, '의정부'],\n",
    "    [5.4, 2.4, 740, 16, 22, '의정부'],\n",
    "    [6.5, 2.8, 790, 18, 23, '송탄'],\n",
    "    [4.7, 1.9, 670, 11, 14, '송탄'],\n",
    "    [7.3, 3.4, 1030, 25, 34, '의정부'],\n",
    "    [5.2, 2.2, 720, 13, 19, '의정부'],\n",
    "    [6.2, 2.7, 780, 18, 24, '의정부'],\n",
    "    [4.5, 1.8, 660, 11, 14, '의정부'],\n",
    "    [7.8, 3.8, 1070, 28, 35, '의정부']\n",
    "]\n",
    "\n",
    "df = pd.DataFrame(data, columns=feature)\n",
    "print (f'송탄 counting : {len(df[df[\"label\"] == \"송탄\"])} | 의정부 counting : {len(df[df[\"label\"] == \"의정부\"])}');\n",
    "df.info()\n",
    "df.head()"
   ]
  },
  {
   "cell_type": "markdown",
   "id": "d899710b",
   "metadata": {},
   "source": [
    "DT와 비교하기 위해 먼저 DT로 classification을 진행하고, 그 이후에 RF, 점수를 시각화한다."
   ]
  },
  {
   "cell_type": "code",
   "execution_count": 35,
   "id": "ca42c45d",
   "metadata": {
    "ExecuteTime": {
     "end_time": "2024-07-29T16:45:54.032704Z",
     "start_time": "2024-07-29T16:45:54.027116Z"
    }
   },
   "outputs": [],
   "source": [
    "# data split\n",
    "\n",
    "from sklearn.model_selection import train_test_split\n",
    "\n",
    "boodaejjigae_input = df[['salt_content', 'sugar_content', 'weight', 'sausage', 'ham']].to_numpy()\n",
    "boodaejjigae_target = df['label'].to_numpy()\n",
    "\n",
    "X_train, X_test, y_train, y_test = train_test_split(boodaejjigae_input, boodaejjigae_target,\n",
    "                                                   test_size=0.2, stratify=boodaejjigae_target)"
   ]
  },
  {
   "cell_type": "code",
   "execution_count": 36,
   "id": "08a69fdf",
   "metadata": {
    "ExecuteTime": {
     "end_time": "2024-07-29T16:45:54.607978Z",
     "start_time": "2024-07-29T16:45:54.600673Z"
    }
   },
   "outputs": [
    {
     "name": "stdout",
     "output_type": "stream",
     "text": [
      "train score :  0.8318181818181818\n",
      "test score :  0.7454545454545455\n",
      "feature importance :  [0.04513185 0.92998407 0.         0.         0.02488409]\n"
     ]
    }
   ],
   "source": [
    "# max_depth를 3로 지정하여 학습 진행 및 점수\n",
    "\n",
    "from sklearn.tree import DecisionTreeClassifier\n",
    "\n",
    "dt = DecisionTreeClassifier(max_depth=3)\n",
    "dt.fit (X_train, y_train)\n",
    "\n",
    "print ('train score : ', dt.score(X_train, y_train))\n",
    "print ('test score : ', dt.score(X_test, y_test))\n",
    "print ('feature importance : ', dt.feature_importances_)"
   ]
  },
  {
   "cell_type": "code",
   "execution_count": 37,
   "id": "fbf1597c",
   "metadata": {
    "ExecuteTime": {
     "end_time": "2024-07-29T16:45:55.847151Z",
     "start_time": "2024-07-29T16:45:55.403729Z"
    }
   },
   "outputs": [
    {
     "name": "stdout",
     "output_type": "stream",
     "text": [
      "[[168  34]\n",
      " [ 17  56]]\n"
     ]
    },
    {
     "data": {
      "text/plain": [
       "[Text(0.5, 0.875, 'sugar_content <= 2.65\\ngini = 0.44\\nsamples = 220\\nvalue = [148, 72]\\nclass = eujoengbu'),\n",
       " Text(0.25, 0.625, 'sugar_content <= 2.05\\ngini = 0.5\\nsamples = 104\\nvalue = [52, 52]\\nclass = eujoengbu'),\n",
       " Text(0.125, 0.375, 'sugar_content <= 1.65\\ngini = 0.254\\nsamples = 47\\nvalue = [40, 7]\\nclass = eujoengbu'),\n",
       " Text(0.0625, 0.125, 'gini = 0.0\\nsamples = 1\\nvalue = [0, 1]\\nclass = songtan'),\n",
       " Text(0.1875, 0.125, 'gini = 0.227\\nsamples = 46\\nvalue = [40, 6]\\nclass = eujoengbu'),\n",
       " Text(0.375, 0.375, 'salt_content <= 4.5\\ngini = 0.332\\nsamples = 57\\nvalue = [12, 45]\\nclass = songtan'),\n",
       " Text(0.3125, 0.125, 'gini = 0.0\\nsamples = 1\\nvalue = [1, 0]\\nclass = eujoengbu'),\n",
       " Text(0.4375, 0.125, 'gini = 0.316\\nsamples = 56\\nvalue = [11, 45]\\nclass = songtan'),\n",
       " Text(0.75, 0.625, 'ham <= 20.5\\ngini = 0.285\\nsamples = 116\\nvalue = [96, 20]\\nclass = eujoengbu'),\n",
       " Text(0.625, 0.375, 'salt_content <= 5.9\\ngini = 0.48\\nsamples = 5\\nvalue = [3, 2]\\nclass = eujoengbu'),\n",
       " Text(0.5625, 0.125, 'gini = 0.0\\nsamples = 1\\nvalue = [1, 0]\\nclass = eujoengbu'),\n",
       " Text(0.6875, 0.125, 'gini = 0.5\\nsamples = 4\\nvalue = [2, 2]\\nclass = eujoengbu'),\n",
       " Text(0.875, 0.375, 'ham <= 34.5\\ngini = 0.272\\nsamples = 111\\nvalue = [93, 18]\\nclass = eujoengbu'),\n",
       " Text(0.8125, 0.125, 'gini = 0.249\\nsamples = 96\\nvalue = [82, 14]\\nclass = eujoengbu'),\n",
       " Text(0.9375, 0.125, 'gini = 0.391\\nsamples = 15\\nvalue = [11, 4]\\nclass = eujoengbu')]"
      ]
     },
     "execution_count": 37,
     "metadata": {},
     "output_type": "execute_result"
    },
    {
     "data": {
      "image/png": "[encoded data removed]",
      "text/plain": [
       "<Figure size 640x480 with 1 Axes>"
      ]
     },
     "metadata": {},
     "output_type": "display_data"
    }
   ],
   "source": [
    "# confusion matrix 및 tree 시각화\n",
    "\n",
    "from sklearn import tree\n",
    "from sklearn.metrics import confusion_matrix\n",
    "\n",
    "y_pred = dt.predict(boodaejjigae_input)\n",
    "cm = confusion_matrix(y_pred, boodaejjigae_target)\n",
    "print (cm)\n",
    "\n",
    "tree.plot_tree(dt, feature_names=['salt_content', 'sugar_content', 'weight', 'sausage', 'ham'], \n",
    "               class_names=['eujoengbu', 'songtan'], filled=True)"
   ]
  },
  {
   "cell_type": "code",
   "execution_count": 38,
   "id": "923c5f0b",
   "metadata": {
    "ExecuteTime": {
     "end_time": "2024-07-29T16:45:56.848023Z",
     "start_time": "2024-07-29T16:45:56.690798Z"
    }
   },
   "outputs": [
    {
     "name": "stdout",
     "output_type": "stream",
     "text": [
      "train score :  0.9409090909090909\n",
      "test score :  0.7272727272727273\n",
      "feature importance :  [0.19003967 0.24754405 0.20063977 0.16777849 0.19399802]\n"
     ]
    }
   ],
   "source": [
    "from sklearn.ensemble import RandomForestClassifier\n",
    "\n",
    "rf = RandomForestClassifier(oob_score=True) # OOB validation test 진행\n",
    "rf.fit (X_train, y_train)\n",
    "\n",
    "print ('train score : ', rf.score(X_train, y_train))\n",
    "print ('test score : ', rf.score(X_test, y_test))\n",
    "print ('feature importance : ', rf.feature_importances_)"
   ]
  },
  {
   "cell_type": "code",
   "execution_count": 39,
   "id": "693270fe",
   "metadata": {
    "ExecuteTime": {
     "end_time": "2024-07-29T16:45:57.400086Z",
     "start_time": "2024-07-29T16:45:57.277840Z"
    }
   },
   "outputs": [
    {
     "name": "stdout",
     "output_type": "stream",
     "text": [
      "[[31  9]\n",
      " [ 6  9]]\n"
     ]
    },
    {
     "data": {
      "image/png": "[encoded data removed]",
      "text/plain": [
       "<Figure size 640x480 with 1 Axes>"
      ]
     },
     "metadata": {},
     "output_type": "display_data"
    }
   ],
   "source": [
    "# confusion matrix 및 decision tree와 점수 비교 시각화\n",
    "\n",
    "import matplotlib.pyplot as plt\n",
    "\n",
    "y_pred = rf.predict(X_test)\n",
    "cm = confusion_matrix(y_pred, y_test)\n",
    "print (cm)\n",
    "\n",
    "plt.bar ('dt train', dt.score(X_train, y_train))\n",
    "plt.bar ('dt test', dt.score(X_test, y_test))\n",
    "plt.bar ('rf train', rf.score(X_train, y_train))\n",
    "plt.bar ('rf test', rf.score(X_test, y_test))\n",
    "\n",
    "plt.ylim((0.7, 1))\n",
    "\n",
    "plt.show()"
   ]
  },
  {
   "cell_type": "markdown",
   "id": "456f9f7f",
   "metadata": {},
   "source": [
    "### extra tree\n",
    "\n",
    "- random forest와 비슷하지만 다름\n",
    "    - 공통점 : n개의 tree를 random하게 학습\n",
    "    - 차이점\n",
    "        - 학습 시 bootstrap sample로 학습하는 것이 아닌 전체 train set으로 학습\n",
    "        - feature를 랜덤하게 골라 학습 -> 학습율이 떨어질 수 있으나, overfitting은 막을 수 있음"
   ]
  },
  {
   "cell_type": "code",
   "execution_count": 45,
   "id": "88d5afb2",
   "metadata": {
    "ExecuteTime": {
     "end_time": "2024-07-29T16:47:09.355472Z",
     "start_time": "2024-07-29T16:47:09.148413Z"
    }
   },
   "outputs": [
    {
     "name": "stdout",
     "output_type": "stream",
     "text": [
      "train score :  0.9409090909090909\n",
      "test score :  0.6727272727272727\n",
      "feature importance :  [0.2359858  0.22512065 0.18203465 0.15326392 0.20359498]\n"
     ]
    }
   ],
   "source": [
    "# extra tree, fit\n",
    "\n",
    "from sklearn.ensemble import ExtraTreesClassifier\n",
    "et = ExtraTreesClassifier (n_jobs=-1)\n",
    "et.fit(X_train, y_train) # scaling이 필요 없으니 scaling을 안한거임 (tree)\n",
    "\n",
    "print ('train score : ', et.score(X_train, y_train))\n",
    "print ('test score : ', et.score(X_test, y_test))\n",
    "print ('feature importance : ', et.feature_importances_) "
   ]
  },
  {
   "cell_type": "markdown",
   "id": "3a5e621a",
   "metadata": {},
   "source": [
    "random forest랑 비슷한 결과를 냄. 이유는 특성 갯수가 많지 않아서 extra tree의 강점이 없기 때문. extra tree는 feature의 갯수와 score가 상관을 이루는 알고리즘으로, 이를 아래와 같이 정리한다.\n",
    "\n",
    "- 특성 갯수가 많다 : 속도 측면에서 extree tree가 유리\n",
    "- 특성 갯수가 적다 : 이전보다 overfitting 완화 (일반적으로는)"
   ]
  },
  {
   "cell_type": "markdown",
   "id": "4b5f9e63",
   "metadata": {},
   "source": [
    "### gradient boosting\n",
    "\n",
    "- 깊이가 얕은 DT를 사용하여 이전 tree의 오차를 보완함\n",
    "- gradient boosting이라는 이름에서 알 수 있다 싶이, **확률적 경사 하강법**을 이용하여 최적값을 찾음 (DT를 계속 추가)\n",
    "    - 따라서 learning rate와 tree의 갯수를 늘리면 성능이 향상될 수 있음"
   ]
  },
  {
   "cell_type": "code",
   "execution_count": 46,
   "id": "2248bfe2",
   "metadata": {
    "ExecuteTime": {
     "end_time": "2024-07-29T16:47:10.894590Z",
     "start_time": "2024-07-29T16:47:10.708399Z"
    }
   },
   "outputs": [
    {
     "name": "stdout",
     "output_type": "stream",
     "text": [
      "train score :  0.9409090909090909\n",
      "test score :  0.6545454545454545\n",
      "feature importance :  [0.12907555 0.50825799 0.16469208 0.10334423 0.09463016]\n"
     ]
    }
   ],
   "source": [
    "# gradient boosting\n",
    "\n",
    "from sklearn.ensemble import GradientBoostingClassifier\n",
    "gb = GradientBoostingClassifier (n_estimators=300, learning_rate=0.3) # tree 300개, 0.3의 학습율\n",
    "gb.fit(X_train, y_train) \n",
    "\n",
    "print ('train score : ', gb.score(X_train, y_train))\n",
    "print ('test score : ', gb.score(X_test, y_test))\n",
    "print ('feature importance : ', gb.feature_importances_) "
   ]
  },
  {
   "cell_type": "markdown",
   "id": "fa11cb5f",
   "metadata": {},
   "source": [
    "### histogram based gradient boosting\n",
    "\n",
    "- 256개 정수 구간 : 255개 구간으로 나누고, 1개는 누락된 값을 할당하기 위해 대비\n",
    "- 누락된 값을 평균으로 대체하거나 하는 전처리를 할 필요가 없다.\n",
    "- 실험적 단계의 기능이라서 sklearn.experimental 에서 불러올 수 있다.\n",
    "    - 히스토그램 기반 그래디언트 부스팅 알고리즘을 구현한 라이브러리 중 대표적인 라이브러리가 XGBoost\n",
    "    - 과대 적합을 억제하며 높은 성능을 제공한다.\n",
    "- 트리 개수 지정 시, n_estimators 대신 부스팅 반복 횟수를 지정하는 max_iter를 사용\n",
    "- 특성 확인 시 permutation_importances() 를 사용한다."
   ]
  },
  {
   "cell_type": "code",
   "execution_count": 56,
   "id": "9dccd10b",
   "metadata": {
    "ExecuteTime": {
     "end_time": "2024-07-29T16:56:02.538522Z",
     "start_time": "2024-07-29T16:55:54.074624Z"
    }
   },
   "outputs": [
    {
     "name": "stdout",
     "output_type": "stream",
     "text": [
      "train score :  0.8590909090909091\n",
      "test score :  0.6909090909090909\n"
     ]
    }
   ],
   "source": [
    "# histogram based gradient boosting\n",
    "# 최고의 max_iter를 찾기 위해 grid search 진행\n",
    "\n",
    "from sklearn.experimental import enable_hist_gradient_boosting\n",
    "from sklearn.ensemble import HistGradientBoostingClassifier\n",
    "from sklearn.model_selection import GridSearchCV\n",
    "\n",
    "param_grid =  {\n",
    "    'max_iter' : range(100, 1000, 50)\n",
    "}\n",
    "\n",
    "hgb = HistGradientBoostingClassifier()\n",
    "gs = GridSearchCV(hgb, param_grid, cv=10, n_jobs=-1)\n",
    "gs.fit(X_train, y_train)\n",
    "\n",
    "hgb = gs.best_estimator_\n",
    "print ('train score : ', hgb.score(X_train, y_train))\n",
    "print ('test score : ', hgb.score(X_test, y_test))"
   ]
  }
 ],
 "metadata": {
  "kernelspec": {
   "display_name": "Python 3 (ipykernel)",
   "language": "python",
   "name": "python3"
  },
  "language_info": {
   "codemirror_mode": {
    "name": "ipython",
    "version": 3
   },
   "file_extension": ".py",
   "mimetype": "text/x-python",
   "name": "python",
   "nbconvert_exporter": "python",
   "pygments_lexer": "ipython3",
   "version": "3.11.6"
  }
 },
 "nbformat": 4,
 "nbformat_minor": 5
}
