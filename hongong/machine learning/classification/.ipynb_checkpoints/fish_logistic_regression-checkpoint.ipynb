{
 "cells": [
  {
   "cell_type": "markdown",
   "id": "49603e22",
   "metadata": {},
   "source": [
    "## learning-AI101 : fish classification (output the rate of classes / logistic regression)\n",
    "- 혼자 공부하는 머신러닝과 딥러닝 : 176p~197p\n",
    "- 2024.07.14.\n",
    "----\n",
    "\n",
    "- class별로 예측한 확률 반환 -> predict_proba()\n",
    "- 복잡한 분류 모델을 구성 \n",
    "    - 이중 회귀 : logistic + sigmoid\n",
    "    - 다중 회귀 : softmax + sigmoid"
   ]
  },
  {
   "cell_type": "markdown",
   "id": "32405c7f",
   "metadata": {},
   "source": [
    "----\n",
    "\n",
    "### knn으로 확률 반환\n",
    "\n",
    "- 주변 이웃이 k개 있으면, k개의 이웃의 클래스를 조사 후 각 클래스에 대한 p를 구함\n",
    "- p가 가장 높게 나온 클래스가 예측 클래스이고 그때의 p가 확률"
   ]
  },
  {
   "cell_type": "code",
   "execution_count": 1,
   "id": "e3d61d83",
   "metadata": {
    "ExecuteTime": {
     "end_time": "2024-07-14T01:12:53.118843Z",
     "start_time": "2024-07-14T01:12:52.020252Z"
    }
   },
   "outputs": [],
   "source": [
    "import numpy as np\n",
    "import matplotlib.pyplot as plt\n",
    "import pandas as pd  "
   ]
  },
  {
   "cell_type": "code",
   "execution_count": 3,
   "id": "4ccff205",
   "metadata": {
    "ExecuteTime": {
     "end_time": "2024-07-14T01:13:21.856821Z",
     "start_time": "2024-07-14T01:13:21.509142Z"
    }
   },
   "outputs": [
    {
     "data": {
      "text/html": [
       "<div>\n",
       "<style scoped>\n",
       "    .dataframe tbody tr th:only-of-type {\n",
       "        vertical-align: middle;\n",
       "    }\n",
       "\n",
       "    .dataframe tbody tr th {\n",
       "        vertical-align: top;\n",
       "    }\n",
       "\n",
       "    .dataframe thead th {\n",
       "        text-align: right;\n",
       "    }\n",
       "</style>\n",
       "<table border=\"1\" class=\"dataframe\">\n",
       "  <thead>\n",
       "    <tr style=\"text-align: right;\">\n",
       "      <th></th>\n",
       "      <th>Species</th>\n",
       "      <th>Weight</th>\n",
       "      <th>Length</th>\n",
       "      <th>Diagonal</th>\n",
       "      <th>Height</th>\n",
       "      <th>Width</th>\n",
       "    </tr>\n",
       "  </thead>\n",
       "  <tbody>\n",
       "    <tr>\n",
       "      <th>0</th>\n",
       "      <td>Bream</td>\n",
       "      <td>242.0</td>\n",
       "      <td>25.4</td>\n",
       "      <td>30.0</td>\n",
       "      <td>11.5200</td>\n",
       "      <td>4.0200</td>\n",
       "    </tr>\n",
       "    <tr>\n",
       "      <th>1</th>\n",
       "      <td>Bream</td>\n",
       "      <td>290.0</td>\n",
       "      <td>26.3</td>\n",
       "      <td>31.2</td>\n",
       "      <td>12.4800</td>\n",
       "      <td>4.3056</td>\n",
       "    </tr>\n",
       "    <tr>\n",
       "      <th>2</th>\n",
       "      <td>Bream</td>\n",
       "      <td>340.0</td>\n",
       "      <td>26.5</td>\n",
       "      <td>31.1</td>\n",
       "      <td>12.3778</td>\n",
       "      <td>4.6961</td>\n",
       "    </tr>\n",
       "    <tr>\n",
       "      <th>3</th>\n",
       "      <td>Bream</td>\n",
       "      <td>363.0</td>\n",
       "      <td>29.0</td>\n",
       "      <td>33.5</td>\n",
       "      <td>12.7300</td>\n",
       "      <td>4.4555</td>\n",
       "    </tr>\n",
       "    <tr>\n",
       "      <th>4</th>\n",
       "      <td>Bream</td>\n",
       "      <td>430.0</td>\n",
       "      <td>29.0</td>\n",
       "      <td>34.0</td>\n",
       "      <td>12.4440</td>\n",
       "      <td>5.1340</td>\n",
       "    </tr>\n",
       "  </tbody>\n",
       "</table>\n",
       "</div>"
      ],
      "text/plain": [
       "  Species  Weight  Length  Diagonal   Height   Width\n",
       "0   Bream   242.0    25.4      30.0  11.5200  4.0200\n",
       "1   Bream   290.0    26.3      31.2  12.4800  4.3056\n",
       "2   Bream   340.0    26.5      31.1  12.3778  4.6961\n",
       "3   Bream   363.0    29.0      33.5  12.7300  4.4555\n",
       "4   Bream   430.0    29.0      34.0  12.4440  5.1340"
      ]
     },
     "execution_count": 3,
     "metadata": {},
     "output_type": "execute_result"
    }
   ],
   "source": [
    "# knn으로 주변 이웃의 클래스 비율을 측정하여 확률을 반환하기\n",
    "\n",
    "fish = pd.read_csv('https://bit.ly/fish_csv_data')\n",
    "fish.head()"
   ]
  },
  {
   "cell_type": "code",
   "execution_count": 6,
   "id": "98899dc3",
   "metadata": {
    "ExecuteTime": {
     "end_time": "2024-07-14T01:15:37.705081Z",
     "start_time": "2024-07-14T01:15:37.700300Z"
    }
   },
   "outputs": [
    {
     "name": "stdout",
     "output_type": "stream",
     "text": [
      "생선 종류 :  ['Bream' 'Parkki' 'Perch' 'Pike' 'Roach' 'Smelt' 'Whitefish']\n"
     ]
    }
   ],
   "source": [
    "# 이 중에서 species는 target으로, 나머지는 input으로\n",
    "\n",
    "print (\"생선 종류 : \", np.unique(fish['Species']))\n",
    "fish_target = fish['Species'].to_numpy()\n",
    "fish_input = fish[['Weight', 'Length', 'Diagonal', 'Height', 'Width']].to_numpy()"
   ]
  },
  {
   "cell_type": "code",
   "execution_count": 7,
   "id": "3751c83f",
   "metadata": {
    "ExecuteTime": {
     "end_time": "2024-07-14T01:19:52.934119Z",
     "start_time": "2024-07-14T01:19:52.926862Z"
    }
   },
   "outputs": [],
   "source": [
    "# test set, train set split -> 표준화 전처리\n",
    "\n",
    "from sklearn.model_selection import train_test_split\n",
    "from sklearn.preprocessing import StandardScaler\n",
    "\n",
    "# split the set\n",
    "X_train, X_test, y_train, y_test = train_test_split(fish_input, fish_target, random_state=42)\n",
    "\n",
    "# 표준화 전처리\n",
    "ss = StandardScaler()\n",
    "ss.fit(X_train)\n",
    "X_train_scaled = ss.transform(X_train)\n",
    "X_test_scaled = ss.transform(X_test)"
   ]
  },
  {
   "cell_type": "code",
   "execution_count": 8,
   "id": "1910cf05",
   "metadata": {
    "ExecuteTime": {
     "end_time": "2024-07-14T01:22:03.616148Z",
     "start_time": "2024-07-14T01:22:03.595054Z"
    }
   },
   "outputs": [
    {
     "name": "stdout",
     "output_type": "stream",
     "text": [
      "train score :  0.8907563025210085\n",
      "test score :  0.85\n"
     ]
    }
   ],
   "source": [
    "# knn 분류 모델 생성, 학습 및 score\n",
    "\n",
    "from sklearn.neighbors import KNeighborsClassifier\n",
    "knn = KNeighborsClassifier(n_neighbors=3)\n",
    "knn.fit(X_train_scaled, y_train)\n",
    "\n",
    "print (\"train score : \", knn.score(X_train_scaled, y_train))\n",
    "print (\"test score : \", knn.score(X_test_scaled, y_test))"
   ]
  },
  {
   "cell_type": "code",
   "execution_count": 11,
   "id": "b7dcc60d",
   "metadata": {
    "ExecuteTime": {
     "end_time": "2024-07-14T01:26:34.803440Z",
     "start_time": "2024-07-14T01:26:34.795862Z"
    }
   },
   "outputs": [
    {
     "name": "stdout",
     "output_type": "stream",
     "text": [
      "['Bream' 'Parkki' 'Perch' 'Pike' 'Roach' 'Smelt' 'Whitefish']\n",
      "['Perch' 'Smelt' 'Pike' 'Perch' 'Perch']\n",
      "[[0.     0.     1.     0.     0.     0.     0.    ]\n",
      " [0.     0.     0.     0.     0.     1.     0.    ]\n",
      " [0.     0.     0.     1.     0.     0.     0.    ]\n",
      " [0.     0.     0.6667 0.     0.3333 0.     0.    ]\n",
      " [0.     0.     0.6667 0.     0.3333 0.     0.    ]]\n"
     ]
    }
   ],
   "source": [
    "# class별 확률 반환\n",
    "\n",
    "print (knn.classes_) # class들을 알파벳 순으로 출력\n",
    "print (knn.predict(X_test_scaled[:5])) # 위 5개의 sample로 실험\n",
    "proba = np.round(knn.predict_proba(X_test_scaled[:5]), decimals=4) # 각 class의 확률, 소수점 다섯번째 자리에서 반올림\n",
    "print (proba)\n",
    "\n",
    "# 예측할 수 있는 확률 값의 제한이 생김 (0/3, 1/3, 2/3, 3/3밖에 없으니)\n",
    "# -> 따라서 logistic regression 사용"
   ]
  },
  {
   "cell_type": "markdown",
   "id": "95b4623c",
   "metadata": {},
   "source": [
    "---------"
   ]
  },
  {
   "cell_type": "markdown",
   "id": "23fff258",
   "metadata": {},
   "source": [
    "### logistic regression : 이중 분류\n",
    "- 이중 분류에서는 sigmoid 함수를 사용 \n",
    "- sigmoid 함수\n",
    "    - 매우 작은 음수 : 0에 수렴\n",
    "    - 0 : 0.5\n",
    "    - 매우 큰 양수 : 1에 수렴\n",
    "    - 결국엔 0~1 사이에서만 존재\n",
    "- z값을 먼저 구한 후, 그 z값을 sigmoid 함수에 대입한다 -> 확률을 알 수 있음"
   ]
  },
  {
   "cell_type": "code",
   "execution_count": 15,
   "id": "6cbd2643",
   "metadata": {
    "ExecuteTime": {
     "end_time": "2024-07-14T01:37:51.551696Z",
     "start_time": "2024-07-14T01:37:51.411021Z"
    }
   },
   "outputs": [
    {
     "data": {
      "image/png": "[encoded data removed]",
      "text/plain": [
       "<Figure size 640x480 with 1 Axes>"
      ]
     },
     "metadata": {},
     "output_type": "display_data"
    }
   ],
   "source": [
    "# sigmoid 함수의 모양 시각화\n",
    "\n",
    "z = np.arange(-10, 10, 0.01)\n",
    "val = 1 / (1 + np.exp(-z)) # 1 / (1 + e^-z)\n",
    "plt.plot(z, val)\n",
    "plt.scatter(0, 0.5, marker='^') # 중간에 0, y값은 0.5\n",
    "plt.show()"
   ]
  },
  {
   "cell_type": "code",
   "execution_count": 28,
   "id": "e503bdf8",
   "metadata": {
    "ExecuteTime": {
     "end_time": "2024-07-14T01:45:43.019539Z",
     "start_time": "2024-07-14T01:45:43.016557Z"
    }
   },
   "outputs": [],
   "source": [
    "# bream, smelt만 확률을 예측하도록 분리 (논리 인덱싱을 사용)\n",
    "\n",
    "X_bream_smelt = X_train_scaled[(y_train == 'Bream') | (y_train == 'Smelt')]\n",
    "y_bream_smelt = y_train[(y_train == 'Bream') | (y_train == 'Smelt')]"
   ]
  },
  {
   "cell_type": "code",
   "execution_count": 30,
   "id": "b4561af6",
   "metadata": {
    "ExecuteTime": {
     "end_time": "2024-07-14T01:47:21.018140Z",
     "start_time": "2024-07-14T01:47:21.009742Z"
    }
   },
   "outputs": [
    {
     "name": "stdout",
     "output_type": "stream",
     "text": [
      "['Bream' 'Smelt' 'Bream' 'Bream' 'Bream']\n",
      "[[0.99759855 0.00240145]\n",
      " [0.02735183 0.97264817]\n",
      " [0.99486072 0.00513928]\n",
      " [0.98584202 0.01415798]\n",
      " [0.99767269 0.00232731]]\n"
     ]
    }
   ],
   "source": [
    "# logistic regression 모델링 및 학습, 확률 출력\n",
    "\n",
    "from sklearn.linear_model import LogisticRegression\n",
    "lr = LogisticRegression()\n",
    "lr.fit(X_bream_smelt, y_bream_smelt)\n",
    "\n",
    "print (lr.predict(X_bream_smelt[:5]))\n",
    "print (lr.predict_proba(X_bream_smelt[:5])) "
   ]
  },
  {
   "cell_type": "code",
   "execution_count": 31,
   "id": "5a9ff130",
   "metadata": {
    "ExecuteTime": {
     "end_time": "2024-07-14T01:47:54.883043Z",
     "start_time": "2024-07-14T01:47:54.879397Z"
    }
   },
   "outputs": [
    {
     "name": "stdout",
     "output_type": "stream",
     "text": [
      "[[-0.4037798  -0.57620209 -0.66280298 -1.01290277 -0.73168947]] \n",
      " [-2.16155132]\n"
     ]
    }
   ],
   "source": [
    "# coef와 intercept를 출력\n",
    "\n",
    "print (lr.coef_, '\\n', lr.intercept_)"
   ]
  },
  {
   "cell_type": "code",
   "execution_count": 33,
   "id": "8da4225a",
   "metadata": {
    "ExecuteTime": {
     "end_time": "2024-07-14T01:50:49.624160Z",
     "start_time": "2024-07-14T01:50:49.619273Z"
    }
   },
   "outputs": [
    {
     "name": "stdout",
     "output_type": "stream",
     "text": [
      "[-6.02927744  3.57123907 -5.26568906 -4.24321775 -6.0607117 ]\n",
      "[0.00240145 0.97264817 0.00513928 0.01415798 0.00232731]\n"
     ]
    }
   ],
   "source": [
    "# 만약 위 predict_proba가 아닌 수동으로 확률을 계산하려고 한다면?\n",
    "# -> z값을 먼저 구한 후 activation function (sigmoid, softmax)에 넣는다\n",
    "\n",
    "z_val = lr.decision_function(X_bream_smelt[:5]) # z값 구하기\n",
    "print (z_val)\n",
    "\n",
    "# sigmoid 함수는 scipy에 expit()을 사용한다\n",
    "\n",
    "from scipy.special import expit\n",
    "print (expit(z_val)) # 양수 클래스의 확률만 출력되는 것을 알 수 있음"
   ]
  },
  {
   "cell_type": "markdown",
   "id": "24676e15",
   "metadata": {},
   "source": [
    "-----\n",
    "\n",
    "### logistic regression : 다중 분류\n",
    "- 다중 분류에서는 softmax 함수를 사용 \n",
    "- softmax 함수\n",
    "    - 합이 1이어야 함\n",
    "    - 여러 개의 선형방정식 값을 0~1 사이로 압축\n",
    "    - 정규화된 지수 함수\n",
    "- z값을 먼저 구한 후, 그 z값을 softmax 함수에 대입한다 -> 확률을 알 수 있음\n",
    "- logistic regression의 규제 방식 : C (낮을 수록 규제가 약함)\n",
    "- logistic regression은 반복하는 알고리즘임 -> 따라서 충분한 반복이 필요 (충분하지 않으면 underfitting이 생길 수 있음)"
   ]
  },
  {
   "cell_type": "code",
   "execution_count": 34,
   "id": "b91e7f00",
   "metadata": {
    "ExecuteTime": {
     "end_time": "2024-07-14T01:58:16.590431Z",
     "start_time": "2024-07-14T01:58:16.559272Z"
    }
   },
   "outputs": [
    {
     "name": "stdout",
     "output_type": "stream",
     "text": [
      "train score :  0.9327731092436975\n",
      "test score :  0.925\n"
     ]
    }
   ],
   "source": [
    "# 모델링, fit, score\n",
    "\n",
    "lr = LogisticRegression(C=20, max_iter=1000)\n",
    "lr.fit(X_train_scaled, y_train)\n",
    "\n",
    "print (\"train score : \", lr.score(X_train_scaled, y_train))\n",
    "print (\"test score : \", lr.score(X_test_scaled, y_test))"
   ]
  },
  {
   "cell_type": "code",
   "execution_count": 40,
   "id": "dcc1d737",
   "metadata": {
    "ExecuteTime": {
     "end_time": "2024-07-14T02:00:32.326131Z",
     "start_time": "2024-07-14T02:00:32.321597Z"
    }
   },
   "outputs": [
    {
     "name": "stdout",
     "output_type": "stream",
     "text": [
      "['Perch' 'Smelt' 'Pike' 'Roach' 'Perch']\n",
      "['Bream' 'Parkki' 'Perch' 'Pike' 'Roach' 'Smelt' 'Whitefish']\n",
      "[[0.    0.014 0.841 0.    0.136 0.007 0.003]\n",
      " [0.    0.003 0.044 0.    0.007 0.946 0.   ]\n",
      " [0.    0.    0.034 0.935 0.015 0.016 0.   ]\n",
      " [0.011 0.034 0.306 0.007 0.567 0.    0.076]\n",
      " [0.    0.    0.904 0.002 0.089 0.002 0.001]]\n"
     ]
    }
   ],
   "source": [
    "# predict와 예측 확률 출력\n",
    "\n",
    "print (lr.predict(X_test_scaled[:5]))\n",
    "proba = np.round(lr.predict_proba(X_test_scaled[:5]), decimals=3) # 소수점 4째자리에서 반올림\n",
    "print (lr.classes_)\n",
    "print(proba)"
   ]
  },
  {
   "cell_type": "code",
   "execution_count": 49,
   "id": "bbe6ed18",
   "metadata": {
    "ExecuteTime": {
     "end_time": "2024-07-14T02:04:08.155666Z",
     "start_time": "2024-07-14T02:04:08.150905Z"
    }
   },
   "outputs": [
    {
     "name": "stdout",
     "output_type": "stream",
     "text": [
      "[[ -6.5    1.03   5.16  -2.73   3.34   0.33  -0.63]\n",
      " [-10.86   1.93   4.77  -2.4    2.98   7.84  -4.26]\n",
      " [ -4.34  -6.23   3.17   6.49   2.36   2.42  -3.87]\n",
      " [ -0.68   0.45   2.65  -1.19   3.26  -5.75   1.26]\n",
      " [ -6.4   -1.99   5.82  -0.11   3.5   -0.11  -0.71]]\n",
      "[[0.    0.014 0.841 0.    0.136 0.007 0.003]\n",
      " [0.    0.003 0.044 0.    0.007 0.946 0.   ]\n",
      " [0.    0.    0.034 0.935 0.015 0.016 0.   ]\n",
      " [0.011 0.034 0.307 0.007 0.565 0.    0.076]\n",
      " [0.    0.    0.905 0.002 0.089 0.002 0.001]]\n"
     ]
    }
   ],
   "source": [
    "# z값 구해서 softmax에 대입하여 확률값을 출력\n",
    "\n",
    "z_val = np.round(lr.decision_function(X_test_scaled[:5]), decimals=2)\n",
    "print (z_val)\n",
    "\n",
    "from scipy.special import softmax\n",
    "print (np.round(softmax(z_val, axis=1), decimals=3)) # 위와 동일"
   ]
  }
 ],
 "metadata": {
  "kernelspec": {
   "display_name": "Python 3 (ipykernel)",
   "language": "python",
   "name": "python3"
  },
  "language_info": {
   "codemirror_mode": {
    "name": "ipython",
    "version": 3
   },
   "file_extension": ".py",
   "mimetype": "text/x-python",
   "name": "python",
   "nbconvert_exporter": "python",
   "pygments_lexer": "ipython3",
   "version": "3.11.6"
  }
 },
 "nbformat": 4,
 "nbformat_minor": 5
}
