{
 "cells": [
  {
   "cell_type": "markdown",
   "id": "99b995c6-765b-408a-ad9e-6e6f3d475453",
   "metadata": {},
   "source": [
    "### learning-AI101 : topic4_2"
   ]
  },
  {
   "cell_type": "markdown",
   "id": "3b19390b-d1dd-4886-8407-374d942f1c59",
   "metadata": {},
   "source": [
    "#### RNN 구현 : 작곡 AI"
   ]
  },
  {
   "cell_type": "markdown",
   "id": "461891e0-6f73-428f-8798-393de0b2c739",
   "metadata": {},
   "source": [
    "(복습) 인공지능 구축하는 법\n",
    "- 0) 데이터 전처리, 데이터 준비하기\n",
    "  1) 모델링\n",
    "  2) compile\n",
    "  3) fit"
   ]
  },
  {
   "cell_type": "markdown",
   "id": "19043218-c8de-4153-a454-1d35bc2f956c",
   "metadata": {},
   "source": [
    "#### 0. 데이터 전처리, 데이터 준비하기"
   ]
  },
  {
   "cell_type": "code",
   "execution_count": 24,
   "id": "bc548670-8d55-40e9-bac6-0bee38c60c50",
   "metadata": {},
   "outputs": [
    {
     "name": "stdout",
     "output_type": "stream",
     "text": [
      "e\"G\"d2B\"D\"A3/2B/2c\"G\"B2G\"D\"A2e\"G\"d2B\"D\"A3/2B/2c:2/4\"F\"BF:3/4\"G\"G2e:\"C\"g2e\"Bb\"f2d\"F\"c2AF2e\"C\"g2e\"Bb\"f\n"
     ]
    }
   ],
   "source": [
    "# 텍스트 파일 열기\n",
    "data = open('../data/pianoabc/pianoabc.txt', 'r').read()\n",
    "print(data[:100])"
   ]
  },
  {
   "cell_type": "markdown",
   "id": "b9ab5dd2-01bd-44a7-9d89-4c551f10fece",
   "metadata": {},
   "source": [
    "**위에 보니깐 코드랑 숫자 등이 있음 <-- 느낌 상 abc notation 악보일 가능성이 높음**  \n",
    "- compile, fit하기 위해서 문자나 숫자로 치환하여야 함\n",
    "- 악보에 abc notation을 적용하여 음악을 숫자나 문자로 치환하였음\n",
    "- 숫자는 음표의 길이 / 영어는 CDEFGABC (도레미파솔라시)\n",
    "- pianoabc.txt는 abc notation으로 짜여진 클래식 악보 몇개를 이어붙인 파일이다\n",
    "- 따옴표 : 주석"
   ]
  },
  {
   "cell_type": "code",
   "execution_count": 25,
   "id": "30d44acf-1f42-4454-989d-460001a3c3c9",
   "metadata": {},
   "outputs": [
    {
     "name": "stdout",
     "output_type": "stream",
     "text": [
      "['\"', \"'\", ',', '/', '1', '2', '3', '4', '5', '6', '7', '8', '9', ':', 'A', 'B', 'C', 'D', 'E', 'F', 'G', '^', '_', 'a', 'b', 'c', 'd', 'e', 'f', 'g', 'z']\n",
      "31\n"
     ]
    }
   ],
   "source": [
    "# 문자로 되어있으니 숫자로 바꾸어야 한다 (학습하려면) -> bag of words 만들기\n",
    "# bag of words : 특정 파일에서 문자가 무엇무엇이 있는지, 숫자가 무엇무엇이 있는지\n",
    "# a는 1, b는 2... 이런 식으로 문자를 숫자로 치환\n",
    "\n",
    "bag_of_words = list(set(data)) # set을 이용하여 bag of words 만들기\n",
    "bag_of_words.sort() # 뒤죽박죽인 set을 위해 sort()처리를 한번 함\n",
    "print (bag_of_words)\n",
    "print (len(bag_of_words))"
   ]
  },
  {
   "cell_type": "code",
   "execution_count": 34,
   "id": "d92f5b1c-e739-4251-812a-d4b41dacddb5",
   "metadata": {},
   "outputs": [
    {
     "name": "stdout",
     "output_type": "stream",
     "text": [
      "{'\"': 0, \"'\": 1, ',': 2, '/': 3, '1': 4, '2': 5, '3': 6, '4': 7, '5': 8, '6': 9, '7': 10, '8': 11, '9': 12, ':': 13, 'A': 14, 'B': 15, 'C': 16, 'D': 17, 'E': 18, 'F': 19, 'G': 20, '^': 21, '_': 22, 'a': 23, 'b': 24, 'c': 25, 'd': 26, 'e': 27, 'f': 28, 'g': 29, 'z': 30}\n"
     ]
    }
   ],
   "source": [
    "# bag of words를 이용해서 data_table을 만들어보자\n",
    "\n",
    "digital_data = data\n",
    "\n",
    "data_table = {}\n",
    "numbering = 0\n",
    "\n",
    "for i in bag_of_words :\n",
    "    data_table[bag_of_words[numbering]] = numbering\n",
    "    numbering += 1\n",
    "\n",
    "print (data_table)"
   ]
  },
  {
   "cell_type": "code",
   "execution_count": 35,
   "id": "27d4640d-8e0a-4dac-a150-b789c8cc47ee",
   "metadata": {},
   "outputs": [
    {
     "name": "stdout",
     "output_type": "stream",
     "text": [
      "[27, 0, 20, 0, 26, 5, 15, 0, 17, 0]\n"
     ]
    }
   ],
   "source": [
    "# data를 숫자화하여 digital_data 저장하기\n",
    "digital_data = []\n",
    "\n",
    "for i in data : \n",
    "    digital_data.append(data_table[i])\n",
    "    \n",
    "print (digital_data[0:10])"
   ]
  },
  {
   "cell_type": "markdown",
   "id": "32b09083-58af-4f00-8e27-824d8b6d72a6",
   "metadata": {},
   "source": [
    "결론\n",
    "- digital_data : data를 수치화함\n",
    "- bag_of_words : data에 있는 모든 문자와 숫자\n",
    "- 그러면 trainX, trianY를 어떻게 만드는가?\n",
    "  - 만약 [27, 0, 20, 0, 26]이라는 데이터가 있을 때\n",
    "  - RNN의 목적은 그 다음 걸 예측하는 것이기 때문에,\n",
    "  - trainX가 [27, 0]이라면 trainY는 [20]\n",
    "  - trainX가 [27, 0, 20, 0]이라면 trainY는 26이다. X 다음 값이 당연히 Y가 된다 "
   ]
  },
  {
   "cell_type": "code",
   "execution_count": 124,
   "id": "afd5bf9e-6e54-46d8-9c5b-d447d6810b33",
   "metadata": {},
   "outputs": [
    {
     "name": "stdout",
     "output_type": "stream",
     "text": [
      "292022\n",
      "25 11680\n",
      "(11680, 25)\n"
     ]
    }
   ],
   "source": [
    "# trainX와 trainY 만들기\n",
    "# trainX가 25개일때, trainY가 1개이도록 만들기\n",
    "length = len(digital_data)\n",
    "print (length)\n",
    "\n",
    "train_X = []\n",
    "train_Y = []\n",
    "num = 0\n",
    "\n",
    "while True :\n",
    "    try : \n",
    "        train_X.append(digital_data[num : num + 25])\n",
    "        train_Y.append(digital_data[num + 25])\n",
    "        num += 25\n",
    "\n",
    "    except IndexError :\n",
    "        break\n",
    "\n",
    "print (len(train_X[0]), len(train_Y))\n",
    "train_X.pop()\n",
    "print (np.array(train_X).shape)"
   ]
  },
  {
   "cell_type": "markdown",
   "id": "c8733a1e-62a9-4d63-8498-8f95e7dd9f54",
   "metadata": {},
   "source": [
    "**np.array를 이용해서 shape을 확인해보자**"
   ]
  },
  {
   "cell_type": "code",
   "execution_count": 125,
   "id": "db8192b4-57d6-4e68-802d-37173c7391c0",
   "metadata": {},
   "outputs": [],
   "source": [
    "import numpy as np\n",
    "import tensorflow as tf"
   ]
  },
  {
   "cell_type": "markdown",
   "id": "2a9a7890-d64a-4ed9-bfda-d4f19179a349",
   "metadata": {},
   "source": [
    "**원핫인코딩을 하여 학습효율을 높이자**"
   ]
  },
  {
   "cell_type": "code",
   "execution_count": 127,
   "id": "e1aab3b1-c0ae-406b-9689-c1df5b875002",
   "metadata": {},
   "outputs": [
    {
     "name": "stdout",
     "output_type": "stream",
     "text": [
      "tf.Tensor(\n",
      "[[[0. 0. 0. ... 0. 0. 0.]\n",
      "  [1. 0. 0. ... 0. 0. 0.]\n",
      "  [0. 0. 0. ... 0. 0. 0.]\n",
      "  ...\n",
      "  [0. 0. 0. ... 0. 0. 0.]\n",
      "  [0. 0. 0. ... 0. 0. 0.]\n",
      "  [1. 0. 0. ... 0. 0. 0.]]\n",
      "\n",
      " [[0. 0. 0. ... 0. 0. 0.]\n",
      "  [1. 0. 0. ... 0. 0. 0.]\n",
      "  [0. 0. 0. ... 0. 0. 0.]\n",
      "  ...\n",
      "  [0. 0. 0. ... 0. 0. 0.]\n",
      "  [0. 0. 0. ... 0. 0. 0.]\n",
      "  [0. 0. 0. ... 0. 0. 0.]]], shape=(2, 25, 31), dtype=float32)\n"
     ]
    }
   ],
   "source": [
    "train_X = tf.one_hot(train_X, 31)\n",
    "train_Y = tf.one_hot(train_Y, 31)\n",
    "print(train_X[0:2])"
   ]
  },
  {
   "cell_type": "markdown",
   "id": "baab0507-15f2-4e0b-9806-69cfb9c6b1a6",
   "metadata": {},
   "source": [
    "----------------"
   ]
  },
  {
   "cell_type": "markdown",
   "id": "3152fb57-8ebb-432e-b83e-49f6116b545c",
   "metadata": {},
   "source": [
    "#### 1. 모델링 및 컴파일"
   ]
  },
  {
   "cell_type": "code",
   "execution_count": 133,
   "id": "2ca827a0-14c6-40e5-82fa-c4d2c448b273",
   "metadata": {},
   "outputs": [],
   "source": [
    "model = tf.keras.models.Sequential([\n",
    "    # LSTM 레이어를 통해 RNN을 구성하자\n",
    "    tf.keras.layers.LSTM(100, input_shape=(25, 31)),\n",
    "    # 문자 31개 중 마지막에 올 문자를 예측하는 문자와 같음 -> 따라서 softmax + categorical_crossentropy를 사용\n",
    "    tf.keras.layers.Dense(31, activation=\"softmax\")\n",
    "])\n",
    "\n",
    "model.compile(loss='categorical_crossentropy', optimizer='adam')\n",
    "\n",
    "# LSTM 레이어를 사용할 땐 activation을 중간에 넣을 필요가 없다\n",
    "# LSTM 레이어를 사용할 땐 epochs를 엄청 많이 돌려야한다"
   ]
  },
  {
   "cell_type": "markdown",
   "id": "9b0bbe85-215f-4e56-8355-7b2582a16f34",
   "metadata": {},
   "source": [
    "------"
   ]
  },
  {
   "cell_type": "markdown",
   "id": "1924f466-2344-4061-a470-ddae2f52dc6d",
   "metadata": {},
   "source": [
    "#### 2. fit"
   ]
  },
  {
   "cell_type": "code",
   "execution_count": null,
   "id": "aab19558-b873-4129-86e4-853a03e214bf",
   "metadata": {},
   "outputs": [],
   "source": [
    "model.fit(train_X, train_Y, batch_size=64, epochs=50)"
   ]
  },
  {
   "cell_type": "code",
   "execution_count": null,
   "id": "5ba88580-104f-40b2-a33d-0a3114c4453e",
   "metadata": {},
   "outputs": [],
   "source": []
  }
 ],
 "metadata": {
  "kernelspec": {
   "display_name": "Python 3 (ipykernel)",
   "language": "python",
   "name": "python3"
  },
  "language_info": {
   "codemirror_mode": {
    "name": "ipython",
    "version": 3
   },
   "file_extension": ".py",
   "mimetype": "text/x-python",
   "name": "python",
   "nbconvert_exporter": "python",
   "pygments_lexer": "ipython3",
   "version": "3.11.6"
  }
 },
 "nbformat": 4,
 "nbformat_minor": 5
}
