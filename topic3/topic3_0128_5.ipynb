{
 "cells": [
  {
   "cell_type": "markdown",
   "id": "d25e03fa-8c99-4db6-8b75-800eba8038a8",
   "metadata": {},
   "source": [
    "## learning_AI101 : topic3_5"
   ]
  },
  {
   "cell_type": "markdown",
   "id": "049f4c2c-efad-4d12-aca9-6222a9328302",
   "metadata": {},
   "source": [
    "모델을 저장해야 웹서비스에 ai모델을 로드할 수 있다.\n",
    "\n",
    "**학습시킨 모델을 저장할 때 저장되는 항목들**\n",
    "- 모델의 레이어 순서\n",
    "- loss 함수 종류\n",
    "- optimizer 종류\n",
    "- 훈련 후의 w값"
   ]
  },
  {
   "cell_type": "markdown",
   "id": "fc9e3bb7-3b86-4e78-98e6-5585b86510b9",
   "metadata": {},
   "source": [
    "아래 있는 쇼핑몰 사진 구분 모델을 저장해보는 연습"
   ]
  },
  {
   "cell_type": "code",
   "execution_count": 1,
   "id": "607fd7e3-8eeb-4725-a02a-8747f0309fe0",
   "metadata": {},
   "outputs": [
    {
     "name": "stderr",
     "output_type": "stream",
     "text": [
      "2024-01-28 18:08:33.345092: I tensorflow/core/platform/cpu_feature_guard.cc:182] This TensorFlow binary is optimized to use available CPU instructions in performance-critical operations.\n",
      "To enable the following instructions: AVX2 FMA, in other operations, rebuild TensorFlow with the appropriate compiler flags.\n"
     ]
    },
    {
     "name": "stdout",
     "output_type": "stream",
     "text": [
      "Epoch 1/3\n",
      "1875/1875 [==============================] - 5s 2ms/step - loss: 0.4964 - acc: 0.8239 - val_loss: 0.4575 - val_acc: 0.8302\n",
      "Epoch 2/3\n",
      "1875/1875 [==============================] - 4s 2ms/step - loss: 0.3758 - acc: 0.8654 - val_loss: 0.4137 - val_acc: 0.8488\n",
      "Epoch 3/3\n",
      "1875/1875 [==============================] - 4s 2ms/step - loss: 0.3365 - acc: 0.8779 - val_loss: 0.3799 - val_acc: 0.8646\n"
     ]
    },
    {
     "data": {
      "text/plain": [
       "<keras.src.callbacks.History at 0x13950f250>"
      ]
     },
     "execution_count": 1,
     "metadata": {},
     "output_type": "execute_result"
    }
   ],
   "source": [
    "import tensorflow as tf \n",
    "import numpy as np\n",
    "\n",
    "(trainX, trainY), (testX, testY) = tf.keras.datasets.fashion_mnist.load_data()\n",
    "\n",
    "trainX = trainX / 255.0\n",
    "testX = testX / 255.0\n",
    "\n",
    "trainX = trainX.reshape( (trainX.shape[0], 28,28,1) )\n",
    "testX = testX.reshape( (testX.shape[0], 28,28,1) )\n",
    "\n",
    "model = tf.keras.Sequential([\n",
    "    tf.keras.layers.Flatten(),\n",
    "    tf.keras.layers.Dense(128, activation='relu'),\n",
    "    tf.keras.layers.Dense(10, activation='softmax'),\n",
    "])\n",
    "\n",
    "model.compile(loss='sparse_categorical_crossentropy', optimizer='adam', metrics=['acc'])\n",
    "model.fit(trainX, trainY, validation_data=(testX, testY), epochs=3)"
   ]
  },
  {
   "cell_type": "markdown",
   "id": "4e01cf5d-78cc-4db6-8fb4-a5c3fe93d3da",
   "metadata": {},
   "source": [
    "------"
   ]
  },
  {
   "cell_type": "markdown",
   "id": "eb8ed84f-f500-4120-ad2c-138d58f6d6c4",
   "metadata": {},
   "source": [
    "모델을 저장하는 방법  \n",
    "- 1) 전체 모델을 저장 / 로드 : 모든 변수, 가중치, 레이어 ...\n",
    "- 2) w값만 저장 / 로드 (checkpoint) : epoch 중간중간에 checkpoint 저장 가능"
   ]
  },
  {
   "cell_type": "code",
   "execution_count": 7,
   "id": "262ba668-700c-40a2-b19b-873b85b857cc",
   "metadata": {},
   "outputs": [
    {
     "name": "stdout",
     "output_type": "stream",
     "text": [
      "INFO:tensorflow:Assets written to: ../topic3/model1/assets\n"
     ]
    },
    {
     "name": "stderr",
     "output_type": "stream",
     "text": [
      "INFO:tensorflow:Assets written to: ../topic3/model1/assets\n"
     ]
    }
   ],
   "source": [
    "# 전체 모델을 저장\n",
    "\n",
    "model.save('../topic3/model1/')"
   ]
  },
  {
   "cell_type": "code",
   "execution_count": 8,
   "id": "d29fbdbe-ff1b-462b-887b-a3bf9a2cce82",
   "metadata": {},
   "outputs": [],
   "source": [
    "# 모델 불러오기\n",
    "\n",
    "불러온모델 = tf.keras.models.load_model('../topic3/model1/')"
   ]
  },
  {
   "cell_type": "code",
   "execution_count": 9,
   "id": "36d4e4ef-c69e-42b2-a243-c95bbd265383",
   "metadata": {},
   "outputs": [
    {
     "name": "stdout",
     "output_type": "stream",
     "text": [
      "Model: \"sequential\"\n",
      "_________________________________________________________________\n",
      " Layer (type)                Output Shape              Param #   \n",
      "=================================================================\n",
      " flatten (Flatten)           (None, 784)               0         \n",
      "                                                                 \n",
      " dense (Dense)               (None, 128)               100480    \n",
      "                                                                 \n",
      " dense_1 (Dense)             (None, 10)                1290      \n",
      "                                                                 \n",
      "=================================================================\n",
      "Total params: 101770 (397.54 KB)\n",
      "Trainable params: 101770 (397.54 KB)\n",
      "Non-trainable params: 0 (0.00 Byte)\n",
      "_________________________________________________________________\n"
     ]
    }
   ],
   "source": [
    "불러온모델.summary()"
   ]
  },
  {
   "cell_type": "code",
   "execution_count": 11,
   "id": "325dee12-0d53-4a02-880f-c6f8af7fa6de",
   "metadata": {},
   "outputs": [
    {
     "name": "stdout",
     "output_type": "stream",
     "text": [
      "Epoch 1/3\n",
      "1875/1875 [==============================] - 5s 2ms/step - loss: 0.4992 - acc: 0.8248 - val_loss: 0.4385 - val_acc: 0.8440\n",
      "Epoch 2/3\n",
      "1875/1875 [==============================] - 4s 2ms/step - loss: 0.3779 - acc: 0.8635 - val_loss: 0.3866 - val_acc: 0.8597\n",
      "Epoch 3/3\n",
      "1875/1875 [==============================] - 4s 2ms/step - loss: 0.3389 - acc: 0.8764 - val_loss: 0.3826 - val_acc: 0.8596\n"
     ]
    },
    {
     "data": {
      "text/plain": [
       "<keras.src.callbacks.History at 0x13a21f6d0>"
      ]
     },
     "execution_count": 11,
     "metadata": {},
     "output_type": "execute_result"
    }
   ],
   "source": [
    "# w값만 저장 (checkpoint)\n",
    "# 그러기 위해선 콜백함수를 만들어주어야 한다 \n",
    "# (filepath : 저장할 경로 / save_weights_only=True / save_freq = 'epoch')\n",
    "# 콜백함수는 덮어쓰기를 하기 때문에 각 파일명을 다르게 해줘야함\n",
    "\n",
    "import tensorflow as tf \n",
    "import numpy as np\n",
    "\n",
    "(trainX, trainY), (testX, testY) = tf.keras.datasets.fashion_mnist.load_data()\n",
    "\n",
    "trainX = trainX / 255.0\n",
    "testX = testX / 255.0\n",
    "\n",
    "trainX = trainX.reshape( (trainX.shape[0], 28,28,1) )\n",
    "testX = testX.reshape( (testX.shape[0], 28,28,1) )\n",
    "\n",
    "model = tf.keras.Sequential([\n",
    "    tf.keras.layers.Flatten(),\n",
    "    tf.keras.layers.Dense(128, activation='relu'),\n",
    "    tf.keras.layers.Dense(10, activation='softmax'),\n",
    "])\n",
    "\n",
    "콜백함수 = tf.keras.callbacks.ModelCheckpoint(\n",
    "    filepath = '../topic3/model2/mnist',\n",
    "    save_weights_only = True,\n",
    "    save_freq = 'epoch'\n",
    ")\n",
    "\n",
    "model.compile(loss='sparse_categorical_crossentropy', optimizer='adam', metrics=['acc'])\n",
    "model.fit(trainX, trainY, validation_data=(testX, testY), epochs=3, callbacks=콜백함수)"
   ]
  }
 ],
 "metadata": {
  "kernelspec": {
   "display_name": "Python 3 (ipykernel)",
   "language": "python",
   "name": "python3"
  },
  "language_info": {
   "codemirror_mode": {
    "name": "ipython",
    "version": 3
   },
   "file_extension": ".py",
   "mimetype": "text/x-python",
   "name": "python",
   "nbconvert_exporter": "python",
   "pygments_lexer": "ipython3",
   "version": "3.11.6"
  }
 },
 "nbformat": 4,
 "nbformat_minor": 5
}
