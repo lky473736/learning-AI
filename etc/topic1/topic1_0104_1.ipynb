{
 "cells": [
  {
   "cell_type": "markdown",
   "id": "5fe92481-3e81-450b-8248-e68b9f35493d",
   "metadata": {},
   "source": [
    "## learning-AI101 : tutorial"
   ]
  },
  {
   "cell_type": "markdown",
   "id": "232ae959-599e-4ca4-9da6-790a76f39a90",
   "metadata": {},
   "source": [
    "TTS : 음성인식 후 소리로 바꿔주는 것 (되게 보컬로이드처럼 기계틱함)  \n",
    "TTS + 딥러닝 -> 진짜 사람처럼 스무스한 목소리 내줌  \n",
    "  \n",
    "Adobe Research에서 AI & ML 연구  \n",
    "    - #ProjectAboutFace : 사진이 보정되었는지를 판단하는 인공지능 (이 이미지가 보정되었을 확률이 몇프로다)\n",
    "    - 보정 전 사진도 인공지능이 예측함\n",
    "\n",
    "딥러닝은 domain knowledge가 필요 없음  \n",
    "딥러닝 : neural network를 이용해 머신러닝을 진행  \n",
    "\n",
    "**가장 대표적인 딥러닝 분야 (이차전지와 인공지능)**  \n",
    "1) image classification : YOLO\n",
    "2) object detection : YOLO, openCV...\n",
    "3) recurrent situation, sequence model (for getting approximation) : RNN, 1D-RNN...\n"
   ]
  },
  {
   "cell_type": "code",
   "execution_count": 1,
   "id": "e128d096-a0a5-4af0-a4b0-7c829232dc18",
   "metadata": {},
   "outputs": [
    {
     "name": "stdout",
     "output_type": "stream",
     "text": [
      "[1, 2, 3, 4, 5]\n",
      "{'1': 0, '2': 1, '3': 2, '4': 3, '5': 4}\n"
     ]
    }
   ],
   "source": [
    "# 파이썬 진단 테스트 1) list, dictionary 사용\n",
    "\n",
    "lst = []\n",
    "dict = {}\n",
    "\n",
    "for i in range (5) : \n",
    "    lst.append (i + 1)\n",
    "\n",
    "for j in range (5) : \n",
    "    dict[f'{j+1}'] = j\n",
    "\n",
    "print (lst)\n",
    "print (dict)"
   ]
  },
  {
   "cell_type": "code",
   "execution_count": 2,
   "id": "1b843c59-baf7-4857-bdd5-51ce1b7192dd",
   "metadata": {},
   "outputs": [
    {
     "name": "stdout",
     "output_type": "stream",
     "text": [
      "1\n",
      "2\n",
      "3\n",
      "4\n",
      "5\n"
     ]
    }
   ],
   "source": [
    "# 파이썬 진단 테스트 2) 반복문으로 리스트 자료 출력하기\n",
    "\n",
    "for i in range (len(lst)) : \n",
    "    print (lst[i])\n"
   ]
  },
  {
   "cell_type": "code",
   "execution_count": 5,
   "id": "6cd6501a-d4db-4b46-af28-4f641c85fb40",
   "metadata": {},
   "outputs": [
    {
     "name": "stdout",
     "output_type": "stream",
     "text": [
      "lst_2d[0][0] == 0\n",
      "lst_2d[0][1] == 1\n",
      "lst_2d[0][2] == 2\n",
      "\n",
      "lst_2d[1][0] == 0\n",
      "lst_2d[1][1] == 1\n",
      "lst_2d[1][2] == 2\n",
      "\n",
      "lst_2d[2][0] == 0\n",
      "lst_2d[2][1] == 1\n",
      "lst_2d[2][2] == 2\n",
      "\n"
     ]
    }
   ],
   "source": [
    "# 파이썬 진단 테스트 3) 2차원 리스트\n",
    "\n",
    "lst_2d = [[i for i in range(3)] for j in range (3)]\n",
    "\n",
    "for i in range (len(lst_2d)) :\n",
    "    for j in range (len(lst_2d[i])) : \n",
    "        print (f'lst_2d[{i}][{j}] == {lst_2d[i][j]}')\n",
    "\n",
    "    print ()"
   ]
  },
  {
   "cell_type": "code",
   "execution_count": 7,
   "id": "72cab990-9863-48da-9ce9-94a13ed27000",
   "metadata": {},
   "outputs": [
    {
     "name": "stdout",
     "output_type": "stream",
     "text": [
      "[-10, 0.131, 1, 20, 100]\n",
      "[100, 20, 1, 0.131, -10]\n"
     ]
    }
   ],
   "source": [
    "# 파이썬 진단 테스트 4) 리스트 정렬\n",
    "\n",
    "lst = [100, -10, 20, 1, 0.131]\n",
    "\n",
    "lst.sort() # 오름차순\n",
    "print (lst)\n",
    "lst.sort(reverse=True) # 내림차순\n",
    "print (lst)\n",
    "\n",
    "# key를 이용해서 특별한 규칙으로 정렬 가능"
   ]
  },
  {
   "cell_type": "code",
   "execution_count": 8,
   "id": "0856d3a5-8800-408f-a6a6-646b9017777b",
   "metadata": {},
   "outputs": [
    {
     "name": "stdout",
     "output_type": "stream",
     "text": [
      "argument\n"
     ]
    }
   ],
   "source": [
    "# 파이썬 진단 테스트 5) 함수 & 파라미터\n",
    "\n",
    "def func(parameter) : \n",
    "    return parameter\n",
    "\n",
    "argument = 'argument'\n",
    "print (func(argument))"
   ]
  }
 ],
 "metadata": {
  "kernelspec": {
   "display_name": "Python 3 (ipykernel)",
   "language": "python",
   "name": "python3"
  },
  "language_info": {
   "codemirror_mode": {
    "name": "ipython",
    "version": 3
   },
   "file_extension": ".py",
   "mimetype": "text/x-python",
   "name": "python",
   "nbconvert_exporter": "python",
   "pygments_lexer": "ipython3",
   "version": "3.11.6"
  }
 },
 "nbformat": 4,
 "nbformat_minor": 5
}
