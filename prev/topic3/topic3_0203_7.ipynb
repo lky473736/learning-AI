{
 "cells": [
  {
   "cell_type": "markdown",
   "id": "2d6cffd8-c168-41e8-946f-b2f128900c13",
   "metadata": {},
   "source": [
    "## learning-AI101 : topic3_7"
   ]
  },
  {
   "cell_type": "markdown",
   "id": "ba256fd2-8f70-44f3-8536-502b88d53ba8",
   "metadata": {},
   "source": [
    "**tensorboard**를 이용해서 테스트를 자동화할 수 있다. (현업에서 많이 사용)  \n",
    "실험과정을 자동화한다.  \n",
    "accuracy나 그런 것들을 visualization해주기 때문에 손쉽게 학습 결과를 확인할 수 있다."
   ]
  },
  {
   "cell_type": "code",
   "execution_count": 7,
   "id": "cc3ef214-fef0-498f-b6ab-c8dfcd140a66",
   "metadata": {},
   "outputs": [
    {
     "name": "stdout",
     "output_type": "stream",
     "text": [
      "Epoch 1/3\n",
      "1875/1875 [==============================] - 6s 3ms/step - loss: 0.5011 - acc: 0.8267 - val_loss: 0.4166 - val_acc: 0.8528\n",
      "Epoch 2/3\n",
      "1875/1875 [==============================] - 5s 3ms/step - loss: 0.3810 - acc: 0.8634 - val_loss: 0.4054 - val_acc: 0.8601\n",
      "Epoch 3/3\n",
      "1875/1875 [==============================] - 5s 2ms/step - loss: 0.3377 - acc: 0.8770 - val_loss: 0.3729 - val_acc: 0.8667\n"
     ]
    },
    {
     "data": {
      "text/plain": [
       "<keras.src.callbacks.History at 0x13fe8c290>"
      ]
     },
     "execution_count": 7,
     "metadata": {},
     "output_type": "execute_result"
    }
   ],
   "source": [
    "# 옛날에 했던 옷 분류기 \n",
    "\n",
    "import tensorflow as tf \n",
    "import numpy as np\n",
    "\n",
    "(trainX, trainY), (testX, testY) = tf.keras.datasets.fashion_mnist.load_data()\n",
    "\n",
    "trainX = trainX / 255.0\n",
    "testX = testX / 255.0\n",
    "\n",
    "trainX = trainX.reshape( (trainX.shape[0], 28,28,1) )\n",
    "testX = testX.reshape( (testX.shape[0], 28,28,1) )\n",
    "\n",
    "model = tf.keras.Sequential([\n",
    "    tf.keras.layers.Flatten(),\n",
    "    tf.keras.layers.Dense(128, activation='relu'),\n",
    "    tf.keras.layers.Dense(10, activation='softmax'),\n",
    "])\n",
    "\n",
    "model.compile(loss='sparse_categorical_crossentropy', optimizer='adam', metrics=['acc'])\n",
    "\n",
    "###################\n",
    "\n",
    "# 여기에다가 tensorboard를 넣는다\n",
    "from tensorflow.keras.callbacks import TensorBoard\n",
    "import time\n",
    "# 제목을 다이나믹하게 시간에 맞춰서 작명\n",
    "tensorboard = tf.keras.callbacks.TensorBoard(log_dir='../logs/fasion_mnist_{}'.format('~~' + str(int(time.time()))) ) # 로그파일을 생성한다 (안에 디렉토리)\n",
    "\n",
    "###################\n",
    "\n",
    "# callbacks함수를 넣어서 학습중간에 괄호를 실행하는 방식으로 tensorboard를 작동시켜야 한다\n",
    "model.fit(trainX, trainY, validation_data=(testX, testY), epochs=3, callbacks=[tensorboard])"
   ]
  },
  {
   "cell_type": "code",
   "execution_count": 9,
   "id": "9328b58b-03a4-4f2a-a638-48772a7b0a07",
   "metadata": {},
   "outputs": [],
   "source": [
    "%load_ext tensorboard"
   ]
  },
  {
   "cell_type": "code",
   "execution_count": 10,
   "id": "709cb776-68bc-4693-90a9-666a71dee8f2",
   "metadata": {},
   "outputs": [
    {
     "data": {
      "text/html": [
       "\n",
       "      <iframe id=\"tensorboard-frame-554d9e896b08b0ab\" width=\"100%\" height=\"800\" frameborder=\"0\">\n",
       "      </iframe>\n",
       "      <script>\n",
       "        (function() {\n",
       "          const frame = document.getElementById(\"tensorboard-frame-554d9e896b08b0ab\");\n",
       "          const url = new URL(\"/\", window.location);\n",
       "          const port = 6006;\n",
       "          if (port) {\n",
       "            url.port = port;\n",
       "          }\n",
       "          frame.src = url;\n",
       "        })();\n",
       "      </script>\n",
       "    "
      ],
      "text/plain": [
       "<IPython.core.display.HTML object>"
      ]
     },
     "metadata": {},
     "output_type": "display_data"
    }
   ],
   "source": [
    "%tensorboard --logdir ../logs"
   ]
  },
  {
   "cell_type": "code",
   "execution_count": null,
   "id": "4cdf05ec-cdc7-4746-be1a-5131a27b9a26",
   "metadata": {},
   "outputs": [],
   "source": []
  }
 ],
 "metadata": {
  "kernelspec": {
   "display_name": "Python 3 (ipykernel)",
   "language": "python",
   "name": "python3"
  },
  "language_info": {
   "codemirror_mode": {
    "name": "ipython",
    "version": 3
   },
   "file_extension": ".py",
   "mimetype": "text/x-python",
   "name": "python",
   "nbconvert_exporter": "python",
   "pygments_lexer": "ipython3",
   "version": "3.11.6"
  }
 },
 "nbformat": 4,
 "nbformat_minor": 5
}
