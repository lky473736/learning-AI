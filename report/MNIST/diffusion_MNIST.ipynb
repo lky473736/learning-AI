{
 "cells": [
  {
   "cell_type": "code",
   "execution_count": 12,
   "id": "f39337d8",
   "metadata": {
    "ExecuteTime": {
     "end_time": "2025-02-04T11:41:16.028074Z",
     "start_time": "2025-02-04T11:30:51.735609Z"
    },
    "scrolled": false
   },
   "outputs": [
    {
     "name": "stdout",
     "output_type": "stream",
     "text": [
      "Epoch 1/5\n",
      "WARNING:tensorflow:AutoGraph could not transform <function Model.make_train_function.<locals>.train_function at 0x13e452e80> and will run it as-is.\n",
      "Please report this to the TensorFlow team. When filing the bug, set the verbosity to 10 (on Linux, `export AUTOGRAPH_VERBOSITY=10`) and attach the full output.\n",
      "Cause: closure mismatch, requested ('self', 'step_function'), but source function had ()\n",
      "To silence this warning, decorate the function with @tf.autograph.experimental.do_not_convert\n",
      "WARNING: AutoGraph could not transform <function Model.make_train_function.<locals>.train_function at 0x13e452e80> and will run it as-is.\n",
      "Please report this to the TensorFlow team. When filing the bug, set the verbosity to 10 (on Linux, `export AUTOGRAPH_VERBOSITY=10`) and attach the full output.\n",
      "Cause: closure mismatch, requested ('self', 'step_function'), but source function had ()\n",
      "To silence this warning, decorate the function with @tf.autograph.experimental.do_not_convert\n",
      "469/469 [==============================] - 119s 253ms/step - loss: 0.1127\n",
      "Epoch 2/5\n",
      "469/469 [==============================] - 147s 312ms/step - loss: 0.1120\n",
      "Epoch 3/5\n",
      "469/469 [==============================] - 119s 254ms/step - loss: 0.1120\n",
      "Epoch 4/5\n",
      "469/469 [==============================] - 125s 266ms/step - loss: 0.1120\n",
      "Epoch 5/5\n",
      "469/469 [==============================] - 112s 239ms/step - loss: 0.1120\n",
      "WARNING:tensorflow:AutoGraph could not transform <function Model.make_predict_function.<locals>.predict_function at 0x139741d00> and will run it as-is.\n",
      "Please report this to the TensorFlow team. When filing the bug, set the verbosity to 10 (on Linux, `export AUTOGRAPH_VERBOSITY=10`) and attach the full output.\n",
      "Cause: closure mismatch, requested ('self', 'step_function'), but source function had ()\n",
      "To silence this warning, decorate the function with @tf.autograph.experimental.do_not_convert\n",
      "WARNING: AutoGraph could not transform <function Model.make_predict_function.<locals>.predict_function at 0x139741d00> and will run it as-is.\n",
      "Please report this to the TensorFlow team. When filing the bug, set the verbosity to 10 (on Linux, `export AUTOGRAPH_VERBOSITY=10`) and attach the full output.\n",
      "Cause: closure mismatch, requested ('self', 'step_function'), but source function had ()\n",
      "To silence this warning, decorate the function with @tf.autograph.experimental.do_not_convert\n",
      "1/1 [==============================] - 0s 123ms/step\n"
     ]
    },
    {
     "data": {
      "image/png": "[encoded data removed]",
      "text/plain": [
       "<Figure size 1000x300 with 3 Axes>"
      ]
     },
     "metadata": {},
     "output_type": "display_data"
    }
   ],
   "source": [
    "import tensorflow as tf\n",
    "import numpy as np\n",
    "import matplotlib.pyplot as plt\n",
    "from tensorflow.keras import layers, models, optimizers, losses\n",
    "from tensorflow.keras.datasets import mnist\n",
    "\n",
    "# 1. MNIST 데이터셋 로드 및 전처리\n",
    "(x_train, _), (x_test, _) = mnist.load_data()\n",
    "x_train = x_train.astype(np.float32) / 255.0  # [0,1]로 정규화\n",
    "x_train = np.expand_dims(x_train, axis=-1)    # 채널 차원 추가 (28,28,1)\n",
    "\n",
    "# 2. Forward Diffusion 과정 (노이즈 추가 함수)\n",
    "def add_noise(images, noise_level):\n",
    "    \"\"\"\n",
    "    images: 원본 이미지 데이터\n",
    "    noise_level: 노이즈 강도 (0~1 사이 값)\n",
    "    \"\"\"\n",
    "    noise = np.random.normal(0, 0.5, images.shape)  # 가우시안 노이즈 생성 (표준편차 0.5로 조정)\n",
    "    return np.clip(images * (1 - noise_level) + noise * noise_level, 0, 1)  # 0~1 범위 유지\n",
    "\n",
    "# 3. UNet과 유사한 CNN 기반 모델 정의\n",
    "def build_denoising_model():\n",
    "    inputs = layers.Input(shape=(28, 28, 1))\n",
    "    \n",
    "    # 인코더 (특징 추출)\n",
    "    x = layers.Conv2D(64, (3, 3), activation='relu', padding='same')(inputs)\n",
    "    x = layers.MaxPooling2D((2, 2), padding='same')(x)\n",
    "    x = layers.Conv2D(128, (3, 3), activation='relu', padding='same')(x)\n",
    "    x = layers.MaxPooling2D((2, 2), padding='same')(x)\n",
    "    \n",
    "    # 디코더 (노이즈 제거 및 원본 복원)\n",
    "    x = layers.Conv2DTranspose(128, (3, 3), activation='relu', padding='same')(x)\n",
    "    x = layers.UpSampling2D((2, 2))(x)\n",
    "    x = layers.Conv2DTranspose(64, (3, 3), activation='relu', padding='same')(x)\n",
    "    x = layers.UpSampling2D((2, 2))(x)\n",
    "    outputs = layers.Conv2D(1, (3, 3), activation='sigmoid', padding='same')(x)\n",
    "    \n",
    "    model = models.Model(inputs, outputs)\n",
    "    return model\n",
    "\n",
    "# 4. 모델 생성 및 컴파일\n",
    "model = build_denoising_model()\n",
    "model.compile(optimizer=optimizers.Adam(1e-3), loss=losses.MeanSquaredError())\n",
    "\n",
    "# 5. 데이터 생성 (노이즈 추가)\n",
    "noise_level = 0.5  # 노이즈 강도 (0~1 사이 조절 가능)\n",
    "x_train_noisy = add_noise(x_train, noise_level)\n",
    "\n",
    "# 6. 모델 학습\n",
    "model.fit(x_train_noisy, x_train, epochs=5, batch_size=128, shuffle=True)\n",
    "\n",
    "# 7. 결과 확인 (원본, 노이즈 추가, 복원 이미지 비교)\n",
    "def display_results():\n",
    "    idx = np.random.randint(0, x_train.shape[0])\n",
    "    original = x_train[idx]\n",
    "    noisy = x_train_noisy[idx]\n",
    "    denoised = model.predict(np.expand_dims(noisy, axis=0))[0]\n",
    "    \n",
    "    fig, axes = plt.subplots(1, 3, figsize=(10, 3))\n",
    "    axes[0].imshow(original.squeeze(), cmap='gray')\n",
    "    axes[0].set_title(\"Original\")\n",
    "    axes[1].imshow(noisy.squeeze(), cmap='gray')\n",
    "    axes[1].set_title(\"Noisy\")\n",
    "    axes[2].imshow(np.clip(denoised.squeeze(), 0, 1), cmap='gray')  # 출력값을 0~1 사이로 클리핑\n",
    "    axes[2].set_title(\"Denoised\")\n",
    "    for ax in axes:\n",
    "        ax.axis(\"off\")\n",
    "    plt.show()\n",
    "\n",
    "# 8. 결과 시각화\n",
    "display_results()"
   ]
  },
  {
   "cell_type": "code",
   "execution_count": null,
   "id": "2abdb760",
   "metadata": {},
   "outputs": [],
   "source": []
  }
 ],
 "metadata": {
  "kernelspec": {
   "display_name": "Python 3 (ipykernel)",
   "language": "python",
   "name": "python3"
  },
  "language_info": {
   "codemirror_mode": {
    "name": "ipython",
    "version": 3
   },
   "file_extension": ".py",
   "mimetype": "text/x-python",
   "name": "python",
   "nbconvert_exporter": "python",
   "pygments_lexer": "ipython3",
   "version": "3.11.3"
  },
  "varInspector": {
   "cols": {
    "lenName": 16,
    "lenType": 16,
    "lenVar": 40
   },
   "kernels_config": {
    "python": {
     "delete_cmd_postfix": "",
     "delete_cmd_prefix": "del ",
     "library": "var_list.py",
     "varRefreshCmd": "print(var_dic_list())"
    },
    "r": {
     "delete_cmd_postfix": ") ",
     "delete_cmd_prefix": "rm(",
     "library": "var_list.r",
     "varRefreshCmd": "cat(var_dic_list()) "
    }
   },
   "types_to_exclude": [
    "module",
    "function",
    "builtin_function_or_method",
    "instance",
    "_Feature"
   ],
   "window_display": false
  }
 },
 "nbformat": 4,
 "nbformat_minor": 5
}
