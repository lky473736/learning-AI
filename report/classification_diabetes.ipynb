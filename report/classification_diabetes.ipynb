{
 "cells": [
  {
   "cell_type": "markdown",
   "id": "107b53a8",
   "metadata": {},
   "source": [
    "## learning-AI101 : diabetes classification\n",
    "### 당뇨 데이터를 KNN, logistic regression, K-means, decision tree, random forest, SVM 기법을 적용하여 classification\n",
    "\n",
    "<br>\n",
    "\n",
    "- **임규연 (lky473736)**\n",
    "- 2024.07.23. ~ 2024.07.24.에 문서 작성\n",
    "- **dataset** : https://github.com/plotly/datasets/blob/master/diabetes.csv\n",
    "- **kaggle** : https://www.kaggle.com/datasets/mathchi/diabetes-data-set/data\n",
    "- **data abstract** : This dataset is originally from the National Institute of Diabetes and Digestive and Kidney Diseases. The objective is to predict based on diagnostic measurements whether a patient has diabetes.\n",
    "- **memo** : 본 데이터는 사실, 예전에 data visualization 및 data science를 처음 연습한 set이다. 본 데이터를 활용하여 Outcome 열에 대한 classification을 진행한 후, Outcome 열을 제거하여 BMI를 label로 regression을 진행하도록 한다.\n",
    "\n",
    "------"
   ]
  },
  {
   "cell_type": "code",
   "execution_count": 1,
   "id": "ce22d313",
   "metadata": {
    "ExecuteTime": {
     "end_time": "2024-07-22T15:24:23.903744Z",
     "start_time": "2024-07-22T15:24:22.433347Z"
    }
   },
   "outputs": [],
   "source": [
    "import numpy as np\n",
    "import pandas as pd\n",
    "import matplotlib.pyplot as plt\n",
    "import seaborn as sns "
   ]
  },
  {
   "cell_type": "markdown",
   "id": "74f8e82b",
   "metadata": {},
   "source": [
    "-------\n",
    "\n",
    "### 1. 데이터 EDA (탐색적 데이터 분석)\n",
    "\n",
    "classification을 진행하기 전, 데이터 구조를 파악한다.\n",
    "\n",
    "- **데이터 구조 파악 및 EDA**\n",
    "    - 각 feature가 의미하는 바를 분석, 결측치 파악 후 어떻게 classification을 진행하는 것이 탁월할 지 파악\n",
    "    - 각 feature에 대한 사분위수, mean, max, min, median, corr\n",
    "    - seaborn을 통한 corr 상관관계 및 histplot 시각화\n",
    "    - 각 feature에 대한 box plot 시각화\n",
    "    - target의 도수를 bar plot 시각화"
   ]
  }
 ],
 "metadata": {
  "kernelspec": {
   "display_name": "Python 3 (ipykernel)",
   "language": "python",
   "name": "python3"
  },
  "language_info": {
   "codemirror_mode": {
    "name": "ipython",
    "version": 3
   },
   "file_extension": ".py",
   "mimetype": "text/x-python",
   "name": "python",
   "nbconvert_exporter": "python",
   "pygments_lexer": "ipython3",
   "version": "3.11.6"
  }
 },
 "nbformat": 4,
 "nbformat_minor": 5
}
