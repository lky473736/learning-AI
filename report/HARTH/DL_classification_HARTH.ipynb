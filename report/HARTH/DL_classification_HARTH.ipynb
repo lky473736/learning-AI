{
 "cells": [
  {
   "cell_type": "markdown",
   "id": "107b53a8",
   "metadata": {},
   "source": [
    "## learning-AI101 : HARTH classification (DL)\n",
    "### The Human Activity Recognition Trondheim (HARTH)를 Dense layer struction을 통한 DNN, CNN 1D, U-net을 통한 encoder-decoder 방식의 classification\n",
    "\n",
    "<br>\n",
    "\n",
    "- **임규연 (lky473736)**\n",
    "- 2024.08.04., 2024.08.23. ~ 2024.08.25.에 문서 작성\n",
    "- **dataset** : https://archive.ics.uci.edu/dataset/779/harth\n",
    "- **data abstract** : The Human Activity Recognition Trondheim (HARTH) dataset is a professionally-annotated dataset containing 22 subjects wearing two 3-axial accelerometers for around 2 hours in a free-living setting. The sensors were attached to the right thigh and lower back. The professional recordings and annotations provide a promising benchmark dataset for researchers to develop innovative machine learning approaches for precise HAR in free living.\n",
    "\n",
    "------"
   ]
  },
  {
   "cell_type": "markdown",
   "id": "a9453505",
   "metadata": {},
   "source": [
    "\n",
    "\n",
    "## <span id='dl'><mark>DL</mark></span>\n",
    "    \n",
    "deep learning으로 HARTH을 classification한다. 목차는 아래와 같다.\n",
    "\n",
    "- **1. 데이터 load and preprocessing**\n",
    "- **2. ANN (fully connected)**\n",
    "- **3. DNN**\n",
    "- **4. CNN 1D**\n",
    "- **5. U-net**\n"
   ]
  },
  {
   "cell_type": "code",
   "execution_count": 1,
   "id": "9eeda557",
   "metadata": {
    "ExecuteTime": {
     "end_time": "2024-08-28T15:38:31.794134Z",
     "start_time": "2024-08-28T15:38:26.645973Z"
    }
   },
   "outputs": [
    {
     "name": "stderr",
     "output_type": "stream",
     "text": [
      "2024-08-29 00:38:30.078789: I tensorflow/core/platform/cpu_feature_guard.cc:182] This TensorFlow binary is optimized to use available CPU instructions in performance-critical operations.\n",
      "To enable the following instructions: AVX2 FMA, in other operations, rebuild TensorFlow with the appropriate compiler flags.\n"
     ]
    }
   ],
   "source": [
    "# 라이브러리 import\n",
    "\n",
    "import numpy as np\n",
    "import pandas as pd\n",
    "import seaborn as sns\n",
    "import tensorflow as tf\n",
    "import matplotlib.pyplot as plt\n",
    "import seaborn as sns\n",
    "from tensorflow import keras\n",
    "from sklearn.model_selection import train_test_split\n",
    "from sklearn.preprocessing import StandardScaler, LabelEncoder"
   ]
  },
  {
   "cell_type": "markdown",
   "id": "f02227e6",
   "metadata": {},
   "source": [
    "------\n",
    "\n",
    "### 1. 데이터 load 및 preprocessing\n",
    "- 데이터 로드 및 필요한 정보, 기초통계량을 get한다.\n",
    "- 결측치 제거, outlier 제거 등의 데이터 전처리를 수행한다.\n",
    "- **자세한 EDA는 ./ML_classification_HARTH를 참고할 것**"
   ]
  },
  {
   "cell_type": "code",
   "execution_count": 2,
   "id": "7cab2281",
   "metadata": {
    "ExecuteTime": {
     "end_time": "2024-08-28T15:38:32.381069Z",
     "start_time": "2024-08-28T15:38:31.797039Z"
    }
   },
   "outputs": [
    {
     "data": {
      "text/plain": [
       "Index(['timestamp', 'back_x', 'back_y', 'back_z', 'thigh_x', 'thigh_y',\n",
       "       'thigh_z', 'label'],\n",
       "      dtype='object')"
      ]
     },
     "execution_count": 2,
     "metadata": {},
     "output_type": "execute_result"
    }
   ],
   "source": [
    "# 파일 중 S006.csv를 열어서 header를 확인한다.\n",
    "\n",
    "df_sample = pd.read_csv('../../data/harth/S006.csv')\n",
    "df_sample.columns"
   ]
  },
  {
   "cell_type": "code",
   "execution_count": 3,
   "id": "4fc713f3",
   "metadata": {
    "ExecuteTime": {
     "end_time": "2024-08-28T15:38:41.353985Z",
     "start_time": "2024-08-28T15:38:32.383038Z"
    },
    "scrolled": false
   },
   "outputs": [
    {
     "name": "stdout",
     "output_type": "stream",
     "text": [
      "['../../data/harth/S016.csv', '../../data/harth/S017.csv', '../../data/harth/S029.csv', '../../data/harth/S015.csv', '../../data/harth/S014.csv', '../../data/harth/S028.csv', '../../data/harth/S010.csv', '../../data/harth/S013.csv', '../../data/harth/S012.csv', '../../data/harth/S006.csv', '../../data/harth/S023.csv', '../../data/harth/S022.csv', '../../data/harth/S008.csv', '../../data/harth/S020.csv', '../../data/harth/S021.csv', '../../data/harth/S009.csv', '../../data/harth/S025.csv', '../../data/harth/S019.csv', '../../data/harth/S018.csv', '../../data/harth/S024.csv', '../../data/harth/S026.csv', '../../data/harth/S027.csv']\n"
     ]
    },
    {
     "data": {
      "text/html": [
       "<div>\n",
       "<style scoped>\n",
       "    .dataframe tbody tr th:only-of-type {\n",
       "        vertical-align: middle;\n",
       "    }\n",
       "\n",
       "    .dataframe tbody tr th {\n",
       "        vertical-align: top;\n",
       "    }\n",
       "\n",
       "    .dataframe thead th {\n",
       "        text-align: right;\n",
       "    }\n",
       "</style>\n",
       "<table border=\"1\" class=\"dataframe\">\n",
       "  <thead>\n",
       "    <tr style=\"text-align: right;\">\n",
       "      <th></th>\n",
       "      <th>timestamp</th>\n",
       "      <th>back_x</th>\n",
       "      <th>back_y</th>\n",
       "      <th>back_z</th>\n",
       "      <th>thigh_x</th>\n",
       "      <th>thigh_y</th>\n",
       "      <th>thigh_z</th>\n",
       "      <th>label</th>\n",
       "      <th>index</th>\n",
       "      <th>Unnamed: 0</th>\n",
       "    </tr>\n",
       "  </thead>\n",
       "  <tbody>\n",
       "    <tr>\n",
       "      <th>0</th>\n",
       "      <td>2019-01-12 00:00:00.000</td>\n",
       "      <td>-0.982201</td>\n",
       "      <td>-0.031251</td>\n",
       "      <td>0.178300</td>\n",
       "      <td>-0.935149</td>\n",
       "      <td>0.006160</td>\n",
       "      <td>-0.358898</td>\n",
       "      <td>6</td>\n",
       "      <td>NaN</td>\n",
       "      <td>NaN</td>\n",
       "    </tr>\n",
       "    <tr>\n",
       "      <th>1</th>\n",
       "      <td>2019-01-12 00:00:00.020</td>\n",
       "      <td>-0.973421</td>\n",
       "      <td>-0.042747</td>\n",
       "      <td>0.190618</td>\n",
       "      <td>-0.934986</td>\n",
       "      <td>0.040489</td>\n",
       "      <td>-0.366376</td>\n",
       "      <td>6</td>\n",
       "      <td>NaN</td>\n",
       "      <td>NaN</td>\n",
       "    </tr>\n",
       "    <tr>\n",
       "      <th>2</th>\n",
       "      <td>2019-01-12 00:00:00.040</td>\n",
       "      <td>-0.977409</td>\n",
       "      <td>-0.033531</td>\n",
       "      <td>0.185584</td>\n",
       "      <td>-0.939761</td>\n",
       "      <td>0.028617</td>\n",
       "      <td>-0.370106</td>\n",
       "      <td>6</td>\n",
       "      <td>NaN</td>\n",
       "      <td>NaN</td>\n",
       "    </tr>\n",
       "    <tr>\n",
       "      <th>3</th>\n",
       "      <td>2019-01-12 00:00:00.060</td>\n",
       "      <td>-0.974620</td>\n",
       "      <td>-0.034506</td>\n",
       "      <td>0.188868</td>\n",
       "      <td>-0.939667</td>\n",
       "      <td>0.036060</td>\n",
       "      <td>-0.369624</td>\n",
       "      <td>6</td>\n",
       "      <td>NaN</td>\n",
       "      <td>NaN</td>\n",
       "    </tr>\n",
       "    <tr>\n",
       "      <th>4</th>\n",
       "      <td>2019-01-12 00:00:00.080</td>\n",
       "      <td>-0.976828</td>\n",
       "      <td>-0.041577</td>\n",
       "      <td>0.186524</td>\n",
       "      <td>-0.946145</td>\n",
       "      <td>0.030512</td>\n",
       "      <td>-0.363411</td>\n",
       "      <td>6</td>\n",
       "      <td>NaN</td>\n",
       "      <td>NaN</td>\n",
       "    </tr>\n",
       "  </tbody>\n",
       "</table>\n",
       "</div>"
      ],
      "text/plain": [
       "                 timestamp    back_x    back_y    back_z   thigh_x   thigh_y  \\\n",
       "0  2019-01-12 00:00:00.000 -0.982201 -0.031251  0.178300 -0.935149  0.006160   \n",
       "1  2019-01-12 00:00:00.020 -0.973421 -0.042747  0.190618 -0.934986  0.040489   \n",
       "2  2019-01-12 00:00:00.040 -0.977409 -0.033531  0.185584 -0.939761  0.028617   \n",
       "3  2019-01-12 00:00:00.060 -0.974620 -0.034506  0.188868 -0.939667  0.036060   \n",
       "4  2019-01-12 00:00:00.080 -0.976828 -0.041577  0.186524 -0.946145  0.030512   \n",
       "\n",
       "    thigh_z  label  index  Unnamed: 0  \n",
       "0 -0.358898      6    NaN         NaN  \n",
       "1 -0.366376      6    NaN         NaN  \n",
       "2 -0.370106      6    NaN         NaN  \n",
       "3 -0.369624      6    NaN         NaN  \n",
       "4 -0.363411      6    NaN         NaN  "
      ]
     },
     "execution_count": 3,
     "metadata": {},
     "output_type": "execute_result"
    }
   ],
   "source": [
    "# records 병합\n",
    "\n",
    "import glob\n",
    "\n",
    "directory_path = '../../data/harth'\n",
    "\n",
    "# 모든 CSV 파일의 경로를 가져오기\n",
    "all_files = glob.glob(directory_path + \"/*.csv\")\n",
    "\n",
    "print (all_files)\n",
    "\n",
    "# 데이터프레임을 담을 빈 리스트 생성\n",
    "df_list = []\n",
    "\n",
    "# 모든 파일을 순회하며 데이터프레임에 추가\n",
    "for filename in all_files :\n",
    "    df = pd.read_csv(filename)  \n",
    "    df_list.append(df) \n",
    "\n",
    "merged_df = pd.concat(df_list, ignore_index=True) # 병합 (header는 ignore)\n",
    "df = merged_df\n",
    "\n",
    "df.head()"
   ]
  },
  {
   "cell_type": "code",
   "execution_count": 4,
   "id": "f4dce327",
   "metadata": {
    "ExecuteTime": {
     "end_time": "2024-08-28T15:38:41.552649Z",
     "start_time": "2024-08-28T15:38:41.356641Z"
    }
   },
   "outputs": [
    {
     "name": "stdout",
     "output_type": "stream",
     "text": [
      "현재 attribute :  Index(['back_x', 'back_y', 'back_z', 'thigh_x', 'thigh_y', 'thigh_z', 'label'], dtype='object')\n"
     ]
    }
   ],
   "source": [
    "# timestamp, index 삭제, unnamed 삭제\n",
    "\n",
    "try : \n",
    "    del df['timestamp']\n",
    "    del df['index']\n",
    "except : \n",
    "    pass\n",
    "\n",
    "df.drop(['Unnamed: 0'], axis = 1, inplace = True)\n",
    "print (\"현재 attribute : \", df.columns)"
   ]
  },
  {
   "cell_type": "code",
   "execution_count": 5,
   "id": "e7785677",
   "metadata": {
    "ExecuteTime": {
     "end_time": "2024-08-28T15:38:41.560864Z",
     "start_time": "2024-08-28T15:38:41.554496Z"
    },
    "scrolled": true
   },
   "outputs": [
    {
     "name": "stdout",
     "output_type": "stream",
     "text": [
      "df 크기 :  (6461328, 7)\n",
      "<class 'pandas.core.frame.DataFrame'>\n",
      "RangeIndex: 6461328 entries, 0 to 6461327\n",
      "Data columns (total 7 columns):\n",
      " #   Column   Dtype  \n",
      "---  ------   -----  \n",
      " 0   back_x   float64\n",
      " 1   back_y   float64\n",
      " 2   back_z   float64\n",
      " 3   thigh_x  float64\n",
      " 4   thigh_y  float64\n",
      " 5   thigh_z  float64\n",
      " 6   label    int64  \n",
      "dtypes: float64(6), int64(1)\n",
      "memory usage: 345.1 MB\n"
     ]
    }
   ],
   "source": [
    "# df의 크기 및 info\n",
    "print(\"df 크기 : \", df.shape)\n",
    "df.info()"
   ]
  },
  {
   "cell_type": "code",
   "execution_count": 6,
   "id": "554ec83c",
   "metadata": {
    "ExecuteTime": {
     "end_time": "2024-08-28T15:38:42.951523Z",
     "start_time": "2024-08-28T15:38:41.562637Z"
    }
   },
   "outputs": [
    {
     "data": {
      "text/html": [
       "<div>\n",
       "<style scoped>\n",
       "    .dataframe tbody tr th:only-of-type {\n",
       "        vertical-align: middle;\n",
       "    }\n",
       "\n",
       "    .dataframe tbody tr th {\n",
       "        vertical-align: top;\n",
       "    }\n",
       "\n",
       "    .dataframe thead th {\n",
       "        text-align: right;\n",
       "    }\n",
       "</style>\n",
       "<table border=\"1\" class=\"dataframe\">\n",
       "  <thead>\n",
       "    <tr style=\"text-align: right;\">\n",
       "      <th></th>\n",
       "      <th>back_x</th>\n",
       "      <th>back_y</th>\n",
       "      <th>back_z</th>\n",
       "      <th>thigh_x</th>\n",
       "      <th>thigh_y</th>\n",
       "      <th>thigh_z</th>\n",
       "      <th>label</th>\n",
       "    </tr>\n",
       "  </thead>\n",
       "  <tbody>\n",
       "    <tr>\n",
       "      <th>count</th>\n",
       "      <td>6.461328e+06</td>\n",
       "      <td>6.461328e+06</td>\n",
       "      <td>6.461328e+06</td>\n",
       "      <td>6.461328e+06</td>\n",
       "      <td>6.461328e+06</td>\n",
       "      <td>6.461328e+06</td>\n",
       "      <td>6.461328e+06</td>\n",
       "    </tr>\n",
       "    <tr>\n",
       "      <th>mean</th>\n",
       "      <td>-8.849574e-01</td>\n",
       "      <td>-1.326128e-02</td>\n",
       "      <td>-1.693779e-01</td>\n",
       "      <td>-5.948883e-01</td>\n",
       "      <td>2.087665e-02</td>\n",
       "      <td>3.749160e-01</td>\n",
       "      <td>6.783833e+00</td>\n",
       "    </tr>\n",
       "    <tr>\n",
       "      <th>std</th>\n",
       "      <td>3.775916e-01</td>\n",
       "      <td>2.311709e-01</td>\n",
       "      <td>3.647385e-01</td>\n",
       "      <td>6.263466e-01</td>\n",
       "      <td>3.884511e-01</td>\n",
       "      <td>7.360983e-01</td>\n",
       "      <td>1.143238e+01</td>\n",
       "    </tr>\n",
       "    <tr>\n",
       "      <th>min</th>\n",
       "      <td>-8.000000e+00</td>\n",
       "      <td>-4.307617e+00</td>\n",
       "      <td>-6.574463e+00</td>\n",
       "      <td>-8.000000e+00</td>\n",
       "      <td>-7.997314e+00</td>\n",
       "      <td>-8.000000e+00</td>\n",
       "      <td>1.000000e+00</td>\n",
       "    </tr>\n",
       "    <tr>\n",
       "      <th>25%</th>\n",
       "      <td>-1.002393e+00</td>\n",
       "      <td>-8.312914e-02</td>\n",
       "      <td>-3.720700e-01</td>\n",
       "      <td>-9.742110e-01</td>\n",
       "      <td>-1.000873e-01</td>\n",
       "      <td>-1.557138e-01</td>\n",
       "      <td>3.000000e+00</td>\n",
       "    </tr>\n",
       "    <tr>\n",
       "      <th>50%</th>\n",
       "      <td>-9.748998e-01</td>\n",
       "      <td>2.593677e-03</td>\n",
       "      <td>-1.374510e-01</td>\n",
       "      <td>-4.217309e-01</td>\n",
       "      <td>3.262909e-02</td>\n",
       "      <td>7.004390e-01</td>\n",
       "      <td>7.000000e+00</td>\n",
       "    </tr>\n",
       "    <tr>\n",
       "      <th>75%</th>\n",
       "      <td>-8.123032e-01</td>\n",
       "      <td>7.251000e-02</td>\n",
       "      <td>4.647321e-02</td>\n",
       "      <td>-1.678755e-01</td>\n",
       "      <td>1.549512e-01</td>\n",
       "      <td>9.486747e-01</td>\n",
       "      <td>7.000000e+00</td>\n",
       "    </tr>\n",
       "    <tr>\n",
       "      <th>max</th>\n",
       "      <td>2.291708e+00</td>\n",
       "      <td>6.491943e+00</td>\n",
       "      <td>4.909483e+00</td>\n",
       "      <td>7.999756e+00</td>\n",
       "      <td>7.999756e+00</td>\n",
       "      <td>8.406235e+00</td>\n",
       "      <td>1.400000e+02</td>\n",
       "    </tr>\n",
       "  </tbody>\n",
       "</table>\n",
       "</div>"
      ],
      "text/plain": [
       "             back_x        back_y        back_z       thigh_x       thigh_y  \\\n",
       "count  6.461328e+06  6.461328e+06  6.461328e+06  6.461328e+06  6.461328e+06   \n",
       "mean  -8.849574e-01 -1.326128e-02 -1.693779e-01 -5.948883e-01  2.087665e-02   \n",
       "std    3.775916e-01  2.311709e-01  3.647385e-01  6.263466e-01  3.884511e-01   \n",
       "min   -8.000000e+00 -4.307617e+00 -6.574463e+00 -8.000000e+00 -7.997314e+00   \n",
       "25%   -1.002393e+00 -8.312914e-02 -3.720700e-01 -9.742110e-01 -1.000873e-01   \n",
       "50%   -9.748998e-01  2.593677e-03 -1.374510e-01 -4.217309e-01  3.262909e-02   \n",
       "75%   -8.123032e-01  7.251000e-02  4.647321e-02 -1.678755e-01  1.549512e-01   \n",
       "max    2.291708e+00  6.491943e+00  4.909483e+00  7.999756e+00  7.999756e+00   \n",
       "\n",
       "            thigh_z         label  \n",
       "count  6.461328e+06  6.461328e+06  \n",
       "mean   3.749160e-01  6.783833e+00  \n",
       "std    7.360983e-01  1.143238e+01  \n",
       "min   -8.000000e+00  1.000000e+00  \n",
       "25%   -1.557138e-01  3.000000e+00  \n",
       "50%    7.004390e-01  7.000000e+00  \n",
       "75%    9.486747e-01  7.000000e+00  \n",
       "max    8.406235e+00  1.400000e+02  "
      ]
     },
     "execution_count": 6,
     "metadata": {},
     "output_type": "execute_result"
    }
   ],
   "source": [
    "# df의 기본적인 정보 및 기초통계량\n",
    "\n",
    "df.describe()"
   ]
  },
  {
   "cell_type": "code",
   "execution_count": 7,
   "id": "a99e5ec7",
   "metadata": {
    "ExecuteTime": {
     "end_time": "2024-08-28T15:38:50.606865Z",
     "start_time": "2024-08-28T15:38:42.953314Z"
    }
   },
   "outputs": [
    {
     "data": {
      "image/png": "[encoded data removed]",
      "text/plain": [
       "<Figure size 640x480 with 1 Axes>"
      ]
     },
     "metadata": {},
     "output_type": "display_data"
    }
   ],
   "source": [
    "# seaborn countplot을 통한 각 레이블 도수 확인\n",
    "\n",
    "sns.countplot (data=df, x='label')\n",
    "plt.xlabel (\"label\")\n",
    "plt.ylabel (\"Number\")\n",
    "plt.title (\"Target\")\n",
    "plt.show()"
   ]
  },
  {
   "cell_type": "code",
   "execution_count": 8,
   "id": "2fadadd0",
   "metadata": {
    "ExecuteTime": {
     "end_time": "2024-08-28T15:38:50.649427Z",
     "start_time": "2024-08-28T15:38:50.608952Z"
    }
   },
   "outputs": [
    {
     "data": {
      "text/plain": [
       "label\n",
       "7      2902703\n",
       "1      1197155\n",
       "6       743480\n",
       "8       428898\n",
       "13      393963\n",
       "2       291356\n",
       "3       254839\n",
       "4        76217\n",
       "5        67253\n",
       "14       55814\n",
       "130      41785\n",
       "140       7865\n",
       "Name: count, dtype: int64"
      ]
     },
     "execution_count": 8,
     "metadata": {},
     "output_type": "execute_result"
    }
   ],
   "source": [
    "# target의 class 도수를 확인 (숫자로)\n",
    "\n",
    "df['label'].value_counts()"
   ]
  },
  {
   "cell_type": "markdown",
   "id": "fd397223",
   "metadata": {},
   "source": [
    "위 target을 countplot으로 표현한 figure을 보았을 때, 알 수 있는 사실은 다음과 같다.\n",
    "- **7**이 압도적인데, 7은 **sitting**, 즉 앉아 있는 것을 의미한다.\n",
    "- 각 target의 번호를 맞추어주어야 할 것 같다. 13을 9로, 14를 10으로, 130을 11로, 140을 12로 수정한다.\n",
    "- 또한, 전체 label의 구성을 바꾸어주어야 한다.\n",
    "    - **sparse_crossentropy는 클래스를 0부터 인식한다.** 따라서, 현재 1~12로 class를 구성하고 output layer의 node 수를 12로 설정하면 **INVALID_ARGUMENT** 에러가 날 것이다.\n",
    "    - 따라서, 각 class를 1-based가 아닌, **0-based**로 수정한다."
   ]
  },
  {
   "cell_type": "code",
   "execution_count": 9,
   "id": "01c8c4af",
   "metadata": {
    "ExecuteTime": {
     "end_time": "2024-08-28T15:38:51.097947Z",
     "start_time": "2024-08-28T15:38:50.651110Z"
    }
   },
   "outputs": [
    {
     "name": "stdout",
     "output_type": "stream",
     "text": [
      "[ 5  2  0  6  1  7  4  3  8 10  9 11]\n"
     ]
    }
   ],
   "source": [
    "# # iterrows를 사용하여 각 행에 접근\n",
    "\n",
    "# for index, row in df.iterrows() :\n",
    "#     compo_label = df.at[index, 'label']\n",
    "    \n",
    "#     if compo_label == 13 :\n",
    "#         df.at[index, 'label'] = 9\n",
    "        \n",
    "#     elif compo_label == 14 : \n",
    "#         df.at[index, 'label'] = 10\n",
    "        \n",
    "#     elif compo_label == 130 : \n",
    "#         df.at[index, 'label'] = 11\n",
    "        \n",
    "#     elif compo_label == 140 : \n",
    "#         df.at[index, 'label'] = 12\n",
    "\n",
    "df['label'] = df['label'].replace({13: 9, 14: 10, 130: 11, 140: 12})\n",
    "\n",
    "for_0_based = dict()\n",
    "for i in range (12) : \n",
    "    for_0_based[i+1] = i\n",
    "    \n",
    "df['label'] = df['label'].replace(for_0_based)\n",
    "\n",
    "# label 열의 고유값을 출력\n",
    "print (df['label'].unique())\n"
   ]
  },
  {
   "cell_type": "code",
   "execution_count": 10,
   "id": "10de25a8",
   "metadata": {
    "ExecuteTime": {
     "end_time": "2024-08-28T15:38:51.165913Z",
     "start_time": "2024-08-28T15:38:51.102445Z"
    }
   },
   "outputs": [],
   "source": [
    "# input과 target으로 split\n",
    "\n",
    "harth_input = df[['back_x', 'back_y', 'back_z', 'thigh_x', 'thigh_y', 'thigh_z']].to_numpy() \n",
    "harth_target = df['label'].to_numpy()"
   ]
  },
  {
   "cell_type": "code",
   "execution_count": 11,
   "id": "11e7044c",
   "metadata": {
    "ExecuteTime": {
     "end_time": "2024-08-28T15:38:57.098495Z",
     "start_time": "2024-08-28T15:38:51.167750Z"
    }
   },
   "outputs": [],
   "source": [
    "# X_train, y_train, X_test, y_test으로 train set, test set 각각 8:2로 split\n",
    "# 또한, X_train, y_train, X_val, y_val로 train set, validation set 각각 8:2로 split\n",
    "\n",
    "X_train, X_test, y_train, y_test = train_test_split(harth_input, harth_target, \n",
    "                                                   stratify=harth_target, \n",
    "                                                   test_size=0.2)\n",
    "\n",
    "X_train, X_val, y_train, y_val = train_test_split(X_train, y_train,\n",
    "                                                        test_size=0.2, \n",
    "                                                        stratify=y_train)"
   ]
  },
  {
   "cell_type": "code",
   "execution_count": 12,
   "id": "a1db90f2",
   "metadata": {
    "ExecuteTime": {
     "end_time": "2024-08-28T15:38:57.710265Z",
     "start_time": "2024-08-28T15:38:57.100880Z"
    }
   },
   "outputs": [],
   "source": [
    "# StandardScaler을 통한 정규화 진행\n",
    "\n",
    "ss_transformer = StandardScaler()\n",
    "\n",
    "ss_transformer.fit(X_train)\n",
    "\n",
    "X_train_scaled = ss_transformer.transform(X_train)\n",
    "X_test_scaled = ss_transformer.transform(X_test)\n",
    "X_val_scaled = ss_transformer.transform(X_val)"
   ]
  },
  {
   "cell_type": "code",
   "execution_count": 13,
   "id": "9c02436a",
   "metadata": {
    "ExecuteTime": {
     "end_time": "2024-08-28T15:39:02.462900Z",
     "start_time": "2024-08-28T15:38:57.712104Z"
    }
   },
   "outputs": [
    {
     "name": "stdout",
     "output_type": "stream",
     "text": [
      "shape | X_train_poly : (4135249, 28), X_test_poly : (1292266, 28)\n",
      "poly | ['1' 'x0' 'x1' 'x2' 'x3' 'x4' 'x5' 'x0^2' 'x0 x1' 'x0 x2' 'x0 x3' 'x0 x4'\n",
      " 'x0 x5' 'x1^2' 'x1 x2' 'x1 x3' 'x1 x4' 'x1 x5' 'x2^2' 'x2 x3' 'x2 x4'\n",
      " 'x2 x5' 'x3^2' 'x3 x4' 'x3 x5' 'x4^2' 'x4 x5' 'x5^2']\n"
     ]
    }
   ],
   "source": [
    "# feature 늘리기 (추후 사용)\n",
    "\n",
    "from sklearn.preprocessing import PolynomialFeatures\n",
    "poly = PolynomialFeatures()\n",
    "poly.fit(X_train)\n",
    "\n",
    "X_train_poly = poly.transform (X_train)\n",
    "X_test_poly = poly.transform (X_test)\n",
    "X_val_poly = poly.transform (X_val)\n",
    "\n",
    "print (f\"shape | X_train_poly : {X_train_poly.shape}, X_test_poly : {X_test_poly.shape}\")\n",
    "print (f\"poly | {poly.get_feature_names_out()}\")\n",
    "\n",
    "ss_transformer = StandardScaler()\n",
    "\n",
    "ss_transformer.fit(X_train_poly)\n",
    "\n",
    "X_train_poly_scaled = ss_transformer.transform(X_train_poly)\n",
    "X_test_poly_scaled = ss_transformer.transform(X_test_poly)\n",
    "X_val_poly_scaled = ss_transformer.transform(X_val_poly)"
   ]
  },
  {
   "cell_type": "markdown",
   "id": "2525187b",
   "metadata": {},
   "source": [
    "------\n",
    "\n",
    "### 2. ANN (fully connected)\n",
    "- hidden layer를 구성하지 않고, 입력층과 출력층만 존재하는 인공신경망을 struction할 것이다.\n",
    "- 또한 loss function은 sparse_categorical_crossentropy를 사용한다."
   ]
  },
  {
   "cell_type": "code",
   "execution_count": 14,
   "id": "b77d8e38",
   "metadata": {
    "ExecuteTime": {
     "end_time": "2024-08-28T15:39:02.900077Z",
     "start_time": "2024-08-28T15:39:02.464793Z"
    }
   },
   "outputs": [
    {
     "name": "stdout",
     "output_type": "stream",
     "text": [
      "records shape :  (7,)\n",
      "Model: \"sequential\"\n",
      "_________________________________________________________________\n",
      " Layer (type)                Output Shape              Param #   \n",
      "=================================================================\n",
      " flatten (Flatten)           (None, 6)                 0         \n",
      "                                                                 \n",
      " dense (Dense)               (None, 12)                84        \n",
      "                                                                 \n",
      "=================================================================\n",
      "Total params: 84 (336.00 Byte)\n",
      "Trainable params: 84 (336.00 Byte)\n",
      "Non-trainable params: 0 (0.00 Byte)\n",
      "_________________________________________________________________\n"
     ]
    },
    {
     "data": {
      "image/png": "[encoded data removed]",
      "text/plain": [
       "<IPython.core.display.Image object>"
      ]
     },
     "execution_count": 14,
     "metadata": {},
     "output_type": "execute_result"
    }
   ],
   "source": [
    "# modelling (다중 분류)\n",
    "\n",
    "print (\"records shape : \", df.iloc[0].shape)\n",
    "\n",
    "model = keras.Sequential([\n",
    "    keras.layers.Flatten(input_shape=(6, )), \n",
    "    keras.layers.Dense(12, activation='softmax')\n",
    "])\n",
    "\n",
    "model.summary()\n",
    "keras.utils.plot_model(model, show_shapes=True)"
   ]
  },
  {
   "cell_type": "code",
   "execution_count": 15,
   "id": "873e802e",
   "metadata": {
    "ExecuteTime": {
     "end_time": "2024-08-28T15:39:02.917127Z",
     "start_time": "2024-08-28T15:39:02.902185Z"
    }
   },
   "outputs": [],
   "source": [
    "# compile\n",
    "\n",
    "model.compile(optimizer='adam', loss='sparse_categorical_crossentropy', metrics='accuracy')"
   ]
  },
  {
   "cell_type": "code",
   "execution_count": 16,
   "id": "950bd9c0",
   "metadata": {
    "ExecuteTime": {
     "end_time": "2024-08-28T15:43:57.434389Z",
     "start_time": "2024-08-28T15:39:02.919169Z"
    }
   },
   "outputs": [
    {
     "name": "stdout",
     "output_type": "stream",
     "text": [
      "Epoch 1/100\n",
      "32307/32307 [==============================] - 33s 997us/step - loss: 1.0925 - accuracy: 0.6550 - val_loss: 1.0641 - val_accuracy: 0.6605\n",
      "Epoch 2/100\n",
      "32307/32307 [==============================] - 32s 996us/step - loss: 1.0642 - accuracy: 0.6609 - val_loss: 1.0641 - val_accuracy: 0.6604\n",
      "Epoch 3/100\n",
      "32307/32307 [==============================] - 30s 936us/step - loss: 1.0642 - accuracy: 0.6609 - val_loss: 1.0641 - val_accuracy: 0.6625\n",
      "Epoch 4/100\n",
      "32307/32307 [==============================] - 27s 834us/step - loss: 1.0642 - accuracy: 0.6609 - val_loss: 1.0640 - val_accuracy: 0.6596\n",
      "Epoch 5/100\n",
      "32307/32307 [==============================] - 29s 901us/step - loss: 1.0642 - accuracy: 0.6609 - val_loss: 1.0642 - val_accuracy: 0.6614\n",
      "Epoch 6/100\n",
      "32307/32307 [==============================] - 32s 990us/step - loss: 1.0642 - accuracy: 0.6609 - val_loss: 1.0641 - val_accuracy: 0.6619\n",
      "Epoch 7/100\n",
      "32307/32307 [==============================] - 28s 863us/step - loss: 1.0642 - accuracy: 0.6609 - val_loss: 1.0640 - val_accuracy: 0.6603\n",
      "Epoch 8/100\n",
      "32307/32307 [==============================] - 27s 847us/step - loss: 1.0642 - accuracy: 0.6609 - val_loss: 1.0641 - val_accuracy: 0.6609\n",
      "Epoch 9/100\n",
      "32307/32307 [==============================] - 28s 877us/step - loss: 1.0642 - accuracy: 0.6609 - val_loss: 1.0640 - val_accuracy: 0.6607\n",
      "Epoch 10/100\n",
      "32307/32307 [==============================] - 27s 850us/step - loss: 1.0642 - accuracy: 0.6609 - val_loss: 1.0641 - val_accuracy: 0.6602\n",
      "{'loss': [1.092512845993042, 1.0641982555389404, 1.0642106533050537, 1.06419837474823, 1.0641965866088867, 1.0641964673995972, 1.0642038583755493, 1.064202904701233, 1.0642236471176147, 1.0641982555389404], 'accuracy': [0.6549798846244812, 0.6608641743659973, 0.6609089374542236, 0.6609495878219604, 0.6609064936637878, 0.6609316468238831, 0.6609082221984863, 0.660891056060791, 0.6608620285987854, 0.6609258651733398], 'val_loss': [1.0641376972198486, 1.0640500783920288, 1.0640963315963745, 1.064013123512268, 1.064178466796875, 1.0641241073608398, 1.064003348350525, 1.064136266708374, 1.0640075206756592, 1.0641489028930664], 'val_accuracy': [0.6605159640312195, 0.6604482531547546, 0.6624515056610107, 0.6595525741577148, 0.6614378094673157, 0.661909818649292, 0.6602828502655029, 0.6609444618225098, 0.6607035994529724, 0.6601532101631165]}\n"
     ]
    }
   ],
   "source": [
    "# fit\n",
    "# early stopping callback을 통하여 overfitting 방지\n",
    "\n",
    "early_stopping_cb = keras.callbacks.EarlyStopping(patience=3, \n",
    "                                                 restore_best_weights=True)\n",
    "\n",
    "history = model.fit(X_train_scaled, y_train, epochs=100, \n",
    "                    validation_data=(X_val_scaled, y_val),\n",
    "                   callbacks=[early_stopping_cb], batch_size=128, \n",
    "                    verbose=True)\n",
    "\n",
    "print (history.history)"
   ]
  },
  {
   "cell_type": "code",
   "execution_count": 17,
   "id": "2a55c2e7",
   "metadata": {
    "ExecuteTime": {
     "end_time": "2024-08-28T15:43:57.652163Z",
     "start_time": "2024-08-28T15:43:57.436211Z"
    },
    "scrolled": true
   },
   "outputs": [
    {
     "data": {
      "image/png": "[encoded data removed]",
      "text/plain": [
       "<Figure size 640x480 with 1 Axes>"
      ]
     },
     "metadata": {},
     "output_type": "display_data"
    }
   ],
   "source": [
    "# loss 시각화\n",
    "\n",
    "plt.plot(history.history['loss'])\n",
    "plt.plot(history.history['val_loss'])\n",
    "plt.xlabel('number of epoch')\n",
    "plt.ylabel('loss')\n",
    "plt.legend (['train loss', 'validation loss'])\n",
    "plt.show() "
   ]
  },
  {
   "cell_type": "markdown",
   "id": "9bfc0396",
   "metadata": {},
   "source": [
    "위 결과를 파악하면 다음과 같은 결과를 알 수 있다. \n",
    "\n",
    "\n",
    "- 일단은, accuracy가 약 0.6608를 유지하고 있다. 이는 ./ML_classification_HARTH에서 logistic regression 수행 시 cross-validation score인 0.6607과 거의 비슷하다.\n",
    "- 왜 계속 accuracy가 유지되는지를 생각해보았을 때, 아래와 같은 근거를 찾을 수 있었다.\n",
    "    - ./ML_classification_HARTH의 heatmap을 보았을 때 알 수 있듯이, 대부분의 feature correlation이 매우 저조한 것을 알 수 있다. 따라서 label에 미치는 영향이 그리 크지 않기에 epoch를 1~2번만 해도 특정 accuracy에 수렴할 수도 있다는 것.\n",
    "    - 모델이 너무 단순해서 그럴지도 모른다.\n",
    "    - feature가 너무 적어서 최적의 weight, bias를 금새 찾았을 지도 모른다.\n",
    "- 그래도 train loss는 epoch 1에서 일정량 줄어들었으며, validation loss는 일정히 유지하고 있다.\n",
    "    \n",
    "PolynormialFeatures를 통하여 feature을 늘린 **X_train_poly_scaled**를 이용하여 다시 시도하여 본다."
   ]
  },
  {
   "cell_type": "code",
   "execution_count": null,
   "id": "e6fdbdf3",
   "metadata": {
    "ExecuteTime": {
     "start_time": "2024-08-28T15:38:26.668Z"
    }
   },
   "outputs": [
    {
     "name": "stdout",
     "output_type": "stream",
     "text": [
      "Model: \"sequential_1\"\n",
      "_________________________________________________________________\n",
      " Layer (type)                Output Shape              Param #   \n",
      "=================================================================\n",
      " flatten_1 (Flatten)         (None, 28)                0         \n",
      "                                                                 \n",
      " dense_1 (Dense)             (None, 12)                348       \n",
      "                                                                 \n",
      "=================================================================\n",
      "Total params: 348 (1.36 KB)\n",
      "Trainable params: 348 (1.36 KB)\n",
      "Non-trainable params: 0 (0.00 Byte)\n",
      "_________________________________________________________________\n",
      "Epoch 1/100\n",
      "32307/32307 [==============================] - 37s 1ms/step - loss: 0.6957 - accuracy: 0.7892 - val_loss: 0.6296 - val_accuracy: 0.8106\n",
      "Epoch 2/100\n",
      "32307/32307 [==============================] - 34s 1ms/step - loss: 0.6210 - accuracy: 0.8142 - val_loss: 0.6155 - val_accuracy: 0.8170\n",
      "Epoch 3/100\n",
      "32307/32307 [==============================] - 28s 867us/step - loss: 0.6125 - accuracy: 0.8175 - val_loss: 0.6104 - val_accuracy: 0.8181\n",
      "Epoch 4/100\n",
      "32307/32307 [==============================] - 27s 848us/step - loss: 0.6087 - accuracy: 0.8192 - val_loss: 0.6083 - val_accuracy: 0.8197\n",
      "Epoch 5/100\n",
      "32307/32307 [==============================] - 27s 845us/step - loss: 0.6066 - accuracy: 0.8202 - val_loss: 0.6059 - val_accuracy: 0.8212\n",
      "Epoch 6/100\n",
      "32307/32307 [==============================] - 27s 844us/step - loss: 0.6053 - accuracy: 0.8209 - val_loss: 0.6051 - val_accuracy: 0.8210\n",
      "Epoch 7/100\n",
      "32307/32307 [==============================] - 27s 846us/step - loss: 0.6045 - accuracy: 0.8214 - val_loss: 0.6040 - val_accuracy: 0.8217\n",
      "Epoch 8/100\n",
      "32307/32307 [==============================] - 28s 861us/step - loss: 0.6039 - accuracy: 0.8218 - val_loss: 0.6040 - val_accuracy: 0.8219\n",
      "Epoch 9/100\n",
      "32307/32307 [==============================] - 38s 1ms/step - loss: 0.6035 - accuracy: 0.8222 - val_loss: 0.6034 - val_accuracy: 0.8208\n",
      "Epoch 10/100\n",
      "32307/32307 [==============================] - 43s 1ms/step - loss: 0.6031 - accuracy: 0.8225 - val_loss: 0.6030 - val_accuracy: 0.8236\n",
      "Epoch 11/100\n",
      "32307/32307 [==============================] - 31s 966us/step - loss: 0.6028 - accuracy: 0.8226 - val_loss: 0.6029 - val_accuracy: 0.8232\n",
      "Epoch 12/100\n",
      "32307/32307 [==============================] - 30s 937us/step - loss: 0.6027 - accuracy: 0.8228 - val_loss: 0.6029 - val_accuracy: 0.8238\n",
      "Epoch 13/100\n",
      "32307/32307 [==============================] - 27s 841us/step - loss: 0.6025 - accuracy: 0.8229 - val_loss: 0.6027 - val_accuracy: 0.8223\n",
      "Epoch 14/100\n",
      "32307/32307 [==============================] - 32s 992us/step - loss: 0.6024 - accuracy: 0.8230 - val_loss: 0.6024 - val_accuracy: 0.8236\n",
      "Epoch 15/100\n",
      "32307/32307 [==============================] - 31s 960us/step - loss: 0.6023 - accuracy: 0.8231 - val_loss: 0.6022 - val_accuracy: 0.8245\n",
      "Epoch 16/100\n",
      "32307/32307 [==============================] - 39s 1ms/step - loss: 0.6022 - accuracy: 0.8233 - val_loss: 0.6024 - val_accuracy: 0.8229\n",
      "Epoch 17/100\n",
      "32307/32307 [==============================] - 43s 1ms/step - loss: 0.6021 - accuracy: 0.8234 - val_loss: 0.6021 - val_accuracy: 0.8240\n",
      "Epoch 18/100\n",
      "32307/32307 [==============================] - 40s 1ms/step - loss: 0.6021 - accuracy: 0.8234 - val_loss: 0.6021 - val_accuracy: 0.8236\n",
      "Epoch 19/100\n",
      "32307/32307 [==============================] - 39s 1ms/step - loss: 0.6020 - accuracy: 0.8235 - val_loss: 0.6023 - val_accuracy: 0.8236\n",
      "Epoch 20/100\n",
      "32307/32307 [==============================] - 29s 894us/step - loss: 0.6020 - accuracy: 0.8236 - val_loss: 0.6021 - val_accuracy: 0.8246\n",
      "Epoch 21/100\n",
      "32307/32307 [==============================] - 28s 869us/step - loss: 0.6020 - accuracy: 0.8236 - val_loss: 0.6021 - val_accuracy: 0.8248\n",
      "Epoch 22/100\n",
      "32307/32307 [==============================] - 28s 871us/step - loss: 0.6020 - accuracy: 0.8237 - val_loss: 0.6019 - val_accuracy: 0.8244\n",
      "Epoch 23/100\n",
      "32307/32307 [==============================] - 28s 853us/step - loss: 0.6019 - accuracy: 0.8237 - val_loss: 0.6020 - val_accuracy: 0.8230\n",
      "Epoch 24/100\n",
      "32307/32307 [==============================] - 29s 887us/step - loss: 0.6019 - accuracy: 0.8237 - val_loss: 0.6017 - val_accuracy: 0.8231\n",
      "Epoch 25/100\n",
      "32307/32307 [==============================] - 31s 965us/step - loss: 0.6019 - accuracy: 0.8237 - val_loss: 0.6018 - val_accuracy: 0.8245\n",
      "Epoch 26/100\n",
      "32307/32307 [==============================] - 37s 1ms/step - loss: 0.6019 - accuracy: 0.8239 - val_loss: 0.6017 - val_accuracy: 0.8238\n",
      "Epoch 27/100\n",
      " 7873/32307 [======>.......................] - ETA: 18s - loss: 0.6041 - accuracy: 0.8237"
     ]
    }
   ],
   "source": [
    "# 모델 재조정 및 재학습\n",
    "\n",
    "model = keras.Sequential([\n",
    "    keras.layers.Flatten(input_shape=(28, )), \n",
    "    keras.layers.Dense(12, activation='softmax')\n",
    "])\n",
    "\n",
    "model.summary()\n",
    "\n",
    "model.compile(optimizer='adam', loss='sparse_categorical_crossentropy', metrics='accuracy')\n",
    "\n",
    "history = model.fit(X_train_poly_scaled, y_train, epochs=100, \n",
    "                    validation_data=(X_val_poly_scaled, y_val), batch_size=128, \n",
    "                   callbacks=[early_stopping_cb], \n",
    "                    verbose=True)\n",
    "\n",
    "print (history.history)"
   ]
  },
  {
   "cell_type": "code",
   "execution_count": null,
   "id": "6fd84314",
   "metadata": {
    "ExecuteTime": {
     "start_time": "2024-08-28T15:38:26.669Z"
    }
   },
   "outputs": [],
   "source": [
    "# loss 재시각화\n",
    "\n",
    "plt.plot(history.history['loss'])\n",
    "plt.plot(history.history['val_loss'])\n",
    "plt.xlabel('number of epoch')\n",
    "plt.ylabel('loss')\n",
    "plt.legend (['train loss', 'validation loss'])\n",
    "plt.show() "
   ]
  },
  {
   "cell_type": "markdown",
   "id": "f9a87e05",
   "metadata": {},
   "source": [
    "**feature를 늘렸더니 전보다 더욱 accuracy가 높아졌으며, overfitting 또한 잘 제어하는 것을 확인 가능하다. 확인 가능하다. 추후엔 계속 poly set으로 학습을 진행한다.**"
   ]
  },
  {
   "cell_type": "markdown",
   "id": "42dd3412",
   "metadata": {},
   "source": [
    "-------\n",
    "\n",
    "### 3. DNN \n",
    "- hidden layer을 충분히 구성하여 신경망을 struction할 것임\n",
    "    - 각 node의 activation은 relu 사용\n",
    "    - epoch는 100으로 고정\n",
    "    - records가 너무 많아 batch_size를 256으로 하여 학습한다.\n",
    "- 아래와 같이 experiment할 예정이다.\n",
    "    - optimizer는 **적응형 학습율 optimizer인 adam을 사용한다.**\n",
    "    - validation loss 감소를 위하여 **dropout 층을 추가 후, callback으로 early stopping을 도입**한다.\n",
    "        - patiences는 3로 한다.\n",
    "    - **overfitting을 막기 위해 Dropout 층을 배치**한다."
   ]
  },
  {
   "cell_type": "code",
   "execution_count": null,
   "id": "6a31a4f3",
   "metadata": {
    "ExecuteTime": {
     "start_time": "2024-08-28T15:38:26.671Z"
    }
   },
   "outputs": [],
   "source": [
    "# modelling DNN\n",
    "# 여기서는 feature를 늘린 X_train_poly_scaled를 사용한다.\n",
    "\n",
    "model = keras.Sequential([\n",
    "    keras.layers.Flatten(input_shape=(28, )), \n",
    "    keras.layers.Dense(64, activation='relu'),\n",
    "    keras.layers.Dropout(0.3),\n",
    "    keras.layers.Dense(32, activation='relu'),\n",
    "    keras.layers.Dropout(0.3),\n",
    "    keras.layers.Dense(16, activation='relu'),\n",
    "    keras.layers.Dense(12, activation='softmax')\n",
    "])\n",
    "\n",
    "model.summary()\n",
    "keras.utils.plot_model(model, show_shapes=True)"
   ]
  },
  {
   "cell_type": "code",
   "execution_count": null,
   "id": "dfa64b3e",
   "metadata": {
    "ExecuteTime": {
     "start_time": "2024-08-28T15:38:26.672Z"
    }
   },
   "outputs": [],
   "source": [
    "# compile\n",
    "\n",
    "adam = keras.optimizers.Adam()\n",
    "model.compile(optimizer=adam, loss='sparse_categorical_crossentropy', metrics='accuracy')"
   ]
  },
  {
   "cell_type": "code",
   "execution_count": null,
   "id": "3766dce5",
   "metadata": {
    "ExecuteTime": {
     "start_time": "2024-08-28T15:38:26.674Z"
    }
   },
   "outputs": [],
   "source": [
    "# callback 설정 및 fit\n",
    "\n",
    "early_stopping_cb = keras.callbacks.EarlyStopping(patience=3, \n",
    "                                                 restore_best_weights=True)\n",
    "\n",
    "history = model.fit(X_train_poly_scaled, y_train, epochs=100, \n",
    "                    validation_data=(X_val_poly_scaled, y_val), batch_size=256, \n",
    "                    callbacks=early_stopping_cb, verbose=True)"
   ]
  },
  {
   "cell_type": "code",
   "execution_count": null,
   "id": "20b50cf5",
   "metadata": {
    "ExecuteTime": {
     "start_time": "2024-08-28T15:38:26.675Z"
    }
   },
   "outputs": [],
   "source": [
    "# history 그리고 loss 시각화\n",
    "\n",
    "print (history.history)\n",
    "\n",
    "plt.plot(history.history['loss'])\n",
    "plt.plot(history.history['val_loss'])\n",
    "plt.xlabel('number of epoch')\n",
    "plt.ylabel('loss')\n",
    "plt.legend (['train loss', 'validation loss'])\n",
    "plt.show() "
   ]
  },
  {
   "cell_type": "code",
   "execution_count": null,
   "id": "e8ff1db6",
   "metadata": {
    "ExecuteTime": {
     "start_time": "2024-08-28T15:38:26.676Z"
    }
   },
   "outputs": [],
   "source": [
    "# evaluate\n",
    "\n",
    "model.evaluate(X_val_poly_scaled, y_val)"
   ]
  },
  {
   "cell_type": "code",
   "execution_count": null,
   "id": "e738248d",
   "metadata": {
    "ExecuteTime": {
     "start_time": "2024-08-28T15:38:26.678Z"
    }
   },
   "outputs": [],
   "source": [
    "# confusion matrix 및 report\n",
    "# validation dataset과 test dataset을 따로 report 및 matrix drawing\n",
    "\n",
    "from sklearn.metrics import classification_report, confusion_matrix\n",
    "\n",
    "y_val_pred = model.predict(X_val_poly_scaled)\n",
    "y_test_pred = model.predict(X_test_poly_scaled)\n",
    "\n",
    "y_val_pred_classes = np.argmax(y_val_pred, axis=1)\n",
    "y_test_pred_classes = np.argmax(y_test_pred, axis=1)\n",
    "\n",
    "############\n",
    "\n",
    "cm_val = confusion_matrix(y_val, y_val_pred_classes)\n",
    "print (\"- validation data confusion matrix -\\n\")\n",
    "print (cm_val)\n",
    "\n",
    "print ('\\n --------------- \\n')\n",
    "\n",
    "cm_test = confusion_matrix(y_test, y_test_pred_classes)\n",
    "print (\"- test data confusion matrix -\\n\")\n",
    "print (cm_test)\n",
    "\n",
    "print ('\\n --------------- \\n')\n",
    "\n",
    "cr_val = classification_report(y_val, y_val_pred_classes)\n",
    "print (\"- validation data report of classification -\\n\")\n",
    "print (cr_val)\n",
    "\n",
    "print ('\\n --------------- \\n')\n",
    "\n",
    "cr_test = classification_report(y_test, y_test_pred_classes)\n",
    "print (\"- test data report of classification -\\n\")\n",
    "print (cr_test)\n",
    "\n",
    "print ('\\n --------------- \\n')"
   ]
  },
  {
   "cell_type": "markdown",
   "id": "91e5289c",
   "metadata": {},
   "source": [
    "-------\n",
    "\n",
    "### 4.  CNN (1D)\n",
    "- convolution을 통하여 중요한 feature만 도드라지게 하여 학습을 진행한다.\n",
    "- 아래와 같이 dataset을 구성한다.\n",
    "    - tensor로 전환하여 Conv1D layer로 convolution을 시행할 수 있을 것 같다. 아래와 같이 전환한다.\n",
    "        - 배치 크기 : row 갯수 (sample의 수)\n",
    "        - 길이 : feature 수 (col 수)\n",
    "        - 채널 : 1 (단일 채널)\n",
    "    - 전환 후 CNN 1d를 적용하여 main feature extraction 후 pooling을 진행한다.\n",
    "    - Conv, pooling을 2번 반복 후 dense layer를 두어 regression한다.\n",
    "        - 중간에 dropout 층을 배치하여 overfitting을 막고 학습에 신중하도록 한다.\n",
    "- 여기서는 poly set 대신 normal set을 사용하겠다.\n"
   ]
  },
  {
   "cell_type": "code",
   "execution_count": null,
   "id": "caacb440",
   "metadata": {
    "ExecuteTime": {
     "start_time": "2024-08-28T15:38:26.680Z"
    }
   },
   "outputs": [],
   "source": [
    "# X_train_scaled, X_test_scaled, X_val_scaled 데이터를 3차원 tensor로 전환한다.\n",
    "\n",
    "X_train_cnn = X_train_scaled.reshape((X_train_scaled.shape[0], \n",
    "                                           X_train_scaled.shape[1], \n",
    "                                           1))\n",
    "\n",
    "X_test_cnn = X_test_scaled.reshape((X_test_scaled.shape[0], \n",
    "                                         X_test_scaled.shape[1], \n",
    "                                         1))\n",
    "\n",
    "X_val_cnn = X_val_scaled.reshape((X_val_scaled.shape[0], \n",
    "                                       X_val_scaled.shape[1], \n",
    "                                       1))"
   ]
  },
  {
   "cell_type": "code",
   "execution_count": null,
   "id": "2ba358d9",
   "metadata": {
    "ExecuteTime": {
     "start_time": "2024-08-28T15:38:26.681Z"
    }
   },
   "outputs": [],
   "source": [
    "# shape 확인\n",
    "\n",
    "X_train_cnn.shape, X_test_cnn.shape, X_val_cnn.shape"
   ]
  },
  {
   "cell_type": "code",
   "execution_count": null,
   "id": "c84e749d",
   "metadata": {
    "ExecuteTime": {
     "start_time": "2024-08-28T15:38:26.682Z"
    }
   },
   "outputs": [],
   "source": [
    "# modelling (functional API 방식)\n",
    "\n",
    "# 입력 레이어\n",
    "input_layer = keras.Input(shape=(X_train_scaled.shape[1], 1))\n",
    "\n",
    "# 첫 번째 Conv1D 레이어 + MaxPooling1D + Dropout\n",
    "conv_1 = keras.layers.Conv1D(32, kernel_size=3, activation='relu', padding='same')(input_layer)\n",
    "pooling_1 = keras.layers.MaxPooling1D(2)(conv_1)\n",
    "dropout_1 = keras.layers.Dropout(0.4)(pooling_1)\n",
    "\n",
    "# 두 번째 Conv1D 레이어 + MaxPooling1D + Dropout\n",
    "conv_2 = keras.layers.Conv1D(64, kernel_size=3, activation='relu', padding='same')(dropout_1)\n",
    "pooling_2 = keras.layers.MaxPooling1D(2)(conv_2)\n",
    "dropout_2 = keras.layers.Dropout(0.4)(pooling_2)\n",
    "\n",
    "# Flatten 레이어\n",
    "flatten = keras.layers.Flatten()(dropout_2)\n",
    "\n",
    "# 첫 번째 Dense 레이어 + Batch Normalization + Dropout\n",
    "dense_1 = keras.layers.Dense(32, activation='relu')(flatten)\n",
    "batchnorm_1 = keras.layers.BatchNormalization()(dense_1)\n",
    "dropout_3 = keras.layers.Dropout(0.3)(batchnorm_1)\n",
    "\n",
    "# 두 번째 Dense 레이어\n",
    "dense_2 = keras.layers.Dense(16, activation='relu')(dropout_3)\n",
    "\n",
    "# 출력 레이어\n",
    "output_layer = keras.layers.Dense(12, activation='softmax')(dense_2)\n",
    "\n",
    "# model = keras.Model(\n",
    "#     input_layer,\n",
    "#     conv_1,\n",
    "#     pooling_1,\n",
    "#     conv_2,\n",
    "#     pooling_2,\n",
    "#     flatten,\n",
    "#     dense_1,\n",
    "#     dropout_1,\n",
    "#     dense_2,\n",
    "#     dropout_2,\n",
    "#     dense_3,\n",
    "#     output_layer\n",
    "# )\n",
    "\n",
    "model = keras.Model(inputs=input_layer, outputs=output_layer)\n",
    "\n",
    "model.summary()\n",
    "keras.utils.plot_model(model, show_shapes=True, show_layer_activations=True)"
   ]
  },
  {
   "cell_type": "code",
   "execution_count": null,
   "id": "a5705934",
   "metadata": {
    "ExecuteTime": {
     "start_time": "2024-08-28T15:38:26.684Z"
    }
   },
   "outputs": [],
   "source": [
    "# compile\n",
    "\n",
    "adam = keras.optimizers.Adam(learning_rate=0.001)\n",
    "model.compile (optimizer=adam, loss='sparse_categorical_crossentropy', metrics=['accuracy'])"
   ]
  },
  {
   "cell_type": "code",
   "execution_count": null,
   "id": "110ef07f",
   "metadata": {
    "ExecuteTime": {
     "start_time": "2024-08-28T15:38:26.685Z"
    }
   },
   "outputs": [],
   "source": [
    "# fit\n",
    "\n",
    "early_stopping_cb = keras.callbacks.EarlyStopping(patience=3, \n",
    "                                                restore_best_weights=True)\n",
    "\n",
    "history = model.fit(X_train_cnn, y_train, epochs=100, \n",
    "                    validation_data=(X_val_cnn, y_val), batch_size=512, \n",
    "                    callbacks=early_stopping_cb, \n",
    "                    verbose=True)"
   ]
  },
  {
   "cell_type": "code",
   "execution_count": null,
   "id": "18982e8b",
   "metadata": {
    "ExecuteTime": {
     "start_time": "2024-08-28T15:38:26.686Z"
    }
   },
   "outputs": [],
   "source": [
    "# history 그리고 loss 시각화\n",
    "\n",
    "print (history.history)\n",
    "\n",
    "plt.plot(history.history['loss'])\n",
    "plt.plot(history.history['val_loss'])\n",
    "plt.xlabel('number of epoch')\n",
    "plt.ylabel('loss')\n",
    "plt.legend (['train loss', 'validation loss'])\n",
    "plt.show() "
   ]
  },
  {
   "cell_type": "code",
   "execution_count": null,
   "id": "9c1a63dd",
   "metadata": {
    "ExecuteTime": {
     "start_time": "2024-08-28T15:38:26.687Z"
    }
   },
   "outputs": [],
   "source": [
    "# evaluate\n",
    "\n",
    "model.evaluate(X_val_cnn, y_val)"
   ]
  },
  {
   "cell_type": "code",
   "execution_count": null,
   "id": "0573057a",
   "metadata": {
    "ExecuteTime": {
     "start_time": "2024-08-28T15:38:26.689Z"
    }
   },
   "outputs": [],
   "source": [
    "# confusion matrix 및 report\n",
    "# validation dataset과 test dataset을 따로 report 및 matrix drawing\n",
    "\n",
    "from sklearn.metrics import classification_report, confusion_matrix\n",
    "\n",
    "y_val_pred = model.predict(X_val_cnn)\n",
    "y_test_pred = model.predict(X_test_cnn)\n",
    "\n",
    "y_val_pred_classes = np.argmax(y_val_pred, axis=1)\n",
    "y_test_pred_classes = np.argmax(y_test_pred, axis=1)\n",
    "\n",
    "############\n",
    "\n",
    "cm_val = confusion_matrix(y_val, y_val_pred_classes)\n",
    "print (\"- validation data confusion matrix -\\n\")\n",
    "print (cm_val)\n",
    "\n",
    "print ('\\n --------------- \\n')\n",
    "\n",
    "cm_test = confusion_matrix(y_test, y_test_pred_classes)\n",
    "print (\"- test data confusion matrix -\\n\")\n",
    "print (cm_test)\n",
    "\n",
    "print ('\\n --------------- \\n')\n",
    "\n",
    "cr_val = classification_report(y_val, y_val_pred_classes)\n",
    "print (\"- validation data report of classification -\\n\")\n",
    "print (cr_val)\n",
    "\n",
    "print ('\\n --------------- \\n')\n",
    "\n",
    "cr_test = classification_report(y_test, y_test_pred_classes)\n",
    "print (\"- test data report of classification -\\n\")\n",
    "print (cr_test)\n",
    "\n",
    "print ('\\n --------------- \\n')"
   ]
  },
  {
   "cell_type": "markdown",
   "id": "d6bdea44",
   "metadata": {},
   "source": [
    "하지만, 위 결과를 잘 생각해보자. **CNN을 진행 시에 split_sequence로 순환형 데이터를 만들지 않고, 단지 df에서 reshape한 형태로만 학습을 진행했다.** 이는 그저 **DNN과 다름이 없을 뿐**이니, split_sequence 함수를 사용하여 데이터를 순환형으로 만든 후에 다시 학습을 진행한다. split_sequence를 아래와 같이 정의하자."
   ]
  },
  {
   "cell_type": "code",
   "execution_count": null,
   "id": "9844307d",
   "metadata": {
    "ExecuteTime": {
     "start_time": "2024-08-28T15:38:26.690Z"
    }
   },
   "outputs": [],
   "source": [
    "def split_sequence (sequences, n_steps) :\n",
    "    X, y = [], [] \n",
    "    \n",
    "    for i in range(len(sequences)) :\n",
    "        end_ix = i + n_steps\n",
    "        if end_ix > len(sequences)-1 :\n",
    "            break\n",
    "            \n",
    "        seq_x, seq_y = sequences[i:end_ix, :-1], sequences[end_ix, -1]\n",
    "        \n",
    "        X.append(seq_x)\n",
    "        y.append(seq_y)\n",
    "        \n",
    "    return np.array(X), np.array(y)"
   ]
  },
  {
   "cell_type": "code",
   "execution_count": null,
   "id": "bf9672f1",
   "metadata": {
    "ExecuteTime": {
     "start_time": "2024-08-28T15:38:26.691Z"
    }
   },
   "outputs": [],
   "source": [
    "# sequential data로 변경 (여기서의 타임 스텝은 300으로)\n",
    "\n",
    "n_steps = 300\n",
    "\n",
    "X_train_seq, y_train_seq = split_sequence (np.column_stack((X_train_scaled, y_train)), n_steps)\n",
    "X_test_seq, y_test_seq = split_sequence (np.column_stack((X_test_scaled, y_test)), n_steps)\n",
    "X_val_seq, y_val_seq = split_sequence (np.column_stack((X_val_scaled, y_val)), n_steps)"
   ]
  },
  {
   "cell_type": "code",
   "execution_count": null,
   "id": "aebe48fd",
   "metadata": {
    "ExecuteTime": {
     "start_time": "2024-08-28T15:38:26.693Z"
    }
   },
   "outputs": [],
   "source": [
    "# 다시 modelling\n",
    "\n",
    "# 입력 레이어\n",
    "input_layer = keras.Input(shape=(X_train_seq.shape[1], X_train_seq.shape[2]))\n",
    "\n",
    "# 첫 번째 Conv1D 레이어 + MaxPooling1D + Dropout\n",
    "conv_1 = keras.layers.Conv1D(64, kernel_size=3, activation='relu', padding='same')(input_layer)\n",
    "pooling_1 = keras.layers.MaxPooling1D(2)(conv_1)\n",
    "dropout_1 = keras.layers.Dropout(0.4)(pooling_1)\n",
    "\n",
    "# 두 번째 Conv1D 레이어 + MaxPooling1D + Dropout\n",
    "conv_2 = keras.layers.Conv1D(64, kernel_size=3, activation='relu', padding='same')(dropout_1)\n",
    "pooling_2 = keras.layers.MaxPooling1D(2)(conv_2)\n",
    "dropout_2 = keras.layers.Dropout(0.4)(pooling_2)\n",
    "\n",
    "# Flatten 레이어\n",
    "flatten = keras.layers.Flatten()(dropout_2)\n",
    "\n",
    "# 첫 번째 Dense 레이어 + Batch Normalization + Dropout\n",
    "dense_1 = keras.layers.Dense(32, activation='relu')(flatten)\n",
    "batchnorm_1 = keras.layers.BatchNormalization()(dense_1)\n",
    "dropout_3 = keras.layers.Dropout(0.3)(batchnorm_1)\n",
    "\n",
    "# 두 번째 Dense 레이어\n",
    "dense_2 = keras.layers.Dense(16, activation='relu')(dropout_3)\n",
    "\n",
    "# 출력 레이어\n",
    "output_layer = keras.layers.Dense(12, activation='softmax')(dense_2)\n",
    "\n",
    "model = keras.Model(inputs=input_layer, outputs=output_layer)\n",
    "\n",
    "model.summary()\n",
    "keras.utils.plot_model(model, show_shapes=True, show_layer_activations=True)"
   ]
  },
  {
   "cell_type": "code",
   "execution_count": null,
   "id": "dd009c6d",
   "metadata": {
    "ExecuteTime": {
     "start_time": "2024-08-28T15:38:26.694Z"
    }
   },
   "outputs": [],
   "source": [
    "# compile\n",
    "\n",
    "adam = keras.optimizers.Adam(learning_rate=0.001)\n",
    "model.compile (optimizer=adam, loss='sparse_categorical_crossentropy', metrics=['accuracy'])"
   ]
  },
  {
   "cell_type": "code",
   "execution_count": null,
   "id": "92b06145",
   "metadata": {
    "ExecuteTime": {
     "start_time": "2024-08-28T15:38:26.696Z"
    }
   },
   "outputs": [],
   "source": [
    "# fit\n",
    "\n",
    "early_stopping_cb = keras.callbacks.EarlyStopping(patience=3, \n",
    "                                                restore_best_weights=True)\n",
    "\n",
    "history = model.fit(X_train_seq, y_train_seq, epochs=100, \n",
    "                    validation_data=(X_val_seq, y_val_seq), batch_size=64, \n",
    "                    callbacks=early_stopping_cb, \n",
    "                    verbose=True)"
   ]
  },
  {
   "cell_type": "code",
   "execution_count": null,
   "id": "0e4a46b0",
   "metadata": {
    "ExecuteTime": {
     "start_time": "2024-08-28T15:38:26.697Z"
    }
   },
   "outputs": [],
   "source": [
    "# history 그리고 loss 시각화\n",
    "\n",
    "print (history.history)\n",
    "\n",
    "plt.plot(history.history['loss'])\n",
    "plt.plot(history.history['val_loss'])\n",
    "plt.xlabel('number of epoch')\n",
    "plt.ylabel('loss')\n",
    "plt.legend (['train loss', 'validation loss'])\n",
    "plt.show() "
   ]
  },
  {
   "cell_type": "code",
   "execution_count": null,
   "id": "e8ed283c",
   "metadata": {
    "ExecuteTime": {
     "start_time": "2024-08-28T15:38:26.698Z"
    }
   },
   "outputs": [],
   "source": [
    "# evaluate\n",
    "\n",
    "model.evaluate(X_val_seq, y_val_seq)"
   ]
  },
  {
   "cell_type": "code",
   "execution_count": null,
   "id": "a4007906",
   "metadata": {
    "ExecuteTime": {
     "start_time": "2024-08-28T15:38:26.699Z"
    }
   },
   "outputs": [],
   "source": [
    "# confusion matrix 및 report\n",
    "# validation dataset과 test dataset을 따로 report 및 matrix drawing\n",
    "\n",
    "from sklearn.metrics import classification_report, confusion_matrix\n",
    "\n",
    "y_val_pred = model.predict(X_val_seq)\n",
    "y_test_pred = model.predict(X_test_seq)\n",
    "\n",
    "y_val_pred_classes = np.argmax(y_val_pred, axis=1)\n",
    "y_test_pred_classes = np.argmax(y_test_pred, axis=1)\n",
    "\n",
    "############\n",
    "\n",
    "cm_val = confusion_matrix(y_val, y_val_pred_classes)\n",
    "print (\"- validation data confusion matrix -\\n\")\n",
    "print (cm_val)\n",
    "\n",
    "print ('\\n --------------- \\n')\n",
    "\n",
    "cm_test = confusion_matrix(y_test, y_test_pred_classes)\n",
    "print (\"- test data confusion matrix -\\n\")\n",
    "print (cm_test)\n",
    "\n",
    "print ('\\n --------------- \\n')\n",
    "\n",
    "cr_val = classification_report(y_val, y_val_pred_classes)\n",
    "print (\"- validation data report of classification -\\n\")\n",
    "print (cr_val)\n",
    "\n",
    "print ('\\n --------------- \\n')\n",
    "\n",
    "cr_test = classification_report(y_test, y_test_pred_classes)\n",
    "print (\"- test data report of classification -\\n\")\n",
    "print (cr_test)\n",
    "\n",
    "print ('\\n --------------- \\n')"
   ]
  },
  {
   "attachments": {},
   "cell_type": "markdown",
   "id": "da9e0d66",
   "metadata": {},
   "source": [
    "-------\n",
    "\n",
    "### 5.  U-net\n",
    "\n",
    "- U-Net은 원래 이미지 분할을 위해 설계된 합성곱 신경망(CNN)이지만, 시계열 데이터와 같은 데이터에도 적용할 수 있다.\n",
    "- X_train_scaled를 conv1D에 대입 가능한 3차원 데이터로 reshape 후에 대입한다.\n",
    "- **encoder** \n",
    "    - input의 important feature를 캡처하기 위해 여러 개의 합성곱 층과 맥스풀링 층으로 구성됨\n",
    "    - 이 과정에서 입력 데이터는 다운샘플링되며, 특징 맵의 크기가 점점 줄어듬\n",
    "    - 예시\n",
    "      ```python\n",
    "      conv_1 = keras.layers.Conv1D(64, kernel_size=3, activation='relu', padding='same')(input_layer)\n",
    "      pooling_1 = keras.layers.MaxPooling1D(2)(conv_1)\n",
    "      dropout_1 = keras.layers.Dropout(0.3)(pooling_1)\n",
    "\n",
    "      conv_2 = keras.layers.Conv1D(128, kernel_size=3, activation='relu', padding='same')(dropout_1)\n",
    "      pooling_2 = keras.layers.MaxPooling1D(2)(conv_2)\n",
    "      dropout_2 = keras.layers.Dropout(0.3)(pooling_2)\n",
    "      ```\n",
    "\n",
    "- **decoder**\n",
    "    - 이 경로는 업샘플링과 합성곱 층을 통해 원본 데이터의 해상도를 복원함\n",
    "    - 수축 경로에서 얻은 특징을 결합하여 최종 출력 이미지를 생성함.\n",
    "    - 예시\n",
    "      ```python\n",
    "      conv_3 = keras.layers.Conv1D(64, kernel_size=3, activation='relu', padding='same')(dropout_2)\n",
    "      upsampling_1 = keras.layers.UpSampling1D(2)(conv_3)\n",
    "      ```\n",
    "      \n",
    "<br>\n",
    "\n",
    "<img src='https://miro.medium.com/v2/resize:fit:1358/0*IYsBMfBEIQGiY88r.png' width='500px'>\n",
    "<img src='https://i.imgur.com/2MUbGYf.png' width='500px'>\n",
    "\n",
    "**U-net을 정확히 이해하기 위해서 위 U-net 이미지 figure만 보고 직접 modeling하였다. 그로 인하여 거의 3일이 넘는 시간 동안 U-net modeling에만 시간을 투자했다. 아래는 그 시행착오의 흔적이다.**\n",
    "\n",
    "- 기존에는 bottleneck이 1024개의 노드를 지니게 만들었으나, ETA가 기하급수적으로 늘어나 감당할 수 없음을 판단 후, 128개의 노드를 지니게 재구성하였다.\n",
    "- 구현 도중, 다음과 같은 문제에 봉착하였다.\n",
    "    - **문제 1 : U-Net 2D 모델을 1D로 변형**\n",
    "      - **문제** : 원래는 2D로 구현하였으나, 2D로 reshape하여 U-net을 구성하면 pooling layer가 음수 차원으로 도달하는 문제가 있었다.\n",
    "      - **해결 방법** : 2D 레이어를 1D 레이어로 변경하고, 커널 크기와 풀링 사이즈를 1D에 맞게 조정하여 unet_1d 모델을 만들었다.\n",
    "\n",
    "    - **문제 2 : 입력 데이터의 크기 문제**\n",
    "      - **문제** : 1D 데이터이지만 `height = 1`과 `width`를 맞춰서 `reshape`해야 하였다.\n",
    "      - **해결 방법** : 데이터를 `(height, width, channels)` 형태로 `reshape`하여 모델에 맞게 조정하였다. 따라서 input data의 형태는 (records 갯수, feature 갯수, 1)이다.\n",
    "\n",
    "    - **문제 3 : MaxPooling1D에서 음수 차원 크기 오류**\n",
    "      - **문제** : `MaxPooling1D` 연산이 데이터의 차원을 너무 작게 만들어서 오류가 발생하였다.\n",
    "      - **해결 방법** : 새로운 시도를 하였다. MaxPooling1D를 사용하는 이유는 중요 feature를 뽑아내기 위함인데, 이를 conv1D의 stride를 이용하여 feature map의 크기를 줄이도록 하였다.\n",
    "\n",
    "    - **문제 4 : 디코더와 인코더의 비대칭성**\n",
    "      - **문제** : 디코더 부분이 인코더와 대칭이 되지 않았다. concatenate할 때 size 문제 때문에 제대로 compile이 되지 않는 문제가 발생하였다.\n",
    "      - **해결 방법** : 각 디코더 단계에서 인코더의 출력과 맞춰서 업샘플링 및 `concatenate`의 오류를 해결하기 위하여 zero padding layer와 cropping layer을 추가하여 tensor의 크기를 맞추었다."
   ]
  },
  {
   "cell_type": "code",
   "execution_count": null,
   "id": "dc395e4d",
   "metadata": {
    "ExecuteTime": {
     "start_time": "2024-08-28T15:38:26.701Z"
    }
   },
   "outputs": [],
   "source": [
    "# reshape\n",
    "\n",
    "X_train_unet = X_train_scaled.reshape((X_train_scaled.shape[0], X_train_scaled.shape[1], 1))\n",
    "X_test_unet = X_test_scaled.reshape((X_test_scaled.shape[0], X_test_scaled.shape[1], 1))\n",
    "X_val_unet = X_val_scaled.reshape((X_val_scaled.shape[0], X_val_scaled.shape[1], 1))"
   ]
  },
  {
   "cell_type": "code",
   "execution_count": null,
   "id": "4825c56c",
   "metadata": {
    "ExecuteTime": {
     "start_time": "2024-08-28T15:38:26.702Z"
    }
   },
   "outputs": [],
   "source": [
    "# shape 확인\n",
    "\n",
    "X_train_unet.shape, X_test_unet.shape, X_val_unet.shape"
   ]
  },
  {
   "attachments": {},
   "cell_type": "markdown",
   "id": "bb369a8b",
   "metadata": {},
   "source": [
    "이전 unet_1d_custom 함수의 구성은 encoder에서부터 node의 수가 증가한 후, decoder에서 다시 node의 수가 대칭적으로 감소하는 형태였으나, 이는 U-net의 일반적인 형태가 아님을 인지한 뒤에 다시 수정한다. 수정하기 전의 model figure은 아래와 같다.\n",
    "\n",
    "<br>\n",
    "\n",
    "<img src='./model_prev.png' width='200px'>"
   ]
  },
  {
   "cell_type": "code",
   "execution_count": null,
   "id": "fb1139de",
   "metadata": {
    "ExecuteTime": {
     "start_time": "2024-08-28T15:38:26.704Z"
    },
    "scrolled": false
   },
   "outputs": [],
   "source": [
    "'''\n",
    "    이전 모델 수정\n",
    "    - 이전 모델은 encoder-bottleneck의 노드 수가 증가, bottleneck-decoder의 노드 수가 감소 (대칭) <-- 잘못된 형태\n",
    "'''\n",
    "\n",
    "from tensorflow.keras import layers, models\n",
    "\n",
    "def unet_1d_custom(input_shape, num_classes) :\n",
    "    inputs = layers.Input(shape=input_shape)\n",
    "    \n",
    "    # 인코더\n",
    "    c1 = layers.Conv1D(128, kernel_size=3, activation='relu', padding='same')(inputs)\n",
    "    c1 = layers.Conv1D(128, kernel_size=3, activation='relu', padding='same')(c1)\n",
    "    p1 = layers.Conv1D(128, kernel_size=3, strides=2, activation='relu', padding='same')(c1)  # 다운샘플링\n",
    "\n",
    "    c2 = layers.Conv1D(64, kernel_size=3, activation='relu', padding='same')(p1)\n",
    "    c2 = layers.Conv1D(64, kernel_size=3, activation='relu', padding='same')(c2)\n",
    "    p2 = layers.Conv1D(64, kernel_size=3, strides=2, activation='relu', padding='same')(c2)  # 다운샘플링\n",
    "\n",
    "    c3 = layers.Conv1D(32, kernel_size=3, activation='relu', padding='same')(p2)\n",
    "    c3 = layers.Conv1D(32, kernel_size=3, activation='relu', padding='same')(c3)\n",
    "    p3 = layers.Conv1D(32, kernel_size=3, strides=2, activation='relu', padding='same')(c3)  # 다운샘플링\n",
    "\n",
    "    # 보틀넥\n",
    "    b1 = layers.Conv1D(16, kernel_size=3, activation='relu', padding='same')(p3)\n",
    "    b1 = layers.Conv1D(16, kernel_size=3, activation='relu', padding='same')(b1)\n",
    "\n",
    "    # 디코더\n",
    "    u3 = layers.Conv1DTranspose(32, kernel_size=2, strides=2, padding='same')(b1)  # 업샘플링\n",
    "    \n",
    "    if u3.shape[1] != c3.shape[1] :\n",
    "        diff = c3.shape[1] - u3.shape[1]\n",
    "        \n",
    "        if diff > 0 :\n",
    "            u3 = layers.ZeroPadding1D(padding=(0, diff))(u3)\n",
    "            \n",
    "        else :\n",
    "            u3 = layers.Cropping1D(cropping=(0, -diff))(u3)\n",
    "            \n",
    "    u3 = layers.concatenate([u3, c3], axis=-1)  # 인코더와 연결\n",
    "    c7 = layers.Conv1D(32, kernel_size=3, activation='relu', padding='same')(u3)\n",
    "    c7 = layers.Conv1D(32, kernel_size=3, activation='relu', padding='same')(c7)\n",
    "\n",
    "    u4 = layers.Conv1DTranspose(64, kernel_size=2, strides=2, padding='same')(c7)  # 업샘플링\n",
    "    if u4.shape[1] != c2.shape[1] :\n",
    "        diff = c2.shape[1] - u4.shape[1]\n",
    "        \n",
    "        if diff > 0 :\n",
    "            u4 = layers.ZeroPadding1D(padding=(0, diff))(u4)\n",
    "            \n",
    "        else :\n",
    "            u4 = layers.Cropping1D(cropping=(0, -diff))(u4)\n",
    "            \n",
    "    u4 = layers.concatenate([u4, c2], axis=-1)  # 인코더와 연결\n",
    "    c8 = layers.Conv1D(64, kernel_size=3, activation='relu', padding='same')(u4)\n",
    "    c8 = layers.Conv1D(64, kernel_size=3, activation='relu', padding='same')(c8)\n",
    "\n",
    "    u5 = layers.Conv1DTranspose(128, kernel_size=2, strides=2, padding='same')(c8)  # 업샘플링\n",
    "    if u5.shape[1] != c1.shape[1] :\n",
    "        diff = c1.shape[1] - u5.shape[1]\n",
    "        \n",
    "        if diff > 0 :\n",
    "            u5 = layers.ZeroPadding1D(padding=(0, diff))(u5)\n",
    "            \n",
    "        else :\n",
    "            u5 = layers.Cropping1D(cropping=(0, -diff))(u5)\n",
    "            \n",
    "    u5 = layers.concatenate([u5, c1], axis=-1)  # 인코더와 연결\n",
    "    c9 = layers.Conv1D(128, kernel_size=3, activation='relu', padding='same')(u5)\n",
    "    c9 = layers.Conv1D(128, kernel_size=3, activation='relu', padding='same')(c9)\n",
    "\n",
    "    # 출력층 \n",
    "    outputs = layers.Conv1D(num_classes, kernel_size=1, activation='softmax')(c9)\n",
    "    outputs = layers.Flatten()(outputs)\n",
    "    outputs = layers.Dense(num_classes, activation='softmax')(outputs)\n",
    "\n",
    "    model = models.Model(inputs=[inputs], outputs=[outputs])\n",
    "    \n",
    "    return model\n",
    "\n",
    "# 모델 생성\n",
    "input_shape = (6, 1)  # 길이 6, 채널 1인 입력 데이터\n",
    "num_classes = 12\n",
    "model = unet_1d_custom(input_shape=input_shape, num_classes=num_classes)\n",
    "\n",
    "model.summary()\n",
    "keras.utils.plot_model(model, show_dtype=True,\n",
    "                      show_layer_activations=True,\n",
    "                      show_layer_names=True,\n",
    "                      show_shapes=True,\n",
    "                      show_trainable=True)"
   ]
  },
  {
   "cell_type": "code",
   "execution_count": null,
   "id": "bb825653",
   "metadata": {
    "ExecuteTime": {
     "start_time": "2024-08-28T15:38:26.705Z"
    }
   },
   "outputs": [],
   "source": [
    "# compile\n",
    "\n",
    "from tensorflow.keras.losses import SparseCategoricalCrossentropy\n",
    "\n",
    "adam = keras.optimizers.Adam()\n",
    "model.compile(optimizer=adam, \n",
    "              loss=SparseCategoricalCrossentropy(from_logits=False), \n",
    "              metrics='accuracy')"
   ]
  },
  {
   "cell_type": "code",
   "execution_count": null,
   "id": "178a3724",
   "metadata": {
    "ExecuteTime": {
     "start_time": "2024-08-28T15:38:26.707Z"
    }
   },
   "outputs": [],
   "source": [
    "# fit\n",
    "\n",
    "early_stopping_cb = keras.callbacks.EarlyStopping(patience=3, \n",
    "                                                restore_best_weights=True)\n",
    "\n",
    "history = model.fit(X_train_unet, y_train, epochs=100, \n",
    "                    validation_data=(X_val_unet, y_val), \n",
    "                    callbacks=early_stopping_cb, \n",
    "                    batch_size=512,\n",
    "                    verbose=True)"
   ]
  },
  {
   "cell_type": "code",
   "execution_count": null,
   "id": "e7b47409",
   "metadata": {
    "ExecuteTime": {
     "start_time": "2024-08-28T15:38:26.708Z"
    }
   },
   "outputs": [],
   "source": [
    "# history 그리고 loss 시각화\n",
    "\n",
    "print (history.history)\n",
    "\n",
    "plt.plot(history.history['loss'])\n",
    "plt.plot(history.history['val_loss'])\n",
    "plt.xlabel('number of epoch')\n",
    "plt.ylabel('loss')\n",
    "plt.legend (['train loss', 'validation loss'])\n",
    "plt.show() "
   ]
  },
  {
   "cell_type": "code",
   "execution_count": null,
   "id": "d422e32c",
   "metadata": {
    "ExecuteTime": {
     "start_time": "2024-08-28T15:38:26.710Z"
    }
   },
   "outputs": [],
   "source": [
    "# evaluate\n",
    "\n",
    "model.evaluate(X_val_unet, y_val)"
   ]
  },
  {
   "cell_type": "code",
   "execution_count": null,
   "id": "0675d6d7",
   "metadata": {
    "ExecuteTime": {
     "start_time": "2024-08-28T15:38:26.711Z"
    }
   },
   "outputs": [],
   "source": [
    "# confusion matrix 및 report\n",
    "# validation dataset과 test dataset을 따로 report 및 matrix drawing\n",
    "\n",
    "y_val_pred = model.predict(X_val_unet)\n",
    "y_test_pred = model.predict(X_test_unet)\n",
    "\n",
    "y_val_pred_classes = np.argmax(y_val_pred, axis=1)\n",
    "y_test_pred_classes = np.argmax(y_test_pred, axis=1)\n",
    "\n",
    "############\n",
    "\n",
    "cm_val = confusion_matrix(y_val, y_val_pred_classes)\n",
    "print (\"- validation data confusion matrix -\\n\")\n",
    "print (cm_val)\n",
    "\n",
    "print ('\\n --------------- \\n')\n",
    "\n",
    "cm_test = confusion_matrix(y_test, y_test_pred_classes)\n",
    "print (\"- test data confusion matrix -\\n\")\n",
    "print (cm_test)\n",
    "\n",
    "print ('\\n --------------- \\n')\n",
    "\n",
    "cr_val = classification_report(y_val, y_val_pred_classes)\n",
    "print (\"- validation data report of classification -\\n\")\n",
    "print (cr_val)\n",
    "\n",
    "print ('\\n --------------- \\n')\n",
    "\n",
    "cr_test = classification_report(y_test, y_test_pred_classes)\n",
    "print (\"- test data report of classification -\\n\")\n",
    "print (cr_test)\n",
    "\n",
    "print ('\\n --------------- \\n')"
   ]
  },
  {
   "cell_type": "code",
   "execution_count": null,
   "id": "68f75a4c",
   "metadata": {},
   "outputs": [],
   "source": []
  },
  {
   "cell_type": "code",
   "execution_count": null,
   "id": "ee18fd3f",
   "metadata": {},
   "outputs": [],
   "source": []
  },
  {
   "cell_type": "code",
   "execution_count": null,
   "id": "fb7dba16",
   "metadata": {},
   "outputs": [],
   "source": []
  }
 ],
 "metadata": {
  "kernelspec": {
   "display_name": "Python 3 (ipykernel)",
   "language": "python",
   "name": "python3"
  },
  "language_info": {
   "codemirror_mode": {
    "name": "ipython",
    "version": 3
   },
   "file_extension": ".py",
   "mimetype": "text/x-python",
   "name": "python",
   "nbconvert_exporter": "python",
   "pygments_lexer": "ipython3",
   "version": "3.11.6"
  },
  "toc": {
   "base_numbering": 1,
   "nav_menu": {},
   "number_sections": false,
   "sideBar": true,
   "skip_h1_title": false,
   "title_cell": "Table of Contents",
   "title_sidebar": "Contents",
   "toc_cell": false,
   "toc_position": {},
   "toc_section_display": true,
   "toc_window_display": false
  }
 },
 "nbformat": 4,
 "nbformat_minor": 5
}
