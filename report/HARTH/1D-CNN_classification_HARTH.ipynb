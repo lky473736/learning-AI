{
 "cells": [
  {
   "cell_type": "markdown",
   "id": "107b53a8",
   "metadata": {},
   "source": [
    "## learning-AI101 : HARTH classification (DL)\n",
    "### The Human Activity Recognition Trondheim (HARTH)를 CNN 1D 방식의 classification\n",
    "\n",
    "<br>\n",
    "\n",
    "- **임규연 (lky473736)**\n",
    "- 2024.08.04., 2024.08.23. ~ 2024.09.01.에 문서 작성\n",
    "- **dataset** : https://archive.ics.uci.edu/dataset/779/harth\n",
    "- **data abstract** : The Human Activity Recognition Trondheim (HARTH) dataset is a professionally-annotated dataset containing 22 subjects wearing two 3-axial accelerometers for around 2 hours in a free-living setting. The sensors were attached to the right thigh and lower back. The professional recordings and annotations provide a promising benchmark dataset for researchers to develop innovative machine learning approaches for precise HAR in free living.\n",
    "\n",
    "------"
   ]
  },
  {
   "cell_type": "markdown",
   "id": "76d1df0c",
   "metadata": {},
   "source": [
    "\n",
    "\n",
    "## <span id='dl'><mark>DL</mark></span>\n",
    "    \n",
    "deep learning으로 HARTH을 classification한다. **1D-CNN을 통하여 classification한다.**"
   ]
  },
  {
   "cell_type": "code",
   "execution_count": 1,
   "id": "0cc32d6f",
   "metadata": {
    "ExecuteTime": {
     "end_time": "2024-08-29T14:21:17.234562Z",
     "start_time": "2024-08-29T14:21:11.157600Z"
    }
   },
   "outputs": [
    {
     "name": "stderr",
     "output_type": "stream",
     "text": [
      "2024-08-29 23:21:15.102790: I tensorflow/core/platform/cpu_feature_guard.cc:182] This TensorFlow binary is optimized to use available CPU instructions in performance-critical operations.\n",
      "To enable the following instructions: AVX2 FMA, in other operations, rebuild TensorFlow with the appropriate compiler flags.\n"
     ]
    }
   ],
   "source": [
    "# 라이브러리 import\n",
    "\n",
    "import numpy as np\n",
    "import pandas as pd\n",
    "import seaborn as sns\n",
    "import tensorflow as tf\n",
    "import matplotlib.pyplot as plt\n",
    "import seaborn as sns\n",
    "from tensorflow import keras\n",
    "from sklearn.model_selection import train_test_split\n",
    "from sklearn.preprocessing import StandardScaler, LabelEncoder"
   ]
  },
  {
   "cell_type": "code",
   "execution_count": 2,
   "id": "580a6c60",
   "metadata": {
    "ExecuteTime": {
     "end_time": "2024-08-29T14:22:06.954881Z",
     "start_time": "2024-08-29T14:21:56.077348Z"
    }
   },
   "outputs": [
    {
     "name": "stdout",
     "output_type": "stream",
     "text": [
      "['../../data/harth/S016.csv', '../../data/harth/S017.csv', '../../data/harth/S029.csv', '../../data/harth/S015.csv', '../../data/harth/S014.csv', '../../data/harth/S028.csv', '../../data/harth/S010.csv', '../../data/harth/S013.csv', '../../data/harth/S012.csv', '../../data/harth/S006.csv', '../../data/harth/S023.csv', '../../data/harth/S022.csv', '../../data/harth/S008.csv', '../../data/harth/S020.csv', '../../data/harth/S021.csv', '../../data/harth/S009.csv', '../../data/harth/S025.csv', '../../data/harth/S019.csv', '../../data/harth/S018.csv', '../../data/harth/S024.csv', '../../data/harth/S026.csv', '../../data/harth/S027.csv']\n"
     ]
    },
    {
     "data": {
      "text/html": [
       "<div>\n",
       "<style scoped>\n",
       "    .dataframe tbody tr th:only-of-type {\n",
       "        vertical-align: middle;\n",
       "    }\n",
       "\n",
       "    .dataframe tbody tr th {\n",
       "        vertical-align: top;\n",
       "    }\n",
       "\n",
       "    .dataframe thead th {\n",
       "        text-align: right;\n",
       "    }\n",
       "</style>\n",
       "<table border=\"1\" class=\"dataframe\">\n",
       "  <thead>\n",
       "    <tr style=\"text-align: right;\">\n",
       "      <th></th>\n",
       "      <th>timestamp</th>\n",
       "      <th>back_x</th>\n",
       "      <th>back_y</th>\n",
       "      <th>back_z</th>\n",
       "      <th>thigh_x</th>\n",
       "      <th>thigh_y</th>\n",
       "      <th>thigh_z</th>\n",
       "      <th>label</th>\n",
       "      <th>index</th>\n",
       "      <th>Unnamed: 0</th>\n",
       "    </tr>\n",
       "  </thead>\n",
       "  <tbody>\n",
       "    <tr>\n",
       "      <th>0</th>\n",
       "      <td>2019-01-12 00:00:00.000</td>\n",
       "      <td>-0.982201</td>\n",
       "      <td>-0.031251</td>\n",
       "      <td>0.178300</td>\n",
       "      <td>-0.935149</td>\n",
       "      <td>0.006160</td>\n",
       "      <td>-0.358898</td>\n",
       "      <td>6</td>\n",
       "      <td>NaN</td>\n",
       "      <td>NaN</td>\n",
       "    </tr>\n",
       "    <tr>\n",
       "      <th>1</th>\n",
       "      <td>2019-01-12 00:00:00.020</td>\n",
       "      <td>-0.973421</td>\n",
       "      <td>-0.042747</td>\n",
       "      <td>0.190618</td>\n",
       "      <td>-0.934986</td>\n",
       "      <td>0.040489</td>\n",
       "      <td>-0.366376</td>\n",
       "      <td>6</td>\n",
       "      <td>NaN</td>\n",
       "      <td>NaN</td>\n",
       "    </tr>\n",
       "    <tr>\n",
       "      <th>2</th>\n",
       "      <td>2019-01-12 00:00:00.040</td>\n",
       "      <td>-0.977409</td>\n",
       "      <td>-0.033531</td>\n",
       "      <td>0.185584</td>\n",
       "      <td>-0.939761</td>\n",
       "      <td>0.028617</td>\n",
       "      <td>-0.370106</td>\n",
       "      <td>6</td>\n",
       "      <td>NaN</td>\n",
       "      <td>NaN</td>\n",
       "    </tr>\n",
       "    <tr>\n",
       "      <th>3</th>\n",
       "      <td>2019-01-12 00:00:00.060</td>\n",
       "      <td>-0.974620</td>\n",
       "      <td>-0.034506</td>\n",
       "      <td>0.188868</td>\n",
       "      <td>-0.939667</td>\n",
       "      <td>0.036060</td>\n",
       "      <td>-0.369624</td>\n",
       "      <td>6</td>\n",
       "      <td>NaN</td>\n",
       "      <td>NaN</td>\n",
       "    </tr>\n",
       "    <tr>\n",
       "      <th>4</th>\n",
       "      <td>2019-01-12 00:00:00.080</td>\n",
       "      <td>-0.976828</td>\n",
       "      <td>-0.041577</td>\n",
       "      <td>0.186524</td>\n",
       "      <td>-0.946145</td>\n",
       "      <td>0.030512</td>\n",
       "      <td>-0.363411</td>\n",
       "      <td>6</td>\n",
       "      <td>NaN</td>\n",
       "      <td>NaN</td>\n",
       "    </tr>\n",
       "  </tbody>\n",
       "</table>\n",
       "</div>"
      ],
      "text/plain": [
       "                 timestamp    back_x    back_y    back_z   thigh_x   thigh_y  \\\n",
       "0  2019-01-12 00:00:00.000 -0.982201 -0.031251  0.178300 -0.935149  0.006160   \n",
       "1  2019-01-12 00:00:00.020 -0.973421 -0.042747  0.190618 -0.934986  0.040489   \n",
       "2  2019-01-12 00:00:00.040 -0.977409 -0.033531  0.185584 -0.939761  0.028617   \n",
       "3  2019-01-12 00:00:00.060 -0.974620 -0.034506  0.188868 -0.939667  0.036060   \n",
       "4  2019-01-12 00:00:00.080 -0.976828 -0.041577  0.186524 -0.946145  0.030512   \n",
       "\n",
       "    thigh_z  label  index  Unnamed: 0  \n",
       "0 -0.358898      6    NaN         NaN  \n",
       "1 -0.366376      6    NaN         NaN  \n",
       "2 -0.370106      6    NaN         NaN  \n",
       "3 -0.369624      6    NaN         NaN  \n",
       "4 -0.363411      6    NaN         NaN  "
      ]
     },
     "execution_count": 2,
     "metadata": {},
     "output_type": "execute_result"
    }
   ],
   "source": [
    "# records 병합\n",
    "\n",
    "import glob\n",
    "\n",
    "directory_path = '../../data/harth'\n",
    "\n",
    "# 모든 CSV 파일의 경로를 가져오기\n",
    "all_files = glob.glob(directory_path + \"/*.csv\")\n",
    "\n",
    "print (all_files)\n",
    "\n",
    "# 데이터프레임을 담을 빈 리스트 생성\n",
    "df_list = []\n",
    "\n",
    "# 모든 파일을 순회하며 데이터프레임에 추가\n",
    "for filename in all_files :\n",
    "    df = pd.read_csv(filename)  \n",
    "    df_list.append(df) \n",
    "\n",
    "merged_df = pd.concat(df_list, ignore_index=True) # 병합 (header는 ignore)\n",
    "df = merged_df\n",
    "\n",
    "df.head()"
   ]
  },
  {
   "cell_type": "code",
   "execution_count": 3,
   "id": "bd3d8ad2",
   "metadata": {
    "ExecuteTime": {
     "end_time": "2024-08-29T14:22:07.170242Z",
     "start_time": "2024-08-29T14:22:06.957213Z"
    }
   },
   "outputs": [
    {
     "name": "stdout",
     "output_type": "stream",
     "text": [
      "현재 attribute :  Index(['back_x', 'back_y', 'back_z', 'thigh_x', 'thigh_y', 'thigh_z', 'label'], dtype='object')\n"
     ]
    }
   ],
   "source": [
    "# timestamp, index 삭제, unnamed 삭제\n",
    "\n",
    "try : \n",
    "    del df['timestamp']\n",
    "    del df['index']\n",
    "except : \n",
    "    pass\n",
    "\n",
    "df.drop(['Unnamed: 0'], axis = 1, inplace = True)\n",
    "print (\"현재 attribute : \", df.columns)"
   ]
  },
  {
   "cell_type": "code",
   "execution_count": 4,
   "id": "a2b60b45",
   "metadata": {
    "ExecuteTime": {
     "end_time": "2024-08-29T14:22:07.179858Z",
     "start_time": "2024-08-29T14:22:07.172156Z"
    }
   },
   "outputs": [
    {
     "name": "stdout",
     "output_type": "stream",
     "text": [
      "df 크기 :  (6461328, 7)\n",
      "<class 'pandas.core.frame.DataFrame'>\n",
      "RangeIndex: 6461328 entries, 0 to 6461327\n",
      "Data columns (total 7 columns):\n",
      " #   Column   Dtype  \n",
      "---  ------   -----  \n",
      " 0   back_x   float64\n",
      " 1   back_y   float64\n",
      " 2   back_z   float64\n",
      " 3   thigh_x  float64\n",
      " 4   thigh_y  float64\n",
      " 5   thigh_z  float64\n",
      " 6   label    int64  \n",
      "dtypes: float64(6), int64(1)\n",
      "memory usage: 345.1 MB\n"
     ]
    }
   ],
   "source": [
    "# df의 크기 및 info\n",
    "print(\"df 크기 : \", df.shape)\n",
    "df.info()"
   ]
  },
  {
   "cell_type": "code",
   "execution_count": 5,
   "id": "b93f49ef",
   "metadata": {
    "ExecuteTime": {
     "end_time": "2024-08-29T14:22:13.358761Z",
     "start_time": "2024-08-29T14:22:13.316902Z"
    }
   },
   "outputs": [
    {
     "data": {
      "text/plain": [
       "label\n",
       "7      2902703\n",
       "1      1197155\n",
       "6       743480\n",
       "8       428898\n",
       "13      393963\n",
       "2       291356\n",
       "3       254839\n",
       "4        76217\n",
       "5        67253\n",
       "14       55814\n",
       "130      41785\n",
       "140       7865\n",
       "Name: count, dtype: int64"
      ]
     },
     "execution_count": 5,
     "metadata": {},
     "output_type": "execute_result"
    }
   ],
   "source": [
    "# target의 class 도수를 확인 (숫자로)\n",
    "\n",
    "df['label'].value_counts()"
   ]
  },
  {
   "cell_type": "code",
   "execution_count": 6,
   "id": "0f1e302c",
   "metadata": {
    "ExecuteTime": {
     "end_time": "2024-08-29T14:22:19.804889Z",
     "start_time": "2024-08-29T14:22:19.285897Z"
    }
   },
   "outputs": [
    {
     "name": "stdout",
     "output_type": "stream",
     "text": [
      "[ 5  2  0  6  1  7  4  3  8 10  9 11]\n"
     ]
    }
   ],
   "source": [
    "# # iterrows를 사용하여 각 행에 접근\n",
    "\n",
    "# for index, row in df.iterrows() :\n",
    "#     compo_label = df.at[index, 'label']\n",
    "    \n",
    "#     if compo_label == 13 :\n",
    "#         df.at[index, 'label'] = 9\n",
    "        \n",
    "#     elif compo_label == 14 : \n",
    "#         df.at[index, 'label'] = 10\n",
    "        \n",
    "#     elif compo_label == 130 : \n",
    "#         df.at[index, 'label'] = 11\n",
    "        \n",
    "#     elif compo_label == 140 : \n",
    "#         df.at[index, 'label'] = 12\n",
    "\n",
    "df['label'] = df['label'].replace({13: 9, 14: 10, 130: 11, 140: 12})\n",
    "\n",
    "for_0_based = dict()\n",
    "for i in range (12) : \n",
    "    for_0_based[i+1] = i\n",
    "    \n",
    "df['label'] = df['label'].replace(for_0_based)\n",
    "\n",
    "# label 열의 고유값을 출력\n",
    "print (df['label'].unique())\n"
   ]
  },
  {
   "cell_type": "code",
   "execution_count": 7,
   "id": "c21ca460",
   "metadata": {
    "ExecuteTime": {
     "end_time": "2024-08-29T14:22:30.961685Z",
     "start_time": "2024-08-29T14:22:24.352592Z"
    }
   },
   "outputs": [],
   "source": [
    "# input과 target으로 split\n",
    "\n",
    "harth_input = df[['back_x', 'back_y', 'back_z', 'thigh_x', 'thigh_y', 'thigh_z']].to_numpy() \n",
    "harth_target = df['label'].to_numpy()\n",
    "\n",
    "# X_train, y_train, X_test, y_test으로 train set, test set 각각 8:2로 split\n",
    "# 또한, X_train, y_train, X_val, y_val로 train set, validation set 각각 8:2로 split\n",
    "\n",
    "X_train, X_test, y_train, y_test = train_test_split(harth_input, harth_target, \n",
    "                                                   stratify=harth_target, \n",
    "                                                   test_size=0.2)\n",
    "\n",
    "X_train, X_val, y_train, y_val = train_test_split(X_train, y_train,\n",
    "                                                        test_size=0.2, \n",
    "                                                        stratify=y_train)"
   ]
  },
  {
   "cell_type": "code",
   "execution_count": 8,
   "id": "8e652abd",
   "metadata": {
    "ExecuteTime": {
     "end_time": "2024-08-29T14:22:31.672243Z",
     "start_time": "2024-08-29T14:22:30.964571Z"
    }
   },
   "outputs": [],
   "source": [
    "# StandardScaler을 통한 정규화 진행\n",
    "\n",
    "ss_transformer = StandardScaler()\n",
    "\n",
    "ss_transformer.fit(X_train)\n",
    "\n",
    "X_train_scaled = ss_transformer.transform(X_train)\n",
    "X_test_scaled = ss_transformer.transform(X_test)\n",
    "X_val_scaled = ss_transformer.transform(X_val)"
   ]
  },
  {
   "cell_type": "code",
   "execution_count": 10,
   "id": "bd6718a6",
   "metadata": {
    "ExecuteTime": {
     "end_time": "2024-08-29T14:23:12.580882Z",
     "start_time": "2024-08-29T14:23:12.575275Z"
    }
   },
   "outputs": [
    {
     "data": {
      "text/plain": [
       "((4135249, 6, 1), (1292266, 6, 1), (1033813, 6, 1))"
      ]
     },
     "execution_count": 10,
     "metadata": {},
     "output_type": "execute_result"
    }
   ],
   "source": [
    "# X_train_scaled, X_test_scaled, X_val_scaled 데이터를 3차원 tensor로 전환한다.\n",
    "\n",
    "X_train_cnn = X_train_scaled.reshape((X_train_scaled.shape[0], \n",
    "                                           X_train_scaled.shape[1], \n",
    "                                           1))\n",
    "\n",
    "X_test_cnn = X_test_scaled.reshape((X_test_scaled.shape[0], \n",
    "                                         X_test_scaled.shape[1], \n",
    "                                         1))\n",
    "\n",
    "X_val_cnn = X_val_scaled.reshape((X_val_scaled.shape[0], \n",
    "                                       X_val_scaled.shape[1], \n",
    "                                       1))\n",
    "\n",
    "X_train_cnn.shape, X_test_cnn.shape, X_val_cnn.shape"
   ]
  },
  {
   "cell_type": "markdown",
   "id": "f02227e6",
   "metadata": {},
   "source": [
    "-------\n",
    "\n",
    "### CNN (1D)\n",
    "- convolution을 통하여 중요한 feature만 도드라지게 하여 학습을 진행한다.\n",
    "- 아래와 같이 dataset을 구성한다.\n",
    "    - tensor로 전환하여 Conv1D layer로 convolution을 시행할 수 있을 것 같다. 아래와 같이 전환한다.\n",
    "        - 배치 크기 : row 갯수 (sample의 수)\n",
    "        - 길이 : feature 수 (col 수)\n",
    "        - 채널 : 1 (단일 채널)\n",
    "    - 전환 후 CNN 1d를 적용하여 main feature extraction 후 pooling을 진행한다.\n",
    "    - Conv, pooling을 2번 반복 후 dense layer를 두어 regression한다.\n",
    "        - 중간에 dropout 층을 배치하여 overfitting을 막고 학습에 신중하도록 한다.\n",
    "- 여기서는 poly set 대신 normal set을 사용하겠다."
   ]
  },
  {
   "cell_type": "code",
   "execution_count": 11,
   "id": "ad89d92f",
   "metadata": {
    "ExecuteTime": {
     "end_time": "2024-08-29T14:23:19.726055Z",
     "start_time": "2024-08-29T14:23:19.180703Z"
    }
   },
   "outputs": [
    {
     "name": "stdout",
     "output_type": "stream",
     "text": [
      "Model: \"model\"\n",
      "_________________________________________________________________\n",
      " Layer (type)                Output Shape              Param #   \n",
      "=================================================================\n",
      " input_1 (InputLayer)        [(None, 6, 1)]            0         \n",
      "                                                                 \n",
      " conv1d (Conv1D)             (None, 6, 32)             128       \n",
      "                                                                 \n",
      " max_pooling1d (MaxPooling1  (None, 3, 32)             0         \n",
      " D)                                                              \n",
      "                                                                 \n",
      " dropout (Dropout)           (None, 3, 32)             0         \n",
      "                                                                 \n",
      " conv1d_1 (Conv1D)           (None, 3, 64)             6208      \n",
      "                                                                 \n",
      " max_pooling1d_1 (MaxPoolin  (None, 1, 64)             0         \n",
      " g1D)                                                            \n",
      "                                                                 \n",
      " dropout_1 (Dropout)         (None, 1, 64)             0         \n",
      "                                                                 \n",
      " flatten (Flatten)           (None, 64)                0         \n",
      "                                                                 \n",
      " dense (Dense)               (None, 32)                2080      \n",
      "                                                                 \n",
      " batch_normalization (Batch  (None, 32)                128       \n",
      " Normalization)                                                  \n",
      "                                                                 \n",
      " dropout_2 (Dropout)         (None, 32)                0         \n",
      "                                                                 \n",
      " dense_1 (Dense)             (None, 16)                528       \n",
      "                                                                 \n",
      " dense_2 (Dense)             (None, 12)                204       \n",
      "                                                                 \n",
      "=================================================================\n",
      "Total params: 9276 (36.23 KB)\n",
      "Trainable params: 9212 (35.98 KB)\n",
      "Non-trainable params: 64 (256.00 Byte)\n",
      "_________________________________________________________________\n"
     ]
    },
    {
     "data": {
      "image/png": "[encoded data removed]",
      "text/plain": [
       "<IPython.core.display.Image object>"
      ]
     },
     "execution_count": 11,
     "metadata": {},
     "output_type": "execute_result"
    }
   ],
   "source": [
    "# modelling (functional API 방식)\n",
    "\n",
    "# 입력 레이어\n",
    "input_layer = keras.Input(shape=(X_train_scaled.shape[1], 1))\n",
    "\n",
    "# 첫 번째 Conv1D 레이어 + MaxPooling1D + Dropout\n",
    "conv_1 = keras.layers.Conv1D(32, kernel_size=3, activation='relu', padding='same')(input_layer)\n",
    "pooling_1 = keras.layers.MaxPooling1D(2)(conv_1)\n",
    "dropout_1 = keras.layers.Dropout(0.4)(pooling_1)\n",
    "\n",
    "# 두 번째 Conv1D 레이어 + MaxPooling1D + Dropout\n",
    "conv_2 = keras.layers.Conv1D(64, kernel_size=3, activation='relu', padding='same')(dropout_1)\n",
    "pooling_2 = keras.layers.MaxPooling1D(2)(conv_2)\n",
    "dropout_2 = keras.layers.Dropout(0.4)(pooling_2)\n",
    "\n",
    "# Flatten 레이어\n",
    "flatten = keras.layers.Flatten()(dropout_2)\n",
    "\n",
    "# 첫 번째 Dense 레이어 + Batch Normalization + Dropout\n",
    "dense_1 = keras.layers.Dense(32, activation='relu')(flatten)\n",
    "batchnorm_1 = keras.layers.BatchNormalization()(dense_1)\n",
    "dropout_3 = keras.layers.Dropout(0.3)(batchnorm_1)\n",
    "\n",
    "# 두 번째 Dense 레이어\n",
    "dense_2 = keras.layers.Dense(16, activation='relu')(dropout_3)\n",
    "\n",
    "# 출력 레이어\n",
    "output_layer = keras.layers.Dense(12, activation='softmax')(dense_2)\n",
    "\n",
    "# model = keras.Model(\n",
    "#     input_layer,\n",
    "#     conv_1,\n",
    "#     pooling_1,\n",
    "#     conv_2,\n",
    "#     pooling_2,\n",
    "#     flatten,\n",
    "#     dense_1,\n",
    "#     dropout_1,\n",
    "#     dense_2,\n",
    "#     dropout_2,\n",
    "#     dense_3,\n",
    "#     output_layer\n",
    "# )\n",
    "\n",
    "model = keras.Model(inputs=input_layer, outputs=output_layer)\n",
    "\n",
    "model.summary()\n",
    "keras.utils.plot_model(model, show_shapes=True, show_layer_activations=True)"
   ]
  },
  {
   "cell_type": "code",
   "execution_count": null,
   "id": "130e9a83",
   "metadata": {},
   "outputs": [],
   "source": [
    "# compile\n",
    "\n",
    "adam = keras.optimizers.Adam(learning_rate=0.001)\n",
    "model.compile (optimizer=adam, loss='sparse_categorical_crossentropy', metrics=['accuracy'])"
   ]
  },
  {
   "cell_type": "code",
   "execution_count": null,
   "id": "12fa176a",
   "metadata": {},
   "outputs": [],
   "source": [
    "# fit\n",
    "\n",
    "early_stopping_cb = keras.callbacks.EarlyStopping(patience=3, \n",
    "                                                restore_best_weights=True)\n",
    "\n",
    "history = model.fit(X_train_cnn, y_train, epochs=100, \n",
    "                    validation_data=(X_val_cnn, y_val), batch_size=512, \n",
    "                    callbacks=early_stopping_cb, \n",
    "                    verbose=True)"
   ]
  },
  {
   "cell_type": "code",
   "execution_count": null,
   "id": "a9ccac8f",
   "metadata": {},
   "outputs": [],
   "source": [
    "# history 그리고 loss 시각화\n",
    "\n",
    "print (history.history)\n",
    "\n",
    "plt.plot(history.history['loss'])\n",
    "plt.plot(history.history['val_loss'])\n",
    "plt.xlabel('number of epoch')\n",
    "plt.ylabel('loss')\n",
    "plt.legend (['train loss', 'validation loss'])\n",
    "plt.show() "
   ]
  },
  {
   "cell_type": "code",
   "execution_count": null,
   "id": "59f222d5",
   "metadata": {},
   "outputs": [],
   "source": [
    "# evaluate\n",
    "\n",
    "model.evaluate(X_val_cnn, y_val)"
   ]
  },
  {
   "cell_type": "code",
   "execution_count": null,
   "id": "7c441c7f",
   "metadata": {},
   "outputs": [],
   "source": [
    "# confusion matrix 및 report\n",
    "# validation dataset과 test dataset을 따로 report 및 matrix drawing\n",
    "\n",
    "from sklearn.metrics import classification_report, confusion_matrix\n",
    "\n",
    "y_val_pred = model.predict(X_val_cnn)\n",
    "y_test_pred = model.predict(X_test_cnn)\n",
    "\n",
    "y_val_pred_classes = np.argmax(y_val_pred, axis=1)\n",
    "y_test_pred_classes = np.argmax(y_test_pred, axis=1)\n",
    "\n",
    "############\n",
    "\n",
    "cm_val = confusion_matrix(y_val, y_val_pred_classes)\n",
    "print (\"- validation data confusion matrix -\\n\")\n",
    "print (cm_val)\n",
    "\n",
    "print ('\\n --------------- \\n')\n",
    "\n",
    "cm_test = confusion_matrix(y_test, y_test_pred_classes)\n",
    "print (\"- test data confusion matrix -\\n\")\n",
    "print (cm_test)\n",
    "\n",
    "print ('\\n --------------- \\n')\n",
    "\n",
    "cr_val = classification_report(y_val, y_val_pred_classes)\n",
    "print (\"- validation data report of classification -\\n\")\n",
    "print (cr_val)\n",
    "\n",
    "print ('\\n --------------- \\n')\n",
    "\n",
    "cr_test = classification_report(y_test, y_test_pred_classes)\n",
    "print (\"- test data report of classification -\\n\")\n",
    "print (cr_test)\n",
    "\n",
    "print ('\\n --------------- \\n')"
   ]
  },
  {
   "cell_type": "markdown",
   "id": "3a39d3e6",
   "metadata": {},
   "source": [
    "----\n",
    "\n",
    "하지만, 위 결과를 잘 생각해보자. **CNN을 진행 시에 split_sequence로 순환형 데이터를 만들지 않고, 단지 df에서 reshape한 형태로만 학습을 진행했다.** 이는 그저 **DNN과 다름이 없을 뿐**이니, split_sequence 함수를 사용하여 데이터를 순환형으로 만든 후에 다시 학습을 진행한다. split_sequence를 아래와 같이 정의하자."
   ]
  },
  {
   "cell_type": "code",
   "execution_count": null,
   "id": "b14ca680",
   "metadata": {},
   "outputs": [],
   "source": [
    "def split_sequence (sequences, n_steps) :\n",
    "    X, y = [], [] \n",
    "    \n",
    "    for i in range(len(sequences)) :\n",
    "        end_ix = i + n_steps\n",
    "        if end_ix > len(sequences)-1 :\n",
    "            break\n",
    "            \n",
    "        seq_x, seq_y = sequences[i:end_ix, :-1], sequences[end_ix, -1]\n",
    "        \n",
    "        X.append(seq_x)\n",
    "        y.append(seq_y)\n",
    "        \n",
    "    return np.array(X), np.array(y)"
   ]
  },
  {
   "cell_type": "code",
   "execution_count": null,
   "id": "f39e01d9",
   "metadata": {},
   "outputs": [],
   "source": [
    "# sequential data로 변경 (여기서의 타임 스텝은 300으로)\n",
    "\n",
    "n_steps = 300\n",
    "\n",
    "X_train_seq, y_train_seq = split_sequence (np.column_stack((X_train_scaled, y_train)), n_steps)\n",
    "X_test_seq, y_test_seq = split_sequence (np.column_stack((X_test_scaled, y_test)), n_steps)\n",
    "X_val_seq, y_val_seq = split_sequence (np.column_stack((X_val_scaled, y_val)), n_steps)"
   ]
  },
  {
   "cell_type": "code",
   "execution_count": null,
   "id": "b798075d",
   "metadata": {},
   "outputs": [],
   "source": [
    "# 다시 modelling\n",
    "\n",
    "# 입력 레이어\n",
    "input_layer = keras.Input(shape=(X_train_seq.shape[1], X_train_seq.shape[2]))\n",
    "\n",
    "# 첫 번째 Conv1D 레이어 + MaxPooling1D + Dropout\n",
    "conv_1 = keras.layers.Conv1D(64, kernel_size=3, activation='relu', padding='same')(input_layer)\n",
    "pooling_1 = keras.layers.MaxPooling1D(2)(conv_1)\n",
    "dropout_1 = keras.layers.Dropout(0.4)(pooling_1)\n",
    "\n",
    "# 두 번째 Conv1D 레이어 + MaxPooling1D + Dropout\n",
    "conv_2 = keras.layers.Conv1D(64, kernel_size=3, activation='relu', padding='same')(dropout_1)\n",
    "pooling_2 = keras.layers.MaxPooling1D(2)(conv_2)\n",
    "dropout_2 = keras.layers.Dropout(0.4)(pooling_2)\n",
    "\n",
    "# Flatten 레이어\n",
    "flatten = keras.layers.Flatten()(dropout_2)\n",
    "\n",
    "# 첫 번째 Dense 레이어 + Batch Normalization + Dropout\n",
    "dense_1 = keras.layers.Dense(32, activation='relu')(flatten)\n",
    "batchnorm_1 = keras.layers.BatchNormalization()(dense_1)\n",
    "dropout_3 = keras.layers.Dropout(0.3)(batchnorm_1)\n",
    "\n",
    "# 두 번째 Dense 레이어\n",
    "dense_2 = keras.layers.Dense(16, activation='relu')(dropout_3)\n",
    "\n",
    "# 출력 레이어\n",
    "output_layer = keras.layers.Dense(12, activation='softmax')(dense_2)\n",
    "\n",
    "model = keras.Model(inputs=input_layer, outputs=output_layer)\n",
    "\n",
    "model.summary()\n",
    "keras.utils.plot_model(model, show_shapes=True, show_layer_activations=True)"
   ]
  },
  {
   "cell_type": "code",
   "execution_count": null,
   "id": "47222267",
   "metadata": {},
   "outputs": [],
   "source": [
    "# compile\n",
    "\n",
    "adam = keras.optimizers.Adam(learning_rate=0.001)\n",
    "model.compile (optimizer=adam, loss='sparse_categorical_crossentropy', metrics=['accuracy'])"
   ]
  },
  {
   "cell_type": "code",
   "execution_count": null,
   "id": "493c7070",
   "metadata": {},
   "outputs": [],
   "source": [
    "# fit\n",
    "\n",
    "early_stopping_cb = keras.callbacks.EarlyStopping(patience=3, \n",
    "                                                restore_best_weights=True)\n",
    "\n",
    "history = model.fit(X_train_seq, y_train_seq, epochs=100, \n",
    "                    validation_data=(X_val_seq, y_val_seq), batch_size=64, \n",
    "                    callbacks=early_stopping_cb, \n",
    "                    verbose=True)"
   ]
  },
  {
   "cell_type": "code",
   "execution_count": null,
   "id": "1338870d",
   "metadata": {},
   "outputs": [],
   "source": [
    "# history 그리고 loss 시각화\n",
    "\n",
    "print (history.history)\n",
    "\n",
    "plt.plot(history.history['loss'])\n",
    "plt.plot(history.history['val_loss'])\n",
    "plt.xlabel('number of epoch')\n",
    "plt.ylabel('loss')\n",
    "plt.legend (['train loss', 'validation loss'])\n",
    "plt.show() "
   ]
  },
  {
   "cell_type": "code",
   "execution_count": null,
   "id": "999c3e0e",
   "metadata": {},
   "outputs": [],
   "source": [
    "# evaluate\n",
    "\n",
    "model.evaluate(X_val_seq, y_val_seq)"
   ]
  },
  {
   "cell_type": "code",
   "execution_count": null,
   "id": "365bcc0b",
   "metadata": {},
   "outputs": [],
   "source": [
    "# confusion matrix 및 report\n",
    "# validation dataset과 test dataset을 따로 report 및 matrix drawing\n",
    "\n",
    "from sklearn.metrics import classification_report, confusion_matrix\n",
    "\n",
    "y_val_pred = model.predict(X_val_seq)\n",
    "y_test_pred = model.predict(X_test_seq)\n",
    "\n",
    "y_val_pred_classes = np.argmax(y_val_pred, axis=1)\n",
    "y_test_pred_classes = np.argmax(y_test_pred, axis=1)\n",
    "\n",
    "############\n",
    "\n",
    "cm_val = confusion_matrix(y_val, y_val_pred_classes)\n",
    "print (\"- validation data confusion matrix -\\n\")\n",
    "print (cm_val)\n",
    "\n",
    "print ('\\n --------------- \\n')\n",
    "\n",
    "cm_test = confusion_matrix(y_test, y_test_pred_classes)\n",
    "print (\"- test data confusion matrix -\\n\")\n",
    "print (cm_test)\n",
    "\n",
    "print ('\\n --------------- \\n')\n",
    "\n",
    "cr_val = classification_report(y_val, y_val_pred_classes)\n",
    "print (\"- validation data report of classification -\\n\")\n",
    "print (cr_val)\n",
    "\n",
    "print ('\\n --------------- \\n')\n",
    "\n",
    "cr_test = classification_report(y_test, y_test_pred_classes)\n",
    "print (\"- test data report of classification -\\n\")\n",
    "print (cr_test)\n",
    "\n",
    "print ('\\n --------------- \\n')"
   ]
  }
 ],
 "metadata": {
  "kernelspec": {
   "display_name": "Python 3 (ipykernel)",
   "language": "python",
   "name": "python3"
  },
  "language_info": {
   "codemirror_mode": {
    "name": "ipython",
    "version": 3
   },
   "file_extension": ".py",
   "mimetype": "text/x-python",
   "name": "python",
   "nbconvert_exporter": "python",
   "pygments_lexer": "ipython3",
   "version": "3.11.6"
  },
  "toc": {
   "base_numbering": 1,
   "nav_menu": {},
   "number_sections": false,
   "sideBar": true,
   "skip_h1_title": false,
   "title_cell": "Table of Contents",
   "title_sidebar": "Contents",
   "toc_cell": false,
   "toc_position": {},
   "toc_section_display": true,
   "toc_window_display": false
  }
 },
 "nbformat": 4,
 "nbformat_minor": 5
}
