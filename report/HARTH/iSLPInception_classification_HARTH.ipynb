{
 "cells": [
  {
   "cell_type": "markdown",
   "id": "a7b6ae38",
   "metadata": {},
   "source": [
    "## learning-AI101 : HARTH classification (DL)\n",
    "### The Human Activity Recognition Trondheim (HARTH)를 Inception model (GoogLeNet)을 통한 classification\n",
    "\n",
    "<br>\n",
    "\n",
    "- **임규연 (lky473736)**\n",
    "- 2024.09.01. ~ 2024.09.04.에 문서 작성\n",
    "- **dataset** : https://archive.ics.uci.edu/dataset/779/harth\n",
    "- **data abstract** : The Human Activity Recognition Trondheim (HARTH) dataset is a professionally-annotated dataset containing 22 subjects wearing two 3-axial accelerometers for around 2 hours in a free-living setting. The sensors were attached to the right thigh and lower back. The professional recordings and annotations provide a promising benchmark dataset for researchers to develop innovative machine learning approaches for precise HAR in free living.\n",
    "\n",
    "------\n",
    "\n",
    "\n",
    "## <span id='dl'><mark>DL</mark></span>\n",
    "    \n",
    "deep learning으로 HARTH을 classification한다. GoogLeNet (inception model)을 이용한다. **IEEE Sensor 저널에 등록된 <iSPLInception: Redefining the State-of-the-Art for Human Activity Recognition>에서 나온 모델 구조 및 소스코드를 참고하여 HARTH를 classification한다.**"
   ]
  },
  {
   "cell_type": "markdown",
   "id": "fc9d6ffc",
   "metadata": {},
   "source": [
    "- **Reference**\n",
    "    - https://github.com/MyungKyuYi/HAR/blob/main/iSPLInception_WISDM_0730.ipynb\n",
    "    - https://github.com/rmutegeki/iSPLInception\n",
    "    - https://github.com/healthDataScience/deep-learning-HAR/blob/master/HAR-CNN-Inception.ipynb\n",
    "    - https://ieeexplore.ieee.org/document/9425494"
   ]
  },
  {
   "cell_type": "code",
   "execution_count": 1,
   "id": "6576d364",
   "metadata": {
    "ExecuteTime": {
     "end_time": "2024-09-04T00:14:30.148369Z",
     "start_time": "2024-09-04T00:14:22.831814Z"
    }
   },
   "outputs": [
    {
     "name": "stderr",
     "output_type": "stream",
     "text": [
      "2024-09-04 09:14:27.041194: I tensorflow/core/platform/cpu_feature_guard.cc:210] This TensorFlow binary is optimized to use available CPU instructions in performance-critical operations.\n",
      "To enable the following instructions: AVX2 FMA, in other operations, rebuild TensorFlow with the appropriate compiler flags.\n"
     ]
    }
   ],
   "source": [
    "# 라이브러리 import\n",
    "\n",
    "import numpy as np\n",
    "import pandas as pd\n",
    "import seaborn as sns\n",
    "import tensorflow as tf\n",
    "import matplotlib.pyplot as plt\n",
    "import seaborn as sns\n",
    "from tensorflow import keras\n",
    "from sklearn.model_selection import train_test_split\n",
    "from sklearn.preprocessing import StandardScaler, LabelEncoder"
   ]
  },
  {
   "cell_type": "code",
   "execution_count": 2,
   "id": "eedcac30",
   "metadata": {
    "ExecuteTime": {
     "end_time": "2024-09-04T00:14:33.237987Z",
     "start_time": "2024-09-04T00:14:31.826775Z"
    }
   },
   "outputs": [
    {
     "name": "stdout",
     "output_type": "stream",
     "text": [
      "harth 디렉토리 내 파일의 이름 :  ['../../data/harth/S016.csv', '../../data/harth/S017.csv', '../../data/harth/S029.csv', '../../data/harth/S015.csv', '../../data/harth/S014.csv', '../../data/harth/S028.csv', '../../data/harth/S010.csv', '../../data/harth/S013.csv', '../../data/harth/S012.csv', '../../data/harth/S006.csv', '../../data/harth/S023.csv', '../../data/harth/S022.csv', '../../data/harth/S008.csv', '../../data/harth/S020.csv', '../../data/harth/S021.csv', '../../data/harth/S009.csv', '../../data/harth/S025.csv', '../../data/harth/S019.csv', '../../data/harth/S018.csv', '../../data/harth/S024.csv', '../../data/harth/S026.csv', '../../data/harth/S027.csv']\n",
      "\n",
      "(827698, 8)\n",
      "                 timestamp    back_x    back_y    back_z   thigh_x   thigh_y  \\\n",
      "0  2019-01-12 00:00:00.000 -0.760242  0.299570  0.468570 -5.092732 -0.298644   \n",
      "1  2019-01-12 00:00:00.010 -0.530138  0.281880  0.319987  0.900547  0.286944   \n",
      "2  2019-01-12 00:00:00.020 -1.170922  0.186353 -0.167010 -0.035442 -0.078423   \n",
      "3  2019-01-12 00:00:00.030 -0.648772  0.016579 -0.054284 -1.554248 -0.950978   \n",
      "4  2019-01-12 00:00:00.040 -0.355071 -0.051831 -0.113419 -0.547471  0.140903   \n",
      "\n",
      "    thigh_z  label  \n",
      "0  0.709439      6  \n",
      "1  0.340309      6  \n",
      "2 -0.515212      6  \n",
      "3 -0.221140      6  \n",
      "4 -0.653782      6  \n"
     ]
    }
   ],
   "source": [
    "'''\n",
    "    원래 모든 harth 디렉토리의 데이터파일을 병합한 데이터셋을 사용하려고 했으나, \n",
    "    records의 양이 많아 한 epoch 당 10분의 학습시간이 걸린다.\n",
    "    따라서, S006.csv, S008.csv를 병합하여 학습하도록 한다.\n",
    "'''\n",
    "\n",
    "import glob\n",
    "\n",
    "file_name = ['../../data/harth/' + compo for compo in ['S006.csv', 'S008.csv']]\n",
    "\n",
    "directory_path = '../../data/harth'\n",
    "\n",
    "# 모든 CSV 파일의 경로를 가져오기\n",
    "all_files = glob.glob(directory_path + \"/*.csv\")\n",
    "print (\"harth 디렉토리 내 파일의 이름 : \", all_files)\n",
    "\n",
    "# 데이터프레임을 담을 빈 리스트 생성\n",
    "df_list = []\n",
    "\n",
    "# 모든 파일을 순회하며 데이터프레임에 추가\n",
    "for filename in file_name :\n",
    "    df = pd.read_csv(filename)\n",
    "    df_list.append(df)\n",
    "\n",
    "merged_df = pd.concat(df_list, ignore_index=True)  # 병합 (header는 ignore)\n",
    "df = merged_df\n",
    "\n",
    "print ()\n",
    "print (df.shape)\n",
    "print (df.head())"
   ]
  },
  {
   "cell_type": "code",
   "execution_count": 3,
   "id": "5b9c0544",
   "metadata": {
    "ExecuteTime": {
     "end_time": "2024-09-04T00:42:52.517068Z",
     "start_time": "2024-09-04T00:42:52.476371Z"
    }
   },
   "outputs": [
    {
     "data": {
      "text/html": [
       "<div>\n",
       "<style scoped>\n",
       "    .dataframe tbody tr th:only-of-type {\n",
       "        vertical-align: middle;\n",
       "    }\n",
       "\n",
       "    .dataframe tbody tr th {\n",
       "        vertical-align: top;\n",
       "    }\n",
       "\n",
       "    .dataframe thead th {\n",
       "        text-align: right;\n",
       "    }\n",
       "</style>\n",
       "<table border=\"1\" class=\"dataframe\">\n",
       "  <thead>\n",
       "    <tr style=\"text-align: right;\">\n",
       "      <th></th>\n",
       "      <th>back_x</th>\n",
       "      <th>back_y</th>\n",
       "      <th>back_z</th>\n",
       "      <th>thigh_x</th>\n",
       "      <th>thigh_y</th>\n",
       "      <th>thigh_z</th>\n",
       "      <th>label</th>\n",
       "    </tr>\n",
       "  </thead>\n",
       "  <tbody>\n",
       "    <tr>\n",
       "      <th>0</th>\n",
       "      <td>-0.760242</td>\n",
       "      <td>0.299570</td>\n",
       "      <td>0.468570</td>\n",
       "      <td>-5.092732</td>\n",
       "      <td>-0.298644</td>\n",
       "      <td>0.709439</td>\n",
       "      <td>6</td>\n",
       "    </tr>\n",
       "    <tr>\n",
       "      <th>1</th>\n",
       "      <td>-0.530138</td>\n",
       "      <td>0.281880</td>\n",
       "      <td>0.319987</td>\n",
       "      <td>0.900547</td>\n",
       "      <td>0.286944</td>\n",
       "      <td>0.340309</td>\n",
       "      <td>6</td>\n",
       "    </tr>\n",
       "    <tr>\n",
       "      <th>2</th>\n",
       "      <td>-1.170922</td>\n",
       "      <td>0.186353</td>\n",
       "      <td>-0.167010</td>\n",
       "      <td>-0.035442</td>\n",
       "      <td>-0.078423</td>\n",
       "      <td>-0.515212</td>\n",
       "      <td>6</td>\n",
       "    </tr>\n",
       "    <tr>\n",
       "      <th>3</th>\n",
       "      <td>-0.648772</td>\n",
       "      <td>0.016579</td>\n",
       "      <td>-0.054284</td>\n",
       "      <td>-1.554248</td>\n",
       "      <td>-0.950978</td>\n",
       "      <td>-0.221140</td>\n",
       "      <td>6</td>\n",
       "    </tr>\n",
       "    <tr>\n",
       "      <th>4</th>\n",
       "      <td>-0.355071</td>\n",
       "      <td>-0.051831</td>\n",
       "      <td>-0.113419</td>\n",
       "      <td>-0.547471</td>\n",
       "      <td>0.140903</td>\n",
       "      <td>-0.653782</td>\n",
       "      <td>6</td>\n",
       "    </tr>\n",
       "    <tr>\n",
       "      <th>...</th>\n",
       "      <td>...</td>\n",
       "      <td>...</td>\n",
       "      <td>...</td>\n",
       "      <td>...</td>\n",
       "      <td>...</td>\n",
       "      <td>...</td>\n",
       "      <td>...</td>\n",
       "    </tr>\n",
       "    <tr>\n",
       "      <th>827693</th>\n",
       "      <td>-0.988998</td>\n",
       "      <td>-0.123216</td>\n",
       "      <td>-0.207160</td>\n",
       "      <td>-1.042779</td>\n",
       "      <td>-0.060467</td>\n",
       "      <td>-0.072847</td>\n",
       "      <td>3</td>\n",
       "    </tr>\n",
       "    <tr>\n",
       "      <th>827694</th>\n",
       "      <td>-1.010435</td>\n",
       "      <td>-0.119318</td>\n",
       "      <td>-0.231946</td>\n",
       "      <td>-0.927346</td>\n",
       "      <td>-0.089707</td>\n",
       "      <td>-0.047210</td>\n",
       "      <td>3</td>\n",
       "    </tr>\n",
       "    <tr>\n",
       "      <th>827695</th>\n",
       "      <td>-0.988791</td>\n",
       "      <td>-0.099315</td>\n",
       "      <td>-0.193497</td>\n",
       "      <td>-1.067241</td>\n",
       "      <td>0.001182</td>\n",
       "      <td>-0.091760</td>\n",
       "      <td>3</td>\n",
       "    </tr>\n",
       "    <tr>\n",
       "      <th>827696</th>\n",
       "      <td>-1.028768</td>\n",
       "      <td>-0.132392</td>\n",
       "      <td>-0.216164</td>\n",
       "      <td>-0.876475</td>\n",
       "      <td>-0.069528</td>\n",
       "      <td>-0.038416</td>\n",
       "      <td>3</td>\n",
       "    </tr>\n",
       "    <tr>\n",
       "      <th>827697</th>\n",
       "      <td>-0.953996</td>\n",
       "      <td>-0.106440</td>\n",
       "      <td>-0.192335</td>\n",
       "      <td>-1.185141</td>\n",
       "      <td>0.051942</td>\n",
       "      <td>-0.149504</td>\n",
       "      <td>3</td>\n",
       "    </tr>\n",
       "  </tbody>\n",
       "</table>\n",
       "<p>827698 rows × 7 columns</p>\n",
       "</div>"
      ],
      "text/plain": [
       "          back_x    back_y    back_z   thigh_x   thigh_y   thigh_z  label\n",
       "0      -0.760242  0.299570  0.468570 -5.092732 -0.298644  0.709439      6\n",
       "1      -0.530138  0.281880  0.319987  0.900547  0.286944  0.340309      6\n",
       "2      -1.170922  0.186353 -0.167010 -0.035442 -0.078423 -0.515212      6\n",
       "3      -0.648772  0.016579 -0.054284 -1.554248 -0.950978 -0.221140      6\n",
       "4      -0.355071 -0.051831 -0.113419 -0.547471  0.140903 -0.653782      6\n",
       "...          ...       ...       ...       ...       ...       ...    ...\n",
       "827693 -0.988998 -0.123216 -0.207160 -1.042779 -0.060467 -0.072847      3\n",
       "827694 -1.010435 -0.119318 -0.231946 -0.927346 -0.089707 -0.047210      3\n",
       "827695 -0.988791 -0.099315 -0.193497 -1.067241  0.001182 -0.091760      3\n",
       "827696 -1.028768 -0.132392 -0.216164 -0.876475 -0.069528 -0.038416      3\n",
       "827697 -0.953996 -0.106440 -0.192335 -1.185141  0.051942 -0.149504      3\n",
       "\n",
       "[827698 rows x 7 columns]"
      ]
     },
     "execution_count": 3,
     "metadata": {},
     "output_type": "execute_result"
    }
   ],
   "source": [
    "# timestamp 열 제거\n",
    "\n",
    "df = df.drop('timestamp', axis=1)\n",
    "df"
   ]
  },
  {
   "cell_type": "code",
   "execution_count": 4,
   "id": "a8edaafb",
   "metadata": {
    "ExecuteTime": {
     "end_time": "2024-09-04T00:42:58.072374Z",
     "start_time": "2024-09-04T00:42:58.061762Z"
    }
   },
   "outputs": [
    {
     "data": {
      "text/plain": [
       "label\n",
       "7      545841\n",
       "6      127904\n",
       "1       46343\n",
       "3       41520\n",
       "13      32588\n",
       "8       13036\n",
       "130     11460\n",
       "14       3878\n",
       "5        2300\n",
       "4        2078\n",
       "140       750\n",
       "Name: count, dtype: int64"
      ]
     },
     "execution_count": 4,
     "metadata": {},
     "output_type": "execute_result"
    }
   ],
   "source": [
    "# target의 class 도수를 확인 (숫자로)\n",
    "\n",
    "df['label'].value_counts()"
   ]
  },
  {
   "cell_type": "code",
   "execution_count": 5,
   "id": "0a70b790",
   "metadata": {
    "ExecuteTime": {
     "end_time": "2024-09-04T00:44:00.032556Z",
     "start_time": "2024-09-04T00:43:59.923221Z"
    }
   },
   "outputs": [
    {
     "name": "stdout",
     "output_type": "stream",
     "text": [
      "back_x     0\n",
      "back_y     0\n",
      "back_z     0\n",
      "thigh_x    0\n",
      "thigh_y    0\n",
      "thigh_z    0\n",
      "label      0\n",
      "dtype: int64\n",
      "back_x     0\n",
      "back_y     0\n",
      "back_z     0\n",
      "thigh_x    0\n",
      "thigh_y    0\n",
      "thigh_z    0\n",
      "label      0\n",
      "dtype: int64\n"
     ]
    }
   ],
   "source": [
    "# 결측치 확인 및 결측치를 각 열의 평균값으로 대체\n",
    "\n",
    "print (df.isnull().sum())\n",
    "df = df.fillna(df.mean())\n",
    "\n",
    "print (df.isnull().sum())"
   ]
  },
  {
   "cell_type": "code",
   "execution_count": 6,
   "id": "1252b76d",
   "metadata": {
    "ExecuteTime": {
     "end_time": "2024-09-04T00:44:05.391952Z",
     "start_time": "2024-09-04T00:44:05.328343Z"
    }
   },
   "outputs": [
    {
     "data": {
      "text/plain": [
       "label\n",
       "5     545841\n",
       "4     127904\n",
       "0      46343\n",
       "1      41520\n",
       "7      32588\n",
       "6      13036\n",
       "9      11460\n",
       "8       3878\n",
       "3       2300\n",
       "2       2078\n",
       "10       750\n",
       "Name: count, dtype: int64"
      ]
     },
     "execution_count": 6,
     "metadata": {},
     "output_type": "execute_result"
    }
   ],
   "source": [
    "# labelencoding을 통하여 각 label을 0-based 및 순서대로 구성\n",
    "\n",
    "from sklearn.preprocessing import LabelEncoder\n",
    "\n",
    "label_encoder = LabelEncoder()\n",
    "df['label'] = label_encoder.fit_transform(df['label'])\n",
    "\n",
    "df['label'].value_counts()"
   ]
  },
  {
   "cell_type": "code",
   "execution_count": 7,
   "id": "cd430dcf",
   "metadata": {
    "ExecuteTime": {
     "end_time": "2024-09-04T00:44:12.887281Z",
     "start_time": "2024-09-04T00:44:12.781146Z"
    }
   },
   "outputs": [
    {
     "name": "stdout",
     "output_type": "stream",
     "text": [
      "label\n",
      "4     15000\n",
      "0     15000\n",
      "1     15000\n",
      "5     15000\n",
      "2     15000\n",
      "3     15000\n",
      "6     15000\n",
      "9     15000\n",
      "7     15000\n",
      "8     15000\n",
      "10    15000\n",
      "Name: count, dtype: int64\n"
     ]
    }
   ],
   "source": [
    "'''\n",
    "    현재 label이 5인 records에만 너무 많이 편중되어 있다. \n",
    "    따라서 각 label이 15000개를 가질 수 있도록 oversampling한다.\n",
    "'''\n",
    "\n",
    "# class 별로 데이터 추출 -> 복제하는 방식\n",
    "    \n",
    "# 만약 15000개보다 샘플이 적음 -> replace == True로 복제\n",
    "# 만약 15000개보다 샘플이 많음 -> 복제\n",
    "    \n",
    "def oversampling(df, target_col, max_size) :\n",
    "    # 결과를 저장할 리스트 \n",
    "    dfs = []\n",
    "    \n",
    "    for label in df[target_col].unique() :\n",
    "        class_df = df[df[target_col] == label]\n",
    "        \n",
    "        if len(class_df) < max_size :\n",
    "            # 샘플 수가 max_size보다 적으면 데이터를 복제하여 max_size로 만듦\n",
    "            sampled_df = class_df.sample(max_size, replace=True, random_state=42)\n",
    "        else :\n",
    "            # 샘플 수가 max_size보다 많으면 앞부분부터 max_size만큼 선택함\n",
    "            sampled_df = class_df.head(max_size)\n",
    "        \n",
    "        # 리스트에 추가\n",
    "        dfs.append(sampled_df)\n",
    "    \n",
    "    # 리스트에 저장된 데이터프레임들을 합침\n",
    "    df_resampled = pd.concat(dfs).reset_index(drop=True)\n",
    "    \n",
    "    return df_resampled\n",
    "\n",
    "df_resampled = oversampling(df, 'label', max_size=15000)\n",
    "print (df_resampled['label'].value_counts())"
   ]
  },
  {
   "cell_type": "code",
   "execution_count": 8,
   "id": "05404e99",
   "metadata": {
    "ExecuteTime": {
     "end_time": "2024-09-04T00:44:18.416577Z",
     "start_time": "2024-09-04T00:44:18.376819Z"
    }
   },
   "outputs": [
    {
     "name": "stdout",
     "output_type": "stream",
     "text": [
      "     back_x    back_y    back_z   thigh_x   thigh_y   thigh_z\n",
      "0 -0.760242  0.299570  0.468570 -5.092732 -0.298644  0.709439\n",
      "1 -0.530138  0.281880  0.319987  0.900547  0.286944  0.340309\n",
      "2 -1.170922  0.186353 -0.167010 -0.035442 -0.078423 -0.515212\n",
      "3 -0.648772  0.016579 -0.054284 -1.554248 -0.950978 -0.221140\n",
      "4 -0.355071 -0.051831 -0.113419 -0.547471  0.140903 -0.653782\n",
      "\n",
      "\n",
      "0    4\n",
      "1    4\n",
      "2    4\n",
      "3    4\n",
      "4    4\n",
      "Name: label, dtype: int64\n"
     ]
    }
   ],
   "source": [
    "# split the input, target\n",
    "\n",
    "harth_input = df.drop(columns=['label'])\n",
    "harth_target = df['label']\n",
    "\n",
    "print (harth_input.head())\n",
    "print ('\\n')\n",
    "print (harth_target.head())"
   ]
  },
  {
   "cell_type": "code",
   "execution_count": 9,
   "id": "d3eac7da",
   "metadata": {
    "ExecuteTime": {
     "end_time": "2024-09-04T00:44:25.168518Z",
     "start_time": "2024-09-04T00:44:25.044270Z"
    }
   },
   "outputs": [
    {
     "data": {
      "text/html": [
       "<div>\n",
       "<style scoped>\n",
       "    .dataframe tbody tr th:only-of-type {\n",
       "        vertical-align: middle;\n",
       "    }\n",
       "\n",
       "    .dataframe tbody tr th {\n",
       "        vertical-align: top;\n",
       "    }\n",
       "\n",
       "    .dataframe thead th {\n",
       "        text-align: right;\n",
       "    }\n",
       "</style>\n",
       "<table border=\"1\" class=\"dataframe\">\n",
       "  <thead>\n",
       "    <tr style=\"text-align: right;\">\n",
       "      <th></th>\n",
       "      <th>back_x</th>\n",
       "      <th>back_y</th>\n",
       "      <th>back_z</th>\n",
       "      <th>thigh_x</th>\n",
       "      <th>thigh_y</th>\n",
       "      <th>thigh_z</th>\n",
       "      <th>label</th>\n",
       "    </tr>\n",
       "  </thead>\n",
       "  <tbody>\n",
       "    <tr>\n",
       "      <th>0</th>\n",
       "      <td>0.507498</td>\n",
       "      <td>1.808309</td>\n",
       "      <td>2.043162</td>\n",
       "      <td>-9.763588</td>\n",
       "      <td>-1.787553</td>\n",
       "      <td>0.136069</td>\n",
       "      <td>4.0</td>\n",
       "    </tr>\n",
       "    <tr>\n",
       "      <th>1</th>\n",
       "      <td>1.654979</td>\n",
       "      <td>1.693919</td>\n",
       "      <td>1.648712</td>\n",
       "      <td>2.577876</td>\n",
       "      <td>0.862620</td>\n",
       "      <td>-0.560230</td>\n",
       "      <td>4.0</td>\n",
       "    </tr>\n",
       "    <tr>\n",
       "      <th>2</th>\n",
       "      <td>-1.540489</td>\n",
       "      <td>1.076214</td>\n",
       "      <td>0.355857</td>\n",
       "      <td>0.650470</td>\n",
       "      <td>-0.790909</td>\n",
       "      <td>-2.174018</td>\n",
       "      <td>4.0</td>\n",
       "    </tr>\n",
       "    <tr>\n",
       "      <th>3</th>\n",
       "      <td>1.063377</td>\n",
       "      <td>-0.021595</td>\n",
       "      <td>0.655116</td>\n",
       "      <td>-2.477082</td>\n",
       "      <td>-4.739795</td>\n",
       "      <td>-1.619304</td>\n",
       "      <td>4.0</td>\n",
       "    </tr>\n",
       "    <tr>\n",
       "      <th>4</th>\n",
       "      <td>2.528007</td>\n",
       "      <td>-0.463951</td>\n",
       "      <td>0.498128</td>\n",
       "      <td>-0.403908</td>\n",
       "      <td>0.201689</td>\n",
       "      <td>-2.435406</td>\n",
       "      <td>4.0</td>\n",
       "    </tr>\n",
       "    <tr>\n",
       "      <th>...</th>\n",
       "      <td>...</td>\n",
       "      <td>...</td>\n",
       "      <td>...</td>\n",
       "      <td>...</td>\n",
       "      <td>...</td>\n",
       "      <td>...</td>\n",
       "      <td>...</td>\n",
       "    </tr>\n",
       "    <tr>\n",
       "      <th>827693</th>\n",
       "      <td>-0.633268</td>\n",
       "      <td>-0.925550</td>\n",
       "      <td>0.249269</td>\n",
       "      <td>-1.423855</td>\n",
       "      <td>-0.709645</td>\n",
       "      <td>-1.339575</td>\n",
       "      <td>1.0</td>\n",
       "    </tr>\n",
       "    <tr>\n",
       "      <th>827694</th>\n",
       "      <td>-0.740171</td>\n",
       "      <td>-0.900343</td>\n",
       "      <td>0.183468</td>\n",
       "      <td>-1.186153</td>\n",
       "      <td>-0.841975</td>\n",
       "      <td>-1.291216</td>\n",
       "      <td>1.0</td>\n",
       "    </tr>\n",
       "    <tr>\n",
       "      <th>827695</th>\n",
       "      <td>-0.632235</td>\n",
       "      <td>-0.770994</td>\n",
       "      <td>0.285539</td>\n",
       "      <td>-1.474229</td>\n",
       "      <td>-0.430641</td>\n",
       "      <td>-1.375251</td>\n",
       "      <td>1.0</td>\n",
       "    </tr>\n",
       "    <tr>\n",
       "      <th>827696</th>\n",
       "      <td>-0.831593</td>\n",
       "      <td>-0.984881</td>\n",
       "      <td>0.225366</td>\n",
       "      <td>-1.081400</td>\n",
       "      <td>-0.750652</td>\n",
       "      <td>-1.274627</td>\n",
       "      <td>1.0</td>\n",
       "    </tr>\n",
       "    <tr>\n",
       "      <th>827697</th>\n",
       "      <td>-0.458718</td>\n",
       "      <td>-0.817067</td>\n",
       "      <td>0.288624</td>\n",
       "      <td>-1.717009</td>\n",
       "      <td>-0.200918</td>\n",
       "      <td>-1.484174</td>\n",
       "      <td>1.0</td>\n",
       "    </tr>\n",
       "  </tbody>\n",
       "</table>\n",
       "<p>827698 rows × 7 columns</p>\n",
       "</div>"
      ],
      "text/plain": [
       "          back_x    back_y    back_z   thigh_x   thigh_y   thigh_z  label\n",
       "0       0.507498  1.808309  2.043162 -9.763588 -1.787553  0.136069    4.0\n",
       "1       1.654979  1.693919  1.648712  2.577876  0.862620 -0.560230    4.0\n",
       "2      -1.540489  1.076214  0.355857  0.650470 -0.790909 -2.174018    4.0\n",
       "3       1.063377 -0.021595  0.655116 -2.477082 -4.739795 -1.619304    4.0\n",
       "4       2.528007 -0.463951  0.498128 -0.403908  0.201689 -2.435406    4.0\n",
       "...          ...       ...       ...       ...       ...       ...    ...\n",
       "827693 -0.633268 -0.925550  0.249269 -1.423855 -0.709645 -1.339575    1.0\n",
       "827694 -0.740171 -0.900343  0.183468 -1.186153 -0.841975 -1.291216    1.0\n",
       "827695 -0.632235 -0.770994  0.285539 -1.474229 -0.430641 -1.375251    1.0\n",
       "827696 -0.831593 -0.984881  0.225366 -1.081400 -0.750652 -1.274627    1.0\n",
       "827697 -0.458718 -0.817067  0.288624 -1.717009 -0.200918 -1.484174    1.0\n",
       "\n",
       "[827698 rows x 7 columns]"
      ]
     },
     "execution_count": 9,
     "metadata": {},
     "output_type": "execute_result"
    }
   ],
   "source": [
    "# z-score normalization 수행\n",
    "\n",
    "from sklearn.preprocessing import StandardScaler\n",
    "\n",
    "scaler = StandardScaler()\n",
    "harth_input_scaled = scaler.fit_transform(harth_input)\n",
    "harth_target_reshaped = harth_target.to_numpy().reshape(-1, 1)\n",
    "\n",
    "# normalization된 입력 데이터와 label 데이터를 결합하여 DataFrame 생성\n",
    "df = pd.DataFrame(\n",
    "    np.hstack((harth_input_scaled, harth_target_reshaped)),\n",
    "    columns=[feature for feature in df.columns[:-1]] + ['label']\n",
    ")\n",
    "\n",
    "df"
   ]
  },
  {
   "cell_type": "code",
   "execution_count": 10,
   "id": "231a9323",
   "metadata": {
    "ExecuteTime": {
     "end_time": "2024-09-04T00:44:52.333540Z",
     "start_time": "2024-09-04T00:44:52.328159Z"
    }
   },
   "outputs": [],
   "source": [
    "'''\n",
    "    시계열 데이터를 프레임 크기와 홉 크기로 분할\n",
    "    일종의 split_sequence과 비슷하다고 보임\n",
    "    \n",
    "    아래 함수는 현재 x, y, z를 time-frame으로 split하고, hop_size가 일종의 이동량의 역할을 한다.\n",
    "    최종적으로는 frames와 labels를 반환하고 있다.\n",
    "    \n",
    "    아래를 현재 HARTH 데이터셋에 맞게끔 변형할 것이다. 다음 셀을 참고.\n",
    "'''\n",
    "\n",
    "import scipy.stats as stats\n",
    "\n",
    "def get_frames(df, frame_size, hop_size):\n",
    "\n",
    "    N_FEATURES = 3\n",
    "\n",
    "    frames = []\n",
    "    labels = []\n",
    "    for i in range(0, len(df) - frame_size, hop_size):\n",
    "        x = df['x'].values[i: i + frame_size]\n",
    "        y = df['y'].values[i: i + frame_size]\n",
    "        z = df['z'].values[i: i + frame_size]\n",
    "        \n",
    "        # Retrieve the most often used label in this segment\n",
    "        label = stats.mode(df['label'][i: i + frame_size])[0][0]\n",
    "        frames.append([x, y, z])\n",
    "        labels.append(label)\n",
    "\n",
    "    # Bring the segments into a better shape\n",
    "    frames = np.asarray(frames).reshape(-1, frame_size, N_FEATURES)\n",
    "    labels = np.asarray(labels)\n",
    "\n",
    "    return frames, labels"
   ]
  },
  {
   "cell_type": "code",
   "execution_count": 11,
   "id": "415b62e9",
   "metadata": {
    "ExecuteTime": {
     "end_time": "2024-09-04T00:45:02.170869Z",
     "start_time": "2024-09-04T00:45:02.164352Z"
    }
   },
   "outputs": [],
   "source": [
    "# def get_frames(df, frame_size, hop_size):\n",
    "#     N_FEATURES = 6  # 6개의 특징 (back_x, back_y, back_z, thigh_x, thigh_y, thigh_z)\n",
    "\n",
    "#     frames = []\n",
    "#     labels = []\n",
    "#     for i in range(0, len(df) - frame_size, hop_size):\n",
    "#         # 각 축의 데이터를 슬라이싱\n",
    "#         back_x = df['back_x'].values[i: i + frame_size]\n",
    "#         back_y = df['back_y'].values[i: i + frame_size]\n",
    "#         back_z = df['back_z'].values[i: i + frame_size]\n",
    "#         thigh_x = df['thigh_x'].values[i: i + frame_size]\n",
    "#         thigh_y = df['thigh_y'].values[i: i + frame_size]\n",
    "#         thigh_z = df['thigh_z'].values[i: i + frame_size]\n",
    "\n",
    "#         # 해당 구간의 레이블에서 가장 많이 나타나는 레이블 선택\n",
    "#         mode_result = stats.mode(df['label'][i: i + frame_size])\n",
    "#         label = mode_result.mode[0]  # mode_result.mode는 배열이므로 첫 번째 값을 선택\n",
    "\n",
    "#         # 각 축의 데이터를 하나의 리스트로 묶어 프레임에 추가\n",
    "#         frames.append([back_x, back_y, back_z, thigh_x, thigh_y, thigh_z])\n",
    "#         labels.append(label)\n",
    "\n",
    "#     # 프레임을 numpy 배열로 변환하고, (number_of_frames, frame_size, N_FEATURES) 형태로 reshape\n",
    "#     frames = np.asarray(frames).reshape(-1, frame_size, N_FEATURES)\n",
    "#     labels = np.asarray(labels)\n",
    "\n",
    "#     return frames, labels\n",
    "\n",
    "def get_frames(df, frame_size, hop_size) :\n",
    "    N_FEATURES = 6  # 6개의 특징 \n",
    "\n",
    "    frames = []\n",
    "    labels = []\n",
    "    \n",
    "    for i in range(0, len(df) - frame_size + 1, hop_size) :\n",
    "        back_x = df['back_x'].values[i: i + frame_size]\n",
    "        back_y = df['back_y'].values[i: i + frame_size]\n",
    "        back_z = df['back_z'].values[i: i + frame_size]\n",
    "        thigh_x = df['thigh_x'].values[i: i + frame_size]\n",
    "        thigh_y = df['thigh_y'].values[i: i + frame_size]\n",
    "        thigh_z = df['thigh_z'].values[i: i + frame_size]\n",
    "\n",
    "        # 해당 구간의 레이블에서 가장 많이 나타나는 레이블 선택\n",
    "        mode_result = stats.mode(df['label'][i: i + frame_size], keepdims=False)\n",
    "        label = mode_result.mode\n",
    "        \n",
    "        # 각 축을 묶어서 데이터 추가함\n",
    "        frames.append([back_x, back_y, back_z, thigh_x, thigh_y, thigh_z])\n",
    "        labels.append(label)\n",
    "\n",
    "    # reshape\n",
    "    frames = np.asarray(frames).reshape(-1, frame_size, N_FEATURES)\n",
    "    labels = np.asarray(labels)\n",
    "\n",
    "    return frames, labels"
   ]
  },
  {
   "cell_type": "code",
   "execution_count": null,
   "id": "c34a3f5b",
   "metadata": {},
   "outputs": [],
   "source": []
  }
 ],
 "metadata": {
  "kernelspec": {
   "display_name": "Python 3 (ipykernel)",
   "language": "python",
   "name": "python3"
  },
  "language_info": {
   "codemirror_mode": {
    "name": "ipython",
    "version": 3
   },
   "file_extension": ".py",
   "mimetype": "text/x-python",
   "name": "python",
   "nbconvert_exporter": "python",
   "pygments_lexer": "ipython3",
   "version": "3.11.3"
  },
  "varInspector": {
   "cols": {
    "lenName": 16,
    "lenType": 16,
    "lenVar": 40
   },
   "kernels_config": {
    "python": {
     "delete_cmd_postfix": "",
     "delete_cmd_prefix": "del ",
     "library": "var_list.py",
     "varRefreshCmd": "print(var_dic_list())"
    },
    "r": {
     "delete_cmd_postfix": ") ",
     "delete_cmd_prefix": "rm(",
     "library": "var_list.r",
     "varRefreshCmd": "cat(var_dic_list()) "
    }
   },
   "types_to_exclude": [
    "module",
    "function",
    "builtin_function_or_method",
    "instance",
    "_Feature"
   ],
   "window_display": false
  }
 },
 "nbformat": 4,
 "nbformat_minor": 5
}
