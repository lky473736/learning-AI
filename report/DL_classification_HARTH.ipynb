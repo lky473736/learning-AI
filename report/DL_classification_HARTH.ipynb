{
 "cells": [
  {
   "cell_type": "markdown",
   "id": "107b53a8",
   "metadata": {},
   "source": [
    "## learning-AI101 : HARTH classification (DL)\n",
    "### The Human Activity Recognition Trondheim (HARTH)를 Dense layer struction을 통한 DNN 방식의 classification\n",
    "\n",
    "<br>\n",
    "\n",
    "- **임규연 (lky473736)**\n",
    "- 2024.08.04.에 문서 작성\n",
    "- **dataset** : https://archive.ics.uci.edu/dataset/779/harth\n",
    "- **data abstract** : The Human Activity Recognition Trondheim (HARTH) dataset is a professionally-annotated dataset containing 22 subjects wearing two 3-axial accelerometers for around 2 hours in a free-living setting. The sensors were attached to the right thigh and lower back. The professional recordings and annotations provide a promising benchmark dataset for researchers to develop innovative machine learning approaches for precise HAR in free living.\n",
    "\n",
    "------"
   ]
  },
  {
   "cell_type": "markdown",
   "id": "a9453505",
   "metadata": {},
   "source": [
    "\n",
    "\n",
    "## <span id='dl'><mark>DL</mark></span>\n",
    "    \n",
    "deep learning으로 abalone을 classification한다. 목차는 아래와 같다.\n",
    "\n",
    "- **1. 데이터 load and preprocessing**\n",
    "- **2. ANN (fully connected)**\n",
    "- **3. DNN**\n"
   ]
  },
  {
   "cell_type": "code",
   "execution_count": 1,
   "id": "9eeda557",
   "metadata": {
    "ExecuteTime": {
     "end_time": "2024-08-04T15:36:37.074155Z",
     "start_time": "2024-08-04T15:36:29.259556Z"
    }
   },
   "outputs": [
    {
     "name": "stderr",
     "output_type": "stream",
     "text": [
      "2024-08-05 00:36:33.847600: I tensorflow/core/platform/cpu_feature_guard.cc:182] This TensorFlow binary is optimized to use available CPU instructions in performance-critical operations.\n",
      "To enable the following instructions: AVX2 FMA, in other operations, rebuild TensorFlow with the appropriate compiler flags.\n"
     ]
    }
   ],
   "source": [
    "# 라이브러리 import\n",
    "\n",
    "import numpy as np\n",
    "import pandas as pd\n",
    "import seaborn as sns\n",
    "import tensorflow as tf\n",
    "import matplotlib.pyplot as plt\n",
    "import seaborn as sns\n",
    "from tensorflow import keras\n",
    "from sklearn.model_selection import train_test_split\n",
    "from sklearn.preprocessing import StandardScaler, LabelEncoder"
   ]
  },
  {
   "cell_type": "markdown",
   "id": "f02227e6",
   "metadata": {},
   "source": [
    "------\n",
    "\n",
    "### 1. 데이터 load 및 preprocessing\n",
    "- 데이터 로드 및 필요한 정보, 기초통계량을 get한다.\n",
    "- 결측치 제거, outlier 제거 등의 데이터 전처리를 수행한다.\n",
    "- **자세한 EDA는 ./ML_classification_HARTH를 참고할 것**"
   ]
  },
  {
   "cell_type": "code",
   "execution_count": 2,
   "id": "7cab2281",
   "metadata": {
    "ExecuteTime": {
     "end_time": "2024-08-04T15:36:37.718382Z",
     "start_time": "2024-08-04T15:36:37.077355Z"
    }
   },
   "outputs": [
    {
     "data": {
      "text/plain": [
       "Index(['timestamp', 'back_x', 'back_y', 'back_z', 'thigh_x', 'thigh_y',\n",
       "       'thigh_z', 'label'],\n",
       "      dtype='object')"
      ]
     },
     "execution_count": 2,
     "metadata": {},
     "output_type": "execute_result"
    }
   ],
   "source": [
    "# 파일 중 S006.csv를 열어서 header를 확인한다.\n",
    "\n",
    "df_sample = pd.read_csv('data/harth/S006.csv')\n",
    "df_sample.columns"
   ]
  },
  {
   "cell_type": "code",
   "execution_count": 3,
   "id": "4fc713f3",
   "metadata": {
    "ExecuteTime": {
     "end_time": "2024-08-04T15:36:47.511954Z",
     "start_time": "2024-08-04T15:36:37.720393Z"
    },
    "scrolled": false
   },
   "outputs": [
    {
     "name": "stdout",
     "output_type": "stream",
     "text": [
      "['./data/harth/S016.csv', './data/harth/S017.csv', './data/harth/S029.csv', './data/harth/S015.csv', './data/harth/S014.csv', './data/harth/S028.csv', './data/harth/S010.csv', './data/harth/S013.csv', './data/harth/S012.csv', './data/harth/S006.csv', './data/harth/S023.csv', './data/harth/S022.csv', './data/harth/S008.csv', './data/harth/S020.csv', './data/harth/S021.csv', './data/harth/S009.csv', './data/harth/S025.csv', './data/harth/S019.csv', './data/harth/S018.csv', './data/harth/S024.csv', './data/harth/S026.csv', './data/harth/S027.csv']\n"
     ]
    },
    {
     "data": {
      "text/html": [
       "<div>\n",
       "<style scoped>\n",
       "    .dataframe tbody tr th:only-of-type {\n",
       "        vertical-align: middle;\n",
       "    }\n",
       "\n",
       "    .dataframe tbody tr th {\n",
       "        vertical-align: top;\n",
       "    }\n",
       "\n",
       "    .dataframe thead th {\n",
       "        text-align: right;\n",
       "    }\n",
       "</style>\n",
       "<table border=\"1\" class=\"dataframe\">\n",
       "  <thead>\n",
       "    <tr style=\"text-align: right;\">\n",
       "      <th></th>\n",
       "      <th>timestamp</th>\n",
       "      <th>back_x</th>\n",
       "      <th>back_y</th>\n",
       "      <th>back_z</th>\n",
       "      <th>thigh_x</th>\n",
       "      <th>thigh_y</th>\n",
       "      <th>thigh_z</th>\n",
       "      <th>label</th>\n",
       "      <th>index</th>\n",
       "      <th>Unnamed: 0</th>\n",
       "    </tr>\n",
       "  </thead>\n",
       "  <tbody>\n",
       "    <tr>\n",
       "      <th>0</th>\n",
       "      <td>2019-01-12 00:00:00.000</td>\n",
       "      <td>-0.982201</td>\n",
       "      <td>-0.031251</td>\n",
       "      <td>0.178300</td>\n",
       "      <td>-0.935149</td>\n",
       "      <td>0.006160</td>\n",
       "      <td>-0.358898</td>\n",
       "      <td>6</td>\n",
       "      <td>NaN</td>\n",
       "      <td>NaN</td>\n",
       "    </tr>\n",
       "    <tr>\n",
       "      <th>1</th>\n",
       "      <td>2019-01-12 00:00:00.020</td>\n",
       "      <td>-0.973421</td>\n",
       "      <td>-0.042747</td>\n",
       "      <td>0.190618</td>\n",
       "      <td>-0.934986</td>\n",
       "      <td>0.040489</td>\n",
       "      <td>-0.366376</td>\n",
       "      <td>6</td>\n",
       "      <td>NaN</td>\n",
       "      <td>NaN</td>\n",
       "    </tr>\n",
       "    <tr>\n",
       "      <th>2</th>\n",
       "      <td>2019-01-12 00:00:00.040</td>\n",
       "      <td>-0.977409</td>\n",
       "      <td>-0.033531</td>\n",
       "      <td>0.185584</td>\n",
       "      <td>-0.939761</td>\n",
       "      <td>0.028617</td>\n",
       "      <td>-0.370106</td>\n",
       "      <td>6</td>\n",
       "      <td>NaN</td>\n",
       "      <td>NaN</td>\n",
       "    </tr>\n",
       "    <tr>\n",
       "      <th>3</th>\n",
       "      <td>2019-01-12 00:00:00.060</td>\n",
       "      <td>-0.974620</td>\n",
       "      <td>-0.034506</td>\n",
       "      <td>0.188868</td>\n",
       "      <td>-0.939667</td>\n",
       "      <td>0.036060</td>\n",
       "      <td>-0.369624</td>\n",
       "      <td>6</td>\n",
       "      <td>NaN</td>\n",
       "      <td>NaN</td>\n",
       "    </tr>\n",
       "    <tr>\n",
       "      <th>4</th>\n",
       "      <td>2019-01-12 00:00:00.080</td>\n",
       "      <td>-0.976828</td>\n",
       "      <td>-0.041577</td>\n",
       "      <td>0.186524</td>\n",
       "      <td>-0.946145</td>\n",
       "      <td>0.030512</td>\n",
       "      <td>-0.363411</td>\n",
       "      <td>6</td>\n",
       "      <td>NaN</td>\n",
       "      <td>NaN</td>\n",
       "    </tr>\n",
       "  </tbody>\n",
       "</table>\n",
       "</div>"
      ],
      "text/plain": [
       "                 timestamp    back_x    back_y    back_z   thigh_x   thigh_y  \\\n",
       "0  2019-01-12 00:00:00.000 -0.982201 -0.031251  0.178300 -0.935149  0.006160   \n",
       "1  2019-01-12 00:00:00.020 -0.973421 -0.042747  0.190618 -0.934986  0.040489   \n",
       "2  2019-01-12 00:00:00.040 -0.977409 -0.033531  0.185584 -0.939761  0.028617   \n",
       "3  2019-01-12 00:00:00.060 -0.974620 -0.034506  0.188868 -0.939667  0.036060   \n",
       "4  2019-01-12 00:00:00.080 -0.976828 -0.041577  0.186524 -0.946145  0.030512   \n",
       "\n",
       "    thigh_z  label  index  Unnamed: 0  \n",
       "0 -0.358898      6    NaN         NaN  \n",
       "1 -0.366376      6    NaN         NaN  \n",
       "2 -0.370106      6    NaN         NaN  \n",
       "3 -0.369624      6    NaN         NaN  \n",
       "4 -0.363411      6    NaN         NaN  "
      ]
     },
     "execution_count": 3,
     "metadata": {},
     "output_type": "execute_result"
    }
   ],
   "source": [
    "# records 병합\n",
    "\n",
    "import glob\n",
    "\n",
    "directory_path = './data/harth'\n",
    "\n",
    "# 모든 CSV 파일의 경로를 가져오기\n",
    "all_files = glob.glob(directory_path + \"/*.csv\")\n",
    "\n",
    "print (all_files)\n",
    "\n",
    "# 데이터프레임을 담을 빈 리스트 생성\n",
    "df_list = []\n",
    "\n",
    "# 모든 파일을 순회하며 데이터프레임에 추가\n",
    "for filename in all_files :\n",
    "    df = pd.read_csv(filename)  \n",
    "    df_list.append(df) \n",
    "\n",
    "merged_df = pd.concat(df_list, ignore_index=True) # 병합 (header는 ignore)\n",
    "df = merged_df\n",
    "\n",
    "df.head()"
   ]
  },
  {
   "cell_type": "code",
   "execution_count": 4,
   "id": "f4dce327",
   "metadata": {
    "ExecuteTime": {
     "end_time": "2024-08-04T15:36:47.697546Z",
     "start_time": "2024-08-04T15:36:47.514939Z"
    }
   },
   "outputs": [
    {
     "name": "stdout",
     "output_type": "stream",
     "text": [
      "현재 attribute :  Index(['back_x', 'back_y', 'back_z', 'thigh_x', 'thigh_y', 'thigh_z', 'label'], dtype='object')\n"
     ]
    }
   ],
   "source": [
    "# timestamp, index 삭제, unnamed 삭제\n",
    "\n",
    "try : \n",
    "    del df['timestamp']\n",
    "    del df['index']\n",
    "except : \n",
    "    pass\n",
    "\n",
    "df.drop(['Unnamed: 0'], axis = 1, inplace = True)\n",
    "print (\"현재 attribute : \", df.columns)"
   ]
  },
  {
   "cell_type": "code",
   "execution_count": 5,
   "id": "e7785677",
   "metadata": {
    "ExecuteTime": {
     "end_time": "2024-08-04T15:36:47.705571Z",
     "start_time": "2024-08-04T15:36:47.699251Z"
    },
    "scrolled": true
   },
   "outputs": [
    {
     "name": "stdout",
     "output_type": "stream",
     "text": [
      "df 크기 :  (6461328, 7)\n",
      "<class 'pandas.core.frame.DataFrame'>\n",
      "RangeIndex: 6461328 entries, 0 to 6461327\n",
      "Data columns (total 7 columns):\n",
      " #   Column   Dtype  \n",
      "---  ------   -----  \n",
      " 0   back_x   float64\n",
      " 1   back_y   float64\n",
      " 2   back_z   float64\n",
      " 3   thigh_x  float64\n",
      " 4   thigh_y  float64\n",
      " 5   thigh_z  float64\n",
      " 6   label    int64  \n",
      "dtypes: float64(6), int64(1)\n",
      "memory usage: 345.1 MB\n"
     ]
    }
   ],
   "source": [
    "# df의 크기 및 info\n",
    "print(\"df 크기 : \", df.shape)\n",
    "df.info()"
   ]
  },
  {
   "cell_type": "code",
   "execution_count": 6,
   "id": "554ec83c",
   "metadata": {
    "ExecuteTime": {
     "end_time": "2024-08-04T15:36:49.059903Z",
     "start_time": "2024-08-04T15:36:47.707631Z"
    }
   },
   "outputs": [
    {
     "data": {
      "text/html": [
       "<div>\n",
       "<style scoped>\n",
       "    .dataframe tbody tr th:only-of-type {\n",
       "        vertical-align: middle;\n",
       "    }\n",
       "\n",
       "    .dataframe tbody tr th {\n",
       "        vertical-align: top;\n",
       "    }\n",
       "\n",
       "    .dataframe thead th {\n",
       "        text-align: right;\n",
       "    }\n",
       "</style>\n",
       "<table border=\"1\" class=\"dataframe\">\n",
       "  <thead>\n",
       "    <tr style=\"text-align: right;\">\n",
       "      <th></th>\n",
       "      <th>back_x</th>\n",
       "      <th>back_y</th>\n",
       "      <th>back_z</th>\n",
       "      <th>thigh_x</th>\n",
       "      <th>thigh_y</th>\n",
       "      <th>thigh_z</th>\n",
       "      <th>label</th>\n",
       "    </tr>\n",
       "  </thead>\n",
       "  <tbody>\n",
       "    <tr>\n",
       "      <th>count</th>\n",
       "      <td>6.461328e+06</td>\n",
       "      <td>6.461328e+06</td>\n",
       "      <td>6.461328e+06</td>\n",
       "      <td>6.461328e+06</td>\n",
       "      <td>6.461328e+06</td>\n",
       "      <td>6.461328e+06</td>\n",
       "      <td>6.461328e+06</td>\n",
       "    </tr>\n",
       "    <tr>\n",
       "      <th>mean</th>\n",
       "      <td>-8.849574e-01</td>\n",
       "      <td>-1.326128e-02</td>\n",
       "      <td>-1.693779e-01</td>\n",
       "      <td>-5.948883e-01</td>\n",
       "      <td>2.087665e-02</td>\n",
       "      <td>3.749160e-01</td>\n",
       "      <td>6.783833e+00</td>\n",
       "    </tr>\n",
       "    <tr>\n",
       "      <th>std</th>\n",
       "      <td>3.775916e-01</td>\n",
       "      <td>2.311709e-01</td>\n",
       "      <td>3.647385e-01</td>\n",
       "      <td>6.263466e-01</td>\n",
       "      <td>3.884511e-01</td>\n",
       "      <td>7.360983e-01</td>\n",
       "      <td>1.143238e+01</td>\n",
       "    </tr>\n",
       "    <tr>\n",
       "      <th>min</th>\n",
       "      <td>-8.000000e+00</td>\n",
       "      <td>-4.307617e+00</td>\n",
       "      <td>-6.574463e+00</td>\n",
       "      <td>-8.000000e+00</td>\n",
       "      <td>-7.997314e+00</td>\n",
       "      <td>-8.000000e+00</td>\n",
       "      <td>1.000000e+00</td>\n",
       "    </tr>\n",
       "    <tr>\n",
       "      <th>25%</th>\n",
       "      <td>-1.002393e+00</td>\n",
       "      <td>-8.312914e-02</td>\n",
       "      <td>-3.720700e-01</td>\n",
       "      <td>-9.742110e-01</td>\n",
       "      <td>-1.000873e-01</td>\n",
       "      <td>-1.557138e-01</td>\n",
       "      <td>3.000000e+00</td>\n",
       "    </tr>\n",
       "    <tr>\n",
       "      <th>50%</th>\n",
       "      <td>-9.748998e-01</td>\n",
       "      <td>2.593677e-03</td>\n",
       "      <td>-1.374510e-01</td>\n",
       "      <td>-4.217309e-01</td>\n",
       "      <td>3.262909e-02</td>\n",
       "      <td>7.004390e-01</td>\n",
       "      <td>7.000000e+00</td>\n",
       "    </tr>\n",
       "    <tr>\n",
       "      <th>75%</th>\n",
       "      <td>-8.123032e-01</td>\n",
       "      <td>7.251000e-02</td>\n",
       "      <td>4.647321e-02</td>\n",
       "      <td>-1.678755e-01</td>\n",
       "      <td>1.549512e-01</td>\n",
       "      <td>9.486747e-01</td>\n",
       "      <td>7.000000e+00</td>\n",
       "    </tr>\n",
       "    <tr>\n",
       "      <th>max</th>\n",
       "      <td>2.291708e+00</td>\n",
       "      <td>6.491943e+00</td>\n",
       "      <td>4.909483e+00</td>\n",
       "      <td>7.999756e+00</td>\n",
       "      <td>7.999756e+00</td>\n",
       "      <td>8.406235e+00</td>\n",
       "      <td>1.400000e+02</td>\n",
       "    </tr>\n",
       "  </tbody>\n",
       "</table>\n",
       "</div>"
      ],
      "text/plain": [
       "             back_x        back_y        back_z       thigh_x       thigh_y  \\\n",
       "count  6.461328e+06  6.461328e+06  6.461328e+06  6.461328e+06  6.461328e+06   \n",
       "mean  -8.849574e-01 -1.326128e-02 -1.693779e-01 -5.948883e-01  2.087665e-02   \n",
       "std    3.775916e-01  2.311709e-01  3.647385e-01  6.263466e-01  3.884511e-01   \n",
       "min   -8.000000e+00 -4.307617e+00 -6.574463e+00 -8.000000e+00 -7.997314e+00   \n",
       "25%   -1.002393e+00 -8.312914e-02 -3.720700e-01 -9.742110e-01 -1.000873e-01   \n",
       "50%   -9.748998e-01  2.593677e-03 -1.374510e-01 -4.217309e-01  3.262909e-02   \n",
       "75%   -8.123032e-01  7.251000e-02  4.647321e-02 -1.678755e-01  1.549512e-01   \n",
       "max    2.291708e+00  6.491943e+00  4.909483e+00  7.999756e+00  7.999756e+00   \n",
       "\n",
       "            thigh_z         label  \n",
       "count  6.461328e+06  6.461328e+06  \n",
       "mean   3.749160e-01  6.783833e+00  \n",
       "std    7.360983e-01  1.143238e+01  \n",
       "min   -8.000000e+00  1.000000e+00  \n",
       "25%   -1.557138e-01  3.000000e+00  \n",
       "50%    7.004390e-01  7.000000e+00  \n",
       "75%    9.486747e-01  7.000000e+00  \n",
       "max    8.406235e+00  1.400000e+02  "
      ]
     },
     "execution_count": 6,
     "metadata": {},
     "output_type": "execute_result"
    }
   ],
   "source": [
    "# df의 기본적인 정보 및 기초통계량\n",
    "\n",
    "df.describe()"
   ]
  },
  {
   "cell_type": "code",
   "execution_count": 7,
   "id": "a99e5ec7",
   "metadata": {
    "ExecuteTime": {
     "end_time": "2024-08-04T15:36:56.897708Z",
     "start_time": "2024-08-04T15:36:49.061825Z"
    }
   },
   "outputs": [
    {
     "data": {
      "image/png": "[encoded data removed]",
      "text/plain": [
       "<Figure size 640x480 with 1 Axes>"
      ]
     },
     "metadata": {},
     "output_type": "display_data"
    }
   ],
   "source": [
    "# seaborn countplot을 통한 각 레이블 도수 확인\n",
    "\n",
    "sns.countplot (data=df, x='label')\n",
    "plt.xlabel (\"label\")\n",
    "plt.ylabel (\"Number\")\n",
    "plt.title (\"Target\")\n",
    "plt.show()"
   ]
  },
  {
   "cell_type": "code",
   "execution_count": 8,
   "id": "2fadadd0",
   "metadata": {
    "ExecuteTime": {
     "end_time": "2024-08-04T15:36:56.934675Z",
     "start_time": "2024-08-04T15:36:56.899350Z"
    }
   },
   "outputs": [
    {
     "data": {
      "text/plain": [
       "label\n",
       "7      2902703\n",
       "1      1197155\n",
       "6       743480\n",
       "8       428898\n",
       "13      393963\n",
       "2       291356\n",
       "3       254839\n",
       "4        76217\n",
       "5        67253\n",
       "14       55814\n",
       "130      41785\n",
       "140       7865\n",
       "Name: count, dtype: int64"
      ]
     },
     "execution_count": 8,
     "metadata": {},
     "output_type": "execute_result"
    }
   ],
   "source": [
    "# target의 class 도수를 확인 (숫자로)\n",
    "\n",
    "df['label'].value_counts()"
   ]
  },
  {
   "cell_type": "code",
   "execution_count": 9,
   "id": "10de25a8",
   "metadata": {
    "ExecuteTime": {
     "end_time": "2024-08-04T15:36:56.997287Z",
     "start_time": "2024-08-04T15:36:56.936329Z"
    }
   },
   "outputs": [],
   "source": [
    "# input과 target으로 split\n",
    "\n",
    "harth_input = df[['back_x', 'back_y', 'back_z', 'thigh_x', 'thigh_y', 'thigh_z']].to_numpy() \n",
    "harth_target = df['label'].to_numpy()"
   ]
  },
  {
   "cell_type": "code",
   "execution_count": 10,
   "id": "11e7044c",
   "metadata": {
    "ExecuteTime": {
     "end_time": "2024-08-04T15:37:02.638899Z",
     "start_time": "2024-08-04T15:36:57.002296Z"
    }
   },
   "outputs": [],
   "source": [
    "# X_train, y_train, X_test, y_test으로 train set, test set 각각 8:2로 split\n",
    "# 또한, X_train, y_train, X_val, y_val로 train set, validation set 각각 8:2로 split\n",
    "\n",
    "X_train, X_test, y_train, y_test = train_test_split(harth_input, harth_target, \n",
    "                                                   stratify=harth_target, \n",
    "                                                   test_size=0.2)\n",
    "\n",
    "X_train, X_val, y_train, y_val = train_test_split(X_train, y_train,\n",
    "                                                        test_size=0.2, \n",
    "                                                        stratify=y_train)"
   ]
  },
  {
   "cell_type": "code",
   "execution_count": 11,
   "id": "a1db90f2",
   "metadata": {
    "ExecuteTime": {
     "end_time": "2024-08-04T15:37:03.205681Z",
     "start_time": "2024-08-04T15:37:02.641076Z"
    }
   },
   "outputs": [],
   "source": [
    "# StandardScaler을 통한 정규화 진행\n",
    "\n",
    "ss_transformer = StandardScaler()\n",
    "\n",
    "ss_transformer.fit(X_train)\n",
    "\n",
    "X_train_scaled = ss_transformer.transform(X_train)\n",
    "X_test_scaled = ss_transformer.transform(X_test)\n",
    "X_val_scaled = ss_transformer.transform(X_val)"
   ]
  },
  {
   "cell_type": "code",
   "execution_count": 12,
   "id": "c4d13d0d",
   "metadata": {
    "ExecuteTime": {
     "end_time": "2024-08-04T15:37:03.548883Z",
     "start_time": "2024-08-04T15:37:03.208087Z"
    }
   },
   "outputs": [],
   "source": [
    "# one-hot encoding\n",
    "\n",
    "from sklearn.preprocessing import LabelEncoder\n",
    "\n",
    "le = LabelEncoder()\n",
    "y_train_en = le.fit_transform(y_train)\n",
    "y_val_en = le.transform(y_val)\n",
    "y_test_en = le.transform(y_test)"
   ]
  },
  {
   "cell_type": "code",
   "execution_count": 13,
   "id": "7ef6b874",
   "metadata": {
    "ExecuteTime": {
     "end_time": "2024-08-04T15:37:03.871611Z",
     "start_time": "2024-08-04T15:37:03.550770Z"
    }
   },
   "outputs": [],
   "source": [
    "# 이진 라벨로 구성하기 위한 categorical transition 수행\n",
    "\n",
    "from tensorflow.keras.utils import to_categorical\n",
    "\n",
    "y_train = to_categorical(y_train_en, num_classes=12)\n",
    "y_test = to_categorical(y_test_en, num_classes=12)\n",
    "y_val = to_categorical(y_val_en, num_classes=12)"
   ]
  },
  {
   "cell_type": "code",
   "execution_count": 14,
   "id": "9c02436a",
   "metadata": {
    "ExecuteTime": {
     "end_time": "2024-08-04T15:37:08.214077Z",
     "start_time": "2024-08-04T15:37:03.873299Z"
    }
   },
   "outputs": [
    {
     "name": "stdout",
     "output_type": "stream",
     "text": [
      "shape | X_train_poly : (4135249, 28), X_test_poly : (1292266, 28)\n",
      "poly | ['1' 'x0' 'x1' 'x2' 'x3' 'x4' 'x5' 'x0^2' 'x0 x1' 'x0 x2' 'x0 x3' 'x0 x4'\n",
      " 'x0 x5' 'x1^2' 'x1 x2' 'x1 x3' 'x1 x4' 'x1 x5' 'x2^2' 'x2 x3' 'x2 x4'\n",
      " 'x2 x5' 'x3^2' 'x3 x4' 'x3 x5' 'x4^2' 'x4 x5' 'x5^2']\n"
     ]
    }
   ],
   "source": [
    "# feature 늘리기 (추후 사용)\n",
    "\n",
    "from sklearn.preprocessing import PolynomialFeatures\n",
    "poly = PolynomialFeatures()\n",
    "poly.fit(X_train)\n",
    "\n",
    "X_train_poly = poly.transform (X_train)\n",
    "X_test_poly = poly.transform (X_test)\n",
    "X_val_poly = poly.transform (X_val)\n",
    "\n",
    "print (f\"shape | X_train_poly : {X_train_poly.shape}, X_test_poly : {X_test_poly.shape}\")\n",
    "print (f\"poly | {poly.get_feature_names_out()}\")\n",
    "\n",
    "ss_transformer = StandardScaler()\n",
    "\n",
    "ss_transformer.fit(X_train_poly)\n",
    "\n",
    "X_train_poly_scaled = ss_transformer.transform(X_train_poly)\n",
    "X_test_poly_scaled = ss_transformer.transform(X_test_poly)\n",
    "X_val_poly_scaled = ss_transformer.transform(X_val_poly)"
   ]
  },
  {
   "cell_type": "markdown",
   "id": "2525187b",
   "metadata": {},
   "source": [
    "------\n",
    "\n",
    "### 2. ANN (fully connected)\n",
    "- hidden layer를 구성하지 않고, 입력층과 출력층만 존재하는 인공신경망을 struction할 것이다.\n",
    "- 또한 loss function은 categorical_crossentropy를 사용한다."
   ]
  },
  {
   "cell_type": "code",
   "execution_count": 15,
   "id": "b77d8e38",
   "metadata": {
    "ExecuteTime": {
     "end_time": "2024-08-04T15:37:08.670762Z",
     "start_time": "2024-08-04T15:37:08.215852Z"
    }
   },
   "outputs": [
    {
     "name": "stdout",
     "output_type": "stream",
     "text": [
      "records shape :  (7,)\n",
      "Model: \"sequential\"\n",
      "_________________________________________________________________\n",
      " Layer (type)                Output Shape              Param #   \n",
      "=================================================================\n",
      " flatten (Flatten)           (None, 6)                 0         \n",
      "                                                                 \n",
      " dense (Dense)               (None, 12)                84        \n",
      "                                                                 \n",
      "=================================================================\n",
      "Total params: 84 (336.00 Byte)\n",
      "Trainable params: 84 (336.00 Byte)\n",
      "Non-trainable params: 0 (0.00 Byte)\n",
      "_________________________________________________________________\n"
     ]
    },
    {
     "data": {
      "image/png": "[encoded data removed]",
      "text/plain": [
       "<IPython.core.display.Image object>"
      ]
     },
     "execution_count": 15,
     "metadata": {},
     "output_type": "execute_result"
    }
   ],
   "source": [
    "# modelling (다중 분류)\n",
    "\n",
    "print (\"records shape : \", df.iloc[0].shape)\n",
    "\n",
    "model = keras.Sequential([\n",
    "    keras.layers.Flatten(input_shape=(6, )), \n",
    "    keras.layers.Dense(12, activation='softmax')\n",
    "])\n",
    "\n",
    "model.summary()\n",
    "keras.utils.plot_model(model, show_shapes=True)"
   ]
  },
  {
   "cell_type": "code",
   "execution_count": 16,
   "id": "873e802e",
   "metadata": {
    "ExecuteTime": {
     "end_time": "2024-08-04T15:37:08.691558Z",
     "start_time": "2024-08-04T15:37:08.672973Z"
    }
   },
   "outputs": [],
   "source": [
    "# compile\n",
    "\n",
    "model.compile(optimizer='adam', loss='categorical_crossentropy', metrics='accuracy')"
   ]
  },
  {
   "cell_type": "code",
   "execution_count": 17,
   "id": "950bd9c0",
   "metadata": {
    "ExecuteTime": {
     "end_time": "2024-08-04T15:53:37.147417Z",
     "start_time": "2024-08-04T15:37:08.693601Z"
    }
   },
   "outputs": [
    {
     "name": "stdout",
     "output_type": "stream",
     "text": [
      "Epoch 1/20\n",
      "129227/129227 [==============================] - 176s 1ms/step - loss: 1.0746 - accuracy: 0.6591 - val_loss: 1.0643 - val_accuracy: 0.6617\n",
      "Epoch 2/20\n",
      "129227/129227 [==============================] - 227s 2ms/step - loss: 1.0648 - accuracy: 0.6608 - val_loss: 1.0643 - val_accuracy: 0.6594\n",
      "Epoch 3/20\n",
      "129227/129227 [==============================] - 177s 1ms/step - loss: 1.0648 - accuracy: 0.6608 - val_loss: 1.0641 - val_accuracy: 0.6612\n",
      "Epoch 4/20\n",
      "129227/129227 [==============================] - 141s 1ms/step - loss: 1.0648 - accuracy: 0.6608 - val_loss: 1.0641 - val_accuracy: 0.6604\n",
      "Epoch 5/20\n",
      "129227/129227 [==============================] - 125s 968us/step - loss: 1.0647 - accuracy: 0.6608 - val_loss: 1.0642 - val_accuracy: 0.6616\n",
      "Epoch 6/20\n",
      "129227/129227 [==============================] - 142s 1ms/step - loss: 1.0648 - accuracy: 0.6608 - val_loss: 1.0643 - val_accuracy: 0.6633\n",
      "{'loss': [1.0745775699615479, 1.0647691488265991, 1.0647549629211426, 1.064750075340271, 1.0647480487823486, 1.0647790431976318], 'accuracy': [0.6590674519538879, 0.660754919052124, 0.6608206629753113, 0.6608141660690308, 0.6607977151870728, 0.6608131527900696], 'val_loss': [1.0642813444137573, 1.0643445253372192, 1.0640895366668701, 1.0641326904296875, 1.064218282699585, 1.064257264137268], 'val_accuracy': [0.6616902947425842, 0.6593900322914124, 0.6612404584884644, 0.6604376435279846, 0.661618709564209, 0.663262128829956]}\n"
     ]
    }
   ],
   "source": [
    "# fit\n",
    "# early stopping callback을 통하여 overfitting 방지\n",
    "\n",
    "early_stopping_cb = keras.callbacks.EarlyStopping(patience=3, \n",
    "                                                 restore_best_weights=True)\n",
    "\n",
    "history = model.fit(X_train_scaled, y_train, epochs=20, \n",
    "                    validation_data=(X_val_scaled, y_val),\n",
    "                   callbacks=[early_stopping_cb], \n",
    "                    verbose=True)\n",
    "\n",
    "print (history.history)"
   ]
  },
  {
   "cell_type": "code",
   "execution_count": 18,
   "id": "2a55c2e7",
   "metadata": {
    "ExecuteTime": {
     "end_time": "2024-08-04T15:53:37.328019Z",
     "start_time": "2024-08-04T15:53:37.149324Z"
    },
    "scrolled": true
   },
   "outputs": [
    {
     "data": {
      "image/png": "[encoded data removed]",
      "text/plain": [
       "<Figure size 640x480 with 1 Axes>"
      ]
     },
     "metadata": {},
     "output_type": "display_data"
    }
   ],
   "source": [
    "# loss 시각화\n",
    "\n",
    "plt.plot(history.history['loss'])\n",
    "plt.plot(history.history['val_loss'])\n",
    "plt.xlabel('number of epoch')\n",
    "plt.ylabel('loss')\n",
    "plt.legend (['train loss', 'validation loss'])\n",
    "plt.show() "
   ]
  },
  {
   "cell_type": "markdown",
   "id": "9bfc0396",
   "metadata": {},
   "source": [
    "위 결과를 파악하면 다음과 같은 결과를 알 수 있다. \n",
    "\n",
    "\n",
    "- 일단은, accuracy가 약 0.6608를 유지하고 있다. 이는 ./ML_classification_HARTH에서 logistic regression 수행 시 cross-validation score인 0.6607과 거의 비슷하다.\n",
    "- 왜 계속 accuracy가 유지되는지를 생각해보았을 때, 아래와 같은 근거를 찾을 수 있었다.\n",
    "    - ./ML_classification_HARTH의 heatmap을 보았을 때 알 수 있듯이, 대부분의 feature correlation이 매우 저조한 것을 알 수 있다. 따라서 label에 미치는 영향이 그리 크지 않기에 epoch를 1~2번만 해도 특정 accuracy에 수렴할 수도 있다는 것.\n",
    "    - 모델이 너무 단순해서 그럴지도 모른다.\n",
    "    - feature가 너무 적어서 최적의 weight, bias를 금새 찾았을 지도 모른다.\n",
    "- 그래도 train loss는 epoch 1에서 일정량 줄어들었으며, validation loss는 일정히 유지하고 있다.\n",
    "    \n",
    "PolynormialFeatures를 통하여 feature을 늘린 **X_train_poly_scaled**를 이용하여 다시 시도하여 본다."
   ]
  },
  {
   "cell_type": "code",
   "execution_count": 19,
   "id": "e6fdbdf3",
   "metadata": {
    "ExecuteTime": {
     "end_time": "2024-08-04T16:34:29.047443Z",
     "start_time": "2024-08-04T15:53:37.329619Z"
    }
   },
   "outputs": [
    {
     "name": "stdout",
     "output_type": "stream",
     "text": [
      "Model: \"sequential_1\"\n",
      "_________________________________________________________________\n",
      " Layer (type)                Output Shape              Param #   \n",
      "=================================================================\n",
      " flatten_1 (Flatten)         (None, 28)                0         \n",
      "                                                                 \n",
      " dense_1 (Dense)             (None, 12)                348       \n",
      "                                                                 \n",
      "=================================================================\n",
      "Total params: 348 (1.36 KB)\n",
      "Trainable params: 348 (1.36 KB)\n",
      "Non-trainable params: 0 (0.00 Byte)\n",
      "_________________________________________________________________\n",
      "Epoch 1/20\n",
      "129227/129227 [==============================] - 144s 1ms/step - loss: 0.6505 - accuracy: 0.8042 - val_loss: 0.6150 - val_accuracy: 0.8171\n",
      "Epoch 2/20\n",
      "129227/129227 [==============================] - 149s 1ms/step - loss: 0.6113 - accuracy: 0.8187 - val_loss: 0.6067 - val_accuracy: 0.8198\n",
      "Epoch 3/20\n",
      "129227/129227 [==============================] - 155s 1ms/step - loss: 0.6069 - accuracy: 0.8209 - val_loss: 0.6044 - val_accuracy: 0.8207\n",
      "Epoch 4/20\n",
      "129227/129227 [==============================] - 154s 1ms/step - loss: 0.6052 - accuracy: 0.8220 - val_loss: 0.6030 - val_accuracy: 0.8222\n",
      "Epoch 5/20\n",
      "129227/129227 [==============================] - 174s 1ms/step - loss: 0.6044 - accuracy: 0.8226 - val_loss: 0.6035 - val_accuracy: 0.8214\n",
      "Epoch 6/20\n",
      "129227/129227 [==============================] - 175s 1ms/step - loss: 0.6040 - accuracy: 0.8230 - val_loss: 0.6018 - val_accuracy: 0.8223\n",
      "Epoch 7/20\n",
      "129227/129227 [==============================] - 264s 2ms/step - loss: 0.6037 - accuracy: 0.8234 - val_loss: 0.6020 - val_accuracy: 0.8225\n",
      "Epoch 8/20\n",
      "129227/129227 [==============================] - 182s 1ms/step - loss: 0.6035 - accuracy: 0.8235 - val_loss: 0.6017 - val_accuracy: 0.8224\n",
      "Epoch 9/20\n",
      "129227/129227 [==============================] - 163s 1ms/step - loss: 0.6034 - accuracy: 0.8237 - val_loss: 0.6014 - val_accuracy: 0.8235\n",
      "Epoch 10/20\n",
      "129227/129227 [==============================] - 149s 1ms/step - loss: 0.6033 - accuracy: 0.8239 - val_loss: 0.6015 - val_accuracy: 0.8229\n",
      "Epoch 11/20\n",
      "129227/129227 [==============================] - 171s 1ms/step - loss: 0.6033 - accuracy: 0.8240 - val_loss: 0.6022 - val_accuracy: 0.8226\n",
      "Epoch 12/20\n",
      "129227/129227 [==============================] - 142s 1ms/step - loss: 0.6032 - accuracy: 0.8241 - val_loss: 0.6005 - val_accuracy: 0.8243\n",
      "Epoch 13/20\n",
      "129227/129227 [==============================] - 145s 1ms/step - loss: 0.6032 - accuracy: 0.8242 - val_loss: 0.6010 - val_accuracy: 0.8240\n",
      "Epoch 14/20\n",
      "129227/129227 [==============================] - 141s 1ms/step - loss: 0.6033 - accuracy: 0.8243 - val_loss: 0.6013 - val_accuracy: 0.8245\n",
      "Epoch 15/20\n",
      "129227/129227 [==============================] - 142s 1ms/step - loss: 0.6032 - accuracy: 0.8242 - val_loss: 0.6010 - val_accuracy: 0.8259\n",
      "{'loss': [0.6504912376403809, 0.6113449931144714, 0.6069290041923523, 0.6052320003509521, 0.604408323764801, 0.6039794087409973, 0.6036665439605713, 0.6034627556800842, 0.6033929586410522, 0.6033440232276917, 0.6032865047454834, 0.6032301783561707, 0.6032342314720154, 0.6032851934432983, 0.603230893611908], 'accuracy': [0.8041887879371643, 0.8186634182929993, 0.8208801746368408, 0.8219621181488037, 0.8226428627967834, 0.8230304718017578, 0.8233675956726074, 0.8235460519790649, 0.8237208724021912, 0.8238990902900696, 0.8239880800247192, 0.8241037130355835, 0.8241900205612183, 0.8243363499641418, 0.8242419958114624], 'val_loss': [0.6150314211845398, 0.6067433953285217, 0.6044011116027832, 0.6030297875404358, 0.603472113609314, 0.6018422245979309, 0.6019536256790161, 0.6016771793365479, 0.6013948917388916, 0.6015371084213257, 0.6022284030914307, 0.6004655361175537, 0.601033091545105, 0.6012996435165405, 0.6010069251060486], 'val_accuracy': [0.8171004056930542, 0.8198446035385132, 0.8207074403762817, 0.8221999406814575, 0.821359395980835, 0.8223179578781128, 0.8225210905075073, 0.8223614692687988, 0.8234825730323792, 0.8228867053985596, 0.8225955963134766, 0.8243463635444641, 0.8240059018135071, 0.8244643807411194, 0.8259249925613403]}\n"
     ]
    }
   ],
   "source": [
    "# 모델 재조정 및 재학습\n",
    "\n",
    "model = keras.Sequential([\n",
    "    keras.layers.Flatten(input_shape=(28, )), \n",
    "    keras.layers.Dense(12, activation='softmax')\n",
    "])\n",
    "\n",
    "model.summary()\n",
    "\n",
    "model.compile(optimizer='adam', loss='categorical_crossentropy', metrics='accuracy')\n",
    "\n",
    "history = model.fit(X_train_poly_scaled, y_train, epochs=20, \n",
    "                    validation_data=(X_val_poly_scaled, y_val),\n",
    "                   callbacks=[early_stopping_cb], \n",
    "                    verbose=True)\n",
    "\n",
    "print (history.history)"
   ]
  },
  {
   "cell_type": "code",
   "execution_count": 20,
   "id": "6fd84314",
   "metadata": {
    "ExecuteTime": {
     "end_time": "2024-08-04T16:34:29.230447Z",
     "start_time": "2024-08-04T16:34:29.049958Z"
    }
   },
   "outputs": [
    {
     "data": {
      "image/png": "[encoded data removed]",
      "text/plain": [
       "<Figure size 640x480 with 1 Axes>"
      ]
     },
     "metadata": {},
     "output_type": "display_data"
    }
   ],
   "source": [
    "# loss 재시각화\n",
    "\n",
    "plt.plot(history.history['loss'])\n",
    "plt.plot(history.history['val_loss'])\n",
    "plt.xlabel('number of epoch')\n",
    "plt.ylabel('loss')\n",
    "plt.legend (['train loss', 'validation loss'])\n",
    "plt.show() "
   ]
  },
  {
   "cell_type": "markdown",
   "id": "f9a87e05",
   "metadata": {},
   "source": [
    "**feature를 늘렸더니 전보다 더욱 accuracy가 높아졌으며, overfitting 또한 잘 제어하는 것을 확인 가능하다. 확인 가능하다. 추후엔 계속 poly set으로 학습을 진행한다.**"
   ]
  },
  {
   "cell_type": "markdown",
   "id": "42dd3412",
   "metadata": {},
   "source": [
    "-------\n",
    "\n",
    "### 3. DNN \n",
    "- hidden layer을 충분히 구성하여 신경망을 struction할 것임\n",
    "    - parameter는 최소한 15000개 이상으로 증폭, 각 node의 activation은 relu 사용\n",
    "    - epoch는 50으로 고정\n",
    "- 아래와 같이 experiment할 예정이다.\n",
    "    - optimizer는 **적응형 학습율 optimizer인 adam을 사용한다.**\n",
    "    - validation loss 감소를 위하여 **dropout 층을 추가 후, callback으로 early stopping을 도입**한다.\n",
    "        - patiences는 5로 한다.\n",
    "    - **overfitting을 막기 위해 Dropout 층을 배치**한다."
   ]
  },
  {
   "cell_type": "code",
   "execution_count": 21,
   "id": "6a31a4f3",
   "metadata": {
    "ExecuteTime": {
     "end_time": "2024-08-04T16:34:29.709740Z",
     "start_time": "2024-08-04T16:34:29.232173Z"
    }
   },
   "outputs": [
    {
     "name": "stdout",
     "output_type": "stream",
     "text": [
      "Model: \"sequential_2\"\n",
      "_________________________________________________________________\n",
      " Layer (type)                Output Shape              Param #   \n",
      "=================================================================\n",
      " flatten_2 (Flatten)         (None, 6)                 0         \n",
      "                                                                 \n",
      " dense_2 (Dense)             (None, 256)               1792      \n",
      "                                                                 \n",
      " dense_3 (Dense)             (None, 128)               32896     \n",
      "                                                                 \n",
      " dropout (Dropout)           (None, 128)               0         \n",
      "                                                                 \n",
      " dense_4 (Dense)             (None, 64)                8256      \n",
      "                                                                 \n",
      " dropout_1 (Dropout)         (None, 64)                0         \n",
      "                                                                 \n",
      " dense_5 (Dense)             (None, 32)                2080      \n",
      "                                                                 \n",
      " dropout_2 (Dropout)         (None, 32)                0         \n",
      "                                                                 \n",
      " dense_6 (Dense)             (None, 16)                528       \n",
      "                                                                 \n",
      " dense_7 (Dense)             (None, 12)                204       \n",
      "                                                                 \n",
      "=================================================================\n",
      "Total params: 45756 (178.73 KB)\n",
      "Trainable params: 45756 (178.73 KB)\n",
      "Non-trainable params: 0 (0.00 Byte)\n",
      "_________________________________________________________________\n"
     ]
    },
    {
     "data": {
      "image/png": "[encoded data removed]",
      "text/plain": [
       "<IPython.core.display.Image object>"
      ]
     },
     "execution_count": 21,
     "metadata": {},
     "output_type": "execute_result"
    }
   ],
   "source": [
    "# modelling DNN\n",
    "# 여기서는 feature를 늘린 X_train_poly_scaled를 사용한다.\n",
    "\n",
    "model = keras.Sequential([\n",
    "    keras.layers.Flatten(input_shape=(28, )), \n",
    "    keras.layers.Dense(256, activation='relu'), \n",
    "    keras.layers.Dense(128, activation='relu'),\n",
    "    keras.layers.Dropout(0.3),\n",
    "    keras.layers.Dense(64, activation='relu'),\n",
    "    keras.layers.Dropout(0.3),\n",
    "    keras.layers.Dense(32, activation='relu'),\n",
    "    keras.layers.Dropout(0.3),\n",
    "    keras.layers.Dense(16, activation='relu'),\n",
    "    keras.layers.Dense(12, activation='softmax')\n",
    "])\n",
    "\n",
    "model.summary()\n",
    "keras.utils.plot_model(model, show_shapes=True)"
   ]
  },
  {
   "cell_type": "code",
   "execution_count": 22,
   "id": "dfa64b3e",
   "metadata": {
    "ExecuteTime": {
     "end_time": "2024-08-04T16:34:29.723161Z",
     "start_time": "2024-08-04T16:34:29.712303Z"
    }
   },
   "outputs": [],
   "source": [
    "# compile\n",
    "\n",
    "adam = keras.optimizers.Adam()\n",
    "model.compile(optimizer=adam, loss='categorical_crossentropy', metrics='accuracy')"
   ]
  },
  {
   "cell_type": "code",
   "execution_count": 23,
   "id": "3766dce5",
   "metadata": {
    "ExecuteTime": {
     "end_time": "2024-08-04T17:26:05.433099Z",
     "start_time": "2024-08-04T16:34:29.725211Z"
    }
   },
   "outputs": [
    {
     "name": "stdout",
     "output_type": "stream",
     "text": [
      "Epoch 1/50\n",
      "229737/229737 [==============================] - 365s 2ms/step - loss: 0.5039 - accuracy: 0.8492 - val_loss: 4.0918 - val_accuracy: 0.1941\n",
      "Epoch 2/50\n",
      "229737/229737 [==============================] - 398s 2ms/step - loss: 0.4759 - accuracy: 0.8583 - val_loss: 3.7209 - val_accuracy: 0.2232\n",
      "Epoch 3/50\n",
      "229737/229737 [==============================] - 399s 2ms/step - loss: 0.4746 - accuracy: 0.8591 - val_loss: 4.1828 - val_accuracy: 0.2048\n",
      "Epoch 4/50\n",
      "229737/229737 [==============================] - 434s 2ms/step - loss: 0.4759 - accuracy: 0.8597 - val_loss: 3.9568 - val_accuracy: 0.2134\n",
      "Epoch 5/50\n",
      "229737/229737 [==============================] - 484s 2ms/step - loss: 0.4790 - accuracy: 0.8593 - val_loss: 3.8600 - val_accuracy: 0.2061\n",
      "Epoch 6/50\n",
      "229737/229737 [==============================] - 555s 2ms/step - loss: 0.4786 - accuracy: 0.8595 - val_loss: 3.9000 - val_accuracy: 0.2264\n",
      "Epoch 7/50\n",
      "229737/229737 [==============================] - 461s 2ms/step - loss: 0.4790 - accuracy: 0.8599 - val_loss: 4.2143 - val_accuracy: 0.2123\n"
     ]
    }
   ],
   "source": [
    "# callback 설정 및 fit\n",
    "\n",
    "early_stopping_cb = keras.callbacks.EarlyStopping(patience=5, \n",
    "                                                 restore_best_weights=True)\n",
    "\n",
    "history = model.fit(X_train_poly_scaled, y_train, epochs=50, \n",
    "                    validation_data=(X_val_poly_scaled, y_val), batch_size=18, \n",
    "                    callbacks=early_stopping_cb, verbose=True)"
   ]
  },
  {
   "cell_type": "code",
   "execution_count": 24,
   "id": "20b50cf5",
   "metadata": {
    "ExecuteTime": {
     "end_time": "2024-08-05T01:10:21.980344Z",
     "start_time": "2024-08-05T01:10:21.831131Z"
    }
   },
   "outputs": [
    {
     "name": "stdout",
     "output_type": "stream",
     "text": [
      "{'loss': [0.5039026141166687, 0.47594237327575684, 0.4745739996433258, 0.4758903682231903, 0.47904035449028015, 0.47855809330940247, 0.47896671295166016], 'accuracy': [0.8492308259010315, 0.8582677841186523, 0.8590960502624512, 0.8597356677055359, 0.8592692017555237, 0.8594838976860046, 0.8598722815513611], 'val_loss': [4.091774940490723, 3.7208781242370605, 4.1827898025512695, 3.956834316253662, 3.8599586486816406, 3.9000344276428223, 4.214311599731445], 'val_accuracy': [0.19408538937568665, 0.22323669493198395, 0.20475560426712036, 0.21337515115737915, 0.2060595154762268, 0.22644133865833282, 0.21227823197841644]}\n"
     ]
    },
    {
     "data": {
      "image/png": "[encoded data removed]",
      "text/plain": [
       "<Figure size 640x480 with 1 Axes>"
      ]
     },
     "metadata": {},
     "output_type": "display_data"
    }
   ],
   "source": [
    "# history 그리고 loss 시각화\n",
    "\n",
    "print (history.history)\n",
    "\n",
    "plt.plot(history.history['loss'])\n",
    "plt.plot(history.history['val_loss'])\n",
    "plt.xlabel('number of epoch')\n",
    "plt.ylabel('loss')\n",
    "plt.legend (['train loss', 'validation loss'])\n",
    "plt.show() "
   ]
  },
  {
   "cell_type": "code",
   "execution_count": 25,
   "id": "e8ff1db6",
   "metadata": {
    "ExecuteTime": {
     "end_time": "2024-08-05T01:43:35.419994Z",
     "start_time": "2024-08-05T01:43:07.677032Z"
    }
   },
   "outputs": [
    {
     "name": "stdout",
     "output_type": "stream",
     "text": [
      "32307/32307 [==============================] - 28s 855us/step - loss: 0.4278 - accuracy: 0.8715\n"
     ]
    },
    {
     "data": {
      "text/plain": [
       "[0.42777225375175476, 0.8715299367904663]"
      ]
     },
     "execution_count": 25,
     "metadata": {},
     "output_type": "execute_result"
    }
   ],
   "source": [
    "# evaluate\n",
    "\n",
    "model.evaluate(X_val_scaled, y_val)"
   ]
  },
  {
   "cell_type": "code",
   "execution_count": 29,
   "id": "e738248d",
   "metadata": {
    "ExecuteTime": {
     "end_time": "2024-08-05T01:50:19.352007Z",
     "start_time": "2024-08-05T01:49:08.947289Z"
    }
   },
   "outputs": [
    {
     "name": "stdout",
     "output_type": "stream",
     "text": [
      "32307/32307 [==============================] - 22s 672us/step\n",
      "40384/40384 [==============================] - 27s 668us/step\n",
      "- validation data confusion matrix -\n",
      "\n",
      "[[167585   2085      4      0      0  14547    608     25   6135    556\n",
      "       0      0]\n",
      " [  8023  37496      0      0      0     68    406    124    327    173\n",
      "       0      0]\n",
      " [ 17772     99      5      0      0  20429    378     18   1926    147\n",
      "       0      0]\n",
      " [  8518    283      0      0      0    657     80      2   2483    172\n",
      "       0      0]\n",
      " [  9217    575      0      0      0    253     12      3    651     50\n",
      "       0      0]\n",
      " [  9047     63      2      0      0 106658   1112     18   1913    144\n",
      "       0      0]\n",
      " [   806     56      0      0      0    147 462409     95    915      5\n",
      "       0      0]\n",
      " [    40     42      0      0      0      0    103  68393     26     20\n",
      "       0      0]\n",
      " [  5459    156      1      0      0    418    544     12  55897    547\n",
      "       0      0]\n",
      " [  2613    211      1      0      0    165     31      5   3348   2556\n",
      "       0      0]\n",
      " [   250      7      0      0      0    335     59      2   5785    247\n",
      "       0      0]\n",
      " [   114      2      0      0      0     18      3      0    843    278\n",
      "       0      0]]\n",
      "\n",
      " --------------- \n",
      "\n",
      "- test data confusion matrix -\n",
      "\n",
      "[[209819   2592      0      0      0  18045    749     35   7453    738\n",
      "       0      0]\n",
      " [ 10042  46815      1      0      0     75    506    175    417    240\n",
      "       0      0]\n",
      " [ 22092    123      9      0      0  25625    416     23   2503    177\n",
      "       0      0]\n",
      " [ 10590    362      0      0      0    846     82      4   3139    220\n",
      "       0      0]\n",
      " [ 11492    766      0      0      0    274     32      4    818     64\n",
      "       0      0]\n",
      " [ 11368     72      3      0      0 133193   1457     28   2411    164\n",
      "       0      0]\n",
      " [   975     79      0      0      0    149 578147    112   1075      4\n",
      "       0      0]\n",
      " [    37     52      0      0      0      4    139  85501     28     19\n",
      "       0      0]\n",
      " [  6848    211      1      0      0    599    693      8  69736    697\n",
      "       0      0]\n",
      " [  3252    287      3      0      0    184     31      7   4243   3156\n",
      "       0      0]\n",
      " [   340     11      0      0      0    385     77      2   7286    256\n",
      "       0      0]\n",
      " [   136      2      0      0      0     31     11      0   1048    345\n",
      "       0      0]]\n",
      "\n",
      " --------------- \n",
      "\n"
     ]
    },
    {
     "name": "stderr",
     "output_type": "stream",
     "text": [
      "/Library/Frameworks/Python.framework/Versions/3.11/lib/python3.11/site-packages/sklearn/metrics/_classification.py:1471: UndefinedMetricWarning: Precision and F-score are ill-defined and being set to 0.0 in labels with no predicted samples. Use `zero_division` parameter to control this behavior.\n",
      "  _warn_prf(average, modifier, msg_start, len(result))\n",
      "/Library/Frameworks/Python.framework/Versions/3.11/lib/python3.11/site-packages/sklearn/metrics/_classification.py:1471: UndefinedMetricWarning: Precision and F-score are ill-defined and being set to 0.0 in labels with no predicted samples. Use `zero_division` parameter to control this behavior.\n",
      "  _warn_prf(average, modifier, msg_start, len(result))\n",
      "/Library/Frameworks/Python.framework/Versions/3.11/lib/python3.11/site-packages/sklearn/metrics/_classification.py:1471: UndefinedMetricWarning: Precision and F-score are ill-defined and being set to 0.0 in labels with no predicted samples. Use `zero_division` parameter to control this behavior.\n",
      "  _warn_prf(average, modifier, msg_start, len(result))\n"
     ]
    },
    {
     "name": "stdout",
     "output_type": "stream",
     "text": [
      "- validation data report of classification -\n",
      "\n",
      "              precision    recall  f1-score   support\n",
      "\n",
      "           0       0.73      0.87      0.80    191545\n",
      "           1       0.91      0.80      0.86     46617\n",
      "           2       0.38      0.00      0.00     40774\n",
      "           3       0.00      0.00      0.00     12195\n",
      "           4       0.00      0.00      0.00     10761\n",
      "           5       0.74      0.90      0.81    118957\n",
      "           6       0.99      1.00      0.99    464433\n",
      "           7       1.00      1.00      1.00     68624\n",
      "           8       0.70      0.89      0.78     63034\n",
      "           9       0.52      0.29      0.37      8930\n",
      "          10       0.00      0.00      0.00      6685\n",
      "          11       0.00      0.00      0.00      1258\n",
      "\n",
      "    accuracy                           0.87   1033813\n",
      "   macro avg       0.50      0.48      0.47   1033813\n",
      "weighted avg       0.84      0.87      0.84   1033813\n",
      "\n",
      "\n",
      " --------------- \n",
      "\n"
     ]
    },
    {
     "name": "stderr",
     "output_type": "stream",
     "text": [
      "/Library/Frameworks/Python.framework/Versions/3.11/lib/python3.11/site-packages/sklearn/metrics/_classification.py:1471: UndefinedMetricWarning: Precision and F-score are ill-defined and being set to 0.0 in labels with no predicted samples. Use `zero_division` parameter to control this behavior.\n",
      "  _warn_prf(average, modifier, msg_start, len(result))\n",
      "/Library/Frameworks/Python.framework/Versions/3.11/lib/python3.11/site-packages/sklearn/metrics/_classification.py:1471: UndefinedMetricWarning: Precision and F-score are ill-defined and being set to 0.0 in labels with no predicted samples. Use `zero_division` parameter to control this behavior.\n",
      "  _warn_prf(average, modifier, msg_start, len(result))\n"
     ]
    },
    {
     "name": "stdout",
     "output_type": "stream",
     "text": [
      "- test data report of classification -\n",
      "\n",
      "              precision    recall  f1-score   support\n",
      "\n",
      "           0       0.73      0.88      0.80    239431\n",
      "           1       0.91      0.80      0.85     58271\n",
      "           2       0.53      0.00      0.00     50968\n",
      "           3       0.00      0.00      0.00     15243\n",
      "           4       0.00      0.00      0.00     13450\n",
      "           5       0.74      0.90      0.81    148696\n",
      "           6       0.99      1.00      0.99    580541\n",
      "           7       1.00      1.00      1.00     85780\n",
      "           8       0.70      0.89      0.78     78793\n",
      "           9       0.52      0.28      0.37     11163\n",
      "          10       0.00      0.00      0.00      8357\n",
      "          11       0.00      0.00      0.00      1573\n",
      "\n",
      "    accuracy                           0.87   1292266\n",
      "   macro avg       0.51      0.48      0.47   1292266\n",
      "weighted avg       0.84      0.87      0.84   1292266\n",
      "\n",
      "\n",
      " --------------- \n",
      "\n"
     ]
    },
    {
     "name": "stderr",
     "output_type": "stream",
     "text": [
      "/Library/Frameworks/Python.framework/Versions/3.11/lib/python3.11/site-packages/sklearn/metrics/_classification.py:1471: UndefinedMetricWarning: Precision and F-score are ill-defined and being set to 0.0 in labels with no predicted samples. Use `zero_division` parameter to control this behavior.\n",
      "  _warn_prf(average, modifier, msg_start, len(result))\n"
     ]
    }
   ],
   "source": [
    "# confusion matrix 및 report\n",
    "# validation dataset과 test dataset을 따로 report 및 matrix drawing\n",
    "\n",
    "from sklearn.metrics import classification_report, confusion_matrix\n",
    "\n",
    "y_val_pred = model.predict(X_val_scaled )\n",
    "y_test_pred = model.predict(X_test_scaled)\n",
    "\n",
    "y_val_pred_classes = np.argmax(y_val_pred, axis=1)\n",
    "y_test_pred_classes = np.argmax(y_test_pred, axis=1)\n",
    "\n",
    "############\n",
    "\n",
    "cm_val = confusion_matrix(y_val_en, y_val_pred_classes)\n",
    "print (\"- validation data confusion matrix -\\n\")\n",
    "print (cm_val)\n",
    "\n",
    "print ('\\n --------------- \\n')\n",
    "\n",
    "cm_test = confusion_matrix(y_test_en, y_test_pred_classes)\n",
    "print (\"- test data confusion matrix -\\n\")\n",
    "print (cm_test)\n",
    "\n",
    "print ('\\n --------------- \\n')\n",
    "\n",
    "cr_val = classification_report(y_val_en, y_val_pred_classes)\n",
    "print (\"- validation data report of classification -\\n\")\n",
    "print (cr_val)\n",
    "\n",
    "print ('\\n --------------- \\n')\n",
    "\n",
    "cr_test = classification_report(y_test_en, y_test_pred_classes)\n",
    "print (\"- test data report of classification -\\n\")\n",
    "print (cr_test)\n",
    "\n",
    "print ('\\n --------------- \\n')"
   ]
  }
 ],
 "metadata": {
  "kernelspec": {
   "display_name": "Python 3 (ipykernel)",
   "language": "python",
   "name": "python3"
  },
  "language_info": {
   "codemirror_mode": {
    "name": "ipython",
    "version": 3
   },
   "file_extension": ".py",
   "mimetype": "text/x-python",
   "name": "python",
   "nbconvert_exporter": "python",
   "pygments_lexer": "ipython3",
   "version": "3.11.6"
  },
  "toc": {
   "base_numbering": 1,
   "nav_menu": {},
   "number_sections": false,
   "sideBar": true,
   "skip_h1_title": false,
   "title_cell": "Table of Contents",
   "title_sidebar": "Contents",
   "toc_cell": false,
   "toc_position": {},
   "toc_section_display": true,
   "toc_window_display": false
  }
 },
 "nbformat": 4,
 "nbformat_minor": 5
}
