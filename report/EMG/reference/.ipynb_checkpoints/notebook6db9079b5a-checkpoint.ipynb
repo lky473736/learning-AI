{
 "cells": [
  {
   "cell_type": "code",
   "execution_count": 1,
   "id": "681b3cc3",
   "metadata": {
    "execution": {
     "iopub.execute_input": "2024-05-03T04:38:59.900021Z",
     "iopub.status.busy": "2024-05-03T04:38:59.899625Z",
     "iopub.status.idle": "2024-05-03T04:39:00.730830Z",
     "shell.execute_reply": "2024-05-03T04:39:00.729830Z"
    },
    "id": "npFemIWusYQi",
    "papermill": {
     "duration": 0.840689,
     "end_time": "2024-05-03T04:39:00.733462",
     "exception": false,
     "start_time": "2024-05-03T04:38:59.892773",
     "status": "completed"
    },
    "tags": []
   },
   "outputs": [],
   "source": [
    "import numpy as np\n",
    "import pandas as pd"
   ]
  },
  {
   "cell_type": "code",
   "execution_count": 2,
   "id": "32437ac7",
   "metadata": {
    "execution": {
     "iopub.execute_input": "2024-05-03T04:39:00.748549Z",
     "iopub.status.busy": "2024-05-03T04:39:00.747719Z",
     "iopub.status.idle": "2024-05-03T04:39:01.886656Z",
     "shell.execute_reply": "2024-05-03T04:39:01.885416Z"
    },
    "papermill": {
     "duration": 1.148858,
     "end_time": "2024-05-03T04:39:01.889056",
     "exception": false,
     "start_time": "2024-05-03T04:39:00.740198",
     "status": "completed"
    },
    "tags": []
   },
   "outputs": [],
   "source": [
    "import pandas as pd\n",
    "import glob\n",
    "import numpy as np\n",
    "from sklearn.model_selection import train_test_split\n",
    "import matplotlib.pyplot as plt"
   ]
  },
  {
   "cell_type": "code",
   "execution_count": 3,
   "id": "986f82b5",
   "metadata": {
    "execution": {
     "iopub.execute_input": "2024-05-03T04:39:01.900882Z",
     "iopub.status.busy": "2024-05-03T04:39:01.900501Z",
     "iopub.status.idle": "2024-05-03T04:39:01.908625Z",
     "shell.execute_reply": "2024-05-03T04:39:01.907467Z"
    },
    "id": "oTrTMpTwtLXd",
    "papermill": {
     "duration": 0.016607,
     "end_time": "2024-05-03T04:39:01.910797",
     "exception": false,
     "start_time": "2024-05-03T04:39:01.894190",
     "status": "completed"
    },
    "tags": []
   },
   "outputs": [],
   "source": [
    "class FCLayer:\n",
    "    def __init__(self, input_size, output_size):\n",
    "        self.input_size = input_size\n",
    "        self.output_size = output_size\n",
    "        self.weights = np.random.randn(input_size, output_size) / np.sqrt(input_size + output_size)\n",
    "        self.bias = np.random.randn(1, output_size) / np.sqrt(input_size + output_size)\n",
    "\n",
    "    def forward(self, input):\n",
    "        self.input = input\n",
    "        return np.dot(input, self.weights) + self.bias\n",
    "\n",
    "    def backward(self, output_error, learning_rate):\n",
    "        input_error = np.dot(output_error, self.weights.T)\n",
    "        weights_error = np.dot(self.input.T, output_error)\n",
    "        # print((learning_rate * weights_error).shape, self.weights.shape)\n",
    "        # bias_error = output_error\n",
    "        self.weights -= (learning_rate * weights_error).reshape(self.weights.shape)\n",
    "        self.bias -= learning_rate * output_error\n",
    "        return input_error"
   ]
  },
  {
   "cell_type": "code",
   "execution_count": 4,
   "id": "8c2bb8c5",
   "metadata": {
    "execution": {
     "iopub.execute_input": "2024-05-03T04:39:01.923035Z",
     "iopub.status.busy": "2024-05-03T04:39:01.922012Z",
     "iopub.status.idle": "2024-05-03T04:39:01.928444Z",
     "shell.execute_reply": "2024-05-03T04:39:01.927252Z"
    },
    "id": "E6nSYAB2sam3",
    "papermill": {
     "duration": 0.014669,
     "end_time": "2024-05-03T04:39:01.930523",
     "exception": false,
     "start_time": "2024-05-03T04:39:01.915854",
     "status": "completed"
    },
    "tags": []
   },
   "outputs": [],
   "source": [
    "class ActivationLayer:\n",
    "    def __init__(self, activation, activation_prime):\n",
    "        self.activation = activation\n",
    "        self.activation_prime = activation_prime\n",
    "\n",
    "    def forward(self, input):\n",
    "        self.input = input\n",
    "        return self.activation(input)\n",
    "\n",
    "    def backward(self, output_error, learning_rate):\n",
    "        return output_error * self.activation_prime(self.input)"
   ]
  },
  {
   "cell_type": "code",
   "execution_count": 5,
   "id": "b0e8211a",
   "metadata": {
    "execution": {
     "iopub.execute_input": "2024-05-03T04:39:01.942494Z",
     "iopub.status.busy": "2024-05-03T04:39:01.941636Z",
     "iopub.status.idle": "2024-05-03T04:39:01.947930Z",
     "shell.execute_reply": "2024-05-03T04:39:01.946903Z"
    },
    "id": "hl8LxP1lAEiN",
    "papermill": {
     "duration": 0.014529,
     "end_time": "2024-05-03T04:39:01.949987",
     "exception": false,
     "start_time": "2024-05-03T04:39:01.935458",
     "status": "completed"
    },
    "tags": []
   },
   "outputs": [],
   "source": [
    "# bonus\n",
    "class FlattenLayer:\n",
    "    def __init__(self, input_shape):\n",
    "        self.input_shape = input_shape\n",
    "\n",
    "    def forward(self, input):\n",
    "        return np.reshape(input, (1, -1))\n",
    "\n",
    "    def backward(self, output_error, learning_rate):\n",
    "        return np.reshape(output_error, self.input_shape)"
   ]
  },
  {
   "cell_type": "code",
   "execution_count": 6,
   "id": "1f2fb581",
   "metadata": {
    "execution": {
     "iopub.execute_input": "2024-05-03T04:39:01.962038Z",
     "iopub.status.busy": "2024-05-03T04:39:01.961081Z",
     "iopub.status.idle": "2024-05-03T04:39:01.968127Z",
     "shell.execute_reply": "2024-05-03T04:39:01.967136Z"
    },
    "id": "RQeuIfkK3vyl",
    "papermill": {
     "duration": 0.015406,
     "end_time": "2024-05-03T04:39:01.970321",
     "exception": false,
     "start_time": "2024-05-03T04:39:01.954915",
     "status": "completed"
    },
    "tags": []
   },
   "outputs": [],
   "source": [
    "# bonus\n",
    "class SoftmaxLayer:\n",
    "    def __init__(self, input_size):\n",
    "        self.input_size = input_size\n",
    "\n",
    "    def forward(self, input):\n",
    "        self.input = input\n",
    "        tmp = np.exp(input)\n",
    "        self.output = tmp / np.sum(tmp)\n",
    "        return self.output\n",
    "\n",
    "    def backward(self, output_error, learning_rate):\n",
    "        input_error = np.zeros(output_error.shape)\n",
    "        out = np.tile(self.output.T, self.input_size)\n",
    "        return self.output * np.dot(output_error, np.identity(self.input_size) - out)"
   ]
  },
  {
   "cell_type": "code",
   "execution_count": 7,
   "id": "289386ae",
   "metadata": {
    "execution": {
     "iopub.execute_input": "2024-05-03T04:39:01.981928Z",
     "iopub.status.busy": "2024-05-03T04:39:01.981552Z",
     "iopub.status.idle": "2024-05-03T04:39:01.990000Z",
     "shell.execute_reply": "2024-05-03T04:39:01.987544Z"
    },
    "id": "LuPbn70Wt8Q7",
    "papermill": {
     "duration": 0.017722,
     "end_time": "2024-05-03T04:39:01.993016",
     "exception": false,
     "start_time": "2024-05-03T04:39:01.975294",
     "status": "completed"
    },
    "tags": []
   },
   "outputs": [],
   "source": [
    "def sigmoid(x):\n",
    "    return 1 / (1 + np.exp(-x))\n",
    "\n",
    "def sigmoid_prime(x):\n",
    "    return np.exp(-x) / (1 + np.exp(-x))**2\n",
    "\n",
    "def tanh(x):\n",
    "    return np.tanh(x)\n",
    "\n",
    "def tanh_prime(x):\n",
    "    return 1 - np.tanh(x)**2\n",
    "\n",
    "def relu(x):\n",
    "    return np.maximum(x, 0)\n",
    "\n",
    "def relu_prime(x):\n",
    "    return np.array(x >= 0).astype('int')"
   ]
  },
  {
   "cell_type": "code",
   "execution_count": 8,
   "id": "6a26955e",
   "metadata": {
    "execution": {
     "iopub.execute_input": "2024-05-03T04:39:02.007971Z",
     "iopub.status.busy": "2024-05-03T04:39:02.007573Z",
     "iopub.status.idle": "2024-05-03T04:39:02.013230Z",
     "shell.execute_reply": "2024-05-03T04:39:02.012209Z"
    },
    "id": "CFhEeAhu7w7Y",
    "papermill": {
     "duration": 0.017354,
     "end_time": "2024-05-03T04:39:02.015448",
     "exception": false,
     "start_time": "2024-05-03T04:39:01.998094",
     "status": "completed"
    },
    "tags": []
   },
   "outputs": [],
   "source": [
    "def binary_cross_entropy(y_true, y_pred):\n",
    "    return -np.sum(y_true * np.log(y_pred) + (1 - y_true) * np.log(1 - y_pred))\n",
    "\n",
    "def binary_cross_entropy_prime(y_true, y_pred):\n",
    "    return (y_pred - y_true) / (y_pred * (1 - y_pred))\n"
   ]
  },
  {
   "cell_type": "code",
   "execution_count": 9,
   "id": "87660f84",
   "metadata": {
    "execution": {
     "iopub.execute_input": "2024-05-03T04:39:02.027841Z",
     "iopub.status.busy": "2024-05-03T04:39:02.026835Z",
     "iopub.status.idle": "2024-05-03T04:39:02.034802Z",
     "shell.execute_reply": "2024-05-03T04:39:02.033611Z"
    },
    "papermill": {
     "duration": 0.016648,
     "end_time": "2024-05-03T04:39:02.037092",
     "exception": false,
     "start_time": "2024-05-03T04:39:02.020444",
     "status": "completed"
    },
    "tags": []
   },
   "outputs": [],
   "source": [
    "# Load and label EMG files\n",
    "def feature_ext(df,w=200,p=20):\n",
    "    df = np.array(df)\n",
    "    # Performs segmentation in windows\n",
    "    X=[]\n",
    "    for k in range(0, df.shape[0] - w + 1 ,w):\n",
    "\n",
    "        d = df[k:k+w,:]\n",
    "        d = np.abs(d) # Absolute value of the EMG data\n",
    "        # Moving average filter for each channel\n",
    "        for n in range(d.shape[1]-1):\n",
    "            d[:,n] = np.convolve(d[:,n], np.ones(p)/p, mode='same')\n",
    "        X.append(d)\n",
    "    X = np.sqrt(np.sum(np.array(X)**2, axis=2))\n",
    "    X = pd.DataFrame(X)\n",
    "\n",
    "    return X"
   ]
  },
  {
   "cell_type": "code",
   "execution_count": 10,
   "id": "a078d374",
   "metadata": {
    "execution": {
     "iopub.execute_input": "2024-05-03T04:39:02.048883Z",
     "iopub.status.busy": "2024-05-03T04:39:02.048502Z",
     "iopub.status.idle": "2024-05-03T04:39:02.688637Z",
     "shell.execute_reply": "2024-05-03T04:39:02.687625Z"
    },
    "id": "GrqHsQzX9aTj",
    "outputId": "865a94d6-3492-4553-be31-a2adc5231d49",
    "papermill": {
     "duration": 0.648916,
     "end_time": "2024-05-03T04:39:02.691143",
     "exception": false,
     "start_time": "2024-05-03T04:39:02.042227",
     "status": "completed"
    },
    "tags": []
   },
   "outputs": [],
   "source": [
    "path_normal = \"/kaggle/input/emg-physical-action-data-set/sub/Normal/*.csv\"\n",
    "path_aggressive = \"/kaggle/input/emg-physical-action-data-set/sub/Aggressive/*.csv\"\n",
    "idx = 0\n",
    "df_normal = pd.DataFrame()\n",
    "for file in glob.glob(path_normal):\n",
    "    prev_df = pd.read_csv(file)\n",
    "    df_normal = pd.concat([df_normal,feature_ext(prev_df.drop(\"label\",axis=1))],ignore_index=True)\n",
    "    \n",
    "df_aggressive = pd.DataFrame()\n",
    "for file in glob.glob(path_aggressive):\n",
    "    prev_df = pd.read_csv(file)\n",
    "    df_aggressive = pd.concat([df_aggressive,feature_ext(prev_df.drop(\"label\",axis=1))],ignore_index=True)\n",
    "    "
   ]
  },
  {
   "cell_type": "code",
   "execution_count": 11,
   "id": "97a29003",
   "metadata": {
    "execution": {
     "iopub.execute_input": "2024-05-03T04:39:02.702736Z",
     "iopub.status.busy": "2024-05-03T04:39:02.702371Z",
     "iopub.status.idle": "2024-05-03T04:39:02.734876Z",
     "shell.execute_reply": "2024-05-03T04:39:02.733879Z"
    },
    "papermill": {
     "duration": 0.041013,
     "end_time": "2024-05-03T04:39:02.737191",
     "exception": false,
     "start_time": "2024-05-03T04:39:02.696178",
     "status": "completed"
    },
    "tags": []
   },
   "outputs": [
    {
     "data": {
      "text/html": [
       "<div>\n",
       "<style scoped>\n",
       "    .dataframe tbody tr th:only-of-type {\n",
       "        vertical-align: middle;\n",
       "    }\n",
       "\n",
       "    .dataframe tbody tr th {\n",
       "        vertical-align: top;\n",
       "    }\n",
       "\n",
       "    .dataframe thead th {\n",
       "        text-align: right;\n",
       "    }\n",
       "</style>\n",
       "<table border=\"1\" class=\"dataframe\">\n",
       "  <thead>\n",
       "    <tr style=\"text-align: right;\">\n",
       "      <th></th>\n",
       "      <th>0</th>\n",
       "      <th>1</th>\n",
       "      <th>2</th>\n",
       "      <th>3</th>\n",
       "      <th>4</th>\n",
       "      <th>5</th>\n",
       "      <th>6</th>\n",
       "      <th>7</th>\n",
       "      <th>8</th>\n",
       "      <th>9</th>\n",
       "      <th>...</th>\n",
       "      <th>191</th>\n",
       "      <th>192</th>\n",
       "      <th>193</th>\n",
       "      <th>194</th>\n",
       "      <th>195</th>\n",
       "      <th>196</th>\n",
       "      <th>197</th>\n",
       "      <th>198</th>\n",
       "      <th>199</th>\n",
       "      <th>target</th>\n",
       "    </tr>\n",
       "  </thead>\n",
       "  <tbody>\n",
       "    <tr>\n",
       "      <th>0</th>\n",
       "      <td>1613.077099</td>\n",
       "      <td>1761.820974</td>\n",
       "      <td>1858.121919</td>\n",
       "      <td>1917.632966</td>\n",
       "      <td>1960.344861</td>\n",
       "      <td>2015.945332</td>\n",
       "      <td>2034.698189</td>\n",
       "      <td>2054.740918</td>\n",
       "      <td>2083.145548</td>\n",
       "      <td>2092.393935</td>\n",
       "      <td>...</td>\n",
       "      <td>1814.329700</td>\n",
       "      <td>1715.825755</td>\n",
       "      <td>1627.193037</td>\n",
       "      <td>1944.593280</td>\n",
       "      <td>2569.425111</td>\n",
       "      <td>2491.570648</td>\n",
       "      <td>2211.111723</td>\n",
       "      <td>2446.314967</td>\n",
       "      <td>2271.141753</td>\n",
       "      <td>1.0</td>\n",
       "    </tr>\n",
       "    <tr>\n",
       "      <th>1</th>\n",
       "      <td>2173.715139</td>\n",
       "      <td>1991.830976</td>\n",
       "      <td>1912.160885</td>\n",
       "      <td>1970.351327</td>\n",
       "      <td>1964.319021</td>\n",
       "      <td>2028.878703</td>\n",
       "      <td>1907.999416</td>\n",
       "      <td>1896.255612</td>\n",
       "      <td>1880.313516</td>\n",
       "      <td>1932.543850</td>\n",
       "      <td>...</td>\n",
       "      <td>2086.932191</td>\n",
       "      <td>1958.329936</td>\n",
       "      <td>1831.052254</td>\n",
       "      <td>1726.669425</td>\n",
       "      <td>1657.383428</td>\n",
       "      <td>1614.858352</td>\n",
       "      <td>1609.760111</td>\n",
       "      <td>1227.762073</td>\n",
       "      <td>1005.199643</td>\n",
       "      <td>1.0</td>\n",
       "    </tr>\n",
       "    <tr>\n",
       "      <th>2</th>\n",
       "      <td>1340.707706</td>\n",
       "      <td>1503.880870</td>\n",
       "      <td>1613.133714</td>\n",
       "      <td>1710.531280</td>\n",
       "      <td>1776.585696</td>\n",
       "      <td>1834.681824</td>\n",
       "      <td>1933.401075</td>\n",
       "      <td>2071.217367</td>\n",
       "      <td>2232.582119</td>\n",
       "      <td>2400.844541</td>\n",
       "      <td>...</td>\n",
       "      <td>2280.839564</td>\n",
       "      <td>2350.654067</td>\n",
       "      <td>2445.286256</td>\n",
       "      <td>2494.989610</td>\n",
       "      <td>2483.953315</td>\n",
       "      <td>2306.748783</td>\n",
       "      <td>2179.629057</td>\n",
       "      <td>2039.503687</td>\n",
       "      <td>2028.868453</td>\n",
       "      <td>1.0</td>\n",
       "    </tr>\n",
       "    <tr>\n",
       "      <th>3</th>\n",
       "      <td>2142.546472</td>\n",
       "      <td>2239.617596</td>\n",
       "      <td>2353.998042</td>\n",
       "      <td>2383.500828</td>\n",
       "      <td>2479.851887</td>\n",
       "      <td>2485.464598</td>\n",
       "      <td>2448.767027</td>\n",
       "      <td>2416.537488</td>\n",
       "      <td>2504.919324</td>\n",
       "      <td>2642.183248</td>\n",
       "      <td>...</td>\n",
       "      <td>1830.942167</td>\n",
       "      <td>1772.814310</td>\n",
       "      <td>1689.333163</td>\n",
       "      <td>1571.362339</td>\n",
       "      <td>1524.256004</td>\n",
       "      <td>1372.540173</td>\n",
       "      <td>1302.707069</td>\n",
       "      <td>1560.033010</td>\n",
       "      <td>1451.660897</td>\n",
       "      <td>1.0</td>\n",
       "    </tr>\n",
       "    <tr>\n",
       "      <th>4</th>\n",
       "      <td>1105.654763</td>\n",
       "      <td>1128.813065</td>\n",
       "      <td>1223.269802</td>\n",
       "      <td>1299.993353</td>\n",
       "      <td>1389.386783</td>\n",
       "      <td>1404.983100</td>\n",
       "      <td>1363.737250</td>\n",
       "      <td>1354.834502</td>\n",
       "      <td>1636.607119</td>\n",
       "      <td>2200.734369</td>\n",
       "      <td>...</td>\n",
       "      <td>2317.175367</td>\n",
       "      <td>2272.057628</td>\n",
       "      <td>2220.011893</td>\n",
       "      <td>2160.427999</td>\n",
       "      <td>2098.847552</td>\n",
       "      <td>2060.752815</td>\n",
       "      <td>1961.207279</td>\n",
       "      <td>1775.555940</td>\n",
       "      <td>1631.072560</td>\n",
       "      <td>1.0</td>\n",
       "    </tr>\n",
       "  </tbody>\n",
       "</table>\n",
       "<p>5 rows × 201 columns</p>\n",
       "</div>"
      ],
      "text/plain": [
       "             0            1            2            3            4  \\\n",
       "0  1613.077099  1761.820974  1858.121919  1917.632966  1960.344861   \n",
       "1  2173.715139  1991.830976  1912.160885  1970.351327  1964.319021   \n",
       "2  1340.707706  1503.880870  1613.133714  1710.531280  1776.585696   \n",
       "3  2142.546472  2239.617596  2353.998042  2383.500828  2479.851887   \n",
       "4  1105.654763  1128.813065  1223.269802  1299.993353  1389.386783   \n",
       "\n",
       "             5            6            7            8            9  ...  \\\n",
       "0  2015.945332  2034.698189  2054.740918  2083.145548  2092.393935  ...   \n",
       "1  2028.878703  1907.999416  1896.255612  1880.313516  1932.543850  ...   \n",
       "2  1834.681824  1933.401075  2071.217367  2232.582119  2400.844541  ...   \n",
       "3  2485.464598  2448.767027  2416.537488  2504.919324  2642.183248  ...   \n",
       "4  1404.983100  1363.737250  1354.834502  1636.607119  2200.734369  ...   \n",
       "\n",
       "           191          192          193          194          195  \\\n",
       "0  1814.329700  1715.825755  1627.193037  1944.593280  2569.425111   \n",
       "1  2086.932191  1958.329936  1831.052254  1726.669425  1657.383428   \n",
       "2  2280.839564  2350.654067  2445.286256  2494.989610  2483.953315   \n",
       "3  1830.942167  1772.814310  1689.333163  1571.362339  1524.256004   \n",
       "4  2317.175367  2272.057628  2220.011893  2160.427999  2098.847552   \n",
       "\n",
       "           196          197          198          199  target  \n",
       "0  2491.570648  2211.111723  2446.314967  2271.141753     1.0  \n",
       "1  1614.858352  1609.760111  1227.762073  1005.199643     1.0  \n",
       "2  2306.748783  2179.629057  2039.503687  2028.868453     1.0  \n",
       "3  1372.540173  1302.707069  1560.033010  1451.660897     1.0  \n",
       "4  2060.752815  1961.207279  1775.555940  1631.072560     1.0  \n",
       "\n",
       "[5 rows x 201 columns]"
      ]
     },
     "execution_count": 11,
     "metadata": {},
     "output_type": "execute_result"
    }
   ],
   "source": [
    "df_normal['target'] = np.zeros(len(df_normal))\n",
    "df_aggressive['target'] = np.ones(len(df_aggressive))\n",
    "df_aggressive.head()"
   ]
  },
  {
   "cell_type": "code",
   "execution_count": 12,
   "id": "0cea368a",
   "metadata": {
    "execution": {
     "iopub.execute_input": "2024-05-03T04:39:02.749452Z",
     "iopub.status.busy": "2024-05-03T04:39:02.749086Z",
     "iopub.status.idle": "2024-05-03T04:39:02.759187Z",
     "shell.execute_reply": "2024-05-03T04:39:02.758356Z"
    },
    "papermill": {
     "duration": 0.018896,
     "end_time": "2024-05-03T04:39:02.761533",
     "exception": false,
     "start_time": "2024-05-03T04:39:02.742637",
     "status": "completed"
    },
    "tags": []
   },
   "outputs": [],
   "source": [
    "# stacking teh datasets on top of each other\n",
    "\n",
    "df = pd.concat([df_normal ,df_aggressive])\n",
    "\n",
    "# shuffle\n",
    "df = df.sample(frac=1)\n"
   ]
  },
  {
   "cell_type": "code",
   "execution_count": 13,
   "id": "7062c9d8",
   "metadata": {
    "execution": {
     "iopub.execute_input": "2024-05-03T04:39:02.774743Z",
     "iopub.status.busy": "2024-05-03T04:39:02.774390Z",
     "iopub.status.idle": "2024-05-03T04:39:02.801769Z",
     "shell.execute_reply": "2024-05-03T04:39:02.800522Z"
    },
    "papermill": {
     "duration": 0.037054,
     "end_time": "2024-05-03T04:39:02.803963",
     "exception": false,
     "start_time": "2024-05-03T04:39:02.766909",
     "status": "completed"
    },
    "tags": []
   },
   "outputs": [
    {
     "name": "stdout",
     "output_type": "stream",
     "text": [
      "<class 'pandas.core.frame.DataFrame'>\n",
      "Index: 956 entries, 136 to 306\n",
      "Columns: 201 entries, 0 to target\n",
      "dtypes: float64(201)\n",
      "memory usage: 1.5 MB\n"
     ]
    }
   ],
   "source": [
    "df.info()"
   ]
  },
  {
   "cell_type": "code",
   "execution_count": 14,
   "id": "3ca47c52",
   "metadata": {
    "execution": {
     "iopub.execute_input": "2024-05-03T04:39:02.816698Z",
     "iopub.status.busy": "2024-05-03T04:39:02.816339Z",
     "iopub.status.idle": "2024-05-03T04:39:02.821534Z",
     "shell.execute_reply": "2024-05-03T04:39:02.820302Z"
    },
    "papermill": {
     "duration": 0.014068,
     "end_time": "2024-05-03T04:39:02.823803",
     "exception": false,
     "start_time": "2024-05-03T04:39:02.809735",
     "status": "completed"
    },
    "tags": []
   },
   "outputs": [],
   "source": [
    "def normalize(x: np.ndarray):\n",
    "    return (x - np.min(x)) / (np.max(x) - np.min(x))"
   ]
  },
  {
   "cell_type": "code",
   "execution_count": 15,
   "id": "6e5c57c7",
   "metadata": {
    "execution": {
     "iopub.execute_input": "2024-05-03T04:39:02.836722Z",
     "iopub.status.busy": "2024-05-03T04:39:02.836352Z",
     "iopub.status.idle": "2024-05-03T04:39:02.845075Z",
     "shell.execute_reply": "2024-05-03T04:39:02.843811Z"
    },
    "papermill": {
     "duration": 0.017918,
     "end_time": "2024-05-03T04:39:02.847560",
     "exception": false,
     "start_time": "2024-05-03T04:39:02.829642",
     "status": "completed"
    },
    "tags": []
   },
   "outputs": [],
   "source": [
    "X = df.drop(columns=['target']).values\n",
    "X = normalize(X)\n",
    "y = df['target'].values.astype('int')"
   ]
  },
  {
   "cell_type": "code",
   "execution_count": 16,
   "id": "ad29feac",
   "metadata": {
    "execution": {
     "iopub.execute_input": "2024-05-03T04:39:02.860426Z",
     "iopub.status.busy": "2024-05-03T04:39:02.860041Z",
     "iopub.status.idle": "2024-05-03T04:39:02.868316Z",
     "shell.execute_reply": "2024-05-03T04:39:02.867230Z"
    },
    "papermill": {
     "duration": 0.017572,
     "end_time": "2024-05-03T04:39:02.870718",
     "exception": false,
     "start_time": "2024-05-03T04:39:02.853146",
     "status": "completed"
    },
    "tags": []
   },
   "outputs": [],
   "source": [
    "from sklearn.model_selection import train_test_split\n",
    "X_train, X_test, y_train, y_test = train_test_split(X, y, test_size=0.2, stratify=y, shuffle=True)"
   ]
  },
  {
   "cell_type": "code",
   "execution_count": 17,
   "id": "a3fdc78d",
   "metadata": {
    "execution": {
     "iopub.execute_input": "2024-05-03T04:39:02.883365Z",
     "iopub.status.busy": "2024-05-03T04:39:02.882927Z",
     "iopub.status.idle": "2024-05-03T04:39:02.888036Z",
     "shell.execute_reply": "2024-05-03T04:39:02.887011Z"
    },
    "papermill": {
     "duration": 0.013838,
     "end_time": "2024-05-03T04:39:02.890182",
     "exception": false,
     "start_time": "2024-05-03T04:39:02.876344",
     "status": "completed"
    },
    "tags": []
   },
   "outputs": [],
   "source": [
    "def accuracy(y_true, y_pred):\n",
    "    return np.sum(y_true == y_pred) / len(y_true)"
   ]
  },
  {
   "cell_type": "code",
   "execution_count": 18,
   "id": "8ce3b468",
   "metadata": {
    "execution": {
     "iopub.execute_input": "2024-05-03T04:39:02.902925Z",
     "iopub.status.busy": "2024-05-03T04:39:02.902527Z",
     "iopub.status.idle": "2024-05-03T04:39:28.484664Z",
     "shell.execute_reply": "2024-05-03T04:39:28.483535Z"
    },
    "id": "oHQpwN8LpKiN",
    "papermill": {
     "duration": 25.592068,
     "end_time": "2024-05-03T04:39:28.487637",
     "exception": false,
     "start_time": "2024-05-03T04:39:02.895569",
     "status": "completed"
    },
    "tags": []
   },
   "outputs": [
    {
     "name": "stdout",
     "output_type": "stream",
     "text": [
      "test accuracy=0.817708, 1/40, error=0.653321\n",
      "test accuracy=0.885417, 2/40, error=0.618964\n",
      "test accuracy=0.890625, 3/40, error=0.601106\n",
      "test accuracy=0.890625, 4/40, error=0.585440\n",
      "test accuracy=0.890625, 5/40, error=0.571474\n",
      "test accuracy=0.885417, 6/40, error=0.558856\n",
      "test accuracy=0.880208, 7/40, error=0.547372\n",
      "test accuracy=0.875000, 8/40, error=0.536893\n",
      "test accuracy=0.875000, 9/40, error=0.527265\n",
      "test accuracy=0.854167, 10/40, error=0.518464\n",
      "test accuracy=0.848958, 11/40, error=0.510384\n",
      "test accuracy=0.848958, 12/40, error=0.502834\n",
      "test accuracy=0.848958, 13/40, error=0.495665\n",
      "test accuracy=0.843750, 14/40, error=0.489094\n",
      "test accuracy=0.833333, 15/40, error=0.483142\n",
      "test accuracy=0.817708, 16/40, error=0.477842\n",
      "test accuracy=0.817708, 17/40, error=0.473126\n",
      "test accuracy=0.812500, 18/40, error=0.468930\n",
      "test accuracy=0.812500, 19/40, error=0.465335\n",
      "test accuracy=0.807292, 20/40, error=0.462246\n",
      "test accuracy=0.802083, 21/40, error=0.459674\n",
      "test accuracy=0.802083, 22/40, error=0.457531\n",
      "test accuracy=0.802083, 23/40, error=0.455951\n",
      "test accuracy=0.802083, 24/40, error=0.454762\n",
      "test accuracy=0.802083, 25/40, error=0.453880\n",
      "test accuracy=0.796875, 26/40, error=0.453425\n",
      "test accuracy=0.796875, 27/40, error=0.453173\n",
      "test accuracy=0.796875, 28/40, error=0.453161\n",
      "test accuracy=0.796875, 29/40, error=0.453495\n",
      "test accuracy=0.796875, 30/40, error=0.453891\n",
      "test accuracy=0.796875, 31/40, error=0.454651\n",
      "test accuracy=0.796875, 32/40, error=0.455329\n",
      "test accuracy=0.796875, 33/40, error=0.455954\n",
      "test accuracy=0.796875, 34/40, error=0.456423\n",
      "test accuracy=0.796875, 35/40, error=0.456799\n",
      "test accuracy=0.796875, 36/40, error=0.456876\n",
      "test accuracy=0.796875, 37/40, error=0.456703\n",
      "test accuracy=0.796875, 38/40, error=0.456770\n",
      "test accuracy=0.796875, 39/40, error=0.456750\n",
      "test accuracy=0.791667, 40/40, error=0.456558\n"
     ]
    }
   ],
   "source": [
    "# unlike the Medium article, I am not encapsulating this process in a separate class\n",
    "# I think it is nice just like this\n",
    "network = [\n",
    "    FCLayer(200, 512),\n",
    "    ActivationLayer(relu, relu_prime),\n",
    "    FCLayer(512, 1)\n",
    "]\n",
    "\n",
    "epochs = 40\n",
    "learning_rate = 0.001\n",
    "\n",
    "# training\n",
    "for epoch in range(epochs):\n",
    "    error = 0\n",
    "    for x, y_true in zip(X_train, y_train):\n",
    "        # forward\n",
    "        x = x.reshape(1, -1)\n",
    "        y_true = y_true.reshape(1, -1)\n",
    "        output = x\n",
    "        for layer in network:\n",
    "            output = layer.forward(output)\n",
    "\n",
    "        output = sigmoid(output)\n",
    "        # error (display purpose only)\n",
    "        error += binary_cross_entropy(y_true, output[0])\n",
    "\n",
    "        # backward\n",
    "        output_error = binary_cross_entropy_prime(y_true, output[0])\n",
    "\n",
    "        output_error = sigmoid_prime(output[0]) * output_error\n",
    "\n",
    "        for layer in reversed(network):\n",
    "            # if not isinstance(layer, ActivationLayer):\n",
    "            #     print(layer.bias.shape, layer.weights.shape)\n",
    "            output_error = layer.backward(output_error, learning_rate)\n",
    "\n",
    "    # evaluate\n",
    "    y_pred = []\n",
    "    for x in X_test:\n",
    "        output = x\n",
    "        for layer in network:\n",
    "            output = layer.forward(output)\n",
    "        output = sigmoid(output)\n",
    "        y_pred.append(output[0] > 0.5)\n",
    "    y_pred = np.array(y_pred).reshape(-1)\n",
    "    print('test accuracy=%f' % accuracy(y_test, y_pred), end=', ')\n",
    "\n",
    "    error /= len(X_train)\n",
    "    print('%d/%d, error=%f' % (epoch + 1, epochs, error))"
   ]
  },
  {
   "cell_type": "code",
   "execution_count": null,
   "id": "bf593d70",
   "metadata": {
    "papermill": {
     "duration": 0.013177,
     "end_time": "2024-05-03T04:39:28.514290",
     "exception": false,
     "start_time": "2024-05-03T04:39:28.501113",
     "status": "completed"
    },
    "tags": []
   },
   "outputs": [],
   "source": []
  }
 ],
 "metadata": {
  "colab": {
   "provenance": []
  },
  "kaggle": {
   "accelerator": "none",
   "dataSources": [
    {
     "datasetId": 2666463,
     "sourceId": 4577592,
     "sourceType": "datasetVersion"
    }
   ],
   "dockerImageVersionId": 30698,
   "isGpuEnabled": false,
   "isInternetEnabled": true,
   "language": "python",
   "sourceType": "notebook"
  },
  "kernelspec": {
   "display_name": "Python 3 (ipykernel)",
   "language": "python",
   "name": "python3"
  },
  "language_info": {
   "codemirror_mode": {
    "name": "ipython",
    "version": 3
   },
   "file_extension": ".py",
   "mimetype": "text/x-python",
   "name": "python",
   "nbconvert_exporter": "python",
   "pygments_lexer": "ipython3",
   "version": "3.11.3"
  },
  "papermill": {
   "default_parameters": {},
   "duration": 31.827361,
   "end_time": "2024-05-03T04:39:29.061512",
   "environment_variables": {},
   "exception": null,
   "input_path": "__notebook__.ipynb",
   "output_path": "__notebook__.ipynb",
   "parameters": {},
   "start_time": "2024-05-03T04:38:57.234151",
   "version": "2.5.0"
  },
  "varInspector": {
   "cols": {
    "lenName": 16,
    "lenType": 16,
    "lenVar": 40
   },
   "kernels_config": {
    "python": {
     "delete_cmd_postfix": "",
     "delete_cmd_prefix": "del ",
     "library": "var_list.py",
     "varRefreshCmd": "print(var_dic_list())"
    },
    "r": {
     "delete_cmd_postfix": ") ",
     "delete_cmd_prefix": "rm(",
     "library": "var_list.r",
     "varRefreshCmd": "cat(var_dic_list()) "
    }
   },
   "types_to_exclude": [
    "module",
    "function",
    "builtin_function_or_method",
    "instance",
    "_Feature"
   ],
   "window_display": false
  }
 },
 "nbformat": 4,
 "nbformat_minor": 5
}
