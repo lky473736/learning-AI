{
 "cells": [
  {
   "cell_type": "markdown",
   "id": "ad620520",
   "metadata": {},
   "source": [
    "## 시계열에 따른 초, 중, 고 중등교육 기관 폐교 및 해산 수 예측 모델 구현\n",
    "#### Implementation of a model for predicting the number of closures and dissolution of elementary, middle, and high school education institutions over time\n",
    "\n",
    "- 프로젝트 진행 기간 : 2024. 04. 12. ~ 2024. 04. 14.\n",
    "  \n",
    "- 팀 구성 : 컴퓨터공학부 임규연, 생명과학과 이태민, 경제학과 윤동영, 경영학부 이윤기\n",
    "- 프로그래밍 1 (데이터 전처리, linear regression model 구현, model fit) : 임규연 (2024. 04. 12 작성, 2024. 04. 17 수정)\n",
    "- 프로그래밍 2 (matplotlib을 이용한 시계열 데이터 시각화) : 이태민 (2024. 04. 14 작성)"
   ]
  },
  {
   "cell_type": "markdown",
   "id": "ba691c9c",
   "metadata": {},
   "source": [
    "-------"
   ]
  },
  {
   "cell_type": "markdown",
   "id": "33156a42",
   "metadata": {},
   "source": [
    "### 데이터 개요 및 테크\n",
    "  본 팀은 공공데이터포탈에서 제공하는 **'전국폐교재산기본정보표준데이터(2024. 03. 06 공시)'** dataframe 데이터를 활용하여 시계열에 따른 초, 중, 고 중등교육 기관 폐교 및 해산 수를 linear regression 모델로 분석한다. 추후에 얼마나 많은 중등교육기관이 존속될 지를 prediction한다. \n",
    "  \n",
    "  - **데이터 이름** : 전국폐교재산기본정보표준데이터 (https://www.data.go.kr/data/15107729/standard.do)\n",
    "  - **데이터 공시 일자** : 2024. 03. 06\n",
    "  - **데이터의 시계열 범위** : 1905 ~ 2023년도\n",
    "  - **데이터의 속성값** : 시도코드, 시도명, 폐교명, 폐교연도, 제공기관명 등 \n",
    "\n",
    "본 모델을 구현할 테크는 아래와 같다.\n",
    "\n",
    "  - **데이터 읽기 및 전처리 테크닉** : pandas\n",
    "  - **모델링 및 머신러닝 라이브러리** : scikit-learn\n",
    "  - **선형대수학 및 tensor 이용** : numpy\n",
    "  - **데이터 시각화** : matplotlib"
   ]
  },
  {
   "cell_type": "markdown",
   "id": "de91ada7",
   "metadata": {},
   "source": [
    "------"
   ]
  },
  {
   "cell_type": "markdown",
   "id": "131500b4",
   "metadata": {},
   "source": [
    "### 데이터 전처리 및 데이터 분석\n",
    "- 2024.04.12. 전처리 완료 (담당 : 임규연)\n",
    "\n",
    "데이터를 전처리한다. 모집단의 데이터 양식은 csv이기 때문에 전처리 및 데이터 분석을 위해 pandas 라이브러리를 사용한다.\n",
    "데이터를 전처리하여 정렬된 표본 내에서, 아래와 같은 변수를 추출해낼 것이다.\n",
    "\n",
    "- **data** : 모집단 (원본 데이터)\n",
    "- **X_train (X축)** : 연도 데이터\n",
    "- **y_train (y축)** : 각 연도별로 초, 중, 고 교육기관 폐교 및 해산 횟수"
   ]
  },
  {
   "cell_type": "code",
   "execution_count": 1,
   "id": "9baef45b",
   "metadata": {
    "ExecuteTime": {
     "end_time": "2024-04-17T02:46:34.987335Z",
     "start_time": "2024-04-17T02:46:34.678385Z"
    }
   },
   "outputs": [],
   "source": [
    "import pandas as pd"
   ]
  },
  {
   "cell_type": "code",
   "execution_count": 2,
   "id": "e8b449e6",
   "metadata": {
    "ExecuteTime": {
     "end_time": "2024-04-17T02:46:35.019454Z",
     "start_time": "2024-04-17T02:46:34.990298Z"
    }
   },
   "outputs": [
    {
     "data": {
      "text/html": [
       "<div>\n",
       "<style scoped>\n",
       "    .dataframe tbody tr th:only-of-type {\n",
       "        vertical-align: middle;\n",
       "    }\n",
       "\n",
       "    .dataframe tbody tr th {\n",
       "        vertical-align: top;\n",
       "    }\n",
       "\n",
       "    .dataframe thead th {\n",
       "        text-align: right;\n",
       "    }\n",
       "</style>\n",
       "<table border=\"1\" class=\"dataframe\">\n",
       "  <thead>\n",
       "    <tr style=\"text-align: right;\">\n",
       "      <th></th>\n",
       "      <th>시도교육청코드</th>\n",
       "      <th>시도교육청명</th>\n",
       "      <th>교육지원청코드</th>\n",
       "      <th>교육지원청명</th>\n",
       "      <th>시도코드</th>\n",
       "      <th>시도명</th>\n",
       "      <th>시군구코드</th>\n",
       "      <th>시군구명</th>\n",
       "      <th>폐교명</th>\n",
       "      <th>폐교연도</th>\n",
       "      <th>...</th>\n",
       "      <th>활용현황구분명</th>\n",
       "      <th>건물연면적</th>\n",
       "      <th>대지</th>\n",
       "      <th>담당자 부서명</th>\n",
       "      <th>담당자 전화번호</th>\n",
       "      <th>소재지도로명주소</th>\n",
       "      <th>소재지지번주소</th>\n",
       "      <th>데이터기준일자</th>\n",
       "      <th>제공기관코드</th>\n",
       "      <th>제공기관명</th>\n",
       "    </tr>\n",
       "  </thead>\n",
       "  <tbody>\n",
       "    <tr>\n",
       "      <th>0</th>\n",
       "      <td>7801000</td>\n",
       "      <td>강원특별자치도교육청</td>\n",
       "      <td>7832000</td>\n",
       "      <td>강릉교육지원청</td>\n",
       "      <td>51</td>\n",
       "      <td>강원특별자치도</td>\n",
       "      <td>150</td>\n",
       "      <td>강릉시</td>\n",
       "      <td>성산초 보광분교장</td>\n",
       "      <td>1998</td>\n",
       "      <td>...</td>\n",
       "      <td>대부</td>\n",
       "      <td>466.65</td>\n",
       "      <td>115445.0</td>\n",
       "      <td>행정과</td>\n",
       "      <td>033-640-3366</td>\n",
       "      <td>NaN</td>\n",
       "      <td>강원특별자치도 강릉시 성산면 보광리 308</td>\n",
       "      <td>2023-07-01</td>\n",
       "      <td>7801000</td>\n",
       "      <td>강원특별자치도교육청</td>\n",
       "    </tr>\n",
       "    <tr>\n",
       "      <th>1</th>\n",
       "      <td>7801000</td>\n",
       "      <td>강원특별자치도교육청</td>\n",
       "      <td>7832000</td>\n",
       "      <td>강릉교육지원청</td>\n",
       "      <td>51</td>\n",
       "      <td>강원특별자치도</td>\n",
       "      <td>150</td>\n",
       "      <td>강릉시</td>\n",
       "      <td>제비초등학교</td>\n",
       "      <td>1999</td>\n",
       "      <td>...</td>\n",
       "      <td>대부</td>\n",
       "      <td>889.50</td>\n",
       "      <td>198643.0</td>\n",
       "      <td>행정과</td>\n",
       "      <td>033-640-3366</td>\n",
       "      <td>NaN</td>\n",
       "      <td>강원특별자치도 강릉시 구정면 제비리 504</td>\n",
       "      <td>2023-07-01</td>\n",
       "      <td>7801000</td>\n",
       "      <td>강원특별자치도교육청</td>\n",
       "    </tr>\n",
       "    <tr>\n",
       "      <th>2</th>\n",
       "      <td>7801000</td>\n",
       "      <td>강원특별자치도교육청</td>\n",
       "      <td>7832000</td>\n",
       "      <td>강릉교육지원청</td>\n",
       "      <td>51</td>\n",
       "      <td>강원특별자치도</td>\n",
       "      <td>150</td>\n",
       "      <td>강릉시</td>\n",
       "      <td>연곡초 퇴곡분교장</td>\n",
       "      <td>2000</td>\n",
       "      <td>...</td>\n",
       "      <td>대부</td>\n",
       "      <td>838.65</td>\n",
       "      <td>611654.0</td>\n",
       "      <td>행정과</td>\n",
       "      <td>033-640-3366</td>\n",
       "      <td>NaN</td>\n",
       "      <td>강원특별자치도 강릉시 연곡면 퇴곡리 225</td>\n",
       "      <td>2023-07-01</td>\n",
       "      <td>7801000</td>\n",
       "      <td>강원특별자치도교육청</td>\n",
       "    </tr>\n",
       "    <tr>\n",
       "      <th>3</th>\n",
       "      <td>7801000</td>\n",
       "      <td>강원특별자치도교육청</td>\n",
       "      <td>7832000</td>\n",
       "      <td>강릉교육지원청</td>\n",
       "      <td>51</td>\n",
       "      <td>강원특별자치도</td>\n",
       "      <td>150</td>\n",
       "      <td>강릉시</td>\n",
       "      <td>성덕초 병산분교장</td>\n",
       "      <td>2004</td>\n",
       "      <td>...</td>\n",
       "      <td>자체활용</td>\n",
       "      <td>1025.54</td>\n",
       "      <td>14035.0</td>\n",
       "      <td>행정과</td>\n",
       "      <td>033-640-3366</td>\n",
       "      <td>NaN</td>\n",
       "      <td>강원특별자치도 강릉시 병산동 445-5</td>\n",
       "      <td>2023-07-01</td>\n",
       "      <td>7801000</td>\n",
       "      <td>강원특별자치도교육청</td>\n",
       "    </tr>\n",
       "    <tr>\n",
       "      <th>4</th>\n",
       "      <td>7801000</td>\n",
       "      <td>강원특별자치도교육청</td>\n",
       "      <td>7832000</td>\n",
       "      <td>강릉교육지원청</td>\n",
       "      <td>51</td>\n",
       "      <td>강원특별자치도</td>\n",
       "      <td>150</td>\n",
       "      <td>강릉시</td>\n",
       "      <td>왕산초 고단분교장</td>\n",
       "      <td>2010</td>\n",
       "      <td>...</td>\n",
       "      <td>대부</td>\n",
       "      <td>771.00</td>\n",
       "      <td>38804.0</td>\n",
       "      <td>행정과</td>\n",
       "      <td>033-640-3366</td>\n",
       "      <td>NaN</td>\n",
       "      <td>강원특별자치도 강릉시 왕산면 고단리 32-18</td>\n",
       "      <td>2023-07-01</td>\n",
       "      <td>7801000</td>\n",
       "      <td>강원특별자치도교육청</td>\n",
       "    </tr>\n",
       "  </tbody>\n",
       "</table>\n",
       "<p>5 rows × 21 columns</p>\n",
       "</div>"
      ],
      "text/plain": [
       "   시도교육청코드      시도교육청명  교육지원청코드   교육지원청명  시도코드      시도명  시군구코드 시군구명  \\\n",
       "0  7801000  강원특별자치도교육청  7832000  강릉교육지원청    51  강원특별자치도    150  강릉시   \n",
       "1  7801000  강원특별자치도교육청  7832000  강릉교육지원청    51  강원특별자치도    150  강릉시   \n",
       "2  7801000  강원특별자치도교육청  7832000  강릉교육지원청    51  강원특별자치도    150  강릉시   \n",
       "3  7801000  강원특별자치도교육청  7832000  강릉교육지원청    51  강원특별자치도    150  강릉시   \n",
       "4  7801000  강원특별자치도교육청  7832000  강릉교육지원청    51  강원특별자치도    150  강릉시   \n",
       "\n",
       "         폐교명  폐교연도  ... 활용현황구분명    건물연면적        대지  담당자 부서명      담당자 전화번호  \\\n",
       "0  성산초 보광분교장  1998  ...      대부   466.65  115445.0      행정과  033-640-3366   \n",
       "1     제비초등학교  1999  ...      대부   889.50  198643.0      행정과  033-640-3366   \n",
       "2  연곡초 퇴곡분교장  2000  ...      대부   838.65  611654.0      행정과  033-640-3366   \n",
       "3  성덕초 병산분교장  2004  ...    자체활용  1025.54   14035.0      행정과  033-640-3366   \n",
       "4  왕산초 고단분교장  2010  ...      대부   771.00   38804.0      행정과  033-640-3366   \n",
       "\n",
       "  소재지도로명주소                    소재지지번주소     데이터기준일자   제공기관코드       제공기관명  \n",
       "0      NaN    강원특별자치도 강릉시 성산면 보광리 308  2023-07-01  7801000  강원특별자치도교육청  \n",
       "1      NaN    강원특별자치도 강릉시 구정면 제비리 504  2023-07-01  7801000  강원특별자치도교육청  \n",
       "2      NaN    강원특별자치도 강릉시 연곡면 퇴곡리 225  2023-07-01  7801000  강원특별자치도교육청  \n",
       "3      NaN      강원특별자치도 강릉시 병산동 445-5  2023-07-01  7801000  강원특별자치도교육청  \n",
       "4      NaN  강원특별자치도 강릉시 왕산면 고단리 32-18  2023-07-01  7801000  강원특별자치도교육청  \n",
       "\n",
       "[5 rows x 21 columns]"
      ]
     },
     "execution_count": 2,
     "metadata": {},
     "output_type": "execute_result"
    }
   ],
   "source": [
    "# pandas로 csv 모집단 데이터를 읽는다\n",
    "\n",
    "data = pd.read_csv ('./전국폐교재산기본정보표준데이터.csv', encoding='cp949')\n",
    "data.head()"
   ]
  },
  {
   "cell_type": "code",
   "execution_count": 3,
   "id": "0b4765b5",
   "metadata": {
    "ExecuteTime": {
     "end_time": "2024-04-17T02:46:35.023678Z",
     "start_time": "2024-04-17T02:46:35.020814Z"
    }
   },
   "outputs": [
    {
     "name": "stdout",
     "output_type": "stream",
     "text": [
      "tuple 갯수, 열 갯수 : 1184 21\n"
     ]
    }
   ],
   "source": [
    "# 위 데이터의 행과 열 갯수를 출력한다\n",
    "\n",
    "print (\"tuple 갯수, 열 갯수 :\", len(data), data.shape[1])\n",
    "\n",
    "# 맨 위 속성 tuple을 제외한다면 tuple 갯수는 1184, 열 갯수는 21로 확인할 수 있다.\n",
    "# 속성 tuple : 시도교육청코드, 시도교육청명... 각 열을 명칭하는 행을 의미"
   ]
  },
  {
   "cell_type": "code",
   "execution_count": 4,
   "id": "09254552",
   "metadata": {
    "ExecuteTime": {
     "end_time": "2024-04-17T02:46:35.040604Z",
     "start_time": "2024-04-17T02:46:35.026337Z"
    }
   },
   "outputs": [
    {
     "data": {
      "text/plain": [
       "[[1998, '성산초 보광분교장'],\n",
       " [1999, '제비초등학교'],\n",
       " [2000, '연곡초 퇴곡분교장'],\n",
       " [2004, '성덕초 병산분교장'],\n",
       " [2010, '왕산초 고단분교장']]"
      ]
     },
     "execution_count": 4,
     "metadata": {},
     "output_type": "execute_result"
    }
   ],
   "source": [
    "# X_train, y_train을 추출해내기 위해 '폐교연도'에 따른 '폐교명' 리스트를 만든다.\n",
    "\n",
    "closed_school = [] # [폐교연도, 폐교명]이 들어갈 폐교 리스트\n",
    "\n",
    "for index in range (len(data)) : # 데이터의 갯수만큼 반복문을 돌린다.\n",
    "    closed_school.append ([data['폐교연도'][index], data['폐교명'][index]])\n",
    "    # 폐교연도 열의 index번째 compo와 폐교명 열의 index번째 compo를 폐교 리스트에 넣는다 \n",
    "    \n",
    "closed_school[:5]"
   ]
  },
  {
   "cell_type": "code",
   "execution_count": 5,
   "id": "df1273ef",
   "metadata": {
    "ExecuteTime": {
     "end_time": "2024-04-17T02:46:35.046449Z",
     "start_time": "2024-04-17T02:46:35.042719Z"
    }
   },
   "outputs": [
    {
     "data": {
      "text/plain": [
       "[[1905, '감곡초 상평분교'],\n",
       " [1976, '용유초등학교 을왕분교'],\n",
       " [1978, '구)진주중앙중학교'],\n",
       " [1981, '(구)북암초'],\n",
       " [1981, '벽탄초 마항분교장']]"
      ]
     },
     "execution_count": 5,
     "metadata": {},
     "output_type": "execute_result"
    }
   ],
   "source": [
    "# closed_school 리스트를 시간 오름차순으로 정렬한다.\n",
    "\n",
    "closed_school.sort (key = lambda x : (x[0]))\n",
    "closed_school[:5]"
   ]
  },
  {
   "cell_type": "code",
   "execution_count": 6,
   "id": "a6d4a3db",
   "metadata": {
    "ExecuteTime": {
     "end_time": "2024-04-17T02:46:35.054638Z",
     "start_time": "2024-04-17T02:46:35.048095Z"
    }
   },
   "outputs": [
    {
     "data": {
      "text/plain": [
       "{1905: 1,\n",
       " 1976: 1,\n",
       " 1978: 1,\n",
       " 1981: 2,\n",
       " 1983: 2,\n",
       " 1989: 3,\n",
       " 1990: 10,\n",
       " 1991: 31,\n",
       " 1992: 56,\n",
       " 1993: 43,\n",
       " 1994: 82,\n",
       " 1995: 77,\n",
       " 1996: 41,\n",
       " 1997: 40,\n",
       " 1998: 58,\n",
       " 1999: 182,\n",
       " 2000: 30,\n",
       " 2001: 17,\n",
       " 2002: 24,\n",
       " 2003: 8,\n",
       " 2004: 17,\n",
       " 2005: 13,\n",
       " 2006: 9,\n",
       " 2007: 33,\n",
       " 2008: 29,\n",
       " 2009: 38,\n",
       " 2010: 24,\n",
       " 2011: 16,\n",
       " 2012: 32,\n",
       " 2013: 23,\n",
       " 2014: 20,\n",
       " 2015: 20,\n",
       " 2016: 25,\n",
       " 2017: 30,\n",
       " 2018: 24,\n",
       " 2019: 36,\n",
       " 2020: 24,\n",
       " 2021: 17,\n",
       " 2022: 27,\n",
       " 2023: 18}"
      ]
     },
     "execution_count": 6,
     "metadata": {},
     "output_type": "execute_result"
    }
   ],
   "source": [
    "# y_train은 각 연도별 폐교 수이므로 X_train 연도 별 폐교 수가 필요함.\n",
    "# 따라서 y_train을 만들기 위해 아래와 같이 dictionary 자료형을 사용하여\n",
    "# 연도 key에 따라 value값을 1 증가시키도록 구현\n",
    "\n",
    "# key : 연도 (X_train)\n",
    "# value : 연도별 폐교 수 (y_train)\n",
    "\n",
    "data_dict = dict()\n",
    "\n",
    "for component in closed_school : \n",
    "    try : \n",
    "        data_dict[component[0]] += 1 # year key가 있으면 횟수를 1 증가\n",
    "        \n",
    "    except : \n",
    "        data_dict[component[0]] = 1 # dictionary에 year key가 없으면 하나 만든다\n",
    "\n",
    "data_dict"
   ]
  },
  {
   "cell_type": "code",
   "execution_count": 7,
   "id": "332348ef",
   "metadata": {
    "ExecuteTime": {
     "end_time": "2024-04-17T02:46:35.059216Z",
     "start_time": "2024-04-17T02:46:35.056509Z"
    }
   },
   "outputs": [],
   "source": [
    "# 위 데이터 중 1994 ~ 1999는 극단치로써, 모델링에 해를 가하므로 dictionary에서 삭제\n",
    "# 데이터 극단치는 모델의 성능을 저하시킨다 (overfitting)\n",
    "\n",
    "for year in range (1994, 2000) :\n",
    "    try : \n",
    "        data_dict.pop(year)\n",
    "    except : \n",
    "        pass"
   ]
  },
  {
   "cell_type": "code",
   "execution_count": 8,
   "id": "c8db7b2e",
   "metadata": {
    "ExecuteTime": {
     "end_time": "2024-04-17T02:46:35.063265Z",
     "start_time": "2024-04-17T02:46:35.060986Z"
    }
   },
   "outputs": [],
   "source": [
    "# X_train이 위 data_dict에서의 key\n",
    "# y_train이 위 data_dict에서의 value이므로 아래와 같이 변수 설정\n",
    "\n",
    "X_train = list(data_dict.keys())\n",
    "y_train = list(data_dict.values())"
   ]
  },
  {
   "cell_type": "markdown",
   "id": "e8150339",
   "metadata": {},
   "source": [
    "--------"
   ]
  },
  {
   "cell_type": "markdown",
   "id": "93bd713c",
   "metadata": {},
   "source": [
    "### model 구현 및 fit\n",
    "- 2024.04.12. model 구현 및 fit 완료 (담당 : 임규연)\n",
    "\n",
    "위 X_train과 y_train 데이터를 이용하여 linear regression model을 구현한다. 향후 X_train은 시각화 과정 중 X축의 시계열을 담당할 것이며, y_train은 y축의 label을 담당할 것이다. \n",
    "\n",
    "- **X_bias (X축)** : 연도 데이터\n",
    "- **y_bias (y축)** : 각 연도별로 초, 중, 고 교육기관 폐교 및 해산 횟수"
   ]
  },
  {
   "cell_type": "code",
   "execution_count": 9,
   "id": "eb0b7fb8",
   "metadata": {
    "ExecuteTime": {
     "end_time": "2024-04-17T02:46:43.943157Z",
     "start_time": "2024-04-17T02:46:35.065006Z"
    }
   },
   "outputs": [],
   "source": [
    "import numpy as np\n",
    "from sklearn.linear_model import LinearRegression\n",
    "import matplotlib.pylab as plt"
   ]
  },
  {
   "cell_type": "code",
   "execution_count": 10,
   "id": "51e60bc8",
   "metadata": {
    "ExecuteTime": {
     "end_time": "2024-04-17T02:46:43.950737Z",
     "start_time": "2024-04-17T02:46:43.947890Z"
    }
   },
   "outputs": [],
   "source": [
    "# scikit-learn의 linear_model에 X값, y값을 대입하기 위해선 list에서 array로의 변환이 필요\n",
    "# 또한 X_train은 -1, 1 방향으로의 reshape 필요\n",
    "# 따라서 numpy를 통해 array로 변환 + reshape\n",
    "\n",
    "X_train = np.array(X_train).reshape(-1, 1)\n",
    "y_train = np.array(y_train)"
   ]
  },
  {
   "cell_type": "code",
   "execution_count": 11,
   "id": "3d3d6bab",
   "metadata": {
    "ExecuteTime": {
     "end_time": "2024-04-17T02:46:43.959146Z",
     "start_time": "2024-04-17T02:46:43.952536Z"
    }
   },
   "outputs": [
    {
     "data": {
      "text/html": [
       "<style>#sk-container-id-1 {color: black;}#sk-container-id-1 pre{padding: 0;}#sk-container-id-1 div.sk-toggleable {background-color: white;}#sk-container-id-1 label.sk-toggleable__label {cursor: pointer;display: block;width: 100%;margin-bottom: 0;padding: 0.3em;box-sizing: border-box;text-align: center;}#sk-container-id-1 label.sk-toggleable__label-arrow:before {content: \"▸\";float: left;margin-right: 0.25em;color: #696969;}#sk-container-id-1 label.sk-toggleable__label-arrow:hover:before {color: black;}#sk-container-id-1 div.sk-estimator:hover label.sk-toggleable__label-arrow:before {color: black;}#sk-container-id-1 div.sk-toggleable__content {max-height: 0;max-width: 0;overflow: hidden;text-align: left;background-color: #f0f8ff;}#sk-container-id-1 div.sk-toggleable__content pre {margin: 0.2em;color: black;border-radius: 0.25em;background-color: #f0f8ff;}#sk-container-id-1 input.sk-toggleable__control:checked~div.sk-toggleable__content {max-height: 200px;max-width: 100%;overflow: auto;}#sk-container-id-1 input.sk-toggleable__control:checked~label.sk-toggleable__label-arrow:before {content: \"▾\";}#sk-container-id-1 div.sk-estimator input.sk-toggleable__control:checked~label.sk-toggleable__label {background-color: #d4ebff;}#sk-container-id-1 div.sk-label input.sk-toggleable__control:checked~label.sk-toggleable__label {background-color: #d4ebff;}#sk-container-id-1 input.sk-hidden--visually {border: 0;clip: rect(1px 1px 1px 1px);clip: rect(1px, 1px, 1px, 1px);height: 1px;margin: -1px;overflow: hidden;padding: 0;position: absolute;width: 1px;}#sk-container-id-1 div.sk-estimator {font-family: monospace;background-color: #f0f8ff;border: 1px dotted black;border-radius: 0.25em;box-sizing: border-box;margin-bottom: 0.5em;}#sk-container-id-1 div.sk-estimator:hover {background-color: #d4ebff;}#sk-container-id-1 div.sk-parallel-item::after {content: \"\";width: 100%;border-bottom: 1px solid gray;flex-grow: 1;}#sk-container-id-1 div.sk-label:hover label.sk-toggleable__label {background-color: #d4ebff;}#sk-container-id-1 div.sk-serial::before {content: \"\";position: absolute;border-left: 1px solid gray;box-sizing: border-box;top: 0;bottom: 0;left: 50%;z-index: 0;}#sk-container-id-1 div.sk-serial {display: flex;flex-direction: column;align-items: center;background-color: white;padding-right: 0.2em;padding-left: 0.2em;position: relative;}#sk-container-id-1 div.sk-item {position: relative;z-index: 1;}#sk-container-id-1 div.sk-parallel {display: flex;align-items: stretch;justify-content: center;background-color: white;position: relative;}#sk-container-id-1 div.sk-item::before, #sk-container-id-1 div.sk-parallel-item::before {content: \"\";position: absolute;border-left: 1px solid gray;box-sizing: border-box;top: 0;bottom: 0;left: 50%;z-index: -1;}#sk-container-id-1 div.sk-parallel-item {display: flex;flex-direction: column;z-index: 1;position: relative;background-color: white;}#sk-container-id-1 div.sk-parallel-item:first-child::after {align-self: flex-end;width: 50%;}#sk-container-id-1 div.sk-parallel-item:last-child::after {align-self: flex-start;width: 50%;}#sk-container-id-1 div.sk-parallel-item:only-child::after {width: 0;}#sk-container-id-1 div.sk-dashed-wrapped {border: 1px dashed gray;margin: 0 0.4em 0.5em 0.4em;box-sizing: border-box;padding-bottom: 0.4em;background-color: white;}#sk-container-id-1 div.sk-label label {font-family: monospace;font-weight: bold;display: inline-block;line-height: 1.2em;}#sk-container-id-1 div.sk-label-container {text-align: center;}#sk-container-id-1 div.sk-container {/* jupyter's `normalize.less` sets `[hidden] { display: none; }` but bootstrap.min.css set `[hidden] { display: none !important; }` so we also need the `!important` here to be able to override the default hidden behavior on the sphinx rendered scikit-learn.org. See: https://github.com/scikit-learn/scikit-learn/issues/21755 */display: inline-block !important;position: relative;}#sk-container-id-1 div.sk-text-repr-fallback {display: none;}</style><div id=\"sk-container-id-1\" class=\"sk-top-container\"><div class=\"sk-text-repr-fallback\"><pre>LinearRegression()</pre><b>In a Jupyter environment, please rerun this cell to show the HTML representation or trust the notebook. <br />On GitHub, the HTML representation is unable to render, please try loading this page with nbviewer.org.</b></div><div class=\"sk-container\" hidden><div class=\"sk-item\"><div class=\"sk-estimator sk-toggleable\"><input class=\"sk-toggleable__control sk-hidden--visually\" id=\"sk-estimator-id-1\" type=\"checkbox\" checked><label for=\"sk-estimator-id-1\" class=\"sk-toggleable__label sk-toggleable__label-arrow\">LinearRegression</label><div class=\"sk-toggleable__content\"><pre>LinearRegression()</pre></div></div></div></div></div>"
      ],
      "text/plain": [
       "LinearRegression()"
      ]
     },
     "execution_count": 11,
     "metadata": {},
     "output_type": "execute_result"
    }
   ],
   "source": [
    "model = LinearRegression() # linear regression model 생성\n",
    "model.fit (X_train, y_train) # model에 학습시킴 (fit)"
   ]
  },
  {
   "cell_type": "code",
   "execution_count": 12,
   "id": "7203c51f",
   "metadata": {
    "ExecuteTime": {
     "end_time": "2024-04-17T02:46:43.964585Z",
     "start_time": "2024-04-17T02:46:43.961013Z"
    }
   },
   "outputs": [
    {
     "name": "stdout",
     "output_type": "stream",
     "text": [
      "model의 기울기 :  [0.26896407]\n",
      "model의 y절편 :  -517.6494304281343\n"
     ]
    }
   ],
   "source": [
    "print (\"model의 기울기 : \", model.coef_) # 기울기 출력 \n",
    "print (\"model의 y절편 : \", model.intercept_) # 절편 출력"
   ]
  },
  {
   "cell_type": "code",
   "execution_count": 18,
   "id": "11f9eaa0",
   "metadata": {
    "ExecuteTime": {
     "end_time": "2024-04-17T02:48:29.784029Z",
     "start_time": "2024-04-17T02:48:29.776621Z"
    }
   },
   "outputs": [
    {
     "name": "stdout",
     "output_type": "stream",
     "text": [
      "2030년에 폐교 수 예측 :  [28.34762615]\n",
      "2035년에 폐교 수 예측 :  [29.69244648]\n",
      "2040년에 폐교 수 예측 :  [31.03726682]\n",
      "2045년에 폐교 수 예측 :  [32.38208716]\n",
      "2050년에 폐교 수 예측 :  [33.72690749]\n",
      "2100년에 폐교 수 예측 :  [47.17511086]\n",
      "2150년에 폐교 수 예측 :  [60.62331422]\n",
      "2200년에 폐교 수 예측 :  [74.07151758]\n",
      "2250년에 폐교 수 예측 :  [87.51972095]\n",
      "2300년에 폐교 수 예측 :  [100.96792431]\n",
      "2350년에 폐교 수 예측 :  [114.41612768]\n",
      "2400년에 폐교 수 예측 :  [127.86433104]\n",
      "2450년에 폐교 수 예측 :  [141.3125344]\n",
      "2500년에 폐교 수 예측 :  [154.76073777]\n",
      "2550년에 폐교 수 예측 :  [168.20894113]\n",
      "2600년에 폐교 수 예측 :  [181.6571445]\n",
      "2650년에 폐교 수 예측 :  [195.10534786]\n",
      "2700년에 폐교 수 예측 :  [208.55355122]\n",
      "2750년에 폐교 수 예측 :  [222.00175459]\n"
     ]
    }
   ],
   "source": [
    "# prediction test\n",
    "# 2030, 2035, 2040, 2045, 2050, 2100, 2150, 2200, 2250, 2300, 2350, 2400, 2450, 2500, 2550, 2600, 2650, 2700, 2750년에 폐교 수는 어떻게 될 것인가?\n",
    "\n",
    "test_X = [2030, 2035, 2040, 2045, 2050, 2100, 2150, 2200, 2250, 2300, 2350, 2400, 2450, 2500, 2550, 2600, 2650, 2700, 2750]\n",
    "\n",
    "for test_case in test_X :\n",
    "    test_pred = model.predict([[test_case]])\n",
    "    print (f\"{test_case}년에 폐교 수 예측 : \", test_pred)\n",
    "    \n",
    "# 폐교 수는 기하급수적으로 증가하고 있음이 확인 가능"
   ]
  },
  {
   "cell_type": "markdown",
   "id": "58925e42",
   "metadata": {},
   "source": [
    "------"
   ]
  },
  {
   "cell_type": "markdown",
   "id": "9bc72687-ff6a-4c3a-9413-cb2012879666",
   "metadata": {},
   "source": [
    "### model 시각화\n",
    "- 2024.04.13. matplotlib linear regression model 시각화 (담당: 이태민)\n",
    "\n",
    "X_train과 y_train으로 modeling된 linear regression model을 Matplotlib로 시각화한다"
   ]
  },
  {
   "cell_type": "code",
   "execution_count": 16,
   "id": "dd6644f4-a53b-4f39-abbd-2a547a3558a1",
   "metadata": {
    "ExecuteTime": {
     "end_time": "2024-04-17T02:47:58.362309Z",
     "start_time": "2024-04-17T02:47:58.168694Z"
    }
   },
   "outputs": [
    {
     "data": {
      "image/png": "[encoded data removed]",
      "text/plain": [
       "<Figure size 640x480 with 1 Axes>"
      ]
     },
     "metadata": {},
     "output_type": "display_data"
    }
   ],
   "source": [
    "y_pred = model.predict(X_train)\n",
    "\n",
    "# 연도별 폐교 및 해산 횟수의 산점도\n",
    "plt.scatter(X_train, y_train, s = 20, alpha = 0.5, color = 'b', label = 'Scatter of Shutdown')\n",
    "# 연도별 폐교 및 해산 횟수에 따른 선형 회귀 모델\n",
    "plt.plot(X_train, y_pred, color = 'red', label = 'Linear regression of Shutdown')\n",
    "plt.xlabel('Year') # x축 연도\n",
    "plt.ylabel('Shutdown') # y축 폐교 및  해산 횟수\n",
    "plt.xlim([1960, 2023]) # x축 value 범위 설정\n",
    "plt.ylim([0, 50]) # y축 value 범위 설정\n",
    "\n",
    "plt.legend(fontsize = 8, loc = 'upper left')\n",
    "plt.show()"
   ]
  }
 ],
 "metadata": {
  "kernelspec": {
   "display_name": "Python 3 (ipykernel)",
   "language": "python",
   "name": "python3"
  },
  "language_info": {
   "codemirror_mode": {
    "name": "ipython",
    "version": 3
   },
   "file_extension": ".py",
   "mimetype": "text/x-python",
   "name": "python",
   "nbconvert_exporter": "python",
   "pygments_lexer": "ipython3",
   "version": "3.11.6"
  }
 },
 "nbformat": 4,
 "nbformat_minor": 5
}
