{
 "cells": [
  {
   "cell_type": "markdown",
   "id": "366d687a",
   "metadata": {},
   "source": [
    "## learning-AI101 : California housing price regression (DL)\n",
    "### 캘리포니아 주택 시세 데이터를 Dense layer struction과 CNN을 통한 regression 수행\n",
    "\n",
    "<br>\n",
    "\n",
    "- **임규연 (lky473736)**\n",
    "- 2024.08.10. ~ 2024.08.11.에 문서 작성\n",
    "- **kaggle** : https://www.kaggle.com/datasets/camnugent/california-housing-prices\n",
    "- **data abstract** : This is the dataset used in the second chapter of Aurélien Géron's recent book 'Hands-On Machine learning with Scikit-Learn and TensorFlow'. It serves as an excellent introduction to implementing machine learning algorithms because it requires rudimentary data cleaning, has an easily understandable list of variables and sits at an optimal size between being to toyish and too cumbersome. The data contains information from the 1990 California census. So although it may not help you with predicting current housing prices like the Zillow Zestimate dataset, it does provide an accessible introductory dataset for teaching people about the basics of machine learning.\n",
    "\n",
    "------"
   ]
  },
  {
   "cell_type": "markdown",
   "id": "f106a75e",
   "metadata": {},
   "source": [
    "### <mark>Attention!</mark>\n",
    "\n",
    "본 문서부터 DL에 plaidml-keras를 이용한 GPU 가속화를 진행한다. \n",
    "- 참고 : https://www.facebook.com/groups/KerasKorea/permalink/3077728298909781/\n",
    "\n",
    "현재 local computer의 사양은 아래와 같다.\n",
    "\n",
    "- CPU : 2.6 GHz 6코어 Intel Core i7\n",
    "- 외장 GPU : Radeon Pro 560X 4 GB\n",
    "- RAM : 32GB 2400 MHz DDR4\n",
    "\n",
    "위와 같은 사양으로 여태껏 가속화를 안하고 하염없이 fitting이 완료되기만 기다린 예전의 나에게 박수를 보낸다. 하지만, **ML에서는 앞으로도 줄곧, 하염없이 기다려야 한다.** 그 이유는 scikit-learn의 내부 구조가 CPU에 최적화되어 있으며, 이는 추후에도 지원하지 않을 계획이라고 공식 문서에서 언급되어 있다. (https://scikit-learn.org/stable/faq.html#will-you-add-gpu-support)"
   ]
  },
  {
   "cell_type": "code",
   "execution_count": 1,
   "id": "a963c6f9",
   "metadata": {
    "ExecuteTime": {
     "end_time": "2024-08-11T02:46:12.929679Z",
     "start_time": "2024-08-11T02:46:12.918220Z"
    }
   },
   "outputs": [],
   "source": [
    "import os\n",
    "os.environ[\"KERAS_BACKEND\"] = \"plaidml.keras.backend\""
   ]
  },
  {
   "cell_type": "markdown",
   "id": "16afabb6",
   "metadata": {},
   "source": [
    "----\n",
    "## <span id='dl'><mark>DL</mark></span>\n",
    "\n",
    "deep learning으로 California housing price를 regression한다. 목차는 아래와 같다.\n",
    "\n",
    "- **1. 간단한 데이터 분석 및 데이터 전처리**\n",
    "- **2. deep learning 모델을 적용하여 regression**\n",
    "    - **SGDRegressor를 이용한 regression 수행**\n",
    "        - 여기서 Polynormial set과 normal set의 score를 비교한 후, 앞으로 이용할 dataset을 결정한다.\n",
    "    - **2-1** : ANN\n",
    "    - **2-2** : DNN\n",
    "    - **2-3** : CNN"
   ]
  },
  {
   "cell_type": "code",
   "execution_count": null,
   "id": "c862c75b",
   "metadata": {
    "ExecuteTime": {
     "start_time": "2024-08-11T02:52:38.489Z"
    }
   },
   "outputs": [],
   "source": [
    "# 라이브러리 import\n",
    "\n",
    "import numpy as np\n",
    "import pandas as pd\n",
    "import seaborn as sns\n",
    "import tensorflow as tf\n",
    "import matplotlib.pyplot as plt\n",
    "import seaborn as sns\n",
    "import sklearn\n",
    "import keras\n",
    "from sklearn.model_selection import train_test_split\n",
    "from sklearn.preprocessing import StandardScaler, LabelEncoder"
   ]
  },
  {
   "cell_type": "code",
   "execution_count": null,
   "id": "6545d2b3",
   "metadata": {},
   "outputs": [],
   "source": []
  }
 ],
 "metadata": {
  "kernelspec": {
   "display_name": "Python 3 (ipykernel)",
   "language": "python",
   "name": "python3"
  },
  "language_info": {
   "codemirror_mode": {
    "name": "ipython",
    "version": 3
   },
   "file_extension": ".py",
   "mimetype": "text/x-python",
   "name": "python",
   "nbconvert_exporter": "python",
   "pygments_lexer": "ipython3",
   "version": "3.11.6"
  },
  "toc": {
   "base_numbering": 1,
   "nav_menu": {},
   "number_sections": false,
   "sideBar": true,
   "skip_h1_title": false,
   "title_cell": "Table of Contents",
   "title_sidebar": "Contents",
   "toc_cell": false,
   "toc_position": {},
   "toc_section_display": true,
   "toc_window_display": false
  }
 },
 "nbformat": 4,
 "nbformat_minor": 5
}
