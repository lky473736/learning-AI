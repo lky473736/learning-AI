{
 "cells": [
  {
   "cell_type": "markdown",
   "id": "107b53a8",
   "metadata": {},
   "source": [
    "## learning-AI101 : HARTH classification (DL)\n",
    "### The Human Activity Recognition Trondheim (HARTH)를 Dense layer struction을 통한 DNN 방식의 classification\n",
    "\n",
    "<br>\n",
    "\n",
    "- **임규연 (lky473736)**\n",
    "- 2024.08.04.에 문서 작성\n",
    "- **dataset** : https://archive.ics.uci.edu/dataset/779/harth\n",
    "- **data abstract** : The Human Activity Recognition Trondheim (HARTH) dataset is a professionally-annotated dataset containing 22 subjects wearing two 3-axial accelerometers for around 2 hours in a free-living setting. The sensors were attached to the right thigh and lower back. The professional recordings and annotations provide a promising benchmark dataset for researchers to develop innovative machine learning approaches for precise HAR in free living.\n",
    "\n",
    "------"
   ]
  },
  {
   "cell_type": "markdown",
   "id": "a9453505",
   "metadata": {},
   "source": [
    "\n",
    "\n",
    "## <span id='dl'><mark>DL</mark></span>\n",
    "    \n",
    "deep learning으로 abalone을 classification한다. 목차는 아래와 같다.\n",
    "\n",
    "- **1. 데이터 load and preprocessing**\n",
    "- **2. SGDClassifier를 통한 ML에서의 확률적 경사 하강법 적용**\n",
    "- **3. ANN (fully connected)**\n",
    "- **4. DNN**\n"
   ]
  },
  {
   "cell_type": "code",
   "execution_count": 1,
   "id": "9eeda557",
   "metadata": {
    "ExecuteTime": {
     "end_time": "2024-08-04T04:31:05.781089Z",
     "start_time": "2024-08-04T04:30:45.671665Z"
    }
   },
   "outputs": [
    {
     "name": "stderr",
     "output_type": "stream",
     "text": [
      "2024-08-04 13:31:00.200176: I tensorflow/core/platform/cpu_feature_guard.cc:182] This TensorFlow binary is optimized to use available CPU instructions in performance-critical operations.\n",
      "To enable the following instructions: AVX2 FMA, in other operations, rebuild TensorFlow with the appropriate compiler flags.\n"
     ]
    }
   ],
   "source": [
    "# 라이브러리 import\n",
    "\n",
    "import numpy as np\n",
    "import pandas as pd\n",
    "import seaborn as sns\n",
    "import tensorflow as tf\n",
    "import matplotlib.pyplot as plt\n",
    "import seaborn as sns\n",
    "from tensorflow import keras\n",
    "from sklearn.model_selection import train_test_split\n",
    "from sklearn.preprocessing import StandardScaler, LabelEncoder"
   ]
  },
  {
   "cell_type": "markdown",
   "id": "f02227e6",
   "metadata": {},
   "source": [
    "------\n",
    "\n",
    "### 1. 데이터 load 및 preprocessing\n",
    "- 데이터 로드 및 필요한 정보, 기초통계량을 get한다.\n",
    "- 결측치 제거, outlier 제거 등의 데이터 전처리를 수행한다.\n",
    "- **자세한 EDA는 ./ML_classification_HARTH를 참고할 것**"
   ]
  },
  {
   "cell_type": "code",
   "execution_count": 2,
   "id": "7cab2281",
   "metadata": {
    "ExecuteTime": {
     "end_time": "2024-08-04T04:31:07.117260Z",
     "start_time": "2024-08-04T04:31:05.787002Z"
    }
   },
   "outputs": [
    {
     "data": {
      "text/plain": [
       "Index(['timestamp', 'back_x', 'back_y', 'back_z', 'thigh_x', 'thigh_y',\n",
       "       'thigh_z', 'label'],\n",
       "      dtype='object')"
      ]
     },
     "execution_count": 2,
     "metadata": {},
     "output_type": "execute_result"
    }
   ],
   "source": [
    "# 파일 중 S006.csv를 열어서 header를 확인한다.\n",
    "\n",
    "df_sample = pd.read_csv('data/harth/S006.csv')\n",
    "df_sample.columns"
   ]
  },
  {
   "cell_type": "code",
   "execution_count": 3,
   "id": "4fc713f3",
   "metadata": {
    "ExecuteTime": {
     "end_time": "2024-08-04T04:31:24.041977Z",
     "start_time": "2024-08-04T04:31:07.120334Z"
    },
    "scrolled": true
   },
   "outputs": [
    {
     "name": "stdout",
     "output_type": "stream",
     "text": [
      "['./data/harth/S016.csv', './data/harth/S017.csv', './data/harth/S029.csv', './data/harth/S015.csv', './data/harth/S014.csv', './data/harth/S028.csv', './data/harth/S010.csv', './data/harth/S013.csv', './data/harth/S012.csv', './data/harth/S006.csv', './data/harth/S023.csv', './data/harth/S022.csv', './data/harth/S008.csv', './data/harth/S020.csv', './data/harth/S021.csv', './data/harth/S009.csv', './data/harth/S025.csv', './data/harth/S019.csv', './data/harth/S018.csv', './data/harth/S024.csv', './data/harth/S026.csv', './data/harth/S027.csv']\n"
     ]
    },
    {
     "data": {
      "text/html": [
       "<div>\n",
       "<style scoped>\n",
       "    .dataframe tbody tr th:only-of-type {\n",
       "        vertical-align: middle;\n",
       "    }\n",
       "\n",
       "    .dataframe tbody tr th {\n",
       "        vertical-align: top;\n",
       "    }\n",
       "\n",
       "    .dataframe thead th {\n",
       "        text-align: right;\n",
       "    }\n",
       "</style>\n",
       "<table border=\"1\" class=\"dataframe\">\n",
       "  <thead>\n",
       "    <tr style=\"text-align: right;\">\n",
       "      <th></th>\n",
       "      <th>timestamp</th>\n",
       "      <th>back_x</th>\n",
       "      <th>back_y</th>\n",
       "      <th>back_z</th>\n",
       "      <th>thigh_x</th>\n",
       "      <th>thigh_y</th>\n",
       "      <th>thigh_z</th>\n",
       "      <th>label</th>\n",
       "      <th>index</th>\n",
       "      <th>Unnamed: 0</th>\n",
       "    </tr>\n",
       "  </thead>\n",
       "  <tbody>\n",
       "    <tr>\n",
       "      <th>0</th>\n",
       "      <td>2019-01-12 00:00:00.000</td>\n",
       "      <td>-0.982201</td>\n",
       "      <td>-0.031251</td>\n",
       "      <td>0.178300</td>\n",
       "      <td>-0.935149</td>\n",
       "      <td>0.006160</td>\n",
       "      <td>-0.358898</td>\n",
       "      <td>6</td>\n",
       "      <td>NaN</td>\n",
       "      <td>NaN</td>\n",
       "    </tr>\n",
       "    <tr>\n",
       "      <th>1</th>\n",
       "      <td>2019-01-12 00:00:00.020</td>\n",
       "      <td>-0.973421</td>\n",
       "      <td>-0.042747</td>\n",
       "      <td>0.190618</td>\n",
       "      <td>-0.934986</td>\n",
       "      <td>0.040489</td>\n",
       "      <td>-0.366376</td>\n",
       "      <td>6</td>\n",
       "      <td>NaN</td>\n",
       "      <td>NaN</td>\n",
       "    </tr>\n",
       "    <tr>\n",
       "      <th>2</th>\n",
       "      <td>2019-01-12 00:00:00.040</td>\n",
       "      <td>-0.977409</td>\n",
       "      <td>-0.033531</td>\n",
       "      <td>0.185584</td>\n",
       "      <td>-0.939761</td>\n",
       "      <td>0.028617</td>\n",
       "      <td>-0.370106</td>\n",
       "      <td>6</td>\n",
       "      <td>NaN</td>\n",
       "      <td>NaN</td>\n",
       "    </tr>\n",
       "    <tr>\n",
       "      <th>3</th>\n",
       "      <td>2019-01-12 00:00:00.060</td>\n",
       "      <td>-0.974620</td>\n",
       "      <td>-0.034506</td>\n",
       "      <td>0.188868</td>\n",
       "      <td>-0.939667</td>\n",
       "      <td>0.036060</td>\n",
       "      <td>-0.369624</td>\n",
       "      <td>6</td>\n",
       "      <td>NaN</td>\n",
       "      <td>NaN</td>\n",
       "    </tr>\n",
       "    <tr>\n",
       "      <th>4</th>\n",
       "      <td>2019-01-12 00:00:00.080</td>\n",
       "      <td>-0.976828</td>\n",
       "      <td>-0.041577</td>\n",
       "      <td>0.186524</td>\n",
       "      <td>-0.946145</td>\n",
       "      <td>0.030512</td>\n",
       "      <td>-0.363411</td>\n",
       "      <td>6</td>\n",
       "      <td>NaN</td>\n",
       "      <td>NaN</td>\n",
       "    </tr>\n",
       "  </tbody>\n",
       "</table>\n",
       "</div>"
      ],
      "text/plain": [
       "                 timestamp    back_x    back_y    back_z   thigh_x   thigh_y  \\\n",
       "0  2019-01-12 00:00:00.000 -0.982201 -0.031251  0.178300 -0.935149  0.006160   \n",
       "1  2019-01-12 00:00:00.020 -0.973421 -0.042747  0.190618 -0.934986  0.040489   \n",
       "2  2019-01-12 00:00:00.040 -0.977409 -0.033531  0.185584 -0.939761  0.028617   \n",
       "3  2019-01-12 00:00:00.060 -0.974620 -0.034506  0.188868 -0.939667  0.036060   \n",
       "4  2019-01-12 00:00:00.080 -0.976828 -0.041577  0.186524 -0.946145  0.030512   \n",
       "\n",
       "    thigh_z  label  index  Unnamed: 0  \n",
       "0 -0.358898      6    NaN         NaN  \n",
       "1 -0.366376      6    NaN         NaN  \n",
       "2 -0.370106      6    NaN         NaN  \n",
       "3 -0.369624      6    NaN         NaN  \n",
       "4 -0.363411      6    NaN         NaN  "
      ]
     },
     "execution_count": 3,
     "metadata": {},
     "output_type": "execute_result"
    }
   ],
   "source": [
    "# records 병합\n",
    "\n",
    "import glob\n",
    "\n",
    "directory_path = './data/harth'\n",
    "\n",
    "# 모든 CSV 파일의 경로를 가져오기\n",
    "all_files = glob.glob(directory_path + \"/*.csv\")\n",
    "\n",
    "print (all_files)\n",
    "\n",
    "# 데이터프레임을 담을 빈 리스트 생성\n",
    "df_list = []\n",
    "\n",
    "# 모든 파일을 순회하며 데이터프레임에 추가\n",
    "for filename in all_files :\n",
    "    df = pd.read_csv(filename)  \n",
    "    df_list.append(df) \n",
    "\n",
    "merged_df = pd.concat(df_list, ignore_index=True) # 병합 (header는 ignore)\n",
    "df = merged_df\n",
    "\n",
    "df.head()"
   ]
  },
  {
   "cell_type": "code",
   "execution_count": 4,
   "id": "f4dce327",
   "metadata": {
    "ExecuteTime": {
     "end_time": "2024-08-04T04:31:24.358675Z",
     "start_time": "2024-08-04T04:31:24.044490Z"
    }
   },
   "outputs": [
    {
     "name": "stdout",
     "output_type": "stream",
     "text": [
      "현재 attribute :  Index(['back_x', 'back_y', 'back_z', 'thigh_x', 'thigh_y', 'thigh_z', 'label'], dtype='object')\n"
     ]
    }
   ],
   "source": [
    "# timestamp, index 삭제, unnamed 삭제\n",
    "\n",
    "try : \n",
    "    del df['timestamp']\n",
    "    del df['index']\n",
    "except : \n",
    "    pass\n",
    "\n",
    "df.drop(['Unnamed: 0'], axis = 1, inplace = True)\n",
    "print (\"현재 attribute : \", df.columns)"
   ]
  },
  {
   "cell_type": "code",
   "execution_count": 5,
   "id": "e7785677",
   "metadata": {
    "ExecuteTime": {
     "end_time": "2024-08-04T04:31:24.375553Z",
     "start_time": "2024-08-04T04:31:24.364992Z"
    },
    "scrolled": true
   },
   "outputs": [
    {
     "name": "stdout",
     "output_type": "stream",
     "text": [
      "df 크기 :  (6461328, 7)\n",
      "<class 'pandas.core.frame.DataFrame'>\n",
      "RangeIndex: 6461328 entries, 0 to 6461327\n",
      "Data columns (total 7 columns):\n",
      " #   Column   Dtype  \n",
      "---  ------   -----  \n",
      " 0   back_x   float64\n",
      " 1   back_y   float64\n",
      " 2   back_z   float64\n",
      " 3   thigh_x  float64\n",
      " 4   thigh_y  float64\n",
      " 5   thigh_z  float64\n",
      " 6   label    int64  \n",
      "dtypes: float64(6), int64(1)\n",
      "memory usage: 345.1 MB\n"
     ]
    }
   ],
   "source": [
    "# df의 크기 및 info\n",
    "print(\"df 크기 : \", df.shape)\n",
    "df.info()"
   ]
  },
  {
   "cell_type": "code",
   "execution_count": 6,
   "id": "554ec83c",
   "metadata": {
    "ExecuteTime": {
     "end_time": "2024-08-04T04:31:26.435115Z",
     "start_time": "2024-08-04T04:31:24.378684Z"
    }
   },
   "outputs": [
    {
     "data": {
      "text/html": [
       "<div>\n",
       "<style scoped>\n",
       "    .dataframe tbody tr th:only-of-type {\n",
       "        vertical-align: middle;\n",
       "    }\n",
       "\n",
       "    .dataframe tbody tr th {\n",
       "        vertical-align: top;\n",
       "    }\n",
       "\n",
       "    .dataframe thead th {\n",
       "        text-align: right;\n",
       "    }\n",
       "</style>\n",
       "<table border=\"1\" class=\"dataframe\">\n",
       "  <thead>\n",
       "    <tr style=\"text-align: right;\">\n",
       "      <th></th>\n",
       "      <th>back_x</th>\n",
       "      <th>back_y</th>\n",
       "      <th>back_z</th>\n",
       "      <th>thigh_x</th>\n",
       "      <th>thigh_y</th>\n",
       "      <th>thigh_z</th>\n",
       "      <th>label</th>\n",
       "    </tr>\n",
       "  </thead>\n",
       "  <tbody>\n",
       "    <tr>\n",
       "      <th>count</th>\n",
       "      <td>6.461328e+06</td>\n",
       "      <td>6.461328e+06</td>\n",
       "      <td>6.461328e+06</td>\n",
       "      <td>6.461328e+06</td>\n",
       "      <td>6.461328e+06</td>\n",
       "      <td>6.461328e+06</td>\n",
       "      <td>6.461328e+06</td>\n",
       "    </tr>\n",
       "    <tr>\n",
       "      <th>mean</th>\n",
       "      <td>-8.849574e-01</td>\n",
       "      <td>-1.326128e-02</td>\n",
       "      <td>-1.693779e-01</td>\n",
       "      <td>-5.948883e-01</td>\n",
       "      <td>2.087665e-02</td>\n",
       "      <td>3.749160e-01</td>\n",
       "      <td>6.783833e+00</td>\n",
       "    </tr>\n",
       "    <tr>\n",
       "      <th>std</th>\n",
       "      <td>3.775916e-01</td>\n",
       "      <td>2.311709e-01</td>\n",
       "      <td>3.647385e-01</td>\n",
       "      <td>6.263466e-01</td>\n",
       "      <td>3.884511e-01</td>\n",
       "      <td>7.360983e-01</td>\n",
       "      <td>1.143238e+01</td>\n",
       "    </tr>\n",
       "    <tr>\n",
       "      <th>min</th>\n",
       "      <td>-8.000000e+00</td>\n",
       "      <td>-4.307617e+00</td>\n",
       "      <td>-6.574463e+00</td>\n",
       "      <td>-8.000000e+00</td>\n",
       "      <td>-7.997314e+00</td>\n",
       "      <td>-8.000000e+00</td>\n",
       "      <td>1.000000e+00</td>\n",
       "    </tr>\n",
       "    <tr>\n",
       "      <th>25%</th>\n",
       "      <td>-1.002393e+00</td>\n",
       "      <td>-8.312914e-02</td>\n",
       "      <td>-3.720700e-01</td>\n",
       "      <td>-9.742110e-01</td>\n",
       "      <td>-1.000873e-01</td>\n",
       "      <td>-1.557138e-01</td>\n",
       "      <td>3.000000e+00</td>\n",
       "    </tr>\n",
       "    <tr>\n",
       "      <th>50%</th>\n",
       "      <td>-9.748998e-01</td>\n",
       "      <td>2.593677e-03</td>\n",
       "      <td>-1.374510e-01</td>\n",
       "      <td>-4.217309e-01</td>\n",
       "      <td>3.262909e-02</td>\n",
       "      <td>7.004390e-01</td>\n",
       "      <td>7.000000e+00</td>\n",
       "    </tr>\n",
       "    <tr>\n",
       "      <th>75%</th>\n",
       "      <td>-8.123032e-01</td>\n",
       "      <td>7.251000e-02</td>\n",
       "      <td>4.647321e-02</td>\n",
       "      <td>-1.678755e-01</td>\n",
       "      <td>1.549512e-01</td>\n",
       "      <td>9.486747e-01</td>\n",
       "      <td>7.000000e+00</td>\n",
       "    </tr>\n",
       "    <tr>\n",
       "      <th>max</th>\n",
       "      <td>2.291708e+00</td>\n",
       "      <td>6.491943e+00</td>\n",
       "      <td>4.909483e+00</td>\n",
       "      <td>7.999756e+00</td>\n",
       "      <td>7.999756e+00</td>\n",
       "      <td>8.406235e+00</td>\n",
       "      <td>1.400000e+02</td>\n",
       "    </tr>\n",
       "  </tbody>\n",
       "</table>\n",
       "</div>"
      ],
      "text/plain": [
       "             back_x        back_y        back_z       thigh_x       thigh_y  \\\n",
       "count  6.461328e+06  6.461328e+06  6.461328e+06  6.461328e+06  6.461328e+06   \n",
       "mean  -8.849574e-01 -1.326128e-02 -1.693779e-01 -5.948883e-01  2.087665e-02   \n",
       "std    3.775916e-01  2.311709e-01  3.647385e-01  6.263466e-01  3.884511e-01   \n",
       "min   -8.000000e+00 -4.307617e+00 -6.574463e+00 -8.000000e+00 -7.997314e+00   \n",
       "25%   -1.002393e+00 -8.312914e-02 -3.720700e-01 -9.742110e-01 -1.000873e-01   \n",
       "50%   -9.748998e-01  2.593677e-03 -1.374510e-01 -4.217309e-01  3.262909e-02   \n",
       "75%   -8.123032e-01  7.251000e-02  4.647321e-02 -1.678755e-01  1.549512e-01   \n",
       "max    2.291708e+00  6.491943e+00  4.909483e+00  7.999756e+00  7.999756e+00   \n",
       "\n",
       "            thigh_z         label  \n",
       "count  6.461328e+06  6.461328e+06  \n",
       "mean   3.749160e-01  6.783833e+00  \n",
       "std    7.360983e-01  1.143238e+01  \n",
       "min   -8.000000e+00  1.000000e+00  \n",
       "25%   -1.557138e-01  3.000000e+00  \n",
       "50%    7.004390e-01  7.000000e+00  \n",
       "75%    9.486747e-01  7.000000e+00  \n",
       "max    8.406235e+00  1.400000e+02  "
      ]
     },
     "execution_count": 6,
     "metadata": {},
     "output_type": "execute_result"
    }
   ],
   "source": [
    "# df의 기본적인 정보 및 기초통계량\n",
    "\n",
    "df.describe()"
   ]
  },
  {
   "cell_type": "code",
   "execution_count": 7,
   "id": "a99e5ec7",
   "metadata": {
    "ExecuteTime": {
     "end_time": "2024-08-04T04:31:40.501713Z",
     "start_time": "2024-08-04T04:31:26.438318Z"
    }
   },
   "outputs": [
    {
     "data": {
      "image/png": "[encoded data removed]",
      "text/plain": [
       "<Figure size 640x480 with 1 Axes>"
      ]
     },
     "metadata": {},
     "output_type": "display_data"
    }
   ],
   "source": [
    "# seaborn countplot을 통한 각 레이블 도수 확인\n",
    "\n",
    "sns.countplot (data=df, x='label')\n",
    "plt.xlabel (\"label\")\n",
    "plt.ylabel (\"Number\")\n",
    "plt.title (\"Target\")\n",
    "plt.show()"
   ]
  },
  {
   "cell_type": "code",
   "execution_count": 8,
   "id": "2fadadd0",
   "metadata": {
    "ExecuteTime": {
     "end_time": "2024-08-04T04:31:40.568832Z",
     "start_time": "2024-08-04T04:31:40.505987Z"
    }
   },
   "outputs": [
    {
     "data": {
      "text/plain": [
       "label\n",
       "7      2902703\n",
       "1      1197155\n",
       "6       743480\n",
       "8       428898\n",
       "13      393963\n",
       "2       291356\n",
       "3       254839\n",
       "4        76217\n",
       "5        67253\n",
       "14       55814\n",
       "130      41785\n",
       "140       7865\n",
       "Name: count, dtype: int64"
      ]
     },
     "execution_count": 8,
     "metadata": {},
     "output_type": "execute_result"
    }
   ],
   "source": [
    "# target의 class 도수를 확인 (숫자로)\n",
    "\n",
    "df['label'].value_counts()"
   ]
  },
  {
   "cell_type": "code",
   "execution_count": 9,
   "id": "10de25a8",
   "metadata": {
    "ExecuteTime": {
     "end_time": "2024-08-04T04:31:40.656111Z",
     "start_time": "2024-08-04T04:31:40.572062Z"
    }
   },
   "outputs": [],
   "source": [
    "# input과 target으로 split\n",
    "\n",
    "harth_input = df[['back_x', 'back_y', 'back_z', 'thigh_x', 'thigh_y', 'thigh_z']].to_numpy() \n",
    "harth_target = df['label'].to_numpy()"
   ]
  },
  {
   "cell_type": "code",
   "execution_count": 10,
   "id": "11e7044c",
   "metadata": {
    "ExecuteTime": {
     "end_time": "2024-08-04T04:31:45.867305Z",
     "start_time": "2024-08-04T04:31:40.658813Z"
    }
   },
   "outputs": [],
   "source": [
    "# X_train, y_train, X_test, y_test으로 train set, test set 각각 8:2로 split\n",
    "\n",
    "X_train, X_test, y_train, y_test = train_test_split(harth_input, harth_target, \n",
    "                                                   stratify=harth_target, \n",
    "                                                   test_size=0.2)"
   ]
  },
  {
   "cell_type": "code",
   "execution_count": 11,
   "id": "a1db90f2",
   "metadata": {
    "ExecuteTime": {
     "end_time": "2024-08-04T04:31:47.361069Z",
     "start_time": "2024-08-04T04:31:45.871585Z"
    }
   },
   "outputs": [],
   "source": [
    "# StandardScaler을 통한 정규화 진행\n",
    "\n",
    "ss_transformer = StandardScaler()\n",
    "\n",
    "ss_transformer.fit(X_train)\n",
    "\n",
    "X_train_scaled = ss_transformer.transform(X_train)\n",
    "X_test_scaled = ss_transformer.transform(X_test)"
   ]
  },
  {
   "cell_type": "markdown",
   "id": "fc27ce12",
   "metadata": {},
   "source": [
    "-------\n",
    "\n",
    "### 2. SGDClassifier를 통한 ML에서의 확률적 경사 하강법 적용\n",
    "deep learning을 하기 전, deep learning의 weight 및 bias 조정법인 **SGD (Stochastic Gradient Descent)** 를 scikit-learn으로 구현 후 classification score를 확인해본다. parameter는 random search를 통하여 최적화할 것이며, 자세한 조정범위는 아래에 서술한다.\n",
    "- loss function : log_loss (logistic regression (sigmoid))\n",
    "- max_iter : 10~50 (randint)"
   ]
  },
  {
   "cell_type": "code",
   "execution_count": null,
   "id": "03004a28",
   "metadata": {
    "ExecuteTime": {
     "start_time": "2024-08-04T04:30:45.700Z"
    }
   },
   "outputs": [],
   "source": [
    "# random search를 통한 hyperparameter tuning\n",
    "\n",
    "from sklearn.linear_model import SGDClassifier\n",
    "from scipy.stats import randint, uniform\n",
    "from sklearn.model_selection import RandomizedSearchCV\n",
    "\n",
    "param = {\n",
    "    'max_iter' : randint(10, 50)\n",
    "}\n",
    "\n",
    "sc = SGDClassifier(loss='log_loss')\n",
    "rs = RandomizedSearchCV(sc, param, n_iter=50, n_jobs=-1)\n",
    "rs.fit (X_train_scaled, y_train)"
   ]
  },
  {
   "cell_type": "code",
   "execution_count": null,
   "id": "80bc6a5e",
   "metadata": {},
   "outputs": [],
   "source": []
  }
 ],
 "metadata": {
  "kernelspec": {
   "display_name": "Python 3 (ipykernel)",
   "language": "python",
   "name": "python3"
  },
  "language_info": {
   "codemirror_mode": {
    "name": "ipython",
    "version": 3
   },
   "file_extension": ".py",
   "mimetype": "text/x-python",
   "name": "python",
   "nbconvert_exporter": "python",
   "pygments_lexer": "ipython3",
   "version": "3.11.6"
  },
  "toc": {
   "base_numbering": 1,
   "nav_menu": {},
   "number_sections": false,
   "sideBar": true,
   "skip_h1_title": false,
   "title_cell": "Table of Contents",
   "title_sidebar": "Contents",
   "toc_cell": false,
   "toc_position": {},
   "toc_section_display": true,
   "toc_window_display": false
  }
 },
 "nbformat": 4,
 "nbformat_minor": 5
}
