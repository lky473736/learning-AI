{
 "cells": [
  {
   "cell_type": "code",
   "execution_count": 5,
   "id": "52a82a82",
   "metadata": {
    "ExecuteTime": {
     "end_time": "2025-04-01T01:44:11.804375Z",
     "start_time": "2025-04-01T01:44:11.800357Z"
    }
   },
   "outputs": [],
   "source": [
    "import os\n",
    "import math\n",
    "import numpy as np\n",
    "import pandas as pd\n",
    "import torch\n",
    "import torch.nn as nn\n",
    "import torch.nn.functional as F\n",
    "from torch.utils.data import Dataset, DataLoader\n",
    "from sklearn.model_selection import train_test_split\n",
    "from sklearn.preprocessing import StandardScaler\n",
    "from torch.optim.lr_scheduler import ReduceLROnPlateau\n",
    "from tqdm import tqdm"
   ]
  },
  {
   "cell_type": "code",
   "execution_count": 10,
   "id": "d4a72c36",
   "metadata": {
    "ExecuteTime": {
     "end_time": "2025-04-01T01:50:31.855119Z",
     "start_time": "2025-04-01T01:50:15.873916Z"
    }
   },
   "outputs": [
    {
     "name": "stdout",
     "output_type": "stream",
     "text": [
      "<class 'pandas.core.frame.DataFrame'>\n",
      "RangeIndex: 657 entries, 0 to 656\n",
      "Columns: 2114 entries, Num. to 2100\n",
      "dtypes: float64(1), int64(2108), object(5)\n",
      "memory usage: 10.6+ MB\n"
     ]
    }
   ],
   "source": [
    "data_path = '../../data/combined_dataset-1.xlsx'\n",
    "df = pd.read_excel(data_path)\n",
    "df.info()"
   ]
  },
  {
   "cell_type": "code",
   "execution_count": 11,
   "id": "cc8fbad1",
   "metadata": {
    "ExecuteTime": {
     "end_time": "2025-04-01T01:50:42.775126Z",
     "start_time": "2025-04-01T01:50:42.756235Z"
    }
   },
   "outputs": [
    {
     "data": {
      "text/html": [
       "<div>\n",
       "<style scoped>\n",
       "    .dataframe tbody tr th:only-of-type {\n",
       "        vertical-align: middle;\n",
       "    }\n",
       "\n",
       "    .dataframe tbody tr th {\n",
       "        vertical-align: top;\n",
       "    }\n",
       "\n",
       "    .dataframe thead th {\n",
       "        text-align: right;\n",
       "    }\n",
       "</style>\n",
       "<table border=\"1\" class=\"dataframe\">\n",
       "  <thead>\n",
       "    <tr style=\"text-align: right;\">\n",
       "      <th></th>\n",
       "      <th>Num.</th>\n",
       "      <th>subject_ID</th>\n",
       "      <th>Sex(M/F)</th>\n",
       "      <th>Age(year)</th>\n",
       "      <th>Height(cm)</th>\n",
       "      <th>Weight(kg)</th>\n",
       "      <th>Systolic Blood Pressure(mmHg)</th>\n",
       "      <th>Diastolic Blood Pressure(mmHg)</th>\n",
       "      <th>Heart Rate(b/m)</th>\n",
       "      <th>BMI(kg/m^2)</th>\n",
       "      <th>...</th>\n",
       "      <th>2091</th>\n",
       "      <th>2092</th>\n",
       "      <th>2093</th>\n",
       "      <th>2094</th>\n",
       "      <th>2095</th>\n",
       "      <th>2096</th>\n",
       "      <th>2097</th>\n",
       "      <th>2098</th>\n",
       "      <th>2099</th>\n",
       "      <th>2100</th>\n",
       "    </tr>\n",
       "  </thead>\n",
       "  <tbody>\n",
       "    <tr>\n",
       "      <th>0</th>\n",
       "      <td>1</td>\n",
       "      <td>2</td>\n",
       "      <td>Female</td>\n",
       "      <td>45</td>\n",
       "      <td>152</td>\n",
       "      <td>63</td>\n",
       "      <td>161</td>\n",
       "      <td>89</td>\n",
       "      <td>97</td>\n",
       "      <td>27.268006</td>\n",
       "      <td>...</td>\n",
       "      <td>1766</td>\n",
       "      <td>1766</td>\n",
       "      <td>1766</td>\n",
       "      <td>1833</td>\n",
       "      <td>1833</td>\n",
       "      <td>1827</td>\n",
       "      <td>1827</td>\n",
       "      <td>1827</td>\n",
       "      <td>1754</td>\n",
       "      <td>1754</td>\n",
       "    </tr>\n",
       "    <tr>\n",
       "      <th>1</th>\n",
       "      <td>1</td>\n",
       "      <td>2</td>\n",
       "      <td>Female</td>\n",
       "      <td>45</td>\n",
       "      <td>152</td>\n",
       "      <td>63</td>\n",
       "      <td>161</td>\n",
       "      <td>89</td>\n",
       "      <td>97</td>\n",
       "      <td>27.268006</td>\n",
       "      <td>...</td>\n",
       "      <td>1985</td>\n",
       "      <td>1985</td>\n",
       "      <td>2026</td>\n",
       "      <td>2026</td>\n",
       "      <td>2026</td>\n",
       "      <td>1977</td>\n",
       "      <td>1977</td>\n",
       "      <td>1997</td>\n",
       "      <td>1997</td>\n",
       "      <td>1997</td>\n",
       "    </tr>\n",
       "    <tr>\n",
       "      <th>2</th>\n",
       "      <td>1</td>\n",
       "      <td>2</td>\n",
       "      <td>Female</td>\n",
       "      <td>45</td>\n",
       "      <td>152</td>\n",
       "      <td>63</td>\n",
       "      <td>161</td>\n",
       "      <td>89</td>\n",
       "      <td>97</td>\n",
       "      <td>27.268006</td>\n",
       "      <td>...</td>\n",
       "      <td>1942</td>\n",
       "      <td>1900</td>\n",
       "      <td>1900</td>\n",
       "      <td>1938</td>\n",
       "      <td>1938</td>\n",
       "      <td>1938</td>\n",
       "      <td>1924</td>\n",
       "      <td>1924</td>\n",
       "      <td>1929</td>\n",
       "      <td>1929</td>\n",
       "    </tr>\n",
       "    <tr>\n",
       "      <th>3</th>\n",
       "      <td>2</td>\n",
       "      <td>3</td>\n",
       "      <td>Female</td>\n",
       "      <td>50</td>\n",
       "      <td>157</td>\n",
       "      <td>50</td>\n",
       "      <td>160</td>\n",
       "      <td>93</td>\n",
       "      <td>76</td>\n",
       "      <td>20.284799</td>\n",
       "      <td>...</td>\n",
       "      <td>2073</td>\n",
       "      <td>2072</td>\n",
       "      <td>2072</td>\n",
       "      <td>2072</td>\n",
       "      <td>2051</td>\n",
       "      <td>2051</td>\n",
       "      <td>2036</td>\n",
       "      <td>2036</td>\n",
       "      <td>2036</td>\n",
       "      <td>2045</td>\n",
       "    </tr>\n",
       "    <tr>\n",
       "      <th>4</th>\n",
       "      <td>2</td>\n",
       "      <td>3</td>\n",
       "      <td>Female</td>\n",
       "      <td>50</td>\n",
       "      <td>157</td>\n",
       "      <td>50</td>\n",
       "      <td>160</td>\n",
       "      <td>93</td>\n",
       "      <td>76</td>\n",
       "      <td>20.284799</td>\n",
       "      <td>...</td>\n",
       "      <td>2021</td>\n",
       "      <td>2010</td>\n",
       "      <td>2010</td>\n",
       "      <td>2010</td>\n",
       "      <td>2001</td>\n",
       "      <td>2001</td>\n",
       "      <td>2003</td>\n",
       "      <td>2003</td>\n",
       "      <td>2003</td>\n",
       "      <td>1989</td>\n",
       "    </tr>\n",
       "    <tr>\n",
       "      <th>5</th>\n",
       "      <td>2</td>\n",
       "      <td>3</td>\n",
       "      <td>Female</td>\n",
       "      <td>50</td>\n",
       "      <td>157</td>\n",
       "      <td>50</td>\n",
       "      <td>160</td>\n",
       "      <td>93</td>\n",
       "      <td>76</td>\n",
       "      <td>20.284799</td>\n",
       "      <td>...</td>\n",
       "      <td>2020</td>\n",
       "      <td>2020</td>\n",
       "      <td>2032</td>\n",
       "      <td>2032</td>\n",
       "      <td>2032</td>\n",
       "      <td>2011</td>\n",
       "      <td>2011</td>\n",
       "      <td>2005</td>\n",
       "      <td>2005</td>\n",
       "      <td>2005</td>\n",
       "    </tr>\n",
       "    <tr>\n",
       "      <th>6</th>\n",
       "      <td>3</td>\n",
       "      <td>6</td>\n",
       "      <td>Female</td>\n",
       "      <td>47</td>\n",
       "      <td>150</td>\n",
       "      <td>47</td>\n",
       "      <td>101</td>\n",
       "      <td>71</td>\n",
       "      <td>79</td>\n",
       "      <td>20.888889</td>\n",
       "      <td>...</td>\n",
       "      <td>2047</td>\n",
       "      <td>2047</td>\n",
       "      <td>2017</td>\n",
       "      <td>2017</td>\n",
       "      <td>2017</td>\n",
       "      <td>2053</td>\n",
       "      <td>2053</td>\n",
       "      <td>2038</td>\n",
       "      <td>2038</td>\n",
       "      <td>2038</td>\n",
       "    </tr>\n",
       "    <tr>\n",
       "      <th>7</th>\n",
       "      <td>3</td>\n",
       "      <td>6</td>\n",
       "      <td>Female</td>\n",
       "      <td>47</td>\n",
       "      <td>150</td>\n",
       "      <td>47</td>\n",
       "      <td>101</td>\n",
       "      <td>71</td>\n",
       "      <td>79</td>\n",
       "      <td>20.888889</td>\n",
       "      <td>...</td>\n",
       "      <td>2076</td>\n",
       "      <td>2076</td>\n",
       "      <td>2051</td>\n",
       "      <td>2051</td>\n",
       "      <td>2051</td>\n",
       "      <td>2060</td>\n",
       "      <td>2060</td>\n",
       "      <td>2067</td>\n",
       "      <td>2067</td>\n",
       "      <td>2067</td>\n",
       "    </tr>\n",
       "    <tr>\n",
       "      <th>8</th>\n",
       "      <td>3</td>\n",
       "      <td>6</td>\n",
       "      <td>Female</td>\n",
       "      <td>47</td>\n",
       "      <td>150</td>\n",
       "      <td>47</td>\n",
       "      <td>101</td>\n",
       "      <td>71</td>\n",
       "      <td>79</td>\n",
       "      <td>20.888889</td>\n",
       "      <td>...</td>\n",
       "      <td>2163</td>\n",
       "      <td>2159</td>\n",
       "      <td>2159</td>\n",
       "      <td>2159</td>\n",
       "      <td>2175</td>\n",
       "      <td>2175</td>\n",
       "      <td>2168</td>\n",
       "      <td>2168</td>\n",
       "      <td>2168</td>\n",
       "      <td>2175</td>\n",
       "    </tr>\n",
       "    <tr>\n",
       "      <th>9</th>\n",
       "      <td>4</td>\n",
       "      <td>8</td>\n",
       "      <td>Male</td>\n",
       "      <td>45</td>\n",
       "      <td>172</td>\n",
       "      <td>65</td>\n",
       "      <td>136</td>\n",
       "      <td>93</td>\n",
       "      <td>87</td>\n",
       "      <td>21.971336</td>\n",
       "      <td>...</td>\n",
       "      <td>1985</td>\n",
       "      <td>1985</td>\n",
       "      <td>1985</td>\n",
       "      <td>1984</td>\n",
       "      <td>1984</td>\n",
       "      <td>1995</td>\n",
       "      <td>1995</td>\n",
       "      <td>1995</td>\n",
       "      <td>1972</td>\n",
       "      <td>1972</td>\n",
       "    </tr>\n",
       "  </tbody>\n",
       "</table>\n",
       "<p>10 rows × 2114 columns</p>\n",
       "</div>"
      ],
      "text/plain": [
       "   Num.  subject_ID Sex(M/F)  Age(year)  Height(cm)  Weight(kg)  \\\n",
       "0     1           2   Female         45         152          63   \n",
       "1     1           2   Female         45         152          63   \n",
       "2     1           2   Female         45         152          63   \n",
       "3     2           3   Female         50         157          50   \n",
       "4     2           3   Female         50         157          50   \n",
       "5     2           3   Female         50         157          50   \n",
       "6     3           6   Female         47         150          47   \n",
       "7     3           6   Female         47         150          47   \n",
       "8     3           6   Female         47         150          47   \n",
       "9     4           8     Male         45         172          65   \n",
       "\n",
       "   Systolic Blood Pressure(mmHg)  Diastolic Blood Pressure(mmHg)  \\\n",
       "0                            161                              89   \n",
       "1                            161                              89   \n",
       "2                            161                              89   \n",
       "3                            160                              93   \n",
       "4                            160                              93   \n",
       "5                            160                              93   \n",
       "6                            101                              71   \n",
       "7                            101                              71   \n",
       "8                            101                              71   \n",
       "9                            136                              93   \n",
       "\n",
       "   Heart Rate(b/m)  BMI(kg/m^2)  ...  2091  2092  2093  2094  2095  2096  \\\n",
       "0               97    27.268006  ...  1766  1766  1766  1833  1833  1827   \n",
       "1               97    27.268006  ...  1985  1985  2026  2026  2026  1977   \n",
       "2               97    27.268006  ...  1942  1900  1900  1938  1938  1938   \n",
       "3               76    20.284799  ...  2073  2072  2072  2072  2051  2051   \n",
       "4               76    20.284799  ...  2021  2010  2010  2010  2001  2001   \n",
       "5               76    20.284799  ...  2020  2020  2032  2032  2032  2011   \n",
       "6               79    20.888889  ...  2047  2047  2017  2017  2017  2053   \n",
       "7               79    20.888889  ...  2076  2076  2051  2051  2051  2060   \n",
       "8               79    20.888889  ...  2163  2159  2159  2159  2175  2175   \n",
       "9               87    21.971336  ...  1985  1985  1985  1984  1984  1995   \n",
       "\n",
       "   2097  2098  2099  2100  \n",
       "0  1827  1827  1754  1754  \n",
       "1  1977  1997  1997  1997  \n",
       "2  1924  1924  1929  1929  \n",
       "3  2036  2036  2036  2045  \n",
       "4  2003  2003  2003  1989  \n",
       "5  2011  2005  2005  2005  \n",
       "6  2053  2038  2038  2038  \n",
       "7  2060  2067  2067  2067  \n",
       "8  2168  2168  2168  2175  \n",
       "9  1995  1995  1972  1972  \n",
       "\n",
       "[10 rows x 2114 columns]"
      ]
     },
     "execution_count": 11,
     "metadata": {},
     "output_type": "execute_result"
    }
   ],
   "source": [
    "df.head(10) "
   ]
  },
  {
   "cell_type": "code",
   "execution_count": 12,
   "id": "e97c6de7",
   "metadata": {
    "ExecuteTime": {
     "end_time": "2025-04-01T01:50:47.989804Z",
     "start_time": "2025-04-01T01:50:45.693993Z"
    }
   },
   "outputs": [
    {
     "data": {
      "text/html": [
       "<div>\n",
       "<style scoped>\n",
       "    .dataframe tbody tr th:only-of-type {\n",
       "        vertical-align: middle;\n",
       "    }\n",
       "\n",
       "    .dataframe tbody tr th {\n",
       "        vertical-align: top;\n",
       "    }\n",
       "\n",
       "    .dataframe thead th {\n",
       "        text-align: right;\n",
       "    }\n",
       "</style>\n",
       "<table border=\"1\" class=\"dataframe\">\n",
       "  <thead>\n",
       "    <tr style=\"text-align: right;\">\n",
       "      <th></th>\n",
       "      <th>count</th>\n",
       "      <th>mean</th>\n",
       "      <th>std</th>\n",
       "      <th>min</th>\n",
       "      <th>25%</th>\n",
       "      <th>50%</th>\n",
       "      <th>75%</th>\n",
       "      <th>max</th>\n",
       "    </tr>\n",
       "  </thead>\n",
       "  <tbody>\n",
       "    <tr>\n",
       "      <th>Num.</th>\n",
       "      <td>657.0</td>\n",
       "      <td>110.000000</td>\n",
       "      <td>63.267362</td>\n",
       "      <td>1.0</td>\n",
       "      <td>55.0</td>\n",
       "      <td>110.0</td>\n",
       "      <td>165.0</td>\n",
       "      <td>219.0</td>\n",
       "    </tr>\n",
       "    <tr>\n",
       "      <th>subject_ID</th>\n",
       "      <td>657.0</td>\n",
       "      <td>156.598174</td>\n",
       "      <td>101.449344</td>\n",
       "      <td>2.0</td>\n",
       "      <td>85.0</td>\n",
       "      <td>152.0</td>\n",
       "      <td>215.0</td>\n",
       "      <td>419.0</td>\n",
       "    </tr>\n",
       "    <tr>\n",
       "      <th>Age(year)</th>\n",
       "      <td>657.0</td>\n",
       "      <td>57.168950</td>\n",
       "      <td>15.850110</td>\n",
       "      <td>21.0</td>\n",
       "      <td>48.0</td>\n",
       "      <td>58.0</td>\n",
       "      <td>68.0</td>\n",
       "      <td>86.0</td>\n",
       "    </tr>\n",
       "    <tr>\n",
       "      <th>Height(cm)</th>\n",
       "      <td>657.0</td>\n",
       "      <td>161.228311</td>\n",
       "      <td>8.190357</td>\n",
       "      <td>145.0</td>\n",
       "      <td>155.0</td>\n",
       "      <td>160.0</td>\n",
       "      <td>167.0</td>\n",
       "      <td>196.0</td>\n",
       "    </tr>\n",
       "    <tr>\n",
       "      <th>Weight(kg)</th>\n",
       "      <td>657.0</td>\n",
       "      <td>60.191781</td>\n",
       "      <td>11.868168</td>\n",
       "      <td>36.0</td>\n",
       "      <td>52.0</td>\n",
       "      <td>60.0</td>\n",
       "      <td>67.0</td>\n",
       "      <td>103.0</td>\n",
       "    </tr>\n",
       "    <tr>\n",
       "      <th>...</th>\n",
       "      <td>...</td>\n",
       "      <td>...</td>\n",
       "      <td>...</td>\n",
       "      <td>...</td>\n",
       "      <td>...</td>\n",
       "      <td>...</td>\n",
       "      <td>...</td>\n",
       "      <td>...</td>\n",
       "    </tr>\n",
       "    <tr>\n",
       "      <th>2096</th>\n",
       "      <td>657.0</td>\n",
       "      <td>2085.436834</td>\n",
       "      <td>305.845135</td>\n",
       "      <td>1519.0</td>\n",
       "      <td>1904.0</td>\n",
       "      <td>2014.0</td>\n",
       "      <td>2180.0</td>\n",
       "      <td>3811.0</td>\n",
       "    </tr>\n",
       "    <tr>\n",
       "      <th>2097</th>\n",
       "      <td>657.0</td>\n",
       "      <td>2083.791476</td>\n",
       "      <td>304.297297</td>\n",
       "      <td>1515.0</td>\n",
       "      <td>1904.0</td>\n",
       "      <td>2012.0</td>\n",
       "      <td>2176.0</td>\n",
       "      <td>3787.0</td>\n",
       "    </tr>\n",
       "    <tr>\n",
       "      <th>2098</th>\n",
       "      <td>657.0</td>\n",
       "      <td>2084.803653</td>\n",
       "      <td>306.657540</td>\n",
       "      <td>1515.0</td>\n",
       "      <td>1904.0</td>\n",
       "      <td>2011.0</td>\n",
       "      <td>2175.0</td>\n",
       "      <td>3774.0</td>\n",
       "    </tr>\n",
       "    <tr>\n",
       "      <th>2099</th>\n",
       "      <td>657.0</td>\n",
       "      <td>2085.196347</td>\n",
       "      <td>306.275406</td>\n",
       "      <td>1515.0</td>\n",
       "      <td>1906.0</td>\n",
       "      <td>2012.0</td>\n",
       "      <td>2177.0</td>\n",
       "      <td>3775.0</td>\n",
       "    </tr>\n",
       "    <tr>\n",
       "      <th>2100</th>\n",
       "      <td>657.0</td>\n",
       "      <td>2085.219178</td>\n",
       "      <td>305.731730</td>\n",
       "      <td>1528.0</td>\n",
       "      <td>1906.0</td>\n",
       "      <td>2017.0</td>\n",
       "      <td>2183.0</td>\n",
       "      <td>3759.0</td>\n",
       "    </tr>\n",
       "  </tbody>\n",
       "</table>\n",
       "<p>2109 rows × 8 columns</p>\n",
       "</div>"
      ],
      "text/plain": [
       "            count         mean         std     min     25%     50%     75%  \\\n",
       "Num.        657.0   110.000000   63.267362     1.0    55.0   110.0   165.0   \n",
       "subject_ID  657.0   156.598174  101.449344     2.0    85.0   152.0   215.0   \n",
       "Age(year)   657.0    57.168950   15.850110    21.0    48.0    58.0    68.0   \n",
       "Height(cm)  657.0   161.228311    8.190357   145.0   155.0   160.0   167.0   \n",
       "Weight(kg)  657.0    60.191781   11.868168    36.0    52.0    60.0    67.0   \n",
       "...           ...          ...         ...     ...     ...     ...     ...   \n",
       "2096        657.0  2085.436834  305.845135  1519.0  1904.0  2014.0  2180.0   \n",
       "2097        657.0  2083.791476  304.297297  1515.0  1904.0  2012.0  2176.0   \n",
       "2098        657.0  2084.803653  306.657540  1515.0  1904.0  2011.0  2175.0   \n",
       "2099        657.0  2085.196347  306.275406  1515.0  1906.0  2012.0  2177.0   \n",
       "2100        657.0  2085.219178  305.731730  1528.0  1906.0  2017.0  2183.0   \n",
       "\n",
       "               max  \n",
       "Num.         219.0  \n",
       "subject_ID   419.0  \n",
       "Age(year)     86.0  \n",
       "Height(cm)   196.0  \n",
       "Weight(kg)   103.0  \n",
       "...            ...  \n",
       "2096        3811.0  \n",
       "2097        3787.0  \n",
       "2098        3774.0  \n",
       "2099        3775.0  \n",
       "2100        3759.0  \n",
       "\n",
       "[2109 rows x 8 columns]"
      ]
     },
     "execution_count": 12,
     "metadata": {},
     "output_type": "execute_result"
    }
   ],
   "source": [
    "df.describe().T"
   ]
  },
  {
   "cell_type": "code",
   "execution_count": 13,
   "id": "e0ba3663",
   "metadata": {
    "ExecuteTime": {
     "end_time": "2025-04-01T01:51:01.447714Z",
     "start_time": "2025-04-01T01:51:01.443690Z"
    }
   },
   "outputs": [
    {
     "data": {
      "text/plain": [
       "(657, 2114)"
      ]
     },
     "execution_count": 13,
     "metadata": {},
     "output_type": "execute_result"
    }
   ],
   "source": [
    "df.shape"
   ]
  },
  {
   "cell_type": "code",
   "execution_count": 15,
   "id": "cc891c65",
   "metadata": {
    "ExecuteTime": {
     "end_time": "2025-04-01T01:57:47.196893Z",
     "start_time": "2025-04-01T01:57:47.192786Z"
    }
   },
   "outputs": [
    {
     "name": "stdout",
     "output_type": "stream",
     "text": [
      "metadata col # : ['Num.', 'subject_ID', 'Sex(M/F)', 'Age(year)', 'Height(cm)', 'Weight(kg)', 'Systolic Blood Pressure(mmHg)', 'Diastolic Blood Pressure(mmHg)', 'Heart Rate(b/m)', 'BMI(kg/m^2)', 'Hypertension', 'Diabetes', 'cerebral infarction', 'cerebrovascular disease']\n",
      "signal data col # : 2100\n"
     ]
    }
   ],
   "source": [
    "meta_end_idx = df.columns.get_loc('cerebrovascular disease') + 1  \n",
    "meta_cols = df.columns[:meta_end_idx]\n",
    "signal_cols = df.columns[meta_end_idx:]\n",
    "\n",
    "print(f\"metadata col # : {list(meta_cols)}\")\n",
    "print(f\"signal data col # : {len(signal_cols)}\")"
   ]
  },
  {
   "cell_type": "code",
   "execution_count": 16,
   "id": "c05b42c8",
   "metadata": {
    "ExecuteTime": {
     "end_time": "2025-04-01T01:58:07.317033Z",
     "start_time": "2025-04-01T01:58:07.310072Z"
    }
   },
   "outputs": [
    {
     "name": "stdout",
     "output_type": "stream",
     "text": [
      "signal data : (657, 2100)\n",
      "pressure data : (657, 2)\n"
     ]
    }
   ],
   "source": [
    "target_cols = ['Systolic Blood Pressure(mmHg)', 'Diastolic Blood Pressure(mmHg)']\n",
    "\n",
    "X_signals = df[signal_cols].values\n",
    "y_bp = df[target_cols].values\n",
    "\n",
    "print(f\"signal data : {X_signals.shape}\")\n",
    "print(f\"pressure data : {y_bp.shape}\")"
   ]
  },
  {
   "cell_type": "code",
   "execution_count": 19,
   "id": "62ada5cc",
   "metadata": {
    "ExecuteTime": {
     "end_time": "2025-04-01T01:58:53.547271Z",
     "start_time": "2025-04-01T01:58:53.048056Z"
    }
   },
   "outputs": [
    {
     "name": "stderr",
     "output_type": "stream",
     "text": [
      "sliding window: 100%|█| 657/657 [00:00<00:0"
     ]
    },
    {
     "name": "stdout",
     "output_type": "stream",
     "text": [
      "(11169, 500)\n",
      "(11169, 2)\n"
     ]
    },
    {
     "name": "stderr",
     "output_type": "stream",
     "text": [
      "\n"
     ]
    }
   ],
   "source": [
    "def create_sliding_windows(signal, window_size=500, stride=100):\n",
    "    windows = []\n",
    "    for i in range(0, len(signal) - window_size + 1, stride):\n",
    "        windows.append(signal[i:i+window_size])\n",
    "    return windows\n",
    "\n",
    "window_size = 500  # 0.5 (1000Hz)\n",
    "stride = 100       # 0.1\n",
    "\n",
    "all_windows = []\n",
    "all_bp_values = []\n",
    "\n",
    "for i in tqdm(range(len(X_signals)), desc=\"sliding window\"):\n",
    "    signal = X_signals[i]\n",
    "    bp = y_bp[i]\n",
    "    \n",
    "    windows = create_sliding_windows(signal, window_size, stride)\n",
    "    \n",
    "    bp_values = np.tile(bp, (len(windows), 1))\n",
    "    \n",
    "    all_windows.extend(windows)\n",
    "    all_bp_values.extend(bp_values)\n",
    "\n",
    "all_windows = np.array(all_windows)\n",
    "all_bp_values = np.array(all_bp_values)\n",
    "\n",
    "print (all_windows.shape)\n",
    "print (all_bp_values.shape)"
   ]
  },
  {
   "cell_type": "code",
   "execution_count": 20,
   "id": "b5938935",
   "metadata": {
    "ExecuteTime": {
     "end_time": "2025-04-01T01:59:08.904875Z",
     "start_time": "2025-04-01T01:59:08.877807Z"
    }
   },
   "outputs": [
    {
     "name": "stdout",
     "output_type": "stream",
     "text": [
      "train=(7818, 500), val=(1675, 500), test=(1676, 500)\n"
     ]
    }
   ],
   "source": [
    "X_train, X_temp, y_train, y_temp = train_test_split(all_windows, all_bp_values, test_size=0.3, random_state=42)\n",
    "X_val, X_test, y_val, y_test = train_test_split(X_temp, y_temp, test_size=0.5, random_state=42)\n",
    "\n",
    "print(f\"train={X_train.shape}, val={X_val.shape}, test={X_test.shape}\")"
   ]
  },
  {
   "cell_type": "code",
   "execution_count": 21,
   "id": "516c0737",
   "metadata": {
    "ExecuteTime": {
     "end_time": "2025-04-01T01:59:15.982267Z",
     "start_time": "2025-04-01T01:59:15.860030Z"
    }
   },
   "outputs": [],
   "source": [
    "scaler_X = StandardScaler()\n",
    "X_train = scaler_X.fit_transform(X_train.reshape(X_train.shape[0], -1)).reshape(X_train.shape)\n",
    "X_val = scaler_X.transform(X_val.reshape(X_val.shape[0], -1)).reshape(X_val.shape)\n",
    "X_test = scaler_X.transform(X_test.reshape(X_test.shape[0], -1)).reshape(X_test.shape)\n",
    "\n",
    "scaler_y = StandardScaler()\n",
    "y_train = scaler_y.fit_transform(y_train)\n",
    "y_val = scaler_y.transform(y_val)\n",
    "y_test = scaler_y.transform(y_test)"
   ]
  },
  {
   "cell_type": "code",
   "execution_count": 23,
   "id": "d6921cf9",
   "metadata": {
    "ExecuteTime": {
     "end_time": "2025-04-01T01:59:46.478570Z",
     "start_time": "2025-04-01T01:59:46.472004Z"
    }
   },
   "outputs": [
    {
     "name": "stdout",
     "output_type": "stream",
     "text": [
      "train=7818, val=1675, test=1676\n",
      "train=62, val=14, test=14\n"
     ]
    }
   ],
   "source": [
    "class BPDataset(Dataset):\n",
    "    def __init__(self, signals, bp_values):\n",
    "        self.signals = signals\n",
    "        self.bp_values = bp_values\n",
    "    \n",
    "    def __len__(self):\n",
    "        return len(self.signals)\n",
    "    \n",
    "    def __getitem__(self, idx):\n",
    "        signal = self.signals[idx]\n",
    "        bp = self.bp_values[idx]\n",
    "        \n",
    "        x = torch.FloatTensor(signal).unsqueeze(-1)  # [window_size, 1]\n",
    "        y = torch.FloatTensor(bp) \n",
    "        \n",
    "        return x, y\n",
    "\n",
    "train_dataset = BPDataset(X_train, y_train)\n",
    "val_dataset = BPDataset(X_val, y_val)\n",
    "test_dataset = BPDataset(X_test, y_test)\n",
    "\n",
    "batch_size = 128  \n",
    "train_loader = DataLoader(train_dataset, batch_size=batch_size, shuffle=True)\n",
    "val_loader = DataLoader(val_dataset, batch_size=batch_size)\n",
    "test_loader = DataLoader(test_dataset, batch_size=batch_size)\n",
    "\n",
    "print(f\"train={len(train_dataset)}, val={len(val_dataset)}, test={len(test_dataset)}\") # <--- data point\n",
    "print(f\"train={len(train_loader)}, val={len(val_loader)}, test={len(test_loader)}\") # <-- batch"
   ]
  },
  {
   "cell_type": "code",
   "execution_count": 24,
   "id": "5d8eeb5a",
   "metadata": {
    "ExecuteTime": {
     "end_time": "2025-04-01T01:59:57.972795Z",
     "start_time": "2025-04-01T01:59:57.951852Z"
    }
   },
   "outputs": [],
   "source": [
    "class DataEmbedding(nn.Module):\n",
    "    def __init__(self, c_in, d_model, dropout=0.1):\n",
    "        super(DataEmbedding, self).__init__()\n",
    "        self.value_embedding = nn.Linear(c_in, d_model)\n",
    "        self.dropout = nn.Dropout(p=dropout)\n",
    "\n",
    "    def forward(self, x):\n",
    "        x = self.value_embedding(x)\n",
    "        return self.dropout(x)\n",
    "\n",
    "class Mamba(nn.Module):\n",
    "    def __init__(self, d_model, d_state, d_conv, expand):\n",
    "        super(Mamba, self).__init__()\n",
    "        self.d_model = d_model\n",
    "        self.d_state = d_state\n",
    "        self.d_conv = d_conv\n",
    "        self.expand = expand\n",
    "        self.d_inner = d_model * expand\n",
    "        \n",
    "        self.in_proj = nn.Linear(d_model, self.d_inner)\n",
    "        self.conv1d = nn.Conv1d(\n",
    "            in_channels=self.d_inner,\n",
    "            out_channels=self.d_inner,\n",
    "            kernel_size=d_conv,\n",
    "            padding=d_conv-1,\n",
    "            groups=self.d_inner,\n",
    "        )\n",
    "        \n",
    "        self.x_proj = nn.Linear(self.d_inner, self.d_inner)\n",
    "        self.dt_proj = nn.Linear(self.d_inner, self.d_inner)\n",
    "        self.gate_proj = nn.Linear(self.d_inner, self.d_inner)\n",
    "        self.out_proj = nn.Linear(self.d_inner, d_model)\n",
    "        \n",
    "        self.A_log = nn.Parameter(torch.randn(1, d_state))\n",
    "        self.B = nn.Parameter(torch.randn(1, self.d_inner, d_state))\n",
    "        self.C = nn.Parameter(torch.randn(1, self.d_inner, d_state))\n",
    "        \n",
    "    def forward(self, x):\n",
    "        B, L, D = x.shape\n",
    "        \n",
    "        x_in = self.in_proj(x)\n",
    "        x_conv = self.conv1d(x_in.transpose(1, 2))[:, :, :L].transpose(1, 2)\n",
    "        \n",
    "        x_proj = self.x_proj(x_conv)\n",
    "        dt = self.dt_proj(x_conv).sigmoid()\n",
    "        \n",
    "        A = torch.diag_embed(torch.exp(self.A_log)).expand(1, self.d_state, self.d_state)\n",
    "        h = torch.zeros(B, self.d_inner, self.d_state, device=x.device)\n",
    "        \n",
    "        outputs = []\n",
    "        for t in range(L):\n",
    "            u = x_proj[:, t, :]\n",
    "            h = torch.bmm(h, A.expand(B, -1, -1)) + self.B.expand(B, -1, -1) * u.unsqueeze(-1)\n",
    "            y = torch.sum(h * self.C.expand(B, -1, -1), dim=-1)\n",
    "            outputs.append(y)\n",
    "        \n",
    "        y = torch.stack(outputs, dim=1)\n",
    "        gate = self.gate_proj(x_conv).sigmoid()\n",
    "        y = y * gate\n",
    "        \n",
    "        return self.out_proj(y)\n",
    "\n",
    "class Model(nn.Module):\n",
    "    def __init__(self, seq_len, d_model=64, d_state=32, d_conv=3, expand=2, dropout=0.1):\n",
    "        super(Model, self).__init__()\n",
    "        \n",
    "        self.embedding = DataEmbedding(1, d_model, dropout)\n",
    "        \n",
    "        self.mamba = Mamba(\n",
    "            d_model=d_model,\n",
    "            d_state=d_state,\n",
    "            d_conv=d_conv,\n",
    "            expand=expand\n",
    "        )\n",
    "        \n",
    "        self.projection = nn.Linear(d_model, 2)\n",
    "        \n",
    "    def forward(self, x):\n",
    "        enc_out = self.embedding(x)\n",
    "        enc_out = self.mamba(enc_out)\n",
    "        \n",
    "        avg_pooled = torch.mean(enc_out, dim=1)\n",
    "        max_pooled, _ = torch.max(enc_out, dim=1)\n",
    "        pooled_features = avg_pooled + max_pooled\n",
    "        \n",
    "        bp_pred = self.projection(pooled_features)\n",
    "        \n",
    "        return bp_pred"
   ]
  },
  {
   "cell_type": "code",
   "execution_count": 25,
   "id": "80446ca2",
   "metadata": {
    "ExecuteTime": {
     "end_time": "2025-04-01T02:00:16.402260Z",
     "start_time": "2025-04-01T02:00:16.395459Z"
    }
   },
   "outputs": [
    {
     "name": "stdout",
     "output_type": "stream",
     "text": [
      "device : cpu\n",
      "# of parameters: 75106\n"
     ]
    }
   ],
   "source": [
    "device = torch.device('cuda' if torch.cuda.is_available() else 'cpu')\n",
    "print(f\"device : {device}\")\n",
    "\n",
    "model = Model(seq_len=window_size).to(device)\n",
    "print (f\"# of parameters: {sum(p.numel() for p in model.parameters())}\")"
   ]
  },
  {
   "cell_type": "code",
   "execution_count": 27,
   "id": "2720fc74",
   "metadata": {
    "ExecuteTime": {
     "end_time": "2025-04-01T02:02:41.169382Z",
     "start_time": "2025-04-01T02:02:41.161553Z"
    }
   },
   "outputs": [],
   "source": [
    "criterion = nn.MSELoss()\n",
    "optimizer = torch.optim.Adam(model.parameters(), lr=0.001)\n",
    "scheduler = ReduceLROnPlateau(optimizer, mode='min', factor=0.5, patience=5)"
   ]
  },
  {
   "cell_type": "code",
   "execution_count": 28,
   "id": "a8ec8c19",
   "metadata": {
    "ExecuteTime": {
     "end_time": "2025-04-01T02:04:54.002341Z",
     "start_time": "2025-04-01T02:04:40.771365Z"
    }
   },
   "outputs": [
    {
     "name": "stderr",
     "output_type": "stream",
     "text": [
      "Epoch 1/30 [Train]:   0%| | 0/62 [00:13<?, \n"
     ]
    },
    {
     "ename": "KeyboardInterrupt",
     "evalue": "",
     "output_type": "error",
     "traceback": [
      "\u001b[0;31m---------------------------------------------------------------------------\u001b[0m",
      "\u001b[0;31mKeyboardInterrupt\u001b[0m                         Traceback (most recent call last)",
      "Cell \u001b[0;32mIn[28], line 21\u001b[0m\n\u001b[1;32m     18\u001b[0m y_pred \u001b[38;5;241m=\u001b[39m model(x)\n\u001b[1;32m     19\u001b[0m loss \u001b[38;5;241m=\u001b[39m criterion(y_pred, y)\n\u001b[0;32m---> 21\u001b[0m \u001b[43mloss\u001b[49m\u001b[38;5;241;43m.\u001b[39;49m\u001b[43mbackward\u001b[49m\u001b[43m(\u001b[49m\u001b[43m)\u001b[49m\n\u001b[1;32m     22\u001b[0m optimizer\u001b[38;5;241m.\u001b[39mstep()\n\u001b[1;32m     24\u001b[0m train_loss \u001b[38;5;241m+\u001b[39m\u001b[38;5;241m=\u001b[39m loss\u001b[38;5;241m.\u001b[39mitem() \u001b[38;5;241m*\u001b[39m x\u001b[38;5;241m.\u001b[39msize(\u001b[38;5;241m0\u001b[39m)\n",
      "File \u001b[0;32m/Library/Frameworks/Python.framework/Versions/3.11/lib/python3.11/site-packages/torch/_tensor.py:522\u001b[0m, in \u001b[0;36mTensor.backward\u001b[0;34m(self, gradient, retain_graph, create_graph, inputs)\u001b[0m\n\u001b[1;32m    512\u001b[0m \u001b[38;5;28;01mif\u001b[39;00m has_torch_function_unary(\u001b[38;5;28mself\u001b[39m):\n\u001b[1;32m    513\u001b[0m     \u001b[38;5;28;01mreturn\u001b[39;00m handle_torch_function(\n\u001b[1;32m    514\u001b[0m         Tensor\u001b[38;5;241m.\u001b[39mbackward,\n\u001b[1;32m    515\u001b[0m         (\u001b[38;5;28mself\u001b[39m,),\n\u001b[0;32m   (...)\u001b[0m\n\u001b[1;32m    520\u001b[0m         inputs\u001b[38;5;241m=\u001b[39minputs,\n\u001b[1;32m    521\u001b[0m     )\n\u001b[0;32m--> 522\u001b[0m \u001b[43mtorch\u001b[49m\u001b[38;5;241;43m.\u001b[39;49m\u001b[43mautograd\u001b[49m\u001b[38;5;241;43m.\u001b[39;49m\u001b[43mbackward\u001b[49m\u001b[43m(\u001b[49m\n\u001b[1;32m    523\u001b[0m \u001b[43m    \u001b[49m\u001b[38;5;28;43mself\u001b[39;49m\u001b[43m,\u001b[49m\u001b[43m \u001b[49m\u001b[43mgradient\u001b[49m\u001b[43m,\u001b[49m\u001b[43m \u001b[49m\u001b[43mretain_graph\u001b[49m\u001b[43m,\u001b[49m\u001b[43m \u001b[49m\u001b[43mcreate_graph\u001b[49m\u001b[43m,\u001b[49m\u001b[43m \u001b[49m\u001b[43minputs\u001b[49m\u001b[38;5;241;43m=\u001b[39;49m\u001b[43minputs\u001b[49m\n\u001b[1;32m    524\u001b[0m \u001b[43m\u001b[49m\u001b[43m)\u001b[49m\n",
      "File \u001b[0;32m/Library/Frameworks/Python.framework/Versions/3.11/lib/python3.11/site-packages/torch/autograd/__init__.py:266\u001b[0m, in \u001b[0;36mbackward\u001b[0;34m(tensors, grad_tensors, retain_graph, create_graph, grad_variables, inputs)\u001b[0m\n\u001b[1;32m    261\u001b[0m     retain_graph \u001b[38;5;241m=\u001b[39m create_graph\n\u001b[1;32m    263\u001b[0m \u001b[38;5;66;03m# The reason we repeat the same comment below is that\u001b[39;00m\n\u001b[1;32m    264\u001b[0m \u001b[38;5;66;03m# some Python versions print out the first line of a multi-line function\u001b[39;00m\n\u001b[1;32m    265\u001b[0m \u001b[38;5;66;03m# calls in the traceback and some print out the last line\u001b[39;00m\n\u001b[0;32m--> 266\u001b[0m \u001b[43mVariable\u001b[49m\u001b[38;5;241;43m.\u001b[39;49m\u001b[43m_execution_engine\u001b[49m\u001b[38;5;241;43m.\u001b[39;49m\u001b[43mrun_backward\u001b[49m\u001b[43m(\u001b[49m\u001b[43m  \u001b[49m\u001b[38;5;66;43;03m# Calls into the C++ engine to run the backward pass\u001b[39;49;00m\n\u001b[1;32m    267\u001b[0m \u001b[43m    \u001b[49m\u001b[43mtensors\u001b[49m\u001b[43m,\u001b[49m\n\u001b[1;32m    268\u001b[0m \u001b[43m    \u001b[49m\u001b[43mgrad_tensors_\u001b[49m\u001b[43m,\u001b[49m\n\u001b[1;32m    269\u001b[0m \u001b[43m    \u001b[49m\u001b[43mretain_graph\u001b[49m\u001b[43m,\u001b[49m\n\u001b[1;32m    270\u001b[0m \u001b[43m    \u001b[49m\u001b[43mcreate_graph\u001b[49m\u001b[43m,\u001b[49m\n\u001b[1;32m    271\u001b[0m \u001b[43m    \u001b[49m\u001b[43minputs\u001b[49m\u001b[43m,\u001b[49m\n\u001b[1;32m    272\u001b[0m \u001b[43m    \u001b[49m\u001b[43mallow_unreachable\u001b[49m\u001b[38;5;241;43m=\u001b[39;49m\u001b[38;5;28;43;01mTrue\u001b[39;49;00m\u001b[43m,\u001b[49m\n\u001b[1;32m    273\u001b[0m \u001b[43m    \u001b[49m\u001b[43maccumulate_grad\u001b[49m\u001b[38;5;241;43m=\u001b[39;49m\u001b[38;5;28;43;01mTrue\u001b[39;49;00m\u001b[43m,\u001b[49m\n\u001b[1;32m    274\u001b[0m \u001b[43m\u001b[49m\u001b[43m)\u001b[49m\n",
      "\u001b[0;31mKeyboardInterrupt\u001b[0m: "
     ]
    }
   ],
   "source": [
    "train_losses = []\n",
    "val_losses = []\n",
    "\n",
    "num_epochs = 30\n",
    "best_val_loss = float('inf')\n",
    "best_epoch = 0\n",
    "\n",
    "for epoch in range(num_epochs):\n",
    "    model.train()\n",
    "    train_loss = 0.0\n",
    "    train_pbar = tqdm(train_loader, desc=f'Epoch {epoch+1}/{num_epochs} [Train]')\n",
    "    \n",
    "    for x, y in train_pbar:\n",
    "        x = x.to(device)\n",
    "        y = y.to(device)\n",
    "        \n",
    "        optimizer.zero_grad()\n",
    "        y_pred = model(x)\n",
    "        loss = criterion(y_pred, y)\n",
    "        \n",
    "        loss.backward()\n",
    "        optimizer.step()\n",
    "        \n",
    "        train_loss += loss.item() * x.size(0)\n",
    "        train_pbar.set_postfix({'loss': f'{loss.item():.4f}'})\n",
    "    \n",
    "    train_loss /= len(train_dataset)\n",
    "    train_losses.append(train_loss)\n",
    "    \n",
    "    model.eval()\n",
    "    val_loss = 0.0\n",
    "    val_pbar = tqdm(val_loader, desc=f'Epoch {epoch+1}/{num_epochs} [Valid]')\n",
    "    \n",
    "    with torch.no_grad():\n",
    "        for x, y in val_pbar:\n",
    "            x = x.to(device)\n",
    "            y = y.to(device)\n",
    "            \n",
    "            y_pred = model(x)\n",
    "            loss = criterion(y_pred, y)\n",
    "            val_loss += loss.item() * x.size(0)\n",
    "            val_pbar.set_postfix({'loss': f'{loss.item():.4f}'})\n",
    "        \n",
    "    val_loss /= len(val_dataset)\n",
    "    val_losses.append(val_loss) \n",
    "    \n",
    "    scheduler.step(val_loss)\n",
    "    \n",
    "    print(f'Epoch {epoch+1}/{num_epochs}, Train Loss: {train_loss:.4f}, Val Loss: {val_loss:.4f}')\n",
    "    \n",
    "    if val_loss < best_val_loss:\n",
    "        best_val_loss = val_loss\n",
    "        best_epoch = epoch\n",
    "        torch.save(model.state_dict(), 'best_model.pth')\n",
    "        print(f'Epoch {epoch+1}: model saving (val_loss: {val_loss:.4f})')"
   ]
  },
  {
   "cell_type": "code",
   "execution_count": null,
   "id": "af4937b4",
   "metadata": {},
   "outputs": [],
   "source": [
    "plt.figure(figsize=(10, 6))\n",
    "plt.plot(range(1, num_epochs+1), train_losses, 'b-', label='Training Loss')\n",
    "plt.plot(range(1, num_epochs+1), val_losses, 'r-', label='Validation Loss')\n",
    "plt.axvline(x=best_epoch+1, color='g', linestyle='--', label=f'Best Epoch ({best_epoch+1})')\n",
    "plt.grid(True)\n",
    "plt.xlabel('Epochs')\n",
    "plt.ylabel('Loss')\n",
    "plt.title('Training and Validation Loss Curves')\n",
    "plt.legend()\n",
    "plt.tight_layout()\n",
    "plt.show()"
   ]
  }
 ],
 "metadata": {
  "kernelspec": {
   "display_name": "Python 3 (ipykernel)",
   "language": "python",
   "name": "python3"
  },
  "language_info": {
   "codemirror_mode": {
    "name": "ipython",
    "version": 3
   },
   "file_extension": ".py",
   "mimetype": "text/x-python",
   "name": "python",
   "nbconvert_exporter": "python",
   "pygments_lexer": "ipython3",
   "version": "3.11.3"
  },
  "varInspector": {
   "cols": {
    "lenName": 16,
    "lenType": 16,
    "lenVar": 40
   },
   "kernels_config": {
    "python": {
     "delete_cmd_postfix": "",
     "delete_cmd_prefix": "del ",
     "library": "var_list.py",
     "varRefreshCmd": "print(var_dic_list())"
    },
    "r": {
     "delete_cmd_postfix": ") ",
     "delete_cmd_prefix": "rm(",
     "library": "var_list.r",
     "varRefreshCmd": "cat(var_dic_list()) "
    }
   },
   "types_to_exclude": [
    "module",
    "function",
    "builtin_function_or_method",
    "instance",
    "_Feature"
   ],
   "window_display": false
  }
 },
 "nbformat": 4,
 "nbformat_minor": 5
}
