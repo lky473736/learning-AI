{
 "cells": [
  {
   "cell_type": "code",
   "execution_count": 1,
   "id": "52a82a82",
   "metadata": {
    "ExecuteTime": {
     "end_time": "2025-04-01T09:39:10.353578Z",
     "start_time": "2025-04-01T09:39:07.041658Z"
    },
    "id": "52a82a82"
   },
   "outputs": [],
   "source": [
    "import os\n",
    "import math\n",
    "import numpy as np\n",
    "import pandas as pd\n",
    "import torch\n",
    "import torch.nn as nn\n",
    "import torch.nn.functional as F\n",
    "from torch.utils.data import Dataset, DataLoader\n",
    "from sklearn.model_selection import train_test_split\n",
    "from sklearn.preprocessing import StandardScaler\n",
    "from torch.optim.lr_scheduler import ReduceLROnPlateau\n",
    "from tqdm import tqdm"
   ]
  },
  {
   "cell_type": "code",
   "execution_count": 2,
   "id": "jnQreT5yQeJW",
   "metadata": {
    "colab": {
     "base_uri": "https://localhost:8080/"
    },
    "id": "jnQreT5yQeJW",
    "outputId": "a8854411-ec07-4cc9-efef-84df9961726d"
   },
   "outputs": [
    {
     "name": "stdout",
     "output_type": "stream",
     "text": [
      "Requirement already satisfied: mamba-ssm in /usr/local/lib/python3.11/dist-packages (2.2.4)\n",
      "Requirement already satisfied: torch in /usr/local/lib/python3.11/dist-packages (from mamba-ssm) (2.6.0+cu124)\n",
      "Requirement already satisfied: ninja in /usr/local/lib/python3.11/dist-packages (from mamba-ssm) (1.11.1.4)\n",
      "Requirement already satisfied: einops in /usr/local/lib/python3.11/dist-packages (from mamba-ssm) (0.8.1)\n",
      "Requirement already satisfied: transformers in /usr/local/lib/python3.11/dist-packages (from mamba-ssm) (4.50.2)\n",
      "Requirement already satisfied: packaging in /usr/local/lib/python3.11/dist-packages (from mamba-ssm) (24.2)\n",
      "Requirement already satisfied: setuptools>=61.0.0 in /usr/local/lib/python3.11/dist-packages (from mamba-ssm) (75.2.0)\n",
      "Requirement already satisfied: filelock in /usr/local/lib/python3.11/dist-packages (from torch->mamba-ssm) (3.18.0)\n",
      "Requirement already satisfied: typing-extensions>=4.10.0 in /usr/local/lib/python3.11/dist-packages (from torch->mamba-ssm) (4.13.0)\n",
      "Requirement already satisfied: networkx in /usr/local/lib/python3.11/dist-packages (from torch->mamba-ssm) (3.4.2)\n",
      "Requirement already satisfied: jinja2 in /usr/local/lib/python3.11/dist-packages (from torch->mamba-ssm) (3.1.6)\n",
      "Requirement already satisfied: fsspec in /usr/local/lib/python3.11/dist-packages (from torch->mamba-ssm) (2025.3.0)\n",
      "Requirement already satisfied: nvidia-cuda-nvrtc-cu12==12.4.127 in /usr/local/lib/python3.11/dist-packages (from torch->mamba-ssm) (12.4.127)\n",
      "Requirement already satisfied: nvidia-cuda-runtime-cu12==12.4.127 in /usr/local/lib/python3.11/dist-packages (from torch->mamba-ssm) (12.4.127)\n",
      "Requirement already satisfied: nvidia-cuda-cupti-cu12==12.4.127 in /usr/local/lib/python3.11/dist-packages (from torch->mamba-ssm) (12.4.127)\n",
      "Requirement already satisfied: nvidia-cudnn-cu12==9.1.0.70 in /usr/local/lib/python3.11/dist-packages (from torch->mamba-ssm) (9.1.0.70)\n",
      "Requirement already satisfied: nvidia-cublas-cu12==12.4.5.8 in /usr/local/lib/python3.11/dist-packages (from torch->mamba-ssm) (12.4.5.8)\n",
      "Requirement already satisfied: nvidia-cufft-cu12==11.2.1.3 in /usr/local/lib/python3.11/dist-packages (from torch->mamba-ssm) (11.2.1.3)\n",
      "Requirement already satisfied: nvidia-curand-cu12==10.3.5.147 in /usr/local/lib/python3.11/dist-packages (from torch->mamba-ssm) (10.3.5.147)\n",
      "Requirement already satisfied: nvidia-cusolver-cu12==11.6.1.9 in /usr/local/lib/python3.11/dist-packages (from torch->mamba-ssm) (11.6.1.9)\n",
      "Requirement already satisfied: nvidia-cusparse-cu12==12.3.1.170 in /usr/local/lib/python3.11/dist-packages (from torch->mamba-ssm) (12.3.1.170)\n",
      "Requirement already satisfied: nvidia-cusparselt-cu12==0.6.2 in /usr/local/lib/python3.11/dist-packages (from torch->mamba-ssm) (0.6.2)\n",
      "Requirement already satisfied: nvidia-nccl-cu12==2.21.5 in /usr/local/lib/python3.11/dist-packages (from torch->mamba-ssm) (2.21.5)\n",
      "Requirement already satisfied: nvidia-nvtx-cu12==12.4.127 in /usr/local/lib/python3.11/dist-packages (from torch->mamba-ssm) (12.4.127)\n",
      "Requirement already satisfied: nvidia-nvjitlink-cu12==12.4.127 in /usr/local/lib/python3.11/dist-packages (from torch->mamba-ssm) (12.4.127)\n",
      "Requirement already satisfied: triton==3.2.0 in /usr/local/lib/python3.11/dist-packages (from torch->mamba-ssm) (3.2.0)\n",
      "Requirement already satisfied: sympy==1.13.1 in /usr/local/lib/python3.11/dist-packages (from torch->mamba-ssm) (1.13.1)\n",
      "Requirement already satisfied: mpmath<1.4,>=1.1.0 in /usr/local/lib/python3.11/dist-packages (from sympy==1.13.1->torch->mamba-ssm) (1.3.0)\n",
      "Requirement already satisfied: huggingface-hub<1.0,>=0.26.0 in /usr/local/lib/python3.11/dist-packages (from transformers->mamba-ssm) (0.29.3)\n",
      "Requirement already satisfied: numpy>=1.17 in /usr/local/lib/python3.11/dist-packages (from transformers->mamba-ssm) (2.0.2)\n",
      "Requirement already satisfied: pyyaml>=5.1 in /usr/local/lib/python3.11/dist-packages (from transformers->mamba-ssm) (6.0.2)\n",
      "Requirement already satisfied: regex!=2019.12.17 in /usr/local/lib/python3.11/dist-packages (from transformers->mamba-ssm) (2024.11.6)\n",
      "Requirement already satisfied: requests in /usr/local/lib/python3.11/dist-packages (from transformers->mamba-ssm) (2.32.3)\n",
      "Requirement already satisfied: tokenizers<0.22,>=0.21 in /usr/local/lib/python3.11/dist-packages (from transformers->mamba-ssm) (0.21.1)\n",
      "Requirement already satisfied: safetensors>=0.4.3 in /usr/local/lib/python3.11/dist-packages (from transformers->mamba-ssm) (0.5.3)\n",
      "Requirement already satisfied: tqdm>=4.27 in /usr/local/lib/python3.11/dist-packages (from transformers->mamba-ssm) (4.67.1)\n",
      "Requirement already satisfied: MarkupSafe>=2.0 in /usr/local/lib/python3.11/dist-packages (from jinja2->torch->mamba-ssm) (3.0.2)\n",
      "Requirement already satisfied: charset-normalizer<4,>=2 in /usr/local/lib/python3.11/dist-packages (from requests->transformers->mamba-ssm) (3.4.1)\n",
      "Requirement already satisfied: idna<4,>=2.5 in /usr/local/lib/python3.11/dist-packages (from requests->transformers->mamba-ssm) (3.10)\n",
      "Requirement already satisfied: urllib3<3,>=1.21.1 in /usr/local/lib/python3.11/dist-packages (from requests->transformers->mamba-ssm) (2.3.0)\n",
      "Requirement already satisfied: certifi>=2017.4.17 in /usr/local/lib/python3.11/dist-packages (from requests->transformers->mamba-ssm) (2025.1.31)\n"
     ]
    }
   ],
   "source": [
    "!pip install mamba-ssm"
   ]
  },
  {
   "cell_type": "code",
   "execution_count": 3,
   "id": "d4a72c36",
   "metadata": {
    "ExecuteTime": {
     "end_time": "2025-04-01T09:39:28.393231Z",
     "start_time": "2025-04-01T09:39:10.355601Z"
    },
    "colab": {
     "base_uri": "https://localhost:8080/"
    },
    "id": "d4a72c36",
    "outputId": "ffb83c36-61a3-4cb9-938e-9c9c6da17e4f"
   },
   "outputs": [
    {
     "name": "stdout",
     "output_type": "stream",
     "text": [
      "<class 'pandas.core.frame.DataFrame'>\n",
      "RangeIndex: 657 entries, 0 to 656\n",
      "Columns: 2114 entries, Num. to 2100\n",
      "dtypes: float64(1), int64(2108), object(5)\n",
      "memory usage: 10.6+ MB\n"
     ]
    }
   ],
   "source": [
    "data_path = '/content/combined_dataset-1.xlsx'\n",
    "df = pd.read_excel(data_path)\n",
    "df.info()"
   ]
  },
  {
   "cell_type": "code",
   "execution_count": 4,
   "id": "cc8fbad1",
   "metadata": {
    "ExecuteTime": {
     "end_time": "2025-04-01T09:39:28.416037Z",
     "start_time": "2025-04-01T09:39:28.396541Z"
    },
    "colab": {
     "base_uri": "https://localhost:8080/",
     "height": 442
    },
    "id": "cc8fbad1",
    "outputId": "253d79a7-2465-4c78-a5eb-539e208c4bd2"
   },
   "outputs": [
    {
     "data": {
      "application/vnd.google.colaboratory.intrinsic+json": {
       "type": "dataframe",
       "variable_name": "df"
      },
      "text/html": [
       "\n",
       "  <div id=\"df-bd9b3d06-9d70-46f3-8178-e03482019933\" class=\"colab-df-container\">\n",
       "    <div>\n",
       "<style scoped>\n",
       "    .dataframe tbody tr th:only-of-type {\n",
       "        vertical-align: middle;\n",
       "    }\n",
       "\n",
       "    .dataframe tbody tr th {\n",
       "        vertical-align: top;\n",
       "    }\n",
       "\n",
       "    .dataframe thead th {\n",
       "        text-align: right;\n",
       "    }\n",
       "</style>\n",
       "<table border=\"1\" class=\"dataframe\">\n",
       "  <thead>\n",
       "    <tr style=\"text-align: right;\">\n",
       "      <th></th>\n",
       "      <th>Num.</th>\n",
       "      <th>subject_ID</th>\n",
       "      <th>Sex(M/F)</th>\n",
       "      <th>Age(year)</th>\n",
       "      <th>Height(cm)</th>\n",
       "      <th>Weight(kg)</th>\n",
       "      <th>Systolic Blood Pressure(mmHg)</th>\n",
       "      <th>Diastolic Blood Pressure(mmHg)</th>\n",
       "      <th>Heart Rate(b/m)</th>\n",
       "      <th>BMI(kg/m^2)</th>\n",
       "      <th>...</th>\n",
       "      <th>2091</th>\n",
       "      <th>2092</th>\n",
       "      <th>2093</th>\n",
       "      <th>2094</th>\n",
       "      <th>2095</th>\n",
       "      <th>2096</th>\n",
       "      <th>2097</th>\n",
       "      <th>2098</th>\n",
       "      <th>2099</th>\n",
       "      <th>2100</th>\n",
       "    </tr>\n",
       "  </thead>\n",
       "  <tbody>\n",
       "    <tr>\n",
       "      <th>0</th>\n",
       "      <td>1</td>\n",
       "      <td>2</td>\n",
       "      <td>Female</td>\n",
       "      <td>45</td>\n",
       "      <td>152</td>\n",
       "      <td>63</td>\n",
       "      <td>161</td>\n",
       "      <td>89</td>\n",
       "      <td>97</td>\n",
       "      <td>27.268006</td>\n",
       "      <td>...</td>\n",
       "      <td>1766</td>\n",
       "      <td>1766</td>\n",
       "      <td>1766</td>\n",
       "      <td>1833</td>\n",
       "      <td>1833</td>\n",
       "      <td>1827</td>\n",
       "      <td>1827</td>\n",
       "      <td>1827</td>\n",
       "      <td>1754</td>\n",
       "      <td>1754</td>\n",
       "    </tr>\n",
       "    <tr>\n",
       "      <th>1</th>\n",
       "      <td>1</td>\n",
       "      <td>2</td>\n",
       "      <td>Female</td>\n",
       "      <td>45</td>\n",
       "      <td>152</td>\n",
       "      <td>63</td>\n",
       "      <td>161</td>\n",
       "      <td>89</td>\n",
       "      <td>97</td>\n",
       "      <td>27.268006</td>\n",
       "      <td>...</td>\n",
       "      <td>1985</td>\n",
       "      <td>1985</td>\n",
       "      <td>2026</td>\n",
       "      <td>2026</td>\n",
       "      <td>2026</td>\n",
       "      <td>1977</td>\n",
       "      <td>1977</td>\n",
       "      <td>1997</td>\n",
       "      <td>1997</td>\n",
       "      <td>1997</td>\n",
       "    </tr>\n",
       "    <tr>\n",
       "      <th>2</th>\n",
       "      <td>1</td>\n",
       "      <td>2</td>\n",
       "      <td>Female</td>\n",
       "      <td>45</td>\n",
       "      <td>152</td>\n",
       "      <td>63</td>\n",
       "      <td>161</td>\n",
       "      <td>89</td>\n",
       "      <td>97</td>\n",
       "      <td>27.268006</td>\n",
       "      <td>...</td>\n",
       "      <td>1942</td>\n",
       "      <td>1900</td>\n",
       "      <td>1900</td>\n",
       "      <td>1938</td>\n",
       "      <td>1938</td>\n",
       "      <td>1938</td>\n",
       "      <td>1924</td>\n",
       "      <td>1924</td>\n",
       "      <td>1929</td>\n",
       "      <td>1929</td>\n",
       "    </tr>\n",
       "    <tr>\n",
       "      <th>3</th>\n",
       "      <td>2</td>\n",
       "      <td>3</td>\n",
       "      <td>Female</td>\n",
       "      <td>50</td>\n",
       "      <td>157</td>\n",
       "      <td>50</td>\n",
       "      <td>160</td>\n",
       "      <td>93</td>\n",
       "      <td>76</td>\n",
       "      <td>20.284799</td>\n",
       "      <td>...</td>\n",
       "      <td>2073</td>\n",
       "      <td>2072</td>\n",
       "      <td>2072</td>\n",
       "      <td>2072</td>\n",
       "      <td>2051</td>\n",
       "      <td>2051</td>\n",
       "      <td>2036</td>\n",
       "      <td>2036</td>\n",
       "      <td>2036</td>\n",
       "      <td>2045</td>\n",
       "    </tr>\n",
       "    <tr>\n",
       "      <th>4</th>\n",
       "      <td>2</td>\n",
       "      <td>3</td>\n",
       "      <td>Female</td>\n",
       "      <td>50</td>\n",
       "      <td>157</td>\n",
       "      <td>50</td>\n",
       "      <td>160</td>\n",
       "      <td>93</td>\n",
       "      <td>76</td>\n",
       "      <td>20.284799</td>\n",
       "      <td>...</td>\n",
       "      <td>2021</td>\n",
       "      <td>2010</td>\n",
       "      <td>2010</td>\n",
       "      <td>2010</td>\n",
       "      <td>2001</td>\n",
       "      <td>2001</td>\n",
       "      <td>2003</td>\n",
       "      <td>2003</td>\n",
       "      <td>2003</td>\n",
       "      <td>1989</td>\n",
       "    </tr>\n",
       "    <tr>\n",
       "      <th>5</th>\n",
       "      <td>2</td>\n",
       "      <td>3</td>\n",
       "      <td>Female</td>\n",
       "      <td>50</td>\n",
       "      <td>157</td>\n",
       "      <td>50</td>\n",
       "      <td>160</td>\n",
       "      <td>93</td>\n",
       "      <td>76</td>\n",
       "      <td>20.284799</td>\n",
       "      <td>...</td>\n",
       "      <td>2020</td>\n",
       "      <td>2020</td>\n",
       "      <td>2032</td>\n",
       "      <td>2032</td>\n",
       "      <td>2032</td>\n",
       "      <td>2011</td>\n",
       "      <td>2011</td>\n",
       "      <td>2005</td>\n",
       "      <td>2005</td>\n",
       "      <td>2005</td>\n",
       "    </tr>\n",
       "    <tr>\n",
       "      <th>6</th>\n",
       "      <td>3</td>\n",
       "      <td>6</td>\n",
       "      <td>Female</td>\n",
       "      <td>47</td>\n",
       "      <td>150</td>\n",
       "      <td>47</td>\n",
       "      <td>101</td>\n",
       "      <td>71</td>\n",
       "      <td>79</td>\n",
       "      <td>20.888889</td>\n",
       "      <td>...</td>\n",
       "      <td>2047</td>\n",
       "      <td>2047</td>\n",
       "      <td>2017</td>\n",
       "      <td>2017</td>\n",
       "      <td>2017</td>\n",
       "      <td>2053</td>\n",
       "      <td>2053</td>\n",
       "      <td>2038</td>\n",
       "      <td>2038</td>\n",
       "      <td>2038</td>\n",
       "    </tr>\n",
       "    <tr>\n",
       "      <th>7</th>\n",
       "      <td>3</td>\n",
       "      <td>6</td>\n",
       "      <td>Female</td>\n",
       "      <td>47</td>\n",
       "      <td>150</td>\n",
       "      <td>47</td>\n",
       "      <td>101</td>\n",
       "      <td>71</td>\n",
       "      <td>79</td>\n",
       "      <td>20.888889</td>\n",
       "      <td>...</td>\n",
       "      <td>2076</td>\n",
       "      <td>2076</td>\n",
       "      <td>2051</td>\n",
       "      <td>2051</td>\n",
       "      <td>2051</td>\n",
       "      <td>2060</td>\n",
       "      <td>2060</td>\n",
       "      <td>2067</td>\n",
       "      <td>2067</td>\n",
       "      <td>2067</td>\n",
       "    </tr>\n",
       "    <tr>\n",
       "      <th>8</th>\n",
       "      <td>3</td>\n",
       "      <td>6</td>\n",
       "      <td>Female</td>\n",
       "      <td>47</td>\n",
       "      <td>150</td>\n",
       "      <td>47</td>\n",
       "      <td>101</td>\n",
       "      <td>71</td>\n",
       "      <td>79</td>\n",
       "      <td>20.888889</td>\n",
       "      <td>...</td>\n",
       "      <td>2163</td>\n",
       "      <td>2159</td>\n",
       "      <td>2159</td>\n",
       "      <td>2159</td>\n",
       "      <td>2175</td>\n",
       "      <td>2175</td>\n",
       "      <td>2168</td>\n",
       "      <td>2168</td>\n",
       "      <td>2168</td>\n",
       "      <td>2175</td>\n",
       "    </tr>\n",
       "    <tr>\n",
       "      <th>9</th>\n",
       "      <td>4</td>\n",
       "      <td>8</td>\n",
       "      <td>Male</td>\n",
       "      <td>45</td>\n",
       "      <td>172</td>\n",
       "      <td>65</td>\n",
       "      <td>136</td>\n",
       "      <td>93</td>\n",
       "      <td>87</td>\n",
       "      <td>21.971336</td>\n",
       "      <td>...</td>\n",
       "      <td>1985</td>\n",
       "      <td>1985</td>\n",
       "      <td>1985</td>\n",
       "      <td>1984</td>\n",
       "      <td>1984</td>\n",
       "      <td>1995</td>\n",
       "      <td>1995</td>\n",
       "      <td>1995</td>\n",
       "      <td>1972</td>\n",
       "      <td>1972</td>\n",
       "    </tr>\n",
       "  </tbody>\n",
       "</table>\n",
       "<p>10 rows × 2114 columns</p>\n",
       "</div>\n",
       "    <div class=\"colab-df-buttons\">\n",
       "\n",
       "  <div class=\"colab-df-container\">\n",
       "    <button class=\"colab-df-convert\" onclick=\"convertToInteractive('df-bd9b3d06-9d70-46f3-8178-e03482019933')\"\n",
       "            title=\"Convert this dataframe to an interactive table.\"\n",
       "            style=\"display:none;\">\n",
       "\n",
       "  <svg xmlns=\"http://www.w3.org/2000/svg\" height=\"24px\" viewBox=\"0 -960 960 960\">\n",
       "    <path d=\"M120-120v-720h720v720H120Zm60-500h600v-160H180v160Zm220 220h160v-160H400v160Zm0 220h160v-160H400v160ZM180-400h160v-160H180v160Zm440 0h160v-160H620v160ZM180-180h160v-160H180v160Zm440 0h160v-160H620v160Z\"/>\n",
       "  </svg>\n",
       "    </button>\n",
       "\n",
       "  <style>\n",
       "    .colab-df-container {\n",
       "      display:flex;\n",
       "      gap: 12px;\n",
       "    }\n",
       "\n",
       "    .colab-df-convert {\n",
       "      background-color: #E8F0FE;\n",
       "      border: none;\n",
       "      border-radius: 50%;\n",
       "      cursor: pointer;\n",
       "      display: none;\n",
       "      fill: #1967D2;\n",
       "      height: 32px;\n",
       "      padding: 0 0 0 0;\n",
       "      width: 32px;\n",
       "    }\n",
       "\n",
       "    .colab-df-convert:hover {\n",
       "      background-color: #E2EBFA;\n",
       "      box-shadow: 0px 1px 2px rgba(60, 64, 67, 0.3), 0px 1px 3px 1px rgba(60, 64, 67, 0.15);\n",
       "      fill: #174EA6;\n",
       "    }\n",
       "\n",
       "    .colab-df-buttons div {\n",
       "      margin-bottom: 4px;\n",
       "    }\n",
       "\n",
       "    [theme=dark] .colab-df-convert {\n",
       "      background-color: #3B4455;\n",
       "      fill: #D2E3FC;\n",
       "    }\n",
       "\n",
       "    [theme=dark] .colab-df-convert:hover {\n",
       "      background-color: #434B5C;\n",
       "      box-shadow: 0px 1px 3px 1px rgba(0, 0, 0, 0.15);\n",
       "      filter: drop-shadow(0px 1px 2px rgba(0, 0, 0, 0.3));\n",
       "      fill: #FFFFFF;\n",
       "    }\n",
       "  </style>\n",
       "\n",
       "    <script>\n",
       "      const buttonEl =\n",
       "        document.querySelector('#df-bd9b3d06-9d70-46f3-8178-e03482019933 button.colab-df-convert');\n",
       "      buttonEl.style.display =\n",
       "        google.colab.kernel.accessAllowed ? 'block' : 'none';\n",
       "\n",
       "      async function convertToInteractive(key) {\n",
       "        const element = document.querySelector('#df-bd9b3d06-9d70-46f3-8178-e03482019933');\n",
       "        const dataTable =\n",
       "          await google.colab.kernel.invokeFunction('convertToInteractive',\n",
       "                                                    [key], {});\n",
       "        if (!dataTable) return;\n",
       "\n",
       "        const docLinkHtml = 'Like what you see? Visit the ' +\n",
       "          '<a target=\"_blank\" href=https://colab.research.google.com/notebooks/data_table.ipynb>data table notebook</a>'\n",
       "          + ' to learn more about interactive tables.';\n",
       "        element.innerHTML = '';\n",
       "        dataTable['output_type'] = 'display_data';\n",
       "        await google.colab.output.renderOutput(dataTable, element);\n",
       "        const docLink = document.createElement('div');\n",
       "        docLink.innerHTML = docLinkHtml;\n",
       "        element.appendChild(docLink);\n",
       "      }\n",
       "    </script>\n",
       "  </div>\n",
       "\n",
       "\n",
       "<div id=\"df-5f7fffc2-21b0-492a-9429-0d11b5be265b\">\n",
       "  <button class=\"colab-df-quickchart\" onclick=\"quickchart('df-5f7fffc2-21b0-492a-9429-0d11b5be265b')\"\n",
       "            title=\"Suggest charts\"\n",
       "            style=\"display:none;\">\n",
       "\n",
       "<svg xmlns=\"http://www.w3.org/2000/svg\" height=\"24px\"viewBox=\"0 0 24 24\"\n",
       "     width=\"24px\">\n",
       "    <g>\n",
       "        <path d=\"M19 3H5c-1.1 0-2 .9-2 2v14c0 1.1.9 2 2 2h14c1.1 0 2-.9 2-2V5c0-1.1-.9-2-2-2zM9 17H7v-7h2v7zm4 0h-2V7h2v10zm4 0h-2v-4h2v4z\"/>\n",
       "    </g>\n",
       "</svg>\n",
       "  </button>\n",
       "\n",
       "<style>\n",
       "  .colab-df-quickchart {\n",
       "      --bg-color: #E8F0FE;\n",
       "      --fill-color: #1967D2;\n",
       "      --hover-bg-color: #E2EBFA;\n",
       "      --hover-fill-color: #174EA6;\n",
       "      --disabled-fill-color: #AAA;\n",
       "      --disabled-bg-color: #DDD;\n",
       "  }\n",
       "\n",
       "  [theme=dark] .colab-df-quickchart {\n",
       "      --bg-color: #3B4455;\n",
       "      --fill-color: #D2E3FC;\n",
       "      --hover-bg-color: #434B5C;\n",
       "      --hover-fill-color: #FFFFFF;\n",
       "      --disabled-bg-color: #3B4455;\n",
       "      --disabled-fill-color: #666;\n",
       "  }\n",
       "\n",
       "  .colab-df-quickchart {\n",
       "    background-color: var(--bg-color);\n",
       "    border: none;\n",
       "    border-radius: 50%;\n",
       "    cursor: pointer;\n",
       "    display: none;\n",
       "    fill: var(--fill-color);\n",
       "    height: 32px;\n",
       "    padding: 0;\n",
       "    width: 32px;\n",
       "  }\n",
       "\n",
       "  .colab-df-quickchart:hover {\n",
       "    background-color: var(--hover-bg-color);\n",
       "    box-shadow: 0 1px 2px rgba(60, 64, 67, 0.3), 0 1px 3px 1px rgba(60, 64, 67, 0.15);\n",
       "    fill: var(--button-hover-fill-color);\n",
       "  }\n",
       "\n",
       "  .colab-df-quickchart-complete:disabled,\n",
       "  .colab-df-quickchart-complete:disabled:hover {\n",
       "    background-color: var(--disabled-bg-color);\n",
       "    fill: var(--disabled-fill-color);\n",
       "    box-shadow: none;\n",
       "  }\n",
       "\n",
       "  .colab-df-spinner {\n",
       "    border: 2px solid var(--fill-color);\n",
       "    border-color: transparent;\n",
       "    border-bottom-color: var(--fill-color);\n",
       "    animation:\n",
       "      spin 1s steps(1) infinite;\n",
       "  }\n",
       "\n",
       "  @keyframes spin {\n",
       "    0% {\n",
       "      border-color: transparent;\n",
       "      border-bottom-color: var(--fill-color);\n",
       "      border-left-color: var(--fill-color);\n",
       "    }\n",
       "    20% {\n",
       "      border-color: transparent;\n",
       "      border-left-color: var(--fill-color);\n",
       "      border-top-color: var(--fill-color);\n",
       "    }\n",
       "    30% {\n",
       "      border-color: transparent;\n",
       "      border-left-color: var(--fill-color);\n",
       "      border-top-color: var(--fill-color);\n",
       "      border-right-color: var(--fill-color);\n",
       "    }\n",
       "    40% {\n",
       "      border-color: transparent;\n",
       "      border-right-color: var(--fill-color);\n",
       "      border-top-color: var(--fill-color);\n",
       "    }\n",
       "    60% {\n",
       "      border-color: transparent;\n",
       "      border-right-color: var(--fill-color);\n",
       "    }\n",
       "    80% {\n",
       "      border-color: transparent;\n",
       "      border-right-color: var(--fill-color);\n",
       "      border-bottom-color: var(--fill-color);\n",
       "    }\n",
       "    90% {\n",
       "      border-color: transparent;\n",
       "      border-bottom-color: var(--fill-color);\n",
       "    }\n",
       "  }\n",
       "</style>\n",
       "\n",
       "  <script>\n",
       "    async function quickchart(key) {\n",
       "      const quickchartButtonEl =\n",
       "        document.querySelector('#' + key + ' button');\n",
       "      quickchartButtonEl.disabled = true;  // To prevent multiple clicks.\n",
       "      quickchartButtonEl.classList.add('colab-df-spinner');\n",
       "      try {\n",
       "        const charts = await google.colab.kernel.invokeFunction(\n",
       "            'suggestCharts', [key], {});\n",
       "      } catch (error) {\n",
       "        console.error('Error during call to suggestCharts:', error);\n",
       "      }\n",
       "      quickchartButtonEl.classList.remove('colab-df-spinner');\n",
       "      quickchartButtonEl.classList.add('colab-df-quickchart-complete');\n",
       "    }\n",
       "    (() => {\n",
       "      let quickchartButtonEl =\n",
       "        document.querySelector('#df-5f7fffc2-21b0-492a-9429-0d11b5be265b button');\n",
       "      quickchartButtonEl.style.display =\n",
       "        google.colab.kernel.accessAllowed ? 'block' : 'none';\n",
       "    })();\n",
       "  </script>\n",
       "</div>\n",
       "\n",
       "    </div>\n",
       "  </div>\n"
      ],
      "text/plain": [
       "   Num.  subject_ID Sex(M/F)  Age(year)  Height(cm)  Weight(kg)  \\\n",
       "0     1           2   Female         45         152          63   \n",
       "1     1           2   Female         45         152          63   \n",
       "2     1           2   Female         45         152          63   \n",
       "3     2           3   Female         50         157          50   \n",
       "4     2           3   Female         50         157          50   \n",
       "5     2           3   Female         50         157          50   \n",
       "6     3           6   Female         47         150          47   \n",
       "7     3           6   Female         47         150          47   \n",
       "8     3           6   Female         47         150          47   \n",
       "9     4           8     Male         45         172          65   \n",
       "\n",
       "   Systolic Blood Pressure(mmHg)  Diastolic Blood Pressure(mmHg)  \\\n",
       "0                            161                              89   \n",
       "1                            161                              89   \n",
       "2                            161                              89   \n",
       "3                            160                              93   \n",
       "4                            160                              93   \n",
       "5                            160                              93   \n",
       "6                            101                              71   \n",
       "7                            101                              71   \n",
       "8                            101                              71   \n",
       "9                            136                              93   \n",
       "\n",
       "   Heart Rate(b/m)  BMI(kg/m^2)  ...  2091  2092  2093  2094  2095  2096  \\\n",
       "0               97    27.268006  ...  1766  1766  1766  1833  1833  1827   \n",
       "1               97    27.268006  ...  1985  1985  2026  2026  2026  1977   \n",
       "2               97    27.268006  ...  1942  1900  1900  1938  1938  1938   \n",
       "3               76    20.284799  ...  2073  2072  2072  2072  2051  2051   \n",
       "4               76    20.284799  ...  2021  2010  2010  2010  2001  2001   \n",
       "5               76    20.284799  ...  2020  2020  2032  2032  2032  2011   \n",
       "6               79    20.888889  ...  2047  2047  2017  2017  2017  2053   \n",
       "7               79    20.888889  ...  2076  2076  2051  2051  2051  2060   \n",
       "8               79    20.888889  ...  2163  2159  2159  2159  2175  2175   \n",
       "9               87    21.971336  ...  1985  1985  1985  1984  1984  1995   \n",
       "\n",
       "   2097  2098  2099  2100  \n",
       "0  1827  1827  1754  1754  \n",
       "1  1977  1997  1997  1997  \n",
       "2  1924  1924  1929  1929  \n",
       "3  2036  2036  2036  2045  \n",
       "4  2003  2003  2003  1989  \n",
       "5  2011  2005  2005  2005  \n",
       "6  2053  2038  2038  2038  \n",
       "7  2060  2067  2067  2067  \n",
       "8  2168  2168  2168  2175  \n",
       "9  1995  1995  1972  1972  \n",
       "\n",
       "[10 rows x 2114 columns]"
      ]
     },
     "execution_count": 4,
     "metadata": {},
     "output_type": "execute_result"
    }
   ],
   "source": [
    "df.head(10)"
   ]
  },
  {
   "cell_type": "code",
   "execution_count": 5,
   "id": "e97c6de7",
   "metadata": {
    "ExecuteTime": {
     "end_time": "2025-04-01T09:39:30.647717Z",
     "start_time": "2025-04-01T09:39:28.420384Z"
    },
    "colab": {
     "base_uri": "https://localhost:8080/",
     "height": 419
    },
    "id": "e97c6de7",
    "outputId": "0ffa641e-f1f5-4483-da80-2e1e796d22aa"
   },
   "outputs": [
    {
     "data": {
      "application/vnd.google.colaboratory.intrinsic+json": {
       "summary": "{\n  \"name\": \"df\",\n  \"rows\": 2109,\n  \"fields\": [\n    {\n      \"column\": \"count\",\n      \"properties\": {\n        \"dtype\": \"number\",\n        \"std\": 0.0,\n        \"min\": 657.0,\n        \"max\": 657.0,\n        \"num_unique_values\": 1,\n        \"samples\": [\n          657.0\n        ],\n        \"semantic_type\": \"\",\n        \"description\": \"\"\n      }\n    },\n    {\n      \"column\": \"mean\",\n      \"properties\": {\n        \"dtype\": \"number\",\n        \"std\": 133.8151655956928,\n        \"min\": 23.107407063956924,\n        \"max\": 2138.261796042618,\n        \"num_unique_values\": 2078,\n        \"samples\": [\n          2134.710806697108\n        ],\n        \"semantic_type\": \"\",\n        \"description\": \"\"\n      }\n    },\n    {\n      \"column\": \"std\",\n      \"properties\": {\n        \"dtype\": \"number\",\n        \"std\": 23.56220554063035,\n        \"min\": 3.9983497410472824,\n        \"max\": 327.8955226968159,\n        \"num_unique_values\": 2109,\n        \"samples\": [\n          307.36035117352446\n        ],\n        \"semantic_type\": \"\",\n        \"description\": \"\"\n      }\n    },\n    {\n      \"column\": \"min\",\n      \"properties\": {\n        \"dtype\": \"number\",\n        \"std\": 145.84282864159525,\n        \"min\": 1.0,\n        \"max\": 1605.0,\n        \"num_unique_values\": 343,\n        \"samples\": [\n          1201.0\n        ],\n        \"semantic_type\": \"\",\n        \"description\": \"\"\n      }\n    },\n    {\n      \"column\": \"25%\",\n      \"properties\": {\n        \"dtype\": \"number\",\n        \"std\": 122.72337756462386,\n        \"min\": 20.54988662131519,\n        \"max\": 1973.0,\n        \"num_unique_values\": 126,\n        \"samples\": [\n          1927.0\n        ],\n        \"semantic_type\": \"\",\n        \"description\": \"\"\n      }\n    },\n    {\n      \"column\": \"50%\",\n      \"properties\": {\n        \"dtype\": \"number\",\n        \"std\": 130.4861165981477,\n        \"min\": 22.60026298487837,\n        \"max\": 2090.0,\n        \"num_unique_values\": 156,\n        \"samples\": [\n          2046.0\n        ],\n        \"semantic_type\": \"\",\n        \"description\": \"\"\n      }\n    },\n    {\n      \"column\": \"75%\",\n      \"properties\": {\n        \"dtype\": \"number\",\n        \"std\": 142.80052925389245,\n        \"min\": 25.0,\n        \"max\": 2246.0,\n        \"num_unique_values\": 202,\n        \"samples\": [\n          2156.0\n        ],\n        \"semantic_type\": \"\",\n        \"description\": \"\"\n      }\n    },\n    {\n      \"column\": \"max\",\n      \"properties\": {\n        \"dtype\": \"number\",\n        \"std\": 285.8418183833988,\n        \"min\": 37.46097814776275,\n        \"max\": 4095.0,\n        \"num_unique_values\": 175,\n        \"samples\": [\n          3834.0\n        ],\n        \"semantic_type\": \"\",\n        \"description\": \"\"\n      }\n    }\n  ]\n}",
       "type": "dataframe"
      },
      "text/html": [
       "\n",
       "  <div id=\"df-6088d7b4-fd51-4baf-b27d-ce4fc0d6c41a\" class=\"colab-df-container\">\n",
       "    <div>\n",
       "<style scoped>\n",
       "    .dataframe tbody tr th:only-of-type {\n",
       "        vertical-align: middle;\n",
       "    }\n",
       "\n",
       "    .dataframe tbody tr th {\n",
       "        vertical-align: top;\n",
       "    }\n",
       "\n",
       "    .dataframe thead th {\n",
       "        text-align: right;\n",
       "    }\n",
       "</style>\n",
       "<table border=\"1\" class=\"dataframe\">\n",
       "  <thead>\n",
       "    <tr style=\"text-align: right;\">\n",
       "      <th></th>\n",
       "      <th>count</th>\n",
       "      <th>mean</th>\n",
       "      <th>std</th>\n",
       "      <th>min</th>\n",
       "      <th>25%</th>\n",
       "      <th>50%</th>\n",
       "      <th>75%</th>\n",
       "      <th>max</th>\n",
       "    </tr>\n",
       "  </thead>\n",
       "  <tbody>\n",
       "    <tr>\n",
       "      <th>Num.</th>\n",
       "      <td>657.0</td>\n",
       "      <td>110.000000</td>\n",
       "      <td>63.267362</td>\n",
       "      <td>1.0</td>\n",
       "      <td>55.0</td>\n",
       "      <td>110.0</td>\n",
       "      <td>165.0</td>\n",
       "      <td>219.0</td>\n",
       "    </tr>\n",
       "    <tr>\n",
       "      <th>subject_ID</th>\n",
       "      <td>657.0</td>\n",
       "      <td>156.598174</td>\n",
       "      <td>101.449344</td>\n",
       "      <td>2.0</td>\n",
       "      <td>85.0</td>\n",
       "      <td>152.0</td>\n",
       "      <td>215.0</td>\n",
       "      <td>419.0</td>\n",
       "    </tr>\n",
       "    <tr>\n",
       "      <th>Age(year)</th>\n",
       "      <td>657.0</td>\n",
       "      <td>57.168950</td>\n",
       "      <td>15.850110</td>\n",
       "      <td>21.0</td>\n",
       "      <td>48.0</td>\n",
       "      <td>58.0</td>\n",
       "      <td>68.0</td>\n",
       "      <td>86.0</td>\n",
       "    </tr>\n",
       "    <tr>\n",
       "      <th>Height(cm)</th>\n",
       "      <td>657.0</td>\n",
       "      <td>161.228311</td>\n",
       "      <td>8.190357</td>\n",
       "      <td>145.0</td>\n",
       "      <td>155.0</td>\n",
       "      <td>160.0</td>\n",
       "      <td>167.0</td>\n",
       "      <td>196.0</td>\n",
       "    </tr>\n",
       "    <tr>\n",
       "      <th>Weight(kg)</th>\n",
       "      <td>657.0</td>\n",
       "      <td>60.191781</td>\n",
       "      <td>11.868168</td>\n",
       "      <td>36.0</td>\n",
       "      <td>52.0</td>\n",
       "      <td>60.0</td>\n",
       "      <td>67.0</td>\n",
       "      <td>103.0</td>\n",
       "    </tr>\n",
       "    <tr>\n",
       "      <th>...</th>\n",
       "      <td>...</td>\n",
       "      <td>...</td>\n",
       "      <td>...</td>\n",
       "      <td>...</td>\n",
       "      <td>...</td>\n",
       "      <td>...</td>\n",
       "      <td>...</td>\n",
       "      <td>...</td>\n",
       "    </tr>\n",
       "    <tr>\n",
       "      <th>2096</th>\n",
       "      <td>657.0</td>\n",
       "      <td>2085.436834</td>\n",
       "      <td>305.845135</td>\n",
       "      <td>1519.0</td>\n",
       "      <td>1904.0</td>\n",
       "      <td>2014.0</td>\n",
       "      <td>2180.0</td>\n",
       "      <td>3811.0</td>\n",
       "    </tr>\n",
       "    <tr>\n",
       "      <th>2097</th>\n",
       "      <td>657.0</td>\n",
       "      <td>2083.791476</td>\n",
       "      <td>304.297297</td>\n",
       "      <td>1515.0</td>\n",
       "      <td>1904.0</td>\n",
       "      <td>2012.0</td>\n",
       "      <td>2176.0</td>\n",
       "      <td>3787.0</td>\n",
       "    </tr>\n",
       "    <tr>\n",
       "      <th>2098</th>\n",
       "      <td>657.0</td>\n",
       "      <td>2084.803653</td>\n",
       "      <td>306.657540</td>\n",
       "      <td>1515.0</td>\n",
       "      <td>1904.0</td>\n",
       "      <td>2011.0</td>\n",
       "      <td>2175.0</td>\n",
       "      <td>3774.0</td>\n",
       "    </tr>\n",
       "    <tr>\n",
       "      <th>2099</th>\n",
       "      <td>657.0</td>\n",
       "      <td>2085.196347</td>\n",
       "      <td>306.275406</td>\n",
       "      <td>1515.0</td>\n",
       "      <td>1906.0</td>\n",
       "      <td>2012.0</td>\n",
       "      <td>2177.0</td>\n",
       "      <td>3775.0</td>\n",
       "    </tr>\n",
       "    <tr>\n",
       "      <th>2100</th>\n",
       "      <td>657.0</td>\n",
       "      <td>2085.219178</td>\n",
       "      <td>305.731730</td>\n",
       "      <td>1528.0</td>\n",
       "      <td>1906.0</td>\n",
       "      <td>2017.0</td>\n",
       "      <td>2183.0</td>\n",
       "      <td>3759.0</td>\n",
       "    </tr>\n",
       "  </tbody>\n",
       "</table>\n",
       "<p>2109 rows × 8 columns</p>\n",
       "</div>\n",
       "    <div class=\"colab-df-buttons\">\n",
       "\n",
       "  <div class=\"colab-df-container\">\n",
       "    <button class=\"colab-df-convert\" onclick=\"convertToInteractive('df-6088d7b4-fd51-4baf-b27d-ce4fc0d6c41a')\"\n",
       "            title=\"Convert this dataframe to an interactive table.\"\n",
       "            style=\"display:none;\">\n",
       "\n",
       "  <svg xmlns=\"http://www.w3.org/2000/svg\" height=\"24px\" viewBox=\"0 -960 960 960\">\n",
       "    <path d=\"M120-120v-720h720v720H120Zm60-500h600v-160H180v160Zm220 220h160v-160H400v160Zm0 220h160v-160H400v160ZM180-400h160v-160H180v160Zm440 0h160v-160H620v160ZM180-180h160v-160H180v160Zm440 0h160v-160H620v160Z\"/>\n",
       "  </svg>\n",
       "    </button>\n",
       "\n",
       "  <style>\n",
       "    .colab-df-container {\n",
       "      display:flex;\n",
       "      gap: 12px;\n",
       "    }\n",
       "\n",
       "    .colab-df-convert {\n",
       "      background-color: #E8F0FE;\n",
       "      border: none;\n",
       "      border-radius: 50%;\n",
       "      cursor: pointer;\n",
       "      display: none;\n",
       "      fill: #1967D2;\n",
       "      height: 32px;\n",
       "      padding: 0 0 0 0;\n",
       "      width: 32px;\n",
       "    }\n",
       "\n",
       "    .colab-df-convert:hover {\n",
       "      background-color: #E2EBFA;\n",
       "      box-shadow: 0px 1px 2px rgba(60, 64, 67, 0.3), 0px 1px 3px 1px rgba(60, 64, 67, 0.15);\n",
       "      fill: #174EA6;\n",
       "    }\n",
       "\n",
       "    .colab-df-buttons div {\n",
       "      margin-bottom: 4px;\n",
       "    }\n",
       "\n",
       "    [theme=dark] .colab-df-convert {\n",
       "      background-color: #3B4455;\n",
       "      fill: #D2E3FC;\n",
       "    }\n",
       "\n",
       "    [theme=dark] .colab-df-convert:hover {\n",
       "      background-color: #434B5C;\n",
       "      box-shadow: 0px 1px 3px 1px rgba(0, 0, 0, 0.15);\n",
       "      filter: drop-shadow(0px 1px 2px rgba(0, 0, 0, 0.3));\n",
       "      fill: #FFFFFF;\n",
       "    }\n",
       "  </style>\n",
       "\n",
       "    <script>\n",
       "      const buttonEl =\n",
       "        document.querySelector('#df-6088d7b4-fd51-4baf-b27d-ce4fc0d6c41a button.colab-df-convert');\n",
       "      buttonEl.style.display =\n",
       "        google.colab.kernel.accessAllowed ? 'block' : 'none';\n",
       "\n",
       "      async function convertToInteractive(key) {\n",
       "        const element = document.querySelector('#df-6088d7b4-fd51-4baf-b27d-ce4fc0d6c41a');\n",
       "        const dataTable =\n",
       "          await google.colab.kernel.invokeFunction('convertToInteractive',\n",
       "                                                    [key], {});\n",
       "        if (!dataTable) return;\n",
       "\n",
       "        const docLinkHtml = 'Like what you see? Visit the ' +\n",
       "          '<a target=\"_blank\" href=https://colab.research.google.com/notebooks/data_table.ipynb>data table notebook</a>'\n",
       "          + ' to learn more about interactive tables.';\n",
       "        element.innerHTML = '';\n",
       "        dataTable['output_type'] = 'display_data';\n",
       "        await google.colab.output.renderOutput(dataTable, element);\n",
       "        const docLink = document.createElement('div');\n",
       "        docLink.innerHTML = docLinkHtml;\n",
       "        element.appendChild(docLink);\n",
       "      }\n",
       "    </script>\n",
       "  </div>\n",
       "\n",
       "\n",
       "<div id=\"df-10f63fbc-2167-480b-b292-bd9b32c1c6c3\">\n",
       "  <button class=\"colab-df-quickchart\" onclick=\"quickchart('df-10f63fbc-2167-480b-b292-bd9b32c1c6c3')\"\n",
       "            title=\"Suggest charts\"\n",
       "            style=\"display:none;\">\n",
       "\n",
       "<svg xmlns=\"http://www.w3.org/2000/svg\" height=\"24px\"viewBox=\"0 0 24 24\"\n",
       "     width=\"24px\">\n",
       "    <g>\n",
       "        <path d=\"M19 3H5c-1.1 0-2 .9-2 2v14c0 1.1.9 2 2 2h14c1.1 0 2-.9 2-2V5c0-1.1-.9-2-2-2zM9 17H7v-7h2v7zm4 0h-2V7h2v10zm4 0h-2v-4h2v4z\"/>\n",
       "    </g>\n",
       "</svg>\n",
       "  </button>\n",
       "\n",
       "<style>\n",
       "  .colab-df-quickchart {\n",
       "      --bg-color: #E8F0FE;\n",
       "      --fill-color: #1967D2;\n",
       "      --hover-bg-color: #E2EBFA;\n",
       "      --hover-fill-color: #174EA6;\n",
       "      --disabled-fill-color: #AAA;\n",
       "      --disabled-bg-color: #DDD;\n",
       "  }\n",
       "\n",
       "  [theme=dark] .colab-df-quickchart {\n",
       "      --bg-color: #3B4455;\n",
       "      --fill-color: #D2E3FC;\n",
       "      --hover-bg-color: #434B5C;\n",
       "      --hover-fill-color: #FFFFFF;\n",
       "      --disabled-bg-color: #3B4455;\n",
       "      --disabled-fill-color: #666;\n",
       "  }\n",
       "\n",
       "  .colab-df-quickchart {\n",
       "    background-color: var(--bg-color);\n",
       "    border: none;\n",
       "    border-radius: 50%;\n",
       "    cursor: pointer;\n",
       "    display: none;\n",
       "    fill: var(--fill-color);\n",
       "    height: 32px;\n",
       "    padding: 0;\n",
       "    width: 32px;\n",
       "  }\n",
       "\n",
       "  .colab-df-quickchart:hover {\n",
       "    background-color: var(--hover-bg-color);\n",
       "    box-shadow: 0 1px 2px rgba(60, 64, 67, 0.3), 0 1px 3px 1px rgba(60, 64, 67, 0.15);\n",
       "    fill: var(--button-hover-fill-color);\n",
       "  }\n",
       "\n",
       "  .colab-df-quickchart-complete:disabled,\n",
       "  .colab-df-quickchart-complete:disabled:hover {\n",
       "    background-color: var(--disabled-bg-color);\n",
       "    fill: var(--disabled-fill-color);\n",
       "    box-shadow: none;\n",
       "  }\n",
       "\n",
       "  .colab-df-spinner {\n",
       "    border: 2px solid var(--fill-color);\n",
       "    border-color: transparent;\n",
       "    border-bottom-color: var(--fill-color);\n",
       "    animation:\n",
       "      spin 1s steps(1) infinite;\n",
       "  }\n",
       "\n",
       "  @keyframes spin {\n",
       "    0% {\n",
       "      border-color: transparent;\n",
       "      border-bottom-color: var(--fill-color);\n",
       "      border-left-color: var(--fill-color);\n",
       "    }\n",
       "    20% {\n",
       "      border-color: transparent;\n",
       "      border-left-color: var(--fill-color);\n",
       "      border-top-color: var(--fill-color);\n",
       "    }\n",
       "    30% {\n",
       "      border-color: transparent;\n",
       "      border-left-color: var(--fill-color);\n",
       "      border-top-color: var(--fill-color);\n",
       "      border-right-color: var(--fill-color);\n",
       "    }\n",
       "    40% {\n",
       "      border-color: transparent;\n",
       "      border-right-color: var(--fill-color);\n",
       "      border-top-color: var(--fill-color);\n",
       "    }\n",
       "    60% {\n",
       "      border-color: transparent;\n",
       "      border-right-color: var(--fill-color);\n",
       "    }\n",
       "    80% {\n",
       "      border-color: transparent;\n",
       "      border-right-color: var(--fill-color);\n",
       "      border-bottom-color: var(--fill-color);\n",
       "    }\n",
       "    90% {\n",
       "      border-color: transparent;\n",
       "      border-bottom-color: var(--fill-color);\n",
       "    }\n",
       "  }\n",
       "</style>\n",
       "\n",
       "  <script>\n",
       "    async function quickchart(key) {\n",
       "      const quickchartButtonEl =\n",
       "        document.querySelector('#' + key + ' button');\n",
       "      quickchartButtonEl.disabled = true;  // To prevent multiple clicks.\n",
       "      quickchartButtonEl.classList.add('colab-df-spinner');\n",
       "      try {\n",
       "        const charts = await google.colab.kernel.invokeFunction(\n",
       "            'suggestCharts', [key], {});\n",
       "      } catch (error) {\n",
       "        console.error('Error during call to suggestCharts:', error);\n",
       "      }\n",
       "      quickchartButtonEl.classList.remove('colab-df-spinner');\n",
       "      quickchartButtonEl.classList.add('colab-df-quickchart-complete');\n",
       "    }\n",
       "    (() => {\n",
       "      let quickchartButtonEl =\n",
       "        document.querySelector('#df-10f63fbc-2167-480b-b292-bd9b32c1c6c3 button');\n",
       "      quickchartButtonEl.style.display =\n",
       "        google.colab.kernel.accessAllowed ? 'block' : 'none';\n",
       "    })();\n",
       "  </script>\n",
       "</div>\n",
       "\n",
       "    </div>\n",
       "  </div>\n"
      ],
      "text/plain": [
       "            count         mean         std     min     25%     50%     75%  \\\n",
       "Num.        657.0   110.000000   63.267362     1.0    55.0   110.0   165.0   \n",
       "subject_ID  657.0   156.598174  101.449344     2.0    85.0   152.0   215.0   \n",
       "Age(year)   657.0    57.168950   15.850110    21.0    48.0    58.0    68.0   \n",
       "Height(cm)  657.0   161.228311    8.190357   145.0   155.0   160.0   167.0   \n",
       "Weight(kg)  657.0    60.191781   11.868168    36.0    52.0    60.0    67.0   \n",
       "...           ...          ...         ...     ...     ...     ...     ...   \n",
       "2096        657.0  2085.436834  305.845135  1519.0  1904.0  2014.0  2180.0   \n",
       "2097        657.0  2083.791476  304.297297  1515.0  1904.0  2012.0  2176.0   \n",
       "2098        657.0  2084.803653  306.657540  1515.0  1904.0  2011.0  2175.0   \n",
       "2099        657.0  2085.196347  306.275406  1515.0  1906.0  2012.0  2177.0   \n",
       "2100        657.0  2085.219178  305.731730  1528.0  1906.0  2017.0  2183.0   \n",
       "\n",
       "               max  \n",
       "Num.         219.0  \n",
       "subject_ID   419.0  \n",
       "Age(year)     86.0  \n",
       "Height(cm)   196.0  \n",
       "Weight(kg)   103.0  \n",
       "...            ...  \n",
       "2096        3811.0  \n",
       "2097        3787.0  \n",
       "2098        3774.0  \n",
       "2099        3775.0  \n",
       "2100        3759.0  \n",
       "\n",
       "[2109 rows x 8 columns]"
      ]
     },
     "execution_count": 5,
     "metadata": {},
     "output_type": "execute_result"
    }
   ],
   "source": [
    "df.describe().T"
   ]
  },
  {
   "cell_type": "code",
   "execution_count": 6,
   "id": "e0ba3663",
   "metadata": {
    "ExecuteTime": {
     "end_time": "2025-04-01T09:39:30.654659Z",
     "start_time": "2025-04-01T09:39:30.649930Z"
    },
    "colab": {
     "base_uri": "https://localhost:8080/"
    },
    "id": "e0ba3663",
    "outputId": "d0eb2547-172d-4d4a-e351-58f7d8a9abd7"
   },
   "outputs": [
    {
     "data": {
      "text/plain": [
       "(657, 2114)"
      ]
     },
     "execution_count": 6,
     "metadata": {},
     "output_type": "execute_result"
    }
   ],
   "source": [
    "df.shape"
   ]
  },
  {
   "cell_type": "code",
   "execution_count": 7,
   "id": "u98HtrbxHZR2",
   "metadata": {
    "ExecuteTime": {
     "end_time": "2025-04-01T09:39:30.681666Z",
     "start_time": "2025-04-01T09:39:30.658624Z"
    },
    "colab": {
     "base_uri": "https://localhost:8080/"
    },
    "id": "u98HtrbxHZR2",
    "outputId": "6eb9f050-e0c7-4a16-db80-6d748366270c"
   },
   "outputs": [
    {
     "name": "stdout",
     "output_type": "stream",
     "text": [
      "{0, 597, 582, 543}\n",
      "{0, 75, 72, 174}\n",
      "{0}\n"
     ]
    },
    {
     "name": "stderr",
     "output_type": "stream",
     "text": [
      "<ipython-input-7-ee1b28275330>:2: FutureWarning: DataFrame.fillna with 'method' is deprecated and will raise in a future version. Use obj.ffill() or obj.bfill() instead.\n",
      "  df = df.fillna(method='ffill')\n",
      "<ipython-input-7-ee1b28275330>:4: FutureWarning: DataFrame.fillna with 'method' is deprecated and will raise in a future version. Use obj.ffill() or obj.bfill() instead.\n",
      "  df = df.fillna(method='bfill')\n"
     ]
    }
   ],
   "source": [
    "print (set(df.isnull().sum()))\n",
    "df = df.fillna(method='ffill')\n",
    "print (set(df.isnull().sum()))\n",
    "df = df.fillna(method='bfill')\n",
    "print (set(df.isnull().sum()))\n",
    "df = df.fillna(df.mean)"
   ]
  },
  {
   "cell_type": "code",
   "execution_count": 8,
   "id": "cc891c65",
   "metadata": {
    "ExecuteTime": {
     "end_time": "2025-04-01T09:39:30.687887Z",
     "start_time": "2025-04-01T09:39:30.684508Z"
    },
    "colab": {
     "base_uri": "https://localhost:8080/"
    },
    "id": "cc891c65",
    "outputId": "62eb18eb-e66c-4aac-fc33-4efe221243ba"
   },
   "outputs": [
    {
     "name": "stdout",
     "output_type": "stream",
     "text": [
      "metadata col # : ['Num.', 'subject_ID', 'Sex(M/F)', 'Age(year)', 'Height(cm)', 'Weight(kg)', 'Systolic Blood Pressure(mmHg)', 'Diastolic Blood Pressure(mmHg)', 'Heart Rate(b/m)', 'BMI(kg/m^2)', 'Hypertension', 'Diabetes', 'cerebral infarction', 'cerebrovascular disease']\n",
      "signal data col # : 2100\n"
     ]
    }
   ],
   "source": [
    "meta_end_idx = df.columns.get_loc('cerebrovascular disease') + 1\n",
    "meta_cols = df.columns[:meta_end_idx]\n",
    "signal_cols = df.columns[meta_end_idx:]\n",
    "\n",
    "print(f\"metadata col # : {list(meta_cols)}\")\n",
    "print(f\"signal data col # : {len(signal_cols)}\")"
   ]
  },
  {
   "cell_type": "code",
   "execution_count": 9,
   "id": "c05b42c8",
   "metadata": {
    "ExecuteTime": {
     "end_time": "2025-04-01T09:39:30.700825Z",
     "start_time": "2025-04-01T09:39:30.693582Z"
    },
    "colab": {
     "base_uri": "https://localhost:8080/"
    },
    "id": "c05b42c8",
    "outputId": "b44162c7-29a5-4120-a216-bd48f545d32a"
   },
   "outputs": [
    {
     "name": "stdout",
     "output_type": "stream",
     "text": [
      "signal data : (657, 2100)\n",
      "pressure data : (657, 2)\n"
     ]
    }
   ],
   "source": [
    "target_cols = ['Systolic Blood Pressure(mmHg)', 'Diastolic Blood Pressure(mmHg)']\n",
    "\n",
    "X_signals = df[signal_cols].values\n",
    "y_bp = df[target_cols].values\n",
    "\n",
    "print(f\"signal data : {X_signals.shape}\")\n",
    "print(f\"pressure data : {y_bp.shape}\")"
   ]
  },
  {
   "cell_type": "code",
   "execution_count": 10,
   "id": "62ada5cc",
   "metadata": {
    "ExecuteTime": {
     "end_time": "2025-04-01T09:39:30.727789Z",
     "start_time": "2025-04-01T09:39:30.702926Z"
    },
    "colab": {
     "base_uri": "https://localhost:8080/"
    },
    "id": "62ada5cc",
    "outputId": "6c2c3671-6646-4dc8-a3fb-d6f98ad1142b"
   },
   "outputs": [
    {
     "name": "stdout",
     "output_type": "stream",
     "text": [
      "signal data : (657, 2100)\n",
      "pressure data : (657, 2)\n",
      "train=(420, 2100), val=(105, 2100), test=(132, 2100)\n"
     ]
    }
   ],
   "source": [
    "X_data = X_signals  # Shape: [num_samples, signal_length]\n",
    "y_data = y_bp      # Shape: [num_samples, 2]\n",
    "\n",
    "print(f\"signal data : {X_data.shape}\")\n",
    "print(f\"pressure data : {y_data.shape}\")\n",
    "\n",
    "# Split the data into train, validation, and test sets\n",
    "X_train_val, X_test, y_train_val, y_test = train_test_split(X_data, y_data, test_size=0.2, random_state=42)\n",
    "X_train, X_val, y_train, y_val = train_test_split(X_train_val, y_train_val, test_size=0.2, random_state=42)\n",
    "\n",
    "print(f\"train={X_train.shape}, val={X_val.shape}, test={X_test.shape}\")"
   ]
  },
  {
   "cell_type": "code",
   "execution_count": 11,
   "id": "516c0737",
   "metadata": {
    "ExecuteTime": {
     "end_time": "2025-04-01T09:39:30.756369Z",
     "start_time": "2025-04-01T09:39:30.729852Z"
    },
    "id": "516c0737"
   },
   "outputs": [],
   "source": [
    "scaler_X = StandardScaler()\n",
    "X_train = scaler_X.fit_transform(X_train.reshape(X_train.shape[0], -1)).reshape(X_train.shape)\n",
    "X_val = scaler_X.transform(X_val.reshape(X_val.shape[0], -1)).reshape(X_val.shape)\n",
    "X_test = scaler_X.transform(X_test.reshape(X_test.shape[0], -1)).reshape(X_test.shape)\n",
    "\n",
    "scaler_y = StandardScaler()\n",
    "y_train = scaler_y.fit_transform(y_train)\n",
    "y_val = scaler_y.transform(y_val)\n",
    "y_test = scaler_y.transform(y_test)"
   ]
  },
  {
   "cell_type": "code",
   "execution_count": 12,
   "id": "5d8eeb5a",
   "metadata": {
    "ExecuteTime": {
     "end_time": "2025-04-01T09:39:30.798434Z",
     "start_time": "2025-04-01T09:39:30.758943Z"
    },
    "id": "5d8eeb5a"
   },
   "outputs": [],
   "source": [
    "from mamba_ssm.modules.mamba_simple import Mamba\n",
    "\n",
    "class RMSNorm(nn.Module):\n",
    "    def __init__(self, d_model, eps=1e-5):\n",
    "        super().__init__()\n",
    "        self.eps = eps\n",
    "        self.weight = nn.Parameter(torch.ones(d_model))\n",
    "\n",
    "    def forward(self, x):\n",
    "        norm = torch.norm(x, dim=-1, keepdim=True) * (x.shape[-1] ** -0.5)\n",
    "        return x / (norm + self.eps) * self.weight\n",
    "\n",
    "class DataEmbedding(nn.Module):\n",
    "    def __init__(self, d_model, dropout=0.1):\n",
    "        super().__init__()\n",
    "        # Use Conv1d to handle the input shape [batch, 1, seq_len]\n",
    "        self.proj = nn.Conv1d(in_channels=1, out_channels=d_model, kernel_size=1)\n",
    "        self.norm = nn.BatchNorm1d(d_model)\n",
    "        self.dropout = nn.Dropout(p=dropout)\n",
    "\n",
    "    def forward(self, x):\n",
    "        # x: [batch, 1, seq_len]\n",
    "        x = self.proj(x)  # [batch, d_model, seq_len]\n",
    "        x = self.norm(x)\n",
    "        x = self.dropout(x)\n",
    "        x = x.transpose(1, 2)  # [batch, seq_len, d_model]\n",
    "        return x\n",
    "\n",
    "# 단순화된 MambaBlock\n",
    "class MambaBlock(nn.Module):\n",
    "    def __init__(self, d_model, d_state=16, d_conv=4, expand=2, dropout=0.1):\n",
    "        super().__init__()\n",
    "        self.norm = RMSNorm(d_model)\n",
    "\n",
    "        # mamba_ssm에서 직접 Mamba 모듈 사용\n",
    "        self.mamba = Mamba(\n",
    "            d_model=d_model,\n",
    "            d_state=d_state,\n",
    "            d_conv=d_conv,\n",
    "            expand=expand\n",
    "        )\n",
    "\n",
    "        self.dropout = nn.Dropout(p=dropout)\n",
    "\n",
    "    def forward(self, x):\n",
    "        # x: [B, seq_len, d_model]\n",
    "        residual = x\n",
    "        x = self.norm(x)\n",
    "        x = self.mamba(x)\n",
    "        x = self.dropout(x)\n",
    "        return x + residual\n",
    "\n",
    "# 전체 모델\n",
    "class MambaModel(nn.Module):\n",
    "    def __init__(self, d_model=64, n_layers=4, d_state=16, d_conv=4, expand=2, dropout=0.1):\n",
    "        super().__init__()\n",
    "\n",
    "        # Data embedding\n",
    "        self.embedding = DataEmbedding(d_model, dropout)\n",
    "\n",
    "        # Mamba 블록 스택\n",
    "        self.layers = nn.ModuleList([\n",
    "            MambaBlock(\n",
    "                d_model=d_model,\n",
    "                d_state=d_state,\n",
    "                d_conv=d_conv,\n",
    "                expand=expand,\n",
    "                dropout=dropout\n",
    "            ) for _ in range(n_layers)\n",
    "        ])\n",
    "\n",
    "        # 최종 정규화\n",
    "        self.norm = RMSNorm(d_model)\n",
    "\n",
    "        # 혈압 예측을 위한 출력 헤드\n",
    "        self.projection = nn.Sequential(\n",
    "            nn.Linear(d_model * 2, d_model),\n",
    "            nn.SiLU(),\n",
    "            nn.Dropout(dropout),\n",
    "            nn.Linear(d_model, 2)\n",
    "        )\n",
    "\n",
    "    def forward(self, x):\n",
    "        # x shape: [batch, 1, seq_len]\n",
    "\n",
    "        # 임베딩 적용\n",
    "        x = self.embedding(x)  # [batch, seq_len, d_model]\n",
    "\n",
    "        # Mamba 블록 적용\n",
    "        for layer in self.layers:\n",
    "            x = layer(x)\n",
    "\n",
    "        # 최종 정규화\n",
    "        x = self.norm(x)\n",
    "\n",
    "        # 평균 및 최대 풀링\n",
    "        mean_pooled = torch.mean(x, dim=1)  # [batch, d_model]\n",
    "        max_pooled, _ = torch.max(x, dim=1)  # [batch, d_model]\n",
    "\n",
    "        # 풀링된 특성 연결\n",
    "        pooled = torch.cat([mean_pooled, max_pooled], dim=-1)  # [batch, d_model*2]\n",
    "\n",
    "        # 혈압 값으로 예측\n",
    "        bp_pred = self.projection(pooled)  # [batch, 2]\n",
    "\n",
    "        return bp_pred"
   ]
  },
  {
   "cell_type": "code",
   "execution_count": 13,
   "id": "d6921cf9",
   "metadata": {
    "ExecuteTime": {
     "end_time": "2025-04-01T09:39:30.806712Z",
     "start_time": "2025-04-01T09:39:30.800412Z"
    },
    "colab": {
     "base_uri": "https://localhost:8080/"
    },
    "id": "d6921cf9",
    "outputId": "d1cd4dab-dfd5-467f-a0a6-50be4f092511"
   },
   "outputs": [
    {
     "name": "stdout",
     "output_type": "stream",
     "text": [
      "train=420, val=105, test=132\n",
      "train=14, val=4, test=5\n"
     ]
    }
   ],
   "source": [
    "class BPDataset(Dataset):\n",
    "    def __init__(self, signals, bp_values):\n",
    "        self.signals = signals\n",
    "        self.bp_values = bp_values\n",
    "\n",
    "    def __len__(self):\n",
    "        return len(self.signals)\n",
    "\n",
    "    def __getitem__(self, idx):\n",
    "        signal = self.signals[idx]\n",
    "        bp = self.bp_values[idx]\n",
    "\n",
    "        # Reshape to [1, full_sequence_length]\n",
    "        # This will become [batch_size, 1, full_sequence_length] after batching\n",
    "        x = torch.FloatTensor(signal).unsqueeze(0)  # [1, full_sequence_length]\n",
    "        y = torch.FloatTensor(bp)\n",
    "\n",
    "        return x, y\n",
    "\n",
    "train_dataset = BPDataset(X_train, y_train)\n",
    "val_dataset = BPDataset(X_val, y_val)\n",
    "test_dataset = BPDataset(X_test, y_test)\n",
    "\n",
    "batch_size = 32\n",
    "train_loader = DataLoader(train_dataset, batch_size=batch_size, shuffle=True)\n",
    "val_loader = DataLoader(val_dataset, batch_size=batch_size)\n",
    "test_loader = DataLoader(test_dataset, batch_size=batch_size)\n",
    "\n",
    "print(f\"train={len(train_dataset)}, val={len(val_dataset)}, test={len(test_dataset)}\") # <--- data point\n",
    "print(f\"train={len(train_loader)}, val={len(val_loader)}, test={len(test_loader)}\") # <-- batch"
   ]
  },
  {
   "cell_type": "code",
   "execution_count": 14,
   "id": "80446ca2",
   "metadata": {
    "ExecuteTime": {
     "end_time": "2025-04-01T09:39:30.820810Z",
     "start_time": "2025-04-01T09:39:30.808778Z"
    },
    "colab": {
     "base_uri": "https://localhost:8080/"
    },
    "id": "80446ca2",
    "outputId": "441efbbe-368d-4c07-e5f1-e19b1dc0a736"
   },
   "outputs": [
    {
     "name": "stdout",
     "output_type": "stream",
     "text": [
      "device : cuda\n",
      "# of parameters: 74114\n"
     ]
    }
   ],
   "source": [
    "device = torch.device('cuda' if torch.cuda.is_available() else 'cpu')\n",
    "print(f\"device : {device}\")\n",
    "\n",
    "model = MambaModel(\n",
    "    d_model=64,\n",
    "    n_layers=2,\n",
    "    d_state=16,\n",
    "    d_conv=4,\n",
    "    expand=2,\n",
    "    dropout=0.2\n",
    ").to(device)\n",
    "\n",
    "print(f\"# of parameters: {sum(p.numel() for p in model.parameters())}\")"
   ]
  },
  {
   "cell_type": "code",
   "execution_count": 15,
   "id": "2720fc74",
   "metadata": {
    "ExecuteTime": {
     "end_time": "2025-04-01T09:39:31.829711Z",
     "start_time": "2025-04-01T09:39:30.822842Z"
    },
    "id": "2720fc74"
   },
   "outputs": [],
   "source": [
    "criterion = nn.MSELoss()\n",
    "optimizer = torch.optim.Adam(model.parameters(), lr=0.0005)\n",
    "scheduler = ReduceLROnPlateau(optimizer, mode='min', factor=0.5, patience=5, min_lr=1e-6)"
   ]
  },
  {
   "cell_type": "code",
   "execution_count": 16,
   "id": "a8ec8c19",
   "metadata": {
    "ExecuteTime": {
     "end_time": "2025-04-01T09:45:01.158295Z",
     "start_time": "2025-04-01T09:39:31.831965Z"
    },
    "colab": {
     "base_uri": "https://localhost:8080/"
    },
    "id": "a8ec8c19",
    "outputId": "5eed23b2-e459-4616-d238-69b9f1072100"
   },
   "outputs": [
    {
     "name": "stderr",
     "output_type": "stream",
     "text": [
      "Epoch 1/150 [Train]: 100%|██████████| 14/14 [00:03<00:00,  3.72it/s, batch_mse=0.8976]\n",
      "Epoch 1/150 [Valid]: 100%|██████████| 4/4 [00:00<00:00, 26.32it/s, batch_mse=0.6505]\n"
     ]
    },
    {
     "name": "stdout",
     "output_type": "stream",
     "text": [
      "Epoch 1/150:\n",
      "  Train MSE: 1.0224\n",
      "  Val MSE: 1.0097\n",
      "  Val Systolic MSE: 1.0445\n",
      "  Val Diastolic MSE: 0.9749\n",
      "  Model saved with best Val MSE: 1.0097\n"
     ]
    },
    {
     "name": "stderr",
     "output_type": "stream",
     "text": [
      "Epoch 2/150 [Train]: 100%|██████████| 14/14 [00:01<00:00, 10.08it/s, batch_mse=3.5355]\n",
      "Epoch 2/150 [Valid]: 100%|██████████| 4/4 [00:00<00:00, 40.73it/s, batch_mse=0.6019]\n"
     ]
    },
    {
     "name": "stdout",
     "output_type": "stream",
     "text": [
      "Epoch 2/150:\n",
      "  Train MSE: 0.9837\n",
      "  Val MSE: 0.9586\n",
      "  Val Systolic MSE: 0.9561\n",
      "  Val Diastolic MSE: 0.9612\n",
      "  Model saved with best Val MSE: 0.9586\n"
     ]
    },
    {
     "name": "stderr",
     "output_type": "stream",
     "text": [
      "Epoch 3/150 [Train]: 100%|██████████| 14/14 [00:01<00:00, 10.39it/s, batch_mse=1.2070]\n",
      "Epoch 3/150 [Valid]: 100%|██████████| 4/4 [00:00<00:00, 24.12it/s, batch_mse=0.6000]\n"
     ]
    },
    {
     "name": "stdout",
     "output_type": "stream",
     "text": [
      "Epoch 3/150:\n",
      "  Train MSE: 0.9826\n",
      "  Val MSE: 0.9549\n",
      "  Val Systolic MSE: 0.9554\n",
      "  Val Diastolic MSE: 0.9543\n",
      "  Model saved with best Val MSE: 0.9549\n"
     ]
    },
    {
     "name": "stderr",
     "output_type": "stream",
     "text": [
      "Epoch 4/150 [Train]: 100%|██████████| 14/14 [00:01<00:00, 10.52it/s, batch_mse=0.4287]\n",
      "Epoch 4/150 [Valid]: 100%|██████████| 4/4 [00:00<00:00, 31.75it/s, batch_mse=0.6092]\n"
     ]
    },
    {
     "name": "stdout",
     "output_type": "stream",
     "text": [
      "Epoch 4/150:\n",
      "  Train MSE: 0.9806\n",
      "  Val MSE: 0.9452\n",
      "  Val Systolic MSE: 0.9383\n",
      "  Val Diastolic MSE: 0.9522\n",
      "  Model saved with best Val MSE: 0.9452\n"
     ]
    },
    {
     "name": "stderr",
     "output_type": "stream",
     "text": [
      "Epoch 5/150 [Train]: 100%|██████████| 14/14 [00:01<00:00, 10.25it/s, batch_mse=1.4043]\n",
      "Epoch 5/150 [Valid]: 100%|██████████| 4/4 [00:00<00:00, 42.31it/s, batch_mse=0.5865]\n"
     ]
    },
    {
     "name": "stdout",
     "output_type": "stream",
     "text": [
      "Epoch 5/150:\n",
      "  Train MSE: 0.9617\n",
      "  Val MSE: 0.9264\n",
      "  Val Systolic MSE: 0.9105\n",
      "  Val Diastolic MSE: 0.9424\n",
      "  Model saved with best Val MSE: 0.9264\n"
     ]
    },
    {
     "name": "stderr",
     "output_type": "stream",
     "text": [
      "Epoch 6/150 [Train]: 100%|██████████| 14/14 [00:01<00:00, 10.39it/s, batch_mse=0.5818]\n",
      "Epoch 6/150 [Valid]: 100%|██████████| 4/4 [00:00<00:00, 40.08it/s, batch_mse=0.6346]\n"
     ]
    },
    {
     "name": "stdout",
     "output_type": "stream",
     "text": [
      "Epoch 6/150:\n",
      "  Train MSE: 0.9712\n",
      "  Val MSE: 0.9349\n",
      "  Val Systolic MSE: 0.9169\n",
      "  Val Diastolic MSE: 0.9528\n"
     ]
    },
    {
     "name": "stderr",
     "output_type": "stream",
     "text": [
      "Epoch 7/150 [Train]: 100%|██████████| 14/14 [00:01<00:00, 10.85it/s, batch_mse=0.1509]\n",
      "Epoch 7/150 [Valid]: 100%|██████████| 4/4 [00:00<00:00, 41.30it/s, batch_mse=0.6152]\n"
     ]
    },
    {
     "name": "stdout",
     "output_type": "stream",
     "text": [
      "Epoch 7/150:\n",
      "  Train MSE: 0.9732\n",
      "  Val MSE: 0.9396\n",
      "  Val Systolic MSE: 0.9186\n",
      "  Val Diastolic MSE: 0.9606\n"
     ]
    },
    {
     "name": "stderr",
     "output_type": "stream",
     "text": [
      "Epoch 8/150 [Train]: 100%|██████████| 14/14 [00:01<00:00, 11.02it/s, batch_mse=2.9716]\n",
      "Epoch 8/150 [Valid]: 100%|██████████| 4/4 [00:00<00:00, 57.61it/s, batch_mse=0.6130]\n"
     ]
    },
    {
     "name": "stdout",
     "output_type": "stream",
     "text": [
      "Epoch 8/150:\n",
      "  Train MSE: 0.9770\n",
      "  Val MSE: 0.9317\n",
      "  Val Systolic MSE: 0.9151\n",
      "  Val Diastolic MSE: 0.9483\n"
     ]
    },
    {
     "name": "stderr",
     "output_type": "stream",
     "text": [
      "Epoch 9/150 [Train]: 100%|██████████| 14/14 [00:01<00:00, 11.17it/s, batch_mse=0.5123]\n",
      "Epoch 9/150 [Valid]: 100%|██████████| 4/4 [00:00<00:00, 58.48it/s, batch_mse=0.6270]\n"
     ]
    },
    {
     "name": "stdout",
     "output_type": "stream",
     "text": [
      "Epoch 9/150:\n",
      "  Train MSE: 0.9666\n",
      "  Val MSE: 0.9300\n",
      "  Val Systolic MSE: 0.9128\n",
      "  Val Diastolic MSE: 0.9472\n"
     ]
    },
    {
     "name": "stderr",
     "output_type": "stream",
     "text": [
      "Epoch 10/150 [Train]: 100%|██████████| 14/14 [00:01<00:00, 11.00it/s, batch_mse=0.7830]\n",
      "Epoch 10/150 [Valid]: 100%|██████████| 4/4 [00:00<00:00, 57.82it/s, batch_mse=0.5780]\n"
     ]
    },
    {
     "name": "stdout",
     "output_type": "stream",
     "text": [
      "Epoch 10/150:\n",
      "  Train MSE: 0.9580\n",
      "  Val MSE: 0.9252\n",
      "  Val Systolic MSE: 0.9016\n",
      "  Val Diastolic MSE: 0.9488\n",
      "  Model saved with best Val MSE: 0.9252\n"
     ]
    },
    {
     "name": "stderr",
     "output_type": "stream",
     "text": [
      "Epoch 11/150 [Train]: 100%|██████████| 14/14 [00:01<00:00, 10.99it/s, batch_mse=1.0992]\n",
      "Epoch 11/150 [Valid]: 100%|██████████| 4/4 [00:00<00:00, 58.65it/s, batch_mse=0.6379]\n"
     ]
    },
    {
     "name": "stdout",
     "output_type": "stream",
     "text": [
      "Epoch 11/150:\n",
      "  Train MSE: 0.9620\n",
      "  Val MSE: 0.9344\n",
      "  Val Systolic MSE: 0.9093\n",
      "  Val Diastolic MSE: 0.9594\n"
     ]
    },
    {
     "name": "stderr",
     "output_type": "stream",
     "text": [
      "Epoch 12/150 [Train]: 100%|██████████| 14/14 [00:01<00:00, 11.14it/s, batch_mse=0.6126]\n",
      "Epoch 12/150 [Valid]: 100%|██████████| 4/4 [00:00<00:00, 58.27it/s, batch_mse=0.6913]\n"
     ]
    },
    {
     "name": "stdout",
     "output_type": "stream",
     "text": [
      "Epoch 12/150:\n",
      "  Train MSE: 0.9733\n",
      "  Val MSE: 0.9380\n",
      "  Val Systolic MSE: 0.9035\n",
      "  Val Diastolic MSE: 0.9725\n"
     ]
    },
    {
     "name": "stderr",
     "output_type": "stream",
     "text": [
      "Epoch 13/150 [Train]: 100%|██████████| 14/14 [00:01<00:00, 11.11it/s, batch_mse=2.1559]\n",
      "Epoch 13/150 [Valid]: 100%|██████████| 4/4 [00:00<00:00, 54.74it/s, batch_mse=0.6111]\n"
     ]
    },
    {
     "name": "stdout",
     "output_type": "stream",
     "text": [
      "Epoch 13/150:\n",
      "  Train MSE: 0.9621\n",
      "  Val MSE: 0.9309\n",
      "  Val Systolic MSE: 0.9137\n",
      "  Val Diastolic MSE: 0.9481\n"
     ]
    },
    {
     "name": "stderr",
     "output_type": "stream",
     "text": [
      "Epoch 14/150 [Train]: 100%|██████████| 14/14 [00:01<00:00, 11.14it/s, batch_mse=1.0220]\n",
      "Epoch 14/150 [Valid]: 100%|██████████| 4/4 [00:00<00:00, 55.86it/s, batch_mse=0.6148]\n"
     ]
    },
    {
     "name": "stdout",
     "output_type": "stream",
     "text": [
      "Epoch 14/150:\n",
      "  Train MSE: 0.9578\n",
      "  Val MSE: 0.9298\n",
      "  Val Systolic MSE: 0.8966\n",
      "  Val Diastolic MSE: 0.9630\n"
     ]
    },
    {
     "name": "stderr",
     "output_type": "stream",
     "text": [
      "Epoch 15/150 [Train]: 100%|██████████| 14/14 [00:01<00:00, 11.04it/s, batch_mse=0.6568]\n",
      "Epoch 15/150 [Valid]: 100%|██████████| 4/4 [00:00<00:00, 58.78it/s, batch_mse=0.5940]\n"
     ]
    },
    {
     "name": "stdout",
     "output_type": "stream",
     "text": [
      "Epoch 15/150:\n",
      "  Train MSE: 0.9634\n",
      "  Val MSE: 0.9200\n",
      "  Val Systolic MSE: 0.8917\n",
      "  Val Diastolic MSE: 0.9483\n",
      "  Model saved with best Val MSE: 0.9200\n"
     ]
    },
    {
     "name": "stderr",
     "output_type": "stream",
     "text": [
      "Epoch 16/150 [Train]: 100%|██████████| 14/14 [00:01<00:00, 11.06it/s, batch_mse=2.1806]\n",
      "Epoch 16/150 [Valid]: 100%|██████████| 4/4 [00:00<00:00, 55.37it/s, batch_mse=0.5971]\n"
     ]
    },
    {
     "name": "stdout",
     "output_type": "stream",
     "text": [
      "Epoch 16/150:\n",
      "  Train MSE: 0.9544\n",
      "  Val MSE: 0.9272\n",
      "  Val Systolic MSE: 0.9094\n",
      "  Val Diastolic MSE: 0.9450\n"
     ]
    },
    {
     "name": "stderr",
     "output_type": "stream",
     "text": [
      "Epoch 17/150 [Train]: 100%|██████████| 14/14 [00:01<00:00, 11.05it/s, batch_mse=1.9769]\n",
      "Epoch 17/150 [Valid]: 100%|██████████| 4/4 [00:00<00:00, 56.69it/s, batch_mse=0.6063]\n"
     ]
    },
    {
     "name": "stdout",
     "output_type": "stream",
     "text": [
      "Epoch 17/150:\n",
      "  Train MSE: 0.9647\n",
      "  Val MSE: 0.9320\n",
      "  Val Systolic MSE: 0.9038\n",
      "  Val Diastolic MSE: 0.9603\n"
     ]
    },
    {
     "name": "stderr",
     "output_type": "stream",
     "text": [
      "Epoch 18/150 [Train]: 100%|██████████| 14/14 [00:01<00:00, 11.09it/s, batch_mse=2.5332]\n",
      "Epoch 18/150 [Valid]: 100%|██████████| 4/4 [00:00<00:00, 55.98it/s, batch_mse=0.5691]\n"
     ]
    },
    {
     "name": "stdout",
     "output_type": "stream",
     "text": [
      "Epoch 18/150:\n",
      "  Train MSE: 0.9448\n",
      "  Val MSE: 0.9207\n",
      "  Val Systolic MSE: 0.8936\n",
      "  Val Diastolic MSE: 0.9479\n"
     ]
    },
    {
     "name": "stderr",
     "output_type": "stream",
     "text": [
      "Epoch 19/150 [Train]: 100%|██████████| 14/14 [00:01<00:00, 10.91it/s, batch_mse=1.3281]\n",
      "Epoch 19/150 [Valid]: 100%|██████████| 4/4 [00:00<00:00, 55.94it/s, batch_mse=0.5907]\n"
     ]
    },
    {
     "name": "stdout",
     "output_type": "stream",
     "text": [
      "Epoch 19/150:\n",
      "  Train MSE: 0.9716\n",
      "  Val MSE: 0.9111\n",
      "  Val Systolic MSE: 0.8816\n",
      "  Val Diastolic MSE: 0.9405\n",
      "  Model saved with best Val MSE: 0.9111\n"
     ]
    },
    {
     "name": "stderr",
     "output_type": "stream",
     "text": [
      "Epoch 20/150 [Train]: 100%|██████████| 14/14 [00:01<00:00, 11.06it/s, batch_mse=0.7833]\n",
      "Epoch 20/150 [Valid]: 100%|██████████| 4/4 [00:00<00:00, 51.86it/s, batch_mse=0.5882]\n"
     ]
    },
    {
     "name": "stdout",
     "output_type": "stream",
     "text": [
      "Epoch 20/150:\n",
      "  Train MSE: 0.9386\n",
      "  Val MSE: 0.9163\n",
      "  Val Systolic MSE: 0.8822\n",
      "  Val Diastolic MSE: 0.9504\n"
     ]
    },
    {
     "name": "stderr",
     "output_type": "stream",
     "text": [
      "Epoch 21/150 [Train]: 100%|██████████| 14/14 [00:01<00:00, 11.02it/s, batch_mse=0.7108]\n",
      "Epoch 21/150 [Valid]: 100%|██████████| 4/4 [00:00<00:00, 58.23it/s, batch_mse=0.5993]\n"
     ]
    },
    {
     "name": "stdout",
     "output_type": "stream",
     "text": [
      "Epoch 21/150:\n",
      "  Train MSE: 0.9340\n",
      "  Val MSE: 0.9147\n",
      "  Val Systolic MSE: 0.8879\n",
      "  Val Diastolic MSE: 0.9415\n"
     ]
    },
    {
     "name": "stderr",
     "output_type": "stream",
     "text": [
      "Epoch 22/150 [Train]: 100%|██████████| 14/14 [00:01<00:00, 11.01it/s, batch_mse=0.9117]\n",
      "Epoch 22/150 [Valid]: 100%|██████████| 4/4 [00:00<00:00, 55.45it/s, batch_mse=0.5875]\n"
     ]
    },
    {
     "name": "stdout",
     "output_type": "stream",
     "text": [
      "Epoch 22/150:\n",
      "  Train MSE: 0.9422\n",
      "  Val MSE: 0.9079\n",
      "  Val Systolic MSE: 0.8827\n",
      "  Val Diastolic MSE: 0.9332\n",
      "  Model saved with best Val MSE: 0.9079\n"
     ]
    },
    {
     "name": "stderr",
     "output_type": "stream",
     "text": [
      "Epoch 23/150 [Train]: 100%|██████████| 14/14 [00:01<00:00, 10.98it/s, batch_mse=0.6529]\n",
      "Epoch 23/150 [Valid]: 100%|██████████| 4/4 [00:00<00:00, 56.41it/s, batch_mse=0.5668]\n"
     ]
    },
    {
     "name": "stdout",
     "output_type": "stream",
     "text": [
      "Epoch 23/150:\n",
      "  Train MSE: 0.9411\n",
      "  Val MSE: 0.9144\n",
      "  Val Systolic MSE: 0.8854\n",
      "  Val Diastolic MSE: 0.9434\n"
     ]
    },
    {
     "name": "stderr",
     "output_type": "stream",
     "text": [
      "Epoch 24/150 [Train]: 100%|██████████| 14/14 [00:01<00:00, 11.00it/s, batch_mse=2.0807]\n",
      "Epoch 24/150 [Valid]: 100%|██████████| 4/4 [00:00<00:00, 57.69it/s, batch_mse=0.5921]\n"
     ]
    },
    {
     "name": "stdout",
     "output_type": "stream",
     "text": [
      "Epoch 24/150:\n",
      "  Train MSE: 0.9510\n",
      "  Val MSE: 0.9157\n",
      "  Val Systolic MSE: 0.8864\n",
      "  Val Diastolic MSE: 0.9450\n"
     ]
    },
    {
     "name": "stderr",
     "output_type": "stream",
     "text": [
      "Epoch 25/150 [Train]: 100%|██████████| 14/14 [00:01<00:00, 11.02it/s, batch_mse=0.4132]\n",
      "Epoch 25/150 [Valid]: 100%|██████████| 4/4 [00:00<00:00, 55.92it/s, batch_mse=0.5758]\n"
     ]
    },
    {
     "name": "stdout",
     "output_type": "stream",
     "text": [
      "Epoch 25/150:\n",
      "  Train MSE: 0.9381\n",
      "  Val MSE: 0.9132\n",
      "  Val Systolic MSE: 0.8871\n",
      "  Val Diastolic MSE: 0.9393\n"
     ]
    },
    {
     "name": "stderr",
     "output_type": "stream",
     "text": [
      "Epoch 26/150 [Train]: 100%|██████████| 14/14 [00:01<00:00, 10.96it/s, batch_mse=0.7823]\n",
      "Epoch 26/150 [Valid]: 100%|██████████| 4/4 [00:00<00:00, 55.35it/s, batch_mse=0.5610]\n"
     ]
    },
    {
     "name": "stdout",
     "output_type": "stream",
     "text": [
      "Epoch 26/150:\n",
      "  Train MSE: 0.9348\n",
      "  Val MSE: 0.9100\n",
      "  Val Systolic MSE: 0.8738\n",
      "  Val Diastolic MSE: 0.9463\n"
     ]
    },
    {
     "name": "stderr",
     "output_type": "stream",
     "text": [
      "Epoch 27/150 [Train]: 100%|██████████| 14/14 [00:01<00:00, 10.93it/s, batch_mse=0.9648]\n",
      "Epoch 27/150 [Valid]: 100%|██████████| 4/4 [00:00<00:00, 57.11it/s, batch_mse=0.5504]\n"
     ]
    },
    {
     "name": "stdout",
     "output_type": "stream",
     "text": [
      "Epoch 27/150:\n",
      "  Train MSE: 0.9354\n",
      "  Val MSE: 0.9080\n",
      "  Val Systolic MSE: 0.8713\n",
      "  Val Diastolic MSE: 0.9446\n"
     ]
    },
    {
     "name": "stderr",
     "output_type": "stream",
     "text": [
      "Epoch 28/150 [Train]: 100%|██████████| 14/14 [00:01<00:00, 10.86it/s, batch_mse=0.6903]\n",
      "Epoch 28/150 [Valid]: 100%|██████████| 4/4 [00:00<00:00, 52.59it/s, batch_mse=0.5686]\n"
     ]
    },
    {
     "name": "stdout",
     "output_type": "stream",
     "text": [
      "Epoch 28/150:\n",
      "  Train MSE: 0.9239\n",
      "  Val MSE: 0.8996\n",
      "  Val Systolic MSE: 0.8605\n",
      "  Val Diastolic MSE: 0.9387\n",
      "  Model saved with best Val MSE: 0.8996\n"
     ]
    },
    {
     "name": "stderr",
     "output_type": "stream",
     "text": [
      "Epoch 29/150 [Train]: 100%|██████████| 14/14 [00:01<00:00, 10.75it/s, batch_mse=0.3087]\n",
      "Epoch 29/150 [Valid]: 100%|██████████| 4/4 [00:00<00:00, 52.94it/s, batch_mse=0.5924]\n"
     ]
    },
    {
     "name": "stdout",
     "output_type": "stream",
     "text": [
      "Epoch 29/150:\n",
      "  Train MSE: 0.9403\n",
      "  Val MSE: 0.9020\n",
      "  Val Systolic MSE: 0.8690\n",
      "  Val Diastolic MSE: 0.9349\n"
     ]
    },
    {
     "name": "stderr",
     "output_type": "stream",
     "text": [
      "Epoch 30/150 [Train]: 100%|██████████| 14/14 [00:01<00:00, 10.65it/s, batch_mse=0.5569]\n",
      "Epoch 30/150 [Valid]: 100%|██████████| 4/4 [00:00<00:00, 54.65it/s, batch_mse=0.5443]\n"
     ]
    },
    {
     "name": "stdout",
     "output_type": "stream",
     "text": [
      "Epoch 30/150:\n",
      "  Train MSE: 0.9319\n",
      "  Val MSE: 0.9187\n",
      "  Val Systolic MSE: 0.8840\n",
      "  Val Diastolic MSE: 0.9534\n"
     ]
    },
    {
     "name": "stderr",
     "output_type": "stream",
     "text": [
      "Epoch 31/150 [Train]: 100%|██████████| 14/14 [00:01<00:00, 10.67it/s, batch_mse=0.2472]\n",
      "Epoch 31/150 [Valid]: 100%|██████████| 4/4 [00:00<00:00, 51.50it/s, batch_mse=0.5720]\n"
     ]
    },
    {
     "name": "stdout",
     "output_type": "stream",
     "text": [
      "Epoch 31/150:\n",
      "  Train MSE: 0.9388\n",
      "  Val MSE: 0.9010\n",
      "  Val Systolic MSE: 0.8627\n",
      "  Val Diastolic MSE: 0.9393\n"
     ]
    },
    {
     "name": "stderr",
     "output_type": "stream",
     "text": [
      "Epoch 32/150 [Train]: 100%|██████████| 14/14 [00:01<00:00, 10.86it/s, batch_mse=0.1918]\n",
      "Epoch 32/150 [Valid]: 100%|██████████| 4/4 [00:00<00:00, 55.79it/s, batch_mse=0.5763]\n"
     ]
    },
    {
     "name": "stdout",
     "output_type": "stream",
     "text": [
      "Epoch 32/150:\n",
      "  Train MSE: 0.9336\n",
      "  Val MSE: 0.9026\n",
      "  Val Systolic MSE: 0.8679\n",
      "  Val Diastolic MSE: 0.9373\n"
     ]
    },
    {
     "name": "stderr",
     "output_type": "stream",
     "text": [
      "Epoch 33/150 [Train]: 100%|██████████| 14/14 [00:01<00:00, 10.89it/s, batch_mse=1.7462]\n",
      "Epoch 33/150 [Valid]: 100%|██████████| 4/4 [00:00<00:00, 59.25it/s, batch_mse=0.5503]\n"
     ]
    },
    {
     "name": "stdout",
     "output_type": "stream",
     "text": [
      "Epoch 33/150:\n",
      "  Train MSE: 0.9240\n",
      "  Val MSE: 0.9128\n",
      "  Val Systolic MSE: 0.8798\n",
      "  Val Diastolic MSE: 0.9457\n"
     ]
    },
    {
     "name": "stderr",
     "output_type": "stream",
     "text": [
      "Epoch 34/150 [Train]: 100%|██████████| 14/14 [00:01<00:00, 10.85it/s, batch_mse=1.0819]\n",
      "Epoch 34/150 [Valid]: 100%|██████████| 4/4 [00:00<00:00, 57.09it/s, batch_mse=0.5523]\n"
     ]
    },
    {
     "name": "stdout",
     "output_type": "stream",
     "text": [
      "Epoch 34/150:\n",
      "  Train MSE: 0.9375\n",
      "  Val MSE: 0.9029\n",
      "  Val Systolic MSE: 0.8654\n",
      "  Val Diastolic MSE: 0.9404\n"
     ]
    },
    {
     "name": "stderr",
     "output_type": "stream",
     "text": [
      "Epoch 35/150 [Train]: 100%|██████████| 14/14 [00:01<00:00, 10.82it/s, batch_mse=0.9626]\n",
      "Epoch 35/150 [Valid]: 100%|██████████| 4/4 [00:00<00:00, 58.07it/s, batch_mse=0.5863]\n"
     ]
    },
    {
     "name": "stdout",
     "output_type": "stream",
     "text": [
      "Epoch 35/150:\n",
      "  Train MSE: 0.9176\n",
      "  Val MSE: 0.9133\n",
      "  Val Systolic MSE: 0.8871\n",
      "  Val Diastolic MSE: 0.9395\n"
     ]
    },
    {
     "name": "stderr",
     "output_type": "stream",
     "text": [
      "Epoch 36/150 [Train]: 100%|██████████| 14/14 [00:01<00:00, 10.85it/s, batch_mse=0.2319]\n",
      "Epoch 36/150 [Valid]: 100%|██████████| 4/4 [00:00<00:00, 60.49it/s, batch_mse=0.5541]\n"
     ]
    },
    {
     "name": "stdout",
     "output_type": "stream",
     "text": [
      "Epoch 36/150:\n",
      "  Train MSE: 0.9238\n",
      "  Val MSE: 0.9126\n",
      "  Val Systolic MSE: 0.8808\n",
      "  Val Diastolic MSE: 0.9444\n"
     ]
    },
    {
     "name": "stderr",
     "output_type": "stream",
     "text": [
      "Epoch 37/150 [Train]: 100%|██████████| 14/14 [00:01<00:00, 10.66it/s, batch_mse=0.1038]\n",
      "Epoch 37/150 [Valid]: 100%|██████████| 4/4 [00:00<00:00, 53.75it/s, batch_mse=0.5539]\n"
     ]
    },
    {
     "name": "stdout",
     "output_type": "stream",
     "text": [
      "Epoch 37/150:\n",
      "  Train MSE: 0.9168\n",
      "  Val MSE: 0.8993\n",
      "  Val Systolic MSE: 0.8609\n",
      "  Val Diastolic MSE: 0.9377\n",
      "  Model saved with best Val MSE: 0.8993\n"
     ]
    },
    {
     "name": "stderr",
     "output_type": "stream",
     "text": [
      "Epoch 38/150 [Train]: 100%|██████████| 14/14 [00:01<00:00, 10.65it/s, batch_mse=0.7752]\n",
      "Epoch 38/150 [Valid]: 100%|██████████| 4/4 [00:00<00:00, 55.49it/s, batch_mse=0.5529]\n"
     ]
    },
    {
     "name": "stdout",
     "output_type": "stream",
     "text": [
      "Epoch 38/150:\n",
      "  Train MSE: 0.9293\n",
      "  Val MSE: 0.9027\n",
      "  Val Systolic MSE: 0.8667\n",
      "  Val Diastolic MSE: 0.9387\n"
     ]
    },
    {
     "name": "stderr",
     "output_type": "stream",
     "text": [
      "Epoch 39/150 [Train]: 100%|██████████| 14/14 [00:01<00:00, 10.78it/s, batch_mse=0.9244]\n",
      "Epoch 39/150 [Valid]: 100%|██████████| 4/4 [00:00<00:00, 55.88it/s, batch_mse=0.5628]\n"
     ]
    },
    {
     "name": "stdout",
     "output_type": "stream",
     "text": [
      "Epoch 39/150:\n",
      "  Train MSE: 0.9372\n",
      "  Val MSE: 0.9043\n",
      "  Val Systolic MSE: 0.8690\n",
      "  Val Diastolic MSE: 0.9395\n"
     ]
    },
    {
     "name": "stderr",
     "output_type": "stream",
     "text": [
      "Epoch 40/150 [Train]: 100%|██████████| 14/14 [00:01<00:00, 10.82it/s, batch_mse=0.7698]\n",
      "Epoch 40/150 [Valid]: 100%|██████████| 4/4 [00:00<00:00, 56.44it/s, batch_mse=0.5528]\n"
     ]
    },
    {
     "name": "stdout",
     "output_type": "stream",
     "text": [
      "Epoch 40/150:\n",
      "  Train MSE: 0.9182\n",
      "  Val MSE: 0.9051\n",
      "  Val Systolic MSE: 0.8736\n",
      "  Val Diastolic MSE: 0.9366\n"
     ]
    },
    {
     "name": "stderr",
     "output_type": "stream",
     "text": [
      "Epoch 41/150 [Train]: 100%|██████████| 14/14 [00:01<00:00, 10.85it/s, batch_mse=1.5528]\n",
      "Epoch 41/150 [Valid]: 100%|██████████| 4/4 [00:00<00:00, 56.85it/s, batch_mse=0.5534]\n"
     ]
    },
    {
     "name": "stdout",
     "output_type": "stream",
     "text": [
      "Epoch 41/150:\n",
      "  Train MSE: 0.9323\n",
      "  Val MSE: 0.9059\n",
      "  Val Systolic MSE: 0.8772\n",
      "  Val Diastolic MSE: 0.9346\n"
     ]
    },
    {
     "name": "stderr",
     "output_type": "stream",
     "text": [
      "Epoch 42/150 [Train]: 100%|██████████| 14/14 [00:01<00:00, 10.77it/s, batch_mse=0.4910]\n",
      "Epoch 42/150 [Valid]: 100%|██████████| 4/4 [00:00<00:00, 56.69it/s, batch_mse=0.5576]\n"
     ]
    },
    {
     "name": "stdout",
     "output_type": "stream",
     "text": [
      "Epoch 42/150:\n",
      "  Train MSE: 0.9162\n",
      "  Val MSE: 0.9081\n",
      "  Val Systolic MSE: 0.8791\n",
      "  Val Diastolic MSE: 0.9371\n"
     ]
    },
    {
     "name": "stderr",
     "output_type": "stream",
     "text": [
      "Epoch 43/150 [Train]: 100%|██████████| 14/14 [00:01<00:00, 10.77it/s, batch_mse=1.0376]\n",
      "Epoch 43/150 [Valid]: 100%|██████████| 4/4 [00:00<00:00, 55.34it/s, batch_mse=0.5594]\n"
     ]
    },
    {
     "name": "stdout",
     "output_type": "stream",
     "text": [
      "Epoch 43/150:\n",
      "  Train MSE: 0.9169\n",
      "  Val MSE: 0.9137\n",
      "  Val Systolic MSE: 0.8801\n",
      "  Val Diastolic MSE: 0.9472\n"
     ]
    },
    {
     "name": "stderr",
     "output_type": "stream",
     "text": [
      "Epoch 44/150 [Train]: 100%|██████████| 14/14 [00:01<00:00, 10.81it/s, batch_mse=1.2142]\n",
      "Epoch 44/150 [Valid]: 100%|██████████| 4/4 [00:00<00:00, 57.17it/s, batch_mse=0.5519]\n"
     ]
    },
    {
     "name": "stdout",
     "output_type": "stream",
     "text": [
      "Epoch 44/150:\n",
      "  Train MSE: 0.9110\n",
      "  Val MSE: 0.9140\n",
      "  Val Systolic MSE: 0.8788\n",
      "  Val Diastolic MSE: 0.9492\n"
     ]
    },
    {
     "name": "stderr",
     "output_type": "stream",
     "text": [
      "Epoch 45/150 [Train]: 100%|██████████| 14/14 [00:01<00:00, 10.70it/s, batch_mse=0.5597]\n",
      "Epoch 45/150 [Valid]: 100%|██████████| 4/4 [00:00<00:00, 53.67it/s, batch_mse=0.5514]\n"
     ]
    },
    {
     "name": "stdout",
     "output_type": "stream",
     "text": [
      "Epoch 45/150:\n",
      "  Train MSE: 0.9243\n",
      "  Val MSE: 0.9147\n",
      "  Val Systolic MSE: 0.8782\n",
      "  Val Diastolic MSE: 0.9513\n"
     ]
    },
    {
     "name": "stderr",
     "output_type": "stream",
     "text": [
      "Epoch 46/150 [Train]: 100%|██████████| 14/14 [00:01<00:00, 10.27it/s, batch_mse=0.1162]\n",
      "Epoch 46/150 [Valid]: 100%|██████████| 4/4 [00:00<00:00, 58.12it/s, batch_mse=0.5516]\n"
     ]
    },
    {
     "name": "stdout",
     "output_type": "stream",
     "text": [
      "Epoch 46/150:\n",
      "  Train MSE: 0.9233\n",
      "  Val MSE: 0.9120\n",
      "  Val Systolic MSE: 0.8761\n",
      "  Val Diastolic MSE: 0.9480\n"
     ]
    },
    {
     "name": "stderr",
     "output_type": "stream",
     "text": [
      "Epoch 47/150 [Train]: 100%|██████████| 14/14 [00:01<00:00, 10.65it/s, batch_mse=0.3022]\n",
      "Epoch 47/150 [Valid]: 100%|██████████| 4/4 [00:00<00:00, 55.55it/s, batch_mse=0.5513]\n"
     ]
    },
    {
     "name": "stdout",
     "output_type": "stream",
     "text": [
      "Epoch 47/150:\n",
      "  Train MSE: 0.9236\n",
      "  Val MSE: 0.9082\n",
      "  Val Systolic MSE: 0.8746\n",
      "  Val Diastolic MSE: 0.9418\n"
     ]
    },
    {
     "name": "stderr",
     "output_type": "stream",
     "text": [
      "Epoch 48/150 [Train]: 100%|██████████| 14/14 [00:01<00:00, 10.64it/s, batch_mse=0.5322]\n",
      "Epoch 48/150 [Valid]: 100%|██████████| 4/4 [00:00<00:00, 54.99it/s, batch_mse=0.5472]\n"
     ]
    },
    {
     "name": "stdout",
     "output_type": "stream",
     "text": [
      "Epoch 48/150:\n",
      "  Train MSE: 0.9182\n",
      "  Val MSE: 0.9107\n",
      "  Val Systolic MSE: 0.8745\n",
      "  Val Diastolic MSE: 0.9469\n"
     ]
    },
    {
     "name": "stderr",
     "output_type": "stream",
     "text": [
      "Epoch 49/150 [Train]: 100%|██████████| 14/14 [00:01<00:00, 10.59it/s, batch_mse=1.2356]\n",
      "Epoch 49/150 [Valid]: 100%|██████████| 4/4 [00:00<00:00, 55.62it/s, batch_mse=0.5473]\n"
     ]
    },
    {
     "name": "stdout",
     "output_type": "stream",
     "text": [
      "Epoch 49/150:\n",
      "  Train MSE: 0.9243\n",
      "  Val MSE: 0.9119\n",
      "  Val Systolic MSE: 0.8734\n",
      "  Val Diastolic MSE: 0.9504\n"
     ]
    },
    {
     "name": "stderr",
     "output_type": "stream",
     "text": [
      "Epoch 50/150 [Train]: 100%|██████████| 14/14 [00:01<00:00, 10.59it/s, batch_mse=1.9419]\n",
      "Epoch 50/150 [Valid]: 100%|██████████| 4/4 [00:00<00:00, 56.41it/s, batch_mse=0.5426]\n"
     ]
    },
    {
     "name": "stdout",
     "output_type": "stream",
     "text": [
      "Epoch 50/150:\n",
      "  Train MSE: 0.9175\n",
      "  Val MSE: 0.9109\n",
      "  Val Systolic MSE: 0.8751\n",
      "  Val Diastolic MSE: 0.9466\n"
     ]
    },
    {
     "name": "stderr",
     "output_type": "stream",
     "text": [
      "Epoch 51/150 [Train]: 100%|██████████| 14/14 [00:01<00:00, 10.68it/s, batch_mse=2.3988]\n",
      "Epoch 51/150 [Valid]: 100%|██████████| 4/4 [00:00<00:00, 54.93it/s, batch_mse=0.5485]\n"
     ]
    },
    {
     "name": "stdout",
     "output_type": "stream",
     "text": [
      "Epoch 51/150:\n",
      "  Train MSE: 0.9279\n",
      "  Val MSE: 0.9087\n",
      "  Val Systolic MSE: 0.8732\n",
      "  Val Diastolic MSE: 0.9442\n"
     ]
    },
    {
     "name": "stderr",
     "output_type": "stream",
     "text": [
      "Epoch 52/150 [Train]: 100%|██████████| 14/14 [00:01<00:00, 10.74it/s, batch_mse=0.6225]\n",
      "Epoch 52/150 [Valid]: 100%|██████████| 4/4 [00:00<00:00, 57.54it/s, batch_mse=0.5475]\n"
     ]
    },
    {
     "name": "stdout",
     "output_type": "stream",
     "text": [
      "Epoch 52/150:\n",
      "  Train MSE: 0.9183\n",
      "  Val MSE: 0.9050\n",
      "  Val Systolic MSE: 0.8665\n",
      "  Val Diastolic MSE: 0.9435\n"
     ]
    },
    {
     "name": "stderr",
     "output_type": "stream",
     "text": [
      "Epoch 53/150 [Train]: 100%|██████████| 14/14 [00:01<00:00, 10.60it/s, batch_mse=1.2638]\n",
      "Epoch 53/150 [Valid]: 100%|██████████| 4/4 [00:00<00:00, 57.44it/s, batch_mse=0.5528]\n"
     ]
    },
    {
     "name": "stdout",
     "output_type": "stream",
     "text": [
      "Epoch 53/150:\n",
      "  Train MSE: 0.9210\n",
      "  Val MSE: 0.9132\n",
      "  Val Systolic MSE: 0.8788\n",
      "  Val Diastolic MSE: 0.9476\n"
     ]
    },
    {
     "name": "stderr",
     "output_type": "stream",
     "text": [
      "Epoch 54/150 [Train]: 100%|██████████| 14/14 [00:01<00:00, 10.63it/s, batch_mse=0.6967]\n",
      "Epoch 54/150 [Valid]: 100%|██████████| 4/4 [00:00<00:00, 54.83it/s, batch_mse=0.5421]\n"
     ]
    },
    {
     "name": "stdout",
     "output_type": "stream",
     "text": [
      "Epoch 54/150:\n",
      "  Train MSE: 0.9191\n",
      "  Val MSE: 0.9068\n",
      "  Val Systolic MSE: 0.8694\n",
      "  Val Diastolic MSE: 0.9442\n"
     ]
    },
    {
     "name": "stderr",
     "output_type": "stream",
     "text": [
      "Epoch 55/150 [Train]: 100%|██████████| 14/14 [00:01<00:00,  9.70it/s, batch_mse=1.5325]\n",
      "Epoch 55/150 [Valid]: 100%|██████████| 4/4 [00:00<00:00, 32.59it/s, batch_mse=0.5443]\n"
     ]
    },
    {
     "name": "stdout",
     "output_type": "stream",
     "text": [
      "Epoch 55/150:\n",
      "  Train MSE: 0.9212\n",
      "  Val MSE: 0.9072\n",
      "  Val Systolic MSE: 0.8692\n",
      "  Val Diastolic MSE: 0.9452\n"
     ]
    },
    {
     "name": "stderr",
     "output_type": "stream",
     "text": [
      "Epoch 56/150 [Train]: 100%|██████████| 14/14 [00:01<00:00,  9.41it/s, batch_mse=0.4887]\n",
      "Epoch 56/150 [Valid]: 100%|██████████| 4/4 [00:00<00:00, 57.42it/s, batch_mse=0.5482]\n"
     ]
    },
    {
     "name": "stdout",
     "output_type": "stream",
     "text": [
      "Epoch 56/150:\n",
      "  Train MSE: 0.9279\n",
      "  Val MSE: 0.9019\n",
      "  Val Systolic MSE: 0.8647\n",
      "  Val Diastolic MSE: 0.9391\n"
     ]
    },
    {
     "name": "stderr",
     "output_type": "stream",
     "text": [
      "Epoch 57/150 [Train]: 100%|██████████| 14/14 [00:01<00:00, 10.54it/s, batch_mse=0.9712]\n",
      "Epoch 57/150 [Valid]: 100%|██████████| 4/4 [00:00<00:00, 56.33it/s, batch_mse=0.5455]\n"
     ]
    },
    {
     "name": "stdout",
     "output_type": "stream",
     "text": [
      "Epoch 57/150:\n",
      "  Train MSE: 0.9207\n",
      "  Val MSE: 0.9061\n",
      "  Val Systolic MSE: 0.8667\n",
      "  Val Diastolic MSE: 0.9454\n"
     ]
    },
    {
     "name": "stderr",
     "output_type": "stream",
     "text": [
      "Epoch 58/150 [Train]: 100%|██████████| 14/14 [00:01<00:00, 10.64it/s, batch_mse=0.6434]\n",
      "Epoch 58/150 [Valid]: 100%|██████████| 4/4 [00:00<00:00, 55.95it/s, batch_mse=0.5490]\n"
     ]
    },
    {
     "name": "stdout",
     "output_type": "stream",
     "text": [
      "Epoch 58/150:\n",
      "  Train MSE: 0.9248\n",
      "  Val MSE: 0.9061\n",
      "  Val Systolic MSE: 0.8722\n",
      "  Val Diastolic MSE: 0.9401\n"
     ]
    },
    {
     "name": "stderr",
     "output_type": "stream",
     "text": [
      "Epoch 59/150 [Train]: 100%|██████████| 14/14 [00:01<00:00, 10.62it/s, batch_mse=0.7128]\n",
      "Epoch 59/150 [Valid]: 100%|██████████| 4/4 [00:00<00:00, 58.87it/s, batch_mse=0.5477]\n"
     ]
    },
    {
     "name": "stdout",
     "output_type": "stream",
     "text": [
      "Epoch 59/150:\n",
      "  Train MSE: 0.9217\n",
      "  Val MSE: 0.9081\n",
      "  Val Systolic MSE: 0.8743\n",
      "  Val Diastolic MSE: 0.9420\n"
     ]
    },
    {
     "name": "stderr",
     "output_type": "stream",
     "text": [
      "Epoch 60/150 [Train]: 100%|██████████| 14/14 [00:01<00:00, 10.60it/s, batch_mse=0.8884]\n",
      "Epoch 60/150 [Valid]: 100%|██████████| 4/4 [00:00<00:00, 57.91it/s, batch_mse=0.5589]\n"
     ]
    },
    {
     "name": "stdout",
     "output_type": "stream",
     "text": [
      "Epoch 60/150:\n",
      "  Train MSE: 0.9225\n",
      "  Val MSE: 0.9083\n",
      "  Val Systolic MSE: 0.8731\n",
      "  Val Diastolic MSE: 0.9436\n"
     ]
    },
    {
     "name": "stderr",
     "output_type": "stream",
     "text": [
      "Epoch 61/150 [Train]: 100%|██████████| 14/14 [00:01<00:00, 10.62it/s, batch_mse=0.5948]\n",
      "Epoch 61/150 [Valid]: 100%|██████████| 4/4 [00:00<00:00, 56.05it/s, batch_mse=0.5549]\n"
     ]
    },
    {
     "name": "stdout",
     "output_type": "stream",
     "text": [
      "Epoch 61/150:\n",
      "  Train MSE: 0.9177\n",
      "  Val MSE: 0.9063\n",
      "  Val Systolic MSE: 0.8685\n",
      "  Val Diastolic MSE: 0.9442\n"
     ]
    },
    {
     "name": "stderr",
     "output_type": "stream",
     "text": [
      "Epoch 62/150 [Train]: 100%|██████████| 14/14 [00:01<00:00, 10.69it/s, batch_mse=1.6213]\n",
      "Epoch 62/150 [Valid]: 100%|██████████| 4/4 [00:00<00:00, 59.13it/s, batch_mse=0.5531]\n"
     ]
    },
    {
     "name": "stdout",
     "output_type": "stream",
     "text": [
      "Epoch 62/150:\n",
      "  Train MSE: 0.9178\n",
      "  Val MSE: 0.9060\n",
      "  Val Systolic MSE: 0.8751\n",
      "  Val Diastolic MSE: 0.9370\n"
     ]
    },
    {
     "name": "stderr",
     "output_type": "stream",
     "text": [
      "Epoch 63/150 [Train]: 100%|██████████| 14/14 [00:01<00:00, 10.59it/s, batch_mse=1.9183]\n",
      "Epoch 63/150 [Valid]: 100%|██████████| 4/4 [00:00<00:00, 41.58it/s, batch_mse=0.5448]\n"
     ]
    },
    {
     "name": "stdout",
     "output_type": "stream",
     "text": [
      "Epoch 63/150:\n",
      "  Train MSE: 0.9220\n",
      "  Val MSE: 0.9073\n",
      "  Val Systolic MSE: 0.8710\n",
      "  Val Diastolic MSE: 0.9437\n"
     ]
    },
    {
     "name": "stderr",
     "output_type": "stream",
     "text": [
      "Epoch 64/150 [Train]: 100%|██████████| 14/14 [00:01<00:00, 10.61it/s, batch_mse=0.4484]\n",
      "Epoch 64/150 [Valid]: 100%|██████████| 4/4 [00:00<00:00, 56.96it/s, batch_mse=0.5449]\n"
     ]
    },
    {
     "name": "stdout",
     "output_type": "stream",
     "text": [
      "Epoch 64/150:\n",
      "  Train MSE: 0.9138\n",
      "  Val MSE: 0.9078\n",
      "  Val Systolic MSE: 0.8699\n",
      "  Val Diastolic MSE: 0.9456\n"
     ]
    },
    {
     "name": "stderr",
     "output_type": "stream",
     "text": [
      "Epoch 65/150 [Train]: 100%|██████████| 14/14 [00:01<00:00, 10.61it/s, batch_mse=0.4026]\n",
      "Epoch 65/150 [Valid]: 100%|██████████| 4/4 [00:00<00:00, 57.37it/s, batch_mse=0.5416]\n"
     ]
    },
    {
     "name": "stdout",
     "output_type": "stream",
     "text": [
      "Epoch 65/150:\n",
      "  Train MSE: 0.9180\n",
      "  Val MSE: 0.9042\n",
      "  Val Systolic MSE: 0.8714\n",
      "  Val Diastolic MSE: 0.9370\n"
     ]
    },
    {
     "name": "stderr",
     "output_type": "stream",
     "text": [
      "Epoch 66/150 [Train]: 100%|██████████| 14/14 [00:01<00:00, 10.64it/s, batch_mse=0.4432]\n",
      "Epoch 66/150 [Valid]: 100%|██████████| 4/4 [00:00<00:00, 54.87it/s, batch_mse=0.5436]\n"
     ]
    },
    {
     "name": "stdout",
     "output_type": "stream",
     "text": [
      "Epoch 66/150:\n",
      "  Train MSE: 0.9171\n",
      "  Val MSE: 0.9081\n",
      "  Val Systolic MSE: 0.8743\n",
      "  Val Diastolic MSE: 0.9419\n"
     ]
    },
    {
     "name": "stderr",
     "output_type": "stream",
     "text": [
      "Epoch 67/150 [Train]: 100%|██████████| 14/14 [00:01<00:00, 10.67it/s, batch_mse=1.7921]\n",
      "Epoch 67/150 [Valid]: 100%|██████████| 4/4 [00:00<00:00, 56.51it/s, batch_mse=0.5519]\n"
     ]
    },
    {
     "name": "stdout",
     "output_type": "stream",
     "text": [
      "Epoch 67/150:\n",
      "  Train MSE: 0.9106\n",
      "  Val MSE: 0.9057\n",
      "  Val Systolic MSE: 0.8736\n",
      "  Val Diastolic MSE: 0.9378\n"
     ]
    },
    {
     "name": "stderr",
     "output_type": "stream",
     "text": [
      "Epoch 68/150 [Train]: 100%|██████████| 14/14 [00:01<00:00, 10.64it/s, batch_mse=2.2957]\n",
      "Epoch 68/150 [Valid]: 100%|██████████| 4/4 [00:00<00:00, 55.26it/s, batch_mse=0.5565]\n"
     ]
    },
    {
     "name": "stdout",
     "output_type": "stream",
     "text": [
      "Epoch 68/150:\n",
      "  Train MSE: 0.9257\n",
      "  Val MSE: 0.9078\n",
      "  Val Systolic MSE: 0.8716\n",
      "  Val Diastolic MSE: 0.9441\n"
     ]
    },
    {
     "name": "stderr",
     "output_type": "stream",
     "text": [
      "Epoch 69/150 [Train]: 100%|██████████| 14/14 [00:01<00:00, 10.63it/s, batch_mse=0.9172]\n",
      "Epoch 69/150 [Valid]: 100%|██████████| 4/4 [00:00<00:00, 56.98it/s, batch_mse=0.5499]\n"
     ]
    },
    {
     "name": "stdout",
     "output_type": "stream",
     "text": [
      "Epoch 69/150:\n",
      "  Train MSE: 0.9195\n",
      "  Val MSE: 0.9095\n",
      "  Val Systolic MSE: 0.8742\n",
      "  Val Diastolic MSE: 0.9449\n"
     ]
    },
    {
     "name": "stderr",
     "output_type": "stream",
     "text": [
      "Epoch 70/150 [Train]: 100%|██████████| 14/14 [00:01<00:00, 10.66it/s, batch_mse=0.4775]\n",
      "Epoch 70/150 [Valid]: 100%|██████████| 4/4 [00:00<00:00, 55.33it/s, batch_mse=0.5482]\n"
     ]
    },
    {
     "name": "stdout",
     "output_type": "stream",
     "text": [
      "Epoch 70/150:\n",
      "  Train MSE: 0.9123\n",
      "  Val MSE: 0.9048\n",
      "  Val Systolic MSE: 0.8677\n",
      "  Val Diastolic MSE: 0.9419\n"
     ]
    },
    {
     "name": "stderr",
     "output_type": "stream",
     "text": [
      "Epoch 71/150 [Train]: 100%|██████████| 14/14 [00:01<00:00, 10.65it/s, batch_mse=0.5050]\n",
      "Epoch 71/150 [Valid]: 100%|██████████| 4/4 [00:00<00:00, 58.60it/s, batch_mse=0.5461]\n"
     ]
    },
    {
     "name": "stdout",
     "output_type": "stream",
     "text": [
      "Epoch 71/150:\n",
      "  Train MSE: 0.9236\n",
      "  Val MSE: 0.9079\n",
      "  Val Systolic MSE: 0.8727\n",
      "  Val Diastolic MSE: 0.9431\n"
     ]
    },
    {
     "name": "stderr",
     "output_type": "stream",
     "text": [
      "Epoch 72/150 [Train]: 100%|██████████| 14/14 [00:01<00:00, 10.53it/s, batch_mse=0.5801]\n",
      "Epoch 72/150 [Valid]: 100%|██████████| 4/4 [00:00<00:00, 53.19it/s, batch_mse=0.5470]\n"
     ]
    },
    {
     "name": "stdout",
     "output_type": "stream",
     "text": [
      "Epoch 72/150:\n",
      "  Train MSE: 0.9168\n",
      "  Val MSE: 0.9084\n",
      "  Val Systolic MSE: 0.8745\n",
      "  Val Diastolic MSE: 0.9424\n"
     ]
    },
    {
     "name": "stderr",
     "output_type": "stream",
     "text": [
      "Epoch 73/150 [Train]: 100%|██████████| 14/14 [00:01<00:00, 10.34it/s, batch_mse=0.7978]\n",
      "Epoch 73/150 [Valid]: 100%|██████████| 4/4 [00:00<00:00, 49.52it/s, batch_mse=0.5485]\n"
     ]
    },
    {
     "name": "stdout",
     "output_type": "stream",
     "text": [
      "Epoch 73/150:\n",
      "  Train MSE: 0.9199\n",
      "  Val MSE: 0.9052\n",
      "  Val Systolic MSE: 0.8695\n",
      "  Val Diastolic MSE: 0.9408\n"
     ]
    },
    {
     "name": "stderr",
     "output_type": "stream",
     "text": [
      "Epoch 74/150 [Train]: 100%|██████████| 14/14 [00:01<00:00, 10.60it/s, batch_mse=1.6671]\n",
      "Epoch 74/150 [Valid]: 100%|██████████| 4/4 [00:00<00:00, 56.42it/s, batch_mse=0.5471]\n"
     ]
    },
    {
     "name": "stdout",
     "output_type": "stream",
     "text": [
      "Epoch 74/150:\n",
      "  Train MSE: 0.9235\n",
      "  Val MSE: 0.9074\n",
      "  Val Systolic MSE: 0.8744\n",
      "  Val Diastolic MSE: 0.9405\n"
     ]
    },
    {
     "name": "stderr",
     "output_type": "stream",
     "text": [
      "Epoch 75/150 [Train]: 100%|██████████| 14/14 [00:01<00:00, 10.62it/s, batch_mse=0.3878]\n",
      "Epoch 75/150 [Valid]: 100%|██████████| 4/4 [00:00<00:00, 56.58it/s, batch_mse=0.5474]\n"
     ]
    },
    {
     "name": "stdout",
     "output_type": "stream",
     "text": [
      "Epoch 75/150:\n",
      "  Train MSE: 0.9118\n",
      "  Val MSE: 0.9097\n",
      "  Val Systolic MSE: 0.8766\n",
      "  Val Diastolic MSE: 0.9428\n"
     ]
    },
    {
     "name": "stderr",
     "output_type": "stream",
     "text": [
      "Epoch 76/150 [Train]: 100%|██████████| 14/14 [00:01<00:00, 10.50it/s, batch_mse=0.7308]\n",
      "Epoch 76/150 [Valid]: 100%|██████████| 4/4 [00:00<00:00, 54.83it/s, batch_mse=0.5369]\n"
     ]
    },
    {
     "name": "stdout",
     "output_type": "stream",
     "text": [
      "Epoch 76/150:\n",
      "  Train MSE: 0.9225\n",
      "  Val MSE: 0.9062\n",
      "  Val Systolic MSE: 0.8694\n",
      "  Val Diastolic MSE: 0.9430\n"
     ]
    },
    {
     "name": "stderr",
     "output_type": "stream",
     "text": [
      "Epoch 77/150 [Train]: 100%|██████████| 14/14 [00:01<00:00, 10.63it/s, batch_mse=0.6679]\n",
      "Epoch 77/150 [Valid]: 100%|██████████| 4/4 [00:00<00:00, 57.12it/s, batch_mse=0.5544]\n"
     ]
    },
    {
     "name": "stdout",
     "output_type": "stream",
     "text": [
      "Epoch 77/150:\n",
      "  Train MSE: 0.9230\n",
      "  Val MSE: 0.9089\n",
      "  Val Systolic MSE: 0.8719\n",
      "  Val Diastolic MSE: 0.9460\n"
     ]
    },
    {
     "name": "stderr",
     "output_type": "stream",
     "text": [
      "Epoch 78/150 [Train]: 100%|██████████| 14/14 [00:01<00:00, 10.47it/s, batch_mse=0.2880]\n",
      "Epoch 78/150 [Valid]: 100%|██████████| 4/4 [00:00<00:00, 55.45it/s, batch_mse=0.5488]\n"
     ]
    },
    {
     "name": "stdout",
     "output_type": "stream",
     "text": [
      "Epoch 78/150:\n",
      "  Train MSE: 0.9190\n",
      "  Val MSE: 0.9095\n",
      "  Val Systolic MSE: 0.8750\n",
      "  Val Diastolic MSE: 0.9440\n"
     ]
    },
    {
     "name": "stderr",
     "output_type": "stream",
     "text": [
      "Epoch 79/150 [Train]: 100%|██████████| 14/14 [00:01<00:00, 10.63it/s, batch_mse=0.3025]\n",
      "Epoch 79/150 [Valid]: 100%|██████████| 4/4 [00:00<00:00, 54.62it/s, batch_mse=0.5421]\n"
     ]
    },
    {
     "name": "stdout",
     "output_type": "stream",
     "text": [
      "Epoch 79/150:\n",
      "  Train MSE: 0.9180\n",
      "  Val MSE: 0.9087\n",
      "  Val Systolic MSE: 0.8749\n",
      "  Val Diastolic MSE: 0.9425\n"
     ]
    },
    {
     "name": "stderr",
     "output_type": "stream",
     "text": [
      "Epoch 80/150 [Train]: 100%|██████████| 14/14 [00:01<00:00, 10.50it/s, batch_mse=1.6031]\n",
      "Epoch 80/150 [Valid]: 100%|██████████| 4/4 [00:00<00:00, 56.51it/s, batch_mse=0.5453]\n"
     ]
    },
    {
     "name": "stdout",
     "output_type": "stream",
     "text": [
      "Epoch 80/150:\n",
      "  Train MSE: 0.9134\n",
      "  Val MSE: 0.9087\n",
      "  Val Systolic MSE: 0.8743\n",
      "  Val Diastolic MSE: 0.9430\n"
     ]
    },
    {
     "name": "stderr",
     "output_type": "stream",
     "text": [
      "Epoch 81/150 [Train]: 100%|██████████| 14/14 [00:01<00:00, 10.52it/s, batch_mse=1.2429]\n",
      "Epoch 81/150 [Valid]: 100%|██████████| 4/4 [00:00<00:00, 53.06it/s, batch_mse=0.5441]\n"
     ]
    },
    {
     "name": "stdout",
     "output_type": "stream",
     "text": [
      "Epoch 81/150:\n",
      "  Train MSE: 0.9209\n",
      "  Val MSE: 0.9086\n",
      "  Val Systolic MSE: 0.8746\n",
      "  Val Diastolic MSE: 0.9426\n"
     ]
    },
    {
     "name": "stderr",
     "output_type": "stream",
     "text": [
      "Epoch 82/150 [Train]: 100%|██████████| 14/14 [00:01<00:00, 10.51it/s, batch_mse=0.9550]\n",
      "Epoch 82/150 [Valid]: 100%|██████████| 4/4 [00:00<00:00, 53.69it/s, batch_mse=0.5488]\n"
     ]
    },
    {
     "name": "stdout",
     "output_type": "stream",
     "text": [
      "Epoch 82/150:\n",
      "  Train MSE: 0.9349\n",
      "  Val MSE: 0.9106\n",
      "  Val Systolic MSE: 0.8741\n",
      "  Val Diastolic MSE: 0.9471\n"
     ]
    },
    {
     "name": "stderr",
     "output_type": "stream",
     "text": [
      "Epoch 83/150 [Train]: 100%|██████████| 14/14 [00:01<00:00, 10.42it/s, batch_mse=0.7369]\n",
      "Epoch 83/150 [Valid]: 100%|██████████| 4/4 [00:00<00:00, 55.37it/s, batch_mse=0.5473]\n"
     ]
    },
    {
     "name": "stdout",
     "output_type": "stream",
     "text": [
      "Epoch 83/150:\n",
      "  Train MSE: 0.9185\n",
      "  Val MSE: 0.9101\n",
      "  Val Systolic MSE: 0.8718\n",
      "  Val Diastolic MSE: 0.9484\n"
     ]
    },
    {
     "name": "stderr",
     "output_type": "stream",
     "text": [
      "Epoch 84/150 [Train]: 100%|██████████| 14/14 [00:01<00:00, 10.49it/s, batch_mse=1.3366]\n",
      "Epoch 84/150 [Valid]: 100%|██████████| 4/4 [00:00<00:00, 55.02it/s, batch_mse=0.5516]\n"
     ]
    },
    {
     "name": "stdout",
     "output_type": "stream",
     "text": [
      "Epoch 84/150:\n",
      "  Train MSE: 0.9242\n",
      "  Val MSE: 0.9094\n",
      "  Val Systolic MSE: 0.8718\n",
      "  Val Diastolic MSE: 0.9470\n"
     ]
    },
    {
     "name": "stderr",
     "output_type": "stream",
     "text": [
      "Epoch 85/150 [Train]: 100%|██████████| 14/14 [00:01<00:00, 10.48it/s, batch_mse=0.1525]\n",
      "Epoch 85/150 [Valid]: 100%|██████████| 4/4 [00:00<00:00, 56.59it/s, batch_mse=0.5511]\n"
     ]
    },
    {
     "name": "stdout",
     "output_type": "stream",
     "text": [
      "Epoch 85/150:\n",
      "  Train MSE: 0.9173\n",
      "  Val MSE: 0.9112\n",
      "  Val Systolic MSE: 0.8728\n",
      "  Val Diastolic MSE: 0.9496\n"
     ]
    },
    {
     "name": "stderr",
     "output_type": "stream",
     "text": [
      "Epoch 86/150 [Train]: 100%|██████████| 14/14 [00:01<00:00, 10.46it/s, batch_mse=0.8781]\n",
      "Epoch 86/150 [Valid]: 100%|██████████| 4/4 [00:00<00:00, 56.80it/s, batch_mse=0.5488]\n"
     ]
    },
    {
     "name": "stdout",
     "output_type": "stream",
     "text": [
      "Epoch 86/150:\n",
      "  Train MSE: 0.9154\n",
      "  Val MSE: 0.9092\n",
      "  Val Systolic MSE: 0.8734\n",
      "  Val Diastolic MSE: 0.9450\n"
     ]
    },
    {
     "name": "stderr",
     "output_type": "stream",
     "text": [
      "Epoch 87/150 [Train]: 100%|██████████| 14/14 [00:01<00:00, 10.48it/s, batch_mse=2.5602]\n",
      "Epoch 87/150 [Valid]: 100%|██████████| 4/4 [00:00<00:00, 56.39it/s, batch_mse=0.5504]\n"
     ]
    },
    {
     "name": "stdout",
     "output_type": "stream",
     "text": [
      "Epoch 87/150:\n",
      "  Train MSE: 0.9187\n",
      "  Val MSE: 0.9074\n",
      "  Val Systolic MSE: 0.8690\n",
      "  Val Diastolic MSE: 0.9459\n"
     ]
    },
    {
     "name": "stderr",
     "output_type": "stream",
     "text": [
      "Epoch 88/150 [Train]: 100%|██████████| 14/14 [00:01<00:00, 10.45it/s, batch_mse=0.9984]\n",
      "Epoch 88/150 [Valid]: 100%|██████████| 4/4 [00:00<00:00, 56.34it/s, batch_mse=0.5505]\n"
     ]
    },
    {
     "name": "stdout",
     "output_type": "stream",
     "text": [
      "Epoch 88/150:\n",
      "  Train MSE: 0.9180\n",
      "  Val MSE: 0.9051\n",
      "  Val Systolic MSE: 0.8727\n",
      "  Val Diastolic MSE: 0.9375\n"
     ]
    },
    {
     "name": "stderr",
     "output_type": "stream",
     "text": [
      "Epoch 89/150 [Train]: 100%|██████████| 14/14 [00:01<00:00, 10.46it/s, batch_mse=0.4566]\n",
      "Epoch 89/150 [Valid]: 100%|██████████| 4/4 [00:00<00:00, 56.45it/s, batch_mse=0.5482]\n"
     ]
    },
    {
     "name": "stdout",
     "output_type": "stream",
     "text": [
      "Epoch 89/150:\n",
      "  Train MSE: 0.9231\n",
      "  Val MSE: 0.9099\n",
      "  Val Systolic MSE: 0.8747\n",
      "  Val Diastolic MSE: 0.9451\n"
     ]
    },
    {
     "name": "stderr",
     "output_type": "stream",
     "text": [
      "Epoch 90/150 [Train]: 100%|██████████| 14/14 [00:01<00:00, 10.40it/s, batch_mse=2.3339]\n",
      "Epoch 90/150 [Valid]: 100%|██████████| 4/4 [00:00<00:00, 58.97it/s, batch_mse=0.5549]\n"
     ]
    },
    {
     "name": "stdout",
     "output_type": "stream",
     "text": [
      "Epoch 90/150:\n",
      "  Train MSE: 0.9241\n",
      "  Val MSE: 0.9115\n",
      "  Val Systolic MSE: 0.8793\n",
      "  Val Diastolic MSE: 0.9437\n"
     ]
    },
    {
     "name": "stderr",
     "output_type": "stream",
     "text": [
      "Epoch 91/150 [Train]: 100%|██████████| 14/14 [00:01<00:00, 10.49it/s, batch_mse=0.9044]\n",
      "Epoch 91/150 [Valid]: 100%|██████████| 4/4 [00:00<00:00, 57.04it/s, batch_mse=0.5422]\n"
     ]
    },
    {
     "name": "stdout",
     "output_type": "stream",
     "text": [
      "Epoch 91/150:\n",
      "  Train MSE: 0.9140\n",
      "  Val MSE: 0.9097\n",
      "  Val Systolic MSE: 0.8726\n",
      "  Val Diastolic MSE: 0.9469\n"
     ]
    },
    {
     "name": "stderr",
     "output_type": "stream",
     "text": [
      "Epoch 92/150 [Train]: 100%|██████████| 14/14 [00:01<00:00, 10.47it/s, batch_mse=0.2925]\n",
      "Epoch 92/150 [Valid]: 100%|██████████| 4/4 [00:00<00:00, 57.83it/s, batch_mse=0.5451]\n"
     ]
    },
    {
     "name": "stdout",
     "output_type": "stream",
     "text": [
      "Epoch 92/150:\n",
      "  Train MSE: 0.9189\n",
      "  Val MSE: 0.9090\n",
      "  Val Systolic MSE: 0.8707\n",
      "  Val Diastolic MSE: 0.9473\n"
     ]
    },
    {
     "name": "stderr",
     "output_type": "stream",
     "text": [
      "Epoch 93/150 [Train]: 100%|██████████| 14/14 [00:01<00:00, 10.47it/s, batch_mse=0.2508]\n",
      "Epoch 93/150 [Valid]: 100%|██████████| 4/4 [00:00<00:00, 58.14it/s, batch_mse=0.5516]\n"
     ]
    },
    {
     "name": "stdout",
     "output_type": "stream",
     "text": [
      "Epoch 93/150:\n",
      "  Train MSE: 0.9189\n",
      "  Val MSE: 0.9050\n",
      "  Val Systolic MSE: 0.8725\n",
      "  Val Diastolic MSE: 0.9374\n"
     ]
    },
    {
     "name": "stderr",
     "output_type": "stream",
     "text": [
      "Epoch 94/150 [Train]: 100%|██████████| 14/14 [00:01<00:00, 10.52it/s, batch_mse=0.7048]\n",
      "Epoch 94/150 [Valid]: 100%|██████████| 4/4 [00:00<00:00, 56.58it/s, batch_mse=0.5468]\n"
     ]
    },
    {
     "name": "stdout",
     "output_type": "stream",
     "text": [
      "Epoch 94/150:\n",
      "  Train MSE: 0.9239\n",
      "  Val MSE: 0.9053\n",
      "  Val Systolic MSE: 0.8689\n",
      "  Val Diastolic MSE: 0.9417\n"
     ]
    },
    {
     "name": "stderr",
     "output_type": "stream",
     "text": [
      "Epoch 95/150 [Train]: 100%|██████████| 14/14 [00:01<00:00, 10.60it/s, batch_mse=0.1921]\n",
      "Epoch 95/150 [Valid]: 100%|██████████| 4/4 [00:00<00:00, 56.92it/s, batch_mse=0.5426]\n"
     ]
    },
    {
     "name": "stdout",
     "output_type": "stream",
     "text": [
      "Epoch 95/150:\n",
      "  Train MSE: 0.9129\n",
      "  Val MSE: 0.9075\n",
      "  Val Systolic MSE: 0.8732\n",
      "  Val Diastolic MSE: 0.9418\n"
     ]
    },
    {
     "name": "stderr",
     "output_type": "stream",
     "text": [
      "Epoch 96/150 [Train]: 100%|██████████| 14/14 [00:01<00:00, 10.47it/s, batch_mse=0.7259]\n",
      "Epoch 96/150 [Valid]: 100%|██████████| 4/4 [00:00<00:00, 55.92it/s, batch_mse=0.5562]\n"
     ]
    },
    {
     "name": "stdout",
     "output_type": "stream",
     "text": [
      "Epoch 96/150:\n",
      "  Train MSE: 0.9168\n",
      "  Val MSE: 0.9064\n",
      "  Val Systolic MSE: 0.8685\n",
      "  Val Diastolic MSE: 0.9444\n"
     ]
    },
    {
     "name": "stderr",
     "output_type": "stream",
     "text": [
      "Epoch 97/150 [Train]: 100%|██████████| 14/14 [00:01<00:00, 10.42it/s, batch_mse=1.4942]\n",
      "Epoch 97/150 [Valid]: 100%|██████████| 4/4 [00:00<00:00, 57.40it/s, batch_mse=0.5510]\n"
     ]
    },
    {
     "name": "stdout",
     "output_type": "stream",
     "text": [
      "Epoch 97/150:\n",
      "  Train MSE: 0.9211\n",
      "  Val MSE: 0.9075\n",
      "  Val Systolic MSE: 0.8729\n",
      "  Val Diastolic MSE: 0.9421\n"
     ]
    },
    {
     "name": "stderr",
     "output_type": "stream",
     "text": [
      "Epoch 98/150 [Train]: 100%|██████████| 14/14 [00:01<00:00, 10.40it/s, batch_mse=1.6599]\n",
      "Epoch 98/150 [Valid]: 100%|██████████| 4/4 [00:00<00:00, 56.25it/s, batch_mse=0.5462]\n"
     ]
    },
    {
     "name": "stdout",
     "output_type": "stream",
     "text": [
      "Epoch 98/150:\n",
      "  Train MSE: 0.9200\n",
      "  Val MSE: 0.9072\n",
      "  Val Systolic MSE: 0.8714\n",
      "  Val Diastolic MSE: 0.9430\n"
     ]
    },
    {
     "name": "stderr",
     "output_type": "stream",
     "text": [
      "Epoch 99/150 [Train]: 100%|██████████| 14/14 [00:01<00:00, 10.52it/s, batch_mse=3.1623]\n",
      "Epoch 99/150 [Valid]: 100%|██████████| 4/4 [00:00<00:00, 55.57it/s, batch_mse=0.5489]\n"
     ]
    },
    {
     "name": "stdout",
     "output_type": "stream",
     "text": [
      "Epoch 99/150:\n",
      "  Train MSE: 0.9146\n",
      "  Val MSE: 0.9073\n",
      "  Val Systolic MSE: 0.8691\n",
      "  Val Diastolic MSE: 0.9455\n"
     ]
    },
    {
     "name": "stderr",
     "output_type": "stream",
     "text": [
      "Epoch 100/150 [Train]: 100%|██████████| 14/14 [00:01<00:00, 10.51it/s, batch_mse=0.8876]\n",
      "Epoch 100/150 [Valid]: 100%|██████████| 4/4 [00:00<00:00, 55.20it/s, batch_mse=0.5546]\n"
     ]
    },
    {
     "name": "stdout",
     "output_type": "stream",
     "text": [
      "Epoch 100/150:\n",
      "  Train MSE: 0.9212\n",
      "  Val MSE: 0.9082\n",
      "  Val Systolic MSE: 0.8723\n",
      "  Val Diastolic MSE: 0.9441\n"
     ]
    },
    {
     "name": "stderr",
     "output_type": "stream",
     "text": [
      "Epoch 101/150 [Train]: 100%|██████████| 14/14 [00:01<00:00, 10.48it/s, batch_mse=0.8350]\n",
      "Epoch 101/150 [Valid]: 100%|██████████| 4/4 [00:00<00:00, 56.34it/s, batch_mse=0.5438]\n"
     ]
    },
    {
     "name": "stdout",
     "output_type": "stream",
     "text": [
      "Epoch 101/150:\n",
      "  Train MSE: 0.9207\n",
      "  Val MSE: 0.9064\n",
      "  Val Systolic MSE: 0.8693\n",
      "  Val Diastolic MSE: 0.9434\n"
     ]
    },
    {
     "name": "stderr",
     "output_type": "stream",
     "text": [
      "Epoch 102/150 [Train]: 100%|██████████| 14/14 [00:01<00:00, 10.43it/s, batch_mse=1.4015]\n",
      "Epoch 102/150 [Valid]: 100%|██████████| 4/4 [00:00<00:00, 56.88it/s, batch_mse=0.5436]\n"
     ]
    },
    {
     "name": "stdout",
     "output_type": "stream",
     "text": [
      "Epoch 102/150:\n",
      "  Train MSE: 0.9199\n",
      "  Val MSE: 0.9082\n",
      "  Val Systolic MSE: 0.8739\n",
      "  Val Diastolic MSE: 0.9424\n"
     ]
    },
    {
     "name": "stderr",
     "output_type": "stream",
     "text": [
      "Epoch 103/150 [Train]: 100%|██████████| 14/14 [00:01<00:00, 10.51it/s, batch_mse=0.9099]\n",
      "Epoch 103/150 [Valid]: 100%|██████████| 4/4 [00:00<00:00, 55.54it/s, batch_mse=0.5534]\n"
     ]
    },
    {
     "name": "stdout",
     "output_type": "stream",
     "text": [
      "Epoch 103/150:\n",
      "  Train MSE: 0.9254\n",
      "  Val MSE: 0.9099\n",
      "  Val Systolic MSE: 0.8738\n",
      "  Val Diastolic MSE: 0.9460\n"
     ]
    },
    {
     "name": "stderr",
     "output_type": "stream",
     "text": [
      "Epoch 104/150 [Train]: 100%|██████████| 14/14 [00:01<00:00, 10.45it/s, batch_mse=0.5442]\n",
      "Epoch 104/150 [Valid]: 100%|██████████| 4/4 [00:00<00:00, 56.09it/s, batch_mse=0.5528]\n"
     ]
    },
    {
     "name": "stdout",
     "output_type": "stream",
     "text": [
      "Epoch 104/150:\n",
      "  Train MSE: 0.9180\n",
      "  Val MSE: 0.9062\n",
      "  Val Systolic MSE: 0.8669\n",
      "  Val Diastolic MSE: 0.9456\n"
     ]
    },
    {
     "name": "stderr",
     "output_type": "stream",
     "text": [
      "Epoch 105/150 [Train]: 100%|██████████| 14/14 [00:01<00:00, 10.46it/s, batch_mse=1.4005]\n",
      "Epoch 105/150 [Valid]: 100%|██████████| 4/4 [00:00<00:00, 59.41it/s, batch_mse=0.5415]\n"
     ]
    },
    {
     "name": "stdout",
     "output_type": "stream",
     "text": [
      "Epoch 105/150:\n",
      "  Train MSE: 0.9226\n",
      "  Val MSE: 0.9068\n",
      "  Val Systolic MSE: 0.8691\n",
      "  Val Diastolic MSE: 0.9445\n"
     ]
    },
    {
     "name": "stderr",
     "output_type": "stream",
     "text": [
      "Epoch 106/150 [Train]: 100%|██████████| 14/14 [00:01<00:00, 10.47it/s, batch_mse=1.2457]\n",
      "Epoch 106/150 [Valid]: 100%|██████████| 4/4 [00:00<00:00, 55.86it/s, batch_mse=0.5446]\n"
     ]
    },
    {
     "name": "stdout",
     "output_type": "stream",
     "text": [
      "Epoch 106/150:\n",
      "  Train MSE: 0.9174\n",
      "  Val MSE: 0.9111\n",
      "  Val Systolic MSE: 0.8754\n",
      "  Val Diastolic MSE: 0.9469\n"
     ]
    },
    {
     "name": "stderr",
     "output_type": "stream",
     "text": [
      "Epoch 107/150 [Train]: 100%|██████████| 14/14 [00:01<00:00, 10.43it/s, batch_mse=0.1643]\n",
      "Epoch 107/150 [Valid]: 100%|██████████| 4/4 [00:00<00:00, 58.09it/s, batch_mse=0.5379]\n"
     ]
    },
    {
     "name": "stdout",
     "output_type": "stream",
     "text": [
      "Epoch 107/150:\n",
      "  Train MSE: 0.9273\n",
      "  Val MSE: 0.9094\n",
      "  Val Systolic MSE: 0.8719\n",
      "  Val Diastolic MSE: 0.9469\n"
     ]
    },
    {
     "name": "stderr",
     "output_type": "stream",
     "text": [
      "Epoch 108/150 [Train]: 100%|██████████| 14/14 [00:01<00:00, 10.44it/s, batch_mse=0.1669]\n",
      "Epoch 108/150 [Valid]: 100%|██████████| 4/4 [00:00<00:00, 56.30it/s, batch_mse=0.5516]\n"
     ]
    },
    {
     "name": "stdout",
     "output_type": "stream",
     "text": [
      "Epoch 108/150:\n",
      "  Train MSE: 0.9140\n",
      "  Val MSE: 0.9099\n",
      "  Val Systolic MSE: 0.8751\n",
      "  Val Diastolic MSE: 0.9447\n"
     ]
    },
    {
     "name": "stderr",
     "output_type": "stream",
     "text": [
      "Epoch 109/150 [Train]: 100%|██████████| 14/14 [00:01<00:00, 10.52it/s, batch_mse=1.2306]\n",
      "Epoch 109/150 [Valid]: 100%|██████████| 4/4 [00:00<00:00, 56.55it/s, batch_mse=0.5431]\n"
     ]
    },
    {
     "name": "stdout",
     "output_type": "stream",
     "text": [
      "Epoch 109/150:\n",
      "  Train MSE: 0.9095\n",
      "  Val MSE: 0.9060\n",
      "  Val Systolic MSE: 0.8688\n",
      "  Val Diastolic MSE: 0.9432\n"
     ]
    },
    {
     "name": "stderr",
     "output_type": "stream",
     "text": [
      "Epoch 110/150 [Train]: 100%|██████████| 14/14 [00:01<00:00, 10.50it/s, batch_mse=0.6154]\n",
      "Epoch 110/150 [Valid]: 100%|██████████| 4/4 [00:00<00:00, 57.08it/s, batch_mse=0.5390]\n"
     ]
    },
    {
     "name": "stdout",
     "output_type": "stream",
     "text": [
      "Epoch 110/150:\n",
      "  Train MSE: 0.9154\n",
      "  Val MSE: 0.9080\n",
      "  Val Systolic MSE: 0.8733\n",
      "  Val Diastolic MSE: 0.9427\n"
     ]
    },
    {
     "name": "stderr",
     "output_type": "stream",
     "text": [
      "Epoch 111/150 [Train]: 100%|██████████| 14/14 [00:01<00:00, 10.46it/s, batch_mse=0.7619]\n",
      "Epoch 111/150 [Valid]: 100%|██████████| 4/4 [00:00<00:00, 56.19it/s, batch_mse=0.5431]\n"
     ]
    },
    {
     "name": "stdout",
     "output_type": "stream",
     "text": [
      "Epoch 111/150:\n",
      "  Train MSE: 0.9246\n",
      "  Val MSE: 0.9075\n",
      "  Val Systolic MSE: 0.8727\n",
      "  Val Diastolic MSE: 0.9423\n"
     ]
    },
    {
     "name": "stderr",
     "output_type": "stream",
     "text": [
      "Epoch 112/150 [Train]: 100%|██████████| 14/14 [00:01<00:00, 10.49it/s, batch_mse=1.4701]\n",
      "Epoch 112/150 [Valid]: 100%|██████████| 4/4 [00:00<00:00, 56.57it/s, batch_mse=0.5442]\n"
     ]
    },
    {
     "name": "stdout",
     "output_type": "stream",
     "text": [
      "Epoch 112/150:\n",
      "  Train MSE: 0.9221\n",
      "  Val MSE: 0.9057\n",
      "  Val Systolic MSE: 0.8735\n",
      "  Val Diastolic MSE: 0.9379\n"
     ]
    },
    {
     "name": "stderr",
     "output_type": "stream",
     "text": [
      "Epoch 113/150 [Train]: 100%|██████████| 14/14 [00:01<00:00, 10.44it/s, batch_mse=0.5240]\n",
      "Epoch 113/150 [Valid]: 100%|██████████| 4/4 [00:00<00:00, 57.96it/s, batch_mse=0.5441]\n"
     ]
    },
    {
     "name": "stdout",
     "output_type": "stream",
     "text": [
      "Epoch 113/150:\n",
      "  Train MSE: 0.9122\n",
      "  Val MSE: 0.9075\n",
      "  Val Systolic MSE: 0.8698\n",
      "  Val Diastolic MSE: 0.9453\n"
     ]
    },
    {
     "name": "stderr",
     "output_type": "stream",
     "text": [
      "Epoch 114/150 [Train]: 100%|██████████| 14/14 [00:01<00:00, 10.48it/s, batch_mse=1.5073]\n",
      "Epoch 114/150 [Valid]: 100%|██████████| 4/4 [00:00<00:00, 56.63it/s, batch_mse=0.5509]\n"
     ]
    },
    {
     "name": "stdout",
     "output_type": "stream",
     "text": [
      "Epoch 114/150:\n",
      "  Train MSE: 0.9098\n",
      "  Val MSE: 0.9069\n",
      "  Val Systolic MSE: 0.8674\n",
      "  Val Diastolic MSE: 0.9463\n"
     ]
    },
    {
     "name": "stderr",
     "output_type": "stream",
     "text": [
      "Epoch 115/150 [Train]: 100%|██████████| 14/14 [00:01<00:00, 10.48it/s, batch_mse=0.8124]\n",
      "Epoch 115/150 [Valid]: 100%|██████████| 4/4 [00:00<00:00, 57.64it/s, batch_mse=0.5543]\n"
     ]
    },
    {
     "name": "stdout",
     "output_type": "stream",
     "text": [
      "Epoch 115/150:\n",
      "  Train MSE: 0.9179\n",
      "  Val MSE: 0.9115\n",
      "  Val Systolic MSE: 0.8795\n",
      "  Val Diastolic MSE: 0.9435\n"
     ]
    },
    {
     "name": "stderr",
     "output_type": "stream",
     "text": [
      "Epoch 116/150 [Train]: 100%|██████████| 14/14 [00:01<00:00, 10.45it/s, batch_mse=1.0138]\n",
      "Epoch 116/150 [Valid]: 100%|██████████| 4/4 [00:00<00:00, 57.22it/s, batch_mse=0.5472]\n"
     ]
    },
    {
     "name": "stdout",
     "output_type": "stream",
     "text": [
      "Epoch 116/150:\n",
      "  Train MSE: 0.9231\n",
      "  Val MSE: 0.9069\n",
      "  Val Systolic MSE: 0.8712\n",
      "  Val Diastolic MSE: 0.9427\n"
     ]
    },
    {
     "name": "stderr",
     "output_type": "stream",
     "text": [
      "Epoch 117/150 [Train]: 100%|██████████| 14/14 [00:01<00:00, 10.46it/s, batch_mse=0.4629]\n",
      "Epoch 117/150 [Valid]: 100%|██████████| 4/4 [00:00<00:00, 55.03it/s, batch_mse=0.5441]\n"
     ]
    },
    {
     "name": "stdout",
     "output_type": "stream",
     "text": [
      "Epoch 117/150:\n",
      "  Train MSE: 0.9114\n",
      "  Val MSE: 0.9057\n",
      "  Val Systolic MSE: 0.8688\n",
      "  Val Diastolic MSE: 0.9427\n"
     ]
    },
    {
     "name": "stderr",
     "output_type": "stream",
     "text": [
      "Epoch 118/150 [Train]: 100%|██████████| 14/14 [00:01<00:00, 10.55it/s, batch_mse=0.5651]\n",
      "Epoch 118/150 [Valid]: 100%|██████████| 4/4 [00:00<00:00, 55.56it/s, batch_mse=0.5491]\n"
     ]
    },
    {
     "name": "stdout",
     "output_type": "stream",
     "text": [
      "Epoch 118/150:\n",
      "  Train MSE: 0.9335\n",
      "  Val MSE: 0.9074\n",
      "  Val Systolic MSE: 0.8691\n",
      "  Val Diastolic MSE: 0.9457\n"
     ]
    },
    {
     "name": "stderr",
     "output_type": "stream",
     "text": [
      "Epoch 119/150 [Train]: 100%|██████████| 14/14 [00:01<00:00, 10.47it/s, batch_mse=0.8963]\n",
      "Epoch 119/150 [Valid]: 100%|██████████| 4/4 [00:00<00:00, 56.43it/s, batch_mse=0.5524]\n"
     ]
    },
    {
     "name": "stdout",
     "output_type": "stream",
     "text": [
      "Epoch 119/150:\n",
      "  Train MSE: 0.9204\n",
      "  Val MSE: 0.9062\n",
      "  Val Systolic MSE: 0.8667\n",
      "  Val Diastolic MSE: 0.9457\n"
     ]
    },
    {
     "name": "stderr",
     "output_type": "stream",
     "text": [
      "Epoch 120/150 [Train]: 100%|██████████| 14/14 [00:01<00:00, 10.64it/s, batch_mse=0.5941]\n",
      "Epoch 120/150 [Valid]: 100%|██████████| 4/4 [00:00<00:00, 56.39it/s, batch_mse=0.5476]\n"
     ]
    },
    {
     "name": "stdout",
     "output_type": "stream",
     "text": [
      "Epoch 120/150:\n",
      "  Train MSE: 0.9134\n",
      "  Val MSE: 0.9090\n",
      "  Val Systolic MSE: 0.8746\n",
      "  Val Diastolic MSE: 0.9435\n"
     ]
    },
    {
     "name": "stderr",
     "output_type": "stream",
     "text": [
      "Epoch 121/150 [Train]: 100%|██████████| 14/14 [00:01<00:00, 10.62it/s, batch_mse=2.2963]\n",
      "Epoch 121/150 [Valid]: 100%|██████████| 4/4 [00:00<00:00, 56.13it/s, batch_mse=0.5472]\n"
     ]
    },
    {
     "name": "stdout",
     "output_type": "stream",
     "text": [
      "Epoch 121/150:\n",
      "  Train MSE: 0.9188\n",
      "  Val MSE: 0.9069\n",
      "  Val Systolic MSE: 0.8711\n",
      "  Val Diastolic MSE: 0.9427\n"
     ]
    },
    {
     "name": "stderr",
     "output_type": "stream",
     "text": [
      "Epoch 122/150 [Train]: 100%|██████████| 14/14 [00:01<00:00, 10.47it/s, batch_mse=0.5446]\n",
      "Epoch 122/150 [Valid]: 100%|██████████| 4/4 [00:00<00:00, 56.18it/s, batch_mse=0.5432]\n"
     ]
    },
    {
     "name": "stdout",
     "output_type": "stream",
     "text": [
      "Epoch 122/150:\n",
      "  Train MSE: 0.9212\n",
      "  Val MSE: 0.9075\n",
      "  Val Systolic MSE: 0.8737\n",
      "  Val Diastolic MSE: 0.9413\n"
     ]
    },
    {
     "name": "stderr",
     "output_type": "stream",
     "text": [
      "Epoch 123/150 [Train]: 100%|██████████| 14/14 [00:01<00:00, 10.46it/s, batch_mse=1.2349]\n",
      "Epoch 123/150 [Valid]: 100%|██████████| 4/4 [00:00<00:00, 57.36it/s, batch_mse=0.5497]\n"
     ]
    },
    {
     "name": "stdout",
     "output_type": "stream",
     "text": [
      "Epoch 123/150:\n",
      "  Train MSE: 0.9211\n",
      "  Val MSE: 0.9090\n",
      "  Val Systolic MSE: 0.8729\n",
      "  Val Diastolic MSE: 0.9451\n"
     ]
    },
    {
     "name": "stderr",
     "output_type": "stream",
     "text": [
      "Epoch 124/150 [Train]: 100%|██████████| 14/14 [00:01<00:00, 10.47it/s, batch_mse=0.9399]\n",
      "Epoch 124/150 [Valid]: 100%|██████████| 4/4 [00:00<00:00, 54.71it/s, batch_mse=0.5458]\n"
     ]
    },
    {
     "name": "stdout",
     "output_type": "stream",
     "text": [
      "Epoch 124/150:\n",
      "  Train MSE: 0.9339\n",
      "  Val MSE: 0.9042\n",
      "  Val Systolic MSE: 0.8684\n",
      "  Val Diastolic MSE: 0.9401\n"
     ]
    },
    {
     "name": "stderr",
     "output_type": "stream",
     "text": [
      "Epoch 125/150 [Train]: 100%|██████████| 14/14 [00:01<00:00, 10.45it/s, batch_mse=0.4928]\n",
      "Epoch 125/150 [Valid]: 100%|██████████| 4/4 [00:00<00:00, 55.27it/s, batch_mse=0.5463]\n"
     ]
    },
    {
     "name": "stdout",
     "output_type": "stream",
     "text": [
      "Epoch 125/150:\n",
      "  Train MSE: 0.9173\n",
      "  Val MSE: 0.9038\n",
      "  Val Systolic MSE: 0.8679\n",
      "  Val Diastolic MSE: 0.9396\n"
     ]
    },
    {
     "name": "stderr",
     "output_type": "stream",
     "text": [
      "Epoch 126/150 [Train]: 100%|██████████| 14/14 [00:01<00:00, 10.49it/s, batch_mse=0.1610]\n",
      "Epoch 126/150 [Valid]: 100%|██████████| 4/4 [00:00<00:00, 57.44it/s, batch_mse=0.5435]\n"
     ]
    },
    {
     "name": "stdout",
     "output_type": "stream",
     "text": [
      "Epoch 126/150:\n",
      "  Train MSE: 0.9231\n",
      "  Val MSE: 0.9059\n",
      "  Val Systolic MSE: 0.8686\n",
      "  Val Diastolic MSE: 0.9433\n"
     ]
    },
    {
     "name": "stderr",
     "output_type": "stream",
     "text": [
      "Epoch 127/150 [Train]: 100%|██████████| 14/14 [00:01<00:00, 10.50it/s, batch_mse=0.6884]\n",
      "Epoch 127/150 [Valid]: 100%|██████████| 4/4 [00:00<00:00, 56.67it/s, batch_mse=0.5483]\n"
     ]
    },
    {
     "name": "stdout",
     "output_type": "stream",
     "text": [
      "Epoch 127/150:\n",
      "  Train MSE: 0.9178\n",
      "  Val MSE: 0.9088\n",
      "  Val Systolic MSE: 0.8706\n",
      "  Val Diastolic MSE: 0.9471\n"
     ]
    },
    {
     "name": "stderr",
     "output_type": "stream",
     "text": [
      "Epoch 128/150 [Train]: 100%|██████████| 14/14 [00:01<00:00, 10.62it/s, batch_mse=0.3095]\n",
      "Epoch 128/150 [Valid]: 100%|██████████| 4/4 [00:00<00:00, 56.88it/s, batch_mse=0.5408]\n"
     ]
    },
    {
     "name": "stdout",
     "output_type": "stream",
     "text": [
      "Epoch 128/150:\n",
      "  Train MSE: 0.9167\n",
      "  Val MSE: 0.9086\n",
      "  Val Systolic MSE: 0.8748\n",
      "  Val Diastolic MSE: 0.9423\n"
     ]
    },
    {
     "name": "stderr",
     "output_type": "stream",
     "text": [
      "Epoch 129/150 [Train]: 100%|██████████| 14/14 [00:01<00:00, 10.52it/s, batch_mse=0.4998]\n",
      "Epoch 129/150 [Valid]: 100%|██████████| 4/4 [00:00<00:00, 55.78it/s, batch_mse=0.5478]\n"
     ]
    },
    {
     "name": "stdout",
     "output_type": "stream",
     "text": [
      "Epoch 129/150:\n",
      "  Train MSE: 0.9134\n",
      "  Val MSE: 0.9043\n",
      "  Val Systolic MSE: 0.8693\n",
      "  Val Diastolic MSE: 0.9394\n"
     ]
    },
    {
     "name": "stderr",
     "output_type": "stream",
     "text": [
      "Epoch 130/150 [Train]: 100%|██████████| 14/14 [00:01<00:00, 10.63it/s, batch_mse=0.7189]\n",
      "Epoch 130/150 [Valid]: 100%|██████████| 4/4 [00:00<00:00, 56.30it/s, batch_mse=0.5436]\n"
     ]
    },
    {
     "name": "stdout",
     "output_type": "stream",
     "text": [
      "Epoch 130/150:\n",
      "  Train MSE: 0.9156\n",
      "  Val MSE: 0.9064\n",
      "  Val Systolic MSE: 0.8715\n",
      "  Val Diastolic MSE: 0.9412\n"
     ]
    },
    {
     "name": "stderr",
     "output_type": "stream",
     "text": [
      "Epoch 131/150 [Train]: 100%|██████████| 14/14 [00:01<00:00, 10.45it/s, batch_mse=0.9853]\n",
      "Epoch 131/150 [Valid]: 100%|██████████| 4/4 [00:00<00:00, 56.93it/s, batch_mse=0.5361]\n"
     ]
    },
    {
     "name": "stdout",
     "output_type": "stream",
     "text": [
      "Epoch 131/150:\n",
      "  Train MSE: 0.9263\n",
      "  Val MSE: 0.9058\n",
      "  Val Systolic MSE: 0.8679\n",
      "  Val Diastolic MSE: 0.9437\n"
     ]
    },
    {
     "name": "stderr",
     "output_type": "stream",
     "text": [
      "Epoch 132/150 [Train]: 100%|██████████| 14/14 [00:01<00:00, 10.49it/s, batch_mse=0.5246]\n",
      "Epoch 132/150 [Valid]: 100%|██████████| 4/4 [00:00<00:00, 56.98it/s, batch_mse=0.5436]\n"
     ]
    },
    {
     "name": "stdout",
     "output_type": "stream",
     "text": [
      "Epoch 132/150:\n",
      "  Train MSE: 0.9251\n",
      "  Val MSE: 0.9063\n",
      "  Val Systolic MSE: 0.8716\n",
      "  Val Diastolic MSE: 0.9411\n"
     ]
    },
    {
     "name": "stderr",
     "output_type": "stream",
     "text": [
      "Epoch 133/150 [Train]: 100%|██████████| 14/14 [00:01<00:00, 10.48it/s, batch_mse=1.8309]\n",
      "Epoch 133/150 [Valid]: 100%|██████████| 4/4 [00:00<00:00, 51.60it/s, batch_mse=0.5394]\n"
     ]
    },
    {
     "name": "stdout",
     "output_type": "stream",
     "text": [
      "Epoch 133/150:\n",
      "  Train MSE: 0.9156\n",
      "  Val MSE: 0.9181\n",
      "  Val Systolic MSE: 0.8874\n",
      "  Val Diastolic MSE: 0.9488\n"
     ]
    },
    {
     "name": "stderr",
     "output_type": "stream",
     "text": [
      "Epoch 134/150 [Train]: 100%|██████████| 14/14 [00:01<00:00, 10.54it/s, batch_mse=0.8709]\n",
      "Epoch 134/150 [Valid]: 100%|██████████| 4/4 [00:00<00:00, 54.58it/s, batch_mse=0.5510]\n"
     ]
    },
    {
     "name": "stdout",
     "output_type": "stream",
     "text": [
      "Epoch 134/150:\n",
      "  Train MSE: 0.9174\n",
      "  Val MSE: 0.9123\n",
      "  Val Systolic MSE: 0.8800\n",
      "  Val Diastolic MSE: 0.9446\n"
     ]
    },
    {
     "name": "stderr",
     "output_type": "stream",
     "text": [
      "Epoch 135/150 [Train]: 100%|██████████| 14/14 [00:01<00:00, 10.51it/s, batch_mse=0.4279]\n",
      "Epoch 135/150 [Valid]: 100%|██████████| 4/4 [00:00<00:00, 55.67it/s, batch_mse=0.5436]\n"
     ]
    },
    {
     "name": "stdout",
     "output_type": "stream",
     "text": [
      "Epoch 135/150:\n",
      "  Train MSE: 0.9137\n",
      "  Val MSE: 0.9072\n",
      "  Val Systolic MSE: 0.8708\n",
      "  Val Diastolic MSE: 0.9437\n"
     ]
    },
    {
     "name": "stderr",
     "output_type": "stream",
     "text": [
      "Epoch 136/150 [Train]: 100%|██████████| 14/14 [00:01<00:00, 10.64it/s, batch_mse=1.3480]\n",
      "Epoch 136/150 [Valid]: 100%|██████████| 4/4 [00:00<00:00, 56.45it/s, batch_mse=0.5468]\n"
     ]
    },
    {
     "name": "stdout",
     "output_type": "stream",
     "text": [
      "Epoch 136/150:\n",
      "  Train MSE: 0.9216\n",
      "  Val MSE: 0.9045\n",
      "  Val Systolic MSE: 0.8677\n",
      "  Val Diastolic MSE: 0.9414\n"
     ]
    },
    {
     "name": "stderr",
     "output_type": "stream",
     "text": [
      "Epoch 137/150 [Train]: 100%|██████████| 14/14 [00:01<00:00, 10.62it/s, batch_mse=0.8275]\n",
      "Epoch 137/150 [Valid]: 100%|██████████| 4/4 [00:00<00:00, 57.00it/s, batch_mse=0.5472]\n"
     ]
    },
    {
     "name": "stdout",
     "output_type": "stream",
     "text": [
      "Epoch 137/150:\n",
      "  Train MSE: 0.9223\n",
      "  Val MSE: 0.9104\n",
      "  Val Systolic MSE: 0.8720\n",
      "  Val Diastolic MSE: 0.9488\n"
     ]
    },
    {
     "name": "stderr",
     "output_type": "stream",
     "text": [
      "Epoch 138/150 [Train]: 100%|██████████| 14/14 [00:01<00:00, 10.64it/s, batch_mse=0.5078]\n",
      "Epoch 138/150 [Valid]: 100%|██████████| 4/4 [00:00<00:00, 55.24it/s, batch_mse=0.5554]\n"
     ]
    },
    {
     "name": "stdout",
     "output_type": "stream",
     "text": [
      "Epoch 138/150:\n",
      "  Train MSE: 0.9261\n",
      "  Val MSE: 0.9054\n",
      "  Val Systolic MSE: 0.8728\n",
      "  Val Diastolic MSE: 0.9381\n"
     ]
    },
    {
     "name": "stderr",
     "output_type": "stream",
     "text": [
      "Epoch 139/150 [Train]: 100%|██████████| 14/14 [00:01<00:00, 10.42it/s, batch_mse=0.9098]\n",
      "Epoch 139/150 [Valid]: 100%|██████████| 4/4 [00:00<00:00, 57.13it/s, batch_mse=0.5533]\n"
     ]
    },
    {
     "name": "stdout",
     "output_type": "stream",
     "text": [
      "Epoch 139/150:\n",
      "  Train MSE: 0.9252\n",
      "  Val MSE: 0.9060\n",
      "  Val Systolic MSE: 0.8735\n",
      "  Val Diastolic MSE: 0.9386\n"
     ]
    },
    {
     "name": "stderr",
     "output_type": "stream",
     "text": [
      "Epoch 140/150 [Train]: 100%|██████████| 14/14 [00:01<00:00, 10.49it/s, batch_mse=1.1149]\n",
      "Epoch 140/150 [Valid]: 100%|██████████| 4/4 [00:00<00:00, 56.72it/s, batch_mse=0.5478]\n"
     ]
    },
    {
     "name": "stdout",
     "output_type": "stream",
     "text": [
      "Epoch 140/150:\n",
      "  Train MSE: 0.9205\n",
      "  Val MSE: 0.9097\n",
      "  Val Systolic MSE: 0.8750\n",
      "  Val Diastolic MSE: 0.9444\n"
     ]
    },
    {
     "name": "stderr",
     "output_type": "stream",
     "text": [
      "Epoch 141/150 [Train]: 100%|██████████| 14/14 [00:01<00:00, 10.49it/s, batch_mse=1.0699]\n",
      "Epoch 141/150 [Valid]: 100%|██████████| 4/4 [00:00<00:00, 55.57it/s, batch_mse=0.5531]\n"
     ]
    },
    {
     "name": "stdout",
     "output_type": "stream",
     "text": [
      "Epoch 141/150:\n",
      "  Train MSE: 0.9153\n",
      "  Val MSE: 0.9100\n",
      "  Val Systolic MSE: 0.8758\n",
      "  Val Diastolic MSE: 0.9442\n"
     ]
    },
    {
     "name": "stderr",
     "output_type": "stream",
     "text": [
      "Epoch 142/150 [Train]: 100%|██████████| 14/14 [00:01<00:00, 10.46it/s, batch_mse=1.9266]\n",
      "Epoch 142/150 [Valid]: 100%|██████████| 4/4 [00:00<00:00, 54.78it/s, batch_mse=0.5424]\n"
     ]
    },
    {
     "name": "stdout",
     "output_type": "stream",
     "text": [
      "Epoch 142/150:\n",
      "  Train MSE: 0.9095\n",
      "  Val MSE: 0.9084\n",
      "  Val Systolic MSE: 0.8701\n",
      "  Val Diastolic MSE: 0.9467\n"
     ]
    },
    {
     "name": "stderr",
     "output_type": "stream",
     "text": [
      "Epoch 143/150 [Train]: 100%|██████████| 14/14 [00:01<00:00, 10.45it/s, batch_mse=0.2507]\n",
      "Epoch 143/150 [Valid]: 100%|██████████| 4/4 [00:00<00:00, 55.37it/s, batch_mse=0.5403]\n"
     ]
    },
    {
     "name": "stdout",
     "output_type": "stream",
     "text": [
      "Epoch 143/150:\n",
      "  Train MSE: 0.9129\n",
      "  Val MSE: 0.9055\n",
      "  Val Systolic MSE: 0.8711\n",
      "  Val Diastolic MSE: 0.9399\n"
     ]
    },
    {
     "name": "stderr",
     "output_type": "stream",
     "text": [
      "Epoch 144/150 [Train]: 100%|██████████| 14/14 [00:01<00:00, 10.46it/s, batch_mse=0.7967]\n",
      "Epoch 144/150 [Valid]: 100%|██████████| 4/4 [00:00<00:00, 55.82it/s, batch_mse=0.5389]\n"
     ]
    },
    {
     "name": "stdout",
     "output_type": "stream",
     "text": [
      "Epoch 144/150:\n",
      "  Train MSE: 0.9210\n",
      "  Val MSE: 0.9053\n",
      "  Val Systolic MSE: 0.8714\n",
      "  Val Diastolic MSE: 0.9391\n"
     ]
    },
    {
     "name": "stderr",
     "output_type": "stream",
     "text": [
      "Epoch 145/150 [Train]: 100%|██████████| 14/14 [00:01<00:00, 10.22it/s, batch_mse=0.6726]\n",
      "Epoch 145/150 [Valid]: 100%|██████████| 4/4 [00:00<00:00, 27.83it/s, batch_mse=0.5485]\n"
     ]
    },
    {
     "name": "stdout",
     "output_type": "stream",
     "text": [
      "Epoch 145/150:\n",
      "  Train MSE: 0.9266\n",
      "  Val MSE: 0.9100\n",
      "  Val Systolic MSE: 0.8769\n",
      "  Val Diastolic MSE: 0.9430\n"
     ]
    },
    {
     "name": "stderr",
     "output_type": "stream",
     "text": [
      "Epoch 146/150 [Train]: 100%|██████████| 14/14 [00:01<00:00,  9.78it/s, batch_mse=0.5351]\n",
      "Epoch 146/150 [Valid]: 100%|██████████| 4/4 [00:00<00:00, 31.71it/s, batch_mse=0.5499]\n"
     ]
    },
    {
     "name": "stdout",
     "output_type": "stream",
     "text": [
      "Epoch 146/150:\n",
      "  Train MSE: 0.9161\n",
      "  Val MSE: 0.9114\n",
      "  Val Systolic MSE: 0.8727\n",
      "  Val Diastolic MSE: 0.9501\n"
     ]
    },
    {
     "name": "stderr",
     "output_type": "stream",
     "text": [
      "Epoch 147/150 [Train]: 100%|██████████| 14/14 [00:01<00:00,  9.83it/s, batch_mse=0.5275]\n",
      "Epoch 147/150 [Valid]: 100%|██████████| 4/4 [00:00<00:00, 56.28it/s, batch_mse=0.5542]\n"
     ]
    },
    {
     "name": "stdout",
     "output_type": "stream",
     "text": [
      "Epoch 147/150:\n",
      "  Train MSE: 0.9173\n",
      "  Val MSE: 0.9089\n",
      "  Val Systolic MSE: 0.8728\n",
      "  Val Diastolic MSE: 0.9451\n"
     ]
    },
    {
     "name": "stderr",
     "output_type": "stream",
     "text": [
      "Epoch 148/150 [Train]: 100%|██████████| 14/14 [00:01<00:00,  9.47it/s, batch_mse=0.7426]\n",
      "Epoch 148/150 [Valid]: 100%|██████████| 4/4 [00:00<00:00, 52.29it/s, batch_mse=0.5478]\n"
     ]
    },
    {
     "name": "stdout",
     "output_type": "stream",
     "text": [
      "Epoch 148/150:\n",
      "  Train MSE: 0.9192\n",
      "  Val MSE: 0.9090\n",
      "  Val Systolic MSE: 0.8731\n",
      "  Val Diastolic MSE: 0.9449\n"
     ]
    },
    {
     "name": "stderr",
     "output_type": "stream",
     "text": [
      "Epoch 149/150 [Train]: 100%|██████████| 14/14 [00:01<00:00,  9.91it/s, batch_mse=0.8317]\n",
      "Epoch 149/150 [Valid]: 100%|██████████| 4/4 [00:00<00:00, 54.60it/s, batch_mse=0.5412]\n"
     ]
    },
    {
     "name": "stdout",
     "output_type": "stream",
     "text": [
      "Epoch 149/150:\n",
      "  Train MSE: 0.9267\n",
      "  Val MSE: 0.9049\n",
      "  Val Systolic MSE: 0.8702\n",
      "  Val Diastolic MSE: 0.9397\n"
     ]
    },
    {
     "name": "stderr",
     "output_type": "stream",
     "text": [
      "Epoch 150/150 [Train]: 100%|██████████| 14/14 [00:01<00:00,  9.46it/s, batch_mse=0.1761]\n",
      "Epoch 150/150 [Valid]: 100%|██████████| 4/4 [00:00<00:00, 36.17it/s, batch_mse=0.5426]"
     ]
    },
    {
     "name": "stdout",
     "output_type": "stream",
     "text": [
      "Epoch 150/150:\n",
      "  Train MSE: 0.9164\n",
      "  Val MSE: 0.9071\n",
      "  Val Systolic MSE: 0.8726\n",
      "  Val Diastolic MSE: 0.9417\n"
     ]
    },
    {
     "name": "stderr",
     "output_type": "stream",
     "text": [
      "\n"
     ]
    }
   ],
   "source": [
    "train_losses = []\n",
    "val_losses = []\n",
    "\n",
    "num_epochs = 150\n",
    "best_val_loss = float('inf')\n",
    "best_epoch = 0\n",
    "\n",
    "for epoch in range(num_epochs):\n",
    "    # 학습 모드\n",
    "    model.train()\n",
    "    train_loss = 0.0\n",
    "    train_pbar = tqdm(train_loader, desc=f'Epoch {epoch+1}/{num_epochs} [Train]')\n",
    "\n",
    "    for x, y in train_pbar:\n",
    "        x = x.to(device)\n",
    "        y = y.to(device)\n",
    "\n",
    "        optimizer.zero_grad()\n",
    "        y_pred = model(x)\n",
    "        loss = criterion(y_pred, y)\n",
    "\n",
    "        loss.backward()\n",
    "        optimizer.step()\n",
    "\n",
    "        train_loss += loss.item() * x.size(0)\n",
    "        train_pbar.set_postfix({'batch_mse': f'{loss.item():.4f}'})\n",
    "\n",
    "    train_loss /= len(train_dataset)\n",
    "    train_losses.append(train_loss)\n",
    "\n",
    "    # 평가 모드\n",
    "    model.eval()\n",
    "    val_loss = 0.0\n",
    "    all_y_true = []\n",
    "    all_y_pred = []\n",
    "    val_pbar = tqdm(val_loader, desc=f'Epoch {epoch+1}/{num_epochs} [Valid]')\n",
    "\n",
    "    with torch.no_grad():\n",
    "        for x, y in val_pbar:\n",
    "            x = x.to(device)\n",
    "            y = y.to(device)\n",
    "\n",
    "            y_pred = model(x)\n",
    "            loss = criterion(y_pred, y)\n",
    "            val_loss += loss.item() * x.size(0)\n",
    "\n",
    "            # MSE 계산을 위해 예측과 실제 값 저장\n",
    "            all_y_true.append(y.cpu().numpy())\n",
    "            all_y_pred.append(y_pred.cpu().numpy())\n",
    "\n",
    "            val_pbar.set_postfix({'batch_mse': f'{loss.item():.4f}'})\n",
    "\n",
    "    val_loss /= len(val_dataset)\n",
    "    val_losses.append(val_loss)\n",
    "\n",
    "    # 수동으로 MSE 계산\n",
    "    y_true = np.concatenate(all_y_true)\n",
    "    y_pred = np.concatenate(all_y_pred)\n",
    "    systolic_mse = np.mean((y_true[:, 0] - y_pred[:, 0])**2)\n",
    "    diastolic_mse = np.mean((y_true[:, 1] - y_pred[:, 1])**2)\n",
    "    combined_mse = np.mean((y_true - y_pred)**2)  # 전체 MSE\n",
    "\n",
    "    scheduler.step(val_loss)\n",
    "\n",
    "    print(f'Epoch {epoch+1}/{num_epochs}:')\n",
    "    print(f'  Train MSE: {train_loss:.4f}')\n",
    "    print(f'  Val MSE: {val_loss:.4f}')\n",
    "    print(f'  Val Systolic MSE: {systolic_mse:.4f}')\n",
    "    print(f'  Val Diastolic MSE: {diastolic_mse:.4f}')\n",
    "\n",
    "    if val_loss < best_val_loss:\n",
    "        best_val_loss = val_loss\n",
    "        best_epoch = epoch\n",
    "        torch.save(model.state_dict(), 'best_model.pth')\n",
    "        print(f'  Model saved with best Val MSE: {val_loss:.4f}')"
   ]
  },
  {
   "cell_type": "code",
   "execution_count": 17,
   "id": "af4937b4",
   "metadata": {
    "ExecuteTime": {
     "end_time": "2025-04-01T09:45:01.164686Z",
     "start_time": "2025-04-01T09:45:01.164672Z"
    },
    "colab": {
     "base_uri": "https://localhost:8080/",
     "height": 407
    },
    "id": "af4937b4",
    "outputId": "fe2b0566-9483-40a4-ce9d-e48e36681af0"
   },
   "outputs": [
    {
     "data": {
      "image/png": "[encoded data removed]",
      "text/plain": [
       "<Figure size 1000x400 with 1 Axes>"
      ]
     },
     "metadata": {},
     "output_type": "display_data"
    }
   ],
   "source": [
    "import matplotlib.pyplot as plt\n",
    "\n",
    "plt.figure(figsize=(10, 4))\n",
    "plt.plot(range(1, num_epochs+1), train_losses, 'b-', label='Training Loss')\n",
    "plt.plot(range(1, num_epochs+1), val_losses, 'r-', label='Validation Loss')\n",
    "plt.axvline(x=best_epoch+1, color='g', linestyle='--', label=f'Best Epoch ({best_epoch+1})')\n",
    "plt.grid(True)\n",
    "plt.xlabel('Epochs')\n",
    "plt.ylabel('Loss')\n",
    "plt.title('Training and Validation Loss Curves')\n",
    "plt.legend()\n",
    "plt.tight_layout()\n",
    "plt.show()"
   ]
  },
  {
   "cell_type": "code",
   "execution_count": 18,
   "id": "gUKYgHkriIvf",
   "metadata": {
    "ExecuteTime": {
     "end_time": "2025-04-01T09:45:01.167488Z",
     "start_time": "2025-04-01T09:45:01.167470Z"
    },
    "colab": {
     "base_uri": "https://localhost:8080/",
     "height": 736
    },
    "id": "gUKYgHkriIvf",
    "outputId": "0f21788e-514b-48a3-9903-1fc7ea2a4799"
   },
   "outputs": [
    {
     "name": "stdout",
     "output_type": "stream",
     "text": [
      "MSE (Mean Squared Error): 251.4299\n",
      "MAE (Mean Absolute Error): 11.8742\n",
      "RMSE (Root Mean Squared Error): 15.8565\n"
     ]
    },
    {
     "data": {
      "image/png": "[encoded data removed]",
      "text/plain": [
       "<Figure size 1500x500 with 2 Axes>"
      ]
     },
     "metadata": {},
     "output_type": "display_data"
    },
    {
     "data": {
      "image/png": "[encoded data removed]",
      "text/plain": [
       "<Figure size 1500x500 with 2 Axes>"
      ]
     },
     "metadata": {},
     "output_type": "display_data"
    }
   ],
   "source": [
    "import torch\n",
    "import numpy as np\n",
    "import matplotlib.pyplot as plt\n",
    "from sklearn.metrics import mean_squared_error, mean_absolute_error\n",
    "\n",
    "def evaluate_model(model, test_loader, device, scaler_y):\n",
    "    model.eval()\n",
    "    y_true_list = []\n",
    "    y_pred_list = []\n",
    "\n",
    "    with torch.no_grad():\n",
    "        for x, y in test_loader:\n",
    "            x = x.to(device)\n",
    "            y = y.to(device)\n",
    "\n",
    "            y_pred = model(x)\n",
    "\n",
    "            y_true_list.append(y.cpu().numpy())\n",
    "            y_pred_list.append(y_pred.cpu().numpy())\n",
    "\n",
    "    y_true = scaler_y.inverse_transform(np.concatenate(y_true_list))\n",
    "    y_pred = scaler_y.inverse_transform(np.concatenate(y_pred_list))\n",
    "\n",
    "    mse = mean_squared_error(y_true, y_pred)\n",
    "    mae = mean_absolute_error(y_true, y_pred)\n",
    "    rmse = np.sqrt(mse)\n",
    "\n",
    "    print(f\"MSE (Mean Squared Error): {mse:.4f}\")\n",
    "    print(f\"MAE (Mean Absolute Error): {mae:.4f}\")\n",
    "    print(f\"RMSE (Root Mean Squared Error): {rmse:.4f}\")\n",
    "\n",
    "    return y_true, y_pred\n",
    "\n",
    "def visualize_predictions(y_true, y_pred, num_samples=10):\n",
    "    plt.figure(figsize=(15, 5))\n",
    "\n",
    "    plt.subplot(1, 2, 1)\n",
    "    plt.scatter(y_true[:num_samples, 0], y_pred[:num_samples, 0], color='blue', alpha=0.7)\n",
    "    plt.plot([y_true[:num_samples, 0].min(), y_true[:num_samples, 0].max()],\n",
    "             [y_true[:num_samples, 0].min(), y_true[:num_samples, 0].max()],\n",
    "             'r--', lw=2)\n",
    "    plt.title('Systolic Blood Pressure Prediction')\n",
    "    plt.xlabel('True Systolic BP')\n",
    "    plt.ylabel('Predicted Systolic BP')\n",
    "\n",
    "    plt.subplot(1, 2, 2)\n",
    "    plt.scatter(y_true[:num_samples, 1], y_pred[:num_samples, 1], color='green', alpha=0.7)\n",
    "    plt.plot([y_true[:num_samples, 1].min(), y_true[:num_samples, 1].max()],\n",
    "             [y_true[:num_samples, 1].min(), y_true[:num_samples, 1].max()],\n",
    "             'r--', lw=2)\n",
    "    plt.title('Diastolic Blood Pressure Prediction')\n",
    "    plt.xlabel('True Diastolic BP')\n",
    "    plt.ylabel('Predicted Diastolic BP')\n",
    "\n",
    "    plt.tight_layout()\n",
    "    plt.show()\n",
    "\n",
    "def visualize_error_distribution(y_true, y_pred):\n",
    "    errors_systolic = y_true[:, 0] - y_pred[:, 0]\n",
    "    errors_diastolic = y_true[:, 1] - y_pred[:, 1]\n",
    "\n",
    "    plt.figure(figsize=(15, 5))\n",
    "\n",
    "    plt.subplot(1, 2, 1)\n",
    "    plt.hist(errors_systolic, bins=30, color='blue', alpha=0.7)\n",
    "    plt.title('Error Distribution - Systolic BP')\n",
    "    plt.xlabel('Prediction Error')\n",
    "    plt.ylabel('Frequency')\n",
    "\n",
    "    plt.subplot(1, 2, 2)\n",
    "    plt.hist(errors_diastolic, bins=30, color='green', alpha=0.7)\n",
    "    plt.title('Error Distribution - Diastolic BP')\n",
    "    plt.xlabel('Prediction Error')\n",
    "    plt.ylabel('Frequency')\n",
    "\n",
    "    plt.tight_layout()\n",
    "    plt.show()\n",
    "\n",
    "y_true, y_pred = evaluate_model(model, test_loader, device, scaler_y)\n",
    "visualize_predictions(y_true, y_pred)\n",
    "visualize_error_distribution(y_true, y_pred)"
   ]
  },
  {
   "cell_type": "code",
   "execution_count": 19,
   "id": "ELtmAyzriZlD",
   "metadata": {
    "colab": {
     "base_uri": "https://localhost:8080/",
     "height": 627
    },
    "id": "ELtmAyzriZlD",
    "outputId": "49b87526-2da9-4cc9-db0a-53dc25d711cb"
   },
   "outputs": [
    {
     "name": "stdout",
     "output_type": "stream",
     "text": [
      "MSE (Mean Squared Error): 251.4299\n",
      "MAE (Mean Absolute Error): 11.8742\n",
      "RMSE (Root Mean Squared Error): 15.8565\n"
     ]
    },
    {
     "name": "stderr",
     "output_type": "stream",
     "text": [
      "/usr/local/lib/python3.11/dist-packages/IPython/core/pylabtools.py:151: UserWarning: Glyph 9989 (\\N{WHITE HEAVY CHECK MARK}) missing from font(s) DejaVu Sans.\n",
      "  fig.canvas.print_figure(bytes_io, **kw)\n"
     ]
    },
    {
     "data": {
      "image/png": "[encoded data removed]",
      "text/plain": [
       "<Figure size 1200x600 with 1 Axes>"
      ]
     },
     "metadata": {},
     "output_type": "display_data"
    }
   ],
   "source": [
    "import numpy as np\n",
    "import matplotlib.pyplot as plt\n",
    "from sklearn.metrics import mean_squared_error, mean_absolute_error\n",
    "\n",
    "def visualize_bp_predictions(y_true, y_pred, num_samples=100, title=\"PPG-BP Prediction Results\"):\n",
    "    \"\"\"\n",
    "    혈압 예측 결과를 시각화하는 함수\n",
    "\n",
    "    Parameters:\n",
    "    -----------\n",
    "    y_true : numpy.ndarray\n",
    "        실제 혈압 값 (SBP, DBP) 배열, 형태 [n_samples, 2]\n",
    "    y_pred : numpy.ndarray\n",
    "        예측된 혈압 값 (SBP, DBP) 배열, 형태 [n_samples, 2]\n",
    "    num_samples : int, optional (default=100)\n",
    "        시각화할 샘플의 수\n",
    "    title : str, optional\n",
    "        그래프 제목\n",
    "    \"\"\"\n",
    "    # 지정된 샘플 수만큼 데이터 선택\n",
    "    y_true_subset = y_true[:num_samples]\n",
    "    y_pred_subset = y_pred[:num_samples]\n",
    "\n",
    "    # RMSE와 MAE 계산\n",
    "    mse = mean_squared_error(y_true_subset, y_pred_subset)\n",
    "    rmse = np.sqrt(mse)\n",
    "    mae = mean_absolute_error(y_true_subset, y_pred_subset)\n",
    "\n",
    "    # 그래프 크기 설정\n",
    "    plt.figure(figsize=(12, 6))\n",
    "\n",
    "    # 샘플 인덱스 (x축)\n",
    "    x = np.arange(len(y_true_subset))\n",
    "\n",
    "    # 수축기 혈압(SBP)과 이완기 혈압(DBP) 플롯\n",
    "    plt.plot(x, y_true_subset[:, 0], 'b-', label='True SBP')\n",
    "    plt.plot(x, y_pred_subset[:, 0], 'orange', label='Predicted SBP')\n",
    "    plt.plot(x, y_true_subset[:, 1], 'g-', label='True DBP')\n",
    "    plt.plot(x, y_pred_subset[:, 1], 'r-', label='Predicted DBP')\n",
    "\n",
    "    # 그래프 설정\n",
    "    plt.xlabel('Sample Index')\n",
    "    plt.ylabel('Blood Pressure (mmHg)')\n",
    "    plt.title(f'{title} (First {num_samples} Samples)')\n",
    "    plt.legend(loc='upper right')\n",
    "    plt.grid(False)\n",
    "\n",
    "    # RMSE와 MAE 표시\n",
    "    plt.figtext(0.02, 0.98, f'✅ Evaluation Result | RMSE: {rmse:.2f} | MAE: {mae:.2f}',\n",
    "                fontsize=12, color='green', va='top')\n",
    "\n",
    "    plt.tight_layout()\n",
    "    plt.show()\n",
    "\n",
    "# 함수 사용 예시:\n",
    "\"\"\"\n",
    "# 평가 함수로부터 y_true와 y_pred를 받은 후:\n",
    "y_true, y_pred = evaluate_model(model, test_loader, device, scaler_y)\n",
    "\n",
    "# 시각화 함수 호출\n",
    "visualize_bp_predictions(y_true, y_pred, num_samples=100, title=\"PPG-Deformer Prediction\")\n",
    "\"\"\"\n",
    "\n",
    "def visualize_bp_scatter(y_true, y_pred, title=\"Blood Pressure Prediction Scatter Plot\"):\n",
    "    \"\"\"\n",
    "    혈압 예측 결과의 산점도를 그리는 함수\n",
    "\n",
    "    Parameters:\n",
    "    -----------\n",
    "    y_true : numpy.ndarray\n",
    "        실제 혈압 값 (SBP, DBP) 배열, 형태 [n_samples, 2]\n",
    "    y_pred : numpy.ndarray\n",
    "        예측된 혈압 값 (SBP, DBP) 배열, 형태 [n_samples, 2]\n",
    "    title : str, optional\n",
    "        그래프 제목\n",
    "    \"\"\"\n",
    "    # RMSE와 MAE 계산\n",
    "    mse = mean_squared_error(y_true, y_pred)\n",
    "    rmse = np.sqrt(mse)\n",
    "    mae = mean_absolute_error(y_true, y_pred)\n",
    "\n",
    "    # 그래프 설정\n",
    "    fig, (ax1, ax2) = plt.subplots(1, 2, figsize=(12, 5))\n",
    "\n",
    "    # 수축기 혈압(SBP) 산점도\n",
    "    ax1.scatter(y_true[:, 0], y_pred[:, 0], alpha=0.5, color='blue')\n",
    "\n",
    "    # 이상적인 예측선 (y=x)\n",
    "    min_sbp = min(np.min(y_true[:, 0]), np.min(y_pred[:, 0]))\n",
    "    max_sbp = max(np.max(y_true[:, 0]), np.max(y_pred[:, 0]))\n",
    "    ax1.plot([min_sbp, max_sbp], [min_sbp, max_sbp], 'r--')\n",
    "\n",
    "    ax1.set_title('Systolic BP Prediction')\n",
    "    ax1.set_xlabel('True SBP (mmHg)')\n",
    "    ax1.set_ylabel('Predicted SBP (mmHg)')\n",
    "    ax1.set_aspect('equal')\n",
    "    ax1.grid(True, alpha=0.3)\n",
    "\n",
    "    # 이완기 혈압(DBP) 산점도\n",
    "    ax2.scatter(y_true[:, 1], y_pred[:, 1], alpha=0.5, color='green')\n",
    "\n",
    "    # 이상적인 예측선 (y=x)\n",
    "    min_dbp = min(np.min(y_true[:, 1]), np.min(y_pred[:, 1]))\n",
    "    max_dbp = max(np.max(y_true[:, 1]), np.max(y_pred[:, 1]))\n",
    "    ax2.plot([min_dbp, max_dbp], [min_dbp, max_dbp], 'r--')\n",
    "\n",
    "    ax2.set_title('Diastolic BP Prediction')\n",
    "    ax2.set_xlabel('True DBP (mmHg)')\n",
    "    ax2.set_ylabel('Predicted DBP (mmHg)')\n",
    "    ax2.set_aspect('equal')\n",
    "    ax2.grid(True, alpha=0.3)\n",
    "\n",
    "    # RMSE와 MAE 표시\n",
    "    plt.figtext(0.02, 0.98, f'✅ Evaluation Results | RMSE: {rmse:.2f} | MAE: {mae:.2f}',\n",
    "                fontsize=12, color='green', va='top')\n",
    "\n",
    "    plt.suptitle(title)\n",
    "    plt.tight_layout()\n",
    "    plt.subplots_adjust(top=0.88)\n",
    "    plt.show()\n",
    "\n",
    "def visualize_error_distribution(y_true, y_pred, bins=30):\n",
    "    \"\"\"\n",
    "    예측 오차의 분포를 히스토그램으로 시각화하는 함수\n",
    "\n",
    "    Parameters:\n",
    "    -----------\n",
    "    y_true : numpy.ndarray\n",
    "        실제 혈압 값 (SBP, DBP) 배열, 형태 [n_samples, 2]\n",
    "    y_pred : numpy.ndarray\n",
    "        예측된 혈압 값 (SBP, DBP) 배열, 형태 [n_samples, 2]\n",
    "    bins : int, optional\n",
    "        히스토그램의 bin 수\n",
    "    \"\"\"\n",
    "    # 오차 계산\n",
    "    errors_sbp = y_true[:, 0] - y_pred[:, 0]\n",
    "    errors_dbp = y_true[:, 1] - y_pred[:, 1]\n",
    "\n",
    "    # 그래프 설정\n",
    "    fig, (ax1, ax2) = plt.subplots(1, 2, figsize=(12, 5))\n",
    "\n",
    "    # 수축기 혈압(SBP) 오차 히스토그램\n",
    "    ax1.hist(errors_sbp, bins=bins, alpha=0.7, color='blue')\n",
    "    ax1.axvline(x=0, color='r', linestyle='--')\n",
    "    ax1.set_title('SBP Error Distribution')\n",
    "    ax1.set_xlabel('Error (mmHg)')\n",
    "    ax1.set_ylabel('Frequency')\n",
    "\n",
    "    # 통계값 계산 및 표시\n",
    "    mean_error_sbp = np.mean(errors_sbp)\n",
    "    std_error_sbp = np.std(errors_sbp)\n",
    "    ax1.text(0.05, 0.95, f'Mean: {mean_error_sbp:.2f}\\nStd: {std_error_sbp:.2f}',\n",
    "             transform=ax1.transAxes, va='top')\n",
    "\n",
    "    # 이완기 혈압(DBP) 오차 히스토그램\n",
    "    ax2.hist(errors_dbp, bins=bins, alpha=0.7, color='green')\n",
    "    ax2.axvline(x=0, color='r', linestyle='--')\n",
    "    ax2.set_title('DBP Error Distribution')\n",
    "    ax2.set_xlabel('Error (mmHg)')\n",
    "    ax2.set_ylabel('Frequency')\n",
    "\n",
    "    # 통계값 계산 및 표시\n",
    "    mean_error_dbp = np.mean(errors_dbp)\n",
    "    std_error_dbp = np.std(errors_dbp)\n",
    "    ax2.text(0.05, 0.95, f'Mean: {mean_error_dbp:.2f}\\nStd: {std_error_dbp:.2f}',\n",
    "             transform=ax2.transAxes, va='top')\n",
    "\n",
    "    plt.suptitle('Prediction Error Distribution')\n",
    "    plt.tight_layout()\n",
    "    plt.show()\n",
    "\n",
    "# 복합 시각화 함수 (위 세 가지 시각화를 모두 수행)\n",
    "def comprehensive_bp_visualization(y_true, y_pred, num_samples=100):\n",
    "    \"\"\"\n",
    "    혈압 예측 결과에 대한 종합적인 시각화를 수행하는 함수\n",
    "\n",
    "    Parameters:\n",
    "    -----------\n",
    "    y_true : numpy.ndarray\n",
    "        실제 혈압 값 (SBP, DBP) 배열, 형태 [n_samples, 2]\n",
    "    y_pred : numpy.ndarray\n",
    "        예측된 혈압 값 (SBP, DBP) 배열, 형태 [n_samples, 2]\n",
    "    num_samples : int, optional\n",
    "        시계열 시각화에 사용할 샘플 수\n",
    "    \"\"\"\n",
    "    # 시계열 시각화\n",
    "    visualize_bp_predictions(y_true, y_pred, num_samples, title=\"PPG-BP Prediction\")\n",
    "\n",
    "    # 산점도 시각화\n",
    "    visualize_bp_scatter(y_true, y_pred)\n",
    "\n",
    "    # 오차 분포 시각화\n",
    "    visualize_error_distribution(y_true, y_pred)\n",
    "\n",
    "# 모델 평가 후 실제값(y_true)과 예측값(y_pred) 얻기\n",
    "y_true, y_pred = evaluate_model(model, test_loader, device, scaler_y)\n",
    "\n",
    "# 이미지에서 보이는 것과 같은 시각화 생성\n",
    "visualize_bp_predictions(y_true, y_pred, num_samples=100, title=\"PPG-Deformer Prediction\")\n",
    "\n",
    "# 혹은 모든 시각화를 한번에 수행하려면:\n",
    "# comprehensive_bp_visualization(y_true, y_pred)"
   ]
  },
  {
   "cell_type": "code",
   "execution_count": 19,
   "id": "oNHggMsjZAVo",
   "metadata": {
    "id": "oNHggMsjZAVo"
   },
   "outputs": [],
   "source": []
  }
 ],
 "metadata": {
  "accelerator": "GPU",
  "colab": {
   "gpuType": "T4",
   "provenance": []
  },
  "kernelspec": {
   "display_name": "Python 3 (ipykernel)",
   "language": "python",
   "name": "python3"
  },
  "language_info": {
   "codemirror_mode": {
    "name": "ipython",
    "version": 3
   },
   "file_extension": ".py",
   "mimetype": "text/x-python",
   "name": "python",
   "nbconvert_exporter": "python",
   "pygments_lexer": "ipython3",
   "version": "3.11.3"
  },
  "varInspector": {
   "cols": {
    "lenName": 16,
    "lenType": 16,
    "lenVar": 40
   },
   "kernels_config": {
    "python": {
     "delete_cmd_postfix": "",
     "delete_cmd_prefix": "del ",
     "library": "var_list.py",
     "varRefreshCmd": "print(var_dic_list())"
    },
    "r": {
     "delete_cmd_postfix": ") ",
     "delete_cmd_prefix": "rm(",
     "library": "var_list.r",
     "varRefreshCmd": "cat(var_dic_list()) "
    }
   },
   "types_to_exclude": [
    "module",
    "function",
    "builtin_function_or_method",
    "instance",
    "_Feature"
   ],
   "window_display": false
  }
 },
 "nbformat": 4,
 "nbformat_minor": 5
}
