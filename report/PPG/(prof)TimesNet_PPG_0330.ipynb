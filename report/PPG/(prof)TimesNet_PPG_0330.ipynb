{
  "nbformat": 4,
  "nbformat_minor": 0,
  "metadata": {
    "colab": {
      "provenance": [],
      "gpuType": "A100",
      "machine_shape": "hm"
    },
    "kernelspec": {
      "name": "python3",
      "display_name": "Python 3"
    },
    "language_info": {
      "name": "python"
    },
    "accelerator": "GPU"
  },
  "cells": [
    {
      "cell_type": "code",
      "source": [
        "import torch\n",
        "import torch.nn as nn\n",
        "import numpy as np\n",
        "\n",
        "class DataEmbedding(nn.Module):\n",
        "    def __init__(self, feats_in: int, feats_model: int, embedding_type: str = 'fixed', frequency: str = 'h', dropout: float = 0.1):\n",
        "        super(DataEmbedding, self).__init__()\n",
        "        self.value_embedding = nn.Linear(feats_in, feats_model)  # [1] -> [d_model]\n",
        "        self.position_embedding = PositionalEmbedding(feats_model=feats_model)\n",
        "        self.temporal_embedding = TemporalEmbedding(feats_model=feats_model, embedding_type=embedding_type, frequency=frequency)\n",
        "        self.dropout = nn.Dropout(p=dropout)\n",
        "\n",
        "    def forward(self, x: torch.Tensor, x_mark: torch.Tensor) -> torch.Tensor:\n",
        "        # x shape: [B, T, 1]\n",
        "        x_emb = self.value_embedding(x)  # [B, T, 1] -> [B, T, d_model]\n",
        "        x_emb = x_emb + self.position_embedding(x)  # [B, T, d_model]\n",
        "\n",
        "        if x_mark is not None:\n",
        "            x_emb += self.temporal_embedding(x_mark)\n",
        "\n",
        "        return self.dropout(x_emb)\n",
        "\n",
        "class TemporalEmbedding(nn.Module):\n",
        "    def __init__(self, feats_model: int, embedding_type: str = 'timeF', frequency: str = 'h'):\n",
        "        super(TemporalEmbedding, self).__init__()\n",
        "\n",
        "        # 시간 주기별 임베딩 차원\n",
        "        Embed = nn.Embedding\n",
        "\n",
        "        # 시간 주기 구성: 시간 단위에 따라 다르게 처리\n",
        "        if frequency == 'h':\n",
        "            self.minute_embed = None\n",
        "            self.hour_embed = Embed(24, feats_model)       # 0~23\n",
        "            self.weekday_embed = Embed(7, feats_model)     # 0~6\n",
        "            self.day_embed = Embed(32, feats_model)        # 1~31\n",
        "            self.month_embed = Embed(13, feats_model)      # 1~12\n",
        "        else:\n",
        "            raise NotImplementedError(f\"Unsupported frequency: {frequency}\")\n",
        "\n",
        "    def forward(self, x_mark: torch.Tensor) -> torch.Tensor:\n",
        "        \"\"\"\n",
        "        Parameters\n",
        "        ----------\n",
        "        x_mark : Tensor of shape [B, T, 4] → columns: hour, weekday, day, month\n",
        "\n",
        "        Returns\n",
        "        -------\n",
        "        Tensor of shape [B, T, d_model]\n",
        "        \"\"\"\n",
        "        hour_x = self.hour_embed(x_mark[:, :, 0].long())\n",
        "        weekday_x = self.weekday_embed(x_mark[:, :, 1].long())\n",
        "        day_x = self.day_embed(x_mark[:, :, 2].long())\n",
        "        month_x = self.month_embed(x_mark[:, :, 3].long())\n",
        "\n",
        "        return hour_x + weekday_x + day_x + month_x\n",
        "\n",
        "\n",
        "class PositionalEmbedding(nn.Module):\n",
        "    def __init__(self, feats_model: int, max_len: int = 5000):\n",
        "        super(PositionalEmbedding, self).__init__()\n",
        "\n",
        "        # 위치 인덱스 (0, 1, 2, ..., max_len - 1)\n",
        "        pe = torch.zeros(max_len, feats_model)\n",
        "        position = torch.arange(0, max_len, dtype=torch.float).unsqueeze(1)\n",
        "        div_term = torch.exp(torch.arange(0, feats_model, 2).float() * (-np.log(10000.0) / feats_model))\n",
        "\n",
        "        pe[:, 0::2] = torch.sin(position * div_term)\n",
        "        pe[:, 1::2] = torch.cos(position * div_term)\n",
        "\n",
        "        pe = pe.unsqueeze(0)  # [1, max_len, d_model]\n",
        "        self.register_buffer('pe', pe)\n",
        "\n",
        "    def forward(self, x: torch.Tensor) -> torch.Tensor:\n",
        "        \"\"\"\n",
        "        Parameters\n",
        "        ----------\n",
        "        x : Tensor of shape [batch_size, seq_len, feats_model]\n",
        "        \"\"\"\n",
        "        return self.pe[:, :x.size(1), :]\n",
        "\n",
        "\n",
        "class Inception_Block_V1(nn.Module):\n",
        "    def __init__(self, in_channels, out_channels, num_kernels=6, init_weight=True):\n",
        "        super(Inception_Block_V1, self).__init__()\n",
        "        self.in_channels = in_channels\n",
        "        self.out_channels = out_channels\n",
        "        self.num_kernels = num_kernels\n",
        "        kernels = []\n",
        "        for i in range(self.num_kernels):\n",
        "            kernels.append(nn.Conv2d(in_channels, out_channels, kernel_size=2 * i + 1, padding=i))\n",
        "        self.kernels = nn.ModuleList(kernels)\n",
        "        if init_weight:\n",
        "            self._initialize_weights()\n",
        "\n",
        "    def _initialize_weights(self):\n",
        "        for m in self.modules():\n",
        "            if isinstance(m, nn.Conv2d):\n",
        "                nn.init.kaiming_normal_(m.weight, mode='fan_out', nonlinearity='relu')\n",
        "                if m.bias is not None:\n",
        "                    nn.init.constant_(m.bias, 0)\n",
        "\n",
        "    def forward(self, x):\n",
        "        res_list = []\n",
        "        for i in range(self.num_kernels):\n",
        "            res_list.append(self.kernels[i](x))\n",
        "        res = torch.stack(res_list, dim=-1).mean(-1)\n",
        "        return res\n",
        "\n",
        "\n",
        "class Inception_Block_V2(nn.Module):\n",
        "    def __init__(self, in_channels, out_channels, num_kernels=6, init_weight=True):\n",
        "        super(Inception_Block_V2, self).__init__()\n",
        "        self.in_channels = in_channels\n",
        "        self.out_channels = out_channels\n",
        "        self.num_kernels = num_kernels\n",
        "        kernels = []\n",
        "        for i in range(self.num_kernels // 2):\n",
        "            kernels.append(nn.Conv2d(in_channels, out_channels, kernel_size=[1, 2 * i + 3], padding=[0, i + 1]))\n",
        "            kernels.append(nn.Conv2d(in_channels, out_channels, kernel_size=[2 * i + 3, 1], padding=[i + 1, 0]))\n",
        "        kernels.append(nn.Conv2d(in_channels, out_channels, kernel_size=1))\n",
        "        self.kernels = nn.ModuleList(kernels)\n",
        "        if init_weight:\n",
        "            self._initialize_weights()\n",
        "\n",
        "    def _initialize_weights(self):\n",
        "        for m in self.modules():\n",
        "            if isinstance(m, nn.Conv2d):\n",
        "                nn.init.kaiming_normal_(m.weight, mode='fan_out', nonlinearity='relu')\n",
        "                if m.bias is not None:\n",
        "                    nn.init.constant_(m.bias, 0)\n",
        "\n",
        "    def forward(self, x):\n",
        "        res_list = []\n",
        "        for i in range(self.num_kernels + 1):\n",
        "            res_list.append(self.kernels[i](x))\n",
        "        res = torch.stack(res_list, dim=-1).mean(-1)\n",
        "        return res\n",
        "\n"
      ],
      "metadata": {
        "id": "3Kr_oY14WmWc"
      },
      "execution_count": 12,
      "outputs": []
    },
    {
      "cell_type": "code",
      "source": [
        "import torch\n",
        "import torch.nn as nn\n",
        "import torch.nn.functional as F\n",
        "import torch.fft\n",
        "\n",
        "def FFT_for_Period(x, k=2):\n",
        "    # [B, T, C]\n",
        "    xf = torch.fft.rfft(x, dim=1)\n",
        "    # find period by amplitudes\n",
        "    frequency_list = abs(xf).mean(0).mean(-1)\n",
        "    frequency_list[0] = 0\n",
        "    _, top_list = torch.topk(frequency_list, k)\n",
        "    top_list = top_list.detach().cpu().numpy()\n",
        "    period = x.shape[1] // top_list\n",
        "    return period, abs(xf).mean(-1)[:, top_list]\n",
        "\n",
        "\n",
        "class TimesBlock(nn.Module):\n",
        "    def __init__(self, configs):\n",
        "        super(TimesBlock, self).__init__()\n",
        "        self.seq_len = configs.seq_len\n",
        "        self.pred_len = configs.pred_len\n",
        "        self.k = configs.top_k\n",
        "        # parameter-efficient design\n",
        "        self.conv = nn.Sequential(\n",
        "            Inception_Block_V1(configs.d_model, configs.d_ff,\n",
        "                               num_kernels=configs.num_kernels),\n",
        "            nn.GELU(),\n",
        "            Inception_Block_V1(configs.d_ff, configs.d_model,\n",
        "                               num_kernels=configs.num_kernels)\n",
        "        )\n",
        "\n",
        "    def forward(self, x):\n",
        "        B, T, N = x.size()\n",
        "        period_list, period_weight = FFT_for_Period(x, self.k)\n",
        "\n",
        "        res = []\n",
        "        for i in range(self.k):\n",
        "            period = period_list[i]\n",
        "            # padding\n",
        "            if (self.seq_len + self.pred_len) % period != 0:\n",
        "                length = (\n",
        "                                 ((self.seq_len + self.pred_len) // period) + 1) * period\n",
        "                padding = torch.zeros([x.shape[0], (length - (self.seq_len + self.pred_len)), x.shape[2]]).to(x.device)\n",
        "                out = torch.cat([x, padding], dim=1)\n",
        "            else:\n",
        "                length = (self.seq_len + self.pred_len)\n",
        "                out = x\n",
        "            # reshape\n",
        "            out = out.reshape(B, length // period, period,\n",
        "                              N).permute(0, 3, 1, 2).contiguous()\n",
        "            # 2D conv: from 1d Variation to 2d Variation\n",
        "            out = self.conv(out)\n",
        "            # reshape back\n",
        "            out = out.permute(0, 2, 3, 1).reshape(B, -1, N)\n",
        "            res.append(out[:, :(self.seq_len + self.pred_len), :])\n",
        "        res = torch.stack(res, dim=-1)\n",
        "        # adaptive aggregation\n",
        "        period_weight = F.softmax(period_weight, dim=1)\n",
        "        period_weight = period_weight.unsqueeze(\n",
        "            1).unsqueeze(1).repeat(1, T, N, 1)\n",
        "        res = torch.sum(res * period_weight, -1)\n",
        "        # residual connection\n",
        "        res = res + x\n",
        "        return res\n",
        "\n",
        "class Model(nn.Module):\n",
        "    def __init__(self, configs):\n",
        "        super(Model, self).__init__()\n",
        "        self.configs = configs\n",
        "        self.task_name = configs.task_name\n",
        "        self.seq_len = configs.seq_len\n",
        "        self.label_len = configs.label_len\n",
        "        self.pred_len = configs.pred_len\n",
        "        self.model = nn.ModuleList([TimesBlock(configs)\n",
        "                                  for _ in range(configs.e_layers)])\n",
        "        self.enc_embedding = DataEmbedding(configs.enc_in, configs.d_model, configs.embed, configs.freq,\n",
        "                                         configs.dropout)\n",
        "        self.layer = configs.e_layers\n",
        "        self.layer_norm = nn.LayerNorm(configs.d_model)\n",
        "\n",
        "        # Always initialize projection layer for regression\n",
        "        self.projection = nn.Linear(configs.d_model, configs.c_out, bias=True)\n",
        "\n",
        "    def forecast(self, x_enc, x_mark_enc, x_dec, x_mark_dec):\n",
        "        # Normalization\n",
        "        means = x_enc.mean(1, keepdim=True).detach()\n",
        "        x_enc = x_enc - means\n",
        "        stdev = torch.sqrt(torch.var(x_enc, dim=1, keepdim=True, unbiased=False) + 1e-5)\n",
        "        x_enc /= stdev\n",
        "\n",
        "        # Embedding\n",
        "        enc_out = self.enc_embedding(x_enc, x_mark_enc)  # [B,T,C]\n",
        "\n",
        "        # TimesNet blocks\n",
        "        for i in range(self.layer):\n",
        "            enc_out = self.layer_norm(self.model[i](enc_out))\n",
        "\n",
        "        # Projection\n",
        "        dec_out = self.projection(enc_out)\n",
        "\n",
        "        # De-normalization\n",
        "        dec_out = dec_out * stdev[:, 0, :].unsqueeze(1).repeat(1, self.seq_len, 1)\n",
        "        dec_out = dec_out + means[:, 0, :].unsqueeze(1).repeat(1, self.seq_len, 1)\n",
        "\n",
        "        return dec_out\n",
        "\n",
        "    def forward(self, x_enc, x_mark_enc, x_dec, x_mark_dec, mask=None):\n",
        "        dec_out = self.forecast(x_enc, x_mark_enc, x_dec, x_mark_dec)\n",
        "        return dec_out.mean(dim=1)  # Average over time dimension to get [B, 2]\n"
      ],
      "metadata": {
        "id": "bW4h4ZZyWbOl"
      },
      "execution_count": 13,
      "outputs": []
    },
    {
      "cell_type": "code",
      "source": [
        "import pandas as pd\n",
        "import numpy as np\n",
        "import torch\n",
        "import torch.nn as nn\n",
        "from torch.utils.data import DataLoader, TensorDataset\n",
        "from sklearn.model_selection import train_test_split\n",
        "from sklearn.preprocessing import StandardScaler\n",
        "from sklearn.metrics import mean_absolute_error\n",
        "from tqdm import tqdm\n",
        "\n",
        "# 0. Device 설정\n",
        "device = torch.device(\"cuda\" if torch.cuda.is_available() else \"cpu\")\n",
        "print(\"Using device:\", device)\n",
        "\n",
        "# TimesNet 설정 클래스\n",
        "def get_config(seq_len, pred_len, input_dim, output_dim):\n",
        "    class Config:\n",
        "        def __init__(self):\n",
        "            self.task_name = 'regression'\n",
        "            self.enc_in = input_dim\n",
        "            self.c_out = output_dim\n",
        "            self.d_model = 64\n",
        "            self.d_ff = 128\n",
        "            self.num_kernels = 6\n",
        "            self.top_k = 3\n",
        "            self.embed = 'timeF'\n",
        "            self.freq = 'h'\n",
        "            self.dropout = 0.1\n",
        "            self.seq_len = seq_len\n",
        "            self.label_len = 0\n",
        "            self.pred_len = pred_len\n",
        "            self.e_layers = 2\n",
        "    return Config()\n",
        "\n",
        "# 1. Load Data\n",
        "file_path = \"/content/combined_dataset-1.xlsx\"\n",
        "df = pd.read_excel(file_path)\n",
        "\n",
        "# 2. Feature & Target Selection\n",
        "X_raw = df[[str(i) for i in range(1, 2101)]].dropna()\n",
        "y_sbp = df.loc[X_raw.index, 'Systolic Blood Pressure(mmHg)']\n",
        "y_dbp = df.loc[X_raw.index, 'Diastolic Blood Pressure(mmHg)']\n",
        "\n",
        "# 3. Sliding Window Transform\n",
        "def sliding_window_transform(X_raw, y_sbp, y_dbp, window_size, stride):\n",
        "    X_win, y_win = [], []\n",
        "    for i in range(len(X_raw)):\n",
        "        row = X_raw.iloc[i].values\n",
        "        for start in range(0, 2100 - window_size + 1, stride):\n",
        "            end = start + window_size\n",
        "            X_win.append(row[start:end])\n",
        "            y_win.append([y_sbp.iloc[i], y_dbp.iloc[i]])\n",
        "    return np.array(X_win), np.array(y_win)\n",
        "\n",
        "window_size = 200\n",
        "stride = 200\n",
        "X_win, y_win = sliding_window_transform(X_raw, y_sbp, y_dbp, window_size, stride)\n",
        "\n",
        "# 4. Normalize\n",
        "scaler = StandardScaler()\n",
        "X_scaled = scaler.fit_transform(X_win.reshape(-1, window_size)).reshape(X_win.shape)\n",
        "\n",
        "# 5. Tensor Conversion (B, T, 1)\n",
        "X_tensor = torch.tensor(X_scaled, dtype=torch.float32).unsqueeze(-1)  # (batch, seq_len, 1)\n",
        "y_tensor = torch.tensor(y_win, dtype=torch.float32)  # (batch, 2)\n",
        "\n",
        "# 6. Train/Test Split\n",
        "X_train, X_test, y_train, y_test = train_test_split(\n",
        "    X_tensor, y_tensor, test_size=0.2, random_state=42\n",
        ")\n",
        "\n",
        "# 7. DataLoader 구성\n",
        "batch_size = 64\n",
        "train_dataset = TensorDataset(X_train, y_train)\n",
        "train_loader = DataLoader(train_dataset, batch_size=batch_size, shuffle=True)\n",
        "\n",
        "test_dataset = TensorDataset(X_test, y_test)\n",
        "test_loader = DataLoader(test_dataset, batch_size=batch_size, shuffle=False)\n",
        "\n",
        "# 8. 모델 설정\n",
        "config = get_config(seq_len=window_size, pred_len=0, input_dim=1, output_dim=2)\n",
        "\n",
        "# !!! 반드시 사전에 정의된 TimesNet 또는 Model 클래스를 불러오세요 !!!\n",
        "model = Model(config).to(device)\n",
        "optimizer = torch.optim.Adam(model.parameters(), lr=1e-3)\n",
        "loss_fn = nn.L1Loss()\n",
        "\n",
        "# 9. 훈련\n",
        "best_val_loss = float('inf')\n",
        "epochs = 500\n",
        "\n",
        "for epoch in range(epochs) :\n",
        "    model.train()\n",
        "    train_loss = 0\n",
        "    train_bar = tqdm(train_loader, desc=f'Epoch {epoch+1}/200 [TRAIN]', leave=False)\n",
        "\n",
        "    for xb, yb in train_bar:\n",
        "        xb, yb = xb.to(device), yb.to(device)\n",
        "        pred = model(xb, None, None, None)\n",
        "        loss = loss_fn(pred, yb)\n",
        "\n",
        "        optimizer.zero_grad()\n",
        "        loss.backward()\n",
        "        optimizer.step()\n",
        "\n",
        "        train_loss += loss.item()\n",
        "        train_bar.set_postfix({'loss': f'{loss.item():.4f}'})\n",
        "\n",
        "    avg_train_loss = train_loss / len(train_loader)\n",
        "\n",
        "    model.eval()\n",
        "    val_loss = 0\n",
        "    val_sbp_mae = 0\n",
        "    val_dbp_mae = 0\n",
        "\n",
        "    with torch.no_grad():\n",
        "        val_bar = tqdm(test_loader, desc=f'Epoch {epoch+1}/200 [VAL]', leave=False)\n",
        "        for xb, yb in val_bar:\n",
        "            xb, yb = xb.to(device), yb.to(device)\n",
        "            pred = model(xb, None, None, None)\n",
        "            loss = loss_fn(pred, yb)\n",
        "            val_loss += loss.item()\n",
        "\n",
        "            sbp_mae = mean_absolute_error(yb[:, 0].cpu().numpy(), pred[:, 0].cpu().numpy())\n",
        "            dbp_mae = mean_absolute_error(yb[:, 1].cpu().numpy(), pred[:, 1].cpu().numpy())\n",
        "            val_sbp_mae += sbp_mae\n",
        "            val_dbp_mae += dbp_mae\n",
        "\n",
        "    avg_val_loss = val_loss / len(test_loader)\n",
        "    avg_sbp_mae = val_sbp_mae / len(test_loader)\n",
        "    avg_dbp_mae = val_dbp_mae / len(test_loader)\n",
        "\n",
        "    print(f'\\nEpoch {epoch+1}/{epochs}')\n",
        "    print(f'Train Loss: {avg_train_loss:.4f} | Val Loss: {avg_val_loss:.4f}')\n",
        "    print(f'Val MAE - SBP: {avg_sbp_mae:.2f} mmHg | DBP: {avg_dbp_mae:.2f} mmHg')\n",
        "\n",
        "    if avg_val_loss < best_val_loss:\n",
        "        best_val_loss = avg_val_loss\n",
        "        torch.save(model.state_dict(), 'best_model.pth')\n",
        "        print(f'Best model saved (Val Loss: {best_val_loss:.4f})')\n",
        "\n",
        "print('\\nTraining completed!')\n",
        "\n",
        "# 10. 평가\n",
        "model.eval()\n",
        "with torch.no_grad():\n",
        "    X_test_gpu = X_test.to(device)\n",
        "    pred_test = model(X_test_gpu, None, None, None).mean(dim=1)\n",
        "    mae_sbp = mean_absolute_error(y_test[:, 0].numpy(), pred_test[:, 0].cpu().numpy())\n",
        "    mae_dbp = mean_absolute_error(y_test[:, 1].numpy(), pred_test[:, 1].cpu().numpy())\n",
        "\n",
        "print(f\"MAE (SBP): {mae_sbp:.2f} mmHg\")\n",
        "print(f\"MAE (DBP): {mae_dbp:.2f} mmHg\")\n"
      ],
      "metadata": {
        "colab": {
          "base_uri": "https://localhost:8080/",
          "height": 1000
        },
        "id": "ojf7cQkhWPH-",
        "outputId": "e1a5be89-55ff-4617-85cb-1de4c1b93d30"
      },
      "execution_count": 14,
      "outputs": [
        {
          "output_type": "stream",
          "name": "stdout",
          "text": [
            "Using device: cuda\n"
          ]
        },
        {
          "output_type": "stream",
          "name": "stderr",
          "text": []
        },
        {
          "output_type": "stream",
          "name": "stdout",
          "text": [
            "\n",
            "Epoch 1/500\n",
            "Train Loss: 98.2283 | Val Loss: 97.1022\n",
            "Val MAE - SBP: 125.28 mmHg | DBP: 68.92 mmHg\n",
            "Best model saved (Val Loss: 97.1022)\n"
          ]
        },
        {
          "output_type": "stream",
          "name": "stderr",
          "text": []
        },
        {
          "output_type": "stream",
          "name": "stdout",
          "text": [
            "\n",
            "Epoch 2/500\n",
            "Train Loss: 95.6518 | Val Loss: 93.8991\n",
            "Val MAE - SBP: 122.22 mmHg | DBP: 65.58 mmHg\n",
            "Best model saved (Val Loss: 93.8991)\n"
          ]
        },
        {
          "output_type": "stream",
          "name": "stderr",
          "text": []
        },
        {
          "output_type": "stream",
          "name": "stdout",
          "text": [
            "\n",
            "Epoch 3/500\n",
            "Train Loss: 92.0419 | Val Loss: 89.7685\n",
            "Val MAE - SBP: 117.94 mmHg | DBP: 61.60 mmHg\n",
            "Best model saved (Val Loss: 89.7685)\n"
          ]
        },
        {
          "output_type": "stream",
          "name": "stderr",
          "text": []
        },
        {
          "output_type": "stream",
          "name": "stdout",
          "text": [
            "\n",
            "Epoch 4/500\n",
            "Train Loss: 87.7118 | Val Loss: 85.2616\n",
            "Val MAE - SBP: 113.11 mmHg | DBP: 57.41 mmHg\n",
            "Best model saved (Val Loss: 85.2616)\n"
          ]
        },
        {
          "output_type": "stream",
          "name": "stderr",
          "text": []
        },
        {
          "output_type": "stream",
          "name": "stdout",
          "text": [
            "\n",
            "Epoch 5/500\n",
            "Train Loss: 83.1990 | Val Loss: 80.8711\n",
            "Val MAE - SBP: 107.99 mmHg | DBP: 53.76 mmHg\n",
            "Best model saved (Val Loss: 80.8711)\n"
          ]
        },
        {
          "output_type": "stream",
          "name": "stderr",
          "text": []
        },
        {
          "output_type": "stream",
          "name": "stdout",
          "text": [
            "\n",
            "Epoch 6/500\n",
            "Train Loss: 78.7005 | Val Loss: 76.8117\n",
            "Val MAE - SBP: 102.63 mmHg | DBP: 50.99 mmHg\n",
            "Best model saved (Val Loss: 76.8117)\n"
          ]
        },
        {
          "output_type": "stream",
          "name": "stderr",
          "text": []
        },
        {
          "output_type": "stream",
          "name": "stdout",
          "text": [
            "\n",
            "Epoch 7/500\n",
            "Train Loss: 75.1181 | Val Loss: 73.6841\n",
            "Val MAE - SBP: 98.07 mmHg | DBP: 49.30 mmHg\n",
            "Best model saved (Val Loss: 73.6841)\n"
          ]
        },
        {
          "output_type": "stream",
          "name": "stderr",
          "text": []
        },
        {
          "output_type": "stream",
          "name": "stdout",
          "text": [
            "\n",
            "Epoch 8/500\n",
            "Train Loss: 72.1679 | Val Loss: 71.1834\n",
            "Val MAE - SBP: 94.10 mmHg | DBP: 48.27 mmHg\n",
            "Best model saved (Val Loss: 71.1834)\n"
          ]
        },
        {
          "output_type": "stream",
          "name": "stderr",
          "text": []
        },
        {
          "output_type": "stream",
          "name": "stdout",
          "text": [
            "\n",
            "Epoch 9/500\n",
            "Train Loss: 69.7846 | Val Loss: 69.0828\n",
            "Val MAE - SBP: 90.88 mmHg | DBP: 47.28 mmHg\n",
            "Best model saved (Val Loss: 69.0828)\n"
          ]
        },
        {
          "output_type": "stream",
          "name": "stderr",
          "text": []
        },
        {
          "output_type": "stream",
          "name": "stdout",
          "text": [
            "\n",
            "Epoch 10/500\n",
            "Train Loss: 67.7024 | Val Loss: 67.1584\n",
            "Val MAE - SBP: 88.25 mmHg | DBP: 46.07 mmHg\n",
            "Best model saved (Val Loss: 67.1584)\n"
          ]
        },
        {
          "output_type": "stream",
          "name": "stderr",
          "text": []
        },
        {
          "output_type": "stream",
          "name": "stdout",
          "text": [
            "\n",
            "Epoch 11/500\n",
            "Train Loss: 66.3430 | Val Loss: 65.8184\n",
            "Val MAE - SBP: 86.03 mmHg | DBP: 45.61 mmHg\n",
            "Best model saved (Val Loss: 65.8184)\n"
          ]
        },
        {
          "output_type": "stream",
          "name": "stderr",
          "text": []
        },
        {
          "output_type": "stream",
          "name": "stdout",
          "text": [
            "\n",
            "Epoch 12/500\n",
            "Train Loss: 65.0239 | Val Loss: 64.3968\n",
            "Val MAE - SBP: 83.91 mmHg | DBP: 44.88 mmHg\n",
            "Best model saved (Val Loss: 64.3968)\n"
          ]
        },
        {
          "output_type": "stream",
          "name": "stderr",
          "text": []
        },
        {
          "output_type": "stream",
          "name": "stdout",
          "text": [
            "\n",
            "Epoch 13/500\n",
            "Train Loss: 63.8680 | Val Loss: 62.9901\n",
            "Val MAE - SBP: 82.08 mmHg | DBP: 43.90 mmHg\n",
            "Best model saved (Val Loss: 62.9901)\n"
          ]
        },
        {
          "output_type": "stream",
          "name": "stderr",
          "text": []
        },
        {
          "output_type": "stream",
          "name": "stdout",
          "text": [
            "\n",
            "Epoch 14/500\n",
            "Train Loss: 62.4798 | Val Loss: 62.5624\n",
            "Val MAE - SBP: 80.99 mmHg | DBP: 44.14 mmHg\n",
            "Best model saved (Val Loss: 62.5624)\n"
          ]
        },
        {
          "output_type": "stream",
          "name": "stderr",
          "text": []
        },
        {
          "output_type": "stream",
          "name": "stdout",
          "text": [
            "\n",
            "Epoch 15/500\n",
            "Train Loss: 61.5046 | Val Loss: 60.6402\n",
            "Val MAE - SBP: 78.66 mmHg | DBP: 42.62 mmHg\n",
            "Best model saved (Val Loss: 60.6402)\n"
          ]
        },
        {
          "output_type": "stream",
          "name": "stderr",
          "text": []
        },
        {
          "output_type": "stream",
          "name": "stdout",
          "text": [
            "\n",
            "Epoch 16/500\n",
            "Train Loss: 60.1712 | Val Loss: 59.9009\n",
            "Val MAE - SBP: 77.39 mmHg | DBP: 42.41 mmHg\n",
            "Best model saved (Val Loss: 59.9009)\n"
          ]
        },
        {
          "output_type": "stream",
          "name": "stderr",
          "text": []
        },
        {
          "output_type": "stream",
          "name": "stdout",
          "text": [
            "\n",
            "Epoch 17/500\n",
            "Train Loss: 59.5129 | Val Loss: 59.2877\n",
            "Val MAE - SBP: 76.71 mmHg | DBP: 41.86 mmHg\n",
            "Best model saved (Val Loss: 59.2877)\n"
          ]
        },
        {
          "output_type": "stream",
          "name": "stderr",
          "text": []
        },
        {
          "output_type": "stream",
          "name": "stdout",
          "text": [
            "\n",
            "Epoch 18/500\n",
            "Train Loss: 59.2706 | Val Loss: 59.2181\n",
            "Val MAE - SBP: 76.17 mmHg | DBP: 42.27 mmHg\n",
            "Best model saved (Val Loss: 59.2181)\n"
          ]
        },
        {
          "output_type": "stream",
          "name": "stderr",
          "text": []
        },
        {
          "output_type": "stream",
          "name": "stdout",
          "text": [
            "\n",
            "Epoch 19/500\n",
            "Train Loss: 58.5448 | Val Loss: 57.9287\n",
            "Val MAE - SBP: 74.51 mmHg | DBP: 41.34 mmHg\n",
            "Best model saved (Val Loss: 57.9287)\n"
          ]
        },
        {
          "output_type": "stream",
          "name": "stderr",
          "text": []
        },
        {
          "output_type": "stream",
          "name": "stdout",
          "text": [
            "\n",
            "Epoch 20/500\n",
            "Train Loss: 57.6339 | Val Loss: 57.5029\n",
            "Val MAE - SBP: 73.91 mmHg | DBP: 41.10 mmHg\n",
            "Best model saved (Val Loss: 57.5029)\n"
          ]
        },
        {
          "output_type": "stream",
          "name": "stderr",
          "text": []
        },
        {
          "output_type": "stream",
          "name": "stdout",
          "text": [
            "\n",
            "Epoch 21/500\n",
            "Train Loss: 57.4555 | Val Loss: 57.1715\n",
            "Val MAE - SBP: 73.29 mmHg | DBP: 41.06 mmHg\n",
            "Best model saved (Val Loss: 57.1715)\n"
          ]
        },
        {
          "output_type": "stream",
          "name": "stderr",
          "text": []
        },
        {
          "output_type": "stream",
          "name": "stdout",
          "text": [
            "\n",
            "Epoch 22/500\n",
            "Train Loss: 57.0520 | Val Loss: 57.3738\n",
            "Val MAE - SBP: 73.37 mmHg | DBP: 41.38 mmHg\n"
          ]
        },
        {
          "output_type": "stream",
          "name": "stderr",
          "text": []
        },
        {
          "output_type": "stream",
          "name": "stdout",
          "text": [
            "\n",
            "Epoch 23/500\n",
            "Train Loss: 57.1902 | Val Loss: 56.7357\n",
            "Val MAE - SBP: 72.62 mmHg | DBP: 40.85 mmHg\n",
            "Best model saved (Val Loss: 56.7357)\n"
          ]
        },
        {
          "output_type": "stream",
          "name": "stderr",
          "text": []
        },
        {
          "output_type": "stream",
          "name": "stdout",
          "text": [
            "\n",
            "Epoch 24/500\n",
            "Train Loss: 56.6257 | Val Loss: 55.9207\n",
            "Val MAE - SBP: 72.11 mmHg | DBP: 39.73 mmHg\n",
            "Best model saved (Val Loss: 55.9207)\n"
          ]
        },
        {
          "output_type": "stream",
          "name": "stderr",
          "text": []
        },
        {
          "output_type": "stream",
          "name": "stdout",
          "text": [
            "\n",
            "Epoch 25/500\n",
            "Train Loss: 56.6886 | Val Loss: 57.5941\n",
            "Val MAE - SBP: 74.10 mmHg | DBP: 41.09 mmHg\n"
          ]
        },
        {
          "output_type": "stream",
          "name": "stderr",
          "text": []
        },
        {
          "output_type": "stream",
          "name": "stdout",
          "text": [
            "\n",
            "Epoch 26/500\n",
            "Train Loss: 54.9373 | Val Loss: 54.3420\n",
            "Val MAE - SBP: 70.10 mmHg | DBP: 38.58 mmHg\n",
            "Best model saved (Val Loss: 54.3420)\n"
          ]
        },
        {
          "output_type": "stream",
          "name": "stderr",
          "text": []
        },
        {
          "output_type": "stream",
          "name": "stdout",
          "text": [
            "\n",
            "Epoch 27/500\n",
            "Train Loss: 53.8943 | Val Loss: 53.8253\n",
            "Val MAE - SBP: 69.41 mmHg | DBP: 38.24 mmHg\n",
            "Best model saved (Val Loss: 53.8253)\n"
          ]
        },
        {
          "output_type": "stream",
          "name": "stderr",
          "text": []
        },
        {
          "output_type": "stream",
          "name": "stdout",
          "text": [
            "\n",
            "Epoch 28/500\n",
            "Train Loss: 53.3419 | Val Loss: 53.1376\n",
            "Val MAE - SBP: 68.71 mmHg | DBP: 37.57 mmHg\n",
            "Best model saved (Val Loss: 53.1376)\n"
          ]
        },
        {
          "output_type": "stream",
          "name": "stderr",
          "text": []
        },
        {
          "output_type": "stream",
          "name": "stdout",
          "text": [
            "\n",
            "Epoch 29/500\n",
            "Train Loss: 52.5152 | Val Loss: 52.2918\n",
            "Val MAE - SBP: 67.25 mmHg | DBP: 37.33 mmHg\n",
            "Best model saved (Val Loss: 52.2918)\n"
          ]
        },
        {
          "output_type": "stream",
          "name": "stderr",
          "text": []
        },
        {
          "output_type": "stream",
          "name": "stdout",
          "text": [
            "\n",
            "Epoch 30/500\n",
            "Train Loss: 51.8855 | Val Loss: 51.0977\n",
            "Val MAE - SBP: 66.05 mmHg | DBP: 36.14 mmHg\n",
            "Best model saved (Val Loss: 51.0977)\n"
          ]
        },
        {
          "output_type": "stream",
          "name": "stderr",
          "text": []
        },
        {
          "output_type": "stream",
          "name": "stdout",
          "text": [
            "\n",
            "Epoch 31/500\n",
            "Train Loss: 50.5240 | Val Loss: 50.0494\n",
            "Val MAE - SBP: 64.88 mmHg | DBP: 35.22 mmHg\n",
            "Best model saved (Val Loss: 50.0494)\n"
          ]
        },
        {
          "output_type": "stream",
          "name": "stderr",
          "text": []
        },
        {
          "output_type": "stream",
          "name": "stdout",
          "text": [
            "\n",
            "Epoch 32/500\n",
            "Train Loss: 50.3120 | Val Loss: 49.5013\n",
            "Val MAE - SBP: 64.00 mmHg | DBP: 35.00 mmHg\n",
            "Best model saved (Val Loss: 49.5013)\n"
          ]
        },
        {
          "output_type": "stream",
          "name": "stderr",
          "text": []
        },
        {
          "output_type": "stream",
          "name": "stdout",
          "text": [
            "\n",
            "Epoch 33/500\n",
            "Train Loss: 48.9739 | Val Loss: 53.1870\n",
            "Val MAE - SBP: 67.22 mmHg | DBP: 39.16 mmHg\n"
          ]
        },
        {
          "output_type": "stream",
          "name": "stderr",
          "text": []
        },
        {
          "output_type": "stream",
          "name": "stdout",
          "text": [
            "\n",
            "Epoch 34/500\n",
            "Train Loss: 48.8354 | Val Loss: 46.2003\n",
            "Val MAE - SBP: 60.06 mmHg | DBP: 32.34 mmHg\n",
            "Best model saved (Val Loss: 46.2003)\n"
          ]
        },
        {
          "output_type": "stream",
          "name": "stderr",
          "text": []
        },
        {
          "output_type": "stream",
          "name": "stdout",
          "text": [
            "\n",
            "Epoch 35/500\n",
            "Train Loss: 46.6957 | Val Loss: 46.5022\n",
            "Val MAE - SBP: 60.42 mmHg | DBP: 32.58 mmHg\n"
          ]
        },
        {
          "output_type": "stream",
          "name": "stderr",
          "text": []
        },
        {
          "output_type": "stream",
          "name": "stdout",
          "text": [
            "\n",
            "Epoch 36/500\n",
            "Train Loss: 47.5779 | Val Loss: 44.8551\n",
            "Val MAE - SBP: 58.25 mmHg | DBP: 31.46 mmHg\n",
            "Best model saved (Val Loss: 44.8551)\n"
          ]
        },
        {
          "output_type": "stream",
          "name": "stderr",
          "text": []
        },
        {
          "output_type": "stream",
          "name": "stdout",
          "text": [
            "\n",
            "Epoch 37/500\n",
            "Train Loss: 45.7749 | Val Loss: 45.1002\n",
            "Val MAE - SBP: 58.65 mmHg | DBP: 31.55 mmHg\n"
          ]
        },
        {
          "output_type": "stream",
          "name": "stderr",
          "text": []
        },
        {
          "output_type": "stream",
          "name": "stdout",
          "text": [
            "\n",
            "Epoch 38/500\n",
            "Train Loss: 45.3581 | Val Loss: 44.9909\n",
            "Val MAE - SBP: 58.12 mmHg | DBP: 31.87 mmHg\n"
          ]
        },
        {
          "output_type": "stream",
          "name": "stderr",
          "text": []
        },
        {
          "output_type": "stream",
          "name": "stdout",
          "text": [
            "\n",
            "Epoch 39/500\n",
            "Train Loss: 44.3503 | Val Loss: 44.8011\n",
            "Val MAE - SBP: 58.09 mmHg | DBP: 31.51 mmHg\n",
            "Best model saved (Val Loss: 44.8011)\n"
          ]
        },
        {
          "output_type": "stream",
          "name": "stderr",
          "text": []
        },
        {
          "output_type": "stream",
          "name": "stdout",
          "text": [
            "\n",
            "Epoch 40/500\n",
            "Train Loss: 44.3953 | Val Loss: 43.2297\n",
            "Val MAE - SBP: 55.95 mmHg | DBP: 30.51 mmHg\n",
            "Best model saved (Val Loss: 43.2297)\n"
          ]
        },
        {
          "output_type": "stream",
          "name": "stderr",
          "text": []
        },
        {
          "output_type": "stream",
          "name": "stdout",
          "text": [
            "\n",
            "Epoch 41/500\n",
            "Train Loss: 43.3043 | Val Loss: 44.3046\n",
            "Val MAE - SBP: 56.87 mmHg | DBP: 31.74 mmHg\n"
          ]
        },
        {
          "output_type": "stream",
          "name": "stderr",
          "text": []
        },
        {
          "output_type": "stream",
          "name": "stdout",
          "text": [
            "\n",
            "Epoch 42/500\n",
            "Train Loss: 43.7998 | Val Loss: 41.9457\n",
            "Val MAE - SBP: 54.09 mmHg | DBP: 29.80 mmHg\n",
            "Best model saved (Val Loss: 41.9457)\n"
          ]
        },
        {
          "output_type": "stream",
          "name": "stderr",
          "text": []
        },
        {
          "output_type": "stream",
          "name": "stdout",
          "text": [
            "\n",
            "Epoch 43/500\n",
            "Train Loss: 42.1780 | Val Loss: 41.8948\n",
            "Val MAE - SBP: 54.16 mmHg | DBP: 29.63 mmHg\n",
            "Best model saved (Val Loss: 41.8948)\n"
          ]
        },
        {
          "output_type": "stream",
          "name": "stderr",
          "text": []
        },
        {
          "output_type": "stream",
          "name": "stdout",
          "text": [
            "\n",
            "Epoch 44/500\n",
            "Train Loss: 43.0084 | Val Loss: 41.4456\n",
            "Val MAE - SBP: 53.67 mmHg | DBP: 29.22 mmHg\n",
            "Best model saved (Val Loss: 41.4456)\n"
          ]
        },
        {
          "output_type": "stream",
          "name": "stderr",
          "text": []
        },
        {
          "output_type": "stream",
          "name": "stdout",
          "text": [
            "\n",
            "Epoch 45/500\n",
            "Train Loss: 43.3620 | Val Loss: 43.3161\n",
            "Val MAE - SBP: 55.60 mmHg | DBP: 31.03 mmHg\n"
          ]
        },
        {
          "output_type": "stream",
          "name": "stderr",
          "text": []
        },
        {
          "output_type": "stream",
          "name": "stdout",
          "text": [
            "\n",
            "Epoch 46/500\n",
            "Train Loss: 41.7416 | Val Loss: 41.5723\n",
            "Val MAE - SBP: 53.47 mmHg | DBP: 29.67 mmHg\n"
          ]
        },
        {
          "output_type": "stream",
          "name": "stderr",
          "text": []
        },
        {
          "output_type": "stream",
          "name": "stdout",
          "text": [
            "\n",
            "Epoch 47/500\n",
            "Train Loss: 40.9051 | Val Loss: 40.9939\n",
            "Val MAE - SBP: 52.84 mmHg | DBP: 29.14 mmHg\n",
            "Best model saved (Val Loss: 40.9939)\n"
          ]
        },
        {
          "output_type": "stream",
          "name": "stderr",
          "text": []
        },
        {
          "output_type": "stream",
          "name": "stdout",
          "text": [
            "\n",
            "Epoch 48/500\n",
            "Train Loss: 41.1236 | Val Loss: 40.8288\n",
            "Val MAE - SBP: 52.57 mmHg | DBP: 29.09 mmHg\n",
            "Best model saved (Val Loss: 40.8288)\n"
          ]
        },
        {
          "output_type": "stream",
          "name": "stderr",
          "text": []
        },
        {
          "output_type": "stream",
          "name": "stdout",
          "text": [
            "\n",
            "Epoch 49/500\n",
            "Train Loss: 40.0894 | Val Loss: 42.4511\n",
            "Val MAE - SBP: 54.51 mmHg | DBP: 30.40 mmHg\n"
          ]
        },
        {
          "output_type": "stream",
          "name": "stderr",
          "text": []
        },
        {
          "output_type": "stream",
          "name": "stdout",
          "text": [
            "\n",
            "Epoch 50/500\n",
            "Train Loss: 42.3165 | Val Loss: 43.1347\n",
            "Val MAE - SBP: 55.04 mmHg | DBP: 31.23 mmHg\n"
          ]
        },
        {
          "output_type": "stream",
          "name": "stderr",
          "text": []
        },
        {
          "output_type": "stream",
          "name": "stdout",
          "text": [
            "\n",
            "Epoch 51/500\n",
            "Train Loss: 40.1840 | Val Loss: 39.5716\n",
            "Val MAE - SBP: 50.87 mmHg | DBP: 28.28 mmHg\n",
            "Best model saved (Val Loss: 39.5716)\n"
          ]
        },
        {
          "output_type": "stream",
          "name": "stderr",
          "text": []
        },
        {
          "output_type": "stream",
          "name": "stdout",
          "text": [
            "\n",
            "Epoch 52/500\n",
            "Train Loss: 39.9497 | Val Loss: 40.9000\n",
            "Val MAE - SBP: 52.57 mmHg | DBP: 29.23 mmHg\n"
          ]
        },
        {
          "output_type": "stream",
          "name": "stderr",
          "text": []
        },
        {
          "output_type": "stream",
          "name": "stdout",
          "text": [
            "\n",
            "Epoch 53/500\n",
            "Train Loss: 39.4793 | Val Loss: 39.4789\n",
            "Val MAE - SBP: 50.64 mmHg | DBP: 28.32 mmHg\n",
            "Best model saved (Val Loss: 39.4789)\n"
          ]
        },
        {
          "output_type": "stream",
          "name": "stderr",
          "text": []
        },
        {
          "output_type": "stream",
          "name": "stdout",
          "text": [
            "\n",
            "Epoch 54/500\n",
            "Train Loss: 39.7797 | Val Loss: 40.4220\n",
            "Val MAE - SBP: 51.81 mmHg | DBP: 29.03 mmHg\n"
          ]
        },
        {
          "output_type": "stream",
          "name": "stderr",
          "text": []
        },
        {
          "output_type": "stream",
          "name": "stdout",
          "text": [
            "\n",
            "Epoch 55/500\n",
            "Train Loss: 39.0334 | Val Loss: 39.9609\n",
            "Val MAE - SBP: 51.18 mmHg | DBP: 28.74 mmHg\n"
          ]
        },
        {
          "output_type": "stream",
          "name": "stderr",
          "text": []
        },
        {
          "output_type": "stream",
          "name": "stdout",
          "text": [
            "\n",
            "Epoch 56/500\n",
            "Train Loss: 38.6482 | Val Loss: 39.4220\n",
            "Val MAE - SBP: 50.45 mmHg | DBP: 28.40 mmHg\n",
            "Best model saved (Val Loss: 39.4220)\n"
          ]
        },
        {
          "output_type": "stream",
          "name": "stderr",
          "text": []
        },
        {
          "output_type": "stream",
          "name": "stdout",
          "text": [
            "\n",
            "Epoch 57/500\n",
            "Train Loss: 39.1517 | Val Loss: 38.7712\n",
            "Val MAE - SBP: 49.86 mmHg | DBP: 27.68 mmHg\n",
            "Best model saved (Val Loss: 38.7712)\n"
          ]
        },
        {
          "output_type": "stream",
          "name": "stderr",
          "text": []
        },
        {
          "output_type": "stream",
          "name": "stdout",
          "text": [
            "\n",
            "Epoch 58/500\n",
            "Train Loss: 38.3200 | Val Loss: 38.4457\n",
            "Val MAE - SBP: 49.39 mmHg | DBP: 27.50 mmHg\n",
            "Best model saved (Val Loss: 38.4457)\n"
          ]
        },
        {
          "output_type": "stream",
          "name": "stderr",
          "text": []
        },
        {
          "output_type": "stream",
          "name": "stdout",
          "text": [
            "\n",
            "Epoch 59/500\n",
            "Train Loss: 38.3715 | Val Loss: 38.7347\n",
            "Val MAE - SBP: 49.60 mmHg | DBP: 27.87 mmHg\n"
          ]
        },
        {
          "output_type": "stream",
          "name": "stderr",
          "text": []
        },
        {
          "output_type": "stream",
          "name": "stdout",
          "text": [
            "\n",
            "Epoch 60/500\n",
            "Train Loss: 38.3132 | Val Loss: 41.1204\n",
            "Val MAE - SBP: 52.65 mmHg | DBP: 29.59 mmHg\n"
          ]
        },
        {
          "output_type": "stream",
          "name": "stderr",
          "text": []
        },
        {
          "output_type": "stream",
          "name": "stdout",
          "text": [
            "\n",
            "Epoch 61/500\n",
            "Train Loss: 38.5795 | Val Loss: 37.7130\n",
            "Val MAE - SBP: 48.53 mmHg | DBP: 26.90 mmHg\n",
            "Best model saved (Val Loss: 37.7130)\n"
          ]
        },
        {
          "output_type": "stream",
          "name": "stderr",
          "text": []
        },
        {
          "output_type": "stream",
          "name": "stdout",
          "text": [
            "\n",
            "Epoch 62/500\n",
            "Train Loss: 37.5279 | Val Loss: 41.9932\n",
            "Val MAE - SBP: 53.49 mmHg | DBP: 30.50 mmHg\n"
          ]
        },
        {
          "output_type": "stream",
          "name": "stderr",
          "text": []
        },
        {
          "output_type": "stream",
          "name": "stdout",
          "text": [
            "\n",
            "Epoch 63/500\n",
            "Train Loss: 38.2973 | Val Loss: 37.7375\n",
            "Val MAE - SBP: 48.45 mmHg | DBP: 27.03 mmHg\n"
          ]
        },
        {
          "output_type": "stream",
          "name": "stderr",
          "text": []
        },
        {
          "output_type": "stream",
          "name": "stdout",
          "text": [
            "\n",
            "Epoch 64/500\n",
            "Train Loss: 37.9402 | Val Loss: 38.4394\n",
            "Val MAE - SBP: 49.29 mmHg | DBP: 27.59 mmHg\n"
          ]
        },
        {
          "output_type": "stream",
          "name": "stderr",
          "text": []
        },
        {
          "output_type": "stream",
          "name": "stdout",
          "text": [
            "\n",
            "Epoch 65/500\n",
            "Train Loss: 37.8474 | Val Loss: 40.8647\n",
            "Val MAE - SBP: 52.45 mmHg | DBP: 29.28 mmHg\n"
          ]
        },
        {
          "output_type": "stream",
          "name": "stderr",
          "text": []
        },
        {
          "output_type": "stream",
          "name": "stdout",
          "text": [
            "\n",
            "Epoch 66/500\n",
            "Train Loss: 37.3614 | Val Loss: 38.3645\n",
            "Val MAE - SBP: 49.19 mmHg | DBP: 27.54 mmHg\n"
          ]
        },
        {
          "output_type": "stream",
          "name": "stderr",
          "text": []
        },
        {
          "output_type": "stream",
          "name": "stdout",
          "text": [
            "\n",
            "Epoch 67/500\n",
            "Train Loss: 37.8869 | Val Loss: 39.9697\n",
            "Val MAE - SBP: 51.21 mmHg | DBP: 28.73 mmHg\n"
          ]
        },
        {
          "output_type": "stream",
          "name": "stderr",
          "text": []
        },
        {
          "output_type": "stream",
          "name": "stdout",
          "text": [
            "\n",
            "Epoch 68/500\n",
            "Train Loss: 38.4185 | Val Loss: 38.7064\n",
            "Val MAE - SBP: 49.58 mmHg | DBP: 27.83 mmHg\n"
          ]
        },
        {
          "output_type": "stream",
          "name": "stderr",
          "text": []
        },
        {
          "output_type": "stream",
          "name": "stdout",
          "text": [
            "\n",
            "Epoch 69/500\n",
            "Train Loss: 37.2003 | Val Loss: 37.8116\n",
            "Val MAE - SBP: 48.41 mmHg | DBP: 27.21 mmHg\n"
          ]
        },
        {
          "output_type": "stream",
          "name": "stderr",
          "text": []
        },
        {
          "output_type": "stream",
          "name": "stdout",
          "text": [
            "\n",
            "Epoch 70/500\n",
            "Train Loss: 37.4958 | Val Loss: 37.8112\n",
            "Val MAE - SBP: 48.44 mmHg | DBP: 27.19 mmHg\n"
          ]
        },
        {
          "output_type": "stream",
          "name": "stderr",
          "text": []
        },
        {
          "output_type": "stream",
          "name": "stdout",
          "text": [
            "\n",
            "Epoch 71/500\n",
            "Train Loss: 36.7875 | Val Loss: 37.4338\n",
            "Val MAE - SBP: 48.15 mmHg | DBP: 26.72 mmHg\n",
            "Best model saved (Val Loss: 37.4338)\n"
          ]
        },
        {
          "output_type": "stream",
          "name": "stderr",
          "text": []
        },
        {
          "output_type": "stream",
          "name": "stdout",
          "text": [
            "\n",
            "Epoch 72/500\n",
            "Train Loss: 37.3232 | Val Loss: 37.1189\n",
            "Val MAE - SBP: 47.63 mmHg | DBP: 26.61 mmHg\n",
            "Best model saved (Val Loss: 37.1189)\n"
          ]
        },
        {
          "output_type": "stream",
          "name": "stderr",
          "text": []
        },
        {
          "output_type": "stream",
          "name": "stdout",
          "text": [
            "\n",
            "Epoch 73/500\n",
            "Train Loss: 37.1375 | Val Loss: 36.8254\n",
            "Val MAE - SBP: 47.28 mmHg | DBP: 26.38 mmHg\n",
            "Best model saved (Val Loss: 36.8254)\n"
          ]
        },
        {
          "output_type": "stream",
          "name": "stderr",
          "text": []
        },
        {
          "output_type": "stream",
          "name": "stdout",
          "text": [
            "\n",
            "Epoch 74/500\n",
            "Train Loss: 36.8900 | Val Loss: 37.1166\n",
            "Val MAE - SBP: 47.61 mmHg | DBP: 26.63 mmHg\n"
          ]
        },
        {
          "output_type": "stream",
          "name": "stderr",
          "text": []
        },
        {
          "output_type": "stream",
          "name": "stdout",
          "text": [
            "\n",
            "Epoch 75/500\n",
            "Train Loss: 36.7952 | Val Loss: 36.8995\n",
            "Val MAE - SBP: 47.41 mmHg | DBP: 26.39 mmHg\n"
          ]
        },
        {
          "output_type": "stream",
          "name": "stderr",
          "text": []
        },
        {
          "output_type": "stream",
          "name": "stdout",
          "text": [
            "\n",
            "Epoch 76/500\n",
            "Train Loss: 36.7643 | Val Loss: 38.4678\n",
            "Val MAE - SBP: 49.17 mmHg | DBP: 27.77 mmHg\n"
          ]
        },
        {
          "output_type": "stream",
          "name": "stderr",
          "text": []
        },
        {
          "output_type": "stream",
          "name": "stdout",
          "text": [
            "\n",
            "Epoch 77/500\n",
            "Train Loss: 36.8532 | Val Loss: 36.9859\n",
            "Val MAE - SBP: 47.42 mmHg | DBP: 26.55 mmHg\n"
          ]
        },
        {
          "output_type": "stream",
          "name": "stderr",
          "text": []
        },
        {
          "output_type": "stream",
          "name": "stdout",
          "text": [
            "\n",
            "Epoch 78/500\n",
            "Train Loss: 37.0451 | Val Loss: 38.4127\n",
            "Val MAE - SBP: 49.26 mmHg | DBP: 27.56 mmHg\n"
          ]
        },
        {
          "output_type": "stream",
          "name": "stderr",
          "text": []
        },
        {
          "output_type": "stream",
          "name": "stdout",
          "text": [
            "\n",
            "Epoch 79/500\n",
            "Train Loss: 37.2837 | Val Loss: 37.2690\n",
            "Val MAE - SBP: 47.77 mmHg | DBP: 26.77 mmHg\n"
          ]
        },
        {
          "output_type": "stream",
          "name": "stderr",
          "text": []
        },
        {
          "output_type": "stream",
          "name": "stdout",
          "text": [
            "\n",
            "Epoch 80/500\n",
            "Train Loss: 36.6925 | Val Loss: 36.7775\n",
            "Val MAE - SBP: 47.21 mmHg | DBP: 26.35 mmHg\n",
            "Best model saved (Val Loss: 36.7775)\n"
          ]
        },
        {
          "output_type": "stream",
          "name": "stderr",
          "text": []
        },
        {
          "output_type": "stream",
          "name": "stdout",
          "text": [
            "\n",
            "Epoch 81/500\n",
            "Train Loss: 36.0869 | Val Loss: 39.3572\n",
            "Val MAE - SBP: 50.36 mmHg | DBP: 28.35 mmHg\n"
          ]
        },
        {
          "output_type": "stream",
          "name": "stderr",
          "text": []
        },
        {
          "output_type": "stream",
          "name": "stdout",
          "text": [
            "\n",
            "Epoch 82/500\n",
            "Train Loss: 36.4579 | Val Loss: 37.2711\n",
            "Val MAE - SBP: 47.80 mmHg | DBP: 26.74 mmHg\n"
          ]
        },
        {
          "output_type": "stream",
          "name": "stderr",
          "text": []
        },
        {
          "output_type": "stream",
          "name": "stdout",
          "text": [
            "\n",
            "Epoch 83/500\n",
            "Train Loss: 36.8033 | Val Loss: 36.7453\n",
            "Val MAE - SBP: 47.10 mmHg | DBP: 26.39 mmHg\n",
            "Best model saved (Val Loss: 36.7453)\n"
          ]
        },
        {
          "output_type": "stream",
          "name": "stderr",
          "text": []
        },
        {
          "output_type": "stream",
          "name": "stdout",
          "text": [
            "\n",
            "Epoch 84/500\n",
            "Train Loss: 35.8377 | Val Loss: 36.8287\n",
            "Val MAE - SBP: 47.21 mmHg | DBP: 26.44 mmHg\n"
          ]
        },
        {
          "output_type": "stream",
          "name": "stderr",
          "text": []
        },
        {
          "output_type": "stream",
          "name": "stdout",
          "text": [
            "\n",
            "Epoch 85/500\n",
            "Train Loss: 36.6565 | Val Loss: 36.5407\n",
            "Val MAE - SBP: 46.92 mmHg | DBP: 26.16 mmHg\n",
            "Best model saved (Val Loss: 36.5407)\n"
          ]
        },
        {
          "output_type": "stream",
          "name": "stderr",
          "text": []
        },
        {
          "output_type": "stream",
          "name": "stdout",
          "text": [
            "\n",
            "Epoch 86/500\n",
            "Train Loss: 36.5370 | Val Loss: 37.4643\n",
            "Val MAE - SBP: 48.02 mmHg | DBP: 26.91 mmHg\n"
          ]
        },
        {
          "output_type": "stream",
          "name": "stderr",
          "text": []
        },
        {
          "output_type": "stream",
          "name": "stdout",
          "text": [
            "\n",
            "Epoch 87/500\n",
            "Train Loss: 36.0218 | Val Loss: 36.8215\n",
            "Val MAE - SBP: 47.19 mmHg | DBP: 26.45 mmHg\n"
          ]
        },
        {
          "output_type": "stream",
          "name": "stderr",
          "text": []
        },
        {
          "output_type": "stream",
          "name": "stdout",
          "text": [
            "\n",
            "Epoch 88/500\n",
            "Train Loss: 36.2016 | Val Loss: 36.5129\n",
            "Val MAE - SBP: 46.75 mmHg | DBP: 26.27 mmHg\n",
            "Best model saved (Val Loss: 36.5129)\n"
          ]
        },
        {
          "output_type": "stream",
          "name": "stderr",
          "text": []
        },
        {
          "output_type": "stream",
          "name": "stdout",
          "text": [
            "\n",
            "Epoch 89/500\n",
            "Train Loss: 36.2975 | Val Loss: 37.3358\n",
            "Val MAE - SBP: 47.90 mmHg | DBP: 26.78 mmHg\n"
          ]
        },
        {
          "output_type": "stream",
          "name": "stderr",
          "text": []
        },
        {
          "output_type": "stream",
          "name": "stdout",
          "text": [
            "\n",
            "Epoch 90/500\n",
            "Train Loss: 35.8180 | Val Loss: 36.7958\n",
            "Val MAE - SBP: 47.19 mmHg | DBP: 26.40 mmHg\n"
          ]
        },
        {
          "output_type": "stream",
          "name": "stderr",
          "text": []
        },
        {
          "output_type": "stream",
          "name": "stdout",
          "text": [
            "\n",
            "Epoch 91/500\n",
            "Train Loss: 36.4245 | Val Loss: 36.2939\n",
            "Val MAE - SBP: 46.52 mmHg | DBP: 26.07 mmHg\n",
            "Best model saved (Val Loss: 36.2939)\n"
          ]
        },
        {
          "output_type": "stream",
          "name": "stderr",
          "text": []
        },
        {
          "output_type": "stream",
          "name": "stdout",
          "text": [
            "\n",
            "Epoch 92/500\n",
            "Train Loss: 36.0132 | Val Loss: 36.5231\n",
            "Val MAE - SBP: 46.78 mmHg | DBP: 26.27 mmHg\n"
          ]
        },
        {
          "output_type": "stream",
          "name": "stderr",
          "text": []
        },
        {
          "output_type": "stream",
          "name": "stdout",
          "text": [
            "\n",
            "Epoch 93/500\n",
            "Train Loss: 35.7535 | Val Loss: 36.2435\n",
            "Val MAE - SBP: 46.48 mmHg | DBP: 26.01 mmHg\n",
            "Best model saved (Val Loss: 36.2435)\n"
          ]
        },
        {
          "output_type": "stream",
          "name": "stderr",
          "text": []
        },
        {
          "output_type": "stream",
          "name": "stdout",
          "text": [
            "\n",
            "Epoch 94/500\n",
            "Train Loss: 35.6013 | Val Loss: 37.3219\n",
            "Val MAE - SBP: 47.82 mmHg | DBP: 26.82 mmHg\n"
          ]
        },
        {
          "output_type": "stream",
          "name": "stderr",
          "text": []
        },
        {
          "output_type": "stream",
          "name": "stdout",
          "text": [
            "\n",
            "Epoch 95/500\n",
            "Train Loss: 35.9237 | Val Loss: 36.9223\n",
            "Val MAE - SBP: 47.29 mmHg | DBP: 26.56 mmHg\n"
          ]
        },
        {
          "output_type": "stream",
          "name": "stderr",
          "text": []
        },
        {
          "output_type": "stream",
          "name": "stdout",
          "text": [
            "\n",
            "Epoch 96/500\n",
            "Train Loss: 35.8513 | Val Loss: 36.0470\n",
            "Val MAE - SBP: 46.24 mmHg | DBP: 25.85 mmHg\n",
            "Best model saved (Val Loss: 36.0470)\n"
          ]
        },
        {
          "output_type": "stream",
          "name": "stderr",
          "text": []
        },
        {
          "output_type": "stream",
          "name": "stdout",
          "text": [
            "\n",
            "Epoch 97/500\n",
            "Train Loss: 36.4216 | Val Loss: 36.7966\n",
            "Val MAE - SBP: 47.12 mmHg | DBP: 26.47 mmHg\n"
          ]
        },
        {
          "output_type": "stream",
          "name": "stderr",
          "text": []
        },
        {
          "output_type": "stream",
          "name": "stdout",
          "text": [
            "\n",
            "Epoch 98/500\n",
            "Train Loss: 35.1953 | Val Loss: 36.9609\n",
            "Val MAE - SBP: 47.36 mmHg | DBP: 26.56 mmHg\n"
          ]
        },
        {
          "output_type": "stream",
          "name": "stderr",
          "text": []
        },
        {
          "output_type": "stream",
          "name": "stdout",
          "text": [
            "\n",
            "Epoch 99/500\n",
            "Train Loss: 36.0649 | Val Loss: 38.7772\n",
            "Val MAE - SBP: 49.70 mmHg | DBP: 27.86 mmHg\n"
          ]
        },
        {
          "output_type": "stream",
          "name": "stderr",
          "text": []
        },
        {
          "output_type": "stream",
          "name": "stdout",
          "text": [
            "\n",
            "Epoch 100/500\n",
            "Train Loss: 35.8189 | Val Loss: 36.3109\n",
            "Val MAE - SBP: 46.55 mmHg | DBP: 26.07 mmHg\n"
          ]
        },
        {
          "output_type": "stream",
          "name": "stderr",
          "text": []
        },
        {
          "output_type": "stream",
          "name": "stdout",
          "text": [
            "\n",
            "Epoch 101/500\n",
            "Train Loss: 35.6150 | Val Loss: 37.0701\n",
            "Val MAE - SBP: 47.42 mmHg | DBP: 26.72 mmHg\n"
          ]
        },
        {
          "output_type": "stream",
          "name": "stderr",
          "text": []
        },
        {
          "output_type": "stream",
          "name": "stdout",
          "text": [
            "\n",
            "Epoch 102/500\n",
            "Train Loss: 35.5782 | Val Loss: 36.2259\n",
            "Val MAE - SBP: 46.44 mmHg | DBP: 26.01 mmHg\n"
          ]
        },
        {
          "output_type": "stream",
          "name": "stderr",
          "text": []
        },
        {
          "output_type": "stream",
          "name": "stdout",
          "text": [
            "\n",
            "Epoch 103/500\n",
            "Train Loss: 35.6135 | Val Loss: 37.4874\n",
            "Val MAE - SBP: 48.03 mmHg | DBP: 26.95 mmHg\n"
          ]
        },
        {
          "output_type": "stream",
          "name": "stderr",
          "text": []
        },
        {
          "output_type": "stream",
          "name": "stdout",
          "text": [
            "\n",
            "Epoch 104/500\n",
            "Train Loss: 36.1287 | Val Loss: 37.7955\n",
            "Val MAE - SBP: 48.41 mmHg | DBP: 27.18 mmHg\n"
          ]
        },
        {
          "output_type": "stream",
          "name": "stderr",
          "text": []
        },
        {
          "output_type": "stream",
          "name": "stdout",
          "text": [
            "\n",
            "Epoch 105/500\n",
            "Train Loss: 35.6675 | Val Loss: 41.4900\n",
            "Val MAE - SBP: 53.15 mmHg | DBP: 29.83 mmHg\n"
          ]
        },
        {
          "output_type": "stream",
          "name": "stderr",
          "text": []
        },
        {
          "output_type": "stream",
          "name": "stdout",
          "text": [
            "\n",
            "Epoch 106/500\n",
            "Train Loss: 35.7362 | Val Loss: 36.7954\n",
            "Val MAE - SBP: 47.15 mmHg | DBP: 26.44 mmHg\n"
          ]
        },
        {
          "output_type": "stream",
          "name": "stderr",
          "text": []
        },
        {
          "output_type": "stream",
          "name": "stdout",
          "text": [
            "\n",
            "Epoch 107/500\n",
            "Train Loss: 35.7579 | Val Loss: 36.1417\n",
            "Val MAE - SBP: 46.35 mmHg | DBP: 25.93 mmHg\n"
          ]
        },
        {
          "output_type": "stream",
          "name": "stderr",
          "text": []
        },
        {
          "output_type": "stream",
          "name": "stdout",
          "text": [
            "\n",
            "Epoch 108/500\n",
            "Train Loss: 35.7639 | Val Loss: 36.2337\n",
            "Val MAE - SBP: 46.47 mmHg | DBP: 25.99 mmHg\n"
          ]
        },
        {
          "output_type": "stream",
          "name": "stderr",
          "text": []
        },
        {
          "output_type": "stream",
          "name": "stdout",
          "text": [
            "\n",
            "Epoch 109/500\n",
            "Train Loss: 35.3489 | Val Loss: 36.1317\n",
            "Val MAE - SBP: 46.26 mmHg | DBP: 26.01 mmHg\n"
          ]
        },
        {
          "output_type": "stream",
          "name": "stderr",
          "text": []
        },
        {
          "output_type": "stream",
          "name": "stdout",
          "text": [
            "\n",
            "Epoch 110/500\n",
            "Train Loss: 35.8465 | Val Loss: 43.1233\n",
            "Val MAE - SBP: 54.89 mmHg | DBP: 31.36 mmHg\n"
          ]
        },
        {
          "output_type": "stream",
          "name": "stderr",
          "text": []
        },
        {
          "output_type": "stream",
          "name": "stdout",
          "text": [
            "\n",
            "Epoch 111/500\n",
            "Train Loss: 36.4817 | Val Loss: 36.0404\n",
            "Val MAE - SBP: 46.19 mmHg | DBP: 25.89 mmHg\n",
            "Best model saved (Val Loss: 36.0404)\n"
          ]
        },
        {
          "output_type": "stream",
          "name": "stderr",
          "text": []
        },
        {
          "output_type": "stream",
          "name": "stdout",
          "text": [
            "\n",
            "Epoch 112/500\n",
            "Train Loss: 36.0333 | Val Loss: 35.9296\n",
            "Val MAE - SBP: 46.06 mmHg | DBP: 25.79 mmHg\n",
            "Best model saved (Val Loss: 35.9296)\n"
          ]
        },
        {
          "output_type": "stream",
          "name": "stderr",
          "text": []
        },
        {
          "output_type": "stream",
          "name": "stdout",
          "text": [
            "\n",
            "Epoch 113/500\n",
            "Train Loss: 35.6172 | Val Loss: 35.8748\n",
            "Val MAE - SBP: 46.01 mmHg | DBP: 25.73 mmHg\n",
            "Best model saved (Val Loss: 35.8748)\n"
          ]
        },
        {
          "output_type": "stream",
          "name": "stderr",
          "text": []
        },
        {
          "output_type": "stream",
          "name": "stdout",
          "text": [
            "\n",
            "Epoch 114/500\n",
            "Train Loss: 35.2873 | Val Loss: 35.8784\n",
            "Val MAE - SBP: 46.01 mmHg | DBP: 25.75 mmHg\n"
          ]
        },
        {
          "output_type": "stream",
          "name": "stderr",
          "text": []
        },
        {
          "output_type": "stream",
          "name": "stdout",
          "text": [
            "\n",
            "Epoch 115/500\n",
            "Train Loss: 34.9995 | Val Loss: 35.9019\n",
            "Val MAE - SBP: 46.04 mmHg | DBP: 25.77 mmHg\n"
          ]
        },
        {
          "output_type": "stream",
          "name": "stderr",
          "text": []
        },
        {
          "output_type": "stream",
          "name": "stdout",
          "text": [
            "\n",
            "Epoch 116/500\n",
            "Train Loss: 35.9666 | Val Loss: 36.1023\n",
            "Val MAE - SBP: 46.29 mmHg | DBP: 25.91 mmHg\n"
          ]
        },
        {
          "output_type": "stream",
          "name": "stderr",
          "text": []
        },
        {
          "output_type": "stream",
          "name": "stdout",
          "text": [
            "\n",
            "Epoch 117/500\n",
            "Train Loss: 35.5588 | Val Loss: 36.0374\n",
            "Val MAE - SBP: 46.25 mmHg | DBP: 25.82 mmHg\n"
          ]
        },
        {
          "output_type": "stream",
          "name": "stderr",
          "text": []
        },
        {
          "output_type": "stream",
          "name": "stdout",
          "text": [
            "\n",
            "Epoch 118/500\n",
            "Train Loss: 35.5720 | Val Loss: 36.0363\n",
            "Val MAE - SBP: 46.14 mmHg | DBP: 25.93 mmHg\n"
          ]
        },
        {
          "output_type": "stream",
          "name": "stderr",
          "text": []
        },
        {
          "output_type": "stream",
          "name": "stdout",
          "text": [
            "\n",
            "Epoch 119/500\n",
            "Train Loss: 36.0420 | Val Loss: 35.4066\n",
            "Val MAE - SBP: 45.38 mmHg | DBP: 25.43 mmHg\n",
            "Best model saved (Val Loss: 35.4066)\n"
          ]
        },
        {
          "output_type": "stream",
          "name": "stderr",
          "text": []
        },
        {
          "output_type": "stream",
          "name": "stdout",
          "text": [
            "\n",
            "Epoch 120/500\n",
            "Train Loss: 35.5557 | Val Loss: 35.3377\n",
            "Val MAE - SBP: 45.26 mmHg | DBP: 25.42 mmHg\n",
            "Best model saved (Val Loss: 35.3377)\n"
          ]
        },
        {
          "output_type": "stream",
          "name": "stderr",
          "text": []
        },
        {
          "output_type": "stream",
          "name": "stdout",
          "text": [
            "\n",
            "Epoch 121/500\n",
            "Train Loss: 34.8946 | Val Loss: 36.2521\n",
            "Val MAE - SBP: 46.41 mmHg | DBP: 26.09 mmHg\n"
          ]
        },
        {
          "output_type": "stream",
          "name": "stderr",
          "text": []
        },
        {
          "output_type": "stream",
          "name": "stdout",
          "text": [
            "\n",
            "Epoch 122/500\n",
            "Train Loss: 35.3279 | Val Loss: 36.2201\n",
            "Val MAE - SBP: 46.56 mmHg | DBP: 25.88 mmHg\n"
          ]
        },
        {
          "output_type": "stream",
          "name": "stderr",
          "text": []
        },
        {
          "output_type": "stream",
          "name": "stdout",
          "text": [
            "\n",
            "Epoch 123/500\n",
            "Train Loss: 35.1161 | Val Loss: 35.0728\n",
            "Val MAE - SBP: 44.96 mmHg | DBP: 25.19 mmHg\n",
            "Best model saved (Val Loss: 35.0728)\n"
          ]
        },
        {
          "output_type": "stream",
          "name": "stderr",
          "text": []
        },
        {
          "output_type": "stream",
          "name": "stdout",
          "text": [
            "\n",
            "Epoch 124/500\n",
            "Train Loss: 35.0991 | Val Loss: 36.2168\n",
            "Val MAE - SBP: 46.39 mmHg | DBP: 26.04 mmHg\n"
          ]
        },
        {
          "output_type": "stream",
          "name": "stderr",
          "text": []
        },
        {
          "output_type": "stream",
          "name": "stdout",
          "text": [
            "\n",
            "Epoch 125/500\n",
            "Train Loss: 35.3617 | Val Loss: 35.6765\n",
            "Val MAE - SBP: 45.73 mmHg | DBP: 25.63 mmHg\n"
          ]
        },
        {
          "output_type": "stream",
          "name": "stderr",
          "text": []
        },
        {
          "output_type": "stream",
          "name": "stdout",
          "text": [
            "\n",
            "Epoch 126/500\n",
            "Train Loss: 35.2025 | Val Loss: 35.9960\n",
            "Val MAE - SBP: 46.20 mmHg | DBP: 25.80 mmHg\n"
          ]
        },
        {
          "output_type": "stream",
          "name": "stderr",
          "text": []
        },
        {
          "output_type": "stream",
          "name": "stdout",
          "text": [
            "\n",
            "Epoch 127/500\n",
            "Train Loss: 34.9386 | Val Loss: 35.6002\n",
            "Val MAE - SBP: 45.61 mmHg | DBP: 25.59 mmHg\n"
          ]
        },
        {
          "output_type": "stream",
          "name": "stderr",
          "text": []
        },
        {
          "output_type": "stream",
          "name": "stdout",
          "text": [
            "\n",
            "Epoch 128/500\n",
            "Train Loss: 35.6771 | Val Loss: 36.3569\n",
            "Val MAE - SBP: 46.69 mmHg | DBP: 26.02 mmHg\n"
          ]
        },
        {
          "output_type": "stream",
          "name": "stderr",
          "text": []
        },
        {
          "output_type": "stream",
          "name": "stdout",
          "text": [
            "\n",
            "Epoch 129/500\n",
            "Train Loss: 35.1065 | Val Loss: 35.1189\n",
            "Val MAE - SBP: 45.03 mmHg | DBP: 25.20 mmHg\n"
          ]
        },
        {
          "output_type": "stream",
          "name": "stderr",
          "text": []
        },
        {
          "output_type": "stream",
          "name": "stdout",
          "text": [
            "\n",
            "Epoch 130/500\n",
            "Train Loss: 35.0681 | Val Loss: 37.4311\n",
            "Val MAE - SBP: 47.95 mmHg | DBP: 26.91 mmHg\n"
          ]
        },
        {
          "output_type": "stream",
          "name": "stderr",
          "text": []
        },
        {
          "output_type": "stream",
          "name": "stdout",
          "text": [
            "\n",
            "Epoch 131/500\n",
            "Train Loss: 35.1816 | Val Loss: 35.6537\n",
            "Val MAE - SBP: 45.73 mmHg | DBP: 25.58 mmHg\n"
          ]
        },
        {
          "output_type": "stream",
          "name": "stderr",
          "text": []
        },
        {
          "output_type": "stream",
          "name": "stdout",
          "text": [
            "\n",
            "Epoch 132/500\n",
            "Train Loss: 35.4316 | Val Loss: 36.5397\n",
            "Val MAE - SBP: 46.84 mmHg | DBP: 26.24 mmHg\n"
          ]
        },
        {
          "output_type": "stream",
          "name": "stderr",
          "text": []
        },
        {
          "output_type": "stream",
          "name": "stdout",
          "text": [
            "\n",
            "Epoch 133/500\n",
            "Train Loss: 35.2393 | Val Loss: 35.9862\n",
            "Val MAE - SBP: 46.16 mmHg | DBP: 25.81 mmHg\n"
          ]
        },
        {
          "output_type": "stream",
          "name": "stderr",
          "text": []
        },
        {
          "output_type": "stream",
          "name": "stdout",
          "text": [
            "\n",
            "Epoch 134/500\n",
            "Train Loss: 34.4648 | Val Loss: 35.6430\n",
            "Val MAE - SBP: 45.73 mmHg | DBP: 25.55 mmHg\n"
          ]
        },
        {
          "output_type": "stream",
          "name": "stderr",
          "text": []
        },
        {
          "output_type": "stream",
          "name": "stdout",
          "text": [
            "\n",
            "Epoch 135/500\n",
            "Train Loss: 35.0184 | Val Loss: 35.5627\n",
            "Val MAE - SBP: 45.59 mmHg | DBP: 25.53 mmHg\n"
          ]
        },
        {
          "output_type": "stream",
          "name": "stderr",
          "text": []
        },
        {
          "output_type": "stream",
          "name": "stdout",
          "text": [
            "\n",
            "Epoch 136/500\n",
            "Train Loss: 35.0444 | Val Loss: 35.3691\n",
            "Val MAE - SBP: 45.34 mmHg | DBP: 25.39 mmHg\n"
          ]
        },
        {
          "output_type": "stream",
          "name": "stderr",
          "text": []
        },
        {
          "output_type": "stream",
          "name": "stdout",
          "text": [
            "\n",
            "Epoch 137/500\n",
            "Train Loss: 35.3721 | Val Loss: 35.1170\n",
            "Val MAE - SBP: 45.02 mmHg | DBP: 25.22 mmHg\n"
          ]
        },
        {
          "output_type": "stream",
          "name": "stderr",
          "text": []
        },
        {
          "output_type": "stream",
          "name": "stdout",
          "text": [
            "\n",
            "Epoch 138/500\n",
            "Train Loss: 34.4850 | Val Loss: 35.2302\n",
            "Val MAE - SBP: 45.20 mmHg | DBP: 25.26 mmHg\n"
          ]
        },
        {
          "output_type": "stream",
          "name": "stderr",
          "text": []
        },
        {
          "output_type": "stream",
          "name": "stdout",
          "text": [
            "\n",
            "Epoch 139/500\n",
            "Train Loss: 34.5356 | Val Loss: 35.4371\n",
            "Val MAE - SBP: 45.40 mmHg | DBP: 25.47 mmHg\n"
          ]
        },
        {
          "output_type": "stream",
          "name": "stderr",
          "text": []
        },
        {
          "output_type": "stream",
          "name": "stdout",
          "text": [
            "\n",
            "Epoch 140/500\n",
            "Train Loss: 34.5453 | Val Loss: 35.9266\n",
            "Val MAE - SBP: 46.15 mmHg | DBP: 25.71 mmHg\n"
          ]
        },
        {
          "output_type": "stream",
          "name": "stderr",
          "text": []
        },
        {
          "output_type": "stream",
          "name": "stdout",
          "text": [
            "\n",
            "Epoch 141/500\n",
            "Train Loss: 34.7583 | Val Loss: 34.9683\n",
            "Val MAE - SBP: 44.82 mmHg | DBP: 25.12 mmHg\n",
            "Best model saved (Val Loss: 34.9683)\n"
          ]
        },
        {
          "output_type": "stream",
          "name": "stderr",
          "text": []
        },
        {
          "output_type": "stream",
          "name": "stdout",
          "text": [
            "\n",
            "Epoch 142/500\n",
            "Train Loss: 34.8217 | Val Loss: 34.8161\n",
            "Val MAE - SBP: 44.63 mmHg | DBP: 25.00 mmHg\n",
            "Best model saved (Val Loss: 34.8161)\n"
          ]
        },
        {
          "output_type": "stream",
          "name": "stderr",
          "text": []
        },
        {
          "output_type": "stream",
          "name": "stdout",
          "text": [
            "\n",
            "Epoch 143/500\n",
            "Train Loss: 34.6645 | Val Loss: 35.1147\n",
            "Val MAE - SBP: 45.07 mmHg | DBP: 25.16 mmHg\n"
          ]
        },
        {
          "output_type": "stream",
          "name": "stderr",
          "text": []
        },
        {
          "output_type": "stream",
          "name": "stdout",
          "text": [
            "\n",
            "Epoch 144/500\n",
            "Train Loss: 34.5729 | Val Loss: 34.7544\n",
            "Val MAE - SBP: 44.58 mmHg | DBP: 24.93 mmHg\n",
            "Best model saved (Val Loss: 34.7544)\n"
          ]
        },
        {
          "output_type": "stream",
          "name": "stderr",
          "text": []
        },
        {
          "output_type": "stream",
          "name": "stdout",
          "text": [
            "\n",
            "Epoch 145/500\n",
            "Train Loss: 34.1052 | Val Loss: 35.0932\n",
            "Val MAE - SBP: 44.98 mmHg | DBP: 25.21 mmHg\n"
          ]
        },
        {
          "output_type": "stream",
          "name": "stderr",
          "text": []
        },
        {
          "output_type": "stream",
          "name": "stdout",
          "text": [
            "\n",
            "Epoch 146/500\n",
            "Train Loss: 34.5729 | Val Loss: 35.6477\n",
            "Val MAE - SBP: 45.70 mmHg | DBP: 25.59 mmHg\n"
          ]
        },
        {
          "output_type": "stream",
          "name": "stderr",
          "text": []
        },
        {
          "output_type": "stream",
          "name": "stdout",
          "text": [
            "\n",
            "Epoch 147/500\n",
            "Train Loss: 34.3044 | Val Loss: 35.9888\n",
            "Val MAE - SBP: 46.16 mmHg | DBP: 25.82 mmHg\n"
          ]
        },
        {
          "output_type": "stream",
          "name": "stderr",
          "text": []
        },
        {
          "output_type": "stream",
          "name": "stdout",
          "text": [
            "\n",
            "Epoch 148/500\n",
            "Train Loss: 34.4477 | Val Loss: 35.1037\n",
            "Val MAE - SBP: 45.01 mmHg | DBP: 25.20 mmHg\n"
          ]
        },
        {
          "output_type": "stream",
          "name": "stderr",
          "text": []
        },
        {
          "output_type": "stream",
          "name": "stdout",
          "text": [
            "\n",
            "Epoch 149/500\n",
            "Train Loss: 34.6472 | Val Loss: 35.6710\n",
            "Val MAE - SBP: 45.78 mmHg | DBP: 25.56 mmHg\n"
          ]
        },
        {
          "output_type": "stream",
          "name": "stderr",
          "text": []
        },
        {
          "output_type": "stream",
          "name": "stdout",
          "text": [
            "\n",
            "Epoch 150/500\n",
            "Train Loss: 34.5556 | Val Loss: 35.1567\n",
            "Val MAE - SBP: 45.11 mmHg | DBP: 25.21 mmHg\n"
          ]
        },
        {
          "output_type": "stream",
          "name": "stderr",
          "text": []
        },
        {
          "output_type": "stream",
          "name": "stdout",
          "text": [
            "\n",
            "Epoch 151/500\n",
            "Train Loss: 34.0695 | Val Loss: 34.5745\n",
            "Val MAE - SBP: 44.32 mmHg | DBP: 24.83 mmHg\n",
            "Best model saved (Val Loss: 34.5745)\n"
          ]
        },
        {
          "output_type": "stream",
          "name": "stderr",
          "text": []
        },
        {
          "output_type": "stream",
          "name": "stdout",
          "text": [
            "\n",
            "Epoch 152/500\n",
            "Train Loss: 34.2852 | Val Loss: 37.1210\n",
            "Val MAE - SBP: 47.76 mmHg | DBP: 26.48 mmHg\n"
          ]
        },
        {
          "output_type": "stream",
          "name": "stderr",
          "text": []
        },
        {
          "output_type": "stream",
          "name": "stdout",
          "text": [
            "\n",
            "Epoch 153/500\n",
            "Train Loss: 34.1038 | Val Loss: 34.9263\n",
            "Val MAE - SBP: 44.78 mmHg | DBP: 25.08 mmHg\n"
          ]
        },
        {
          "output_type": "stream",
          "name": "stderr",
          "text": []
        },
        {
          "output_type": "stream",
          "name": "stdout",
          "text": [
            "\n",
            "Epoch 154/500\n",
            "Train Loss: 33.8023 | Val Loss: 36.0310\n",
            "Val MAE - SBP: 46.20 mmHg | DBP: 25.86 mmHg\n"
          ]
        },
        {
          "output_type": "stream",
          "name": "stderr",
          "text": []
        },
        {
          "output_type": "stream",
          "name": "stdout",
          "text": [
            "\n",
            "Epoch 155/500\n",
            "Train Loss: 33.9879 | Val Loss: 35.3990\n",
            "Val MAE - SBP: 45.40 mmHg | DBP: 25.40 mmHg\n"
          ]
        },
        {
          "output_type": "stream",
          "name": "stderr",
          "text": []
        },
        {
          "output_type": "stream",
          "name": "stdout",
          "text": [
            "\n",
            "Epoch 156/500\n",
            "Train Loss: 34.4075 | Val Loss: 34.2703\n",
            "Val MAE - SBP: 43.98 mmHg | DBP: 24.56 mmHg\n",
            "Best model saved (Val Loss: 34.2703)\n"
          ]
        },
        {
          "output_type": "stream",
          "name": "stderr",
          "text": []
        },
        {
          "output_type": "stream",
          "name": "stdout",
          "text": [
            "\n",
            "Epoch 157/500\n",
            "Train Loss: 34.8769 | Val Loss: 35.2040\n",
            "Val MAE - SBP: 45.16 mmHg | DBP: 25.25 mmHg\n"
          ]
        },
        {
          "output_type": "stream",
          "name": "stderr",
          "text": []
        },
        {
          "output_type": "stream",
          "name": "stdout",
          "text": [
            "\n",
            "Epoch 158/500\n",
            "Train Loss: 33.9669 | Val Loss: 34.4149\n",
            "Val MAE - SBP: 44.16 mmHg | DBP: 24.67 mmHg\n"
          ]
        },
        {
          "output_type": "stream",
          "name": "stderr",
          "text": []
        },
        {
          "output_type": "stream",
          "name": "stdout",
          "text": [
            "\n",
            "Epoch 159/500\n",
            "Train Loss: 34.0275 | Val Loss: 34.9738\n",
            "Val MAE - SBP: 44.88 mmHg | DBP: 25.07 mmHg\n"
          ]
        },
        {
          "output_type": "stream",
          "name": "stderr",
          "text": []
        },
        {
          "output_type": "stream",
          "name": "stdout",
          "text": [
            "\n",
            "Epoch 160/500\n",
            "Train Loss: 33.9000 | Val Loss: 34.9361\n",
            "Val MAE - SBP: 44.78 mmHg | DBP: 25.09 mmHg\n"
          ]
        },
        {
          "output_type": "stream",
          "name": "stderr",
          "text": []
        },
        {
          "output_type": "stream",
          "name": "stdout",
          "text": [
            "\n",
            "Epoch 161/500\n",
            "Train Loss: 33.9217 | Val Loss: 34.4183\n",
            "Val MAE - SBP: 44.19 mmHg | DBP: 24.65 mmHg\n"
          ]
        },
        {
          "output_type": "stream",
          "name": "stderr",
          "text": []
        },
        {
          "output_type": "stream",
          "name": "stdout",
          "text": [
            "\n",
            "Epoch 162/500\n",
            "Train Loss: 33.8147 | Val Loss: 34.8572\n",
            "Val MAE - SBP: 44.73 mmHg | DBP: 24.98 mmHg\n"
          ]
        },
        {
          "output_type": "stream",
          "name": "stderr",
          "text": []
        },
        {
          "output_type": "stream",
          "name": "stdout",
          "text": [
            "\n",
            "Epoch 163/500\n",
            "Train Loss: 34.1526 | Val Loss: 35.4651\n",
            "Val MAE - SBP: 45.45 mmHg | DBP: 25.49 mmHg\n"
          ]
        },
        {
          "output_type": "stream",
          "name": "stderr",
          "text": []
        },
        {
          "output_type": "stream",
          "name": "stdout",
          "text": [
            "\n",
            "Epoch 164/500\n",
            "Train Loss: 34.3414 | Val Loss: 34.4985\n",
            "Val MAE - SBP: 44.26 mmHg | DBP: 24.74 mmHg\n"
          ]
        },
        {
          "output_type": "stream",
          "name": "stderr",
          "text": []
        },
        {
          "output_type": "stream",
          "name": "stdout",
          "text": [
            "\n",
            "Epoch 165/500\n",
            "Train Loss: 33.9503 | Val Loss: 35.1352\n",
            "Val MAE - SBP: 45.08 mmHg | DBP: 25.19 mmHg\n"
          ]
        },
        {
          "output_type": "stream",
          "name": "stderr",
          "text": []
        },
        {
          "output_type": "stream",
          "name": "stdout",
          "text": [
            "\n",
            "Epoch 166/500\n",
            "Train Loss: 33.6573 | Val Loss: 34.5109\n",
            "Val MAE - SBP: 44.23 mmHg | DBP: 24.79 mmHg\n"
          ]
        },
        {
          "output_type": "stream",
          "name": "stderr",
          "text": []
        },
        {
          "output_type": "stream",
          "name": "stdout",
          "text": [
            "\n",
            "Epoch 167/500\n",
            "Train Loss: 33.5015 | Val Loss: 34.5214\n",
            "Val MAE - SBP: 44.31 mmHg | DBP: 24.73 mmHg\n"
          ]
        },
        {
          "output_type": "stream",
          "name": "stderr",
          "text": []
        },
        {
          "output_type": "stream",
          "name": "stdout",
          "text": [
            "\n",
            "Epoch 168/500\n",
            "Train Loss: 33.8785 | Val Loss: 35.4102\n",
            "Val MAE - SBP: 45.41 mmHg | DBP: 25.41 mmHg\n"
          ]
        },
        {
          "output_type": "stream",
          "name": "stderr",
          "text": []
        },
        {
          "output_type": "stream",
          "name": "stdout",
          "text": [
            "\n",
            "Epoch 169/500\n",
            "Train Loss: 33.6634 | Val Loss: 34.9309\n",
            "Val MAE - SBP: 44.88 mmHg | DBP: 24.98 mmHg\n"
          ]
        },
        {
          "output_type": "stream",
          "name": "stderr",
          "text": []
        },
        {
          "output_type": "stream",
          "name": "stdout",
          "text": [
            "\n",
            "Epoch 170/500\n",
            "Train Loss: 33.9403 | Val Loss: 34.6485\n",
            "Val MAE - SBP: 44.46 mmHg | DBP: 24.84 mmHg\n"
          ]
        },
        {
          "output_type": "stream",
          "name": "stderr",
          "text": []
        },
        {
          "output_type": "stream",
          "name": "stdout",
          "text": [
            "\n",
            "Epoch 171/500\n",
            "Train Loss: 33.8334 | Val Loss: 34.7050\n",
            "Val MAE - SBP: 44.49 mmHg | DBP: 24.92 mmHg\n"
          ]
        },
        {
          "output_type": "stream",
          "name": "stderr",
          "text": []
        },
        {
          "output_type": "stream",
          "name": "stdout",
          "text": [
            "\n",
            "Epoch 172/500\n",
            "Train Loss: 33.5111 | Val Loss: 34.5155\n",
            "Val MAE - SBP: 44.26 mmHg | DBP: 24.77 mmHg\n"
          ]
        },
        {
          "output_type": "stream",
          "name": "stderr",
          "text": []
        },
        {
          "output_type": "stream",
          "name": "stdout",
          "text": [
            "\n",
            "Epoch 173/500\n",
            "Train Loss: 33.2468 | Val Loss: 33.8646\n",
            "Val MAE - SBP: 43.45 mmHg | DBP: 24.27 mmHg\n",
            "Best model saved (Val Loss: 33.8646)\n"
          ]
        },
        {
          "output_type": "stream",
          "name": "stderr",
          "text": []
        },
        {
          "output_type": "stream",
          "name": "stdout",
          "text": [
            "\n",
            "Epoch 174/500\n",
            "Train Loss: 33.8832 | Val Loss: 35.0904\n",
            "Val MAE - SBP: 45.04 mmHg | DBP: 25.14 mmHg\n"
          ]
        },
        {
          "output_type": "stream",
          "name": "stderr",
          "text": []
        },
        {
          "output_type": "stream",
          "name": "stdout",
          "text": [
            "\n",
            "Epoch 175/500\n",
            "Train Loss: 34.2817 | Val Loss: 34.7081\n",
            "Val MAE - SBP: 44.45 mmHg | DBP: 24.97 mmHg\n"
          ]
        },
        {
          "output_type": "stream",
          "name": "stderr",
          "text": []
        },
        {
          "output_type": "stream",
          "name": "stdout",
          "text": [
            "\n",
            "Epoch 176/500\n",
            "Train Loss: 33.2879 | Val Loss: 34.4243\n",
            "Val MAE - SBP: 44.15 mmHg | DBP: 24.69 mmHg\n"
          ]
        },
        {
          "output_type": "stream",
          "name": "stderr",
          "text": []
        },
        {
          "output_type": "stream",
          "name": "stdout",
          "text": [
            "\n",
            "Epoch 177/500\n",
            "Train Loss: 33.5530 | Val Loss: 34.5753\n",
            "Val MAE - SBP: 44.37 mmHg | DBP: 24.78 mmHg\n"
          ]
        },
        {
          "output_type": "stream",
          "name": "stderr",
          "text": []
        },
        {
          "output_type": "stream",
          "name": "stdout",
          "text": [
            "\n",
            "Epoch 178/500\n",
            "Train Loss: 33.5789 | Val Loss: 35.6218\n",
            "Val MAE - SBP: 45.71 mmHg | DBP: 25.53 mmHg\n"
          ]
        },
        {
          "output_type": "stream",
          "name": "stderr",
          "text": []
        },
        {
          "output_type": "stream",
          "name": "stdout",
          "text": [
            "\n",
            "Epoch 179/500\n",
            "Train Loss: 33.3250 | Val Loss: 34.4027\n",
            "Val MAE - SBP: 44.13 mmHg | DBP: 24.67 mmHg\n"
          ]
        },
        {
          "output_type": "stream",
          "name": "stderr",
          "text": []
        },
        {
          "output_type": "stream",
          "name": "stdout",
          "text": [
            "\n",
            "Epoch 180/500\n",
            "Train Loss: 33.2510 | Val Loss: 34.8299\n",
            "Val MAE - SBP: 44.64 mmHg | DBP: 25.01 mmHg\n"
          ]
        },
        {
          "output_type": "stream",
          "name": "stderr",
          "text": []
        },
        {
          "output_type": "stream",
          "name": "stdout",
          "text": [
            "\n",
            "Epoch 181/500\n",
            "Train Loss: 33.3397 | Val Loss: 34.6225\n",
            "Val MAE - SBP: 44.43 mmHg | DBP: 24.82 mmHg\n"
          ]
        },
        {
          "output_type": "stream",
          "name": "stderr",
          "text": []
        },
        {
          "output_type": "stream",
          "name": "stdout",
          "text": [
            "\n",
            "Epoch 182/500\n",
            "Train Loss: 33.0911 | Val Loss: 34.1910\n",
            "Val MAE - SBP: 43.85 mmHg | DBP: 24.53 mmHg\n"
          ]
        },
        {
          "output_type": "stream",
          "name": "stderr",
          "text": []
        },
        {
          "output_type": "stream",
          "name": "stdout",
          "text": [
            "\n",
            "Epoch 183/500\n",
            "Train Loss: 33.1848 | Val Loss: 34.4796\n",
            "Val MAE - SBP: 44.25 mmHg | DBP: 24.71 mmHg\n"
          ]
        },
        {
          "output_type": "stream",
          "name": "stderr",
          "text": []
        },
        {
          "output_type": "stream",
          "name": "stdout",
          "text": [
            "\n",
            "Epoch 184/500\n",
            "Train Loss: 33.4428 | Val Loss: 34.1388\n",
            "Val MAE - SBP: 43.85 mmHg | DBP: 24.43 mmHg\n"
          ]
        },
        {
          "output_type": "stream",
          "name": "stderr",
          "text": []
        },
        {
          "output_type": "stream",
          "name": "stdout",
          "text": [
            "\n",
            "Epoch 185/500\n",
            "Train Loss: 33.3589 | Val Loss: 34.9509\n",
            "Val MAE - SBP: 44.85 mmHg | DBP: 25.05 mmHg\n"
          ]
        },
        {
          "output_type": "stream",
          "name": "stderr",
          "text": []
        },
        {
          "output_type": "stream",
          "name": "stdout",
          "text": [
            "\n",
            "Epoch 186/500\n",
            "Train Loss: 33.4322 | Val Loss: 35.1715\n",
            "Val MAE - SBP: 45.17 mmHg | DBP: 25.17 mmHg\n"
          ]
        },
        {
          "output_type": "stream",
          "name": "stderr",
          "text": []
        },
        {
          "output_type": "stream",
          "name": "stdout",
          "text": [
            "\n",
            "Epoch 187/500\n",
            "Train Loss: 33.6185 | Val Loss: 35.1905\n",
            "Val MAE - SBP: 45.05 mmHg | DBP: 25.33 mmHg\n"
          ]
        },
        {
          "output_type": "stream",
          "name": "stderr",
          "text": []
        },
        {
          "output_type": "stream",
          "name": "stdout",
          "text": [
            "\n",
            "Epoch 188/500\n",
            "Train Loss: 33.3073 | Val Loss: 35.0256\n",
            "Val MAE - SBP: 44.94 mmHg | DBP: 25.11 mmHg\n"
          ]
        },
        {
          "output_type": "stream",
          "name": "stderr",
          "text": []
        },
        {
          "output_type": "stream",
          "name": "stdout",
          "text": [
            "\n",
            "Epoch 189/500\n",
            "Train Loss: 33.1416 | Val Loss: 34.2048\n",
            "Val MAE - SBP: 43.87 mmHg | DBP: 24.54 mmHg\n"
          ]
        },
        {
          "output_type": "stream",
          "name": "stderr",
          "text": []
        },
        {
          "output_type": "stream",
          "name": "stdout",
          "text": [
            "\n",
            "Epoch 190/500\n",
            "Train Loss: 33.4916 | Val Loss: 34.8139\n",
            "Val MAE - SBP: 44.62 mmHg | DBP: 25.01 mmHg\n"
          ]
        },
        {
          "output_type": "stream",
          "name": "stderr",
          "text": []
        },
        {
          "output_type": "stream",
          "name": "stdout",
          "text": [
            "\n",
            "Epoch 191/500\n",
            "Train Loss: 33.3272 | Val Loss: 33.9929\n",
            "Val MAE - SBP: 43.58 mmHg | DBP: 24.40 mmHg\n"
          ]
        },
        {
          "output_type": "stream",
          "name": "stderr",
          "text": []
        },
        {
          "output_type": "stream",
          "name": "stdout",
          "text": [
            "\n",
            "Epoch 192/500\n",
            "Train Loss: 33.2640 | Val Loss: 35.3455\n",
            "Val MAE - SBP: 45.37 mmHg | DBP: 25.32 mmHg\n"
          ]
        },
        {
          "output_type": "stream",
          "name": "stderr",
          "text": []
        },
        {
          "output_type": "stream",
          "name": "stdout",
          "text": [
            "\n",
            "Epoch 193/500\n",
            "Train Loss: 33.8373 | Val Loss: 34.1976\n",
            "Val MAE - SBP: 43.86 mmHg | DBP: 24.53 mmHg\n"
          ]
        },
        {
          "output_type": "stream",
          "name": "stderr",
          "text": []
        },
        {
          "output_type": "stream",
          "name": "stdout",
          "text": [
            "\n",
            "Epoch 194/500\n",
            "Train Loss: 33.1889 | Val Loss: 33.8312\n",
            "Val MAE - SBP: 43.42 mmHg | DBP: 24.24 mmHg\n",
            "Best model saved (Val Loss: 33.8312)\n"
          ]
        },
        {
          "output_type": "stream",
          "name": "stderr",
          "text": []
        },
        {
          "output_type": "stream",
          "name": "stdout",
          "text": [
            "\n",
            "Epoch 195/500\n",
            "Train Loss: 33.3948 | Val Loss: 36.4041\n",
            "Val MAE - SBP: 46.55 mmHg | DBP: 26.26 mmHg\n"
          ]
        },
        {
          "output_type": "stream",
          "name": "stderr",
          "text": []
        },
        {
          "output_type": "stream",
          "name": "stdout",
          "text": [
            "\n",
            "Epoch 196/500\n",
            "Train Loss: 33.1864 | Val Loss: 34.9818\n",
            "Val MAE - SBP: 44.82 mmHg | DBP: 25.14 mmHg\n"
          ]
        },
        {
          "output_type": "stream",
          "name": "stderr",
          "text": []
        },
        {
          "output_type": "stream",
          "name": "stdout",
          "text": [
            "\n",
            "Epoch 197/500\n",
            "Train Loss: 32.8941 | Val Loss: 34.5859\n",
            "Val MAE - SBP: 44.38 mmHg | DBP: 24.79 mmHg\n"
          ]
        },
        {
          "output_type": "stream",
          "name": "stderr",
          "text": []
        },
        {
          "output_type": "stream",
          "name": "stdout",
          "text": [
            "\n",
            "Epoch 198/500\n",
            "Train Loss: 33.6426 | Val Loss: 33.9688\n",
            "Val MAE - SBP: 43.59 mmHg | DBP: 24.35 mmHg\n"
          ]
        },
        {
          "output_type": "stream",
          "name": "stderr",
          "text": []
        },
        {
          "output_type": "stream",
          "name": "stdout",
          "text": [
            "\n",
            "Epoch 199/500\n",
            "Train Loss: 33.0325 | Val Loss: 34.1569\n",
            "Val MAE - SBP: 43.80 mmHg | DBP: 24.51 mmHg\n"
          ]
        },
        {
          "output_type": "stream",
          "name": "stderr",
          "text": []
        },
        {
          "output_type": "stream",
          "name": "stdout",
          "text": [
            "\n",
            "Epoch 200/500\n",
            "Train Loss: 33.1107 | Val Loss: 33.9592\n",
            "Val MAE - SBP: 43.58 mmHg | DBP: 24.34 mmHg\n"
          ]
        },
        {
          "output_type": "stream",
          "name": "stderr",
          "text": []
        },
        {
          "output_type": "stream",
          "name": "stdout",
          "text": [
            "\n",
            "Epoch 201/500\n",
            "Train Loss: 33.1583 | Val Loss: 33.7733\n",
            "Val MAE - SBP: 43.34 mmHg | DBP: 24.20 mmHg\n",
            "Best model saved (Val Loss: 33.7733)\n"
          ]
        },
        {
          "output_type": "stream",
          "name": "stderr",
          "text": []
        },
        {
          "output_type": "stream",
          "name": "stdout",
          "text": [
            "\n",
            "Epoch 202/500\n",
            "Train Loss: 32.7612 | Val Loss: 34.5658\n",
            "Val MAE - SBP: 44.36 mmHg | DBP: 24.77 mmHg\n"
          ]
        },
        {
          "output_type": "stream",
          "name": "stderr",
          "text": []
        },
        {
          "output_type": "stream",
          "name": "stdout",
          "text": [
            "\n",
            "Epoch 203/500\n",
            "Train Loss: 32.8860 | Val Loss: 33.7485\n",
            "Val MAE - SBP: 43.34 mmHg | DBP: 24.16 mmHg\n",
            "Best model saved (Val Loss: 33.7485)\n"
          ]
        },
        {
          "output_type": "stream",
          "name": "stderr",
          "text": []
        },
        {
          "output_type": "stream",
          "name": "stdout",
          "text": [
            "\n",
            "Epoch 204/500\n",
            "Train Loss: 32.9288 | Val Loss: 33.8477\n",
            "Val MAE - SBP: 43.39 mmHg | DBP: 24.31 mmHg\n"
          ]
        },
        {
          "output_type": "stream",
          "name": "stderr",
          "text": []
        },
        {
          "output_type": "stream",
          "name": "stdout",
          "text": [
            "\n",
            "Epoch 205/500\n",
            "Train Loss: 33.2786 | Val Loss: 34.6065\n",
            "Val MAE - SBP: 44.32 mmHg | DBP: 24.90 mmHg\n"
          ]
        },
        {
          "output_type": "stream",
          "name": "stderr",
          "text": []
        },
        {
          "output_type": "stream",
          "name": "stdout",
          "text": [
            "\n",
            "Epoch 206/500\n",
            "Train Loss: 33.2484 | Val Loss: 35.1594\n",
            "Val MAE - SBP: 45.01 mmHg | DBP: 25.31 mmHg\n"
          ]
        },
        {
          "output_type": "stream",
          "name": "stderr",
          "text": []
        },
        {
          "output_type": "stream",
          "name": "stdout",
          "text": [
            "\n",
            "Epoch 207/500\n",
            "Train Loss: 32.7115 | Val Loss: 33.6911\n",
            "Val MAE - SBP: 43.22 mmHg | DBP: 24.16 mmHg\n",
            "Best model saved (Val Loss: 33.6911)\n"
          ]
        },
        {
          "output_type": "stream",
          "name": "stderr",
          "text": []
        },
        {
          "output_type": "stream",
          "name": "stdout",
          "text": [
            "\n",
            "Epoch 208/500\n",
            "Train Loss: 32.9879 | Val Loss: 33.5319\n",
            "Val MAE - SBP: 42.99 mmHg | DBP: 24.07 mmHg\n",
            "Best model saved (Val Loss: 33.5319)\n"
          ]
        },
        {
          "output_type": "stream",
          "name": "stderr",
          "text": []
        },
        {
          "output_type": "stream",
          "name": "stdout",
          "text": [
            "\n",
            "Epoch 209/500\n",
            "Train Loss: 32.8916 | Val Loss: 34.5022\n",
            "Val MAE - SBP: 44.25 mmHg | DBP: 24.76 mmHg\n"
          ]
        },
        {
          "output_type": "stream",
          "name": "stderr",
          "text": []
        },
        {
          "output_type": "stream",
          "name": "stdout",
          "text": [
            "\n",
            "Epoch 210/500\n",
            "Train Loss: 32.9547 | Val Loss: 37.0563\n",
            "Val MAE - SBP: 47.64 mmHg | DBP: 26.47 mmHg\n"
          ]
        },
        {
          "output_type": "stream",
          "name": "stderr",
          "text": []
        },
        {
          "output_type": "stream",
          "name": "stdout",
          "text": [
            "\n",
            "Epoch 211/500\n",
            "Train Loss: 33.1567 | Val Loss: 33.9618\n",
            "Val MAE - SBP: 43.64 mmHg | DBP: 24.28 mmHg\n"
          ]
        },
        {
          "output_type": "stream",
          "name": "stderr",
          "text": []
        },
        {
          "output_type": "stream",
          "name": "stdout",
          "text": [
            "\n",
            "Epoch 212/500\n",
            "Train Loss: 32.4901 | Val Loss: 33.7377\n",
            "Val MAE - SBP: 43.28 mmHg | DBP: 24.20 mmHg\n"
          ]
        },
        {
          "output_type": "stream",
          "name": "stderr",
          "text": []
        },
        {
          "output_type": "stream",
          "name": "stdout",
          "text": [
            "\n",
            "Epoch 213/500\n",
            "Train Loss: 32.9169 | Val Loss: 33.7505\n",
            "Val MAE - SBP: 43.32 mmHg | DBP: 24.18 mmHg\n"
          ]
        },
        {
          "output_type": "stream",
          "name": "stderr",
          "text": []
        },
        {
          "output_type": "stream",
          "name": "stdout",
          "text": [
            "\n",
            "Epoch 214/500\n",
            "Train Loss: 32.9599 | Val Loss: 34.5064\n",
            "Val MAE - SBP: 44.33 mmHg | DBP: 24.69 mmHg\n"
          ]
        },
        {
          "output_type": "stream",
          "name": "stderr",
          "text": []
        },
        {
          "output_type": "stream",
          "name": "stdout",
          "text": [
            "\n",
            "Epoch 215/500\n",
            "Train Loss: 32.5714 | Val Loss: 35.3104\n",
            "Val MAE - SBP: 45.20 mmHg | DBP: 25.42 mmHg\n"
          ]
        },
        {
          "output_type": "stream",
          "name": "stderr",
          "text": []
        },
        {
          "output_type": "stream",
          "name": "stdout",
          "text": [
            "\n",
            "Epoch 216/500\n",
            "Train Loss: 32.7623 | Val Loss: 33.9978\n",
            "Val MAE - SBP: 43.59 mmHg | DBP: 24.40 mmHg\n"
          ]
        },
        {
          "output_type": "stream",
          "name": "stderr",
          "text": []
        },
        {
          "output_type": "stream",
          "name": "stdout",
          "text": [
            "\n",
            "Epoch 217/500\n",
            "Train Loss: 32.7036 | Val Loss: 35.5227\n",
            "Val MAE - SBP: 45.54 mmHg | DBP: 25.51 mmHg\n"
          ]
        },
        {
          "output_type": "stream",
          "name": "stderr",
          "text": []
        },
        {
          "output_type": "stream",
          "name": "stdout",
          "text": [
            "\n",
            "Epoch 218/500\n",
            "Train Loss: 32.6661 | Val Loss: 33.6084\n",
            "Val MAE - SBP: 43.18 mmHg | DBP: 24.03 mmHg\n"
          ]
        },
        {
          "output_type": "stream",
          "name": "stderr",
          "text": []
        },
        {
          "output_type": "stream",
          "name": "stdout",
          "text": [
            "\n",
            "Epoch 219/500\n",
            "Train Loss: 32.6796 | Val Loss: 34.2444\n",
            "Val MAE - SBP: 43.92 mmHg | DBP: 24.57 mmHg\n"
          ]
        },
        {
          "output_type": "stream",
          "name": "stderr",
          "text": []
        },
        {
          "output_type": "stream",
          "name": "stdout",
          "text": [
            "\n",
            "Epoch 220/500\n",
            "Train Loss: 32.7865 | Val Loss: 34.0790\n",
            "Val MAE - SBP: 43.71 mmHg | DBP: 24.45 mmHg\n"
          ]
        },
        {
          "output_type": "stream",
          "name": "stderr",
          "text": []
        },
        {
          "output_type": "stream",
          "name": "stdout",
          "text": [
            "\n",
            "Epoch 221/500\n",
            "Train Loss: 32.2656 | Val Loss: 33.5180\n",
            "Val MAE - SBP: 43.05 mmHg | DBP: 23.99 mmHg\n",
            "Best model saved (Val Loss: 33.5180)\n"
          ]
        },
        {
          "output_type": "stream",
          "name": "stderr",
          "text": []
        },
        {
          "output_type": "stream",
          "name": "stdout",
          "text": [
            "\n",
            "Epoch 222/500\n",
            "Train Loss: 32.3827 | Val Loss: 33.4726\n",
            "Val MAE - SBP: 42.93 mmHg | DBP: 24.02 mmHg\n",
            "Best model saved (Val Loss: 33.4726)\n"
          ]
        },
        {
          "output_type": "stream",
          "name": "stderr",
          "text": []
        },
        {
          "output_type": "stream",
          "name": "stdout",
          "text": [
            "\n",
            "Epoch 223/500\n",
            "Train Loss: 32.6805 | Val Loss: 37.0629\n",
            "Val MAE - SBP: 47.43 mmHg | DBP: 26.70 mmHg\n"
          ]
        },
        {
          "output_type": "stream",
          "name": "stderr",
          "text": []
        },
        {
          "output_type": "stream",
          "name": "stdout",
          "text": [
            "\n",
            "Epoch 224/500\n",
            "Train Loss: 32.2561 | Val Loss: 36.0431\n",
            "Val MAE - SBP: 46.11 mmHg | DBP: 25.97 mmHg\n"
          ]
        },
        {
          "output_type": "stream",
          "name": "stderr",
          "text": []
        },
        {
          "output_type": "stream",
          "name": "stdout",
          "text": [
            "\n",
            "Epoch 225/500\n",
            "Train Loss: 33.1754 | Val Loss: 34.0700\n",
            "Val MAE - SBP: 43.67 mmHg | DBP: 24.47 mmHg\n"
          ]
        },
        {
          "output_type": "stream",
          "name": "stderr",
          "text": []
        },
        {
          "output_type": "stream",
          "name": "stdout",
          "text": [
            "\n",
            "Epoch 226/500\n",
            "Train Loss: 33.0712 | Val Loss: 33.5139\n",
            "Val MAE - SBP: 42.97 mmHg | DBP: 24.05 mmHg\n"
          ]
        },
        {
          "output_type": "stream",
          "name": "stderr",
          "text": []
        },
        {
          "output_type": "stream",
          "name": "stdout",
          "text": [
            "\n",
            "Epoch 227/500\n",
            "Train Loss: 32.6388 | Val Loss: 34.5469\n",
            "Val MAE - SBP: 44.12 mmHg | DBP: 24.97 mmHg\n"
          ]
        },
        {
          "output_type": "stream",
          "name": "stderr",
          "text": []
        },
        {
          "output_type": "stream",
          "name": "stdout",
          "text": [
            "\n",
            "Epoch 228/500\n",
            "Train Loss: 32.4543 | Val Loss: 33.7618\n",
            "Val MAE - SBP: 43.29 mmHg | DBP: 24.24 mmHg\n"
          ]
        },
        {
          "output_type": "stream",
          "name": "stderr",
          "text": []
        },
        {
          "output_type": "stream",
          "name": "stdout",
          "text": [
            "\n",
            "Epoch 229/500\n",
            "Train Loss: 32.1753 | Val Loss: 33.6060\n",
            "Val MAE - SBP: 43.07 mmHg | DBP: 24.14 mmHg\n"
          ]
        },
        {
          "output_type": "stream",
          "name": "stderr",
          "text": []
        },
        {
          "output_type": "stream",
          "name": "stdout",
          "text": [
            "\n",
            "Epoch 230/500\n",
            "Train Loss: 32.8396 | Val Loss: 33.7619\n",
            "Val MAE - SBP: 43.33 mmHg | DBP: 24.20 mmHg\n"
          ]
        },
        {
          "output_type": "stream",
          "name": "stderr",
          "text": []
        },
        {
          "output_type": "stream",
          "name": "stdout",
          "text": [
            "\n",
            "Epoch 231/500\n",
            "Train Loss: 33.0539 | Val Loss: 33.8806\n",
            "Val MAE - SBP: 43.49 mmHg | DBP: 24.27 mmHg\n"
          ]
        },
        {
          "output_type": "stream",
          "name": "stderr",
          "text": []
        },
        {
          "output_type": "stream",
          "name": "stdout",
          "text": [
            "\n",
            "Epoch 232/500\n",
            "Train Loss: 32.4214 | Val Loss: 33.9583\n",
            "Val MAE - SBP: 43.60 mmHg | DBP: 24.32 mmHg\n"
          ]
        },
        {
          "output_type": "stream",
          "name": "stderr",
          "text": []
        },
        {
          "output_type": "stream",
          "name": "stdout",
          "text": [
            "\n",
            "Epoch 233/500\n",
            "Train Loss: 32.3435 | Val Loss: 33.8200\n",
            "Val MAE - SBP: 43.45 mmHg | DBP: 24.19 mmHg\n"
          ]
        },
        {
          "output_type": "stream",
          "name": "stderr",
          "text": []
        },
        {
          "output_type": "stream",
          "name": "stdout",
          "text": [
            "\n",
            "Epoch 234/500\n",
            "Train Loss: 32.2242 | Val Loss: 33.8944\n",
            "Val MAE - SBP: 43.43 mmHg | DBP: 24.36 mmHg\n"
          ]
        },
        {
          "output_type": "stream",
          "name": "stderr",
          "text": []
        },
        {
          "output_type": "stream",
          "name": "stdout",
          "text": [
            "\n",
            "Epoch 235/500\n",
            "Train Loss: 32.3801 | Val Loss: 33.7313\n",
            "Val MAE - SBP: 43.22 mmHg | DBP: 24.24 mmHg\n"
          ]
        },
        {
          "output_type": "stream",
          "name": "stderr",
          "text": []
        },
        {
          "output_type": "stream",
          "name": "stdout",
          "text": [
            "\n",
            "Epoch 236/500\n",
            "Train Loss: 32.1936 | Val Loss: 34.7573\n",
            "Val MAE - SBP: 44.54 mmHg | DBP: 24.97 mmHg\n"
          ]
        },
        {
          "output_type": "stream",
          "name": "stderr",
          "text": []
        },
        {
          "output_type": "stream",
          "name": "stdout",
          "text": [
            "\n",
            "Epoch 237/500\n",
            "Train Loss: 32.4062 | Val Loss: 33.9569\n",
            "Val MAE - SBP: 43.45 mmHg | DBP: 24.46 mmHg\n"
          ]
        },
        {
          "output_type": "stream",
          "name": "stderr",
          "text": []
        },
        {
          "output_type": "stream",
          "name": "stdout",
          "text": [
            "\n",
            "Epoch 238/500\n",
            "Train Loss: 31.9691 | Val Loss: 33.2813\n",
            "Val MAE - SBP: 42.67 mmHg | DBP: 23.89 mmHg\n",
            "Best model saved (Val Loss: 33.2813)\n"
          ]
        },
        {
          "output_type": "stream",
          "name": "stderr",
          "text": []
        },
        {
          "output_type": "stream",
          "name": "stdout",
          "text": [
            "\n",
            "Epoch 239/500\n",
            "Train Loss: 32.4253 | Val Loss: 33.6824\n",
            "Val MAE - SBP: 43.22 mmHg | DBP: 24.14 mmHg\n"
          ]
        },
        {
          "output_type": "stream",
          "name": "stderr",
          "text": []
        },
        {
          "output_type": "stream",
          "name": "stdout",
          "text": [
            "\n",
            "Epoch 240/500\n",
            "Train Loss: 32.0577 | Val Loss: 33.7633\n",
            "Val MAE - SBP: 43.33 mmHg | DBP: 24.20 mmHg\n"
          ]
        },
        {
          "output_type": "stream",
          "name": "stderr",
          "text": []
        },
        {
          "output_type": "stream",
          "name": "stdout",
          "text": [
            "\n",
            "Epoch 241/500\n",
            "Train Loss: 32.3573 | Val Loss: 33.6385\n",
            "Val MAE - SBP: 43.10 mmHg | DBP: 24.18 mmHg\n"
          ]
        },
        {
          "output_type": "stream",
          "name": "stderr",
          "text": []
        },
        {
          "output_type": "stream",
          "name": "stdout",
          "text": [
            "\n",
            "Epoch 242/500\n",
            "Train Loss: 31.7734 | Val Loss: 33.1789\n",
            "Val MAE - SBP: 42.56 mmHg | DBP: 23.79 mmHg\n",
            "Best model saved (Val Loss: 33.1789)\n"
          ]
        },
        {
          "output_type": "stream",
          "name": "stderr",
          "text": []
        },
        {
          "output_type": "stream",
          "name": "stdout",
          "text": [
            "\n",
            "Epoch 243/500\n",
            "Train Loss: 32.0491 | Val Loss: 33.9087\n",
            "Val MAE - SBP: 43.55 mmHg | DBP: 24.27 mmHg\n"
          ]
        },
        {
          "output_type": "stream",
          "name": "stderr",
          "text": []
        },
        {
          "output_type": "stream",
          "name": "stdout",
          "text": [
            "\n",
            "Epoch 244/500\n",
            "Train Loss: 32.0157 | Val Loss: 34.4950\n",
            "Val MAE - SBP: 44.35 mmHg | DBP: 24.64 mmHg\n"
          ]
        },
        {
          "output_type": "stream",
          "name": "stderr",
          "text": []
        },
        {
          "output_type": "stream",
          "name": "stdout",
          "text": [
            "\n",
            "Epoch 245/500\n",
            "Train Loss: 31.8489 | Val Loss: 34.4133\n",
            "Val MAE - SBP: 44.10 mmHg | DBP: 24.73 mmHg\n"
          ]
        },
        {
          "output_type": "stream",
          "name": "stderr",
          "text": []
        },
        {
          "output_type": "stream",
          "name": "stdout",
          "text": [
            "\n",
            "Epoch 246/500\n",
            "Train Loss: 32.0615 | Val Loss: 33.4867\n",
            "Val MAE - SBP: 42.95 mmHg | DBP: 24.02 mmHg\n"
          ]
        },
        {
          "output_type": "stream",
          "name": "stderr",
          "text": []
        },
        {
          "output_type": "stream",
          "name": "stdout",
          "text": [
            "\n",
            "Epoch 247/500\n",
            "Train Loss: 31.8093 | Val Loss: 34.4101\n",
            "Val MAE - SBP: 44.08 mmHg | DBP: 24.74 mmHg\n"
          ]
        },
        {
          "output_type": "stream",
          "name": "stderr",
          "text": []
        },
        {
          "output_type": "stream",
          "name": "stdout",
          "text": [
            "\n",
            "Epoch 248/500\n",
            "Train Loss: 32.0345 | Val Loss: 33.5161\n",
            "Val MAE - SBP: 43.07 mmHg | DBP: 23.97 mmHg\n"
          ]
        },
        {
          "output_type": "stream",
          "name": "stderr",
          "text": []
        },
        {
          "output_type": "stream",
          "name": "stdout",
          "text": [
            "\n",
            "Epoch 249/500\n",
            "Train Loss: 31.8407 | Val Loss: 33.7862\n",
            "Val MAE - SBP: 43.35 mmHg | DBP: 24.22 mmHg\n"
          ]
        },
        {
          "output_type": "stream",
          "name": "stderr",
          "text": []
        },
        {
          "output_type": "stream",
          "name": "stdout",
          "text": [
            "\n",
            "Epoch 250/500\n",
            "Train Loss: 31.6866 | Val Loss: 33.9147\n",
            "Val MAE - SBP: 43.52 mmHg | DBP: 24.31 mmHg\n"
          ]
        },
        {
          "output_type": "stream",
          "name": "stderr",
          "text": []
        },
        {
          "output_type": "stream",
          "name": "stdout",
          "text": [
            "\n",
            "Epoch 251/500\n",
            "Train Loss: 32.1620 | Val Loss: 34.6434\n",
            "Val MAE - SBP: 44.50 mmHg | DBP: 24.79 mmHg\n"
          ]
        },
        {
          "output_type": "stream",
          "name": "stderr",
          "text": []
        },
        {
          "output_type": "stream",
          "name": "stdout",
          "text": [
            "\n",
            "Epoch 252/500\n",
            "Train Loss: 31.8170 | Val Loss: 34.0803\n",
            "Val MAE - SBP: 43.57 mmHg | DBP: 24.59 mmHg\n"
          ]
        },
        {
          "output_type": "stream",
          "name": "stderr",
          "text": []
        },
        {
          "output_type": "stream",
          "name": "stdout",
          "text": [
            "\n",
            "Epoch 253/500\n",
            "Train Loss: 31.9103 | Val Loss: 35.1012\n",
            "Val MAE - SBP: 44.91 mmHg | DBP: 25.29 mmHg\n"
          ]
        },
        {
          "output_type": "stream",
          "name": "stderr",
          "text": []
        },
        {
          "output_type": "stream",
          "name": "stdout",
          "text": [
            "\n",
            "Epoch 254/500\n",
            "Train Loss: 31.9004 | Val Loss: 33.3435\n",
            "Val MAE - SBP: 42.80 mmHg | DBP: 23.89 mmHg\n"
          ]
        },
        {
          "output_type": "stream",
          "name": "stderr",
          "text": []
        },
        {
          "output_type": "stream",
          "name": "stdout",
          "text": [
            "\n",
            "Epoch 255/500\n",
            "Train Loss: 31.8588 | Val Loss: 33.4654\n",
            "Val MAE - SBP: 42.93 mmHg | DBP: 24.00 mmHg\n"
          ]
        },
        {
          "output_type": "stream",
          "name": "stderr",
          "text": []
        },
        {
          "output_type": "stream",
          "name": "stdout",
          "text": [
            "\n",
            "Epoch 256/500\n",
            "Train Loss: 31.5520 | Val Loss: 33.4929\n",
            "Val MAE - SBP: 42.87 mmHg | DBP: 24.11 mmHg\n"
          ]
        },
        {
          "output_type": "stream",
          "name": "stderr",
          "text": []
        },
        {
          "output_type": "stream",
          "name": "stdout",
          "text": [
            "\n",
            "Epoch 257/500\n",
            "Train Loss: 31.5973 | Val Loss: 33.1478\n",
            "Val MAE - SBP: 42.45 mmHg | DBP: 23.85 mmHg\n",
            "Best model saved (Val Loss: 33.1478)\n"
          ]
        },
        {
          "output_type": "stream",
          "name": "stderr",
          "text": []
        },
        {
          "output_type": "stream",
          "name": "stdout",
          "text": [
            "\n",
            "Epoch 258/500\n",
            "Train Loss: 31.4616 | Val Loss: 33.1589\n",
            "Val MAE - SBP: 42.45 mmHg | DBP: 23.87 mmHg\n"
          ]
        },
        {
          "output_type": "stream",
          "name": "stderr",
          "text": []
        },
        {
          "output_type": "stream",
          "name": "stdout",
          "text": [
            "\n",
            "Epoch 259/500\n",
            "Train Loss: 31.5836 | Val Loss: 33.4278\n",
            "Val MAE - SBP: 42.91 mmHg | DBP: 23.94 mmHg\n"
          ]
        },
        {
          "output_type": "stream",
          "name": "stderr",
          "text": []
        },
        {
          "output_type": "stream",
          "name": "stdout",
          "text": [
            "\n",
            "Epoch 260/500\n",
            "Train Loss: 31.6683 | Val Loss: 35.2177\n",
            "Val MAE - SBP: 45.03 mmHg | DBP: 25.41 mmHg\n"
          ]
        },
        {
          "output_type": "stream",
          "name": "stderr",
          "text": []
        },
        {
          "output_type": "stream",
          "name": "stdout",
          "text": [
            "\n",
            "Epoch 261/500\n",
            "Train Loss: 31.8312 | Val Loss: 33.1635\n",
            "Val MAE - SBP: 42.50 mmHg | DBP: 23.83 mmHg\n"
          ]
        },
        {
          "output_type": "stream",
          "name": "stderr",
          "text": []
        },
        {
          "output_type": "stream",
          "name": "stdout",
          "text": [
            "\n",
            "Epoch 262/500\n",
            "Train Loss: 31.3818 | Val Loss: 33.7236\n",
            "Val MAE - SBP: 43.14 mmHg | DBP: 24.31 mmHg\n"
          ]
        },
        {
          "output_type": "stream",
          "name": "stderr",
          "text": []
        },
        {
          "output_type": "stream",
          "name": "stdout",
          "text": [
            "\n",
            "Epoch 263/500\n",
            "Train Loss: 31.7554 | Val Loss: 33.3351\n",
            "Val MAE - SBP: 42.76 mmHg | DBP: 23.91 mmHg\n"
          ]
        },
        {
          "output_type": "stream",
          "name": "stderr",
          "text": []
        },
        {
          "output_type": "stream",
          "name": "stdout",
          "text": [
            "\n",
            "Epoch 264/500\n",
            "Train Loss: 31.8454 | Val Loss: 33.6583\n",
            "Val MAE - SBP: 43.17 mmHg | DBP: 24.14 mmHg\n"
          ]
        },
        {
          "output_type": "stream",
          "name": "stderr",
          "text": []
        },
        {
          "output_type": "stream",
          "name": "stdout",
          "text": [
            "\n",
            "Epoch 265/500\n",
            "Train Loss: 31.6446 | Val Loss: 33.4614\n",
            "Val MAE - SBP: 42.92 mmHg | DBP: 24.00 mmHg\n"
          ]
        },
        {
          "output_type": "stream",
          "name": "stderr",
          "text": []
        },
        {
          "output_type": "stream",
          "name": "stdout",
          "text": [
            "\n",
            "Epoch 266/500\n",
            "Train Loss: 31.4286 | Val Loss: 33.7777\n",
            "Val MAE - SBP: 43.28 mmHg | DBP: 24.27 mmHg\n"
          ]
        },
        {
          "output_type": "stream",
          "name": "stderr",
          "text": []
        },
        {
          "output_type": "stream",
          "name": "stdout",
          "text": [
            "\n",
            "Epoch 267/500\n",
            "Train Loss: 31.5368 | Val Loss: 33.9882\n",
            "Val MAE - SBP: 43.51 mmHg | DBP: 24.47 mmHg\n"
          ]
        },
        {
          "output_type": "stream",
          "name": "stderr",
          "text": []
        },
        {
          "output_type": "stream",
          "name": "stdout",
          "text": [
            "\n",
            "Epoch 268/500\n",
            "Train Loss: 31.6725 | Val Loss: 33.9783\n",
            "Val MAE - SBP: 43.55 mmHg | DBP: 24.40 mmHg\n"
          ]
        },
        {
          "output_type": "stream",
          "name": "stderr",
          "text": []
        },
        {
          "output_type": "stream",
          "name": "stdout",
          "text": [
            "\n",
            "Epoch 269/500\n",
            "Train Loss: 31.5478 | Val Loss: 33.4141\n",
            "Val MAE - SBP: 42.85 mmHg | DBP: 23.98 mmHg\n"
          ]
        },
        {
          "output_type": "stream",
          "name": "stderr",
          "text": []
        },
        {
          "output_type": "stream",
          "name": "stdout",
          "text": [
            "\n",
            "Epoch 270/500\n",
            "Train Loss: 31.3426 | Val Loss: 33.8689\n",
            "Val MAE - SBP: 43.37 mmHg | DBP: 24.37 mmHg\n"
          ]
        },
        {
          "output_type": "stream",
          "name": "stderr",
          "text": []
        },
        {
          "output_type": "stream",
          "name": "stdout",
          "text": [
            "\n",
            "Epoch 271/500\n",
            "Train Loss: 31.7465 | Val Loss: 33.1269\n",
            "Val MAE - SBP: 42.44 mmHg | DBP: 23.81 mmHg\n",
            "Best model saved (Val Loss: 33.1269)\n"
          ]
        },
        {
          "output_type": "stream",
          "name": "stderr",
          "text": []
        },
        {
          "output_type": "stream",
          "name": "stdout",
          "text": [
            "\n",
            "Epoch 272/500\n",
            "Train Loss: 31.1796 | Val Loss: 33.3733\n",
            "Val MAE - SBP: 42.71 mmHg | DBP: 24.04 mmHg\n"
          ]
        },
        {
          "output_type": "stream",
          "name": "stderr",
          "text": []
        },
        {
          "output_type": "stream",
          "name": "stdout",
          "text": [
            "\n",
            "Epoch 273/500\n",
            "Train Loss: 31.5142 | Val Loss: 35.6660\n",
            "Val MAE - SBP: 45.76 mmHg | DBP: 25.57 mmHg\n"
          ]
        },
        {
          "output_type": "stream",
          "name": "stderr",
          "text": []
        },
        {
          "output_type": "stream",
          "name": "stdout",
          "text": [
            "\n",
            "Epoch 274/500\n",
            "Train Loss: 31.6730 | Val Loss: 33.3821\n",
            "Val MAE - SBP: 42.79 mmHg | DBP: 23.97 mmHg\n"
          ]
        },
        {
          "output_type": "stream",
          "name": "stderr",
          "text": []
        },
        {
          "output_type": "stream",
          "name": "stdout",
          "text": [
            "\n",
            "Epoch 275/500\n",
            "Train Loss: 31.2079 | Val Loss: 35.0509\n",
            "Val MAE - SBP: 44.82 mmHg | DBP: 25.28 mmHg\n"
          ]
        },
        {
          "output_type": "stream",
          "name": "stderr",
          "text": []
        },
        {
          "output_type": "stream",
          "name": "stdout",
          "text": [
            "\n",
            "Epoch 276/500\n",
            "Train Loss: 31.8363 | Val Loss: 34.0138\n",
            "Val MAE - SBP: 43.63 mmHg | DBP: 24.40 mmHg\n"
          ]
        },
        {
          "output_type": "stream",
          "name": "stderr",
          "text": []
        },
        {
          "output_type": "stream",
          "name": "stdout",
          "text": [
            "\n",
            "Epoch 277/500\n",
            "Train Loss: 31.0236 | Val Loss: 33.4227\n",
            "Val MAE - SBP: 42.80 mmHg | DBP: 24.04 mmHg\n"
          ]
        },
        {
          "output_type": "stream",
          "name": "stderr",
          "text": []
        },
        {
          "output_type": "stream",
          "name": "stdout",
          "text": [
            "\n",
            "Epoch 278/500\n",
            "Train Loss: 31.2355 | Val Loss: 34.3138\n",
            "Val MAE - SBP: 43.89 mmHg | DBP: 24.74 mmHg\n"
          ]
        },
        {
          "output_type": "stream",
          "name": "stderr",
          "text": []
        },
        {
          "output_type": "stream",
          "name": "stdout",
          "text": [
            "\n",
            "Epoch 279/500\n",
            "Train Loss: 31.2809 | Val Loss: 33.4536\n",
            "Val MAE - SBP: 42.88 mmHg | DBP: 24.03 mmHg\n"
          ]
        },
        {
          "output_type": "stream",
          "name": "stderr",
          "text": []
        },
        {
          "output_type": "stream",
          "name": "stdout",
          "text": [
            "\n",
            "Epoch 280/500\n",
            "Train Loss: 31.5089 | Val Loss: 34.0634\n",
            "Val MAE - SBP: 43.59 mmHg | DBP: 24.53 mmHg\n"
          ]
        },
        {
          "output_type": "stream",
          "name": "stderr",
          "text": []
        },
        {
          "output_type": "stream",
          "name": "stdout",
          "text": [
            "\n",
            "Epoch 281/500\n",
            "Train Loss: 31.2876 | Val Loss: 33.8026\n",
            "Val MAE - SBP: 43.25 mmHg | DBP: 24.36 mmHg\n"
          ]
        },
        {
          "output_type": "stream",
          "name": "stderr",
          "text": []
        },
        {
          "output_type": "stream",
          "name": "stdout",
          "text": [
            "\n",
            "Epoch 282/500\n",
            "Train Loss: 31.3579 | Val Loss: 33.7206\n",
            "Val MAE - SBP: 43.18 mmHg | DBP: 24.26 mmHg\n"
          ]
        },
        {
          "output_type": "stream",
          "name": "stderr",
          "text": []
        },
        {
          "output_type": "stream",
          "name": "stdout",
          "text": [
            "\n",
            "Epoch 283/500\n",
            "Train Loss: 30.9436 | Val Loss: 33.3827\n",
            "Val MAE - SBP: 42.66 mmHg | DBP: 24.11 mmHg\n"
          ]
        },
        {
          "output_type": "stream",
          "name": "stderr",
          "text": []
        },
        {
          "output_type": "stream",
          "name": "stdout",
          "text": [
            "\n",
            "Epoch 284/500\n",
            "Train Loss: 31.0915 | Val Loss: 33.2611\n",
            "Val MAE - SBP: 42.61 mmHg | DBP: 23.92 mmHg\n"
          ]
        },
        {
          "output_type": "stream",
          "name": "stderr",
          "text": []
        },
        {
          "output_type": "stream",
          "name": "stdout",
          "text": [
            "\n",
            "Epoch 285/500\n",
            "Train Loss: 31.3979 | Val Loss: 33.3692\n",
            "Val MAE - SBP: 42.77 mmHg | DBP: 23.96 mmHg\n"
          ]
        },
        {
          "output_type": "stream",
          "name": "stderr",
          "text": []
        },
        {
          "output_type": "stream",
          "name": "stdout",
          "text": [
            "\n",
            "Epoch 286/500\n",
            "Train Loss: 31.1576 | Val Loss: 34.3345\n",
            "Val MAE - SBP: 44.07 mmHg | DBP: 24.60 mmHg\n"
          ]
        },
        {
          "output_type": "stream",
          "name": "stderr",
          "text": []
        },
        {
          "output_type": "stream",
          "name": "stdout",
          "text": [
            "\n",
            "Epoch 287/500\n",
            "Train Loss: 31.1511 | Val Loss: 33.2914\n",
            "Val MAE - SBP: 42.70 mmHg | DBP: 23.89 mmHg\n"
          ]
        },
        {
          "output_type": "stream",
          "name": "stderr",
          "text": []
        },
        {
          "output_type": "stream",
          "name": "stdout",
          "text": [
            "\n",
            "Epoch 288/500\n",
            "Train Loss: 31.4189 | Val Loss: 34.3462\n",
            "Val MAE - SBP: 43.99 mmHg | DBP: 24.70 mmHg\n"
          ]
        },
        {
          "output_type": "stream",
          "name": "stderr",
          "text": []
        },
        {
          "output_type": "stream",
          "name": "stdout",
          "text": [
            "\n",
            "Epoch 289/500\n",
            "Train Loss: 32.2502 | Val Loss: 35.2099\n",
            "Val MAE - SBP: 45.16 mmHg | DBP: 25.26 mmHg\n"
          ]
        },
        {
          "output_type": "stream",
          "name": "stderr",
          "text": []
        },
        {
          "output_type": "stream",
          "name": "stdout",
          "text": [
            "\n",
            "Epoch 290/500\n",
            "Train Loss: 31.0746 | Val Loss: 34.0338\n",
            "Val MAE - SBP: 43.58 mmHg | DBP: 24.49 mmHg\n"
          ]
        },
        {
          "output_type": "stream",
          "name": "stderr",
          "text": []
        },
        {
          "output_type": "stream",
          "name": "stdout",
          "text": [
            "\n",
            "Epoch 291/500\n",
            "Train Loss: 30.9390 | Val Loss: 35.4229\n",
            "Val MAE - SBP: 45.43 mmHg | DBP: 25.41 mmHg\n"
          ]
        },
        {
          "output_type": "stream",
          "name": "stderr",
          "text": []
        },
        {
          "output_type": "stream",
          "name": "stdout",
          "text": [
            "\n",
            "Epoch 292/500\n",
            "Train Loss: 30.8906 | Val Loss: 33.1618\n",
            "Val MAE - SBP: 42.45 mmHg | DBP: 23.88 mmHg\n"
          ]
        },
        {
          "output_type": "stream",
          "name": "stderr",
          "text": []
        },
        {
          "output_type": "stream",
          "name": "stdout",
          "text": [
            "\n",
            "Epoch 293/500\n",
            "Train Loss: 30.7630 | Val Loss: 34.3255\n",
            "Val MAE - SBP: 43.93 mmHg | DBP: 24.72 mmHg\n"
          ]
        },
        {
          "output_type": "stream",
          "name": "stderr",
          "text": []
        },
        {
          "output_type": "stream",
          "name": "stdout",
          "text": [
            "\n",
            "Epoch 294/500\n",
            "Train Loss: 31.2204 | Val Loss: 33.4849\n",
            "Val MAE - SBP: 42.91 mmHg | DBP: 24.06 mmHg\n"
          ]
        },
        {
          "output_type": "stream",
          "name": "stderr",
          "text": []
        },
        {
          "output_type": "stream",
          "name": "stdout",
          "text": [
            "\n",
            "Epoch 295/500\n",
            "Train Loss: 31.5547 | Val Loss: 35.8419\n",
            "Val MAE - SBP: 45.99 mmHg | DBP: 25.70 mmHg\n"
          ]
        },
        {
          "output_type": "stream",
          "name": "stderr",
          "text": []
        },
        {
          "output_type": "stream",
          "name": "stdout",
          "text": [
            "\n",
            "Epoch 296/500\n",
            "Train Loss: 31.2188 | Val Loss: 33.7116\n",
            "Val MAE - SBP: 43.22 mmHg | DBP: 24.20 mmHg\n"
          ]
        },
        {
          "output_type": "stream",
          "name": "stderr",
          "text": []
        },
        {
          "output_type": "stream",
          "name": "stdout",
          "text": [
            "\n",
            "Epoch 297/500\n",
            "Train Loss: 30.8056 | Val Loss: 35.4984\n",
            "Val MAE - SBP: 45.61 mmHg | DBP: 25.38 mmHg\n"
          ]
        },
        {
          "output_type": "stream",
          "name": "stderr",
          "text": []
        },
        {
          "output_type": "stream",
          "name": "stdout",
          "text": [
            "\n",
            "Epoch 298/500\n",
            "Train Loss: 30.9844 | Val Loss: 33.8316\n",
            "Val MAE - SBP: 43.38 mmHg | DBP: 24.29 mmHg\n"
          ]
        },
        {
          "output_type": "stream",
          "name": "stderr",
          "text": []
        },
        {
          "output_type": "stream",
          "name": "stdout",
          "text": [
            "\n",
            "Epoch 299/500\n",
            "Train Loss: 30.7084 | Val Loss: 34.2511\n",
            "Val MAE - SBP: 43.91 mmHg | DBP: 24.59 mmHg\n"
          ]
        },
        {
          "output_type": "stream",
          "name": "stderr",
          "text": []
        },
        {
          "output_type": "stream",
          "name": "stdout",
          "text": [
            "\n",
            "Epoch 300/500\n",
            "Train Loss: 31.3524 | Val Loss: 33.5588\n",
            "Val MAE - SBP: 43.00 mmHg | DBP: 24.11 mmHg\n"
          ]
        },
        {
          "output_type": "stream",
          "name": "stderr",
          "text": []
        },
        {
          "output_type": "stream",
          "name": "stdout",
          "text": [
            "\n",
            "Epoch 301/500\n",
            "Train Loss: 30.8176 | Val Loss: 33.6089\n",
            "Val MAE - SBP: 43.06 mmHg | DBP: 24.16 mmHg\n"
          ]
        },
        {
          "output_type": "stream",
          "name": "stderr",
          "text": []
        },
        {
          "output_type": "stream",
          "name": "stdout",
          "text": [
            "\n",
            "Epoch 302/500\n",
            "Train Loss: 31.2182 | Val Loss: 33.6329\n",
            "Val MAE - SBP: 43.08 mmHg | DBP: 24.19 mmHg\n"
          ]
        },
        {
          "output_type": "stream",
          "name": "stderr",
          "text": []
        },
        {
          "output_type": "stream",
          "name": "stdout",
          "text": [
            "\n",
            "Epoch 303/500\n",
            "Train Loss: 30.6505 | Val Loss: 33.6528\n",
            "Val MAE - SBP: 43.09 mmHg | DBP: 24.21 mmHg\n"
          ]
        },
        {
          "output_type": "stream",
          "name": "stderr",
          "text": []
        },
        {
          "output_type": "stream",
          "name": "stdout",
          "text": [
            "\n",
            "Epoch 304/500\n",
            "Train Loss: 31.0753 | Val Loss: 33.9882\n",
            "Val MAE - SBP: 43.55 mmHg | DBP: 24.43 mmHg\n"
          ]
        },
        {
          "output_type": "stream",
          "name": "stderr",
          "text": []
        },
        {
          "output_type": "stream",
          "name": "stdout",
          "text": [
            "\n",
            "Epoch 305/500\n",
            "Train Loss: 30.5235 | Val Loss: 34.0005\n",
            "Val MAE - SBP: 43.44 mmHg | DBP: 24.56 mmHg\n"
          ]
        },
        {
          "output_type": "stream",
          "name": "stderr",
          "text": []
        },
        {
          "output_type": "stream",
          "name": "stdout",
          "text": [
            "\n",
            "Epoch 306/500\n",
            "Train Loss: 30.5402 | Val Loss: 33.7951\n",
            "Val MAE - SBP: 43.18 mmHg | DBP: 24.41 mmHg\n"
          ]
        },
        {
          "output_type": "stream",
          "name": "stderr",
          "text": []
        },
        {
          "output_type": "stream",
          "name": "stdout",
          "text": [
            "\n",
            "Epoch 307/500\n",
            "Train Loss: 31.2583 | Val Loss: 33.3912\n",
            "Val MAE - SBP: 42.72 mmHg | DBP: 24.06 mmHg\n"
          ]
        },
        {
          "output_type": "stream",
          "name": "stderr",
          "text": []
        },
        {
          "output_type": "stream",
          "name": "stdout",
          "text": [
            "\n",
            "Epoch 308/500\n",
            "Train Loss: 30.9187 | Val Loss: 34.2045\n",
            "Val MAE - SBP: 43.87 mmHg | DBP: 24.54 mmHg\n"
          ]
        },
        {
          "output_type": "stream",
          "name": "stderr",
          "text": []
        },
        {
          "output_type": "stream",
          "name": "stdout",
          "text": [
            "\n",
            "Epoch 309/500\n",
            "Train Loss: 31.3171 | Val Loss: 35.1537\n",
            "Val MAE - SBP: 45.09 mmHg | DBP: 25.22 mmHg\n"
          ]
        },
        {
          "output_type": "stream",
          "name": "stderr",
          "text": []
        },
        {
          "output_type": "stream",
          "name": "stdout",
          "text": [
            "\n",
            "Epoch 310/500\n",
            "Train Loss: 30.7957 | Val Loss: 34.1461\n",
            "Val MAE - SBP: 43.68 mmHg | DBP: 24.62 mmHg\n"
          ]
        },
        {
          "output_type": "stream",
          "name": "stderr",
          "text": []
        },
        {
          "output_type": "stream",
          "name": "stdout",
          "text": [
            "\n",
            "Epoch 311/500\n",
            "Train Loss: 30.7650 | Val Loss: 34.0341\n",
            "Val MAE - SBP: 43.50 mmHg | DBP: 24.57 mmHg\n"
          ]
        },
        {
          "output_type": "stream",
          "name": "stderr",
          "text": []
        },
        {
          "output_type": "stream",
          "name": "stdout",
          "text": [
            "\n",
            "Epoch 312/500\n",
            "Train Loss: 30.5842 | Val Loss: 34.0494\n",
            "Val MAE - SBP: 43.58 mmHg | DBP: 24.52 mmHg\n"
          ]
        },
        {
          "output_type": "stream",
          "name": "stderr",
          "text": []
        },
        {
          "output_type": "stream",
          "name": "stdout",
          "text": [
            "\n",
            "Epoch 313/500\n",
            "Train Loss: 30.8220 | Val Loss: 33.9663\n",
            "Val MAE - SBP: 43.46 mmHg | DBP: 24.47 mmHg\n"
          ]
        },
        {
          "output_type": "stream",
          "name": "stderr",
          "text": []
        },
        {
          "output_type": "stream",
          "name": "stdout",
          "text": [
            "\n",
            "Epoch 314/500\n",
            "Train Loss: 30.8563 | Val Loss: 33.3772\n",
            "Val MAE - SBP: 42.76 mmHg | DBP: 24.00 mmHg\n"
          ]
        },
        {
          "output_type": "stream",
          "name": "stderr",
          "text": []
        },
        {
          "output_type": "stream",
          "name": "stdout",
          "text": [
            "\n",
            "Epoch 315/500\n",
            "Train Loss: 30.9373 | Val Loss: 33.5279\n",
            "Val MAE - SBP: 42.90 mmHg | DBP: 24.16 mmHg\n"
          ]
        },
        {
          "output_type": "stream",
          "name": "stderr",
          "text": []
        },
        {
          "output_type": "stream",
          "name": "stdout",
          "text": [
            "\n",
            "Epoch 316/500\n",
            "Train Loss: 30.7033 | Val Loss: 35.7013\n",
            "Val MAE - SBP: 45.60 mmHg | DBP: 25.80 mmHg\n"
          ]
        },
        {
          "output_type": "stream",
          "name": "stderr",
          "text": []
        },
        {
          "output_type": "stream",
          "name": "stdout",
          "text": [
            "\n",
            "Epoch 317/500\n",
            "Train Loss: 30.6012 | Val Loss: 33.3255\n",
            "Val MAE - SBP: 42.66 mmHg | DBP: 23.99 mmHg\n"
          ]
        },
        {
          "output_type": "stream",
          "name": "stderr",
          "text": []
        },
        {
          "output_type": "stream",
          "name": "stdout",
          "text": [
            "\n",
            "Epoch 318/500\n",
            "Train Loss: 30.6789 | Val Loss: 34.4321\n",
            "Val MAE - SBP: 44.08 mmHg | DBP: 24.78 mmHg\n"
          ]
        },
        {
          "output_type": "stream",
          "name": "stderr",
          "text": []
        },
        {
          "output_type": "stream",
          "name": "stdout",
          "text": [
            "\n",
            "Epoch 319/500\n",
            "Train Loss: 30.7028 | Val Loss: 33.9338\n",
            "Val MAE - SBP: 43.43 mmHg | DBP: 24.44 mmHg\n"
          ]
        },
        {
          "output_type": "stream",
          "name": "stderr",
          "text": []
        },
        {
          "output_type": "stream",
          "name": "stdout",
          "text": [
            "\n",
            "Epoch 320/500\n",
            "Train Loss: 30.5386 | Val Loss: 34.5498\n",
            "Val MAE - SBP: 44.14 mmHg | DBP: 24.96 mmHg\n"
          ]
        },
        {
          "output_type": "stream",
          "name": "stderr",
          "text": []
        },
        {
          "output_type": "stream",
          "name": "stdout",
          "text": [
            "\n",
            "Epoch 321/500\n",
            "Train Loss: 30.7735 | Val Loss: 33.8108\n",
            "Val MAE - SBP: 43.32 mmHg | DBP: 24.30 mmHg\n"
          ]
        },
        {
          "output_type": "stream",
          "name": "stderr",
          "text": []
        },
        {
          "output_type": "stream",
          "name": "stdout",
          "text": [
            "\n",
            "Epoch 322/500\n",
            "Train Loss: 30.8125 | Val Loss: 33.3056\n",
            "Val MAE - SBP: 42.67 mmHg | DBP: 23.94 mmHg\n"
          ]
        },
        {
          "output_type": "stream",
          "name": "stderr",
          "text": []
        },
        {
          "output_type": "stream",
          "name": "stdout",
          "text": [
            "\n",
            "Epoch 323/500\n",
            "Train Loss: 30.4547 | Val Loss: 33.4231\n",
            "Val MAE - SBP: 42.82 mmHg | DBP: 24.03 mmHg\n"
          ]
        },
        {
          "output_type": "stream",
          "name": "stderr",
          "text": []
        },
        {
          "output_type": "stream",
          "name": "stdout",
          "text": [
            "\n",
            "Epoch 324/500\n",
            "Train Loss: 30.1046 | Val Loss: 33.4142\n",
            "Val MAE - SBP: 42.78 mmHg | DBP: 24.05 mmHg\n"
          ]
        },
        {
          "output_type": "stream",
          "name": "stderr",
          "text": []
        },
        {
          "output_type": "stream",
          "name": "stdout",
          "text": [
            "\n",
            "Epoch 325/500\n",
            "Train Loss: 30.6080 | Val Loss: 35.3147\n",
            "Val MAE - SBP: 45.11 mmHg | DBP: 25.52 mmHg\n"
          ]
        },
        {
          "output_type": "stream",
          "name": "stderr",
          "text": []
        },
        {
          "output_type": "stream",
          "name": "stdout",
          "text": [
            "\n",
            "Epoch 326/500\n",
            "Train Loss: 30.7167 | Val Loss: 33.2365\n",
            "Val MAE - SBP: 42.46 mmHg | DBP: 24.01 mmHg\n"
          ]
        },
        {
          "output_type": "stream",
          "name": "stderr",
          "text": []
        },
        {
          "output_type": "stream",
          "name": "stdout",
          "text": [
            "\n",
            "Epoch 327/500\n",
            "Train Loss: 30.2508 | Val Loss: 33.2408\n",
            "Val MAE - SBP: 42.53 mmHg | DBP: 23.95 mmHg\n"
          ]
        },
        {
          "output_type": "stream",
          "name": "stderr",
          "text": []
        },
        {
          "output_type": "stream",
          "name": "stdout",
          "text": [
            "\n",
            "Epoch 328/500\n",
            "Train Loss: 30.5007 | Val Loss: 33.5365\n",
            "Val MAE - SBP: 42.94 mmHg | DBP: 24.14 mmHg\n"
          ]
        },
        {
          "output_type": "stream",
          "name": "stderr",
          "text": []
        },
        {
          "output_type": "stream",
          "name": "stdout",
          "text": [
            "\n",
            "Epoch 329/500\n",
            "Train Loss: 30.3826 | Val Loss: 33.2682\n",
            "Val MAE - SBP: 42.55 mmHg | DBP: 23.98 mmHg\n"
          ]
        },
        {
          "output_type": "stream",
          "name": "stderr",
          "text": []
        },
        {
          "output_type": "stream",
          "name": "stdout",
          "text": [
            "\n",
            "Epoch 330/500\n",
            "Train Loss: 30.2772 | Val Loss: 33.5606\n",
            "Val MAE - SBP: 42.90 mmHg | DBP: 24.22 mmHg\n"
          ]
        },
        {
          "output_type": "stream",
          "name": "stderr",
          "text": []
        },
        {
          "output_type": "stream",
          "name": "stdout",
          "text": [
            "\n",
            "Epoch 331/500\n",
            "Train Loss: 30.3782 | Val Loss: 33.5661\n",
            "Val MAE - SBP: 42.93 mmHg | DBP: 24.21 mmHg\n"
          ]
        },
        {
          "output_type": "stream",
          "name": "stderr",
          "text": []
        },
        {
          "output_type": "stream",
          "name": "stdout",
          "text": [
            "\n",
            "Epoch 332/500\n",
            "Train Loss: 30.6473 | Val Loss: 35.1371\n",
            "Val MAE - SBP: 44.86 mmHg | DBP: 25.42 mmHg\n"
          ]
        },
        {
          "output_type": "stream",
          "name": "stderr",
          "text": []
        },
        {
          "output_type": "stream",
          "name": "stdout",
          "text": [
            "\n",
            "Epoch 333/500\n",
            "Train Loss: 30.0250 | Val Loss: 33.4329\n",
            "Val MAE - SBP: 42.76 mmHg | DBP: 24.10 mmHg\n"
          ]
        },
        {
          "output_type": "stream",
          "name": "stderr",
          "text": []
        },
        {
          "output_type": "stream",
          "name": "stdout",
          "text": [
            "\n",
            "Epoch 334/500\n",
            "Train Loss: 30.0919 | Val Loss: 33.6735\n",
            "Val MAE - SBP: 43.06 mmHg | DBP: 24.28 mmHg\n"
          ]
        },
        {
          "output_type": "stream",
          "name": "stderr",
          "text": []
        },
        {
          "output_type": "stream",
          "name": "stdout",
          "text": [
            "\n",
            "Epoch 335/500\n",
            "Train Loss: 30.1528 | Val Loss: 33.5380\n",
            "Val MAE - SBP: 42.86 mmHg | DBP: 24.22 mmHg\n"
          ]
        },
        {
          "output_type": "stream",
          "name": "stderr",
          "text": []
        },
        {
          "output_type": "stream",
          "name": "stdout",
          "text": [
            "\n",
            "Epoch 336/500\n",
            "Train Loss: 30.5661 | Val Loss: 34.4094\n",
            "Val MAE - SBP: 44.05 mmHg | DBP: 24.77 mmHg\n"
          ]
        },
        {
          "output_type": "stream",
          "name": "stderr",
          "text": []
        },
        {
          "output_type": "stream",
          "name": "stdout",
          "text": [
            "\n",
            "Epoch 337/500\n",
            "Train Loss: 30.0736 | Val Loss: 33.5259\n",
            "Val MAE - SBP: 42.99 mmHg | DBP: 24.06 mmHg\n"
          ]
        },
        {
          "output_type": "stream",
          "name": "stderr",
          "text": []
        },
        {
          "output_type": "stream",
          "name": "stdout",
          "text": [
            "\n",
            "Epoch 338/500\n",
            "Train Loss: 30.2651 | Val Loss: 35.0351\n",
            "Val MAE - SBP: 44.83 mmHg | DBP: 25.24 mmHg\n"
          ]
        },
        {
          "output_type": "stream",
          "name": "stderr",
          "text": []
        },
        {
          "output_type": "stream",
          "name": "stdout",
          "text": [
            "\n",
            "Epoch 339/500\n",
            "Train Loss: 30.2997 | Val Loss: 33.7057\n",
            "Val MAE - SBP: 43.06 mmHg | DBP: 24.36 mmHg\n"
          ]
        },
        {
          "output_type": "stream",
          "name": "stderr",
          "text": []
        },
        {
          "output_type": "stream",
          "name": "stdout",
          "text": [
            "\n",
            "Epoch 340/500\n",
            "Train Loss: 30.1529 | Val Loss: 33.5112\n",
            "Val MAE - SBP: 42.88 mmHg | DBP: 24.14 mmHg\n"
          ]
        },
        {
          "output_type": "stream",
          "name": "stderr",
          "text": []
        },
        {
          "output_type": "stream",
          "name": "stdout",
          "text": [
            "\n",
            "Epoch 341/500\n",
            "Train Loss: 30.1924 | Val Loss: 34.0400\n",
            "Val MAE - SBP: 43.55 mmHg | DBP: 24.53 mmHg\n"
          ]
        },
        {
          "output_type": "stream",
          "name": "stderr",
          "text": []
        },
        {
          "output_type": "stream",
          "name": "stdout",
          "text": [
            "\n",
            "Epoch 342/500\n",
            "Train Loss: 30.0838 | Val Loss: 34.3204\n",
            "Val MAE - SBP: 43.88 mmHg | DBP: 24.76 mmHg\n"
          ]
        },
        {
          "output_type": "stream",
          "name": "stderr",
          "text": []
        },
        {
          "output_type": "stream",
          "name": "stdout",
          "text": [
            "\n",
            "Epoch 343/500\n",
            "Train Loss: 30.0819 | Val Loss: 33.5299\n",
            "Val MAE - SBP: 42.86 mmHg | DBP: 24.20 mmHg\n"
          ]
        },
        {
          "output_type": "stream",
          "name": "stderr",
          "text": []
        },
        {
          "output_type": "stream",
          "name": "stdout",
          "text": [
            "\n",
            "Epoch 344/500\n",
            "Train Loss: 30.0808 | Val Loss: 33.7289\n",
            "Val MAE - SBP: 42.97 mmHg | DBP: 24.49 mmHg\n"
          ]
        },
        {
          "output_type": "stream",
          "name": "stderr",
          "text": []
        },
        {
          "output_type": "stream",
          "name": "stdout",
          "text": [
            "\n",
            "Epoch 345/500\n",
            "Train Loss: 30.3930 | Val Loss: 34.8840\n",
            "Val MAE - SBP: 44.72 mmHg | DBP: 25.05 mmHg\n"
          ]
        },
        {
          "output_type": "stream",
          "name": "stderr",
          "text": []
        },
        {
          "output_type": "stream",
          "name": "stdout",
          "text": [
            "\n",
            "Epoch 346/500\n",
            "Train Loss: 30.7211 | Val Loss: 33.8375\n",
            "Val MAE - SBP: 43.33 mmHg | DBP: 24.34 mmHg\n"
          ]
        },
        {
          "output_type": "stream",
          "name": "stderr",
          "text": []
        },
        {
          "output_type": "stream",
          "name": "stdout",
          "text": [
            "\n",
            "Epoch 347/500\n",
            "Train Loss: 29.5802 | Val Loss: 34.2098\n",
            "Val MAE - SBP: 43.82 mmHg | DBP: 24.60 mmHg\n"
          ]
        },
        {
          "output_type": "stream",
          "name": "stderr",
          "text": []
        },
        {
          "output_type": "stream",
          "name": "stdout",
          "text": [
            "\n",
            "Epoch 348/500\n",
            "Train Loss: 29.9290 | Val Loss: 33.1513\n",
            "Val MAE - SBP: 42.33 mmHg | DBP: 23.97 mmHg\n"
          ]
        },
        {
          "output_type": "stream",
          "name": "stderr",
          "text": []
        },
        {
          "output_type": "stream",
          "name": "stdout",
          "text": [
            "\n",
            "Epoch 349/500\n",
            "Train Loss: 29.5680 | Val Loss: 33.1986\n",
            "Val MAE - SBP: 42.48 mmHg | DBP: 23.92 mmHg\n"
          ]
        },
        {
          "output_type": "stream",
          "name": "stderr",
          "text": []
        },
        {
          "output_type": "stream",
          "name": "stdout",
          "text": [
            "\n",
            "Epoch 350/500\n",
            "Train Loss: 29.6306 | Val Loss: 33.3700\n",
            "Val MAE - SBP: 42.70 mmHg | DBP: 24.04 mmHg\n"
          ]
        },
        {
          "output_type": "stream",
          "name": "stderr",
          "text": []
        },
        {
          "output_type": "stream",
          "name": "stdout",
          "text": [
            "\n",
            "Epoch 351/500\n",
            "Train Loss: 29.7241 | Val Loss: 34.2235\n",
            "Val MAE - SBP: 43.62 mmHg | DBP: 24.82 mmHg\n"
          ]
        },
        {
          "output_type": "stream",
          "name": "stderr",
          "text": []
        },
        {
          "output_type": "stream",
          "name": "stdout",
          "text": [
            "\n",
            "Epoch 352/500\n",
            "Train Loss: 29.5727 | Val Loss: 33.4430\n",
            "Val MAE - SBP: 42.77 mmHg | DBP: 24.12 mmHg\n"
          ]
        },
        {
          "output_type": "stream",
          "name": "stderr",
          "text": []
        },
        {
          "output_type": "stream",
          "name": "stdout",
          "text": [
            "\n",
            "Epoch 353/500\n",
            "Train Loss: 30.4782 | Val Loss: 33.9231\n",
            "Val MAE - SBP: 43.43 mmHg | DBP: 24.42 mmHg\n"
          ]
        },
        {
          "output_type": "stream",
          "name": "stderr",
          "text": []
        },
        {
          "output_type": "stream",
          "name": "stdout",
          "text": [
            "\n",
            "Epoch 354/500\n",
            "Train Loss: 29.9184 | Val Loss: 33.4730\n",
            "Val MAE - SBP: 42.81 mmHg | DBP: 24.13 mmHg\n"
          ]
        },
        {
          "output_type": "stream",
          "name": "stderr",
          "text": []
        },
        {
          "output_type": "stream",
          "name": "stdout",
          "text": [
            "\n",
            "Epoch 355/500\n",
            "Train Loss: 29.5704 | Val Loss: 33.1636\n",
            "Val MAE - SBP: 42.37 mmHg | DBP: 23.96 mmHg\n"
          ]
        },
        {
          "output_type": "stream",
          "name": "stderr",
          "text": []
        },
        {
          "output_type": "stream",
          "name": "stdout",
          "text": [
            "\n",
            "Epoch 356/500\n",
            "Train Loss: 29.9802 | Val Loss: 33.2348\n",
            "Val MAE - SBP: 42.56 mmHg | DBP: 23.91 mmHg\n"
          ]
        },
        {
          "output_type": "stream",
          "name": "stderr",
          "text": []
        },
        {
          "output_type": "stream",
          "name": "stdout",
          "text": [
            "\n",
            "Epoch 357/500\n",
            "Train Loss: 29.7006 | Val Loss: 33.3015\n",
            "Val MAE - SBP: 42.56 mmHg | DBP: 24.04 mmHg\n"
          ]
        },
        {
          "output_type": "stream",
          "name": "stderr",
          "text": []
        },
        {
          "output_type": "stream",
          "name": "stdout",
          "text": [
            "\n",
            "Epoch 358/500\n",
            "Train Loss: 30.2499 | Val Loss: 33.5498\n",
            "Val MAE - SBP: 42.93 mmHg | DBP: 24.17 mmHg\n"
          ]
        },
        {
          "output_type": "stream",
          "name": "stderr",
          "text": []
        },
        {
          "output_type": "stream",
          "name": "stdout",
          "text": [
            "\n",
            "Epoch 359/500\n",
            "Train Loss: 29.9814 | Val Loss: 33.8596\n",
            "Val MAE - SBP: 43.36 mmHg | DBP: 24.36 mmHg\n"
          ]
        },
        {
          "output_type": "stream",
          "name": "stderr",
          "text": []
        },
        {
          "output_type": "stream",
          "name": "stdout",
          "text": [
            "\n",
            "Epoch 360/500\n",
            "Train Loss: 29.9934 | Val Loss: 34.3159\n",
            "Val MAE - SBP: 43.82 mmHg | DBP: 24.81 mmHg\n"
          ]
        },
        {
          "output_type": "stream",
          "name": "stderr",
          "text": []
        },
        {
          "output_type": "stream",
          "name": "stdout",
          "text": [
            "\n",
            "Epoch 361/500\n",
            "Train Loss: 30.3534 | Val Loss: 34.0363\n",
            "Val MAE - SBP: 43.59 mmHg | DBP: 24.48 mmHg\n"
          ]
        },
        {
          "output_type": "stream",
          "name": "stderr",
          "text": []
        },
        {
          "output_type": "stream",
          "name": "stdout",
          "text": [
            "\n",
            "Epoch 362/500\n",
            "Train Loss: 30.1943 | Val Loss: 33.7219\n",
            "Val MAE - SBP: 43.01 mmHg | DBP: 24.43 mmHg\n"
          ]
        },
        {
          "output_type": "stream",
          "name": "stderr",
          "text": []
        },
        {
          "output_type": "stream",
          "name": "stdout",
          "text": [
            "\n",
            "Epoch 363/500\n",
            "Train Loss: 29.8128 | Val Loss: 35.0838\n",
            "Val MAE - SBP: 44.84 mmHg | DBP: 25.32 mmHg\n"
          ]
        },
        {
          "output_type": "stream",
          "name": "stderr",
          "text": []
        },
        {
          "output_type": "stream",
          "name": "stdout",
          "text": [
            "\n",
            "Epoch 364/500\n",
            "Train Loss: 29.8899 | Val Loss: 35.0884\n",
            "Val MAE - SBP: 44.88 mmHg | DBP: 25.29 mmHg\n"
          ]
        },
        {
          "output_type": "stream",
          "name": "stderr",
          "text": []
        },
        {
          "output_type": "stream",
          "name": "stdout",
          "text": [
            "\n",
            "Epoch 365/500\n",
            "Train Loss: 29.7233 | Val Loss: 34.5189\n",
            "Val MAE - SBP: 44.13 mmHg | DBP: 24.91 mmHg\n"
          ]
        },
        {
          "output_type": "stream",
          "name": "stderr",
          "text": []
        },
        {
          "output_type": "stream",
          "name": "stdout",
          "text": [
            "\n",
            "Epoch 366/500\n",
            "Train Loss: 29.8544 | Val Loss: 34.0714\n",
            "Val MAE - SBP: 43.59 mmHg | DBP: 24.56 mmHg\n"
          ]
        },
        {
          "output_type": "stream",
          "name": "stderr",
          "text": []
        },
        {
          "output_type": "stream",
          "name": "stdout",
          "text": [
            "\n",
            "Epoch 367/500\n",
            "Train Loss: 29.5356 | Val Loss: 33.9824\n",
            "Val MAE - SBP: 43.46 mmHg | DBP: 24.51 mmHg\n"
          ]
        },
        {
          "output_type": "stream",
          "name": "stderr",
          "text": []
        },
        {
          "output_type": "stream",
          "name": "stdout",
          "text": [
            "\n",
            "Epoch 368/500\n",
            "Train Loss: 29.5473 | Val Loss: 34.1447\n",
            "Val MAE - SBP: 43.66 mmHg | DBP: 24.63 mmHg\n"
          ]
        },
        {
          "output_type": "stream",
          "name": "stderr",
          "text": []
        },
        {
          "output_type": "stream",
          "name": "stdout",
          "text": [
            "\n",
            "Epoch 369/500\n",
            "Train Loss: 29.4840 | Val Loss: 34.0946\n",
            "Val MAE - SBP: 43.57 mmHg | DBP: 24.62 mmHg\n"
          ]
        },
        {
          "output_type": "stream",
          "name": "stderr",
          "text": []
        },
        {
          "output_type": "stream",
          "name": "stdout",
          "text": [
            "\n",
            "Epoch 370/500\n",
            "Train Loss: 29.3940 | Val Loss: 34.1711\n",
            "Val MAE - SBP: 43.69 mmHg | DBP: 24.65 mmHg\n"
          ]
        },
        {
          "output_type": "stream",
          "name": "stderr",
          "text": []
        },
        {
          "output_type": "stream",
          "name": "stdout",
          "text": [
            "\n",
            "Epoch 371/500\n",
            "Train Loss: 29.6023 | Val Loss: 33.0938\n",
            "Val MAE - SBP: 42.25 mmHg | DBP: 23.94 mmHg\n",
            "Best model saved (Val Loss: 33.0938)\n"
          ]
        },
        {
          "output_type": "stream",
          "name": "stderr",
          "text": []
        },
        {
          "output_type": "stream",
          "name": "stdout",
          "text": [
            "\n",
            "Epoch 372/500\n",
            "Train Loss: 29.3734 | Val Loss: 33.8250\n",
            "Val MAE - SBP: 43.32 mmHg | DBP: 24.33 mmHg\n"
          ]
        },
        {
          "output_type": "stream",
          "name": "stderr",
          "text": []
        },
        {
          "output_type": "stream",
          "name": "stdout",
          "text": [
            "\n",
            "Epoch 373/500\n",
            "Train Loss: 29.7921 | Val Loss: 34.1234\n",
            "Val MAE - SBP: 43.61 mmHg | DBP: 24.64 mmHg\n"
          ]
        },
        {
          "output_type": "stream",
          "name": "stderr",
          "text": []
        },
        {
          "output_type": "stream",
          "name": "stdout",
          "text": [
            "\n",
            "Epoch 374/500\n",
            "Train Loss: 29.5383 | Val Loss: 33.0856\n",
            "Val MAE - SBP: 42.25 mmHg | DBP: 23.93 mmHg\n",
            "Best model saved (Val Loss: 33.0856)\n"
          ]
        },
        {
          "output_type": "stream",
          "name": "stderr",
          "text": []
        },
        {
          "output_type": "stream",
          "name": "stdout",
          "text": [
            "\n",
            "Epoch 375/500\n",
            "Train Loss: 30.0732 | Val Loss: 34.4036\n",
            "Val MAE - SBP: 44.00 mmHg | DBP: 24.80 mmHg\n"
          ]
        },
        {
          "output_type": "stream",
          "name": "stderr",
          "text": []
        },
        {
          "output_type": "stream",
          "name": "stdout",
          "text": [
            "\n",
            "Epoch 376/500\n",
            "Train Loss: 29.7058 | Val Loss: 32.9659\n",
            "Val MAE - SBP: 42.18 mmHg | DBP: 23.75 mmHg\n",
            "Best model saved (Val Loss: 32.9659)\n"
          ]
        },
        {
          "output_type": "stream",
          "name": "stderr",
          "text": []
        },
        {
          "output_type": "stream",
          "name": "stdout",
          "text": [
            "\n",
            "Epoch 377/500\n",
            "Train Loss: 29.8301 | Val Loss: 33.6192\n",
            "Val MAE - SBP: 43.00 mmHg | DBP: 24.24 mmHg\n"
          ]
        },
        {
          "output_type": "stream",
          "name": "stderr",
          "text": []
        },
        {
          "output_type": "stream",
          "name": "stdout",
          "text": [
            "\n",
            "Epoch 378/500\n",
            "Train Loss: 29.1163 | Val Loss: 33.2271\n",
            "Val MAE - SBP: 42.43 mmHg | DBP: 24.02 mmHg\n"
          ]
        },
        {
          "output_type": "stream",
          "name": "stderr",
          "text": []
        },
        {
          "output_type": "stream",
          "name": "stdout",
          "text": [
            "\n",
            "Epoch 379/500\n",
            "Train Loss: 29.7835 | Val Loss: 33.4548\n",
            "Val MAE - SBP: 42.74 mmHg | DBP: 24.17 mmHg\n"
          ]
        },
        {
          "output_type": "stream",
          "name": "stderr",
          "text": []
        },
        {
          "output_type": "stream",
          "name": "stdout",
          "text": [
            "\n",
            "Epoch 380/500\n",
            "Train Loss: 29.2288 | Val Loss: 33.3876\n",
            "Val MAE - SBP: 42.68 mmHg | DBP: 24.10 mmHg\n"
          ]
        },
        {
          "output_type": "stream",
          "name": "stderr",
          "text": []
        },
        {
          "output_type": "stream",
          "name": "stdout",
          "text": [
            "\n",
            "Epoch 381/500\n",
            "Train Loss: 29.4573 | Val Loss: 34.2543\n",
            "Val MAE - SBP: 43.80 mmHg | DBP: 24.71 mmHg\n"
          ]
        },
        {
          "output_type": "stream",
          "name": "stderr",
          "text": []
        },
        {
          "output_type": "stream",
          "name": "stdout",
          "text": [
            "\n",
            "Epoch 382/500\n",
            "Train Loss: 29.1246 | Val Loss: 34.1073\n",
            "Val MAE - SBP: 43.70 mmHg | DBP: 24.51 mmHg\n"
          ]
        },
        {
          "output_type": "stream",
          "name": "stderr",
          "text": []
        },
        {
          "output_type": "stream",
          "name": "stdout",
          "text": [
            "\n",
            "Epoch 383/500\n",
            "Train Loss: 30.1597 | Val Loss: 33.6028\n",
            "Val MAE - SBP: 42.97 mmHg | DBP: 24.24 mmHg\n"
          ]
        },
        {
          "output_type": "stream",
          "name": "stderr",
          "text": []
        },
        {
          "output_type": "stream",
          "name": "stdout",
          "text": [
            "\n",
            "Epoch 384/500\n",
            "Train Loss: 29.6888 | Val Loss: 33.8558\n",
            "Val MAE - SBP: 43.21 mmHg | DBP: 24.50 mmHg\n"
          ]
        },
        {
          "output_type": "stream",
          "name": "stderr",
          "text": []
        },
        {
          "output_type": "stream",
          "name": "stdout",
          "text": [
            "\n",
            "Epoch 385/500\n",
            "Train Loss: 29.3901 | Val Loss: 33.8386\n",
            "Val MAE - SBP: 43.30 mmHg | DBP: 24.37 mmHg\n"
          ]
        },
        {
          "output_type": "stream",
          "name": "stderr",
          "text": []
        },
        {
          "output_type": "stream",
          "name": "stdout",
          "text": [
            "\n",
            "Epoch 386/500\n",
            "Train Loss: 29.3373 | Val Loss: 33.2902\n",
            "Val MAE - SBP: 42.51 mmHg | DBP: 24.07 mmHg\n"
          ]
        },
        {
          "output_type": "stream",
          "name": "stderr",
          "text": []
        },
        {
          "output_type": "stream",
          "name": "stdout",
          "text": [
            "\n",
            "Epoch 387/500\n",
            "Train Loss: 29.3697 | Val Loss: 33.3787\n",
            "Val MAE - SBP: 42.63 mmHg | DBP: 24.13 mmHg\n"
          ]
        },
        {
          "output_type": "stream",
          "name": "stderr",
          "text": []
        },
        {
          "output_type": "stream",
          "name": "stdout",
          "text": [
            "\n",
            "Epoch 388/500\n",
            "Train Loss: 28.8251 | Val Loss: 35.0477\n",
            "Val MAE - SBP: 44.74 mmHg | DBP: 25.35 mmHg\n"
          ]
        },
        {
          "output_type": "stream",
          "name": "stderr",
          "text": []
        },
        {
          "output_type": "stream",
          "name": "stdout",
          "text": [
            "\n",
            "Epoch 389/500\n",
            "Train Loss: 29.6812 | Val Loss: 33.8379\n",
            "Val MAE - SBP: 43.40 mmHg | DBP: 24.28 mmHg\n"
          ]
        },
        {
          "output_type": "stream",
          "name": "stderr",
          "text": []
        },
        {
          "output_type": "stream",
          "name": "stdout",
          "text": [
            "\n",
            "Epoch 390/500\n",
            "Train Loss: 29.4399 | Val Loss: 33.5108\n",
            "Val MAE - SBP: 42.83 mmHg | DBP: 24.19 mmHg\n"
          ]
        },
        {
          "output_type": "stream",
          "name": "stderr",
          "text": []
        },
        {
          "output_type": "stream",
          "name": "stdout",
          "text": [
            "\n",
            "Epoch 391/500\n",
            "Train Loss: 29.6749 | Val Loss: 33.3240\n",
            "Val MAE - SBP: 42.65 mmHg | DBP: 24.00 mmHg\n"
          ]
        },
        {
          "output_type": "stream",
          "name": "stderr",
          "text": []
        },
        {
          "output_type": "stream",
          "name": "stdout",
          "text": [
            "\n",
            "Epoch 392/500\n",
            "Train Loss: 29.0349 | Val Loss: 33.2002\n",
            "Val MAE - SBP: 42.51 mmHg | DBP: 23.89 mmHg\n"
          ]
        },
        {
          "output_type": "stream",
          "name": "stderr",
          "text": []
        },
        {
          "output_type": "stream",
          "name": "stdout",
          "text": [
            "\n",
            "Epoch 393/500\n",
            "Train Loss: 29.0917 | Val Loss: 34.0138\n",
            "Val MAE - SBP: 43.48 mmHg | DBP: 24.54 mmHg\n"
          ]
        },
        {
          "output_type": "stream",
          "name": "stderr",
          "text": []
        },
        {
          "output_type": "stream",
          "name": "stdout",
          "text": [
            "\n",
            "Epoch 394/500\n",
            "Train Loss: 29.0523 | Val Loss: 33.6810\n",
            "Val MAE - SBP: 43.05 mmHg | DBP: 24.31 mmHg\n"
          ]
        },
        {
          "output_type": "stream",
          "name": "stderr",
          "text": []
        },
        {
          "output_type": "stream",
          "name": "stdout",
          "text": [
            "\n",
            "Epoch 395/500\n",
            "Train Loss: 29.1447 | Val Loss: 33.2798\n",
            "Val MAE - SBP: 42.51 mmHg | DBP: 24.05 mmHg\n"
          ]
        },
        {
          "output_type": "stream",
          "name": "stderr",
          "text": []
        },
        {
          "output_type": "stream",
          "name": "stdout",
          "text": [
            "\n",
            "Epoch 396/500\n",
            "Train Loss: 29.1562 | Val Loss: 33.5298\n",
            "Val MAE - SBP: 42.84 mmHg | DBP: 24.22 mmHg\n"
          ]
        },
        {
          "output_type": "stream",
          "name": "stderr",
          "text": []
        },
        {
          "output_type": "stream",
          "name": "stdout",
          "text": [
            "\n",
            "Epoch 397/500\n",
            "Train Loss: 29.4248 | Val Loss: 33.9987\n",
            "Val MAE - SBP: 43.50 mmHg | DBP: 24.49 mmHg\n"
          ]
        },
        {
          "output_type": "stream",
          "name": "stderr",
          "text": []
        },
        {
          "output_type": "stream",
          "name": "stdout",
          "text": [
            "\n",
            "Epoch 398/500\n",
            "Train Loss: 29.3179 | Val Loss: 34.7367\n",
            "Val MAE - SBP: 44.48 mmHg | DBP: 24.99 mmHg\n"
          ]
        },
        {
          "output_type": "stream",
          "name": "stderr",
          "text": []
        },
        {
          "output_type": "stream",
          "name": "stdout",
          "text": [
            "\n",
            "Epoch 399/500\n",
            "Train Loss: 28.9396 | Val Loss: 33.4572\n",
            "Val MAE - SBP: 42.73 mmHg | DBP: 24.19 mmHg\n"
          ]
        },
        {
          "output_type": "stream",
          "name": "stderr",
          "text": []
        },
        {
          "output_type": "stream",
          "name": "stdout",
          "text": [
            "\n",
            "Epoch 400/500\n",
            "Train Loss: 29.1369 | Val Loss: 33.7212\n",
            "Val MAE - SBP: 43.09 mmHg | DBP: 24.35 mmHg\n"
          ]
        },
        {
          "output_type": "stream",
          "name": "stderr",
          "text": []
        },
        {
          "output_type": "stream",
          "name": "stdout",
          "text": [
            "\n",
            "Epoch 401/500\n",
            "Train Loss: 28.8703 | Val Loss: 33.7940\n",
            "Val MAE - SBP: 43.20 mmHg | DBP: 24.39 mmHg\n"
          ]
        },
        {
          "output_type": "stream",
          "name": "stderr",
          "text": []
        },
        {
          "output_type": "stream",
          "name": "stdout",
          "text": [
            "\n",
            "Epoch 402/500\n",
            "Train Loss: 28.8848 | Val Loss: 34.5647\n",
            "Val MAE - SBP: 44.23 mmHg | DBP: 24.90 mmHg\n"
          ]
        },
        {
          "output_type": "stream",
          "name": "stderr",
          "text": []
        },
        {
          "output_type": "stream",
          "name": "stdout",
          "text": [
            "\n",
            "Epoch 403/500\n",
            "Train Loss: 28.8086 | Val Loss: 33.8047\n",
            "Val MAE - SBP: 43.16 mmHg | DBP: 24.45 mmHg\n"
          ]
        },
        {
          "output_type": "stream",
          "name": "stderr",
          "text": []
        },
        {
          "output_type": "stream",
          "name": "stdout",
          "text": [
            "\n",
            "Epoch 404/500\n",
            "Train Loss: 28.9116 | Val Loss: 33.4909\n",
            "Val MAE - SBP: 42.78 mmHg | DBP: 24.20 mmHg\n"
          ]
        },
        {
          "output_type": "stream",
          "name": "stderr",
          "text": []
        },
        {
          "output_type": "stream",
          "name": "stdout",
          "text": [
            "\n",
            "Epoch 405/500\n",
            "Train Loss: 29.3114 | Val Loss: 33.0246\n",
            "Val MAE - SBP: 42.16 mmHg | DBP: 23.89 mmHg\n"
          ]
        },
        {
          "output_type": "stream",
          "name": "stderr",
          "text": []
        },
        {
          "output_type": "stream",
          "name": "stdout",
          "text": [
            "\n",
            "Epoch 406/500\n",
            "Train Loss: 28.8353 | Val Loss: 33.3754\n",
            "Val MAE - SBP: 42.62 mmHg | DBP: 24.13 mmHg\n"
          ]
        },
        {
          "output_type": "stream",
          "name": "stderr",
          "text": []
        },
        {
          "output_type": "stream",
          "name": "stdout",
          "text": [
            "\n",
            "Epoch 407/500\n",
            "Train Loss: 29.0158 | Val Loss: 33.5004\n",
            "Val MAE - SBP: 42.81 mmHg | DBP: 24.19 mmHg\n"
          ]
        },
        {
          "output_type": "stream",
          "name": "stderr",
          "text": []
        },
        {
          "output_type": "stream",
          "name": "stdout",
          "text": [
            "\n",
            "Epoch 408/500\n",
            "Train Loss: 28.7738 | Val Loss: 33.3528\n",
            "Val MAE - SBP: 42.55 mmHg | DBP: 24.16 mmHg\n"
          ]
        },
        {
          "output_type": "stream",
          "name": "stderr",
          "text": []
        },
        {
          "output_type": "stream",
          "name": "stdout",
          "text": [
            "\n",
            "Epoch 409/500\n",
            "Train Loss: 28.6374 | Val Loss: 33.2654\n",
            "Val MAE - SBP: 42.49 mmHg | DBP: 24.04 mmHg\n"
          ]
        },
        {
          "output_type": "stream",
          "name": "stderr",
          "text": []
        },
        {
          "output_type": "stream",
          "name": "stdout",
          "text": [
            "\n",
            "Epoch 410/500\n",
            "Train Loss: 28.6517 | Val Loss: 33.6513\n",
            "Val MAE - SBP: 42.98 mmHg | DBP: 24.32 mmHg\n"
          ]
        },
        {
          "output_type": "stream",
          "name": "stderr",
          "text": []
        },
        {
          "output_type": "stream",
          "name": "stdout",
          "text": [
            "\n",
            "Epoch 411/500\n",
            "Train Loss: 28.8740 | Val Loss: 33.3819\n",
            "Val MAE - SBP: 42.62 mmHg | DBP: 24.15 mmHg\n"
          ]
        },
        {
          "output_type": "stream",
          "name": "stderr",
          "text": []
        },
        {
          "output_type": "stream",
          "name": "stdout",
          "text": [
            "\n",
            "Epoch 412/500\n",
            "Train Loss: 28.6392 | Val Loss: 34.4447\n",
            "Val MAE - SBP: 44.01 mmHg | DBP: 24.88 mmHg\n"
          ]
        },
        {
          "output_type": "stream",
          "name": "stderr",
          "text": []
        },
        {
          "output_type": "stream",
          "name": "stdout",
          "text": [
            "\n",
            "Epoch 413/500\n",
            "Train Loss: 28.5984 | Val Loss: 33.7451\n",
            "Val MAE - SBP: 43.11 mmHg | DBP: 24.38 mmHg\n"
          ]
        },
        {
          "output_type": "stream",
          "name": "stderr",
          "text": []
        },
        {
          "output_type": "stream",
          "name": "stdout",
          "text": [
            "\n",
            "Epoch 414/500\n",
            "Train Loss: 28.8868 | Val Loss: 33.7432\n",
            "Val MAE - SBP: 43.09 mmHg | DBP: 24.40 mmHg\n"
          ]
        },
        {
          "output_type": "stream",
          "name": "stderr",
          "text": []
        },
        {
          "output_type": "stream",
          "name": "stdout",
          "text": [
            "\n",
            "Epoch 415/500\n",
            "Train Loss: 28.6296 | Val Loss: 33.4134\n",
            "Val MAE - SBP: 42.67 mmHg | DBP: 24.16 mmHg\n"
          ]
        },
        {
          "output_type": "stream",
          "name": "stderr",
          "text": []
        },
        {
          "output_type": "stream",
          "name": "stdout",
          "text": [
            "\n",
            "Epoch 416/500\n",
            "Train Loss: 28.7592 | Val Loss: 33.7216\n",
            "Val MAE - SBP: 43.04 mmHg | DBP: 24.41 mmHg\n"
          ]
        },
        {
          "output_type": "stream",
          "name": "stderr",
          "text": []
        },
        {
          "output_type": "stream",
          "name": "stdout",
          "text": [
            "\n",
            "Epoch 417/500\n",
            "Train Loss: 28.5729 | Val Loss: 33.2465\n",
            "Val MAE - SBP: 42.48 mmHg | DBP: 24.01 mmHg\n"
          ]
        },
        {
          "output_type": "stream",
          "name": "stderr",
          "text": []
        },
        {
          "output_type": "stream",
          "name": "stdout",
          "text": [
            "\n",
            "Epoch 418/500\n",
            "Train Loss: 28.7921 | Val Loss: 33.5455\n",
            "Val MAE - SBP: 42.85 mmHg | DBP: 24.24 mmHg\n"
          ]
        },
        {
          "output_type": "stream",
          "name": "stderr",
          "text": []
        },
        {
          "output_type": "stream",
          "name": "stdout",
          "text": [
            "\n",
            "Epoch 419/500\n",
            "Train Loss: 28.7631 | Val Loss: 33.1574\n",
            "Val MAE - SBP: 42.37 mmHg | DBP: 23.94 mmHg\n"
          ]
        },
        {
          "output_type": "stream",
          "name": "stderr",
          "text": []
        },
        {
          "output_type": "stream",
          "name": "stdout",
          "text": [
            "\n",
            "Epoch 420/500\n",
            "Train Loss: 28.7292 | Val Loss: 33.4520\n",
            "Val MAE - SBP: 42.68 mmHg | DBP: 24.23 mmHg\n"
          ]
        },
        {
          "output_type": "stream",
          "name": "stderr",
          "text": []
        },
        {
          "output_type": "stream",
          "name": "stdout",
          "text": [
            "\n",
            "Epoch 421/500\n",
            "Train Loss: 28.6607 | Val Loss: 33.4839\n",
            "Val MAE - SBP: 42.75 mmHg | DBP: 24.22 mmHg\n"
          ]
        },
        {
          "output_type": "stream",
          "name": "stderr",
          "text": []
        },
        {
          "output_type": "stream",
          "name": "stdout",
          "text": [
            "\n",
            "Epoch 422/500\n",
            "Train Loss: 28.4436 | Val Loss: 33.8599\n",
            "Val MAE - SBP: 43.27 mmHg | DBP: 24.45 mmHg\n"
          ]
        },
        {
          "output_type": "stream",
          "name": "stderr",
          "text": []
        },
        {
          "output_type": "stream",
          "name": "stdout",
          "text": [
            "\n",
            "Epoch 423/500\n",
            "Train Loss: 28.6016 | Val Loss: 33.5946\n",
            "Val MAE - SBP: 42.99 mmHg | DBP: 24.20 mmHg\n"
          ]
        },
        {
          "output_type": "stream",
          "name": "stderr",
          "text": []
        },
        {
          "output_type": "stream",
          "name": "stdout",
          "text": [
            "\n",
            "Epoch 424/500\n",
            "Train Loss: 28.7990 | Val Loss: 34.2619\n",
            "Val MAE - SBP: 43.79 mmHg | DBP: 24.73 mmHg\n"
          ]
        },
        {
          "output_type": "stream",
          "name": "stderr",
          "text": []
        },
        {
          "output_type": "stream",
          "name": "stdout",
          "text": [
            "\n",
            "Epoch 425/500\n",
            "Train Loss: 28.5001 | Val Loss: 33.6173\n",
            "Val MAE - SBP: 42.88 mmHg | DBP: 24.35 mmHg\n"
          ]
        },
        {
          "output_type": "stream",
          "name": "stderr",
          "text": []
        },
        {
          "output_type": "stream",
          "name": "stdout",
          "text": [
            "\n",
            "Epoch 426/500\n",
            "Train Loss: 28.1895 | Val Loss: 33.2863\n",
            "Val MAE - SBP: 42.58 mmHg | DBP: 23.99 mmHg\n"
          ]
        },
        {
          "output_type": "stream",
          "name": "stderr",
          "text": []
        },
        {
          "output_type": "stream",
          "name": "stdout",
          "text": [
            "\n",
            "Epoch 427/500\n",
            "Train Loss: 29.0453 | Val Loss: 33.8466\n",
            "Val MAE - SBP: 43.31 mmHg | DBP: 24.39 mmHg\n"
          ]
        },
        {
          "output_type": "stream",
          "name": "stderr",
          "text": []
        },
        {
          "output_type": "stream",
          "name": "stdout",
          "text": [
            "\n",
            "Epoch 428/500\n",
            "Train Loss: 28.7149 | Val Loss: 34.1338\n",
            "Val MAE - SBP: 43.51 mmHg | DBP: 24.76 mmHg\n"
          ]
        },
        {
          "output_type": "stream",
          "name": "stderr",
          "text": []
        },
        {
          "output_type": "stream",
          "name": "stdout",
          "text": [
            "\n",
            "Epoch 429/500\n",
            "Train Loss: 28.5451 | Val Loss: 33.2277\n",
            "Val MAE - SBP: 42.55 mmHg | DBP: 23.91 mmHg\n"
          ]
        },
        {
          "output_type": "stream",
          "name": "stderr",
          "text": []
        },
        {
          "output_type": "stream",
          "name": "stdout",
          "text": [
            "\n",
            "Epoch 430/500\n",
            "Train Loss: 28.7915 | Val Loss: 33.4975\n",
            "Val MAE - SBP: 42.78 mmHg | DBP: 24.22 mmHg\n"
          ]
        },
        {
          "output_type": "stream",
          "name": "stderr",
          "text": []
        },
        {
          "output_type": "stream",
          "name": "stdout",
          "text": [
            "\n",
            "Epoch 431/500\n",
            "Train Loss: 28.8275 | Val Loss: 33.3361\n",
            "Val MAE - SBP: 42.62 mmHg | DBP: 24.05 mmHg\n"
          ]
        },
        {
          "output_type": "stream",
          "name": "stderr",
          "text": []
        },
        {
          "output_type": "stream",
          "name": "stdout",
          "text": [
            "\n",
            "Epoch 432/500\n",
            "Train Loss: 28.7148 | Val Loss: 34.1405\n",
            "Val MAE - SBP: 43.57 mmHg | DBP: 24.71 mmHg\n"
          ]
        },
        {
          "output_type": "stream",
          "name": "stderr",
          "text": []
        },
        {
          "output_type": "stream",
          "name": "stdout",
          "text": [
            "\n",
            "Epoch 433/500\n",
            "Train Loss: 28.4434 | Val Loss: 33.3866\n",
            "Val MAE - SBP: 42.64 mmHg | DBP: 24.13 mmHg\n"
          ]
        },
        {
          "output_type": "stream",
          "name": "stderr",
          "text": []
        },
        {
          "output_type": "stream",
          "name": "stdout",
          "text": [
            "\n",
            "Epoch 434/500\n",
            "Train Loss: 28.5511 | Val Loss: 34.9745\n",
            "Val MAE - SBP: 44.72 mmHg | DBP: 25.23 mmHg\n"
          ]
        },
        {
          "output_type": "stream",
          "name": "stderr",
          "text": []
        },
        {
          "output_type": "stream",
          "name": "stdout",
          "text": [
            "\n",
            "Epoch 435/500\n",
            "Train Loss: 28.5281 | Val Loss: 33.2054\n",
            "Val MAE - SBP: 42.39 mmHg | DBP: 24.02 mmHg\n"
          ]
        },
        {
          "output_type": "stream",
          "name": "stderr",
          "text": []
        },
        {
          "output_type": "stream",
          "name": "stdout",
          "text": [
            "\n",
            "Epoch 436/500\n",
            "Train Loss: 28.6482 | Val Loss: 33.2601\n",
            "Val MAE - SBP: 42.47 mmHg | DBP: 24.05 mmHg\n"
          ]
        },
        {
          "output_type": "stream",
          "name": "stderr",
          "text": []
        },
        {
          "output_type": "stream",
          "name": "stdout",
          "text": [
            "\n",
            "Epoch 437/500\n",
            "Train Loss: 28.2686 | Val Loss: 33.4863\n",
            "Val MAE - SBP: 42.79 mmHg | DBP: 24.18 mmHg\n"
          ]
        },
        {
          "output_type": "stream",
          "name": "stderr",
          "text": []
        },
        {
          "output_type": "stream",
          "name": "stdout",
          "text": [
            "\n",
            "Epoch 438/500\n",
            "Train Loss: 28.7198 | Val Loss: 34.0541\n",
            "Val MAE - SBP: 43.47 mmHg | DBP: 24.64 mmHg\n"
          ]
        },
        {
          "output_type": "stream",
          "name": "stderr",
          "text": []
        },
        {
          "output_type": "stream",
          "name": "stdout",
          "text": [
            "\n",
            "Epoch 439/500\n",
            "Train Loss: 28.1024 | Val Loss: 34.3116\n",
            "Val MAE - SBP: 43.76 mmHg | DBP: 24.86 mmHg\n"
          ]
        },
        {
          "output_type": "stream",
          "name": "stderr",
          "text": []
        },
        {
          "output_type": "stream",
          "name": "stdout",
          "text": [
            "\n",
            "Epoch 440/500\n",
            "Train Loss: 28.4867 | Val Loss: 34.3680\n",
            "Val MAE - SBP: 43.99 mmHg | DBP: 24.74 mmHg\n"
          ]
        },
        {
          "output_type": "stream",
          "name": "stderr",
          "text": []
        },
        {
          "output_type": "stream",
          "name": "stdout",
          "text": [
            "\n",
            "Epoch 441/500\n",
            "Train Loss: 28.2548 | Val Loss: 34.6578\n",
            "Val MAE - SBP: 44.28 mmHg | DBP: 25.04 mmHg\n"
          ]
        },
        {
          "output_type": "stream",
          "name": "stderr",
          "text": []
        },
        {
          "output_type": "stream",
          "name": "stdout",
          "text": [
            "\n",
            "Epoch 442/500\n",
            "Train Loss: 28.7051 | Val Loss: 34.1414\n",
            "Val MAE - SBP: 43.65 mmHg | DBP: 24.63 mmHg\n"
          ]
        },
        {
          "output_type": "stream",
          "name": "stderr",
          "text": []
        },
        {
          "output_type": "stream",
          "name": "stdout",
          "text": [
            "\n",
            "Epoch 443/500\n",
            "Train Loss: 28.5449 | Val Loss: 32.8393\n",
            "Val MAE - SBP: 41.99 mmHg | DBP: 23.69 mmHg\n",
            "Best model saved (Val Loss: 32.8393)\n"
          ]
        },
        {
          "output_type": "stream",
          "name": "stderr",
          "text": []
        },
        {
          "output_type": "stream",
          "name": "stdout",
          "text": [
            "\n",
            "Epoch 444/500\n",
            "Train Loss: 28.3976 | Val Loss: 33.7469\n",
            "Val MAE - SBP: 43.20 mmHg | DBP: 24.29 mmHg\n"
          ]
        },
        {
          "output_type": "stream",
          "name": "stderr",
          "text": []
        },
        {
          "output_type": "stream",
          "name": "stdout",
          "text": [
            "\n",
            "Epoch 445/500\n",
            "Train Loss: 28.2380 | Val Loss: 33.7423\n",
            "Val MAE - SBP: 43.21 mmHg | DBP: 24.27 mmHg\n"
          ]
        },
        {
          "output_type": "stream",
          "name": "stderr",
          "text": []
        },
        {
          "output_type": "stream",
          "name": "stdout",
          "text": [
            "\n",
            "Epoch 446/500\n",
            "Train Loss: 28.2358 | Val Loss: 33.0053\n",
            "Val MAE - SBP: 42.20 mmHg | DBP: 23.81 mmHg\n"
          ]
        },
        {
          "output_type": "stream",
          "name": "stderr",
          "text": []
        },
        {
          "output_type": "stream",
          "name": "stdout",
          "text": [
            "\n",
            "Epoch 447/500\n",
            "Train Loss: 28.4432 | Val Loss: 34.2863\n",
            "Val MAE - SBP: 43.76 mmHg | DBP: 24.82 mmHg\n"
          ]
        },
        {
          "output_type": "stream",
          "name": "stderr",
          "text": []
        },
        {
          "output_type": "stream",
          "name": "stdout",
          "text": [
            "\n",
            "Epoch 448/500\n",
            "Train Loss: 28.7724 | Val Loss: 33.1521\n",
            "Val MAE - SBP: 42.39 mmHg | DBP: 23.92 mmHg\n"
          ]
        },
        {
          "output_type": "stream",
          "name": "stderr",
          "text": []
        },
        {
          "output_type": "stream",
          "name": "stdout",
          "text": [
            "\n",
            "Epoch 449/500\n",
            "Train Loss: 28.7276 | Val Loss: 33.7653\n",
            "Val MAE - SBP: 43.18 mmHg | DBP: 24.35 mmHg\n"
          ]
        },
        {
          "output_type": "stream",
          "name": "stderr",
          "text": []
        },
        {
          "output_type": "stream",
          "name": "stdout",
          "text": [
            "\n",
            "Epoch 450/500\n",
            "Train Loss: 28.4539 | Val Loss: 34.0997\n",
            "Val MAE - SBP: 43.56 mmHg | DBP: 24.64 mmHg\n"
          ]
        },
        {
          "output_type": "stream",
          "name": "stderr",
          "text": []
        },
        {
          "output_type": "stream",
          "name": "stdout",
          "text": [
            "\n",
            "Epoch 451/500\n",
            "Train Loss: 28.6534 | Val Loss: 33.3687\n",
            "Val MAE - SBP: 42.62 mmHg | DBP: 24.12 mmHg\n"
          ]
        },
        {
          "output_type": "stream",
          "name": "stderr",
          "text": []
        },
        {
          "output_type": "stream",
          "name": "stdout",
          "text": [
            "\n",
            "Epoch 452/500\n",
            "Train Loss: 28.2848 | Val Loss: 33.2232\n",
            "Val MAE - SBP: 42.43 mmHg | DBP: 24.02 mmHg\n"
          ]
        },
        {
          "output_type": "stream",
          "name": "stderr",
          "text": []
        },
        {
          "output_type": "stream",
          "name": "stdout",
          "text": [
            "\n",
            "Epoch 453/500\n",
            "Train Loss: 28.1848 | Val Loss: 33.5568\n",
            "Val MAE - SBP: 42.86 mmHg | DBP: 24.25 mmHg\n"
          ]
        },
        {
          "output_type": "stream",
          "name": "stderr",
          "text": []
        },
        {
          "output_type": "stream",
          "name": "stdout",
          "text": [
            "\n",
            "Epoch 454/500\n",
            "Train Loss: 28.2451 | Val Loss: 33.2333\n",
            "Val MAE - SBP: 42.48 mmHg | DBP: 23.99 mmHg\n"
          ]
        },
        {
          "output_type": "stream",
          "name": "stderr",
          "text": []
        },
        {
          "output_type": "stream",
          "name": "stdout",
          "text": [
            "\n",
            "Epoch 455/500\n",
            "Train Loss: 27.8059 | Val Loss: 33.5527\n",
            "Val MAE - SBP: 42.83 mmHg | DBP: 24.28 mmHg\n"
          ]
        },
        {
          "output_type": "stream",
          "name": "stderr",
          "text": []
        },
        {
          "output_type": "stream",
          "name": "stdout",
          "text": [
            "\n",
            "Epoch 456/500\n",
            "Train Loss: 28.1016 | Val Loss: 33.9728\n",
            "Val MAE - SBP: 43.43 mmHg | DBP: 24.51 mmHg\n"
          ]
        },
        {
          "output_type": "stream",
          "name": "stderr",
          "text": []
        },
        {
          "output_type": "stream",
          "name": "stdout",
          "text": [
            "\n",
            "Epoch 457/500\n",
            "Train Loss: 28.0048 | Val Loss: 33.9651\n",
            "Val MAE - SBP: 43.46 mmHg | DBP: 24.47 mmHg\n"
          ]
        },
        {
          "output_type": "stream",
          "name": "stderr",
          "text": []
        },
        {
          "output_type": "stream",
          "name": "stdout",
          "text": [
            "\n",
            "Epoch 458/500\n",
            "Train Loss: 28.3012 | Val Loss: 33.6012\n",
            "Val MAE - SBP: 42.92 mmHg | DBP: 24.29 mmHg\n"
          ]
        },
        {
          "output_type": "stream",
          "name": "stderr",
          "text": []
        },
        {
          "output_type": "stream",
          "name": "stdout",
          "text": [
            "\n",
            "Epoch 459/500\n",
            "Train Loss: 28.0535 | Val Loss: 33.2779\n",
            "Val MAE - SBP: 42.48 mmHg | DBP: 24.07 mmHg\n"
          ]
        },
        {
          "output_type": "stream",
          "name": "stderr",
          "text": []
        },
        {
          "output_type": "stream",
          "name": "stdout",
          "text": [
            "\n",
            "Epoch 460/500\n",
            "Train Loss: 28.1105 | Val Loss: 33.2569\n",
            "Val MAE - SBP: 42.46 mmHg | DBP: 24.05 mmHg\n"
          ]
        },
        {
          "output_type": "stream",
          "name": "stderr",
          "text": []
        },
        {
          "output_type": "stream",
          "name": "stdout",
          "text": [
            "\n",
            "Epoch 461/500\n",
            "Train Loss: 28.5848 | Val Loss: 34.2113\n",
            "Val MAE - SBP: 43.69 mmHg | DBP: 24.73 mmHg\n"
          ]
        },
        {
          "output_type": "stream",
          "name": "stderr",
          "text": []
        },
        {
          "output_type": "stream",
          "name": "stdout",
          "text": [
            "\n",
            "Epoch 462/500\n",
            "Train Loss: 28.2118 | Val Loss: 33.3302\n",
            "Val MAE - SBP: 42.59 mmHg | DBP: 24.07 mmHg\n"
          ]
        },
        {
          "output_type": "stream",
          "name": "stderr",
          "text": []
        },
        {
          "output_type": "stream",
          "name": "stdout",
          "text": [
            "\n",
            "Epoch 463/500\n",
            "Train Loss: 28.2544 | Val Loss: 33.3878\n",
            "Val MAE - SBP: 42.66 mmHg | DBP: 24.11 mmHg\n"
          ]
        },
        {
          "output_type": "stream",
          "name": "stderr",
          "text": []
        },
        {
          "output_type": "stream",
          "name": "stdout",
          "text": [
            "\n",
            "Epoch 464/500\n",
            "Train Loss: 28.3819 | Val Loss: 33.8862\n",
            "Val MAE - SBP: 43.27 mmHg | DBP: 24.51 mmHg\n"
          ]
        },
        {
          "output_type": "stream",
          "name": "stderr",
          "text": []
        },
        {
          "output_type": "stream",
          "name": "stdout",
          "text": [
            "\n",
            "Epoch 465/500\n",
            "Train Loss: 28.4497 | Val Loss: 33.1249\n",
            "Val MAE - SBP: 42.33 mmHg | DBP: 23.92 mmHg\n"
          ]
        },
        {
          "output_type": "stream",
          "name": "stderr",
          "text": []
        },
        {
          "output_type": "stream",
          "name": "stdout",
          "text": [
            "\n",
            "Epoch 466/500\n",
            "Train Loss: 27.6442 | Val Loss: 33.1444\n",
            "Val MAE - SBP: 42.27 mmHg | DBP: 24.02 mmHg\n"
          ]
        },
        {
          "output_type": "stream",
          "name": "stderr",
          "text": []
        },
        {
          "output_type": "stream",
          "name": "stdout",
          "text": [
            "\n",
            "Epoch 467/500\n",
            "Train Loss: 27.9355 | Val Loss: 33.2726\n",
            "Val MAE - SBP: 42.53 mmHg | DBP: 24.01 mmHg\n"
          ]
        },
        {
          "output_type": "stream",
          "name": "stderr",
          "text": []
        },
        {
          "output_type": "stream",
          "name": "stdout",
          "text": [
            "\n",
            "Epoch 468/500\n",
            "Train Loss: 27.9603 | Val Loss: 35.4391\n",
            "Val MAE - SBP: 45.36 mmHg | DBP: 25.51 mmHg\n"
          ]
        },
        {
          "output_type": "stream",
          "name": "stderr",
          "text": []
        },
        {
          "output_type": "stream",
          "name": "stdout",
          "text": [
            "\n",
            "Epoch 469/500\n",
            "Train Loss: 28.1938 | Val Loss: 33.4630\n",
            "Val MAE - SBP: 42.76 mmHg | DBP: 24.17 mmHg\n"
          ]
        },
        {
          "output_type": "stream",
          "name": "stderr",
          "text": []
        },
        {
          "output_type": "stream",
          "name": "stdout",
          "text": [
            "\n",
            "Epoch 470/500\n",
            "Train Loss: 28.3372 | Val Loss: 33.2063\n",
            "Val MAE - SBP: 42.43 mmHg | DBP: 23.99 mmHg\n"
          ]
        },
        {
          "output_type": "stream",
          "name": "stderr",
          "text": []
        },
        {
          "output_type": "stream",
          "name": "stdout",
          "text": [
            "\n",
            "Epoch 471/500\n",
            "Train Loss: 28.0581 | Val Loss: 33.9462\n",
            "Val MAE - SBP: 43.23 mmHg | DBP: 24.66 mmHg\n"
          ]
        },
        {
          "output_type": "stream",
          "name": "stderr",
          "text": []
        },
        {
          "output_type": "stream",
          "name": "stdout",
          "text": [
            "\n",
            "Epoch 472/500\n",
            "Train Loss: 28.2106 | Val Loss: 33.3897\n",
            "Val MAE - SBP: 42.69 mmHg | DBP: 24.09 mmHg\n"
          ]
        },
        {
          "output_type": "stream",
          "name": "stderr",
          "text": []
        },
        {
          "output_type": "stream",
          "name": "stdout",
          "text": [
            "\n",
            "Epoch 473/500\n",
            "Train Loss: 28.0336 | Val Loss: 33.9700\n",
            "Val MAE - SBP: 43.43 mmHg | DBP: 24.51 mmHg\n"
          ]
        },
        {
          "output_type": "stream",
          "name": "stderr",
          "text": []
        },
        {
          "output_type": "stream",
          "name": "stdout",
          "text": [
            "\n",
            "Epoch 474/500\n",
            "Train Loss: 27.8702 | Val Loss: 33.5754\n",
            "Val MAE - SBP: 42.97 mmHg | DBP: 24.18 mmHg\n"
          ]
        },
        {
          "output_type": "stream",
          "name": "stderr",
          "text": []
        },
        {
          "output_type": "stream",
          "name": "stdout",
          "text": [
            "\n",
            "Epoch 475/500\n",
            "Train Loss: 28.3391 | Val Loss: 33.7405\n",
            "Val MAE - SBP: 43.19 mmHg | DBP: 24.29 mmHg\n"
          ]
        },
        {
          "output_type": "stream",
          "name": "stderr",
          "text": []
        },
        {
          "output_type": "stream",
          "name": "stdout",
          "text": [
            "\n",
            "Epoch 476/500\n",
            "Train Loss: 27.6182 | Val Loss: 33.2519\n",
            "Val MAE - SBP: 42.51 mmHg | DBP: 24.00 mmHg\n"
          ]
        },
        {
          "output_type": "stream",
          "name": "stderr",
          "text": []
        },
        {
          "output_type": "stream",
          "name": "stdout",
          "text": [
            "\n",
            "Epoch 477/500\n",
            "Train Loss: 27.6397 | Val Loss: 34.6238\n",
            "Val MAE - SBP: 44.23 mmHg | DBP: 25.01 mmHg\n"
          ]
        },
        {
          "output_type": "stream",
          "name": "stderr",
          "text": []
        },
        {
          "output_type": "stream",
          "name": "stdout",
          "text": [
            "\n",
            "Epoch 478/500\n",
            "Train Loss: 27.8336 | Val Loss: 33.4514\n",
            "Val MAE - SBP: 42.78 mmHg | DBP: 24.12 mmHg\n"
          ]
        },
        {
          "output_type": "stream",
          "name": "stderr",
          "text": []
        },
        {
          "output_type": "stream",
          "name": "stdout",
          "text": [
            "\n",
            "Epoch 479/500\n",
            "Train Loss: 27.4275 | Val Loss: 33.6175\n",
            "Val MAE - SBP: 43.04 mmHg | DBP: 24.19 mmHg\n"
          ]
        },
        {
          "output_type": "stream",
          "name": "stderr",
          "text": []
        },
        {
          "output_type": "stream",
          "name": "stdout",
          "text": [
            "\n",
            "Epoch 480/500\n",
            "Train Loss: 27.4408 | Val Loss: 33.3780\n",
            "Val MAE - SBP: 42.67 mmHg | DBP: 24.08 mmHg\n"
          ]
        },
        {
          "output_type": "stream",
          "name": "stderr",
          "text": []
        },
        {
          "output_type": "stream",
          "name": "stdout",
          "text": [
            "\n",
            "Epoch 481/500\n",
            "Train Loss: 27.4783 | Val Loss: 34.2470\n",
            "Val MAE - SBP: 43.75 mmHg | DBP: 24.75 mmHg\n"
          ]
        },
        {
          "output_type": "stream",
          "name": "stderr",
          "text": []
        },
        {
          "output_type": "stream",
          "name": "stdout",
          "text": [
            "\n",
            "Epoch 482/500\n",
            "Train Loss: 27.8993 | Val Loss: 33.6271\n",
            "Val MAE - SBP: 42.97 mmHg | DBP: 24.28 mmHg\n"
          ]
        },
        {
          "output_type": "stream",
          "name": "stderr",
          "text": []
        },
        {
          "output_type": "stream",
          "name": "stdout",
          "text": [
            "\n",
            "Epoch 483/500\n",
            "Train Loss: 27.4829 | Val Loss: 33.7327\n",
            "Val MAE - SBP: 43.18 mmHg | DBP: 24.28 mmHg\n"
          ]
        },
        {
          "output_type": "stream",
          "name": "stderr",
          "text": []
        },
        {
          "output_type": "stream",
          "name": "stdout",
          "text": [
            "\n",
            "Epoch 484/500\n",
            "Train Loss: 27.7189 | Val Loss: 33.5579\n",
            "Val MAE - SBP: 42.86 mmHg | DBP: 24.26 mmHg\n"
          ]
        },
        {
          "output_type": "stream",
          "name": "stderr",
          "text": []
        },
        {
          "output_type": "stream",
          "name": "stdout",
          "text": [
            "\n",
            "Epoch 485/500\n",
            "Train Loss: 27.8750 | Val Loss: 33.4173\n",
            "Val MAE - SBP: 42.65 mmHg | DBP: 24.18 mmHg\n"
          ]
        },
        {
          "output_type": "stream",
          "name": "stderr",
          "text": []
        },
        {
          "output_type": "stream",
          "name": "stdout",
          "text": [
            "\n",
            "Epoch 486/500\n",
            "Train Loss: 27.8803 | Val Loss: 34.0342\n",
            "Val MAE - SBP: 43.46 mmHg | DBP: 24.61 mmHg\n"
          ]
        },
        {
          "output_type": "stream",
          "name": "stderr",
          "text": []
        },
        {
          "output_type": "stream",
          "name": "stdout",
          "text": [
            "\n",
            "Epoch 487/500\n",
            "Train Loss: 27.6238 | Val Loss: 33.9908\n",
            "Val MAE - SBP: 43.46 mmHg | DBP: 24.53 mmHg\n"
          ]
        },
        {
          "output_type": "stream",
          "name": "stderr",
          "text": []
        },
        {
          "output_type": "stream",
          "name": "stdout",
          "text": [
            "\n",
            "Epoch 488/500\n",
            "Train Loss: 27.6869 | Val Loss: 33.9466\n",
            "Val MAE - SBP: 43.37 mmHg | DBP: 24.53 mmHg\n"
          ]
        },
        {
          "output_type": "stream",
          "name": "stderr",
          "text": []
        },
        {
          "output_type": "stream",
          "name": "stdout",
          "text": [
            "\n",
            "Epoch 489/500\n",
            "Train Loss: 27.2348 | Val Loss: 33.3996\n",
            "Val MAE - SBP: 42.76 mmHg | DBP: 24.04 mmHg\n"
          ]
        },
        {
          "output_type": "stream",
          "name": "stderr",
          "text": []
        },
        {
          "output_type": "stream",
          "name": "stdout",
          "text": [
            "\n",
            "Epoch 490/500\n",
            "Train Loss: 27.3237 | Val Loss: 33.1408\n",
            "Val MAE - SBP: 42.32 mmHg | DBP: 23.96 mmHg\n"
          ]
        },
        {
          "output_type": "stream",
          "name": "stderr",
          "text": []
        },
        {
          "output_type": "stream",
          "name": "stdout",
          "text": [
            "\n",
            "Epoch 491/500\n",
            "Train Loss: 27.5133 | Val Loss: 33.0946\n",
            "Val MAE - SBP: 42.29 mmHg | DBP: 23.90 mmHg\n"
          ]
        },
        {
          "output_type": "stream",
          "name": "stderr",
          "text": []
        },
        {
          "output_type": "stream",
          "name": "stdout",
          "text": [
            "\n",
            "Epoch 492/500\n",
            "Train Loss: 27.2926 | Val Loss: 33.3175\n",
            "Val MAE - SBP: 42.59 mmHg | DBP: 24.04 mmHg\n"
          ]
        },
        {
          "output_type": "stream",
          "name": "stderr",
          "text": []
        },
        {
          "output_type": "stream",
          "name": "stdout",
          "text": [
            "\n",
            "Epoch 493/500\n",
            "Train Loss: 27.5620 | Val Loss: 33.2630\n",
            "Val MAE - SBP: 42.55 mmHg | DBP: 23.97 mmHg\n"
          ]
        },
        {
          "output_type": "stream",
          "name": "stderr",
          "text": []
        },
        {
          "output_type": "stream",
          "name": "stdout",
          "text": [
            "\n",
            "Epoch 494/500\n",
            "Train Loss: 27.6879 | Val Loss: 33.7658\n",
            "Val MAE - SBP: 43.22 mmHg | DBP: 24.32 mmHg\n"
          ]
        },
        {
          "output_type": "stream",
          "name": "stderr",
          "text": []
        },
        {
          "output_type": "stream",
          "name": "stdout",
          "text": [
            "\n",
            "Epoch 495/500\n",
            "Train Loss: 27.1809 | Val Loss: 33.1412\n",
            "Val MAE - SBP: 42.32 mmHg | DBP: 23.96 mmHg\n"
          ]
        },
        {
          "output_type": "stream",
          "name": "stderr",
          "text": []
        },
        {
          "output_type": "stream",
          "name": "stdout",
          "text": [
            "\n",
            "Epoch 496/500\n",
            "Train Loss: 27.5889 | Val Loss: 33.8256\n",
            "Val MAE - SBP: 43.20 mmHg | DBP: 24.46 mmHg\n"
          ]
        },
        {
          "output_type": "stream",
          "name": "stderr",
          "text": []
        },
        {
          "output_type": "stream",
          "name": "stdout",
          "text": [
            "\n",
            "Epoch 497/500\n",
            "Train Loss: 27.4755 | Val Loss: 33.1092\n",
            "Val MAE - SBP: 42.39 mmHg | DBP: 23.83 mmHg\n"
          ]
        },
        {
          "output_type": "stream",
          "name": "stderr",
          "text": []
        },
        {
          "output_type": "stream",
          "name": "stdout",
          "text": [
            "\n",
            "Epoch 498/500\n",
            "Train Loss: 27.5058 | Val Loss: 33.3783\n",
            "Val MAE - SBP: 42.63 mmHg | DBP: 24.13 mmHg\n"
          ]
        },
        {
          "output_type": "stream",
          "name": "stderr",
          "text": []
        },
        {
          "output_type": "stream",
          "name": "stdout",
          "text": [
            "\n",
            "Epoch 499/500\n",
            "Train Loss: 27.4368 | Val Loss: 33.6130\n",
            "Val MAE - SBP: 42.89 mmHg | DBP: 24.34 mmHg\n"
          ]
        },
        {
          "output_type": "stream",
          "name": "stderr",
          "text": []
        },
        {
          "output_type": "stream",
          "name": "stdout",
          "text": [
            "\n",
            "Epoch 500/500\n",
            "Train Loss: 27.4084 | Val Loss: 34.0424\n",
            "Val MAE - SBP: 43.50 mmHg | DBP: 24.58 mmHg\n",
            "\n",
            "Training completed!\n"
          ]
        },
        {
          "output_type": "error",
          "ename": "IndexError",
          "evalue": "too many indices for tensor of dimension 1",
          "traceback": [
            "\u001b[0;31m---------------------------------------------------------------------------\u001b[0m",
            "\u001b[0;31mIndexError\u001b[0m                                Traceback (most recent call last)",
            "\u001b[0;32m<ipython-input-14-e0a061c682e3>\u001b[0m in \u001b[0;36m<cell line: 0>\u001b[0;34m()\u001b[0m\n\u001b[1;32m    147\u001b[0m     \u001b[0mX_test_gpu\u001b[0m \u001b[0;34m=\u001b[0m \u001b[0mX_test\u001b[0m\u001b[0;34m.\u001b[0m\u001b[0mto\u001b[0m\u001b[0;34m(\u001b[0m\u001b[0mdevice\u001b[0m\u001b[0;34m)\u001b[0m\u001b[0;34m\u001b[0m\u001b[0;34m\u001b[0m\u001b[0m\n\u001b[1;32m    148\u001b[0m     \u001b[0mpred_test\u001b[0m \u001b[0;34m=\u001b[0m \u001b[0mmodel\u001b[0m\u001b[0;34m(\u001b[0m\u001b[0mX_test_gpu\u001b[0m\u001b[0;34m,\u001b[0m \u001b[0;32mNone\u001b[0m\u001b[0;34m,\u001b[0m \u001b[0;32mNone\u001b[0m\u001b[0;34m,\u001b[0m \u001b[0;32mNone\u001b[0m\u001b[0;34m)\u001b[0m\u001b[0;34m.\u001b[0m\u001b[0mmean\u001b[0m\u001b[0;34m(\u001b[0m\u001b[0mdim\u001b[0m\u001b[0;34m=\u001b[0m\u001b[0;36m1\u001b[0m\u001b[0;34m)\u001b[0m\u001b[0;34m\u001b[0m\u001b[0;34m\u001b[0m\u001b[0m\n\u001b[0;32m--> 149\u001b[0;31m     \u001b[0mmae_sbp\u001b[0m \u001b[0;34m=\u001b[0m \u001b[0mmean_absolute_error\u001b[0m\u001b[0;34m(\u001b[0m\u001b[0my_test\u001b[0m\u001b[0;34m[\u001b[0m\u001b[0;34m:\u001b[0m\u001b[0;34m,\u001b[0m \u001b[0;36m0\u001b[0m\u001b[0;34m]\u001b[0m\u001b[0;34m.\u001b[0m\u001b[0mnumpy\u001b[0m\u001b[0;34m(\u001b[0m\u001b[0;34m)\u001b[0m\u001b[0;34m,\u001b[0m \u001b[0mpred_test\u001b[0m\u001b[0;34m[\u001b[0m\u001b[0;34m:\u001b[0m\u001b[0;34m,\u001b[0m \u001b[0;36m0\u001b[0m\u001b[0;34m]\u001b[0m\u001b[0;34m.\u001b[0m\u001b[0mcpu\u001b[0m\u001b[0;34m(\u001b[0m\u001b[0;34m)\u001b[0m\u001b[0;34m.\u001b[0m\u001b[0mnumpy\u001b[0m\u001b[0;34m(\u001b[0m\u001b[0;34m)\u001b[0m\u001b[0;34m)\u001b[0m\u001b[0;34m\u001b[0m\u001b[0;34m\u001b[0m\u001b[0m\n\u001b[0m\u001b[1;32m    150\u001b[0m     \u001b[0mmae_dbp\u001b[0m \u001b[0;34m=\u001b[0m \u001b[0mmean_absolute_error\u001b[0m\u001b[0;34m(\u001b[0m\u001b[0my_test\u001b[0m\u001b[0;34m[\u001b[0m\u001b[0;34m:\u001b[0m\u001b[0;34m,\u001b[0m \u001b[0;36m1\u001b[0m\u001b[0;34m]\u001b[0m\u001b[0;34m.\u001b[0m\u001b[0mnumpy\u001b[0m\u001b[0;34m(\u001b[0m\u001b[0;34m)\u001b[0m\u001b[0;34m,\u001b[0m \u001b[0mpred_test\u001b[0m\u001b[0;34m[\u001b[0m\u001b[0;34m:\u001b[0m\u001b[0;34m,\u001b[0m \u001b[0;36m1\u001b[0m\u001b[0;34m]\u001b[0m\u001b[0;34m.\u001b[0m\u001b[0mcpu\u001b[0m\u001b[0;34m(\u001b[0m\u001b[0;34m)\u001b[0m\u001b[0;34m.\u001b[0m\u001b[0mnumpy\u001b[0m\u001b[0;34m(\u001b[0m\u001b[0;34m)\u001b[0m\u001b[0;34m)\u001b[0m\u001b[0;34m\u001b[0m\u001b[0;34m\u001b[0m\u001b[0m\n\u001b[1;32m    151\u001b[0m \u001b[0;34m\u001b[0m\u001b[0m\n",
            "\u001b[0;31mIndexError\u001b[0m: too many indices for tensor of dimension 1"
          ]
        }
      ]
    },
    {
      "cell_type": "code",
      "source": [
        "from sklearn.metrics import mean_absolute_error, mean_squared_error\n",
        "\n",
        "model.eval()\n",
        "with torch.no_grad():\n",
        "    X_test_gpu = X_test.to(device)\n",
        "\n",
        "    # Remove the mean operation, or adjust based on your model's output\n",
        "    pred_test = model(X_test_gpu, None, None, None)\n",
        "\n",
        "    # Ensure correct dimensionality\n",
        "    pred_test = pred_test.cpu().numpy()\n",
        "    y_test_np = y_test.numpy()\n",
        "\n",
        "    # Calculate MAE\n",
        "    mae_sbp = mean_absolute_error(y_test_np[:, 0], pred_test[:, 0])\n",
        "    mae_dbp = mean_absolute_error(y_test_np[:, 1], pred_test[:, 1])\n",
        "\n",
        "    # # Calculate MSE\n",
        "    # mse_sbp = mean_squared_error(y_test_np[:, 0], pred_test[:, 0])\n",
        "    # mse_dbp = mean_squared_error(y_test_np[:, 1], pred_test[:, 1])\n",
        "\n",
        "print(f\"SBP Metrics:\")\n",
        "print(f\"  MAE: {mae_sbp:.2f} mmHg\")\n",
        "# print(f\"  MSE: {mse_sbp:.2f} mmHg²\")\n",
        "print(f\"\\nDBP Metrics:\")\n",
        "print(f\"  MAE: {mae_dbp:.2f} mmHg\")\n",
        "# print(f\"  MSE: {mse_dbp:.2f} mmHg²\")"
      ],
      "metadata": {
        "colab": {
          "base_uri": "https://localhost:8080/"
        },
        "id": "BYWZWvxZnmL6",
        "outputId": "36bf7f0d-c5cd-4acd-b374-fa0e481e172b"
      },
      "execution_count": 15,
      "outputs": [
        {
          "output_type": "stream",
          "name": "stdout",
          "text": [
            "SBP Metrics:\n",
            "  MAE: 43.36 mmHg\n",
            "\n",
            "DBP Metrics:\n",
            "  MAE: 24.49 mmHg\n"
          ]
        }
      ]
    },
    {
      "cell_type": "code",
      "source": [
        "import torch\n",
        "import numpy as np\n",
        "import matplotlib.pyplot as plt\n",
        "from sklearn.metrics import mean_absolute_error, mean_squared_error\n",
        "\n",
        "# Visualization function\n",
        "def visualize_predictions(y_true, y_pred, save_path='bp_predictions.png'):\n",
        "    # Select first 100 samples\n",
        "    y_true_subset = y_true[:100]\n",
        "    y_pred_subset = y_pred[:100]\n",
        "\n",
        "    plt.figure(figsize=(15, 10))\n",
        "\n",
        "    # Systolic Blood Pressure\n",
        "    plt.subplot(2, 1, 1)\n",
        "    plt.plot(y_true_subset[:, 0], label='Original SBP', color='blue')\n",
        "    plt.plot(y_pred_subset[:, 0], label='Predicted SBP', color='red', linestyle='--')\n",
        "    plt.title('Systolic Blood Pressure: Original vs Predicted')\n",
        "    plt.xlabel('Sample Index')\n",
        "    plt.ylabel('SBP (mmHg)')\n",
        "    plt.legend()\n",
        "    plt.grid(True)\n",
        "\n",
        "    # Diastolic Blood Pressure\n",
        "    plt.subplot(2, 1, 2)\n",
        "    plt.plot(y_true_subset[:, 1], label='Original DBP', color='green')\n",
        "    plt.plot(y_pred_subset[:, 1], label='Predicted DBP', color='orange', linestyle='--')\n",
        "    plt.title('Diastolic Blood Pressure: Original vs Predicted')\n",
        "    plt.xlabel('Sample Index')\n",
        "    plt.ylabel('DBP (mmHg)')\n",
        "    plt.legend()\n",
        "    plt.grid(True)\n",
        "\n",
        "    plt.tight_layout()\n",
        "    plt.show()\n",
        "    plt.close()\n",
        "\n",
        "# Model evaluation\n",
        "model.eval()\n",
        "with torch.no_grad():\n",
        "    X_test_gpu = X_test.to(device)\n",
        "\n",
        "    # Remove the mean operation, or adjust based on your model's output\n",
        "    pred_test = model(X_test_gpu, None, None, None)\n",
        "\n",
        "    # Ensure correct dimensionality\n",
        "    pred_test = pred_test.cpu().numpy()\n",
        "    y_test_np = y_test.numpy()\n",
        "\n",
        "    # Calculate MAE\n",
        "    mae_sbp = mean_absolute_error(y_test_np[:, 0], pred_test[:, 0])\n",
        "    mae_dbp = mean_absolute_error(y_test_np[:, 1], pred_test[:, 1])\n",
        "\n",
        "    # Calculate MSE\n",
        "    mse_sbp = mean_squared_error(y_test_np[:, 0], pred_test[:, 0])\n",
        "    mse_dbp = mean_squared_error(y_test_np[:, 1], pred_test[:, 1])\n",
        "\n",
        "    # Visualize first 100 samples\n",
        "    visualize_predictions(y_test_np, pred_test)\n",
        "\n",
        "print(f\"SBP Metrics:\")\n",
        "print(f\"  MAE: {mae_sbp:.2f} mmHg\")\n",
        "print(f\"  MSE: {mse_sbp:.2f} mmHg²\")\n",
        "print(f\"\\nDBP Metrics:\")\n",
        "print(f\"  MAE: {mae_dbp:.2f} mmHg\")\n",
        "print(f\"  MSE: {mse_dbp:.2f} mmHg²\")"
      ],
      "metadata": {
        "colab": {
          "base_uri": "https://localhost:8080/",
          "height": 817
        },
        "id": "5zKq9dWj1Fjo",
        "outputId": "fa0e616e-a336-4f6c-8f78-ae589c59045c"
      },
      "execution_count": 16,
      "outputs": [
        {
          "output_type": "display_data",
          "data": {
            "text/plain": [
              "<Figure size 1500x1000 with 2 Axes>"
            ],
            "image/png": "[encoded data removed]"
          },
          "metadata": {}
        },
        {
          "output_type": "stream",
          "name": "stdout",
          "text": [
            "SBP Metrics:\n",
            "  MAE: 43.36 mmHg\n",
            "  MSE: 3086.08 mmHg²\n",
            "\n",
            "DBP Metrics:\n",
            "  MAE: 24.49 mmHg\n",
            "  MSE: 980.59 mmHg²\n"
          ]
        }
      ]
    },
    {
      "cell_type": "code",
      "source": [],
      "metadata": {
        "id": "Q_SLz9SL1gX_"
      },
      "execution_count": null,
      "outputs": []
    }
  ]
}