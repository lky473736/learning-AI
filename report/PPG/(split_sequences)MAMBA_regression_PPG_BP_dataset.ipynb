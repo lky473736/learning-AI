{
 "cells": [
  {
   "cell_type": "code",
   "execution_count": 3,
   "id": "52a82a82",
   "metadata": {
    "ExecuteTime": {
     "end_time": "2025-04-01T01:44:11.804375Z",
     "start_time": "2025-04-01T01:44:11.800357Z"
    },
    "id": "52a82a82"
   },
   "outputs": [],
   "source": [
    "import os\n",
    "import math\n",
    "import numpy as np\n",
    "import pandas as pd\n",
    "import torch\n",
    "import torch.nn as nn\n",
    "import torch.nn.functional as F\n",
    "from torch.utils.data import Dataset, DataLoader\n",
    "from sklearn.model_selection import train_test_split\n",
    "from sklearn.preprocessing import StandardScaler\n",
    "from torch.optim.lr_scheduler import ReduceLROnPlateau\n",
    "from tqdm import tqdm"
   ]
  },
  {
   "cell_type": "code",
   "execution_count": 4,
   "id": "d4a72c36",
   "metadata": {
    "ExecuteTime": {
     "end_time": "2025-04-01T01:50:31.855119Z",
     "start_time": "2025-04-01T01:50:15.873916Z"
    },
    "colab": {
     "base_uri": "https://localhost:8080/"
    },
    "id": "d4a72c36",
    "outputId": "f675981f-8613-457b-e5ab-54977698fe6b"
   },
   "outputs": [
    {
     "name": "stdout",
     "output_type": "stream",
     "text": [
      "<class 'pandas.core.frame.DataFrame'>\n",
      "RangeIndex: 657 entries, 0 to 656\n",
      "Columns: 2114 entries, Num. to 2100\n",
      "dtypes: float64(1), int64(2108), object(5)\n",
      "memory usage: 10.6+ MB\n"
     ]
    }
   ],
   "source": [
    "data_path = '/content/combined_dataset-1.xlsx'\n",
    "df = pd.read_excel(data_path)\n",
    "df.info()"
   ]
  },
  {
   "cell_type": "code",
   "execution_count": 5,
   "id": "cc8fbad1",
   "metadata": {
    "ExecuteTime": {
     "end_time": "2025-04-01T01:50:42.775126Z",
     "start_time": "2025-04-01T01:50:42.756235Z"
    },
    "colab": {
     "base_uri": "https://localhost:8080/",
     "height": 447
    },
    "id": "cc8fbad1",
    "outputId": "03719f1b-72d1-454c-d801-022d7030d8e8"
   },
   "outputs": [
    {
     "data": {
      "application/vnd.google.colaboratory.intrinsic+json": {
       "type": "dataframe",
       "variable_name": "df"
      },
      "text/html": [
       "\n",
       "  <div id=\"df-adcfe3a3-98be-469f-89c1-a0c8fcca604f\" class=\"colab-df-container\">\n",
       "    <div>\n",
       "<style scoped>\n",
       "    .dataframe tbody tr th:only-of-type {\n",
       "        vertical-align: middle;\n",
       "    }\n",
       "\n",
       "    .dataframe tbody tr th {\n",
       "        vertical-align: top;\n",
       "    }\n",
       "\n",
       "    .dataframe thead th {\n",
       "        text-align: right;\n",
       "    }\n",
       "</style>\n",
       "<table border=\"1\" class=\"dataframe\">\n",
       "  <thead>\n",
       "    <tr style=\"text-align: right;\">\n",
       "      <th></th>\n",
       "      <th>Num.</th>\n",
       "      <th>subject_ID</th>\n",
       "      <th>Sex(M/F)</th>\n",
       "      <th>Age(year)</th>\n",
       "      <th>Height(cm)</th>\n",
       "      <th>Weight(kg)</th>\n",
       "      <th>Systolic Blood Pressure(mmHg)</th>\n",
       "      <th>Diastolic Blood Pressure(mmHg)</th>\n",
       "      <th>Heart Rate(b/m)</th>\n",
       "      <th>BMI(kg/m^2)</th>\n",
       "      <th>...</th>\n",
       "      <th>2091</th>\n",
       "      <th>2092</th>\n",
       "      <th>2093</th>\n",
       "      <th>2094</th>\n",
       "      <th>2095</th>\n",
       "      <th>2096</th>\n",
       "      <th>2097</th>\n",
       "      <th>2098</th>\n",
       "      <th>2099</th>\n",
       "      <th>2100</th>\n",
       "    </tr>\n",
       "  </thead>\n",
       "  <tbody>\n",
       "    <tr>\n",
       "      <th>0</th>\n",
       "      <td>1</td>\n",
       "      <td>2</td>\n",
       "      <td>Female</td>\n",
       "      <td>45</td>\n",
       "      <td>152</td>\n",
       "      <td>63</td>\n",
       "      <td>161</td>\n",
       "      <td>89</td>\n",
       "      <td>97</td>\n",
       "      <td>27.268006</td>\n",
       "      <td>...</td>\n",
       "      <td>1766</td>\n",
       "      <td>1766</td>\n",
       "      <td>1766</td>\n",
       "      <td>1833</td>\n",
       "      <td>1833</td>\n",
       "      <td>1827</td>\n",
       "      <td>1827</td>\n",
       "      <td>1827</td>\n",
       "      <td>1754</td>\n",
       "      <td>1754</td>\n",
       "    </tr>\n",
       "    <tr>\n",
       "      <th>1</th>\n",
       "      <td>1</td>\n",
       "      <td>2</td>\n",
       "      <td>Female</td>\n",
       "      <td>45</td>\n",
       "      <td>152</td>\n",
       "      <td>63</td>\n",
       "      <td>161</td>\n",
       "      <td>89</td>\n",
       "      <td>97</td>\n",
       "      <td>27.268006</td>\n",
       "      <td>...</td>\n",
       "      <td>1985</td>\n",
       "      <td>1985</td>\n",
       "      <td>2026</td>\n",
       "      <td>2026</td>\n",
       "      <td>2026</td>\n",
       "      <td>1977</td>\n",
       "      <td>1977</td>\n",
       "      <td>1997</td>\n",
       "      <td>1997</td>\n",
       "      <td>1997</td>\n",
       "    </tr>\n",
       "    <tr>\n",
       "      <th>2</th>\n",
       "      <td>1</td>\n",
       "      <td>2</td>\n",
       "      <td>Female</td>\n",
       "      <td>45</td>\n",
       "      <td>152</td>\n",
       "      <td>63</td>\n",
       "      <td>161</td>\n",
       "      <td>89</td>\n",
       "      <td>97</td>\n",
       "      <td>27.268006</td>\n",
       "      <td>...</td>\n",
       "      <td>1942</td>\n",
       "      <td>1900</td>\n",
       "      <td>1900</td>\n",
       "      <td>1938</td>\n",
       "      <td>1938</td>\n",
       "      <td>1938</td>\n",
       "      <td>1924</td>\n",
       "      <td>1924</td>\n",
       "      <td>1929</td>\n",
       "      <td>1929</td>\n",
       "    </tr>\n",
       "    <tr>\n",
       "      <th>3</th>\n",
       "      <td>2</td>\n",
       "      <td>3</td>\n",
       "      <td>Female</td>\n",
       "      <td>50</td>\n",
       "      <td>157</td>\n",
       "      <td>50</td>\n",
       "      <td>160</td>\n",
       "      <td>93</td>\n",
       "      <td>76</td>\n",
       "      <td>20.284799</td>\n",
       "      <td>...</td>\n",
       "      <td>2073</td>\n",
       "      <td>2072</td>\n",
       "      <td>2072</td>\n",
       "      <td>2072</td>\n",
       "      <td>2051</td>\n",
       "      <td>2051</td>\n",
       "      <td>2036</td>\n",
       "      <td>2036</td>\n",
       "      <td>2036</td>\n",
       "      <td>2045</td>\n",
       "    </tr>\n",
       "    <tr>\n",
       "      <th>4</th>\n",
       "      <td>2</td>\n",
       "      <td>3</td>\n",
       "      <td>Female</td>\n",
       "      <td>50</td>\n",
       "      <td>157</td>\n",
       "      <td>50</td>\n",
       "      <td>160</td>\n",
       "      <td>93</td>\n",
       "      <td>76</td>\n",
       "      <td>20.284799</td>\n",
       "      <td>...</td>\n",
       "      <td>2021</td>\n",
       "      <td>2010</td>\n",
       "      <td>2010</td>\n",
       "      <td>2010</td>\n",
       "      <td>2001</td>\n",
       "      <td>2001</td>\n",
       "      <td>2003</td>\n",
       "      <td>2003</td>\n",
       "      <td>2003</td>\n",
       "      <td>1989</td>\n",
       "    </tr>\n",
       "    <tr>\n",
       "      <th>5</th>\n",
       "      <td>2</td>\n",
       "      <td>3</td>\n",
       "      <td>Female</td>\n",
       "      <td>50</td>\n",
       "      <td>157</td>\n",
       "      <td>50</td>\n",
       "      <td>160</td>\n",
       "      <td>93</td>\n",
       "      <td>76</td>\n",
       "      <td>20.284799</td>\n",
       "      <td>...</td>\n",
       "      <td>2020</td>\n",
       "      <td>2020</td>\n",
       "      <td>2032</td>\n",
       "      <td>2032</td>\n",
       "      <td>2032</td>\n",
       "      <td>2011</td>\n",
       "      <td>2011</td>\n",
       "      <td>2005</td>\n",
       "      <td>2005</td>\n",
       "      <td>2005</td>\n",
       "    </tr>\n",
       "    <tr>\n",
       "      <th>6</th>\n",
       "      <td>3</td>\n",
       "      <td>6</td>\n",
       "      <td>Female</td>\n",
       "      <td>47</td>\n",
       "      <td>150</td>\n",
       "      <td>47</td>\n",
       "      <td>101</td>\n",
       "      <td>71</td>\n",
       "      <td>79</td>\n",
       "      <td>20.888889</td>\n",
       "      <td>...</td>\n",
       "      <td>2047</td>\n",
       "      <td>2047</td>\n",
       "      <td>2017</td>\n",
       "      <td>2017</td>\n",
       "      <td>2017</td>\n",
       "      <td>2053</td>\n",
       "      <td>2053</td>\n",
       "      <td>2038</td>\n",
       "      <td>2038</td>\n",
       "      <td>2038</td>\n",
       "    </tr>\n",
       "    <tr>\n",
       "      <th>7</th>\n",
       "      <td>3</td>\n",
       "      <td>6</td>\n",
       "      <td>Female</td>\n",
       "      <td>47</td>\n",
       "      <td>150</td>\n",
       "      <td>47</td>\n",
       "      <td>101</td>\n",
       "      <td>71</td>\n",
       "      <td>79</td>\n",
       "      <td>20.888889</td>\n",
       "      <td>...</td>\n",
       "      <td>2076</td>\n",
       "      <td>2076</td>\n",
       "      <td>2051</td>\n",
       "      <td>2051</td>\n",
       "      <td>2051</td>\n",
       "      <td>2060</td>\n",
       "      <td>2060</td>\n",
       "      <td>2067</td>\n",
       "      <td>2067</td>\n",
       "      <td>2067</td>\n",
       "    </tr>\n",
       "    <tr>\n",
       "      <th>8</th>\n",
       "      <td>3</td>\n",
       "      <td>6</td>\n",
       "      <td>Female</td>\n",
       "      <td>47</td>\n",
       "      <td>150</td>\n",
       "      <td>47</td>\n",
       "      <td>101</td>\n",
       "      <td>71</td>\n",
       "      <td>79</td>\n",
       "      <td>20.888889</td>\n",
       "      <td>...</td>\n",
       "      <td>2163</td>\n",
       "      <td>2159</td>\n",
       "      <td>2159</td>\n",
       "      <td>2159</td>\n",
       "      <td>2175</td>\n",
       "      <td>2175</td>\n",
       "      <td>2168</td>\n",
       "      <td>2168</td>\n",
       "      <td>2168</td>\n",
       "      <td>2175</td>\n",
       "    </tr>\n",
       "    <tr>\n",
       "      <th>9</th>\n",
       "      <td>4</td>\n",
       "      <td>8</td>\n",
       "      <td>Male</td>\n",
       "      <td>45</td>\n",
       "      <td>172</td>\n",
       "      <td>65</td>\n",
       "      <td>136</td>\n",
       "      <td>93</td>\n",
       "      <td>87</td>\n",
       "      <td>21.971336</td>\n",
       "      <td>...</td>\n",
       "      <td>1985</td>\n",
       "      <td>1985</td>\n",
       "      <td>1985</td>\n",
       "      <td>1984</td>\n",
       "      <td>1984</td>\n",
       "      <td>1995</td>\n",
       "      <td>1995</td>\n",
       "      <td>1995</td>\n",
       "      <td>1972</td>\n",
       "      <td>1972</td>\n",
       "    </tr>\n",
       "  </tbody>\n",
       "</table>\n",
       "<p>10 rows × 2114 columns</p>\n",
       "</div>\n",
       "    <div class=\"colab-df-buttons\">\n",
       "\n",
       "  <div class=\"colab-df-container\">\n",
       "    <button class=\"colab-df-convert\" onclick=\"convertToInteractive('df-adcfe3a3-98be-469f-89c1-a0c8fcca604f')\"\n",
       "            title=\"Convert this dataframe to an interactive table.\"\n",
       "            style=\"display:none;\">\n",
       "\n",
       "  <svg xmlns=\"http://www.w3.org/2000/svg\" height=\"24px\" viewBox=\"0 -960 960 960\">\n",
       "    <path d=\"M120-120v-720h720v720H120Zm60-500h600v-160H180v160Zm220 220h160v-160H400v160Zm0 220h160v-160H400v160ZM180-400h160v-160H180v160Zm440 0h160v-160H620v160ZM180-180h160v-160H180v160Zm440 0h160v-160H620v160Z\"/>\n",
       "  </svg>\n",
       "    </button>\n",
       "\n",
       "  <style>\n",
       "    .colab-df-container {\n",
       "      display:flex;\n",
       "      gap: 12px;\n",
       "    }\n",
       "\n",
       "    .colab-df-convert {\n",
       "      background-color: #E8F0FE;\n",
       "      border: none;\n",
       "      border-radius: 50%;\n",
       "      cursor: pointer;\n",
       "      display: none;\n",
       "      fill: #1967D2;\n",
       "      height: 32px;\n",
       "      padding: 0 0 0 0;\n",
       "      width: 32px;\n",
       "    }\n",
       "\n",
       "    .colab-df-convert:hover {\n",
       "      background-color: #E2EBFA;\n",
       "      box-shadow: 0px 1px 2px rgba(60, 64, 67, 0.3), 0px 1px 3px 1px rgba(60, 64, 67, 0.15);\n",
       "      fill: #174EA6;\n",
       "    }\n",
       "\n",
       "    .colab-df-buttons div {\n",
       "      margin-bottom: 4px;\n",
       "    }\n",
       "\n",
       "    [theme=dark] .colab-df-convert {\n",
       "      background-color: #3B4455;\n",
       "      fill: #D2E3FC;\n",
       "    }\n",
       "\n",
       "    [theme=dark] .colab-df-convert:hover {\n",
       "      background-color: #434B5C;\n",
       "      box-shadow: 0px 1px 3px 1px rgba(0, 0, 0, 0.15);\n",
       "      filter: drop-shadow(0px 1px 2px rgba(0, 0, 0, 0.3));\n",
       "      fill: #FFFFFF;\n",
       "    }\n",
       "  </style>\n",
       "\n",
       "    <script>\n",
       "      const buttonEl =\n",
       "        document.querySelector('#df-adcfe3a3-98be-469f-89c1-a0c8fcca604f button.colab-df-convert');\n",
       "      buttonEl.style.display =\n",
       "        google.colab.kernel.accessAllowed ? 'block' : 'none';\n",
       "\n",
       "      async function convertToInteractive(key) {\n",
       "        const element = document.querySelector('#df-adcfe3a3-98be-469f-89c1-a0c8fcca604f');\n",
       "        const dataTable =\n",
       "          await google.colab.kernel.invokeFunction('convertToInteractive',\n",
       "                                                    [key], {});\n",
       "        if (!dataTable) return;\n",
       "\n",
       "        const docLinkHtml = 'Like what you see? Visit the ' +\n",
       "          '<a target=\"_blank\" href=https://colab.research.google.com/notebooks/data_table.ipynb>data table notebook</a>'\n",
       "          + ' to learn more about interactive tables.';\n",
       "        element.innerHTML = '';\n",
       "        dataTable['output_type'] = 'display_data';\n",
       "        await google.colab.output.renderOutput(dataTable, element);\n",
       "        const docLink = document.createElement('div');\n",
       "        docLink.innerHTML = docLinkHtml;\n",
       "        element.appendChild(docLink);\n",
       "      }\n",
       "    </script>\n",
       "  </div>\n",
       "\n",
       "\n",
       "<div id=\"df-668fe2dd-f566-45e4-80fa-8b757e691740\">\n",
       "  <button class=\"colab-df-quickchart\" onclick=\"quickchart('df-668fe2dd-f566-45e4-80fa-8b757e691740')\"\n",
       "            title=\"Suggest charts\"\n",
       "            style=\"display:none;\">\n",
       "\n",
       "<svg xmlns=\"http://www.w3.org/2000/svg\" height=\"24px\"viewBox=\"0 0 24 24\"\n",
       "     width=\"24px\">\n",
       "    <g>\n",
       "        <path d=\"M19 3H5c-1.1 0-2 .9-2 2v14c0 1.1.9 2 2 2h14c1.1 0 2-.9 2-2V5c0-1.1-.9-2-2-2zM9 17H7v-7h2v7zm4 0h-2V7h2v10zm4 0h-2v-4h2v4z\"/>\n",
       "    </g>\n",
       "</svg>\n",
       "  </button>\n",
       "\n",
       "<style>\n",
       "  .colab-df-quickchart {\n",
       "      --bg-color: #E8F0FE;\n",
       "      --fill-color: #1967D2;\n",
       "      --hover-bg-color: #E2EBFA;\n",
       "      --hover-fill-color: #174EA6;\n",
       "      --disabled-fill-color: #AAA;\n",
       "      --disabled-bg-color: #DDD;\n",
       "  }\n",
       "\n",
       "  [theme=dark] .colab-df-quickchart {\n",
       "      --bg-color: #3B4455;\n",
       "      --fill-color: #D2E3FC;\n",
       "      --hover-bg-color: #434B5C;\n",
       "      --hover-fill-color: #FFFFFF;\n",
       "      --disabled-bg-color: #3B4455;\n",
       "      --disabled-fill-color: #666;\n",
       "  }\n",
       "\n",
       "  .colab-df-quickchart {\n",
       "    background-color: var(--bg-color);\n",
       "    border: none;\n",
       "    border-radius: 50%;\n",
       "    cursor: pointer;\n",
       "    display: none;\n",
       "    fill: var(--fill-color);\n",
       "    height: 32px;\n",
       "    padding: 0;\n",
       "    width: 32px;\n",
       "  }\n",
       "\n",
       "  .colab-df-quickchart:hover {\n",
       "    background-color: var(--hover-bg-color);\n",
       "    box-shadow: 0 1px 2px rgba(60, 64, 67, 0.3), 0 1px 3px 1px rgba(60, 64, 67, 0.15);\n",
       "    fill: var(--button-hover-fill-color);\n",
       "  }\n",
       "\n",
       "  .colab-df-quickchart-complete:disabled,\n",
       "  .colab-df-quickchart-complete:disabled:hover {\n",
       "    background-color: var(--disabled-bg-color);\n",
       "    fill: var(--disabled-fill-color);\n",
       "    box-shadow: none;\n",
       "  }\n",
       "\n",
       "  .colab-df-spinner {\n",
       "    border: 2px solid var(--fill-color);\n",
       "    border-color: transparent;\n",
       "    border-bottom-color: var(--fill-color);\n",
       "    animation:\n",
       "      spin 1s steps(1) infinite;\n",
       "  }\n",
       "\n",
       "  @keyframes spin {\n",
       "    0% {\n",
       "      border-color: transparent;\n",
       "      border-bottom-color: var(--fill-color);\n",
       "      border-left-color: var(--fill-color);\n",
       "    }\n",
       "    20% {\n",
       "      border-color: transparent;\n",
       "      border-left-color: var(--fill-color);\n",
       "      border-top-color: var(--fill-color);\n",
       "    }\n",
       "    30% {\n",
       "      border-color: transparent;\n",
       "      border-left-color: var(--fill-color);\n",
       "      border-top-color: var(--fill-color);\n",
       "      border-right-color: var(--fill-color);\n",
       "    }\n",
       "    40% {\n",
       "      border-color: transparent;\n",
       "      border-right-color: var(--fill-color);\n",
       "      border-top-color: var(--fill-color);\n",
       "    }\n",
       "    60% {\n",
       "      border-color: transparent;\n",
       "      border-right-color: var(--fill-color);\n",
       "    }\n",
       "    80% {\n",
       "      border-color: transparent;\n",
       "      border-right-color: var(--fill-color);\n",
       "      border-bottom-color: var(--fill-color);\n",
       "    }\n",
       "    90% {\n",
       "      border-color: transparent;\n",
       "      border-bottom-color: var(--fill-color);\n",
       "    }\n",
       "  }\n",
       "</style>\n",
       "\n",
       "  <script>\n",
       "    async function quickchart(key) {\n",
       "      const quickchartButtonEl =\n",
       "        document.querySelector('#' + key + ' button');\n",
       "      quickchartButtonEl.disabled = true;  // To prevent multiple clicks.\n",
       "      quickchartButtonEl.classList.add('colab-df-spinner');\n",
       "      try {\n",
       "        const charts = await google.colab.kernel.invokeFunction(\n",
       "            'suggestCharts', [key], {});\n",
       "      } catch (error) {\n",
       "        console.error('Error during call to suggestCharts:', error);\n",
       "      }\n",
       "      quickchartButtonEl.classList.remove('colab-df-spinner');\n",
       "      quickchartButtonEl.classList.add('colab-df-quickchart-complete');\n",
       "    }\n",
       "    (() => {\n",
       "      let quickchartButtonEl =\n",
       "        document.querySelector('#df-668fe2dd-f566-45e4-80fa-8b757e691740 button');\n",
       "      quickchartButtonEl.style.display =\n",
       "        google.colab.kernel.accessAllowed ? 'block' : 'none';\n",
       "    })();\n",
       "  </script>\n",
       "</div>\n",
       "\n",
       "    </div>\n",
       "  </div>\n"
      ],
      "text/plain": [
       "   Num.  subject_ID Sex(M/F)  Age(year)  Height(cm)  Weight(kg)  \\\n",
       "0     1           2   Female         45         152          63   \n",
       "1     1           2   Female         45         152          63   \n",
       "2     1           2   Female         45         152          63   \n",
       "3     2           3   Female         50         157          50   \n",
       "4     2           3   Female         50         157          50   \n",
       "5     2           3   Female         50         157          50   \n",
       "6     3           6   Female         47         150          47   \n",
       "7     3           6   Female         47         150          47   \n",
       "8     3           6   Female         47         150          47   \n",
       "9     4           8     Male         45         172          65   \n",
       "\n",
       "   Systolic Blood Pressure(mmHg)  Diastolic Blood Pressure(mmHg)  \\\n",
       "0                            161                              89   \n",
       "1                            161                              89   \n",
       "2                            161                              89   \n",
       "3                            160                              93   \n",
       "4                            160                              93   \n",
       "5                            160                              93   \n",
       "6                            101                              71   \n",
       "7                            101                              71   \n",
       "8                            101                              71   \n",
       "9                            136                              93   \n",
       "\n",
       "   Heart Rate(b/m)  BMI(kg/m^2)  ...  2091  2092  2093  2094  2095  2096  \\\n",
       "0               97    27.268006  ...  1766  1766  1766  1833  1833  1827   \n",
       "1               97    27.268006  ...  1985  1985  2026  2026  2026  1977   \n",
       "2               97    27.268006  ...  1942  1900  1900  1938  1938  1938   \n",
       "3               76    20.284799  ...  2073  2072  2072  2072  2051  2051   \n",
       "4               76    20.284799  ...  2021  2010  2010  2010  2001  2001   \n",
       "5               76    20.284799  ...  2020  2020  2032  2032  2032  2011   \n",
       "6               79    20.888889  ...  2047  2047  2017  2017  2017  2053   \n",
       "7               79    20.888889  ...  2076  2076  2051  2051  2051  2060   \n",
       "8               79    20.888889  ...  2163  2159  2159  2159  2175  2175   \n",
       "9               87    21.971336  ...  1985  1985  1985  1984  1984  1995   \n",
       "\n",
       "   2097  2098  2099  2100  \n",
       "0  1827  1827  1754  1754  \n",
       "1  1977  1997  1997  1997  \n",
       "2  1924  1924  1929  1929  \n",
       "3  2036  2036  2036  2045  \n",
       "4  2003  2003  2003  1989  \n",
       "5  2011  2005  2005  2005  \n",
       "6  2053  2038  2038  2038  \n",
       "7  2060  2067  2067  2067  \n",
       "8  2168  2168  2168  2175  \n",
       "9  1995  1995  1972  1972  \n",
       "\n",
       "[10 rows x 2114 columns]"
      ]
     },
     "execution_count": 5,
     "metadata": {},
     "output_type": "execute_result"
    }
   ],
   "source": [
    "df.head(10)"
   ]
  },
  {
   "cell_type": "code",
   "execution_count": 6,
   "id": "e97c6de7",
   "metadata": {
    "ExecuteTime": {
     "end_time": "2025-04-01T01:50:47.989804Z",
     "start_time": "2025-04-01T01:50:45.693993Z"
    },
    "colab": {
     "base_uri": "https://localhost:8080/",
     "height": 424
    },
    "id": "e97c6de7",
    "outputId": "a588a1ac-f5bf-436b-8969-c95d9fd4f5c0"
   },
   "outputs": [
    {
     "data": {
      "application/vnd.google.colaboratory.intrinsic+json": {
       "summary": "{\n  \"name\": \"df\",\n  \"rows\": 2109,\n  \"fields\": [\n    {\n      \"column\": \"count\",\n      \"properties\": {\n        \"dtype\": \"number\",\n        \"std\": 0.0,\n        \"min\": 657.0,\n        \"max\": 657.0,\n        \"num_unique_values\": 1,\n        \"samples\": [\n          657.0\n        ],\n        \"semantic_type\": \"\",\n        \"description\": \"\"\n      }\n    },\n    {\n      \"column\": \"mean\",\n      \"properties\": {\n        \"dtype\": \"number\",\n        \"std\": 133.8151655956928,\n        \"min\": 23.107407063956924,\n        \"max\": 2138.261796042618,\n        \"num_unique_values\": 2078,\n        \"samples\": [\n          2134.710806697108\n        ],\n        \"semantic_type\": \"\",\n        \"description\": \"\"\n      }\n    },\n    {\n      \"column\": \"std\",\n      \"properties\": {\n        \"dtype\": \"number\",\n        \"std\": 23.56220554063035,\n        \"min\": 3.9983497410472824,\n        \"max\": 327.8955226968159,\n        \"num_unique_values\": 2109,\n        \"samples\": [\n          307.36035117352446\n        ],\n        \"semantic_type\": \"\",\n        \"description\": \"\"\n      }\n    },\n    {\n      \"column\": \"min\",\n      \"properties\": {\n        \"dtype\": \"number\",\n        \"std\": 145.84282864159525,\n        \"min\": 1.0,\n        \"max\": 1605.0,\n        \"num_unique_values\": 343,\n        \"samples\": [\n          1201.0\n        ],\n        \"semantic_type\": \"\",\n        \"description\": \"\"\n      }\n    },\n    {\n      \"column\": \"25%\",\n      \"properties\": {\n        \"dtype\": \"number\",\n        \"std\": 122.72337756462386,\n        \"min\": 20.54988662131519,\n        \"max\": 1973.0,\n        \"num_unique_values\": 126,\n        \"samples\": [\n          1927.0\n        ],\n        \"semantic_type\": \"\",\n        \"description\": \"\"\n      }\n    },\n    {\n      \"column\": \"50%\",\n      \"properties\": {\n        \"dtype\": \"number\",\n        \"std\": 130.4861165981477,\n        \"min\": 22.60026298487837,\n        \"max\": 2090.0,\n        \"num_unique_values\": 156,\n        \"samples\": [\n          2046.0\n        ],\n        \"semantic_type\": \"\",\n        \"description\": \"\"\n      }\n    },\n    {\n      \"column\": \"75%\",\n      \"properties\": {\n        \"dtype\": \"number\",\n        \"std\": 142.80052925389245,\n        \"min\": 25.0,\n        \"max\": 2246.0,\n        \"num_unique_values\": 202,\n        \"samples\": [\n          2156.0\n        ],\n        \"semantic_type\": \"\",\n        \"description\": \"\"\n      }\n    },\n    {\n      \"column\": \"max\",\n      \"properties\": {\n        \"dtype\": \"number\",\n        \"std\": 285.8418183833988,\n        \"min\": 37.46097814776275,\n        \"max\": 4095.0,\n        \"num_unique_values\": 175,\n        \"samples\": [\n          3834.0\n        ],\n        \"semantic_type\": \"\",\n        \"description\": \"\"\n      }\n    }\n  ]\n}",
       "type": "dataframe"
      },
      "text/html": [
       "\n",
       "  <div id=\"df-bf9aeeb6-16c8-4b3f-b7e2-45e7cfba10f2\" class=\"colab-df-container\">\n",
       "    <div>\n",
       "<style scoped>\n",
       "    .dataframe tbody tr th:only-of-type {\n",
       "        vertical-align: middle;\n",
       "    }\n",
       "\n",
       "    .dataframe tbody tr th {\n",
       "        vertical-align: top;\n",
       "    }\n",
       "\n",
       "    .dataframe thead th {\n",
       "        text-align: right;\n",
       "    }\n",
       "</style>\n",
       "<table border=\"1\" class=\"dataframe\">\n",
       "  <thead>\n",
       "    <tr style=\"text-align: right;\">\n",
       "      <th></th>\n",
       "      <th>count</th>\n",
       "      <th>mean</th>\n",
       "      <th>std</th>\n",
       "      <th>min</th>\n",
       "      <th>25%</th>\n",
       "      <th>50%</th>\n",
       "      <th>75%</th>\n",
       "      <th>max</th>\n",
       "    </tr>\n",
       "  </thead>\n",
       "  <tbody>\n",
       "    <tr>\n",
       "      <th>Num.</th>\n",
       "      <td>657.0</td>\n",
       "      <td>110.000000</td>\n",
       "      <td>63.267362</td>\n",
       "      <td>1.0</td>\n",
       "      <td>55.0</td>\n",
       "      <td>110.0</td>\n",
       "      <td>165.0</td>\n",
       "      <td>219.0</td>\n",
       "    </tr>\n",
       "    <tr>\n",
       "      <th>subject_ID</th>\n",
       "      <td>657.0</td>\n",
       "      <td>156.598174</td>\n",
       "      <td>101.449344</td>\n",
       "      <td>2.0</td>\n",
       "      <td>85.0</td>\n",
       "      <td>152.0</td>\n",
       "      <td>215.0</td>\n",
       "      <td>419.0</td>\n",
       "    </tr>\n",
       "    <tr>\n",
       "      <th>Age(year)</th>\n",
       "      <td>657.0</td>\n",
       "      <td>57.168950</td>\n",
       "      <td>15.850110</td>\n",
       "      <td>21.0</td>\n",
       "      <td>48.0</td>\n",
       "      <td>58.0</td>\n",
       "      <td>68.0</td>\n",
       "      <td>86.0</td>\n",
       "    </tr>\n",
       "    <tr>\n",
       "      <th>Height(cm)</th>\n",
       "      <td>657.0</td>\n",
       "      <td>161.228311</td>\n",
       "      <td>8.190357</td>\n",
       "      <td>145.0</td>\n",
       "      <td>155.0</td>\n",
       "      <td>160.0</td>\n",
       "      <td>167.0</td>\n",
       "      <td>196.0</td>\n",
       "    </tr>\n",
       "    <tr>\n",
       "      <th>Weight(kg)</th>\n",
       "      <td>657.0</td>\n",
       "      <td>60.191781</td>\n",
       "      <td>11.868168</td>\n",
       "      <td>36.0</td>\n",
       "      <td>52.0</td>\n",
       "      <td>60.0</td>\n",
       "      <td>67.0</td>\n",
       "      <td>103.0</td>\n",
       "    </tr>\n",
       "    <tr>\n",
       "      <th>...</th>\n",
       "      <td>...</td>\n",
       "      <td>...</td>\n",
       "      <td>...</td>\n",
       "      <td>...</td>\n",
       "      <td>...</td>\n",
       "      <td>...</td>\n",
       "      <td>...</td>\n",
       "      <td>...</td>\n",
       "    </tr>\n",
       "    <tr>\n",
       "      <th>2096</th>\n",
       "      <td>657.0</td>\n",
       "      <td>2085.436834</td>\n",
       "      <td>305.845135</td>\n",
       "      <td>1519.0</td>\n",
       "      <td>1904.0</td>\n",
       "      <td>2014.0</td>\n",
       "      <td>2180.0</td>\n",
       "      <td>3811.0</td>\n",
       "    </tr>\n",
       "    <tr>\n",
       "      <th>2097</th>\n",
       "      <td>657.0</td>\n",
       "      <td>2083.791476</td>\n",
       "      <td>304.297297</td>\n",
       "      <td>1515.0</td>\n",
       "      <td>1904.0</td>\n",
       "      <td>2012.0</td>\n",
       "      <td>2176.0</td>\n",
       "      <td>3787.0</td>\n",
       "    </tr>\n",
       "    <tr>\n",
       "      <th>2098</th>\n",
       "      <td>657.0</td>\n",
       "      <td>2084.803653</td>\n",
       "      <td>306.657540</td>\n",
       "      <td>1515.0</td>\n",
       "      <td>1904.0</td>\n",
       "      <td>2011.0</td>\n",
       "      <td>2175.0</td>\n",
       "      <td>3774.0</td>\n",
       "    </tr>\n",
       "    <tr>\n",
       "      <th>2099</th>\n",
       "      <td>657.0</td>\n",
       "      <td>2085.196347</td>\n",
       "      <td>306.275406</td>\n",
       "      <td>1515.0</td>\n",
       "      <td>1906.0</td>\n",
       "      <td>2012.0</td>\n",
       "      <td>2177.0</td>\n",
       "      <td>3775.0</td>\n",
       "    </tr>\n",
       "    <tr>\n",
       "      <th>2100</th>\n",
       "      <td>657.0</td>\n",
       "      <td>2085.219178</td>\n",
       "      <td>305.731730</td>\n",
       "      <td>1528.0</td>\n",
       "      <td>1906.0</td>\n",
       "      <td>2017.0</td>\n",
       "      <td>2183.0</td>\n",
       "      <td>3759.0</td>\n",
       "    </tr>\n",
       "  </tbody>\n",
       "</table>\n",
       "<p>2109 rows × 8 columns</p>\n",
       "</div>\n",
       "    <div class=\"colab-df-buttons\">\n",
       "\n",
       "  <div class=\"colab-df-container\">\n",
       "    <button class=\"colab-df-convert\" onclick=\"convertToInteractive('df-bf9aeeb6-16c8-4b3f-b7e2-45e7cfba10f2')\"\n",
       "            title=\"Convert this dataframe to an interactive table.\"\n",
       "            style=\"display:none;\">\n",
       "\n",
       "  <svg xmlns=\"http://www.w3.org/2000/svg\" height=\"24px\" viewBox=\"0 -960 960 960\">\n",
       "    <path d=\"M120-120v-720h720v720H120Zm60-500h600v-160H180v160Zm220 220h160v-160H400v160Zm0 220h160v-160H400v160ZM180-400h160v-160H180v160Zm440 0h160v-160H620v160ZM180-180h160v-160H180v160Zm440 0h160v-160H620v160Z\"/>\n",
       "  </svg>\n",
       "    </button>\n",
       "\n",
       "  <style>\n",
       "    .colab-df-container {\n",
       "      display:flex;\n",
       "      gap: 12px;\n",
       "    }\n",
       "\n",
       "    .colab-df-convert {\n",
       "      background-color: #E8F0FE;\n",
       "      border: none;\n",
       "      border-radius: 50%;\n",
       "      cursor: pointer;\n",
       "      display: none;\n",
       "      fill: #1967D2;\n",
       "      height: 32px;\n",
       "      padding: 0 0 0 0;\n",
       "      width: 32px;\n",
       "    }\n",
       "\n",
       "    .colab-df-convert:hover {\n",
       "      background-color: #E2EBFA;\n",
       "      box-shadow: 0px 1px 2px rgba(60, 64, 67, 0.3), 0px 1px 3px 1px rgba(60, 64, 67, 0.15);\n",
       "      fill: #174EA6;\n",
       "    }\n",
       "\n",
       "    .colab-df-buttons div {\n",
       "      margin-bottom: 4px;\n",
       "    }\n",
       "\n",
       "    [theme=dark] .colab-df-convert {\n",
       "      background-color: #3B4455;\n",
       "      fill: #D2E3FC;\n",
       "    }\n",
       "\n",
       "    [theme=dark] .colab-df-convert:hover {\n",
       "      background-color: #434B5C;\n",
       "      box-shadow: 0px 1px 3px 1px rgba(0, 0, 0, 0.15);\n",
       "      filter: drop-shadow(0px 1px 2px rgba(0, 0, 0, 0.3));\n",
       "      fill: #FFFFFF;\n",
       "    }\n",
       "  </style>\n",
       "\n",
       "    <script>\n",
       "      const buttonEl =\n",
       "        document.querySelector('#df-bf9aeeb6-16c8-4b3f-b7e2-45e7cfba10f2 button.colab-df-convert');\n",
       "      buttonEl.style.display =\n",
       "        google.colab.kernel.accessAllowed ? 'block' : 'none';\n",
       "\n",
       "      async function convertToInteractive(key) {\n",
       "        const element = document.querySelector('#df-bf9aeeb6-16c8-4b3f-b7e2-45e7cfba10f2');\n",
       "        const dataTable =\n",
       "          await google.colab.kernel.invokeFunction('convertToInteractive',\n",
       "                                                    [key], {});\n",
       "        if (!dataTable) return;\n",
       "\n",
       "        const docLinkHtml = 'Like what you see? Visit the ' +\n",
       "          '<a target=\"_blank\" href=https://colab.research.google.com/notebooks/data_table.ipynb>data table notebook</a>'\n",
       "          + ' to learn more about interactive tables.';\n",
       "        element.innerHTML = '';\n",
       "        dataTable['output_type'] = 'display_data';\n",
       "        await google.colab.output.renderOutput(dataTable, element);\n",
       "        const docLink = document.createElement('div');\n",
       "        docLink.innerHTML = docLinkHtml;\n",
       "        element.appendChild(docLink);\n",
       "      }\n",
       "    </script>\n",
       "  </div>\n",
       "\n",
       "\n",
       "<div id=\"df-8ef49f38-79f0-46e5-acea-7a38b661c233\">\n",
       "  <button class=\"colab-df-quickchart\" onclick=\"quickchart('df-8ef49f38-79f0-46e5-acea-7a38b661c233')\"\n",
       "            title=\"Suggest charts\"\n",
       "            style=\"display:none;\">\n",
       "\n",
       "<svg xmlns=\"http://www.w3.org/2000/svg\" height=\"24px\"viewBox=\"0 0 24 24\"\n",
       "     width=\"24px\">\n",
       "    <g>\n",
       "        <path d=\"M19 3H5c-1.1 0-2 .9-2 2v14c0 1.1.9 2 2 2h14c1.1 0 2-.9 2-2V5c0-1.1-.9-2-2-2zM9 17H7v-7h2v7zm4 0h-2V7h2v10zm4 0h-2v-4h2v4z\"/>\n",
       "    </g>\n",
       "</svg>\n",
       "  </button>\n",
       "\n",
       "<style>\n",
       "  .colab-df-quickchart {\n",
       "      --bg-color: #E8F0FE;\n",
       "      --fill-color: #1967D2;\n",
       "      --hover-bg-color: #E2EBFA;\n",
       "      --hover-fill-color: #174EA6;\n",
       "      --disabled-fill-color: #AAA;\n",
       "      --disabled-bg-color: #DDD;\n",
       "  }\n",
       "\n",
       "  [theme=dark] .colab-df-quickchart {\n",
       "      --bg-color: #3B4455;\n",
       "      --fill-color: #D2E3FC;\n",
       "      --hover-bg-color: #434B5C;\n",
       "      --hover-fill-color: #FFFFFF;\n",
       "      --disabled-bg-color: #3B4455;\n",
       "      --disabled-fill-color: #666;\n",
       "  }\n",
       "\n",
       "  .colab-df-quickchart {\n",
       "    background-color: var(--bg-color);\n",
       "    border: none;\n",
       "    border-radius: 50%;\n",
       "    cursor: pointer;\n",
       "    display: none;\n",
       "    fill: var(--fill-color);\n",
       "    height: 32px;\n",
       "    padding: 0;\n",
       "    width: 32px;\n",
       "  }\n",
       "\n",
       "  .colab-df-quickchart:hover {\n",
       "    background-color: var(--hover-bg-color);\n",
       "    box-shadow: 0 1px 2px rgba(60, 64, 67, 0.3), 0 1px 3px 1px rgba(60, 64, 67, 0.15);\n",
       "    fill: var(--button-hover-fill-color);\n",
       "  }\n",
       "\n",
       "  .colab-df-quickchart-complete:disabled,\n",
       "  .colab-df-quickchart-complete:disabled:hover {\n",
       "    background-color: var(--disabled-bg-color);\n",
       "    fill: var(--disabled-fill-color);\n",
       "    box-shadow: none;\n",
       "  }\n",
       "\n",
       "  .colab-df-spinner {\n",
       "    border: 2px solid var(--fill-color);\n",
       "    border-color: transparent;\n",
       "    border-bottom-color: var(--fill-color);\n",
       "    animation:\n",
       "      spin 1s steps(1) infinite;\n",
       "  }\n",
       "\n",
       "  @keyframes spin {\n",
       "    0% {\n",
       "      border-color: transparent;\n",
       "      border-bottom-color: var(--fill-color);\n",
       "      border-left-color: var(--fill-color);\n",
       "    }\n",
       "    20% {\n",
       "      border-color: transparent;\n",
       "      border-left-color: var(--fill-color);\n",
       "      border-top-color: var(--fill-color);\n",
       "    }\n",
       "    30% {\n",
       "      border-color: transparent;\n",
       "      border-left-color: var(--fill-color);\n",
       "      border-top-color: var(--fill-color);\n",
       "      border-right-color: var(--fill-color);\n",
       "    }\n",
       "    40% {\n",
       "      border-color: transparent;\n",
       "      border-right-color: var(--fill-color);\n",
       "      border-top-color: var(--fill-color);\n",
       "    }\n",
       "    60% {\n",
       "      border-color: transparent;\n",
       "      border-right-color: var(--fill-color);\n",
       "    }\n",
       "    80% {\n",
       "      border-color: transparent;\n",
       "      border-right-color: var(--fill-color);\n",
       "      border-bottom-color: var(--fill-color);\n",
       "    }\n",
       "    90% {\n",
       "      border-color: transparent;\n",
       "      border-bottom-color: var(--fill-color);\n",
       "    }\n",
       "  }\n",
       "</style>\n",
       "\n",
       "  <script>\n",
       "    async function quickchart(key) {\n",
       "      const quickchartButtonEl =\n",
       "        document.querySelector('#' + key + ' button');\n",
       "      quickchartButtonEl.disabled = true;  // To prevent multiple clicks.\n",
       "      quickchartButtonEl.classList.add('colab-df-spinner');\n",
       "      try {\n",
       "        const charts = await google.colab.kernel.invokeFunction(\n",
       "            'suggestCharts', [key], {});\n",
       "      } catch (error) {\n",
       "        console.error('Error during call to suggestCharts:', error);\n",
       "      }\n",
       "      quickchartButtonEl.classList.remove('colab-df-spinner');\n",
       "      quickchartButtonEl.classList.add('colab-df-quickchart-complete');\n",
       "    }\n",
       "    (() => {\n",
       "      let quickchartButtonEl =\n",
       "        document.querySelector('#df-8ef49f38-79f0-46e5-acea-7a38b661c233 button');\n",
       "      quickchartButtonEl.style.display =\n",
       "        google.colab.kernel.accessAllowed ? 'block' : 'none';\n",
       "    })();\n",
       "  </script>\n",
       "</div>\n",
       "\n",
       "    </div>\n",
       "  </div>\n"
      ],
      "text/plain": [
       "            count         mean         std     min     25%     50%     75%  \\\n",
       "Num.        657.0   110.000000   63.267362     1.0    55.0   110.0   165.0   \n",
       "subject_ID  657.0   156.598174  101.449344     2.0    85.0   152.0   215.0   \n",
       "Age(year)   657.0    57.168950   15.850110    21.0    48.0    58.0    68.0   \n",
       "Height(cm)  657.0   161.228311    8.190357   145.0   155.0   160.0   167.0   \n",
       "Weight(kg)  657.0    60.191781   11.868168    36.0    52.0    60.0    67.0   \n",
       "...           ...          ...         ...     ...     ...     ...     ...   \n",
       "2096        657.0  2085.436834  305.845135  1519.0  1904.0  2014.0  2180.0   \n",
       "2097        657.0  2083.791476  304.297297  1515.0  1904.0  2012.0  2176.0   \n",
       "2098        657.0  2084.803653  306.657540  1515.0  1904.0  2011.0  2175.0   \n",
       "2099        657.0  2085.196347  306.275406  1515.0  1906.0  2012.0  2177.0   \n",
       "2100        657.0  2085.219178  305.731730  1528.0  1906.0  2017.0  2183.0   \n",
       "\n",
       "               max  \n",
       "Num.         219.0  \n",
       "subject_ID   419.0  \n",
       "Age(year)     86.0  \n",
       "Height(cm)   196.0  \n",
       "Weight(kg)   103.0  \n",
       "...            ...  \n",
       "2096        3811.0  \n",
       "2097        3787.0  \n",
       "2098        3774.0  \n",
       "2099        3775.0  \n",
       "2100        3759.0  \n",
       "\n",
       "[2109 rows x 8 columns]"
      ]
     },
     "execution_count": 6,
     "metadata": {},
     "output_type": "execute_result"
    }
   ],
   "source": [
    "df.describe().T"
   ]
  },
  {
   "cell_type": "code",
   "execution_count": 7,
   "id": "e0ba3663",
   "metadata": {
    "ExecuteTime": {
     "end_time": "2025-04-01T01:51:01.447714Z",
     "start_time": "2025-04-01T01:51:01.443690Z"
    },
    "colab": {
     "base_uri": "https://localhost:8080/"
    },
    "id": "e0ba3663",
    "outputId": "8ec60f56-a023-4dc5-9b43-c8f517635b70"
   },
   "outputs": [
    {
     "data": {
      "text/plain": [
       "(657, 2114)"
      ]
     },
     "execution_count": 7,
     "metadata": {},
     "output_type": "execute_result"
    }
   ],
   "source": [
    "df.shape"
   ]
  },
  {
   "cell_type": "code",
   "execution_count": 8,
   "id": "u98HtrbxHZR2",
   "metadata": {
    "colab": {
     "base_uri": "https://localhost:8080/"
    },
    "id": "u98HtrbxHZR2",
    "outputId": "88064871-a933-433a-be00-2ed5a4e13953"
   },
   "outputs": [
    {
     "name": "stdout",
     "output_type": "stream",
     "text": [
      "{0, 597, 582, 543}\n",
      "{0, 75, 72, 174}\n",
      "{0}\n"
     ]
    },
    {
     "name": "stderr",
     "output_type": "stream",
     "text": [
      "<ipython-input-8-ee1b28275330>:2: FutureWarning: DataFrame.fillna with 'method' is deprecated and will raise in a future version. Use obj.ffill() or obj.bfill() instead.\n",
      "  df = df.fillna(method='ffill')\n",
      "<ipython-input-8-ee1b28275330>:4: FutureWarning: DataFrame.fillna with 'method' is deprecated and will raise in a future version. Use obj.ffill() or obj.bfill() instead.\n",
      "  df = df.fillna(method='bfill')\n"
     ]
    }
   ],
   "source": [
    "print (set(df.isnull().sum()))\n",
    "df = df.fillna(method='ffill')\n",
    "print (set(df.isnull().sum()))\n",
    "df = df.fillna(method='bfill')\n",
    "print (set(df.isnull().sum()))\n",
    "df = df.fillna(df.mean)"
   ]
  },
  {
   "cell_type": "code",
   "execution_count": 9,
   "id": "cc891c65",
   "metadata": {
    "ExecuteTime": {
     "end_time": "2025-04-01T01:57:47.196893Z",
     "start_time": "2025-04-01T01:57:47.192786Z"
    },
    "colab": {
     "base_uri": "https://localhost:8080/"
    },
    "id": "cc891c65",
    "outputId": "28ae2d6b-d752-4f19-bc8d-a89f2e663484"
   },
   "outputs": [
    {
     "name": "stdout",
     "output_type": "stream",
     "text": [
      "metadata col # : ['Num.', 'subject_ID', 'Sex(M/F)', 'Age(year)', 'Height(cm)', 'Weight(kg)', 'Systolic Blood Pressure(mmHg)', 'Diastolic Blood Pressure(mmHg)', 'Heart Rate(b/m)', 'BMI(kg/m^2)', 'Hypertension', 'Diabetes', 'cerebral infarction', 'cerebrovascular disease']\n",
      "signal data col # : 2100\n"
     ]
    }
   ],
   "source": [
    "meta_end_idx = df.columns.get_loc('cerebrovascular disease') + 1\n",
    "meta_cols = df.columns[:meta_end_idx]\n",
    "signal_cols = df.columns[meta_end_idx:]\n",
    "\n",
    "print(f\"metadata col # : {list(meta_cols)}\")\n",
    "print(f\"signal data col # : {len(signal_cols)}\")"
   ]
  },
  {
   "cell_type": "code",
   "execution_count": 10,
   "id": "c05b42c8",
   "metadata": {
    "ExecuteTime": {
     "end_time": "2025-04-01T01:58:07.317033Z",
     "start_time": "2025-04-01T01:58:07.310072Z"
    },
    "colab": {
     "base_uri": "https://localhost:8080/"
    },
    "id": "c05b42c8",
    "outputId": "9bdd3a2d-67f4-4153-9fe3-49d7fb0867a7"
   },
   "outputs": [
    {
     "name": "stdout",
     "output_type": "stream",
     "text": [
      "signal data : (657, 2100)\n",
      "pressure data : (657, 2)\n"
     ]
    }
   ],
   "source": [
    "target_cols = ['Systolic Blood Pressure(mmHg)', 'Diastolic Blood Pressure(mmHg)']\n",
    "\n",
    "X_signals = df[signal_cols].values\n",
    "y_bp = df[target_cols].values\n",
    "\n",
    "print(f\"signal data : {X_signals.shape}\")\n",
    "print(f\"pressure data : {y_bp.shape}\")"
   ]
  },
  {
   "cell_type": "code",
   "execution_count": 11,
   "id": "62ada5cc",
   "metadata": {
    "ExecuteTime": {
     "end_time": "2025-04-01T01:58:53.547271Z",
     "start_time": "2025-04-01T01:58:53.048056Z"
    },
    "colab": {
     "base_uri": "https://localhost:8080/"
    },
    "id": "62ada5cc",
    "outputId": "6f8dfbf5-eaa2-46c2-b0b8-63231662b9e6"
   },
   "outputs": [
    {
     "name": "stderr",
     "output_type": "stream",
     "text": [
      "sliding window: 100%|██████████| 657/657 [00:00<00:00, 63834.18it/s]"
     ]
    },
    {
     "name": "stdout",
     "output_type": "stream",
     "text": [
      "(11169, 500)\n",
      "(11169, 2)\n"
     ]
    },
    {
     "name": "stderr",
     "output_type": "stream",
     "text": [
      "\n"
     ]
    }
   ],
   "source": [
    "def create_sliding_windows(signal, window_size=500, stride=100):\n",
    "    windows = []\n",
    "    for i in range(0, len(signal) - window_size + 1, stride):\n",
    "        windows.append(signal[i:i+window_size])\n",
    "    return windows\n",
    "\n",
    "window_size = 500  # 0.5 (1000Hz)\n",
    "stride = 100       # 0.1\n",
    "\n",
    "all_windows = []\n",
    "all_bp_values = []\n",
    "\n",
    "for i in tqdm(range(len(X_signals)), desc=\"sliding window\"):\n",
    "    signal = X_signals[i]\n",
    "    bp = y_bp[i]\n",
    "\n",
    "    windows = create_sliding_windows(signal, window_size, stride)\n",
    "\n",
    "    bp_values = np.tile(bp, (len(windows), 1))\n",
    "\n",
    "    all_windows.extend(windows)\n",
    "    all_bp_values.extend(bp_values)\n",
    "\n",
    "all_windows = np.array(all_windows)\n",
    "all_bp_values = np.array(all_bp_values)\n",
    "\n",
    "print (all_windows.shape)\n",
    "print (all_bp_values.shape)"
   ]
  },
  {
   "cell_type": "code",
   "execution_count": 12,
   "id": "b5938935",
   "metadata": {
    "ExecuteTime": {
     "end_time": "2025-04-01T01:59:08.904875Z",
     "start_time": "2025-04-01T01:59:08.877807Z"
    },
    "colab": {
     "base_uri": "https://localhost:8080/"
    },
    "id": "b5938935",
    "outputId": "dd681d5a-6e68-4df7-a9e9-260f2753ab1b"
   },
   "outputs": [
    {
     "name": "stdout",
     "output_type": "stream",
     "text": [
      "train=(7818, 500), val=(1675, 500), test=(1676, 500)\n"
     ]
    }
   ],
   "source": [
    "X_train, X_temp, y_train, y_temp = train_test_split(all_windows, all_bp_values, test_size=0.3, random_state=42)\n",
    "X_val, X_test, y_val, y_test = train_test_split(X_temp, y_temp, test_size=0.5, random_state=42)\n",
    "\n",
    "print(f\"train={X_train.shape}, val={X_val.shape}, test={X_test.shape}\")"
   ]
  },
  {
   "cell_type": "code",
   "execution_count": 13,
   "id": "516c0737",
   "metadata": {
    "ExecuteTime": {
     "end_time": "2025-04-01T01:59:15.982267Z",
     "start_time": "2025-04-01T01:59:15.860030Z"
    },
    "id": "516c0737"
   },
   "outputs": [],
   "source": [
    "scaler_X = StandardScaler()\n",
    "X_train = scaler_X.fit_transform(X_train.reshape(X_train.shape[0], -1)).reshape(X_train.shape)\n",
    "X_val = scaler_X.transform(X_val.reshape(X_val.shape[0], -1)).reshape(X_val.shape)\n",
    "X_test = scaler_X.transform(X_test.reshape(X_test.shape[0], -1)).reshape(X_test.shape)\n",
    "\n",
    "scaler_y = StandardScaler()\n",
    "y_train = scaler_y.fit_transform(y_train)\n",
    "y_val = scaler_y.transform(y_val)\n",
    "y_test = scaler_y.transform(y_test)"
   ]
  },
  {
   "cell_type": "code",
   "execution_count": 14,
   "id": "d6921cf9",
   "metadata": {
    "ExecuteTime": {
     "end_time": "2025-04-01T01:59:46.478570Z",
     "start_time": "2025-04-01T01:59:46.472004Z"
    },
    "colab": {
     "base_uri": "https://localhost:8080/"
    },
    "id": "d6921cf9",
    "outputId": "433648c4-333e-4532-950a-3264fb554b89"
   },
   "outputs": [
    {
     "name": "stdout",
     "output_type": "stream",
     "text": [
      "train=7818, val=1675, test=1676\n",
      "train=62, val=14, test=14\n"
     ]
    }
   ],
   "source": [
    "class BPDataset(Dataset):\n",
    "    def __init__(self, signals, bp_values):\n",
    "        self.signals = signals\n",
    "        self.bp_values = bp_values\n",
    "\n",
    "    def __len__(self):\n",
    "        return len(self.signals)\n",
    "\n",
    "    def __getitem__(self, idx):\n",
    "        signal = self.signals[idx]\n",
    "        bp = self.bp_values[idx]\n",
    "\n",
    "        x = torch.FloatTensor(signal).unsqueeze(-1)  # [window_size, 1]\n",
    "        y = torch.FloatTensor(bp)\n",
    "\n",
    "        return x, y\n",
    "\n",
    "train_dataset = BPDataset(X_train, y_train)\n",
    "val_dataset = BPDataset(X_val, y_val)\n",
    "test_dataset = BPDataset(X_test, y_test)\n",
    "\n",
    "batch_size = 128\n",
    "train_loader = DataLoader(train_dataset, batch_size=batch_size, shuffle=True)\n",
    "val_loader = DataLoader(val_dataset, batch_size=batch_size)\n",
    "test_loader = DataLoader(test_dataset, batch_size=batch_size)\n",
    "\n",
    "print(f\"train={len(train_dataset)}, val={len(val_dataset)}, test={len(test_dataset)}\") # <--- data point\n",
    "print(f\"train={len(train_loader)}, val={len(val_loader)}, test={len(test_loader)}\") # <-- batch"
   ]
  },
  {
   "cell_type": "code",
   "execution_count": 15,
   "id": "5d8eeb5a",
   "metadata": {
    "ExecuteTime": {
     "end_time": "2025-04-01T01:59:57.972795Z",
     "start_time": "2025-04-01T01:59:57.951852Z"
    },
    "id": "5d8eeb5a"
   },
   "outputs": [],
   "source": [
    "import torch\n",
    "import torch.nn as nn\n",
    "import math\n",
    "\n",
    "class DataEmbedding(nn.Module):\n",
    "    def __init__(self, c_in, d_model, dropout=0.1):\n",
    "        super(DataEmbedding, self).__init__()\n",
    "        self.value_embedding = nn.Linear(c_in, d_model)\n",
    "        self.layer_norm = nn.LayerNorm(d_model)\n",
    "        self.dropout = nn.Dropout(p=dropout)\n",
    "\n",
    "    def forward(self, x):\n",
    "        x = self.value_embedding(x)\n",
    "        x = self.layer_norm(x)\n",
    "        return self.dropout(x)\n",
    "\n",
    "class Mamba(nn.Module):\n",
    "    def __init__(self, d_model, d_state, d_conv, expand):\n",
    "        super(Mamba, self).__init__()\n",
    "        self.d_model = d_model\n",
    "        self.d_state = d_state\n",
    "        self.d_conv = d_conv\n",
    "        self.expand = expand\n",
    "        self.d_inner = d_model * expand\n",
    "\n",
    "        def init_weights(m):\n",
    "            if isinstance(m, nn.Linear):\n",
    "                nn.init.xavier_uniform_(m.weight)\n",
    "                if m.bias is not None:\n",
    "                    nn.init.zeros_(m.bias)\n",
    "            elif isinstance(m, nn.Conv1d):\n",
    "                nn.init.kaiming_normal_(m.weight, mode='fan_out', nonlinearity='relu')\n",
    "\n",
    "        self.in_proj = nn.Linear(d_model, self.d_inner)\n",
    "        self.layer_norm_in = nn.LayerNorm(self.d_inner)\n",
    "\n",
    "        self.conv1d = nn.Conv1d(\n",
    "            in_channels=self.d_inner,\n",
    "            out_channels=self.d_inner,\n",
    "            kernel_size=d_conv,\n",
    "            padding=d_conv-1,\n",
    "            groups=self.d_inner,\n",
    "        )\n",
    "\n",
    "        self.x_proj = nn.Linear(self.d_inner, self.d_inner)\n",
    "        self.dt_proj = nn.Linear(self.d_inner, self.d_inner)\n",
    "        self.gate_proj = nn.Linear(self.d_inner, self.d_inner)\n",
    "        self.out_proj = nn.Linear(self.d_inner, d_model)\n",
    "\n",
    "        self.A_log = nn.Parameter(torch.randn(1, d_state) * 0.1)\n",
    "        self.B = nn.Parameter(torch.randn(1, self.d_inner, d_state) * 0.01)\n",
    "        self.C = nn.Parameter(torch.randn(1, self.d_inner, d_state) * 0.01)\n",
    "\n",
    "        self.apply(init_weights)\n",
    "\n",
    "    def forward(self, x):\n",
    "        B, L, D = x.shape\n",
    "\n",
    "        x_in = self.in_proj(x)\n",
    "        x_in = self.layer_norm_in(x_in)\n",
    "\n",
    "        x_conv = self.conv1d(x_in.transpose(1, 2))[:, :, :L].transpose(1, 2)\n",
    "\n",
    "        x_proj = self.x_proj(x_conv)\n",
    "        dt = torch.clamp(self.dt_proj(x_conv).sigmoid(), min=1e-4, max=1-1e-4)\n",
    "\n",
    "        A = torch.diag_embed(torch.clamp(torch.exp(self.A_log), min=1e-4, max=10))\n",
    "        h = torch.zeros(B, self.d_inner, self.d_state, device=x.device)\n",
    "\n",
    "        outputs = []\n",
    "        for t in range(L):\n",
    "            u = x_proj[:, t, :]\n",
    "\n",
    "            h_update = torch.bmm(h, A.expand(B, -1, -1)) + \\\n",
    "                       torch.clamp(self.B.expand(B, -1, -1) * u.unsqueeze(-1),\n",
    "                                   min=-10, max=10)\n",
    "            h = torch.clamp(h_update, min=-10, max=10)\n",
    "\n",
    "            y = torch.sum(h * self.C.expand(B, -1, -1), dim=-1)\n",
    "            outputs.append(y)\n",
    "\n",
    "        y = torch.stack(outputs, dim=1)\n",
    "\n",
    "        gate = torch.clamp(self.gate_proj(x_conv).sigmoid(), min=1e-4, max=1-1e-4)\n",
    "        y = y * gate\n",
    "\n",
    "        return self.out_proj(y)\n",
    "\n",
    "class Model(nn.Module):\n",
    "    def __init__(self, seq_len, d_model=64, d_state=32, d_conv=3, expand=2, dropout=0.1):\n",
    "        super(Model, self).__init__()\n",
    "\n",
    "        self.embedding = DataEmbedding(1, d_model, dropout)\n",
    "\n",
    "        self.mamba = Mamba(\n",
    "            d_model=d_model,\n",
    "            d_state=d_state,\n",
    "            d_conv=d_conv,\n",
    "            expand=expand\n",
    "        )\n",
    "\n",
    "        self.layer_norm = nn.LayerNorm(d_model)\n",
    "\n",
    "        self.projection = nn.Sequential(\n",
    "            nn.Linear(d_model * 2, d_model),\n",
    "            nn.ReLU(),\n",
    "            nn.Dropout(dropout),\n",
    "            nn.Linear(d_model, 2)\n",
    "        )\n",
    "\n",
    "    def forward(self, x):\n",
    "        enc_out = self.embedding(x)\n",
    "\n",
    "        enc_out = self.mamba(enc_out)\n",
    "\n",
    "        enc_out = self.layer_norm(enc_out)\n",
    "\n",
    "        avg_pooled = torch.mean(enc_out, dim=1)\n",
    "        max_pooled, _ = torch.max(enc_out, dim=1)\n",
    "\n",
    "        pooled_features = torch.cat([avg_pooled, max_pooled], dim=-1)\n",
    "        bp_pred = self.projection(pooled_features)\n",
    "\n",
    "        return bp_pred"
   ]
  },
  {
   "cell_type": "code",
   "execution_count": 16,
   "id": "80446ca2",
   "metadata": {
    "ExecuteTime": {
     "end_time": "2025-04-01T02:00:16.402260Z",
     "start_time": "2025-04-01T02:00:16.395459Z"
    },
    "colab": {
     "base_uri": "https://localhost:8080/"
    },
    "id": "80446ca2",
    "outputId": "fb302f47-9821-4356-b4b9-7630f95c138d"
   },
   "outputs": [
    {
     "name": "stdout",
     "output_type": "stream",
     "text": [
      "device : cuda\n",
      "# of parameters: 83874\n"
     ]
    }
   ],
   "source": [
    "device = torch.device('cuda' if torch.cuda.is_available() else 'cpu')\n",
    "print(f\"device : {device}\")\n",
    "\n",
    "model = Model(seq_len=window_size).to(device)\n",
    "print (f\"# of parameters: {sum(p.numel() for p in model.parameters())}\")"
   ]
  },
  {
   "cell_type": "code",
   "execution_count": 17,
   "id": "2720fc74",
   "metadata": {
    "ExecuteTime": {
     "end_time": "2025-04-01T02:02:41.169382Z",
     "start_time": "2025-04-01T02:02:41.161553Z"
    },
    "id": "2720fc74"
   },
   "outputs": [],
   "source": [
    "criterion = nn.MSELoss()\n",
    "optimizer = torch.optim.Adam(model.parameters(), lr=0.001)\n",
    "scheduler = ReduceLROnPlateau(optimizer, mode='min', factor=0.5, patience=5, min_lr=1e-6)"
   ]
  },
  {
   "cell_type": "code",
   "execution_count": 18,
   "id": "a8ec8c19",
   "metadata": {
    "ExecuteTime": {
     "end_time": "2025-04-01T02:04:54.002341Z",
     "start_time": "2025-04-01T02:04:40.771365Z"
    },
    "colab": {
     "base_uri": "https://localhost:8080/"
    },
    "id": "a8ec8c19",
    "outputId": "b239f22b-984b-40d9-9aa6-c2b41886015c"
   },
   "outputs": [
    {
     "metadata": {
      "tags": null
     },
     "name": "stderr",
     "output_type": "stream",
     "text": [
      "Epoch 1/100 [Train]: 100%|██████████| 62/62 [00:46<00:00,  1.33it/s, loss=0.2389]\n",
      "Epoch 1/100 [Valid]: 100%|██████████| 14/14 [00:01<00:00, 12.65it/s, loss=0.8435]\n"
     ]
    },
    {
     "metadata": {
      "tags": null
     },
     "name": "stdout",
     "output_type": "stream",
     "text": [
      "Epoch 1/100, Train Loss: 1.0030, Val Loss: 0.9883\n",
      "Epoch 1: model saving (val_loss: 0.9883)\n"
     ]
    },
    {
     "metadata": {
      "tags": null
     },
     "name": "stderr",
     "output_type": "stream",
     "text": [
      "Epoch 2/100 [Train]: 100%|██████████| 62/62 [00:45<00:00,  1.35it/s, loss=1.1655]\n",
      "Epoch 2/100 [Valid]: 100%|██████████| 14/14 [00:01<00:00, 13.15it/s, loss=0.8352]\n"
     ]
    },
    {
     "metadata": {
      "tags": null
     },
     "name": "stdout",
     "output_type": "stream",
     "text": [
      "Epoch 2/100, Train Loss: 0.9813, Val Loss: 0.9586\n",
      "Epoch 2: model saving (val_loss: 0.9586)\n"
     ]
    },
    {
     "metadata": {
      "tags": null
     },
     "name": "stderr",
     "output_type": "stream",
     "text": [
      "Epoch 3/100 [Train]: 100%|██████████| 62/62 [00:45<00:00,  1.36it/s, loss=0.7007]\n",
      "Epoch 3/100 [Valid]: 100%|██████████| 14/14 [00:01<00:00, 13.25it/s, loss=0.8645]\n"
     ]
    },
    {
     "metadata": {
      "tags": null
     },
     "name": "stdout",
     "output_type": "stream",
     "text": [
      "Epoch 3/100, Train Loss: 0.9680, Val Loss: 0.9555\n",
      "Epoch 3: model saving (val_loss: 0.9555)\n"
     ]
    },
    {
     "metadata": {
      "tags": null
     },
     "name": "stderr",
     "output_type": "stream",
     "text": [
      "Epoch 4/100 [Train]: 100%|██████████| 62/62 [00:45<00:00,  1.36it/s, loss=1.2128]\n",
      "Epoch 4/100 [Valid]: 100%|██████████| 14/14 [00:01<00:00, 13.38it/s, loss=0.8479]\n"
     ]
    },
    {
     "metadata": {
      "tags": null
     },
     "name": "stdout",
     "output_type": "stream",
     "text": [
      "Epoch 4/100, Train Loss: 0.9547, Val Loss: 0.9364\n",
      "Epoch 4: model saving (val_loss: 0.9364)\n"
     ]
    },
    {
     "metadata": {
      "tags": null
     },
     "name": "stderr",
     "output_type": "stream",
     "text": [
      "Epoch 5/100 [Train]: 100%|██████████| 62/62 [00:45<00:00,  1.36it/s, loss=0.7792]\n",
      "Epoch 5/100 [Valid]: 100%|██████████| 14/14 [00:01<00:00, 13.14it/s, loss=0.8524]\n"
     ]
    },
    {
     "metadata": {
      "tags": null
     },
     "name": "stdout",
     "output_type": "stream",
     "text": [
      "Epoch 5/100, Train Loss: 0.9371, Val Loss: 0.9326\n",
      "Epoch 5: model saving (val_loss: 0.9326)\n"
     ]
    },
    {
     "metadata": {
      "tags": null
     },
     "name": "stderr",
     "output_type": "stream",
     "text": [
      "Epoch 6/100 [Train]: 100%|██████████| 62/62 [00:45<00:00,  1.36it/s, loss=1.2634]\n",
      "Epoch 6/100 [Valid]: 100%|██████████| 14/14 [00:01<00:00, 13.23it/s, loss=0.8526]\n"
     ]
    },
    {
     "metadata": {
      "tags": null
     },
     "name": "stdout",
     "output_type": "stream",
     "text": [
      "Epoch 6/100, Train Loss: 0.9337, Val Loss: 0.9250\n",
      "Epoch 6: model saving (val_loss: 0.9250)\n"
     ]
    },
    {
     "metadata": {
      "tags": null
     },
     "name": "stderr",
     "output_type": "stream",
     "text": [
      "Epoch 7/100 [Train]: 100%|██████████| 62/62 [00:45<00:00,  1.36it/s, loss=0.5629]\n",
      "Epoch 7/100 [Valid]: 100%|██████████| 14/14 [00:01<00:00, 13.34it/s, loss=0.8358]\n"
     ]
    },
    {
     "metadata": {
      "tags": null
     },
     "name": "stdout",
     "output_type": "stream",
     "text": [
      "Epoch 7/100, Train Loss: 0.9294, Val Loss: 0.9213\n",
      "Epoch 7: model saving (val_loss: 0.9213)\n"
     ]
    },
    {
     "metadata": {
      "tags": null
     },
     "name": "stderr",
     "output_type": "stream",
     "text": [
      "Epoch 8/100 [Train]: 100%|██████████| 62/62 [00:45<00:00,  1.36it/s, loss=0.4768]\n",
      "Epoch 8/100 [Valid]: 100%|██████████| 14/14 [00:01<00:00, 13.19it/s, loss=0.8238]\n"
     ]
    },
    {
     "metadata": {
      "tags": null
     },
     "name": "stdout",
     "output_type": "stream",
     "text": [
      "Epoch 8/100, Train Loss: 0.9205, Val Loss: 0.9178\n",
      "Epoch 8: model saving (val_loss: 0.9178)\n"
     ]
    },
    {
     "metadata": {
      "tags": null
     },
     "name": "stderr",
     "output_type": "stream",
     "text": [
      "Epoch 9/100 [Train]: 100%|██████████| 62/62 [00:45<00:00,  1.36it/s, loss=0.6813]\n",
      "Epoch 9/100 [Valid]: 100%|██████████| 14/14 [00:01<00:00, 13.24it/s, loss=0.8333]\n"
     ]
    },
    {
     "metadata": {
      "tags": null
     },
     "name": "stdout",
     "output_type": "stream",
     "text": [
      "Epoch 9/100, Train Loss: 0.9190, Val Loss: 0.9227\n"
     ]
    },
    {
     "metadata": {
      "tags": null
     },
     "name": "stderr",
     "output_type": "stream",
     "text": [
      "Epoch 10/100 [Train]: 100%|██████████| 62/62 [00:45<00:00,  1.36it/s, loss=1.0656]\n",
      "Epoch 10/100 [Valid]: 100%|██████████| 14/14 [00:01<00:00, 13.31it/s, loss=0.8345]\n"
     ]
    },
    {
     "metadata": {
      "tags": null
     },
     "name": "stdout",
     "output_type": "stream",
     "text": [
      "Epoch 10/100, Train Loss: 0.9217, Val Loss: 0.9226\n"
     ]
    },
    {
     "metadata": {
      "tags": null
     },
     "name": "stderr",
     "output_type": "stream",
     "text": [
      "Epoch 11/100 [Train]: 100%|██████████| 62/62 [00:45<00:00,  1.35it/s, loss=0.8414]\n",
      "Epoch 11/100 [Valid]: 100%|██████████| 14/14 [00:01<00:00, 13.22it/s, loss=0.8258]\n"
     ]
    },
    {
     "metadata": {
      "tags": null
     },
     "name": "stdout",
     "output_type": "stream",
     "text": [
      "Epoch 11/100, Train Loss: 0.9206, Val Loss: 0.9122\n",
      "Epoch 11: model saving (val_loss: 0.9122)\n"
     ]
    },
    {
     "metadata": {
      "tags": null
     },
     "name": "stderr",
     "output_type": "stream",
     "text": [
      "Epoch 12/100 [Train]: 100%|██████████| 62/62 [00:45<00:00,  1.36it/s, loss=0.7266]\n",
      "Epoch 12/100 [Valid]: 100%|██████████| 14/14 [00:01<00:00, 13.38it/s, loss=0.8122]\n"
     ]
    },
    {
     "metadata": {
      "tags": null
     },
     "name": "stdout",
     "output_type": "stream",
     "text": [
      "Epoch 12/100, Train Loss: 0.9147, Val Loss: 0.9149\n"
     ]
    },
    {
     "metadata": {
      "tags": null
     },
     "name": "stderr",
     "output_type": "stream",
     "text": [
      "Epoch 13/100 [Train]: 100%|██████████| 62/62 [00:45<00:00,  1.36it/s, loss=0.8863]\n",
      "Epoch 13/100 [Valid]: 100%|██████████| 14/14 [00:01<00:00, 13.42it/s, loss=0.8507]\n"
     ]
    },
    {
     "metadata": {
      "tags": null
     },
     "name": "stdout",
     "output_type": "stream",
     "text": [
      "Epoch 13/100, Train Loss: 0.9130, Val Loss: 0.9179\n"
     ]
    },
    {
     "metadata": {
      "tags": null
     },
     "name": "stderr",
     "output_type": "stream",
     "text": [
      "Epoch 14/100 [Train]: 100%|██████████| 62/62 [00:45<00:00,  1.36it/s, loss=1.7014]\n",
      "Epoch 14/100 [Valid]: 100%|██████████| 14/14 [00:01<00:00, 13.37it/s, loss=0.8544]\n"
     ]
    },
    {
     "metadata": {
      "tags": null
     },
     "name": "stdout",
     "output_type": "stream",
     "text": [
      "Epoch 14/100, Train Loss: 0.9058, Val Loss: 0.9115\n",
      "Epoch 14: model saving (val_loss: 0.9115)\n"
     ]
    },
    {
     "metadata": {
      "tags": null
     },
     "name": "stderr",
     "output_type": "stream",
     "text": [
      "Epoch 15/100 [Train]: 100%|██████████| 62/62 [00:45<00:00,  1.36it/s, loss=1.1960]\n",
      "Epoch 15/100 [Valid]: 100%|██████████| 14/14 [00:01<00:00, 13.14it/s, loss=0.8080]\n"
     ]
    },
    {
     "metadata": {
      "tags": null
     },
     "name": "stdout",
     "output_type": "stream",
     "text": [
      "Epoch 15/100, Train Loss: 0.9087, Val Loss: 0.9079\n",
      "Epoch 15: model saving (val_loss: 0.9079)\n"
     ]
    },
    {
     "metadata": {
      "tags": null
     },
     "name": "stderr",
     "output_type": "stream",
     "text": [
      "Epoch 16/100 [Train]: 100%|██████████| 62/62 [00:45<00:00,  1.36it/s, loss=0.9501]\n",
      "Epoch 16/100 [Valid]: 100%|██████████| 14/14 [00:01<00:00, 13.09it/s, loss=0.8324]\n"
     ]
    },
    {
     "metadata": {
      "tags": null
     },
     "name": "stdout",
     "output_type": "stream",
     "text": [
      "Epoch 16/100, Train Loss: 0.9093, Val Loss: 0.9295\n"
     ]
    },
    {
     "metadata": {
      "tags": null
     },
     "name": "stderr",
     "output_type": "stream",
     "text": [
      "Epoch 17/100 [Train]: 100%|██████████| 62/62 [00:45<00:00,  1.35it/s, loss=0.8984]\n",
      "Epoch 17/100 [Valid]: 100%|██████████| 14/14 [00:01<00:00, 13.03it/s, loss=0.8317]\n"
     ]
    },
    {
     "metadata": {
      "tags": null
     },
     "name": "stdout",
     "output_type": "stream",
     "text": [
      "Epoch 17/100, Train Loss: 0.9216, Val Loss: 0.9115\n"
     ]
    },
    {
     "metadata": {
      "tags": null
     },
     "name": "stderr",
     "output_type": "stream",
     "text": [
      "Epoch 18/100 [Train]: 100%|██████████| 62/62 [00:45<00:00,  1.36it/s, loss=2.0429]\n",
      "Epoch 18/100 [Valid]: 100%|██████████| 14/14 [00:01<00:00, 13.24it/s, loss=0.8351]\n"
     ]
    },
    {
     "metadata": {
      "tags": null
     },
     "name": "stdout",
     "output_type": "stream",
     "text": [
      "Epoch 18/100, Train Loss: 0.9137, Val Loss: 0.9110\n"
     ]
    },
    {
     "metadata": {
      "tags": null
     },
     "name": "stderr",
     "output_type": "stream",
     "text": [
      "Epoch 19/100 [Train]: 100%|██████████| 62/62 [00:45<00:00,  1.35it/s, loss=0.6303]\n",
      "Epoch 19/100 [Valid]: 100%|██████████| 14/14 [00:01<00:00, 13.12it/s, loss=0.8175]\n"
     ]
    },
    {
     "metadata": {
      "tags": null
     },
     "name": "stdout",
     "output_type": "stream",
     "text": [
      "Epoch 19/100, Train Loss: 0.9138, Val Loss: 0.9122\n"
     ]
    },
    {
     "metadata": {
      "tags": null
     },
     "name": "stderr",
     "output_type": "stream",
     "text": [
      "Epoch 20/100 [Train]: 100%|██████████| 62/62 [00:45<00:00,  1.36it/s, loss=0.3008]\n",
      "Epoch 20/100 [Valid]: 100%|██████████| 14/14 [00:01<00:00, 13.23it/s, loss=0.8328]\n"
     ]
    },
    {
     "metadata": {
      "tags": null
     },
     "name": "stdout",
     "output_type": "stream",
     "text": [
      "Epoch 20/100, Train Loss: 0.9026, Val Loss: 0.9090\n"
     ]
    },
    {
     "metadata": {
      "tags": null
     },
     "name": "stderr",
     "output_type": "stream",
     "text": [
      "Epoch 21/100 [Train]: 100%|██████████| 62/62 [00:45<00:00,  1.35it/s, loss=1.6640]\n",
      "Epoch 21/100 [Valid]: 100%|██████████| 14/14 [00:01<00:00, 13.25it/s, loss=0.8014]\n"
     ]
    },
    {
     "metadata": {
      "tags": null
     },
     "name": "stdout",
     "output_type": "stream",
     "text": [
      "Epoch 21/100, Train Loss: 0.9034, Val Loss: 0.9104\n"
     ]
    },
    {
     "metadata": {
      "tags": null
     },
     "name": "stderr",
     "output_type": "stream",
     "text": [
      "Epoch 22/100 [Train]: 100%|██████████| 62/62 [00:45<00:00,  1.36it/s, loss=0.7329]\n",
      "Epoch 22/100 [Valid]: 100%|██████████| 14/14 [00:01<00:00, 13.48it/s, loss=0.8189]\n"
     ]
    },
    {
     "metadata": {
      "tags": null
     },
     "name": "stdout",
     "output_type": "stream",
     "text": [
      "Epoch 22/100, Train Loss: 0.8977, Val Loss: 0.9040\n",
      "Epoch 22: model saving (val_loss: 0.9040)\n"
     ]
    },
    {
     "metadata": {
      "tags": null
     },
     "name": "stderr",
     "output_type": "stream",
     "text": [
      "Epoch 23/100 [Train]: 100%|██████████| 62/62 [00:45<00:00,  1.35it/s, loss=0.7124]\n",
      "Epoch 23/100 [Valid]: 100%|██████████| 14/14 [00:01<00:00, 13.20it/s, loss=0.8136]\n"
     ]
    },
    {
     "metadata": {
      "tags": null
     },
     "name": "stdout",
     "output_type": "stream",
     "text": [
      "Epoch 23/100, Train Loss: 0.8967, Val Loss: 0.9038\n",
      "Epoch 23: model saving (val_loss: 0.9038)\n"
     ]
    },
    {
     "metadata": {
      "tags": null
     },
     "name": "stderr",
     "output_type": "stream",
     "text": [
      "Epoch 24/100 [Train]: 100%|██████████| 62/62 [00:45<00:00,  1.35it/s, loss=0.4010]\n",
      "Epoch 24/100 [Valid]: 100%|██████████| 14/14 [00:01<00:00, 12.96it/s, loss=0.8135]\n"
     ]
    },
    {
     "metadata": {
      "tags": null
     },
     "name": "stdout",
     "output_type": "stream",
     "text": [
      "Epoch 24/100, Train Loss: 0.8977, Val Loss: 0.9021\n",
      "Epoch 24: model saving (val_loss: 0.9021)\n"
     ]
    },
    {
     "metadata": {
      "tags": null
     },
     "name": "stderr",
     "output_type": "stream",
     "text": [
      "Epoch 25/100 [Train]: 100%|██████████| 62/62 [00:45<00:00,  1.36it/s, loss=1.1626]\n",
      "Epoch 25/100 [Valid]: 100%|██████████| 14/14 [00:01<00:00, 12.71it/s, loss=0.8086]\n"
     ]
    },
    {
     "metadata": {
      "tags": null
     },
     "name": "stdout",
     "output_type": "stream",
     "text": [
      "Epoch 25/100, Train Loss: 0.8980, Val Loss: 0.9024\n"
     ]
    },
    {
     "metadata": {
      "tags": null
     },
     "name": "stderr",
     "output_type": "stream",
     "text": [
      "Epoch 26/100 [Train]: 100%|██████████| 62/62 [00:45<00:00,  1.35it/s, loss=0.7734]\n",
      "Epoch 26/100 [Valid]: 100%|██████████| 14/14 [00:01<00:00, 13.24it/s, loss=0.8212]\n"
     ]
    },
    {
     "metadata": {
      "tags": null
     },
     "name": "stdout",
     "output_type": "stream",
     "text": [
      "Epoch 26/100, Train Loss: 0.8993, Val Loss: 0.9032\n"
     ]
    },
    {
     "metadata": {
      "tags": null
     },
     "name": "stderr",
     "output_type": "stream",
     "text": [
      "Epoch 27/100 [Train]: 100%|██████████| 62/62 [00:45<00:00,  1.36it/s, loss=1.2742]\n",
      "Epoch 27/100 [Valid]: 100%|██████████| 14/14 [00:01<00:00, 12.76it/s, loss=0.8460]\n"
     ]
    },
    {
     "metadata": {
      "tags": null
     },
     "name": "stdout",
     "output_type": "stream",
     "text": [
      "Epoch 27/100, Train Loss: 0.8938, Val Loss: 0.9029\n"
     ]
    },
    {
     "metadata": {
      "tags": null
     },
     "name": "stderr",
     "output_type": "stream",
     "text": [
      "Epoch 28/100 [Train]: 100%|██████████| 62/62 [00:45<00:00,  1.35it/s, loss=0.7138]\n",
      "Epoch 28/100 [Valid]: 100%|██████████| 14/14 [00:01<00:00, 13.33it/s, loss=0.8436]\n"
     ]
    },
    {
     "metadata": {
      "tags": null
     },
     "name": "stdout",
     "output_type": "stream",
     "text": [
      "Epoch 28/100, Train Loss: 0.8931, Val Loss: 0.9017\n",
      "Epoch 28: model saving (val_loss: 0.9017)\n"
     ]
    },
    {
     "metadata": {
      "tags": null
     },
     "name": "stderr",
     "output_type": "stream",
     "text": [
      "Epoch 29/100 [Train]: 100%|██████████| 62/62 [00:45<00:00,  1.35it/s, loss=0.6774]\n",
      "Epoch 29/100 [Valid]: 100%|██████████| 14/14 [00:01<00:00, 13.25it/s, loss=0.8331]\n"
     ]
    },
    {
     "metadata": {
      "tags": null
     },
     "name": "stdout",
     "output_type": "stream",
     "text": [
      "Epoch 29/100, Train Loss: 0.8919, Val Loss: 0.9022\n"
     ]
    },
    {
     "metadata": {
      "tags": null
     },
     "name": "stderr",
     "output_type": "stream",
     "text": [
      "Epoch 30/100 [Train]: 100%|██████████| 62/62 [00:45<00:00,  1.35it/s, loss=0.3620]\n",
      "Epoch 30/100 [Valid]: 100%|██████████| 14/14 [00:01<00:00, 13.06it/s, loss=0.8409]\n"
     ]
    },
    {
     "metadata": {
      "tags": null
     },
     "name": "stdout",
     "output_type": "stream",
     "text": [
      "Epoch 30/100, Train Loss: 0.8944, Val Loss: 0.9005\n",
      "Epoch 30: model saving (val_loss: 0.9005)\n"
     ]
    },
    {
     "metadata": {
      "tags": null
     },
     "name": "stderr",
     "output_type": "stream",
     "text": [
      "Epoch 31/100 [Train]: 100%|██████████| 62/62 [00:45<00:00,  1.35it/s, loss=1.3953]\n",
      "Epoch 31/100 [Valid]: 100%|██████████| 14/14 [00:01<00:00, 11.97it/s, loss=0.8086]\n"
     ]
    },
    {
     "metadata": {
      "tags": null
     },
     "name": "stdout",
     "output_type": "stream",
     "text": [
      "Epoch 31/100, Train Loss: 0.8889, Val Loss: 0.9009\n"
     ]
    },
    {
     "metadata": {
      "tags": null
     },
     "name": "stderr",
     "output_type": "stream",
     "text": [
      "Epoch 32/100 [Train]: 100%|██████████| 62/62 [00:45<00:00,  1.35it/s, loss=0.4872]\n",
      "Epoch 32/100 [Valid]: 100%|██████████| 14/14 [00:01<00:00, 12.45it/s, loss=0.7702]\n"
     ]
    },
    {
     "metadata": {
      "tags": null
     },
     "name": "stdout",
     "output_type": "stream",
     "text": [
      "Epoch 32/100, Train Loss: 0.8903, Val Loss: 0.8979\n",
      "Epoch 32: model saving (val_loss: 0.8979)\n"
     ]
    },
    {
     "metadata": {
      "tags": null
     },
     "name": "stderr",
     "output_type": "stream",
     "text": [
      "Epoch 33/100 [Train]: 100%|██████████| 62/62 [00:45<00:00,  1.36it/s, loss=0.3269]\n",
      "Epoch 33/100 [Valid]: 100%|██████████| 14/14 [00:01<00:00, 11.13it/s, loss=0.8282]\n"
     ]
    },
    {
     "metadata": {
      "tags": null
     },
     "name": "stdout",
     "output_type": "stream",
     "text": [
      "Epoch 33/100, Train Loss: 0.8915, Val Loss: 0.9017\n"
     ]
    },
    {
     "metadata": {
      "tags": null
     },
     "name": "stderr",
     "output_type": "stream",
     "text": [
      "Epoch 34/100 [Train]: 100%|██████████| 62/62 [00:45<00:00,  1.35it/s, loss=1.6648]\n",
      "Epoch 34/100 [Valid]: 100%|██████████| 14/14 [00:01<00:00, 10.95it/s, loss=0.8052]\n"
     ]
    },
    {
     "metadata": {
      "tags": null
     },
     "name": "stdout",
     "output_type": "stream",
     "text": [
      "Epoch 34/100, Train Loss: 0.8872, Val Loss: 0.9018\n"
     ]
    },
    {
     "metadata": {
      "tags": null
     },
     "name": "stderr",
     "output_type": "stream",
     "text": [
      "Epoch 35/100 [Train]: 100%|██████████| 62/62 [00:45<00:00,  1.36it/s, loss=0.7744]\n",
      "Epoch 35/100 [Valid]: 100%|██████████| 14/14 [00:01<00:00, 10.55it/s, loss=0.8153]\n"
     ]
    },
    {
     "metadata": {
      "tags": null
     },
     "name": "stdout",
     "output_type": "stream",
     "text": [
      "Epoch 35/100, Train Loss: 0.8876, Val Loss: 0.8956\n",
      "Epoch 35: model saving (val_loss: 0.8956)\n"
     ]
    },
    {
     "metadata": {
      "tags": null
     },
     "name": "stderr",
     "output_type": "stream",
     "text": [
      "Epoch 36/100 [Train]: 100%|██████████| 62/62 [00:45<00:00,  1.35it/s, loss=0.2908]\n",
      "Epoch 36/100 [Valid]: 100%|██████████| 14/14 [00:01<00:00, 11.07it/s, loss=0.7953]\n"
     ]
    },
    {
     "metadata": {
      "tags": null
     },
     "name": "stdout",
     "output_type": "stream",
     "text": [
      "Epoch 36/100, Train Loss: 0.8841, Val Loss: 0.8941\n",
      "Epoch 36: model saving (val_loss: 0.8941)\n"
     ]
    },
    {
     "metadata": {
      "tags": null
     },
     "name": "stderr",
     "output_type": "stream",
     "text": [
      "Epoch 37/100 [Train]: 100%|██████████| 62/62 [00:45<00:00,  1.36it/s, loss=1.1812]\n",
      "Epoch 37/100 [Valid]: 100%|██████████| 14/14 [00:01<00:00, 10.83it/s, loss=0.7919]\n"
     ]
    },
    {
     "metadata": {
      "tags": null
     },
     "name": "stdout",
     "output_type": "stream",
     "text": [
      "Epoch 37/100, Train Loss: 0.8833, Val Loss: 0.8957\n"
     ]
    },
    {
     "metadata": {
      "tags": null
     },
     "name": "stderr",
     "output_type": "stream",
     "text": [
      "Epoch 38/100 [Train]: 100%|██████████| 62/62 [00:45<00:00,  1.35it/s, loss=0.7021]\n",
      "Epoch 38/100 [Valid]: 100%|██████████| 14/14 [00:01<00:00, 11.09it/s, loss=0.8662]\n"
     ]
    },
    {
     "metadata": {
      "tags": null
     },
     "name": "stdout",
     "output_type": "stream",
     "text": [
      "Epoch 38/100, Train Loss: 0.8877, Val Loss: 0.8995\n"
     ]
    },
    {
     "metadata": {
      "tags": null
     },
     "name": "stderr",
     "output_type": "stream",
     "text": [
      "Epoch 39/100 [Train]: 100%|██████████| 62/62 [00:45<00:00,  1.36it/s, loss=1.0513]\n",
      "Epoch 39/100 [Valid]: 100%|██████████| 14/14 [00:01<00:00, 10.83it/s, loss=0.9017]\n"
     ]
    },
    {
     "metadata": {
      "tags": null
     },
     "name": "stdout",
     "output_type": "stream",
     "text": [
      "Epoch 39/100, Train Loss: 0.8908, Val Loss: 0.9124\n"
     ]
    },
    {
     "metadata": {
      "tags": null
     },
     "name": "stderr",
     "output_type": "stream",
     "text": [
      "Epoch 40/100 [Train]: 100%|██████████| 62/62 [00:45<00:00,  1.36it/s, loss=0.3890]\n",
      "Epoch 40/100 [Valid]: 100%|██████████| 14/14 [00:01<00:00, 10.68it/s, loss=0.8691]\n"
     ]
    },
    {
     "metadata": {
      "tags": null
     },
     "name": "stdout",
     "output_type": "stream",
     "text": [
      "Epoch 40/100, Train Loss: 0.8909, Val Loss: 0.8996\n"
     ]
    },
    {
     "metadata": {
      "tags": null
     },
     "name": "stderr",
     "output_type": "stream",
     "text": [
      "Epoch 41/100 [Train]: 100%|██████████| 62/62 [00:45<00:00,  1.36it/s, loss=1.0003]\n",
      "Epoch 41/100 [Valid]: 100%|██████████| 14/14 [00:01<00:00, 10.88it/s, loss=0.8470]\n"
     ]
    },
    {
     "metadata": {
      "tags": null
     },
     "name": "stdout",
     "output_type": "stream",
     "text": [
      "Epoch 41/100, Train Loss: 0.8894, Val Loss: 0.8938\n",
      "Epoch 41: model saving (val_loss: 0.8938)\n"
     ]
    },
    {
     "metadata": {
      "tags": null
     },
     "name": "stderr",
     "output_type": "stream",
     "text": [
      "Epoch 42/100 [Train]: 100%|██████████| 62/62 [00:45<00:00,  1.36it/s, loss=0.5039]\n",
      "Epoch 42/100 [Valid]: 100%|██████████| 14/14 [00:01<00:00, 10.56it/s, loss=0.7945]\n"
     ]
    },
    {
     "metadata": {
      "tags": null
     },
     "name": "stdout",
     "output_type": "stream",
     "text": [
      "Epoch 42/100, Train Loss: 0.8828, Val Loss: 0.8901\n",
      "Epoch 42: model saving (val_loss: 0.8901)\n"
     ]
    },
    {
     "metadata": {
      "tags": null
     },
     "name": "stderr",
     "output_type": "stream",
     "text": [
      "Epoch 43/100 [Train]: 100%|██████████| 62/62 [00:45<00:00,  1.36it/s, loss=1.2822]\n",
      "Epoch 43/100 [Valid]: 100%|██████████| 14/14 [00:01<00:00, 10.51it/s, loss=0.8209]\n"
     ]
    },
    {
     "metadata": {
      "tags": null
     },
     "name": "stdout",
     "output_type": "stream",
     "text": [
      "Epoch 43/100, Train Loss: 0.8791, Val Loss: 0.8890\n",
      "Epoch 43: model saving (val_loss: 0.8890)\n"
     ]
    },
    {
     "metadata": {
      "tags": null
     },
     "name": "stderr",
     "output_type": "stream",
     "text": [
      "Epoch 44/100 [Train]: 100%|██████████| 62/62 [00:45<00:00,  1.36it/s, loss=0.8396]\n",
      "Epoch 44/100 [Valid]: 100%|██████████| 14/14 [00:01<00:00, 10.39it/s, loss=0.8097]\n"
     ]
    },
    {
     "metadata": {
      "tags": null
     },
     "name": "stdout",
     "output_type": "stream",
     "text": [
      "Epoch 44/100, Train Loss: 0.8771, Val Loss: 0.8860\n",
      "Epoch 44: model saving (val_loss: 0.8860)\n"
     ]
    },
    {
     "metadata": {
      "tags": null
     },
     "name": "stderr",
     "output_type": "stream",
     "text": [
      "Epoch 45/100 [Train]: 100%|██████████| 62/62 [00:45<00:00,  1.35it/s, loss=1.1284]\n",
      "Epoch 45/100 [Valid]: 100%|██████████| 14/14 [00:01<00:00, 10.74it/s, loss=0.8216]\n"
     ]
    },
    {
     "metadata": {
      "tags": null
     },
     "name": "stdout",
     "output_type": "stream",
     "text": [
      "Epoch 45/100, Train Loss: 0.8765, Val Loss: 0.8830\n",
      "Epoch 45: model saving (val_loss: 0.8830)\n"
     ]
    },
    {
     "metadata": {
      "tags": null
     },
     "name": "stderr",
     "output_type": "stream",
     "text": [
      "Epoch 46/100 [Train]: 100%|██████████| 62/62 [00:45<00:00,  1.36it/s, loss=0.5325]\n",
      "Epoch 46/100 [Valid]: 100%|██████████| 14/14 [00:01<00:00, 10.64it/s, loss=0.7929]\n"
     ]
    },
    {
     "metadata": {
      "tags": null
     },
     "name": "stdout",
     "output_type": "stream",
     "text": [
      "Epoch 46/100, Train Loss: 0.8725, Val Loss: 0.8860\n"
     ]
    },
    {
     "metadata": {
      "tags": null
     },
     "name": "stderr",
     "output_type": "stream",
     "text": [
      "Epoch 47/100 [Train]: 100%|██████████| 62/62 [00:45<00:00,  1.35it/s, loss=0.8849]\n",
      "Epoch 47/100 [Valid]: 100%|██████████| 14/14 [00:01<00:00, 10.60it/s, loss=0.8884]\n"
     ]
    },
    {
     "metadata": {
      "tags": null
     },
     "name": "stdout",
     "output_type": "stream",
     "text": [
      "Epoch 47/100, Train Loss: 0.8705, Val Loss: 0.8974\n"
     ]
    },
    {
     "metadata": {
      "tags": null
     },
     "name": "stderr",
     "output_type": "stream",
     "text": [
      "Epoch 48/100 [Train]: 100%|██████████| 62/62 [00:45<00:00,  1.36it/s, loss=0.5541]\n",
      "Epoch 48/100 [Valid]: 100%|██████████| 14/14 [00:01<00:00, 10.79it/s, loss=0.7721]\n"
     ]
    },
    {
     "metadata": {
      "tags": null
     },
     "name": "stdout",
     "output_type": "stream",
     "text": [
      "Epoch 48/100, Train Loss: 0.8756, Val Loss: 0.8826\n",
      "Epoch 48: model saving (val_loss: 0.8826)\n"
     ]
    },
    {
     "metadata": {
      "tags": null
     },
     "name": "stderr",
     "output_type": "stream",
     "text": [
      "Epoch 49/100 [Train]: 100%|██████████| 62/62 [00:45<00:00,  1.35it/s, loss=1.3648]\n",
      "Epoch 49/100 [Valid]: 100%|██████████| 14/14 [00:01<00:00, 10.64it/s, loss=0.8272]\n"
     ]
    },
    {
     "metadata": {
      "tags": null
     },
     "name": "stdout",
     "output_type": "stream",
     "text": [
      "Epoch 49/100, Train Loss: 0.8707, Val Loss: 0.8928\n"
     ]
    },
    {
     "metadata": {
      "tags": null
     },
     "name": "stderr",
     "output_type": "stream",
     "text": [
      "Epoch 50/100 [Train]: 100%|██████████| 62/62 [00:45<00:00,  1.36it/s, loss=0.8649]\n",
      "Epoch 50/100 [Valid]: 100%|██████████| 14/14 [00:01<00:00, 10.39it/s, loss=0.8469]\n"
     ]
    },
    {
     "metadata": {
      "tags": null
     },
     "name": "stdout",
     "output_type": "stream",
     "text": [
      "Epoch 50/100, Train Loss: 0.8741, Val Loss: 0.8854\n"
     ]
    },
    {
     "metadata": {
      "tags": null
     },
     "name": "stderr",
     "output_type": "stream",
     "text": [
      "Epoch 51/100 [Train]: 100%|██████████| 62/62 [00:45<00:00,  1.36it/s, loss=0.9826]\n",
      "Epoch 51/100 [Valid]: 100%|██████████| 14/14 [00:01<00:00, 10.67it/s, loss=0.8222]\n"
     ]
    },
    {
     "metadata": {
      "tags": null
     },
     "name": "stdout",
     "output_type": "stream",
     "text": [
      "Epoch 51/100, Train Loss: 0.8670, Val Loss: 0.8829\n"
     ]
    },
    {
     "metadata": {
      "tags": null
     },
     "name": "stderr",
     "output_type": "stream",
     "text": [
      "Epoch 52/100 [Train]: 100%|██████████| 62/62 [00:45<00:00,  1.36it/s, loss=0.3989]\n",
      "Epoch 52/100 [Valid]: 100%|██████████| 14/14 [00:01<00:00, 10.73it/s, loss=0.7813]\n"
     ]
    },
    {
     "metadata": {
      "tags": null
     },
     "name": "stdout",
     "output_type": "stream",
     "text": [
      "Epoch 52/100, Train Loss: 0.8670, Val Loss: 0.8743\n",
      "Epoch 52: model saving (val_loss: 0.8743)\n"
     ]
    },
    {
     "metadata": {
      "tags": null
     },
     "name": "stderr",
     "output_type": "stream",
     "text": [
      "Epoch 53/100 [Train]: 100%|██████████| 62/62 [00:45<00:00,  1.36it/s, loss=1.1074]\n",
      "Epoch 53/100 [Valid]: 100%|██████████| 14/14 [00:01<00:00, 10.69it/s, loss=0.8256]\n"
     ]
    },
    {
     "metadata": {
      "tags": null
     },
     "name": "stdout",
     "output_type": "stream",
     "text": [
      "Epoch 53/100, Train Loss: 0.8659, Val Loss: 0.8964\n"
     ]
    },
    {
     "metadata": {
      "tags": null
     },
     "name": "stderr",
     "output_type": "stream",
     "text": [
      "Epoch 54/100 [Train]: 100%|██████████| 62/62 [00:45<00:00,  1.36it/s, loss=1.0127]\n",
      "Epoch 54/100 [Valid]: 100%|██████████| 14/14 [00:01<00:00, 10.62it/s, loss=0.8424]\n"
     ]
    },
    {
     "metadata": {
      "tags": null
     },
     "name": "stdout",
     "output_type": "stream",
     "text": [
      "Epoch 54/100, Train Loss: 0.8609, Val Loss: 0.8799\n"
     ]
    },
    {
     "metadata": {
      "tags": null
     },
     "name": "stderr",
     "output_type": "stream",
     "text": [
      "Epoch 55/100 [Train]: 100%|██████████| 62/62 [00:45<00:00,  1.36it/s, loss=0.5036]\n",
      "Epoch 55/100 [Valid]: 100%|██████████| 14/14 [00:01<00:00, 10.17it/s, loss=0.7869]\n"
     ]
    },
    {
     "metadata": {
      "tags": null
     },
     "name": "stdout",
     "output_type": "stream",
     "text": [
      "Epoch 55/100, Train Loss: 0.8618, Val Loss: 0.8749\n"
     ]
    },
    {
     "metadata": {
      "tags": null
     },
     "name": "stderr",
     "output_type": "stream",
     "text": [
      "Epoch 56/100 [Train]: 100%|██████████| 62/62 [00:45<00:00,  1.35it/s, loss=0.6696]\n",
      "Epoch 56/100 [Valid]: 100%|██████████| 14/14 [00:01<00:00, 10.73it/s, loss=0.8154]\n"
     ]
    },
    {
     "metadata": {
      "tags": null
     },
     "name": "stdout",
     "output_type": "stream",
     "text": [
      "Epoch 56/100, Train Loss: 0.8568, Val Loss: 0.8792\n"
     ]
    },
    {
     "metadata": {
      "tags": null
     },
     "name": "stderr",
     "output_type": "stream",
     "text": [
      "Epoch 57/100 [Train]: 100%|██████████| 62/62 [00:45<00:00,  1.36it/s, loss=0.6348]\n",
      "Epoch 57/100 [Valid]: 100%|██████████| 14/14 [00:01<00:00, 10.65it/s, loss=0.8137]\n"
     ]
    },
    {
     "metadata": {
      "tags": null
     },
     "name": "stdout",
     "output_type": "stream",
     "text": [
      "Epoch 57/100, Train Loss: 0.8598, Val Loss: 0.8829\n"
     ]
    },
    {
     "metadata": {
      "tags": null
     },
     "name": "stderr",
     "output_type": "stream",
     "text": [
      "Epoch 58/100 [Train]: 100%|██████████| 62/62 [00:45<00:00,  1.36it/s, loss=1.5446]\n",
      "Epoch 58/100 [Valid]: 100%|██████████| 14/14 [00:01<00:00, 10.74it/s, loss=0.7684]\n"
     ]
    },
    {
     "metadata": {
      "tags": null
     },
     "name": "stdout",
     "output_type": "stream",
     "text": [
      "Epoch 58/100, Train Loss: 0.8559, Val Loss: 0.8676\n",
      "Epoch 58: model saving (val_loss: 0.8676)\n"
     ]
    },
    {
     "metadata": {
      "tags": null
     },
     "name": "stderr",
     "output_type": "stream",
     "text": [
      "Epoch 59/100 [Train]: 100%|██████████| 62/62 [00:45<00:00,  1.36it/s, loss=0.8264]\n",
      "Epoch 59/100 [Valid]: 100%|██████████| 14/14 [00:01<00:00, 10.55it/s, loss=0.8581]\n"
     ]
    },
    {
     "metadata": {
      "tags": null
     },
     "name": "stdout",
     "output_type": "stream",
     "text": [
      "Epoch 59/100, Train Loss: 0.8569, Val Loss: 0.8767\n"
     ]
    },
    {
     "metadata": {
      "tags": null
     },
     "name": "stderr",
     "output_type": "stream",
     "text": [
      "Epoch 60/100 [Train]: 100%|██████████| 62/62 [00:45<00:00,  1.36it/s, loss=0.5252]\n",
      "Epoch 60/100 [Valid]: 100%|██████████| 14/14 [00:01<00:00, 10.81it/s, loss=0.8855]\n"
     ]
    },
    {
     "metadata": {
      "tags": null
     },
     "name": "stdout",
     "output_type": "stream",
     "text": [
      "Epoch 60/100, Train Loss: 0.8582, Val Loss: 0.8771\n"
     ]
    },
    {
     "metadata": {
      "tags": null
     },
     "name": "stderr",
     "output_type": "stream",
     "text": [
      "Epoch 61/100 [Train]: 100%|██████████| 62/62 [00:45<00:00,  1.36it/s, loss=0.2961]\n",
      "Epoch 61/100 [Valid]: 100%|██████████| 14/14 [00:01<00:00, 10.53it/s, loss=0.8559]\n"
     ]
    },
    {
     "metadata": {
      "tags": null
     },
     "name": "stdout",
     "output_type": "stream",
     "text": [
      "Epoch 61/100, Train Loss: 0.8501, Val Loss: 0.8734\n"
     ]
    },
    {
     "metadata": {
      "tags": null
     },
     "name": "stderr",
     "output_type": "stream",
     "text": [
      "Epoch 62/100 [Train]: 100%|██████████| 62/62 [00:45<00:00,  1.36it/s, loss=1.0417]\n",
      "Epoch 62/100 [Valid]: 100%|██████████| 14/14 [00:01<00:00, 10.70it/s, loss=0.8357]\n"
     ]
    },
    {
     "metadata": {
      "tags": null
     },
     "name": "stdout",
     "output_type": "stream",
     "text": [
      "Epoch 62/100, Train Loss: 0.8504, Val Loss: 0.8741\n"
     ]
    },
    {
     "metadata": {
      "tags": null
     },
     "name": "stderr",
     "output_type": "stream",
     "text": [
      "Epoch 63/100 [Train]: 100%|██████████| 62/62 [00:45<00:00,  1.36it/s, loss=0.5670]\n",
      "Epoch 63/100 [Valid]: 100%|██████████| 14/14 [00:01<00:00, 10.61it/s, loss=0.7697]\n"
     ]
    },
    {
     "metadata": {
      "tags": null
     },
     "name": "stdout",
     "output_type": "stream",
     "text": [
      "Epoch 63/100, Train Loss: 0.8517, Val Loss: 0.8701\n"
     ]
    },
    {
     "metadata": {
      "tags": null
     },
     "name": "stderr",
     "output_type": "stream",
     "text": [
      "Epoch 64/100 [Train]: 100%|██████████| 62/62 [00:45<00:00,  1.36it/s, loss=1.0762]\n",
      "Epoch 64/100 [Valid]: 100%|██████████| 14/14 [00:01<00:00, 10.68it/s, loss=0.8212]\n"
     ]
    },
    {
     "metadata": {
      "tags": null
     },
     "name": "stdout",
     "output_type": "stream",
     "text": [
      "Epoch 64/100, Train Loss: 0.8509, Val Loss: 0.8757\n"
     ]
    },
    {
     "metadata": {
      "tags": null
     },
     "name": "stderr",
     "output_type": "stream",
     "text": [
      "Epoch 65/100 [Train]: 100%|██████████| 62/62 [00:45<00:00,  1.36it/s, loss=1.5373]\n",
      "Epoch 65/100 [Valid]: 100%|██████████| 14/14 [00:01<00:00, 10.54it/s, loss=0.8081]\n"
     ]
    },
    {
     "metadata": {
      "tags": null
     },
     "name": "stdout",
     "output_type": "stream",
     "text": [
      "Epoch 65/100, Train Loss: 0.8575, Val Loss: 0.8678\n"
     ]
    },
    {
     "metadata": {
      "tags": null
     },
     "name": "stderr",
     "output_type": "stream",
     "text": [
      "Epoch 66/100 [Train]: 100%|██████████| 62/62 [00:45<00:00,  1.36it/s, loss=1.4610]\n",
      "Epoch 66/100 [Valid]: 100%|██████████| 14/14 [00:01<00:00, 10.61it/s, loss=0.8529]\n"
     ]
    },
    {
     "metadata": {
      "tags": null
     },
     "name": "stdout",
     "output_type": "stream",
     "text": [
      "Epoch 66/100, Train Loss: 0.8440, Val Loss: 0.8680\n"
     ]
    },
    {
     "metadata": {
      "tags": null
     },
     "name": "stderr",
     "output_type": "stream",
     "text": [
      "Epoch 67/100 [Train]: 100%|██████████| 62/62 [00:45<00:00,  1.36it/s, loss=0.7747]\n",
      "Epoch 67/100 [Valid]: 100%|██████████| 14/14 [00:01<00:00, 10.68it/s, loss=0.8729]\n"
     ]
    },
    {
     "metadata": {
      "tags": null
     },
     "name": "stdout",
     "output_type": "stream",
     "text": [
      "Epoch 67/100, Train Loss: 0.8432, Val Loss: 0.8644\n",
      "Epoch 67: model saving (val_loss: 0.8644)\n"
     ]
    },
    {
     "metadata": {
      "tags": null
     },
     "name": "stderr",
     "output_type": "stream",
     "text": [
      "Epoch 68/100 [Train]: 100%|██████████| 62/62 [00:45<00:00,  1.36it/s, loss=0.3578]\n",
      "Epoch 68/100 [Valid]: 100%|██████████| 14/14 [00:01<00:00, 10.68it/s, loss=0.8369]\n"
     ]
    },
    {
     "metadata": {
      "tags": null
     },
     "name": "stdout",
     "output_type": "stream",
     "text": [
      "Epoch 68/100, Train Loss: 0.8390, Val Loss: 0.8650\n"
     ]
    },
    {
     "metadata": {
      "tags": null
     },
     "name": "stderr",
     "output_type": "stream",
     "text": [
      "Epoch 69/100 [Train]: 100%|██████████| 62/62 [00:45<00:00,  1.35it/s, loss=0.8131]\n",
      "Epoch 69/100 [Valid]: 100%|██████████| 14/14 [00:01<00:00, 10.65it/s, loss=0.8516]\n"
     ]
    },
    {
     "metadata": {
      "tags": null
     },
     "name": "stdout",
     "output_type": "stream",
     "text": [
      "Epoch 69/100, Train Loss: 0.8391, Val Loss: 0.8672\n"
     ]
    },
    {
     "metadata": {
      "tags": null
     },
     "name": "stderr",
     "output_type": "stream",
     "text": [
      "Epoch 70/100 [Train]: 100%|██████████| 62/62 [00:45<00:00,  1.36it/s, loss=1.1258]\n",
      "Epoch 70/100 [Valid]: 100%|██████████| 14/14 [00:01<00:00, 10.82it/s, loss=0.8594]\n"
     ]
    },
    {
     "metadata": {
      "tags": null
     },
     "name": "stdout",
     "output_type": "stream",
     "text": [
      "Epoch 70/100, Train Loss: 0.8405, Val Loss: 0.8593\n",
      "Epoch 70: model saving (val_loss: 0.8593)\n"
     ]
    },
    {
     "metadata": {
      "tags": null
     },
     "name": "stderr",
     "output_type": "stream",
     "text": [
      "Epoch 71/100 [Train]: 100%|██████████| 62/62 [00:45<00:00,  1.35it/s, loss=0.5311]\n",
      "Epoch 71/100 [Valid]: 100%|██████████| 14/14 [00:01<00:00, 10.58it/s, loss=0.8260]\n"
     ]
    },
    {
     "metadata": {
      "tags": null
     },
     "name": "stdout",
     "output_type": "stream",
     "text": [
      "Epoch 71/100, Train Loss: 0.8366, Val Loss: 0.8595\n"
     ]
    },
    {
     "metadata": {
      "tags": null
     },
     "name": "stderr",
     "output_type": "stream",
     "text": [
      "Epoch 72/100 [Train]: 100%|██████████| 62/62 [00:45<00:00,  1.36it/s, loss=0.6626]\n",
      "Epoch 72/100 [Valid]: 100%|██████████| 14/14 [00:01<00:00, 10.40it/s, loss=0.8261]\n"
     ]
    },
    {
     "metadata": {
      "tags": null
     },
     "name": "stdout",
     "output_type": "stream",
     "text": [
      "Epoch 72/100, Train Loss: 0.8337, Val Loss: 0.8626\n"
     ]
    },
    {
     "metadata": {
      "tags": null
     },
     "name": "stderr",
     "output_type": "stream",
     "text": [
      "Epoch 73/100 [Train]: 100%|██████████| 62/62 [00:45<00:00,  1.35it/s, loss=0.3317]\n",
      "Epoch 73/100 [Valid]: 100%|██████████| 14/14 [00:01<00:00, 10.49it/s, loss=0.7988]\n"
     ]
    },
    {
     "metadata": {
      "tags": null
     },
     "name": "stdout",
     "output_type": "stream",
     "text": [
      "Epoch 73/100, Train Loss: 0.8345, Val Loss: 0.8625\n"
     ]
    },
    {
     "metadata": {
      "tags": null
     },
     "name": "stderr",
     "output_type": "stream",
     "text": [
      "Epoch 74/100 [Train]: 100%|██████████| 62/62 [00:45<00:00,  1.36it/s, loss=0.4224]\n",
      "Epoch 74/100 [Valid]: 100%|██████████| 14/14 [00:01<00:00, 10.32it/s, loss=0.8285]\n"
     ]
    },
    {
     "metadata": {
      "tags": null
     },
     "name": "stdout",
     "output_type": "stream",
     "text": [
      "Epoch 74/100, Train Loss: 0.8339, Val Loss: 0.8566\n",
      "Epoch 74: model saving (val_loss: 0.8566)\n"
     ]
    },
    {
     "metadata": {
      "tags": null
     },
     "name": "stderr",
     "output_type": "stream",
     "text": [
      "Epoch 75/100 [Train]: 100%|██████████| 62/62 [00:45<00:00,  1.36it/s, loss=0.2693]\n",
      "Epoch 75/100 [Valid]: 100%|██████████| 14/14 [00:01<00:00, 10.44it/s, loss=0.7894]\n"
     ]
    },
    {
     "metadata": {
      "tags": null
     },
     "name": "stdout",
     "output_type": "stream",
     "text": [
      "Epoch 75/100, Train Loss: 0.8327, Val Loss: 0.8608\n"
     ]
    },
    {
     "metadata": {
      "tags": null
     },
     "name": "stderr",
     "output_type": "stream",
     "text": [
      "Epoch 76/100 [Train]: 100%|██████████| 62/62 [00:45<00:00,  1.36it/s, loss=0.3959]\n",
      "Epoch 76/100 [Valid]: 100%|██████████| 14/14 [00:01<00:00, 10.39it/s, loss=0.7682]\n"
     ]
    },
    {
     "metadata": {
      "tags": null
     },
     "name": "stdout",
     "output_type": "stream",
     "text": [
      "Epoch 76/100, Train Loss: 0.8336, Val Loss: 0.8627\n"
     ]
    },
    {
     "metadata": {
      "tags": null
     },
     "name": "stderr",
     "output_type": "stream",
     "text": [
      "Epoch 77/100 [Train]: 100%|██████████| 62/62 [00:45<00:00,  1.36it/s, loss=0.6028]\n",
      "Epoch 77/100 [Valid]: 100%|██████████| 14/14 [00:01<00:00, 10.51it/s, loss=0.8294]\n"
     ]
    },
    {
     "metadata": {
      "tags": null
     },
     "name": "stdout",
     "output_type": "stream",
     "text": [
      "Epoch 77/100, Train Loss: 0.8327, Val Loss: 0.8597\n"
     ]
    },
    {
     "metadata": {
      "tags": null
     },
     "name": "stderr",
     "output_type": "stream",
     "text": [
      "Epoch 78/100 [Train]: 100%|██████████| 62/62 [00:45<00:00,  1.35it/s, loss=1.0085]\n",
      "Epoch 78/100 [Valid]: 100%|██████████| 14/14 [00:01<00:00, 10.47it/s, loss=0.8691]\n"
     ]
    },
    {
     "metadata": {
      "tags": null
     },
     "name": "stdout",
     "output_type": "stream",
     "text": [
      "Epoch 78/100, Train Loss: 0.8320, Val Loss: 0.8546\n",
      "Epoch 78: model saving (val_loss: 0.8546)\n"
     ]
    },
    {
     "metadata": {
      "tags": null
     },
     "name": "stderr",
     "output_type": "stream",
     "text": [
      "Epoch 79/100 [Train]: 100%|██████████| 62/62 [00:45<00:00,  1.36it/s, loss=0.5407]\n",
      "Epoch 79/100 [Valid]: 100%|██████████| 14/14 [00:01<00:00, 10.60it/s, loss=0.8671]\n"
     ]
    },
    {
     "metadata": {
      "tags": null
     },
     "name": "stdout",
     "output_type": "stream",
     "text": [
      "Epoch 79/100, Train Loss: 0.8318, Val Loss: 0.8551\n"
     ]
    },
    {
     "metadata": {
      "tags": null
     },
     "name": "stderr",
     "output_type": "stream",
     "text": [
      "Epoch 80/100 [Train]: 100%|██████████| 62/62 [00:45<00:00,  1.35it/s, loss=0.6361]\n",
      "Epoch 80/100 [Valid]: 100%|██████████| 14/14 [00:01<00:00, 10.71it/s, loss=0.9249]\n"
     ]
    },
    {
     "metadata": {
      "tags": null
     },
     "name": "stdout",
     "output_type": "stream",
     "text": [
      "Epoch 80/100, Train Loss: 0.8304, Val Loss: 0.8547\n"
     ]
    },
    {
     "metadata": {
      "tags": null
     },
     "name": "stderr",
     "output_type": "stream",
     "text": [
      "Epoch 81/100 [Train]: 100%|██████████| 62/62 [00:45<00:00,  1.36it/s, loss=1.2966]\n",
      "Epoch 81/100 [Valid]: 100%|██████████| 14/14 [00:01<00:00, 10.33it/s, loss=0.8681]\n"
     ]
    },
    {
     "metadata": {
      "tags": null
     },
     "name": "stdout",
     "output_type": "stream",
     "text": [
      "Epoch 81/100, Train Loss: 0.8333, Val Loss: 0.8575\n"
     ]
    },
    {
     "metadata": {
      "tags": null
     },
     "name": "stderr",
     "output_type": "stream",
     "text": [
      "Epoch 82/100 [Train]: 100%|██████████| 62/62 [00:45<00:00,  1.36it/s, loss=0.6379]\n",
      "Epoch 82/100 [Valid]: 100%|██████████| 14/14 [00:01<00:00, 10.54it/s, loss=0.8368]\n"
     ]
    },
    {
     "metadata": {
      "tags": null
     },
     "name": "stdout",
     "output_type": "stream",
     "text": [
      "Epoch 82/100, Train Loss: 0.8293, Val Loss: 0.8545\n",
      "Epoch 82: model saving (val_loss: 0.8545)\n"
     ]
    },
    {
     "metadata": {
      "tags": null
     },
     "name": "stderr",
     "output_type": "stream",
     "text": [
      "Epoch 83/100 [Train]: 100%|██████████| 62/62 [00:45<00:00,  1.36it/s, loss=0.7582]\n",
      "Epoch 83/100 [Valid]: 100%|██████████| 14/14 [00:01<00:00, 10.69it/s, loss=0.7940]\n"
     ]
    },
    {
     "metadata": {
      "tags": null
     },
     "name": "stdout",
     "output_type": "stream",
     "text": [
      "Epoch 83/100, Train Loss: 0.8317, Val Loss: 0.8535\n",
      "Epoch 83: model saving (val_loss: 0.8535)\n"
     ]
    },
    {
     "metadata": {
      "tags": null
     },
     "name": "stderr",
     "output_type": "stream",
     "text": [
      "Epoch 84/100 [Train]: 100%|██████████| 62/62 [00:45<00:00,  1.36it/s, loss=1.0419]\n",
      "Epoch 84/100 [Valid]: 100%|██████████| 14/14 [00:01<00:00, 10.58it/s, loss=0.7874]\n"
     ]
    },
    {
     "metadata": {
      "tags": null
     },
     "name": "stdout",
     "output_type": "stream",
     "text": [
      "Epoch 84/100, Train Loss: 0.8285, Val Loss: 0.8536\n"
     ]
    },
    {
     "metadata": {
      "tags": null
     },
     "name": "stderr",
     "output_type": "stream",
     "text": [
      "Epoch 85/100 [Train]: 100%|██████████| 62/62 [00:45<00:00,  1.36it/s, loss=1.0390]\n",
      "Epoch 85/100 [Valid]: 100%|██████████| 14/14 [00:01<00:00, 10.03it/s, loss=0.7994]\n"
     ]
    },
    {
     "metadata": {
      "tags": null
     },
     "name": "stdout",
     "output_type": "stream",
     "text": [
      "Epoch 85/100, Train Loss: 0.8314, Val Loss: 0.8554\n"
     ]
    },
    {
     "name": "stderr",
     "output_type": "stream",
     "text": [
      "Epoch 86/100 [Train]: 100%|██████████| 62/62 [00:45<00:00,  1.35it/s, loss=1.0611]\n",
      "Epoch 86/100 [Valid]: 100%|██████████| 14/14 [00:01<00:00, 10.53it/s, loss=0.8157]\n"
     ]
    },
    {
     "name": "stdout",
     "output_type": "stream",
     "text": [
      "Epoch 86/100, Train Loss: 0.8289, Val Loss: 0.8547\n"
     ]
    },
    {
     "name": "stderr",
     "output_type": "stream",
     "text": [
      "Epoch 87/100 [Train]: 100%|██████████| 62/62 [00:45<00:00,  1.36it/s, loss=0.5539]\n",
      "Epoch 87/100 [Valid]: 100%|██████████| 14/14 [00:01<00:00, 10.55it/s, loss=0.7965]\n"
     ]
    },
    {
     "name": "stdout",
     "output_type": "stream",
     "text": [
      "Epoch 87/100, Train Loss: 0.8283, Val Loss: 0.8522\n",
      "Epoch 87: model saving (val_loss: 0.8522)\n"
     ]
    },
    {
     "name": "stderr",
     "output_type": "stream",
     "text": [
      "Epoch 88/100 [Train]: 100%|██████████| 62/62 [00:45<00:00,  1.35it/s, loss=0.7565]\n",
      "Epoch 88/100 [Valid]: 100%|██████████| 14/14 [00:01<00:00, 10.54it/s, loss=0.8163]\n"
     ]
    },
    {
     "name": "stdout",
     "output_type": "stream",
     "text": [
      "Epoch 88/100, Train Loss: 0.8335, Val Loss: 0.8519\n",
      "Epoch 88: model saving (val_loss: 0.8519)\n"
     ]
    },
    {
     "name": "stderr",
     "output_type": "stream",
     "text": [
      "Epoch 89/100 [Train]: 100%|██████████| 62/62 [00:45<00:00,  1.36it/s, loss=0.5489]\n",
      "Epoch 89/100 [Valid]: 100%|██████████| 14/14 [00:01<00:00, 10.37it/s, loss=0.8209]\n"
     ]
    },
    {
     "name": "stdout",
     "output_type": "stream",
     "text": [
      "Epoch 89/100, Train Loss: 0.8301, Val Loss: 0.8530\n"
     ]
    },
    {
     "name": "stderr",
     "output_type": "stream",
     "text": [
      "Epoch 90/100 [Train]: 100%|██████████| 62/62 [00:45<00:00,  1.36it/s, loss=1.1758]\n",
      "Epoch 90/100 [Valid]: 100%|██████████| 14/14 [00:01<00:00, 10.16it/s, loss=0.8121]\n"
     ]
    },
    {
     "name": "stdout",
     "output_type": "stream",
     "text": [
      "Epoch 90/100, Train Loss: 0.8258, Val Loss: 0.8522\n"
     ]
    },
    {
     "name": "stderr",
     "output_type": "stream",
     "text": [
      "Epoch 91/100 [Train]: 100%|██████████| 62/62 [00:45<00:00,  1.36it/s, loss=0.9391]\n",
      "Epoch 91/100 [Valid]: 100%|██████████| 14/14 [00:01<00:00, 10.10it/s, loss=0.8700]\n"
     ]
    },
    {
     "name": "stdout",
     "output_type": "stream",
     "text": [
      "Epoch 91/100, Train Loss: 0.8288, Val Loss: 0.8558\n"
     ]
    },
    {
     "name": "stderr",
     "output_type": "stream",
     "text": [
      "Epoch 92/100 [Train]: 100%|██████████| 62/62 [00:45<00:00,  1.35it/s, loss=0.6818]\n",
      "Epoch 92/100 [Valid]: 100%|██████████| 14/14 [00:01<00:00, 10.62it/s, loss=0.8585]\n"
     ]
    },
    {
     "name": "stdout",
     "output_type": "stream",
     "text": [
      "Epoch 92/100, Train Loss: 0.8322, Val Loss: 0.8529\n"
     ]
    },
    {
     "name": "stderr",
     "output_type": "stream",
     "text": [
      "Epoch 93/100 [Train]: 100%|██████████| 62/62 [00:45<00:00,  1.35it/s, loss=0.9661]\n",
      "Epoch 93/100 [Valid]: 100%|██████████| 14/14 [00:01<00:00, 11.04it/s, loss=0.8588]\n"
     ]
    },
    {
     "name": "stdout",
     "output_type": "stream",
     "text": [
      "Epoch 93/100, Train Loss: 0.8242, Val Loss: 0.8606\n"
     ]
    },
    {
     "name": "stderr",
     "output_type": "stream",
     "text": [
      "Epoch 94/100 [Train]: 100%|██████████| 62/62 [00:45<00:00,  1.35it/s, loss=1.5329]\n",
      "Epoch 94/100 [Valid]: 100%|██████████| 14/14 [00:01<00:00, 11.16it/s, loss=0.8736]\n"
     ]
    },
    {
     "name": "stdout",
     "output_type": "stream",
     "text": [
      "Epoch 94/100, Train Loss: 0.8419, Val Loss: 0.8574\n"
     ]
    },
    {
     "name": "stderr",
     "output_type": "stream",
     "text": [
      "Epoch 95/100 [Train]: 100%|██████████| 62/62 [00:45<00:00,  1.35it/s, loss=1.4439]\n",
      "Epoch 95/100 [Valid]: 100%|██████████| 14/14 [00:01<00:00, 11.68it/s, loss=0.8648]\n"
     ]
    },
    {
     "name": "stdout",
     "output_type": "stream",
     "text": [
      "Epoch 95/100, Train Loss: 0.8291, Val Loss: 0.8571\n"
     ]
    },
    {
     "name": "stderr",
     "output_type": "stream",
     "text": [
      "Epoch 96/100 [Train]: 100%|██████████| 62/62 [00:45<00:00,  1.35it/s, loss=0.7793]\n",
      "Epoch 96/100 [Valid]: 100%|██████████| 14/14 [00:01<00:00, 11.37it/s, loss=0.8012]\n"
     ]
    },
    {
     "name": "stdout",
     "output_type": "stream",
     "text": [
      "Epoch 96/100, Train Loss: 0.8255, Val Loss: 0.8611\n"
     ]
    },
    {
     "name": "stderr",
     "output_type": "stream",
     "text": [
      "Epoch 97/100 [Train]: 100%|██████████| 62/62 [00:45<00:00,  1.35it/s, loss=0.9327]\n",
      "Epoch 97/100 [Valid]: 100%|██████████| 14/14 [00:01<00:00, 12.51it/s, loss=0.8743]\n"
     ]
    },
    {
     "name": "stdout",
     "output_type": "stream",
     "text": [
      "Epoch 97/100, Train Loss: 0.8275, Val Loss: 0.8547\n"
     ]
    },
    {
     "name": "stderr",
     "output_type": "stream",
     "text": [
      "Epoch 98/100 [Train]: 100%|██████████| 62/62 [00:45<00:00,  1.35it/s, loss=0.7897]\n",
      "Epoch 98/100 [Valid]: 100%|██████████| 14/14 [00:01<00:00, 11.88it/s, loss=0.8086]\n"
     ]
    },
    {
     "name": "stdout",
     "output_type": "stream",
     "text": [
      "Epoch 98/100, Train Loss: 0.8290, Val Loss: 0.8593\n"
     ]
    },
    {
     "name": "stderr",
     "output_type": "stream",
     "text": [
      "Epoch 99/100 [Train]: 100%|██████████| 62/62 [00:45<00:00,  1.35it/s, loss=0.5461]\n",
      "Epoch 99/100 [Valid]: 100%|██████████| 14/14 [00:01<00:00, 12.94it/s, loss=0.8663]\n"
     ]
    },
    {
     "name": "stdout",
     "output_type": "stream",
     "text": [
      "Epoch 99/100, Train Loss: 0.8273, Val Loss: 0.8500\n",
      "Epoch 99: model saving (val_loss: 0.8500)\n"
     ]
    },
    {
     "name": "stderr",
     "output_type": "stream",
     "text": [
      "Epoch 100/100 [Train]: 100%|██████████| 62/62 [00:45<00:00,  1.35it/s, loss=0.6264]\n",
      "Epoch 100/100 [Valid]: 100%|██████████| 14/14 [00:01<00:00, 12.18it/s, loss=0.9051]"
     ]
    },
    {
     "name": "stdout",
     "output_type": "stream",
     "text": [
      "Epoch 100/100, Train Loss: 0.8242, Val Loss: 0.8521\n"
     ]
    },
    {
     "name": "stderr",
     "output_type": "stream",
     "text": [
      "\n"
     ]
    }
   ],
   "source": [
    "train_losses = []\n",
    "val_losses = []\n",
    "\n",
    "num_epochs = 100\n",
    "best_val_loss = float('inf')\n",
    "best_epoch = 0\n",
    "\n",
    "for epoch in range(num_epochs):\n",
    "    model.train()\n",
    "    train_loss = 0.0\n",
    "    train_pbar = tqdm(train_loader, desc=f'Epoch {epoch+1}/{num_epochs} [Train]')\n",
    "\n",
    "    for x, y in train_pbar:\n",
    "        x = x.to(device)\n",
    "        y = y.to(device)\n",
    "\n",
    "        optimizer.zero_grad()\n",
    "        y_pred = model(x)\n",
    "        loss = criterion(y_pred, y)\n",
    "\n",
    "        loss.backward()\n",
    "        optimizer.step()\n",
    "\n",
    "        train_loss += loss.item() * x.size(0)\n",
    "        train_pbar.set_postfix({'loss': f'{loss.item():.4f}'})\n",
    "\n",
    "    train_loss /= len(train_dataset)\n",
    "    train_losses.append(train_loss)\n",
    "\n",
    "    model.eval()\n",
    "    val_loss = 0.0\n",
    "    val_pbar = tqdm(val_loader, desc=f'Epoch {epoch+1}/{num_epochs} [Valid]')\n",
    "\n",
    "    with torch.no_grad():\n",
    "        for x, y in val_pbar:\n",
    "            x = x.to(device)\n",
    "            y = y.to(device)\n",
    "\n",
    "            y_pred = model(x)\n",
    "            loss = criterion(y_pred, y)\n",
    "            val_loss += loss.item() * x.size(0)\n",
    "            val_pbar.set_postfix({'loss': f'{loss.item():.4f}'})\n",
    "\n",
    "    val_loss /= len(val_dataset)\n",
    "    val_losses.append(val_loss)\n",
    "\n",
    "    scheduler.step(val_loss)\n",
    "\n",
    "    print(f'Epoch {epoch+1}/{num_epochs}, Train Loss: {train_loss:.4f}, Val Loss: {val_loss:.4f}')\n",
    "\n",
    "    if val_loss < best_val_loss:\n",
    "        best_val_loss = val_loss\n",
    "        best_epoch = epoch\n",
    "        torch.save(model.state_dict(), 'best_model.pth')\n",
    "        print(f'Epoch {epoch+1}: model saving (val_loss: {val_loss:.4f})')"
   ]
  },
  {
   "cell_type": "code",
   "execution_count": 21,
   "id": "af4937b4",
   "metadata": {
    "colab": {
     "base_uri": "https://localhost:8080/",
     "height": 407
    },
    "id": "af4937b4",
    "outputId": "52c8accc-9c01-40e4-a2a0-fa89a8fdbfdc"
   },
   "outputs": [
    {
     "data": {
      "image/png": "[encoded data removed]",
      "text/plain": [
       "<Figure size 1000x400 with 1 Axes>"
      ]
     },
     "metadata": {},
     "output_type": "display_data"
    }
   ],
   "source": [
    "import matplotlib.pyplot as plt\n",
    "\n",
    "plt.figure(figsize=(10, 4))\n",
    "plt.plot(range(1, num_epochs+1), train_losses, 'b-', label='Training Loss')\n",
    "plt.plot(range(1, num_epochs+1), val_losses, 'r-', label='Validation Loss')\n",
    "plt.axvline(x=best_epoch+1, color='g', linestyle='--', label=f'Best Epoch ({best_epoch+1})')\n",
    "plt.grid(True)\n",
    "plt.xlabel('Epochs')\n",
    "plt.ylabel('Loss')\n",
    "plt.title('Training and Validation Loss Curves')\n",
    "plt.legend()\n",
    "plt.tight_layout()\n",
    "plt.show()"
   ]
  },
  {
   "cell_type": "code",
   "execution_count": 22,
   "id": "gUKYgHkriIvf",
   "metadata": {
    "colab": {
     "base_uri": "https://localhost:8080/",
     "height": 738
    },
    "id": "gUKYgHkriIvf",
    "outputId": "6db28c3b-92c0-47a9-b548-5bffefe6cec0"
   },
   "outputs": [
    {
     "name": "stdout",
     "output_type": "stream",
     "text": [
      "MSE (Mean Squared Error): 202.4820\n",
      "MAE (Mean Absolute Error): 10.8148\n",
      "RMSE (Root Mean Squared Error): 14.2296\n"
     ]
    },
    {
     "data": {
      "image/png": "[encoded data removed]",
      "text/plain": [
       "<Figure size 1500x500 with 2 Axes>"
      ]
     },
     "metadata": {},
     "output_type": "display_data"
    },
    {
     "data": {
      "image/png": "[encoded data removed]",
      "text/plain": [
       "<Figure size 1500x500 with 2 Axes>"
      ]
     },
     "metadata": {},
     "output_type": "display_data"
    }
   ],
   "source": [
    "import torch\n",
    "import numpy as np\n",
    "import matplotlib.pyplot as plt\n",
    "from sklearn.metrics import mean_squared_error, mean_absolute_error\n",
    "\n",
    "def evaluate_model(model, test_loader, device, scaler_y):\n",
    "    model.eval()\n",
    "    y_true_list = []\n",
    "    y_pred_list = []\n",
    "\n",
    "    with torch.no_grad():\n",
    "        for x, y in test_loader:\n",
    "            x = x.to(device)\n",
    "            y = y.to(device)\n",
    "\n",
    "            y_pred = model(x)\n",
    "\n",
    "            y_true_list.append(y.cpu().numpy())\n",
    "            y_pred_list.append(y_pred.cpu().numpy())\n",
    "\n",
    "    y_true = scaler_y.inverse_transform(np.concatenate(y_true_list))\n",
    "    y_pred = scaler_y.inverse_transform(np.concatenate(y_pred_list))\n",
    "\n",
    "    mse = mean_squared_error(y_true, y_pred)\n",
    "    mae = mean_absolute_error(y_true, y_pred)\n",
    "    rmse = np.sqrt(mse)\n",
    "\n",
    "    print(f\"MSE (Mean Squared Error): {mse:.4f}\")\n",
    "    print(f\"MAE (Mean Absolute Error): {mae:.4f}\")\n",
    "    print(f\"RMSE (Root Mean Squared Error): {rmse:.4f}\")\n",
    "\n",
    "    return y_true, y_pred\n",
    "\n",
    "def visualize_predictions(y_true, y_pred, num_samples=10):\n",
    "    plt.figure(figsize=(15, 5))\n",
    "\n",
    "    plt.subplot(1, 2, 1)\n",
    "    plt.scatter(y_true[:num_samples, 0], y_pred[:num_samples, 0], color='blue', alpha=0.7)\n",
    "    plt.plot([y_true[:num_samples, 0].min(), y_true[:num_samples, 0].max()],\n",
    "             [y_true[:num_samples, 0].min(), y_true[:num_samples, 0].max()],\n",
    "             'r--', lw=2)\n",
    "    plt.title('Systolic Blood Pressure Prediction')\n",
    "    plt.xlabel('True Systolic BP')\n",
    "    plt.ylabel('Predicted Systolic BP')\n",
    "\n",
    "    plt.subplot(1, 2, 2)\n",
    "    plt.scatter(y_true[:num_samples, 1], y_pred[:num_samples, 1], color='green', alpha=0.7)\n",
    "    plt.plot([y_true[:num_samples, 1].min(), y_true[:num_samples, 1].max()],\n",
    "             [y_true[:num_samples, 1].min(), y_true[:num_samples, 1].max()],\n",
    "             'r--', lw=2)\n",
    "    plt.title('Diastolic Blood Pressure Prediction')\n",
    "    plt.xlabel('True Diastolic BP')\n",
    "    plt.ylabel('Predicted Diastolic BP')\n",
    "\n",
    "    plt.tight_layout()\n",
    "    plt.show()\n",
    "\n",
    "def visualize_error_distribution(y_true, y_pred):\n",
    "    errors_systolic = y_true[:, 0] - y_pred[:, 0]\n",
    "    errors_diastolic = y_true[:, 1] - y_pred[:, 1]\n",
    "\n",
    "    plt.figure(figsize=(15, 5))\n",
    "\n",
    "    plt.subplot(1, 2, 1)\n",
    "    plt.hist(errors_systolic, bins=30, color='blue', alpha=0.7)\n",
    "    plt.title('Error Distribution - Systolic BP')\n",
    "    plt.xlabel('Prediction Error')\n",
    "    plt.ylabel('Frequency')\n",
    "\n",
    "    plt.subplot(1, 2, 2)\n",
    "    plt.hist(errors_diastolic, bins=30, color='green', alpha=0.7)\n",
    "    plt.title('Error Distribution - Diastolic BP')\n",
    "    plt.xlabel('Prediction Error')\n",
    "    plt.ylabel('Frequency')\n",
    "\n",
    "    plt.tight_layout()\n",
    "    plt.show()\n",
    "\n",
    "y_true, y_pred = evaluate_model(model, test_loader, device, scaler_y)\n",
    "visualize_predictions(y_true, y_pred)\n",
    "visualize_error_distribution(y_true, y_pred)"
   ]
  },
  {
   "cell_type": "code",
   "execution_count": 20,
   "id": "ELtmAyzriZlD",
   "metadata": {
    "id": "ELtmAyzriZlD"
   },
   "outputs": [],
   "source": []
  }
 ],
 "metadata": {
  "accelerator": "GPU",
  "colab": {
   "gpuType": "T4",
   "provenance": []
  },
  "kernelspec": {
   "display_name": "Python 3 (ipykernel)",
   "language": "python",
   "name": "python3"
  },
  "language_info": {
   "codemirror_mode": {
    "name": "ipython",
    "version": 3
   },
   "file_extension": ".py",
   "mimetype": "text/x-python",
   "name": "python",
   "nbconvert_exporter": "python",
   "pygments_lexer": "ipython3",
   "version": "3.11.3"
  },
  "varInspector": {
   "cols": {
    "lenName": 16,
    "lenType": 16,
    "lenVar": 40
   },
   "kernels_config": {
    "python": {
     "delete_cmd_postfix": "",
     "delete_cmd_prefix": "del ",
     "library": "var_list.py",
     "varRefreshCmd": "print(var_dic_list())"
    },
    "r": {
     "delete_cmd_postfix": ") ",
     "delete_cmd_prefix": "rm(",
     "library": "var_list.r",
     "varRefreshCmd": "cat(var_dic_list()) "
    }
   },
   "types_to_exclude": [
    "module",
    "function",
    "builtin_function_or_method",
    "instance",
    "_Feature"
   ],
   "window_display": false
  }
 },
 "nbformat": 4,
 "nbformat_minor": 5
}
